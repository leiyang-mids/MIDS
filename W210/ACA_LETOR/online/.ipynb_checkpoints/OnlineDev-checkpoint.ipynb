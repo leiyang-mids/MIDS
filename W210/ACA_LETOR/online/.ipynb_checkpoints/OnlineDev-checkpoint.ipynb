{
 "cells": [
  {
   "cell_type": "code",
   "execution_count": 268,
   "metadata": {
    "collapsed": true
   },
   "outputs": [],
   "source": [
    "from sklearn.feature_extraction.text import *\n",
    "from sklearn.preprocessing import normalize\n",
    "import numpy as np\n",
    "# from sklearn.metrics.pairwise import pairwise_distances, distance_metrics, cosine_distances\n",
    "\n",
    "from sklearn.preprocessing import OneHotEncoder\n",
    "from pymongo import MongoClient, DESCENDING\n",
    "from zipfile import ZipFile, ZIP_DEFLATED\n",
    "from scipy.sparse import *\n",
    "from scipy import stats\n",
    "from sklearn import svm\n",
    "from sets import Set\n",
    "import numpy as np\n",
    "import json, sys, os, time, re, datetime, itertools, pickle"
   ]
  },
  {
   "cell_type": "code",
   "execution_count": 216,
   "metadata": {
    "collapsed": true
   },
   "outputs": [],
   "source": [
    "test = ['this is a test query for aca w210 project', 'another query for characterization test', 'the third, query']\n",
    "qVectorizer = CountVectorizer()"
   ]
  },
  {
   "cell_type": "code",
   "execution_count": 217,
   "metadata": {
    "collapsed": true
   },
   "outputs": [],
   "source": [
    "t1 = qVectorizer.fit_transform(test)"
   ]
  },
  {
   "cell_type": "code",
   "execution_count": 224,
   "metadata": {
    "collapsed": false
   },
   "outputs": [
    {
     "data": {
      "text/plain": [
       "1"
      ]
     },
     "execution_count": 224,
     "metadata": {},
     "output_type": "execute_result"
    }
   ],
   "source": [
    "t1.getrow(0).getcol(0).data[0]"
   ]
  },
  {
   "cell_type": "code",
   "execution_count": 5,
   "metadata": {
    "collapsed": false
   },
   "outputs": [
    {
     "data": {
      "text/plain": [
       "{u'aca': 0,\n",
       " u'another': 1,\n",
       " u'characterization': 2,\n",
       " u'for': 3,\n",
       " u'is': 4,\n",
       " u'project': 5,\n",
       " u'query': 6,\n",
       " u'test': 7,\n",
       " u'the': 8,\n",
       " u'third': 9,\n",
       " u'this': 10,\n",
       " u'w210': 11}"
      ]
     },
     "execution_count": 5,
     "metadata": {},
     "output_type": "execute_result"
    }
   ],
   "source": [
    "qVectorizer.vocabulary_"
   ]
  },
  {
   "cell_type": "code",
   "execution_count": 57,
   "metadata": {
    "collapsed": false
   },
   "outputs": [],
   "source": [
    "t2=qVectorizer.transform(['chris, froom'])\n",
    "t5=normalize(t2.astype(np.float))"
   ]
  },
  {
   "cell_type": "code",
   "execution_count": 60,
   "metadata": {
    "collapsed": false
   },
   "outputs": [
    {
     "data": {
      "text/plain": [
       "0"
      ]
     },
     "execution_count": 60,
     "metadata": {},
     "output_type": "execute_result"
    }
   ],
   "source": [
    "t2.data.size"
   ]
  },
  {
   "cell_type": "code",
   "execution_count": 63,
   "metadata": {
    "collapsed": false
   },
   "outputs": [
    {
     "data": {
      "text/plain": [
       "array([[1, 0, 0, 1, 1, 1, 1, 1, 0, 0, 1, 1],\n",
       "       [0, 1, 1, 1, 0, 0, 1, 1, 0, 0, 0, 0],\n",
       "       [0, 0, 0, 0, 0, 0, 1, 0, 1, 1, 0, 0]])"
      ]
     },
     "execution_count": 63,
     "metadata": {},
     "output_type": "execute_result"
    }
   ],
   "source": [
    "t1.toarray()"
   ]
  },
  {
   "cell_type": "code",
   "execution_count": 81,
   "metadata": {
    "collapsed": false
   },
   "outputs": [
    {
     "data": {
      "text/plain": [
       "array([ 1, -1, -1,  0,  1,  1,  0,  0,  0,  0,  1,  1])"
      ]
     },
     "execution_count": 81,
     "metadata": {},
     "output_type": "execute_result"
    }
   ],
   "source": [
    "(t1.getrow(0)-t1.getrow(1)).toarray()[0]"
   ]
  },
  {
   "cell_type": "code",
   "execution_count": 82,
   "metadata": {
    "collapsed": false
   },
   "outputs": [
    {
     "data": {
      "text/plain": [
       "array([1, 1, 1, 0, 1, 1, 0, 0, 0, 0, 1, 1])"
      ]
     },
     "execution_count": 82,
     "metadata": {},
     "output_type": "execute_result"
    }
   ],
   "source": [
    "(t1.getrow(0)-t1.getrow(1)).toarray()[0]**2"
   ]
  },
  {
   "cell_type": "code",
   "execution_count": 90,
   "metadata": {
    "collapsed": false
   },
   "outputs": [
    {
     "data": {
      "text/plain": [
       "array([0, 1, 1, 1, 0, 0, 1, 1, 0, 0, 0, 0])"
      ]
     },
     "execution_count": 90,
     "metadata": {},
     "output_type": "execute_result"
    }
   ],
   "source": [
    "t1.getrow(1).toarray()[0].T"
   ]
  },
  {
   "cell_type": "code",
   "execution_count": 103,
   "metadata": {
    "collapsed": false
   },
   "outputs": [],
   "source": [
    "vNorm = Normalizer()"
   ]
  },
  {
   "cell_type": "code",
   "execution_count": 107,
   "metadata": {
    "collapsed": false
   },
   "outputs": [
    {
     "data": {
      "text/plain": [
       "<3x12 sparse matrix of type '<type 'numpy.float64'>'\n",
       "\twith 16 stored elements in Compressed Sparse Row format>"
      ]
     },
     "execution_count": 107,
     "metadata": {},
     "output_type": "execute_result"
    }
   ],
   "source": [
    "vNorm.fit_transform(t1.astype(np.float))"
   ]
  },
  {
   "cell_type": "code",
   "execution_count": 142,
   "metadata": {
    "collapsed": false
   },
   "outputs": [],
   "source": [
    "t3=normalize(t1.astype(np.float))"
   ]
  },
  {
   "cell_type": "code",
   "execution_count": 111,
   "metadata": {
    "collapsed": false
   },
   "outputs": [
    {
     "data": {
      "text/plain": [
       "array([[ 0.35355339,  0.        ,  0.        ,  0.35355339,  0.35355339,\n",
       "         0.35355339,  0.35355339,  0.35355339,  0.        ,  0.        ,\n",
       "         0.35355339,  0.35355339],\n",
       "       [ 0.        ,  0.4472136 ,  0.4472136 ,  0.4472136 ,  0.        ,\n",
       "         0.        ,  0.4472136 ,  0.4472136 ,  0.        ,  0.        ,\n",
       "         0.        ,  0.        ],\n",
       "       [ 0.        ,  0.        ,  0.        ,  0.        ,  0.        ,\n",
       "         0.        ,  0.57735027,  0.        ,  0.57735027,  0.57735027,\n",
       "         0.        ,  0.        ]])"
      ]
     },
     "execution_count": 111,
     "metadata": {},
     "output_type": "execute_result"
    }
   ],
   "source": [
    "t3.toarray"
   ]
  },
  {
   "cell_type": "code",
   "execution_count": 120,
   "metadata": {
    "collapsed": false
   },
   "outputs": [
    {
     "data": {
      "text/plain": [
       "0.47434164902525683"
      ]
     },
     "execution_count": 120,
     "metadata": {},
     "output_type": "execute_result"
    }
   ],
   "source": [
    "t3.getrow(0).dot(t3.getrow(1).T)[0,0]"
   ]
  },
  {
   "cell_type": "code",
   "execution_count": 143,
   "metadata": {
    "collapsed": false
   },
   "outputs": [
    {
     "data": {
      "text/plain": [
       "array([[ 1.        ,  0.47434165,  0.20412415],\n",
       "       [ 0.47434165,  1.        ,  0.25819889],\n",
       "       [ 0.20412415,  0.25819889,  1.        ]])"
      ]
     },
     "execution_count": 143,
     "metadata": {},
     "output_type": "execute_result"
    }
   ],
   "source": [
    "t3.dot(t3.T).toarray()"
   ]
  },
  {
   "cell_type": "code",
   "execution_count": 151,
   "metadata": {
    "collapsed": false
   },
   "outputs": [
    {
     "data": {
      "text/plain": [
       "array([[8, 3, 1],\n",
       "       [3, 5, 1],\n",
       "       [1, 1, 3]])"
      ]
     },
     "execution_count": 151,
     "metadata": {},
     "output_type": "execute_result"
    }
   ],
   "source": [
    "t1.dot(t1.T).toarray() #data"
   ]
  },
  {
   "cell_type": "code",
   "execution_count": 152,
   "metadata": {
    "collapsed": false
   },
   "outputs": [
    {
     "data": {
      "text/plain": [
       "array([1, 3, 8, 1, 5, 3, 3, 1, 1])"
      ]
     },
     "execution_count": 152,
     "metadata": {},
     "output_type": "execute_result"
    }
   ],
   "source": [
    "t1.dot(t1.T).data"
   ]
  },
  {
   "cell_type": "code",
   "execution_count": 150,
   "metadata": {
    "collapsed": false
   },
   "outputs": [
    {
     "data": {
      "text/plain": [
       "array([ 0.20412415,  0.47434165,  1.        ])"
      ]
     },
     "execution_count": 150,
     "metadata": {},
     "output_type": "execute_result"
    }
   ],
   "source": [
    "t3.getrow(0).dot(t3.T).data"
   ]
  },
  {
   "cell_type": "code",
   "execution_count": 154,
   "metadata": {
    "collapsed": false
   },
   "outputs": [
    {
     "data": {
      "text/plain": [
       "array([[ 0.        ,  2.64575131,  3.        ],\n",
       "       [ 2.64575131,  0.        ,  2.44948974],\n",
       "       [ 3.        ,  2.44948974,  0.        ]])"
      ]
     },
     "execution_count": 154,
     "metadata": {},
     "output_type": "execute_result"
    }
   ],
   "source": [
    "pairwise_distances(t1)"
   ]
  },
  {
   "cell_type": "code",
   "execution_count": 158,
   "metadata": {
    "collapsed": false
   },
   "outputs": [
    {
     "data": {
      "text/plain": [
       "array([[ -2.22044605e-16,   5.25658351e-01,   7.95875855e-01],\n",
       "       [  5.25658351e-01,  -2.22044605e-16,   7.41801110e-01],\n",
       "       [  7.95875855e-01,   7.41801110e-01,  -2.22044605e-16]])"
      ]
     },
     "execution_count": 158,
     "metadata": {},
     "output_type": "execute_result"
    }
   ],
   "source": [
    "cosine_distances(t3)"
   ]
  },
  {
   "cell_type": "code",
   "execution_count": 84,
   "metadata": {
    "collapsed": true
   },
   "outputs": [],
   "source": [
    "sample_diseases = ['Alzheimer', 'Glaucoma', 'Hypertension', 'diabetes', 'Obesophobia']"
   ]
  },
  {
   "cell_type": "code",
   "execution_count": 87,
   "metadata": {
    "collapsed": false
   },
   "outputs": [
    {
     "data": {
      "text/plain": [
       "['Glaucoma',\n",
       " 'diabetes Obesophobia',\n",
       " 'Obesophobia diabetes Alzheimer',\n",
       " 'Glaucoma diabetes Alzheimer Hypertension',\n",
       " 'Glaucoma Alzheimer diabetes Obesophobia Hypertension']"
      ]
     },
     "execution_count": 87,
     "metadata": {},
     "output_type": "execute_result"
    }
   ],
   "source": [
    "queries = []\n",
    "for i in range(len(sample_diseases)):\n",
    "    ind = np.random.permutation(len(sample_diseases))    \n",
    "    queries.append(' '.join([sample_diseases[ind[j]] for j in range(i+1)]))\n",
    "\n",
    "queries"
   ]
  },
  {
   "cell_type": "code",
   "execution_count": 158,
   "metadata": {
    "collapsed": false
   },
   "outputs": [],
   "source": [
    "n_plan = 10\n",
    "n_query = len(queries)\n",
    "plans = {'plan'+str(i):np.random.rand(n_query) for i in range(n_plan)}"
   ]
  },
  {
   "cell_type": "code",
   "execution_count": 159,
   "metadata": {
    "collapsed": false
   },
   "outputs": [
    {
     "data": {
      "text/plain": [
       "{'plan0': array([ 0.93811278,  0.58271162,  0.95394552,  0.80454036,  0.11018708]),\n",
       " 'plan1': array([ 0.88919069,  0.16683996,  0.78930152,  0.00480106,  0.91606525]),\n",
       " 'plan2': array([ 0.36940453,  0.24450371,  0.16581709,  0.4306663 ,  0.08946527]),\n",
       " 'plan3': array([ 0.216611  ,  0.78077445,  0.00587427,  0.49085104,  0.60828484]),\n",
       " 'plan4': array([ 0.24474484,  0.94817901,  0.57678063,  0.49719357,  0.19672252]),\n",
       " 'plan5': array([ 0.5207491 ,  0.22891773,  0.87431569,  0.45162895,  0.36615036]),\n",
       " 'plan6': array([ 0.34839321,  0.12876407,  0.24339172,  0.33677754,  0.17774903]),\n",
       " 'plan7': array([ 0.09833196,  0.14241926,  0.4645087 ,  0.88936566,  0.03179588]),\n",
       " 'plan8': array([ 0.01307044,  0.97979089,  0.56878078,  0.09273202,  0.52906352]),\n",
       " 'plan9': array([ 0.07127443,  0.2516136 ,  0.81273463,  0.76027092,  0.10753063])}"
      ]
     },
     "execution_count": 159,
     "metadata": {},
     "output_type": "execute_result"
    }
   ],
   "source": [
    "plans"
   ]
  },
  {
   "cell_type": "code",
   "execution_count": 278,
   "metadata": {
    "collapsed": false
   },
   "outputs": [],
   "source": [
    "%reload_ext autoreload\n",
    "%autoreload 2\n",
    "from letor_online import *"
   ]
  },
  {
   "cell_type": "code",
   "execution_count": 263,
   "metadata": {
    "collapsed": true
   },
   "outputs": [],
   "source": [
    "letor = letor_online(queries, plans, 0.5)"
   ]
  },
  {
   "cell_type": "code",
   "execution_count": 245,
   "metadata": {
    "collapsed": false
   },
   "outputs": [
    {
     "data": {
      "text/plain": [
       "{'plan0': 0.87132656774931716,\n",
       " 'plan1': 0.44699587474961461,\n",
       " 'plan2': 0.40003541305357987,\n",
       " 'plan3': 0.35373101734116608,\n",
       " 'plan4': 0.37096920602008571,\n",
       " 'plan5': 0.48618902213141824,\n",
       " 'plan6': 0.3425853738102273,\n",
       " 'plan7': 0.49384881023406274,\n",
       " 'plan8': 0.052901234049672285,\n",
       " 'plan9': 0.41577267274640556}"
      ]
     },
     "execution_count": 245,
     "metadata": {},
     "output_type": "execute_result"
    }
   ],
   "source": [
    "{p:(r[0]+r[3])/2 for p,r in plans.items()}\n"
   ]
  },
  {
   "cell_type": "code",
   "execution_count": 164,
   "metadata": {
    "collapsed": false
   },
   "outputs": [
    {
     "data": {
      "text/plain": [
       "['Glaucoma',\n",
       " 'diabetes Obesophobia',\n",
       " 'Obesophobia diabetes Alzheimer',\n",
       " 'Glaucoma diabetes Alzheimer Hypertension',\n",
       " 'Glaucoma Alzheimer diabetes Obesophobia Hypertension']"
      ]
     },
     "execution_count": 164,
     "metadata": {},
     "output_type": "execute_result"
    }
   ],
   "source": [
    "queries"
   ]
  },
  {
   "cell_type": "code",
   "execution_count": 264,
   "metadata": {
    "collapsed": false
   },
   "outputs": [
    {
     "name": "stdout",
     "output_type": "stream",
     "text": [
      "return 4 closest match query with index: [0, 2, 3, 4]\n"
     ]
    },
    {
     "data": {
      "text/plain": [
       "{'plan0': 0.66543124905590512,\n",
       " 'plan1': 0.67486627996924053,\n",
       " 'plan2': 0.24721658829970228,\n",
       " 'plan3': 0.34035334495071257,\n",
       " 'plan4': 0.37183081892923597,\n",
       " 'plan5': 0.55004567625678602,\n",
       " 'plan6': 0.26792686666955995,\n",
       " 'plan7': 0.34844434682697129,\n",
       " 'plan8': 0.32746338077379988,\n",
       " 'plan9': 0.42574124363813126}"
      ]
     },
     "execution_count": 264,
     "metadata": {},
     "output_type": "execute_result"
    }
   ],
   "source": [
    "letor.get_rank('Alzheimer Alzheimer Glaucoma  Glaucoma Obesophobia ')"
   ]
  },
  {
   "cell_type": "code",
   "execution_count": 267,
   "metadata": {
    "collapsed": false
   },
   "outputs": [
    {
     "data": {
      "text/plain": [
       "['Glaucoma',\n",
       " 'diabetes Obesophobia',\n",
       " 'Obesophobia diabetes Alzheimer',\n",
       " 'Glaucoma diabetes Alzheimer Hypertension',\n",
       " 'Glaucoma Alzheimer diabetes Obesophobia Hypertension']"
      ]
     },
     "execution_count": 267,
     "metadata": {},
     "output_type": "execute_result"
    }
   ],
   "source": [
    "letor.learnt_query"
   ]
  },
  {
   "cell_type": "code",
   "execution_count": 269,
   "metadata": {
    "collapsed": false
   },
   "outputs": [
    {
     "ename": "NameError",
     "evalue": "name 'logTime' is not defined",
     "output_type": "error",
     "traceback": [
      "\u001b[0;31m---------------------------------------------------------------------------\u001b[0m",
      "\u001b[0;31mNameError\u001b[0m                                 Traceback (most recent call last)",
      "\u001b[0;32m<ipython-input-269-2601a00695f0>\u001b[0m in \u001b[0;36m<module>\u001b[0;34m()\u001b[0m\n\u001b[1;32m     15\u001b[0m \u001b[0;34m\u001b[0m\u001b[0m\n\u001b[1;32m     16\u001b[0m print '%s: using %s Mongo, total drug: %d, total plan: %d, total provider: %d' %(\n\u001b[0;32m---> 17\u001b[0;31m     logTime(), 'local' if local else 'aws', len(all_drug), len(all_plan), prov_col.count())\n\u001b[0m\u001b[1;32m     18\u001b[0m \u001b[0;31m# client.formularies.scollection_names()\u001b[0m\u001b[0;34m\u001b[0m\u001b[0;34m\u001b[0m\u001b[0m\n\u001b[1;32m     19\u001b[0m \u001b[0;31m# client.providers.collection_names()\u001b[0m\u001b[0;34m\u001b[0m\u001b[0;34m\u001b[0m\u001b[0m\n",
      "\u001b[0;31mNameError\u001b[0m: name 'logTime' is not defined"
     ]
    }
   ],
   "source": [
    "local = False\n",
    "if local:\n",
    "    client = MongoClient('fc8iasm01', 27017)\n",
    "    plan_col = client.aca.plan\n",
    "    drug_col = client.aca.drug\n",
    "else:\n",
    "    client = MongoClient('ec2-54-153-83-172.us-west-1.compute.amazonaws.com', 27017)\n",
    "    plan_col = client.plans.plans\n",
    "    drug_col = client.formularies.drugs\n",
    "    prov_col = client.providers.providers\n",
    "    faci_col = client.providers.facilities\n",
    "\n",
    "all_plan = drug_col.distinct('plans.plan_id')\n",
    "all_drug = drug_col.distinct('rxnorm_id')\n",
    "\n",
    "print '%s: using %s Mongo, total drug: %d, total plan: %d, total provider: %d' %(\n",
    "    logTime(), 'local' if local else 'aws', len(all_drug), len(all_plan), prov_col.count())\n",
    "# client.formularies.scollection_names()\n",
    "# client.providers.collection_names()"
   ]
  },
  {
   "cell_type": "code",
   "execution_count": 270,
   "metadata": {
    "collapsed": false
   },
   "outputs": [
    {
     "name": "stdout",
     "output_type": "stream",
     "text": [
      "[u'AK' u'AL' u'AR' u'AZ' u'CO' u'DE' u'FL' u'GA' u'HI' u'IA' u'IL' u'IN'\n",
      " u'KS' u'KY' u'LA' u'MA' u'ME' u'MI' u'MN' u'MO' u'MS' u'MT' u'NC' u'ND'\n",
      " u'NE' u'NH' u'NJ' u'NM' u'NV' u'OH' u'OK' u'OR' u'PA' u'SC' u'SD' u'TN'\n",
      " u'TX' u'UT' u'VA' u'WA' u'WI' u'WV' u'WY']\n"
     ]
    }
   ],
   "source": [
    "# print '%s: plan document: %d' %(logTime(), plan_col.count())\n",
    "# print '%s: drug document: %d' %(logTime(), drug_col.count())\n",
    "# print '%s: provider document: %d' %(logTime(), prov_col.count())\n",
    "# print '%s: facility document: %d' %(logTime(), faci_col.count())\n",
    "# print '%s: unique plan_id: %d' %(logTime(), len(all_plan))\n",
    "# print '%s: unique rxnorm_id: %d' %(logTime(), len(all_drug))\n",
    "\n",
    "# # multi_plan = [1 for p in plan_col.aggregate([{\"$group\": {\"_id\":\"$plan_id\", \"count\":{\"$sum\":1}}}]) if p['count']>1]\n",
    "# # print '%s: plans with multiple documents: %d' %(logTime(), sum(multi_plan))\n",
    "\n",
    "# # multi_drug = [1 for p in drug_col.aggregate([{\"$group\": {\"_id\":\"$rxnorm_id\", \"count\":{\"$sum\":1}}}]) if p['count']>1]\n",
    "# # print '%s: drugs with multiple documents: %d' %(logTime(), sum(multi_drug))\n",
    "\n",
    "state_id = np.unique([i[5:7] for i in all_plan])\n",
    "# print '%s: states in the plan: %s' %(logTime(), ', '.join(state_id))\n",
    "print state_id"
   ]
  },
  {
   "cell_type": "code",
   "execution_count": 276,
   "metadata": {
    "collapsed": false
   },
   "outputs": [],
   "source": [
    "state = 'OR'\n",
    "ids = [p for p in all_plan if state in p]\n",
    "plan_rank = {p:np.random.rand(n_query) for p in ids}\n",
    "saveName = 'runtime_data_%s.pickle' %(state)\n",
    "with open(saveName, 'w') as f:\n",
    "    pickle.dump([plan_rank, queries], f)"
   ]
  },
  {
   "cell_type": "code",
   "execution_count": null,
   "metadata": {
    "collapsed": false,
    "scrolled": true
   },
   "outputs": [],
   "source": [
    "\n"
   ]
  },
  {
   "cell_type": "code",
   "execution_count": 277,
   "metadata": {
    "collapsed": true
   },
   "outputs": [],
   "source": [
    "savedData = 'runtime_data_OR.pickle'\n",
    "with open(savedData) as f: \n",
    "    plan_ranks, queries = pickle.load(f)\n",
    "    \n",
    "letor = letor_online(queries, plan_ranks)\n",
    "letor.get_rank('glaucoma')"
   ]
  },
  {
   "cell_type": "code",
   "execution_count": 280,
   "metadata": {
    "collapsed": false
   },
   "outputs": [
    {
     "name": "stdout",
     "output_type": "stream",
     "text": [
      "return 1 closest match query with index: [0]\n"
     ]
    },
    {
     "data": {
      "text/plain": [
       "{u'10091OR0360004': 0.27269680380577255,\n",
       " u'10091OR0360005': 0.53221866323457001,\n",
       " u'10091OR0360006': 0.27196859797037365,\n",
       " u'10091OR0360007': 0.0185071392711601,\n",
       " u'10091OR0360008': 0.37363693686144306,\n",
       " u'10091OR0360009': 0.39362838868829575,\n",
       " u'10091OR0360010': 0.8792201056147454,\n",
       " u'10091OR0360011': 0.77201212915975681,\n",
       " u'10091OR0360012': 0.95222971904859299,\n",
       " u'10091OR0370002': 0.23496719086139939,\n",
       " u'10091OR0370003': 0.79860131365684106,\n",
       " u'10091OR0370004': 0.52763101461465023,\n",
       " u'10091OR0380003': 0.88779859014682549,\n",
       " u'10091OR0380004': 0.062592313384498444,\n",
       " u'10091OR0380005': 0.19530577889816536,\n",
       " u'10091OR0380006': 0.96924289387695572,\n",
       " u'10091OR0380007': 0.087657052111195344,\n",
       " u'10091OR0380008': 0.26730044834286426,\n",
       " u'10091OR0380009': 0.5806000219621843,\n",
       " u'10091OR0380010': 0.29769644663642569,\n",
       " u'10091OR0380011': 0.9002721933376443,\n",
       " u'10091OR0380012': 0.381221744093585,\n",
       " u'10091OR0380013': 0.35516418332022259,\n",
       " u'10091OR0380014': 0.63367146082659032,\n",
       " u'10091OR0390003': 0.79401452305612596,\n",
       " u'10091OR0390004': 0.34837643290088249,\n",
       " u'10091OR0390005': 0.41410728926156326,\n",
       " u'10091OR0390007': 0.75760671037788596,\n",
       " u'10091OR0390008': 0.22628845074018877,\n",
       " u'10091OR0390009': 0.63138228098458371,\n",
       " u'10091OR0390011': 0.069216224587009822,\n",
       " u'10091OR0390012': 0.28914084146486874,\n",
       " u'10091OR0390014': 0.74391122535943011,\n",
       " u'10091OR0390015': 0.16494573027664261,\n",
       " u'10091OR0410001': 0.16275025084359185,\n",
       " u'10091OR0410002': 0.91085639837336385,\n",
       " u'10091OR0410006': 0.16797212868063194,\n",
       " u'10091OR0410007': 0.94641213737891061,\n",
       " u'10091OR0410008': 0.22343502925432679,\n",
       " u'10091OR0410009': 0.71355439127831111,\n",
       " u'10091OR0410010': 0.8650022887719242,\n",
       " u'10091OR0410011': 0.015381100951311177,\n",
       " u'10091OR0410012': 0.62384333427785976,\n",
       " u'10091OR0420001': 0.86149328158136895,\n",
       " u'10091OR0420002': 0.98964082852268631,\n",
       " u'10091OR0420003': 0.87784228357977578,\n",
       " u'10091OR0420006': 0.021618193107733719,\n",
       " u'10091OR0420007': 0.34662630833644803,\n",
       " u'10091OR0420008': 0.12683778500834508,\n",
       " u'10091OR0420009': 0.31839924988472135,\n",
       " u'10091OR0420010': 0.6730693885529303,\n",
       " u'10091OR0420011': 0.32423568689243998,\n",
       " u'10091OR0420012': 0.1097804442059982,\n",
       " u'10091OR0420013': 0.6763742349103562,\n",
       " u'10091OR0420014': 0.36968492081393289,\n",
       " u'10091OR0440002': 0.8097598624986454,\n",
       " u'10091OR0440003': 0.63311748922743361,\n",
       " u'10091OR0440005': 0.47232545042478391,\n",
       " u'10091OR0440012': 0.88449824222583595,\n",
       " u'10091OR0440014': 0.36363286918434701,\n",
       " u'10091OR0440020': 0.43658965264904326,\n",
       " u'10091OR0440021': 0.093346416338729865,\n",
       " u'10091OR0440022': 0.33090963101084148,\n",
       " u'10091OR0440024': 0.62709988798550353,\n",
       " u'10091OR0440025': 0.76639081407361875,\n",
       " u'10091OR0440026': 0.97050768552784239,\n",
       " u'10091OR0440027': 0.56555466197456983,\n",
       " u'10091OR0470002': 0.91578470100690668,\n",
       " u'10091OR0480001': 0.2281811162284807,\n",
       " u'10091OR0490001': 0.0010346430109995364,\n",
       " u'10091OR0500001': 0.018242133692691231,\n",
       " u'10091OR0500002': 0.79833670569302062,\n",
       " u'10091OR0500003': 0.96451166797937293,\n",
       " u'10091OR0510005': 0.55128991553312723,\n",
       " u'10091OR0510006': 0.40518872500600844,\n",
       " u'10091OR0510007': 0.38633519825650964,\n",
       " u'10091OR0510008': 0.14957717269469017,\n",
       " u'10091OR0520005': 0.36491452291366722,\n",
       " u'10091OR0520006': 0.81053280243401482,\n",
       " u'10091OR0520007': 0.699607727551536,\n",
       " u'10091OR0520008': 0.12590073249366374,\n",
       " u'10091OR0520009': 0.028922036922218841,\n",
       " u'10091OR0540001': 0.49998327335959381,\n",
       " u'10091OR0540002': 0.54269262449741773,\n",
       " u'10091OR0590001': 0.67670846401113482,\n",
       " u'10091OR0590002': 0.3521331889555892,\n",
       " u'10091OR0590003': 0.83308272978574105,\n",
       " u'10091OR0590004': 0.46444534630443091,\n",
       " u'30969OR0010001': 0.35902770091027147,\n",
       " u'30969OR0020001': 0.39883843864230062,\n",
       " u'30969OR0030001': 0.82869772179564272,\n",
       " u'30969OR0040001': 0.72852520447855462,\n",
       " u'30969OR0050001': 0.18172183221971849,\n",
       " u'30969OR0060001': 0.61320115398156616,\n",
       " u'30969OR0070001': 0.47041900521099711,\n",
       " u'30969OR0080001': 0.64708829365090714,\n",
       " u'30969OR0090001': 0.28839347442621122,\n",
       " u'30969OR0100001': 0.97356532998155354,\n",
       " u'30969OR0110001': 0.62493413934110831,\n",
       " u'30969OR0120001': 0.82754189909106102,\n",
       " u'30969OR0130001': 0.29328919350989413,\n",
       " u'30969OR0140001': 0.12326781886315707,\n",
       " u'30969OR0150001': 0.96990570106898577,\n",
       " u'30969OR0160001': 0.32459471806398255,\n",
       " u'30969OR0170001': 0.39694508987198229,\n",
       " u'30969OR0180001': 0.81009555535394062,\n",
       " u'30969OR0190001': 0.77718216310511035,\n",
       " u'30969OR0200001': 0.58067266919551808,\n",
       " u'30969OR0210001': 0.94819357801750581,\n",
       " u'30969OR0220001': 0.72675987457511748,\n",
       " u'39424OR1240001': 0.43333128071683602,\n",
       " u'39424OR1240002': 0.25031416621989955,\n",
       " u'39424OR1260001': 0.35926373455318716,\n",
       " u'39424OR1260002': 0.85808213691484769,\n",
       " u'39424OR1310001': 0.63578182485749701,\n",
       " u'39424OR1320001': 0.35580357559110609,\n",
       " u'39424OR1460001': 0.85556905535367278,\n",
       " u'39424OR1460002': 0.56137040133220806,\n",
       " u'39424OR1460003': 0.81449766988282768,\n",
       " u'39424OR1460004': 0.16230810782620186,\n",
       " u'39424OR1470001': 0.68740917432415272,\n",
       " u'39424OR1480001': 0.71685256484941551,\n",
       " u'39424OR1480002': 0.51951466249464517,\n",
       " u'39424OR1480003': 0.1665315130773225,\n",
       " u'39424OR1490001': 0.80844387743677293,\n",
       " u'39424OR1500001': 0.12230181127592488,\n",
       " u'56707OR0850005': 0.33326766200465407,\n",
       " u'56707OR0850006': 0.85243307504501764,\n",
       " u'56707OR0850008': 0.70927540234336639,\n",
       " u'56707OR0870002': 0.44280350155404402,\n",
       " u'56707OR0880002': 0.10984743345786441,\n",
       " u'56707OR0900008': 0.052878139347110942,\n",
       " u'56707OR0900009': 0.16624673703140713,\n",
       " u'56707OR0900011': 0.91030848247620788,\n",
       " u'56707OR0910008': 0.068431048504978831,\n",
       " u'56707OR0910009': 0.30300200241616471,\n",
       " u'56707OR0910011': 0.40363920235987161,\n",
       " u'56707OR0990002': 0.16793680583949144,\n",
       " u'56707OR1000002': 0.38038236508019552,\n",
       " u'63474OR0010001': 0.55295211236955966,\n",
       " u'63474OR0010002': 0.34372909615413394,\n",
       " u'63474OR0030003': 0.2650917264628736,\n",
       " u'63474OR0130001': 0.035569382402110716,\n",
       " u'63474OR0140001': 0.2300967993374069,\n",
       " u'63474OR0160001': 0.75120674508762242,\n",
       " u'63474OR0310001': 0.6254844161820815,\n",
       " u'63474OR0320001': 0.48375469515323433,\n",
       " u'63474OR0330001': 0.98201983898385203,\n",
       " u'63474OR0480001': 0.02956112370346764,\n",
       " u'63474OR0490001': 0.32780594494057314,\n",
       " u'63474OR0500001': 0.28839674505509827,\n",
       " u'63474OR0510001': 0.097716358943514492,\n",
       " u'63474OR0520001': 0.95322996053157194,\n",
       " u'63474OR0530001': 0.81983111817411125,\n",
       " u'63474OR0540001': 0.13274719255319289,\n",
       " u'63474OR0550001': 0.96645717204625681,\n",
       " u'71287OR0420001': 0.37503586327264427,\n",
       " u'71287OR0420002': 0.77803510108124163,\n",
       " u'71287OR0420003': 0.59468449732345019,\n",
       " u'71287OR0420004': 0.9461699446503502,\n",
       " u'71287OR0420005': 0.57278386020490624,\n",
       " u'71287OR0420010': 0.16271078917063242,\n",
       " u'71287OR0420011': 0.93631245196062884,\n",
       " u'71287OR0420012': 0.20652424342358422,\n",
       " u'71287OR0420014': 0.45876560272192557,\n",
       " u'71287OR0420015': 0.21584783707877087,\n",
       " u'71287OR0430001': 0.31332297981372659,\n",
       " u'71287OR0430003': 0.80568407078108828,\n",
       " u'71287OR0430005': 0.15770355784632895,\n",
       " u'71287OR0430007': 0.55833347706603564,\n",
       " u'71287OR0430009': 0.0025434937395979462,\n",
       " u'71287OR0430011': 0.39531533509357186,\n",
       " u'71287OR0430012': 0.79352547008680396,\n",
       " u'71287OR0430014': 0.22540467320921109,\n",
       " u'71287OR0430016': 0.80050207994993117,\n",
       " u'71287OR0430018': 0.34822800552599487,\n",
       " u'71287OR0430020': 0.21869995271315523,\n",
       " u'71287OR0430022': 0.44521633214231171,\n",
       " u'71287OR0570003': 0.8779875324805545,\n",
       " u'71287OR0570007': 0.61441057545048372,\n",
       " u'71287OR0570013': 0.22982360351850661,\n",
       " u'85804OR0530001': 0.31474076826199593,\n",
       " u'85804OR0530002': 0.10692301257153136,\n",
       " u'85804OR0530003': 0.91083783350319658,\n",
       " u'85804OR0540001': 0.81081064232552302,\n",
       " u'85804OR0540002': 0.29811185195966072,\n",
       " u'85804OR0550001': 0.28312352682224284,\n",
       " u'85804OR0560001': 0.96147679886346482,\n",
       " u'85804OR0570001': 0.76962211896878796,\n",
       " u'85804OR0570002': 0.87400177690196112}"
      ]
     },
     "execution_count": 280,
     "metadata": {},
     "output_type": "execute_result"
    }
   ],
   "source": []
  }
 ],
 "metadata": {
  "kernelspec": {
   "display_name": "Python 2",
   "language": "python",
   "name": "python2"
  },
  "language_info": {
   "codemirror_mode": {
    "name": "ipython",
    "version": 2
   },
   "file_extension": ".py",
   "mimetype": "text/x-python",
   "name": "python",
   "nbconvert_exporter": "python",
   "pygments_lexer": "ipython2",
   "version": "2.7.9"
  }
 },
 "nbformat": 4,
 "nbformat_minor": 0
}
