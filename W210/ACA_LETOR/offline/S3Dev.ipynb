{
 "cells": [
  {
   "cell_type": "code",
   "execution_count": 57,
   "metadata": {
    "collapsed": false
   },
   "outputs": [],
   "source": [
    "import boto3\n",
    "# import re\n",
    "# s3_hashes = []\n",
    "s3 = boto3.resource('s3', 'us-east-1')\n",
    "bucket = s3.Bucket('w210.data')\n"
   ]
  },
  {
   "cell_type": "code",
   "execution_count": 53,
   "metadata": {
    "collapsed": false
   },
   "outputs": [
    {
     "name": "stdout",
     "output_type": "stream",
     "text": [
      "feature/UT_74_19243.pickle\n"
     ]
    }
   ],
   "source": [
    "for o in bucket.objects.all():\n",
    "    if o.key.startswith('feature/UT'):\n",
    "        print o.key\n",
    "        break\n",
    "else:\n",
    "    print 'no found'"
   ]
  },
  {
   "cell_type": "code",
   "execution_count": 58,
   "metadata": {
    "collapsed": true
   },
   "outputs": [],
   "source": [
    "bucket.upload_file('UT_74_19243.pickle', 'feature/UT_74_19243.pickle')"
   ]
  },
  {
   "cell_type": "code",
   "execution_count": 48,
   "metadata": {
    "collapsed": false
   },
   "outputs": [],
   "source": [
    "bucket.download_file('online/runtime_data_OR.pickle', 'down_test2')"
   ]
  },
  {
   "cell_type": "code",
   "execution_count": 55,
   "metadata": {
    "collapsed": false
   },
   "outputs": [],
   "source": [
    "import pickle\n",
    "with open('UT_74_19243.pickle') as f:\n",
    "    feature, plans = pickle.load(f)"
   ]
  },
  {
   "cell_type": "code",
   "execution_count": 56,
   "metadata": {
    "collapsed": false
   },
   "outputs": [
    {
     "name": "stdout",
     "output_type": "stream",
     "text": [
      "Once deleted, variables cannot be recovered. Proceed (y/[n])? y\n"
     ]
    }
   ],
   "source": [
    "%reset"
   ]
  },
  {
   "cell_type": "code",
   "execution_count": 60,
   "metadata": {
    "collapsed": false
   },
   "outputs": [],
   "source": [
    "import pickle\n",
    "with open('training/UT_2.pickle') as f:\n",
    "    plans, rank = pickle.load(f)"
   ]
  },
  {
   "cell_type": "code",
   "execution_count": 64,
   "metadata": {
    "collapsed": false
   },
   "outputs": [
    {
     "data": {
      "text/plain": [
       "array([[ 0.60789267,  0.50194225,  0.30993275,  0.72086744,  0.15495453,\n",
       "         1.        ,  0.31937571,  0.        ,  0.57532979,  0.97553441,\n",
       "         0.79167641,  0.78931579,  0.50194225,  0.78931579,  0.31938908,\n",
       "         0.31937571,  0.78931579,  0.78931579,  0.86258741,  0.78931579,\n",
       "         0.78931579,  0.60065023,  0.78931579,  0.78925508,  0.78931579,\n",
       "         0.78925508,  0.78166971,  0.78166377,  0.78929796,  0.95717656,\n",
       "         0.60302868,  0.79167641,  0.78687664,  0.60066806,  0.60302868,\n",
       "         0.676361  ,  0.60066806,  0.78689447,  0.59302198,  0.60066806,\n",
       "         0.78689447,  0.60302868,  0.60066806,  0.67634911,  0.72053304,\n",
       "         0.78929796,  0.78689447,  0.77924839,  0.86500873,  0.78166971,\n",
       "         0.60066806,  0.78689447,  0.78925508,  0.86258741,  0.77924839,\n",
       "         0.59301604,  0.78688668,  0.78689447,  0.97311309,  0.78689447,\n",
       "         0.78689447,  0.59302198,  0.77924244,  0.78687664,  0.86500873,\n",
       "         0.60065023,  0.676361  ,  0.78689447,  0.60066806,  0.60066806,\n",
       "         0.79167641,  0.60066806,  0.86499684,  0.86257552],\n",
       "       [ 0.05513318,  0.936618  ,  0.05513299,  0.        ,  0.37944437,\n",
       "         1.        ,  0.1215741 ,  0.70327735,  0.79714663,  0.89882198,\n",
       "         0.801267  ,  0.80108335,  0.936618  ,  0.80108335,  0.12131589,\n",
       "         0.1215741 ,  0.80108335,  0.80108335,  0.9135184 ,  0.80108335,\n",
       "         0.80108335,  0.80069687,  0.80108335,  0.80854112,  0.80108335,\n",
       "         0.80854112,  0.81696042,  0.81707518,  0.80142763,  0.98365363,\n",
       "         0.80053625,  0.801267  ,  0.80870174,  0.80035259,  0.80053625,\n",
       "         0.90551352,  0.80035259,  0.80835746,  0.81622966,  0.80035259,\n",
       "         0.80835746,  0.80053625,  0.80035259,  0.90574304,  0.00645525,\n",
       "         0.80142763,  0.80835746,  0.82423454,  0.90624428,  0.81696042,\n",
       "         0.80035259,  0.80835746,  0.80854112,  0.9135184 ,  0.82423454,\n",
       "         0.81634442,  0.89809122,  0.80835746,  0.90609609,  0.80835746,\n",
       "         0.80835746,  0.81622966,  0.8243493 ,  0.80870174,  0.90624428,\n",
       "         0.80069687,  0.90551352,  0.80835746,  0.80035259,  0.80035259,\n",
       "         0.801267  ,  0.80035259,  0.9064738 ,  0.91374792]])"
      ]
     },
     "execution_count": 64,
     "metadata": {},
     "output_type": "execute_result"
    }
   ],
   "source": [
    "rank"
   ]
  }
 ],
 "metadata": {
  "kernelspec": {
   "display_name": "Python 2",
   "language": "python",
   "name": "python2"
  },
  "language_info": {
   "codemirror_mode": {
    "name": "ipython",
    "version": 2
   },
   "file_extension": ".py",
   "mimetype": "text/x-python",
   "name": "python",
   "nbconvert_exporter": "python",
   "pygments_lexer": "ipython2",
   "version": "2.7.9"
  }
 },
 "nbformat": 4,
 "nbformat_minor": 0
}
