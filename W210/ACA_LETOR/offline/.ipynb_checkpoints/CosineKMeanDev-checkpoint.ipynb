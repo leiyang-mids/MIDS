{
 "cells": [
  {
   "cell_type": "code",
   "execution_count": 10,
   "metadata": {
    "collapsed": true
   },
   "outputs": [],
   "source": [
    "from sklearn.preprocessing import normalize\n",
    "from sklearn.feature_extraction.text import *\n",
    "from sklearn.cluster import KMeans\n",
    "from itertools import combinations\n",
    "import numpy as np"
   ]
  },
  {
   "cell_type": "code",
   "execution_count": 9,
   "metadata": {
    "collapsed": false
   },
   "outputs": [
    {
     "name": "stdout",
     "output_type": "stream",
     "text": [
      "average similarity: 0.493664888871\n"
     ]
    }
   ],
   "source": [
    "dim = 88\n",
    "npt = 66\n",
    "pts = np.random.randint(low=0, high=2, size=(npt, dim))\n",
    "# pts\n",
    "norm_pts = normalize(pts.astype(np.float))\n",
    "dist = norm_pts.dot(norm_pts.T)\n",
    "print 'average similarity:', np.mean(dist[np.triu_indices(npt,k=1)])"
   ]
  },
  {
   "cell_type": "code",
   "execution_count": 3,
   "metadata": {
    "collapsed": false
   },
   "outputs": [],
   "source": [
    "def get_query_clusters(points, k):\n",
    "    '''\n",
    "    points [n,m] - array for n points with dimention m - encoded query\n",
    "    '''\n",
    "    # normalize input\n",
    "    points = normalize(points.astype(np.float))\n",
    "    # get similarity matrix (cosine distance)\n",
    "    dist = points.dot(points.T)\n",
    "    # initialize variables\n",
    "    n_pt = len(points)\n",
    "    cluster_old, cluster_new = np.ones(n_pt), np.zeros(n_pt)\n",
    "    # special case, no clustering\n",
    "    if k==1 or n_pt==1:        \n",
    "        return np.zeros(n_pt), 1 if n_pt==1 else np.mean(dist[np.triu_indices(n_pt,k=1)])\n",
    "    # randomly choose k starting centroids\n",
    "    centroids = points[np.random.permutation(n_pt)[:k]]\n",
    "    while not np.array_equal(cluster_old, cluster_new):\n",
    "        cluster_old = cluster_new\n",
    "        # get cluster index for each point\n",
    "        cluster_new = np.argmax(points.dot(centroids.T), axis=1)\n",
    "        # get new centroids, and within class mean distance/similarity\n",
    "        centroids, in_dist = [], []\n",
    "        for c in np.unique(cluster_new):\n",
    "            pid = cluster_new==c\n",
    "            # set new centroid as the one who has minimum total distance to rest of the points in the cluster\n",
    "            cid = np.argmax(np.sum(dist[np.ix_(pid, pid)], axis=1))\n",
    "            centroids.append(points[pid][cid])\n",
    "            in_dist.append(1 if sum(pid)==1 else np.mean(dist[np.ix_(pid,pid)][np.triu_indices(sum(pid),k=1)]))\n",
    "        centroids = np.array(centroids)\n",
    "        # traditional way to get new centroid, not working well for cosine distance\n",
    "#         centroids = normalize([np.mean(points[cluster_new==c], axis=0) for c in np.unique(cluster_new)])\n",
    "\n",
    "    return cluster_new, np.mean(in_dist)\n"
   ]
  },
  {
   "cell_type": "code",
   "execution_count": 17,
   "metadata": {
    "collapsed": true
   },
   "outputs": [],
   "source": [
    "def query_characterizer(queries, similarity_limit = 0.9):\n",
    "    '''\n",
    "    queries - list of string for queries\n",
    "    return - list of integers to indicate cluster for each query\n",
    "    '''\n",
    "    # vectorize queries\n",
    "#     characterizer = CountVectorizer()\n",
    "#     encoded_query = characterizer.fit_transform(queries)\n",
    "    # find the optimal clusters based on minimum within cluster distance\n",
    "    avg_sim, k = 0, 0\n",
    "    while avg_sim < similarity_limit:\n",
    "        k += 1\n",
    "        clusters, avg_sim = get_query_clusters(queries, k)\n",
    "        \n",
    "    return clusters, k, avg_sim\n",
    "    # for each cluster, assemble training points from its queries\n",
    "    # for c in np.unique(clusters):\n"
   ]
  },
  {
   "cell_type": "code",
   "execution_count": 19,
   "metadata": {
    "collapsed": false
   },
   "outputs": [
    {
     "data": {
      "text/plain": [
       "(array([ 8, 20, 10, 14,  1,  8, 14, 15, 14,  6, 14, 18, 10, 10, 14,  3,  7,\n",
       "         7, 10, 20, 12, 11,  9, 10, 14, 14,  5, 10, 10, 14,  0, 13, 17, 14,\n",
       "        19, 10, 10, 10,  8,  8, 18, 15,  8, 13, 14,  9,  8, 10,  7, 13, 13,\n",
       "        10, 10, 10,  9, 16,  7, 10, 10, 18, 10,  2, 10,  4, 10,  7], dtype=int64),\n",
       " 21,\n",
       " 0.81634124511092665)"
      ]
     },
     "execution_count": 19,
     "metadata": {},
     "output_type": "execute_result"
    }
   ],
   "source": [
    "query_characterizer(pts,0.8)"
   ]
  },
  {
   "cell_type": "code",
   "execution_count": 8,
   "metadata": {
    "collapsed": false
   },
   "outputs": [
    {
     "data": {
      "text/plain": [
       "(array([ 0.]), 1)"
      ]
     },
     "execution_count": 8,
     "metadata": {},
     "output_type": "execute_result"
    }
   ],
   "source": [
    "# normalize(pts.astype(np.float))\n",
    "get_query_clusters(pts,1)"
   ]
  },
  {
   "cell_type": "code",
   "execution_count": 112,
   "metadata": {
    "collapsed": false
   },
   "outputs": [
    {
     "name": "stdout",
     "output_type": "stream",
     "text": [
      "0.644579618166\n"
     ]
    }
   ],
   "source": [
    "km = KMeans(20)\n",
    "cluster = km.fit_predict(norm_pts)\n",
    "in_dist = []\n",
    "for c in np.unique(cluster):\n",
    "    pid = cluster==c    \n",
    "    in_dist.append(1 if sum(pid)==1 else np.mean(dist[np.ix_(pid,pid)][np.triu_indices(sum(pid),k=1)]))\n",
    "print np.mean(in_dist)"
   ]
  },
  {
   "cell_type": "code",
   "execution_count": 28,
   "metadata": {
    "collapsed": false
   },
   "outputs": [],
   "source": [
    "import pickle\n",
    "savedData = 'UT_74_19243.pickle'\n",
    "with open(savedData) as f: \n",
    "    feature, plan = pickle.load(f)"
   ]
  },
  {
   "cell_type": "code",
   "execution_count": 74,
   "metadata": {
    "collapsed": false
   },
   "outputs": [],
   "source": [
    "plan=np.array(plan)\n",
    "# from sets import Set"
   ]
  },
  {
   "cell_type": "code",
   "execution_count": 67,
   "metadata": {
    "collapsed": false
   },
   "outputs": [],
   "source": [
    "n_plan = len(plan)\n",
    "sim_click = [[plan[np.random.permutation(n_plan)], plan[np.random.permutation(n_plan)[0:np.random.randint(low=1, high=10)]]] \n",
    "             for i in range(8)]"
   ]
  },
  {
   "cell_type": "code",
   "execution_count": 79,
   "metadata": {
    "collapsed": false
   },
   "outputs": [],
   "source": [
    "n_plan, n_fea = feature.shape"
   ]
  },
  {
   "cell_type": "code",
   "execution_count": 120,
   "metadata": {
    "collapsed": false
   },
   "outputs": [],
   "source": [
    "# from scipy.sparse import *\n",
    "a=lil_matrix((1,5))\n",
    "# np.random.random_sample(5)"
   ]
  },
  {
   "cell_type": "code",
   "execution_count": 123,
   "metadata": {
    "collapsed": false
   },
   "outputs": [],
   "source": [
    "a= vstack([a, lil_matrix(np.random.random_sample(5))] ,format='lil')"
   ]
  },
  {
   "cell_type": "code",
   "execution_count": 125,
   "metadata": {
    "collapsed": false
   },
   "outputs": [],
   "source": [
    "a=csr_matrix(a[range(1,a.shape[0]),:])"
   ]
  },
  {
   "cell_type": "code",
   "execution_count": 126,
   "metadata": {
    "collapsed": false
   },
   "outputs": [
    {
     "data": {
      "text/plain": [
       "array([[ 0.18459087,  0.58896731,  0.18837221,  0.41953534,  0.38871448],\n",
       "       [ 0.73644199,  0.45115154,  0.02206008,  0.5990885 ,  0.96838771],\n",
       "       [ 0.10087744,  0.17272667,  0.74513651,  0.87360091,  0.17749498]])"
      ]
     },
     "execution_count": 126,
     "metadata": {},
     "output_type": "execute_result"
    }
   ],
   "source": [
    "a.toarray()"
   ]
  },
  {
   "cell_type": "code",
   "execution_count": 110,
   "metadata": {
    "collapsed": false
   },
   "outputs": [
    {
     "data": {
      "text/plain": [
       "array([[ 0.67688549,  0.915354  ,  0.86653478,  0.22574209,  0.04491325],\n",
       "       [ 0.90993134,  0.67798375,  0.09539874,  0.97191795,  0.54214246],\n",
       "       [ 0.34596626,  0.10906454,  0.51046527,  0.0044819 ,  0.72640462]])"
      ]
     },
     "execution_count": 110,
     "metadata": {},
     "output_type": "execute_result"
    }
   ],
   "source": [
    "b.toarray()"
   ]
  },
  {
   "cell_type": "code",
   "execution_count": 108,
   "metadata": {
    "collapsed": false
   },
   "outputs": [
    {
     "data": {
      "text/plain": [
       "scipy.sparse.csr.csr_matrix"
      ]
     },
     "execution_count": 108,
     "metadata": {},
     "output_type": "execute_result"
    }
   ],
   "source": [
    "type(b)"
   ]
  },
  {
   "cell_type": "code",
   "execution_count": 117,
   "metadata": {
    "collapsed": false
   },
   "outputs": [
    {
     "data": {
      "text/plain": [
       "<1x19243 sparse matrix of type '<type 'numpy.float64'>'\n",
       "\twith 3906 stored elements in LInked List format>"
      ]
     },
     "execution_count": 117,
     "metadata": {},
     "output_type": "execute_result"
    }
   ],
   "source": [
    "feature.getrow(0)"
   ]
  },
  {
   "cell_type": "code",
   "execution_count": null,
   "metadata": {
    "collapsed": true
   },
   "outputs": [],
   "source": [
    "fea"
   ]
  }
 ],
 "metadata": {
  "kernelspec": {
   "display_name": "Python 2",
   "language": "python",
   "name": "python2"
  },
  "language_info": {
   "codemirror_mode": {
    "name": "ipython",
    "version": 2
   },
   "file_extension": ".py",
   "mimetype": "text/x-python",
   "name": "python",
   "nbconvert_exporter": "python",
   "pygments_lexer": "ipython2",
   "version": "2.7.10"
  }
 },
 "nbformat": 4,
 "nbformat_minor": 0
}
