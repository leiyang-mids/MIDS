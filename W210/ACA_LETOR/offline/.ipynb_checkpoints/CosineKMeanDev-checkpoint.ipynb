{
 "cells": [
  {
   "cell_type": "code",
   "execution_count": 1,
   "metadata": {
    "collapsed": true
   },
   "outputs": [],
   "source": [
    "from sklearn.preprocessing import normalize\n",
    "from sklearn.cluster import KMeans\n",
    "from itertools import combinations\n",
    "import numpy as np"
   ]
  },
  {
   "cell_type": "code",
   "execution_count": 89,
   "metadata": {
    "collapsed": false
   },
   "outputs": [
    {
     "name": "stdout",
     "output_type": "stream",
     "text": [
      "average similarity: 0.497508155274\n"
     ]
    }
   ],
   "source": [
    "dim = 88\n",
    "npt = 66\n",
    "pts = np.random.randint(low=0, high=2, size=(npt, dim))\n",
    "# pts\n",
    "norm_pts = normalize(pts.astype(np.float))\n",
    "dist = norm_pts.dot(norm_pts.T)\n",
    "print 'average similarity:', np.mean(dist[np.triu_indices(npt,k=1)])"
   ]
  },
  {
   "cell_type": "code",
   "execution_count": 86,
   "metadata": {
    "collapsed": false
   },
   "outputs": [],
   "source": [
    "\n",
    "def get_clusters(points, k):\n",
    "    '''\n",
    "    points [n,m] - array for n points with dimention m\n",
    "    '''\n",
    "    # initialize variables\n",
    "    points = normalize(points.astype(np.float))\n",
    "    dist = points.dot(points.T)\n",
    "    n_pt = len(points)\n",
    "    cluster_old, cluster_new = np.ones(n_pt), np.zeros(n_pt)\n",
    "    # randomly choose k starting centroids\n",
    "    centroids = points[np.random.permutation(n_pt)[:k]]\n",
    "    i=0\n",
    "    while not np.array_equal(cluster_old, cluster_new):    \n",
    "        i+=1\n",
    "        cluster_old = cluster_new\n",
    "        # get cluster index for each point\n",
    "        cluster_new = np.argmax(points.dot(centroids.T), axis=1)\n",
    "        # get new centroids, and within class mean distance\n",
    "        centroids, in_dist = [], []\n",
    "        for c in np.unique(cluster_new):\n",
    "            pid = cluster_new==c\n",
    "            cid = np.argmax(np.sum(dist[np.ix_(pid, pid)], axis=1))\n",
    "            centroids.append(points[pid][cid])\n",
    "            in_dist.append(1 if sum(pid)==1 else np.mean(dist[np.ix_(pid,pid)][np.triu_indices(sum(pid),k=1)]))\n",
    "        centroids = np.array(centroids)\n",
    "#         centroids = normalize([np.mean(points[cluster_new==c], axis=0) for c in np.unique(cluster_new)])\n",
    "        \n",
    "    return cluster_new, np.mean(in_dist)"
   ]
  },
  {
   "cell_type": "code",
   "execution_count": 100,
   "metadata": {
    "collapsed": false
   },
   "outputs": [
    {
     "data": {
      "text/plain": [
       "(array([17, 14,  2,  3,  7, 19, 10,  2,  3,  9,  5, 13,  7, 16,  4,  9, 15,\n",
       "         6,  7, 17,  5, 19,  0,  5,  3, 14,  3,  3,  8,  3, 17, 16,  3,  1,\n",
       "        19, 12, 11, 12,  7,  8, 16,  2,  7,  1, 19,  5,  8, 12,  9, 18,  4,\n",
       "         7,  9,  7, 12, 13,  1, 14,  7,  9,  9, 14, 14,  1, 13,  9], dtype=int64),\n",
       " 0.69951822026945931)"
      ]
     },
     "execution_count": 100,
     "metadata": {},
     "output_type": "execute_result"
    }
   ],
   "source": [
    "# normalize(pts.astype(np.float))\n",
    "get_clusters(pts,20)"
   ]
  },
  {
   "cell_type": "code",
   "execution_count": 112,
   "metadata": {
    "collapsed": false
   },
   "outputs": [
    {
     "name": "stdout",
     "output_type": "stream",
     "text": [
      "0.644579618166\n"
     ]
    }
   ],
   "source": [
    "km = KMeans(20)\n",
    "cluster = km.fit_predict(norm_pts)\n",
    "in_dist = []\n",
    "for c in np.unique(cluster):\n",
    "    pid = cluster==c    \n",
    "    in_dist.append(1 if sum(pid)==1 else np.mean(dist[np.ix_(pid,pid)][np.triu_indices(sum(pid),k=1)]))\n",
    "print np.mean(in_dist)"
   ]
  }
 ],
 "metadata": {
  "kernelspec": {
   "display_name": "Python 2",
   "language": "python",
   "name": "python2"
  },
  "language_info": {
   "codemirror_mode": {
    "name": "ipython",
    "version": 2
   },
   "file_extension": ".py",
   "mimetype": "text/x-python",
   "name": "python",
   "nbconvert_exporter": "python",
   "pygments_lexer": "ipython2",
   "version": "2.7.10"
  }
 },
 "nbformat": 4,
 "nbformat_minor": 0
}
