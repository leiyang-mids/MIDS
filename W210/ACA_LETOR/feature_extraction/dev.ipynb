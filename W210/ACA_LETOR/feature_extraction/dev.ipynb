{
 "cells": [
  {
   "cell_type": "code",
   "execution_count": 1,
   "metadata": {
    "collapsed": false
   },
   "outputs": [
    {
     "name": "stdout",
     "output_type": "stream",
     "text": [
      "using aws Mongo, total drug: 46206, total plan: 6035, total provider: 8799098\n"
     ]
    }
   ],
   "source": [
    "from pymongo import MongoClient\n",
    "\n",
    "local = False\n",
    "if local:\n",
    "    client = MongoClient('fc8iasm01', 27017)\n",
    "    plan_col = client.aca.plan\n",
    "    drug_col = client.aca.drug\n",
    "else:\n",
    "    client = MongoClient('ec2-52-53-230-141.us-west-1.compute.amazonaws.com', 27017)\n",
    "    plan_col = client.plans.plans\n",
    "    drug_col = client.formularies.drugs\n",
    "    prov_col = client.providers.providers\n",
    "    faci_col = client.providers.facilities\n",
    "\n",
    "all_plan = drug_col.distinct('plans.plan_id')\n",
    "all_drug = drug_col.distinct('rxnorm_id')\n",
    "\n",
    "print 'using %s Mongo, total drug: %d, total plan: %d, total provider: %d' %(\n",
    "     'local' if local else 'aws', len(all_drug), len(all_plan), prov_col.count())"
   ]
  },
  {
   "cell_type": "code",
   "execution_count": 2,
   "metadata": {
    "collapsed": false
   },
   "outputs": [
    {
     "name": "stdout",
     "output_type": "stream",
     "text": [
      "find plan from 43 states: AK, AL, AR, AZ, CO, DE, FL, GA, HI, IA, IL, IN, KS, KY, LA, MA, ME, MI, MN, MO, MS, MT, NC, ND, NE, NH, NJ, NM, NV, OH, OK, OR, PA, SC, SD, TN, TX, UT, VA, WA, WI, WV, WY\n"
     ]
    }
   ],
   "source": [
    "import numpy as np\n",
    "state_ids = np.unique([i[5:7] for i in all_plan])\n",
    "print 'find plan from %d states: %s' %(len(state_ids), ', '.join(state_ids))"
   ]
  },
  {
   "cell_type": "code",
   "execution_count": 22,
   "metadata": {
    "collapsed": false
   },
   "outputs": [],
   "source": [
    "%reload_ext autoreload\n",
    "%autoreload 2\n",
    "from extract_plan_feature import *\n",
    "from extract_drug_feature import *\n",
    "from extract_provider_feature import *\n",
    "from get_state_feature import *"
   ]
  },
  {
   "cell_type": "code",
   "execution_count": 5,
   "metadata": {
    "collapsed": true
   },
   "outputs": [],
   "source": [
    "state_plan = [i for i in all_plan if 'SD' in i]"
   ]
  },
  {
   "cell_type": "code",
   "execution_count": 15,
   "metadata": {
    "collapsed": false
   },
   "outputs": [
    {
     "name": "stdout",
     "output_type": "stream",
     "text": [
      "get formulary state space for all plans\n",
      "total formulary states: 12\n",
      "extract formulary states for each plan\n",
      "complete for 18 plans\n",
      "get formulary summary feature for each plan\n"
     ]
    }
   ],
   "source": [
    "p_fea = extract_plan_feature(plan_col, state_plan)"
   ]
  },
  {
   "cell_type": "code",
   "execution_count": 20,
   "metadata": {
    "collapsed": false
   },
   "outputs": [
    {
     "name": "stdout",
     "output_type": "stream",
     "text": [
      "get all drugs covered by all plans\n",
      "total rx: 6486\n",
      "check drug coverage for each plan\n",
      "complete for 43 plans\n",
      "get summary feature for drug\n",
      "total drug states: 28\n",
      "extract drug sumstat for each plan\n",
      "complete for 43 plans\n"
     ]
    }
   ],
   "source": [
    "d_fea = extract_drug_feature(drug_col, state_plan)"
   ]
  },
  {
   "cell_type": "code",
   "execution_count": 23,
   "metadata": {
    "collapsed": false
   },
   "outputs": [
    {
     "name": "stdout",
     "output_type": "stream",
     "text": [
      "get provider under the plans\n",
      "total providers: 18884\n",
      "check provider coverage for each plan\n",
      "complete for 43 plans\n",
      "get summary feature for provider\n",
      "total provider summary: 1318\n",
      "extract provider sumstat for each plan\n",
      "complete for 43 plans\n"
     ]
    }
   ],
   "source": [
    "v_fea = extract_provider_feature(prov_col, state_plan)"
   ]
  },
  {
   "cell_type": "code",
   "execution_count": 32,
   "metadata": {
    "collapsed": false
   },
   "outputs": [],
   "source": [
    "# fea_mat=p_fea+v_fea\n",
    "from sets import Set\n",
    "valid_plan = Set(fea_mat[0].keys())\n",
    "for i in range(1, len(fea_mat)):\n",
    "    valid_plan = valid_plan.intersection(fea_mat[i].keys())\n",
    "valid_plan = list(valid_plan)"
   ]
  },
  {
   "cell_type": "code",
   "execution_count": 43,
   "metadata": {
    "collapsed": false
   },
   "outputs": [
    {
     "name": "stdout",
     "output_type": "stream",
     "text": [
      "get formulary state space for all plans\n",
      "total formulary states: 12\n",
      "extract formulary states for each plan\n",
      "complete for 18 plans\n",
      "get formulary summary feature for each plan\n",
      "get all drugs covered by all plans\n",
      "total rx: 6486\n",
      "check drug coverage for each plan\n",
      "complete for 43 plans\n",
      "get summary feature for drug\n",
      "total drug states: 28\n",
      "extract drug sumstat for each plan\n",
      "complete for 43 plans\n",
      "get provider under the plans\n",
      "total providers: 18884\n",
      "check provider coverage for each plan\n",
      "complete for 43 plans\n",
      "get summary feature for provider\n",
      "total provider summary: 1318\n",
      "extract provider sumstat for each plan\n",
      "complete for 43 plans\n"
     ]
    }
   ],
   "source": [
    "plan,feature = get_state_feature(state_plan, plan_col, drug_col, prov_col)\n",
    "# temp=[hstack([f[p] for f in fea_mat]) for p in valid_plan]"
   ]
  },
  {
   "cell_type": "code",
   "execution_count": 49,
   "metadata": {
    "collapsed": false
   },
   "outputs": [],
   "source": [
    "save_name = 'feature/%s_%d_%d.pickle' %('SD', feature.shape[0], feature.shape[1])"
   ]
  },
  {
   "cell_type": "code",
   "execution_count": 51,
   "metadata": {
    "collapsed": false
   },
   "outputs": [],
   "source": [
    "import pickle\n",
    "with open(save_name, 'w') as f:\n",
    "    pickle.dump([feature, plan], f)"
   ]
  },
  {
   "cell_type": "code",
   "execution_count": 53,
   "metadata": {
    "collapsed": false
   },
   "outputs": [],
   "source": [
    "from s3_helpers import *\n",
    "s3_helper().upload(save_name)"
   ]
  }
 ],
 "metadata": {
  "kernelspec": {
   "display_name": "Python 2",
   "language": "python",
   "name": "python2"
  },
  "language_info": {
   "codemirror_mode": {
    "name": "ipython",
    "version": 2
   },
   "file_extension": ".py",
   "mimetype": "text/x-python",
   "name": "python",
   "nbconvert_exporter": "python",
   "pygments_lexer": "ipython2",
   "version": "2.7.9"
  }
 },
 "nbformat": 4,
 "nbformat_minor": 0
}
