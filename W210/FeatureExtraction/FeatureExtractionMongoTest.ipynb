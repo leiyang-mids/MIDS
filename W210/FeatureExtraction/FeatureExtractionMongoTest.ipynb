{
 "cells": [
  {
   "cell_type": "code",
   "execution_count": 1,
   "metadata": {
    "collapsed": true
   },
   "outputs": [],
   "source": [
    "from sklearn.preprocessing import OneHotEncoder\n",
    "from pymongo import MongoClient\n",
    "from sets import Set\n",
    "import numpy as np\n",
    "import json"
   ]
  },
  {
   "cell_type": "code",
   "execution_count": 2,
   "metadata": {
    "collapsed": false
   },
   "outputs": [],
   "source": [
    "# prov = json.load(open('providers-OR.json'))\n",
    "client = MongoClient('fc8iasm01', 27017)\n",
    "prov_col = client.aca.prov\n",
    "drug_col = client.aca.drug\n",
    "plan_col = client.aca.plan"
   ]
  },
  {
   "cell_type": "code",
   "execution_count": 31,
   "metadata": {
    "collapsed": false
   },
   "outputs": [
    {
     "name": "stdout",
     "output_type": "stream",
     "text": [
      "{u'count': 1, u'copay_opt': u'NO-CHARGE', u'pharmacy': u'3-MONTH-IN-RETAIL', u'network_tier': [u'PREFERRED'], u'tier': u'BRAND', u'coinsurance_opt': None, u'plan': u'73836AK0750002'}\n",
      "{u'count': 1, u'copay_opt': u'BEFORE-DEDUCTIBLE', u'pharmacy': u'3-MONTH-IN-MAIL', u'network_tier': [u'PREFERRED'], u'tier': u'VALUE', u'coinsurance_opt': None, u'plan': u'39424OR1240001'}\n",
      "{u'count': 1, u'copay_opt': u'BEFORE-DEDUCTIBLE', u'pharmacy': u'1-MONTH-OUT-RETAIL', u'network_tier': [u'PREFERRED'], u'tier': u'SELECT', u'coinsurance_opt': None, u'plan': u'39424OR1240001'}\n",
      "{u'count': 1, u'copay_opt': u'BEFORE-DEDUCTIBLE', u'pharmacy': u'1-MONTH-IN-RETAIL', u'network_tier': [u'PREFERRED'], u'tier': u'PREFERRED', u'coinsurance_opt': None, u'plan': u'39424OR1240001'}\n",
      "47\n"
     ]
    }
   ],
   "source": [
    "# get plan state - all combinations of drug_tier/pharmacy_type/copay_opt/coinsurance_opt\n",
    "i=0\n",
    "for p in plan_col.aggregate(\n",
    "    [\n",
    "        {'$match':{'plan_id':{'$in':['39424OR1240001','73836AK0750002','39424OR1480001']}}},     \n",
    "        {'$unwind':'$formulary'},\n",
    "        {'$unwind':'$formulary.cost_sharing'},        \n",
    "        {'$group':{\n",
    "                '_id':{\n",
    "                    'plan':'$plan_id',\n",
    "                    'tier':'$formulary.drug_tier', \n",
    "                    'pharmacy':'$formulary.cost_sharing.pharmacy_type',\n",
    "                    'cp':'$formulary.cost_sharing.copay_opt',\n",
    "                    'ci':'$formulary.cost_sharing.coinsurance_opt'                    \n",
    "                    },\n",
    "#                 'a_cp':{'$avg':'$formulary.cost_sharing.copay_amount'},\n",
    "#                 'a_in':{'$avg':'$formulary.cost_sharing.coinsurance_rate'},\n",
    "                'network':{'$first':'$network.network_tier'},\n",
    "                'cnt':{'$sum':1},                \n",
    "            }\n",
    "        },\n",
    "        {'$project':{\n",
    "                '_id':0, \n",
    "                'plan':'$_id.plan',\n",
    "                'tier':'$_id.tier',\n",
    "                'pharmacy':'$_id.pharmacy',\n",
    "                'copay_opt':'$_id.cp',\n",
    "                'coinsurance_opt':'$_id.ci',\n",
    "#                 'avg_copay':'$a_cp',\n",
    "#                 'avg_ci_rate':'$a_in',\n",
    "                'count':'$cnt',                \n",
    "#                 'test':{'$sum':['$a_cp', '$a_in']},\n",
    "                'network_tier':'$network'\n",
    "            }\n",
    "        \n",
    "        },\n",
    "#         {'$sort':{'plan':-1}}\n",
    "    ]\n",
    "\n",
    "):\n",
    "    i+=1\n",
    "    if i<5:\n",
    "        print p\n",
    "    \n",
    "print i"
   ]
  },
  {
   "cell_type": "code",
   "execution_count": 35,
   "metadata": {
    "collapsed": false
   },
   "outputs": [
    {
     "name": "stdout",
     "output_type": "stream",
     "text": [
      "{u'count': 16, u'avg_ci_rate': 0.10625000000000001, u'avg_copay': 38.125, u'plan': u'39424OR1240001', u'network_tier': [[u'PREFERRED']]}\n",
      "{u'count': 16, u'avg_ci_rate': 0.24375, u'avg_copay': 0.25, u'plan': u'39424OR1480001', u'network_tier': [[u'PREFERRED']]}\n",
      "{u'count': 15, u'avg_ci_rate': 0.14666666666666664, u'avg_copay': 12.0, u'plan': u'73836AK0750002', u'network_tier': [[u'PREFERRED']]}\n",
      "3\n"
     ]
    }
   ],
   "source": [
    "# get the mean value of copay_amout and coinsurance_rate (over all tier/pharmacy/copay/coinsurance options) for a plan\n",
    "i=0\n",
    "for p in plan_col.aggregate(\n",
    "    [\n",
    "        {'$match':{'plan_id':{'$in':['39424OR1240001','73836AK0750002','39424OR1480001']}}},     \n",
    "        {'$unwind':'$formulary'},\n",
    "        {'$unwind':'$formulary.cost_sharing'},        \n",
    "        {'$group':{\n",
    "                '_id':{\n",
    "                    'plan':'$plan_id',\n",
    "#                     'tier':'$formulary.drug_tier', \n",
    "#                     'pharmacy':'$formulary.cost_sharing.pharmacy_type',\n",
    "#                     'cp':'$formulary.cost_sharing.copay_opt',\n",
    "#                     'ci':'$formulary.cost_sharing.coinsurance_opt'                    \n",
    "                    },\n",
    "                'a_cp':{'$avg':'$formulary.cost_sharing.copay_amount'},\n",
    "                'a_in':{'$avg':'$formulary.cost_sharing.coinsurance_rate'},\n",
    "                'network':{'$addToSet':'$network.network_tier'},\n",
    "                'cnt':{'$sum':1},                \n",
    "            }\n",
    "        },\n",
    "        {'$project':{\n",
    "                '_id':0, \n",
    "                'plan':'$_id.plan',\n",
    "#                 'tier':'$_id.tier',\n",
    "#                 'pharmacy':'$_id.pharmacy',\n",
    "#                 'copay_opt':'$_id.cp',\n",
    "#                 'coinsurance_opt':'$_id.ci',\n",
    "                'avg_copay':'$a_cp',\n",
    "                'avg_ci_rate':'$a_in',\n",
    "                'count':'$cnt',                \n",
    "#                 'test':{'$sum':['$a_cp', '$a_in']},\n",
    "                'network_tier':'$network'\n",
    "            }\n",
    "        \n",
    "        },\n",
    "        {'$sort':{'plan':1}}\n",
    "    ]\n",
    "\n",
    "):\n",
    "    i+=1\n",
    "    if i<5:\n",
    "        print p\n",
    "    \n",
    "print i"
   ]
  },
  {
   "cell_type": "code",
   "execution_count": 161,
   "metadata": {
    "collapsed": false
   },
   "outputs": [
    {
     "data": {
      "text/plain": [
       "{u'_id': ObjectId('5776d384b4ba2c8616d321b5'),\n",
       " u'formulary': [{u'cost_sharing': [{u'coinsurance_opt': None,\n",
       "     u'coinsurance_rate': 0.0,\n",
       "     u'copay_amount': 90.0,\n",
       "     u'copay_opt': u'BEFORE-DEDUCTIBLE',\n",
       "     u'pharmacy_type': u'1-MONTH-IN-RETAIL'},\n",
       "    {u'coinsurance_opt': None,\n",
       "     u'coinsurance_rate': 0.0,\n",
       "     u'copay_amount': 30.0,\n",
       "     u'copay_opt': u'BEFORE-DEDUCTIBLE',\n",
       "     u'pharmacy_type': u'1-MONTH-OUT-RETAIL'},\n",
       "    {u'coinsurance_opt': None,\n",
       "     u'coinsurance_rate': 0.0,\n",
       "     u'copay_amount': 270.0,\n",
       "     u'copay_opt': u'BEFORE-DEDUCTIBLE',\n",
       "     u'pharmacy_type': u'3-MONTH-IN-MAIL'}],\n",
       "   u'drug_tier': u'PREFERRED',\n",
       "   u'mail_order': True},\n",
       "  {u'cost_sharing': [{u'coinsurance_opt': u'AFTER-DEDUCTIBLE',\n",
       "     u'coinsurance_rate': 0.5,\n",
       "     u'copay_amount': 0.0,\n",
       "     u'copay_opt': u'NO-CHARGE',\n",
       "     u'pharmacy_type': u'1-MONTH-IN-RETAIL'}],\n",
       "   u'drug_tier': u'SPECIALTY',\n",
       "   u'mail_order': True},\n",
       "  {u'cost_sharing': [{u'coinsurance_opt': None,\n",
       "     u'coinsurance_rate': 0.0,\n",
       "     u'copay_amount': 10.0,\n",
       "     u'copay_opt': u'BEFORE-DEDUCTIBLE',\n",
       "     u'pharmacy_type': u'1-MONTH-IN-RETAIL'},\n",
       "    {u'coinsurance_opt': None,\n",
       "     u'coinsurance_rate': 0.0,\n",
       "     u'copay_amount': 10.0,\n",
       "     u'copay_opt': u'BEFORE-DEDUCTIBLE',\n",
       "     u'pharmacy_type': u'1-MONTH-OUT-RETAIL'},\n",
       "    {u'coinsurance_opt': None,\n",
       "     u'coinsurance_rate': 0.0,\n",
       "     u'copay_amount': 90.0,\n",
       "     u'copay_opt': u'BEFORE-DEDUCTIBLE',\n",
       "     u'pharmacy_type': u'3-MONTH-IN-MAIL'}],\n",
       "   u'drug_tier': u'VALUE',\n",
       "   u'mail_order': True},\n",
       "  {u'cost_sharing': [{u'coinsurance_opt': None,\n",
       "     u'coinsurance_rate': 0.0,\n",
       "     u'copay_amount': 10.0,\n",
       "     u'copay_opt': u'BEFORE-DEDUCTIBLE',\n",
       "     u'pharmacy_type': u'1-MONTH-IN-RETAIL'},\n",
       "    {u'coinsurance_opt': None,\n",
       "     u'coinsurance_rate': 0.0,\n",
       "     u'copay_amount': 10.0,\n",
       "     u'copay_opt': u'BEFORE-DEDUCTIBLE',\n",
       "     u'pharmacy_type': u'1-MONTH-OUT-RETAIL'},\n",
       "    {u'coinsurance_opt': None,\n",
       "     u'coinsurance_rate': 0.0,\n",
       "     u'copay_amount': 90.0,\n",
       "     u'copay_opt': u'NO-CHARGE',\n",
       "     u'pharmacy_type': u'3-MONTH-IN-MAIL'}],\n",
       "   u'drug_tier': u'SELECT',\n",
       "   u'mail_order': True},\n",
       "  {u'cost_sharing': [{u'coinsurance_opt': None,\n",
       "     u'coinsurance_rate': 0.5,\n",
       "     u'copay_amount': 0.0,\n",
       "     u'copay_opt': u'NO-CHARGE',\n",
       "     u'pharmacy_type': u'1-MONTH-IN-RETAIL'},\n",
       "    {u'coinsurance_opt': None,\n",
       "     u'coinsurance_rate': 0.5,\n",
       "     u'copay_amount': 0.0,\n",
       "     u'copay_opt': u'NO-CHARGE',\n",
       "     u'pharmacy_type': u'1-MONTH-OUT-RETAIL'},\n",
       "    {u'coinsurance_opt': None,\n",
       "     u'coinsurance_rate': 0.0,\n",
       "     u'copay_amount': 0.0,\n",
       "     u'copay_opt': u'NO-CHARGE',\n",
       "     u'pharmacy_type': u'3-MONTH-IN-MAIL'}],\n",
       "   u'drug_tier': u'BRAND',\n",
       "   u'mail_order': True},\n",
       "  {u'cost_sharing': [{u'coinsurance_opt': None,\n",
       "     u'coinsurance_rate': 0.0,\n",
       "     u'copay_amount': 0.0,\n",
       "     u'copay_opt': u'BEFORE-DEDUCTIBLE',\n",
       "     u'pharmacy_type': u'1-MONTH-IN-RETAIL'}],\n",
       "   u'drug_tier': u'PREVENTIVE',\n",
       "   u'mail_order': True},\n",
       "  {u'cost_sharing': [{u'coinsurance_opt': u'AFTER-DEDUCTIBLE',\n",
       "     u'coinsurance_rate': 0.1,\n",
       "     u'copay_amount': 0.0,\n",
       "     u'copay_opt': u'NO-CHARGE',\n",
       "     u'pharmacy_type': u'1-MONTH-IN-RETAIL'},\n",
       "    {u'coinsurance_opt': u'AFTER-DEDUCTIBLE',\n",
       "     u'coinsurance_rate': 0.1,\n",
       "     u'copay_amount': 0.0,\n",
       "     u'copay_opt': u'NO-CHARGE',\n",
       "     u'pharmacy_type': u'3-MONTH-IN-RETAIL'}],\n",
       "   u'drug_tier': u'MEDICAL-SERVICE-DRUGS',\n",
       "   u'mail_order': True}],\n",
       " u'last_updated_on': u'2016-04-05',\n",
       " u'marketing_name': u'Moda Health Oregon Standard Gold (Beacon)',\n",
       " u'marketing_url': u'',\n",
       " u'network': [{u'network_tier': u'PREFERRED'}],\n",
       " u'plan_contact': u'jessica.wagner@modahealth.com',\n",
       " u'plan_id': u'39424OR1240001',\n",
       " u'plan_id_type': u'HIOS-PLAN-ID',\n",
       " u'summary_url': u'https://www.modahealth.com/pdfs/plans/individual/Moda_Beacon_OregonStandardGold_2016_OR.pdf'}"
      ]
     },
     "execution_count": 161,
     "metadata": {},
     "output_type": "execute_result"
    }
   ],
   "source": [
    "plan_col.find_one()"
   ]
  },
  {
   "cell_type": "code",
   "execution_count": 105,
   "metadata": {
    "collapsed": false
   },
   "outputs": [
    {
     "name": "stdout",
     "output_type": "stream",
     "text": [
      "{u'formulary': [{u'cost_sharing': [{u'copay_amount': 90.0}, {u'copay_amount': 30.0}, {u'copay_amount': 270.0}]}, {u'cost_sharing': [{u'copay_amount': 0.0}]}, {u'cost_sharing': [{u'copay_amount': 10.0}, {u'copay_amount': 10.0}, {u'copay_amount': 90.0}]}, {u'cost_sharing': [{u'copay_amount': 10.0}, {u'copay_amount': 10.0}, {u'copay_amount': 90.0}]}, {u'cost_sharing': [{u'copay_amount': 0.0}, {u'copay_amount': 0.0}, {u'copay_amount': 0.0}]}, {u'cost_sharing': [{u'copay_amount': 0.0}]}, {u'cost_sharing': [{u'copay_amount': 0.0}, {u'copay_amount': 0.0}]}]}\n"
     ]
    }
   ],
   "source": [
    "for p in plan_col.find({'plan_id':'39424OR1240001'},{'_id':0,'formulary.cost_sharing.copay_amount':1}):\n",
    "    print p"
   ]
  },
  {
   "cell_type": "code",
   "execution_count": 36,
   "metadata": {
    "collapsed": false,
    "scrolled": false
   },
   "outputs": [
    {
     "name": "stdout",
     "output_type": "stream",
     "text": [
      "{u'count': 85, u'quantity_limit': False, u'pid': u'39424OR1480003', u'step_therapy': False, u'prior_authorization': True, u'tier': u'BRAND'}\n",
      "{u'count': 1722, u'quantity_limit': False, u'pid': u'39424OR1480003', u'step_therapy': False, u'prior_authorization': False, u'tier': u'BRAND'}\n",
      "{u'count': 359, u'quantity_limit': True, u'pid': u'39424OR1480003', u'step_therapy': True, u'prior_authorization': False, u'tier': u'BRAND'}\n",
      "{u'count': 115, u'quantity_limit': True, u'pid': u'39424OR1480003', u'step_therapy': False, u'prior_authorization': False, u'tier': u'BRAND'}\n",
      "total: 66\n"
     ]
    }
   ],
   "source": [
    "# get state space of drugs - count for all combinations of drug_tier/step_therapy/quantity_limit/prior_authorization\n",
    "\n",
    "i=0\n",
    "for d in drug_col.aggregate(\n",
    "    [           \n",
    "        {'$unwind':'$plans'},\n",
    "        {'$match':{'plans.plan_id':{'$in':['39424OR1240001','39424OR1480003']}}},     \n",
    "        {'$group':{\n",
    "                '_id':{'pl':'$plans.plan_id', \n",
    "                       'ti':'$plans.drug_tier', \n",
    "                       'st':'$plans.step_therapy',\n",
    "                       'ql':'$plans.quantity_limit',\n",
    "                       'pa':'$plans.prior_authorization',\n",
    "                       }, \n",
    "                'cnt':{'$sum':1}\n",
    "            }\n",
    "        },\n",
    "        {'$project':{\n",
    "                'pid':'$_id.pl', \n",
    "                'tier':'$_id.ti', \n",
    "                'step_therapy':'$_id.st', \n",
    "                'quantity_limit':'$_id.ql', \n",
    "                'prior_authorization':'$_id.pa', \n",
    "                'count':'$cnt', '_id':0\n",
    "            }\n",
    "        },\n",
    "        {'$sort':{'tier':1, 'pid':-1}}\n",
    "    ]\n",
    "):\n",
    "    i+=1     \n",
    "    if i<5:\n",
    "        print d\n",
    "        \n",
    "print 'total:',i"
   ]
  },
  {
   "cell_type": "code",
   "execution_count": 34,
   "metadata": {
    "collapsed": false
   },
   "outputs": [
    {
     "name": "stdout",
     "output_type": "stream",
     "text": [
      "39424OR1240001 8968\n",
      "1\n"
     ]
    }
   ],
   "source": [
    "# get rxnorm_id list for a group of plans\n",
    "i=0\n",
    "for d in drug_col.aggregate(\n",
    "    [\n",
    "        {'$unwind':'$plans'},\n",
    "        {'$match':{'plans.plan_id':{'$in':['39424OR1240001']}}},        \n",
    "        {'$group':{'_id':'$plans.plan_id', 'drugs': {'$addToSet':'$rxnorm_id'}}},\n",
    "        {'$project':{'plan':'$_id', 'drug':'$drugs', '_id':0 }},\n",
    "#         {'$project':{'plan':'$plans.plan_id', 'rx':'$rxnorm_id', '_id':0}},\n",
    "#         {'$sort':{'rx':1}}\n",
    "    ]\n",
    "):\n",
    "    i+=1\n",
    "    if True:\n",
    "        print d['plan'], len(d['drug'])\n",
    "        \n",
    "print i"
   ]
  },
  {
   "cell_type": "code",
   "execution_count": 145,
   "metadata": {
    "collapsed": false
   },
   "outputs": [
    {
     "data": {
      "text/plain": [
       "8968"
      ]
     },
     "execution_count": 145,
     "metadata": {},
     "output_type": "execute_result"
    }
   ],
   "source": [
    "len( drug_col.find(\n",
    "    {'plans.plan_id':'39424OR1320001'}, #'plans.drug_tier':{'$in':['SELECT', 'PREFERRED']}}, \n",
    "#     {'_id':0, 'rxnorm_id':1, 'plans':{ '$elemMatch':{'plan_id':'39424OR1320001'}}}\n",
    ").distinct('rxnorm_id'))\n",
    "\n",
    "# plan_id.count()"
   ]
  },
  {
   "cell_type": "code",
   "execution_count": 129,
   "metadata": {
    "collapsed": false
   },
   "outputs": [
    {
     "data": {
      "text/plain": [
       "<pymongo.cursor.Cursor at 0x29cb0d68>"
      ]
     },
     "execution_count": 129,
     "metadata": {},
     "output_type": "execute_result"
    }
   ],
   "source": [
    "plan_id.sort('plans.drug_tier')"
   ]
  },
  {
   "cell_type": "code",
   "execution_count": 152,
   "metadata": {
    "collapsed": false
   },
   "outputs": [
    {
     "data": {
      "text/plain": [
       "{u'_id': ObjectId('5776d384b4ba2c8616d321bf'),\n",
       " u'formulary': [{u'cost_sharing': [{u'coinsurance_opt': u'AFTER-DEDUCTIBLE',\n",
       "     u'coinsurance_rate': 0.4,\n",
       "     u'copay_amount': 0.0,\n",
       "     u'copay_opt': u'NO-CHARGE',\n",
       "     u'pharmacy_type': u'1-MONTH-IN-RETAIL'},\n",
       "    {u'coinsurance_opt': u'AFTER-DEDUCTIBLE',\n",
       "     u'coinsurance_rate': 0.4,\n",
       "     u'copay_amount': 0.0,\n",
       "     u'copay_opt': u'NO-CHARGE',\n",
       "     u'pharmacy_type': u'1-MONTH-OUT-RETAIL'},\n",
       "    {u'coinsurance_opt': None,\n",
       "     u'coinsurance_rate': 0.0,\n",
       "     u'copay_amount': 0.0,\n",
       "     u'copay_opt': u'NO-CHARGE',\n",
       "     u'pharmacy_type': u'3-MONTH-IN-MAIL'}],\n",
       "   u'drug_tier': u'SELECT',\n",
       "   u'mail_order': True},\n",
       "  {u'cost_sharing': [{u'coinsurance_opt': u'AFTER-DEDUCTIBLE',\n",
       "     u'coinsurance_rate': 0.4,\n",
       "     u'copay_amount': 0.0,\n",
       "     u'copay_opt': u'NO-CHARGE',\n",
       "     u'pharmacy_type': u'1-MONTH-IN-RETAIL'},\n",
       "    {u'coinsurance_opt': u'AFTER-DEDUCTIBLE',\n",
       "     u'coinsurance_rate': 0.4,\n",
       "     u'copay_amount': 0.0,\n",
       "     u'copay_opt': u'NO-CHARGE',\n",
       "     u'pharmacy_type': u'1-MONTH-OUT-RETAIL'},\n",
       "    {u'coinsurance_opt': None,\n",
       "     u'coinsurance_rate': 0.0,\n",
       "     u'copay_amount': 0.0,\n",
       "     u'copay_opt': u'NO-CHARGE',\n",
       "     u'pharmacy_type': u'3-MONTH-IN-MAIL'}],\n",
       "   u'drug_tier': u'PREFERRED',\n",
       "   u'mail_order': True},\n",
       "  {u'cost_sharing': [{u'coinsurance_opt': u'AFTER-DEDUCTIBLE',\n",
       "     u'coinsurance_rate': 0.5,\n",
       "     u'copay_amount': 0.0,\n",
       "     u'copay_opt': u'NO-CHARGE',\n",
       "     u'pharmacy_type': u'1-MONTH-IN-RETAIL'},\n",
       "    {u'coinsurance_opt': u'AFTER-DEDUCTIBLE',\n",
       "     u'coinsurance_rate': 0.5,\n",
       "     u'copay_amount': 0.0,\n",
       "     u'copay_opt': u'NO-CHARGE',\n",
       "     u'pharmacy_type': u'1-MONTH-OUT-RETAIL'},\n",
       "    {u'coinsurance_opt': None,\n",
       "     u'coinsurance_rate': 0.0,\n",
       "     u'copay_amount': 0.0,\n",
       "     u'copay_opt': u'NO-CHARGE',\n",
       "     u'pharmacy_type': u'3-MONTH-IN-MAIL'}],\n",
       "   u'drug_tier': u'BRAND',\n",
       "   u'mail_order': True},\n",
       "  {u'cost_sharing': [{u'coinsurance_opt': u'AFTER-DEDUCTIBLE',\n",
       "     u'coinsurance_rate': 0.5,\n",
       "     u'copay_amount': 0.0,\n",
       "     u'copay_opt': u'NO-CHARGE',\n",
       "     u'pharmacy_type': u'1-MONTH-IN-RETAIL'}],\n",
       "   u'drug_tier': u'SPECIALTY',\n",
       "   u'mail_order': True},\n",
       "  {u'cost_sharing': [{u'coinsurance_opt': None,\n",
       "     u'coinsurance_rate': 0.0,\n",
       "     u'copay_amount': 0.0,\n",
       "     u'copay_opt': u'BEFORE-DEDUCTIBLE',\n",
       "     u'pharmacy_type': u'1-MONTH-IN-RETAIL'}],\n",
       "   u'drug_tier': u'PREVENTIVE',\n",
       "   u'mail_order': True},\n",
       "  {u'cost_sharing': [{u'coinsurance_opt': None,\n",
       "     u'coinsurance_rate': 0.0,\n",
       "     u'copay_amount': 2.0,\n",
       "     u'copay_opt': u'BEFORE-DEDUCTIBLE',\n",
       "     u'pharmacy_type': u'1-MONTH-IN-RETAIL'},\n",
       "    {u'coinsurance_opt': None,\n",
       "     u'coinsurance_rate': 0.0,\n",
       "     u'copay_amount': 2.0,\n",
       "     u'copay_opt': u'BEFORE-DEDUCTIBLE',\n",
       "     u'pharmacy_type': u'1-MONTH-OUT-RETAIL'},\n",
       "    {u'coinsurance_opt': None,\n",
       "     u'coinsurance_rate': 0.0,\n",
       "     u'copay_amount': 0.0,\n",
       "     u'copay_opt': u'NO-CHARGE',\n",
       "     u'pharmacy_type': u'3-MONTH-IN-MAIL'}],\n",
       "   u'drug_tier': u'VALUE',\n",
       "   u'mail_order': True},\n",
       "  {u'cost_sharing': [{u'coinsurance_opt': u'AFTER-DEDUCTIBLE',\n",
       "     u'coinsurance_rate': 0.4,\n",
       "     u'copay_amount': 0.0,\n",
       "     u'copay_opt': u'NO-CHARGE',\n",
       "     u'pharmacy_type': u'1-MONTH-IN-RETAIL'},\n",
       "    {u'coinsurance_opt': u'AFTER-DEDUCTIBLE',\n",
       "     u'coinsurance_rate': 0.4,\n",
       "     u'copay_amount': 0.0,\n",
       "     u'copay_opt': u'NO-CHARGE',\n",
       "     u'pharmacy_type': u'3-MONTH-IN-RETAIL'}],\n",
       "   u'drug_tier': u'MEDICAL-SERVICE-DRUGS',\n",
       "   u'mail_order': True}],\n",
       " u'last_updated_on': u'2016-04-05',\n",
       " u'marketing_name': u'Moda Health Beacon Be Lively',\n",
       " u'marketing_url': u'',\n",
       " u'network': [{u'network_tier': u'PREFERRED'}],\n",
       " u'plan_contact': u'jessica.wagner@modahealth.com',\n",
       " u'plan_id': u'39424OR1480001',\n",
       " u'plan_id_type': u'HIOS-PLAN-ID',\n",
       " u'summary_url': u'https://www.modahealth.com/pdfs/plans/individual/Moda_Beacon_BeLively_2016_OR.pdf'}"
      ]
     },
     "execution_count": 152,
     "metadata": {},
     "output_type": "execute_result"
    }
   ],
   "source": [
    "plan_col.find_one({'plan_id':'39424OR1480001'})"
   ]
  },
  {
   "cell_type": "code",
   "execution_count": 6,
   "metadata": {
    "collapsed": false
   },
   "outputs": [],
   "source": [
    "client.close()"
   ]
  }
 ],
 "metadata": {
  "kernelspec": {
   "display_name": "Python 2",
   "language": "python",
   "name": "python2"
  },
  "language_info": {
   "codemirror_mode": {
    "name": "ipython",
    "version": 2
   },
   "file_extension": ".py",
   "mimetype": "text/x-python",
   "name": "python",
   "nbconvert_exporter": "python",
   "pygments_lexer": "ipython2",
   "version": "2.7.10"
  }
 },
 "nbformat": 4,
 "nbformat_minor": 0
}
