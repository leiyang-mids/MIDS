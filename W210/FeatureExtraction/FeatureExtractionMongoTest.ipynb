{
 "cells": [
  {
   "cell_type": "code",
   "execution_count": 4,
   "metadata": {
    "collapsed": true
   },
   "outputs": [],
   "source": [
    "from sklearn.preprocessing import OneHotEncoder\n",
    "from pymongo import MongoClient\n",
    "from zipfile import ZipFile, ZIP_DEFLATED\n",
    "from sets import Set\n",
    "import numpy as np\n",
    "import json, sys, os, time, re, datetime\n",
    "\n",
    "def logTime():\n",
    "    return str(datetime.datetime.now())"
   ]
  },
  {
   "cell_type": "code",
   "execution_count": 2,
   "metadata": {
    "collapsed": false
   },
   "outputs": [
    {
     "name": "stdout",
     "output_type": "stream",
     "text": [
      "Using aws Mongo, total drug: 46206, total plan: 6035\n"
     ]
    }
   ],
   "source": [
    "local = False\n",
    "if local:\n",
    "    client = MongoClient('fc8iasm01', 27017)\n",
    "    plan_col = client.aca.plan\n",
    "    drug_col = client.aca.drug\n",
    "else:\n",
    "    client = MongoClient('ec2-54-153-83-172.us-west-1.compute.amazonaws.com', 27017)\n",
    "    plan_col = client.plans.plans\n",
    "    drug_col = client.formularies.drugs\n",
    "    prov_col = client.providers.providers\n",
    "    faci_col = client.providers.facilities\n",
    "\n",
    "all_plan = drug_col.distinct('plans.plan_id')\n",
    "all_drug = drug_col.distinct('rxnorm_id')\n",
    "\n",
    "print 'Using %s Mongo, total drug: %d, total plan: %d' %('local' if local else 'aws', len(all_drug), len(all_plan))\n",
    "# client.formularies.scollection_names()\n",
    "# client.providers.collection_names()"
   ]
  },
  {
   "cell_type": "code",
   "execution_count": 5,
   "metadata": {
    "collapsed": false
   },
   "outputs": [
    {
     "name": "stdout",
     "output_type": "stream",
     "text": [
      "2016-07-08 19:34:00.069925: plan document: 12136\n",
      "2016-07-08 19:34:00.153630: drug document: 1540473\n",
      "2016-07-08 19:34:00.256545: unique plan_id: 6035\n",
      "2016-07-08 19:34:00.256672: unique rxnorm_id: 46206\n",
      "2016-07-08 19:34:00.936182: plans with multiple documents: 1148\n",
      "2016-07-08 19:35:34.493746: drugs with multiple documents: 12807\n",
      "2016-07-08 19:35:34.497626: states in the plan: AK, AL, AR, AZ, CO, DE, FL, GA, HI, IA, IL, IN, KS, KY, LA, MA, ME, MI, MN, MO, MS, MT, NC, ND, NE, NH, NJ, NM, NV, OH, OK, OR, PA, SC, SD, TN, TX, UT, VA, WA, WI, WV, WY\n",
      "processing 20 plans for AK ...\n"
     ]
    }
   ],
   "source": [
    "print '%s: plan document: %d' %(logTime(), plan_col.count())\n",
    "print '%s: drug document: %d' %(logTime(), drug_col.count())\n",
    "print '%s: unique plan_id: %d' %(logTime(), len(all_plan))\n",
    "print '%s: unique rxnorm_id: %d' %(logTime(), len(all_drug))\n",
    "\n",
    "multi_plan = [1 for p in plan_col.aggregate([{\"$group\": {\"_id\":\"$plan_id\", \"count\":{\"$sum\":1}}}]) if p['count']>1]\n",
    "print '%s: plans with multiple documents: %d' %(logTime(), sum(multi_plan))\n",
    "\n",
    "multi_drug = [1 for p in drug_col.aggregate([{\"$group\": {\"_id\":\"$rxnorm_id\", \"count\":{\"$sum\":1}}}]) if p['count']>1]\n",
    "print '%s: drugs with multiple documents: %d' %(logTime(), sum(multi_drug))\n",
    "\n",
    "state_id = np.unique([i[5:7] for i in all_plan])\n",
    "print '%s: states in the plan: %s' %(logTime(), ', '.join(state_id))\n",
    "\n",
    "state = 'AK' # set to None to include all (very slow process for all)\n",
    "ex_id = all_plan if not state else [i for i in all_plan if state in i]\n",
    "print '%s: processing %d plans for %s ...' %(logTime(), len(ex_id), 'all' if not state else state)"
   ]
  },
  {
   "cell_type": "markdown",
   "metadata": {
    "collapsed": false
   },
   "source": [
    "###Main program"
   ]
  },
  {
   "cell_type": "code",
   "execution_count": null,
   "metadata": {
    "collapsed": false
   },
   "outputs": [],
   "source": [
    "# ex_id = plan_col.distinct('plan_id')\n",
    "# get formulary state space for all\n",
    "# all_plan_states = getFormularyAllStates(plan_col, ex_id) \n",
    "# extract formulary states for each plan\n",
    "# plan_feature = {p['_id']:[s in p['plan_states'] for s in all_plan_states] for p in getFormularyStatesForPlan(plan_col, ex_id)}\n",
    "# get summary feature for each plan\n",
    "# plan_sumstat = {p['plan']:[p['avg_copay'],p['avg_ci_rate'],p['count']] for p in getFormularyAggregate(plan_col, ex_id)}\n",
    "# get all drugs covered by all plans\n",
    "# all_rxnorm = drug_col.find({'plans.plan_id':{'$in':ex_id}}).distinct('rxnorm_id')\n",
    "# check drug coverage for each plan\n",
    "# drug_coverage = {p['plan']:[rx in p['drug'] for rx in all_rxnorm] for p in getDrugListForPlans(drug_col, ex_id)}\n",
    "# get summary feature for drug\n",
    "# all_drug_states = getDrugAggregateAllStates(drug_col, ex_id)\n",
    "# extract drug sumstat for each plan\n",
    "# drug_sumstat = {}\n",
    "# for p in getDrugAggregateCountForPlans(drug_col, ex_id):\n",
    "#     print '%s: processing drug coverage info for plan %s' %(logTime(), p['plan'])\n",
    "#     state_count = [0]*len(all_drug_states)\n",
    "#     for d in p['drug_state']:\n",
    "#         state_count[all_drug_states.index(d['key'])] = d['cnt']\n",
    "#     drug_sumstat[p['plan']] = state_count\n",
    "# get provider states\n",
    "# all_npi = prov_col.find({'plans.plan_id':{'$in':ex_id}}).distinct('npi')\n",
    "# check provider coverage for each plan\n",
    "# provider_coverage = {p['plan']:[npi in p['npi'] for npi in all_npi] for p in getProviderListForPlans(prov_col, ex_id)}\n",
    "# # get summary feature for provider\n",
    "all_provider_states = getProviderAllStates(prov_col, ex_id)"
   ]
  },
  {
   "cell_type": "code",
   "execution_count": 58,
   "metadata": {
    "collapsed": false,
    "scrolled": false
   },
   "outputs": [
    {
     "data": {
      "text/plain": [
       "3493"
      ]
     },
     "execution_count": 58,
     "metadata": {},
     "output_type": "execute_result"
    }
   ],
   "source": [
    "len(all_npi)"
   ]
  },
  {
   "cell_type": "code",
   "execution_count": 11,
   "metadata": {
    "collapsed": false,
    "scrolled": false
   },
   "outputs": [
    {
     "name": "stdout",
     "output_type": "stream",
     "text": [
      "{u'plan': u'38344AK0620003', u'drug_state': [{u'cnt': 1, u'key': u'SPECIALTY|Y|Y|N'}, {u'cnt': 3, u'key': u'PREFERRED-BRAND|N|N|Y'}, {u'cnt': 10, u'key': u'NONPREFERRED-BRAND|N|Y|N'}, {u'cnt': 61, u'key': u'PREFERRED-BRAND|N|Y|N'}, {u'cnt': 2, u'key': u'PREFERRED-BRAND|Y|N|Y'}, {u'cnt': 281, u'key': u'NONPREFERRED-BRAND|N|N|N'}, {u'cnt': 418, u'key': u'PREFERRED-BRAND|N|N|N'}, {u'cnt': 4, u'key': u'SPECIALTY|Y|N|Y'}, {u'cnt': 1, u'key': u'SPECIALTY|Y|N|N'}, {u'cnt': 6, u'key': u'SPECIALTY|Y|Y|Y'}, {u'cnt': 11, u'key': u'SPECIALTY|N|Y|Y'}, {u'cnt': 10, u'key': u'NONPREFERRED-BRAND|N|N|Y'}, {u'cnt': 58, u'key': u'NONPREFERRED-BRAND|Y|N|Y'}, {u'cnt': 7, u'key': u'NONPREFERRED-BRAND|N|Y|Y'}, {u'cnt': 22, u'key': u'PREFERRED-BRAND|Y|N|N'}, {u'cnt': 156, u'key': u'NONPREFERRED-BRAND|Y|N|N'}, {u'cnt': 173, u'key': u'SPECIALTY|N|N|Y'}, {u'cnt': 243, u'key': u'SPECIALTY|N|N|N'}, {u'cnt': 25, u'key': u'NONPREFERRED-BRAND|Y|Y|N'}, {u'cnt': 115, u'key': u'GENERIC|N|Y|N'}, {u'cnt': 17, u'key': u'PREVENTIVE-ACA|N|Y|N'}, {u'cnt': 3, u'key': u'GENERIC|N|N|Y'}, {u'cnt': 18, u'key': u'SPECIALTY|N|Y|N'}, {u'cnt': 237, u'key': u'PREVENTIVE-ACA|N|N|N'}, {u'cnt': 2391, u'key': u'GENERIC|N|N|N'}]} \n",
      "\n"
     ]
    }
   ],
   "source": [
    "for d in getDrugAggregateCountForPlans(drug_col, ex_id):\n",
    "    print d,'\\n'\n",
    "    break"
   ]
  },
  {
   "cell_type": "code",
   "execution_count": 13,
   "metadata": {
    "collapsed": false,
    "scrolled": false
   },
   "outputs": [
    {
     "data": {
      "text/plain": [
       "58"
      ]
     },
     "execution_count": 13,
     "metadata": {},
     "output_type": "execute_result"
    }
   ],
   "source": [
    "\n",
    "test=getDrugAggregateAllStates(drug_col, ex_id)\n",
    "len(test)\n"
   ]
  },
  {
   "cell_type": "code",
   "execution_count": 29,
   "metadata": {
    "collapsed": false,
    "scrolled": false
   },
   "outputs": [
    {
     "ename": "KeyboardInterrupt",
     "evalue": "",
     "output_type": "error",
     "traceback": [
      "\u001b[0;31m---------------------------------------------------------------------------\u001b[0m",
      "\u001b[0;31mKeyboardInterrupt\u001b[0m                         Traceback (most recent call last)",
      "\u001b[0;32m<ipython-input-29-c4ef79a5a39e>\u001b[0m in \u001b[0;36m<module>\u001b[0;34m()\u001b[0m\n\u001b[1;32m     75\u001b[0m \u001b[0;34m\u001b[0m\u001b[0m\n\u001b[1;32m     76\u001b[0m \u001b[0mi\u001b[0m\u001b[0;34m=\u001b[0m\u001b[0;36m0\u001b[0m\u001b[0;34m\u001b[0m\u001b[0m\n\u001b[0;32m---> 77\u001b[0;31m \u001b[0;32mfor\u001b[0m \u001b[0mp\u001b[0m \u001b[0;32min\u001b[0m \u001b[0mgetProviderStateForPlans\u001b[0m\u001b[0;34m(\u001b[0m\u001b[0mprov_col\u001b[0m\u001b[0;34m,\u001b[0m \u001b[0;34m[\u001b[0m\u001b[0;34m'38344AK0620006'\u001b[0m\u001b[0;34m,\u001b[0m \u001b[0;34m'73836AK0860002'\u001b[0m\u001b[0;34m]\u001b[0m\u001b[0;34m)\u001b[0m\u001b[0;34m:\u001b[0m\u001b[0;34m\u001b[0m\u001b[0m\n\u001b[0m\u001b[1;32m     78\u001b[0m     \u001b[0;32mprint\u001b[0m \u001b[0mp\u001b[0m\u001b[0;34m[\u001b[0m\u001b[0;34m'_id'\u001b[0m\u001b[0;34m]\u001b[0m\u001b[0;34m,\u001b[0m\u001b[0mlen\u001b[0m\u001b[0;34m(\u001b[0m\u001b[0mp\u001b[0m\u001b[0;34m[\u001b[0m\u001b[0;34m'plan_states'\u001b[0m\u001b[0;34m]\u001b[0m\u001b[0;34m)\u001b[0m\u001b[0;34m\u001b[0m\u001b[0m\n\u001b[1;32m     79\u001b[0m \u001b[0;31m#     break\u001b[0m\u001b[0;34m\u001b[0m\u001b[0;34m\u001b[0m\u001b[0m\n",
      "\u001b[0;32m<ipython-input-29-c4ef79a5a39e>\u001b[0m in \u001b[0;36mgetProviderStateForPlans\u001b[0;34m(provider_collection, plans)\u001b[0m\n\u001b[1;32m     68\u001b[0m             {'$group':{\n\u001b[1;32m     69\u001b[0m                     \u001b[0;34m'_id'\u001b[0m\u001b[0;34m:\u001b[0m\u001b[0;34m'$plan'\u001b[0m\u001b[0;34m,\u001b[0m\u001b[0;34m\u001b[0m\u001b[0m\n\u001b[0;32m---> 70\u001b[0;31m                     \u001b[0;34m'plan_states'\u001b[0m\u001b[0;34m:\u001b[0m\u001b[0;34m{\u001b[0m\u001b[0;34m'$push'\u001b[0m\u001b[0;34m:\u001b[0m\u001b[0;34m{\u001b[0m\u001b[0;34m'key'\u001b[0m\u001b[0;34m:\u001b[0m\u001b[0;34m'$prov_state'\u001b[0m\u001b[0;34m,\u001b[0m\u001b[0;34m'count'\u001b[0m\u001b[0;34m:\u001b[0m\u001b[0;34m'$count'\u001b[0m\u001b[0;34m,\u001b[0m\u001b[0;34m'location'\u001b[0m\u001b[0;34m:\u001b[0m\u001b[0;34m'$location'\u001b[0m\u001b[0;34m}\u001b[0m\u001b[0;34m}\u001b[0m\u001b[0;34m\u001b[0m\u001b[0m\n\u001b[0m\u001b[1;32m     71\u001b[0m                 }                \n\u001b[1;32m     72\u001b[0m             },\n",
      "\u001b[0;32m/Users/leiyang/anaconda/lib/python2.7/site-packages/pymongo/collection.pyc\u001b[0m in \u001b[0;36maggregate\u001b[0;34m(self, pipeline, **kwargs)\u001b[0m\n\u001b[1;32m   1671\u001b[0m                                            read_concern=self.read_concern)\n\u001b[1;32m   1672\u001b[0m             \u001b[0;32melse\u001b[0m\u001b[0;34m:\u001b[0m\u001b[0;34m\u001b[0m\u001b[0m\n\u001b[0;32m-> 1673\u001b[0;31m                 \u001b[0mresult\u001b[0m \u001b[0;34m=\u001b[0m \u001b[0mself\u001b[0m\u001b[0;34m.\u001b[0m\u001b[0m_command\u001b[0m\u001b[0;34m(\u001b[0m\u001b[0msock_info\u001b[0m\u001b[0;34m,\u001b[0m \u001b[0mcmd\u001b[0m\u001b[0;34m,\u001b[0m \u001b[0mslave_ok\u001b[0m\u001b[0;34m)\u001b[0m\u001b[0;34m\u001b[0m\u001b[0m\n\u001b[0m\u001b[1;32m   1674\u001b[0m \u001b[0;34m\u001b[0m\u001b[0m\n\u001b[1;32m   1675\u001b[0m             \u001b[0;32mif\u001b[0m \u001b[0;34m\"cursor\"\u001b[0m \u001b[0;32min\u001b[0m \u001b[0mresult\u001b[0m\u001b[0;34m:\u001b[0m\u001b[0;34m\u001b[0m\u001b[0m\n",
      "\u001b[0;32m/Users/leiyang/anaconda/lib/python2.7/site-packages/pymongo/collection.pyc\u001b[0m in \u001b[0;36m_command\u001b[0;34m(self, sock_info, command, slave_ok, read_preference, codec_options, check, allowable_errors, read_concern)\u001b[0m\n\u001b[1;32m    203\u001b[0m                                  \u001b[0mcheck\u001b[0m\u001b[0;34m,\u001b[0m\u001b[0;34m\u001b[0m\u001b[0m\n\u001b[1;32m    204\u001b[0m                                  \u001b[0mallowable_errors\u001b[0m\u001b[0;34m,\u001b[0m\u001b[0;34m\u001b[0m\u001b[0m\n\u001b[0;32m--> 205\u001b[0;31m                                  read_concern=read_concern)\n\u001b[0m\u001b[1;32m    206\u001b[0m \u001b[0;34m\u001b[0m\u001b[0m\n\u001b[1;32m    207\u001b[0m     \u001b[0;32mdef\u001b[0m \u001b[0m__create\u001b[0m\u001b[0;34m(\u001b[0m\u001b[0mself\u001b[0m\u001b[0;34m,\u001b[0m \u001b[0moptions\u001b[0m\u001b[0;34m)\u001b[0m\u001b[0;34m:\u001b[0m\u001b[0;34m\u001b[0m\u001b[0m\n",
      "\u001b[0;32m/Users/leiyang/anaconda/lib/python2.7/site-packages/pymongo/pool.pyc\u001b[0m in \u001b[0;36mcommand\u001b[0;34m(self, dbname, spec, slave_ok, read_preference, codec_options, check, allowable_errors, check_keys, read_concern)\u001b[0m\n\u001b[1;32m    216\u001b[0m         \u001b[0;31m# Catch socket.error, KeyboardInterrupt, etc. and close ourselves.\u001b[0m\u001b[0;34m\u001b[0m\u001b[0;34m\u001b[0m\u001b[0m\n\u001b[1;32m    217\u001b[0m         \u001b[0;32mexcept\u001b[0m \u001b[0mBaseException\u001b[0m \u001b[0;32mas\u001b[0m \u001b[0merror\u001b[0m\u001b[0;34m:\u001b[0m\u001b[0;34m\u001b[0m\u001b[0m\n\u001b[0;32m--> 218\u001b[0;31m             \u001b[0mself\u001b[0m\u001b[0;34m.\u001b[0m\u001b[0m_raise_connection_failure\u001b[0m\u001b[0;34m(\u001b[0m\u001b[0merror\u001b[0m\u001b[0;34m)\u001b[0m\u001b[0;34m\u001b[0m\u001b[0m\n\u001b[0m\u001b[1;32m    219\u001b[0m \u001b[0;34m\u001b[0m\u001b[0m\n\u001b[1;32m    220\u001b[0m     \u001b[0;32mdef\u001b[0m \u001b[0msend_message\u001b[0m\u001b[0;34m(\u001b[0m\u001b[0mself\u001b[0m\u001b[0;34m,\u001b[0m \u001b[0mmessage\u001b[0m\u001b[0;34m,\u001b[0m \u001b[0mmax_doc_size\u001b[0m\u001b[0;34m)\u001b[0m\u001b[0;34m:\u001b[0m\u001b[0;34m\u001b[0m\u001b[0m\n",
      "\u001b[0;32m/Users/leiyang/anaconda/lib/python2.7/site-packages/pymongo/pool.pyc\u001b[0m in \u001b[0;36m_raise_connection_failure\u001b[0;34m(self, error)\u001b[0m\n\u001b[1;32m    344\u001b[0m             \u001b[0m_raise_connection_failure\u001b[0m\u001b[0;34m(\u001b[0m\u001b[0mself\u001b[0m\u001b[0;34m.\u001b[0m\u001b[0maddress\u001b[0m\u001b[0;34m,\u001b[0m \u001b[0merror\u001b[0m\u001b[0;34m)\u001b[0m\u001b[0;34m\u001b[0m\u001b[0m\n\u001b[1;32m    345\u001b[0m         \u001b[0;32melse\u001b[0m\u001b[0;34m:\u001b[0m\u001b[0;34m\u001b[0m\u001b[0m\n\u001b[0;32m--> 346\u001b[0;31m             \u001b[0;32mraise\u001b[0m \u001b[0merror\u001b[0m\u001b[0;34m\u001b[0m\u001b[0m\n\u001b[0m\u001b[1;32m    347\u001b[0m \u001b[0;34m\u001b[0m\u001b[0m\n\u001b[1;32m    348\u001b[0m     \u001b[0;32mdef\u001b[0m \u001b[0m__eq__\u001b[0m\u001b[0;34m(\u001b[0m\u001b[0mself\u001b[0m\u001b[0;34m,\u001b[0m \u001b[0mother\u001b[0m\u001b[0;34m)\u001b[0m\u001b[0;34m:\u001b[0m\u001b[0;34m\u001b[0m\u001b[0m\n",
      "\u001b[0;31mKeyboardInterrupt\u001b[0m: "
     ]
    }
   ],
   "source": [
    "\n",
    "\n",
    "i=0\n",
    "for p in getProviderStateForPlans(prov_col, ['38344AK0620006', '73836AK0860002']):\n",
    "    print p['_id'],len(p['plan_states'])\n",
    "#     break\n",
    "\n"
   ]
  },
  {
   "cell_type": "code",
   "execution_count": 24,
   "metadata": {
    "collapsed": false
   },
   "outputs": [
    {
     "data": {
      "text/plain": [
       "{u'_id': ObjectId('577606dcc421d272dcd7deaa'),\n",
       " u'accepting': u'accepting',\n",
       " u'addresses': [{u'address': u'2235 DUBOIS DR',\n",
       "   u'address_2': u'',\n",
       "   u'city': u'WARSAW',\n",
       "   u'phone': u'2604232567',\n",
       "   u'state': u'IN',\n",
       "   u'zip': u'46580'}],\n",
       " u'facility_name': u'',\n",
       " u'facility_type': [],\n",
       " u'gender': u'Male',\n",
       " u'languages': [u'SPANISH'],\n",
       " u'last_updated_on': u'2016-06-18',\n",
       " u'name': {u'first': u'ALAN R', u'last': u'GILBERT MD'},\n",
       " u'npi': u'1215961677',\n",
       " u'plans': [{u'network_tier': u'PHP-SELECT',\n",
       "   u'plan_id': u'50816IN0200001',\n",
       "   u'plan_id_type': u'HIOS-PLAN-ID'},\n",
       "  {u'network_tier': u'PHP-SELECT',\n",
       "   u'plan_id': u'50816IN0200004',\n",
       "   u'plan_id_type': u'HIOS-PLAN-ID'},\n",
       "  {u'network_tier': u'PHP-SELECT',\n",
       "   u'plan_id': u'50816IN0200007',\n",
       "   u'plan_id_type': u'HIOS-PLAN-ID'},\n",
       "  {u'network_tier': u'PHP-SELECT',\n",
       "   u'plan_id': u'50816IN0200010',\n",
       "   u'plan_id_type': u'HIOS-PLAN-ID'},\n",
       "  {u'network_tier': u'PHP-SELECT',\n",
       "   u'plan_id': u'50816IN0200013',\n",
       "   u'plan_id_type': u'HIOS-PLAN-ID'},\n",
       "  {u'network_tier': u'PHP-SELECT',\n",
       "   u'plan_id': u'50816IN0200016',\n",
       "   u'plan_id_type': u'HIOS-PLAN-ID'},\n",
       "  {u'network_tier': u'PHP-SELECT',\n",
       "   u'plan_id': u'50816IN0200022',\n",
       "   u'plan_id_type': u'HIOS-PLAN-ID'},\n",
       "  {u'network_tier': u'PHP-SELECT',\n",
       "   u'plan_id': u'50816IN0200025',\n",
       "   u'plan_id_type': u'HIOS-PLAN-ID'},\n",
       "  {u'network_tier': u'PHP-SELECT',\n",
       "   u'plan_id': u'50816IN0230002',\n",
       "   u'plan_id_type': u'HIOS-PLAN-ID'},\n",
       "  {u'network_tier': u'PHP-SELECT',\n",
       "   u'plan_id': u'50816IN0230004',\n",
       "   u'plan_id_type': u'HIOS-PLAN-ID'},\n",
       "  {u'network_tier': u'PHP-SELECT',\n",
       "   u'plan_id': u'50816IN0230006',\n",
       "   u'plan_id_type': u'HIOS-PLAN-ID'},\n",
       "  {u'network_tier': u'PHP-SELECT',\n",
       "   u'plan_id': u'50816IN0230008',\n",
       "   u'plan_id_type': u'HIOS-PLAN-ID'},\n",
       "  {u'network_tier': u'PHP-SELECT',\n",
       "   u'plan_id': u'50816IN0230010',\n",
       "   u'plan_id_type': u'HIOS-PLAN-ID'},\n",
       "  {u'network_tier': u'PHP-SELECT',\n",
       "   u'plan_id': u'50816IN0230012',\n",
       "   u'plan_id_type': u'HIOS-PLAN-ID'}],\n",
       " u'speciality': [u'DERMATOLOGY'],\n",
       " u'type': u'INDIVIDUAL'}"
      ]
     },
     "execution_count": 24,
     "metadata": {},
     "output_type": "execute_result"
    }
   ],
   "source": [
    "# prov_col.count()\n",
    "prov_col.find_one({'facility_name':{'$exists':True}})"
   ]
  },
  {
   "cell_type": "code",
   "execution_count": 27,
   "metadata": {
    "collapsed": false
   },
   "outputs": [
    {
     "data": {
      "text/plain": [
       "{u'_id': ObjectId('5775ff89c421d272dcd6877c'),\n",
       " u'addresses': [{u'address': u'4909 W DIVISION',\n",
       "   u'address_2': u'',\n",
       "   u'city': u'CHICAGO',\n",
       "   u'phone': u'7732871200',\n",
       "   u'state': u'IL',\n",
       "   u'zip': u'60651'}],\n",
       " u'facility_name': u'RISHI PHARMACY INC',\n",
       " u'facility_type': [u'Pharmacy'],\n",
       " u'last_updated_on': u'2015-09-30',\n",
       " u'npi': u'1316955651',\n",
       " u'plans': [{u'name': u'Health Republic Full Access Core Platinum',\n",
       "   u'network_tier': u'PREFERRED',\n",
       "   u'plan_id': u'10191NJ0050003',\n",
       "   u'plan_id_type': u'HIOS-PLAN-ID'},\n",
       "  {u'name': u'Health Republic Full Access Core Gold',\n",
       "   u'network_tier': u'PREFERRED',\n",
       "   u'plan_id': u'10191NJ0050002',\n",
       "   u'plan_id_type': u'HIOS-PLAN-ID'},\n",
       "  {u'name': u'Health Republic Full Access Core Silver',\n",
       "   u'network_tier': u'PREFERRED',\n",
       "   u'plan_id': u'10191NJ0050001',\n",
       "   u'plan_id_type': u'HIOS-PLAN-ID'},\n",
       "  {u'name': u'Health Republic Monmouth County Community Plan Bronze',\n",
       "   u'network_tier': u'PREFERRED',\n",
       "   u'plan_id': u'10191NJ0180001',\n",
       "   u'plan_id_type': u'HIOS-PLAN-ID'},\n",
       "  {u'name': u'Health Republic Full Access Prime Silver',\n",
       "   u'network_tier': u'PREFERRED',\n",
       "   u'plan_id': u'10191NJ0030002',\n",
       "   u'plan_id_type': u'HIOS-PLAN-ID'},\n",
       "  {u'name': u'Health Republic Full Access Prime Bronze',\n",
       "   u'network_tier': u'PREFERRED',\n",
       "   u'plan_id': u'10191NJ0030001',\n",
       "   u'plan_id_type': u'HIOS-PLAN-ID'},\n",
       "  {u'name': u'Health Republic Full Access Pure Platinum',\n",
       "   u'network_tier': u'PREFERRED',\n",
       "   u'plan_id': u'10191NJ0290004',\n",
       "   u'plan_id_type': u'HIOS-PLAN-ID'},\n",
       "  {u'name': u'Health Republic Full Access Pure Gold',\n",
       "   u'network_tier': u'PREFERRED',\n",
       "   u'plan_id': u'10191NJ0290003',\n",
       "   u'plan_id_type': u'HIOS-PLAN-ID'},\n",
       "  {u'name': u'Health Republic Full Access Pure Silver',\n",
       "   u'network_tier': u'PREFERRED',\n",
       "   u'plan_id': u'10191NJ0290002',\n",
       "   u'plan_id_type': u'HIOS-PLAN-ID'},\n",
       "  {u'name': u'Health Republic Full Access Pure Bronze',\n",
       "   u'network_tier': u'PREFERRED',\n",
       "   u'plan_id': u'10191NJ0290001',\n",
       "   u'plan_id_type': u'HIOS-PLAN-ID'},\n",
       "  {u'name': u'Health Republic Full Access Solid Gold',\n",
       "   u'network_tier': u'PREFERRED',\n",
       "   u'plan_id': u'10191NJ0070003',\n",
       "   u'plan_id_type': u'HIOS-PLAN-ID'},\n",
       "  {u'name': u'Health Republic Full Access Solid Silver',\n",
       "   u'network_tier': u'PREFERRED',\n",
       "   u'plan_id': u'10191NJ0070002',\n",
       "   u'plan_id_type': u'HIOS-PLAN-ID'},\n",
       "  {u'name': u'Health Republic Full Access Solid Bronze',\n",
       "   u'network_tier': u'PREFERRED',\n",
       "   u'plan_id': u'10191NJ0070001',\n",
       "   u'plan_id_type': u'HIOS-PLAN-ID'},\n",
       "  {u'name': u'Health Republic Active Access Spotlight Platinum',\n",
       "   u'network_tier': u'PREFERRED',\n",
       "   u'plan_id': u'10191NJ0190004',\n",
       "   u'plan_id_type': u'HIOS-PLAN-ID'},\n",
       "  {u'name': u'Health Republic Active Access Spotlight Silver',\n",
       "   u'network_tier': u'PREFERRED',\n",
       "   u'plan_id': u'10191NJ0190002',\n",
       "   u'plan_id_type': u'HIOS-PLAN-ID'},\n",
       "  {u'name': u'Health Republic Active Access Spotlight Bronze',\n",
       "   u'network_tier': u'PREFERRED',\n",
       "   u'plan_id': u'10191NJ0190001',\n",
       "   u'plan_id_type': u'HIOS-PLAN-ID'},\n",
       "  {u'name': u'Health Republic Vital',\n",
       "   u'network_tier': u'PREFERRED',\n",
       "   u'plan_id': u'10191NJ0150001',\n",
       "   u'plan_id_type': u'HIOS-PLAN-ID'}],\n",
       " u'type': u'FACILITY'}"
      ]
     },
     "execution_count": 27,
     "metadata": {},
     "output_type": "execute_result"
    }
   ],
   "source": [
    "faci_col.find_one() #{'npi':'1215961677'})"
   ]
  },
  {
   "cell_type": "code",
   "execution_count": 6,
   "metadata": {
    "collapsed": false
   },
   "outputs": [],
   "source": [
    "client.close()\n",
    "%reset"
   ]
  }
 ],
 "metadata": {
  "kernelspec": {
   "display_name": "Python 2",
   "language": "python",
   "name": "python2"
  },
  "language_info": {
   "codemirror_mode": {
    "name": "ipython",
    "version": 2
   },
   "file_extension": ".py",
   "mimetype": "text/x-python",
   "name": "python",
   "nbconvert_exporter": "python",
   "pygments_lexer": "ipython2",
   "version": "2.7.9"
  }
 },
 "nbformat": 4,
 "nbformat_minor": 0
}
