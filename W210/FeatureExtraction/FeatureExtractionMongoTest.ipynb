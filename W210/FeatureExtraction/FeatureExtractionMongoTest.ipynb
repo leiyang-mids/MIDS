{
 "cells": [
  {
   "cell_type": "code",
   "execution_count": 1,
   "metadata": {
    "collapsed": true
   },
   "outputs": [],
   "source": [
    "from sklearn.preprocessing import OneHotEncoder\n",
    "from pymongo import MongoClient\n",
    "from zipfile import ZipFile, ZIP_DEFLATED\n",
    "from scipy.sparse import *\n",
    "from sets import Set\n",
    "import numpy as np\n",
    "import json, sys, os, time, re, datetime\n",
    "\n",
    "def logTime():\n",
    "    return str(datetime.datetime.now())"
   ]
  },
  {
   "cell_type": "code",
   "execution_count": 92,
   "metadata": {
    "collapsed": true
   },
   "outputs": [],
   "source": [
    "%reload_ext autoreload\n",
    "%autoreload 2\n",
    "from aca_drug_feature import *\n",
    "from aca_plan_feature import *\n",
    "from aca_provider_feature import *"
   ]
  },
  {
   "cell_type": "code",
   "execution_count": 3,
   "metadata": {
    "collapsed": false
   },
   "outputs": [
    {
     "name": "stdout",
     "output_type": "stream",
     "text": [
      "Using aws Mongo, total drug: 46206, total plan: 6035\n"
     ]
    }
   ],
   "source": [
    "local = False\n",
    "if local:\n",
    "    client = MongoClient('fc8iasm01', 27017)\n",
    "    plan_col = client.aca.plan\n",
    "    drug_col = client.aca.drug\n",
    "else:\n",
    "    client = MongoClient('ec2-54-153-83-172.us-west-1.compute.amazonaws.com', 27017)\n",
    "    plan_col = client.plans.plans\n",
    "    drug_col = client.formularies.drugs\n",
    "    prov_col = client.providers.providers\n",
    "    faci_col = client.providers.facilities\n",
    "\n",
    "all_plan = drug_col.distinct('plans.plan_id')\n",
    "all_drug = drug_col.distinct('rxnorm_id')\n",
    "\n",
    "print '%s: using %s Mongo, total drug: %d, total plan: %d, total provider: %d' %(\n",
    "    logTime(), 'local' if local else 'aws', len(all_drug), len(all_plan), prov_col.count())\n",
    "# client.formularies.scollection_names()\n",
    "# client.providers.collection_names()"
   ]
  },
  {
   "cell_type": "code",
   "execution_count": 5,
   "metadata": {
    "collapsed": false
   },
   "outputs": [
    {
     "name": "stdout",
     "output_type": "stream",
     "text": [
      "2016-07-09 09:32:28.660514: plan document: 12136\n",
      "2016-07-09 09:32:28.744694: drug document: 1540473\n",
      "2016-07-09 09:32:28.832037: provider document: 8799098\n",
      "2016-07-09 09:32:28.931804: facility document: 4815321\n",
      "2016-07-09 09:32:29.014277: unique plan_id: 6035\n",
      "2016-07-09 09:32:29.014387: unique rxnorm_id: 46206\n",
      "2016-07-09 09:32:29.016927: states in the plan: AK, AL, AR, AZ, CO, DE, FL, GA, HI, IA, IL, IN, KS, KY, LA, MA, ME, MI, MN, MO, MS, MT, NC, ND, NE, NH, NJ, NM, NV, OH, OK, OR, PA, SC, SD, TN, TX, UT, VA, WA, WI, WV, WY\n"
     ]
    }
   ],
   "source": [
    "print '%s: plan document: %d' %(logTime(), plan_col.count())\n",
    "print '%s: drug document: %d' %(logTime(), drug_col.count())\n",
    "print '%s: provider document: %d' %(logTime(), prov_col.count())\n",
    "print '%s: facility document: %d' %(logTime(), faci_col.count())\n",
    "print '%s: unique plan_id: %d' %(logTime(), len(all_plan))\n",
    "print '%s: unique rxnorm_id: %d' %(logTime(), len(all_drug))\n",
    "\n",
    "# multi_plan = [1 for p in plan_col.aggregate([{\"$group\": {\"_id\":\"$plan_id\", \"count\":{\"$sum\":1}}}]) if p['count']>1]\n",
    "# print '%s: plans with multiple documents: %d' %(logTime(), sum(multi_plan))\n",
    "\n",
    "# multi_drug = [1 for p in drug_col.aggregate([{\"$group\": {\"_id\":\"$rxnorm_id\", \"count\":{\"$sum\":1}}}]) if p['count']>1]\n",
    "# print '%s: drugs with multiple documents: %d' %(logTime(), sum(multi_drug))\n",
    "\n",
    "state_id = np.unique([i[5:7] for i in all_plan])\n",
    "print '%s: states in the plan: %s' %(logTime(), ', '.join(state_id))"
   ]
  },
  {
   "cell_type": "markdown",
   "metadata": {
    "collapsed": false
   },
   "source": [
    "###Main program"
   ]
  },
  {
   "cell_type": "code",
   "execution_count": 94,
   "metadata": {
    "collapsed": false
   },
   "outputs": [
    {
     "name": "stdout",
     "output_type": "stream",
     "text": [
      "2016-07-09 13:09:18.225952: processing 190 plans for OR\n",
      "2016-07-09 13:09:18.226057: 1/11 get formulary state space for all plans\n",
      "2016-07-09 13:09:18.555002: total formulary states: 107\n",
      "2016-07-09 13:09:18.555753: 2/11 extract formulary states for each plan\n",
      "2016-07-09 13:09:19.195953: complete for 172 plans\n",
      "2016-07-09 13:09:19.196544: 4/11 get all drugs covered by all plans\n",
      "2016-07-09 13:09:22.564035: total rx: 10632\n",
      "2016-07-09 13:09:22.564778: 5/11 check drug coverage for each plan\n",
      "2016-07-09 13:10:39.341875: complete for 172 plans\n",
      "2016-07-09 13:10:39.342471: 6/11 get summary feature for drug\n",
      "2016-07-09 13:10:50.751716: total drug states: 82\n",
      "2016-07-09 13:10:50.752472: 7/11 extract drug sumstat for each plan\n",
      "2016-07-09 13:11:03.301169: complete for 172 plans\n",
      "2016-07-09 13:11:03.301870: 8/11 get provider under the plans\n",
      "2016-07-09 13:11:06.175087: total providers: 41031\n",
      "2016-07-09 13:11:06.175636: 9/11 check provider coverage for each plan\n",
      "2016-07-09 13:23:10.280560: complete for 164 plans\n",
      "2016-07-09 13:23:10.281643: 10/11 get summary feature for provider\n",
      "2016-07-09 13:23:29.828090: total provider summary: 4864\n",
      "2016-07-09 13:23:29.828829: 11/11 extract provider sumstat for each plan\n",
      "2016-07-09 13:23:58.653792: complete for 164 plans\n"
     ]
    }
   ],
   "source": [
    "state = 'OR' # set to None to include all (very slow process for all)\n",
    "ex_id = all_plan if not state else [i for i in all_plan if state in i]\n",
    "n_plan = len(ex_id)\n",
    "print '%s: processing %d plans for %s' %(logTime(), len(ex_id), 'all' if not state else state)\n",
    "\n",
    "print '%s: 1/11 get formulary state space for all plans' %logTime()\n",
    "all_plan_states = getFormularyAllStates1(plan_col, ex_id) + \\\n",
    "                  getFormularyAllStates2(plan_col, ex_id) + \\\n",
    "                  getFormularyAllStates3(plan_col, ex_id) \n",
    "print '%s: total formulary states: %d' %(logTime(), len(all_plan_states))\n",
    "\n",
    "print '%s: 2/11 extract formulary states for each plan' %logTime()\n",
    "plan_feature = lil_matrix((n_plan, len(all_plan_states)))\n",
    "valid_plan1 = []\n",
    "for f in [getFormularyStatesForPlan1,getFormularyStatesForPlan2,getFormularyStatesForPlan3]:\n",
    "    for p in f(plan_col, ex_id):\n",
    "        r_id = ex_id.index(p['_id'])\n",
    "        valid_plan1.append(p['_id'])\n",
    "        for s in p['plan_states']:\n",
    "            plan_feature[r_id, all_plan_states.index(s)] = 1        \n",
    "print '%s: complete for %d plans' %(logTime(), len(valid_plan1))\n",
    "\n",
    "# print '%s: 3/11 get formulary summary feature for each plan' %logTime()\n",
    "# plan_sumstat = [[0]*3]*n_plan\n",
    "# for p in getFormularyAggregate(plan_col, ex_id):\n",
    "#     r_id = ex_id.index(p['plan'])\n",
    "#     plan_sumstat[r_id] = [p['avg_copay'],p['avg_ci_rate'],p['count']]\n",
    "# print '%s: complete for %d plans' %(logTime(), i)\n",
    "    \n",
    "print '%s: 4/11 get all drugs covered by all plans' %logTime()\n",
    "all_rxnorm = drug_col.find({'plans.plan_id':{'$in':valid_plan1}}).distinct('rxnorm_id')\n",
    "print '%s: total rx: %d' %(logTime(), len(all_rxnorm))\n",
    "\n",
    "print '%s: 5/11 check drug coverage for each plan' %logTime()\n",
    "drug_coverage = lil_matrix((n_plan, len(all_rxnorm)))\n",
    "valid_plan2 = []\n",
    "for p in getDrugListForPlans(drug_col, valid_plan1):\n",
    "    valid_plan2.append(p['plan'])\n",
    "    r_id = ex_id.index(p['plan'])\n",
    "    for r in p['drug']:\n",
    "        drug_coverage[r_id, all_rxnorm.index(r)] = 1\n",
    "print '%s: complete for %d plans' %(logTime(), len(valid_plan2))\n",
    "\n",
    "print '%s: 6/11 get summary feature for drug' %logTime()\n",
    "all_drug_states = getDrugAggregateAllStates(drug_col, valid_plan2)\n",
    "print '%s: total drug states: %d' %(logTime(), len(all_drug_states))\n",
    "\n",
    "print '%s: 7/11 extract drug sumstat for each plan' %logTime()\n",
    "drug_sumstat = lil_matrix((n_plan, len(all_drug_states)))\n",
    "valid_plan3 = []\n",
    "for p in getDrugAggregateCountForPlans(drug_col, valid_plan2):\n",
    "    valid_plan3.append(p['plan'])\n",
    "    r_id = ex_id.index(p['plan'])\n",
    "    for d in p['drug_state']:\n",
    "        drug_sumstat[r_id, all_drug_states.index(d['key'])] = d['cnt']\n",
    "print '%s: complete for %d plans' %(logTime(), len(valid_plan3))\n",
    "\n",
    "print '%s: 8/11 get provider under the plans' %logTime()\n",
    "all_npi = prov_col.find({'plans.plan_id':{'$in':valid_plan3}}).distinct('npi')\n",
    "print '%s: total providers: %d' %(logTime(), len(all_npi))\n",
    "\n",
    "print '%s: 9/11 check provider coverage for each plan' %logTime() ##### slow #####\n",
    "provider_coverage = lil_matrix((n_plan, len(all_npi)))\n",
    "valid_plan4 = []\n",
    "for p in getProviderListForPlans(prov_col, valid_plan3):\n",
    "    valid_plan4.append(p['plan'])\n",
    "    r_id = ex_id.index(p['plan'])\n",
    "    for npi in p['npi']:\n",
    "        provider_coverage[r_id, all_npi.index(npi)] = 1\n",
    "print '%s: complete for %d plans' %(logTime(), len(valid_plan4))\n",
    "\n",
    "print '%s: 10/11 get summary feature for provider' %logTime()\n",
    "all_provider_states = getProviderAllStates(prov_col, valid_plan4)\n",
    "print '%s: total provider summary: %d' %(logTime(), len(all_provider_states))\n",
    "\n",
    "print '%s: 11/11 extract provider sumstat for each plan' %logTime()\n",
    "provider_sumstat = lil_matrix((n_plan, len(all_provider_states)))\n",
    "valid_plan5 = []\n",
    "for p in getProviderStateForPlans(prov_col, valid_plan4):\n",
    "    r_id = ex_id.index(p['_id'])\n",
    "    valid_plan5.append(p['_id'])\n",
    "    for d in p['plan_states']:\n",
    "        provider_sumstat[r_id, all_provider_states.index(d['key'])] = d['count'] #[d['count'], d['location']]\n",
    "print '%s: complete for %d plans' %(logTime(), len(valid_plan5))"
   ]
  },
  {
   "cell_type": "code",
   "execution_count": 125,
   "metadata": {
    "collapsed": false,
    "scrolled": false
   },
   "outputs": [
    {
     "name": "stdout",
     "output_type": "stream",
     "text": [
      "2016-07-09 13:37:29.888316: feature dimension: (164, 56716)\n"
     ]
    }
   ],
   "source": [
    "# combine features\n",
    "feature_mat = [plan_feature, drug_coverage, drug_sumstat, provider_coverage, provider_sumstat]\n",
    "n_fea = sum(m.shape[1] for m in feature_mat)\n",
    "total_feature = lil_matrix((len(valid_plan5), n_fea))\n",
    "for i in range(len(valid_plan5)):\n",
    "    r_id = ex_id.index(valid_plan5[i])\n",
    "    total_feature[i] = hstack([m.getrow(r_id) for m in feature_mat])\n",
    "print '%s: feature dimension: %s' %(logTime(), total_feature.shape)    \n"
   ]
  },
  {
   "cell_type": "markdown",
   "metadata": {},
   "source": [
    "###sparse matrix manual mode"
   ]
  },
  {
   "cell_type": "code",
   "execution_count": 127,
   "metadata": {
    "collapsed": false
   },
   "outputs": [
    {
     "data": {
      "text/plain": [
       "10.0"
      ]
     },
     "execution_count": 127,
     "metadata": {},
     "output_type": "execute_result"
    }
   ],
   "source": [
    "# initialize as lil\n",
    "# test = lil_matrix((3,18))\n",
    "# test[2] = range(18)\n",
    "test[2,10]"
   ]
  },
  {
   "cell_type": "code",
   "execution_count": 128,
   "metadata": {
    "collapsed": true
   },
   "outputs": [],
   "source": [
    "# convert to csr\n",
    "t2=csr_matrix(total_feature)"
   ]
  },
  {
   "cell_type": "code",
   "execution_count": 11,
   "metadata": {
    "collapsed": false
   },
   "outputs": [
    {
     "name": "stdout",
     "output_type": "stream",
     "text": [
      "Once deleted, variables cannot be recovered. Proceed (y/[n])? y\n"
     ]
    }
   ],
   "source": [
    "client.close()\n",
    "%reset"
   ]
  }
 ],
 "metadata": {
  "kernelspec": {
   "display_name": "Python 2",
   "language": "python",
   "name": "python2"
  },
  "language_info": {
   "codemirror_mode": {
    "name": "ipython",
    "version": 2
   },
   "file_extension": ".py",
   "mimetype": "text/x-python",
   "name": "python",
   "nbconvert_exporter": "python",
   "pygments_lexer": "ipython2",
   "version": "2.7.9"
  }
 },
 "nbformat": 4,
 "nbformat_minor": 0
}
