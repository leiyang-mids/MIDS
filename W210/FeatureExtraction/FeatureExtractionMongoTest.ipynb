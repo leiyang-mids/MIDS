{
 "cells": [
  {
   "cell_type": "code",
   "execution_count": 12,
   "metadata": {
    "collapsed": true
   },
   "outputs": [],
   "source": [
    "from sklearn.preprocessing import OneHotEncoder\n",
    "from pymongo import MongoClient\n",
    "from zipfile import ZipFile, ZIP_DEFLATED\n",
    "from scipy.sparse import *\n",
    "from sets import Set\n",
    "import numpy as np\n",
    "import json, sys, os, time, re, datetime\n",
    "\n",
    "def logTime():\n",
    "    return str(datetime.datetime.now())"
   ]
  },
  {
   "cell_type": "code",
   "execution_count": 13,
   "metadata": {
    "collapsed": true
   },
   "outputs": [],
   "source": [
    "%reload_ext autoreload\n",
    "%autoreload 2\n",
    "from aca_drug_feature import *\n",
    "from aca_plan_feature import *\n",
    "from aca_provider_feature import *"
   ]
  },
  {
   "cell_type": "code",
   "execution_count": 14,
   "metadata": {
    "collapsed": false
   },
   "outputs": [
    {
     "name": "stdout",
     "output_type": "stream",
     "text": [
      "Using aws Mongo, total drug: 46206, total plan: 6035\n"
     ]
    }
   ],
   "source": [
    "local = False\n",
    "if local:\n",
    "    client = MongoClient('fc8iasm01', 27017)\n",
    "    plan_col = client.aca.plan\n",
    "    drug_col = client.aca.drug\n",
    "else:\n",
    "    client = MongoClient('ec2-54-153-83-172.us-west-1.compute.amazonaws.com', 27017)\n",
    "    plan_col = client.plans.plans\n",
    "    drug_col = client.formularies.drugs\n",
    "    prov_col = client.providers.providers\n",
    "    faci_col = client.providers.facilities\n",
    "\n",
    "all_plan = drug_col.distinct('plans.plan_id')\n",
    "all_drug = drug_col.distinct('rxnorm_id')\n",
    "\n",
    "print 'Using %s Mongo, total drug: %d, total plan: %d' %('local' if local else 'aws', len(all_drug), len(all_plan))\n",
    "# client.formularies.scollection_names()\n",
    "# client.providers.collection_names()"
   ]
  },
  {
   "cell_type": "code",
   "execution_count": 15,
   "metadata": {
    "collapsed": false
   },
   "outputs": [
    {
     "name": "stdout",
     "output_type": "stream",
     "text": [
      "2016-07-08 23:08:27.667732: plan document: 12136\n",
      "2016-07-08 23:08:27.797582: drug document: 1540473\n",
      "2016-07-08 23:08:27.911088: unique plan_id: 6035\n",
      "2016-07-08 23:08:27.911235: unique rxnorm_id: 46206\n",
      "2016-07-08 23:08:27.914224: states in the plan: AK, AL, AR, AZ, CO, DE, FL, GA, HI, IA, IL, IN, KS, KY, LA, MA, ME, MI, MN, MO, MS, MT, NC, ND, NE, NH, NJ, NM, NV, OH, OK, OR, PA, SC, SD, TN, TX, UT, VA, WA, WI, WV, WY\n",
      "2016-07-08 23:08:27.916281: processing 20 plans for AK\n"
     ]
    }
   ],
   "source": [
    "print '%s: plan document: %d' %(logTime(), plan_col.count())\n",
    "print '%s: drug document: %d' %(logTime(), drug_col.count())\n",
    "print '%s: unique plan_id: %d' %(logTime(), len(all_plan))\n",
    "print '%s: unique rxnorm_id: %d' %(logTime(), len(all_drug))\n",
    "\n",
    "# multi_plan = [1 for p in plan_col.aggregate([{\"$group\": {\"_id\":\"$plan_id\", \"count\":{\"$sum\":1}}}]) if p['count']>1]\n",
    "# print '%s: plans with multiple documents: %d' %(logTime(), sum(multi_plan))\n",
    "\n",
    "# multi_drug = [1 for p in drug_col.aggregate([{\"$group\": {\"_id\":\"$rxnorm_id\", \"count\":{\"$sum\":1}}}]) if p['count']>1]\n",
    "# print '%s: drugs with multiple documents: %d' %(logTime(), sum(multi_drug))\n",
    "\n",
    "state_id = np.unique([i[5:7] for i in all_plan])\n",
    "print '%s: states in the plan: %s' %(logTime(), ', '.join(state_id))"
   ]
  },
  {
   "cell_type": "markdown",
   "metadata": {
    "collapsed": false
   },
   "source": [
    "###Main program"
   ]
  },
  {
   "cell_type": "code",
   "execution_count": null,
   "metadata": {
    "collapsed": false
   },
   "outputs": [
    {
     "name": "stdout",
     "output_type": "stream",
     "text": [
      "2016-07-09 01:17:08.135890: processing 190 plans for OR\n",
      "2016-07-09 01:17:08.135977: get formulary state space for all plans\n",
      "2016-07-09 01:17:08.669133: extract formulary states for each plan\n",
      "2016-07-09 01:17:08.875045: complete for 47 plans\n",
      "2016-07-09 01:17:08.875637: get summary feature for each plan\n",
      "2016-07-09 01:17:08.983673: complete for 47 plans\n",
      "2016-07-09 01:17:08.984398: get all drugs covered by all plans\n",
      "2016-07-09 01:17:12.387492: total rx: 10632\n",
      "2016-07-09 01:17:12.388235: check drug coverage for each plan\n",
      "2016-07-09 01:18:34.382130: complete for 190 plans\n",
      "2016-07-09 01:18:34.382727: get summary feature for drug\n",
      "2016-07-09 01:18:46.066163: total drug states: 82\n",
      "2016-07-09 01:18:46.066909: extract drug sumstat for each plan\n",
      "2016-07-09 01:18:59.114246: complete for 190 plans\n",
      "2016-07-09 01:18:59.114705: get provider states\n",
      "2016-07-09 01:19:02.021983: total providers: 41031"
     ]
    }
   ],
   "source": [
    "state = 'OR' # set to None to include all (very slow process for all)\n",
    "ex_id = all_plan if not state else [i for i in all_plan if state in i]\n",
    "n_plan = len(ex_id)\n",
    "print '%s: processing %d plans for %s' %(logTime(), len(ex_id), 'all' if not state else state)\n",
    "\n",
    "print '%s: get formulary state space for all plans' %logTime()\n",
    "all_plan_states = getFormularyAllStates(plan_col, ex_id) \n",
    "print '%s: total plan states: %d' %(logTime(), len(all_plan_states))\n",
    "\n",
    "print '%s: extract formulary states for each plan' %logTime()\n",
    "plan_feature = lil_matrix((n_plan, len(all_plan_states)))\n",
    "i=0\n",
    "for p in getFormularyStatesForPlan(plan_col, ex_id):\n",
    "    i+=1\n",
    "    r_id = ex_id.index(p['_id'])\n",
    "    for s in p['plan_states']:\n",
    "        plan_feature[r_id, all_plan_states.index(s)] = 1\n",
    "print '%s: complete for %d plans' %(logTime(), i)\n",
    "\n",
    "print '%s: get summary feature for each plan' %logTime()\n",
    "plan_sumstat = [[0]*3]*n_plan\n",
    "i=0\n",
    "for p in getFormularyAggregate(plan_col, ex_id):\n",
    "    i+=1\n",
    "    r_id = ex_id.index(p['plan'])\n",
    "    plan_sumstat[r_id] = [p['avg_copay'],p['avg_ci_rate'],p['count']]\n",
    "print '%s: complete for %d plans' %(logTime(), i)\n",
    "    \n",
    "print '%s: get all drugs covered by all plans' %logTime()\n",
    "all_rxnorm = drug_col.find({'plans.plan_id':{'$in':ex_id}}).distinct('rxnorm_id')\n",
    "print '%s: total rx: %d' %(logTime(), len(all_rxnorm))\n",
    "\n",
    "print '%s: check drug coverage for each plan' %logTime()\n",
    "drug_coverage = lil_matrix((n_plan, len(all_rxnorm)))\n",
    "i=0\n",
    "for p in getDrugListForPlans(drug_col, ex_id):\n",
    "    i+=1\n",
    "    r_id = ex_id.index(p['plan'])\n",
    "    for r in p['drug']:\n",
    "        drug_coverage[r_id, all_rxnorm.index(r)] = 1\n",
    "print '%s: complete for %d plans' %(logTime(), i)\n",
    "\n",
    "print '%s: get summary feature for drug' %logTime()\n",
    "all_drug_states = getDrugAggregateAllStates(drug_col, ex_id)\n",
    "print '%s: total drug states: %d' %(logTime(), len(all_drug_states))\n",
    "\n",
    "print '%s: extract drug sumstat for each plan' %logTime()\n",
    "drug_sumstat = lil_matrix((n_plan, len(all_drug_states)))\n",
    "i=0\n",
    "for p in getDrugAggregateCountForPlans(drug_col, ex_id):\n",
    "    i+=1\n",
    "    r_id = ex_id.index(p['plan'])\n",
    "    for d in p['drug_state']:\n",
    "        drug_sumstat[r_id, all_drug_states.index(d['key'])] = d['cnt']\n",
    "print '%s: complete for %d plans' %(logTime(), i)\n",
    "\n",
    "print '%s: get provider under the plans' %logTime()\n",
    "all_npi = prov_col.find({'plans.plan_id':{'$in':ex_id}}).distinct('npi')\n",
    "print '%s: total providers: %d' %(logTime(), len(all_npi))\n",
    "\n",
    "print '%s: check provider coverage for each plan' %logTime() ##### slow #####\n",
    "provider_coverage = lil_matrix((n_plan, len(all_npi)))\n",
    "i=0\n",
    "for p in getProviderListForPlans(prov_col, ex_id):\n",
    "    i+=1\n",
    "    r_id = ex_id.index(p['plan'])\n",
    "    for npi in p['npi']:\n",
    "        provider_coverage[r_id, all_npi.index(npi)] = 1\n",
    "print '%s: complete for %d plans' %(logTime(), i)\n",
    "\n",
    "print '%s: get summary feature for provider' %logTime()\n",
    "all_provider_states = getProviderAllStates(prov_col, ex_id)\n",
    "print '%s: total provider summary: %d' %(logTime(), len(all_provider_states))\n",
    "\n",
    "print '%s: extract provider sumstat for each plan' %logTime()\n",
    "provider_sumstat = lil_matrix((n_plan, len(all_provider_states)))\n",
    "for p in getProviderStateForPlans(prov_col, ex_id):\n",
    "    r_id = ex_id.index(p['_id'])\n",
    "    for d in p['plan_states']:\n",
    "        provider_sumstat[r_id, all_provider_states.index(d['key'])] = d['count'] #[d['count'], d['location']]\n",
    "print '%s: complete for %d plans' %(logTime(), i)"
   ]
  },
  {
   "cell_type": "code",
   "execution_count": 38,
   "metadata": {
    "collapsed": false,
    "scrolled": false
   },
   "outputs": [
    {
     "name": "stdout",
     "output_type": "stream",
     "text": [
      "2016-07-09 00:07:41.266737: get summary feature for provider\n"
     ]
    }
   ],
   "source": [
    "print '%s: get summary feature for provider' %logTime()\n",
    "all_provider_states = getProviderAllStates(prov_col, ex_id)"
   ]
  },
  {
   "cell_type": "code",
   "execution_count": 44,
   "metadata": {
    "collapsed": false,
    "scrolled": false
   },
   "outputs": [
    {
     "name": "stdout",
     "output_type": "stream",
     "text": [
      "2016-07-09 00:15:20.325784: extract provider sumstat for each plan\n"
     ]
    }
   ],
   "source": [
    "print '%s: extract provider sumstat for each plan' %logTime()\n",
    "provider_sumstat = {}\n",
    "for p in getProviderStateForPlans(prov_col, ex_id):\n",
    "#     print p['_id'],len(p['plan_states'])\n",
    "    p_count = [[0,0]]*len(all_provider_states)\n",
    "    for d in p['plan_states']:\n",
    "        p_count[all_provider_states.index(d['key'])] = [d['count'], d['location']]\n",
    "    provider_sumstat[p['_id']] = [y for x in p_count for y in x]"
   ]
  },
  {
   "cell_type": "code",
   "execution_count": 49,
   "metadata": {
    "collapsed": false
   },
   "outputs": [
    {
     "data": {
      "text/plain": [
       "190"
      ]
     },
     "execution_count": 49,
     "metadata": {},
     "output_type": "execute_result"
    }
   ],
   "source": [
    "# prov_col.count()\n",
    "# prov_col.find_one({'facility_name':{'$exists':True}})\n",
    "# provider_sumstat.values()[0]\n",
    "len(ex_id)"
   ]
  },
  {
   "cell_type": "code",
   "execution_count": 53,
   "metadata": {
    "collapsed": false
   },
   "outputs": [],
   "source": [
    "print logTime()\n",
    "test = {}\n",
    "for p in getProviderListForPlans(prov_col, ex_id):\n",
    "    print logTime(),p['plan']\n",
    "    m1 = [False]*len(all_npi)\n",
    "    for npi in p['npi']:\n",
    "        m1[all_npi.index(npi)] = True\n",
    "    test[p['plan']] = m1\n",
    "print logTime()"
   ]
  },
  {
   "cell_type": "markdown",
   "metadata": {},
   "source": [
    "###sparse matrix manual mode"
   ]
  },
  {
   "cell_type": "code",
   "execution_count": 63,
   "metadata": {
    "collapsed": false
   },
   "outputs": [
    {
     "data": {
      "text/plain": [
       "<3x18 sparse matrix of type '<type 'numpy.float64'>'\n",
       "\twith 1 stored elements in LInked List format>"
      ]
     },
     "execution_count": 63,
     "metadata": {},
     "output_type": "execute_result"
    }
   ],
   "source": [
    "# initialize as lil\n",
    "# test = lil_matrix((3,18))\n",
    "# test[2,5] = 3.14\n",
    "test"
   ]
  },
  {
   "cell_type": "code",
   "execution_count": 59,
   "metadata": {
    "collapsed": true
   },
   "outputs": [],
   "source": [
    "# convert to csr\n",
    "t2=csr_matrix(test)"
   ]
  },
  {
   "cell_type": "code",
   "execution_count": 11,
   "metadata": {
    "collapsed": false
   },
   "outputs": [
    {
     "name": "stdout",
     "output_type": "stream",
     "text": [
      "Once deleted, variables cannot be recovered. Proceed (y/[n])? y\n"
     ]
    }
   ],
   "source": [
    "client.close()\n",
    "%reset"
   ]
  }
 ],
 "metadata": {
  "kernelspec": {
   "display_name": "Python 2",
   "language": "python",
   "name": "python2"
  },
  "language_info": {
   "codemirror_mode": {
    "name": "ipython",
    "version": 2
   },
   "file_extension": ".py",
   "mimetype": "text/x-python",
   "name": "python",
   "nbconvert_exporter": "python",
   "pygments_lexer": "ipython2",
   "version": "2.7.9"
  }
 },
 "nbformat": 4,
 "nbformat_minor": 0
}
