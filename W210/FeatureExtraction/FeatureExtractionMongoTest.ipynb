{
 "cells": [
  {
   "cell_type": "code",
   "execution_count": 12,
   "metadata": {
    "collapsed": true
   },
   "outputs": [],
   "source": [
    "from sklearn.preprocessing import OneHotEncoder\n",
    "from pymongo import MongoClient\n",
    "from zipfile import ZipFile, ZIP_DEFLATED\n",
    "from sets import Set\n",
    "import numpy as np\n",
    "import json, sys, os, time, re, datetime\n",
    "\n",
    "def logTime():\n",
    "    return str(datetime.datetime.now())"
   ]
  },
  {
   "cell_type": "code",
   "execution_count": 13,
   "metadata": {
    "collapsed": true
   },
   "outputs": [],
   "source": [
    "%reload_ext autoreload\n",
    "%autoreload 2\n",
    "from aca_drug_feature import *\n",
    "from aca_plan_feature import *\n",
    "from aca_provider_feature import *"
   ]
  },
  {
   "cell_type": "code",
   "execution_count": 14,
   "metadata": {
    "collapsed": false
   },
   "outputs": [
    {
     "name": "stdout",
     "output_type": "stream",
     "text": [
      "Using aws Mongo, total drug: 46206, total plan: 6035\n"
     ]
    }
   ],
   "source": [
    "local = False\n",
    "if local:\n",
    "    client = MongoClient('fc8iasm01', 27017)\n",
    "    plan_col = client.aca.plan\n",
    "    drug_col = client.aca.drug\n",
    "else:\n",
    "    client = MongoClient('ec2-54-153-83-172.us-west-1.compute.amazonaws.com', 27017)\n",
    "    plan_col = client.plans.plans\n",
    "    drug_col = client.formularies.drugs\n",
    "    prov_col = client.providers.providers\n",
    "    faci_col = client.providers.facilities\n",
    "\n",
    "all_plan = drug_col.distinct('plans.plan_id')\n",
    "all_drug = drug_col.distinct('rxnorm_id')\n",
    "\n",
    "print 'Using %s Mongo, total drug: %d, total plan: %d' %('local' if local else 'aws', len(all_drug), len(all_plan))\n",
    "# client.formularies.scollection_names()\n",
    "# client.providers.collection_names()"
   ]
  },
  {
   "cell_type": "code",
   "execution_count": 15,
   "metadata": {
    "collapsed": false
   },
   "outputs": [
    {
     "name": "stdout",
     "output_type": "stream",
     "text": [
      "2016-07-08 23:08:27.667732: plan document: 12136\n",
      "2016-07-08 23:08:27.797582: drug document: 1540473\n",
      "2016-07-08 23:08:27.911088: unique plan_id: 6035\n",
      "2016-07-08 23:08:27.911235: unique rxnorm_id: 46206\n",
      "2016-07-08 23:08:27.914224: states in the plan: AK, AL, AR, AZ, CO, DE, FL, GA, HI, IA, IL, IN, KS, KY, LA, MA, ME, MI, MN, MO, MS, MT, NC, ND, NE, NH, NJ, NM, NV, OH, OK, OR, PA, SC, SD, TN, TX, UT, VA, WA, WI, WV, WY\n",
      "2016-07-08 23:08:27.916281: processing 20 plans for AK\n"
     ]
    }
   ],
   "source": [
    "print '%s: plan document: %d' %(logTime(), plan_col.count())\n",
    "print '%s: drug document: %d' %(logTime(), drug_col.count())\n",
    "print '%s: unique plan_id: %d' %(logTime(), len(all_plan))\n",
    "print '%s: unique rxnorm_id: %d' %(logTime(), len(all_drug))\n",
    "\n",
    "# multi_plan = [1 for p in plan_col.aggregate([{\"$group\": {\"_id\":\"$plan_id\", \"count\":{\"$sum\":1}}}]) if p['count']>1]\n",
    "# print '%s: plans with multiple documents: %d' %(logTime(), sum(multi_plan))\n",
    "\n",
    "# multi_drug = [1 for p in drug_col.aggregate([{\"$group\": {\"_id\":\"$rxnorm_id\", \"count\":{\"$sum\":1}}}]) if p['count']>1]\n",
    "# print '%s: drugs with multiple documents: %d' %(logTime(), sum(multi_drug))\n",
    "\n",
    "state_id = np.unique([i[5:7] for i in all_plan])\n",
    "print '%s: states in the plan: %s' %(logTime(), ', '.join(state_id))"
   ]
  },
  {
   "cell_type": "code",
   "execution_count": 20,
   "metadata": {
    "collapsed": false
   },
   "outputs": [
    {
     "name": "stdout",
     "output_type": "stream",
     "text": [
      "2016-07-08 23:15:18.092371: processing 190 plans for OR\n"
     ]
    }
   ],
   "source": [
    "state = 'OR' # set to None to include all (very slow process for all)\n",
    "ex_id = all_plan if not state else [i for i in all_plan if state in i]\n",
    "print '%s: processing %d plans for %s' %(logTime(), len(ex_id), 'all' if not state else state)"
   ]
  },
  {
   "cell_type": "markdown",
   "metadata": {
    "collapsed": false
   },
   "source": [
    "###Main program"
   ]
  },
  {
   "cell_type": "code",
   "execution_count": 21,
   "metadata": {
    "collapsed": false
   },
   "outputs": [
    {
     "name": "stdout",
     "output_type": "stream",
     "text": [
      "2016-07-08 23:15:25.746746: get formulary state space for all plans\n",
      "2016-07-08 23:15:25.981393: extract formulary states for each plan\n",
      "2016-07-08 23:15:26.249072: get summary feature for each plan\n",
      "2016-07-08 23:15:26.415742: get all drugs covered by all plans\n",
      "2016-07-08 23:17:36.315615: check drug coverage for each plan\n",
      "2016-07-08 23:21:53.579294: get summary feature for drug\n",
      "2016-07-08 23:22:52.562991: extract drug sumstat for each plan\n",
      "2016-07-08 23:23:41.758832: get provider states\n",
      "2016-07-08 23:24:28.504206: check provider coverage for each plan\n"
     ]
    },
    {
     "ename": "KeyboardInterrupt",
     "evalue": "",
     "output_type": "error",
     "traceback": [
      "\u001b[0;31m---------------------------------------------------------------------------\u001b[0m",
      "\u001b[0;31mKeyboardInterrupt\u001b[0m                         Traceback (most recent call last)",
      "\u001b[0;32m<ipython-input-21-2b8459453964>\u001b[0m in \u001b[0;36m<module>\u001b[0;34m()\u001b[0m\n\u001b[1;32m     25\u001b[0m \u001b[0;32mprint\u001b[0m \u001b[0;34m'%s: check provider coverage for each plan'\u001b[0m \u001b[0;34m%\u001b[0m\u001b[0mlogTime\u001b[0m\u001b[0;34m(\u001b[0m\u001b[0;34m)\u001b[0m\u001b[0;34m\u001b[0m\u001b[0m\n\u001b[1;32m     26\u001b[0m provider_coverage = {p['plan']:[npi in p['npi'] for npi in all_npi] \n\u001b[0;32m---> 27\u001b[0;31m                      for p in getProviderListForPlans(prov_col, ex_id)}\n\u001b[0m\u001b[1;32m     28\u001b[0m \u001b[0;32mprint\u001b[0m \u001b[0;34m'%s: get summary feature for provider'\u001b[0m \u001b[0;34m%\u001b[0m\u001b[0mlogTime\u001b[0m\u001b[0;34m(\u001b[0m\u001b[0;34m)\u001b[0m\u001b[0;34m\u001b[0m\u001b[0m\n\u001b[1;32m     29\u001b[0m \u001b[0mall_provider_states\u001b[0m \u001b[0;34m=\u001b[0m \u001b[0mgetProviderAllStates\u001b[0m\u001b[0;34m(\u001b[0m\u001b[0mprov_col\u001b[0m\u001b[0;34m,\u001b[0m \u001b[0mex_id\u001b[0m\u001b[0;34m)\u001b[0m\u001b[0;34m\u001b[0m\u001b[0m\n",
      "\u001b[0;32m<ipython-input-21-2b8459453964>\u001b[0m in \u001b[0;36m<dictcomp>\u001b[0;34m((p,))\u001b[0m\n\u001b[1;32m     25\u001b[0m \u001b[0;32mprint\u001b[0m \u001b[0;34m'%s: check provider coverage for each plan'\u001b[0m \u001b[0;34m%\u001b[0m\u001b[0mlogTime\u001b[0m\u001b[0;34m(\u001b[0m\u001b[0;34m)\u001b[0m\u001b[0;34m\u001b[0m\u001b[0m\n\u001b[1;32m     26\u001b[0m provider_coverage = {p['plan']:[npi in p['npi'] for npi in all_npi] \n\u001b[0;32m---> 27\u001b[0;31m                      for p in getProviderListForPlans(prov_col, ex_id)}\n\u001b[0m\u001b[1;32m     28\u001b[0m \u001b[0;32mprint\u001b[0m \u001b[0;34m'%s: get summary feature for provider'\u001b[0m \u001b[0;34m%\u001b[0m\u001b[0mlogTime\u001b[0m\u001b[0;34m(\u001b[0m\u001b[0;34m)\u001b[0m\u001b[0;34m\u001b[0m\u001b[0m\n\u001b[1;32m     29\u001b[0m \u001b[0mall_provider_states\u001b[0m \u001b[0;34m=\u001b[0m \u001b[0mgetProviderAllStates\u001b[0m\u001b[0;34m(\u001b[0m\u001b[0mprov_col\u001b[0m\u001b[0;34m,\u001b[0m \u001b[0mex_id\u001b[0m\u001b[0;34m)\u001b[0m\u001b[0;34m\u001b[0m\u001b[0m\n",
      "\u001b[0;31mKeyboardInterrupt\u001b[0m: "
     ]
    }
   ],
   "source": [
    "print '%s: get formulary state space for all plans' %logTime()\n",
    "all_plan_states = getFormularyAllStates(plan_col, ex_id) \n",
    "\n",
    "print '%s: extract formulary states for each plan' %logTime()\n",
    "plan_feature = {p['_id']:[s in p['plan_states'] for s in all_plan_states] \n",
    "                for p in getFormularyStatesForPlan(plan_col, ex_id)}\n",
    "\n",
    "print '%s: get summary feature for each plan' %logTime()\n",
    "plan_sumstat = {p['plan']:[p['avg_copay'],p['avg_ci_rate'],p['count']] \n",
    "                for p in getFormularyAggregate(plan_col, ex_id)}\n",
    "\n",
    "print '%s: get all drugs covered by all plans' %logTime()\n",
    "all_rxnorm = drug_col.find({'plans.plan_id':{'$in':ex_id}}).distinct('rxnorm_id')\n",
    "\n",
    "print '%s: check drug coverage for each plan' %logTime()\n",
    "drug_coverage = {p['plan']:[rx in p['drug'] for rx in all_rxnorm] \n",
    "                 for p in getDrugListForPlans(drug_col, ex_id)}\n",
    "\n",
    "print '%s: get summary feature for drug' %logTime()\n",
    "all_drug_states = getDrugAggregateAllStates(drug_col, ex_id)\n",
    "\n",
    "print '%s: extract drug sumstat for each plan' %logTime()\n",
    "drug_sumstat = {}\n",
    "for p in getDrugAggregateCountForPlans(drug_col, ex_id):\n",
    "    state_count = [0]*len(all_drug_states)\n",
    "    for d in p['drug_state']:\n",
    "        state_count[all_drug_states.index(d['key'])] = d['cnt']\n",
    "    drug_sumstat[p['plan']] = state_count\n",
    "\n",
    "print '%s: get provider states' %logTime()\n",
    "all_npi = prov_col.find({'plans.plan_id':{'$in':ex_id}}).distinct('npi')\n",
    "\n",
    "print '%s: check provider coverage for each plan' %logTime() ##### slow #####\n",
    "provider_coverage = {p['plan']:[npi in p['npi'] for npi in all_npi] \n",
    "                     for p in getProviderListForPlans(prov_col, ex_id)}\n",
    "\n",
    "print '%s: get summary feature for provider' %logTime()\n",
    "all_provider_states = getProviderAllStates(prov_col, ex_id)\n",
    "\n",
    "print '%s: extract provider sumstat for each plan' %logTime()\n",
    "provider_sumstat = {}\n",
    "for p in getProviderStateForPlans(prov_col, ex_id):\n",
    "    p_count = [None]*len(all_provider_states)\n",
    "    for d in p['plan_states']:\n",
    "        p_count[all_provider_states.index(d['key'])] = [d['count'], d['location']]\n",
    "    provider_sumstat[p['_id']] = [y for x in p_count for y in x]"
   ]
  },
  {
   "cell_type": "code",
   "execution_count": 38,
   "metadata": {
    "collapsed": false,
    "scrolled": false
   },
   "outputs": [
    {
     "name": "stdout",
     "output_type": "stream",
     "text": [
      "2016-07-09 00:07:41.266737: get summary feature for provider\n"
     ]
    }
   ],
   "source": [
    "print '%s: get summary feature for provider' %logTime()\n",
    "all_provider_states = getProviderAllStates(prov_col, ex_id)"
   ]
  },
  {
   "cell_type": "code",
   "execution_count": 44,
   "metadata": {
    "collapsed": false,
    "scrolled": false
   },
   "outputs": [
    {
     "name": "stdout",
     "output_type": "stream",
     "text": [
      "2016-07-09 00:15:20.325784: extract provider sumstat for each plan\n"
     ]
    }
   ],
   "source": [
    "print '%s: extract provider sumstat for each plan' %logTime()\n",
    "provider_sumstat = {}\n",
    "for p in getProviderStateForPlans(prov_col, ex_id):\n",
    "#     print p['_id'],len(p['plan_states'])\n",
    "    p_count = [[0,0]]*len(all_provider_states)\n",
    "    for d in p['plan_states']:\n",
    "        p_count[all_provider_states.index(d['key'])] = [d['count'], d['location']]\n",
    "    provider_sumstat[p['_id']] = [y for x in p_count for y in x]"
   ]
  },
  {
   "cell_type": "code",
   "execution_count": 49,
   "metadata": {
    "collapsed": false
   },
   "outputs": [
    {
     "data": {
      "text/plain": [
       "190"
      ]
     },
     "execution_count": 49,
     "metadata": {},
     "output_type": "execute_result"
    }
   ],
   "source": [
    "# prov_col.count()\n",
    "# prov_col.find_one({'facility_name':{'$exists':True}})\n",
    "# provider_sumstat.values()[0]\n",
    "len(ex_id)"
   ]
  },
  {
   "cell_type": "code",
   "execution_count": 53,
   "metadata": {
    "collapsed": false
   },
   "outputs": [],
   "source": [
    "print logTime()\n",
    "test = {}\n",
    "for p in getProviderListForPlans(prov_col, ex_id):\n",
    "    print logTime(),p['plan']\n",
    "    m1 = [False]*len(all_npi)\n",
    "    for npi in p['npi']:\n",
    "        m1[all_npi.index(npi)] = True\n",
    "    test[p['plan']] = m1\n",
    "print logTime()"
   ]
  },
  {
   "cell_type": "code",
   "execution_count": 11,
   "metadata": {
    "collapsed": false
   },
   "outputs": [
    {
     "name": "stdout",
     "output_type": "stream",
     "text": [
      "Once deleted, variables cannot be recovered. Proceed (y/[n])? y\n"
     ]
    }
   ],
   "source": [
    "client.close()\n",
    "%reset"
   ]
  }
 ],
 "metadata": {
  "kernelspec": {
   "display_name": "Python 2",
   "language": "python",
   "name": "python2"
  },
  "language_info": {
   "codemirror_mode": {
    "name": "ipython",
    "version": 2
   },
   "file_extension": ".py",
   "mimetype": "text/x-python",
   "name": "python",
   "nbconvert_exporter": "python",
   "pygments_lexer": "ipython2",
   "version": "2.7.9"
  }
 },
 "nbformat": 4,
 "nbformat_minor": 0
}
