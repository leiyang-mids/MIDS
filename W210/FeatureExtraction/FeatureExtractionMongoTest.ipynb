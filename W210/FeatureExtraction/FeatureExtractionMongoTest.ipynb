{
 "cells": [
  {
   "cell_type": "code",
   "execution_count": 1,
   "metadata": {
    "collapsed": true
   },
   "outputs": [],
   "source": [
    "from sklearn.preprocessing import OneHotEncoder\n",
    "from pymongo import MongoClient\n",
    "from zipfile import ZipFile, ZIP_DEFLATED\n",
    "from scipy.sparse import *\n",
    "from sets import Set\n",
    "import numpy as np\n",
    "import json, sys, os, time, re, datetime\n",
    "\n",
    "def logTime():\n",
    "    return str(datetime.datetime.now())"
   ]
  },
  {
   "cell_type": "code",
   "execution_count": 92,
   "metadata": {
    "collapsed": true
   },
   "outputs": [],
   "source": [
    "%reload_ext autoreload\n",
    "%autoreload 2\n",
    "from aca_drug_feature import *\n",
    "from aca_plan_feature import *\n",
    "from aca_provider_feature import *"
   ]
  },
  {
   "cell_type": "code",
   "execution_count": 3,
   "metadata": {
    "collapsed": false
   },
   "outputs": [
    {
     "name": "stdout",
     "output_type": "stream",
     "text": [
      "Using aws Mongo, total drug: 46206, total plan: 6035\n"
     ]
    }
   ],
   "source": [
    "local = False\n",
    "if local:\n",
    "    client = MongoClient('fc8iasm01', 27017)\n",
    "    plan_col = client.aca.plan\n",
    "    drug_col = client.aca.drug\n",
    "else:\n",
    "    client = MongoClient('ec2-54-153-83-172.us-west-1.compute.amazonaws.com', 27017)\n",
    "    plan_col = client.plans.plans\n",
    "    drug_col = client.formularies.drugs\n",
    "    prov_col = client.providers.providers\n",
    "    faci_col = client.providers.facilities\n",
    "\n",
    "all_plan = drug_col.distinct('plans.plan_id')\n",
    "all_drug = drug_col.distinct('rxnorm_id')\n",
    "\n",
    "print '%s: using %s Mongo, total drug: %d, total plan: %d, total provider: %d' %(\n",
    "    logTime(), 'local' if local else 'aws', len(all_drug), len(all_plan), prov_col.count())\n",
    "# client.formularies.scollection_names()\n",
    "# client.providers.collection_names()"
   ]
  },
  {
   "cell_type": "code",
   "execution_count": 5,
   "metadata": {
    "collapsed": false
   },
   "outputs": [
    {
     "name": "stdout",
     "output_type": "stream",
     "text": [
      "2016-07-09 09:32:28.660514: plan document: 12136\n",
      "2016-07-09 09:32:28.744694: drug document: 1540473\n",
      "2016-07-09 09:32:28.832037: provider document: 8799098\n",
      "2016-07-09 09:32:28.931804: facility document: 4815321\n",
      "2016-07-09 09:32:29.014277: unique plan_id: 6035\n",
      "2016-07-09 09:32:29.014387: unique rxnorm_id: 46206\n",
      "2016-07-09 09:32:29.016927: states in the plan: AK, AL, AR, AZ, CO, DE, FL, GA, HI, IA, IL, IN, KS, KY, LA, MA, ME, MI, MN, MO, MS, MT, NC, ND, NE, NH, NJ, NM, NV, OH, OK, OR, PA, SC, SD, TN, TX, UT, VA, WA, WI, WV, WY\n"
     ]
    }
   ],
   "source": [
    "print '%s: plan document: %d' %(logTime(), plan_col.count())\n",
    "print '%s: drug document: %d' %(logTime(), drug_col.count())\n",
    "print '%s: provider document: %d' %(logTime(), prov_col.count())\n",
    "print '%s: facility document: %d' %(logTime(), faci_col.count())\n",
    "print '%s: unique plan_id: %d' %(logTime(), len(all_plan))\n",
    "print '%s: unique rxnorm_id: %d' %(logTime(), len(all_drug))\n",
    "\n",
    "# multi_plan = [1 for p in plan_col.aggregate([{\"$group\": {\"_id\":\"$plan_id\", \"count\":{\"$sum\":1}}}]) if p['count']>1]\n",
    "# print '%s: plans with multiple documents: %d' %(logTime(), sum(multi_plan))\n",
    "\n",
    "# multi_drug = [1 for p in drug_col.aggregate([{\"$group\": {\"_id\":\"$rxnorm_id\", \"count\":{\"$sum\":1}}}]) if p['count']>1]\n",
    "# print '%s: drugs with multiple documents: %d' %(logTime(), sum(multi_drug))\n",
    "\n",
    "state_id = np.unique([i[5:7] for i in all_plan])\n",
    "print '%s: states in the plan: %s' %(logTime(), ', '.join(state_id))"
   ]
  },
  {
   "cell_type": "markdown",
   "metadata": {
    "collapsed": false
   },
   "source": [
    "###Main program"
   ]
  },
  {
   "cell_type": "code",
   "execution_count": null,
   "metadata": {
    "collapsed": false
   },
   "outputs": [
    {
     "name": "stdout",
     "output_type": "stream",
     "text": [
      "2016-07-09 12:12:50.161518: processing 190 plans for OR\n",
      "2016-07-09 12:12:50.161597: 1/11 get formulary state space for all plans\n",
      "2016-07-09 12:12:50.499005: total plan states: 107\n",
      "2016-07-09 12:12:50.499760: 2/11 extract formulary states for each plan\n",
      "2016-07-09 12:12:51.123879: complete for 172 plans\n",
      "2016-07-09 12:12:51.124474: 3/11 get summary feature for each plan\n",
      "2016-07-09 12:12:51.232876: complete for 47 plans\n",
      "2016-07-09 12:12:51.233604: 4/11 get all drugs covered by all plans\n",
      "2016-07-09 12:14:23.024444: total rx: 10632\n",
      "2016-07-09 12:14:23.025183: 5/11 check drug coverage for each plan\n",
      "2016-07-09 12:15:45.138824: complete for 190 plans\n",
      "2016-07-09 12:15:45.139552: 6/11 get summary feature for drug\n",
      "2016-07-09 12:15:56.894036: total drug states: 82\n",
      "2016-07-09 12:15:56.894777: 7/11 extract drug sumstat for each plan\n",
      "2016-07-09 12:16:09.940219: complete for 190 plans\n",
      "2016-07-09 12:16:09.940686: 8/11 get provider under the plans\n",
      "2016-07-09 12:16:27.088481: total providers: 41031"
     ]
    }
   ],
   "source": [
    "state = 'OR' # set to None to include all (very slow process for all)\n",
    "ex_id = all_plan if not state else [i for i in all_plan if state in i]\n",
    "n_plan = len(ex_id)\n",
    "print '%s: processing %d plans for %s' %(logTime(), len(ex_id), 'all' if not state else state)\n",
    "\n",
    "print '%s: 1/11 get formulary state space for all plans' %logTime()\n",
    "all_plan_states = getFormularyAllStates1(plan_col, ex_id) + \\\n",
    "                  getFormularyAllStates2(plan_col, ex_id) + \\\n",
    "                  getFormularyAllStates3(plan_col, ex_id) \n",
    "print '%s: total formulary states: %d' %(logTime(), len(all_plan_states))\n",
    "\n",
    "print '%s: 2/11 extract formulary states for each plan' %logTime()\n",
    "plan_feature = lil_matrix((n_plan, len(all_plan_states)))\n",
    "i=0\n",
    "\n",
    "for p in getFormularyStatesForPlan1(plan_col, ex_id):\n",
    "    i+=1\n",
    "    r_id = ex_id.index(p['_id'])\n",
    "    for s in p['plan_states']:\n",
    "        plan_feature[r_id, all_plan_states.index(s)] = 1\n",
    "        \n",
    "for p in getFormularyStatesForPlan2(plan_col, ex_id):\n",
    "    i+=1\n",
    "    r_id = ex_id.index(p['_id'])\n",
    "    for s in p['plan_states']:\n",
    "        plan_feature[r_id, all_plan_states.index(s)] = 1\n",
    "        \n",
    "for p in getFormularyStatesForPlan3(plan_col, ex_id):\n",
    "    i+=1\n",
    "    r_id = ex_id.index(p['_id'])\n",
    "    for s in p['plan_states']:\n",
    "        plan_feature[r_id, all_plan_states.index(s)] = 1\n",
    "        \n",
    "print '%s: complete for %d plans' %(logTime(), i)\n",
    "\n",
    "print '%s: 3/11 get formulary summary feature for each plan' %logTime()\n",
    "plan_sumstat = [[0]*3]*n_plan\n",
    "i=0\n",
    "for p in getFormularyAggregate(plan_col, ex_id):\n",
    "    i+=1\n",
    "    r_id = ex_id.index(p['plan'])\n",
    "    plan_sumstat[r_id] = [p['avg_copay'],p['avg_ci_rate'],p['count']]\n",
    "print '%s: complete for %d plans' %(logTime(), i)\n",
    "    \n",
    "print '%s: 4/11 get all drugs covered by all plans' %logTime()\n",
    "all_rxnorm = drug_col.find({'plans.plan_id':{'$in':ex_id}}).distinct('rxnorm_id')\n",
    "print '%s: total rx: %d' %(logTime(), len(all_rxnorm))\n",
    "\n",
    "print '%s: 5/11 check drug coverage for each plan' %logTime()\n",
    "drug_coverage = lil_matrix((n_plan, len(all_rxnorm)))\n",
    "i=0\n",
    "for p in getDrugListForPlans(drug_col, ex_id):\n",
    "    i+=1\n",
    "    r_id = ex_id.index(p['plan'])\n",
    "    for r in p['drug']:\n",
    "        drug_coverage[r_id, all_rxnorm.index(r)] = 1\n",
    "print '%s: complete for %d plans' %(logTime(), i)\n",
    "\n",
    "print '%s: 6/11 get summary feature for drug' %logTime()\n",
    "all_drug_states = getDrugAggregateAllStates(drug_col, ex_id)\n",
    "print '%s: total drug states: %d' %(logTime(), len(all_drug_states))\n",
    "\n",
    "print '%s: 7/11 extract drug sumstat for each plan' %logTime()\n",
    "drug_sumstat = lil_matrix((n_plan, len(all_drug_states)))\n",
    "i=0\n",
    "for p in getDrugAggregateCountForPlans(drug_col, ex_id):\n",
    "    i+=1\n",
    "    r_id = ex_id.index(p['plan'])\n",
    "    for d in p['drug_state']:\n",
    "        drug_sumstat[r_id, all_drug_states.index(d['key'])] = d['cnt']\n",
    "print '%s: complete for %d plans' %(logTime(), i)\n",
    "\n",
    "print '%s: 8/11 get provider under the plans' %logTime()\n",
    "all_npi = prov_col.find({'plans.plan_id':{'$in':ex_id}}).distinct('npi')\n",
    "print '%s: total providers: %d' %(logTime(), len(all_npi))\n",
    "\n",
    "print '%s: 9/11 check provider coverage for each plan' %logTime() ##### slow #####\n",
    "provider_coverage = lil_matrix((n_plan, len(all_npi)))\n",
    "i=0\n",
    "for p in getProviderListForPlans(prov_col, ex_id):\n",
    "    i+=1\n",
    "    r_id = ex_id.index(p['plan'])\n",
    "    for npi in p['npi']:\n",
    "        provider_coverage[r_id, all_npi.index(npi)] = 1\n",
    "print '%s: complete for %d plans' %(logTime(), i)\n",
    "\n",
    "print '%s: 10/11 get summary feature for provider' %logTime()\n",
    "all_provider_states = getProviderAllStates(prov_col, ex_id)\n",
    "print '%s: total provider summary: %d' %(logTime(), len(all_provider_states))\n",
    "\n",
    "print '%s: 11/11 extract provider sumstat for each plan' %logTime()\n",
    "provider_sumstat = lil_matrix((n_plan, len(all_provider_states)))\n",
    "for p in getProviderStateForPlans(prov_col, ex_id):\n",
    "    r_id = ex_id.index(p['_id'])\n",
    "    for d in p['plan_states']:\n",
    "        provider_sumstat[r_id, all_provider_states.index(d['key'])] = d['count'] #[d['count'], d['location']]\n",
    "print '%s: complete for %d plans' %(logTime(), i)"
   ]
  },
  {
   "cell_type": "code",
   "execution_count": 48,
   "metadata": {
    "collapsed": false,
    "scrolled": false
   },
   "outputs": [
    {
     "data": {
      "text/plain": [
       "3449"
      ]
     },
     "execution_count": 48,
     "metadata": {},
     "output_type": "execute_result"
    }
   ],
   "source": [
    "# i=0\n",
    "# ids = ex_id\n",
    "# for p in getFormularyStatesForPlan(plan_col, ex_id):\n",
    "#     i+=1\n",
    "#     print p['_id'],len(p['plan_states'])\n",
    "#     ids.remove(p['_id'])\n",
    "    \n",
    "# print i\n",
    "\n",
    "# plan_col.count({'$or':[{'formulary.cost_sharing':{'$exists':True}},{'formulary.costSharing':{'$exists':True}}]})\n",
    "\n",
    "# plan_col.find_one({'plan_id':'33931OH0030004'})['formulary'][3]\n",
    "\n",
    "len(plan_col.find({'formulary.cost_sharing':{'$exists':False}}).distinct('plan_id'))"
   ]
  },
  {
   "cell_type": "code",
   "execution_count": null,
   "metadata": {
    "collapsed": false
   },
   "outputs": [],
   "source": []
  },
  {
   "cell_type": "markdown",
   "metadata": {},
   "source": [
    "###sparse matrix manual mode"
   ]
  },
  {
   "cell_type": "code",
   "execution_count": 63,
   "metadata": {
    "collapsed": false
   },
   "outputs": [
    {
     "data": {
      "text/plain": [
       "<3x18 sparse matrix of type '<type 'numpy.float64'>'\n",
       "\twith 1 stored elements in LInked List format>"
      ]
     },
     "execution_count": 63,
     "metadata": {},
     "output_type": "execute_result"
    }
   ],
   "source": [
    "# initialize as lil\n",
    "# test = lil_matrix((3,18))\n",
    "# test[2,5] = 3.14\n",
    "test"
   ]
  },
  {
   "cell_type": "code",
   "execution_count": 59,
   "metadata": {
    "collapsed": true
   },
   "outputs": [],
   "source": [
    "# convert to csr\n",
    "t2=csr_matrix(test)"
   ]
  },
  {
   "cell_type": "code",
   "execution_count": 11,
   "metadata": {
    "collapsed": false
   },
   "outputs": [
    {
     "name": "stdout",
     "output_type": "stream",
     "text": [
      "Once deleted, variables cannot be recovered. Proceed (y/[n])? y\n"
     ]
    }
   ],
   "source": [
    "client.close()\n",
    "%reset"
   ]
  }
 ],
 "metadata": {
  "kernelspec": {
   "display_name": "Python 2",
   "language": "python",
   "name": "python2"
  },
  "language_info": {
   "codemirror_mode": {
    "name": "ipython",
    "version": 2
   },
   "file_extension": ".py",
   "mimetype": "text/x-python",
   "name": "python",
   "nbconvert_exporter": "python",
   "pygments_lexer": "ipython2",
   "version": "2.7.9"
  }
 },
 "nbformat": 4,
 "nbformat_minor": 0
}
