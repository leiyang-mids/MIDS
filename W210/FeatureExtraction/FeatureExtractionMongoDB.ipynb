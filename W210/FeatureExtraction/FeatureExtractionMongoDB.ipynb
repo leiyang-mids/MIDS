{
 "cells": [
  {
   "cell_type": "code",
   "execution_count": 1,
   "metadata": {
    "collapsed": true
   },
   "outputs": [],
   "source": [
    "from sklearn.preprocessing import OneHotEncoder\n",
    "from pymongo import MongoClient\n",
    "from zipfile import ZipFile, ZIP_DEFLATED\n",
    "from sets import Set\n",
    "import numpy as np\n",
    "import json, sys, os, time, re, datetime"
   ]
  },
  {
   "cell_type": "code",
   "execution_count": 110,
   "metadata": {
    "collapsed": false
   },
   "outputs": [
    {
     "name": "stdout",
     "output_type": "stream",
     "text": [
      "Using aws Mongo, total drug: 46206, total plan: 6035\n"
     ]
    }
   ],
   "source": [
    "local = False\n",
    "if local:\n",
    "    client = MongoClient('localhost', 27017)\n",
    "    plan_col = client.aca.plan\n",
    "    drug_col = client.aca.drug\n",
    "else:\n",
    "    client = MongoClient('ec2-54-153-83-172.us-west-1.compute.amazonaws.com', 27017)\n",
    "    plan_col = client.plans.plans\n",
    "    drug_col = client.formularies.drugs\n",
    "    prov_col = client.providers.providers\n",
    "    faci_col = client.providers.facilities\n",
    "\n",
    "all_plan = drug_col.distinct('plans.plan_id')\n",
    "all_drug = drug_col.distinct('rxnorm_id')\n",
    "\n",
    "print 'Using %s Mongo, total drug: %d, total plan: %d' %('local' if local else 'aws', \n",
    "                                                         len(all_drug), len(all_plan))\n",
    "# client.formularies.scollection_names()\n",
    "# client.providers.collection_names()"
   ]
  },
  {
   "cell_type": "markdown",
   "metadata": {},
   "source": [
    "###Load encode definition"
   ]
  },
  {
   "cell_type": "code",
   "execution_count": 3,
   "metadata": {
    "collapsed": false
   },
   "outputs": [
    {
     "data": {
      "text/plain": [
       "{u'drug.plans.drug_tier': u'string',\n",
       " u'drug.plans.prior_authorization': u'boolean',\n",
       " u'drug.plans.quantity_limit': u'boolean',\n",
       " u'drug.plans.step_therapy': u'boolean',\n",
       " u'plan.formulary.cost_sharing.coinsurance_opt': u'string',\n",
       " u'plan.formulary.cost_sharing.coinsurance_rate': u'float',\n",
       " u'plan.formulary.cost_sharing.copay_amount': u'float',\n",
       " u'plan.formulary.cost_sharing.copay_opt': u'string',\n",
       " u'plan.formulary.cost_sharing.pharmacy_type': u'string',\n",
       " u'plan.formulary.drug_tier': u'string',\n",
       " u'plan.formulary.mail_order': u'boolean',\n",
       " u'plan.network.network_tier': u'string',\n",
       " u'plan.plan_id_type': u'string'}"
      ]
     },
     "execution_count": 3,
     "metadata": {},
     "output_type": "execute_result"
    }
   ],
   "source": [
    "def getEncodeFields(encode_def, rtn, path=''):\n",
    "    ''' extract the selected fields from the encode json definition '''\n",
    "    \n",
    "    if 'encode' in encode_def and encode_def['encode'] == 1:\n",
    "        rtn[path[1:]] = encode_def['type']\n",
    "    elif 'encode' not in encode_def:\n",
    "        for f in encode_def:\n",
    "            getEncodeFields(encode_def[f], rtn, path + ('' if f=='properties' else '.'+f))\n",
    "    return rtn\n",
    "\n",
    "def logTime():\n",
    "    return str(datetime.datetime.now())\n",
    "\n",
    "encode_list = getEncodeFields(json.load(open('encode2.json')), {})\n",
    "encode_list"
   ]
  },
  {
   "cell_type": "markdown",
   "metadata": {},
   "source": [
    "###Data uniformity check"
   ]
  },
  {
   "cell_type": "code",
   "execution_count": 104,
   "metadata": {
    "collapsed": false
   },
   "outputs": [
    {
     "name": "stdout",
     "output_type": "stream",
     "text": [
      "2016-07-04 12:28:11.725141: plan document: 12242\n",
      "2016-07-04 12:28:11.809816: drug document: 1540473\n",
      "2016-07-04 12:28:11.893561: unique plan_id: 6035\n",
      "2016-07-04 12:28:11.893687: unique rxnorm_id: 46206\n",
      "2016-07-04 12:28:12.530894: plans with multiple documents: 1259\n",
      "2016-07-04 12:28:15.130023: drugs with multiple documents: 12807\n",
      "2016-07-04 12:28:15.134036: states in the plan: AK,AL,AR,AZ,CO,DE,FL,GA,HI,IA,IL,IN,KS,KY,LA,MA,ME,MI,MN,MO,MS,MT,NC,ND,NE,NH,NJ,NM,NV,OH,OK,OR,PA,SC,SD,TN,TX,UT,VA,WA,WI,WV,WY\n"
     ]
    }
   ],
   "source": [
    "print '%s: plan document: %d' %(logTime(), plan_col.count())\n",
    "print '%s: drug document: %d' %(logTime(), drug_col.count())\n",
    "print '%s: unique plan_id: %d' %(logTime(), len(all_plan))\n",
    "print '%s: unique rxnorm_id: %d' %(logTime(), len(all_drug))\n",
    "\n",
    "multi_plan = [1 for p in plan_col.aggregate([{\"$group\": {\"_id\":\"$plan_id\", \"count\":{\"$sum\":1}}}]) if p['count']>1]\n",
    "print '%s: plans with multiple documents: %d' %(logTime(), sum(multi_plan))\n",
    "\n",
    "multi_drug = [1 for p in drug_col.aggregate([{\"$group\": {\"_id\":\"$rxnorm_id\", \"count\":{\"$sum\":1}}}]) if p['count']>1]\n",
    "print '%s: drugs with multiple documents: %d' %(logTime(), sum(multi_drug))\n",
    "\n",
    "state_id = np.unique([i[5:7] for i in all_plan])\n",
    "print '%s: states in the plan: %s' %(logTime(), ', '.join(state_id))"
   ]
  },
  {
   "cell_type": "markdown",
   "metadata": {},
   "source": [
    "###Get feature space"
   ]
  },
  {
   "cell_type": "code",
   "execution_count": 111,
   "metadata": {
    "collapsed": false,
    "scrolled": false
   },
   "outputs": [
    {
     "name": "stdout",
     "output_type": "stream",
     "text": [
      "processing 190 plans for OR ...\n"
     ]
    },
    {
     "data": {
      "text/plain": [
       "{u'drug.plans.drug_tier': [u'PREFERRED-BRAND',\n",
       "  u'NON-PREFERRED-BRAND',\n",
       "  u'GENERIC',\n",
       "  u'SPECIALTY',\n",
       "  u'ZERO-COST-SHARE-PREVENTIVE',\n",
       "  u'NON-PREFERRED-GENERIC',\n",
       "  u'PREFERRED',\n",
       "  u'BRAND',\n",
       "  u'SELECT',\n",
       "  u'PREVENTIVE',\n",
       "  u'VALUE',\n",
       "  u'MEDICAL-SERVICE-DRUGS',\n",
       "  u'MEDICAL-SERVICE',\n",
       "  u'NON-PREFERRED',\n",
       "  u'FORMULARY-DRUGS',\n",
       "  u'NONPREFERRED-BRAND',\n",
       "  u'PREVENTIVE-ACA'],\n",
       " u'plan.formulary.cost_sharing.coinsurance_opt': [u'NO-CHARGE',\n",
       "  None,\n",
       "  u'AFTER-DEDUCTIBLE'],\n",
       " u'plan.formulary.cost_sharing.copay_opt': [u'AFTER-DEDUCTIBLE',\n",
       "  u'NO-CHARGE-AFTER-DEDUCTIBLE',\n",
       "  u'BEFORE-DEDUCTIBLE',\n",
       "  u'NO-CHARGE'],\n",
       " u'plan.formulary.cost_sharing.pharmacy_type': [u'1-MONTH-IN-RETAIL',\n",
       "  u'3-MONTH-IN-MAIL',\n",
       "  u'1-MONTH-OUT-RETAIL',\n",
       "  u'3-MONTH-IN-RETAIL'],\n",
       " u'plan.formulary.drug_tier': [u'GENERIC',\n",
       "  u'NON-PREFERRED-BRAND',\n",
       "  u'PREFERRED-BRAND',\n",
       "  u'SPECIALTY',\n",
       "  u'ZERO-COST-SHARE-PREVENTIVE',\n",
       "  u'BRAND',\n",
       "  u'MEDICAL-SERVICE-DRUGS',\n",
       "  u'PREFERRED',\n",
       "  u'PREVENTIVE',\n",
       "  u'SELECT',\n",
       "  u'VALUE',\n",
       "  u'MEDICAL-SERVICE',\n",
       "  u'NON-PREFERRED-GENERIC-PREFERRED-BRAND',\n",
       "  u'PREFERRED-GENERIC',\n",
       "  u'NON-PREFERRED BRAND',\n",
       "  u'PREFERRED BRAND',\n",
       "  u'SPECIALTY DRUGS',\n",
       "  u'NONPREFERRED-BRAND',\n",
       "  u'PREVENTIVE-ACA',\n",
       "  u'FORMULARY-DRUGS'],\n",
       " u'plan.network.network_tier': [u'TIER-ONE',\n",
       "  u'TIER-THREE',\n",
       "  u'TIER-TWO',\n",
       "  u'PREFERRED',\n",
       "  u'NON-PREFERRED',\n",
       "  u'EPO',\n",
       "  u'CHOICE',\n",
       "  u'CONNECT',\n",
       "  u'TIER-ONE-REFERRAL-REQUIRED',\n",
       "  u'LIFEWISE',\n",
       "  u'OREGON-EPO'],\n",
       " u'plan.plan_id_type': [u'HIOS-PLAN-ID']}"
      ]
     },
     "execution_count": 111,
     "metadata": {},
     "output_type": "execute_result"
    }
   ],
   "source": [
    "state = 'OR' # set to None to include all (very slow process for all)\n",
    "ex_id = all_plan if not state else [i for i in all_plan if state in i]\n",
    "print 'processing %d plans for %s ...' %(len(ex_id), 'all' if not state else state)\n",
    "\n",
    "feature_space = {\n",
    "    k : (plan_col if k.startswith('plan') else drug_col).find(\n",
    "        { ('plan_id' if k.startswith('plan') else 'plans.plan_id') : {'$in':ex_id} }\n",
    "    ).distinct(k[k.index('.')+1:]) \n",
    "    for k,v in encode_list.items() if v=='string'\n",
    "}\n",
    "\n",
    "feature_space"
   ]
  },
  {
   "cell_type": "markdown",
   "metadata": {},
   "source": [
    "###Get common drugs between plans\n",
    "- operator reference [link](https://docs.mongodb.com/manual/reference/operator/query/)"
   ]
  },
  {
   "cell_type": "code",
   "execution_count": 112,
   "metadata": {
    "collapsed": false
   },
   "outputs": [
    {
     "name": "stdout",
     "output_type": "stream",
     "text": [
      "2016-07-04 12:51:41.326089: checking common drugs among 190 OR plans ...\n",
      "2016-07-04 12:51:46.596693: finishing 30 plans, 0 plan without drug, 2525 common drugs ...\n",
      "2016-07-04 12:51:50.465489: finishing 60 plans, 0 plan without drug, 2525 common drugs ...\n",
      "2016-07-04 12:51:54.349755: finishing 90 plans, 0 plan without drug, 2525 common drugs ...\n",
      "2016-07-04 12:51:58.336120: finishing 120 plans, 0 plan without drug, 2430 common drugs ...\n",
      "2016-07-04 12:52:07.675412: finishing 150 plans, 0 plan without drug, 1997 common drugs ...\n",
      "2016-07-04 12:52:11.567414: finishing 180 plans, 0 plan without drug, 1965 common drugs ...\n",
      "2016-07-04 12:52:13.022325: plan without drug: 0\n",
      "2016-07-04 12:52:13.023578: there are 1965 common drug between 190 plans!\n"
     ]
    }
   ],
   "source": [
    "# get rxnorm_id group for each plan\n",
    "plan_drug = [drug_col.find({'plans.plan_id':pid}) for pid in ex_id] \n",
    "n_plan = len(ex_id)\n",
    "\n",
    "# find the first plan with non-zero drug association, \n",
    "# otherwise 'i' is out-of-bound of plan_drug and will stop 'naturally'\n",
    "cnt, i = [], -1\n",
    "while(len(cnt) == 0):\n",
    "    i += 1    \n",
    "    cnt = plan_drug[i].distinct('rxnorm_id')   \n",
    "\n",
    "common_drug, n_empty = Set(cnt), i\n",
    "\n",
    "print '%s: checking common drugs among %d %s plans ...' %(logTime(), n_plan - i, state)\n",
    "for pd in plan_drug[i+1:]:\n",
    "    i += 1\n",
    "    rx = pd.distinct('rxnorm_id')\n",
    "    if len(rx) > 0:\n",
    "        common_drug.intersection_update(rx)\n",
    "    else:\n",
    "        n_empty += 1\n",
    "    if i%30 == 0:\n",
    "        print '%s: finishing %d plans, %d plan without drug, %d common drugs ...' %(logTime(), i, n_empty, len(common_drug))\n",
    "\n",
    "print '%s: plan without drug: %d' %(logTime(), n_empty)\n",
    "\n",
    "# common_drug and drug_attr list will ensure the order of drug/attribute combination remains unchange\n",
    "common_drug = list(common_drug)\n",
    "n_drug = len(common_drug)\n",
    "drug_attr = [[k.split('.')[-1],v,k] for k,v in encode_list.items() if k.startswith ('drug')]\n",
    "drug_cat_index = [k[1]=='string' for k in drug_attr]*n_drug\n",
    "\n",
    "print '%s: there are %d common drug between %d plans!' %(logTime(), n_drug, n_plan-n_empty)"
   ]
  },
  {
   "cell_type": "markdown",
   "metadata": {},
   "source": [
    "###Get pharmacy_type space (over all extracted plan IDs) for each drug_tier"
   ]
  },
  {
   "cell_type": "code",
   "execution_count": 211,
   "metadata": {
    "collapsed": false
   },
   "outputs": [
    {
     "data": {
      "text/plain": [
       "{u'BRAND': [u'1-MONTH-IN-RETAIL', u'3-MONTH-IN-MAIL', u'1-MONTH-OUT-RETAIL'],\n",
       " u'FORMULARY-DRUGS': [u'1-MONTH-IN-RETAIL', u'3-MONTH-IN-MAIL'],\n",
       " u'GENERIC': [u'1-MONTH-IN-RETAIL', u'3-MONTH-IN-MAIL'],\n",
       " u'MEDICAL-SERVICE': [],\n",
       " u'MEDICAL-SERVICE-DRUGS': [u'1-MONTH-IN-RETAIL', u'3-MONTH-IN-RETAIL'],\n",
       " u'NON-PREFERRED BRAND': [],\n",
       " u'NON-PREFERRED-BRAND': [],\n",
       " u'NON-PREFERRED-GENERIC-PREFERRED-BRAND': [],\n",
       " u'NONPREFERRED-BRAND': [u'1-MONTH-IN-RETAIL', u'3-MONTH-IN-MAIL'],\n",
       " u'PREFERRED': [u'1-MONTH-IN-RETAIL',\n",
       "  u'3-MONTH-IN-MAIL',\n",
       "  u'1-MONTH-OUT-RETAIL'],\n",
       " u'PREFERRED BRAND': [],\n",
       " u'PREFERRED-BRAND': [u'1-MONTH-IN-RETAIL', u'3-MONTH-IN-MAIL'],\n",
       " u'PREFERRED-GENERIC': [],\n",
       " u'PREVENTIVE': [u'1-MONTH-IN-RETAIL'],\n",
       " u'PREVENTIVE-ACA': [u'1-MONTH-IN-RETAIL'],\n",
       " u'SELECT': [u'1-MONTH-IN-RETAIL', u'3-MONTH-IN-MAIL', u'1-MONTH-OUT-RETAIL'],\n",
       " u'SPECIALTY': [u'1-MONTH-IN-RETAIL'],\n",
       " u'SPECIALTY DRUGS': [],\n",
       " u'VALUE': [u'1-MONTH-IN-RETAIL', u'3-MONTH-IN-MAIL', u'1-MONTH-OUT-RETAIL'],\n",
       " u'ZERO-COST-SHARE-PREVENTIVE': []}"
      ]
     },
     "execution_count": 211,
     "metadata": {},
     "output_type": "execute_result"
    }
   ],
   "source": [
    "# Note: issue with distinct in the query\n",
    "# tier_pharm = {tier : plan_col.find(\n",
    "#         {'plan_id':{'$in':ex_id}, 'formulary.drug_tier':tier, 'formulary.0.cost_sharing.0':{'$exists':True}},\n",
    "#         {'_id':0, 'formulary':{'$elemMatch':{'drug_tier':tier}}}\n",
    "#     ).distinct('formulary.cost_sharing.pharmacy_type')\n",
    "#     for tier in feature_space['plan.formulary.drug_tier']\n",
    "# }\n",
    "\n",
    "tier_pharm = {}\n",
    "for tier in feature_space['plan.formulary.drug_tier']:\n",
    "    query = plan_col.find(\n",
    "        {\n",
    "            'plan_id':{'$in':ex_id}, \n",
    "            'formulary.drug_tier':tier,\n",
    "            'formulary.0.cost_sharing.0':{'$exists':True},             \n",
    "        },\n",
    "        {'_id':0, 'formulary':{'$elemMatch':{'drug_tier':tier}}}\n",
    "    )\n",
    "    tier_pharm[tier] = list(Set(cs['pharmacy_type'] for p in query for f in p['formulary'] for cs in f['cost_sharing']))\n",
    "\n",
    "# simple query to double check results\n",
    "# for p in plan_col.find({'plan_id':{'$in':ex_id}}):\n",
    "#     if 'formulary' not in p:\n",
    "#         continue\n",
    "#     if type(p['formulary']) is dict:\n",
    "#         p['formulary'] = [p['formulary']]\n",
    "#     for f in p['formulary']:        \n",
    "#         if f['drug_tier'] not in tier_pharm:\n",
    "#             tier_pharm[f['drug_tier']]=[]        \n",
    "#         if 'cost_sharing' not in f:\n",
    "#             continue\n",
    "#         for cs in f['cost_sharing']:\n",
    "#             tier_pharm[f['drug_tier']].append(cs['pharmacy_type'])\n",
    "# tier_pharm = {k:list(set(v)) for k,v in tier_pharm.items()}\n",
    "\n",
    "tier_pharm"
   ]
  },
  {
   "cell_type": "markdown",
   "metadata": {},
   "source": [
    "###Get unique pharmacy_type for each drug_tier"
   ]
  },
  {
   "cell_type": "code",
   "execution_count": 7,
   "metadata": {
    "collapsed": false
   },
   "outputs": [],
   "source": [
    "# put tier names into list so the order is fixed for feature extraction\n",
    "tiers = tier_pharm.keys()\n",
    "# we build pharmacy type into the order of feature vector, so no need to include\n",
    "cost_attr = [[k.split('.')[-1],v,k] for k,v in encode_list.items() if 'cost_sharing' in k and 'pharmacy_type' not in k]\n",
    "# flatten the vector to combine all tiers\n",
    "cost_cat_index = [y for x in [[k[1]=='string' for k in cost_attr]*len(tier_pharm[t]) for t in tiers] for y in x]\n",
    "# plan level attributes\n",
    "plan_attr = [[k.split('.')[-1],v,k] for k,v in encode_list.items() if k.startswith('plan') and 'formulary' not in k]\n",
    "plan_cat_index = [a[1]=='string' for a in plan_attr]\n",
    "# total feature catagrical index - must match with the order of feature canconnation in plan\n",
    "cat_index = cost_cat_index + drug_cat_index"
   ]
  },
  {
   "cell_type": "markdown",
   "metadata": {},
   "source": [
    "###Extraction integer features for each plan\n",
    "- get plan feature --> cost_sharing/pharmacy type\n",
    "- get drug feature --> drug_tier"
   ]
  },
  {
   "cell_type": "code",
   "execution_count": 9,
   "metadata": {
    "collapsed": false
   },
   "outputs": [
    {
     "name": "stdout",
     "output_type": "stream",
     "text": [
      "plan 21989AK0030001 doesn't have complete Drug Tier info: 0 tiers\n",
      "plan 21989AK0050001 doesn't have complete Drug Tier info: 0 tiers\n",
      "plan 21989AK0050002 doesn't have complete Drug Tier info: 0 tiers\n",
      "plan 21989AK0070001 doesn't have complete Drug Tier info: 0 tiers\n",
      "plan 28415OR0210001 doesn't have complete Drug Tier info: 0 tiers\n",
      "plan 28415OR0010001 doesn't have complete Drug Tier info: 0 tiers\n",
      "plan 28415OR0010002 doesn't have complete Drug Tier info: 0 tiers\n",
      "plan 28415OR0050001 doesn't have complete Drug Tier info: 0 tiers\n"
     ]
    }
   ],
   "source": [
    "# for each plan, get int features (plan level & combined fomulary level)\n",
    "plan_int_feature = {}\n",
    "# TODO: generate index for categorical variable\n",
    "for pid in ex_id:\n",
    "    print '%s: processing plan \\'%s\\' ...' %(logTime(), pid)\n",
    "    # initialize feature vector\n",
    "    tier_feature = [None]*len(tiers)\n",
    "    \n",
    "    # for each plan document\n",
    "    for plan_data in plan_col.find({'plan_id':pid},{'_id':0}):\n",
    "        # TODO: check if network tier is necessary\n",
    "        # plan_data['network'][0]['network_tier']\n",
    "\n",
    "        if 'formulary' not in plan_data:\n",
    "            print '%s: skip a plan doc without formulary for %s' %(logTime(), pid)\n",
    "            continue\n",
    "            \n",
    "        # handle format irregularity, put formulary as list for some plan doc\n",
    "        if type(plan_data['formulary']) is dict:\n",
    "            plan_data['formulary'] = [plan_data['formulary']]\n",
    "        \n",
    "        # build feature for each drug_tier in formulary\n",
    "        for tier in plan_data['formulary']:\n",
    "            t_name = tier['drug_tier']\n",
    "            # add mail order feature for the tier\n",
    "            tier_feature[tiers.index(t_name)] = [tier['mail_order']]\n",
    "            \n",
    "            # skip if no cost_sharing field, only mail_order\n",
    "            if (len(tier_pharm[t_name]) == 0) or ('cost_sharing' not in tier):                \n",
    "                continue\n",
    "            \n",
    "            if type(tier['cost_sharing']) is dict:\n",
    "                tier['cost_sharing'] = [tier['cost_sharing']]\n",
    "                \n",
    "            # for each drug_tier, expland cost_sharing for all pharmacy_type\n",
    "            cost_feature = [None]*len(tier_pharm[t_name])\n",
    "            \n",
    "            for cs in tier['cost_sharing']:            \n",
    "                ph_idx = tier_pharm[t_name].index(cs['pharmacy_type'])\n",
    "                cost_feature[ph_idx] = [cs[a[0]] if a[1]!='string'\n",
    "                                        else feature_space[a[2]].index(cs[a[0]]) \n",
    "                                        for a in cost_attr]\n",
    "            tier_feature[tiers.index(t_name)] += [c if c else [None]*len(cost_attr) for c in cost_feature]        \n",
    "        \n",
    "    # flaten the vector for the plan from hierarchy: tier-cost-pharmacy\n",
    "    formulary_feature = [z for x in tier_feature for y in x for z in y]\n",
    "    \n",
    "    \n",
    "    # get the list of drug attributes for a plan\n",
    "    drug_cur = drug_col.find(\n",
    "        {'plans.plan_id':pid, 'rxnorm_id':{'$in':common_drug}},# 'plans.0':{'$exists':True}}, \n",
    "        {'_id':0, 'rxnorm_id':1, 'plans':{ '$elemMatch':{'plan_id':pid} }}\n",
    "    )\n",
    "\n",
    "    drug_dict = {d['rxnorm_id']:d['plans'][0] for d in drug_cur} #TODO: choose the plan matches the tier\n",
    "\n",
    "    # drop the plan if it doesn't match with common drug list\n",
    "    if len(drug_dict) != n_drug:\n",
    "        print 'plan %s drug list doesn\\'t have all common drug (n=%d), skip' %(pid, len(drug_dict))\n",
    "        continue\n",
    "\n",
    "    # flat the drug attributes for all common drugs    \n",
    "    drug_feature = [drug_dict[rx][attr[0]] if attr[1]!='string' \n",
    "                             else feature_space[attr[2]].index(drug_dict[rx][attr[0]])\n",
    "                             for rx in common_drug for attr in drug_attr]\n",
    "    \n",
    "    # combine for plan feature - must match with catagroical index concannation order\n",
    "    plan_int_feature[pid] = formulary_feature + drug_feature\n"
   ]
  },
  {
   "cell_type": "code",
   "execution_count": 194,
   "metadata": {
    "collapsed": false,
    "scrolled": false
   },
   "outputs": [
    {
     "name": "stdout",
     "output_type": "stream",
     "text": [
      "1 \n",
      "\n",
      "[{u'drug_tier': u'GENERIC', u'mail_order': True}, {u'drug_tier': u'NON-PREFERRED-BRAND', u'mail_order': True}, {u'drug_tier': u'PREFERRED-BRAND', u'mail_order': True}, {u'drug_tier': u'SPECIALTY', u'mail_order': True}, {u'drug_tier': u'ZERO-COST-SHARE-PREVENTIVE', u'mail_order': True}]\n",
      "[{u'drug_tier': u'GENERIC', u'mail_order': True}, {u'drug_tier': u'NON-PREFERRED-BRAND', u'mail_order': True}, {u'drug_tier': u'PREFERRED-BRAND', u'mail_order': True}, {u'drug_tier': u'SPECIALTY', u'mail_order': True}, {u'drug_tier': u'ZERO-COST-SHARE-PREVENTIVE', u'mail_order': True}]\n",
      "[{u'drug_tier': u'GENERIC', u'mail_order': True}, {u'drug_tier': u'NON-PREFERRED-BRAND', u'mail_order': True}, {u'drug_tier': u'PREFERRED-BRAND', u'mail_order': True}, {u'drug_tier': u'SPECIALTY', u'mail_order': True}, {u'drug_tier': u'ZERO-COST-SHARE-PREVENTIVE', u'mail_order': True}]\n",
      "[{u'drug_tier': u'GENERIC', u'mail_order': True}, {u'drug_tier': u'NON-PREFERRED-BRAND', u'mail_order': True}, {u'drug_tier': u'PREFERRED-BRAND', u'mail_order': True}, {u'drug_tier': u'SPECIALTY', u'mail_order': True}, {u'drug_tier': u'ZERO-COST-SHARE-PREVENTIVE', u'mail_order': True}]\n",
      "[{u'drug_tier': u'GENERIC', u'mail_order': True}, {u'drug_tier': u'NON-PREFERRED-BRAND', u'mail_order': True}, {u'drug_tier': u'PREFERRED-BRAND', u'mail_order': True}, {u'drug_tier': u'SPECIALTY', u'mail_order': True}, {u'drug_tier': u'ZERO-COST-SHARE-PREVENTIVE', u'mail_order': True}]\n"
     ]
    }
   ],
   "source": [
    "pid = '30969OR0120001'\n",
    "tt = 'NON-PREFERRED-BRAND'\n",
    "\n",
    "print plan_col.find({'plan_id':pid}).count(),'\\n'\n",
    "\n",
    "for p in plan_col.find(\n",
    "        {\n",
    "            'plan_id':{'$in':ex_id}, \n",
    "            'formulary.drug_tier':tt,\n",
    "#             'formulary.0.cost_sharing.0':{'$exists':True},             \n",
    "        },\n",
    "#         {'_id':0, 'formulary':{'$elemMatch':{'drug_tier':tt}}}\n",
    "    ).limit(5):\n",
    "    print p['formulary']"
   ]
  },
  {
   "cell_type": "code",
   "execution_count": 163,
   "metadata": {
    "collapsed": false
   },
   "outputs": [
    {
     "data": {
      "text/plain": [
       "[u'56707OR0850005',\n",
       " u'56707OR0850006',\n",
       " u'56707OR0850008',\n",
       " u'56707OR0870002',\n",
       " u'56707OR0880002',\n",
       " u'56707OR0900008',\n",
       " u'56707OR0900009',\n",
       " u'56707OR0900011',\n",
       " u'56707OR0910008',\n",
       " u'56707OR0910009',\n",
       " u'56707OR0910011',\n",
       " u'56707OR0990002',\n",
       " u'56707OR1000002',\n",
       " u'63474OR0030003',\n",
       " u'39424OR1240001',\n",
       " u'39424OR1240002',\n",
       " u'39424OR1260001',\n",
       " u'39424OR1260002',\n",
       " u'39424OR1310001',\n",
       " u'39424OR1320001',\n",
       " u'39424OR1460001',\n",
       " u'39424OR1460002',\n",
       " u'39424OR1460003',\n",
       " u'39424OR1460004',\n",
       " u'39424OR1470001',\n",
       " u'39424OR1480001',\n",
       " u'39424OR1480002',\n",
       " u'39424OR1480003',\n",
       " u'39424OR1490001',\n",
       " u'39424OR1500001',\n",
       " u'10091OR0360004',\n",
       " u'10091OR0360005',\n",
       " u'10091OR0360006',\n",
       " u'10091OR0360007',\n",
       " u'10091OR0360008',\n",
       " u'10091OR0360009',\n",
       " u'10091OR0360010',\n",
       " u'10091OR0360011',\n",
       " u'10091OR0360012',\n",
       " u'10091OR0370002',\n",
       " u'10091OR0370003',\n",
       " u'10091OR0370004',\n",
       " u'10091OR0380003',\n",
       " u'10091OR0380004',\n",
       " u'10091OR0380005',\n",
       " u'10091OR0380006',\n",
       " u'10091OR0380007',\n",
       " u'10091OR0380008',\n",
       " u'10091OR0380009',\n",
       " u'10091OR0380010',\n",
       " u'10091OR0380011',\n",
       " u'10091OR0380012',\n",
       " u'10091OR0380013',\n",
       " u'10091OR0380014',\n",
       " u'10091OR0390003',\n",
       " u'10091OR0390004',\n",
       " u'10091OR0390005',\n",
       " u'10091OR0390007',\n",
       " u'10091OR0390008',\n",
       " u'10091OR0390009',\n",
       " u'10091OR0390011',\n",
       " u'10091OR0390012',\n",
       " u'10091OR0390014',\n",
       " u'10091OR0390015',\n",
       " u'10091OR0410001',\n",
       " u'10091OR0410002',\n",
       " u'10091OR0410006',\n",
       " u'10091OR0410007',\n",
       " u'10091OR0410008',\n",
       " u'10091OR0410009',\n",
       " u'10091OR0410010',\n",
       " u'10091OR0410011',\n",
       " u'10091OR0410012',\n",
       " u'10091OR0420001',\n",
       " u'10091OR0420002',\n",
       " u'10091OR0420003',\n",
       " u'10091OR0420006',\n",
       " u'10091OR0420007',\n",
       " u'10091OR0420008',\n",
       " u'10091OR0420009',\n",
       " u'10091OR0420010',\n",
       " u'10091OR0420011',\n",
       " u'10091OR0420012',\n",
       " u'10091OR0420013',\n",
       " u'10091OR0420014',\n",
       " u'10091OR0440002',\n",
       " u'10091OR0440003',\n",
       " u'10091OR0440005',\n",
       " u'10091OR0440012',\n",
       " u'10091OR0440014',\n",
       " u'10091OR0440020',\n",
       " u'10091OR0440021',\n",
       " u'10091OR0440022',\n",
       " u'10091OR0440024',\n",
       " u'10091OR0440025',\n",
       " u'10091OR0440026',\n",
       " u'10091OR0440027',\n",
       " u'10091OR0470002',\n",
       " u'10091OR0480001',\n",
       " u'10091OR0490001',\n",
       " u'10091OR0500001',\n",
       " u'10091OR0500002',\n",
       " u'10091OR0500003',\n",
       " u'10091OR0510005',\n",
       " u'10091OR0510006',\n",
       " u'10091OR0510007',\n",
       " u'10091OR0510008',\n",
       " u'10091OR0520005',\n",
       " u'10091OR0520006',\n",
       " u'10091OR0520007',\n",
       " u'10091OR0520008',\n",
       " u'10091OR0520009',\n",
       " u'10091OR0540001',\n",
       " u'10091OR0540002',\n",
       " u'10091OR0590001',\n",
       " u'10091OR0590002',\n",
       " u'10091OR0590003',\n",
       " u'10091OR0590004',\n",
       " u'63474OR0480001',\n",
       " u'63474OR0320001',\n",
       " u'63474OR0540001',\n",
       " u'63474OR0490001',\n",
       " u'63474OR0550001',\n",
       " u'30969OR0050001',\n",
       " u'30969OR0060001',\n",
       " u'30969OR0070001',\n",
       " u'30969OR0080001',\n",
       " u'30969OR0090001',\n",
       " u'30969OR0100001',\n",
       " u'30969OR0110001',\n",
       " u'30969OR0120001',\n",
       " u'30969OR0130001',\n",
       " u'30969OR0140001',\n",
       " u'30969OR0150001',\n",
       " u'30969OR0160001',\n",
       " u'30969OR0170001',\n",
       " u'30969OR0180001',\n",
       " u'30969OR0190001',\n",
       " u'30969OR0200001',\n",
       " u'30969OR0220001',\n",
       " u'30969OR0010001',\n",
       " u'30969OR0020001',\n",
       " u'30969OR0030001',\n",
       " u'30969OR0040001',\n",
       " u'30969OR0210001',\n",
       " u'63474OR0160001',\n",
       " u'63474OR0530001',\n",
       " u'63474OR0500001',\n",
       " u'63474OR0010001',\n",
       " u'71287OR0420001',\n",
       " u'71287OR0420002',\n",
       " u'71287OR0420003',\n",
       " u'71287OR0420004',\n",
       " u'71287OR0420005',\n",
       " u'71287OR0420010',\n",
       " u'71287OR0420011',\n",
       " u'71287OR0420012',\n",
       " u'71287OR0420014',\n",
       " u'71287OR0420015',\n",
       " u'71287OR0430001',\n",
       " u'71287OR0430003',\n",
       " u'71287OR0430005',\n",
       " u'71287OR0430007',\n",
       " u'71287OR0430009',\n",
       " u'71287OR0430011',\n",
       " u'71287OR0430012',\n",
       " u'71287OR0430014',\n",
       " u'71287OR0430016',\n",
       " u'71287OR0430018',\n",
       " u'71287OR0430020',\n",
       " u'71287OR0430022',\n",
       " u'71287OR0570003',\n",
       " u'71287OR0570007',\n",
       " u'71287OR0570013',\n",
       " u'85804OR0530001',\n",
       " u'85804OR0530002',\n",
       " u'85804OR0530003',\n",
       " u'85804OR0540001',\n",
       " u'85804OR0540002',\n",
       " u'85804OR0550001',\n",
       " u'85804OR0560001',\n",
       " u'85804OR0570001',\n",
       " u'85804OR0570002',\n",
       " u'63474OR0140001',\n",
       " u'63474OR0010002',\n",
       " u'63474OR0330001',\n",
       " u'63474OR0510001',\n",
       " u'63474OR0310001',\n",
       " u'63474OR0520001',\n",
       " u'63474OR0130001']"
      ]
     },
     "execution_count": 163,
     "metadata": {},
     "output_type": "execute_result"
    }
   ],
   "source": [
    "ex_id"
   ]
  },
  {
   "cell_type": "code",
   "execution_count": 109,
   "metadata": {
    "collapsed": false
   },
   "outputs": [],
   "source": [
    "client.close()"
   ]
  },
  {
   "cell_type": "code",
   "execution_count": 56,
   "metadata": {
    "collapsed": false
   },
   "outputs": [
    {
     "name": "stdout",
     "output_type": "stream",
     "text": [
      "drugs: 2710\n",
      "--- 19.570182085 seconds ---\n"
     ]
    }
   ],
   "source": [
    "t0 = time.time()\n",
    "print 'drugs: %d' %len(drug_col.find({'plans.plan_id':'67577MI0390012'}).distinct('rxnorm_id'))\n",
    "print(\"--- %s seconds ---\" % (time.time() - t0))"
   ]
  },
  {
   "cell_type": "code",
   "execution_count": 84,
   "metadata": {
    "collapsed": false
   },
   "outputs": [
    {
     "data": {
      "text/plain": [
       "{u'drug_name': u'Brimonidine tartrate 2 MG/ML / Timolol 5 MG/ML Ophthalmic Solution [Combigan]',\n",
       " u'rxnorm_id': u'861637'}"
      ]
     },
     "execution_count": 84,
     "metadata": {},
     "output_type": "execute_result"
    }
   ],
   "source": [
    "# regex filtering\n",
    "\n",
    "regx = re.compile(\".combigan.\", re.IGNORECASE)\n",
    "drug_col.find_one({'drug_name':regx}, {'_id':0, 'drug_name':1, 'rxnorm_id':1})"
   ]
  }
 ],
 "metadata": {
  "kernelspec": {
   "display_name": "Python 2",
   "language": "python",
   "name": "python2"
  },
  "language_info": {
   "codemirror_mode": {
    "name": "ipython",
    "version": 2
   },
   "file_extension": ".py",
   "mimetype": "text/x-python",
   "name": "python",
   "nbconvert_exporter": "python",
   "pygments_lexer": "ipython2",
   "version": "2.7.9"
  }
 },
 "nbformat": 4,
 "nbformat_minor": 0
}
