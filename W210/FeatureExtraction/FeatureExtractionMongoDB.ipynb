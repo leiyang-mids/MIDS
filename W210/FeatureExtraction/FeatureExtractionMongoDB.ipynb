{
 "cells": [
  {
   "cell_type": "code",
   "execution_count": 1,
   "metadata": {
    "collapsed": true
   },
   "outputs": [],
   "source": [
    "from sklearn.preprocessing import OneHotEncoder\n",
    "from pymongo import MongoClient\n",
    "from zipfile import ZipFile, ZIP_DEFLATED\n",
    "from sets import Set\n",
    "import numpy as np\n",
    "import json, sys, os, time, re, datetime"
   ]
  },
  {
   "cell_type": "code",
   "execution_count": 2,
   "metadata": {
    "collapsed": false
   },
   "outputs": [
    {
     "name": "stdout",
     "output_type": "stream",
     "text": [
      "Using aws Mongo, total drug: 46206, total plan: 6035\n"
     ]
    }
   ],
   "source": [
    "local = False\n",
    "if local:\n",
    "    client = MongoClient('localhost', 27017)\n",
    "    plan_col = client.aca.plan\n",
    "    drug_col = client.aca.drug\n",
    "else:\n",
    "    client = MongoClient('ec2-54-153-83-172.us-west-1.compute.amazonaws.com', 27017)\n",
    "    plan_col = client.plans.plans\n",
    "    drug_col = client.formularies.drugs\n",
    "    prov_col = client.providers.providers\n",
    "    faci_col = client.providers.facilities\n",
    "\n",
    "all_plan = drug_col.distinct('plans.plan_id')\n",
    "all_drug = drug_col.distinct('rxnorm_id')\n",
    "\n",
    "print 'Using %s Mongo, total drug: %d, total plan: %d' %('local' if local else 'aws', len(all_drug), len(all_plan))\n",
    "# client.formularies.scollection_names()\n",
    "# client.providers.collection_names()"
   ]
  },
  {
   "cell_type": "markdown",
   "metadata": {},
   "source": [
    "###Load encode definition"
   ]
  },
  {
   "cell_type": "code",
   "execution_count": 3,
   "metadata": {
    "collapsed": false
   },
   "outputs": [
    {
     "data": {
      "text/plain": [
       "{u'drug.plans.drug_tier': u'string',\n",
       " u'drug.plans.prior_authorization': u'boolean',\n",
       " u'drug.plans.quantity_limit': u'boolean',\n",
       " u'drug.plans.step_therapy': u'boolean',\n",
       " u'plan.formulary.cost_sharing.coinsurance_opt': u'string',\n",
       " u'plan.formulary.cost_sharing.coinsurance_rate': u'float',\n",
       " u'plan.formulary.cost_sharing.copay_amount': u'float',\n",
       " u'plan.formulary.cost_sharing.copay_opt': u'string',\n",
       " u'plan.formulary.cost_sharing.pharmacy_type': u'string',\n",
       " u'plan.formulary.drug_tier': u'string',\n",
       " u'plan.formulary.mail_order': u'boolean',\n",
       " u'plan.network.network_tier': u'string',\n",
       " u'plan.plan_id_type': u'string'}"
      ]
     },
     "execution_count": 3,
     "metadata": {},
     "output_type": "execute_result"
    }
   ],
   "source": [
    "def getEncodeFields(encode_def, rtn, path=''):\n",
    "    ''' extract the selected fields from the encode json definition '''\n",
    "    \n",
    "    if 'encode' in encode_def and encode_def['encode'] == 1:\n",
    "        rtn[path[1:]] = encode_def['type']\n",
    "    elif 'encode' not in encode_def:\n",
    "        for f in encode_def:\n",
    "            getEncodeFields(encode_def[f], rtn, path + ('' if f=='properties' else '.'+f))\n",
    "    return rtn\n",
    "\n",
    "def logTime():\n",
    "    return str(datetime.datetime.now())\n",
    "\n",
    "encode_list = getEncodeFields(json.load(open('encode2.json')), {})\n",
    "encode_list"
   ]
  },
  {
   "cell_type": "markdown",
   "metadata": {},
   "source": [
    "###Data uniformity check"
   ]
  },
  {
   "cell_type": "code",
   "execution_count": 4,
   "metadata": {
    "collapsed": false
   },
   "outputs": [
    {
     "name": "stdout",
     "output_type": "stream",
     "text": [
      "2016-07-04 18:28:54.300973: plan document: 12242\n",
      "2016-07-04 18:28:54.404909: drug document: 1540473\n",
      "2016-07-04 18:28:54.489507: unique plan_id: 6035\n",
      "2016-07-04 18:28:54.489632: unique rxnorm_id: 46206\n",
      "2016-07-04 18:28:55.403251: plans with multiple documents: 1259\n",
      "2016-07-04 18:29:44.784706: drugs with multiple documents: 12807\n",
      "2016-07-04 18:29:44.786961: states in the plan: AK, AL, AR, AZ, CO, DE, FL, GA, HI, IA, IL, IN, KS, KY, LA, MA, ME, MI, MN, MO, MS, MT, NC, ND, NE, NH, NJ, NM, NV, OH, OK, OR, PA, SC, SD, TN, TX, UT, VA, WA, WI, WV, WY\n"
     ]
    }
   ],
   "source": [
    "print '%s: plan document: %d' %(logTime(), plan_col.count())\n",
    "print '%s: drug document: %d' %(logTime(), drug_col.count())\n",
    "print '%s: unique plan_id: %d' %(logTime(), len(all_plan))\n",
    "print '%s: unique rxnorm_id: %d' %(logTime(), len(all_drug))\n",
    "\n",
    "multi_plan = [1 for p in plan_col.aggregate([{\"$group\": {\"_id\":\"$plan_id\", \"count\":{\"$sum\":1}}}]) if p['count']>1]\n",
    "print '%s: plans with multiple documents: %d' %(logTime(), sum(multi_plan))\n",
    "\n",
    "multi_drug = [1 for p in drug_col.aggregate([{\"$group\": {\"_id\":\"$rxnorm_id\", \"count\":{\"$sum\":1}}}]) if p['count']>1]\n",
    "print '%s: drugs with multiple documents: %d' %(logTime(), sum(multi_drug))\n",
    "\n",
    "state_id = np.unique([i[5:7] for i in all_plan])\n",
    "print '%s: states in the plan: %s' %(logTime(), ', '.join(state_id))"
   ]
  },
  {
   "cell_type": "markdown",
   "metadata": {},
   "source": [
    "###Get feature space"
   ]
  },
  {
   "cell_type": "code",
   "execution_count": 5,
   "metadata": {
    "collapsed": false,
    "scrolled": false
   },
   "outputs": [
    {
     "name": "stdout",
     "output_type": "stream",
     "text": [
      "processing 190 plans for OR ...\n"
     ]
    },
    {
     "data": {
      "text/plain": [
       "{u'drug.plans.drug_tier': [u'PREFERRED-BRAND',\n",
       "  u'NON-PREFERRED-BRAND',\n",
       "  u'GENERIC',\n",
       "  u'SPECIALTY',\n",
       "  u'ZERO-COST-SHARE-PREVENTIVE',\n",
       "  u'NON-PREFERRED-GENERIC',\n",
       "  u'PREFERRED',\n",
       "  u'BRAND',\n",
       "  u'SELECT',\n",
       "  u'PREVENTIVE',\n",
       "  u'VALUE',\n",
       "  u'MEDICAL-SERVICE-DRUGS',\n",
       "  u'MEDICAL-SERVICE',\n",
       "  u'NON-PREFERRED',\n",
       "  u'FORMULARY-DRUGS',\n",
       "  u'NONPREFERRED-BRAND',\n",
       "  u'PREVENTIVE-ACA'],\n",
       " u'plan.formulary.cost_sharing.coinsurance_opt': [u'NO-CHARGE',\n",
       "  None,\n",
       "  u'AFTER-DEDUCTIBLE'],\n",
       " u'plan.formulary.cost_sharing.copay_opt': [u'AFTER-DEDUCTIBLE',\n",
       "  u'NO-CHARGE-AFTER-DEDUCTIBLE',\n",
       "  u'BEFORE-DEDUCTIBLE',\n",
       "  u'NO-CHARGE'],\n",
       " u'plan.formulary.cost_sharing.pharmacy_type': [u'1-MONTH-IN-RETAIL',\n",
       "  u'3-MONTH-IN-MAIL',\n",
       "  u'1-MONTH-OUT-RETAIL',\n",
       "  u'3-MONTH-IN-RETAIL'],\n",
       " u'plan.formulary.drug_tier': [u'GENERIC',\n",
       "  u'NON-PREFERRED-BRAND',\n",
       "  u'PREFERRED-BRAND',\n",
       "  u'SPECIALTY',\n",
       "  u'ZERO-COST-SHARE-PREVENTIVE',\n",
       "  u'BRAND',\n",
       "  u'MEDICAL-SERVICE-DRUGS',\n",
       "  u'PREFERRED',\n",
       "  u'PREVENTIVE',\n",
       "  u'SELECT',\n",
       "  u'VALUE',\n",
       "  u'MEDICAL-SERVICE',\n",
       "  u'NON-PREFERRED-GENERIC-PREFERRED-BRAND',\n",
       "  u'PREFERRED-GENERIC',\n",
       "  u'NON-PREFERRED BRAND',\n",
       "  u'PREFERRED BRAND',\n",
       "  u'SPECIALTY DRUGS',\n",
       "  u'NONPREFERRED-BRAND',\n",
       "  u'PREVENTIVE-ACA',\n",
       "  u'FORMULARY-DRUGS'],\n",
       " u'plan.network.network_tier': [u'TIER-ONE',\n",
       "  u'TIER-THREE',\n",
       "  u'TIER-TWO',\n",
       "  u'PREFERRED',\n",
       "  u'NON-PREFERRED',\n",
       "  u'EPO',\n",
       "  u'CHOICE',\n",
       "  u'CONNECT',\n",
       "  u'TIER-ONE-REFERRAL-REQUIRED',\n",
       "  u'LIFEWISE',\n",
       "  u'OREGON-EPO'],\n",
       " u'plan.plan_id_type': [u'HIOS-PLAN-ID']}"
      ]
     },
     "execution_count": 5,
     "metadata": {},
     "output_type": "execute_result"
    }
   ],
   "source": [
    "state = 'OR' # set to None to include all (very slow process for all)\n",
    "ex_id = all_plan if not state else [i for i in all_plan if state in i]\n",
    "print 'processing %d plans for %s ...' %(len(ex_id), 'all' if not state else state)\n",
    "\n",
    "feature_space = {\n",
    "    k : (plan_col if k.startswith('plan') else drug_col).find(\n",
    "        { ('plan_id' if k.startswith('plan') else 'plans.plan_id') : {'$in':ex_id} }\n",
    "    ).distinct(k[k.index('.')+1:]) \n",
    "    for k,v in encode_list.items() if v=='string'\n",
    "}\n",
    "\n",
    "feature_space"
   ]
  },
  {
   "cell_type": "markdown",
   "metadata": {},
   "source": [
    "###Get common drugs between plans\n",
    "- operator reference [link](https://docs.mongodb.com/manual/reference/operator/query/)"
   ]
  },
  {
   "cell_type": "code",
   "execution_count": 6,
   "metadata": {
    "collapsed": false
   },
   "outputs": [
    {
     "name": "stdout",
     "output_type": "stream",
     "text": [
      "2016-07-04 18:30:23.117346: checking common drugs among 190 OR plans ...\n",
      "2016-07-04 18:30:28.076358: finishing 30 plans, 0 plan without drug, 2525 common drugs ...\n",
      "2016-07-04 18:30:31.952755: finishing 60 plans, 0 plan without drug, 2525 common drugs ...\n",
      "2016-07-04 18:30:35.821416: finishing 90 plans, 0 plan without drug, 2525 common drugs ...\n",
      "2016-07-04 18:30:39.816357: finishing 120 plans, 0 plan without drug, 2430 common drugs ...\n",
      "2016-07-04 18:30:49.028989: finishing 150 plans, 0 plan without drug, 1997 common drugs ...\n",
      "2016-07-04 18:30:52.937868: finishing 180 plans, 0 plan without drug, 1965 common drugs ...\n",
      "2016-07-04 18:30:54.420824: plan without drug: 0\n",
      "2016-07-04 18:30:54.422079: there are 1965 common drug between 190 plans!\n"
     ]
    }
   ],
   "source": [
    "# get rxnorm_id group for each plan\n",
    "plan_drug = [drug_col.find({'plans.plan_id':pid}) for pid in ex_id] \n",
    "n_plan = len(ex_id)\n",
    "\n",
    "# find the first plan with non-zero drug association, \n",
    "# otherwise 'i' is out-of-bound of plan_drug and will stop 'naturally'\n",
    "cnt, i = [], -1\n",
    "while(len(cnt) == 0):\n",
    "    i += 1    \n",
    "    cnt = plan_drug[i].distinct('rxnorm_id')   \n",
    "\n",
    "common_drug, n_empty = Set(cnt), i\n",
    "\n",
    "print '%s: checking common drugs among %d %s plans ...' %(logTime(), n_plan - i, state)\n",
    "for pd in plan_drug[i+1:]:\n",
    "    i += 1\n",
    "    rx = pd.distinct('rxnorm_id')\n",
    "    if len(rx) > 0:\n",
    "        common_drug.intersection_update(rx)\n",
    "    else:\n",
    "        n_empty += 1\n",
    "    if i%30 == 0:\n",
    "        print '%s: finishing %d plans, %d plan without drug, %d common drugs ...' %(logTime(), i, n_empty, len(common_drug))\n",
    "\n",
    "print '%s: plan without drug: %d' %(logTime(), n_empty)\n",
    "\n",
    "# common_drug and drug_attr list will ensure the order of drug/attribute combination remains unchange\n",
    "common_drug = list(common_drug)\n",
    "n_drug = len(common_drug)\n",
    "drug_attr = [[k.split('.')[-1],v,k] for k,v in encode_list.items() if k.startswith ('drug')]\n",
    "drug_cat_index = [k[1]=='string' for k in drug_attr]*n_drug\n",
    "\n",
    "print '%s: there are %d common drug between %d plans!' %(logTime(), n_drug, n_plan-n_empty)"
   ]
  },
  {
   "cell_type": "markdown",
   "metadata": {},
   "source": [
    "###Get pharmacy_type space (over all extracted plan IDs) for each drug_tier"
   ]
  },
  {
   "cell_type": "code",
   "execution_count": 32,
   "metadata": {
    "collapsed": false
   },
   "outputs": [
    {
     "data": {
      "text/plain": [
       "{u'BRAND': [u'1-MONTH-IN-RETAIL', u'3-MONTH-IN-MAIL', u'1-MONTH-OUT-RETAIL'],\n",
       " u'FORMULARY-DRUGS': [u'1-MONTH-IN-RETAIL', u'3-MONTH-IN-MAIL'],\n",
       " u'GENERIC': [u'1-MONTH-IN-RETAIL', u'3-MONTH-IN-MAIL'],\n",
       " u'MEDICAL-SERVICE': [],\n",
       " u'MEDICAL-SERVICE-DRUGS': [u'1-MONTH-IN-RETAIL', u'3-MONTH-IN-RETAIL'],\n",
       " u'NON-PREFERRED BRAND': [],\n",
       " u'NON-PREFERRED-BRAND': [],\n",
       " u'NON-PREFERRED-GENERIC-PREFERRED-BRAND': [],\n",
       " u'NONPREFERRED-BRAND': [u'1-MONTH-IN-RETAIL', u'3-MONTH-IN-MAIL'],\n",
       " u'PREFERRED': [u'1-MONTH-IN-RETAIL',\n",
       "  u'3-MONTH-IN-MAIL',\n",
       "  u'1-MONTH-OUT-RETAIL'],\n",
       " u'PREFERRED BRAND': [],\n",
       " u'PREFERRED-BRAND': [u'1-MONTH-IN-RETAIL', u'3-MONTH-IN-MAIL'],\n",
       " u'PREFERRED-GENERIC': [],\n",
       " u'PREVENTIVE': [u'1-MONTH-IN-RETAIL'],\n",
       " u'PREVENTIVE-ACA': [u'1-MONTH-IN-RETAIL'],\n",
       " u'SELECT': [u'1-MONTH-IN-RETAIL', u'3-MONTH-IN-MAIL', u'1-MONTH-OUT-RETAIL'],\n",
       " u'SPECIALTY': [u'1-MONTH-IN-RETAIL'],\n",
       " u'SPECIALTY DRUGS': [],\n",
       " u'VALUE': [u'1-MONTH-IN-RETAIL', u'3-MONTH-IN-MAIL', u'1-MONTH-OUT-RETAIL'],\n",
       " u'ZERO-COST-SHARE-PREVENTIVE': []}"
      ]
     },
     "execution_count": 32,
     "metadata": {},
     "output_type": "execute_result"
    }
   ],
   "source": [
    "# Note: issue with distinct in the query\n",
    "# tier_pharm = {tier : plan_col.find(\n",
    "#         {'plan_id':{'$in':ex_id}, 'formulary.drug_tier':tier, 'formulary.0.cost_sharing.0':{'$exists':True}},\n",
    "#         {'_id':0, 'formulary':{'$elemMatch':{'drug_tier':tier}}}\n",
    "#     ).distinct('formulary.cost_sharing.pharmacy_type')\n",
    "#     for tier in feature_space['plan.formulary.drug_tier']\n",
    "# }\n",
    "\n",
    "tier_pharm = {}\n",
    "for tier in feature_space['plan.formulary.drug_tier']:\n",
    "    query = plan_col.find(\n",
    "        {\n",
    "            'plan_id':{'$in':ex_id}, \n",
    "            'formulary.drug_tier':tier,            \n",
    "            'formulary.0.cost_sharing.0':{'$exists':True},             \n",
    "        },\n",
    "        # NOTE: when fomulary is a dict instead of arrary, this projection won't return content\n",
    "        {'_id':0, 'formulary':{'$elemMatch':{'drug_tier':tier}}}\n",
    "    )\n",
    "    tier_pharm[tier] = list(Set(cs['pharmacy_type'] for p in query for f in p['formulary'] for cs in f['cost_sharing']))\n",
    "\n",
    "# simple query to double check results\n",
    "# for p in plan_col.find({'plan_id':{'$in':ex_id}}):\n",
    "#     if 'formulary' not in p:\n",
    "#         continue\n",
    "#     if type(p['formulary']) is dict:\n",
    "#         p['formulary'] = [p['formulary']]\n",
    "#     for f in p['formulary']:        \n",
    "#         if f['drug_tier'] not in tier_pharm:\n",
    "#             tier_pharm[f['drug_tier']]=[]        \n",
    "#         if 'cost_sharing' not in f:\n",
    "#             continue\n",
    "#         for cs in f['cost_sharing']:\n",
    "#             tier_pharm[f['drug_tier']].append(cs['pharmacy_type'])\n",
    "# tier_pharm = {k:list(set(v)) for k,v in tier_pharm.items()}\n",
    "\n",
    "tier_pharm"
   ]
  },
  {
   "cell_type": "markdown",
   "metadata": {},
   "source": [
    "###Get unique pharmacy_type for each drug_tier"
   ]
  },
  {
   "cell_type": "code",
   "execution_count": 8,
   "metadata": {
    "collapsed": false
   },
   "outputs": [],
   "source": [
    "# put tier names into list so the order is fixed for feature extraction\n",
    "tiers = tier_pharm.keys()\n",
    "# we build pharmacy type into the order of feature vector, so no need to include\n",
    "cost_attr = [[k.split('.')[-1],v,k] for k,v in encode_list.items() if 'cost_sharing' in k and 'pharmacy_type' not in k]\n",
    "# flatten the vector to combine all tiers\n",
    "cat2d = [[False] + [k[1]=='string' for k in cost_attr]*len(tier_pharm[t]) for t in tiers]\n",
    "cost_cat_index = [y for x in cat2d for y in x]\n",
    "# # plan level attributes\n",
    "# plan_attr = [[k.split('.')[-1],v,k] for k,v in encode_list.items() if k.startswith('plan') and 'formulary' not in k]\n",
    "# plan_cat_index = [a[1]=='string' for a in plan_attr]\n",
    "\n",
    "# total feature catagrical index - must match with the order of feature canconnation in plan\n",
    "cat_index = cost_cat_index + drug_cat_index\n",
    "catagorical_var = [i for i,v in zip(range(len(cat_index)),cat_index) if v]"
   ]
  },
  {
   "cell_type": "markdown",
   "metadata": {},
   "source": [
    "###Extraction integer features for each plan\n",
    "- get plan feature --> cost_sharing/pharmacy type\n",
    "- get drug feature --> drug_tier"
   ]
  },
  {
   "cell_type": "code",
   "execution_count": null,
   "metadata": {
    "collapsed": false,
    "scrolled": true
   },
   "outputs": [
    {
     "name": "stdout",
     "output_type": "stream",
     "text": [
      "2016-07-04 19:32:14.892895: processing plan '56707OR0850005' (1/190) ...\n",
      "2016-07-04 19:32:18.018536: processing plan '56707OR0850006' (2/190) ...\n",
      "2016-07-04 19:32:20.771413: processing plan '56707OR0850008' (3/190) ...\n",
      "2016-07-04 19:32:23.641595: processing plan '56707OR0870002' (4/190) ...\n",
      "2016-07-04 19:32:26.497346: processing plan '56707OR0880002' (5/190) ...\n",
      "2016-07-04 19:32:29.286589: processing plan '56707OR0900008' (6/190) ...\n",
      "2016-07-04 19:32:32.062202: processing plan '56707OR0900009' (7/190) ...\n",
      "2016-07-04 19:32:34.786535: processing plan '56707OR0900011' (8/190) ...\n",
      "2016-07-04 19:32:37.524136: processing plan '56707OR0910008' (9/190) ...\n",
      "2016-07-04 19:32:40.307112: processing plan '56707OR0910009' (10/190) ...\n",
      "2016-07-04 19:32:43.162691: processing plan '56707OR0910011' (11/190) ...\n",
      "2016-07-04 19:32:45.976802: processing plan '56707OR0990002' (12/190) ...\n",
      "2016-07-04 19:32:48.724495: processing plan '56707OR1000002' (13/190) ...\n",
      "2016-07-04 19:32:52.205873: processing plan '63474OR0030003' (14/190) ...\n",
      "2016-07-04 19:32:56.527739: processing plan '39424OR1240001' (15/190) ...\n",
      "2016-07-04 19:32:59.410750: processing plan '39424OR1240002' (16/190) ...\n",
      "2016-07-04 19:33:02.264328: processing plan '39424OR1260001' (17/190) ...\n",
      "2016-07-04 19:33:05.158098: processing plan '39424OR1260002' (18/190) ...\n",
      "2016-07-04 19:33:07.969752: processing plan '39424OR1310001' (19/190) ...\n",
      "2016-07-04 19:33:10.803214: processing plan '39424OR1320001' (20/190) ...\n",
      "2016-07-04 19:33:13.657675: processing plan '39424OR1460001' (21/190) ...\n",
      "2016-07-04 19:33:16.528794: processing plan '39424OR1460002' (22/190) ...\n",
      "2016-07-04 19:33:19.397961: processing plan '39424OR1460003' (23/190) ...\n",
      "2016-07-04 19:33:22.245202: processing plan '39424OR1460004' (24/190) ...\n",
      "2016-07-04 19:33:25.061744: processing plan '39424OR1470001' (25/190) ...\n",
      "2016-07-04 19:33:27.889634: processing plan '39424OR1480001' (26/190) ...\n",
      "2016-07-04 19:33:30.753614: processing plan '39424OR1480002' (27/190) ...\n",
      "2016-07-04 19:33:33.574916: processing plan '39424OR1480003' (28/190) ...\n",
      "2016-07-04 19:33:36.419151: processing plan '39424OR1490001' (29/190) ...\n",
      "2016-07-04 19:33:39.257157: processing plan '39424OR1500001' (30/190) ...\n",
      "2016-07-04 19:33:42.094264: processing plan '10091OR0360004' (31/190) ...\n",
      "2016-07-04 19:33:44.812355: processing plan '10091OR0360005' (32/190) ...\n",
      "2016-07-04 19:33:47.506306: processing plan '10091OR0360006' (33/190) ...\n",
      "2016-07-04 19:33:50.179047: processing plan '10091OR0360007' (34/190) ...\n",
      "2016-07-04 19:33:52.944630: processing plan '10091OR0360008' (35/190) ...\n",
      "2016-07-04 19:33:55.662108: processing plan '10091OR0360009' (36/190) ...\n",
      "2016-07-04 19:33:58.318253: processing plan '10091OR0360010' (37/190) ...\n",
      "2016-07-04 19:34:00.577883: processing plan '10091OR0360011' (38/190) ...\n",
      "2016-07-04 19:34:03.307252: processing plan '10091OR0360012' (39/190) ...\n",
      "2016-07-04 19:34:05.992673: processing plan '10091OR0370002' (40/190) ...\n",
      "2016-07-04 19:34:08.667210: processing plan '10091OR0370003' (41/190) ...\n",
      "2016-07-04 19:34:11.322982: processing plan '10091OR0370004' (42/190) ...\n",
      "2016-07-04 19:34:14.019693: processing plan '10091OR0380003' (43/190) ...\n",
      "2016-07-04 19:34:16.737061: processing plan '10091OR0380004' (44/190) ...\n",
      "2016-07-04 19:34:19.552839: processing plan '10091OR0380005' (45/190) ...\n",
      "2016-07-04 19:34:22.239877: processing plan '10091OR0380006' (46/190) ...\n",
      "2016-07-04 19:34:24.918032: processing plan '10091OR0380007' (47/190) ...\n",
      "2016-07-04 19:34:27.587563: processing plan '10091OR0380008' (48/190) ...\n",
      "2016-07-04 19:34:30.262953: processing plan '10091OR0380009' (49/190) ...\n",
      "2016-07-04 19:34:32.928653: processing plan '10091OR0380010' (50/190) ...\n",
      "2016-07-04 19:34:35.603180: processing plan '10091OR0380011' (51/190) ...\n",
      "2016-07-04 19:34:38.294509: processing plan '10091OR0380012' (52/190) ...\n",
      "2016-07-04 19:34:40.988048: processing plan '10091OR0380013' (53/190) ...\n",
      "2016-07-04 19:34:43.752575: processing plan '10091OR0380014' (54/190) ...\n",
      "2016-07-04 19:34:46.469665: processing plan '10091OR0390003' (55/190) ...\n",
      "2016-07-04 19:34:49.204256: processing plan '10091OR0390004' (56/190) ...\n",
      "2016-07-04 19:34:51.982057: processing plan '10091OR0390005' (57/190) ...\n",
      "2016-07-04 19:34:54.693918: processing plan '10091OR0390007' (58/190) ...\n",
      "2016-07-04 19:34:57.097428: processing plan '10091OR0390008' (59/190) ...\n",
      "2016-07-04 19:34:59.799375: processing plan '10091OR0390009' (60/190) ...\n",
      "2016-07-04 19:35:02.472207: processing plan '10091OR0390011' (61/190) ...\n",
      "2016-07-04 19:35:05.119609: processing plan '10091OR0390012' (62/190) ...\n",
      "2016-07-04 19:35:07.814297: processing plan '10091OR0390014' (63/190) ...\n",
      "2016-07-04 19:35:10.508487: processing plan '10091OR0390015' (64/190) ...\n",
      "2016-07-04 19:35:13.188060: processing plan '10091OR0410001' (65/190) ...\n",
      "2016-07-04 19:35:15.876572: processing plan '10091OR0410002' (66/190) ...\n",
      "2016-07-04 19:35:18.575417: processing plan '10091OR0410006' (67/190) ...\n",
      "2016-07-04 19:35:21.392386: processing plan '10091OR0410007' (68/190) ...\n",
      "2016-07-04 19:35:24.118369: processing plan '10091OR0410008' (69/190) ...\n",
      "2016-07-04 19:35:26.906950: processing plan '10091OR0410009' (70/190) ...\n",
      "2016-07-04 19:35:29.546841: processing plan '10091OR0410010' (71/190) ...\n",
      "2016-07-04 19:35:32.218218: processing plan '10091OR0410011' (72/190) ...\n",
      "2016-07-04 19:35:34.936359: processing plan '10091OR0410012' (73/190) ...\n",
      "2016-07-04 19:35:37.643914: processing plan '10091OR0420001' (74/190) ...\n",
      "2016-07-04 19:35:40.291988: processing plan '10091OR0420002' (75/190) ...\n",
      "2016-07-04 19:35:42.966663: processing plan '10091OR0420003' (76/190) ...\n",
      "2016-07-04 19:35:45.613618: processing plan '10091OR0420006' (77/190) ...\n",
      "2016-07-04 19:35:48.293129: processing plan '10091OR0420007' (78/190) ...\n",
      "2016-07-04 19:35:50.984627: processing plan '10091OR0420008' (79/190) ...\n",
      "2016-07-04 19:35:53.788507: processing plan '10091OR0420009' (80/190) ...\n",
      "2016-07-04 19:35:56.502946: processing plan '10091OR0420010' (81/190) ...\n",
      "2016-07-04 19:35:59.208741: processing plan '10091OR0420011' (82/190) ...\n",
      "2016-07-04 19:36:01.939002: processing plan '10091OR0420012' (83/190) ...\n",
      "2016-07-04 19:36:04.639207: processing plan '10091OR0420013' (84/190) ...\n",
      "2016-07-04 19:36:07.378486: processing plan '10091OR0420014' (85/190) ...\n",
      "2016-07-04 19:36:10.085803: processing plan '10091OR0440002' (86/190) ...\n",
      "2016-07-04 19:36:12.742377: processing plan '10091OR0440003' (87/190) ...\n",
      "2016-07-04 19:36:15.451527: processing plan '10091OR0440005' (88/190) ...\n",
      "2016-07-04 19:36:18.138604: processing plan '10091OR0440012' (89/190) ...\n",
      "2016-07-04 19:36:20.845184: processing plan '10091OR0440014' (90/190) ...\n",
      "2016-07-04 19:36:23.589357: processing plan '10091OR0440020' (91/190) ...\n",
      "2016-07-04 19:36:26.286260: processing plan '10091OR0440021' (92/190) ...\n",
      "2016-07-04 19:36:28.988235: processing plan '10091OR0440022' (93/190) ...\n",
      "2016-07-04 19:36:31.704916: processing plan '10091OR0440024' (94/190) ...\n",
      "2016-07-04 19:36:34.397480: processing plan '10091OR0440025' (95/190) ...\n",
      "2016-07-04 19:36:37.092899: processing plan '10091OR0440026' (96/190) ...\n",
      "2016-07-04 19:36:39.797928: processing plan '10091OR0440027' (97/190) ...\n",
      "2016-07-04 19:36:42.502853: processing plan '10091OR0470002' (98/190) ...\n",
      "2016-07-04 19:36:45.251378: processing plan '10091OR0480001' (99/190) ...\n",
      "2016-07-04 19:36:48.029943: processing plan '10091OR0490001' (100/190) ...\n",
      "2016-07-04 19:36:50.748081: processing plan '10091OR0500001' (101/190) ...\n",
      "2016-07-04 19:36:53.106242: processing plan '10091OR0500002' (102/190) ...\n",
      "2016-07-04 19:36:55.420491: processing plan '10091OR0500003' (103/190) ...\n",
      "2016-07-04 19:36:58.108359: processing plan '10091OR0510005' (104/190) ...\n",
      "2016-07-04 19:37:00.387948: processing plan '10091OR0510006' (105/190) ...\n",
      "2016-07-04 19:37:02.682761: processing plan '10091OR0510007' (106/190) ...\n",
      "2016-07-04 19:37:04.984155: processing plan '10091OR0510008' (107/190) ...\n",
      "2016-07-04 19:37:07.262705: processing plan '10091OR0520005' (108/190) ...\n",
      "2016-07-04 19:37:09.530408: processing plan '10091OR0520006' (109/190) ...\n",
      "2016-07-04 19:37:11.810305: processing plan '10091OR0520007' (110/190) ...\n",
      "2016-07-04 19:37:14.116933: processing plan '10091OR0520008' (111/190) ...\n",
      "2016-07-04 19:37:16.507324: processing plan '10091OR0520009' (112/190) ..."
     ]
    }
   ],
   "source": [
    "# for each plan, get int features (plan level & combined fomulary level)\n",
    "plan_int_feature, i = {}, 0\n",
    "\n",
    "for pid in ex_id:\n",
    "    i += 1\n",
    "    print '%s: processing plan \\'%s\\' (%d/%d) ...' %(logTime(), pid, i, len(ex_id))\n",
    "    # initialize feature vector\n",
    "    tier_feature = [None]*len(tiers)\n",
    "    \n",
    "    # for each plan document, assemble normalized tier info\n",
    "    for tier, pharm in tier_pharm.items():               \n",
    "        doc_cur = plan_col.find(\n",
    "            {'plan_id':pid, 'formulary.drug_tier':tier},\n",
    "            {'_id':0, 'formulary':{'$elemMatch':{'drug_tier':tier}}}        \n",
    "        )\n",
    "        \n",
    "        # no data for this tier, fill in the space with None\n",
    "        if doc_cur.count() == 0:            \n",
    "            tier_feature[tiers.index(tier)] = [None] * (1 + len(pharm) * len(cost_attr))\n",
    "            continue\n",
    "            \n",
    "        # parse tier info        \n",
    "        pharm_feature = [[None]*len(cost_attr)]*len(pharm)\n",
    "        for doc in doc_cur:  \n",
    "            ##### query issue doc is empty when formulary is not array in plan document\n",
    "            if not doc:\n",
    "                print '\\tWARNING, formulary is not array',pid,tier\n",
    "                f = plan_col.find_one({'plan_id':pid, 'formulary.drug_tier':tier})['formulary']\n",
    "                \n",
    "            tier_feature[tiers.index(tier)] = [f['mail_order']]                    \n",
    "            \n",
    "            # no pharmarcy type, only put mail_order (from one doc)\n",
    "            if len(pharm) == 0 or 'cost_sharing' not in f:                \n",
    "                continue\n",
    "            \n",
    "            # put pharmarcy types            \n",
    "            for cs in f['cost_sharing']:\n",
    "                cost_feature = [cs[a[0]] if a[1]!='string' \n",
    "                                else feature_space[a[2]].index(cs[a[0]]) \n",
    "                                for a in cost_attr]\n",
    "                pharm_feature[pharm.index(cs['pharmacy_type'])] = cost_feature\n",
    "        \n",
    "        tier_feature[tiers.index(tier)] += [y for x in pharm_feature for y in x]\n",
    "        \n",
    "    # flaten the vector for the plan from hierarchy: tier-cost-pharmacy\n",
    "    formulary_feature = [y for x in tier_feature for y in x]\n",
    "    if len(formulary_feature) != len(cost_cat_index):\n",
    "        sys.exit('Error: plan feature dimension mismatch for %s' %pid)\n",
    "        \n",
    "    # get the list of drug attributes for a plan\n",
    "    drug_cur = drug_col.find(\n",
    "        {'plans.plan_id':pid, 'rxnorm_id':{'$in':common_drug}},# 'plans.0':{'$exists':True}}, \n",
    "        {'_id':0, 'rxnorm_id':1, 'plans':{ '$elemMatch':{'plan_id':pid} }}\n",
    "    )\n",
    "\n",
    "    drug_dict = {d['rxnorm_id']:d['plans'][0] for d in drug_cur} #TODO: choose the plan matches the tier\n",
    "\n",
    "    # drop the plan if it doesn't match with common drug list\n",
    "    if len(drug_dict) != n_drug:\n",
    "        print 'plan %s drug list doesn\\'t have all common drug (n=%d), skip' %(pid, len(drug_dict))\n",
    "        continue\n",
    "\n",
    "    # flat the drug attributes for all common drugs    \n",
    "    drug_feature = [drug_dict[rx][attr[0]] if attr[1]!='string' \n",
    "                             else feature_space[attr[2]].index(drug_dict[rx][attr[0]])\n",
    "                             for rx in common_drug for attr in drug_attr]\n",
    "    \n",
    "    # combine for plan feature - must match with catagroical index concannation order\n",
    "    plan_int_feature[pid] = formulary_feature + drug_feature\n"
   ]
  },
  {
   "cell_type": "code",
   "execution_count": 109,
   "metadata": {
    "collapsed": false
   },
   "outputs": [],
   "source": [
    "client.close()"
   ]
  },
  {
   "cell_type": "code",
   "execution_count": 56,
   "metadata": {
    "collapsed": false
   },
   "outputs": [
    {
     "name": "stdout",
     "output_type": "stream",
     "text": [
      "drugs: 2710\n",
      "--- 19.570182085 seconds ---\n"
     ]
    }
   ],
   "source": [
    "t0 = time.time()\n",
    "print 'drugs: %d' %len(drug_col.find({'plans.plan_id':'67577MI0390012'}).distinct('rxnorm_id'))\n",
    "print(\"--- %s seconds ---\" % (time.time() - t0))"
   ]
  },
  {
   "cell_type": "code",
   "execution_count": 84,
   "metadata": {
    "collapsed": false
   },
   "outputs": [
    {
     "data": {
      "text/plain": [
       "{u'drug_name': u'Brimonidine tartrate 2 MG/ML / Timolol 5 MG/ML Ophthalmic Solution [Combigan]',\n",
       " u'rxnorm_id': u'861637'}"
      ]
     },
     "execution_count": 84,
     "metadata": {},
     "output_type": "execute_result"
    }
   ],
   "source": [
    "# regex filtering\n",
    "\n",
    "regx = re.compile(\".combigan.\", re.IGNORECASE)\n",
    "drug_col.find_one({'drug_name':regx}, {'_id':0, 'drug_name':1, 'rxnorm_id':1})"
   ]
  },
  {
   "cell_type": "code",
   "execution_count": 222,
   "metadata": {
    "collapsed": false,
    "scrolled": false
   },
   "outputs": [],
   "source": [
    "# check if tier is defined in multiple doc\n",
    "\n",
    "[[None]*4]*3+[]\n",
    "\n",
    "for pid in ex_id:\n",
    "    for tier in tier_pharm:\n",
    "        cnt = plan_col.find(\n",
    "            {'plan_id':pid, 'formulary.drug_tier':tier},\n",
    "            {'_id':0, 'formulary':{'$elemMatch':{'drug_tier':tier}}}        \n",
    "        ).count()\n",
    "        if cnt>1:\n",
    "            print pid,tier,cnt"
   ]
  },
  {
   "cell_type": "code",
   "execution_count": 47,
   "metadata": {
    "collapsed": false
   },
   "outputs": [
    {
     "data": {
      "text/plain": [
       "{u'formulary': [{u'drug_tier': u'MEDICAL-SERVICE', u'mail_order': False}]}"
      ]
     },
     "execution_count": 47,
     "metadata": {},
     "output_type": "execute_result"
    }
   ],
   "source": [
    "# check plan data 30969OR0050001 \n",
    "# for p in '\n",
    "tt = 'MEDICAL-SERVICE'\n",
    "plan_col.find_one({'plan_id':'63474OR0480001', 'formulary.drug_tier':tt},\n",
    "                       {'_id':0,'formulary':{'$elemMatch':{'drug_tier':tt}}}        \n",
    "                      \n",
    "                      )\n",
    "#     print p\n"
   ]
  }
 ],
 "metadata": {
  "kernelspec": {
   "display_name": "Python 2",
   "language": "python",
   "name": "python2"
  },
  "language_info": {
   "codemirror_mode": {
    "name": "ipython",
    "version": 2
   },
   "file_extension": ".py",
   "mimetype": "text/x-python",
   "name": "python",
   "nbconvert_exporter": "python",
   "pygments_lexer": "ipython2",
   "version": "2.7.9"
  }
 },
 "nbformat": 4,
 "nbformat_minor": 0
}
