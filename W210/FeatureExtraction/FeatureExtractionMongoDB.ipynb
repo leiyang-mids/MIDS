{
 "cells": [
  {
   "cell_type": "code",
   "execution_count": 90,
   "metadata": {
    "collapsed": true
   },
   "outputs": [],
   "source": [
    "from sklearn.preprocessing import OneHotEncoder\n",
    "from pymongo import MongoClient\n",
    "from zipfile import ZipFile, ZIP_DEFLATED\n",
    "from sets import Set\n",
    "import numpy as np\n",
    "import json, sys, os, time, re, datetime"
   ]
  },
  {
   "cell_type": "code",
   "execution_count": 91,
   "metadata": {
    "collapsed": false
   },
   "outputs": [
    {
     "name": "stdout",
     "output_type": "stream",
     "text": [
      "Using aws Mongo, total drug: 46206, total plan: 6035\n"
     ]
    }
   ],
   "source": [
    "local = False\n",
    "if local:\n",
    "    client = MongoClient('localhost', 27017)\n",
    "    plan_col = client.aca.plan\n",
    "    drug_col = client.aca.drug\n",
    "else:\n",
    "    client = MongoClient('ec2-54-153-83-172.us-west-1.compute.amazonaws.com', 27017)\n",
    "    plan_col = client.plans.plans\n",
    "    drug_col = client.formularies.drugs\n",
    "    prov_col = client.providers.providers\n",
    "    faci_col = client.providers.facilities\n",
    "\n",
    "all_plan = drug_col.distinct('plans.plan_id')\n",
    "all_drug = drug_col.distinct('rxnorm_id')\n",
    "\n",
    "print 'Using %s Mongo, total drug: %d, total plan: %d' %('local' if local else 'aws', len(all_drug), len(all_plan))\n",
    "# client.formularies.scollection_names()\n",
    "# client.providers.collection_names()"
   ]
  },
  {
   "cell_type": "markdown",
   "metadata": {},
   "source": [
    "###Load encode definition"
   ]
  },
  {
   "cell_type": "code",
   "execution_count": 92,
   "metadata": {
    "collapsed": false
   },
   "outputs": [
    {
     "data": {
      "text/plain": [
       "{u'drug.plans.drug_tier': u'string',\n",
       " u'drug.plans.prior_authorization': u'boolean',\n",
       " u'drug.plans.quantity_limit': u'boolean',\n",
       " u'drug.plans.step_therapy': u'boolean',\n",
       " u'plan.formulary.cost_sharing.coinsurance_opt': u'string',\n",
       " u'plan.formulary.cost_sharing.coinsurance_rate': u'float',\n",
       " u'plan.formulary.cost_sharing.copay_amount': u'float',\n",
       " u'plan.formulary.cost_sharing.copay_opt': u'string',\n",
       " u'plan.formulary.cost_sharing.pharmacy_type': u'string',\n",
       " u'plan.formulary.drug_tier': u'string',\n",
       " u'plan.formulary.mail_order': u'boolean',\n",
       " u'plan.network.network_tier': u'string',\n",
       " u'plan.plan_id_type': u'string'}"
      ]
     },
     "execution_count": 92,
     "metadata": {},
     "output_type": "execute_result"
    }
   ],
   "source": [
    "def getEncodeFields(encode_def, rtn, path=''):\n",
    "    ''' extract the selected fields from the encode json definition '''\n",
    "    \n",
    "    if 'encode' in encode_def and encode_def['encode'] == 1:\n",
    "        rtn[path[1:]] = encode_def['type']\n",
    "    elif 'encode' not in encode_def:\n",
    "        for f in encode_def:\n",
    "            getEncodeFields(encode_def[f], rtn, path + ('' if f=='properties' else '.'+f))\n",
    "    return rtn\n",
    "\n",
    "def logTime():\n",
    "    return str(datetime.datetime.now())\n",
    "\n",
    "encode_list = getEncodeFields(json.load(open('encode2.json')), {})\n",
    "encode_list"
   ]
  },
  {
   "cell_type": "markdown",
   "metadata": {},
   "source": [
    "###Data uniformity check"
   ]
  },
  {
   "cell_type": "code",
   "execution_count": 93,
   "metadata": {
    "collapsed": false
   },
   "outputs": [
    {
     "name": "stdout",
     "output_type": "stream",
     "text": [
      "2016-07-04 20:51:05.524491: plan document: 12242\n",
      "2016-07-04 20:51:05.607379: drug document: 1540473\n",
      "2016-07-04 20:51:05.690348: unique plan_id: 6035\n",
      "2016-07-04 20:51:05.690473: unique rxnorm_id: 46206\n",
      "2016-07-04 20:51:06.574344: plans with multiple documents: 1259\n",
      "2016-07-04 20:51:47.001284: drugs with multiple documents: 12807\n",
      "2016-07-04 20:51:47.003948: states in the plan: AK, AL, AR, AZ, CO, DE, FL, GA, HI, IA, IL, IN, KS, KY, LA, MA, ME, MI, MN, MO, MS, MT, NC, ND, NE, NH, NJ, NM, NV, OH, OK, OR, PA, SC, SD, TN, TX, UT, VA, WA, WI, WV, WY\n"
     ]
    }
   ],
   "source": [
    "print '%s: plan document: %d' %(logTime(), plan_col.count())\n",
    "print '%s: drug document: %d' %(logTime(), drug_col.count())\n",
    "print '%s: unique plan_id: %d' %(logTime(), len(all_plan))\n",
    "print '%s: unique rxnorm_id: %d' %(logTime(), len(all_drug))\n",
    "\n",
    "multi_plan = [1 for p in plan_col.aggregate([{\"$group\": {\"_id\":\"$plan_id\", \"count\":{\"$sum\":1}}}]) if p['count']>1]\n",
    "print '%s: plans with multiple documents: %d' %(logTime(), sum(multi_plan))\n",
    "\n",
    "multi_drug = [1 for p in drug_col.aggregate([{\"$group\": {\"_id\":\"$rxnorm_id\", \"count\":{\"$sum\":1}}}]) if p['count']>1]\n",
    "print '%s: drugs with multiple documents: %d' %(logTime(), sum(multi_drug))\n",
    "\n",
    "state_id = np.unique([i[5:7] for i in all_plan])\n",
    "print '%s: states in the plan: %s' %(logTime(), ', '.join(state_id))"
   ]
  },
  {
   "cell_type": "markdown",
   "metadata": {},
   "source": [
    "###Get feature space"
   ]
  },
  {
   "cell_type": "code",
   "execution_count": 99,
   "metadata": {
    "collapsed": false,
    "scrolled": false
   },
   "outputs": [
    {
     "name": "stdout",
     "output_type": "stream",
     "text": [
      "processing 190 plans for OR ...\n"
     ]
    },
    {
     "data": {
      "text/plain": [
       "{u'drug.plans.drug_tier': [u'PREFERRED-BRAND',\n",
       "  u'NON-PREFERRED-BRAND',\n",
       "  u'GENERIC',\n",
       "  u'SPECIALTY',\n",
       "  u'ZERO-COST-SHARE-PREVENTIVE',\n",
       "  u'NON-PREFERRED-GENERIC',\n",
       "  u'PREFERRED',\n",
       "  u'BRAND',\n",
       "  u'SELECT',\n",
       "  u'PREVENTIVE',\n",
       "  u'VALUE',\n",
       "  u'MEDICAL-SERVICE-DRUGS',\n",
       "  u'MEDICAL-SERVICE',\n",
       "  u'NON-PREFERRED',\n",
       "  u'FORMULARY-DRUGS',\n",
       "  u'NONPREFERRED-BRAND',\n",
       "  u'PREVENTIVE-ACA'],\n",
       " u'plan.formulary.cost_sharing.coinsurance_opt': [u'NO-CHARGE',\n",
       "  None,\n",
       "  u'AFTER-DEDUCTIBLE'],\n",
       " u'plan.formulary.cost_sharing.copay_opt': [u'AFTER-DEDUCTIBLE',\n",
       "  u'NO-CHARGE-AFTER-DEDUCTIBLE',\n",
       "  u'BEFORE-DEDUCTIBLE',\n",
       "  u'NO-CHARGE'],\n",
       " u'plan.formulary.cost_sharing.pharmacy_type': [u'1-MONTH-IN-RETAIL',\n",
       "  u'3-MONTH-IN-MAIL',\n",
       "  u'1-MONTH-OUT-RETAIL',\n",
       "  u'3-MONTH-IN-RETAIL'],\n",
       " u'plan.formulary.drug_tier': [u'GENERIC',\n",
       "  u'NON-PREFERRED-BRAND',\n",
       "  u'PREFERRED-BRAND',\n",
       "  u'SPECIALTY',\n",
       "  u'ZERO-COST-SHARE-PREVENTIVE',\n",
       "  u'BRAND',\n",
       "  u'MEDICAL-SERVICE-DRUGS',\n",
       "  u'PREFERRED',\n",
       "  u'PREVENTIVE',\n",
       "  u'SELECT',\n",
       "  u'VALUE',\n",
       "  u'MEDICAL-SERVICE',\n",
       "  u'NON-PREFERRED-GENERIC-PREFERRED-BRAND',\n",
       "  u'PREFERRED-GENERIC',\n",
       "  u'NON-PREFERRED BRAND',\n",
       "  u'PREFERRED BRAND',\n",
       "  u'SPECIALTY DRUGS',\n",
       "  u'NONPREFERRED-BRAND',\n",
       "  u'PREVENTIVE-ACA',\n",
       "  u'FORMULARY-DRUGS'],\n",
       " u'plan.network.network_tier': [u'TIER-ONE',\n",
       "  u'TIER-THREE',\n",
       "  u'TIER-TWO',\n",
       "  u'PREFERRED',\n",
       "  u'NON-PREFERRED',\n",
       "  u'EPO',\n",
       "  u'CHOICE',\n",
       "  u'CONNECT',\n",
       "  u'TIER-ONE-REFERRAL-REQUIRED',\n",
       "  u'LIFEWISE',\n",
       "  u'OREGON-EPO'],\n",
       " u'plan.plan_id_type': [u'HIOS-PLAN-ID']}"
      ]
     },
     "execution_count": 99,
     "metadata": {},
     "output_type": "execute_result"
    }
   ],
   "source": [
    "state = 'OR' # set to None to include all (very slow process for all)\n",
    "ex_id = all_plan if not state else [i for i in all_plan if state in i]\n",
    "print 'processing %d plans for %s ...' %(len(ex_id), 'all' if not state else state)\n",
    "\n",
    "feature_space = {\n",
    "    k : (plan_col if k.startswith('plan') else drug_col).find(\n",
    "        { ('plan_id' if k.startswith('plan') else 'plans.plan_id') : {'$in':ex_id} }\n",
    "    ).distinct(k[k.index('.')+1:]) \n",
    "    for k,v in encode_list.items() if v=='string'\n",
    "}\n",
    "\n",
    "feature_space"
   ]
  },
  {
   "cell_type": "markdown",
   "metadata": {},
   "source": [
    "###Get common drugs between plans\n",
    "- operator reference [link](https://docs.mongodb.com/manual/reference/operator/query/)"
   ]
  },
  {
   "cell_type": "code",
   "execution_count": 108,
   "metadata": {
    "collapsed": false
   },
   "outputs": [
    {
     "name": "stdout",
     "output_type": "stream",
     "text": [
      "2016-07-04 21:25:47.665563: there are 10632 drugs for 190 plans!\n"
     ]
    }
   ],
   "source": [
    "# get rxnorm_id group for each plan\n",
    "common_drug = drug_col.find({'plans.plan_id':{'$in':ex_id}}).distinct('rxnorm_id')\n",
    "n_drug = len(common_drug)\n",
    "drug_attr = [[k.split('.')[-1],v,k] for k,v in encode_list.items() if k.startswith ('drug')]\n",
    "drug_cat_index = [k[1]=='string' for k in drug_attr]*n_drug\n",
    "print '%s: there are %d drugs for %d plans!' %(logTime(), n_drug, n_plan)"
   ]
  },
  {
   "cell_type": "markdown",
   "metadata": {},
   "source": [
    "###Get pharmacy_type space (over all extracted plan IDs) for each drug_tier"
   ]
  },
  {
   "cell_type": "code",
   "execution_count": 109,
   "metadata": {
    "collapsed": false
   },
   "outputs": [
    {
     "data": {
      "text/plain": [
       "{u'BRAND': [u'1-MONTH-IN-RETAIL', u'3-MONTH-IN-MAIL', u'1-MONTH-OUT-RETAIL'],\n",
       " u'FORMULARY-DRUGS': [u'1-MONTH-IN-RETAIL', u'3-MONTH-IN-MAIL'],\n",
       " u'GENERIC': [u'1-MONTH-IN-RETAIL', u'3-MONTH-IN-MAIL'],\n",
       " u'MEDICAL-SERVICE': [],\n",
       " u'MEDICAL-SERVICE-DRUGS': [u'1-MONTH-IN-RETAIL', u'3-MONTH-IN-RETAIL'],\n",
       " u'NON-PREFERRED BRAND': [],\n",
       " u'NON-PREFERRED-BRAND': [],\n",
       " u'NON-PREFERRED-GENERIC-PREFERRED-BRAND': [],\n",
       " u'NONPREFERRED-BRAND': [u'1-MONTH-IN-RETAIL', u'3-MONTH-IN-MAIL'],\n",
       " u'PREFERRED': [u'1-MONTH-IN-RETAIL',\n",
       "  u'3-MONTH-IN-MAIL',\n",
       "  u'1-MONTH-OUT-RETAIL'],\n",
       " u'PREFERRED BRAND': [],\n",
       " u'PREFERRED-BRAND': [u'1-MONTH-IN-RETAIL', u'3-MONTH-IN-MAIL'],\n",
       " u'PREFERRED-GENERIC': [],\n",
       " u'PREVENTIVE': [u'1-MONTH-IN-RETAIL'],\n",
       " u'PREVENTIVE-ACA': [u'1-MONTH-IN-RETAIL'],\n",
       " u'SELECT': [u'1-MONTH-IN-RETAIL', u'3-MONTH-IN-MAIL', u'1-MONTH-OUT-RETAIL'],\n",
       " u'SPECIALTY': [u'1-MONTH-IN-RETAIL'],\n",
       " u'SPECIALTY DRUGS': [],\n",
       " u'VALUE': [u'1-MONTH-IN-RETAIL', u'3-MONTH-IN-MAIL', u'1-MONTH-OUT-RETAIL'],\n",
       " u'ZERO-COST-SHARE-PREVENTIVE': []}"
      ]
     },
     "execution_count": 109,
     "metadata": {},
     "output_type": "execute_result"
    }
   ],
   "source": [
    "# Note: issue with distinct in the query\n",
    "# tier_pharm = {tier : plan_col.find(\n",
    "#         {'plan_id':{'$in':ex_id}, 'formulary.drug_tier':tier, 'formulary.0.cost_sharing.0':{'$exists':True}},\n",
    "#         {'_id':0, 'formulary':{'$elemMatch':{'drug_tier':tier}}}\n",
    "#     ).distinct('formulary.cost_sharing.pharmacy_type')\n",
    "#     for tier in feature_space['plan.formulary.drug_tier']\n",
    "# }\n",
    "\n",
    "tier_pharm = {}\n",
    "for tier in feature_space['plan.formulary.drug_tier']:\n",
    "    query = plan_col.find(\n",
    "        {\n",
    "            'plan_id':{'$in':ex_id}, \n",
    "            'formulary.drug_tier':tier,            \n",
    "            'formulary.0.cost_sharing.0':{'$exists':True},             \n",
    "        },\n",
    "        # NOTE: when fomulary is a dict instead of arrary, this projection won't return content\n",
    "        {'_id':0, 'formulary':{'$elemMatch':{'drug_tier':tier}}}\n",
    "    )\n",
    "    tier_pharm[tier] = list(Set(cs['pharmacy_type'] for p in query for f in p['formulary'] for cs in f['cost_sharing']))\n",
    "\n",
    "# simple query to double check results\n",
    "# for p in plan_col.find({'plan_id':{'$in':ex_id}}):\n",
    "#     if 'formulary' not in p:\n",
    "#         continue\n",
    "#     if type(p['formulary']) is dict:\n",
    "#         p['formulary'] = [p['formulary']]\n",
    "#     for f in p['formulary']:        \n",
    "#         if f['drug_tier'] not in tier_pharm:\n",
    "#             tier_pharm[f['drug_tier']]=[]        \n",
    "#         if 'cost_sharing' not in f:\n",
    "#             continue\n",
    "#         for cs in f['cost_sharing']:\n",
    "#             tier_pharm[f['drug_tier']].append(cs['pharmacy_type'])\n",
    "# tier_pharm = {k:list(set(v)) for k,v in tier_pharm.items()}\n",
    "\n",
    "tier_pharm"
   ]
  },
  {
   "cell_type": "markdown",
   "metadata": {},
   "source": [
    "###Get unique pharmacy_type for each drug_tier"
   ]
  },
  {
   "cell_type": "code",
   "execution_count": 110,
   "metadata": {
    "collapsed": false
   },
   "outputs": [],
   "source": [
    "# put tier names into list so the order is fixed for feature extraction\n",
    "tiers = tier_pharm.keys()\n",
    "# we build pharmacy type into the order of feature vector, so no need to include\n",
    "cost_attr = [[k.split('.')[-1],v,k] for k,v in encode_list.items() if 'cost_sharing' in k and 'pharmacy_type' not in k]\n",
    "# flatten the vector to combine all tiers\n",
    "cat2d = [[False] + [k[1]=='string' for k in cost_attr]*len(tier_pharm[t]) for t in tiers]\n",
    "cost_cat_index = [y for x in cat2d for y in x]\n",
    "# # plan level attributes\n",
    "# plan_attr = [[k.split('.')[-1],v,k] for k,v in encode_list.items() if k.startswith('plan') and 'formulary' not in k]\n",
    "# plan_cat_index = [a[1]=='string' for a in plan_attr]\n",
    "\n",
    "# total feature catagrical index - must match with the order of feature canconnation in plan\n",
    "cat_index = cost_cat_index + drug_cat_index\n",
    "catagorical_var = [i for i,v in zip(range(len(cat_index)),cat_index) if v]"
   ]
  },
  {
   "cell_type": "markdown",
   "metadata": {},
   "source": [
    "###Extraction integer features for each plan\n",
    "- get plan feature --> cost_sharing/pharmacy type\n",
    "- get drug feature --> drug_tier"
   ]
  },
  {
   "cell_type": "code",
   "execution_count": null,
   "metadata": {
    "collapsed": false,
    "scrolled": true
   },
   "outputs": [
    {
     "name": "stdout",
     "output_type": "stream",
     "text": [
      "2016-07-04 21:28:57.688461: processing 10/190 ...\n",
      "2016-07-04 21:29:46.138895: processing 20/190 ...\n",
      "2016-07-04 21:30:36.276226: processing 30/190 ...\n",
      "2016-07-04 21:31:25.093776: processing 40/190 ...\n",
      "2016-07-04 21:32:06.818580: processing 50/190 ..."
     ]
    }
   ],
   "source": [
    "# for each plan, get int features (plan level & combined fomulary level)\n",
    "plan_int_feature, i, skip = {}, 0, 0\n",
    "\n",
    "for pid in ex_id:\n",
    "    i += 1\n",
    "    if False: # i!=112:\n",
    "        continue\n",
    "    if i%10==0:\n",
    "        print '%s: processing %d/%d ...' %(logTime(), i, len(ex_id))\n",
    "    # initialize feature vector\n",
    "    tier_feature = [None]*len(tiers)\n",
    "    \n",
    "    # for each plan document, assemble normalized tier info\n",
    "    for tier, pharm in tier_pharm.items():               \n",
    "        doc_cur = plan_col.find(\n",
    "            {'plan_id':pid, 'formulary.drug_tier':tier},\n",
    "            {'_id':0, 'formulary':{'$elemMatch':{'drug_tier':tier}}}        \n",
    "        )\n",
    "        \n",
    "        # no data for this tier, fill in the space with None\n",
    "        n_doc = doc_cur.count()\n",
    "        if n_doc == 0:            \n",
    "            tier_feature[tiers.index(tier)] = [None] * (1 + len(pharm) * len(cost_attr))\n",
    "            continue\n",
    "            \n",
    "        # parse tier info        \n",
    "        pharm_feature = [[None]*len(cost_attr)]*len(pharm)\n",
    "        for doc in doc_cur:              \n",
    "            ##### query issue doc is empty when formulary is not array in plan document\n",
    "            if not doc:\n",
    "                print '\\tWARNING, formulary is not array',pid,tier,n_doc\n",
    "                fml = plan_col.find_one({'plan_id':pid, 'formulary.drug_tier':tier})['formulary']\n",
    "            else:\n",
    "                fml = doc['formulary'][0]\n",
    "                \n",
    "            tier_feature[tiers.index(tier)] = [fml['mail_order']]                    \n",
    "            \n",
    "            # no pharmarcy type, only put mail_order (from one doc)\n",
    "            if len(pharm) == 0 or 'cost_sharing' not in fml:                \n",
    "                continue\n",
    "                        \n",
    "            # put pharmarcy types  \n",
    "            try:\n",
    "                for cs in fml['cost_sharing']:\n",
    "                    cost_feature = [cs[a[0]] if a[1]!='string' \n",
    "                                else feature_space[a[2]].index(cs[a[0]]) \n",
    "                                for a in cost_attr]\n",
    "                    pharm_feature[pharm.index(cs['pharmacy_type'])] = cost_feature\n",
    "            except Exception as ex:\n",
    "                print '\\tERROR parsing cost_sharing value',ex,pid,tier\n",
    "        # attach pharmacy info to tier feature\n",
    "        tier_feature[tiers.index(tier)] += [y for x in pharm_feature for y in x]\n",
    "        \n",
    "    # flaten the vector for the plan from hierarchy: tier-cost-pharmacy\n",
    "    formulary_feature = [y for x in tier_feature for y in x]\n",
    "    if len(formulary_feature) != len(cost_cat_index):\n",
    "        skip += 1\n",
    "        print 'Error: plan feature dimension mismatch for %s' %pid\n",
    "        continue\n",
    "        \n",
    "    # get the list of drug attributes for a plan\n",
    "    drug_cur = drug_col.find(\n",
    "        {'plans.plan_id':pid, 'rxnorm_id':{'$in':common_drug}},# 'plans.0':{'$exists':True}}, \n",
    "        {'_id':0, 'rxnorm_id':1, 'plans':{ '$elemMatch':{'plan_id':pid} }}\n",
    "    )\n",
    "\n",
    "    drug_dict = {d['rxnorm_id']:d['plans'][0] for d in drug_cur}\n",
    "\n",
    "    # flat the drug attributes for all common drugs    \n",
    "    drug_feature = []\n",
    "    try:\n",
    "        for rx in common_drug:\n",
    "            if rx not in drug_dict:\n",
    "                drug_feature += [None]*len(drug_attr)\n",
    "            else:                \n",
    "                drug_feature += [drug_dict[rx][attr[0]] if attr[1]!='string' \n",
    "                                 else feature_space[attr[2]].index(drug_dict[rx][attr[0]])\n",
    "                                 for attr in drug_attr]\n",
    "    except Exception as ex:\n",
    "        skip += 1\n",
    "        print '\\tERROR parsing drug info, skip plan',ex,pid\n",
    "        continue\n",
    "    \n",
    "    # combine for plan feature - must match with catagroical index concannation order\n",
    "    plan_int_feature[pid] = formulary_feature + drug_feature\n",
    "\n",
    "print '%s: completed processing plan, %d skipped due to parsing issue.' %(logTime(), skip)"
   ]
  },
  {
   "cell_type": "code",
   "execution_count": 105,
   "metadata": {
    "collapsed": false
   },
   "outputs": [],
   "source": [
    "client.close()"
   ]
  },
  {
   "cell_type": "code",
   "execution_count": 56,
   "metadata": {
    "collapsed": false
   },
   "outputs": [
    {
     "name": "stdout",
     "output_type": "stream",
     "text": [
      "drugs: 2710\n",
      "--- 19.570182085 seconds ---\n"
     ]
    }
   ],
   "source": [
    "t0 = time.time()\n",
    "print 'drugs: %d' %len(drug_col.find({'plans.plan_id':'67577MI0390012'}).distinct('rxnorm_id'))\n",
    "print(\"--- %s seconds ---\" % (time.time() - t0))"
   ]
  },
  {
   "cell_type": "code",
   "execution_count": 84,
   "metadata": {
    "collapsed": false
   },
   "outputs": [
    {
     "data": {
      "text/plain": [
       "{u'drug_name': u'Brimonidine tartrate 2 MG/ML / Timolol 5 MG/ML Ophthalmic Solution [Combigan]',\n",
       " u'rxnorm_id': u'861637'}"
      ]
     },
     "execution_count": 84,
     "metadata": {},
     "output_type": "execute_result"
    }
   ],
   "source": [
    "# regex filtering\n",
    "\n",
    "regx = re.compile(\".combigan.\", re.IGNORECASE)\n",
    "drug_col.find_one({'drug_name':regx}, {'_id':0, 'drug_name':1, 'rxnorm_id':1})"
   ]
  },
  {
   "cell_type": "code",
   "execution_count": 222,
   "metadata": {
    "collapsed": false,
    "scrolled": false
   },
   "outputs": [],
   "source": [
    "# check if tier is defined in multiple doc\n",
    "\n",
    "[[None]*4]*3+[]\n",
    "\n",
    "for pid in ex_id:\n",
    "    for tier in tier_pharm:\n",
    "        cnt = plan_col.find(\n",
    "            {'plan_id':pid, 'formulary.drug_tier':tier},\n",
    "            {'_id':0, 'formulary':{'$elemMatch':{'drug_tier':tier}}}        \n",
    "        ).count()\n",
    "        if cnt>1:\n",
    "            print pid,tier,cnt"
   ]
  },
  {
   "cell_type": "code",
   "execution_count": 88,
   "metadata": {
    "collapsed": false
   },
   "outputs": [],
   "source": [
    "# %reset "
   ]
  }
 ],
 "metadata": {
  "kernelspec": {
   "display_name": "Python 2",
   "language": "python",
   "name": "python2"
  },
  "language_info": {
   "codemirror_mode": {
    "name": "ipython",
    "version": 2
   },
   "file_extension": ".py",
   "mimetype": "text/x-python",
   "name": "python",
   "nbconvert_exporter": "python",
   "pygments_lexer": "ipython2",
   "version": "2.7.9"
  }
 },
 "nbformat": 4,
 "nbformat_minor": 0
}
