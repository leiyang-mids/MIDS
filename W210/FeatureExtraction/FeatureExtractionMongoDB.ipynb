{
 "cells": [
  {
   "cell_type": "code",
   "execution_count": 2,
   "metadata": {
    "collapsed": true
   },
   "outputs": [],
   "source": [
    "from sklearn.preprocessing import OneHotEncoder\n",
    "from pymongo import MongoClient\n",
    "from sets import Set\n",
    "import numpy as np\n",
    "import json"
   ]
  },
  {
   "cell_type": "code",
   "execution_count": 241,
   "metadata": {
    "collapsed": false
   },
   "outputs": [],
   "source": [
    "client = MongoClient('localhost', 27017)\n",
    "plan_col = client.aca.plan\n",
    "drug_col = client.aca.drug\n",
    "\n",
    "# plan_col.insert_many(json.load(open('ak_plan.json')))\n",
    "# plan_col.insert_many(json.load(open('or_plan.json')))\n",
    "# drug_col.insert_many(json.load(open('ak_drug.json')))\n",
    "# drug_col.insert_many(json.load(open('or_drug.json')))\n"
   ]
  },
  {
   "cell_type": "markdown",
   "metadata": {},
   "source": [
    "###Load encode definition"
   ]
  },
  {
   "cell_type": "code",
   "execution_count": 232,
   "metadata": {
    "collapsed": false
   },
   "outputs": [
    {
     "data": {
      "text/plain": [
       "{u'drug.plans.drug_tier': u'string',\n",
       " u'drug.plans.prior_authorization': u'boolean',\n",
       " u'drug.plans.quantity_limit': u'boolean',\n",
       " u'drug.plans.step_therapy': u'boolean',\n",
       " u'plan.formulary.cost_sharing.coinsurance_opt': u'string',\n",
       " u'plan.formulary.cost_sharing.coinsurance_rate': u'float',\n",
       " u'plan.formulary.cost_sharing.copay_amount': u'float',\n",
       " u'plan.formulary.cost_sharing.copay_opt': u'string',\n",
       " u'plan.formulary.cost_sharing.pharmacy_type': u'string',\n",
       " u'plan.formulary.drug_tier': u'string',\n",
       " u'plan.formulary.mail_order': u'boolean',\n",
       " u'plan.network.network_tier': u'string',\n",
       " u'plan.plan_id_type': u'string'}"
      ]
     },
     "execution_count": 232,
     "metadata": {},
     "output_type": "execute_result"
    }
   ],
   "source": [
    "def getEncodeFields(encode_def, rtn, path=''):\n",
    "    ''' extract the selected fields from the encode json definition '''\n",
    "    \n",
    "    if 'encode' in encode_def and encode_def['encode'] == 1:\n",
    "        rtn[path[1:]] = encode_def['type']\n",
    "    elif 'encode' not in encode_def:\n",
    "        for f in encode_def:\n",
    "            getEncodeFields(encode_def[f], rtn, path + ('' if f=='properties' else '.'+f))\n",
    "    return rtn\n",
    "\n",
    "encode_list = getEncodeFields(json.load(open('encode2.json')), {})\n",
    "encode_list"
   ]
  },
  {
   "cell_type": "markdown",
   "metadata": {},
   "source": [
    "###Get feature space"
   ]
  },
  {
   "cell_type": "code",
   "execution_count": 196,
   "metadata": {
    "collapsed": false
   },
   "outputs": [
    {
     "data": {
      "text/plain": [
       "{u'drug.plans.drug_tier': [u'SELECT',\n",
       "  u'BRAND',\n",
       "  u'PREFERRED',\n",
       "  u'VALUE',\n",
       "  u'SPECIALTY',\n",
       "  u'PREVENTIVE',\n",
       "  u'MEDICAL-SERVICE-DRUGS'],\n",
       " u'plan.formulary.cost_sharing.coinsurance_opt': [None, u'AFTER-DEDUCTIBLE'],\n",
       " u'plan.formulary.cost_sharing.copay_opt': [u'BEFORE-DEDUCTIBLE',\n",
       "  u'NO-CHARGE'],\n",
       " u'plan.formulary.cost_sharing.pharmacy_type': [u'1-MONTH-IN-RETAIL',\n",
       "  u'3-MONTH-IN-MAIL',\n",
       "  u'3-MONTH-IN-RETAIL',\n",
       "  u'3-MONTH-OUT-RETAIL',\n",
       "  u'1-MONTH-OUT-RETAIL'],\n",
       " u'plan.formulary.drug_tier': [u'BRAND',\n",
       "  u'MEDICAL-SERVICE-DRUGS',\n",
       "  u'PREFERRED',\n",
       "  u'PREVENTIVE',\n",
       "  u'SELECT',\n",
       "  u'SPECIALTY',\n",
       "  u'VALUE'],\n",
       " u'plan.network.network_tier': [u'PREFERRED'],\n",
       " u'plan.plan_id_type': [u'HIOS-PLAN-ID']}"
      ]
     },
     "execution_count": 196,
     "metadata": {},
     "output_type": "execute_result"
    }
   ],
   "source": [
    "feature_space = {k:client.aca[k.split('.')[0]].distinct(k[k.index('.')+1:]) \n",
    "                 for k,v in encode_list.items() if v=='string'}\n",
    "feature_space"
   ]
  },
  {
   "cell_type": "markdown",
   "metadata": {},
   "source": [
    "###Get common drugs between plans"
   ]
  },
  {
   "cell_type": "code",
   "execution_count": 207,
   "metadata": {
    "collapsed": false
   },
   "outputs": [],
   "source": [
    "# get rxnorm_id group for each plan\n",
    "all_plans = plan_col.distinct('plan_id')\n",
    "plan_drug = [drug_col.find({'plans.plan_id':pid}, {'_id':0, 'rxnorm_id':1}) for pid in all_plans]\n",
    "\n",
    "common_drug = Set(x['rxnorm_id'] for x in plan_drug[0])\n",
    "\n",
    "for pd in plan_drug[1:]:\n",
    "    rx = [x['rxnorm_id'] for x in pd]\n",
    "    if len(rx)>0:\n",
    "        common_drug.intersection_update(rx)\n",
    "        \n",
    "# common_drug and drug_attr list will ensure the order of drug/attribute combination remains unchange\n",
    "common_drug = list(common_drug)\n",
    "n_drug = len(common_drug)\n",
    "drug_attr = [[k.split('.')[-1],v,k] for k,v in encode_list.items() if k.startswith ('drug')]\n",
    "drug_cat_index = [k[1]=='string' for k in drug_attr]*n_drug"
   ]
  },
  {
   "cell_type": "markdown",
   "metadata": {},
   "source": [
    "###Get pharmacy_type space (over all plans) for each drug_tier"
   ]
  },
  {
   "cell_type": "code",
   "execution_count": 307,
   "metadata": {
    "collapsed": false
   },
   "outputs": [],
   "source": [
    "tier_pharm = {tier:plan_col.find({'formulary.drug_tier':tier}).distinct('formulary.cost_sharing.pharmacy_type')\n",
    "              for tier in feature_space['drug.plans.drug_tier']}\n",
    "\n",
    "# # SELECT, u'PREFERRED', u'BRAND', u'SPECIALTY', u'PREVENTIVE', u'VALUE', u'MEDICAL-SERVICE-DRUGS\n",
    "\n",
    "# # check how pharmacy_type spreads over the plan\n",
    "# for p in plan_col.find({},{'_id':-1, 'network':1, 'formulary':1}):\n",
    "#     if len(p['formulary'])>0:\n",
    "#         print [y['pharmacy_type'] for x in p['formulary'] for y in x['cost_sharing'] if x['drug_tier']=='SELECT']\n",
    "# #         print '\\n'"
   ]
  },
  {
   "cell_type": "code",
   "execution_count": 315,
   "metadata": {
    "collapsed": false
   },
   "outputs": [
    {
     "name": "stdout",
     "output_type": "stream",
     "text": [
      "BRAND\n",
      "SPECIALTY\n",
      "VALUE\n",
      "MEDICAL-SERVICE-DRUGS\n",
      "PREFERRED\n",
      "PREVENTIVE\n",
      "SELECT\n"
     ]
    }
   ],
   "source": [
    "plan_data = plan_col.find_one({'plan_id':'73836AK0750001' }, {'_id':0})\n",
    "\n",
    "# for the formulary, build feature for each drug_tier\n",
    "if len(plan_data['formulary']) != len(tier_pharm):\n",
    "    print 'plan %s doesn\\'t have complete Drug Tier info' %('pid')\n",
    "\n",
    "# for each drug_tier, expland cost_sharing for all pharmacy_type\n",
    "for tier in tier_pharm:\n",
    "    print tier"
   ]
  },
  {
   "cell_type": "markdown",
   "metadata": {},
   "source": [
    "###Extraction integer features for each plan\n",
    "- get plan feature --> cost_sharing/drug_tier\n",
    "- get drug feature --> pharmacy type"
   ]
  },
  {
   "cell_type": "code",
   "execution_count": 222,
   "metadata": {
    "collapsed": false
   },
   "outputs": [
    {
     "name": "stdout",
     "output_type": "stream",
     "text": [
      "plan 21989AK0030001 drug list is nonnormal, skip\n",
      "plan 21989AK0050001 drug list is nonnormal, skip\n",
      "plan 21989AK0050002 drug list is nonnormal, skip\n",
      "plan 21989AK0070001 drug list is nonnormal, skip\n",
      "plan 28415OR0210001 drug list is nonnormal, skip\n",
      "plan 28415OR0010001 drug list is nonnormal, skip\n",
      "plan 28415OR0010002 drug list is nonnormal, skip\n",
      "plan 28415OR0050001 drug list is nonnormal, skip\n"
     ]
    }
   ],
   "source": [
    "plan_int_feature = {}\n",
    "for pid in all_plans:\n",
    "    # extract plan feature\n",
    "    plan_data = plan_col.find_one({'plan_id':pid})\n",
    "    \n",
    "    # get the list of drug attributes for a plan\n",
    "    drug_cur = drug_col.find(\n",
    "        {'plans.plan_id':pid, 'rxnorm_id':{'$in':common_drug}}, \n",
    "        {'_id':0, 'rxnorm_id':1, 'plans':{ '$elemMatch':{'plan_id':pid} }}\n",
    "    )\n",
    "\n",
    "    drug_dict = {d['rxnorm_id']:d['plans'][0] for d in drug_cur}\n",
    "\n",
    "    # drop the plan if it doesn't match with common drug list\n",
    "    if len(drug_dict) != n_drug:\n",
    "        print 'plan %s drug list is nonnormal (n=%d), skip' %(pid, %len(drug_dict))\n",
    "        continue\n",
    "\n",
    "    # flat the drug attributes for all common drugs\n",
    "    plan_int_feature[pid] = [drug_dict[rx][attr[0]] if attr[1]!='string' \n",
    "                             else feature_space[attr[2]].index(drug_dict[rx][attr[0]])\n",
    "                             for rx in common_drug for attr in drug_attr]\n"
   ]
  },
  {
   "cell_type": "code",
   "execution_count": 308,
   "metadata": {
    "collapsed": false
   },
   "outputs": [
    {
     "data": {
      "text/plain": [
       "[u'73836AK0750001',\n",
       " u'73836AK0750002',\n",
       " u'73836AK0750003',\n",
       " u'73836AK0750004',\n",
       " u'73836AK0840001',\n",
       " u'73836AK0850001',\n",
       " u'73836AK0850002',\n",
       " u'73836AK0860001',\n",
       " u'73836AK0860002',\n",
       " u'73836AK0790001',\n",
       " u'73836AK0790002',\n",
       " u'21989AK0030001',\n",
       " u'21989AK0050001',\n",
       " u'21989AK0050002',\n",
       " u'21989AK0070001',\n",
       " u'39424OR1240001',\n",
       " u'39424OR1260001',\n",
       " u'39424OR1460001',\n",
       " u'39424OR1460002',\n",
       " u'39424OR1240002',\n",
       " u'39424OR1260002',\n",
       " u'39424OR1460003',\n",
       " u'39424OR1460004',\n",
       " u'39424OR1470001',\n",
       " u'39424OR1310001',\n",
       " u'39424OR1480001',\n",
       " u'39424OR1480003',\n",
       " u'39424OR1490001',\n",
       " u'39424OR1500001',\n",
       " u'39424OR1320001',\n",
       " u'28415OR0210001',\n",
       " u'28415OR0010001',\n",
       " u'28415OR0010002',\n",
       " u'28415OR0050001',\n",
       " u'39424OR1480002']"
      ]
     },
     "execution_count": 308,
     "metadata": {},
     "output_type": "execute_result"
    }
   ],
   "source": [
    "plan_col.distinct('plan_id')"
   ]
  },
  {
   "cell_type": "code",
   "execution_count": 238,
   "metadata": {
    "collapsed": false
   },
   "outputs": [],
   "source": [
    "client.close()"
   ]
  }
 ],
 "metadata": {
  "kernelspec": {
   "display_name": "Python 2",
   "language": "python",
   "name": "python2"
  },
  "language_info": {
   "codemirror_mode": {
    "name": "ipython",
    "version": 2
   },
   "file_extension": ".py",
   "mimetype": "text/x-python",
   "name": "python",
   "nbconvert_exporter": "python",
   "pygments_lexer": "ipython2",
   "version": "2.7.9"
  }
 },
 "nbformat": 4,
 "nbformat_minor": 0
}
