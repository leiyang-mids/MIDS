{
 "cells": [
  {
   "cell_type": "code",
   "execution_count": 1,
   "metadata": {
    "collapsed": true
   },
   "outputs": [],
   "source": [
    "from sklearn.preprocessing import OneHotEncoder\n",
    "from pymongo import MongoClient\n",
    "from zipfile import ZipFile, ZIP_DEFLATED\n",
    "from sets import Set\n",
    "import numpy as np\n",
    "import json, sys, os, time, re, datetime"
   ]
  },
  {
   "cell_type": "code",
   "execution_count": 2,
   "metadata": {
    "collapsed": false
   },
   "outputs": [
    {
     "name": "stdout",
     "output_type": "stream",
     "text": [
      "Using local Mongo, total drug: 8968, total plan: 27\n"
     ]
    }
   ],
   "source": [
    "local = True\n",
    "if local:\n",
    "    client = MongoClient('fc8iasm01', 27017)\n",
    "    plan_col = client.aca.plan\n",
    "    drug_col = client.aca.drug\n",
    "else:\n",
    "    client = MongoClient('ec2-54-153-83-172.us-west-1.compute.amazonaws.com', 27017)\n",
    "    plan_col = client.plans.plans\n",
    "    drug_col = client.formularies.drugs\n",
    "    prov_col = client.providers.providers\n",
    "    faci_col = client.providers.facilities\n",
    "\n",
    "all_plan = drug_col.distinct('plans.plan_id')\n",
    "all_drug = drug_col.distinct('rxnorm_id')\n",
    "\n",
    "print 'Using %s Mongo, total drug: %d, total plan: %d' %('local' if local else 'aws', len(all_drug), len(all_plan))\n",
    "# client.formularies.scollection_names()\n",
    "# client.providers.collection_names()"
   ]
  },
  {
   "cell_type": "markdown",
   "metadata": {},
   "source": [
    "###Load encode definition"
   ]
  },
  {
   "cell_type": "code",
   "execution_count": 3,
   "metadata": {
    "collapsed": false
   },
   "outputs": [
    {
     "data": {
      "text/plain": [
       "{u'drug.plans.drug_tier': u'string',\n",
       " u'drug.plans.prior_authorization': u'boolean',\n",
       " u'drug.plans.quantity_limit': u'boolean',\n",
       " u'drug.plans.step_therapy': u'boolean',\n",
       " u'plan.formulary.cost_sharing.coinsurance_opt': u'string',\n",
       " u'plan.formulary.cost_sharing.coinsurance_rate': u'float',\n",
       " u'plan.formulary.cost_sharing.copay_amount': u'float',\n",
       " u'plan.formulary.cost_sharing.copay_opt': u'string',\n",
       " u'plan.formulary.cost_sharing.pharmacy_type': u'string',\n",
       " u'plan.formulary.drug_tier': u'string',\n",
       " u'plan.formulary.mail_order': u'boolean',\n",
       " u'plan.network.network_tier': u'string',\n",
       " u'plan.plan_id_type': u'string'}"
      ]
     },
     "execution_count": 3,
     "metadata": {},
     "output_type": "execute_result"
    }
   ],
   "source": [
    "def getEncodeFields(encode_def, rtn, path=''):\n",
    "    ''' extract the selected fields from the encode json definition '''\n",
    "    \n",
    "    if 'encode' in encode_def and encode_def['encode'] == 1:\n",
    "        rtn[path[1:]] = encode_def['type']\n",
    "    elif 'encode' not in encode_def:\n",
    "        for f in encode_def:\n",
    "            getEncodeFields(encode_def[f], rtn, path + ('' if f=='properties' else '.'+f))\n",
    "    return rtn\n",
    "\n",
    "def logTime():\n",
    "    return str(datetime.datetime.now())\n",
    "\n",
    "encode_list = getEncodeFields(json.load(open('encode2.json')), {})\n",
    "encode_list"
   ]
  },
  {
   "cell_type": "markdown",
   "metadata": {},
   "source": [
    "###Data uniformity check"
   ]
  },
  {
   "cell_type": "code",
   "execution_count": 4,
   "metadata": {
    "collapsed": false
   },
   "outputs": [
    {
     "name": "stdout",
     "output_type": "stream",
     "text": [
      "2016-07-06 16:03:38.685000: plan document: 35\n",
      "2016-07-06 16:03:38.687000: drug document: 17777\n",
      "2016-07-06 16:03:38.689000: unique plan_id: 27\n",
      "2016-07-06 16:03:38.689000: unique rxnorm_id: 8968\n",
      "2016-07-06 16:03:38.693000: plans with multiple documents: 0\n",
      "2016-07-06 16:03:39.081000: drugs with multiple documents: 8809\n",
      "2016-07-06 16:03:39.092000: states in the plan: AK, OR\n"
     ]
    }
   ],
   "source": [
    "print '%s: plan document: %d' %(logTime(), plan_col.count())\n",
    "print '%s: drug document: %d' %(logTime(), drug_col.count())\n",
    "print '%s: unique plan_id: %d' %(logTime(), len(all_plan))\n",
    "print '%s: unique rxnorm_id: %d' %(logTime(), len(all_drug))\n",
    "\n",
    "multi_plan = [1 for p in plan_col.aggregate([{\"$group\": {\"_id\":\"$plan_id\", \"count\":{\"$sum\":1}}}]) if p['count']>1]\n",
    "print '%s: plans with multiple documents: %d' %(logTime(), sum(multi_plan))\n",
    "\n",
    "multi_drug = [1 for p in drug_col.aggregate([{\"$group\": {\"_id\":\"$rxnorm_id\", \"count\":{\"$sum\":1}}}]) if p['count']>1]\n",
    "print '%s: drugs with multiple documents: %d' %(logTime(), sum(multi_drug))\n",
    "\n",
    "state_id = np.unique([i[5:7] for i in all_plan])\n",
    "print '%s: states in the plan: %s' %(logTime(), ', '.join(state_id))"
   ]
  },
  {
   "cell_type": "markdown",
   "metadata": {},
   "source": [
    "###Get feature space"
   ]
  },
  {
   "cell_type": "code",
   "execution_count": 6,
   "metadata": {
    "collapsed": false,
    "scrolled": false
   },
   "outputs": [
    {
     "name": "stdout",
     "output_type": "stream",
     "text": [
      "processing 11 plans for AK ...\n"
     ]
    },
    {
     "data": {
      "text/plain": [
       "{u'drug.plans.drug_tier': [u'SELECT',\n",
       "  u'BRAND',\n",
       "  u'PREFERRED',\n",
       "  u'VALUE',\n",
       "  u'SPECIALTY',\n",
       "  u'PREVENTIVE',\n",
       "  u'MEDICAL-SERVICE-DRUGS'],\n",
       " u'plan.formulary.cost_sharing.coinsurance_opt': [None, u'AFTER-DEDUCTIBLE'],\n",
       " u'plan.formulary.cost_sharing.copay_opt': [u'BEFORE-DEDUCTIBLE',\n",
       "  u'NO-CHARGE'],\n",
       " u'plan.formulary.cost_sharing.pharmacy_type': [u'1-MONTH-IN-RETAIL',\n",
       "  u'3-MONTH-IN-MAIL',\n",
       "  u'3-MONTH-IN-RETAIL',\n",
       "  u'3-MONTH-OUT-RETAIL'],\n",
       " u'plan.formulary.drug_tier': [u'BRAND',\n",
       "  u'MEDICAL-SERVICE-DRUGS',\n",
       "  u'PREFERRED',\n",
       "  u'PREVENTIVE',\n",
       "  u'SELECT',\n",
       "  u'SPECIALTY',\n",
       "  u'VALUE'],\n",
       " u'plan.network.network_tier': [u'PREFERRED'],\n",
       " u'plan.plan_id_type': [u'HIOS-PLAN-ID']}"
      ]
     },
     "execution_count": 6,
     "metadata": {},
     "output_type": "execute_result"
    }
   ],
   "source": [
    "state = 'AK' # set to None to include all (very slow process for all)\n",
    "ex_id = all_plan if not state else [i for i in all_plan if state in i]\n",
    "print 'processing %d plans for %s ...' %(len(ex_id), 'all' if not state else state)\n",
    "\n",
    "feature_space = {\n",
    "    k : (plan_col if k.startswith('plan') else drug_col).find(\n",
    "        { ('plan_id' if k.startswith('plan') else 'plans.plan_id') : {'$in':ex_id} }\n",
    "    ).distinct(k[k.index('.')+1:]) \n",
    "    for k,v in encode_list.items() if v=='string'\n",
    "}\n",
    "\n",
    "feature_space"
   ]
  },
  {
   "cell_type": "markdown",
   "metadata": {},
   "source": [
    "###Get common drugs between plans\n",
    "- operator reference [link](https://docs.mongodb.com/manual/reference/operator/query/)"
   ]
  },
  {
   "cell_type": "code",
   "execution_count": 7,
   "metadata": {
    "collapsed": false
   },
   "outputs": [
    {
     "name": "stdout",
     "output_type": "stream",
     "text": [
      "2016-07-06 16:04:25.293000: there are 8809 drugs for 11 plans!\n"
     ]
    }
   ],
   "source": [
    "# get rxnorm_id group for each plan\n",
    "common_drug = drug_col.find({'plans.plan_id':{'$in':ex_id}}).distinct('rxnorm_id')\n",
    "n_drug = len(common_drug)\n",
    "drug_attr = [[k.split('.')[-1],v,k] for k,v in encode_list.items() if k.startswith ('drug')]\n",
    "drug_cat_index = ([False]+[k[1]=='string' for k in drug_attr])*n_drug\n",
    "print '%s: there are %d drugs for %d plans!' %(logTime(), n_drug, len(ex_id))"
   ]
  },
  {
   "cell_type": "markdown",
   "metadata": {},
   "source": [
    "###Get unique pharmacy_type for each drug_tier"
   ]
  },
  {
   "cell_type": "code",
   "execution_count": 8,
   "metadata": {
    "collapsed": false
   },
   "outputs": [
    {
     "data": {
      "text/plain": [
       "{u'BRAND': [u'3-MONTH-IN-MAIL', u'3-MONTH-IN-RETAIL', u'3-MONTH-OUT-RETAIL'],\n",
       " u'MEDICAL-SERVICE-DRUGS': [u'3-MONTH-IN-RETAIL'],\n",
       " u'PREFERRED': [u'3-MONTH-IN-MAIL',\n",
       "  u'3-MONTH-IN-RETAIL',\n",
       "  u'3-MONTH-OUT-RETAIL'],\n",
       " u'PREVENTIVE': [u'3-MONTH-IN-RETAIL'],\n",
       " u'SELECT': [u'3-MONTH-IN-MAIL', u'3-MONTH-IN-RETAIL', u'3-MONTH-OUT-RETAIL'],\n",
       " u'SPECIALTY': [u'1-MONTH-IN-RETAIL'],\n",
       " u'VALUE': [u'3-MONTH-IN-MAIL', u'3-MONTH-IN-RETAIL', u'3-MONTH-OUT-RETAIL']}"
      ]
     },
     "execution_count": 8,
     "metadata": {},
     "output_type": "execute_result"
    }
   ],
   "source": [
    "# Note: issue with distinct in the query\n",
    "# tier_pharm = {tier : plan_col.find(\n",
    "#         {'plan_id':{'$in':ex_id}, 'formulary.drug_tier':tier}, #'formulary.0.cost_sharing.0':{'$exists':True}},\n",
    "#         {'_id':0, 'formulary':{'$elemMatch':{'drug_tier':tier}}}\n",
    "#     ).distinct('formulary.cost_sharing.pharmacy_type')\n",
    "#     for tier in feature_space['plan.formulary.drug_tier']\n",
    "# }\n",
    "\n",
    "# traditional way to check\n",
    "tier_pharm = {}\n",
    "# for tier in feature_space['plan.formulary.drug_tier']:\n",
    "#     query = plan_col.find(\n",
    "#         {\n",
    "#             'plan_id':{'$in':ex_id}, \n",
    "#             'formulary.drug_tier':tier,            \n",
    "#             'formulary.0.cost_sharing.0':{'$exists':True},             \n",
    "#         },\n",
    "#         # NOTE: when fomulary is a dict instead of arrary, this projection won't return content\n",
    "#         {'_id':0, 'formulary':{'$elemMatch':{'drug_tier':tier}}}\n",
    "#     )\n",
    "#     tier_pharm[tier] = list(Set(cs['pharmacy_type'] for p in query for f in p['formulary'] for cs in f['cost_sharing']))\n",
    "\n",
    "# simple query to double check results\n",
    "for p in plan_col.find({'plan_id':{'$in':ex_id}}):\n",
    "    if 'formulary' not in p:\n",
    "        continue\n",
    "    if type(p['formulary']) is dict:\n",
    "        p['formulary'] = [p['formulary']]\n",
    "    for f in p['formulary']:        \n",
    "        if f['drug_tier'] not in tier_pharm:\n",
    "            tier_pharm[f['drug_tier']]=[]        \n",
    "        if 'cost_sharing' not in f:\n",
    "            continue\n",
    "        for cs in f['cost_sharing']:\n",
    "            tier_pharm[f['drug_tier']].append(cs['pharmacy_type'])\n",
    "tier_pharm = {k:list(set(v)) for k,v in tier_pharm.items()}\n",
    "\n",
    "tier_pharm"
   ]
  },
  {
   "cell_type": "markdown",
   "metadata": {},
   "source": [
    "###Check provider feature space"
   ]
  },
  {
   "cell_type": "code",
   "execution_count": 13,
   "metadata": {
    "collapsed": false
   },
   "outputs": [
    {
     "ename": "NameError",
     "evalue": "global name 'getProviderUniqueAttr' is not defined",
     "output_type": "error",
     "traceback": [
      "\u001b[1;31m---------------------------------------------------------------------------\u001b[0m",
      "\u001b[1;31mNameError\u001b[0m                                 Traceback (most recent call last)",
      "\u001b[1;32m<ipython-input-13-e166b7e809f2>\u001b[0m in \u001b[0;36m<module>\u001b[1;34m()\u001b[0m\n\u001b[0;32m      1\u001b[0m \u001b[0mprov_fea\u001b[0m \u001b[1;33m=\u001b[0m \u001b[1;33m[\u001b[0m\u001b[1;34m'speciality'\u001b[0m\u001b[1;33m,\u001b[0m \u001b[1;34m'languages'\u001b[0m\u001b[1;33m,\u001b[0m \u001b[1;34m'type'\u001b[0m\u001b[1;33m,\u001b[0m \u001b[1;34m'accepting'\u001b[0m\u001b[1;33m]\u001b[0m\u001b[1;33m\u001b[0m\u001b[0m\n\u001b[1;32m----> 2\u001b[1;33m \u001b[0mprov_fea_space\u001b[0m \u001b[1;33m=\u001b[0m \u001b[1;33m{\u001b[0m\u001b[0mf\u001b[0m\u001b[1;33m:\u001b[0m\u001b[0mgetProviderUniqueAttr\u001b[0m\u001b[1;33m(\u001b[0m\u001b[0mprov_col\u001b[0m\u001b[1;33m,\u001b[0m \u001b[0mf\u001b[0m\u001b[1;33m,\u001b[0m \u001b[0mex_id\u001b[0m\u001b[1;33m)\u001b[0m \u001b[1;32mfor\u001b[0m \u001b[0mf\u001b[0m \u001b[1;32min\u001b[0m \u001b[0mprov_fea\u001b[0m\u001b[1;33m}\u001b[0m\u001b[1;33m\u001b[0m\u001b[0m\n\u001b[0m\u001b[0;32m      3\u001b[0m \u001b[0mprov_cat_index\u001b[0m \u001b[1;33m=\u001b[0m \u001b[1;33m[\u001b[0m\u001b[0mFalse\u001b[0m\u001b[1;33m]\u001b[0m\u001b[1;33m*\u001b[0m\u001b[0msum\u001b[0m\u001b[1;33m(\u001b[0m\u001b[0mlen\u001b[0m\u001b[1;33m(\u001b[0m\u001b[0mv\u001b[0m\u001b[1;33m)\u001b[0m \u001b[1;32mfor\u001b[0m \u001b[0mv\u001b[0m \u001b[1;32min\u001b[0m \u001b[0mprov_fea_space\u001b[0m\u001b[1;33m.\u001b[0m\u001b[0mvalues\u001b[0m\u001b[1;33m(\u001b[0m\u001b[1;33m)\u001b[0m\u001b[1;33m)\u001b[0m\u001b[1;33m\u001b[0m\u001b[0m\n",
      "\u001b[1;32m<ipython-input-13-e166b7e809f2>\u001b[0m in \u001b[0;36m<dictcomp>\u001b[1;34m((f,))\u001b[0m\n\u001b[0;32m      1\u001b[0m \u001b[0mprov_fea\u001b[0m \u001b[1;33m=\u001b[0m \u001b[1;33m[\u001b[0m\u001b[1;34m'speciality'\u001b[0m\u001b[1;33m,\u001b[0m \u001b[1;34m'languages'\u001b[0m\u001b[1;33m,\u001b[0m \u001b[1;34m'type'\u001b[0m\u001b[1;33m,\u001b[0m \u001b[1;34m'accepting'\u001b[0m\u001b[1;33m]\u001b[0m\u001b[1;33m\u001b[0m\u001b[0m\n\u001b[1;32m----> 2\u001b[1;33m \u001b[0mprov_fea_space\u001b[0m \u001b[1;33m=\u001b[0m \u001b[1;33m{\u001b[0m\u001b[0mf\u001b[0m\u001b[1;33m:\u001b[0m\u001b[0mgetProviderUniqueAttr\u001b[0m\u001b[1;33m(\u001b[0m\u001b[0mprov_col\u001b[0m\u001b[1;33m,\u001b[0m \u001b[0mf\u001b[0m\u001b[1;33m,\u001b[0m \u001b[0mex_id\u001b[0m\u001b[1;33m)\u001b[0m \u001b[1;32mfor\u001b[0m \u001b[0mf\u001b[0m \u001b[1;32min\u001b[0m \u001b[0mprov_fea\u001b[0m\u001b[1;33m}\u001b[0m\u001b[1;33m\u001b[0m\u001b[0m\n\u001b[0m\u001b[0;32m      3\u001b[0m \u001b[0mprov_cat_index\u001b[0m \u001b[1;33m=\u001b[0m \u001b[1;33m[\u001b[0m\u001b[0mFalse\u001b[0m\u001b[1;33m]\u001b[0m\u001b[1;33m*\u001b[0m\u001b[0msum\u001b[0m\u001b[1;33m(\u001b[0m\u001b[0mlen\u001b[0m\u001b[1;33m(\u001b[0m\u001b[0mv\u001b[0m\u001b[1;33m)\u001b[0m \u001b[1;32mfor\u001b[0m \u001b[0mv\u001b[0m \u001b[1;32min\u001b[0m \u001b[0mprov_fea_space\u001b[0m\u001b[1;33m.\u001b[0m\u001b[0mvalues\u001b[0m\u001b[1;33m(\u001b[0m\u001b[1;33m)\u001b[0m\u001b[1;33m)\u001b[0m\u001b[1;33m\u001b[0m\u001b[0m\n",
      "\u001b[1;31mNameError\u001b[0m: global name 'getProviderUniqueAttr' is not defined"
     ]
    }
   ],
   "source": [
    "prov_attr = ['speciality', 'languages', 'type', 'accepting']\n",
    "prov_attr_space = {f:getProviderUniqueAttr(prov_col, f, ex_id) for f in prov_attr}\n",
    "prov_cat_index = [False]*sum(len(v) for v in prov_attr_space.values())"
   ]
  },
  {
   "cell_type": "markdown",
   "metadata": {},
   "source": [
    "###Evaluate feature dimension and variable index"
   ]
  },
  {
   "cell_type": "code",
   "execution_count": 9,
   "metadata": {
    "collapsed": false
   },
   "outputs": [
    {
     "name": "stdout",
     "output_type": "stream",
     "text": [
      "2016-07-06 16:04:41.817000: feature dimension before encode: 44112\n"
     ]
    }
   ],
   "source": [
    "# put tier names into list so the order is fixed for feature extraction\n",
    "tiers = tier_pharm.keys()\n",
    "# we build pharmacy type into the order of feature vector, so no need to include\n",
    "cost_attr = [[k.split('.')[-1],v,k] for k,v in encode_list.items() \n",
    "             if 'cost_sharing' in k and 'pharmacy_type' not in k]\n",
    "# flatten the vector to combine all tiers\n",
    "cat2d = [[False] + [k[1]=='string' for k in cost_attr]*len(tier_pharm[t]) for t in tiers]\n",
    "cost_cat_index = [y for x in cat2d for y in x]\n",
    "# # plan level attributes\n",
    "# plan_attr = [[k.split('.')[-1],v,k] for k,v in encode_list.items() if k.startswith('plan') and 'formulary' not in k]\n",
    "# plan_cat_index = [a[1]=='string' for a in plan_attr]\n",
    "\n",
    "# total feature catagrical index - must match with the order of feature canconnation in plan\n",
    "cat_index = cost_cat_index + drug_cat_index + prov_cat_index\n",
    "catagorical_var = [i for i,v in zip(range(len(cat_index)),cat_index) if v]\n",
    "print '%s: feature dimension before encode: %d' %(logTime(), len(cat_index))"
   ]
  },
  {
   "cell_type": "markdown",
   "metadata": {},
   "source": [
    "###Extraction integer features for each plan\n",
    "- get plan feature --> cost_sharing/pharmacy type\n",
    "- get drug feature --> drug_tier"
   ]
  },
  {
   "cell_type": "code",
   "execution_count": null,
   "metadata": {
    "collapsed": true
   },
   "outputs": [],
   "source": [
    "def getPharmacyFeatureFromPlan(pid, tier_pharmacy, plan_collection, all_tier, pharm_attr, fea_space):\n",
    "    # initialize feature vector\n",
    "    tier_feature = [None]*len(tiers)    \n",
    "    # for each tier, assemble pharmacy info\n",
    "    for tier, pharm in tier_pharmacy.items():         \n",
    "        doc_cur = plan_collection.find(\n",
    "            {'plan_id':pid, 'formulary.drug_tier':tier},\n",
    "            {'_id':0, 'formulary':{'$elemMatch':{'drug_tier':tier}}}        \n",
    "        )   \n",
    "        # assemble pharmacy feature for this tier                \n",
    "        n_doc, mail_order, pharm_feature = 0, None, [[None]*len(pharm_attr)]*len(pharm)        \n",
    "        for doc in doc_cur:              \n",
    "            n_doc += 1\n",
    "            fml = doc['formulary'][0]\n",
    "            mail_order = fml['mail_order']\n",
    "            # no pharmarcy type on the tier, only put mail_order (from last doc)\n",
    "            if len(pharm) == 0 or 'cost_sharing' not in fml:                \n",
    "                continue                        \n",
    "            # loop pharmarcy types  \n",
    "            try:\n",
    "                for cs in fml['cost_sharing']:\n",
    "                    cost_feature = [cs[a[0]] if a[1]!='string' else fea_space[a[2]].index(cs[a[0]]) \n",
    "                                    for a in pharm_attr]\n",
    "                    pharm_feature[pharm.index(cs['pharmacy_type'])] = cost_feature\n",
    "            except Exception as ex:\n",
    "                print '\\tERROR parsing cost_sharing value',ex,pid,tier        \n",
    "        # attach pharmacy info to tier feature\n",
    "        tier_feature[all_tier.index(tier)] = [mail_order] + [y for x in pharm_feature for y in x]\n",
    "        if n_doc > 1:\n",
    "            print '\\tWARNING: plan tier with multiple document:', pid,tier        \n",
    "    # flaten the vector for the plan from hierarchy: tier-cost-pharmacy\n",
    "    return [y for x in tier_feature for y in x]"
   ]
  },
  {
   "cell_type": "code",
   "execution_count": 12,
   "metadata": {
    "collapsed": false
   },
   "outputs": [],
   "source": [
    "def getDrugFeatureForPlan(pid, all_rxnorms, ex_attr, fea_space):\n",
    "    # get the available drug attributes for a plan\n",
    "    drug_cur = drug_col.find(\n",
    "        {'plans.plan_id':pid, 'rxnorm_id':{'$in':all_rxnorms}},# 'plans.0':{'$exists':True}}, \n",
    "        {'_id':0, 'rxnorm_id':1, 'plans':{ '$elemMatch':{'plan_id':pid} }}\n",
    "    )\n",
    "\n",
    "    # extract the drug attributes for all common drugs    \n",
    "    drug_fea = [[False]+[None]*len(ex_attr)]*len(all_rxnorms)\n",
    "    try:\n",
    "        for drug in drug_cur:\n",
    "            fea, rid = drug['plans'][0], all_rxnorms.index(drug['rxnorm_id'])\n",
    "            drug_fea[rid] = [True]+[fea[a[0]] if a[1]!='string' \n",
    "                                    else fea_space[a[2]].index(fea[a[0]])\n",
    "                                    for a in ex_attr]\n",
    "        # flatten features and return\n",
    "        return [f for d in drug_fea for f in d]\n",
    "    except Exception as ex:\n",
    "        print '\\tError parsing %s drug, skipping: %s' %(pid, str(ex))\n",
    "        return None    "
   ]
  },
  {
   "cell_type": "code",
   "execution_count": null,
   "metadata": {
    "collapsed": true
   },
   "outputs": [],
   "source": [
    "def getProviderUniqueAttr(provider_col, attr, all_plan_id):\n",
    "    return provider_col.find({'plans.plan_id':{'$in':all_plan_id}}).distinct(attr)\n",
    "\n",
    "def getProviderAttrCount(provider_col, plan_id, attr, all_attr):    \n",
    "    attr_count = [0]*len(all_attr)\n",
    "    for at in provider_col.aggregate(\n",
    "        [\n",
    "            {'$match':{'plans.plan_id':plan_id}},\n",
    "            {'$group':{'_id':'$'+attr, 'cnt':{'$sum':1}}},\n",
    "            {'$project':{attr:'$_id', 'count':'$cnt', '_id':0}}   \n",
    "        ]\n",
    "    ):\n",
    "#         print at\n",
    "        k = '' if not at[attr] else (at[attr][0] if type(at[attr]) is list else at[attr])\n",
    "        if k in all_attr:\n",
    "            attr_count[all_attr.index(k)] = at['count']        \n",
    "    return attr_count\n",
    "\n",
    "def getProviderFeatureForPlan(pid, features, provider_col, fea_list):\n",
    "    # find all specialities the plans cover        \n",
    "    rtn = []\n",
    "    for f in fea_list:\n",
    "        rtn += getProviderAttrCount(provider_col, pid, f, features[f]) \n",
    "    return rtn\n",
    "    "
   ]
  },
  {
   "cell_type": "code",
   "execution_count": 10,
   "metadata": {
    "collapsed": false,
    "scrolled": true
   },
   "outputs": [
    {
     "name": "stdout",
     "output_type": "stream",
     "text": [
      "2016-07-06 16:05:02.049000: processing plans 10/11 ...\n",
      "2016-07-06 16:05:04.664000: completed processing AK plan, 0 skipped due to parsing issue.\n"
     ]
    }
   ],
   "source": [
    "plan_int_feature, i, skip = {}, 0, 0\n",
    "# for each plan, get int features (plan level & combined fomulary level)\n",
    "for pid in ex_id:\n",
    "    i += 1    \n",
    "    if i%10==0:\n",
    "        print '%s: processing plans %d/%d ...' %(logTime(), i, len(ex_id))    \n",
    "    # feature from plan data\n",
    "    plan_feature = getPharmacyFeatureFromPlan(pid, tier_pharm, plan_col, tiers, cost_attr, feature_space)\n",
    "    if len(plan_feature) != len(cost_cat_index):\n",
    "        skip += 1\n",
    "        print '\\nError: plan feature dimension mismatch for %s' %pid\n",
    "        continue\n",
    "    \n",
    "    # feature from drug data\n",
    "    drug_feature = getDrugFeatureForPlan(pid, common_drug, drug_attr, feature_space)\n",
    "    if not drug_feature:\n",
    "        skip += 1\n",
    "        continue\n",
    "    \n",
    "    # feature from provider data    \n",
    "    prov_feature = getPharmacyFeatureFromPlan(pid, prov_attr_space, prov_col, prov_attr)\n",
    "    if len(prov_feature) != len(prov_cat_index):\n",
    "        skip += 1\n",
    "        print '\\nError: provider feature dimension mismatch for %s' %pid\n",
    "    \n",
    "    # combine for plan feature - must match with catagroical index concannation order    \n",
    "    plan_int_feature[pid] = plan_feature + drug_feature + prov_feature\n",
    "\n",
    "print '%s: completed processing %s plan, %d skipped due to parsing issue.' %(logTime(), state, skip)"
   ]
  },
  {
   "cell_type": "markdown",
   "metadata": {},
   "source": [
    "###Provider & Facility dev"
   ]
  },
  {
   "cell_type": "code",
   "execution_count": 84,
   "metadata": {
    "collapsed": false
   },
   "outputs": [],
   "source": [
    "# find all specialities the plans cover\n",
    "# specs = prov_col.find({'plans.plan_id':{'$in':ex_id}}).distinct('speciality')\n",
    "# getProviderSpeciality(prov_col, '30969OR0040001', 'speciality', specs)\n",
    "\n",
    "# find langurage\n",
    "lang = prov_col.find({'plans.plan_id':{'$in':ex_id}}).distinct('languages')\n",
    "getProviderAttrCount(prov_col, '30969OR0040001', 'languages', lang)"
   ]
  },
  {
   "cell_type": "code",
   "execution_count": 89,
   "metadata": {
    "collapsed": false
   },
   "outputs": [
    {
     "data": {
      "text/plain": [
       "[u'accepting', u'not accepting', u'accepting in some locations']"
      ]
     },
     "execution_count": 89,
     "metadata": {},
     "output_type": "execute_result"
    }
   ],
   "source": [
    "getProviderUniqueAttr(prov_col, 'accepting', ex_id)\n",
    "\n",
    "#TODO: add another feature: number/count of locations"
   ]
  },
  {
   "cell_type": "code",
   "execution_count": 87,
   "metadata": {
    "collapsed": false
   },
   "outputs": [
    {
     "data": {
      "text/plain": [
       "{u'_id': ObjectId('5775ff81c421d272dcd681f5'),\n",
       " u'accepting': u'accepting',\n",
       " u'addresses': [{u'address': u'8100 WESTCOTT DRIVE',\n",
       "   u'address_2': u'SUITE 101',\n",
       "   u'city': u'FLEMINGTON',\n",
       "   u'phone': u'9087820600',\n",
       "   u'state': u'NJ',\n",
       "   u'zip': u'08822'},\n",
       "  {u'address': u'8100 WESTCOTT DRIVE',\n",
       "   u'address_2': u'SUITE 101',\n",
       "   u'city': u'FLEMINGTON',\n",
       "   u'phone': u'9087820600',\n",
       "   u'state': u'NJ',\n",
       "   u'zip': u'08822'},\n",
       "  {u'address': u'8100 WESTCOTT DRIVE',\n",
       "   u'address_2': u'SUITE 101',\n",
       "   u'city': u'FLEMINGTON',\n",
       "   u'phone': u'9087820600',\n",
       "   u'state': u'NJ',\n",
       "   u'zip': u'08822'},\n",
       "  {u'address': u'8100 WESTCOTT DRIVE',\n",
       "   u'address_2': u'SUITE 101',\n",
       "   u'city': u'FLEMINGTON',\n",
       "   u'phone': u'9087820600',\n",
       "   u'state': u'NJ',\n",
       "   u'zip': u'08822'},\n",
       "  {u'address': u'8100 WESTCOTT DRIVE',\n",
       "   u'address_2': u'SUITE 101',\n",
       "   u'city': u'FLEMINGTON',\n",
       "   u'phone': u'9087820600',\n",
       "   u'state': u'NJ',\n",
       "   u'zip': u'08822'}],\n",
       " u'languages': [u'English'],\n",
       " u'last_updated_on': u'2015-10-06',\n",
       " u'name': {u'first': u'THOMAS',\n",
       "  u'last': u'ST. JOHN',\n",
       "  u'middle': u'',\n",
       "  u'suffix': u''},\n",
       " u'npi': u'1710941851',\n",
       " u'phone': u'9087820600',\n",
       " u'plans': [{u'network_tier': u'PREFERRED',\n",
       "   u'plan_id': u'10191NJ0050003',\n",
       "   u'plan_id_type': u'HIOS-PLAN-ID'},\n",
       "  {u'network_tier': u'PREFERRED',\n",
       "   u'plan_id': u'10191NJ0050002',\n",
       "   u'plan_id_type': u'HIOS-PLAN-ID'},\n",
       "  {u'network_tier': u'PREFERRED',\n",
       "   u'plan_id': u'10191NJ0050001',\n",
       "   u'plan_id_type': u'HIOS-PLAN-ID'},\n",
       "  {u'network_tier': u'NON-PREFERRED',\n",
       "   u'plan_id': u'10191NJ0180001',\n",
       "   u'plan_id_type': u'HIOS-PLAN-ID'},\n",
       "  {u'network_tier': u'PREFERRED',\n",
       "   u'plan_id': u'10191NJ0030002',\n",
       "   u'plan_id_type': u'HIOS-PLAN-ID'},\n",
       "  {u'network_tier': u'PREFERRED',\n",
       "   u'plan_id': u'10191NJ0030001',\n",
       "   u'plan_id_type': u'HIOS-PLAN-ID'},\n",
       "  {u'network_tier': u'PREFERRED',\n",
       "   u'plan_id': u'10191NJ0290004',\n",
       "   u'plan_id_type': u'HIOS-PLAN-ID'},\n",
       "  {u'network_tier': u'PREFERRED',\n",
       "   u'plan_id': u'10191NJ0290003',\n",
       "   u'plan_id_type': u'HIOS-PLAN-ID'},\n",
       "  {u'network_tier': u'PREFERRED',\n",
       "   u'plan_id': u'10191NJ0290002',\n",
       "   u'plan_id_type': u'HIOS-PLAN-ID'},\n",
       "  {u'network_tier': u'PREFERRED',\n",
       "   u'plan_id': u'10191NJ0290001',\n",
       "   u'plan_id_type': u'HIOS-PLAN-ID'},\n",
       "  {u'network_tier': u'PREFERRED',\n",
       "   u'plan_id': u'10191NJ0070003',\n",
       "   u'plan_id_type': u'HIOS-PLAN-ID'},\n",
       "  {u'network_tier': u'PREFERRED',\n",
       "   u'plan_id': u'10191NJ0070002',\n",
       "   u'plan_id_type': u'HIOS-PLAN-ID'},\n",
       "  {u'network_tier': u'PREFERRED',\n",
       "   u'plan_id': u'10191NJ0070001',\n",
       "   u'plan_id_type': u'HIOS-PLAN-ID'},\n",
       "  {u'network_tier': u'NON-PREFERRED',\n",
       "   u'plan_id': u'10191NJ0190004',\n",
       "   u'plan_id_type': u'HIOS-PLAN-ID'},\n",
       "  {u'network_tier': u'NON-PREFERRED',\n",
       "   u'plan_id': u'10191NJ0190002',\n",
       "   u'plan_id_type': u'HIOS-PLAN-ID'},\n",
       "  {u'network_tier': u'NON-PREFERRED',\n",
       "   u'plan_id': u'10191NJ0190001',\n",
       "   u'plan_id_type': u'HIOS-PLAN-ID'},\n",
       "  {u'network_tier': u'PREFERRED',\n",
       "   u'plan_id': u'10191NJ0150001',\n",
       "   u'plan_id_type': u'HIOS-PLAN-ID'}],\n",
       " u'speciality': [u'Orthopedic Surgery'],\n",
       " u'type': u'INDIVIDUAL'}"
      ]
     },
     "execution_count": 87,
     "metadata": {},
     "output_type": "execute_result"
    }
   ],
   "source": [
    "# build \n",
    "def getProviderUniqueAttr(provider_col, attr, plan_id):\n",
    "    return provider_col.find({'plans.plan_id':{'$in':plan_id}}).distinct(attr)\n",
    "\n",
    "def getProviderAttrCount(provider_col, plan_id, attr, all_specs):\n",
    "    spec_count = [0]*len(all_specs)\n",
    "    for sp in prov_col.aggregate(\n",
    "        [\n",
    "            {'$match':{'plans.plan_id':plan_id}},\n",
    "            {'$group':{'_id':'$'+attr, 'cnt':{'$sum':1}}},\n",
    "            {'$project':{'spec':'$_id', 'count':'$cnt', '_id':0}}   \n",
    "        ]\n",
    "    ):\n",
    "        spec_count[all_specs.index(sp['spec'][0])] = sp['count']        \n",
    "        \n",
    "    return spec_count\n",
    "\n",
    "    \n",
    "prov_col.find_one()"
   ]
  },
  {
   "cell_type": "code",
   "execution_count": null,
   "metadata": {
    "collapsed": false
   },
   "outputs": [],
   "source": [
    "faci_col.find({'plans.plan_id':'10191NJ0070002'}).distinct('facility_type')"
   ]
  },
  {
   "cell_type": "markdown",
   "metadata": {},
   "source": [
    "###Reset"
   ]
  },
  {
   "cell_type": "code",
   "execution_count": 105,
   "metadata": {
    "collapsed": false
   },
   "outputs": [],
   "source": [
    "client.close()\n",
    "%reset "
   ]
  },
  {
   "cell_type": "code",
   "execution_count": 56,
   "metadata": {
    "collapsed": false
   },
   "outputs": [
    {
     "name": "stdout",
     "output_type": "stream",
     "text": [
      "drugs: 2710\n",
      "--- 19.570182085 seconds ---\n"
     ]
    }
   ],
   "source": [
    "t0 = time.time()\n",
    "print 'drugs: %d' %len(drug_col.find({'plans.plan_id':'67577MI0390012'}).distinct('rxnorm_id'))\n",
    "print(\"--- %s seconds ---\" % (time.time() - t0))"
   ]
  },
  {
   "cell_type": "code",
   "execution_count": 84,
   "metadata": {
    "collapsed": false
   },
   "outputs": [
    {
     "data": {
      "text/plain": [
       "{u'drug_name': u'Brimonidine tartrate 2 MG/ML / Timolol 5 MG/ML Ophthalmic Solution [Combigan]',\n",
       " u'rxnorm_id': u'861637'}"
      ]
     },
     "execution_count": 84,
     "metadata": {},
     "output_type": "execute_result"
    }
   ],
   "source": [
    "# regex filtering\n",
    "\n",
    "regx = re.compile(\".combigan.\", re.IGNORECASE)\n",
    "drug_col.find_one({'drug_name':regx}, {'_id':0, 'drug_name':1, 'rxnorm_id':1})"
   ]
  },
  {
   "cell_type": "code",
   "execution_count": 155,
   "metadata": {
    "collapsed": false,
    "scrolled": false
   },
   "outputs": [
    {
     "data": {
      "text/plain": [
       "{u'_id': ObjectId('577873392ccfd955ecdf4abc'),\n",
       " u'benefits': [],\n",
       " u'formulary': {u'cost_sharing': [{u'coinsurance_opt': u'NO-CHARGE',\n",
       "    u'coinsurance_rate': 0.0,\n",
       "    u'copay_amount': 10.0,\n",
       "    u'copay_opt': u'NO-CHARGE-AFTER-DEDUCTIBLE',\n",
       "    u'pharmacy_type': u'1-MONTH-IN-RETAIL'},\n",
       "   {u'coinsurance_opt': u'NO-CHARGE',\n",
       "    u'coinsurance_rate': 0.0,\n",
       "    u'copay_amount': 30.0,\n",
       "    u'copay_opt': u'NO-CHARGE-AFTER-DEDUCTIBLE',\n",
       "    u'pharmacy_type': u'3-MONTH-IN-MAIL'}],\n",
       "  u'drug_tier': u'GENERIC',\n",
       "  u'mail_order': True},\n",
       " u'last_updated_on': u'2015-11-09',\n",
       " u'marketing_name': u'Zoom Health Plan Zoom Oregon Standard Gold Plan ',\n",
       " u'marketing_url': u'https://www.zoomcare.com/plusyou',\n",
       " u'network': [{u'network_tier': u'PREFERRED'}],\n",
       " u'plan_contact': u'athayer@zoomcare.com',\n",
       " u'plan_id': u'30969OR0050001',\n",
       " u'plan_id_type': u'HIOS-PLAN-ID',\n",
       " u'summary_url': u'https://www.zoomcare.com/sbc/isgd01.pdf'}"
      ]
     },
     "execution_count": 155,
     "metadata": {},
     "output_type": "execute_result"
    }
   ],
   "source": [
    "# check if tier is defined in multiple doc\n",
    "\n",
    "[[None]*4]*3+[]\n",
    "\n",
    "\n",
    "# for p in \n",
    "plan_col.find_one(\n",
    "            {'plan_id':'30969OR0050001'} #, 'formulary.drug_tier':tier},\n",
    "#             {'_id':0, 'formulary':{'$elemMatch':{'drug_tier':tier}}}        \n",
    "        )\n",
    "#     print p,'\\t'\n",
    "        "
   ]
  }
 ],
 "metadata": {
  "kernelspec": {
   "display_name": "Python 2",
   "language": "python",
   "name": "python2"
  },
  "language_info": {
   "codemirror_mode": {
    "name": "ipython",
    "version": 2
   },
   "file_extension": ".py",
   "mimetype": "text/x-python",
   "name": "python",
   "nbconvert_exporter": "python",
   "pygments_lexer": "ipython2",
   "version": "2.7.10"
  }
 },
 "nbformat": 4,
 "nbformat_minor": 0
}
