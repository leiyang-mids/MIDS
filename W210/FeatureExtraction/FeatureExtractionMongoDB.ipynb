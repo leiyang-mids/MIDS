{
 "cells": [
  {
   "cell_type": "code",
   "execution_count": 1,
   "metadata": {
    "collapsed": true
   },
   "outputs": [],
   "source": [
    "from sklearn.preprocessing import OneHotEncoder\n",
    "from pymongo import MongoClient\n",
    "from zipfile import ZipFile, ZIP_DEFLATED\n",
    "from sets import Set\n",
    "import numpy as np\n",
    "import json, sys, os, time, re, datetime"
   ]
  },
  {
   "cell_type": "code",
   "execution_count": 2,
   "metadata": {
    "collapsed": false
   },
   "outputs": [
    {
     "name": "stdout",
     "output_type": "stream",
     "text": [
      "Using aws Mongo, total drug: 46206, total plan: 6035\n"
     ]
    }
   ],
   "source": [
    "local = False\n",
    "if local:\n",
    "    client = MongoClient('localhost', 27017)\n",
    "    plan_col = client.aca.plan\n",
    "    drug_col = client.aca.drug\n",
    "else:\n",
    "    client = MongoClient('ec2-54-153-83-172.us-west-1.compute.amazonaws.com', 27017)\n",
    "    plan_col = client.plans.plans\n",
    "    drug_col = client.formularies.drugs\n",
    "    prov_col = client.providers.providers\n",
    "    faci_col = client.providers.facilities\n",
    "\n",
    "all_plan = drug_col.distinct('plans.plan_id')\n",
    "all_drug = drug_col.distinct('rxnorm_id')\n",
    "\n",
    "print 'Using %s Mongo, total drug: %d, total plan: %d' %('local' if local else 'aws', \n",
    "                                                         len(all_drug), len(all_plan))\n",
    "# client.formularies.scollection_names()\n",
    "# client.providers.collection_names()"
   ]
  },
  {
   "cell_type": "markdown",
   "metadata": {},
   "source": [
    "###Load encode definition"
   ]
  },
  {
   "cell_type": "code",
   "execution_count": 3,
   "metadata": {
    "collapsed": false
   },
   "outputs": [
    {
     "data": {
      "text/plain": [
       "{u'drug.plans.drug_tier': u'string',\n",
       " u'drug.plans.prior_authorization': u'boolean',\n",
       " u'drug.plans.quantity_limit': u'boolean',\n",
       " u'drug.plans.step_therapy': u'boolean',\n",
       " u'plan.formulary.cost_sharing.coinsurance_opt': u'string',\n",
       " u'plan.formulary.cost_sharing.coinsurance_rate': u'float',\n",
       " u'plan.formulary.cost_sharing.copay_amount': u'float',\n",
       " u'plan.formulary.cost_sharing.copay_opt': u'string',\n",
       " u'plan.formulary.cost_sharing.pharmacy_type': u'string',\n",
       " u'plan.formulary.drug_tier': u'string',\n",
       " u'plan.formulary.mail_order': u'boolean',\n",
       " u'plan.network.network_tier': u'string',\n",
       " u'plan.plan_id_type': u'string'}"
      ]
     },
     "execution_count": 3,
     "metadata": {},
     "output_type": "execute_result"
    }
   ],
   "source": [
    "def getEncodeFields(encode_def, rtn, path=''):\n",
    "    ''' extract the selected fields from the encode json definition '''\n",
    "    \n",
    "    if 'encode' in encode_def and encode_def['encode'] == 1:\n",
    "        rtn[path[1:]] = encode_def['type']\n",
    "    elif 'encode' not in encode_def:\n",
    "        for f in encode_def:\n",
    "            getEncodeFields(encode_def[f], rtn, path + ('' if f=='properties' else '.'+f))\n",
    "    return rtn\n",
    "\n",
    "def logTime():\n",
    "    return str(datetime.datetime.now())\n",
    "\n",
    "encode_list = getEncodeFields(json.load(open('encode2.json')), {})\n",
    "encode_list"
   ]
  },
  {
   "cell_type": "markdown",
   "metadata": {},
   "source": [
    "###Data uniformity check"
   ]
  },
  {
   "cell_type": "code",
   "execution_count": 4,
   "metadata": {
    "collapsed": false
   },
   "outputs": [
    {
     "name": "stdout",
     "output_type": "stream",
     "text": [
      "2016-07-04 09:54:07.687337: plan document: 12242\n",
      "2016-07-04 09:54:07.783910: drug document: 1540473\n",
      "2016-07-04 09:54:07.872696: unique plan_id: 6035\n",
      "2016-07-04 09:54:07.872822: unique rxnorm_id: 46206\n",
      "2016-07-04 09:54:08.534453: plans with multiple documents: 1259\n",
      "2016-07-04 09:54:11.103369: drugs with multiple documents: 12807\n"
     ]
    }
   ],
   "source": [
    "print '%s: plan document: %d' %(logTime(), plan_col.count())\n",
    "print '%s: drug document: %d' %(logTime(), drug_col.count())\n",
    "print '%s: unique plan_id: %d' %(logTime(), len(all_plan))\n",
    "print '%s: unique rxnorm_id: %d' %(logTime(), len(all_drug))\n",
    "\n",
    "multi_plan = [1 for p in plan_col.aggregate([{\"$group\": {\"_id\":\"$plan_id\", \"count\":{\"$sum\":1}}}]) if p['count']>1]\n",
    "print '%s: plans with multiple documents: %d' %(logTime(), sum(multi_plan))\n",
    "\n",
    "multi_drug = [1 for p in drug_col.aggregate([{\"$group\": {\"_id\":\"$rxnorm_id\", \"count\":{\"$sum\":1}}}]) if p['count']>1]\n",
    "print '%s: drugs with multiple documents: %d' %(logTime(), sum(multi_drug))"
   ]
  },
  {
   "cell_type": "markdown",
   "metadata": {},
   "source": [
    "###Get feature space"
   ]
  },
  {
   "cell_type": "code",
   "execution_count": 59,
   "metadata": {
    "collapsed": false,
    "scrolled": false
   },
   "outputs": [
    {
     "name": "stdout",
     "output_type": "stream",
     "text": [
      "processing 190 plans for OR ...\n"
     ]
    },
    {
     "data": {
      "text/plain": [
       "{u'drug.plans.drug_tier': [u'PREFERRED-BRAND',\n",
       "  u'NON-PREFERRED-BRAND',\n",
       "  u'GENERIC',\n",
       "  u'SPECIALTY',\n",
       "  u'ZERO-COST-SHARE-PREVENTIVE',\n",
       "  u'NON-PREFERRED-GENERIC',\n",
       "  u'PREFERRED',\n",
       "  u'BRAND',\n",
       "  u'SELECT',\n",
       "  u'PREVENTIVE',\n",
       "  u'VALUE',\n",
       "  u'MEDICAL-SERVICE-DRUGS',\n",
       "  u'MEDICAL-SERVICE',\n",
       "  u'NON-PREFERRED',\n",
       "  u'FORMULARY-DRUGS',\n",
       "  u'NONPREFERRED-BRAND',\n",
       "  u'PREVENTIVE-ACA'],\n",
       " u'plan.formulary.cost_sharing.coinsurance_opt': [u'NO-CHARGE',\n",
       "  None,\n",
       "  u'AFTER-DEDUCTIBLE'],\n",
       " u'plan.formulary.cost_sharing.copay_opt': [u'AFTER-DEDUCTIBLE',\n",
       "  u'NO-CHARGE-AFTER-DEDUCTIBLE',\n",
       "  u'BEFORE-DEDUCTIBLE',\n",
       "  u'NO-CHARGE'],\n",
       " u'plan.formulary.cost_sharing.pharmacy_type': [u'1-MONTH-IN-RETAIL',\n",
       "  u'3-MONTH-IN-MAIL',\n",
       "  u'1-MONTH-OUT-RETAIL',\n",
       "  u'3-MONTH-IN-RETAIL'],\n",
       " u'plan.formulary.drug_tier': [u'GENERIC',\n",
       "  u'NON-PREFERRED-BRAND',\n",
       "  u'PREFERRED-BRAND',\n",
       "  u'SPECIALTY',\n",
       "  u'ZERO-COST-SHARE-PREVENTIVE',\n",
       "  u'BRAND',\n",
       "  u'MEDICAL-SERVICE-DRUGS',\n",
       "  u'PREFERRED',\n",
       "  u'PREVENTIVE',\n",
       "  u'SELECT',\n",
       "  u'VALUE',\n",
       "  u'MEDICAL-SERVICE',\n",
       "  u'NON-PREFERRED-GENERIC-PREFERRED-BRAND',\n",
       "  u'PREFERRED-GENERIC',\n",
       "  u'NON-PREFERRED BRAND',\n",
       "  u'PREFERRED BRAND',\n",
       "  u'SPECIALTY DRUGS',\n",
       "  u'NONPREFERRED-BRAND',\n",
       "  u'PREVENTIVE-ACA',\n",
       "  u'FORMULARY-DRUGS'],\n",
       " u'plan.network.network_tier': [u'TIER-ONE',\n",
       "  u'TIER-THREE',\n",
       "  u'TIER-TWO',\n",
       "  u'PREFERRED',\n",
       "  u'NON-PREFERRED',\n",
       "  u'EPO',\n",
       "  u'CHOICE',\n",
       "  u'CONNECT',\n",
       "  u'TIER-ONE-REFERRAL-REQUIRED',\n",
       "  u'LIFEWISE',\n",
       "  u'OREGON-EPO'],\n",
       " u'plan.plan_id_type': [u'HIOS-PLAN-ID']}"
      ]
     },
     "execution_count": 59,
     "metadata": {},
     "output_type": "execute_result"
    }
   ],
   "source": [
    "state = 'OR'\n",
    "ex_id = [i for i in all_plan if state in i]\n",
    "print 'processing %d plans for %s ...' %(len(ex_id), state)\n",
    "\n",
    "feature_space = {\n",
    "    k : (plan_col if k.startswith('plan') else drug_col).find(\n",
    "        { ('plan_id' if k.startswith('plan') else 'plans.plan_id') : {'$in':ex_id} }\n",
    "    ).distinct(k[k.index('.')+1:]) \n",
    "    for k,v in encode_list.items() if v=='string'\n",
    "}\n",
    "\n",
    "feature_space"
   ]
  },
  {
   "cell_type": "markdown",
   "metadata": {},
   "source": [
    "###Get common drugs between plans\n",
    "- operator reference [link](https://docs.mongodb.com/manual/reference/operator/query/)"
   ]
  },
  {
   "cell_type": "code",
   "execution_count": 6,
   "metadata": {
    "collapsed": false
   },
   "outputs": [
    {
     "name": "stdout",
     "output_type": "stream",
     "text": [
      "2016-07-04 09:54:46.202053: checking common drugs among 190 plans ...\n",
      "2016-07-04 09:54:51.080899: finishing 30 plans, 0 plan without drug, 2525 common drugs ...\n",
      "2016-07-04 09:54:54.867369: finishing 60 plans, 0 plan without drug, 2525 common drugs ...\n",
      "2016-07-04 09:54:58.703546: finishing 90 plans, 0 plan without drug, 2525 common drugs ...\n",
      "2016-07-04 09:55:02.637146: finishing 120 plans, 0 plan without drug, 2430 common drugs ...\n",
      "2016-07-04 09:55:12.127007: finishing 150 plans, 0 plan without drug, 1997 common drugs ...\n",
      "2016-07-04 09:55:16.018456: finishing 180 plans, 0 plan without drug, 1965 common drugs ...\n",
      "2016-07-04 09:55:17.455492: plan without drug: 0\n",
      "2016-07-04 09:55:17.456760: there are 1965 common drug between 190 plans!\n"
     ]
    }
   ],
   "source": [
    "# get rxnorm_id group for each plan\n",
    "plan_drug = [drug_col.find({'plans.plan_id':pid}) for pid in ex_id] \n",
    "n_plan = len(ex_id)\n",
    "\n",
    "# find the first plan with non-zero drug association, \n",
    "# otherwise 'i' is out-of-bound of plan_drug and will stop 'naturally'\n",
    "cnt, i = [], -1\n",
    "while(len(cnt) == 0):\n",
    "    i += 1    \n",
    "    cnt = plan_drug[i].distinct('rxnorm_id')   \n",
    "\n",
    "common_drug, n_empty = Set(cnt), i\n",
    "\n",
    "print '%s: checking common drugs among %d plans ...' %(logTime(), n_plan - i)\n",
    "for pd in plan_drug[i+1:]:\n",
    "    i += 1\n",
    "    rx = pd.distinct('rxnorm_id')\n",
    "    if len(rx) > 0:\n",
    "        common_drug.intersection_update(rx)\n",
    "    else:\n",
    "        n_empty += 1\n",
    "    if i%30 == 0:\n",
    "        print '%s: finishing %d plans, %d plan without drug, %d common drugs ...' %(logTime(), i, n_empty, len(common_drug))\n",
    "\n",
    "print '%s: plan without drug: %d' %(logTime(), n_empty)\n",
    "\n",
    "# common_drug and drug_attr list will ensure the order of drug/attribute combination remains unchange\n",
    "common_drug = list(common_drug)\n",
    "n_drug = len(common_drug)\n",
    "drug_attr = [[k.split('.')[-1],v,k] for k,v in encode_list.items() if k.startswith ('drug')]\n",
    "drug_cat_index = [k[1]=='string' for k in drug_attr]*n_drug\n",
    "\n",
    "print '%s: there are %d common drug between %d plans!' %(logTime(), n_drug, n_plan-n_empty)"
   ]
  },
  {
   "cell_type": "markdown",
   "metadata": {},
   "source": [
    "###Get pharmacy_type space (over all extracted plan IDs) for each drug_tier"
   ]
  },
  {
   "cell_type": "code",
   "execution_count": 60,
   "metadata": {
    "collapsed": false
   },
   "outputs": [
    {
     "data": {
      "text/plain": [
       "{u'BRAND': [u'1-MONTH-IN-RETAIL',\n",
       "  u'1-MONTH-OUT-RETAIL',\n",
       "  u'3-MONTH-IN-MAIL',\n",
       "  u'3-MONTH-IN-RETAIL'],\n",
       " u'FORMULARY-DRUGS': [u'1-MONTH-IN-RETAIL', u'3-MONTH-IN-MAIL'],\n",
       " u'GENERIC': [u'1-MONTH-IN-RETAIL', u'3-MONTH-IN-MAIL'],\n",
       " u'MEDICAL-SERVICE': [],\n",
       " u'MEDICAL-SERVICE-DRUGS': [u'1-MONTH-IN-RETAIL',\n",
       "  u'1-MONTH-OUT-RETAIL',\n",
       "  u'3-MONTH-IN-MAIL',\n",
       "  u'3-MONTH-IN-RETAIL'],\n",
       " u'NON-PREFERRED': [],\n",
       " u'NON-PREFERRED-BRAND': [],\n",
       " u'NON-PREFERRED-GENERIC': [],\n",
       " u'NONPREFERRED-BRAND': [u'1-MONTH-IN-RETAIL', u'3-MONTH-IN-MAIL'],\n",
       " u'PREFERRED': [u'1-MONTH-IN-RETAIL',\n",
       "  u'1-MONTH-OUT-RETAIL',\n",
       "  u'3-MONTH-IN-MAIL',\n",
       "  u'3-MONTH-IN-RETAIL'],\n",
       " u'PREFERRED-BRAND': [u'1-MONTH-IN-RETAIL', u'3-MONTH-IN-MAIL'],\n",
       " u'PREVENTIVE': [u'1-MONTH-IN-RETAIL',\n",
       "  u'1-MONTH-OUT-RETAIL',\n",
       "  u'3-MONTH-IN-MAIL',\n",
       "  u'3-MONTH-IN-RETAIL'],\n",
       " u'PREVENTIVE-ACA': [u'1-MONTH-IN-RETAIL', u'3-MONTH-IN-MAIL'],\n",
       " u'SELECT': [u'1-MONTH-IN-RETAIL',\n",
       "  u'1-MONTH-OUT-RETAIL',\n",
       "  u'3-MONTH-IN-MAIL',\n",
       "  u'3-MONTH-IN-RETAIL'],\n",
       " u'SPECIALTY': [u'1-MONTH-IN-RETAIL',\n",
       "  u'1-MONTH-OUT-RETAIL',\n",
       "  u'3-MONTH-IN-MAIL',\n",
       "  u'3-MONTH-IN-RETAIL'],\n",
       " u'VALUE': [u'1-MONTH-IN-RETAIL',\n",
       "  u'1-MONTH-OUT-RETAIL',\n",
       "  u'3-MONTH-IN-MAIL',\n",
       "  u'3-MONTH-IN-RETAIL'],\n",
       " u'ZERO-COST-SHARE-PREVENTIVE': []}"
      ]
     },
     "execution_count": 60,
     "metadata": {},
     "output_type": "execute_result"
    }
   ],
   "source": [
    "tier_pharm = {tier : plan_col.find(\n",
    "        {'plan_id':{'$in':ex_id}, 'formulary.drug_tier':tier}        \n",
    "    ).distinct('formulary.cost_sharing.pharmacy_type')\n",
    "    for tier in feature_space['drug.plans.drug_tier']\n",
    "}\n",
    "\n",
    "tier_pharm"
   ]
  },
  {
   "cell_type": "code",
   "execution_count": 101,
   "metadata": {
    "collapsed": false,
    "scrolled": false
   },
   "outputs": [
    {
     "data": {
      "text/plain": [
       "[u'BRAND',\n",
       " u'MEDICAL-SERVICE-DRUGS',\n",
       " u'PREFERRED',\n",
       " u'PREVENTIVE',\n",
       " u'SELECT',\n",
       " u'SPECIALTY',\n",
       " u'VALUE']"
      ]
     },
     "execution_count": 101,
     "metadata": {},
     "output_type": "execute_result"
    }
   ],
   "source": [
    "# n_doc = {pid:plan_col.find({'plan_id':pid}).count() for pid in ex_id}\n",
    "# multi_doc = [x+' - '+str(d) for x,d in n_doc.items() if d!=1]\n",
    "# print len(multi_doc), multi_doc\n",
    "    \n",
    "# drug_col.find(\n",
    "#         {'plans.plan_id':'30751MT0560007', 'rxnorm_id':{'$in':common_drug}, 'plans.0':{'$exists':True}}, \n",
    "#         {'_id':0, 'rxnorm_id':1, 'plans':{ '$elemMatch':{'plan_id':'30751MT0560007'} }}\n",
    "# ).count()\n",
    "#     print d\n",
    "\n",
    "# print '%s: extracting features from plan document: %s' %(logTime(), feature_space.keys())\n",
    "\n",
    "#'39424OR1260001'\n",
    "# for p in \n",
    "plan_col.find(\n",
    "    {'plan_id': '39424OR1480003'},# 'formulary.drug_tier':'VALUE'},\n",
    "#     {'_id':0, 'plan_id':1, 'formulary':{'$elemMatch':{'drug_tier':'VALUE'}}, 'network':1}\n",
    ").distinct('formulary.drug_tier')\n",
    "#     print p,'\\n'"
   ]
  },
  {
   "cell_type": "code",
   "execution_count": 97,
   "metadata": {
    "collapsed": false
   },
   "outputs": [
    {
     "name": "stdout",
     "output_type": "stream",
     "text": [
      "NON-PREFERRED-GENERIC\n",
      "PREVENTIVE-ACA\n",
      "PREFERRED-BRAND\n",
      "FORMULARY-DRUGS\n",
      "BRAND\n",
      "NON-PREFERRED\n",
      "SPECIALTY\n",
      "NON-PREFERRED-BRAND\n",
      "ZERO-COST-SHARE-PREVENTIVE\n",
      "MEDICAL-SERVICE-DRUGS\n",
      "GENERIC\n",
      "VALUE\n",
      "PREFERRED\n",
      "MEDICAL-SERVICE\n",
      "PREVENTIVE\n",
      "NONPREFERRED-BRAND\n",
      "SELECT\n"
     ]
    }
   ],
   "source": [
    "# check if a tier has multiple documents\n",
    "\n",
    "for t in tier_pharm:\n",
    "    print t\n",
    "    for pid in ex_id:\n",
    "        cnt = plan_col.find({'plan_id':pid, 'formulary.drug_tier':t}).count()\n",
    "        if cnt > 1:\n",
    "            print '%s - %s - %d' %(pid, t, cnt)\n",
    "    "
   ]
  },
  {
   "cell_type": "code",
   "execution_count": 51,
   "metadata": {
    "collapsed": false
   },
   "outputs": [
    {
     "name": "stdout",
     "output_type": "stream",
     "text": [
      "{u'marketing_name': u'Geisinger Health Plan Marketplace POS 25/50/2500', u'network': [{u'network_tier': u'PREFERRED'}], u'formulary': [{u'drug_tier': u'PREFERRED-GENERIC', u'mail_order': True}], u'plan_id_type': u'HIOS-PLAN-ID', u'last_updated_on': u'2016-04-15', u'summary_url': u'https://cdn.thehealthplan.com/static/pdf/sbc/2016/22444pa004001000.pdf', u'formulary_url': u'https://www.thehealthplan.com/pharmacy/pharmacy.aspx', u'plan_id': u'22444PA0040010', u'plan_contact': u'aca@thehealthplan.com', u'_id': ObjectId('5778733b2ccfd955ecdf4b54'), u'marketing_url': u'https://cdn.thehealthplan.com/static/pdf/marketplace/2016/AllPlansBrochureIndividual.pdf'} \n",
      "\n",
      "{u'marketing_name': u'Geisinger Health Plan Marketplace POS 25/50/2500', u'network': [{u'network_tier': u'PREFERRED'}], u'formulary': [{u'drug_tier': u'PREFERRED-GENERIC', u'mail_order': True}], u'plan_id_type': u'HIOS-PLAN-ID', u'last_updated_on': u'2016-04-15', u'summary_url': u'https://cdn.thehealthplan.com/static/pdf/sbc/2016/22444pa004001000.pdf', u'formulary_url': u'https://www.thehealthplan.com/pharmacy/pharmacy.aspx', u'plan_id': u'22444PA0040010', u'plan_contact': u'aca@thehealthplan.com', u'_id': ObjectId('5778733b2ccfd955ecdf4b62'), u'marketing_url': u'https://cdn.thehealthplan.com/static/pdf/marketplace/2016/AllPlansBrochureIndividual.pdf'} \n",
      "\n"
     ]
    }
   ],
   "source": [
    "for p in plan_col.find(\n",
    "    {'plan_id':'22444PA0040010', 'formulary.drug_tier':'PREFERRED-GENERIC'},\n",
    "#     {'_id':0, 'formulary':{'$elemMatch':{'drug_tier':'PREFERRED-GENERIC'}}} #, 'formulary.cost_sharing':1}\n",
    "    \n",
    "):\n",
    "    print p,'\\n'"
   ]
  },
  {
   "cell_type": "markdown",
   "metadata": {},
   "source": [
    "###Get unique pharmacy_type for each drug_tier"
   ]
  },
  {
   "cell_type": "code",
   "execution_count": 7,
   "metadata": {
    "collapsed": false
   },
   "outputs": [],
   "source": [
    "# put tier names into list so the order is fixed for feature extraction\n",
    "tiers = tier_pharm.keys()\n",
    "# we build pharmacy type into the order of feature vector, so no need to include\n",
    "cost_attr = [[k.split('.')[-1],v,k] for k,v in encode_list.items() if 'cost_sharing' in k and 'pharmacy_type' not in k]\n",
    "# flatten the vector to combine all tiers\n",
    "cost_cat_index = [y for x in [[k[1]=='string' for k in cost_attr]*len(tier_pharm[t]) for t in tiers] for y in x]\n",
    "# plan level attributes\n",
    "plan_attr = [[k.split('.')[-1],v,k] for k,v in encode_list.items() if k.startswith('plan') and 'formulary' not in k]\n",
    "plan_cat_index = [a[1]=='string' for a in plan_attr]\n",
    "# total feature catagrical index - must match with the order of feature canconnation in plan\n",
    "cat_index = cost_cat_index + drug_cat_index"
   ]
  },
  {
   "cell_type": "markdown",
   "metadata": {},
   "source": [
    "###Extraction integer features for each plan\n",
    "- get plan feature --> cost_sharing/pharmacy type\n",
    "- get drug feature --> drug_tier"
   ]
  },
  {
   "cell_type": "code",
   "execution_count": 9,
   "metadata": {
    "collapsed": false
   },
   "outputs": [
    {
     "name": "stdout",
     "output_type": "stream",
     "text": [
      "plan 21989AK0030001 doesn't have complete Drug Tier info: 0 tiers\n",
      "plan 21989AK0050001 doesn't have complete Drug Tier info: 0 tiers\n",
      "plan 21989AK0050002 doesn't have complete Drug Tier info: 0 tiers\n",
      "plan 21989AK0070001 doesn't have complete Drug Tier info: 0 tiers\n",
      "plan 28415OR0210001 doesn't have complete Drug Tier info: 0 tiers\n",
      "plan 28415OR0010001 doesn't have complete Drug Tier info: 0 tiers\n",
      "plan 28415OR0010002 doesn't have complete Drug Tier info: 0 tiers\n",
      "plan 28415OR0050001 doesn't have complete Drug Tier info: 0 tiers\n"
     ]
    }
   ],
   "source": [
    "# for each plan, get int features (plan level & combined fomulary level)\n",
    "plan_int_feature = {}\n",
    "for pid in ex_id:\n",
    "    # extract plan feature\n",
    "    plan_data = plan_col.find({'plan_id':pid})\n",
    "    \n",
    "    \n",
    "    # TODO: check if network tier is necessary\n",
    "    # plan_data['network'][0]['network_tier']\n",
    "    \n",
    "    #drop the plan if it doesn't have complete drug tiers set (7)\n",
    "    if len(plan_data['formulary']) != len(tier_pharm):\n",
    "        print 'plan %s doesn\\'t have complete Drug Tier info: %d tiers' %(pid, len(plan_data['formulary']))\n",
    "        continue\n",
    "\n",
    "    # for the formulary, build feature for each drug_tier\n",
    "    tier_feature = [None]*len(tiers)\n",
    "    for tier in plan_data['formulary']:\n",
    "        # for each drug_tier, expland cost_sharing for all pharmacy_type\n",
    "        cost_feature = [None]*len(tier_pharm[tier['drug_tier']])\n",
    "        for cs in tier['cost_sharing']:            \n",
    "            ph_idx = tier_pharm[tier['drug_tier']].index(cs['pharmacy_type'])\n",
    "            cost_feature[ph_idx] = [cs[a[0]] if a[1]!='string' \n",
    "                                else feature_space[a[2]].index(cs[a[0]]) \n",
    "                                for a in cost_attr]\n",
    "        tier_feature[tiers.index(tier['drug_tier'])] = [c if c else [None]*len(cost_attr) for c in cost_feature]        \n",
    "    # flaten the vector for the plan from hierarchy: tier-cost-pharmacy\n",
    "    formulary_feature = [z for x in tier_feature for y in x for z in y]\n",
    "    \n",
    "    \n",
    "    # get the list of drug attributes for a plan\n",
    "    drug_cur = drug_col.find(\n",
    "        {'plans.plan_id':pid, 'rxnorm_id':{'$in':common_drug}},# 'plans.0':{'$exists':True}}, \n",
    "        {'_id':0, 'rxnorm_id':1, 'plans':{ '$elemMatch':{'plan_id':pid} }}\n",
    "    )\n",
    "\n",
    "    drug_dict = {d['rxnorm_id']:d['plans'][0] for d in drug_cur} #TODO: choose the plan matches the tier\n",
    "\n",
    "    # drop the plan if it doesn't match with common drug list\n",
    "    if len(drug_dict) != n_drug:\n",
    "        print 'plan %s drug list doesn\\'t have all common drug (n=%d), skip' %(pid, len(drug_dict))\n",
    "        continue\n",
    "\n",
    "    # flat the drug attributes for all common drugs    \n",
    "    drug_feature = [drug_dict[rx][attr[0]] if attr[1]!='string' \n",
    "                             else feature_space[attr[2]].index(drug_dict[rx][attr[0]])\n",
    "                             for rx in common_drug for attr in drug_attr]\n",
    "    \n",
    "    # combine for plan feature - must match with catagroical index concannation order\n",
    "    plan_int_feature[pid] = formulary_feature + drug_feature\n"
   ]
  },
  {
   "cell_type": "code",
   "execution_count": 238,
   "metadata": {
    "collapsed": false
   },
   "outputs": [],
   "source": [
    "client.close()"
   ]
  },
  {
   "cell_type": "code",
   "execution_count": 56,
   "metadata": {
    "collapsed": false
   },
   "outputs": [
    {
     "name": "stdout",
     "output_type": "stream",
     "text": [
      "drugs: 2710\n",
      "--- 19.570182085 seconds ---\n"
     ]
    }
   ],
   "source": [
    "t0 = time.time()\n",
    "print 'drugs: %d' %len(drug_col.find({'plans.plan_id':'67577MI0390012'}).distinct('rxnorm_id'))\n",
    "print(\"--- %s seconds ---\" % (time.time() - t0))"
   ]
  },
  {
   "cell_type": "code",
   "execution_count": 84,
   "metadata": {
    "collapsed": false
   },
   "outputs": [
    {
     "data": {
      "text/plain": [
       "{u'drug_name': u'Brimonidine tartrate 2 MG/ML / Timolol 5 MG/ML Ophthalmic Solution [Combigan]',\n",
       " u'rxnorm_id': u'861637'}"
      ]
     },
     "execution_count": 84,
     "metadata": {},
     "output_type": "execute_result"
    }
   ],
   "source": [
    "# regex filtering\n",
    "\n",
    "regx = re.compile(\".combigan.\", re.IGNORECASE)\n",
    "drug_col.find_one({'drug_name':regx}, {'_id':0, 'drug_name':1, 'rxnorm_id':1})"
   ]
  }
 ],
 "metadata": {
  "kernelspec": {
   "display_name": "Python 2",
   "language": "python",
   "name": "python2"
  },
  "language_info": {
   "codemirror_mode": {
    "name": "ipython",
    "version": 2
   },
   "file_extension": ".py",
   "mimetype": "text/x-python",
   "name": "python",
   "nbconvert_exporter": "python",
   "pygments_lexer": "ipython2",
   "version": "2.7.9"
  }
 },
 "nbformat": 4,
 "nbformat_minor": 0
}
