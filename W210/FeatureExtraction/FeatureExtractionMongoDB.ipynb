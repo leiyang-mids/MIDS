{
 "cells": [
  {
   "cell_type": "code",
   "execution_count": 2,
   "metadata": {
    "collapsed": true
   },
   "outputs": [],
   "source": [
    "from sklearn.preprocessing import OneHotEncoder\n",
    "from pymongo import MongoClient\n",
    "from sets import Set\n",
    "import numpy as np\n",
    "import json"
   ]
  },
  {
   "cell_type": "code",
   "execution_count": 3,
   "metadata": {
    "collapsed": true
   },
   "outputs": [],
   "source": [
    "drug_json = json.load(open('or_drug.json'))"
   ]
  },
  {
   "cell_type": "code",
   "execution_count": 5,
   "metadata": {
    "collapsed": false
   },
   "outputs": [
    {
     "data": {
      "text/plain": [
       "<pymongo.results.InsertManyResult at 0x29580708>"
      ]
     },
     "execution_count": 5,
     "metadata": {},
     "output_type": "execute_result"
    }
   ],
   "source": [
    "client = MongoClient('fc8iasm01', 27017)\n",
    "drug_col = client.aca.drug\n",
    "drug_col.insert_many(drug_json)"
   ]
  },
  {
   "cell_type": "code",
   "execution_count": 8,
   "metadata": {
    "collapsed": false
   },
   "outputs": [
    {
     "data": {
      "text/plain": [
       "<pymongo.results.InsertManyResult at 0x32a7dcf0>"
      ]
     },
     "execution_count": 8,
     "metadata": {},
     "output_type": "execute_result"
    }
   ],
   "source": [
    "ak_drug = json.load(open('ak_drug.json'))\n",
    "drug_col.insert_many(ak_drug)"
   ]
  },
  {
   "cell_type": "code",
   "execution_count": 1,
   "metadata": {
    "collapsed": false
   },
   "outputs": [
    {
     "name": "stdout",
     "output_type": "stream",
     "text": [
      " Volume in drive C is Default\n",
      " Volume Serial Number is 84A3-187E\n",
      "\n",
      " Directory of C:\\GFApps\\ipython-3.0.0\\Repo\\MIDS\\W210\\FeatureExtraction\n",
      "\n",
      "07/01/2016  08:41 AM    <DIR>          .\n",
      "07/01/2016  08:41 AM    <DIR>          ..\n",
      "06/29/2016  12:20 PM    <DIR>          .ipynb_checkpoints\n",
      "06/29/2016  12:16 PM        24,090,774 ak_drug.json\n",
      "06/29/2016  12:43 PM           565,092 ak_drug_names.txt\n",
      "06/29/2016  12:16 PM            55,147 ak_plan.json\n",
      "06/29/2016  12:16 PM             4,835 encode2.json\n",
      "06/29/2016  05:10 PM            19,659 FeatureExtraction.ipynb\n",
      "07/01/2016  08:40 AM             1,415 FeatureExtractionMongoDB.ipynb\n",
      "06/29/2016  12:16 PM             3,611 mappings.json\n",
      "06/29/2016  12:16 PM        35,115,519 or_drug.json\n",
      "06/29/2016  12:40 PM           573,697 or_drug_names.txt\n",
      "06/29/2016  12:16 PM            83,108 or_plan.json\n",
      "06/29/2016  02:12 PM           463,924 results-formulary-urls.txt\n",
      "06/29/2016  02:13 PM           232,546 results-plan-urls.txt\n",
      "              12 File(s)     61,209,327 bytes\n",
      "               3 Dir(s)  99,008,774,144 bytes free\n"
     ]
    }
   ],
   "source": [
    "!dir"
   ]
  },
  {
   "cell_type": "code",
   "execution_count": 19,
   "metadata": {
    "collapsed": false
   },
   "outputs": [
    {
     "name": "stdout",
     "output_type": "stream",
     "text": [
      "{u'rxnorm_id': u'91348', u'plans': [{u'drug_tier': u'BRAND', u'plan_id': u'39424OR1240001'}, {u'drug_tier': u'BRAND', u'plan_id': u'39424OR1260001'}, {u'drug_tier': u'BRAND', u'plan_id': u'39424OR1460001'}, {u'drug_tier': u'BRAND', u'plan_id': u'39424OR1460002'}, {u'drug_tier': u'BRAND', u'plan_id': u'39424OR1240002'}, {u'drug_tier': u'BRAND', u'plan_id': u'39424OR1260002'}, {u'drug_tier': u'BRAND', u'plan_id': u'39424OR1460003'}, {u'drug_tier': u'BRAND', u'plan_id': u'39424OR1460004'}, {u'drug_tier': u'BRAND', u'plan_id': u'39424OR1470001'}, {u'drug_tier': u'BRAND', u'plan_id': u'39424OR1310001'}, {u'drug_tier': u'BRAND', u'plan_id': u'39424OR1480001'}, {u'drug_tier': u'BRAND', u'plan_id': u'39424OR1480002'}, {u'drug_tier': u'BRAND', u'plan_id': u'39424OR1480003'}, {u'drug_tier': u'BRAND', u'plan_id': u'39424OR1490001'}, {u'drug_tier': u'BRAND', u'plan_id': u'39424OR1320001'}, {u'drug_tier': u'BRAND', u'plan_id': u'39424OR1500001'}]}\n",
      "{u'rxnorm_id': u'91349', u'plans': [{u'drug_tier': u'SELECT', u'plan_id': u'39424OR1240001'}, {u'drug_tier': u'SELECT', u'plan_id': u'39424OR1260001'}, {u'drug_tier': u'SELECT', u'plan_id': u'39424OR1460001'}, {u'drug_tier': u'SELECT', u'plan_id': u'39424OR1460002'}, {u'drug_tier': u'SELECT', u'plan_id': u'39424OR1240002'}, {u'drug_tier': u'SELECT', u'plan_id': u'39424OR1260002'}, {u'drug_tier': u'SELECT', u'plan_id': u'39424OR1460003'}, {u'drug_tier': u'SELECT', u'plan_id': u'39424OR1460004'}, {u'drug_tier': u'SELECT', u'plan_id': u'39424OR1470001'}, {u'drug_tier': u'SELECT', u'plan_id': u'39424OR1310001'}, {u'drug_tier': u'SELECT', u'plan_id': u'39424OR1480001'}, {u'drug_tier': u'SELECT', u'plan_id': u'39424OR1480002'}, {u'drug_tier': u'SELECT', u'plan_id': u'39424OR1480003'}, {u'drug_tier': u'SELECT', u'plan_id': u'39424OR1490001'}, {u'drug_tier': u'SELECT', u'plan_id': u'39424OR1500001'}, {u'drug_tier': u'SELECT', u'plan_id': u'39424OR1320001'}]}\n",
      "{u'rxnorm_id': u'91792', u'plans': [{u'drug_tier': u'BRAND', u'plan_id': u'39424OR1240001'}, {u'drug_tier': u'BRAND', u'plan_id': u'39424OR1260001'}, {u'drug_tier': u'BRAND', u'plan_id': u'39424OR1460001'}, {u'drug_tier': u'BRAND', u'plan_id': u'39424OR1460002'}, {u'drug_tier': u'BRAND', u'plan_id': u'39424OR1240002'}, {u'drug_tier': u'BRAND', u'plan_id': u'39424OR1260002'}, {u'drug_tier': u'BRAND', u'plan_id': u'39424OR1460003'}, {u'drug_tier': u'BRAND', u'plan_id': u'39424OR1460004'}, {u'drug_tier': u'BRAND', u'plan_id': u'39424OR1470001'}, {u'drug_tier': u'BRAND', u'plan_id': u'39424OR1310001'}, {u'drug_tier': u'BRAND', u'plan_id': u'39424OR1480001'}, {u'drug_tier': u'BRAND', u'plan_id': u'39424OR1480002'}, {u'drug_tier': u'BRAND', u'plan_id': u'39424OR1480003'}, {u'drug_tier': u'BRAND', u'plan_id': u'39424OR1490001'}, {u'drug_tier': u'BRAND', u'plan_id': u'39424OR1500001'}, {u'drug_tier': u'BRAND', u'plan_id': u'39424OR1320001'}]}\n",
      "{u'rxnorm_id': u'92582', u'plans': [{u'drug_tier': u'PREFERRED', u'plan_id': u'39424OR1240001'}, {u'drug_tier': u'PREFERRED', u'plan_id': u'39424OR1260001'}, {u'drug_tier': u'PREFERRED', u'plan_id': u'39424OR1460001'}, {u'drug_tier': u'PREFERRED', u'plan_id': u'39424OR1460002'}, {u'drug_tier': u'PREFERRED', u'plan_id': u'39424OR1240002'}, {u'drug_tier': u'PREFERRED', u'plan_id': u'39424OR1260002'}, {u'drug_tier': u'PREFERRED', u'plan_id': u'39424OR1460003'}, {u'drug_tier': u'PREFERRED', u'plan_id': u'39424OR1460004'}, {u'drug_tier': u'PREFERRED', u'plan_id': u'39424OR1470001'}, {u'drug_tier': u'PREFERRED', u'plan_id': u'39424OR1310001'}, {u'drug_tier': u'PREFERRED', u'plan_id': u'39424OR1480001'}, {u'drug_tier': u'PREFERRED', u'plan_id': u'39424OR1480002'}, {u'drug_tier': u'PREFERRED', u'plan_id': u'39424OR1480003'}, {u'drug_tier': u'PREFERRED', u'plan_id': u'39424OR1320001'}, {u'drug_tier': u'PREFERRED', u'plan_id': u'39424OR1490001'}, {u'drug_tier': u'PREFERRED', u'plan_id': u'39424OR1500001'}]}\n",
      "{u'rxnorm_id': u'92583', u'plans': [{u'drug_tier': u'PREFERRED', u'plan_id': u'39424OR1240001'}, {u'drug_tier': u'PREFERRED', u'plan_id': u'39424OR1260001'}, {u'drug_tier': u'PREFERRED', u'plan_id': u'39424OR1460001'}, {u'drug_tier': u'PREFERRED', u'plan_id': u'39424OR1460002'}, {u'drug_tier': u'PREFERRED', u'plan_id': u'39424OR1240002'}, {u'drug_tier': u'PREFERRED', u'plan_id': u'39424OR1260002'}, {u'drug_tier': u'PREFERRED', u'plan_id': u'39424OR1460003'}, {u'drug_tier': u'PREFERRED', u'plan_id': u'39424OR1460004'}, {u'drug_tier': u'PREFERRED', u'plan_id': u'39424OR1470001'}, {u'drug_tier': u'PREFERRED', u'plan_id': u'39424OR1310001'}, {u'drug_tier': u'PREFERRED', u'plan_id': u'39424OR1480001'}, {u'drug_tier': u'PREFERRED', u'plan_id': u'39424OR1480002'}, {u'drug_tier': u'PREFERRED', u'plan_id': u'39424OR1480003'}, {u'drug_tier': u'PREFERRED', u'plan_id': u'39424OR1490001'}, {u'drug_tier': u'PREFERRED', u'plan_id': u'39424OR1500001'}, {u'drug_tier': u'PREFERRED', u'plan_id': u'39424OR1320001'}]}\n",
      "{u'rxnorm_id': u'92584', u'plans': [{u'drug_tier': u'PREFERRED', u'plan_id': u'39424OR1240001'}, {u'drug_tier': u'PREFERRED', u'plan_id': u'39424OR1260001'}, {u'drug_tier': u'PREFERRED', u'plan_id': u'39424OR1460001'}, {u'drug_tier': u'PREFERRED', u'plan_id': u'39424OR1460002'}, {u'drug_tier': u'PREFERRED', u'plan_id': u'39424OR1240002'}, {u'drug_tier': u'PREFERRED', u'plan_id': u'39424OR1260002'}, {u'drug_tier': u'PREFERRED', u'plan_id': u'39424OR1460003'}, {u'drug_tier': u'PREFERRED', u'plan_id': u'39424OR1460004'}, {u'drug_tier': u'PREFERRED', u'plan_id': u'39424OR1470001'}, {u'drug_tier': u'PREFERRED', u'plan_id': u'39424OR1310001'}, {u'drug_tier': u'PREFERRED', u'plan_id': u'39424OR1480001'}, {u'drug_tier': u'PREFERRED', u'plan_id': u'39424OR1480002'}, {u'drug_tier': u'PREFERRED', u'plan_id': u'39424OR1480003'}, {u'drug_tier': u'PREFERRED', u'plan_id': u'39424OR1490001'}, {u'drug_tier': u'PREFERRED', u'plan_id': u'39424OR1500001'}, {u'drug_tier': u'PREFERRED', u'plan_id': u'39424OR1320001'}]}\n",
      "{u'rxnorm_id': u'92752', u'plans': [{u'drug_tier': u'BRAND', u'plan_id': u'39424OR1240001'}, {u'drug_tier': u'BRAND', u'plan_id': u'39424OR1260001'}, {u'drug_tier': u'BRAND', u'plan_id': u'39424OR1460001'}, {u'drug_tier': u'BRAND', u'plan_id': u'39424OR1460002'}, {u'drug_tier': u'BRAND', u'plan_id': u'39424OR1240002'}, {u'drug_tier': u'BRAND', u'plan_id': u'39424OR1260002'}, {u'drug_tier': u'BRAND', u'plan_id': u'39424OR1460003'}, {u'drug_tier': u'BRAND', u'plan_id': u'39424OR1460004'}, {u'drug_tier': u'BRAND', u'plan_id': u'39424OR1470001'}, {u'drug_tier': u'BRAND', u'plan_id': u'39424OR1310001'}, {u'drug_tier': u'BRAND', u'plan_id': u'39424OR1480001'}, {u'drug_tier': u'BRAND', u'plan_id': u'39424OR1480002'}, {u'drug_tier': u'BRAND', u'plan_id': u'39424OR1490001'}, {u'drug_tier': u'BRAND', u'plan_id': u'39424OR1320001'}, {u'drug_tier': u'BRAND', u'plan_id': u'39424OR1480003'}, {u'drug_tier': u'BRAND', u'plan_id': u'39424OR1500001'}]}\n",
      "{u'rxnorm_id': u'93181', u'plans': [{u'drug_tier': u'BRAND', u'plan_id': u'39424OR1240001'}, {u'drug_tier': u'BRAND', u'plan_id': u'39424OR1260001'}, {u'drug_tier': u'BRAND', u'plan_id': u'39424OR1460001'}, {u'drug_tier': u'BRAND', u'plan_id': u'39424OR1460002'}, {u'drug_tier': u'BRAND', u'plan_id': u'39424OR1240002'}, {u'drug_tier': u'BRAND', u'plan_id': u'39424OR1260002'}, {u'drug_tier': u'BRAND', u'plan_id': u'39424OR1460003'}, {u'drug_tier': u'BRAND', u'plan_id': u'39424OR1460004'}, {u'drug_tier': u'BRAND', u'plan_id': u'39424OR1470001'}, {u'drug_tier': u'BRAND', u'plan_id': u'39424OR1310001'}, {u'drug_tier': u'BRAND', u'plan_id': u'39424OR1480001'}, {u'drug_tier': u'BRAND', u'plan_id': u'39424OR1480002'}, {u'drug_tier': u'BRAND', u'plan_id': u'39424OR1480003'}, {u'drug_tier': u'BRAND', u'plan_id': u'39424OR1490001'}, {u'drug_tier': u'BRAND', u'plan_id': u'39424OR1500001'}, {u'drug_tier': u'BRAND', u'plan_id': u'39424OR1320001'}]}\n",
      "{u'rxnorm_id': u'93252', u'plans': [{u'drug_tier': u'PREFERRED', u'plan_id': u'39424OR1240001'}, {u'drug_tier': u'PREFERRED', u'plan_id': u'39424OR1260001'}, {u'drug_tier': u'PREFERRED', u'plan_id': u'39424OR1460001'}, {u'drug_tier': u'PREFERRED', u'plan_id': u'39424OR1460002'}, {u'drug_tier': u'PREFERRED', u'plan_id': u'39424OR1240002'}, {u'drug_tier': u'PREFERRED', u'plan_id': u'39424OR1260002'}, {u'drug_tier': u'PREFERRED', u'plan_id': u'39424OR1460003'}, {u'drug_tier': u'PREFERRED', u'plan_id': u'39424OR1460004'}, {u'drug_tier': u'PREFERRED', u'plan_id': u'39424OR1470001'}, {u'drug_tier': u'PREFERRED', u'plan_id': u'39424OR1310001'}, {u'drug_tier': u'PREFERRED', u'plan_id': u'39424OR1480001'}, {u'drug_tier': u'PREFERRED', u'plan_id': u'39424OR1480002'}, {u'drug_tier': u'PREFERRED', u'plan_id': u'39424OR1320001'}, {u'drug_tier': u'PREFERRED', u'plan_id': u'39424OR1480003'}, {u'drug_tier': u'PREFERRED', u'plan_id': u'39424OR1490001'}, {u'drug_tier': u'PREFERRED', u'plan_id': u'39424OR1500001'}]}\n",
      "{u'rxnorm_id': u'93253', u'plans': [{u'drug_tier': u'PREFERRED', u'plan_id': u'39424OR1240001'}, {u'drug_tier': u'PREFERRED', u'plan_id': u'39424OR1260001'}, {u'drug_tier': u'PREFERRED', u'plan_id': u'39424OR1460001'}, {u'drug_tier': u'PREFERRED', u'plan_id': u'39424OR1460002'}, {u'drug_tier': u'PREFERRED', u'plan_id': u'39424OR1240002'}, {u'drug_tier': u'PREFERRED', u'plan_id': u'39424OR1260002'}, {u'drug_tier': u'PREFERRED', u'plan_id': u'39424OR1460003'}, {u'drug_tier': u'PREFERRED', u'plan_id': u'39424OR1460004'}, {u'drug_tier': u'PREFERRED', u'plan_id': u'39424OR1470001'}, {u'drug_tier': u'PREFERRED', u'plan_id': u'39424OR1310001'}, {u'drug_tier': u'PREFERRED', u'plan_id': u'39424OR1480001'}, {u'drug_tier': u'PREFERRED', u'plan_id': u'39424OR1480002'}, {u'drug_tier': u'PREFERRED', u'plan_id': u'39424OR1480003'}, {u'drug_tier': u'PREFERRED', u'plan_id': u'39424OR1320001'}, {u'drug_tier': u'PREFERRED', u'plan_id': u'39424OR1490001'}, {u'drug_tier': u'PREFERRED', u'plan_id': u'39424OR1500001'}]}\n"
     ]
    }
   ],
   "source": [
    "for d in drug_col.find({}, {'rxnorm_id':1, '_id':0, 'plans.drug_tier':1, 'plans.plan_id':1}).limit(10):\n",
    "    print d"
   ]
  },
  {
   "cell_type": "code",
   "execution_count": 23,
   "metadata": {
    "collapsed": false
   },
   "outputs": [
    {
     "data": {
      "text/plain": [
       "[u'BRAND',\n",
       " u'SELECT',\n",
       " u'PREFERRED',\n",
       " u'SPECIALTY',\n",
       " u'PREVENTIVE',\n",
       " u'VALUE',\n",
       " u'MEDICAL-SERVICE-DRUGS']"
      ]
     },
     "execution_count": 23,
     "metadata": {},
     "output_type": "execute_result"
    }
   ],
   "source": [
    "drug_col.find().distinct('plans.drug_tier')"
   ]
  },
  {
   "cell_type": "code",
   "execution_count": 133,
   "metadata": {
    "collapsed": false
   },
   "outputs": [
    {
     "data": {
      "text/plain": [
       "5447"
      ]
     },
     "execution_count": 133,
     "metadata": {},
     "output_type": "execute_result"
    }
   ],
   "source": [
    "plan_id = drug_col.find(\n",
    "    {'plans.plan_id':'39424OR1320001', 'plans.drug_tier':{'$in':['SELECT', 'PREFERRED']}}, \n",
    "    {'_id':0, 'rxnorm_id':1, 'plans':{ '$elemMatch':{'plan_id':'39424OR1320001'}}}\n",
    ")\n",
    "\n",
    "plan_id.count()"
   ]
  },
  {
   "cell_type": "code",
   "execution_count": 129,
   "metadata": {
    "collapsed": false
   },
   "outputs": [
    {
     "data": {
      "text/plain": [
       "<pymongo.cursor.Cursor at 0x29cb0d68>"
      ]
     },
     "execution_count": 129,
     "metadata": {},
     "output_type": "execute_result"
    }
   ],
   "source": [
    "plan_id.sort('plans.drug_tier')"
   ]
  },
  {
   "cell_type": "code",
   "execution_count": 31,
   "metadata": {
    "collapsed": false
   },
   "outputs": [
    {
     "data": {
      "text/plain": [
       "[u'39424OR1240001',\n",
       " u'39424OR1240002',\n",
       " u'39424OR1260001',\n",
       " u'39424OR1260002',\n",
       " u'39424OR1310001',\n",
       " u'39424OR1320001',\n",
       " u'39424OR1460001',\n",
       " u'39424OR1460002',\n",
       " u'39424OR1460003',\n",
       " u'39424OR1460004',\n",
       " u'39424OR1470001',\n",
       " u'39424OR1480001',\n",
       " u'39424OR1480002',\n",
       " u'39424OR1480003',\n",
       " u'39424OR1490001',\n",
       " u'39424OR1500001',\n",
       " u'73836AK0750001',\n",
       " u'73836AK0750002',\n",
       " u'73836AK0750003',\n",
       " u'73836AK0750004',\n",
       " u'73836AK0790001',\n",
       " u'73836AK0790002',\n",
       " u'73836AK0840001',\n",
       " u'73836AK0850001',\n",
       " u'73836AK0850002',\n",
       " u'73836AK0860001',\n",
       " u'73836AK0860002']"
      ]
     },
     "execution_count": 31,
     "metadata": {},
     "output_type": "execute_result"
    }
   ],
   "source": [
    "drug_col.find().distinct('plans.plan_id')"
   ]
  },
  {
   "cell_type": "code",
   "execution_count": 6,
   "metadata": {
    "collapsed": false
   },
   "outputs": [],
   "source": [
    "client.close()"
   ]
  }
 ],
 "metadata": {
  "kernelspec": {
   "display_name": "Python 2",
   "language": "python",
   "name": "python2"
  },
  "language_info": {
   "codemirror_mode": {
    "name": "ipython",
    "version": 2
   },
   "file_extension": ".py",
   "mimetype": "text/x-python",
   "name": "python",
   "nbconvert_exporter": "python",
   "pygments_lexer": "ipython2",
   "version": "2.7.10"
  }
 },
 "nbformat": 4,
 "nbformat_minor": 0
}
