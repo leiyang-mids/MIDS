{
 "cells": [
  {
   "cell_type": "code",
   "execution_count": 1,
   "metadata": {
    "collapsed": true
   },
   "outputs": [],
   "source": [
    "from sklearn.preprocessing import OneHotEncoder\n",
    "from pymongo import MongoClient\n",
    "from sets import Set\n",
    "import numpy as np\n",
    "import json"
   ]
  },
  {
   "cell_type": "code",
   "execution_count": 2,
   "metadata": {
    "collapsed": false
   },
   "outputs": [],
   "source": [
    "# prov = json.load(open('providers-OR.json'))\n",
    "client = MongoClient('fc8iasm01', 27017)\n",
    "prov_col = client.aca.prov\n",
    "drug_col = client.aca.drug\n",
    "plan_col = client.aca.plan"
   ]
  },
  {
   "cell_type": "code",
   "execution_count": 64,
   "metadata": {
    "collapsed": false,
    "scrolled": false
   },
   "outputs": [],
   "source": [
    "# build \n",
    "def getProviderUniqueAttr(provider_col, attr, all_plan_id):\n",
    "    return provider_col.find({'plans.plan_id':{'$in':all_plan_id}}).distinct(attr)\n",
    "\n",
    "def getProviderAttrCount(provider_col, plan_id, attr, all_attr):    \n",
    "    attr_count = [0]*len(all_attr)\n",
    "    for at in provider_col.aggregate(\n",
    "        [\n",
    "            {'$match':{'plans.plan_id':plan_id}},\n",
    "            {'$group':{'_id':'$'+attr, 'cnt':{'$sum':1}}},\n",
    "            {'$project':{attr:'$_id', 'count':'$cnt', '_id':0}}   \n",
    "        ]\n",
    "    ):\n",
    "#         print at\n",
    "        k = '' if not at[attr] else (at[attr][0] if type(at[attr]) is list else at[attr])\n",
    "        if k in all_attr:\n",
    "            attr_count[all_attr.index(k)] = at['count']        \n",
    "    return attr_count\n",
    "\n"
   ]
  },
  {
   "cell_type": "code",
   "execution_count": 70,
   "metadata": {
    "collapsed": false,
    "scrolled": false
   },
   "outputs": [
    {
     "name": "stdout",
     "output_type": "stream",
     "text": [
      "{u'count': 85, u'quantity_limit': False, u'pid': u'39424OR1480003', u'step_therapy': False, u'prior_authorization': True, u'tier': u'BRAND'}\n",
      "{u'count': 1722, u'quantity_limit': False, u'pid': u'39424OR1480003', u'step_therapy': False, u'prior_authorization': False, u'tier': u'BRAND'}\n",
      "{u'count': 359, u'quantity_limit': True, u'pid': u'39424OR1480003', u'step_therapy': True, u'prior_authorization': False, u'tier': u'BRAND'}\n",
      "{u'count': 115, u'quantity_limit': True, u'pid': u'39424OR1480003', u'step_therapy': False, u'prior_authorization': False, u'tier': u'BRAND'}\n",
      "{u'count': 26, u'quantity_limit': True, u'pid': u'39424OR1480003', u'step_therapy': False, u'prior_authorization': True, u'tier': u'BRAND'}\n",
      "{u'count': 96, u'quantity_limit': False, u'pid': u'39424OR1480003', u'step_therapy': True, u'prior_authorization': False, u'tier': u'BRAND'}\n",
      "{u'count': 8, u'quantity_limit': True, u'pid': u'39424OR1480003', u'step_therapy': True, u'prior_authorization': True, u'tier': u'BRAND'}\n",
      "{u'count': 1722, u'quantity_limit': False, u'pid': u'39424OR1240001', u'step_therapy': False, u'prior_authorization': False, u'tier': u'BRAND'}\n",
      "{u'count': 115, u'quantity_limit': True, u'pid': u'39424OR1240001', u'step_therapy': False, u'prior_authorization': False, u'tier': u'BRAND'}\n",
      "{u'count': 85, u'quantity_limit': False, u'pid': u'39424OR1240001', u'step_therapy': False, u'prior_authorization': True, u'tier': u'BRAND'}\n",
      "{u'count': 359, u'quantity_limit': True, u'pid': u'39424OR1240001', u'step_therapy': True, u'prior_authorization': False, u'tier': u'BRAND'}\n",
      "{u'count': 8, u'quantity_limit': True, u'pid': u'39424OR1240001', u'step_therapy': True, u'prior_authorization': True, u'tier': u'BRAND'}\n",
      "{u'count': 26, u'quantity_limit': True, u'pid': u'39424OR1240001', u'step_therapy': False, u'prior_authorization': True, u'tier': u'BRAND'}\n",
      "{u'count': 96, u'quantity_limit': False, u'pid': u'39424OR1240001', u'step_therapy': True, u'prior_authorization': False, u'tier': u'BRAND'}\n",
      "{u'count': 1, u'quantity_limit': False, u'pid': u'39424OR1480003', u'step_therapy': False, u'prior_authorization': True, u'tier': u'MEDICAL-SERVICE-DRUGS'}\n",
      "{u'count': 1, u'quantity_limit': False, u'pid': u'39424OR1240001', u'step_therapy': False, u'prior_authorization': True, u'tier': u'MEDICAL-SERVICE-DRUGS'}\n",
      "{u'count': 43, u'quantity_limit': False, u'pid': u'39424OR1480003', u'step_therapy': False, u'prior_authorization': True, u'tier': u'PREFERRED'}\n",
      "{u'count': 1197, u'quantity_limit': False, u'pid': u'39424OR1480003', u'step_therapy': False, u'prior_authorization': False, u'tier': u'PREFERRED'}\n",
      "{u'count': 353, u'quantity_limit': True, u'pid': u'39424OR1480003', u'step_therapy': False, u'prior_authorization': False, u'tier': u'PREFERRED'}\n",
      "{u'count': 83, u'quantity_limit': False, u'pid': u'39424OR1480003', u'step_therapy': True, u'prior_authorization': False, u'tier': u'PREFERRED'}\n",
      "{u'count': 93, u'quantity_limit': True, u'pid': u'39424OR1480003', u'step_therapy': True, u'prior_authorization': False, u'tier': u'PREFERRED'}\n",
      "{u'count': 11, u'quantity_limit': True, u'pid': u'39424OR1480003', u'step_therapy': False, u'prior_authorization': True, u'tier': u'PREFERRED'}\n",
      "{u'count': 1197, u'quantity_limit': False, u'pid': u'39424OR1240001', u'step_therapy': False, u'prior_authorization': False, u'tier': u'PREFERRED'}\n",
      "{u'count': 353, u'quantity_limit': True, u'pid': u'39424OR1240001', u'step_therapy': False, u'prior_authorization': False, u'tier': u'PREFERRED'}\n",
      "{u'count': 83, u'quantity_limit': False, u'pid': u'39424OR1240001', u'step_therapy': True, u'prior_authorization': False, u'tier': u'PREFERRED'}\n",
      "{u'count': 93, u'quantity_limit': True, u'pid': u'39424OR1240001', u'step_therapy': True, u'prior_authorization': False, u'tier': u'PREFERRED'}\n",
      "{u'count': 11, u'quantity_limit': True, u'pid': u'39424OR1240001', u'step_therapy': False, u'prior_authorization': True, u'tier': u'PREFERRED'}\n",
      "{u'count': 43, u'quantity_limit': False, u'pid': u'39424OR1240001', u'step_therapy': False, u'prior_authorization': True, u'tier': u'PREFERRED'}\n",
      "{u'count': 9, u'quantity_limit': False, u'pid': u'39424OR1480003', u'step_therapy': True, u'prior_authorization': False, u'tier': u'PREVENTIVE'}\n",
      "{u'count': 3, u'quantity_limit': True, u'pid': u'39424OR1480003', u'step_therapy': True, u'prior_authorization': False, u'tier': u'PREVENTIVE'}\n",
      "{u'count': 85, u'quantity_limit': True, u'pid': u'39424OR1480003', u'step_therapy': False, u'prior_authorization': False, u'tier': u'PREVENTIVE'}\n",
      "{u'count': 187, u'quantity_limit': False, u'pid': u'39424OR1480003', u'step_therapy': False, u'prior_authorization': False, u'tier': u'PREVENTIVE'}\n",
      "{u'count': 85, u'quantity_limit': True, u'pid': u'39424OR1240001', u'step_therapy': False, u'prior_authorization': False, u'tier': u'PREVENTIVE'}\n",
      "{u'count': 9, u'quantity_limit': False, u'pid': u'39424OR1240001', u'step_therapy': True, u'prior_authorization': False, u'tier': u'PREVENTIVE'}\n",
      "{u'count': 187, u'quantity_limit': False, u'pid': u'39424OR1240001', u'step_therapy': False, u'prior_authorization': False, u'tier': u'PREVENTIVE'}\n",
      "{u'count': 3, u'quantity_limit': True, u'pid': u'39424OR1240001', u'step_therapy': True, u'prior_authorization': False, u'tier': u'PREVENTIVE'}\n",
      "{u'count': 98, u'quantity_limit': True, u'pid': u'39424OR1480003', u'step_therapy': True, u'prior_authorization': False, u'tier': u'SELECT'}\n",
      "{u'count': 290, u'quantity_limit': True, u'pid': u'39424OR1480003', u'step_therapy': False, u'prior_authorization': False, u'tier': u'SELECT'}\n",
      "{u'count': 3193, u'quantity_limit': False, u'pid': u'39424OR1480003', u'step_therapy': False, u'prior_authorization': False, u'tier': u'SELECT'}\n",
      "{u'count': 15, u'quantity_limit': True, u'pid': u'39424OR1480003', u'step_therapy': False, u'prior_authorization': True, u'tier': u'SELECT'}\n",
      "{u'count': 25, u'quantity_limit': False, u'pid': u'39424OR1480003', u'step_therapy': False, u'prior_authorization': True, u'tier': u'SELECT'}\n",
      "{u'count': 47, u'quantity_limit': False, u'pid': u'39424OR1480003', u'step_therapy': True, u'prior_authorization': False, u'tier': u'SELECT'}\n",
      "{u'count': 290, u'quantity_limit': True, u'pid': u'39424OR1240001', u'step_therapy': False, u'prior_authorization': False, u'tier': u'SELECT'}\n",
      "{u'count': 3193, u'quantity_limit': False, u'pid': u'39424OR1240001', u'step_therapy': False, u'prior_authorization': False, u'tier': u'SELECT'}\n",
      "{u'count': 98, u'quantity_limit': True, u'pid': u'39424OR1240001', u'step_therapy': True, u'prior_authorization': False, u'tier': u'SELECT'}\n",
      "{u'count': 15, u'quantity_limit': True, u'pid': u'39424OR1240001', u'step_therapy': False, u'prior_authorization': True, u'tier': u'SELECT'}\n",
      "{u'count': 25, u'quantity_limit': False, u'pid': u'39424OR1240001', u'step_therapy': False, u'prior_authorization': True, u'tier': u'SELECT'}\n",
      "{u'count': 47, u'quantity_limit': False, u'pid': u'39424OR1240001', u'step_therapy': True, u'prior_authorization': False, u'tier': u'SELECT'}\n",
      "{u'count': 75, u'quantity_limit': True, u'pid': u'39424OR1480003', u'step_therapy': False, u'prior_authorization': True, u'tier': u'SPECIALTY'}\n",
      "{u'count': 260, u'quantity_limit': False, u'pid': u'39424OR1480003', u'step_therapy': False, u'prior_authorization': False, u'tier': u'SPECIALTY'}\n",
      "{u'count': 368, u'quantity_limit': False, u'pid': u'39424OR1480003', u'step_therapy': False, u'prior_authorization': True, u'tier': u'SPECIALTY'}\n",
      "{u'count': 10, u'quantity_limit': True, u'pid': u'39424OR1480003', u'step_therapy': True, u'prior_authorization': False, u'tier': u'SPECIALTY'}\n",
      "{u'count': 51, u'quantity_limit': True, u'pid': u'39424OR1480003', u'step_therapy': False, u'prior_authorization': False, u'tier': u'SPECIALTY'}\n",
      "{u'count': 1, u'quantity_limit': False, u'pid': u'39424OR1480003', u'step_therapy': True, u'prior_authorization': False, u'tier': u'SPECIALTY'}\n",
      "{u'count': 51, u'quantity_limit': True, u'pid': u'39424OR1240001', u'step_therapy': False, u'prior_authorization': False, u'tier': u'SPECIALTY'}\n",
      "{u'count': 1, u'quantity_limit': False, u'pid': u'39424OR1240001', u'step_therapy': True, u'prior_authorization': False, u'tier': u'SPECIALTY'}\n",
      "{u'count': 75, u'quantity_limit': True, u'pid': u'39424OR1240001', u'step_therapy': False, u'prior_authorization': True, u'tier': u'SPECIALTY'}\n",
      "{u'count': 260, u'quantity_limit': False, u'pid': u'39424OR1240001', u'step_therapy': False, u'prior_authorization': False, u'tier': u'SPECIALTY'}\n",
      "{u'count': 368, u'quantity_limit': False, u'pid': u'39424OR1240001', u'step_therapy': False, u'prior_authorization': True, u'tier': u'SPECIALTY'}\n",
      "{u'count': 10, u'quantity_limit': True, u'pid': u'39424OR1240001', u'step_therapy': True, u'prior_authorization': False, u'tier': u'SPECIALTY'}\n",
      "{u'count': 108, u'quantity_limit': False, u'pid': u'39424OR1480003', u'step_therapy': False, u'prior_authorization': False, u'tier': u'VALUE'}\n",
      "{u'count': 1, u'quantity_limit': False, u'pid': u'39424OR1480003', u'step_therapy': True, u'prior_authorization': False, u'tier': u'VALUE'}\n",
      "{u'count': 17, u'quantity_limit': True, u'pid': u'39424OR1480003', u'step_therapy': False, u'prior_authorization': False, u'tier': u'VALUE'}\n",
      "{u'count': 108, u'quantity_limit': False, u'pid': u'39424OR1240001', u'step_therapy': False, u'prior_authorization': False, u'tier': u'VALUE'}\n",
      "{u'count': 1, u'quantity_limit': False, u'pid': u'39424OR1240001', u'step_therapy': True, u'prior_authorization': False, u'tier': u'VALUE'}\n",
      "{u'count': 17, u'quantity_limit': True, u'pid': u'39424OR1240001', u'step_therapy': False, u'prior_authorization': False, u'tier': u'VALUE'}\n",
      "total: 66\n"
     ]
    }
   ],
   "source": [
    "i=0\n",
    "for d in drug_col.aggregate(\n",
    "    [           \n",
    "        {'$unwind':'$plans'},\n",
    "        {'$match':{'plans.plan_id':{'$in':['39424OR1240001','39424OR1480003']}}},     \n",
    "        {'$group':{\n",
    "                '_id':{'pl':'$plans.plan_id', \n",
    "                       'ti':'$plans.drug_tier', \n",
    "                       'st':'$plans.step_therapy',\n",
    "                       'ql':'$plans.quantity_limit',\n",
    "                       'pa':'$plans.prior_authorization',\n",
    "                       }, \n",
    "                'cnt':{'$sum':1}\n",
    "            }\n",
    "        },\n",
    "        {'$project':{\n",
    "                'pid':'$_id.pl', \n",
    "                'tier':'$_id.ti', \n",
    "                'step_therapy':'$_id.st', \n",
    "                'quantity_limit':'$_id.ql', \n",
    "                'prior_authorization':'$_id.pa', \n",
    "                'count':'$cnt', '_id':0\n",
    "            }\n",
    "        },\n",
    "        {'$sort':{'tier':1, 'pid':-1}}\n",
    "    ]\n",
    "):\n",
    "    i+=1        \n",
    "    print d\n",
    "        \n",
    "print 'total:',i"
   ]
  },
  {
   "cell_type": "code",
   "execution_count": 164,
   "metadata": {
    "collapsed": false
   },
   "outputs": [
    {
     "name": "stdout",
     "output_type": "stream",
     "text": [
      "{u'count': 1, u'avg_ci_rate': 0.45, u'copay': u'NO-CHARGE', u'avg_copay': 0.0, u'pharmacy': u'3-MONTH-IN-RETAIL', u'tier': u'BRAND', u'plan': u'73836AK0750002', u'test': 0.45, u'coinsurance': None}\n",
      "{u'count': 1, u'avg_ci_rate': 0.0, u'copay': u'BEFORE-DEDUCTIBLE', u'avg_copay': 90.0, u'pharmacy': u'3-MONTH-IN-MAIL', u'tier': u'VALUE', u'plan': u'39424OR1240001', u'test': 90.0, u'coinsurance': None}\n",
      "{u'count': 1, u'avg_ci_rate': 0.0, u'copay': u'BEFORE-DEDUCTIBLE', u'avg_copay': 10.0, u'pharmacy': u'1-MONTH-OUT-RETAIL', u'tier': u'SELECT', u'plan': u'39424OR1240001', u'test': 10.0, u'coinsurance': None}\n",
      "{u'count': 1, u'avg_ci_rate': 0.0, u'copay': u'BEFORE-DEDUCTIBLE', u'avg_copay': 90.0, u'pharmacy': u'1-MONTH-IN-RETAIL', u'tier': u'PREFERRED', u'plan': u'39424OR1240001', u'test': 90.0, u'coinsurance': None}\n",
      "{u'count': 1, u'avg_ci_rate': 0.0, u'copay': u'BEFORE-DEDUCTIBLE', u'avg_copay': 30.0, u'pharmacy': u'1-MONTH-OUT-RETAIL', u'tier': u'PREFERRED', u'plan': u'39424OR1240001', u'test': 30.0, u'coinsurance': None}\n",
      "{u'count': 1, u'avg_ci_rate': 0.0, u'copay': u'BEFORE-DEDUCTIBLE', u'avg_copay': 2.0, u'pharmacy': u'1-MONTH-OUT-RETAIL', u'tier': u'VALUE', u'plan': u'39424OR1480001', u'test': 2.0, u'coinsurance': None}\n",
      "{u'count': 1, u'avg_ci_rate': 0.0, u'copay': u'BEFORE-DEDUCTIBLE', u'avg_copay': 270.0, u'pharmacy': u'3-MONTH-IN-MAIL', u'tier': u'PREFERRED', u'plan': u'39424OR1240001', u'test': 270.0, u'coinsurance': None}\n",
      "{u'count': 1, u'avg_ci_rate': 0.5, u'copay': u'NO-CHARGE', u'avg_copay': 0.0, u'pharmacy': u'1-MONTH-IN-RETAIL', u'tier': u'BRAND', u'plan': u'39424OR1240001', u'test': 0.5, u'coinsurance': None}\n",
      "{u'count': 1, u'avg_ci_rate': 0.5, u'copay': u'NO-CHARGE', u'avg_copay': 0.0, u'pharmacy': u'1-MONTH-IN-RETAIL', u'tier': u'SPECIALTY', u'plan': u'39424OR1240001', u'test': 0.5, u'coinsurance': u'AFTER-DEDUCTIBLE'}\n",
      "{u'count': 1, u'avg_ci_rate': 0.0, u'copay': u'BEFORE-DEDUCTIBLE', u'avg_copay': 10.0, u'pharmacy': u'1-MONTH-IN-RETAIL', u'tier': u'SELECT', u'plan': u'39424OR1240001', u'test': 10.0, u'coinsurance': None}\n",
      "{u'count': 1, u'avg_ci_rate': 0.5, u'copay': u'NO-CHARGE', u'avg_copay': 0.0, u'pharmacy': u'1-MONTH-OUT-RETAIL', u'tier': u'BRAND', u'plan': u'39424OR1480001', u'test': 0.5, u'coinsurance': u'AFTER-DEDUCTIBLE'}\n",
      "{u'count': 1, u'avg_ci_rate': 0.0, u'copay': u'BEFORE-DEDUCTIBLE', u'avg_copay': 10.0, u'pharmacy': u'1-MONTH-IN-RETAIL', u'tier': u'VALUE', u'plan': u'39424OR1240001', u'test': 10.0, u'coinsurance': None}\n",
      "{u'count': 1, u'avg_ci_rate': 0.0, u'copay': u'NO-CHARGE', u'avg_copay': 0.0, u'pharmacy': u'3-MONTH-IN-MAIL', u'tier': u'BRAND', u'plan': u'73836AK0750002', u'test': 0.0, u'coinsurance': None}\n",
      "{u'count': 1, u'avg_ci_rate': 0.0, u'copay': u'BEFORE-DEDUCTIBLE', u'avg_copay': 10.0, u'pharmacy': u'1-MONTH-OUT-RETAIL', u'tier': u'VALUE', u'plan': u'39424OR1240001', u'test': 10.0, u'coinsurance': None}\n",
      "47\n"
     ]
    }
   ],
   "source": [
    "i=0\n",
    "\n",
    "for p in plan_col.aggregate(\n",
    "    [\n",
    "        {'$match':{'plan_id':{'$in':['39424OR1240001','73836AK0750002','39424OR1480001']}}},     \n",
    "        {'$unwind':'$formulary'},\n",
    "        {'$unwind':'$formulary.cost_sharing'},        \n",
    "        {'$group':{\n",
    "                '_id':{\n",
    "                    'plan':'$plan_id',\n",
    "                    'tier':'$formulary.drug_tier', \n",
    "                    'pharmacy':'$formulary.cost_sharing.pharmacy_type',\n",
    "                    'cp':'$formulary.cost_sharing.copay_opt',\n",
    "                    'ci':'$formulary.cost_sharing.coinsurance_opt'                    \n",
    "                    },\n",
    "                'a_cp':{'$avg':'$formulary.cost_sharing.copay_amount'},\n",
    "                'a_in':{'$avg':'$formulary.cost_sharing.coinsurance_rate'},\n",
    "                'cnt':{'$sum':1},                \n",
    "            }\n",
    "        },\n",
    "        {'$project':{\n",
    "                '_id':0, \n",
    "                'plan':'$_id.plan',\n",
    "                'tier':'$_id.tier',\n",
    "                'pharmacy':'$_id.pharmacy',\n",
    "                'avg_copay':'$a_cp',\n",
    "                'avg_ci_rate':'$a_in',\n",
    "                'count':'$cnt',\n",
    "                'copay':'$_id.cp',\n",
    "                'coinsurance':'$_id.ci',\n",
    "                'test':{'$sum':['$a_cp', '$a_in']},\n",
    "#                 'network':'$network'\n",
    "            }\n",
    "        \n",
    "        },\n",
    "#         {'$sort':{'plan':-1}}\n",
    "    ]\n",
    "\n",
    "):\n",
    "    i+=1\n",
    "    if i<15:\n",
    "        print p\n",
    "    \n",
    "print i"
   ]
  },
  {
   "cell_type": "code",
   "execution_count": 172,
   "metadata": {
    "collapsed": false
   },
   "outputs": [
    {
     "name": "stdout",
     "output_type": "stream",
     "text": [
      "{u'cnt': 16, u'_id': u'39424OR1240001'}\n",
      "{u'cnt': 15, u'_id': u'73836AK0750002'}\n",
      "{u'cnt': 16, u'_id': u'39424OR1480001'}\n",
      "3\n"
     ]
    }
   ],
   "source": [
    "i=0\n",
    "\n",
    "for p in plan_col.aggregate(\n",
    "    [\n",
    "        {'$match':{'plan_id':{'$in':['39424OR1240001','73836AK0750002','39424OR1480001']}}},     \n",
    "        {'$unwind':'$formulary'},\n",
    "        {'$unwind':'$formulary.cost_sharing'},                \n",
    "        {'$project':{\n",
    "                '_id':0, \n",
    "                'plan':'$plan_id',\n",
    "                'tier':'$formulary.drug_tier',\n",
    "                'pharmacy':'$formulary.cost_sharing.pharmacy_type',\n",
    "#                 'avg_copay':'$a_cp',\n",
    "#                 'avg_ci_rate':'$a_in',\n",
    "#                 'count':'$cnt',\n",
    "                'copay':'$formulary.cost_sharing.copay_opt',\n",
    "                'coinsurance':'$formulary.cost_sharing.coinsurance_opt',\n",
    "#                 'test':{'$sum':['$a_cp', '$a_in']},\n",
    "#                 'network':'$network'\n",
    "            }\n",
    "        \n",
    "        },\n",
    "#         {'$group':{'_id':'$plan', 'cnt':{'$sum':1}}}\n",
    "#         {'$sort':{'plan':1}}\n",
    "    ]\n",
    "\n",
    "):\n",
    "    i+=1\n",
    "    if i<15:\n",
    "        print p\n",
    "    \n",
    "print i"
   ]
  },
  {
   "cell_type": "code",
   "execution_count": 161,
   "metadata": {
    "collapsed": false
   },
   "outputs": [
    {
     "data": {
      "text/plain": [
       "{u'_id': ObjectId('5776d384b4ba2c8616d321b5'),\n",
       " u'formulary': [{u'cost_sharing': [{u'coinsurance_opt': None,\n",
       "     u'coinsurance_rate': 0.0,\n",
       "     u'copay_amount': 90.0,\n",
       "     u'copay_opt': u'BEFORE-DEDUCTIBLE',\n",
       "     u'pharmacy_type': u'1-MONTH-IN-RETAIL'},\n",
       "    {u'coinsurance_opt': None,\n",
       "     u'coinsurance_rate': 0.0,\n",
       "     u'copay_amount': 30.0,\n",
       "     u'copay_opt': u'BEFORE-DEDUCTIBLE',\n",
       "     u'pharmacy_type': u'1-MONTH-OUT-RETAIL'},\n",
       "    {u'coinsurance_opt': None,\n",
       "     u'coinsurance_rate': 0.0,\n",
       "     u'copay_amount': 270.0,\n",
       "     u'copay_opt': u'BEFORE-DEDUCTIBLE',\n",
       "     u'pharmacy_type': u'3-MONTH-IN-MAIL'}],\n",
       "   u'drug_tier': u'PREFERRED',\n",
       "   u'mail_order': True},\n",
       "  {u'cost_sharing': [{u'coinsurance_opt': u'AFTER-DEDUCTIBLE',\n",
       "     u'coinsurance_rate': 0.5,\n",
       "     u'copay_amount': 0.0,\n",
       "     u'copay_opt': u'NO-CHARGE',\n",
       "     u'pharmacy_type': u'1-MONTH-IN-RETAIL'}],\n",
       "   u'drug_tier': u'SPECIALTY',\n",
       "   u'mail_order': True},\n",
       "  {u'cost_sharing': [{u'coinsurance_opt': None,\n",
       "     u'coinsurance_rate': 0.0,\n",
       "     u'copay_amount': 10.0,\n",
       "     u'copay_opt': u'BEFORE-DEDUCTIBLE',\n",
       "     u'pharmacy_type': u'1-MONTH-IN-RETAIL'},\n",
       "    {u'coinsurance_opt': None,\n",
       "     u'coinsurance_rate': 0.0,\n",
       "     u'copay_amount': 10.0,\n",
       "     u'copay_opt': u'BEFORE-DEDUCTIBLE',\n",
       "     u'pharmacy_type': u'1-MONTH-OUT-RETAIL'},\n",
       "    {u'coinsurance_opt': None,\n",
       "     u'coinsurance_rate': 0.0,\n",
       "     u'copay_amount': 90.0,\n",
       "     u'copay_opt': u'BEFORE-DEDUCTIBLE',\n",
       "     u'pharmacy_type': u'3-MONTH-IN-MAIL'}],\n",
       "   u'drug_tier': u'VALUE',\n",
       "   u'mail_order': True},\n",
       "  {u'cost_sharing': [{u'coinsurance_opt': None,\n",
       "     u'coinsurance_rate': 0.0,\n",
       "     u'copay_amount': 10.0,\n",
       "     u'copay_opt': u'BEFORE-DEDUCTIBLE',\n",
       "     u'pharmacy_type': u'1-MONTH-IN-RETAIL'},\n",
       "    {u'coinsurance_opt': None,\n",
       "     u'coinsurance_rate': 0.0,\n",
       "     u'copay_amount': 10.0,\n",
       "     u'copay_opt': u'BEFORE-DEDUCTIBLE',\n",
       "     u'pharmacy_type': u'1-MONTH-OUT-RETAIL'},\n",
       "    {u'coinsurance_opt': None,\n",
       "     u'coinsurance_rate': 0.0,\n",
       "     u'copay_amount': 90.0,\n",
       "     u'copay_opt': u'NO-CHARGE',\n",
       "     u'pharmacy_type': u'3-MONTH-IN-MAIL'}],\n",
       "   u'drug_tier': u'SELECT',\n",
       "   u'mail_order': True},\n",
       "  {u'cost_sharing': [{u'coinsurance_opt': None,\n",
       "     u'coinsurance_rate': 0.5,\n",
       "     u'copay_amount': 0.0,\n",
       "     u'copay_opt': u'NO-CHARGE',\n",
       "     u'pharmacy_type': u'1-MONTH-IN-RETAIL'},\n",
       "    {u'coinsurance_opt': None,\n",
       "     u'coinsurance_rate': 0.5,\n",
       "     u'copay_amount': 0.0,\n",
       "     u'copay_opt': u'NO-CHARGE',\n",
       "     u'pharmacy_type': u'1-MONTH-OUT-RETAIL'},\n",
       "    {u'coinsurance_opt': None,\n",
       "     u'coinsurance_rate': 0.0,\n",
       "     u'copay_amount': 0.0,\n",
       "     u'copay_opt': u'NO-CHARGE',\n",
       "     u'pharmacy_type': u'3-MONTH-IN-MAIL'}],\n",
       "   u'drug_tier': u'BRAND',\n",
       "   u'mail_order': True},\n",
       "  {u'cost_sharing': [{u'coinsurance_opt': None,\n",
       "     u'coinsurance_rate': 0.0,\n",
       "     u'copay_amount': 0.0,\n",
       "     u'copay_opt': u'BEFORE-DEDUCTIBLE',\n",
       "     u'pharmacy_type': u'1-MONTH-IN-RETAIL'}],\n",
       "   u'drug_tier': u'PREVENTIVE',\n",
       "   u'mail_order': True},\n",
       "  {u'cost_sharing': [{u'coinsurance_opt': u'AFTER-DEDUCTIBLE',\n",
       "     u'coinsurance_rate': 0.1,\n",
       "     u'copay_amount': 0.0,\n",
       "     u'copay_opt': u'NO-CHARGE',\n",
       "     u'pharmacy_type': u'1-MONTH-IN-RETAIL'},\n",
       "    {u'coinsurance_opt': u'AFTER-DEDUCTIBLE',\n",
       "     u'coinsurance_rate': 0.1,\n",
       "     u'copay_amount': 0.0,\n",
       "     u'copay_opt': u'NO-CHARGE',\n",
       "     u'pharmacy_type': u'3-MONTH-IN-RETAIL'}],\n",
       "   u'drug_tier': u'MEDICAL-SERVICE-DRUGS',\n",
       "   u'mail_order': True}],\n",
       " u'last_updated_on': u'2016-04-05',\n",
       " u'marketing_name': u'Moda Health Oregon Standard Gold (Beacon)',\n",
       " u'marketing_url': u'',\n",
       " u'network': [{u'network_tier': u'PREFERRED'}],\n",
       " u'plan_contact': u'jessica.wagner@modahealth.com',\n",
       " u'plan_id': u'39424OR1240001',\n",
       " u'plan_id_type': u'HIOS-PLAN-ID',\n",
       " u'summary_url': u'https://www.modahealth.com/pdfs/plans/individual/Moda_Beacon_OregonStandardGold_2016_OR.pdf'}"
      ]
     },
     "execution_count": 161,
     "metadata": {},
     "output_type": "execute_result"
    }
   ],
   "source": [
    "plan_col.find_one()"
   ]
  },
  {
   "cell_type": "code",
   "execution_count": 105,
   "metadata": {
    "collapsed": false
   },
   "outputs": [
    {
     "name": "stdout",
     "output_type": "stream",
     "text": [
      "{u'formulary': [{u'cost_sharing': [{u'copay_amount': 90.0}, {u'copay_amount': 30.0}, {u'copay_amount': 270.0}]}, {u'cost_sharing': [{u'copay_amount': 0.0}]}, {u'cost_sharing': [{u'copay_amount': 10.0}, {u'copay_amount': 10.0}, {u'copay_amount': 90.0}]}, {u'cost_sharing': [{u'copay_amount': 10.0}, {u'copay_amount': 10.0}, {u'copay_amount': 90.0}]}, {u'cost_sharing': [{u'copay_amount': 0.0}, {u'copay_amount': 0.0}, {u'copay_amount': 0.0}]}, {u'cost_sharing': [{u'copay_amount': 0.0}]}, {u'cost_sharing': [{u'copay_amount': 0.0}, {u'copay_amount': 0.0}]}]}\n"
     ]
    }
   ],
   "source": [
    "for p in plan_col.find({'plan_id':'39424OR1240001'},{'_id':0,'formulary.cost_sharing.copay_amount':1}):\n",
    "    print p"
   ]
  },
  {
   "cell_type": "code",
   "execution_count": 150,
   "metadata": {
    "collapsed": false
   },
   "outputs": [
    {
     "ename": "InvalidDocument",
     "evalue": "cannot convert value of type <type 'set'> to bson",
     "output_type": "error",
     "traceback": [
      "\u001b[1;31m---------------------------------------------------------------------------\u001b[0m",
      "\u001b[1;31mInvalidDocument\u001b[0m                           Traceback (most recent call last)",
      "\u001b[1;32m<ipython-input-150-fac8f6c449e5>\u001b[0m in \u001b[0;36m<module>\u001b[1;34m()\u001b[0m\n\u001b[0;32m      5\u001b[0m         \u001b[1;33m{\u001b[0m\u001b[1;34m'$match'\u001b[0m\u001b[1;33m:\u001b[0m\u001b[1;33m{\u001b[0m\u001b[1;34m'plans.plan_id'\u001b[0m\u001b[1;33m:\u001b[0m\u001b[1;33m{\u001b[0m\u001b[1;34m'$in'\u001b[0m\u001b[1;33m:\u001b[0m\u001b[1;33m[\u001b[0m\u001b[1;34m'39424OR1240001'\u001b[0m\u001b[1;33m]\u001b[0m\u001b[1;33m}\u001b[0m\u001b[1;33m}\u001b[0m\u001b[1;33m}\u001b[0m\u001b[1;33m,\u001b[0m\u001b[1;33m\u001b[0m\u001b[0m\n\u001b[0;32m      6\u001b[0m         \u001b[1;33m{\u001b[0m\u001b[1;34m'$group'\u001b[0m\u001b[1;33m:\u001b[0m\u001b[1;33m{\u001b[0m\u001b[1;34m'_id'\u001b[0m\u001b[1;33m:\u001b[0m\u001b[1;33m{\u001b[0m\u001b[1;34m'plan'\u001b[0m\u001b[1;33m:\u001b[0m\u001b[1;34m'$plans.plan_id'\u001b[0m\u001b[1;33m}\u001b[0m\u001b[1;33m,\u001b[0m \u001b[1;34m'drugs'\u001b[0m\u001b[1;33m:\u001b[0m \u001b[1;33m{\u001b[0m\u001b[1;34m'$push'\u001b[0m\u001b[1;33m,\u001b[0m\u001b[1;34m'$rxnorm_id'\u001b[0m\u001b[1;33m}\u001b[0m\u001b[1;33m}\u001b[0m\u001b[1;33m}\u001b[0m\u001b[1;33m,\u001b[0m\u001b[1;33m\u001b[0m\u001b[0m\n\u001b[1;32m----> 7\u001b[1;33m         \u001b[1;33m{\u001b[0m\u001b[1;34m'$project'\u001b[0m\u001b[1;33m:\u001b[0m\u001b[1;33m{\u001b[0m\u001b[1;34m'plan'\u001b[0m\u001b[1;33m:\u001b[0m\u001b[1;34m'$_id.plan'\u001b[0m\u001b[1;33m,\u001b[0m \u001b[1;34m'drug'\u001b[0m\u001b[1;33m:\u001b[0m\u001b[1;34m'$drugs'\u001b[0m\u001b[1;33m,\u001b[0m \u001b[1;34m'_id'\u001b[0m\u001b[1;33m:\u001b[0m\u001b[1;36m0\u001b[0m \u001b[1;33m}\u001b[0m\u001b[1;33m}\u001b[0m\u001b[1;33m,\u001b[0m\u001b[1;33m\u001b[0m\u001b[0m\n\u001b[0m\u001b[0;32m      8\u001b[0m \u001b[1;31m#         {'$project':{'plan':'$plans.plan_id', 'rx':'$rxnorm_id', '_id':0}},\u001b[0m\u001b[1;33m\u001b[0m\u001b[1;33m\u001b[0m\u001b[0m\n\u001b[0;32m      9\u001b[0m \u001b[1;31m#         {'$sort':{'rx':1}}\u001b[0m\u001b[1;33m\u001b[0m\u001b[1;33m\u001b[0m\u001b[0m\n",
      "\u001b[1;32mC:\\Users\\leyang\\AppData\\Local\\Continuum\\Anaconda\\lib\\site-packages\\pymongo-3.3.0.dev0-py2.7-win-amd64.egg\\pymongo\\collection.pyc\u001b[0m in \u001b[0;36maggregate\u001b[1;34m(self, pipeline, **kwargs)\u001b[0m\n\u001b[0;32m   1676\u001b[0m                 \u001b[1;32melse\u001b[0m\u001b[1;33m:\u001b[0m\u001b[1;33m\u001b[0m\u001b[0m\n\u001b[0;32m   1677\u001b[0m                     result = self._command(sock_info, cmd, slave_ok,\n\u001b[1;32m-> 1678\u001b[1;33m                                            read_concern=self.read_concern)\n\u001b[0m\u001b[0;32m   1679\u001b[0m             \u001b[1;32melse\u001b[0m\u001b[1;33m:\u001b[0m\u001b[1;33m\u001b[0m\u001b[0m\n\u001b[0;32m   1680\u001b[0m                 \u001b[0mresult\u001b[0m \u001b[1;33m=\u001b[0m \u001b[0mself\u001b[0m\u001b[1;33m.\u001b[0m\u001b[0m_command\u001b[0m\u001b[1;33m(\u001b[0m\u001b[0msock_info\u001b[0m\u001b[1;33m,\u001b[0m \u001b[0mcmd\u001b[0m\u001b[1;33m,\u001b[0m \u001b[0mslave_ok\u001b[0m\u001b[1;33m)\u001b[0m\u001b[1;33m\u001b[0m\u001b[0m\n",
      "\u001b[1;32mC:\\Users\\leyang\\AppData\\Local\\Continuum\\Anaconda\\lib\\site-packages\\pymongo-3.3.0.dev0-py2.7-win-amd64.egg\\pymongo\\collection.pyc\u001b[0m in \u001b[0;36m_command\u001b[1;34m(self, sock_info, command, slave_ok, read_preference, codec_options, check, allowable_errors, read_concern)\u001b[0m\n\u001b[0;32m    206\u001b[0m                                  \u001b[0mcheck\u001b[0m\u001b[1;33m,\u001b[0m\u001b[1;33m\u001b[0m\u001b[0m\n\u001b[0;32m    207\u001b[0m                                  \u001b[0mallowable_errors\u001b[0m\u001b[1;33m,\u001b[0m\u001b[1;33m\u001b[0m\u001b[0m\n\u001b[1;32m--> 208\u001b[1;33m                                  read_concern=read_concern)\n\u001b[0m\u001b[0;32m    209\u001b[0m \u001b[1;33m\u001b[0m\u001b[0m\n\u001b[0;32m    210\u001b[0m     \u001b[1;32mdef\u001b[0m \u001b[0m__create\u001b[0m\u001b[1;33m(\u001b[0m\u001b[0mself\u001b[0m\u001b[1;33m,\u001b[0m \u001b[0moptions\u001b[0m\u001b[1;33m)\u001b[0m\u001b[1;33m:\u001b[0m\u001b[1;33m\u001b[0m\u001b[0m\n",
      "\u001b[1;32mC:\\Users\\leyang\\AppData\\Local\\Continuum\\Anaconda\\lib\\site-packages\\pymongo-3.3.0.dev0-py2.7-win-amd64.egg\\pymongo\\pool.pyc\u001b[0m in \u001b[0;36mcommand\u001b[1;34m(self, dbname, spec, slave_ok, read_preference, codec_options, check, allowable_errors, check_keys, read_concern)\u001b[0m\n\u001b[0;32m    242\u001b[0m         \u001b[1;31m# Catch socket.error, KeyboardInterrupt, etc. and close ourselves.\u001b[0m\u001b[1;33m\u001b[0m\u001b[1;33m\u001b[0m\u001b[0m\n\u001b[0;32m    243\u001b[0m         \u001b[1;32mexcept\u001b[0m \u001b[0mBaseException\u001b[0m \u001b[1;32mas\u001b[0m \u001b[0merror\u001b[0m\u001b[1;33m:\u001b[0m\u001b[1;33m\u001b[0m\u001b[0m\n\u001b[1;32m--> 244\u001b[1;33m             \u001b[0mself\u001b[0m\u001b[1;33m.\u001b[0m\u001b[0m_raise_connection_failure\u001b[0m\u001b[1;33m(\u001b[0m\u001b[0merror\u001b[0m\u001b[1;33m)\u001b[0m\u001b[1;33m\u001b[0m\u001b[0m\n\u001b[0m\u001b[0;32m    245\u001b[0m \u001b[1;33m\u001b[0m\u001b[0m\n\u001b[0;32m    246\u001b[0m     \u001b[1;32mdef\u001b[0m \u001b[0msend_message\u001b[0m\u001b[1;33m(\u001b[0m\u001b[0mself\u001b[0m\u001b[1;33m,\u001b[0m \u001b[0mmessage\u001b[0m\u001b[1;33m,\u001b[0m \u001b[0mmax_doc_size\u001b[0m\u001b[1;33m)\u001b[0m\u001b[1;33m:\u001b[0m\u001b[1;33m\u001b[0m\u001b[0m\n",
      "\u001b[1;32mC:\\Users\\leyang\\AppData\\Local\\Continuum\\Anaconda\\lib\\site-packages\\pymongo-3.3.0.dev0-py2.7-win-amd64.egg\\pymongo\\pool.pyc\u001b[0m in \u001b[0;36m_raise_connection_failure\u001b[1;34m(self, error)\u001b[0m\n\u001b[0;32m    370\u001b[0m             \u001b[0m_raise_connection_failure\u001b[0m\u001b[1;33m(\u001b[0m\u001b[0mself\u001b[0m\u001b[1;33m.\u001b[0m\u001b[0maddress\u001b[0m\u001b[1;33m,\u001b[0m \u001b[0merror\u001b[0m\u001b[1;33m)\u001b[0m\u001b[1;33m\u001b[0m\u001b[0m\n\u001b[0;32m    371\u001b[0m         \u001b[1;32melse\u001b[0m\u001b[1;33m:\u001b[0m\u001b[1;33m\u001b[0m\u001b[0m\n\u001b[1;32m--> 372\u001b[1;33m             \u001b[1;32mraise\u001b[0m \u001b[0merror\u001b[0m\u001b[1;33m\u001b[0m\u001b[0m\n\u001b[0m\u001b[0;32m    373\u001b[0m \u001b[1;33m\u001b[0m\u001b[0m\n\u001b[0;32m    374\u001b[0m     \u001b[1;32mdef\u001b[0m \u001b[0m__eq__\u001b[0m\u001b[1;33m(\u001b[0m\u001b[0mself\u001b[0m\u001b[1;33m,\u001b[0m \u001b[0mother\u001b[0m\u001b[1;33m)\u001b[0m\u001b[1;33m:\u001b[0m\u001b[1;33m\u001b[0m\u001b[0m\n",
      "\u001b[1;31mInvalidDocument\u001b[0m: cannot convert value of type <type 'set'> to bson"
     ]
    }
   ],
   "source": [
    "i=0\n",
    "for d in drug_col.aggregate(\n",
    "    [\n",
    "        {'$unwind':'$plans'},\n",
    "        {'$match':{'plans.plan_id':{'$in':['39424OR1240001']}}},        \n",
    "        {'$group':{'_id':{'plan':'$plans.plan_id'}, 'drugs': {'$push','$rxnorm_id'}}},\n",
    "        {'$project':{'plan':'$_id.plan', 'drug':'$drugs', '_id':0 }},\n",
    "#         {'$project':{'plan':'$plans.plan_id', 'rx':'$rxnorm_id', '_id':0}},\n",
    "#         {'$sort':{'rx':1}}\n",
    "    ]\n",
    "):\n",
    "    i+=1\n",
    "    if i<15:\n",
    "        print d,'\\n'\n",
    "        \n",
    "print i"
   ]
  },
  {
   "cell_type": "code",
   "execution_count": 145,
   "metadata": {
    "collapsed": false
   },
   "outputs": [
    {
     "data": {
      "text/plain": [
       "8968"
      ]
     },
     "execution_count": 145,
     "metadata": {},
     "output_type": "execute_result"
    }
   ],
   "source": [
    "len( drug_col.find(\n",
    "    {'plans.plan_id':'39424OR1320001'}, #'plans.drug_tier':{'$in':['SELECT', 'PREFERRED']}}, \n",
    "#     {'_id':0, 'rxnorm_id':1, 'plans':{ '$elemMatch':{'plan_id':'39424OR1320001'}}}\n",
    ").distinct('rxnorm_id'))\n",
    "\n",
    "# plan_id.count()"
   ]
  },
  {
   "cell_type": "code",
   "execution_count": 129,
   "metadata": {
    "collapsed": false
   },
   "outputs": [
    {
     "data": {
      "text/plain": [
       "<pymongo.cursor.Cursor at 0x29cb0d68>"
      ]
     },
     "execution_count": 129,
     "metadata": {},
     "output_type": "execute_result"
    }
   ],
   "source": [
    "plan_id.sort('plans.drug_tier')"
   ]
  },
  {
   "cell_type": "code",
   "execution_count": 152,
   "metadata": {
    "collapsed": false
   },
   "outputs": [
    {
     "data": {
      "text/plain": [
       "{u'_id': ObjectId('5776d384b4ba2c8616d321bf'),\n",
       " u'formulary': [{u'cost_sharing': [{u'coinsurance_opt': u'AFTER-DEDUCTIBLE',\n",
       "     u'coinsurance_rate': 0.4,\n",
       "     u'copay_amount': 0.0,\n",
       "     u'copay_opt': u'NO-CHARGE',\n",
       "     u'pharmacy_type': u'1-MONTH-IN-RETAIL'},\n",
       "    {u'coinsurance_opt': u'AFTER-DEDUCTIBLE',\n",
       "     u'coinsurance_rate': 0.4,\n",
       "     u'copay_amount': 0.0,\n",
       "     u'copay_opt': u'NO-CHARGE',\n",
       "     u'pharmacy_type': u'1-MONTH-OUT-RETAIL'},\n",
       "    {u'coinsurance_opt': None,\n",
       "     u'coinsurance_rate': 0.0,\n",
       "     u'copay_amount': 0.0,\n",
       "     u'copay_opt': u'NO-CHARGE',\n",
       "     u'pharmacy_type': u'3-MONTH-IN-MAIL'}],\n",
       "   u'drug_tier': u'SELECT',\n",
       "   u'mail_order': True},\n",
       "  {u'cost_sharing': [{u'coinsurance_opt': u'AFTER-DEDUCTIBLE',\n",
       "     u'coinsurance_rate': 0.4,\n",
       "     u'copay_amount': 0.0,\n",
       "     u'copay_opt': u'NO-CHARGE',\n",
       "     u'pharmacy_type': u'1-MONTH-IN-RETAIL'},\n",
       "    {u'coinsurance_opt': u'AFTER-DEDUCTIBLE',\n",
       "     u'coinsurance_rate': 0.4,\n",
       "     u'copay_amount': 0.0,\n",
       "     u'copay_opt': u'NO-CHARGE',\n",
       "     u'pharmacy_type': u'1-MONTH-OUT-RETAIL'},\n",
       "    {u'coinsurance_opt': None,\n",
       "     u'coinsurance_rate': 0.0,\n",
       "     u'copay_amount': 0.0,\n",
       "     u'copay_opt': u'NO-CHARGE',\n",
       "     u'pharmacy_type': u'3-MONTH-IN-MAIL'}],\n",
       "   u'drug_tier': u'PREFERRED',\n",
       "   u'mail_order': True},\n",
       "  {u'cost_sharing': [{u'coinsurance_opt': u'AFTER-DEDUCTIBLE',\n",
       "     u'coinsurance_rate': 0.5,\n",
       "     u'copay_amount': 0.0,\n",
       "     u'copay_opt': u'NO-CHARGE',\n",
       "     u'pharmacy_type': u'1-MONTH-IN-RETAIL'},\n",
       "    {u'coinsurance_opt': u'AFTER-DEDUCTIBLE',\n",
       "     u'coinsurance_rate': 0.5,\n",
       "     u'copay_amount': 0.0,\n",
       "     u'copay_opt': u'NO-CHARGE',\n",
       "     u'pharmacy_type': u'1-MONTH-OUT-RETAIL'},\n",
       "    {u'coinsurance_opt': None,\n",
       "     u'coinsurance_rate': 0.0,\n",
       "     u'copay_amount': 0.0,\n",
       "     u'copay_opt': u'NO-CHARGE',\n",
       "     u'pharmacy_type': u'3-MONTH-IN-MAIL'}],\n",
       "   u'drug_tier': u'BRAND',\n",
       "   u'mail_order': True},\n",
       "  {u'cost_sharing': [{u'coinsurance_opt': u'AFTER-DEDUCTIBLE',\n",
       "     u'coinsurance_rate': 0.5,\n",
       "     u'copay_amount': 0.0,\n",
       "     u'copay_opt': u'NO-CHARGE',\n",
       "     u'pharmacy_type': u'1-MONTH-IN-RETAIL'}],\n",
       "   u'drug_tier': u'SPECIALTY',\n",
       "   u'mail_order': True},\n",
       "  {u'cost_sharing': [{u'coinsurance_opt': None,\n",
       "     u'coinsurance_rate': 0.0,\n",
       "     u'copay_amount': 0.0,\n",
       "     u'copay_opt': u'BEFORE-DEDUCTIBLE',\n",
       "     u'pharmacy_type': u'1-MONTH-IN-RETAIL'}],\n",
       "   u'drug_tier': u'PREVENTIVE',\n",
       "   u'mail_order': True},\n",
       "  {u'cost_sharing': [{u'coinsurance_opt': None,\n",
       "     u'coinsurance_rate': 0.0,\n",
       "     u'copay_amount': 2.0,\n",
       "     u'copay_opt': u'BEFORE-DEDUCTIBLE',\n",
       "     u'pharmacy_type': u'1-MONTH-IN-RETAIL'},\n",
       "    {u'coinsurance_opt': None,\n",
       "     u'coinsurance_rate': 0.0,\n",
       "     u'copay_amount': 2.0,\n",
       "     u'copay_opt': u'BEFORE-DEDUCTIBLE',\n",
       "     u'pharmacy_type': u'1-MONTH-OUT-RETAIL'},\n",
       "    {u'coinsurance_opt': None,\n",
       "     u'coinsurance_rate': 0.0,\n",
       "     u'copay_amount': 0.0,\n",
       "     u'copay_opt': u'NO-CHARGE',\n",
       "     u'pharmacy_type': u'3-MONTH-IN-MAIL'}],\n",
       "   u'drug_tier': u'VALUE',\n",
       "   u'mail_order': True},\n",
       "  {u'cost_sharing': [{u'coinsurance_opt': u'AFTER-DEDUCTIBLE',\n",
       "     u'coinsurance_rate': 0.4,\n",
       "     u'copay_amount': 0.0,\n",
       "     u'copay_opt': u'NO-CHARGE',\n",
       "     u'pharmacy_type': u'1-MONTH-IN-RETAIL'},\n",
       "    {u'coinsurance_opt': u'AFTER-DEDUCTIBLE',\n",
       "     u'coinsurance_rate': 0.4,\n",
       "     u'copay_amount': 0.0,\n",
       "     u'copay_opt': u'NO-CHARGE',\n",
       "     u'pharmacy_type': u'3-MONTH-IN-RETAIL'}],\n",
       "   u'drug_tier': u'MEDICAL-SERVICE-DRUGS',\n",
       "   u'mail_order': True}],\n",
       " u'last_updated_on': u'2016-04-05',\n",
       " u'marketing_name': u'Moda Health Beacon Be Lively',\n",
       " u'marketing_url': u'',\n",
       " u'network': [{u'network_tier': u'PREFERRED'}],\n",
       " u'plan_contact': u'jessica.wagner@modahealth.com',\n",
       " u'plan_id': u'39424OR1480001',\n",
       " u'plan_id_type': u'HIOS-PLAN-ID',\n",
       " u'summary_url': u'https://www.modahealth.com/pdfs/plans/individual/Moda_Beacon_BeLively_2016_OR.pdf'}"
      ]
     },
     "execution_count": 152,
     "metadata": {},
     "output_type": "execute_result"
    }
   ],
   "source": [
    "plan_col.find_one({'plan_id':'39424OR1480001'})"
   ]
  },
  {
   "cell_type": "code",
   "execution_count": 6,
   "metadata": {
    "collapsed": false
   },
   "outputs": [],
   "source": [
    "client.close()"
   ]
  }
 ],
 "metadata": {
  "kernelspec": {
   "display_name": "Python 2",
   "language": "python",
   "name": "python2"
  },
  "language_info": {
   "codemirror_mode": {
    "name": "ipython",
    "version": 2
   },
   "file_extension": ".py",
   "mimetype": "text/x-python",
   "name": "python",
   "nbconvert_exporter": "python",
   "pygments_lexer": "ipython2",
   "version": "2.7.10"
  }
 },
 "nbformat": 4,
 "nbformat_minor": 0
}
