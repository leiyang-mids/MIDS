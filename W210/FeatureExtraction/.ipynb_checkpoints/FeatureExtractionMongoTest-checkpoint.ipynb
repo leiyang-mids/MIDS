{
 "cells": [
  {
   "cell_type": "code",
   "execution_count": 93,
   "metadata": {
    "collapsed": true
   },
   "outputs": [],
   "source": [
    "from sklearn.preprocessing import OneHotEncoder\n",
    "from pymongo import MongoClient\n",
    "from zipfile import ZipFile, ZIP_DEFLATED\n",
    "from scipy.sparse import *\n",
    "from scipy import stats\n",
    "from sklearn import svm\n",
    "from sets import Set\n",
    "import numpy as np\n",
    "import json, sys, os, time, re, datetime, itertools, pickle\n",
    "\n",
    "def logTime():\n",
    "    return str(datetime.datetime.now())"
   ]
  },
  {
   "cell_type": "code",
   "execution_count": 94,
   "metadata": {
    "collapsed": true
   },
   "outputs": [],
   "source": [
    "%reload_ext autoreload\n",
    "%autoreload 2\n",
    "from aca_drug_feature import *\n",
    "from aca_plan_feature import *\n",
    "from aca_provider_feature import *"
   ]
  },
  {
   "cell_type": "code",
   "execution_count": 95,
   "metadata": {
    "collapsed": false
   },
   "outputs": [
    {
     "name": "stdout",
     "output_type": "stream",
     "text": [
      "2016-07-09 16:29:54.058127: using aws Mongo, total drug: 46206, total plan: 6035, total provider: 8799098\n"
     ]
    }
   ],
   "source": [
    "local = False\n",
    "if local:\n",
    "    client = MongoClient('fc8iasm01', 27017)\n",
    "    plan_col = client.aca.plan\n",
    "    drug_col = client.aca.drug\n",
    "else:\n",
    "    client = MongoClient('ec2-54-153-83-172.us-west-1.compute.amazonaws.com', 27017)\n",
    "    plan_col = client.plans.plans\n",
    "    drug_col = client.formularies.drugs\n",
    "    prov_col = client.providers.providers\n",
    "    faci_col = client.providers.facilities\n",
    "\n",
    "all_plan = drug_col.distinct('plans.plan_id')\n",
    "all_drug = drug_col.distinct('rxnorm_id')\n",
    "\n",
    "print '%s: using %s Mongo, total drug: %d, total plan: %d, total provider: %d' %(\n",
    "    logTime(), 'local' if local else 'aws', len(all_drug), len(all_plan), prov_col.count())\n",
    "# client.formularies.scollection_names()\n",
    "# client.providers.collection_names()"
   ]
  },
  {
   "cell_type": "code",
   "execution_count": 5,
   "metadata": {
    "collapsed": false
   },
   "outputs": [
    {
     "name": "stdout",
     "output_type": "stream",
     "text": [
      "2016-07-09 14:07:38.909204: plan document: 12136\n",
      "2016-07-09 14:07:38.998114: drug document: 1540473\n",
      "2016-07-09 14:07:39.084850: provider document: 8799098\n",
      "2016-07-09 14:07:39.171320: facility document: 4815321\n",
      "2016-07-09 14:07:39.264177: unique plan_id: 6035\n",
      "2016-07-09 14:07:39.264318: unique rxnorm_id: 46206\n",
      "2016-07-09 14:07:39.267385: states in the plan: AK, AL, AR, AZ, CO, DE, FL, GA, HI, IA, IL, IN, KS, KY, LA, MA, ME, MI, MN, MO, MS, MT, NC, ND, NE, NH, NJ, NM, NV, OH, OK, OR, PA, SC, SD, TN, TX, UT, VA, WA, WI, WV, WY\n"
     ]
    }
   ],
   "source": [
    "print '%s: plan document: %d' %(logTime(), plan_col.count())\n",
    "print '%s: drug document: %d' %(logTime(), drug_col.count())\n",
    "print '%s: provider document: %d' %(logTime(), prov_col.count())\n",
    "print '%s: facility document: %d' %(logTime(), faci_col.count())\n",
    "print '%s: unique plan_id: %d' %(logTime(), len(all_plan))\n",
    "print '%s: unique rxnorm_id: %d' %(logTime(), len(all_drug))\n",
    "\n",
    "# multi_plan = [1 for p in plan_col.aggregate([{\"$group\": {\"_id\":\"$plan_id\", \"count\":{\"$sum\":1}}}]) if p['count']>1]\n",
    "# print '%s: plans with multiple documents: %d' %(logTime(), sum(multi_plan))\n",
    "\n",
    "# multi_drug = [1 for p in drug_col.aggregate([{\"$group\": {\"_id\":\"$rxnorm_id\", \"count\":{\"$sum\":1}}}]) if p['count']>1]\n",
    "# print '%s: drugs with multiple documents: %d' %(logTime(), sum(multi_drug))\n",
    "\n",
    "state_id = np.unique([i[5:7] for i in all_plan])\n",
    "print '%s: states in the plan: %s' %(logTime(), ', '.join(state_id))"
   ]
  },
  {
   "cell_type": "code",
   "execution_count": 31,
   "metadata": {
    "collapsed": false
   },
   "outputs": [
    {
     "name": "stdout",
     "output_type": "stream",
     "text": [
      "2016-07-09 15:26:29.509094: processing 74 plans for UT\n"
     ]
    }
   ],
   "source": [
    "state = 'UT' # set to None to include all (very slow process for all)\n",
    "ex_id = all_plan if not state else [i for i in all_plan if state in i]\n",
    "n_plan = len(ex_id)\n",
    "print '%s: processing %d plans for %s' %(logTime(), len(ex_id), 'all' if not state else state)"
   ]
  },
  {
   "cell_type": "markdown",
   "metadata": {
    "collapsed": false
   },
   "source": [
    "###Main program"
   ]
  },
  {
   "cell_type": "code",
   "execution_count": 32,
   "metadata": {
    "collapsed": false
   },
   "outputs": [
    {
     "name": "stdout",
     "output_type": "stream",
     "text": [
      "2016-07-09 15:26:35.955796: processing 74 plans for UT\n",
      "2016-07-09 15:26:35.955903: 1/11 get formulary state space for all plans\n",
      "2016-07-09 15:26:36.323823: total formulary states: 77\n",
      "2016-07-09 15:26:36.324618: 2/11 extract formulary states for each plan\n",
      "2016-07-09 15:26:36.844627: complete for 74 plans\n",
      "2016-07-09 15:26:36.845365: 4/11 get all drugs covered by all plans\n",
      "2016-07-09 15:26:57.984506: total rx: 6990\n",
      "2016-07-09 15:26:57.985252: 5/11 check drug coverage for each plan\n",
      "2016-07-09 15:27:30.820499: complete for 74 plans\n",
      "2016-07-09 15:27:30.821441: 6/11 get summary feature for drug\n",
      "2016-07-09 15:27:33.407568: total drug states: 56\n",
      "2016-07-09 15:27:33.408325: 7/11 extract drug sumstat for each plan\n",
      "2016-07-09 15:27:36.468797: complete for 74 plans\n",
      "2016-07-09 15:27:36.469247: 8/11 get provider under the plans\n",
      "2016-07-09 15:27:42.919450: total providers: 10473\n",
      "2016-07-09 15:27:42.920071: 9/11 check provider coverage for each plan\n",
      "2016-07-09 15:28:40.529008: complete for 74 plans\n",
      "2016-07-09 15:28:40.529910: 10/11 get summary feature for provider\n",
      "2016-07-09 15:28:42.784930: total provider summary: 1644\n",
      "2016-07-09 15:28:42.785676: 11/11 extract provider sumstat for each plan\n",
      "2016-07-09 15:28:49.027658: complete for 74 plans\n"
     ]
    }
   ],
   "source": [
    "state = 'UT' # set to None to include all (very slow process for all)\n",
    "ex_id = all_plan if not state else [i for i in all_plan if state in i]\n",
    "n_plan = len(ex_id)\n",
    "print '%s: processing %d plans for %s' %(logTime(), len(ex_id), 'all' if not state else state)\n",
    "\n",
    "print '%s: 1/11 get formulary state space for all plans' %logTime()\n",
    "all_plan_states = getFormularyAllStates1(plan_col, ex_id) + \\\n",
    "                  getFormularyAllStates2(plan_col, ex_id) + \\\n",
    "                  getFormularyAllStates3(plan_col, ex_id) \n",
    "print '%s: total formulary states: %d' %(logTime(), len(all_plan_states))\n",
    "\n",
    "print '%s: 2/11 extract formulary states for each plan' %logTime()\n",
    "plan_feature = lil_matrix((n_plan, len(all_plan_states)))\n",
    "valid_plan1 = []\n",
    "for f in [getFormularyStatesForPlan1,getFormularyStatesForPlan2,getFormularyStatesForPlan3]:\n",
    "    for p in f(plan_col, ex_id):\n",
    "        r_id = ex_id.index(p['_id'])\n",
    "        valid_plan1.append(p['_id'])\n",
    "        for s in p['plan_states']:\n",
    "            plan_feature[r_id, all_plan_states.index(s)] = 1        \n",
    "print '%s: complete for %d plans' %(logTime(), len(valid_plan1))\n",
    "\n",
    "# print '%s: 3/11 get formulary summary feature for each plan' %logTime()\n",
    "# plan_sumstat = [[0]*3]*n_plan\n",
    "# for p in getFormularyAggregate(plan_col, ex_id):\n",
    "#     r_id = ex_id.index(p['plan'])\n",
    "#     plan_sumstat[r_id] = [p['avg_copay'],p['avg_ci_rate'],p['count']]\n",
    "# print '%s: complete for %d plans' %(logTime(), i)\n",
    "    \n",
    "print '%s: 4/11 get all drugs covered by all plans' %logTime()\n",
    "all_rxnorm = drug_col.find({'plans.plan_id':{'$in':valid_plan1}}).distinct('rxnorm_id')\n",
    "print '%s: total rx: %d' %(logTime(), len(all_rxnorm))\n",
    "\n",
    "print '%s: 5/11 check drug coverage for each plan' %logTime()\n",
    "drug_coverage = lil_matrix((n_plan, len(all_rxnorm)))\n",
    "valid_plan2 = []\n",
    "for p in getDrugListForPlans(drug_col, valid_plan1):\n",
    "    valid_plan2.append(p['plan'])\n",
    "    r_id = ex_id.index(p['plan'])\n",
    "    for r in p['drug']:\n",
    "        drug_coverage[r_id, all_rxnorm.index(r)] = 1\n",
    "print '%s: complete for %d plans' %(logTime(), len(valid_plan2))\n",
    "\n",
    "print '%s: 6/11 get summary feature for drug' %logTime()\n",
    "all_drug_states = getDrugAggregateAllStates(drug_col, valid_plan2)\n",
    "print '%s: total drug states: %d' %(logTime(), len(all_drug_states))\n",
    "\n",
    "print '%s: 7/11 extract drug sumstat for each plan' %logTime()\n",
    "drug_sumstat = lil_matrix((n_plan, len(all_drug_states)))\n",
    "valid_plan3 = []\n",
    "for p in getDrugAggregateCountForPlans(drug_col, valid_plan2):\n",
    "    valid_plan3.append(p['plan'])\n",
    "    r_id = ex_id.index(p['plan'])\n",
    "    for d in p['drug_state']:\n",
    "        drug_sumstat[r_id, all_drug_states.index(d['key'])] = d['cnt']\n",
    "print '%s: complete for %d plans' %(logTime(), len(valid_plan3))\n",
    "\n",
    "print '%s: 8/11 get provider under the plans' %logTime()\n",
    "all_npi = prov_col.find({'plans.plan_id':{'$in':valid_plan3}}).distinct('npi')\n",
    "print '%s: total providers: %d' %(logTime(), len(all_npi))\n",
    "\n",
    "print '%s: 9/11 check provider coverage for each plan' %logTime() ##### slow #####\n",
    "provider_coverage = lil_matrix((n_plan, len(all_npi)))\n",
    "valid_plan4 = []\n",
    "for p in getProviderListForPlans(prov_col, valid_plan3):\n",
    "    valid_plan4.append(p['plan'])\n",
    "    r_id = ex_id.index(p['plan'])\n",
    "    for npi in p['npi']:\n",
    "        provider_coverage[r_id, all_npi.index(npi)] = 1\n",
    "print '%s: complete for %d plans' %(logTime(), len(valid_plan4))\n",
    "\n",
    "print '%s: 10/11 get summary feature for provider' %logTime()\n",
    "all_provider_states = getProviderAllStates(prov_col, valid_plan4)\n",
    "print '%s: total provider summary: %d' %(logTime(), len(all_provider_states))\n",
    "\n",
    "print '%s: 11/11 extract provider sumstat for each plan' %logTime()\n",
    "provider_sumstat = lil_matrix((n_plan, len(all_provider_states)))\n",
    "valid_plan5 = []\n",
    "for p in getProviderStateForPlans(prov_col, valid_plan4):\n",
    "    r_id = ex_id.index(p['_id'])\n",
    "    valid_plan5.append(p['_id'])\n",
    "    for d in p['plan_states']:\n",
    "        provider_sumstat[r_id, all_provider_states.index(d['key'])] = d['count'] #[d['count'], d['location']]\n",
    "print '%s: complete for %d plans' %(logTime(), len(valid_plan5))"
   ]
  },
  {
   "cell_type": "code",
   "execution_count": 33,
   "metadata": {
    "collapsed": false,
    "scrolled": false
   },
   "outputs": [
    {
     "name": "stdout",
     "output_type": "stream",
     "text": [
      "2016-07-09 15:29:13.015650: feature dimension: (74, 19240)\n",
      "2016-07-09 15:29:15.317698: feature matrix saved as UT_74_19240.pickle\n"
     ]
    }
   ],
   "source": [
    "# combine features\n",
    "feature_mat = [plan_feature, drug_coverage, drug_sumstat, provider_coverage, provider_sumstat]\n",
    "n_fea = sum(m.shape[1] for m in feature_mat)\n",
    "total_feature = lil_matrix((len(valid_plan5), n_fea))\n",
    "for i in range(len(valid_plan5)):\n",
    "    r_id = ex_id.index(valid_plan5[i])\n",
    "    total_feature[i] = hstack([m.getrow(r_id) for m in feature_mat])\n",
    "print '%s: feature dimension: %s' %(logTime(), total_feature.shape)    \n",
    "\n",
    "saveName = '%s_%d_%d.pickle' %(state, len(valid_plan5), n_fea)\n",
    "with open(saveName, 'w') as f:\n",
    "    pickle.dump([total_feature, valid_plan5], f)\n",
    "print '%s: feature matrix saved as %s' %(logTime(), saveName)\n",
    "\n",
    "del plan_feature\n",
    "del drug_coverage\n",
    "del drug_sumstat\n",
    "del provider_coverage \n",
    "del provider_sumstat"
   ]
  },
  {
   "cell_type": "code",
   "execution_count": 2,
   "metadata": {
    "collapsed": false
   },
   "outputs": [
    {
     "name": "stdout",
     "output_type": "stream",
     "text": [
      "2016-07-09 15:39:22.514423: data loaded: (74, 19240)\n"
     ]
    }
   ],
   "source": [
    "# Getting back the objects:\n",
    "savedData = 'UT_74_19240.pickle'\n",
    "with open(savedData) as f: \n",
    "    total_feature, plans = pickle.load(f)\n",
    "print '%s: data loaded: %s' %(logTime(), total_feature.shape)"
   ]
  },
  {
   "cell_type": "code",
   "execution_count": 3,
   "metadata": {
    "collapsed": false
   },
   "outputs": [
    {
     "name": "stdout",
     "output_type": "stream",
     "text": [
      "2016-07-09 15:40:03.795121: total training sample: 666\n"
     ]
    }
   ],
   "source": [
    "n_rank = 1\n",
    "sim_ranks = [np.random.permutation(total_feature.shape[0]) for x in range(n_rank)]\n",
    "\n",
    "pair_fea, pair_diff = [], []\n",
    "\n",
    "for rank in sim_ranks:\n",
    "    k = 0\n",
    "    for i,j in itertools.combinations(range(total_feature.shape[0]/2), 2):\n",
    "        if k%2 == 0:\n",
    "            pair_fea.append(total_feature.getrow(rank[i]) - total_feature.getrow(rank[j]))\n",
    "        else:\n",
    "            pair_fea.append(total_feature.getrow(rank[j]) - total_feature.getrow(rank[i]))            \n",
    "        pair_diff.append((-1)**k)        \n",
    "        k += 1\n",
    "\n",
    "print '%s: total training sample: %d' %(logTime(), len(pair_diff))"
   ]
  },
  {
   "cell_type": "code",
   "execution_count": 9,
   "metadata": {
    "collapsed": false
   },
   "outputs": [
    {
     "data": {
      "text/plain": [
       "SVC(C=0.1, cache_size=200, class_weight=None, coef0=0.0, degree=3, gamma=0.0,\n",
       "  kernel='linear', max_iter=-1, probability=False, random_state=None,\n",
       "  shrinking=True, tol=0.001, verbose=False)"
      ]
     },
     "execution_count": 9,
     "metadata": {},
     "output_type": "execute_result"
    }
   ],
   "source": [
    "clf = svm.SVC(kernel='linear', C=.1)\n",
    "clf.fit(vstack(pair_fea), pair_diff)"
   ]
  },
  {
   "cell_type": "code",
   "execution_count": 98,
   "metadata": {
    "collapsed": false
   },
   "outputs": [],
   "source": [
    "# np.ravel(total_feature[0])\n",
    "coef = clf.coef_.toarray()[0]\n",
    "\n",
    "[np.dot(f.toarray()[0], coef) for f in pair_fea]\n",
    "# pair_fea[0].toarray()[0]"
   ]
  },
  {
   "cell_type": "code",
   "execution_count": 91,
   "metadata": {
    "collapsed": false
   },
   "outputs": [
    {
     "data": {
      "text/plain": [
       "array([4, 0, 1, 2, 3])"
      ]
     },
     "execution_count": 91,
     "metadata": {},
     "output_type": "execute_result"
    }
   ],
   "source": [
    "# convert to csr\n",
    "a=np.random.permutation(5)\n",
    "a"
   ]
  },
  {
   "cell_type": "code",
   "execution_count": 92,
   "metadata": {
    "collapsed": false
   },
   "outputs": [
    {
     "data": {
      "text/plain": [
       "array([0, 4, 3, 2, 1])"
      ]
     },
     "execution_count": 92,
     "metadata": {},
     "output_type": "execute_result"
    }
   ],
   "source": [
    "np.argsort(a)[::-1]"
   ]
  },
  {
   "cell_type": "code",
   "execution_count": 97,
   "metadata": {
    "collapsed": false
   },
   "outputs": [
    {
     "data": {
      "text/plain": [
       "(-0.043946221343346088, 3.063858861713152e-07)"
      ]
     },
     "execution_count": 97,
     "metadata": {},
     "output_type": "execute_result"
    }
   ],
   "source": [
    "a=['a','b','c','d']\n",
    "b=['b','a','c','d']\n",
    "stats.kendalltau(all_plan,all_plan[::-1])"
   ]
  },
  {
   "cell_type": "markdown",
   "metadata": {},
   "source": [
    "###Query to rank plans"
   ]
  },
  {
   "cell_type": "code",
   "execution_count": 100,
   "metadata": {
    "collapsed": false
   },
   "outputs": [
    {
     "data": {
      "text/plain": [
       "{u'_id': ObjectId('577c268086395f67704fe32f'),\n",
       " u'formulary': [{u'cost_sharing': [{u'coinsurance_opt': u'AFTER-DEDUCTIBLE',\n",
       "     u'coinsurance_rate': 0.0,\n",
       "     u'copay_amount': 0.0,\n",
       "     u'copay_opt': None,\n",
       "     u'pharmacy_type': u'1-MONTH-IN-RETAIL'},\n",
       "    {u'coinsurance_opt': u'AFTER-DEDUCTIBLE',\n",
       "     u'coinsurance_rate': 0.0,\n",
       "     u'copay_amount': 0.0,\n",
       "     u'copay_opt': None,\n",
       "     u'pharmacy_type': u'3-MONTH-IN-MAIL'},\n",
       "    {u'coinsurance_opt': u'AFTER-DEDUCTIBLE',\n",
       "     u'coinsurance_rate': 0.0,\n",
       "     u'copay_amount': 0.0,\n",
       "     u'copay_opt': None,\n",
       "     u'pharmacy_type': u'3-MONTH-IN-RETAIL'}],\n",
       "   u'drug_tier': u'GENERIC-BRAND-SPECIALITY',\n",
       "   u'mail_order': True}],\n",
       " u'last_updated_on': u'2016-06-18',\n",
       " u'marketing_name': u'Humana Basic 6850/Salt Lake City HMOx',\n",
       " u'marketing_url': u'http://apps.humana.com/marketing/documents.asp?file=2594553',\n",
       " u'network': [{u'network_tier': u'PREFERRED'}],\n",
       " u'plan_contact': u'pboulet@humana.com',\n",
       " u'plan_id': u'56764UT0010001',\n",
       " u'plan_id_type': u'HIOS-PLAN-ID',\n",
       " u'summary_url': u'http://apps.humana.com/marketing/documents.asp?file=2612402'}"
      ]
     },
     "execution_count": 100,
     "metadata": {},
     "output_type": "execute_result"
    }
   ],
   "source": [
    "plan_col.find_one({'plan_id':{'$in':plans}})"
   ]
  },
  {
   "cell_type": "code",
   "execution_count": 114,
   "metadata": {
    "collapsed": false
   },
   "outputs": [
    {
     "name": "stdout",
     "output_type": "stream",
     "text": [
      "{u'speciality_cnt': 119, u'_id': u'18167UT0010001', u'provider_cnt': 7861}\n",
      "{u'speciality_cnt': 119, u'_id': u'18167UT0010003', u'provider_cnt': 7861}\n",
      "{u'speciality_cnt': 119, u'_id': u'18167UT0010002', u'provider_cnt': 7861}\n",
      "{u'speciality_cnt': 114, u'_id': u'68781UT0030014', u'provider_cnt': 8818}\n",
      "{u'speciality_cnt': 114, u'_id': u'68781UT0030016', u'provider_cnt': 8818}\n",
      "{u'speciality_cnt': 114, u'_id': u'68781UT0030010', u'provider_cnt': 8818}\n",
      "{u'speciality_cnt': 114, u'_id': u'68781UT0030002', u'provider_cnt': 8818}\n",
      "{u'speciality_cnt': 114, u'_id': u'68781UT0030011', u'provider_cnt': 8818}\n",
      "{u'speciality_cnt': 114, u'_id': u'68781UT0140005', u'provider_cnt': 8818}\n",
      "{u'speciality_cnt': 114, u'_id': u'68781UT0030005', u'provider_cnt': 8818}\n",
      "{u'speciality_cnt': 114, u'_id': u'68781UT0030001', u'provider_cnt': 8818}\n",
      "{u'speciality_cnt': 114, u'_id': u'68781UT0030009', u'provider_cnt': 8818}\n",
      "{u'speciality_cnt': 114, u'_id': u'68781UT0030006', u'provider_cnt': 8818}\n",
      "{u'speciality_cnt': 114, u'_id': u'68781UT0030004', u'provider_cnt': 8818}\n",
      "{u'speciality_cnt': 114, u'_id': u'68781UT0030008', u'provider_cnt': 8818}\n",
      "{u'speciality_cnt': 114, u'_id': u'68781UT0030017', u'provider_cnt': 8818}\n",
      "{u'speciality_cnt': 114, u'_id': u'68781UT0030015', u'provider_cnt': 8818}\n",
      "{u'speciality_cnt': 114, u'_id': u'68781UT0140010', u'provider_cnt': 8818}\n",
      "{u'speciality_cnt': 114, u'_id': u'68781UT0030019', u'provider_cnt': 8818}\n",
      "{u'speciality_cnt': 114, u'_id': u'68781UT0030003', u'provider_cnt': 8818}\n",
      "{u'speciality_cnt': 114, u'_id': u'68781UT0030012', u'provider_cnt': 8818}\n",
      "{u'speciality_cnt': 114, u'_id': u'68781UT0030007', u'provider_cnt': 8818}\n",
      "{u'speciality_cnt': 114, u'_id': u'68781UT0030018', u'provider_cnt': 8818}\n",
      "{u'speciality_cnt': 111, u'_id': u'68781UT0020017', u'provider_cnt': 7364}\n",
      "{u'speciality_cnt': 111, u'_id': u'68781UT0020004', u'provider_cnt': 7364}\n",
      "{u'speciality_cnt': 111, u'_id': u'68781UT0020009', u'provider_cnt': 7364}\n",
      "{u'speciality_cnt': 111, u'_id': u'68781UT0020016', u'provider_cnt': 7364}\n",
      "{u'speciality_cnt': 111, u'_id': u'68781UT0130010', u'provider_cnt': 7364}\n",
      "{u'speciality_cnt': 111, u'_id': u'68781UT0130005', u'provider_cnt': 7364}\n",
      "{u'speciality_cnt': 111, u'_id': u'68781UT0020014', u'provider_cnt': 7364}\n",
      "{u'speciality_cnt': 111, u'_id': u'68781UT0020008', u'provider_cnt': 7364}\n",
      "{u'speciality_cnt': 111, u'_id': u'68781UT0020015', u'provider_cnt': 7364}\n",
      "{u'speciality_cnt': 111, u'_id': u'68781UT0020003', u'provider_cnt': 7364}\n",
      "{u'speciality_cnt': 111, u'_id': u'68781UT0020019', u'provider_cnt': 7364}\n",
      "{u'speciality_cnt': 111, u'_id': u'68781UT0020012', u'provider_cnt': 7364}\n",
      "{u'speciality_cnt': 111, u'_id': u'68781UT0020002', u'provider_cnt': 7364}\n",
      "{u'speciality_cnt': 111, u'_id': u'68781UT0020010', u'provider_cnt': 7364}\n",
      "{u'speciality_cnt': 111, u'_id': u'68781UT0020001', u'provider_cnt': 7364}\n",
      "{u'speciality_cnt': 111, u'_id': u'68781UT0020011', u'provider_cnt': 7364}\n",
      "{u'speciality_cnt': 111, u'_id': u'68781UT0020007', u'provider_cnt': 7364}\n",
      "{u'speciality_cnt': 111, u'_id': u'68781UT0020018', u'provider_cnt': 7364}\n",
      "{u'speciality_cnt': 111, u'_id': u'68781UT0020005', u'provider_cnt': 7364}\n",
      "{u'speciality_cnt': 111, u'_id': u'68781UT0020006', u'provider_cnt': 7364}\n",
      "{u'speciality_cnt': 103, u'_id': u'68781UT0010005', u'provider_cnt': 4974}\n",
      "{u'speciality_cnt': 103, u'_id': u'68781UT0010009', u'provider_cnt': 4974}\n",
      "{u'speciality_cnt': 103, u'_id': u'68781UT0010011', u'provider_cnt': 4974}\n",
      "{u'speciality_cnt': 103, u'_id': u'68781UT0010007', u'provider_cnt': 4974}\n",
      "{u'speciality_cnt': 103, u'_id': u'68781UT0010012', u'provider_cnt': 4974}\n",
      "{u'speciality_cnt': 103, u'_id': u'68781UT0010002', u'provider_cnt': 4974}\n",
      "{u'speciality_cnt': 103, u'_id': u'68781UT0010004', u'provider_cnt': 4974}\n",
      "{u'speciality_cnt': 103, u'_id': u'68781UT0010006', u'provider_cnt': 4974}\n",
      "{u'speciality_cnt': 103, u'_id': u'68781UT0010016', u'provider_cnt': 4974}\n",
      "{u'speciality_cnt': 103, u'_id': u'68781UT0010017', u'provider_cnt': 4974}\n",
      "{u'speciality_cnt': 103, u'_id': u'68781UT0010015', u'provider_cnt': 4974}\n",
      "{u'speciality_cnt': 103, u'_id': u'68781UT0120005', u'provider_cnt': 4974}\n",
      "{u'speciality_cnt': 103, u'_id': u'68781UT0010014', u'provider_cnt': 4974}\n",
      "{u'speciality_cnt': 103, u'_id': u'68781UT0120010', u'provider_cnt': 4974}\n",
      "{u'speciality_cnt': 103, u'_id': u'68781UT0010001', u'provider_cnt': 4974}\n",
      "{u'speciality_cnt': 103, u'_id': u'68781UT0010003', u'provider_cnt': 4974}\n",
      "{u'speciality_cnt': 103, u'_id': u'68781UT0010010', u'provider_cnt': 4974}\n",
      "{u'speciality_cnt': 103, u'_id': u'68781UT0010019', u'provider_cnt': 4974}\n",
      "{u'speciality_cnt': 103, u'_id': u'68781UT0010018', u'provider_cnt': 4974}\n",
      "{u'speciality_cnt': 103, u'_id': u'68781UT0010008', u'provider_cnt': 4974}\n",
      "{u'speciality_cnt': 88, u'_id': u'42261UT0050001', u'provider_cnt': 969}\n",
      "{u'speciality_cnt': 88, u'_id': u'42261UT0050004', u'provider_cnt': 969}\n",
      "{u'speciality_cnt': 88, u'_id': u'42261UT0050005', u'provider_cnt': 969}\n",
      "{u'speciality_cnt': 88, u'_id': u'42261UT0050002', u'provider_cnt': 969}\n",
      "{u'speciality_cnt': 88, u'_id': u'42261UT0050003', u'provider_cnt': 969}\n",
      "{u'speciality_cnt': 68, u'_id': u'56764UT0010001', u'provider_cnt': 1099}\n",
      "{u'speciality_cnt': 68, u'_id': u'56764UT0010003', u'provider_cnt': 1099}\n",
      "{u'speciality_cnt': 68, u'_id': u'56764UT0010004', u'provider_cnt': 1099}\n",
      "{u'speciality_cnt': 68, u'_id': u'56764UT0010005', u'provider_cnt': 1099}\n",
      "{u'speciality_cnt': 68, u'_id': u'56764UT0010002', u'provider_cnt': 1099}\n",
      "{u'speciality_cnt': 68, u'_id': u'56764UT0010006', u'provider_cnt': 1097}\n",
      "74\n"
     ]
    }
   ],
   "source": [
    "i=0\n",
    "rank_id = []\n",
    "for p in prov_col.aggregate(\n",
    "        [\n",
    "            {'$match':{'plans.plan_id':{'$in':plans}, 'facility_name':{'$exists':False}}},\n",
    "            {'$unwind':'$plans'},\n",
    "            {'$match':{'plans.plan_id':{'$in':plans}}},\n",
    "            {'$unwind':'$speciality'},\n",
    "            {'$unwind':'$languages'},\n",
    "            {'$group':{\n",
    "                    '_id':{\n",
    "                        'pl':'$plans.plan_id',\n",
    "                        'sp':'$speciality',\n",
    "#                         'ac':'$accepting',\n",
    "#                         'lg':'$languages',\n",
    "#                         'pn':'$plans.network_tier',\n",
    "#                         'ty':'$type',\n",
    "                    },\n",
    "                    'cnt':{'$sum':1},\n",
    "                    'loc':{'$sum':{'$size':'$addresses'}}\n",
    "                }\n",
    "            },\n",
    "            {'$project':{'_id':0, 'plan':'$_id.pl', 'speciality':'$_id.sp', 'count':'$cnt'}},\n",
    "            {'$group':{'_id':'$plan', 'speciality_cnt':{'$sum':1}, 'provider_cnt':{'$sum':'$count'} }},\n",
    "            {'$sort':{'speciality_cnt':-1, 'provider_cnt':-1}}        \n",
    "        ], #allowDiskUse=True\n",
    "    ):\n",
    "    i+=1\n",
    "    rank_id.append(p['_id'])\n",
    "    print p\n",
    "    \n",
    "print i"
   ]
  },
  {
   "cell_type": "code",
   "execution_count": 120,
   "metadata": {
    "collapsed": false
   },
   "outputs": [
    {
     "name": "stdout",
     "output_type": "stream",
     "text": [
      "2016-07-09 17:09:04.328124: total training sample: 666\n"
     ]
    }
   ],
   "source": [
    "train_rank = rank_id[0::2]\n",
    "test_rank = rank_id[1::2]\n",
    "rank_index = [plans.index(x) for x in train_rank]\n",
    "\n",
    "pair_fea, pair_diff = [], []\n",
    "\n",
    "for rank in [rank_index]:\n",
    "    k = 0\n",
    "    for i,j in itertools.combinations(range(len(rank)), 2):\n",
    "        if k%2 == 0:\n",
    "            pair_fea.append(total_feature.getrow(rank[i]) - total_feature.getrow(rank[j]))\n",
    "        else:\n",
    "            pair_fea.append(total_feature.getrow(rank[j]) - total_feature.getrow(rank[i]))            \n",
    "        pair_diff.append((-1)**k)        \n",
    "        k += 1\n",
    "\n",
    "print '%s: total training sample: %d' %(logTime(), len(pair_diff))"
   ]
  },
  {
   "cell_type": "code",
   "execution_count": 121,
   "metadata": {
    "collapsed": true
   },
   "outputs": [],
   "source": [
    "clf = svm.SVC(kernel='linear', C=.1)\n",
    "clf.fit(vstack(pair_fea), pair_diff)\n",
    "coef = clf.coef_.toarray()[0]"
   ]
  },
  {
   "cell_type": "code",
   "execution_count": 126,
   "metadata": {
    "collapsed": false
   },
   "outputs": [],
   "source": [
    "test_weight = [np.dot(coef, total_feature.getrow(plans.index(p)).toarray()[0]) for p in test_rank]"
   ]
  },
  {
   "cell_type": "code",
   "execution_count": 130,
   "metadata": {
    "collapsed": false
   },
   "outputs": [],
   "source": [
    "letor_rank_ind = np.argsort(test_weight)[::-1]"
   ]
  },
  {
   "cell_type": "code",
   "execution_count": 131,
   "metadata": {
    "collapsed": false
   },
   "outputs": [],
   "source": [
    "letor_rank = [test_rank[i] for i in letor_rank_ind]"
   ]
  },
  {
   "cell_type": "code",
   "execution_count": 132,
   "metadata": {
    "collapsed": false
   },
   "outputs": [
    {
     "data": {
      "text/plain": [
       "(0.70570570570570557, 7.8925316489717336e-10)"
      ]
     },
     "execution_count": 132,
     "metadata": {},
     "output_type": "execute_result"
    }
   ],
   "source": [
    "stats.kendalltau(letor_rank,test_rank)"
   ]
  },
  {
   "cell_type": "code",
   "execution_count": 11,
   "metadata": {
    "collapsed": false
   },
   "outputs": [
    {
     "name": "stdout",
     "output_type": "stream",
     "text": [
      "Once deleted, variables cannot be recovered. Proceed (y/[n])? y\n"
     ]
    }
   ],
   "source": [
    "client.close()\n",
    "%reset"
   ]
  }
 ],
 "metadata": {
  "kernelspec": {
   "display_name": "Python 2",
   "language": "python",
   "name": "python2"
  },
  "language_info": {
   "codemirror_mode": {
    "name": "ipython",
    "version": 2
   },
   "file_extension": ".py",
   "mimetype": "text/x-python",
   "name": "python",
   "nbconvert_exporter": "python",
   "pygments_lexer": "ipython2",
   "version": "2.7.9"
  }
 },
 "nbformat": 4,
 "nbformat_minor": 0
}
