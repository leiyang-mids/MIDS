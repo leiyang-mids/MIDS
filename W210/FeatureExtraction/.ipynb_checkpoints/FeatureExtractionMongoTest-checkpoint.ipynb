{
 "cells": [
  {
   "cell_type": "code",
   "execution_count": 1,
   "metadata": {
    "collapsed": true
   },
   "outputs": [],
   "source": [
    "from sklearn.preprocessing import OneHotEncoder\n",
    "from pymongo import MongoClient\n",
    "from zipfile import ZipFile, ZIP_DEFLATED\n",
    "from scipy.sparse import *\n",
    "from sets import Set\n",
    "import numpy as np\n",
    "import json, sys, os, time, re, datetime\n",
    "\n",
    "def logTime():\n",
    "    return str(datetime.datetime.now())"
   ]
  },
  {
   "cell_type": "code",
   "execution_count": 92,
   "metadata": {
    "collapsed": true
   },
   "outputs": [],
   "source": [
    "%reload_ext autoreload\n",
    "%autoreload 2\n",
    "from aca_drug_feature import *\n",
    "from aca_plan_feature import *\n",
    "from aca_provider_feature import *"
   ]
  },
  {
   "cell_type": "code",
   "execution_count": 3,
   "metadata": {
    "collapsed": false
   },
   "outputs": [
    {
     "name": "stdout",
     "output_type": "stream",
     "text": [
      "Using aws Mongo, total drug: 46206, total plan: 6035\n"
     ]
    }
   ],
   "source": [
    "local = False\n",
    "if local:\n",
    "    client = MongoClient('fc8iasm01', 27017)\n",
    "    plan_col = client.aca.plan\n",
    "    drug_col = client.aca.drug\n",
    "else:\n",
    "    client = MongoClient('ec2-54-153-83-172.us-west-1.compute.amazonaws.com', 27017)\n",
    "    plan_col = client.plans.plans\n",
    "    drug_col = client.formularies.drugs\n",
    "    prov_col = client.providers.providers\n",
    "    faci_col = client.providers.facilities\n",
    "\n",
    "all_plan = drug_col.distinct('plans.plan_id')\n",
    "all_drug = drug_col.distinct('rxnorm_id')\n",
    "\n",
    "print '%s: using %s Mongo, total drug: %d, total plan: %d, total provider: %d' %(\n",
    "    logTime(), 'local' if local else 'aws', len(all_drug), len(all_plan), prov_col.count())\n",
    "# client.formularies.scollection_names()\n",
    "# client.providers.collection_names()"
   ]
  },
  {
   "cell_type": "code",
   "execution_count": 5,
   "metadata": {
    "collapsed": false
   },
   "outputs": [
    {
     "name": "stdout",
     "output_type": "stream",
     "text": [
      "2016-07-09 09:32:28.660514: plan document: 12136\n",
      "2016-07-09 09:32:28.744694: drug document: 1540473\n",
      "2016-07-09 09:32:28.832037: provider document: 8799098\n",
      "2016-07-09 09:32:28.931804: facility document: 4815321\n",
      "2016-07-09 09:32:29.014277: unique plan_id: 6035\n",
      "2016-07-09 09:32:29.014387: unique rxnorm_id: 46206\n",
      "2016-07-09 09:32:29.016927: states in the plan: AK, AL, AR, AZ, CO, DE, FL, GA, HI, IA, IL, IN, KS, KY, LA, MA, ME, MI, MN, MO, MS, MT, NC, ND, NE, NH, NJ, NM, NV, OH, OK, OR, PA, SC, SD, TN, TX, UT, VA, WA, WI, WV, WY\n"
     ]
    }
   ],
   "source": [
    "print '%s: plan document: %d' %(logTime(), plan_col.count())\n",
    "print '%s: drug document: %d' %(logTime(), drug_col.count())\n",
    "print '%s: provider document: %d' %(logTime(), prov_col.count())\n",
    "print '%s: facility document: %d' %(logTime(), faci_col.count())\n",
    "print '%s: unique plan_id: %d' %(logTime(), len(all_plan))\n",
    "print '%s: unique rxnorm_id: %d' %(logTime(), len(all_drug))\n",
    "\n",
    "# multi_plan = [1 for p in plan_col.aggregate([{\"$group\": {\"_id\":\"$plan_id\", \"count\":{\"$sum\":1}}}]) if p['count']>1]\n",
    "# print '%s: plans with multiple documents: %d' %(logTime(), sum(multi_plan))\n",
    "\n",
    "# multi_drug = [1 for p in drug_col.aggregate([{\"$group\": {\"_id\":\"$rxnorm_id\", \"count\":{\"$sum\":1}}}]) if p['count']>1]\n",
    "# print '%s: drugs with multiple documents: %d' %(logTime(), sum(multi_drug))\n",
    "\n",
    "state_id = np.unique([i[5:7] for i in all_plan])\n",
    "print '%s: states in the plan: %s' %(logTime(), ', '.join(state_id))"
   ]
  },
  {
   "cell_type": "markdown",
   "metadata": {
    "collapsed": false
   },
   "source": [
    "###Main program"
   ]
  },
  {
   "cell_type": "code",
   "execution_count": null,
   "metadata": {
    "collapsed": false
   },
   "outputs": [
    {
     "name": "stdout",
     "output_type": "stream",
     "text": [
      "2016-07-09 12:12:50.161518: processing 190 plans for OR\n",
      "2016-07-09 12:12:50.161597: 1/11 get formulary state space for all plans\n",
      "2016-07-09 12:12:50.499005: total plan states: 107\n",
      "2016-07-09 12:12:50.499760: 2/11 extract formulary states for each plan\n",
      "2016-07-09 12:12:51.123879: complete for 172 plans\n",
      "2016-07-09 12:12:51.124474: 3/11 get summary feature for each plan\n",
      "2016-07-09 12:12:51.232876: complete for 47 plans"
     ]
    }
   ],
   "source": [
    "state = 'OR' # set to None to include all (very slow process for all)\n",
    "ex_id = all_plan if not state else [i for i in all_plan if state in i]\n",
    "n_plan = len(ex_id)\n",
    "print '%s: processing %d plans for %s' %(logTime(), len(ex_id), 'all' if not state else state)\n",
    "\n",
    "print '%s: 1/11 get formulary state space for all plans' %logTime()\n",
    "all_plan_states = getFormularyAllStates1(plan_col, ex_id) + \\\n",
    "                  getFormularyAllStates2(plan_col, ex_id) + \\\n",
    "                  getFormularyAllStates3(plan_col, ex_id) \n",
    "print '%s: total plan states: %d' %(logTime(), len(all_plan_states))\n",
    "\n",
    "print '%s: 2/11 extract formulary states for each plan' %logTime()\n",
    "plan_feature = lil_matrix((n_plan, len(all_plan_states)))\n",
    "i=0\n",
    "\n",
    "for p in getFormularyStatesForPlan1(plan_col, ex_id):\n",
    "    i+=1\n",
    "    r_id = ex_id.index(p['_id'])\n",
    "    for s in p['plan_states']:\n",
    "        plan_feature[r_id, all_plan_states.index(s)] = 1\n",
    "        \n",
    "for p in getFormularyStatesForPlan2(plan_col, ex_id):\n",
    "    i+=1\n",
    "    r_id = ex_id.index(p['_id'])\n",
    "    for s in p['plan_states']:\n",
    "        plan_feature[r_id, all_plan_states.index(s)] = 1\n",
    "        \n",
    "for p in getFormularyStatesForPlan3(plan_col, ex_id):\n",
    "    i+=1\n",
    "    r_id = ex_id.index(p['_id'])\n",
    "    for s in p['plan_states']:\n",
    "        plan_feature[r_id, all_plan_states.index(s)] = 1\n",
    "        \n",
    "print '%s: complete for %d plans' %(logTime(), i)\n",
    "\n",
    "print '%s: 3/11 get summary feature for each plan' %logTime()\n",
    "plan_sumstat = [[0]*3]*n_plan\n",
    "i=0\n",
    "for p in getFormularyAggregate(plan_col, ex_id):\n",
    "    i+=1\n",
    "    r_id = ex_id.index(p['plan'])\n",
    "    plan_sumstat[r_id] = [p['avg_copay'],p['avg_ci_rate'],p['count']]\n",
    "print '%s: complete for %d plans' %(logTime(), i)\n",
    "    \n",
    "print '%s: 4/11 get all drugs covered by all plans' %logTime()\n",
    "all_rxnorm = drug_col.find({'plans.plan_id':{'$in':ex_id}}).distinct('rxnorm_id')\n",
    "print '%s: total rx: %d' %(logTime(), len(all_rxnorm))\n",
    "\n",
    "print '%s: 5/11 check drug coverage for each plan' %logTime()\n",
    "drug_coverage = lil_matrix((n_plan, len(all_rxnorm)))\n",
    "i=0\n",
    "for p in getDrugListForPlans(drug_col, ex_id):\n",
    "    i+=1\n",
    "    r_id = ex_id.index(p['plan'])\n",
    "    for r in p['drug']:\n",
    "        drug_coverage[r_id, all_rxnorm.index(r)] = 1\n",
    "print '%s: complete for %d plans' %(logTime(), i)\n",
    "\n",
    "print '%s: 6/11 get summary feature for drug' %logTime()\n",
    "all_drug_states = getDrugAggregateAllStates(drug_col, ex_id)\n",
    "print '%s: total drug states: %d' %(logTime(), len(all_drug_states))\n",
    "\n",
    "print '%s: 7/11 extract drug sumstat for each plan' %logTime()\n",
    "drug_sumstat = lil_matrix((n_plan, len(all_drug_states)))\n",
    "i=0\n",
    "for p in getDrugAggregateCountForPlans(drug_col, ex_id):\n",
    "    i+=1\n",
    "    r_id = ex_id.index(p['plan'])\n",
    "    for d in p['drug_state']:\n",
    "        drug_sumstat[r_id, all_drug_states.index(d['key'])] = d['cnt']\n",
    "print '%s: complete for %d plans' %(logTime(), i)\n",
    "\n",
    "print '%s: 8/11 get provider under the plans' %logTime()\n",
    "all_npi = prov_col.find({'plans.plan_id':{'$in':ex_id}}).distinct('npi')\n",
    "print '%s: total providers: %d' %(logTime(), len(all_npi))\n",
    "\n",
    "print '%s: 9/11 check provider coverage for each plan' %logTime() ##### slow #####\n",
    "provider_coverage = lil_matrix((n_plan, len(all_npi)))\n",
    "i=0\n",
    "for p in getProviderListForPlans(prov_col, ex_id):\n",
    "    i+=1\n",
    "    r_id = ex_id.index(p['plan'])\n",
    "    for npi in p['npi']:\n",
    "        provider_coverage[r_id, all_npi.index(npi)] = 1\n",
    "print '%s: complete for %d plans' %(logTime(), i)\n",
    "\n",
    "print '%s: 10/11 get summary feature for provider' %logTime()\n",
    "all_provider_states = getProviderAllStates(prov_col, ex_id)\n",
    "print '%s: total provider summary: %d' %(logTime(), len(all_provider_states))\n",
    "\n",
    "print '%s: 11/11 extract provider sumstat for each plan' %logTime()\n",
    "provider_sumstat = lil_matrix((n_plan, len(all_provider_states)))\n",
    "for p in getProviderStateForPlans(prov_col, ex_id):\n",
    "    r_id = ex_id.index(p['_id'])\n",
    "    for d in p['plan_states']:\n",
    "        provider_sumstat[r_id, all_provider_states.index(d['key'])] = d['count'] #[d['count'], d['location']]\n",
    "print '%s: complete for %d plans' %(logTime(), i)"
   ]
  },
  {
   "cell_type": "code",
   "execution_count": 48,
   "metadata": {
    "collapsed": false,
    "scrolled": false
   },
   "outputs": [
    {
     "data": {
      "text/plain": [
       "3449"
      ]
     },
     "execution_count": 48,
     "metadata": {},
     "output_type": "execute_result"
    }
   ],
   "source": [
    "# i=0\n",
    "# ids = ex_id\n",
    "# for p in getFormularyStatesForPlan(plan_col, ex_id):\n",
    "#     i+=1\n",
    "#     print p['_id'],len(p['plan_states'])\n",
    "#     ids.remove(p['_id'])\n",
    "    \n",
    "# print i\n",
    "\n",
    "# plan_col.count({'$or':[{'formulary.cost_sharing':{'$exists':True}},{'formulary.costSharing':{'$exists':True}}]})\n",
    "\n",
    "# plan_col.find_one({'plan_id':'33931OH0030004'})['formulary'][3]\n",
    "\n",
    "len(plan_col.find({'formulary.cost_sharing':{'$exists':False}}).distinct('plan_id'))"
   ]
  },
  {
   "cell_type": "code",
   "execution_count": 35,
   "metadata": {
    "collapsed": false,
    "scrolled": true
   },
   "outputs": [
    {
     "data": {
      "text/plain": [
       "[u'61671NC0070001',\n",
       " u'61671NC0070002',\n",
       " u'61671NC0070003',\n",
       " u'61671NC0070004',\n",
       " u'61671NC0070005',\n",
       " u'61671NC0070006',\n",
       " u'61671NC0070007',\n",
       " u'61671NC0070008',\n",
       " u'61671NC0070009',\n",
       " u'61671NC0070010',\n",
       " u'61671NC0070011',\n",
       " u'61671NC0070012',\n",
       " u'61671NC0070013',\n",
       " u'61671NC0070014',\n",
       " u'61671NC0070015',\n",
       " u'61671NC0070016',\n",
       " u'61671NC0070017',\n",
       " u'61671NC0070018',\n",
       " u'61671NC0080001',\n",
       " u'61671NC0080002',\n",
       " u'61671NC0080003',\n",
       " u'61671NC0080007',\n",
       " u'61671NC0080008',\n",
       " u'61671NC0080009',\n",
       " u'61671NC0080011',\n",
       " u'61671NC0080012',\n",
       " u'61671NC0080013',\n",
       " u'11512NC0060017',\n",
       " u'11512NC0060018',\n",
       " u'11512NC0060019',\n",
       " u'11512NC0060020',\n",
       " u'11512NC0060024',\n",
       " u'11512NC0060026',\n",
       " u'11512NC0060027',\n",
       " u'11512NC0060028',\n",
       " u'11512NC0100021',\n",
       " u'11512NC0100022',\n",
       " u'11512NC0100023',\n",
       " u'11512NC0100024',\n",
       " u'11512NC0100028',\n",
       " u'11512NC0100030',\n",
       " u'11512NC0100031',\n",
       " u'11512NC0100032',\n",
       " u'11512NC0100033',\n",
       " u'11512NC0100034',\n",
       " u'11512NC0100035',\n",
       " u'11512NC0100036',\n",
       " u'11512NC0100040',\n",
       " u'11512NC0100042',\n",
       " u'11512NC0100043',\n",
       " u'11512NC0100044',\n",
       " u'11512NC0120001',\n",
       " u'11512NC0120002',\n",
       " u'11512NC0120003',\n",
       " u'11512NC0120004',\n",
       " u'11512NC0140001',\n",
       " u'11512NC0140002',\n",
       " u'11512NC0140003',\n",
       " u'11512NC0140004',\n",
       " u'11512NC0140005',\n",
       " u'11512NC0140006',\n",
       " u'11512NC0170001',\n",
       " u'11512NC0170002',\n",
       " u'11512NC0170003',\n",
       " u'11512NC0170004',\n",
       " u'11512NC0170005',\n",
       " u'11512NC0170006',\n",
       " u'11512NC0020069',\n",
       " u'11512NC0020078',\n",
       " u'11512NC0020105',\n",
       " u'11512NC0040021',\n",
       " u'11512NC0040032',\n",
       " u'11512NC0110013',\n",
       " u'11512NC0110014',\n",
       " u'11512NC0110019',\n",
       " u'11512NC0110020',\n",
       " u'11512NC0110023',\n",
       " u'11512NC0110024',\n",
       " u'11512NC0130055',\n",
       " u'11512NC0130056',\n",
       " u'11512NC0130057',\n",
       " u'11512NC0130058',\n",
       " u'11512NC0130059',\n",
       " u'11512NC0130060',\n",
       " u'11512NC0150001',\n",
       " u'11512NC0150002',\n",
       " u'61671NC0060001',\n",
       " u'61671NC0060002',\n",
       " u'61671NC0060003',\n",
       " u'61671NC0060004',\n",
       " u'61671NC0060005',\n",
       " u'61671NC0060006',\n",
       " u'61671NC0060007',\n",
       " u'61671NC0060008',\n",
       " u'61671NC0060009',\n",
       " u'61671NC0060010',\n",
       " u'61671NC0060011',\n",
       " u'61671NC0060012',\n",
       " u'61671NC0060013',\n",
       " u'61671NC0060014',\n",
       " u'54332NC0030002',\n",
       " u'54332NC0030003',\n",
       " u'54332NC0030004',\n",
       " u'54332NC0030005',\n",
       " u'54332NC0030006',\n",
       " u'54332NC0030007',\n",
       " u'54332NC0030008',\n",
       " u'54332NC0030009',\n",
       " u'54332NC0030010']"
      ]
     },
     "execution_count": 35,
     "metadata": {},
     "output_type": "execute_result"
    }
   ],
   "source": [
    "ex_id"
   ]
  },
  {
   "cell_type": "code",
   "execution_count": 86,
   "metadata": {
    "collapsed": false
   },
   "outputs": [
    {
     "name": "stdout",
     "output_type": "stream",
     "text": [
      "{u'marketing_name': u'Bronze 5', u'network': {u'network_tier': u'PREFERRED'}, u'formulary': {u'drug_tier': u'RETAIL-GENERIC', u'mail_order': False}, u'plan_id_type': u'HIOS-PLAN-ID', u'last_updated_on': u'2015-09-14', u'summary_url': u'http://prominencehealthplan.com/individual-and-family-plans/nevada-health-link-individual-and-family-plans/', u'plan_id': u'37392TX0010001', u'plan_contact': u'http://prominencehealthplan.com/about-prominence-health-plan/contact-prominence-health-plan/', u'_id': ObjectId('577c268486395f67704fe3e0'), u'marketing_url': u'http://prominencehealthplan.com/individual-and-family-plans/nevada-health-link-individual-and-family-plans/'}\n",
      "{u'marketing_name': u'Bronze 5', u'network': {u'network_tier': u'PREFERRED'}, u'formulary': {u'drug_tier': u'RETAIL BRAND', u'mail_order': False}, u'plan_id_type': u'HIOS-PLAN-ID', u'last_updated_on': u'2015-09-14', u'summary_url': u'http://prominencehealthplan.com/individual-and-family-plans/nevada-health-link-individual-and-family-plans/', u'plan_id': u'37392TX0010001', u'plan_contact': u'http://prominencehealthplan.com/about-prominence-health-plan/contact-prominence-health-plan/', u'_id': ObjectId('577c268486395f67704fe3e0'), u'marketing_url': u'http://prominencehealthplan.com/individual-and-family-plans/nevada-health-link-individual-and-family-plans/'}\n",
      "{u'marketing_name': u'Bronze 5', u'network': {u'network_tier': u'PREFERRED'}, u'formulary': {u'drug_tier': u'NON-PREFERRED-RETAI-BRAND', u'mail_order': False}, u'plan_id_type': u'HIOS-PLAN-ID', u'last_updated_on': u'2015-09-14', u'summary_url': u'http://prominencehealthplan.com/individual-and-family-plans/nevada-health-link-individual-and-family-plans/', u'plan_id': u'37392TX0010001', u'plan_contact': u'http://prominencehealthplan.com/about-prominence-health-plan/contact-prominence-health-plan/', u'_id': ObjectId('577c268486395f67704fe3e0'), u'marketing_url': u'http://prominencehealthplan.com/individual-and-family-plans/nevada-health-link-individual-and-family-plans/'}\n"
     ]
    }
   ],
   "source": [
    "i=0\n",
    "cs='cost_sharing'\n",
    "for p in plan_col.aggregate([\n",
    "        {'$match':{'plan_id':{'$in':all_plan}, 'formulary.cost_sharing':{'$exists':False},\n",
    "                  'formulary.costSharing':{'$exists':False}}},\n",
    "        {'$unwind':'$formulary'},\n",
    "        {'$unwind':'$network'},        \n",
    "#         {'$unwind':'$formulary.cost_sharing'}\n",
    "        \n",
    "    ]):    \n",
    "    i+=1\n",
    "    print p #['costSharing']\n",
    "    if i==3:\n",
    "        break\n",
    "    \n",
    "    "
   ]
  },
  {
   "cell_type": "code",
   "execution_count": 78,
   "metadata": {
    "collapsed": false
   },
   "outputs": [
    {
     "name": "stdout",
     "output_type": "stream",
     "text": [
      "{u'count': [3], u'plan_states': [None], u'_id': u'48396ME0940005'}\n",
      "{u'count': [2], u'plan_states': [None], u'_id': u'48396ME0710016'}\n",
      "{u'count': [3], u'plan_states': [None], u'_id': u'48396ME0720031'}\n",
      "{u'count': [2], u'plan_states': [None], u'_id': u'17575IN0700031'}\n",
      "{u'count': [2], u'plan_states': [None], u'_id': u'79475WI0340016'}\n",
      "{u'count': [2], u'plan_states': [None], u'_id': u'79475WI0340014'}\n",
      "{u'count': [3], u'plan_states': [None], u'_id': u'48396ME0720028'}\n",
      "{u'count': [2], u'plan_states': [None], u'_id': u'79475WI0500003'}\n",
      "{u'count': [3], u'plan_states': [None], u'_id': u'48396ME0720036'}\n",
      "{u'count': [3], u'plan_states': [None], u'_id': u'48396ME0720026'}\n",
      "{u'count': [2], u'plan_states': [None], u'_id': u'49046GA0410021'}\n",
      "{u'count': [2], u'plan_states': [None], u'_id': u'48396ME0710015'}\n",
      "{u'count': [2], u'plan_states': [None], u'_id': u'49046GA0410022'}\n",
      "{u'count': [2], u'plan_states': [None], u'_id': u'48396ME0730004'}\n",
      "{u'count': [3], u'plan_states': [None], u'_id': u'48396ME0720024'}\n"
     ]
    }
   ],
   "source": [
    "i=0\n",
    "for p in getFormularyStatesForPlan(plan_col, all_plan, 'costSharing'):\n",
    "    print p\n",
    "    i+=1\n",
    "    if i==15:\n",
    "        break"
   ]
  },
  {
   "cell_type": "code",
   "execution_count": 53,
   "metadata": {
    "collapsed": true
   },
   "outputs": [],
   "source": [
    "# get plan state - combinations of drug_tier/pharmacy_type/copay_opt/coinsurance_opt for one plan\n",
    "def getFormularyStatesForPlan(plan_collection, plans, strCostSharing):\n",
    "    if type(plans) is str:\n",
    "        plans = [plans]\n",
    "    # strCostSharing = 'cost_sharing'\n",
    "    return plan_collection.aggregate(\n",
    "        [\n",
    "            {'$match':{'plan_id':{'$in':plans}, 'formulary.'+strCostSharing:{'$exists':True}}},\n",
    "            {'$unwind':'$formulary'},\n",
    "            {'$unwind':'$formulary.'+strCostSharing}, # cost_sharing'},\n",
    "            {'$unwind':'$network'},\n",
    "            # still use a group stage so the context can collapse into key\n",
    "            {'$group':{\n",
    "                    '_id':{\n",
    "                        'pl':'$plan_id',\n",
    "                        'ti':'$formulary.drug_tier',\n",
    "                        'ph':'$formulary.'+strCostSharing+'.pharmacy_type',\n",
    "                        'cp':'$formulary.'+strCostSharing+'.copay_opt',\n",
    "                        'ci':'$formulary.'+strCostSharing+'.coinsurance_opt',\n",
    "                        'nt':'$network.network_tier',\n",
    "                    },\n",
    "                    'cnt':{'$sum':1},\n",
    "                }\n",
    "            },\n",
    "            {'$project':{\n",
    "                    '_id':0,\n",
    "                    'plan':'$_id.pl',\n",
    "                    'plan_state':{\n",
    "                        '$concat':[\n",
    "                            {'$cond':[{'$or':[{'$eq':['$_id.ti',None]},{'$eq':['$_id.ti','']}]},'NA','$_id.ti']},'|',\n",
    "                            {'$cond':[{'$or':[{'$eq':['$_id.ph',None]},{'$eq':['$_id.ph','']}]},'NA','$_id.ph']},'|',\n",
    "                            {'$cond':[{'$or':[{'$eq':['$_id.cp',None]},{'$eq':['$_id.cp','']}]},'NA','$_id.cp']},'|',\n",
    "                            {'$cond':[{'$or':[{'$eq':['$_id.ci',None]},{'$eq':['$_id.ci','']}]},'NA','$_id.ci']},'|',\n",
    "                            {'$cond':[{'$or':[{'$eq':['$_id.nt',None]},{'$eq':['$_id.nt','']}]},'NA','$_id.nt']},\n",
    "                        ]\n",
    "                    },\n",
    "                    'count':'$cnt',\n",
    "                }\n",
    "            },\n",
    "            {'$group':{'_id':'$plan', 'count':{'$addToSet':'$count'}, 'plan_states':{'$addToSet':'$plan_state'}}},\n",
    "            {'$sort':{'plan':1}}\n",
    "        ]\n",
    "    )\n",
    "\n",
    "# get plan state - unique combinations of drug_tier/pharmacy_type/copay_opt/coinsurance_opt from all plans\n",
    "def getFormularyAllStates(plan_collection, plans):\n",
    "    if type(plans) is str:\n",
    "        plans = [plans]\n",
    "    for p in plan_collection.aggregate(\n",
    "        [\n",
    "            {'$match':{'plan_id':{'$in':plans}}},\n",
    "            {'$unwind':'$formulary'},\n",
    "            {'$unwind':'$formulary.cost_sharing'},\n",
    "            # {'$unwind':'$formulary.costSharing'},\n",
    "            {'$unwind':'$network'},\n",
    "            # group context from all plans\n",
    "            {'$group':{\n",
    "                    '_id':{\n",
    "                        'ti':'$formulary.drug_tier',\n",
    "                        'ph':'$formulary.cost_sharing.pharmacy_type',\n",
    "                        'cp':'$formulary.cost_sharing.copay_opt',\n",
    "                        'ci':'$formulary.cost_sharing.coinsurance_opt',\n",
    "                        'nt':'$network.network_tier',\n",
    "                    },\n",
    "                }\n",
    "            },\n",
    "            {'$project':{\n",
    "                    '_id':0,\n",
    "                    'plan_state':{\n",
    "                        '$concat':[\n",
    "                            {'$cond':[{'$or':[{'$eq':['$_id.ti',None]},{'$eq':['$_id.ti','']}]},'NA','$_id.ti']},'|',\n",
    "                            {'$cond':[{'$or':[{'$eq':['$_id.ph',None]},{'$eq':['$_id.ph','']}]},'NA','$_id.ph']},'|',\n",
    "                            {'$cond':[{'$or':[{'$eq':['$_id.cp',None]},{'$eq':['$_id.cp','']}]},'NA','$_id.cp']},'|',\n",
    "                            {'$cond':[{'$or':[{'$eq':['$_id.ci',None]},{'$eq':['$_id.ci','']}]},'NA','$_id.ci']},'|',\n",
    "                            {'$cond':[{'$or':[{'$eq':['$_id.nt',None]},{'$eq':['$_id.nt','']}]},'NA','$_id.nt']},\n",
    "                        ]\n",
    "                    },\n",
    "                }\n",
    "            },\n",
    "            {'$group':{'_id':None, 'count':{'$addToSet':'$count'}, 'all_states':{'$addToSet':'$plan_state'}}},\n",
    "        ]\n",
    "    ):\n",
    "        states = p['all_states']\n",
    "    return states\n",
    "\n",
    "\n",
    "# get the mean value of copay_amout and coinsurance_rate (over all tier/pharmacy/copay/coinsurance options) for a plan\n",
    "def getFormularyAggregate(plan_collection, plans):\n",
    "    if type(plans) is str:\n",
    "        plans = [plans]\n",
    "    return plan_collection.aggregate(\n",
    "        [\n",
    "            {'$match':{'plan_id':{'$in':plans}}},\n",
    "            {'$unwind':'$formulary'},\n",
    "            {'$unwind':'$formulary.cost_sharing'},\n",
    "            {'$group':{\n",
    "                '_id':{'plan':'$plan_id'},\n",
    "                'a_cp':{'$avg':'$formulary.cost_sharing.copay_amount'},\n",
    "                'a_in':{'$avg':'$formulary.cost_sharing.coinsurance_rate'},\n",
    "                'cnt':{'$sum':1},\n",
    "                }\n",
    "            },\n",
    "            {'$project':{\n",
    "                '_id':0,\n",
    "                'plan':'$_id.plan',\n",
    "                'avg_copay':'$a_cp',\n",
    "                'avg_ci_rate':'$a_in',\n",
    "                'count':'$cnt',\n",
    "                }\n",
    "            },\n",
    "            {'$sort':{'plan':1}}\n",
    "        ]\n",
    "    )\n"
   ]
  },
  {
   "cell_type": "markdown",
   "metadata": {},
   "source": [
    "###sparse matrix manual mode"
   ]
  },
  {
   "cell_type": "code",
   "execution_count": 63,
   "metadata": {
    "collapsed": false
   },
   "outputs": [
    {
     "data": {
      "text/plain": [
       "<3x18 sparse matrix of type '<type 'numpy.float64'>'\n",
       "\twith 1 stored elements in LInked List format>"
      ]
     },
     "execution_count": 63,
     "metadata": {},
     "output_type": "execute_result"
    }
   ],
   "source": [
    "# initialize as lil\n",
    "# test = lil_matrix((3,18))\n",
    "# test[2,5] = 3.14\n",
    "test"
   ]
  },
  {
   "cell_type": "code",
   "execution_count": 59,
   "metadata": {
    "collapsed": true
   },
   "outputs": [],
   "source": [
    "# convert to csr\n",
    "t2=csr_matrix(test)"
   ]
  },
  {
   "cell_type": "code",
   "execution_count": 11,
   "metadata": {
    "collapsed": false
   },
   "outputs": [
    {
     "name": "stdout",
     "output_type": "stream",
     "text": [
      "Once deleted, variables cannot be recovered. Proceed (y/[n])? y\n"
     ]
    }
   ],
   "source": [
    "client.close()\n",
    "%reset"
   ]
  }
 ],
 "metadata": {
  "kernelspec": {
   "display_name": "Python 2",
   "language": "python",
   "name": "python2"
  },
  "language_info": {
   "codemirror_mode": {
    "name": "ipython",
    "version": 2
   },
   "file_extension": ".py",
   "mimetype": "text/x-python",
   "name": "python",
   "nbconvert_exporter": "python",
   "pygments_lexer": "ipython2",
   "version": "2.7.9"
  }
 },
 "nbformat": 4,
 "nbformat_minor": 0
}
