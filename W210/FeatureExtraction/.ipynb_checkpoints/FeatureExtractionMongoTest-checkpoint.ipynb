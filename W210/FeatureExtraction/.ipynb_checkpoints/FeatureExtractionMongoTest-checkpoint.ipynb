{
 "cells": [
  {
   "cell_type": "code",
   "execution_count": 12,
   "metadata": {
    "collapsed": true
   },
   "outputs": [],
   "source": [
    "from sklearn.preprocessing import OneHotEncoder\n",
    "from pymongo import MongoClient\n",
    "from zipfile import ZipFile, ZIP_DEFLATED\n",
    "from sets import Set\n",
    "import numpy as np\n",
    "import json, sys, os, time, re, datetime\n",
    "\n",
    "def logTime():\n",
    "    return str(datetime.datetime.now())"
   ]
  },
  {
   "cell_type": "code",
   "execution_count": 13,
   "metadata": {
    "collapsed": true
   },
   "outputs": [],
   "source": [
    "%reload_ext autoreload\n",
    "%autoreload 2\n",
    "from aca_drug_feature import *\n",
    "from aca_plan_feature import *\n",
    "from aca_provider_feature import *"
   ]
  },
  {
   "cell_type": "code",
   "execution_count": 14,
   "metadata": {
    "collapsed": false
   },
   "outputs": [
    {
     "name": "stdout",
     "output_type": "stream",
     "text": [
      "Using aws Mongo, total drug: 46206, total plan: 6035\n"
     ]
    }
   ],
   "source": [
    "local = False\n",
    "if local:\n",
    "    client = MongoClient('fc8iasm01', 27017)\n",
    "    plan_col = client.aca.plan\n",
    "    drug_col = client.aca.drug\n",
    "else:\n",
    "    client = MongoClient('ec2-54-153-83-172.us-west-1.compute.amazonaws.com', 27017)\n",
    "    plan_col = client.plans.plans\n",
    "    drug_col = client.formularies.drugs\n",
    "    prov_col = client.providers.providers\n",
    "    faci_col = client.providers.facilities\n",
    "\n",
    "all_plan = drug_col.distinct('plans.plan_id')\n",
    "all_drug = drug_col.distinct('rxnorm_id')\n",
    "\n",
    "print 'Using %s Mongo, total drug: %d, total plan: %d' %('local' if local else 'aws', len(all_drug), len(all_plan))\n",
    "# client.formularies.scollection_names()\n",
    "# client.providers.collection_names()"
   ]
  },
  {
   "cell_type": "code",
   "execution_count": 15,
   "metadata": {
    "collapsed": false
   },
   "outputs": [
    {
     "name": "stdout",
     "output_type": "stream",
     "text": [
      "2016-07-08 23:08:27.667732: plan document: 12136\n",
      "2016-07-08 23:08:27.797582: drug document: 1540473\n",
      "2016-07-08 23:08:27.911088: unique plan_id: 6035\n",
      "2016-07-08 23:08:27.911235: unique rxnorm_id: 46206\n",
      "2016-07-08 23:08:27.914224: states in the plan: AK, AL, AR, AZ, CO, DE, FL, GA, HI, IA, IL, IN, KS, KY, LA, MA, ME, MI, MN, MO, MS, MT, NC, ND, NE, NH, NJ, NM, NV, OH, OK, OR, PA, SC, SD, TN, TX, UT, VA, WA, WI, WV, WY\n",
      "2016-07-08 23:08:27.916281: processing 20 plans for AK\n"
     ]
    }
   ],
   "source": [
    "print '%s: plan document: %d' %(logTime(), plan_col.count())\n",
    "print '%s: drug document: %d' %(logTime(), drug_col.count())\n",
    "print '%s: unique plan_id: %d' %(logTime(), len(all_plan))\n",
    "print '%s: unique rxnorm_id: %d' %(logTime(), len(all_drug))\n",
    "\n",
    "# multi_plan = [1 for p in plan_col.aggregate([{\"$group\": {\"_id\":\"$plan_id\", \"count\":{\"$sum\":1}}}]) if p['count']>1]\n",
    "# print '%s: plans with multiple documents: %d' %(logTime(), sum(multi_plan))\n",
    "\n",
    "# multi_drug = [1 for p in drug_col.aggregate([{\"$group\": {\"_id\":\"$rxnorm_id\", \"count\":{\"$sum\":1}}}]) if p['count']>1]\n",
    "# print '%s: drugs with multiple documents: %d' %(logTime(), sum(multi_drug))\n",
    "\n",
    "state_id = np.unique([i[5:7] for i in all_plan])\n",
    "print '%s: states in the plan: %s' %(logTime(), ', '.join(state_id))"
   ]
  },
  {
   "cell_type": "code",
   "execution_count": 20,
   "metadata": {
    "collapsed": false
   },
   "outputs": [
    {
     "name": "stdout",
     "output_type": "stream",
     "text": [
      "2016-07-08 23:15:18.092371: processing 190 plans for OR\n"
     ]
    }
   ],
   "source": [
    "state = 'OR' # set to None to include all (very slow process for all)\n",
    "ex_id = all_plan if not state else [i for i in all_plan if state in i]\n",
    "print '%s: processing %d plans for %s' %(logTime(), len(ex_id), 'all' if not state else state)"
   ]
  },
  {
   "cell_type": "markdown",
   "metadata": {
    "collapsed": false
   },
   "source": [
    "###Main program"
   ]
  },
  {
   "cell_type": "code",
   "execution_count": null,
   "metadata": {
    "collapsed": false
   },
   "outputs": [
    {
     "name": "stdout",
     "output_type": "stream",
     "text": [
      "2016-07-08 23:15:25.746746: get formulary state space for all plans\n",
      "2016-07-08 23:15:25.981393: extract formulary states for each plan\n",
      "2016-07-08 23:15:26.249072: get summary feature for each plan\n",
      "2016-07-08 23:15:26.415742: get all drugs covered by all plans\n",
      "2016-07-08 23:17:36.315615: check drug coverage for each plan\n",
      "2016-07-08 23:21:53.579294: get summary feature for drug\n",
      "2016-07-08 23:22:52.562991: extract drug sumstat for each plan\n",
      "2016-07-08 23:23:41.758832: get provider states\n",
      "2016-07-08 23:24:28.504206: check provider coverage for each plan"
     ]
    }
   ],
   "source": [
    "print '%s: get formulary state space for all plans' %logTime()\n",
    "all_plan_states = getFormularyAllStates(plan_col, ex_id) \n",
    "\n",
    "print '%s: extract formulary states for each plan' %logTime()\n",
    "plan_feature = {p['_id']:[s in p['plan_states'] for s in all_plan_states] \n",
    "                for p in getFormularyStatesForPlan(plan_col, ex_id)}\n",
    "\n",
    "print '%s: get summary feature for each plan' %logTime()\n",
    "plan_sumstat = {p['plan']:[p['avg_copay'],p['avg_ci_rate'],p['count']] \n",
    "                for p in getFormularyAggregate(plan_col, ex_id)}\n",
    "\n",
    "print '%s: get all drugs covered by all plans' %logTime()\n",
    "all_rxnorm = drug_col.find({'plans.plan_id':{'$in':ex_id}}).distinct('rxnorm_id')\n",
    "\n",
    "print '%s: check drug coverage for each plan' %logTime()\n",
    "drug_coverage = {p['plan']:[rx in p['drug'] for rx in all_rxnorm] \n",
    "                 for p in getDrugListForPlans(drug_col, ex_id)}\n",
    "\n",
    "print '%s: get summary feature for drug' %logTime()\n",
    "all_drug_states = getDrugAggregateAllStates(drug_col, ex_id)\n",
    "\n",
    "print '%s: extract drug sumstat for each plan' %logTime()\n",
    "drug_sumstat = {}\n",
    "for p in getDrugAggregateCountForPlans(drug_col, ex_id):\n",
    "    state_count = [0]*len(all_drug_states)\n",
    "    for d in p['drug_state']:\n",
    "        state_count[all_drug_states.index(d['key'])] = d['cnt']\n",
    "    drug_sumstat[p['plan']] = state_count\n",
    "\n",
    "print '%s: get provider states' %logTime()\n",
    "all_npi = prov_col.find({'plans.plan_id':{'$in':ex_id}}).distinct('npi')\n",
    "\n",
    "print '%s: check provider coverage for each plan' %logTime()\n",
    "provider_coverage = {p['plan']:[npi in p['npi'] for npi in all_npi] \n",
    "                     for p in getProviderListForPlans(prov_col, ex_id)}\n",
    "\n",
    "print '%s: get summary feature for provider' %logTime()\n",
    "all_provider_states = getProviderAllStates(prov_col, ex_id)\n",
    "\n",
    "print '%s: extract provider sumstat for each plan' %logTime()\n",
    "provider_sumstat = {}\n",
    "for p in getProviderStateForPlans(drug_col, ex_id):\n",
    "    p_count = [None]*len(all_provider_states)\n",
    "    for d in p['plan_states']:\n",
    "        p_count[all_provider_states.index(d['key'])] = [d['count'], d['location']]\n",
    "    provider_sumstat[p['_id']] = [y for x in p_count for y in x]"
   ]
  },
  {
   "cell_type": "code",
   "execution_count": 17,
   "metadata": {
    "collapsed": false,
    "scrolled": false
   },
   "outputs": [],
   "source": [
    "def getDrugListForPlans(drug_collection, plans):\n",
    "    '''get rxnorm_id list for a group of plans'''\n",
    "    return drug_collection.aggregate(\n",
    "        [\n",
    "            {'$match':{'plans.plan_id':{'$in':plans}}},\n",
    "            {'$unwind':'$plans'},\n",
    "            {'$match':{'plans.plan_id':{'$in':plans}}},\n",
    "            {'$group':{'_id':'$plans.plan_id', 'drugs': {'$addToSet':'$rxnorm_id'}}},\n",
    "            {'$project':{'plan':'$_id', 'drug':'$drugs', '_id':0 }},\n",
    "        ]\n",
    "    )\n"
   ]
  },
  {
   "cell_type": "code",
   "execution_count": 19,
   "metadata": {
    "collapsed": false,
    "scrolled": false
   },
   "outputs": [
    {
     "name": "stdout",
     "output_type": "stream",
     "text": [
      "38344AK0570001 556\n",
      "38344AK0980006 556\n",
      "38344AK0620004 556\n",
      "38344AK0620003 556\n",
      "73836AK0850002 79\n",
      "38344AK0620006 556\n",
      "38344AK0980003 556\n",
      "73836AK0790001 79\n",
      "73836AK0860001 87\n",
      "73836AK0790002 87\n",
      "73836AK0750003 79\n",
      "73836AK0750001 79\n",
      "73836AK0860002 79\n",
      "38344AK0570002 556\n",
      "73836AK0750002 87\n",
      "73836AK0840001 87\n",
      "38344AK0980012 556\n",
      "73836AK0850001 87\n",
      "38344AK0620008 556\n",
      "73836AK0750004 87\n"
     ]
    }
   ],
   "source": [
    "for p in getProviderStateForPlans(prov_col, ex_id):\n",
    "    print p['_id'],len(p['plan_states'])\n",
    "\n"
   ]
  },
  {
   "cell_type": "code",
   "execution_count": 24,
   "metadata": {
    "collapsed": false
   },
   "outputs": [
    {
     "data": {
      "text/plain": [
       "{u'_id': ObjectId('577606dcc421d272dcd7deaa'),\n",
       " u'accepting': u'accepting',\n",
       " u'addresses': [{u'address': u'2235 DUBOIS DR',\n",
       "   u'address_2': u'',\n",
       "   u'city': u'WARSAW',\n",
       "   u'phone': u'2604232567',\n",
       "   u'state': u'IN',\n",
       "   u'zip': u'46580'}],\n",
       " u'facility_name': u'',\n",
       " u'facility_type': [],\n",
       " u'gender': u'Male',\n",
       " u'languages': [u'SPANISH'],\n",
       " u'last_updated_on': u'2016-06-18',\n",
       " u'name': {u'first': u'ALAN R', u'last': u'GILBERT MD'},\n",
       " u'npi': u'1215961677',\n",
       " u'plans': [{u'network_tier': u'PHP-SELECT',\n",
       "   u'plan_id': u'50816IN0200001',\n",
       "   u'plan_id_type': u'HIOS-PLAN-ID'},\n",
       "  {u'network_tier': u'PHP-SELECT',\n",
       "   u'plan_id': u'50816IN0200004',\n",
       "   u'plan_id_type': u'HIOS-PLAN-ID'},\n",
       "  {u'network_tier': u'PHP-SELECT',\n",
       "   u'plan_id': u'50816IN0200007',\n",
       "   u'plan_id_type': u'HIOS-PLAN-ID'},\n",
       "  {u'network_tier': u'PHP-SELECT',\n",
       "   u'plan_id': u'50816IN0200010',\n",
       "   u'plan_id_type': u'HIOS-PLAN-ID'},\n",
       "  {u'network_tier': u'PHP-SELECT',\n",
       "   u'plan_id': u'50816IN0200013',\n",
       "   u'plan_id_type': u'HIOS-PLAN-ID'},\n",
       "  {u'network_tier': u'PHP-SELECT',\n",
       "   u'plan_id': u'50816IN0200016',\n",
       "   u'plan_id_type': u'HIOS-PLAN-ID'},\n",
       "  {u'network_tier': u'PHP-SELECT',\n",
       "   u'plan_id': u'50816IN0200022',\n",
       "   u'plan_id_type': u'HIOS-PLAN-ID'},\n",
       "  {u'network_tier': u'PHP-SELECT',\n",
       "   u'plan_id': u'50816IN0200025',\n",
       "   u'plan_id_type': u'HIOS-PLAN-ID'},\n",
       "  {u'network_tier': u'PHP-SELECT',\n",
       "   u'plan_id': u'50816IN0230002',\n",
       "   u'plan_id_type': u'HIOS-PLAN-ID'},\n",
       "  {u'network_tier': u'PHP-SELECT',\n",
       "   u'plan_id': u'50816IN0230004',\n",
       "   u'plan_id_type': u'HIOS-PLAN-ID'},\n",
       "  {u'network_tier': u'PHP-SELECT',\n",
       "   u'plan_id': u'50816IN0230006',\n",
       "   u'plan_id_type': u'HIOS-PLAN-ID'},\n",
       "  {u'network_tier': u'PHP-SELECT',\n",
       "   u'plan_id': u'50816IN0230008',\n",
       "   u'plan_id_type': u'HIOS-PLAN-ID'},\n",
       "  {u'network_tier': u'PHP-SELECT',\n",
       "   u'plan_id': u'50816IN0230010',\n",
       "   u'plan_id_type': u'HIOS-PLAN-ID'},\n",
       "  {u'network_tier': u'PHP-SELECT',\n",
       "   u'plan_id': u'50816IN0230012',\n",
       "   u'plan_id_type': u'HIOS-PLAN-ID'}],\n",
       " u'speciality': [u'DERMATOLOGY'],\n",
       " u'type': u'INDIVIDUAL'}"
      ]
     },
     "execution_count": 24,
     "metadata": {},
     "output_type": "execute_result"
    }
   ],
   "source": [
    "# prov_col.count()\n",
    "prov_col.find_one({'facility_name':{'$exists':True}})"
   ]
  },
  {
   "cell_type": "code",
   "execution_count": 27,
   "metadata": {
    "collapsed": false
   },
   "outputs": [
    {
     "data": {
      "text/plain": [
       "{u'_id': ObjectId('5775ff89c421d272dcd6877c'),\n",
       " u'addresses': [{u'address': u'4909 W DIVISION',\n",
       "   u'address_2': u'',\n",
       "   u'city': u'CHICAGO',\n",
       "   u'phone': u'7732871200',\n",
       "   u'state': u'IL',\n",
       "   u'zip': u'60651'}],\n",
       " u'facility_name': u'RISHI PHARMACY INC',\n",
       " u'facility_type': [u'Pharmacy'],\n",
       " u'last_updated_on': u'2015-09-30',\n",
       " u'npi': u'1316955651',\n",
       " u'plans': [{u'name': u'Health Republic Full Access Core Platinum',\n",
       "   u'network_tier': u'PREFERRED',\n",
       "   u'plan_id': u'10191NJ0050003',\n",
       "   u'plan_id_type': u'HIOS-PLAN-ID'},\n",
       "  {u'name': u'Health Republic Full Access Core Gold',\n",
       "   u'network_tier': u'PREFERRED',\n",
       "   u'plan_id': u'10191NJ0050002',\n",
       "   u'plan_id_type': u'HIOS-PLAN-ID'},\n",
       "  {u'name': u'Health Republic Full Access Core Silver',\n",
       "   u'network_tier': u'PREFERRED',\n",
       "   u'plan_id': u'10191NJ0050001',\n",
       "   u'plan_id_type': u'HIOS-PLAN-ID'},\n",
       "  {u'name': u'Health Republic Monmouth County Community Plan Bronze',\n",
       "   u'network_tier': u'PREFERRED',\n",
       "   u'plan_id': u'10191NJ0180001',\n",
       "   u'plan_id_type': u'HIOS-PLAN-ID'},\n",
       "  {u'name': u'Health Republic Full Access Prime Silver',\n",
       "   u'network_tier': u'PREFERRED',\n",
       "   u'plan_id': u'10191NJ0030002',\n",
       "   u'plan_id_type': u'HIOS-PLAN-ID'},\n",
       "  {u'name': u'Health Republic Full Access Prime Bronze',\n",
       "   u'network_tier': u'PREFERRED',\n",
       "   u'plan_id': u'10191NJ0030001',\n",
       "   u'plan_id_type': u'HIOS-PLAN-ID'},\n",
       "  {u'name': u'Health Republic Full Access Pure Platinum',\n",
       "   u'network_tier': u'PREFERRED',\n",
       "   u'plan_id': u'10191NJ0290004',\n",
       "   u'plan_id_type': u'HIOS-PLAN-ID'},\n",
       "  {u'name': u'Health Republic Full Access Pure Gold',\n",
       "   u'network_tier': u'PREFERRED',\n",
       "   u'plan_id': u'10191NJ0290003',\n",
       "   u'plan_id_type': u'HIOS-PLAN-ID'},\n",
       "  {u'name': u'Health Republic Full Access Pure Silver',\n",
       "   u'network_tier': u'PREFERRED',\n",
       "   u'plan_id': u'10191NJ0290002',\n",
       "   u'plan_id_type': u'HIOS-PLAN-ID'},\n",
       "  {u'name': u'Health Republic Full Access Pure Bronze',\n",
       "   u'network_tier': u'PREFERRED',\n",
       "   u'plan_id': u'10191NJ0290001',\n",
       "   u'plan_id_type': u'HIOS-PLAN-ID'},\n",
       "  {u'name': u'Health Republic Full Access Solid Gold',\n",
       "   u'network_tier': u'PREFERRED',\n",
       "   u'plan_id': u'10191NJ0070003',\n",
       "   u'plan_id_type': u'HIOS-PLAN-ID'},\n",
       "  {u'name': u'Health Republic Full Access Solid Silver',\n",
       "   u'network_tier': u'PREFERRED',\n",
       "   u'plan_id': u'10191NJ0070002',\n",
       "   u'plan_id_type': u'HIOS-PLAN-ID'},\n",
       "  {u'name': u'Health Republic Full Access Solid Bronze',\n",
       "   u'network_tier': u'PREFERRED',\n",
       "   u'plan_id': u'10191NJ0070001',\n",
       "   u'plan_id_type': u'HIOS-PLAN-ID'},\n",
       "  {u'name': u'Health Republic Active Access Spotlight Platinum',\n",
       "   u'network_tier': u'PREFERRED',\n",
       "   u'plan_id': u'10191NJ0190004',\n",
       "   u'plan_id_type': u'HIOS-PLAN-ID'},\n",
       "  {u'name': u'Health Republic Active Access Spotlight Silver',\n",
       "   u'network_tier': u'PREFERRED',\n",
       "   u'plan_id': u'10191NJ0190002',\n",
       "   u'plan_id_type': u'HIOS-PLAN-ID'},\n",
       "  {u'name': u'Health Republic Active Access Spotlight Bronze',\n",
       "   u'network_tier': u'PREFERRED',\n",
       "   u'plan_id': u'10191NJ0190001',\n",
       "   u'plan_id_type': u'HIOS-PLAN-ID'},\n",
       "  {u'name': u'Health Republic Vital',\n",
       "   u'network_tier': u'PREFERRED',\n",
       "   u'plan_id': u'10191NJ0150001',\n",
       "   u'plan_id_type': u'HIOS-PLAN-ID'}],\n",
       " u'type': u'FACILITY'}"
      ]
     },
     "execution_count": 27,
     "metadata": {},
     "output_type": "execute_result"
    }
   ],
   "source": [
    "faci_col.find_one() #{'npi':'1215961677'})"
   ]
  },
  {
   "cell_type": "code",
   "execution_count": 11,
   "metadata": {
    "collapsed": false
   },
   "outputs": [
    {
     "name": "stdout",
     "output_type": "stream",
     "text": [
      "Once deleted, variables cannot be recovered. Proceed (y/[n])? y\n"
     ]
    }
   ],
   "source": [
    "client.close()\n",
    "%reset"
   ]
  }
 ],
 "metadata": {
  "kernelspec": {
   "display_name": "Python 2",
   "language": "python",
   "name": "python2"
  },
  "language_info": {
   "codemirror_mode": {
    "name": "ipython",
    "version": 2
   },
   "file_extension": ".py",
   "mimetype": "text/x-python",
   "name": "python",
   "nbconvert_exporter": "python",
   "pygments_lexer": "ipython2",
   "version": "2.7.9"
  }
 },
 "nbformat": 4,
 "nbformat_minor": 0
}
