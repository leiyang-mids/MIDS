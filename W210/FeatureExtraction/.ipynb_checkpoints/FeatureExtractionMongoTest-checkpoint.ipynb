{
 "cells": [
  {
   "cell_type": "code",
   "execution_count": 1,
   "metadata": {
    "collapsed": true
   },
   "outputs": [],
   "source": [
    "from sklearn.preprocessing import OneHotEncoder\n",
    "from pymongo import MongoClient\n",
    "from sets import Set\n",
    "import numpy as np\n",
    "import json"
   ]
  },
  {
   "cell_type": "code",
   "execution_count": 2,
   "metadata": {
    "collapsed": false
   },
   "outputs": [],
   "source": [
    "# prov = json.load(open('providers-OR.json'))\n",
    "client = MongoClient('fc8iasm01', 27017)\n",
    "prov_col = client.aca.prov\n",
    "drug_col = client.aca.drug\n",
    "plan_col = client.aca.plan"
   ]
  },
  {
   "cell_type": "code",
   "execution_count": 64,
   "metadata": {
    "collapsed": false,
    "scrolled": false
   },
   "outputs": [],
   "source": [
    "# build \n",
    "def getProviderUniqueAttr(provider_col, attr, all_plan_id):\n",
    "    return provider_col.find({'plans.plan_id':{'$in':all_plan_id}}).distinct(attr)\n",
    "\n",
    "def getProviderAttrCount(provider_col, plan_id, attr, all_attr):    \n",
    "    attr_count = [0]*len(all_attr)\n",
    "    for at in provider_col.aggregate(\n",
    "        [\n",
    "            {'$match':{'plans.plan_id':plan_id}},\n",
    "            {'$group':{'_id':'$'+attr, 'cnt':{'$sum':1}}},\n",
    "            {'$project':{attr:'$_id', 'count':'$cnt', '_id':0}}   \n",
    "        ]\n",
    "    ):\n",
    "#         print at\n",
    "        k = '' if not at[attr] else (at[attr][0] if type(at[attr]) is list else at[attr])\n",
    "        if k in all_attr:\n",
    "            attr_count[all_attr.index(k)] = at['count']        \n",
    "    return attr_count\n",
    "\n"
   ]
  },
  {
   "cell_type": "code",
   "execution_count": 42,
   "metadata": {
    "collapsed": false
   },
   "outputs": [
    {
     "name": "stdout",
     "output_type": "stream",
     "text": [
      "{u'tier': u'MEDICAL-SERVICE-DRUGS', u'count': 1, u'pid': u'39424OR1240001'}\n",
      "{u'tier': u'BRAND', u'count': 2411, u'pid': u'39424OR1240001'}\n",
      "{u'tier': u'SPECIALTY', u'count': 765, u'pid': u'39424OR1480003'}\n",
      "{u'tier': u'VALUE', u'count': 126, u'pid': u'39424OR1480003'}\n",
      "{u'tier': u'BRAND', u'count': 2411, u'pid': u'39424OR1480003'}\n",
      "{u'tier': u'SELECT', u'count': 3668, u'pid': u'39424OR1240001'}\n",
      "{u'tier': u'MEDICAL-SERVICE-DRUGS', u'count': 1, u'pid': u'39424OR1480003'}\n",
      "{u'tier': u'SPECIALTY', u'count': 765, u'pid': u'39424OR1240001'}\n",
      "{u'tier': u'SELECT', u'count': 3668, u'pid': u'39424OR1480003'}\n",
      "{u'tier': u'PREFERRED', u'count': 1780, u'pid': u'39424OR1240001'}\n",
      "{u'tier': u'PREVENTIVE', u'count': 284, u'pid': u'39424OR1240001'}\n",
      "{u'tier': u'PREVENTIVE', u'count': 284, u'pid': u'39424OR1480003'}\n",
      "{u'tier': u'PREFERRED', u'count': 1780, u'pid': u'39424OR1480003'}\n",
      "{u'tier': u'VALUE', u'count': 126, u'pid': u'39424OR1240001'}\n",
      "total: 14\n"
     ]
    }
   ],
   "source": [
    "i=0\n",
    "# q1=drug_col.find({'plans.plan_id':'39424OR1240001'},{'plans':{'$elemMatch':{'plan_id':'39424OR1240001'}}})\n",
    "for d in drug_col.aggregate(\n",
    "    [\n",
    "           \n",
    "        {'$unwind':'$plans'},\n",
    "        {'$match':{'plans.plan_id':{'$in':['39424OR1240001','39424OR1480003']}}},     \n",
    "        {'$group':{'_id':{'plan':'$plans.plan_id', 'tier':'$plans.drug_tier'}, 'cnt':{'$sum':1}}},\n",
    "        {'$project':{'pid':'$_id.plan', 'tier':'$_id.tier', 'count':'$cnt', '_id':0}}\n",
    "    ]\n",
    "):\n",
    "    i+=1    \n",
    "    if i<25:\n",
    "        print d\n",
    "        \n",
    "print 'total:',i"
   ]
  },
  {
   "cell_type": "code",
   "execution_count": 35,
   "metadata": {
    "collapsed": false
   },
   "outputs": [
    {
     "data": {
      "text/plain": [
       "765"
      ]
     },
     "execution_count": 35,
     "metadata": {},
     "output_type": "execute_result"
    }
   ],
   "source": [
    "drug_col.count({'plans.plan_id':'39424OR1480003', 'plans.drug_tier':'SPECIALTY'})"
   ]
  },
  {
   "cell_type": "code",
   "execution_count": 52,
   "metadata": {
    "collapsed": false
   },
   "outputs": [
    {
     "data": {
      "text/plain": [
       "{u'_id': ObjectId('577c0849b4ba2ce5d2b94001'),\n",
       " u'accepting': u'accepting',\n",
       " u'addresses': [{u'address': u'1201 E 36th Ave',\n",
       "   u'address_2': u'',\n",
       "   u'city': u'Anchorage',\n",
       "   u'phone': u'9075656500',\n",
       "   u'state': u'AK',\n",
       "   u'zip': u'99508'}],\n",
       " u'languages': [u'English'],\n",
       " u'last_updated_on': u'2016-05-18',\n",
       " u'name': {u'first': u'Amy',\n",
       "  u'last': u'Hoger',\n",
       "  u'middle': u'L',\n",
       "  u'suffix': u'PAC'},\n",
       " u'npi': u'1003029950',\n",
       " u'plans': [{u'network_tier': u'PREFERRED',\n",
       "   u'plan_id': u'73836AK0750001',\n",
       "   u'plan_id_type': u'HIOS-PLAN-ID'},\n",
       "  {u'network_tier': u'PREFERRED',\n",
       "   u'plan_id': u'73836AK0850002',\n",
       "   u'plan_id_type': u'HIOS-PLAN-ID'},\n",
       "  {u'network_tier': u'PREFERRED',\n",
       "   u'plan_id': u'73836AK0750004',\n",
       "   u'plan_id_type': u'HIOS-PLAN-ID'},\n",
       "  {u'network_tier': u'PREFERRED',\n",
       "   u'plan_id': u'73836AK0850001',\n",
       "   u'plan_id_type': u'HIOS-PLAN-ID'},\n",
       "  {u'network_tier': u'PREFERRED',\n",
       "   u'plan_id': u'73836AK0790001',\n",
       "   u'plan_id_type': u'HIOS-PLAN-ID'},\n",
       "  {u'network_tier': u'PREFERRED',\n",
       "   u'plan_id': u'73836AK0750002',\n",
       "   u'plan_id_type': u'HIOS-PLAN-ID'},\n",
       "  {u'network_tier': u'PREFERRED',\n",
       "   u'plan_id': u'73836AK0750003',\n",
       "   u'plan_id_type': u'HIOS-PLAN-ID'},\n",
       "  {u'network_tier': u'PREFERRED',\n",
       "   u'plan_id': u'73836AK0840001',\n",
       "   u'plan_id_type': u'HIOS-PLAN-ID'},\n",
       "  {u'network_tier': u'PREFERRED',\n",
       "   u'plan_id': u'73836AK0860002',\n",
       "   u'plan_id_type': u'HIOS-PLAN-ID'},\n",
       "  {u'network_tier': u'PREFERRED',\n",
       "   u'plan_id': u'73836AK0790002',\n",
       "   u'plan_id_type': u'HIOS-PLAN-ID'},\n",
       "  {u'network_tier': u'PREFERRED',\n",
       "   u'plan_id': u'73836AK0860001',\n",
       "   u'plan_id_type': u'HIOS-PLAN-ID'}],\n",
       " u'speciality': [u'Physicians Assistant'],\n",
       " u'type': u'INDIVIDUAL'}"
      ]
     },
     "execution_count": 52,
     "metadata": {},
     "output_type": "execute_result"
    }
   ],
   "source": [
    "prov_col.find_one({'plans.plan_id':'73836AK0750002'})"
   ]
  },
  {
   "cell_type": "code",
   "execution_count": 22,
   "metadata": {
    "collapsed": false
   },
   "outputs": [
    {
     "data": {
      "text/plain": [
       "{u'_id': ObjectId('577c0849b4ba2ce5d2b94001'),\n",
       " u'accepting': u'accepting',\n",
       " u'addresses': [{u'address': u'1201 E 36th Ave',\n",
       "   u'address_2': u'',\n",
       "   u'city': u'Anchorage',\n",
       "   u'phone': u'9075656500',\n",
       "   u'state': u'AK',\n",
       "   u'zip': u'99508'}],\n",
       " u'languages': [u'English'],\n",
       " u'last_updated_on': u'2016-05-18',\n",
       " u'name': {u'first': u'Amy',\n",
       "  u'last': u'Hoger',\n",
       "  u'middle': u'L',\n",
       "  u'suffix': u'PAC'},\n",
       " u'npi': u'1003029950',\n",
       " u'plans': [{u'network_tier': u'PREFERRED',\n",
       "   u'plan_id': u'73836AK0750001',\n",
       "   u'plan_id_type': u'HIOS-PLAN-ID'},\n",
       "  {u'network_tier': u'PREFERRED',\n",
       "   u'plan_id': u'73836AK0850002',\n",
       "   u'plan_id_type': u'HIOS-PLAN-ID'},\n",
       "  {u'network_tier': u'PREFERRED',\n",
       "   u'plan_id': u'73836AK0750004',\n",
       "   u'plan_id_type': u'HIOS-PLAN-ID'},\n",
       "  {u'network_tier': u'PREFERRED',\n",
       "   u'plan_id': u'73836AK0850001',\n",
       "   u'plan_id_type': u'HIOS-PLAN-ID'},\n",
       "  {u'network_tier': u'PREFERRED',\n",
       "   u'plan_id': u'73836AK0790001',\n",
       "   u'plan_id_type': u'HIOS-PLAN-ID'},\n",
       "  {u'network_tier': u'PREFERRED',\n",
       "   u'plan_id': u'73836AK0750002',\n",
       "   u'plan_id_type': u'HIOS-PLAN-ID'},\n",
       "  {u'network_tier': u'PREFERRED',\n",
       "   u'plan_id': u'73836AK0750003',\n",
       "   u'plan_id_type': u'HIOS-PLAN-ID'},\n",
       "  {u'network_tier': u'PREFERRED',\n",
       "   u'plan_id': u'73836AK0840001',\n",
       "   u'plan_id_type': u'HIOS-PLAN-ID'},\n",
       "  {u'network_tier': u'PREFERRED',\n",
       "   u'plan_id': u'73836AK0860002',\n",
       "   u'plan_id_type': u'HIOS-PLAN-ID'},\n",
       "  {u'network_tier': u'PREFERRED',\n",
       "   u'plan_id': u'73836AK0790002',\n",
       "   u'plan_id_type': u'HIOS-PLAN-ID'},\n",
       "  {u'network_tier': u'PREFERRED',\n",
       "   u'plan_id': u'73836AK0860001',\n",
       "   u'plan_id_type': u'HIOS-PLAN-ID'}],\n",
       " u'speciality': [u'Physicians Assistant'],\n",
       " u'type': u'INDIVIDUAL'}"
      ]
     },
     "execution_count": 22,
     "metadata": {},
     "output_type": "execute_result"
    }
   ],
   "source": [
    "prov_col.find_one()"
   ]
  },
  {
   "cell_type": "code",
   "execution_count": 53,
   "metadata": {
    "collapsed": false
   },
   "outputs": [
    {
     "data": {
      "text/plain": [
       "[u'accepting', u'not accepting']"
      ]
     },
     "execution_count": 53,
     "metadata": {},
     "output_type": "execute_result"
    }
   ],
   "source": [
    "prov_col.distinct('accepting')"
   ]
  },
  {
   "cell_type": "code",
   "execution_count": 133,
   "metadata": {
    "collapsed": false
   },
   "outputs": [
    {
     "data": {
      "text/plain": [
       "5447"
      ]
     },
     "execution_count": 133,
     "metadata": {},
     "output_type": "execute_result"
    }
   ],
   "source": [
    "plan_id = drug_col.find(\n",
    "    {'plans.plan_id':'39424OR1320001', 'plans.drug_tier':{'$in':['SELECT', 'PREFERRED']}}, \n",
    "    {'_id':0, 'rxnorm_id':1, 'plans':{ '$elemMatch':{'plan_id':'39424OR1320001'}}}\n",
    ")\n",
    "\n",
    "plan_id.count()"
   ]
  },
  {
   "cell_type": "code",
   "execution_count": 129,
   "metadata": {
    "collapsed": false
   },
   "outputs": [
    {
     "data": {
      "text/plain": [
       "<pymongo.cursor.Cursor at 0x29cb0d68>"
      ]
     },
     "execution_count": 129,
     "metadata": {},
     "output_type": "execute_result"
    }
   ],
   "source": [
    "plan_id.sort('plans.drug_tier')"
   ]
  },
  {
   "cell_type": "code",
   "execution_count": 10,
   "metadata": {
    "collapsed": false
   },
   "outputs": [
    {
     "data": {
      "text/plain": [
       "[u'39424OR1240001',\n",
       " u'39424OR1240002',\n",
       " u'39424OR1260001',\n",
       " u'39424OR1260002',\n",
       " u'39424OR1310001',\n",
       " u'39424OR1320001',\n",
       " u'39424OR1460001',\n",
       " u'39424OR1460002',\n",
       " u'39424OR1460003',\n",
       " u'39424OR1460004',\n",
       " u'39424OR1470001',\n",
       " u'39424OR1480001',\n",
       " u'39424OR1480002',\n",
       " u'39424OR1480003',\n",
       " u'39424OR1490001',\n",
       " u'39424OR1500001',\n",
       " u'73836AK0750001',\n",
       " u'73836AK0750002',\n",
       " u'73836AK0750003',\n",
       " u'73836AK0750004',\n",
       " u'73836AK0790001',\n",
       " u'73836AK0790002',\n",
       " u'73836AK0840001',\n",
       " u'73836AK0850001',\n",
       " u'73836AK0850002',\n",
       " u'73836AK0860001',\n",
       " u'73836AK0860002']"
      ]
     },
     "execution_count": 10,
     "metadata": {},
     "output_type": "execute_result"
    }
   ],
   "source": [
    "drug_col.distinct('plans.plan_id')"
   ]
  },
  {
   "cell_type": "code",
   "execution_count": 6,
   "metadata": {
    "collapsed": false
   },
   "outputs": [],
   "source": [
    "client.close()"
   ]
  }
 ],
 "metadata": {
  "kernelspec": {
   "display_name": "Python 2",
   "language": "python",
   "name": "python2"
  },
  "language_info": {
   "codemirror_mode": {
    "name": "ipython",
    "version": 2
   },
   "file_extension": ".py",
   "mimetype": "text/x-python",
   "name": "python",
   "nbconvert_exporter": "python",
   "pygments_lexer": "ipython2",
   "version": "2.7.10"
  }
 },
 "nbformat": 4,
 "nbformat_minor": 0
}
