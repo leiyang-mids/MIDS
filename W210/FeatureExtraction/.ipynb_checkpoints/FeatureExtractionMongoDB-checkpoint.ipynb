{
 "cells": [
  {
   "cell_type": "code",
   "execution_count": 1,
   "metadata": {
    "collapsed": true
   },
   "outputs": [],
   "source": [
    "from sklearn.preprocessing import OneHotEncoder\n",
    "from pymongo import MongoClient\n",
    "from zipfile import ZipFile, ZIP_DEFLATED\n",
    "from sets import Set\n",
    "import numpy as np\n",
    "import json, sys, os, time, re, datetime"
   ]
  },
  {
   "cell_type": "code",
   "execution_count": 2,
   "metadata": {
    "collapsed": false
   },
   "outputs": [
    {
     "name": "stdout",
     "output_type": "stream",
     "text": [
      "Using aws Mongo, total drug: 46206, total plan: 6035\n"
     ]
    }
   ],
   "source": [
    "local = False\n",
    "if local:\n",
    "    client = MongoClient('fc8iasm01', 27017)\n",
    "    plan_col = client.aca.plan\n",
    "    drug_col = client.aca.drug\n",
    "    prov_col = client.aca.prov\n",
    "else:\n",
    "    client = MongoClient('ec2-54-153-83-172.us-west-1.compute.amazonaws.com', 27017)\n",
    "    plan_col = client.plans.plans\n",
    "    drug_col = client.formularies.drugs\n",
    "    prov_col = client.providers.providers\n",
    "    faci_col = client.providers.facilities\n",
    "\n",
    "all_plan = drug_col.distinct('plans.plan_id')\n",
    "all_drug = drug_col.distinct('rxnorm_id')\n",
    "\n",
    "print 'Using %s Mongo, total drug: %d, total plan: %d' %('local' if local else 'aws', len(all_drug), len(all_plan))\n",
    "# client.formularies.scollection_names()\n",
    "# client.providers.collection_names()"
   ]
  },
  {
   "cell_type": "markdown",
   "metadata": {},
   "source": [
    "###Load encode definition"
   ]
  },
  {
   "cell_type": "code",
   "execution_count": 3,
   "metadata": {
    "collapsed": false
   },
   "outputs": [
    {
     "data": {
      "text/plain": [
       "{u'drug.plans.drug_tier': u'string',\n",
       " u'drug.plans.prior_authorization': u'boolean',\n",
       " u'drug.plans.quantity_limit': u'boolean',\n",
       " u'drug.plans.step_therapy': u'boolean',\n",
       " u'plan.formulary.cost_sharing.coinsurance_opt': u'string',\n",
       " u'plan.formulary.cost_sharing.coinsurance_rate': u'float',\n",
       " u'plan.formulary.cost_sharing.copay_amount': u'float',\n",
       " u'plan.formulary.cost_sharing.copay_opt': u'string',\n",
       " u'plan.formulary.cost_sharing.pharmacy_type': u'string',\n",
       " u'plan.formulary.drug_tier': u'string',\n",
       " u'plan.formulary.mail_order': u'boolean',\n",
       " u'plan.network.network_tier': u'string',\n",
       " u'plan.plan_id_type': u'string'}"
      ]
     },
     "execution_count": 3,
     "metadata": {},
     "output_type": "execute_result"
    }
   ],
   "source": [
    "def getEncodeFields(encode_def, rtn, path=''):\n",
    "    ''' extract the selected fields from the encode json definition '''\n",
    "    \n",
    "    if 'encode' in encode_def and encode_def['encode'] == 1:\n",
    "        rtn[path[1:]] = encode_def['type']\n",
    "    elif 'encode' not in encode_def:\n",
    "        for f in encode_def:\n",
    "            getEncodeFields(encode_def[f], rtn, path + ('' if f=='properties' else '.'+f))\n",
    "    return rtn\n",
    "\n",
    "def logTime():\n",
    "    return str(datetime.datetime.now())\n",
    "\n",
    "encode_list = getEncodeFields(json.load(open('encode2.json')), {})\n",
    "encode_list"
   ]
  },
  {
   "cell_type": "markdown",
   "metadata": {},
   "source": [
    "###Data uniformity check"
   ]
  },
  {
   "cell_type": "code",
   "execution_count": 4,
   "metadata": {
    "collapsed": false
   },
   "outputs": [
    {
     "name": "stdout",
     "output_type": "stream",
     "text": [
      "2016-07-06 20:43:36.987662: plan document: 12136\n",
      "2016-07-06 20:43:37.080799: drug document: 1540473\n",
      "2016-07-06 20:43:37.170078: unique plan_id: 6035\n",
      "2016-07-06 20:43:37.170205: unique rxnorm_id: 46206\n",
      "2016-07-06 20:43:38.206240: plans with multiple documents: 1148\n",
      "2016-07-06 20:45:26.277477: drugs with multiple documents: 12807\n",
      "2016-07-06 20:45:26.279700: states in the plan: AK, AL, AR, AZ, CO, DE, FL, GA, HI, IA, IL, IN, KS, KY, LA, MA, ME, MI, MN, MO, MS, MT, NC, ND, NE, NH, NJ, NM, NV, OH, OK, OR, PA, SC, SD, TN, TX, UT, VA, WA, WI, WV, WY\n"
     ]
    }
   ],
   "source": [
    "print '%s: plan document: %d' %(logTime(), plan_col.count())\n",
    "print '%s: drug document: %d' %(logTime(), drug_col.count())\n",
    "print '%s: unique plan_id: %d' %(logTime(), len(all_plan))\n",
    "print '%s: unique rxnorm_id: %d' %(logTime(), len(all_drug))\n",
    "\n",
    "multi_plan = [1 for p in plan_col.aggregate([{\"$group\": {\"_id\":\"$plan_id\", \"count\":{\"$sum\":1}}}]) if p['count']>1]\n",
    "print '%s: plans with multiple documents: %d' %(logTime(), sum(multi_plan))\n",
    "\n",
    "multi_drug = [1 for p in drug_col.aggregate([{\"$group\": {\"_id\":\"$rxnorm_id\", \"count\":{\"$sum\":1}}}]) if p['count']>1]\n",
    "print '%s: drugs with multiple documents: %d' %(logTime(), sum(multi_drug))\n",
    "\n",
    "state_id = np.unique([i[5:7] for i in all_plan])\n",
    "print '%s: states in the plan: %s' %(logTime(), ', '.join(state_id))"
   ]
  },
  {
   "cell_type": "markdown",
   "metadata": {},
   "source": [
    "###Get feature space"
   ]
  },
  {
   "cell_type": "code",
   "execution_count": 6,
   "metadata": {
    "collapsed": false,
    "scrolled": false
   },
   "outputs": [
    {
     "name": "stdout",
     "output_type": "stream",
     "text": [
      "processing 190 plans for OR ...\n"
     ]
    },
    {
     "data": {
      "text/plain": [
       "{u'drug.plans.drug_tier': [u'PREFERRED-BRAND',\n",
       "  u'NON-PREFERRED-BRAND',\n",
       "  u'GENERIC',\n",
       "  u'SPECIALTY',\n",
       "  u'ZERO-COST-SHARE-PREVENTIVE',\n",
       "  u'NON-PREFERRED-GENERIC',\n",
       "  u'PREFERRED',\n",
       "  u'BRAND',\n",
       "  u'SELECT',\n",
       "  u'PREVENTIVE',\n",
       "  u'VALUE',\n",
       "  u'MEDICAL-SERVICE-DRUGS',\n",
       "  u'MEDICAL-SERVICE',\n",
       "  u'NON-PREFERRED',\n",
       "  u'FORMULARY-DRUGS',\n",
       "  u'NONPREFERRED-BRAND',\n",
       "  u'PREVENTIVE-ACA'],\n",
       " u'plan.formulary.cost_sharing.coinsurance_opt': [u'AFTER-DEDUCTIBLE',\n",
       "  u'NO-CHARGE',\n",
       "  None],\n",
       " u'plan.formulary.cost_sharing.copay_opt': [u'NO-CHARGE',\n",
       "  u'AFTER-DEDUCTIBLE',\n",
       "  u'NO-CHARGE-AFTER-DEDUCTIBLE',\n",
       "  u'BEFORE-DEDUCTIBLE'],\n",
       " u'plan.formulary.cost_sharing.pharmacy_type': [u'1-MONTH-IN-RETAIL',\n",
       "  u'3-MONTH-IN-MAIL',\n",
       "  u'1-MONTH-OUT-RETAIL',\n",
       "  u'3-MONTH-IN-RETAIL'],\n",
       " u'plan.formulary.drug_tier': [u'GENERIC',\n",
       "  u'NONPREFERRED-BRAND',\n",
       "  u'PREFERRED-BRAND',\n",
       "  u'PREVENTIVE-ACA',\n",
       "  u'SPECIALTY',\n",
       "  u'FORMULARY-DRUGS',\n",
       "  u'NON-PREFERRED BRAND',\n",
       "  u'PREFERRED BRAND',\n",
       "  u'SPECIALTY DRUGS',\n",
       "  u'NON-PREFERRED-BRAND',\n",
       "  u'ZERO-COST-SHARE-PREVENTIVE',\n",
       "  u'BRAND',\n",
       "  u'MEDICAL-SERVICE-DRUGS',\n",
       "  u'PREFERRED',\n",
       "  u'PREVENTIVE',\n",
       "  u'SELECT',\n",
       "  u'VALUE',\n",
       "  u'MEDICAL-SERVICE',\n",
       "  u'NON-PREFERRED-GENERIC-PREFERRED-BRAND',\n",
       "  u'PREFERRED-GENERIC'],\n",
       " u'plan.network.network_tier': [u'LIFEWISE',\n",
       "  u'OREGON-EPO',\n",
       "  u'TIER-ONE',\n",
       "  u'TIER-ONE-REFERRAL-REQUIRED',\n",
       "  u'TIER-THREE',\n",
       "  u'TIER-TWO',\n",
       "  u'PREFERRED',\n",
       "  u'NON-PREFERRED',\n",
       "  u'CONNECT',\n",
       "  u'CHOICE',\n",
       "  u'EPO'],\n",
       " u'plan.plan_id_type': [u'HIOS-PLAN-ID']}"
      ]
     },
     "execution_count": 6,
     "metadata": {},
     "output_type": "execute_result"
    }
   ],
   "source": [
    "state = 'OR' # set to None to include all (very slow process for all)\n",
    "ex_id = all_plan if not state else [i for i in all_plan if state in i]\n",
    "print 'processing %d plans for %s ...' %(len(ex_id), 'all' if not state else state)\n",
    "\n",
    "feature_space = {\n",
    "    k : (plan_col if k.startswith('plan') else drug_col).find(\n",
    "        { ('plan_id' if k.startswith('plan') else 'plans.plan_id') : {'$in':ex_id} }\n",
    "    ).distinct(k[k.index('.')+1:]) \n",
    "    for k,v in encode_list.items() if v=='string'\n",
    "}\n",
    "\n",
    "feature_space"
   ]
  },
  {
   "cell_type": "markdown",
   "metadata": {},
   "source": [
    "###Get common drugs between plans\n",
    "- operator reference [link](https://docs.mongodb.com/manual/reference/operator/query/)"
   ]
  },
  {
   "cell_type": "code",
   "execution_count": 7,
   "metadata": {
    "collapsed": false
   },
   "outputs": [
    {
     "name": "stdout",
     "output_type": "stream",
     "text": [
      "2016-07-06 20:46:17.145473: there are 10632 drugs for 190 plans!\n"
     ]
    }
   ],
   "source": [
    "# get rxnorm_id group for each plan\n",
    "common_drug = drug_col.find({'plans.plan_id':{'$in':ex_id}}).distinct('rxnorm_id')\n",
    "n_drug = len(common_drug)\n",
    "drug_attr = [[k.split('.')[-1],v,k] for k,v in encode_list.items() if k.startswith ('drug')]\n",
    "drug_cat_index = ([False]+[k[1]=='string' for k in drug_attr])*n_drug\n",
    "print '%s: there are %d drugs for %d plans!' %(logTime(), n_drug, len(ex_id))"
   ]
  },
  {
   "cell_type": "markdown",
   "metadata": {},
   "source": [
    "###Get unique pharmacy_type for each drug_tier"
   ]
  },
  {
   "cell_type": "code",
   "execution_count": 8,
   "metadata": {
    "collapsed": false
   },
   "outputs": [
    {
     "data": {
      "text/plain": [
       "{u'BRAND': [u'1-MONTH-IN-RETAIL', u'3-MONTH-IN-MAIL', u'1-MONTH-OUT-RETAIL'],\n",
       " u'FORMULARY-DRUGS': [u'1-MONTH-IN-RETAIL', u'3-MONTH-IN-MAIL'],\n",
       " u'GENERIC': [u'1-MONTH-IN-RETAIL', u'3-MONTH-IN-MAIL'],\n",
       " u'MEDICAL-SERVICE': [],\n",
       " u'MEDICAL-SERVICE-DRUGS': [u'1-MONTH-IN-RETAIL', u'3-MONTH-IN-RETAIL'],\n",
       " u'NON-PREFERRED BRAND': [],\n",
       " u'NON-PREFERRED-BRAND': [],\n",
       " u'NON-PREFERRED-GENERIC-PREFERRED-BRAND': [],\n",
       " u'NONPREFERRED-BRAND': [u'1-MONTH-IN-RETAIL', u'3-MONTH-IN-MAIL'],\n",
       " u'PREFERRED': [u'1-MONTH-IN-RETAIL',\n",
       "  u'3-MONTH-IN-MAIL',\n",
       "  u'1-MONTH-OUT-RETAIL'],\n",
       " u'PREFERRED BRAND': [],\n",
       " u'PREFERRED-BRAND': [u'1-MONTH-IN-RETAIL', u'3-MONTH-IN-MAIL'],\n",
       " u'PREFERRED-GENERIC': [],\n",
       " u'PREVENTIVE': [u'1-MONTH-IN-RETAIL'],\n",
       " u'PREVENTIVE-ACA': [u'1-MONTH-IN-RETAIL'],\n",
       " u'SELECT': [u'1-MONTH-IN-RETAIL', u'3-MONTH-IN-MAIL', u'1-MONTH-OUT-RETAIL'],\n",
       " u'SPECIALTY': [u'1-MONTH-IN-RETAIL'],\n",
       " u'SPECIALTY DRUGS': [],\n",
       " u'VALUE': [u'1-MONTH-IN-RETAIL', u'3-MONTH-IN-MAIL', u'1-MONTH-OUT-RETAIL'],\n",
       " u'ZERO-COST-SHARE-PREVENTIVE': []}"
      ]
     },
     "execution_count": 8,
     "metadata": {},
     "output_type": "execute_result"
    }
   ],
   "source": [
    "# Note: issue with distinct in the query\n",
    "# tier_pharm = {tier : plan_col.find(\n",
    "#         {'plan_id':{'$in':ex_id}, 'formulary.drug_tier':tier}, #'formulary.0.cost_sharing.0':{'$exists':True}},\n",
    "#         {'_id':0, 'formulary':{'$elemMatch':{'drug_tier':tier}}}\n",
    "#     ).distinct('formulary.cost_sharing.pharmacy_type')\n",
    "#     for tier in feature_space['plan.formulary.drug_tier']\n",
    "# }\n",
    "\n",
    "# traditional way to check\n",
    "tier_pharm = {}\n",
    "# for tier in feature_space['plan.formulary.drug_tier']:\n",
    "#     query = plan_col.find(\n",
    "#         {\n",
    "#             'plan_id':{'$in':ex_id}, \n",
    "#             'formulary.drug_tier':tier,            \n",
    "#             'formulary.0.cost_sharing.0':{'$exists':True},             \n",
    "#         },\n",
    "#         # NOTE: when fomulary is a dict instead of arrary, this projection won't return content\n",
    "#         {'_id':0, 'formulary':{'$elemMatch':{'drug_tier':tier}}}\n",
    "#     )\n",
    "#     tier_pharm[tier] = list(Set(cs['pharmacy_type'] for p in query for f in p['formulary'] for cs in f['cost_sharing']))\n",
    "\n",
    "# simple query to double check results\n",
    "for p in plan_col.find({'plan_id':{'$in':ex_id}}):\n",
    "    if 'formulary' not in p:\n",
    "        continue\n",
    "    if type(p['formulary']) is dict:\n",
    "        p['formulary'] = [p['formulary']]\n",
    "    for f in p['formulary']:        \n",
    "        if f['drug_tier'] not in tier_pharm:\n",
    "            tier_pharm[f['drug_tier']]=[]        \n",
    "        if 'cost_sharing' not in f:\n",
    "            continue\n",
    "        for cs in f['cost_sharing']:\n",
    "            tier_pharm[f['drug_tier']].append(cs['pharmacy_type'])\n",
    "tier_pharm = {k:list(set(v)) for k,v in tier_pharm.items()}\n",
    "\n",
    "tier_pharm"
   ]
  },
  {
   "cell_type": "markdown",
   "metadata": {},
   "source": [
    "###Check provider feature space"
   ]
  },
  {
   "cell_type": "code",
   "execution_count": 12,
   "metadata": {
    "collapsed": false
   },
   "outputs": [],
   "source": [
    "prov_attr = ['speciality', 'languages', 'type', 'accepting']\n",
    "prov_attr_space = {f:getProviderUniqueAttr(prov_col, f, ex_id) for f in prov_attr}\n",
    "prov_cat_index = [False]*sum(len(v) for v in prov_attr_space.values())"
   ]
  },
  {
   "cell_type": "markdown",
   "metadata": {},
   "source": [
    "###Evaluate feature dimension and variable index"
   ]
  },
  {
   "cell_type": "code",
   "execution_count": 26,
   "metadata": {
    "collapsed": false
   },
   "outputs": [
    {
     "name": "stdout",
     "output_type": "stream",
     "text": [
      "2016-07-06 21:19:34.072433: feature dimension before encode: 53280\n"
     ]
    }
   ],
   "source": [
    "# put tier names into list so the order is fixed for feature extraction\n",
    "tiers = tier_pharm.keys()\n",
    "# we build pharmacy type into the order of feature vector, so no need to include\n",
    "cost_attr = [[k.split('.')[-1],v,k] for k,v in encode_list.items() \n",
    "             if 'cost_sharing' in k and 'pharmacy_type' not in k]\n",
    "# flatten the vector to combine all tiers\n",
    "cat2d = [[False] + [k[1]=='string' for k in cost_attr]*len(tier_pharm[t]) for t in tiers]\n",
    "cost_cat_index = [y for x in cat2d for y in x]\n",
    "# # plan level attributes\n",
    "# plan_attr = [[k.split('.')[-1],v,k] for k,v in encode_list.items() if k.startswith('plan') and 'formulary' not in k]\n",
    "# plan_cat_index = [a[1]=='string' for a in plan_attr]\n",
    "\n",
    "# total feature catagrical index - must match with the order of feature canconnation in plan\n",
    "cat_index = cost_cat_index + drug_cat_index #+ prov_cat_index\n",
    "catagorical_var = [i for i,v in zip(range(len(cat_index)),cat_index) if v]\n",
    "print '%s: feature dimension before encode: %d' %(logTime(), len(cat_index))"
   ]
  },
  {
   "cell_type": "markdown",
   "metadata": {},
   "source": [
    "###Extraction integer features for each plan\n",
    "- get plan feature --> cost_sharing/pharmacy type\n",
    "- get drug feature --> drug_tier"
   ]
  },
  {
   "cell_type": "code",
   "execution_count": 9,
   "metadata": {
    "collapsed": true
   },
   "outputs": [],
   "source": [
    "def getPharmacyFeatureFromPlan(pid, tier_pharmacy, plan_collection, all_tier, pharm_attr, fea_space):\n",
    "    # initialize feature vector\n",
    "    tier_feature = [None]*len(tiers)    \n",
    "    # for each tier, assemble pharmacy info\n",
    "    for tier, pharm in tier_pharmacy.items():         \n",
    "        doc_cur = plan_collection.find(\n",
    "            {'plan_id':pid, 'formulary.drug_tier':tier},\n",
    "            {'_id':0, 'formulary':{'$elemMatch':{'drug_tier':tier}}}        \n",
    "        )   \n",
    "        # assemble pharmacy feature for this tier                \n",
    "        n_doc, mail_order, pharm_feature = 0, None, [[None]*len(pharm_attr)]*len(pharm)        \n",
    "        for doc in doc_cur:              \n",
    "            n_doc += 1\n",
    "            fml = doc['formulary'][0]\n",
    "            mail_order = fml['mail_order']\n",
    "            # no pharmarcy type on the tier, only put mail_order (from last doc)\n",
    "            if len(pharm) == 0 or 'cost_sharing' not in fml:                \n",
    "                continue                        \n",
    "            # loop pharmarcy types  \n",
    "            try:\n",
    "                for cs in fml['cost_sharing']:\n",
    "                    cost_feature = [cs[a[0]] if a[1]!='string' else fea_space[a[2]].index(cs[a[0]]) \n",
    "                                    for a in pharm_attr]\n",
    "                    pharm_feature[pharm.index(cs['pharmacy_type'])] = cost_feature\n",
    "            except Exception as ex:\n",
    "                print '\\tERROR parsing cost_sharing value',ex,pid,tier        \n",
    "        # attach pharmacy info to tier feature\n",
    "        tier_feature[all_tier.index(tier)] = [mail_order] + [y for x in pharm_feature for y in x]\n",
    "        if n_doc > 1:\n",
    "            print '\\tWARNING: plan tier with multiple document:', pid,tier        \n",
    "    # flaten the vector for the plan from hierarchy: tier-cost-pharmacy\n",
    "    return [y for x in tier_feature for y in x]"
   ]
  },
  {
   "cell_type": "code",
   "execution_count": 10,
   "metadata": {
    "collapsed": false
   },
   "outputs": [],
   "source": [
    "def getDrugFeatureForPlan(pid, all_rxnorms, ex_attr, fea_space):\n",
    "    # get the available drug attributes for a plan\n",
    "    drug_cur = drug_col.find(\n",
    "        {'plans.plan_id':pid, 'rxnorm_id':{'$in':all_rxnorms}},# 'plans.0':{'$exists':True}}, \n",
    "        {'_id':0, 'rxnorm_id':1, 'plans':{ '$elemMatch':{'plan_id':pid} }}\n",
    "    )\n",
    "\n",
    "    # extract the drug attributes for all common drugs    \n",
    "    drug_fea = [[False]+[None]*len(ex_attr)]*len(all_rxnorms)\n",
    "    try:\n",
    "        for drug in drug_cur:\n",
    "            fea, rid = drug['plans'][0], all_rxnorms.index(drug['rxnorm_id'])\n",
    "            drug_fea[rid] = [True]+[fea[a[0]] if a[1]!='string' \n",
    "                                    else fea_space[a[2]].index(fea[a[0]])\n",
    "                                    for a in ex_attr]\n",
    "        # flatten features and return\n",
    "        return [f for d in drug_fea for f in d]\n",
    "    except Exception as ex:\n",
    "        print '\\tError parsing %s drug, skipping: %s' %(pid, str(ex))\n",
    "        return None    "
   ]
  },
  {
   "cell_type": "code",
   "execution_count": 11,
   "metadata": {
    "collapsed": true
   },
   "outputs": [],
   "source": [
    "def getProviderUniqueAttr(provider_col, attr, all_plan_id):\n",
    "    return provider_col.find({'plans.plan_id':{'$in':all_plan_id}}).distinct(attr)\n",
    "\n",
    "def getProviderAttrCount(provider_col, plan_id, attr, all_attr):    \n",
    "    attr_count = [0]*len(all_attr)\n",
    "    for at in provider_col.aggregate(\n",
    "        [\n",
    "            {'$match':{'plans.plan_id':plan_id}},\n",
    "            {'$group':{'_id':'$'+attr, 'cnt':{'$sum':1}}},\n",
    "            {'$project':{attr:'$_id', 'count':'$cnt', '_id':0}}   \n",
    "        ]\n",
    "    ):\n",
    "        k = '' if not at[attr] else (at[attr][0] if type(at[attr]) is list else at[attr])\n",
    "        if k in all_attr:\n",
    "            attr_count[all_attr.index(k)] = at['count']        \n",
    "    return attr_count\n",
    "\n",
    "def getProviderFeatureForPlan(pid, features, provider_col, fea_list):\n",
    "    # find all specialities the plans cover        \n",
    "    rtn = []\n",
    "    for f in fea_list:\n",
    "        rtn += getProviderAttrCount(provider_col, pid, f, features[f]) \n",
    "    return rtn\n",
    "    "
   ]
  },
  {
   "cell_type": "code",
   "execution_count": 29,
   "metadata": {
    "collapsed": false,
    "scrolled": true
   },
   "outputs": [
    {
     "name": "stdout",
     "output_type": "stream",
     "text": [
      "2016-07-06 21:41:42.613830: start extracting feature from data ...\n",
      "2016-07-06 21:41:49.414818: processing plans 10/190 ...\n",
      "2016-07-06 21:41:56.753445: processing plans 20/190 ...\n",
      "2016-07-06 21:42:03.331240: processing plans 30/190 ...\n",
      "2016-07-06 21:42:11.222587: processing plans 40/190 ...\n",
      "2016-07-06 21:42:20.657779: processing plans 50/190 ...\n",
      "2016-07-06 21:42:28.201500: processing plans 60/190 ...\n",
      "2016-07-06 21:42:36.877179: processing plans 70/190 ...\n",
      "2016-07-06 21:42:45.245481: processing plans 80/190 ...\n",
      "2016-07-06 21:42:53.152176: processing plans 90/190 ...\n",
      "2016-07-06 21:42:59.722895: processing plans 100/190 ...\n",
      "2016-07-06 21:43:03.243806: processing plans 110/190 ...\n",
      "2016-07-06 21:43:06.992567: processing plans 120/190 ...\n",
      "2016-07-06 21:43:11.639244: processing plans 130/190 ...\n",
      "2016-07-06 21:43:15.550367: processing plans 140/190 ...\n",
      "2016-07-06 21:43:20.322810: processing plans 150/190 ...\n",
      "2016-07-06 21:43:24.791062: processing plans 160/190 ...\n",
      "2016-07-06 21:43:29.778801: processing plans 170/190 ...\n",
      "2016-07-06 21:43:35.367525: processing plans 180/190 ...\n",
      "2016-07-06 21:43:42.059025: processing plans 190/190 ...\n",
      "2016-07-06 21:43:42.594742: completed processing OR plan, 0 skipped due to parsing issue.\n"
     ]
    }
   ],
   "source": [
    "print '%s: start extracting feature from data ...' %logTime()\n",
    "plan_int_feature, i, skip = {}, 0, 0\n",
    "# for each plan, get int features (plan level & combined fomulary level)\n",
    "for pid in ex_id:\n",
    "    i += 1    \n",
    "    if i%10==0:\n",
    "        print '%s: processing plans %d/%d ...' %(logTime(), i, len(ex_id))    \n",
    "    # feature from plan data\n",
    "    plan_feature = getPharmacyFeatureFromPlan(pid, tier_pharm, plan_col, tiers, cost_attr, feature_space)\n",
    "    if len(plan_feature) != len(cost_cat_index):\n",
    "        skip += 1\n",
    "        print '\\nError: plan feature dimension mismatch for %s' %pid\n",
    "        continue\n",
    "    \n",
    "    # feature from drug data\n",
    "    drug_feature = getDrugFeatureForPlan(pid, common_drug, drug_attr, feature_space)\n",
    "    if not drug_feature:\n",
    "        skip += 1\n",
    "        continue\n",
    "    \n",
    "    # feature from provider data    \n",
    "    prov_feature = getProviderFeatureForPlan(pid, prov_attr_space, prov_col, prov_attr)\n",
    "    if len(prov_feature) != len(prov_cat_index):\n",
    "        skip += 1\n",
    "        print '\\nError: provider feature dimension mismatch for %s' %pid\n",
    "    \n",
    "    # combine for plan feature - must match with catagroical index concannation order    \n",
    "    plan_int_feature[pid] = plan_feature + drug_feature + prov_feature\n",
    "    \n",
    "print '%s: completed processing %s plan, %d skipped due to parsing issue.' %(logTime(), state, skip)"
   ]
  },
  {
   "cell_type": "markdown",
   "metadata": {},
   "source": [
    "###One-hot-encoding"
   ]
  },
  {
   "cell_type": "code",
   "execution_count": 30,
   "metadata": {
    "collapsed": false
   },
   "outputs": [],
   "source": [
    "enc = OneHotEncoder(categorical_features=catagorical_var)\n",
    "encode_feature = enc.fit_transform(plan_int_feature.values())  \n"
   ]
  },
  {
   "cell_type": "markdown",
   "metadata": {},
   "source": [
    "###Reset"
   ]
  },
  {
   "cell_type": "code",
   "execution_count": 105,
   "metadata": {
    "collapsed": false
   },
   "outputs": [],
   "source": [
    "client.close()\n",
    "%reset "
   ]
  },
  {
   "cell_type": "code",
   "execution_count": 56,
   "metadata": {
    "collapsed": false
   },
   "outputs": [
    {
     "name": "stdout",
     "output_type": "stream",
     "text": [
      "drugs: 2710\n",
      "--- 19.570182085 seconds ---\n"
     ]
    }
   ],
   "source": [
    "t0 = time.time()\n",
    "print 'drugs: %d' %len(drug_col.find({'plans.plan_id':'67577MI0390012'}).distinct('rxnorm_id'))\n",
    "print(\"--- %s seconds ---\" % (time.time() - t0))"
   ]
  },
  {
   "cell_type": "code",
   "execution_count": 84,
   "metadata": {
    "collapsed": false
   },
   "outputs": [
    {
     "data": {
      "text/plain": [
       "{u'drug_name': u'Brimonidine tartrate 2 MG/ML / Timolol 5 MG/ML Ophthalmic Solution [Combigan]',\n",
       " u'rxnorm_id': u'861637'}"
      ]
     },
     "execution_count": 84,
     "metadata": {},
     "output_type": "execute_result"
    }
   ],
   "source": [
    "# regex filtering\n",
    "\n",
    "regx = re.compile(\".combigan.\", re.IGNORECASE)\n",
    "drug_col.find_one({'drug_name':regx}, {'_id':0, 'drug_name':1, 'rxnorm_id':1})"
   ]
  },
  {
   "cell_type": "code",
   "execution_count": 155,
   "metadata": {
    "collapsed": false,
    "scrolled": false
   },
   "outputs": [
    {
     "data": {
      "text/plain": [
       "{u'_id': ObjectId('577873392ccfd955ecdf4abc'),\n",
       " u'benefits': [],\n",
       " u'formulary': {u'cost_sharing': [{u'coinsurance_opt': u'NO-CHARGE',\n",
       "    u'coinsurance_rate': 0.0,\n",
       "    u'copay_amount': 10.0,\n",
       "    u'copay_opt': u'NO-CHARGE-AFTER-DEDUCTIBLE',\n",
       "    u'pharmacy_type': u'1-MONTH-IN-RETAIL'},\n",
       "   {u'coinsurance_opt': u'NO-CHARGE',\n",
       "    u'coinsurance_rate': 0.0,\n",
       "    u'copay_amount': 30.0,\n",
       "    u'copay_opt': u'NO-CHARGE-AFTER-DEDUCTIBLE',\n",
       "    u'pharmacy_type': u'3-MONTH-IN-MAIL'}],\n",
       "  u'drug_tier': u'GENERIC',\n",
       "  u'mail_order': True},\n",
       " u'last_updated_on': u'2015-11-09',\n",
       " u'marketing_name': u'Zoom Health Plan Zoom Oregon Standard Gold Plan ',\n",
       " u'marketing_url': u'https://www.zoomcare.com/plusyou',\n",
       " u'network': [{u'network_tier': u'PREFERRED'}],\n",
       " u'plan_contact': u'athayer@zoomcare.com',\n",
       " u'plan_id': u'30969OR0050001',\n",
       " u'plan_id_type': u'HIOS-PLAN-ID',\n",
       " u'summary_url': u'https://www.zoomcare.com/sbc/isgd01.pdf'}"
      ]
     },
     "execution_count": 155,
     "metadata": {},
     "output_type": "execute_result"
    }
   ],
   "source": [
    "# check if tier is defined in multiple doc\n",
    "\n",
    "[[None]*4]*3+[]\n",
    "\n",
    "\n",
    "# for p in \n",
    "plan_col.find_one(\n",
    "            {'plan_id':'30969OR0050001'} #, 'formulary.drug_tier':tier},\n",
    "#             {'_id':0, 'formulary':{'$elemMatch':{'drug_tier':tier}}}        \n",
    "        )\n",
    "#     print p,'\\t'\n",
    "        "
   ]
  }
 ],
 "metadata": {
  "kernelspec": {
   "display_name": "Python 2",
   "language": "python",
   "name": "python2"
  },
  "language_info": {
   "codemirror_mode": {
    "name": "ipython",
    "version": 2
   },
   "file_extension": ".py",
   "mimetype": "text/x-python",
   "name": "python",
   "nbconvert_exporter": "python",
   "pygments_lexer": "ipython2",
   "version": "2.7.9"
  }
 },
 "nbformat": 4,
 "nbformat_minor": 0
}
