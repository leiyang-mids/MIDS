{
 "cells": [
  {
   "cell_type": "code",
   "execution_count": 1,
   "metadata": {
    "collapsed": true
   },
   "outputs": [],
   "source": [
    "from sklearn.preprocessing import OneHotEncoder\n",
    "from pymongo import MongoClient\n",
    "from sets import Set\n",
    "import numpy as np\n",
    "import json"
   ]
  },
  {
   "cell_type": "code",
   "execution_count": 2,
   "metadata": {
    "collapsed": false
   },
   "outputs": [],
   "source": [
    "client = MongoClient('localhost', 27017)\n",
    "plan_col = client.aca.plan\n",
    "drug_col = client.aca.drug\n",
    "\n",
    "# plan_col.insert_many(json.load(open('ak_plan.json')))\n",
    "# plan_col.insert_many(json.load(open('or_plan.json')))\n",
    "# drug_col.insert_many(json.load(open('ak_drug.json')))\n",
    "# drug_col.insert_many(json.load(open('or_drug.json')))\n"
   ]
  },
  {
   "cell_type": "markdown",
   "metadata": {},
   "source": [
    "###Load encode definition"
   ]
  },
  {
   "cell_type": "code",
   "execution_count": 3,
   "metadata": {
    "collapsed": false
   },
   "outputs": [
    {
     "data": {
      "text/plain": [
       "{u'drug.plans.drug_tier': u'string',\n",
       " u'drug.plans.prior_authorization': u'boolean',\n",
       " u'drug.plans.quantity_limit': u'boolean',\n",
       " u'drug.plans.step_therapy': u'boolean',\n",
       " u'plan.formulary.cost_sharing.coinsurance_opt': u'string',\n",
       " u'plan.formulary.cost_sharing.coinsurance_rate': u'float',\n",
       " u'plan.formulary.cost_sharing.copay_amount': u'float',\n",
       " u'plan.formulary.cost_sharing.copay_opt': u'string',\n",
       " u'plan.formulary.cost_sharing.pharmacy_type': u'string',\n",
       " u'plan.formulary.drug_tier': u'string',\n",
       " u'plan.formulary.mail_order': u'boolean',\n",
       " u'plan.network.network_tier': u'string',\n",
       " u'plan.plan_id_type': u'string'}"
      ]
     },
     "execution_count": 3,
     "metadata": {},
     "output_type": "execute_result"
    }
   ],
   "source": [
    "def getEncodeFields(encode_def, rtn, path=''):\n",
    "    ''' extract the selected fields from the encode json definition '''\n",
    "    \n",
    "    if 'encode' in encode_def and encode_def['encode'] == 1:\n",
    "        rtn[path[1:]] = encode_def['type']\n",
    "    elif 'encode' not in encode_def:\n",
    "        for f in encode_def:\n",
    "            getEncodeFields(encode_def[f], rtn, path + ('' if f=='properties' else '.'+f))\n",
    "    return rtn\n",
    "\n",
    "encode_list = getEncodeFields(json.load(open('encode2.json')), {})\n",
    "encode_list"
   ]
  },
  {
   "cell_type": "markdown",
   "metadata": {},
   "source": [
    "###Get feature space"
   ]
  },
  {
   "cell_type": "code",
   "execution_count": 4,
   "metadata": {
    "collapsed": false
   },
   "outputs": [
    {
     "data": {
      "text/plain": [
       "{u'drug.plans.drug_tier': [u'SELECT',\n",
       "  u'BRAND',\n",
       "  u'PREFERRED',\n",
       "  u'VALUE',\n",
       "  u'SPECIALTY',\n",
       "  u'PREVENTIVE',\n",
       "  u'MEDICAL-SERVICE-DRUGS'],\n",
       " u'plan.formulary.cost_sharing.coinsurance_opt': [None, u'AFTER-DEDUCTIBLE'],\n",
       " u'plan.formulary.cost_sharing.copay_opt': [u'BEFORE-DEDUCTIBLE',\n",
       "  u'NO-CHARGE'],\n",
       " u'plan.formulary.cost_sharing.pharmacy_type': [u'1-MONTH-IN-RETAIL',\n",
       "  u'3-MONTH-IN-MAIL',\n",
       "  u'3-MONTH-IN-RETAIL',\n",
       "  u'3-MONTH-OUT-RETAIL',\n",
       "  u'1-MONTH-OUT-RETAIL'],\n",
       " u'plan.formulary.drug_tier': [u'BRAND',\n",
       "  u'MEDICAL-SERVICE-DRUGS',\n",
       "  u'PREFERRED',\n",
       "  u'PREVENTIVE',\n",
       "  u'SELECT',\n",
       "  u'SPECIALTY',\n",
       "  u'VALUE'],\n",
       " u'plan.network.network_tier': [u'PREFERRED'],\n",
       " u'plan.plan_id_type': [u'HIOS-PLAN-ID']}"
      ]
     },
     "execution_count": 4,
     "metadata": {},
     "output_type": "execute_result"
    }
   ],
   "source": [
    "feature_space = {k:client.aca[k.split('.')[0]].distinct(k[k.index('.')+1:]) \n",
    "                 for k,v in encode_list.items() if v=='string'}\n",
    "feature_space"
   ]
  },
  {
   "cell_type": "markdown",
   "metadata": {},
   "source": [
    "###Get common drugs between plans"
   ]
  },
  {
   "cell_type": "code",
   "execution_count": 5,
   "metadata": {
    "collapsed": false
   },
   "outputs": [],
   "source": [
    "# get rxnorm_id group for each plan\n",
    "all_plans = plan_col.distinct('plan_id')\n",
    "plan_drug = [drug_col.find({'plans.plan_id':pid}, {'_id':0, 'rxnorm_id':1}) for pid in all_plans]\n",
    "\n",
    "common_drug = Set(x['rxnorm_id'] for x in plan_drug[0])\n",
    "\n",
    "for pd in plan_drug[1:]:\n",
    "    rx = [x['rxnorm_id'] for x in pd]\n",
    "    if len(rx)>0:\n",
    "        common_drug.intersection_update(rx)\n",
    "        \n",
    "# common_drug and drug_attr list will ensure the order of drug/attribute combination remains unchange\n",
    "common_drug = list(common_drug)\n",
    "n_drug = len(common_drug)\n",
    "drug_attr = [[k.split('.')[-1],v,k] for k,v in encode_list.items() if k.startswith ('drug')]\n",
    "drug_cat_index = [k[1]=='string' for k in drug_attr]*n_drug"
   ]
  },
  {
   "cell_type": "markdown",
   "metadata": {},
   "source": [
    "###Get pharmacy_type space (over all plans) for each drug_tier"
   ]
  },
  {
   "cell_type": "code",
   "execution_count": 6,
   "metadata": {
    "collapsed": false
   },
   "outputs": [
    {
     "data": {
      "text/plain": [
       "{u'BRAND': [u'1-MONTH-OUT-RETAIL',\n",
       "  u'3-MONTH-IN-MAIL',\n",
       "  u'3-MONTH-IN-RETAIL',\n",
       "  u'1-MONTH-IN-RETAIL',\n",
       "  u'3-MONTH-OUT-RETAIL'],\n",
       " u'MEDICAL-SERVICE-DRUGS': [u'1-MONTH-IN-RETAIL', u'3-MONTH-IN-RETAIL'],\n",
       " u'PREFERRED': [u'1-MONTH-OUT-RETAIL',\n",
       "  u'3-MONTH-IN-MAIL',\n",
       "  u'3-MONTH-IN-RETAIL',\n",
       "  u'1-MONTH-IN-RETAIL',\n",
       "  u'3-MONTH-OUT-RETAIL'],\n",
       " u'PREVENTIVE': [u'1-MONTH-IN-RETAIL', u'3-MONTH-IN-RETAIL'],\n",
       " u'SELECT': [u'1-MONTH-OUT-RETAIL',\n",
       "  u'3-MONTH-IN-MAIL',\n",
       "  u'3-MONTH-IN-RETAIL',\n",
       "  u'1-MONTH-IN-RETAIL',\n",
       "  u'3-MONTH-OUT-RETAIL'],\n",
       " u'SPECIALTY': [u'1-MONTH-IN-RETAIL'],\n",
       " u'VALUE': [u'1-MONTH-OUT-RETAIL',\n",
       "  u'3-MONTH-IN-MAIL',\n",
       "  u'3-MONTH-IN-RETAIL',\n",
       "  u'1-MONTH-IN-RETAIL',\n",
       "  u'3-MONTH-OUT-RETAIL']}"
      ]
     },
     "execution_count": 6,
     "metadata": {},
     "output_type": "execute_result"
    }
   ],
   "source": [
    "# NOTE: seems there is a bug for the distinct query with sub-array $elemMatch query, below doesn't work\n",
    "# tier_pharm = {tier : plan_col.find(\n",
    "#         {'formulary.drug_tier':tier},\n",
    "#         {'_id':0, 'formulary':{'$elemMatch':{'drug_tier':tier}}, 'formulary.cost_sharing.pharmacy_type':1}\n",
    "#     ).distinct('formulary.cost_sharing.pharmacy_type')\n",
    "#     for tier in feature_space['drug.plans.drug_tier']}\n",
    "\n",
    "# doing this in traditional way\n",
    "tier_pharm = {}\n",
    "for tier in feature_space['drug.plans.drug_tier']:\n",
    "    query = plan_col.find(\n",
    "        {'formulary.drug_tier':tier}, \n",
    "        {'_id':0, 'formulary':{'$elemMatch':{'drug_tier':tier}}, 'formulary.cost_sharing.pharmacy_type':1})\n",
    "    tier_pharm[tier] = list(Set(cs['pharmacy_type'] for p in query for cs in p['formulary'][0]['cost_sharing']))\n",
    "\n",
    "tier_pharm\n",
    "# # SELECT, u'PREFERRED', u'BRAND', u'SPECIALTY', u'PREVENTIVE', u'VALUE', u'MEDICAL-SERVICE-DRUGS\n",
    "\n",
    "# # check how pharmacy_type spreads over the plan\n",
    "# for p in plan_col.find({},{'_id':-1, 'network':1, 'formulary':1}):\n",
    "#     if len(p['formulary'])>0:\n",
    "#         print [y['pharmacy_type'] for x in p['formulary'] for y in x['cost_sharing'] if x['drug_tier']=='SELECT']\n",
    "# #         print '\\n'"
   ]
  },
  {
   "cell_type": "code",
   "execution_count": 7,
   "metadata": {
    "collapsed": false
   },
   "outputs": [],
   "source": [
    "# put tier names into list so the order is fixed for feature extraction\n",
    "tiers = tier_pharm.keys()\n",
    "# we build pharmacy type into the order of feature vector, so no need to include\n",
    "cost_attr = [[k.split('.')[-1],v,k] for k,v in encode_list.items() if 'cost_sharing' in k and 'pharmacy_type' not in k]\n",
    "# flatten the vector to combine all tiers\n",
    "cost_cat_index = [y for x in [[k[1]=='string' for k in cost_attr]*len(tier_pharm[t]) for t in tiers] for y in x]\n",
    "# plan level attributes\n",
    "plan_attr = [[k.split('.')[-1],v,k] for k,v in encode_list.items() if k.startswith('plan') and 'formulary' not in k]\n",
    "plan_cat_index = [a[1]=='string' for a in plan_attr]\n",
    "# total feature catagrical index - must match with the order of feature canconnation in plan\n",
    "cat_index = cost_cat_index + drug_cat_index"
   ]
  },
  {
   "cell_type": "markdown",
   "metadata": {},
   "source": [
    "###Extraction integer features for each plan\n",
    "- get plan feature --> cost_sharing/drug_tier\n",
    "- get drug feature --> pharmacy type"
   ]
  },
  {
   "cell_type": "code",
   "execution_count": 9,
   "metadata": {
    "collapsed": false
   },
   "outputs": [
    {
     "name": "stdout",
     "output_type": "stream",
     "text": [
      "plan 21989AK0030001 doesn't have complete Drug Tier info: 0 tiers\n",
      "plan 21989AK0050001 doesn't have complete Drug Tier info: 0 tiers\n",
      "plan 21989AK0050002 doesn't have complete Drug Tier info: 0 tiers\n",
      "plan 21989AK0070001 doesn't have complete Drug Tier info: 0 tiers\n",
      "plan 28415OR0210001 doesn't have complete Drug Tier info: 0 tiers\n",
      "plan 28415OR0010001 doesn't have complete Drug Tier info: 0 tiers\n",
      "plan 28415OR0010002 doesn't have complete Drug Tier info: 0 tiers\n",
      "plan 28415OR0050001 doesn't have complete Drug Tier info: 0 tiers\n"
     ]
    }
   ],
   "source": [
    "# for each plan, get int features (plan level & combined fomulary level)\n",
    "plan_int_feature = {}\n",
    "for pid in all_plans:\n",
    "    # extract plan feature\n",
    "    plan_data = plan_col.find_one({'plan_id':pid})\n",
    "    \n",
    "    \n",
    "    # TODO: check if network tier is necessary\n",
    "    # plan_data['network'][0]['network_tier']\n",
    "    \n",
    "    #drop the plan if it doesn't have complete drug tiers set (7)\n",
    "    if len(plan_data['formulary']) != len(tier_pharm):\n",
    "        print 'plan %s doesn\\'t have complete Drug Tier info: %d tiers' %(pid, len(plan_data['formulary']))\n",
    "        continue\n",
    "\n",
    "    # for the formulary, build feature for each drug_tier\n",
    "    tier_feature = [None]*len(tiers)\n",
    "    for tier in plan_data['formulary']:\n",
    "        # for each drug_tier, expland cost_sharing for all pharmacy_type\n",
    "        cost_feature = [None]*len(tier_pharm[tier['drug_tier']])\n",
    "        for cs in tier['cost_sharing']:            \n",
    "            ph_idx = tier_pharm[tier['drug_tier']].index(cs['pharmacy_type'])\n",
    "            cost_feature[ph_idx] = [cs[a[0]] if a[1]!='string' \n",
    "                                else feature_space[a[2]].index(cs[a[0]]) \n",
    "                                for a in cost_attr]\n",
    "        tier_feature[tiers.index(tier['drug_tier'])] = [c if c else [None]*len(cost_attr) for c in cost_feature]        \n",
    "    # flaten the vector for the plan from hierarchy: tier-cost-pharmacy\n",
    "    formulary_feature = [z for x in tier_feature for y in x for z in y]\n",
    "    \n",
    "    \n",
    "    # get the list of drug attributes for a plan\n",
    "    drug_cur = drug_col.find(\n",
    "        {'plans.plan_id':pid, 'rxnorm_id':{'$in':common_drug}}, \n",
    "        {'_id':0, 'rxnorm_id':1, 'plans':{ '$elemMatch':{'plan_id':pid} }}\n",
    "    )\n",
    "\n",
    "    drug_dict = {d['rxnorm_id']:d['plans'][0] for d in drug_cur}\n",
    "\n",
    "    # drop the plan if it doesn't match with common drug list\n",
    "    if len(drug_dict) != n_drug:\n",
    "        print 'plan %s drug list is nonnormal (n=%d), skip' %(pid, len(drug_dict))\n",
    "        continue\n",
    "\n",
    "    # flat the drug attributes for all common drugs    \n",
    "    drug_feature = [drug_dict[rx][attr[0]] if attr[1]!='string' \n",
    "                             else feature_space[attr[2]].index(drug_dict[rx][attr[0]])\n",
    "                             for rx in common_drug for attr in drug_attr]\n",
    "    \n",
    "    # combine for plan feature - must match with catagroical index concannation order\n",
    "    plan_int_feature[pid] = formulary_feature + drug_feature\n"
   ]
  },
  {
   "cell_type": "code",
   "execution_count": 10,
   "metadata": {
    "collapsed": false
   },
   "outputs": [
    {
     "data": {
      "text/plain": [
       "35336"
      ]
     },
     "execution_count": 10,
     "metadata": {},
     "output_type": "execute_result"
    }
   ],
   "source": [
    "[len(x) for x in plan_int_feature.values()]\n",
    "len(cost_cat_index + drug_cat_index)"
   ]
  },
  {
   "cell_type": "code",
   "execution_count": 238,
   "metadata": {
    "collapsed": false
   },
   "outputs": [],
   "source": [
    "client.close()"
   ]
  }
 ],
 "metadata": {
  "kernelspec": {
   "display_name": "Python 2",
   "language": "python",
   "name": "python2"
  },
  "language_info": {
   "codemirror_mode": {
    "name": "ipython",
    "version": 2
   },
   "file_extension": ".py",
   "mimetype": "text/x-python",
   "name": "python",
   "nbconvert_exporter": "python",
   "pygments_lexer": "ipython2",
   "version": "2.7.9"
  }
 },
 "nbformat": 4,
 "nbformat_minor": 0
}
