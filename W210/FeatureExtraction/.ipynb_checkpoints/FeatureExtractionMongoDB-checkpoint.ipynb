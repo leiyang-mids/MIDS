{
 "cells": [
  {
   "cell_type": "code",
   "execution_count": 2,
   "metadata": {
    "collapsed": true
   },
   "outputs": [],
   "source": [
    "from sklearn.preprocessing import OneHotEncoder\n",
    "from pymongo import MongoClient\n",
    "from sets import Set\n",
    "import numpy as np\n",
    "import json"
   ]
  },
  {
   "cell_type": "code",
   "execution_count": 3,
   "metadata": {
    "collapsed": false
   },
   "outputs": [
    {
     "data": {
      "text/plain": [
       "<pymongo.results.InsertManyResult at 0x119a6c8c0>"
      ]
     },
     "execution_count": 3,
     "metadata": {},
     "output_type": "execute_result"
    }
   ],
   "source": [
    "client = MongoClient('localhost', 27017)\n",
    "plan_col = client.aca.plan\n",
    "drug_col = client.aca.drug\n",
    "\n",
    "# plan_col.insert_many(json.load(open('ak_plan.json')))\n",
    "# plan_col.insert_many(json.load(open('or_plan.json')))\n",
    "# drug_col.insert_many(json.load(open('ak_drug.json')))\n",
    "# drug_col.insert_many(json.load(open('or_drug.json')))\n"
   ]
  },
  {
   "cell_type": "markdown",
   "metadata": {},
   "source": [
    "###Load encode definition"
   ]
  },
  {
   "cell_type": "code",
   "execution_count": 190,
   "metadata": {
    "collapsed": false
   },
   "outputs": [
    {
     "data": {
      "text/plain": [
       "{u'drug.plans.drug_tier': u'string',\n",
       " u'drug.plans.prior_authorization': u'boolean',\n",
       " u'drug.plans.quantity_limit': u'boolean',\n",
       " u'drug.plans.step_therapy': u'boolean',\n",
       " u'plan.formulary.cost_sharing.coinsurance_opt': u'string',\n",
       " u'plan.formulary.cost_sharing.coinsurance_rate': u'float',\n",
       " u'plan.formulary.cost_sharing.copay_amount': u'float',\n",
       " u'plan.formulary.cost_sharing.copay_opt': u'string',\n",
       " u'plan.formulary.cost_sharing.pharmacy_type': u'string',\n",
       " u'plan.formulary.drug_tier': u'string',\n",
       " u'plan.formulary.mail_order': u'boolean',\n",
       " u'plan.network.network_tier': u'string',\n",
       " u'plan.plan_id_type': u'string'}"
      ]
     },
     "execution_count": 190,
     "metadata": {},
     "output_type": "execute_result"
    }
   ],
   "source": [
    "def getEncodeFields(encode_def, rtn, path=''):\n",
    "    ''' extract the selected fields from the encode json definition '''\n",
    "    \n",
    "    if 'encode' in encode_def and encode_def['encode'] == 1:\n",
    "        rtn[path[1:]] = encode_def['type']\n",
    "    elif 'encode' not in encode_def:\n",
    "        for f in encode_def:\n",
    "            getEncodeFields(encode_def[f], rtn, path + (('.'+f) if f!='properties' else ''))\n",
    "    return rtn\n",
    "\n",
    "encode_list = getEncodeFields(json.load(open('encode2.json')), {})\n",
    "encode_list"
   ]
  },
  {
   "cell_type": "markdown",
   "metadata": {},
   "source": [
    "###Get feature space"
   ]
  },
  {
   "cell_type": "code",
   "execution_count": 196,
   "metadata": {
    "collapsed": false
   },
   "outputs": [
    {
     "data": {
      "text/plain": [
       "{u'drug.plans.drug_tier': [u'SELECT',\n",
       "  u'BRAND',\n",
       "  u'PREFERRED',\n",
       "  u'VALUE',\n",
       "  u'SPECIALTY',\n",
       "  u'PREVENTIVE',\n",
       "  u'MEDICAL-SERVICE-DRUGS'],\n",
       " u'plan.formulary.cost_sharing.coinsurance_opt': [None, u'AFTER-DEDUCTIBLE'],\n",
       " u'plan.formulary.cost_sharing.copay_opt': [u'BEFORE-DEDUCTIBLE',\n",
       "  u'NO-CHARGE'],\n",
       " u'plan.formulary.cost_sharing.pharmacy_type': [u'1-MONTH-IN-RETAIL',\n",
       "  u'3-MONTH-IN-MAIL',\n",
       "  u'3-MONTH-IN-RETAIL',\n",
       "  u'3-MONTH-OUT-RETAIL',\n",
       "  u'1-MONTH-OUT-RETAIL'],\n",
       " u'plan.formulary.drug_tier': [u'BRAND',\n",
       "  u'MEDICAL-SERVICE-DRUGS',\n",
       "  u'PREFERRED',\n",
       "  u'PREVENTIVE',\n",
       "  u'SELECT',\n",
       "  u'SPECIALTY',\n",
       "  u'VALUE'],\n",
       " u'plan.network.network_tier': [u'PREFERRED'],\n",
       " u'plan.plan_id_type': [u'HIOS-PLAN-ID']}"
      ]
     },
     "execution_count": 196,
     "metadata": {},
     "output_type": "execute_result"
    }
   ],
   "source": [
    "feature_space = {k:client.aca[k.split('.')[0]].distinct(k[k.index('.')+1:]) \n",
    "                 for k,v in encode_list.items() if v=='string'}\n",
    "feature_space"
   ]
  },
  {
   "cell_type": "markdown",
   "metadata": {},
   "source": [
    "###Get common drugs between plans"
   ]
  },
  {
   "cell_type": "code",
   "execution_count": 207,
   "metadata": {
    "collapsed": false
   },
   "outputs": [],
   "source": [
    "# get rxnorm_id group for each plan\n",
    "all_plans = plan_col.distinct('plan_id')\n",
    "plan_drug = [drug_col.find(\n",
    "    {'plans.plan_id':pid},\n",
    "    {'_id':0, 'rxnorm_id':1} #, 'plans':{'$elemMatch':{'plan_id':pid}}}\n",
    ") for pid in all_plans]"
   ]
  },
  {
   "cell_type": "code",
   "execution_count": 208,
   "metadata": {
    "collapsed": false
   },
   "outputs": [],
   "source": [
    "common_drug = Set(x['rxnorm_id'] for x in plan_drug[0])\n",
    "\n",
    "for pd in plan_drug[1:]:\n",
    "    rx = [x['rxnorm_id'] for x in pd]\n",
    "    if len(rx)>0:\n",
    "        common_drug.intersection_update(rx)\n",
    "        \n",
    "# common_drug and drug_attr list will ensure the order of drug/attribute combination remains unchange\n",
    "common_drug = list(common_drug)\n",
    "n_drug = len(common_drug)\n",
    "drug_attr = [[k.split('.')[-1],v,k] for k,v in encode_list.items() if k.startswith ('drug')]\n",
    "drug_cat_index = [k[1]=='string' for k in drug_attr]*n_drug"
   ]
  },
  {
   "cell_type": "code",
   "execution_count": 229,
   "metadata": {
    "collapsed": false
   },
   "outputs": [
    {
     "data": {
      "text/plain": [
       "{u'_id': ObjectId('5776eb59b40e6fc2775357ed'),\n",
       " u'formulary': [{u'cost_sharing': [{u'coinsurance_opt': None,\n",
       "     u'coinsurance_rate': 0.0,\n",
       "     u'copay_amount': 90.0,\n",
       "     u'copay_opt': u'NO-CHARGE',\n",
       "     u'pharmacy_type': u'3-MONTH-IN-MAIL'},\n",
       "    {u'coinsurance_opt': None,\n",
       "     u'coinsurance_rate': 0.0,\n",
       "     u'copay_amount': 30.0,\n",
       "     u'copay_opt': u'BEFORE-DEDUCTIBLE',\n",
       "     u'pharmacy_type': u'3-MONTH-IN-RETAIL'},\n",
       "    {u'coinsurance_opt': None,\n",
       "     u'coinsurance_rate': 0.0,\n",
       "     u'copay_amount': 30.0,\n",
       "     u'copay_opt': u'BEFORE-DEDUCTIBLE',\n",
       "     u'pharmacy_type': u'3-MONTH-OUT-RETAIL'}],\n",
       "   u'drug_tier': u'SELECT',\n",
       "   u'mail_order': True},\n",
       "  {u'cost_sharing': [{u'coinsurance_opt': None,\n",
       "     u'coinsurance_rate': 0.0,\n",
       "     u'copay_amount': 0.0,\n",
       "     u'copay_opt': u'NO-CHARGE',\n",
       "     u'pharmacy_type': u'3-MONTH-IN-MAIL'},\n",
       "    {u'coinsurance_opt': None,\n",
       "     u'coinsurance_rate': 0.35,\n",
       "     u'copay_amount': 0.0,\n",
       "     u'copay_opt': u'NO-CHARGE',\n",
       "     u'pharmacy_type': u'3-MONTH-IN-RETAIL'},\n",
       "    {u'coinsurance_opt': None,\n",
       "     u'coinsurance_rate': 0.35,\n",
       "     u'copay_amount': 0.0,\n",
       "     u'copay_opt': u'NO-CHARGE',\n",
       "     u'pharmacy_type': u'3-MONTH-OUT-RETAIL'}],\n",
       "   u'drug_tier': u'PREFERRED',\n",
       "   u'mail_order': True},\n",
       "  {u'cost_sharing': [{u'coinsurance_opt': None,\n",
       "     u'coinsurance_rate': 0.0,\n",
       "     u'copay_amount': 0.0,\n",
       "     u'copay_opt': u'NO-CHARGE',\n",
       "     u'pharmacy_type': u'3-MONTH-IN-MAIL'},\n",
       "    {u'coinsurance_opt': None,\n",
       "     u'coinsurance_rate': 0.45,\n",
       "     u'copay_amount': 0.0,\n",
       "     u'copay_opt': u'NO-CHARGE',\n",
       "     u'pharmacy_type': u'3-MONTH-IN-RETAIL'},\n",
       "    {u'coinsurance_opt': None,\n",
       "     u'coinsurance_rate': 0.45,\n",
       "     u'copay_amount': 0.0,\n",
       "     u'copay_opt': u'NO-CHARGE',\n",
       "     u'pharmacy_type': u'3-MONTH-OUT-RETAIL'}],\n",
       "   u'drug_tier': u'BRAND',\n",
       "   u'mail_order': True},\n",
       "  {u'cost_sharing': [{u'coinsurance_opt': u'AFTER-DEDUCTIBLE',\n",
       "     u'coinsurance_rate': 0.45,\n",
       "     u'copay_amount': 0.0,\n",
       "     u'copay_opt': u'NO-CHARGE',\n",
       "     u'pharmacy_type': u'1-MONTH-IN-RETAIL'}],\n",
       "   u'drug_tier': u'SPECIALTY',\n",
       "   u'mail_order': True},\n",
       "  {u'cost_sharing': [{u'coinsurance_opt': None,\n",
       "     u'coinsurance_rate': 0.0,\n",
       "     u'copay_amount': 0.0,\n",
       "     u'copay_opt': u'BEFORE-DEDUCTIBLE',\n",
       "     u'pharmacy_type': u'3-MONTH-IN-RETAIL'}],\n",
       "   u'drug_tier': u'PREVENTIVE',\n",
       "   u'mail_order': True},\n",
       "  {u'cost_sharing': [{u'coinsurance_opt': None,\n",
       "     u'coinsurance_rate': 0.0,\n",
       "     u'copay_amount': 18.0,\n",
       "     u'copay_opt': u'BEFORE-DEDUCTIBLE',\n",
       "     u'pharmacy_type': u'3-MONTH-IN-MAIL'},\n",
       "    {u'coinsurance_opt': None,\n",
       "     u'coinsurance_rate': 0.0,\n",
       "     u'copay_amount': 6.0,\n",
       "     u'copay_opt': u'BEFORE-DEDUCTIBLE',\n",
       "     u'pharmacy_type': u'3-MONTH-IN-RETAIL'},\n",
       "    {u'coinsurance_opt': None,\n",
       "     u'coinsurance_rate': 0.0,\n",
       "     u'copay_amount': 6.0,\n",
       "     u'copay_opt': u'BEFORE-DEDUCTIBLE',\n",
       "     u'pharmacy_type': u'3-MONTH-OUT-RETAIL'}],\n",
       "   u'drug_tier': u'VALUE',\n",
       "   u'mail_order': True},\n",
       "  {u'cost_sharing': [{u'coinsurance_opt': u'AFTER-DEDUCTIBLE',\n",
       "     u'coinsurance_rate': 0.15,\n",
       "     u'copay_amount': 0.0,\n",
       "     u'copay_opt': u'NO-CHARGE',\n",
       "     u'pharmacy_type': u'3-MONTH-IN-RETAIL'}],\n",
       "   u'drug_tier': u'MEDICAL-SERVICE-DRUGS',\n",
       "   u'mail_order': True}],\n",
       " u'last_updated_on': u'2016-04-05',\n",
       " u'marketing_name': u'Be Prosperous (Providence)',\n",
       " u'marketing_url': u'',\n",
       " u'network': [{u'network_tier': u'PREFERRED'}],\n",
       " u'plan_contact': u'jessica.wagner@modahealth.com',\n",
       " u'plan_id': u'73836AK0750001',\n",
       " u'plan_id_type': u'HIOS-PLAN-ID',\n",
       " u'summary_url': u'https://www.modahealth.com/pdfs/plans/individual/Moda_Providence_BeProsperous_2016_AK.pdf'}"
      ]
     },
     "execution_count": 229,
     "metadata": {},
     "output_type": "execute_result"
    }
   ],
   "source": [
    "plan_col.find_one()"
   ]
  },
  {
   "cell_type": "markdown",
   "metadata": {},
   "source": [
    "###Extraction integer features for each plan\n",
    "- get plan feature --> cost_sharing/drug_tier\n",
    "- get drug feature --> pharmacy type"
   ]
  },
  {
   "cell_type": "code",
   "execution_count": 222,
   "metadata": {
    "collapsed": false
   },
   "outputs": [
    {
     "name": "stdout",
     "output_type": "stream",
     "text": [
      "plan 21989AK0030001 drug list is nonnormal, skip\n",
      "plan 21989AK0050001 drug list is nonnormal, skip\n",
      "plan 21989AK0050002 drug list is nonnormal, skip\n",
      "plan 21989AK0070001 drug list is nonnormal, skip\n",
      "plan 28415OR0210001 drug list is nonnormal, skip\n",
      "plan 28415OR0010001 drug list is nonnormal, skip\n",
      "plan 28415OR0010002 drug list is nonnormal, skip\n",
      "plan 28415OR0050001 drug list is nonnormal, skip\n"
     ]
    }
   ],
   "source": [
    "plan_int_feature = {}\n",
    "for pid in all_plans:\n",
    "    # extract plan feature\n",
    "    \n",
    "    \n",
    "    # get the list of drug attributes for a plan\n",
    "    drug_cur = drug_col.find(\n",
    "        {'plans.plan_id':pid, 'rxnorm_id':{'$in':common_drug}}, \n",
    "        {'_id':0, 'rxnorm_id':1, 'plans':{ '$elemMatch':{'plan_id':pid} }}\n",
    "    )\n",
    "\n",
    "    drug_dict = {d['rxnorm_id']:d['plans'][0] for d in drug_cur}\n",
    "\n",
    "    # drop the plan if it doesn't match with common drug list\n",
    "    if len(drug_dict) != n_drug:\n",
    "        print 'plan %s drug list is nonnormal, skip' %pid\n",
    "        continue\n",
    "\n",
    "    # flat the drug attributes for all common drugs\n",
    "    plan_int_feature[pid] = [drug_dict[rx][attr[0]] if attr[1]!='string' \n",
    "                             else feature_space[attr[2]].index(drug_dict[rx][attr[0]])\n",
    "                             for rx in common_drug for attr in drug_attr]\n"
   ]
  },
  {
   "cell_type": "code",
   "execution_count": 226,
   "metadata": {
    "collapsed": false
   },
   "outputs": [
    {
     "data": {
      "text/plain": [
       "[35236,\n",
       " 35236,\n",
       " 35236,\n",
       " 35236,\n",
       " 35236,\n",
       " 35236,\n",
       " 35236,\n",
       " 35236,\n",
       " 35236,\n",
       " 35236,\n",
       " 35236,\n",
       " 35236,\n",
       " 35236,\n",
       " 35236,\n",
       " 35236,\n",
       " 35236,\n",
       " 35236,\n",
       " 35236,\n",
       " 35236,\n",
       " 35236,\n",
       " 35236,\n",
       " 35236,\n",
       " 35236,\n",
       " 35236,\n",
       " 35236,\n",
       " 35236,\n",
       " 35236]"
      ]
     },
     "execution_count": 226,
     "metadata": {},
     "output_type": "execute_result"
    }
   ],
   "source": [
    "[len(x) for x in plan_int_feature.values()]"
   ]
  },
  {
   "cell_type": "code",
   "execution_count": 11,
   "metadata": {
    "collapsed": false
   },
   "outputs": [],
   "source": [
    "client.close()"
   ]
  }
 ],
 "metadata": {
  "kernelspec": {
   "display_name": "Python 2",
   "language": "python",
   "name": "python2"
  },
  "language_info": {
   "codemirror_mode": {
    "name": "ipython",
    "version": 2
   },
   "file_extension": ".py",
   "mimetype": "text/x-python",
   "name": "python",
   "nbconvert_exporter": "python",
   "pygments_lexer": "ipython2",
   "version": "2.7.9"
  }
 },
 "nbformat": 4,
 "nbformat_minor": 0
}
