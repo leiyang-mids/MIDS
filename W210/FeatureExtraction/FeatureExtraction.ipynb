{
 "cells": [
  {
   "cell_type": "code",
   "execution_count": 1,
   "metadata": {
    "collapsed": false
   },
   "outputs": [],
   "source": [
    "from sklearn.preprocessing import OneHotEncoder\n",
    "from sets import Set\n",
    "import numpy as np\n",
    "import json"
   ]
  },
  {
   "cell_type": "markdown",
   "metadata": {
    "collapsed": false
   },
   "source": [
    "###Generate encode definition from mappings.json\n",
    "- add an _encode_ filed on the mapping variables"
   ]
  },
  {
   "cell_type": "code",
   "execution_count": 171,
   "metadata": {
    "collapsed": false
   },
   "outputs": [],
   "source": [
    "mappings = json.load(open('mappings.json'))\n",
    "\n",
    "def addEncode(fields):   \n",
    "    ''' add 'encode' field on the mapping definition '''\n",
    "    if ('type' in fields) and ('type' not in fields['type']): #(len(fields)==1):\n",
    "        fields['encode'] = 0\n",
    "    else:\n",
    "        for v in fields.values():\n",
    "            addEncode(v)\n",
    "        \n",
    "addEncode(mappings)\n",
    "\n",
    "with open('encode2.json', 'w') as outfile:\n",
    "    json.dump(mappings['mappings'], outfile)"
   ]
  },
  {
   "cell_type": "markdown",
   "metadata": {},
   "source": [
    "###Load encode definition\n",
    "- set _encode_ to 1 in the file to select the field"
   ]
  },
  {
   "cell_type": "code",
   "execution_count": 2,
   "metadata": {
    "collapsed": false
   },
   "outputs": [],
   "source": [
    "\n",
    "def getEncodeFields(encode_def, rtn, path=''):\n",
    "    ''' extract the selected fields from the encode json definition '''\n",
    "    \n",
    "    if 'encode' in encode_def and encode_def['encode'] == 1:\n",
    "        rtn[path[1:]] = encode_def['type']\n",
    "    elif 'encode' not in encode_def:\n",
    "        for f in encode_def:\n",
    "            getEncodeFields(encode_def[f], rtn, path + '/' + f)\n",
    "    return rtn\n"
   ]
  },
  {
   "cell_type": "markdown",
   "metadata": {},
   "source": [
    "###Retrieve value of a selected variable\n",
    "- pass a set, to get unique value for encoding\n",
    "- pass a list, to get all values for feature extraction"
   ]
  },
  {
   "cell_type": "code",
   "execution_count": 3,
   "metadata": {
    "collapsed": false
   },
   "outputs": [],
   "source": [
    "# get unique value for each string encode field (prepare for on-hot-encode)\n",
    "\n",
    "def getFieldValue(data, key, val, add_call):\n",
    "    ''' \n",
    "    retrieve value(s) of a feature from the json tree based on the key,\n",
    "    and put them into a set/list.\n",
    "    '''\n",
    "    if len(key) == 1:        \n",
    "        add_call(val, data[key[0]])\n",
    "    elif type(data) is list: # key[0] == 'properties':\n",
    "        for d in data:\n",
    "            getFieldValue(d, key[1:], val, add_call)\n",
    "    else:\n",
    "        getFieldValue(data[key[0]], key[1:], val, add_call)\n",
    "        \n",
    "    return val\n",
    "        \n",
    "def add_set(vSet, val):\n",
    "    ''' add an element to a set '''\n",
    "    vSet.add(val)\n",
    "    \n",
    "def add_list(vList, val):\n",
    "    ''' append an element to a list '''\n",
    "    vList.append(val)\n",
    "        "
   ]
  },
  {
   "cell_type": "markdown",
   "metadata": {},
   "source": [
    "###Extract encode variable list and generate feature space"
   ]
  },
  {
   "cell_type": "code",
   "execution_count": 4,
   "metadata": {
    "collapsed": true
   },
   "outputs": [],
   "source": [
    "# load file\n",
    "!curl -o plan.json http://get-moda.com/json/plans-AK.json\n",
    "!curl -o drug.json http://get-moda.com/json/formulary-AK.json\n",
    "\n",
    "plan = json.load(open('plan.json'))   \n",
    "drug = json.load(open('drug.json'))\n",
    "drug_plan_data={'plan':plan,'drug':drug}"
   ]
  },
  {
   "cell_type": "code",
   "execution_count": 5,
   "metadata": {
    "collapsed": false
   },
   "outputs": [],
   "source": [
    "# read file\n",
    "encode = json.load(open('encode2.json'))\n",
    "\n",
    "encode_list = getEncodeFields(encode, {})\n",
    "\n",
    "# encode_list\n",
    "feature_space = {k : list(getFieldValue(drug_plan_data, k.split('/'), Set(), add_set)) \\\n",
    "                 for k,v in encode_list.items()} # if v == 'string'}\n",
    "\n",
    "# feature_space"
   ]
  },
  {
   "cell_type": "markdown",
   "metadata": {
    "collapsed": false
   },
   "source": [
    "###Generate integer feature vector for plan data"
   ]
  },
  {
   "cell_type": "code",
   "execution_count": 6,
   "metadata": {
    "collapsed": false
   },
   "outputs": [
    {
     "name": "stdout",
     "output_type": "stream",
     "text": [
      "plan/properties/formulary/properties/cost_sharing/properties/pharmacy_type\n",
      "plan/properties/formulary/properties/drug_tier\n",
      "plan/properties/network/properties/network_tier\n",
      "plan/properties/formulary/properties/cost_sharing/properties/coinsurance_rate\n",
      "plan/properties/plan_id\n",
      "plan/properties/plan_id_type\n",
      "plan/properties/formulary/properties/mail_order\n",
      "plan/properties/formulary/properties/cost_sharing/properties/coinsurance_opt\n",
      "plan/properties/formulary/properties/cost_sharing/properties/copay_opt\n",
      "plan/properties/formulary/properties/cost_sharing/properties/copay_amount\n"
     ]
    }
   ],
   "source": [
    "def getIntegerFeature(dataJsonList, dataType, featureSpace, encodeDefinition):\n",
    "    ''' extract the features from json list \n",
    "    and convert to integer (for string) based on feature space index '''\n",
    "    features = {}\n",
    "\n",
    "    for k,v in featureSpace.items():\n",
    "        if not k.startswith(dataType):\n",
    "            continue\n",
    "        print k\n",
    "        # we want feature for each record (plan, drug etc.), so exclude the first 2 key component\n",
    "        path = k.split('/')[2:]    \n",
    "        # use integer representation for categorical variable, and keep raw value for bool and float\n",
    "        features[k] = [[v.index(x) for x in getFieldValue(r, path, [], add_list)] \\\n",
    "                       if encodeDefinition[k] == 'string' \\\n",
    "                       else getFieldValue(r, path, [], add_list) for r in dataJsonList]\n",
    "    \n",
    "    return features\n",
    "\n",
    "plan_int_features = getIntegerFeature(drug_plan_data['plan'], 'plan', feature_space, encode_list)"
   ]
  },
  {
   "cell_type": "markdown",
   "metadata": {},
   "source": [
    "###Assemble plan feature"
   ]
  },
  {
   "cell_type": "code",
   "execution_count": 7,
   "metadata": {
    "collapsed": false
   },
   "outputs": [],
   "source": [
    "def assemblePlanFeature(intFea, feaSpace, encodeDef, planIdKey = 'plan/properties/plan_id'):\n",
    "    ''' combine feature fields for each plan, \n",
    "        and generate index for catagorical features '''\n",
    "    plan_names = feaSpace[planIdKey]\n",
    "    plan_fea = {plan_names[x[0]]:[] for x in intFea[planIdKey]}\n",
    "    cat_index = []\n",
    "    for k,v in intFea.items():\n",
    "        if k == planIdKey:\n",
    "            continue\n",
    "        if encode_list[k] == 'string':\n",
    "            cat_index += [max(len(z) for z in plan_fea.values()) + x for x in range(max(len(y) for y in v))]\n",
    "        for p,f in zip(intFea[planIdKey], v):\n",
    "            plan_fea[plan_names[p[0]]] += f\n",
    "    \n",
    "    return plan_fea, cat_index\n",
    "    \n",
    "plan_feature, plan_cat = assemblePlanFeature(plan_int_features, feature_space, encode_list)"
   ]
  },
  {
   "cell_type": "markdown",
   "metadata": {},
   "source": [
    "###Generate integer feature vector for drug data"
   ]
  },
  {
   "cell_type": "code",
   "execution_count": 8,
   "metadata": {
    "collapsed": false
   },
   "outputs": [
    {
     "name": "stdout",
     "output_type": "stream",
     "text": [
      "drug/properties/plans/properties/prior_authorization\n",
      "drug/properties/plans/properties/plan_id\n",
      "drug/properties/plans/properties/step_therapy\n",
      "drug/properties/plans/properties/quantity_limit\n",
      "drug/properties/plans/properties/drug_tier\n"
     ]
    }
   ],
   "source": [
    "# 266 is a special case where the drug is available on 2 tiers\n",
    "# j = [len(d['plans']) for d in drug_plan_data['drug']].index(22)\n",
    "# drug_plan_data['drug'][j]['plans']\n",
    "\n",
    "drug_int_features = getIntegerFeature(drug_plan_data['drug'], 'drug', feature_space, encode_list)\n"
   ]
  },
  {
   "cell_type": "markdown",
   "metadata": {
    "collapsed": true
   },
   "source": [
    "###Assemble drug feature"
   ]
  },
  {
   "cell_type": "code",
   "execution_count": 9,
   "metadata": {
    "collapsed": false
   },
   "outputs": [],
   "source": [
    "def assembleDrugFeature(intFea, feaSpace, encodeDef, planIdKey = 'drug/properties/plans/properties/plan_id'):\n",
    "    ''' assemble integer feature together for each plan,\n",
    "        for each plan, the vector shows features for all drugs\n",
    "    '''\n",
    "    p_id = intFea[planIdKey]\n",
    "    n_plan = max([max(x) for x in p_id]) + 1\n",
    "    drug_fea = [[]] * n_plan\n",
    "    # generate array for combine\n",
    "    comb_fea = ([[[y] for y in x] for x in v] for k,v in intFea.items() if k != planIdKey)\n",
    "    # put plan ID at first\n",
    "    fea = [[[y] for y in x] for x in intFea[planIdKey]]\n",
    "    # combine feature for each drug\n",
    "    for f in comb_fea:\n",
    "        fea = [np.hstack(t) for t in zip(fea, f)]\n",
    "    # combine drugs for each plan\n",
    "    cat_index = range(3, 4*len(fea), 4)\n",
    "    for f in fea:\n",
    "        index = [np.where(f[:,0]==i)[0][0] for i in range(n_plan)] if len(f) != n_plan else f[:,0].argsort()\n",
    "        drug_fea = np.hstack((drug_fea, f[index, 1:]))\n",
    "    return {feaSpace[planIdKey][i]:drug_fea[i] for i in range(len(drug_fea))}, cat_index\n",
    "    \n",
    "drug_feature, drug_cat = assembleDrugFeature(drug_int_features, feature_space, encode_list)"
   ]
  },
  {
   "cell_type": "markdown",
   "metadata": {
    "collapsed": true
   },
   "source": [
    "### Combine plan and drug feature for common plan ID"
   ]
  },
  {
   "cell_type": "code",
   "execution_count": 10,
   "metadata": {
    "collapsed": false
   },
   "outputs": [],
   "source": [
    "feature = []\n",
    "\n",
    "for p,df in drug_feature.items():\n",
    "    pf = plan_feature[p]\n",
    "    n_pf = len(pf)\n",
    "    pf.extend(df)\n",
    "    feature.append(pf)\n",
    "    \n",
    "cat_index = plan_cat + [x+n_pf for x in drug_cat]"
   ]
  },
  {
   "cell_type": "markdown",
   "metadata": {},
   "source": [
    "###One-hot-encode"
   ]
  },
  {
   "cell_type": "code",
   "execution_count": 11,
   "metadata": {
    "collapsed": false
   },
   "outputs": [],
   "source": [
    "enc = OneHotEncoder(categorical_features=cat_index)\n",
    "encode_feature = enc.fit_transform(feature)  "
   ]
  },
  {
   "cell_type": "code",
   "execution_count": 12,
   "metadata": {
    "collapsed": false
   },
   "outputs": [
    {
     "data": {
      "text/plain": [
       "<11x35345 sparse matrix of type '<type 'numpy.float64'>'\n",
       "\twith 130289 stored elements in COOrdinate format>"
      ]
     },
     "execution_count": 12,
     "metadata": {},
     "output_type": "execute_result"
    }
   ],
   "source": [
    "encode_feature"
   ]
  }
 ],
 "metadata": {
  "kernelspec": {
   "display_name": "Python 2",
   "language": "python",
   "name": "python2"
  },
  "language_info": {
   "codemirror_mode": {
    "name": "ipython",
    "version": 2
   },
   "file_extension": ".py",
   "mimetype": "text/x-python",
   "name": "python",
   "nbconvert_exporter": "python",
   "pygments_lexer": "ipython2",
   "version": "2.7.9"
  }
 },
 "nbformat": 4,
 "nbformat_minor": 0
}
