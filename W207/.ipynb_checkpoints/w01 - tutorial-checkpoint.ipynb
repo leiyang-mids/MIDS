{
 "cells": [
  {
   "cell_type": "code",
   "execution_count": null,
   "metadata": {
    "collapsed": true
   },
   "outputs": [],
   "source": []
  },
  {
   "cell_type": "markdown",
   "metadata": {},
   "source": [
    "This notebook is intended to introduce you to running ipython notebook and to familiarize you with some basics of numpy, matplotlib, and sklearn, which you'll use extensively in this course. Read through the commands, try making changes, and make sure you understand how the plots below are generated.\n",
    "\n",
    "In your project, you should be focusing on making your code as readable as possible. Use lots of comments -- see the code below -- and try to prefer clarity over compact code.\n",
    "\n",
    "You should also familiarize yourself with the various keyboard shortcuts for moving between cells and running cells. Ctrl-ENTER runs a cell, while shift-ENTER runs a cell and advances focus to the next cell."
   ]
  },
  {
   "cell_type": "markdown",
   "metadata": {},
   "source": [
    "The first code cell just contains setup calls -- importing libraries and some other global settings to make things run smoothly."
   ]
  },
  {
   "cell_type": "code",
   "execution_count": 2,
   "metadata": {},
   "outputs": [],
   "source": [
    "# Import a bunch of libraries.\n",
    "import numpy as np\n",
    "import matplotlib.pyplot as plt\n",
    "from sklearn.preprocessing import PolynomialFeatures\n",
    "from sklearn.linear_model import LinearRegression\n",
    "from sklearn.pipeline import Pipeline\n",
    "\n",
    "# This tells matplotlib not to try opening a new window for each plot.\n",
    "%matplotlib inline"
   ]
  },
  {
   "cell_type": "markdown",
   "metadata": {},
   "source": [
    "Start by setting the randomizer seed so results are the same each time. We'll use a random number generator later."
   ]
  },
  {
   "cell_type": "code",
   "execution_count": 3,
   "metadata": {},
   "outputs": [],
   "source": [
    "np.random.seed(100)"
   ]
  },
  {
   "cell_type": "markdown",
   "metadata": {},
   "source": [
    "Generate evenly spaced X values in [0,1] using linspace.\n",
    "X is a numpy array, in particular a multi-dimensional \"ndarray\".\n",
    "Try looking at the documentation for ndarray:\n",
    "http://docs.scipy.org/doc/numpy/reference/arrays.ndarray.html"
   ]
  },
  {
   "cell_type": "code",
   "execution_count": 26,
   "metadata": {},
   "outputs": [
    {
     "name": "stdout",
     "output_type": "stream",
     "text": [
      "[ 0.          0.22222222  0.44444444  0.66666667  0.88888889  1.11111111\n",
      "  1.33333333  1.55555556  1.77777778  2.        ]\n",
      "<type 'numpy.ndarray'>\n",
      "(2, 10)\n"
     ]
    }
   ],
   "source": [
    "# How many samples to generate. Try adjusting this value.\n",
    "n_samples = 35\n",
    "\n",
    "X = np.linspace(0, 1, n_samples)\n",
    "Y = np.array([np.linspace(0,2,10), np.linspace(3,4,10)])\n",
    "\n",
    "# Inspect X.\n",
    "print Y[0,:]\n",
    "print type(Y)\n",
    "print Y.shape"
   ]
  },
  {
   "cell_type": "markdown",
   "metadata": {},
   "source": [
    "Let's create a \"true\" function that we will try to approximate with a model, below. We'll use python's lambda syntax, which makes it easy to define a simple function in a single line. See here for more details:\n",
    "\n",
    "http://www.python-course.eu/lambda.php\n"
   ]
  },
  {
   "cell_type": "code",
   "execution_count": 27,
   "metadata": {},
   "outputs": [
    {
     "name": "stdout",
     "output_type": "stream",
     "text": [
      "-1.0\n",
      "-0.707106781187\n",
      "[ 1.         -0.70710678]\n"
     ]
    }
   ],
   "source": [
    "# Set the true function as a piece of a cosine curve.\n",
    "true_function = lambda x: np.cos(1.5 * np.pi * x)\n",
    "\n",
    "# Try it out. Notice that you can apply the function to a scalar or an array.\n",
    "print true_function(2)\n",
    "print true_function(0.5)\n",
    "print true_function(np.array([0, 0.5]))"
   ]
  },
  {
   "cell_type": "markdown",
   "metadata": {},
   "source": [
    "Now, let's generate noisy observations of our true function. This simulates something like the situation we encounter in the real world: we observe noisy data from which we'd like to infer a model."
   ]
  },
  {
   "cell_type": "code",
   "execution_count": 28,
   "metadata": {},
   "outputs": [
    {
     "name": "stdout",
     "output_type": "stream",
     "text": [
      "['1.00', '0.99', '0.96', '0.91', '0.85', '0.77', '0.67', '0.57', '0.45', '0.32', '0.18', '0.05', '-0.09', '-0.23', '-0.36', '-0.49', '-0.60', '-0.71', '-0.80', '-0.87', '-0.93', '-0.97', '-1.00', '-1.00', '-0.98', '-0.95', '-0.90', '-0.82', '-0.74', '-0.64', '-0.53', '-0.40', '-0.27', '-0.14', '-0.00']\n",
      "['0.83', '1.02', '1.08', '0.89', '0.95', '0.82', '0.70', '0.46', '0.43', '0.34', '0.14', '0.09', '-0.15', '-0.15', '-0.29', '-0.50', '-0.66', '-0.60', '-0.84', '-0.99', '-0.77', '-0.82', '-1.02', '-1.08', '-0.96', '-0.85', '-0.82', '-0.69', '-0.77', '-0.63', '-0.50', '-0.55', '-0.35', '-0.06', '0.08']\n"
     ]
    }
   ],
   "source": [
    "# Generate true y values.\n",
    "y = true_function(X)\n",
    "\n",
    "# Print the values of y to the nearest hundredth.\n",
    "print ['%.2f' %i for i in y]\n",
    "\n",
    "# Add random noise to y.\n",
    "# The randn function samples random numbers from the standard Normal distribution.\n",
    "# Multiplying adjusts the standard deviation of the distribution.\n",
    "y += np.random.randn(n_samples) * .1\n",
    "\n",
    "# Print the noise-added values of y for comparison.\n",
    "print ['%.2f' %i for i in y]"
   ]
  },
  {
   "cell_type": "markdown",
   "metadata": {},
   "source": [
    "Ok. Now we have some outputs, y, that we want to predict, and some inputs X. In general, our outputs (in this course) will always be 1-dimensional. Our inputs will usually have more than 1 dimension -- we'll call these our features. But here, for simplicity, we have just a single feature. \n",
    "\n",
    "Since the machine learning classes in sklearn expect input feature vectors, we need to turn each input x in X into a feature vector [x]."
   ]
  },
  {
   "cell_type": "code",
   "execution_count": 29,
   "metadata": {},
   "outputs": [
    {
     "name": "stdout",
     "output_type": "stream",
     "text": [
      "[[ 0.        ]\n",
      " [ 0.02941176]\n",
      " [ 0.05882353]\n",
      " [ 0.08823529]\n",
      " [ 0.11764706]\n",
      " [ 0.14705882]\n",
      " [ 0.17647059]\n",
      " [ 0.20588235]\n",
      " [ 0.23529412]\n",
      " [ 0.26470588]\n",
      " [ 0.29411765]\n",
      " [ 0.32352941]\n",
      " [ 0.35294118]\n",
      " [ 0.38235294]\n",
      " [ 0.41176471]\n",
      " [ 0.44117647]\n",
      " [ 0.47058824]\n",
      " [ 0.5       ]\n",
      " [ 0.52941176]\n",
      " [ 0.55882353]\n",
      " [ 0.58823529]\n",
      " [ 0.61764706]\n",
      " [ 0.64705882]\n",
      " [ 0.67647059]\n",
      " [ 0.70588235]\n",
      " [ 0.73529412]\n",
      " [ 0.76470588]\n",
      " [ 0.79411765]\n",
      " [ 0.82352941]\n",
      " [ 0.85294118]\n",
      " [ 0.88235294]\n",
      " [ 0.91176471]\n",
      " [ 0.94117647]\n",
      " [ 0.97058824]\n",
      " [ 1.        ]]\n"
     ]
    }
   ],
   "source": [
    "# Another way to do this is np.transpose([X]). Read more about array indexing for details.\n",
    "X = X[:, np.newaxis]\n",
    "print X"
   ]
  },
  {
   "cell_type": "markdown",
   "metadata": {},
   "source": [
    "Since you're already familiar with linear regression, let's try that first. Check out the sklearn documentation for linear regression:\n",
    "\n",
    "http://scikit-learn.org/stable/modules/generated/sklearn.linear_model.LinearRegression.html"
   ]
  },
  {
   "cell_type": "code",
   "execution_count": 31,
   "metadata": {},
   "outputs": [
    {
     "name": "stdout",
     "output_type": "stream",
     "text": [
      "0.68200208245\n",
      "[-1.72119682]\n",
      "Estimated function: y = 0.68 + -1.72x\n"
     ]
    }
   ],
   "source": [
    "# Try setting fit_intercept=False as well.\n",
    "lr = LinearRegression(fit_intercept=True)\n",
    "lr.fit(X, y)\n",
    "print lr.intercept_\n",
    "print lr.coef_\n",
    "print 'Estimated function: y = %.2f + %.2fx' %(lr.intercept_, lr.coef_[0])"
   ]
  },
  {
   "cell_type": "markdown",
   "metadata": {},
   "source": [
    "Approximating a cosine function with a linear model doesn't work so well. By adding polynomial transformations of our feature(s), we can fit more complex functions. This is often called polynomial regression. Take a look at the sklearn documentation for the PolynomialFeatures preprocessor:\n",
    "\n",
    "http://scikit-learn.org/stable/modules/generated/sklearn.preprocessing.PolynomialFeatures.html\n",
    "\n",
    "You'll notice that the sklearn classes have many of the same function names like fit() and fit_transform()."
   ]
  },
  {
   "cell_type": "code",
   "execution_count": 32,
   "metadata": {},
   "outputs": [
    {
     "name": "stdout",
     "output_type": "stream",
     "text": [
      "[[  0.00000000e+00   0.00000000e+00]\n",
      " [  2.94117647e-02   8.65051903e-04]\n",
      " [  5.88235294e-02   3.46020761e-03]\n",
      " [  8.82352941e-02   7.78546713e-03]\n",
      " [  1.17647059e-01   1.38408304e-02]\n",
      " [  1.47058824e-01   2.16262976e-02]\n",
      " [  1.76470588e-01   3.11418685e-02]\n",
      " [  2.05882353e-01   4.23875433e-02]\n",
      " [  2.35294118e-01   5.53633218e-02]\n",
      " [  2.64705882e-01   7.00692042e-02]\n",
      " [  2.94117647e-01   8.65051903e-02]\n",
      " [  3.23529412e-01   1.04671280e-01]\n",
      " [  3.52941176e-01   1.24567474e-01]\n",
      " [  3.82352941e-01   1.46193772e-01]\n",
      " [  4.11764706e-01   1.69550173e-01]\n",
      " [  4.41176471e-01   1.94636678e-01]\n",
      " [  4.70588235e-01   2.21453287e-01]\n",
      " [  5.00000000e-01   2.50000000e-01]\n",
      " [  5.29411765e-01   2.80276817e-01]\n",
      " [  5.58823529e-01   3.12283737e-01]\n",
      " [  5.88235294e-01   3.46020761e-01]\n",
      " [  6.17647059e-01   3.81487889e-01]\n",
      " [  6.47058824e-01   4.18685121e-01]\n",
      " [  6.76470588e-01   4.57612457e-01]\n",
      " [  7.05882353e-01   4.98269896e-01]\n",
      " [  7.35294118e-01   5.40657439e-01]\n",
      " [  7.64705882e-01   5.84775087e-01]\n",
      " [  7.94117647e-01   6.30622837e-01]\n",
      " [  8.23529412e-01   6.78200692e-01]\n",
      " [  8.52941176e-01   7.27508651e-01]\n",
      " [  8.82352941e-01   7.78546713e-01]\n",
      " [  9.11764706e-01   8.31314879e-01]\n",
      " [  9.41176471e-01   8.85813149e-01]\n",
      " [  9.70588235e-01   9.42041522e-01]\n",
      " [  1.00000000e+00   1.00000000e+00]]\n"
     ]
    }
   ],
   "source": [
    "# Try increasing the degree past 2.\n",
    "poly = PolynomialFeatures(degree=2, include_bias=False)\n",
    "X2 = poly.fit_transform(X)\n",
    "print X2"
   ]
  },
  {
   "cell_type": "markdown",
   "metadata": {},
   "source": [
    "Now let's fit a linear model where the input features are (x, x^2)."
   ]
  },
  {
   "cell_type": "code",
   "execution_count": 33,
   "metadata": {},
   "outputs": [
    {
     "name": "stdout",
     "output_type": "stream",
     "text": [
      "1.48204775911\n",
      "[-6.66693373  4.94573691]\n",
      "Estimated function: y = 1.48 + -6.67x0 + 4.95x1\n"
     ]
    }
   ],
   "source": [
    "lr = LinearRegression(fit_intercept=True)\n",
    "lr.fit(X2, y)\n",
    "print lr.intercept_\n",
    "print lr.coef_\n",
    "print 'Estimated function: y = %.2f + %.2fx0 + %.2fx1' %(lr.intercept_, lr.coef_[0], lr.coef_[1])"
   ]
  },
  {
   "cell_type": "markdown",
   "metadata": {},
   "source": [
    "Let's put everything together and try some plotting. We can use sklearn's Pipeline framework to connect the 2 operations, PolynomialFeatures and LinearRegression, both of which have a fit() method."
   ]
  },
  {
   "cell_type": "code",
   "execution_count": 34,
   "metadata": {},
   "outputs": [
    {
     "data": {
      "image/png": "[encoded data removed]",
      "text/plain": [
       "<matplotlib.figure.Figure at 0x109fb1b50>"
      ]
     },
     "metadata": {},
     "output_type": "display_data"
    }
   ],
   "source": [
    "# Below, we'll fit polynomials to the noisy data with these degrees.\n",
    "degrees = [1, 4, 15]\n",
    "\n",
    "# Initialize a new plot.\n",
    "plt.figure(figsize=(14, 4))\n",
    "\n",
    "# We'll create a subplot for each value of the degrees list.\n",
    "for i in range(len(degrees)):\n",
    "    # The subplots are all on the same row.\n",
    "    ax = plt.subplot(1, len(degrees), i+1)\n",
    "    \n",
    "    # Turn off tick marks to keep things clean.\n",
    "    plt.setp(ax, xticks=(), yticks=())\n",
    "\n",
    "    # Set up the polynomial features preprocessor.\n",
    "    polynomial_features = PolynomialFeatures(degree=degrees[i],\n",
    "                                             include_bias=False)\n",
    "\n",
    "    # Use the sklearn's Pipeline to string together 2 operations.\n",
    "    linear_regression = LinearRegression()\n",
    "    pipeline = Pipeline([(\"polynomial_features\", polynomial_features),\n",
    "                         (\"linear_regression\", linear_regression)])\n",
    "\n",
    "    pipeline.fit(X, y)\n",
    "    \n",
    "    # Show samples from the fitted function.\n",
    "    X_test = np.linspace(0, 1, 100)\n",
    "    plt.plot(X_test, pipeline.predict(X_test[:, np.newaxis]), label=\"Model\")\n",
    "\n",
    "    # Show the true function.\n",
    "    plt.plot(X_test, true_function(X_test), label=\"True function\")\n",
    "\n",
    "    # Show the original noisy samples.\n",
    "    plt.scatter(X, y, label=\"Samples\")\n",
    "\n",
    "    # Add a few more labels to the plot.\n",
    "    plt.xlabel(\"x\")\n",
    "    plt.ylabel(\"y\")\n",
    "    plt.xlim((-.05, 1.05))\n",
    "    plt.ylim((-2, 2))\n",
    "    plt.legend(loc=\"best\")\n",
    "    plt.title(\"Degree %d\" % degrees[i])\n",
    "\n",
    "# Render the plots.\n",
    "plt.show()"
   ]
  },
  {
   "cell_type": "markdown",
   "metadata": {},
   "source": [
    "The machine learning lesson here is that we are interested in the smallest model that fits our data the best. Clearly, the degree 1 model, while very small (only 2 parameters), doesn't fit the observed data well. The degree 15 model fits the observed data extremely well, but is unlikely to generalize to new data. This is a case of \"over-fitting\", which often happens when we try to estimate too many parameters from just a few examples. The degree 4 model appears to be a good blend of small model size and good generalization."
   ]
  },
  {
   "cell_type": "code",
   "execution_count": null,
   "metadata": {
    "collapsed": true
   },
   "outputs": [],
   "source": []
  },
  {
   "cell_type": "code",
   "execution_count": null,
   "metadata": {
    "collapsed": true
   },
   "outputs": [],
   "source": []
  }
 ],
 "metadata": {
  "kernelspec": {
   "display_name": "Python 3",
   "language": "python",
   "name": "python3"
  },
  "language_info": {
   "codemirror_mode": {
    "name": "ipython",
    "version": 3
   },
   "file_extension": ".py",
   "mimetype": "text/x-python",
   "name": "python",
   "nbconvert_exporter": "python",
   "pygments_lexer": "ipython3",
   "version": "3.6.1"
  }
 },
 "nbformat": 4,
 "nbformat_minor": 1
}
