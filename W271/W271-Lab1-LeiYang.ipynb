{
 "cells": [
  {
   "cell_type": "markdown",
   "metadata": {},
   "source": [
    "#MIDS DATASCI W271 [Lab #1](https://drive.google.com/open?id=0B3l4mqbuf82YNFk2Y0x5S0ZLc1U)\n",
    "---------\n",
    "##Submitted by Lei Yang ([leiyang@berkeley.edu](mailto:leiyang@berkeley.edu)) 2016-01-28"
   ]
  },
  {
   "cell_type": "markdown",
   "metadata": {},
   "source": [
    "###Question 1\n",
    "\n",
    "####1."
   ]
  }
 ],
 "metadata": {
  "kernelspec": {
   "display_name": "Python 2",
   "language": "python",
   "name": "python2"
  },
  "language_info": {
   "codemirror_mode": {
    "name": "ipython",
    "version": 2
   },
   "file_extension": ".py",
   "mimetype": "text/x-python",
   "name": "python",
   "nbconvert_exporter": "python",
   "pygments_lexer": "ipython2",
   "version": "2.7.9"
  }
 },
 "nbformat": 4,
 "nbformat_minor": 0
}
