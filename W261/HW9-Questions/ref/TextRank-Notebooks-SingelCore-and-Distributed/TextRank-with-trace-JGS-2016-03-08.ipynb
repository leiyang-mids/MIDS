{
 "cells": [
  {
   "cell_type": "markdown",
   "metadata": {},
   "source": [
    "#Data"
   ]
  },
  {
   "cell_type": "code",
   "execution_count": 1,
   "metadata": {
    "collapsed": false
   },
   "outputs": [
    {
     "name": "stdout",
     "output_type": "stream",
     "text": [
      "Writing textrank.txt\n"
     ]
    }
   ],
   "source": [
    "%%writefile textrank.txt\n",
    "3: BC−HurricaineGilbert, 09−11 339\n",
    "4: BC−Hurricaine Gilbert, 0348\n",
    "5: Hurricaine Gilbert heads toward Dominican Coast\n",
    "6: By Ruddy Gonzalez\n",
    "7: Associated Press Writer\n",
    "8: Santo Domingo, Dominican Republic (AP)\n",
    "9: Hurricaine Gilbert Swept towrd the Dominican Republic Sunday, and the Civil Defense alerted its heavily populated south coast to prepare for high winds, heavy rains, and high seas.\n",
    "10: The storm was approaching from the southeast with sustained winds of 75 mph gusting to 92 mph.\n",
    "11: \"There is no need for alarm,\" Civil Defense Director Eugenio Cabral said in a television alert shortly after midnight Saturday.\n",
    "12: Cabral said residents of the province of Barahona should closely follow Gilbert’s movement.\n",
    "13: An estimated 100,000 people live in the province, including 70,000 in the city of Barahona, about 125 miles west of Santo Domingo.\n",
    "14: Tropical storm Gilbert formed in the eastern Carribean and strenghtened into a hurricaine Saturday night.\n",
    "15: The National Hurricaine Center in Miami reported its position at 2 a.m. Sunday at latitude 16.1 north, longitude 67.5 west, about 140 miles south of Ponce, Puerto Rico, and 200 miles southeast of Santo Domingo.\n",
    "16: The National Weather Service in San Juan, Puerto Rico, said Gilbert was moving westard at 15 mph with a \"broad area of cloudiness and heavy weather\" rotating around the center of the storm.\n",
    "17: The weather service issued a flash flood watch for Puerto Rico and the Virgin Islands until at least 6 p.m. Sunday.\n",
    "18: Strong winds associated with the Gilbert brought coastal flooding, strong southeast winds, and up to 12 feet to Puerto Rico’s south coast.\n",
    "19: There were no reports on casualties.\n",
    "20: San Juan, on the north coast, had heavy rains and gusts Saturday, but they subsided during the night.\n",
    "21: On Saturday, Hurricane Florence was downgraded to a tropical storm, and its remnants pushed inland from the U.S. Gulf Coast.\n",
    "22: Residents returned home, happy to find little damage from 90 mph winds and sheets of rain.\n",
    "23: Florence, the sixth named storm of the 1988 Atlantic storm season, was the second hurricane.\n",
    "24: The first, Debby, reached minimal hurricane strength briefly before hitting the Mexican coast last month."
   ]
  },
  {
   "cell_type": "markdown",
   "metadata": {},
   "source": [
    "#Set enviroment variable for PySpark"
   ]
  },
  {
   "cell_type": "code",
   "execution_count": 2,
   "metadata": {
    "collapsed": false
   },
   "outputs": [
    {
     "name": "stdout",
     "output_type": "stream",
     "text": [
      "Welcome to\n",
      "      ____              __\n",
      "     / __/__  ___ _____/ /__\n",
      "    _\\ \\/ _ \\/ _ `/ __/  '_/\n",
      "   /__ / .__/\\_,_/_/ /_/\\_\\   version 1.3.0\n",
      "      /_/\n",
      "\n",
      "Using Python version 2.7.10 (default, May 28 2015 17:04:42)\n",
      "SparkContext available as sc, HiveContext available as sqlCtx.\n"
     ]
    }
   ],
   "source": [
    "import os\n",
    "import sys\n",
    "spark_home = os.environ['SPARK_HOME'] = '/Users/liang/Downloads/spark-1.3.0-bin-hadoop2.4/'\n",
    "spark_home = os.environ['SPARK_HOME'] = '/Users/jshanahan/Dropbox/Lectures-UC-Berkeley-ML-Class-2015/spark-1.5.0-bin-hadoop2.6/'\n",
    "if not spark_home:\n",
    "    raise ValueError('SPARK_HOME enviroment variable is not set')\n",
    "sys.path.insert(0,os.path.join(spark_home,'python'))\n",
    "sys.path.insert(0,os.path.join(spark_home,'python/lib/py4j-0.8.2.1-src.zip'))\n",
    "execfile(os.path.join(spark_home,'python/pyspark/shell.py'))"
   ]
  },
  {
   "cell_type": "markdown",
   "metadata": {},
   "source": [
    "#Text Rank Algo"
   ]
  },
  {
   "cell_type": "code",
   "execution_count": 3,
   "metadata": {
    "collapsed": false
   },
   "outputs": [
    {
     "name": "stdout",
     "output_type": "stream",
     "text": [
      "[(u'19', 0.23286450789357083), (u'18', 1.3101198610073745), (u'8', 0.3597458157428781), (u'3', 0.15), (u'6', 0.15), (u'9', 1.6621648426556026), (u'4', 0.3910419617637807), (u'7', 0.15), (u'11', 0.6701184724682888), (u'24', 0.655934562135146), (u'10', 1.378954687951134), (u'13', 1.0000606932676237), (u'12', 0.839961809498709), (u'20', 1.1108549804269938), (u'5', 0.5583873090105679), (u'15', 1.388140218659445), (u'14', 1.3506522859181915), (u'21', 1.3034037101082727), (u'22', 0.8728040835480523), (u'17', 1.1616119338531525), (u'23', 0.8686459446416938), (u'16', 1.8845323194495136)]\n"
     ]
    }
   ],
   "source": [
    "from math import log\n",
    "\n",
    "def computeContribs(sentences, rank):\n",
    "    sumOfWeights = sum([s[1] for s in sentences])\n",
    "    for sentence in sentences:\n",
    "        yield (sentence[0], rank * sentence[1] / sumOfWeights)\n",
    "# each record is (node, List of All Neighbors)        \n",
    "def parseSentences(line):\n",
    "    fields = line.split(':')\n",
    "    return(fields[0], fields[1].replace(',','').split())\n",
    "\n",
    "def generateLink(sentence1,sentence2):\n",
    "    w = len(set(sentence1[1]) & set(sentence2[1]))/(log(len(sentence1[1]))+log(len(sentence2[1])))\n",
    "    return(sentence1[0],(sentence2[0],w))\n",
    "\n",
    "\n",
    "text = sc.textFile(\"./textrank.txt\").map(parseSentences)\n",
    "links = text.cartesian(text).filter(lambda(s1,s2): s1[0]!=s2[0]) \\\n",
    "            .map(lambda(s1,s2):generateLink(s1,s2)) \\\n",
    "            .groupByKey() \\\n",
    "            .filter(lambda (Idx,links): sum([s[1] for s in links])>0) \\\n",
    "            .cache()\n",
    "ranks = links.map(lambda (url, neighbors): (url, 1.0))\n",
    "for iteration in xrange(5):\n",
    "    #Emit scores to all neighbor nodes \n",
    "    contribs = links.join(ranks).flatMap(\n",
    "        lambda (sentence, (sentences, rank)): computeContribs(sentences, rank))\n",
    "    #sum up \n",
    "    ranks = contribs.reduceByKey(lambda x,y: x+y).mapValues(lambda rank: rank * 0.85 + 0.15)\n",
    "print ranks.collect()\n"
   ]
  },
  {
   "cell_type": "code",
   "execution_count": 3,
   "metadata": {
    "collapsed": false
   },
   "outputs": [],
   "source": [
    "\"\"\"\n",
    "From this paper: https://web.eecs.umich.edu/~mihalcea/papers/mihalcea.emnlp04.pdf\n",
    "\n",
    "External dependencies: nltk, numpy, networkx\n",
    "\n",
    "Based on https://gist.github.com/voidfiles/1646117\n",
    "\"\"\"\n",
    "\n",
    "import io\n",
    "import nltk\n",
    "import itertools\n",
    "from operator import itemgetter\n",
    "import networkx as nx\n",
    "import os\n",
    "\n",
    "#apply syntactic filters based on POS tags\n",
    "def filter_for_tags(tagged, tags=['NN', 'JJ', 'NNP']):\n",
    "    return [item for item in tagged if item[1] in tags]\n",
    "\n",
    "def normalize(tagged):\n",
    "    return [(item[0].replace('.', ''), item[1]) for item in tagged]\n",
    "\n",
    "def unique_everseen(iterable, key=None):\n",
    "    \"List unique elements, preserving order. Remember all elements ever seen.\"\n",
    "    # unique_everseen('AAAABBBCCDAABBB') --> A B C D\n",
    "    # unique_everseen('ABBCcAD', str.lower) --> A B C D\n",
    "    seen = set()\n",
    "    seen_add = seen.add\n",
    "    if key is None:\n",
    "        for element in itertools.ifilterfalse(seen.__contains__, iterable):\n",
    "            seen_add(element)\n",
    "            yield element\n",
    "    else:\n",
    "        for element in iterable:\n",
    "            k = key(element)\n",
    "            if k not in seen:\n",
    "                seen_add(k)\n",
    "                yield element\n",
    "\n",
    "def lDistance(firstString, secondString):\n",
    "    \"Function to find the Levenshtein distance between two words/sentences - gotten from http://rosettacode.org/wiki/Levenshtein_distance#Python\"\n",
    "    if len(firstString) > len(secondString):\n",
    "        firstString, secondString = secondString, firstString\n",
    "    distances = range(len(firstString) + 1)\n",
    "    for index2, char2 in enumerate(secondString):\n",
    "        newDistances = [index2 + 1]\n",
    "        for index1, char1 in enumerate(firstString):\n",
    "            if char1 == char2:\n",
    "                newDistances.append(distances[index1])\n",
    "            else:\n",
    "                newDistances.append(1 + min((distances[index1], distances[index1+1], newDistances[-1])))\n",
    "        distances = newDistances\n",
    "    return distances[-1]\n",
    "\n",
    "def buildGraph(nodes):\n",
    "    \"nodes - list of hashables that represents the nodes of the graph\"\n",
    "    gr = nx.Graph() #initialize an undirected graph\n",
    "    gr.add_nodes_from(nodes)\n",
    "    nodePairs = list(itertools.combinations(nodes, 2))\n",
    "\n",
    "    #add edges to the graph (weighted by Levenshtein distance)\n",
    "    for pair in nodePairs:\n",
    "        firstString = pair[0]\n",
    "        secondString = pair[1]\n",
    "        levDistance = lDistance(firstString, secondString)\n",
    "        gr.add_edge(firstString, secondString, weight=levDistance)\n",
    "\n",
    "    return gr\n",
    "\n",
    "def extractKeyphrases(text):\n",
    "    # tokenize the text using nltk\n",
    "    wordTokens = nltk.word_tokenize(text)\n",
    "\n",
    "    # assign POS tags to the words in the text\n",
    "    tagged = nltk.pos_tag(wordTokens)\n",
    "    textlist = [x[0] for x in tagged]\n",
    "    \n",
    "    tagged = filter_for_tags(tagged)\n",
    "    tagged = normalize(tagged)\n",
    "\n",
    "    unique_word_set = unique_everseen([x[0] for x in tagged])\n",
    "    word_set_list = list(unique_word_set)\n",
    "\n",
    "    # this will be used to determine adjacent words in order to construct keyphrases with two words\n",
    "    graph = buildGraph(word_set_list)\n",
    "    # pageRank - initial value of 1.0, error tolerance of 0,0001, \n",
    "    calculated_page_rank = nx.pagerank(graph, weight='weight')\n",
    "    # most important words in ascending order of importance\n",
    "    keyphrases = sorted(calculated_page_rank, key=calculated_page_rank.get, reverse=True)\n",
    "    # the number of keyphrases returned will be relative to the size of the text (a third of the number of vertices)\n",
    "    aThird = len(word_set_list) / 3\n",
    "    keyphrases = keyphrases[0:aThird+1]\n",
    "    # take keyphrases with multiple words into consideration as done in the paper - if two words are adjacent \n",
    "    # in the text and are selected as keywords, join them together\n",
    "    modifiedKeyphrases = set([])\n",
    "    dealtWith = set([]) #keeps track of individual keywords that have been joined to form a keyphrase\n",
    "    i = 0\n",
    "    j = 1\n",
    "    while j < len(textlist):\n",
    "        firstWord = textlist[i]\n",
    "        secondWord = textlist[j]\n",
    "        if firstWord in keyphrases and secondWord in keyphrases:\n",
    "            keyphrase = firstWord + ' ' + secondWord\n",
    "            modifiedKeyphrases.add(keyphrase)\n",
    "            dealtWith.add(firstWord)\n",
    "            dealtWith.add(secondWord)\n",
    "        else:\n",
    "            if firstWord in keyphrases and firstWord not in dealtWith: \n",
    "                modifiedKeyphrases.add(firstWord)\n",
    "            #if this is the last word in the text, and it is a keyword,\n",
    "            #it definitely has no chance of being a keyphrase at this point    \n",
    "            if j == len(textlist)-1 and secondWord in keyphrases and secondWord not in dealtWith:\n",
    "                modifiedKeyphrases.add(secondWord)      \n",
    "        i = i + 1\n",
    "        j = j + 1\n",
    "        \n",
    "    return modifiedKeyphrases\n",
    "\n",
    "def extractSentences(text):\n",
    "    sent_detector = nltk.data.load('tokenizers/punkt/english.pickle')\n",
    "    sentenceTokens = sent_detector.tokenize(text.strip())\n",
    "    graph = buildGraph(sentenceTokens)\n",
    "\n",
    "    calculated_page_rank = nx.pagerank(graph, weight='weight')\n",
    "\n",
    "    #most important sentences in ascending order of importance\n",
    "    sentences = sorted(calculated_page_rank, key=calculated_page_rank.get, reverse=True)\n",
    "\n",
    "    #return a 100 word summary\n",
    "    summary = ' '.join(sentences)\n",
    "    summaryWords = summary.split()\n",
    "    summaryWords = summaryWords[0:101]\n",
    "    summary = ' '.join(summaryWords)\n",
    "\n",
    "    return summary\n",
    "\n",
    "def writeFiles(summary, keyphrases, fileName):\n",
    "    \"outputs the keyphrases and summaries to appropriate files\"\n",
    "    print \"Generating output to \" + 'TextRank-master/keywords/' + fileName\n",
    "    keyphraseFile = io.open('TextRank-master/keywords/' + fileName, 'w')\n",
    "    for keyphrase in keyphrases:\n",
    "        keyphraseFile.write(keyphrase + '\\n')\n",
    "    keyphraseFile.close()\n",
    "\n",
    "    print \"Generating output to \" + 'TextRank-master/summaries/' + fileName\n",
    "    summaryFile = io.open('TextRank-master/summaries/' + fileName, 'w')\n",
    "    summaryFile.write(summary)\n",
    "    summaryFile.close()\n",
    "\n",
    "    print \"-\"\n",
    "\n",
    "def mainRunner():\n",
    "    nltk.download()\n",
    "    #retrieve each of the articles\n",
    "    articles = os.listdir(\"TextRank-master/articles\")\n",
    "    for article in articles:\n",
    "        print 'Reading articles/' + article\n",
    "        articleFile = io.open('TextRank-master/articles/' + article, 'r')\n",
    "        text = articleFile.read()\n",
    "        keyphrases = extractKeyphrases(text)\n",
    "        summary = extractSentences(text)\n",
    "        writeFiles(summary, keyphrases, article)"
   ]
  },
  {
   "cell_type": "markdown",
   "metadata": {},
   "source": [
    "# If you have not downloaded nltk packages please run the following line\n"
   ]
  },
  {
   "cell_type": "code",
   "execution_count": 8,
   "metadata": {
    "collapsed": false
   },
   "outputs": [
    {
     "name": "stdout",
     "output_type": "stream",
     "text": [
      "/Users/jshanahan/Dropbox/nativex-internal/publications/WSDM-2016/Notebooks/TextRank\r\n"
     ]
    }
   ],
   "source": [
    "!pwd  #/Users/jshanahan/Dropbox/nativex-internal/publications/WSDM-2016/Notebooks/TextRank\n",
    "\n",
    "#mainRunner()"
   ]
  },
  {
   "cell_type": "code",
   "execution_count": null,
   "metadata": {
    "collapsed": true
   },
   "outputs": [],
   "source": [
    "#nltk.download()"
   ]
  },
  {
   "cell_type": "code",
   "execution_count": null,
   "metadata": {
    "collapsed": false
   },
   "outputs": [],
   "source": [
    "#/Users/jshanahan/Dropbox/nativex-internal/publications/WSDM-2016/Notebooks/TextRank\n",
    "\n",
    "mainRunner()"
   ]
  },
  {
   "cell_type": "code",
   "execution_count": null,
   "metadata": {
    "collapsed": true
   },
   "outputs": [],
   "source": [
    "wordTokens = nltk.word_tokenize(\"assign POS tags to the words in the text\")\n",
    "\n",
    "    #assign POS tags to the words in the text\n",
    "tagged = nltk.pos_tag(wordTokens)"
   ]
  },
  {
   "cell_type": "code",
   "execution_count": 4,
   "metadata": {
    "collapsed": false
   },
   "outputs": [
    {
     "name": "stdout",
     "output_type": "stream",
     "text": [
      "Reading articles/1.txt\n",
      "Generating output to TextRank-master/keywords/1.txt\n",
      "Generating output to TextRank-master/summaries/1.txt\n",
      "-\n",
      "Reading articles/10.txt\n",
      "Generating output to TextRank-master/keywords/10.txt\n",
      "Generating output to TextRank-master/summaries/10.txt\n",
      "-\n",
      "Reading articles/2.txt\n",
      "Generating output to TextRank-master/keywords/2.txt\n",
      "Generating output to TextRank-master/summaries/2.txt\n",
      "-\n",
      "Reading articles/3.txt\n",
      "Generating output to TextRank-master/keywords/3.txt\n",
      "Generating output to TextRank-master/summaries/3.txt\n",
      "-\n",
      "Reading articles/4.txt\n",
      "Generating output to TextRank-master/keywords/4.txt\n",
      "Generating output to TextRank-master/summaries/4.txt\n",
      "-\n",
      "Reading articles/5.txt\n",
      "Generating output to TextRank-master/keywords/5.txt\n",
      "Generating output to TextRank-master/summaries/5.txt\n",
      "-\n",
      "Reading articles/6.txt\n",
      "Generating output to TextRank-master/keywords/6.txt\n",
      "Generating output to TextRank-master/summaries/6.txt\n",
      "-\n",
      "Reading articles/7.txt\n",
      "Generating output to TextRank-master/keywords/7.txt\n",
      "Generating output to TextRank-master/summaries/7.txt\n",
      "-\n",
      "Reading articles/8.txt\n",
      "Generating output to TextRank-master/keywords/8.txt\n",
      "Generating output to TextRank-master/summaries/8.txt\n",
      "-\n",
      "Reading articles/9.txt\n",
      "Generating output to TextRank-master/keywords/9.txt\n",
      "Generating output to TextRank-master/summaries/9.txt\n",
      "-\n"
     ]
    }
   ],
   "source": [
    "    articles = os.listdir(\"TextRank-master/articles\")\n",
    "    for article in articles:\n",
    "        print 'Reading articles/' + article\n",
    "        articleFile = io.open('TextRank-master/articles/' + article, 'r')\n",
    "        text = articleFile.read()\n",
    "        keyphrases = extractKeyphrases(text)\n",
    "        summary = extractSentences(text)\n",
    "        writeFiles(summary, keyphrases, article)\n",
    "        "
   ]
  },
  {
   "cell_type": "code",
   "execution_count": 13,
   "metadata": {
    "collapsed": true
   },
   "outputs": [],
   "source": [
    "text=\"\"\"LINCOLNSHIRE, IL With next-generation video game systems such as the Xbox One and the Playstation 4 hitting \n",
    "stores later this month, the console wars got even hotter today as electronics manufacturer Zenith announced \n",
    "the release of its own console, the Gamespace Pro, which arrives in stores Nov. 19. “With its sleek silver-and-gray box, \n",
    "double-analog-stick controllers, ability to play CDs, and starting price of $374.99, the Gamespace Pro is our way of \n",
    "saying, ‘Move over, Sony and Microsoft, Zenith is now officially a player in the console game,’” said \n",
    "Zenith CEO Michael Ahn at a Gamespace Pro press event, showcasing the system’s launch titles MoonChaser: \n",
    "Radiation, Cris Collinsworth’s Pigskin 2013, and survival-horror thriller InZomnia. “With over nine launch \n",
    "titles, 3D graphics, and the ability to log on to the internet using our Z-Connect technology, Zenith is finally \n",
    "poised to make some big waves in the video game world.” According to Zenith representatives, over 650 units have \n",
    "already been preordered.\"\"\""
   ]
  },
  {
   "cell_type": "code",
   "execution_count": 17,
   "metadata": {
    "collapsed": false
   },
   "outputs": [],
   "source": [
    "articleFile = io.open('TextRank-master/articles/' + \"1.txt\", 'r')\n",
    "text = articleFile.read()\n",
    "wordTokens = nltk.word_tokenize(text) \n",
    "\n",
    "#assign POS tags to the words in the text\n",
    "tagged = nltk.pos_tag(wordTokens)\n",
    "textlist = [x[0] for x in tagged]\n"
   ]
  },
  {
   "cell_type": "code",
   "execution_count": 18,
   "metadata": {
    "collapsed": false
   },
   "outputs": [
    {
     "data": {
      "text/plain": [
       "[(u'\\ufeffLINCOLNSHIRE', 'NN'),\n",
       " (u',', ','),\n",
       " (u'IL', 'NNP'),\n",
       " (u'With', 'IN'),\n",
       " (u'next-generation', 'JJ'),\n",
       " (u'video', 'NN'),\n",
       " (u'game', 'NN'),\n",
       " (u'systems', 'NNS'),\n",
       " (u'such', 'JJ'),\n",
       " (u'as', 'IN'),\n",
       " (u'the', 'DT'),\n",
       " (u'Xbox', 'NNP'),\n",
       " (u'One', 'NNP'),\n",
       " (u'and', 'CC'),\n",
       " (u'the', 'DT'),\n",
       " (u'Playstation', 'NNP'),\n",
       " (u'4', 'CD'),\n",
       " (u'hitting', 'NN'),\n",
       " (u'stores', 'NNS'),\n",
       " (u'later', 'RBR'),\n",
       " (u'this', 'DT'),\n",
       " (u'month', 'NN'),\n",
       " (u',', ','),\n",
       " (u'the', 'DT'),\n",
       " (u'console', 'NN'),\n",
       " (u'wars', 'NNS'),\n",
       " (u'got', 'VBD'),\n",
       " (u'even', 'RB'),\n",
       " (u'hotter', 'JJR'),\n",
       " (u'today', 'NN'),\n",
       " (u'as', 'IN'),\n",
       " (u'electronics', 'NNS'),\n",
       " (u'manufacturer', 'NN'),\n",
       " (u'Zenith', 'NNP'),\n",
       " (u'announced', 'VBD'),\n",
       " (u'the', 'DT'),\n",
       " (u'release', 'NN'),\n",
       " (u'of', 'IN'),\n",
       " (u'its', 'PRP$'),\n",
       " (u'own', 'JJ'),\n",
       " (u'console', 'NN'),\n",
       " (u',', ','),\n",
       " (u'the', 'DT'),\n",
       " (u'Gamespace', 'NNP'),\n",
       " (u'Pro', 'NNP'),\n",
       " (u',', ','),\n",
       " (u'which', 'WDT'),\n",
       " (u'arrives', 'VBZ'),\n",
       " (u'in', 'IN'),\n",
       " (u'stores', 'NNS'),\n",
       " (u'Nov.', 'NNP'),\n",
       " (u'19', 'CD'),\n",
       " (u'.', '.'),\n",
       " (u'\\u201cWith', 'VB'),\n",
       " (u'its', 'PRP$'),\n",
       " (u'sleek', 'JJ'),\n",
       " (u'silver-and-gray', 'NN'),\n",
       " (u'box', 'NN'),\n",
       " (u',', ','),\n",
       " (u'double-analog-stick', 'JJ'),\n",
       " (u'controllers', 'NNS'),\n",
       " (u',', ','),\n",
       " (u'ability', 'NN'),\n",
       " (u'to', 'TO'),\n",
       " (u'play', 'VB'),\n",
       " (u'CDs', 'NNS'),\n",
       " (u',', ','),\n",
       " (u'and', 'CC'),\n",
       " (u'starting', 'VBG'),\n",
       " (u'price', 'NN'),\n",
       " (u'of', 'IN'),\n",
       " (u'$', '$'),\n",
       " (u'374.99', 'CD'),\n",
       " (u',', ','),\n",
       " (u'the', 'DT'),\n",
       " (u'Gamespace', 'NNP'),\n",
       " (u'Pro', 'NNP'),\n",
       " (u'is', 'VBZ'),\n",
       " (u'our', 'PRP$'),\n",
       " (u'way', 'NN'),\n",
       " (u'of', 'IN'),\n",
       " (u'saying', 'VBG'),\n",
       " (u',', ','),\n",
       " (u'\\u2018Move', 'NN'),\n",
       " (u'over', 'IN'),\n",
       " (u',', ','),\n",
       " (u'Sony', 'NNP'),\n",
       " (u'and', 'CC'),\n",
       " (u'Microsoft', 'NNP'),\n",
       " (u',', ','),\n",
       " (u'Zenith', 'NNP'),\n",
       " (u'is', 'VBZ'),\n",
       " (u'now', 'RB'),\n",
       " (u'officially', 'RB'),\n",
       " (u'a', 'DT'),\n",
       " (u'player', 'NN'),\n",
       " (u'in', 'IN'),\n",
       " (u'the', 'DT'),\n",
       " (u'console', 'JJ'),\n",
       " (u'game', 'NN'),\n",
       " (u',', ','),\n",
       " (u'\\u2019\\u201d', 'NNP'),\n",
       " (u'said', 'VBD'),\n",
       " (u'Zenith', 'NNP'),\n",
       " (u'CEO', 'NNP'),\n",
       " (u'Michael', 'NNP'),\n",
       " (u'Ahn', 'NNP'),\n",
       " (u'at', 'IN'),\n",
       " (u'a', 'DT'),\n",
       " (u'Gamespace', 'NNP'),\n",
       " (u'Pro', 'NNP'),\n",
       " (u'press', 'NN'),\n",
       " (u'event', 'NN'),\n",
       " (u',', ','),\n",
       " (u'showcasing', 'VBG'),\n",
       " (u'the', 'DT'),\n",
       " (u'system\\u2019s', 'NN'),\n",
       " (u'launch', 'NN'),\n",
       " (u'titles', 'NNS'),\n",
       " (u'MoonChaser', 'NNP'),\n",
       " (u':', ':'),\n",
       " (u'Radiation', 'NN'),\n",
       " (u',', ','),\n",
       " (u'Cris', 'NNP'),\n",
       " (u'Collinsworth\\u2019s', 'NNP'),\n",
       " (u'Pigskin', 'NNP'),\n",
       " (u'2013', 'CD'),\n",
       " (u',', ','),\n",
       " (u'and', 'CC'),\n",
       " (u'survival-horror', 'JJ'),\n",
       " (u'thriller', 'NN'),\n",
       " (u'InZomnia', 'NNP'),\n",
       " (u'.', '.'),\n",
       " (u'\\u201cWith', 'NN'),\n",
       " (u'over', 'IN'),\n",
       " (u'nine', 'CD'),\n",
       " (u'launch', 'JJ'),\n",
       " (u'titles', 'NNS'),\n",
       " (u',', ','),\n",
       " (u'3D', 'CD'),\n",
       " (u'graphics', 'NNS'),\n",
       " (u',', ','),\n",
       " (u'and', 'CC'),\n",
       " (u'the', 'DT'),\n",
       " (u'ability', 'NN'),\n",
       " (u'to', 'TO'),\n",
       " (u'log', 'VB'),\n",
       " (u'on', 'IN'),\n",
       " (u'to', 'TO'),\n",
       " (u'the', 'DT'),\n",
       " (u'internet', 'NN'),\n",
       " (u'using', 'VBG'),\n",
       " (u'our', 'PRP$'),\n",
       " (u'Z-Connect', 'JJ'),\n",
       " (u'technology', 'NN'),\n",
       " (u',', ','),\n",
       " (u'Zenith', 'NNP'),\n",
       " (u'is', 'VBZ'),\n",
       " (u'finally', 'RB'),\n",
       " (u'poised', 'VBN'),\n",
       " (u'to', 'TO'),\n",
       " (u'make', 'VB'),\n",
       " (u'some', 'DT'),\n",
       " (u'big', 'JJ'),\n",
       " (u'waves', 'NNS'),\n",
       " (u'in', 'IN'),\n",
       " (u'the', 'DT'),\n",
       " (u'video', 'NN'),\n",
       " (u'game', 'NN'),\n",
       " (u'world.\\u201d', 'NN'),\n",
       " (u'According', 'VBG'),\n",
       " (u'to', 'TO'),\n",
       " (u'Zenith', 'NNP'),\n",
       " (u'representatives', 'NNS'),\n",
       " (u',', ','),\n",
       " (u'over', 'IN'),\n",
       " (u'650', 'CD'),\n",
       " (u'units', 'NNS'),\n",
       " (u'have', 'VBP'),\n",
       " (u'already', 'RB'),\n",
       " (u'been', 'VBN'),\n",
       " (u'preordered', 'VBN'),\n",
       " (u'.', '.')]"
      ]
     },
     "execution_count": 18,
     "metadata": {},
     "output_type": "execute_result"
    }
   ],
   "source": [
    "tagged\n"
   ]
  },
  {
   "cell_type": "code",
   "execution_count": 19,
   "metadata": {
    "collapsed": false
   },
   "outputs": [
    {
     "data": {
      "text/plain": [
       "[u'\\ufeffLINCOLNSHIRE',\n",
       " u',',\n",
       " u'IL',\n",
       " u'With',\n",
       " u'next-generation',\n",
       " u'video',\n",
       " u'game',\n",
       " u'systems',\n",
       " u'such',\n",
       " u'as',\n",
       " u'the',\n",
       " u'Xbox',\n",
       " u'One',\n",
       " u'and',\n",
       " u'the',\n",
       " u'Playstation',\n",
       " u'4',\n",
       " u'hitting',\n",
       " u'stores',\n",
       " u'later',\n",
       " u'this',\n",
       " u'month',\n",
       " u',',\n",
       " u'the',\n",
       " u'console',\n",
       " u'wars',\n",
       " u'got',\n",
       " u'even',\n",
       " u'hotter',\n",
       " u'today',\n",
       " u'as',\n",
       " u'electronics',\n",
       " u'manufacturer',\n",
       " u'Zenith',\n",
       " u'announced',\n",
       " u'the',\n",
       " u'release',\n",
       " u'of',\n",
       " u'its',\n",
       " u'own',\n",
       " u'console',\n",
       " u',',\n",
       " u'the',\n",
       " u'Gamespace',\n",
       " u'Pro',\n",
       " u',',\n",
       " u'which',\n",
       " u'arrives',\n",
       " u'in',\n",
       " u'stores',\n",
       " u'Nov.',\n",
       " u'19',\n",
       " u'.',\n",
       " u'\\u201cWith',\n",
       " u'its',\n",
       " u'sleek',\n",
       " u'silver-and-gray',\n",
       " u'box',\n",
       " u',',\n",
       " u'double-analog-stick',\n",
       " u'controllers',\n",
       " u',',\n",
       " u'ability',\n",
       " u'to',\n",
       " u'play',\n",
       " u'CDs',\n",
       " u',',\n",
       " u'and',\n",
       " u'starting',\n",
       " u'price',\n",
       " u'of',\n",
       " u'$',\n",
       " u'374.99',\n",
       " u',',\n",
       " u'the',\n",
       " u'Gamespace',\n",
       " u'Pro',\n",
       " u'is',\n",
       " u'our',\n",
       " u'way',\n",
       " u'of',\n",
       " u'saying',\n",
       " u',',\n",
       " u'\\u2018Move',\n",
       " u'over',\n",
       " u',',\n",
       " u'Sony',\n",
       " u'and',\n",
       " u'Microsoft',\n",
       " u',',\n",
       " u'Zenith',\n",
       " u'is',\n",
       " u'now',\n",
       " u'officially',\n",
       " u'a',\n",
       " u'player',\n",
       " u'in',\n",
       " u'the',\n",
       " u'console',\n",
       " u'game',\n",
       " u',',\n",
       " u'\\u2019\\u201d',\n",
       " u'said',\n",
       " u'Zenith',\n",
       " u'CEO',\n",
       " u'Michael',\n",
       " u'Ahn',\n",
       " u'at',\n",
       " u'a',\n",
       " u'Gamespace',\n",
       " u'Pro',\n",
       " u'press',\n",
       " u'event',\n",
       " u',',\n",
       " u'showcasing',\n",
       " u'the',\n",
       " u'system\\u2019s',\n",
       " u'launch',\n",
       " u'titles',\n",
       " u'MoonChaser',\n",
       " u':',\n",
       " u'Radiation',\n",
       " u',',\n",
       " u'Cris',\n",
       " u'Collinsworth\\u2019s',\n",
       " u'Pigskin',\n",
       " u'2013',\n",
       " u',',\n",
       " u'and',\n",
       " u'survival-horror',\n",
       " u'thriller',\n",
       " u'InZomnia',\n",
       " u'.',\n",
       " u'\\u201cWith',\n",
       " u'over',\n",
       " u'nine',\n",
       " u'launch',\n",
       " u'titles',\n",
       " u',',\n",
       " u'3D',\n",
       " u'graphics',\n",
       " u',',\n",
       " u'and',\n",
       " u'the',\n",
       " u'ability',\n",
       " u'to',\n",
       " u'log',\n",
       " u'on',\n",
       " u'to',\n",
       " u'the',\n",
       " u'internet',\n",
       " u'using',\n",
       " u'our',\n",
       " u'Z-Connect',\n",
       " u'technology',\n",
       " u',',\n",
       " u'Zenith',\n",
       " u'is',\n",
       " u'finally',\n",
       " u'poised',\n",
       " u'to',\n",
       " u'make',\n",
       " u'some',\n",
       " u'big',\n",
       " u'waves',\n",
       " u'in',\n",
       " u'the',\n",
       " u'video',\n",
       " u'game',\n",
       " u'world.\\u201d',\n",
       " u'According',\n",
       " u'to',\n",
       " u'Zenith',\n",
       " u'representatives',\n",
       " u',',\n",
       " u'over',\n",
       " u'650',\n",
       " u'units',\n",
       " u'have',\n",
       " u'already',\n",
       " u'been',\n",
       " u'preordered',\n",
       " u'.']"
      ]
     },
     "execution_count": 19,
     "metadata": {},
     "output_type": "execute_result"
    }
   ],
   "source": [
    "textlist\n"
   ]
  },
  {
   "cell_type": "code",
   "execution_count": 20,
   "metadata": {
    "collapsed": false
   },
   "outputs": [
    {
     "data": {
      "text/plain": [
       "[(u'\\ufeffLINCOLNSHIRE', 'NN'),\n",
       " (u'IL', 'NNP'),\n",
       " (u'next-generation', 'JJ'),\n",
       " (u'video', 'NN'),\n",
       " (u'game', 'NN'),\n",
       " (u'such', 'JJ'),\n",
       " (u'Xbox', 'NNP'),\n",
       " (u'One', 'NNP'),\n",
       " (u'Playstation', 'NNP'),\n",
       " (u'hitting', 'NN'),\n",
       " (u'month', 'NN'),\n",
       " (u'console', 'NN'),\n",
       " (u'today', 'NN'),\n",
       " (u'manufacturer', 'NN'),\n",
       " (u'Zenith', 'NNP'),\n",
       " (u'release', 'NN'),\n",
       " (u'own', 'JJ'),\n",
       " (u'console', 'NN'),\n",
       " (u'Gamespace', 'NNP'),\n",
       " (u'Pro', 'NNP'),\n",
       " (u'Nov.', 'NNP'),\n",
       " (u'sleek', 'JJ'),\n",
       " (u'silver-and-gray', 'NN'),\n",
       " (u'box', 'NN'),\n",
       " (u'double-analog-stick', 'JJ'),\n",
       " (u'ability', 'NN'),\n",
       " (u'price', 'NN'),\n",
       " (u'Gamespace', 'NNP'),\n",
       " (u'Pro', 'NNP'),\n",
       " (u'way', 'NN'),\n",
       " (u'\\u2018Move', 'NN'),\n",
       " (u'Sony', 'NNP'),\n",
       " (u'Microsoft', 'NNP'),\n",
       " (u'Zenith', 'NNP'),\n",
       " (u'player', 'NN'),\n",
       " (u'console', 'JJ'),\n",
       " (u'game', 'NN'),\n",
       " (u'\\u2019\\u201d', 'NNP'),\n",
       " (u'Zenith', 'NNP'),\n",
       " (u'CEO', 'NNP'),\n",
       " (u'Michael', 'NNP'),\n",
       " (u'Ahn', 'NNP'),\n",
       " (u'Gamespace', 'NNP'),\n",
       " (u'Pro', 'NNP'),\n",
       " (u'press', 'NN'),\n",
       " (u'event', 'NN'),\n",
       " (u'system\\u2019s', 'NN'),\n",
       " (u'launch', 'NN'),\n",
       " (u'MoonChaser', 'NNP'),\n",
       " (u'Radiation', 'NN'),\n",
       " (u'Cris', 'NNP'),\n",
       " (u'Collinsworth\\u2019s', 'NNP'),\n",
       " (u'Pigskin', 'NNP'),\n",
       " (u'survival-horror', 'JJ'),\n",
       " (u'thriller', 'NN'),\n",
       " (u'InZomnia', 'NNP'),\n",
       " (u'\\u201cWith', 'NN'),\n",
       " (u'launch', 'JJ'),\n",
       " (u'ability', 'NN'),\n",
       " (u'internet', 'NN'),\n",
       " (u'Z-Connect', 'JJ'),\n",
       " (u'technology', 'NN'),\n",
       " (u'Zenith', 'NNP'),\n",
       " (u'big', 'JJ'),\n",
       " (u'video', 'NN'),\n",
       " (u'game', 'NN'),\n",
       " (u'world.\\u201d', 'NN'),\n",
       " (u'Zenith', 'NNP')]"
      ]
     },
     "execution_count": 20,
     "metadata": {},
     "output_type": "execute_result"
    }
   ],
   "source": [
    "tagged = filter_for_tags(tagged)\n",
    "tagged "
   ]
  },
  {
   "cell_type": "code",
   "execution_count": 21,
   "metadata": {
    "collapsed": false
   },
   "outputs": [
    {
     "data": {
      "text/plain": [
       "[(u'\\ufeffLINCOLNSHIRE', 'NN'),\n",
       " (u'IL', 'NNP'),\n",
       " (u'next-generation', 'JJ'),\n",
       " (u'video', 'NN'),\n",
       " (u'game', 'NN'),\n",
       " (u'such', 'JJ'),\n",
       " (u'Xbox', 'NNP'),\n",
       " (u'One', 'NNP'),\n",
       " (u'Playstation', 'NNP'),\n",
       " (u'hitting', 'NN'),\n",
       " (u'month', 'NN'),\n",
       " (u'console', 'NN'),\n",
       " (u'today', 'NN'),\n",
       " (u'manufacturer', 'NN'),\n",
       " (u'Zenith', 'NNP'),\n",
       " (u'release', 'NN'),\n",
       " (u'own', 'JJ'),\n",
       " (u'console', 'NN'),\n",
       " (u'Gamespace', 'NNP'),\n",
       " (u'Pro', 'NNP'),\n",
       " (u'Nov', 'NNP'),\n",
       " (u'sleek', 'JJ'),\n",
       " (u'silver-and-gray', 'NN'),\n",
       " (u'box', 'NN'),\n",
       " (u'double-analog-stick', 'JJ'),\n",
       " (u'ability', 'NN'),\n",
       " (u'price', 'NN'),\n",
       " (u'Gamespace', 'NNP'),\n",
       " (u'Pro', 'NNP'),\n",
       " (u'way', 'NN'),\n",
       " (u'\\u2018Move', 'NN'),\n",
       " (u'Sony', 'NNP'),\n",
       " (u'Microsoft', 'NNP'),\n",
       " (u'Zenith', 'NNP'),\n",
       " (u'player', 'NN'),\n",
       " (u'console', 'JJ'),\n",
       " (u'game', 'NN'),\n",
       " (u'\\u2019\\u201d', 'NNP'),\n",
       " (u'Zenith', 'NNP'),\n",
       " (u'CEO', 'NNP'),\n",
       " (u'Michael', 'NNP'),\n",
       " (u'Ahn', 'NNP'),\n",
       " (u'Gamespace', 'NNP'),\n",
       " (u'Pro', 'NNP'),\n",
       " (u'press', 'NN'),\n",
       " (u'event', 'NN'),\n",
       " (u'system\\u2019s', 'NN'),\n",
       " (u'launch', 'NN'),\n",
       " (u'MoonChaser', 'NNP'),\n",
       " (u'Radiation', 'NN'),\n",
       " (u'Cris', 'NNP'),\n",
       " (u'Collinsworth\\u2019s', 'NNP'),\n",
       " (u'Pigskin', 'NNP'),\n",
       " (u'survival-horror', 'JJ'),\n",
       " (u'thriller', 'NN'),\n",
       " (u'InZomnia', 'NNP'),\n",
       " (u'\\u201cWith', 'NN'),\n",
       " (u'launch', 'JJ'),\n",
       " (u'ability', 'NN'),\n",
       " (u'internet', 'NN'),\n",
       " (u'Z-Connect', 'JJ'),\n",
       " (u'technology', 'NN'),\n",
       " (u'Zenith', 'NNP'),\n",
       " (u'big', 'JJ'),\n",
       " (u'video', 'NN'),\n",
       " (u'game', 'NN'),\n",
       " (u'world\\u201d', 'NN'),\n",
       " (u'Zenith', 'NNP')]"
      ]
     },
     "execution_count": 21,
     "metadata": {},
     "output_type": "execute_result"
    }
   ],
   "source": [
    "tagged = normalize(tagged)\n",
    "tagged"
   ]
  },
  {
   "cell_type": "code",
   "execution_count": 22,
   "metadata": {
    "collapsed": true
   },
   "outputs": [],
   "source": [
    "unique_word_set = unique_everseen([x[0] for x in tagged])\n",
    "word_set_list = list(unique_word_set)\n",
    "\n",
    "#this will be used to determine adjacent words in order to construct keyphrases with two words\n",
    "graph = buildGraph(word_set_list)\n",
    "\n",
    "#pageRank - initial value of 1.0, error tolerance of 0,0001, \n",
    "calculated_page_rank = nx.pagerank(graph, weight='weight')\n",
    "\n",
    "#most important words in ascending order of importance\n",
    "keyphrases = sorted(calculated_page_rank, key=calculated_page_rank.get, reverse=True)"
   ]
  },
  {
   "cell_type": "code",
   "execution_count": 26,
   "metadata": {
    "collapsed": false
   },
   "outputs": [
    {
     "data": {
      "text/plain": [
       "[u'\\ufeffLINCOLNSHIRE',\n",
       " u'IL',\n",
       " u'next-generation',\n",
       " u'video',\n",
       " u'game',\n",
       " u'such',\n",
       " u'Xbox',\n",
       " u'One',\n",
       " u'Playstation',\n",
       " u'hitting',\n",
       " u'month',\n",
       " u'console',\n",
       " u'today',\n",
       " u'manufacturer',\n",
       " u'Zenith',\n",
       " u'release',\n",
       " u'own',\n",
       " u'Gamespace',\n",
       " u'Pro',\n",
       " u'Nov',\n",
       " u'sleek',\n",
       " u'silver-and-gray',\n",
       " u'box',\n",
       " u'double-analog-stick',\n",
       " u'ability',\n",
       " u'price',\n",
       " u'way',\n",
       " u'\\u2018Move',\n",
       " u'Sony',\n",
       " u'Microsoft',\n",
       " u'player',\n",
       " u'\\u2019\\u201d',\n",
       " u'CEO',\n",
       " u'Michael',\n",
       " u'Ahn',\n",
       " u'press',\n",
       " u'event',\n",
       " u'system\\u2019s',\n",
       " u'launch',\n",
       " u'MoonChaser',\n",
       " u'Radiation',\n",
       " u'Cris',\n",
       " u'Collinsworth\\u2019s',\n",
       " u'Pigskin',\n",
       " u'survival-horror',\n",
       " u'thriller',\n",
       " u'InZomnia',\n",
       " u'\\u201cWith',\n",
       " u'internet',\n",
       " u'Z-Connect',\n",
       " u'technology',\n",
       " u'big',\n",
       " u'world\\u201d']"
      ]
     },
     "execution_count": 26,
     "metadata": {},
     "output_type": "execute_result"
    }
   ],
   "source": [
    "word_set_list"
   ]
  },
  {
   "cell_type": "code",
   "execution_count": 35,
   "metadata": {
    "collapsed": false
   },
   "outputs": [
    {
     "data": {
      "text/plain": [
       "[u'double-analog-stick',\n",
       " u'survival-horror',\n",
       " u'silver-and-gray',\n",
       " u'next-generation',\n",
       " u'\\ufeffLINCOLNSHIRE',\n",
       " u'Collinsworth\\u2019s',\n",
       " u'manufacturer',\n",
       " u'Playstation',\n",
       " u'technology',\n",
       " u'MoonChaser',\n",
       " u'Gamespace',\n",
       " u'Microsoft',\n",
       " u'Z-Connect',\n",
       " u'Radiation',\n",
       " u'system\\u2019s',\n",
       " u'InZomnia',\n",
       " u'thriller',\n",
       " u'internet',\n",
       " u'Pigskin',\n",
       " u'ability',\n",
       " u'hitting',\n",
       " u'Michael',\n",
       " u'release',\n",
       " u'console',\n",
       " u'world\\u201d',\n",
       " u'launch',\n",
       " u'player',\n",
       " u'Zenith',\n",
       " u'\\u201cWith',\n",
       " u'IL',\n",
       " u'\\u2019\\u201d',\n",
       " u'CEO',\n",
       " u'press',\n",
       " u'\\u2018Move',\n",
       " u'Xbox',\n",
       " u'sleek',\n",
       " u'video',\n",
       " u'today',\n",
       " u'event',\n",
       " u'price',\n",
       " u'such',\n",
       " u'Nov',\n",
       " u'game',\n",
       " u'way',\n",
       " u'box',\n",
       " u'month',\n",
       " u'Ahn',\n",
       " u'big',\n",
       " u'Pro',\n",
       " u'Cris',\n",
       " u'own',\n",
       " u'Sony',\n",
       " u'One']"
      ]
     },
     "execution_count": 35,
     "metadata": {},
     "output_type": "execute_result"
    }
   ],
   "source": [
    "keyphrases"
   ]
  },
  {
   "cell_type": "code",
   "execution_count": 30,
   "metadata": {
    "collapsed": false
   },
   "outputs": [
    {
     "ename": "TypeError",
     "evalue": "'instancemethod' object is not iterable",
     "output_type": "error",
     "traceback": [
      "\u001b[0;31m---------------------------------------------------------------------------\u001b[0m",
      "\u001b[0;31mTypeError\u001b[0m                                 Traceback (most recent call last)",
      "\u001b[0;32m<ipython-input-30-4dec7cd8d7eb>\u001b[0m in \u001b[0;36m<module>\u001b[0;34m()\u001b[0m\n\u001b[0;32m----> 1\u001b[0;31m \u001b[0;32mfor\u001b[0m \u001b[0mnode\u001b[0m \u001b[0;32min\u001b[0m  \u001b[0mgraph\u001b[0m\u001b[0;34m.\u001b[0m\u001b[0mnodes_iter\u001b[0m\u001b[0;34m:\u001b[0m\u001b[0;34m\u001b[0m\u001b[0m\n\u001b[0m\u001b[1;32m      2\u001b[0m     \u001b[0;32mprint\u001b[0m \u001b[0mnode\u001b[0m\u001b[0;34m\u001b[0m\u001b[0m\n",
      "\u001b[0;31mTypeError\u001b[0m: 'instancemethod' object is not iterable"
     ]
    }
   ],
   "source": [
    "for node in  graph.nodes_iter:\n",
    "    print node"
   ]
  },
  {
   "cell_type": "code",
   "execution_count": 31,
   "metadata": {
    "collapsed": true
   },
   "outputs": [],
   "source": [
    "sent_detector = nltk.data.load('tokenizers/punkt/english.pickle')\n",
    "sentenceTokens = sent_detector.tokenize(text.strip())\n",
    "graph = buildGraph(sentenceTokens)\n",
    "\n",
    "calculated_page_rank = nx.pagerank(graph, weight='weight')\n"
   ]
  },
  {
   "cell_type": "code",
   "execution_count": 32,
   "metadata": {
    "collapsed": false
   },
   "outputs": [
    {
     "data": {
      "text/plain": [
       "[u'\\ufeffLINCOLNSHIRE, IL With next-generation video game systems such as the Xbox One and the Playstation 4 hitting stores later this month, the console wars got even hotter today as electronics manufacturer Zenith announced the release of its own console, the Gamespace Pro, which arrives in stores Nov. 19.',\n",
       " u'\\u201cWith its sleek silver-and-gray box, double-analog-stick controllers, ability to play CDs, and starting price of $374.99, the Gamespace Pro is our way of saying, \\u2018Move over, Sony and Microsoft, Zenith is now officially a player in the console game,\\u2019\\u201d said Zenith CEO Michael Ahn at a Gamespace Pro press event, showcasing the system\\u2019s launch titles MoonChaser: Radiation, Cris Collinsworth\\u2019s Pigskin 2013, and survival-horror thriller InZomnia.',\n",
       " u'\\u201cWith over nine launch titles, 3D graphics, and the ability to log on to the internet using our Z-Connect technology, Zenith is finally poised to make some big waves in the video game world.\\u201d According to Zenith representatives, over 650 units have already been preordered.']"
      ]
     },
     "execution_count": 32,
     "metadata": {},
     "output_type": "execute_result"
    }
   ],
   "source": [
    "sentenceTokens"
   ]
  },
  {
   "cell_type": "code",
   "execution_count": 33,
   "metadata": {
    "collapsed": false
   },
   "outputs": [
    {
     "data": {
      "text/plain": [
       "u'\\ufeffLINCOLNSHIRE, IL With next-generation video game systems such as the Xbox One and the Playstation 4 hitting stores later this month, the console wars got even hotter today as electronics manufacturer Zenith announced the release of its own console, the Gamespace Pro, which arrives in stores Nov. 19. \\u201cWith its sleek silver-and-gray box, double-analog-stick controllers, ability to play CDs, and starting price of $374.99, the Gamespace Pro is our way of saying, \\u2018Move over, Sony and Microsoft, Zenith is now officially a player in the console game,\\u2019\\u201d said Zenith CEO Michael Ahn at a Gamespace Pro press event, showcasing the system\\u2019s launch titles MoonChaser: Radiation, Cris Collinsworth\\u2019s Pigskin 2013, and survival-horror thriller InZomnia. \\u201cWith over nine launch titles, 3D graphics, and the ability to log on to the internet using our Z-Connect technology, Zenith is finally poised to make some big waves in the video game world.\\u201d According to Zenith representatives, over 650 units have already been preordered.'"
      ]
     },
     "execution_count": 33,
     "metadata": {},
     "output_type": "execute_result"
    }
   ],
   "source": [
    "text\n"
   ]
  },
  {
   "cell_type": "code",
   "execution_count": 34,
   "metadata": {
    "collapsed": false
   },
   "outputs": [
    {
     "data": {
      "text/plain": [
       "{u'\\u201cWith its sleek silver-and-gray box, double-analog-stick controllers, ability to play CDs, and starting price of $374.99, the Gamespace Pro is our way of saying, \\u2018Move over, Sony and Microsoft, Zenith is now officially a player in the console game,\\u2019\\u201d said Zenith CEO Michael Ahn at a Gamespace Pro press event, showcasing the system\\u2019s launch titles MoonChaser: Radiation, Cris Collinsworth\\u2019s Pigskin 2013, and survival-horror thriller InZomnia.': 0.363650754848674,\n",
       " u'\\u201cWith over nine launch titles, 3D graphics, and the ability to log on to the internet using our Z-Connect technology, Zenith is finally poised to make some big waves in the video game world.\\u201d According to Zenith representatives, over 650 units have already been preordered.': 0.31264271392367987,\n",
       " u'\\ufeffLINCOLNSHIRE, IL With next-generation video game systems such as the Xbox One and the Playstation 4 hitting stores later this month, the console wars got even hotter today as electronics manufacturer Zenith announced the release of its own console, the Gamespace Pro, which arrives in stores Nov. 19.': 0.3237065312276459}"
      ]
     },
     "execution_count": 34,
     "metadata": {},
     "output_type": "execute_result"
    }
   ],
   "source": [
    "calculated_page_rank"
   ]
  },
  {
   "cell_type": "code",
   "execution_count": null,
   "metadata": {
    "collapsed": true
   },
   "outputs": [],
   "source": []
  }
 ],
 "metadata": {
  "kernelspec": {
   "display_name": "Python 2",
   "language": "python",
   "name": "python2"
  },
  "language_info": {
   "codemirror_mode": {
    "name": "ipython",
    "version": 2
   },
   "file_extension": ".py",
   "mimetype": "text/x-python",
   "name": "python",
   "nbconvert_exporter": "python",
   "pygments_lexer": "ipython2",
   "version": "2.7.10"
  }
 },
 "nbformat": 4,
 "nbformat_minor": 0
}
