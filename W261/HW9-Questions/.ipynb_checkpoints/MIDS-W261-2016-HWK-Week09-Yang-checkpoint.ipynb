{
 "cells": [
  {
   "cell_type": "markdown",
   "metadata": {},
   "source": [
    "#DATASCI W261, Machine Learning at Scale\n",
    "--------\n",
    "####Assignement:  week \\#9\n",
    "####[Lei Yang](mailto:leiyang@berkeley.edu) | [Michael Kennedy](mailto:mkennedy@ischool.berkeley.edu) | [Natarajan Krishnaswami](mailto:natarajan@krishnaswami.org)\n",
    "####Due: 2016-03-19, 12PM PST"
   ]
  },
  {
   "cell_type": "markdown",
   "metadata": {
    "collapsed": true
   },
   "source": [
    "###HW 9.0: Short answer questions\n",
    "\n",
    "**What is PageRank and what is it used for in the context of web search?**\n",
    "\n",
    "PageRank is a measure of web page quality based on the structure of the hyperlink graph. In the context of web search, PageRank is able to provide a topic-sensitive or customized ranking of webpage popularity according to query content and/or customer preference. PageRank is a measure of how frequently a page would be encountered by a stochastic process which has a asymptotic steady state. PageRank assumes a community of honest users who are not trying to “game” the measure.\n",
    "\n",
    "**What modifications have to be made to the webgraph in order to leverage the machinery of Markov Chains to \n",
    "compute the steady stade distibuton?**\n",
    "\n",
    "The transition matrix must be irreducible in order to leverage the Markov Chains machinery of steady state distribution. In case of dangling nodes (node with zero out-degree), the associated mass must be redistributed across the graph to other nodes, based on teleportation factor. \n",
    "\n",
    "**OPTIONAL: In topic-specific pagerank, how can we insure that the irreducible property is satified? (HINT: see HW9.4)**\n",
    "\n",
    "One approach to ensure irreducible is by requiring that nodes not reachable from in-topic nodes be removed from the network, this is hard to implement for parallel computing in that identifying the \"unreachable\" nodes is not easy. Alternatively, one can define a non-uniform damping factor such that all nodes will be participating in the PageRank, but the in-topic nodes will be heavily weighted according to the relative frequency in the population.\n",
    "\n",
    "\n",
    "\n",
    "###HW 9.1: MRJob implementation of basic PageRank\n",
    "\n",
    "- Write a basic MRJob implementation of the iterative PageRank algorithm\n",
    "that takes sparse adjacency lists as input (as explored in HW 7).\n",
    "- Make sure that you implementation utilizes teleportation (1-damping/the number of nodes in the network), \n",
    "and further, **distributes the mass of dangling nodes with each iteration**\n",
    "so that the output of each iteration is correctly normalized (sums to 1).\n",
    "- [**NOTE**: The PageRank algorithm assumes that a random surfer (walker), starting from a random web page,\n",
    "chooses the next page to which it will move by clicking at random, with probability d,\n",
    "one of the hyperlinks in the current page. This probability is represented by a so-called\n",
    "‘damping factor’ d, where d ∈ (0, 1). Otherwise, with probability (1 − d), the surfer\n",
    "jumps to any web page in the network. If a page is a dangling end, meaning it has no\n",
    "outgoing hyperlinks, the random surfer selects an arbitrary web page from a uniform\n",
    "distribution and “teleports” to that page]\n",
    "\n",
    "\n",
    "As you build your code, use the test data\n",
    "\n",
    "s3://ucb-mids-mls-networks/PageRank-test.txt\n",
    "Or under the Data Subfolder for HW7 on Dropbox with the same file name. \n",
    "(On Dropbox https://www.dropbox.com/sh/2c0k5adwz36lkcw/AAAAKsjQfF9uHfv-X9mCqr9wa?dl=0)\n",
    "\n",
    "with teleportation parameter set to 0.15 (1-d, where d, the damping factor is set to 0.85), and crosscheck\n",
    "your work with the true result, displayed in the first image\n",
    "in the Wikipedia article:\n",
    "\n",
    "https://en.wikipedia.org/wiki/PageRank\n",
    "\n",
    "and here for reference are the corresponding PageRank probabilities:\n",
    "\n",
    "A,0.033\n",
    "B,0.384\n",
    "C,0.343\n",
    "D,0.039\n",
    "E,0.081\n",
    "F,0.039\n",
    "G,0.016\n",
    "H,0.016\n",
    "I,0.016\n",
    "J,0.016\n",
    "K,0.016\n",
    "\n",
    "###PageRank with MapReduce\n",
    "<img src=\"PageRank.png\" alt=\"Drawing\" style=\"width: 550px;\"/>\n",
    "\n",
    "\n",
    "###PageRank Iteration Job"
   ]
  },
  {
   "cell_type": "code",
   "execution_count": 52,
   "metadata": {
    "collapsed": false
   },
   "outputs": [
    {
     "name": "stdout",
     "output_type": "stream",
     "text": [
      "Overwriting PageRankIter.py\n"
     ]
    }
   ],
   "source": [
    "%%writefile PageRankIter.py\n",
    "from mrjob.job import MRJob\n",
    "from mrjob.step import MRStep\n",
    "\n",
    "class PageRankIter(MRJob):\n",
    "    DEFAULT_PROTOCOL = 'json'\n",
    "\n",
    "    def configure_options(self):\n",
    "        super(PageRankIter, self).configure_options()        \n",
    "        self.add_passthrough_option(\n",
    "            '--i', dest='init', default='0', type='int',\n",
    "            help='i: run initialization iteration (default 0)')    \n",
    "\n",
    "    # mapper of first pass of the file (initialization)\n",
    "    def mapper_job_init(self, _, line):        \n",
    "        # parse line\n",
    "        nid, adj = line.strip().split('\\t', 1)\n",
    "        nid = nid.strip('\"')\n",
    "        cmd = 'adj = %s' %adj\n",
    "        exec cmd\n",
    "        # initialize node struct        \n",
    "        node = {'a':adj.keys(), 'p':0}\n",
    "        rankMass = 1.0/len(adj)\n",
    "        # emit node\n",
    "        yield nid, node\n",
    "        # emit pageRank mass        \n",
    "        for m in node['a']:\n",
    "            yield m, rankMass\n",
    "          \n",
    "    # mapper for regular iteration (after initialization)\n",
    "    def mapper_job_iter(self, _, line):             \n",
    "        # parse line\n",
    "        nid, node = line.strip().split('\\t', 1)\n",
    "        nid = nid.strip('\"')\n",
    "        cmd = 'node = %s' %node\n",
    "        exec cmd\n",
    "        # distribute rank mass  \n",
    "        n_adj = len(node['a'])\n",
    "        if n_adj > 0:\n",
    "            rankMass = 1.0*node['p'] / n_adj\n",
    "            # emit pageRank mass        \n",
    "            for m in node['a']:\n",
    "                yield m, rankMass\n",
    "        else:\n",
    "            # track dangling mass with counter\n",
    "            self.increment_counter('wiki_dangling_mass', 'mass', int(node['p']*1e10))\n",
    "        # reset pageRank and emit node\n",
    "        node['p'] = 0\n",
    "        yield nid, node\n",
    "    \n",
    "    def debug(self):\n",
    "        de = 'bug'\n",
    "                \n",
    "    # write a separate combiner ensure the integrity of the graph topology\n",
    "    # no additional node object will be generated\n",
    "    def combiner(self, nid, value):             \n",
    "        rankMass, node = 0.0, None        \n",
    "        # loop through all arrivals\n",
    "        for v in value:            \n",
    "            if isinstance(v, float):\n",
    "                rankMass += v                \n",
    "            else:\n",
    "                node = v            \n",
    "        # emit accumulative mass for nid       \n",
    "        if node:\n",
    "            node['p'] += rankMass\n",
    "            yield nid, node\n",
    "        else:\n",
    "            yield nid, rankMass\n",
    "    \n",
    "    # reducer for initialization pass --> need to handle dangling nodes\n",
    "    def reducer_job_init(self, nid, value):      \n",
    "        # increase counter for node count\n",
    "        self.increment_counter('wiki_node_count', 'nodes', 1)\n",
    "        rankMass, node = 0.0, None\n",
    "        # loop through all arrivals\n",
    "        for v in value:            \n",
    "            if isinstance(v, float):\n",
    "                rankMass += v         \n",
    "            else:\n",
    "                node = v\n",
    "        # handle dangling node, create node struct and add missing mass\n",
    "        if not node:            \n",
    "            node = {'a':[], 'p':rankMass}            \n",
    "            self.increment_counter('wiki_dangling_mass', 'mass', int(1e10))\n",
    "        else:\n",
    "            node['p'] += rankMass            \n",
    "        # emit for next iteration\n",
    "        yield nid, node\n",
    "        \n",
    "    # reducer for regular pass --> all nodes has structure available\n",
    "    def reducer_job_iter(self, nid, value):              \n",
    "        rankMass, node = 0.0, None\n",
    "        # loop through all arrivals\n",
    "        for v in value:            \n",
    "            if isinstance(v, float):\n",
    "                rankMass += v         \n",
    "            else:\n",
    "                node = v\n",
    "        # update pageRank\n",
    "        node['p'] += rankMass            \n",
    "        # emit for next iteration\n",
    "        yield nid, node\n",
    "\n",
    "    def steps(self):\n",
    "        jc = {\n",
    "            'mapreduce.job.maps': '2',\n",
    "            'mapreduce.job.reduces': '2',\n",
    "        }\n",
    "        return [MRStep(mapper=self.mapper_job_init if self.options.init else self.mapper_job_iter                       \n",
    "                       , combiner=self.combiner                       \n",
    "                       , reducer=self.reducer_job_init if self.options.init else self.reducer_job_iter\n",
    "                       , jobconf = jc\n",
    "                      )\n",
    "               ]\n",
    "\n",
    "if __name__ == '__main__':\n",
    "    PageRankIter.run()\n"
   ]
  },
  {
   "cell_type": "code",
   "execution_count": 1,
   "metadata": {
    "collapsed": false,
    "scrolled": false
   },
   "outputs": [],
   "source": [
    "##### unit test #####\n",
    "#!python PageRankIter.py ./data/PageRank-test.txt --i 1 -r 'inline'  > iter1.t\n",
    "#!python PageRankIter.py iter8.t --i 0 -r 'inline' > iter9.t\n",
    "#!python PageRankIter.py 'hdfs:///user/leiyang/PageRank-test.txt' --i 1 -r 'hadoop' --output-dir 's3://w261.data/HW9_test' "
   ]
  },
  {
   "cell_type": "markdown",
   "metadata": {},
   "source": [
    "###PageRankDist Job\n",
    "- applying damping and random jump factor\n",
    "- redistribute dangling mass across the graph\n",
    "- note: normalize the ranking number at last iteration"
   ]
  },
  {
   "cell_type": "code",
   "execution_count": 53,
   "metadata": {
    "collapsed": false
   },
   "outputs": [
    {
     "name": "stdout",
     "output_type": "stream",
     "text": [
      "Overwriting PageRankDist.py\n"
     ]
    }
   ],
   "source": [
    "%%writefile PageRankDist.py\n",
    "from mrjob.job import MRJob\n",
    "from mrjob.step import MRStep\n",
    "\n",
    "class PageRankDist(MRJob):\n",
    "    DEFAULT_PROTOCOL = 'json'\n",
    "\n",
    "    def configure_options(self):\n",
    "        super(PageRankDist, self).configure_options()        \n",
    "        self.add_passthrough_option(\n",
    "            '--s', dest='size', default=0, type='int',\n",
    "            help='size: node number (default 0)')    \n",
    "        self.add_passthrough_option(\n",
    "            '--j', dest='alpha', default=0.15, type='float',\n",
    "            help='jump: random jump factor (default 0.15)') \n",
    "        self.add_passthrough_option(\n",
    "            '--n', dest='norm', default=0, type='int',\n",
    "            help='norm: normalize pageRank with graph size (default 0)') \n",
    "        self.add_passthrough_option(\n",
    "            '--m', dest='m', default=0, type='float',\n",
    "            help='m: rank mass from dangling nodes (default 0)') \n",
    "    \n",
    "    def mapper_init(self):\n",
    "        self.damping = 1 - self.options.alpha        \n",
    "        self.p_dangling = self.options.m / self.options.size        \n",
    "    \n",
    "    # needed after initialization, after node number becomes available\n",
    "    def mapper_norm(self, _, line):        \n",
    "        # parse line\n",
    "        nid, node = line.strip().split('\\t', 1)\n",
    "        nid = nid.strip('\"')\n",
    "        cmd = 'node = %s' %node\n",
    "        exec cmd\n",
    "        # get final pageRank      \n",
    "        node['p'] = ((self.p_dangling + node['p'])*self.damping+self.options.alpha) / self.options.size\n",
    "        yield nid, node\n",
    "            \n",
    "    def mapper(self, _, line):             \n",
    "        # parse line\n",
    "        nid, node = line.strip().split('\\t', 1)\n",
    "        nid = nid.strip('\"')\n",
    "        cmd = 'node = %s' %node\n",
    "        exec cmd\n",
    "        # get final pageRank      \n",
    "        node['p'] = (self.p_dangling + node['p']) * self.damping + self.options.alpha\n",
    "        yield nid, node\n",
    "\n",
    "    def steps(self):\n",
    "        jc = {\n",
    "            'mapreduce.job.maps': '2',           \n",
    "        }\n",
    "        return [MRStep(mapper_init=self.mapper_init\n",
    "                       , mapper=self.mapper_norm if self.options.norm else self.mapper                       \n",
    "                       , jobconf = jc\n",
    "                      )\n",
    "               ]\n",
    "\n",
    "if __name__ == '__main__':\n",
    "    PageRankDist.run()\n"
   ]
  },
  {
   "cell_type": "code",
   "execution_count": 138,
   "metadata": {
    "collapsed": false
   },
   "outputs": [],
   "source": [
    "##### unit test #####\n",
    "\n",
    "#!python PageRankIter.py ./data/PageRank-test.txt --i 1 -r 'hadoop'  > iter1.t\n",
    "#!python PageRankIter.py iter8.t --i 0 -r 'inline' > iter9.t\n",
    "\n",
    "\n",
    "#!python PageRankDist.py iter1.t --n 1 --s 11 --j 0.15 --m 1.0 -r 'hadoop' # > iter2.t\n",
    "#!python PageRankDist.py iter9.t --n 0 --s 11 --j 0.15 --m 0.41355561274607455   > iter10.t"
   ]
  },
  {
   "cell_type": "markdown",
   "metadata": {},
   "source": [
    "###PageRankSort Job\n",
    "- sort pageRank with descending order"
   ]
  },
  {
   "cell_type": "code",
   "execution_count": 54,
   "metadata": {
    "collapsed": false
   },
   "outputs": [
    {
     "name": "stdout",
     "output_type": "stream",
     "text": [
      "Overwriting PageRankSort.py\n"
     ]
    }
   ],
   "source": [
    "%%writefile PageRankSort.py\n",
    "from mrjob.job import MRJob\n",
    "from mrjob.step import MRStep\n",
    "\n",
    "class PageRankSort(MRJob):\n",
    "    #DEFAULT_PROTOCOL = 'json'   \n",
    "    \n",
    "    def configure_options(self):\n",
    "        super(PageRankSort, self).configure_options()        \n",
    "        self.add_passthrough_option(\n",
    "            '--s', dest='size', default=0, type='int',\n",
    "            help='size: node number (default 0)')\n",
    "        self.add_passthrough_option(\n",
    "            '--n', dest='top', default=100, type='int',\n",
    "            help='size: node number (default 100)')\n",
    "    \n",
    "    def mapper(self, _, line):        \n",
    "        # parse line\n",
    "        nid, node = line.strip().split('\\t', 1)\n",
    "        cmd = 'node = %s' %node\n",
    "        exec cmd        \n",
    "        yield node['p'], nid.strip('\"')\n",
    "    \n",
    "    def reducer_init(self):        \n",
    "        self.i = 0\n",
    "        self.total = 0\n",
    "    \n",
    "    def reducer(self, pageRank, nid): \n",
    "        for n in nid:\n",
    "            if self.i < self.options.top:\n",
    "                self.i += 1\n",
    "                self.total += pageRank\n",
    "                yield n, pageRank/self.options.size\n",
    "            \n",
    "    def reducer_final(self):\n",
    "        yield 'total mass: ', self.total/self.options.size\n",
    "\n",
    "    def steps(self):\n",
    "        jc = {\n",
    "            'mapreduce.job.output.key.comparator.class': 'org.apache.hadoop.mapreduce.lib.partition.KeyFieldBasedComparator',\n",
    "            'mapreduce.partition.keycomparator.options': '-k1,1nr',\n",
    "            'mapreduce.job.maps': '2', \n",
    "            'mapreduce.job.reduces': '1',  # must be 1 for sorting\n",
    "        }\n",
    "        return [MRStep(mapper=self.mapper, reducer_init=self.reducer_init, \n",
    "                       reducer=self.reducer, reducer_final=self.reducer_final\n",
    "                       , jobconf = jc\n",
    "                      )\n",
    "               ]\n",
    "\n",
    "if __name__ == '__main__':\n",
    "    PageRankSort.run()\n"
   ]
  },
  {
   "cell_type": "code",
   "execution_count": 290,
   "metadata": {
    "collapsed": false
   },
   "outputs": [],
   "source": [
    "##### unit test #####\n",
    "#!python PageRankSort.py iter10.t --s 11 --n 100 -r 'hadoop'"
   ]
  },
  {
   "cell_type": "markdown",
   "metadata": {},
   "source": [
    "###PageRankJoin Job\n",
    "- find page name from index file for the top ranked pages"
   ]
  },
  {
   "cell_type": "code",
   "execution_count": 55,
   "metadata": {
    "collapsed": false
   },
   "outputs": [
    {
     "name": "stdout",
     "output_type": "stream",
     "text": [
      "Overwriting PageRankJoin.py\n"
     ]
    }
   ],
   "source": [
    "%%writefile PageRankJoin.py\n",
    "from mrjob.job import MRJob\n",
    "from mrjob.step import MRStep\n",
    "from subprocess import Popen, PIPE\n",
    "\n",
    "class PageRankJoin(MRJob):\n",
    "    #DEFAULT_PROTOCOL = 'json'   \n",
    "    \n",
    "    def mapper_init(self):\n",
    "        self.topRanks = {}\n",
    "        # read rand list, prepare for mapper in-memory join        \n",
    "        cat = Popen(['cat', 'part-00000'], stdout=PIPE)\n",
    "        for line in cat.stdout:\n",
    "            nid, rank = line.strip().split('\\t')\n",
    "            self.topRanks[nid.strip('\"')] = rank\n",
    "    \n",
    "    def mapper(self, _, line):        \n",
    "        # parse line\n",
    "        name, nid, d_in, d_out = line.strip().split('\\t')\n",
    "        if nid in self.topRanks:                        \n",
    "            yield float(self.topRanks[nid]), '%s - %s' %(nid, name)\n",
    "    \n",
    "    def reducer(self, key, value):\n",
    "        for v in value:\n",
    "            yield key, v\n",
    "    \n",
    "\n",
    "    def steps(self):\n",
    "        jc = {            \n",
    "            'mapreduce.job.output.key.comparator.class': 'org.apache.hadoop.mapreduce.lib.partition.KeyFieldBasedComparator',\n",
    "            'mapreduce.partition.keycomparator.options': '-k1,1nr',\n",
    "            'mapreduce.job.maps': '2', \n",
    "            'mapreduce.job.reduces': '1',  # must be 1 for sorting            \n",
    "        }\n",
    "        return [MRStep(mapper_init=self.mapper_init\n",
    "                       , mapper=self.mapper\n",
    "                       , reducer=self.reducer\n",
    "                       , jobconf = jc\n",
    "                      )\n",
    "               ]\n",
    "\n",
    "if __name__ == '__main__':\n",
    "    PageRankJoin.run()\n",
    "\n"
   ]
  },
  {
   "cell_type": "code",
   "execution_count": 26,
   "metadata": {
    "collapsed": false,
    "scrolled": false
   },
   "outputs": [],
   "source": [
    "##### unit test #####\n",
    "#!python PageRankJoin.py 'PageRankIndex' -r 'hadoop' --file 'rank' #> test.t"
   ]
  },
  {
   "cell_type": "markdown",
   "metadata": {},
   "source": [
    "###Helpers"
   ]
  },
  {
   "cell_type": "code",
   "execution_count": 4,
   "metadata": {
    "collapsed": false,
    "scrolled": false
   },
   "outputs": [
    {
     "name": "stdout",
     "output_type": "stream",
     "text": [
      "Overwriting helper.py\n"
     ]
    }
   ],
   "source": [
    "%%writefile helper.py\n",
    "#!/usr/bin/python\n",
    "\n",
    "import requests\n",
    "\n",
    "def getCounter(groupName, counterName, host = 'localhost'):\n",
    "    # get job list       \n",
    "    getJobs = 'http://%s:19888/ws/v1/history/mapreduce/jobs' %host\n",
    "    jobs = requests.get(getJobs).json()['jobs']['job'] \n",
    "    # get counters\n",
    "    ts = max([job['finishTime'] for job in jobs])\n",
    "    id = [job['id'] for job in jobs if job['finishTime'] == ts][0]\n",
    "    getCounters = 'http://%s:19888/ws/v1/history/mapreduce/jobs/%s/counters' %(host, id)\n",
    "    counterGroups = requests.get(getCounters).json()['jobCounters']['counterGroup']\n",
    "    # loop through to counters to return value\n",
    "    counters = [g['counter'] for g in counterGroups if g['counterGroupName']==groupName][0]\n",
    "    totalValues = [c['totalCounterValue'] for c in counters if c['name']==counterName]\n",
    "    return totalValues[0] if len(totalValues)==1 else None\n",
    "\n",
    "def getCounters(groupName, host = 'localhost'):\n",
    "    # get job list       \n",
    "    getJobs = 'http://%s:19888/ws/v1/history/mapreduce/jobs' %host\n",
    "    jobs = requests.get(getJobs).json()['jobs']['job'] \n",
    "    # get counters\n",
    "    ts = max([job['finishTime'] for job in jobs])\n",
    "    id = [job['id'] for job in jobs if job['finishTime'] == ts][0]\n",
    "    getCounters = 'http://%s:19888/ws/v1/history/mapreduce/jobs/%s/counters' %(host, id)\n",
    "    counterGroups = requests.get(getCounters).json()['jobCounters']['counterGroup']\n",
    "    # loop through to counters to return value\n",
    "    counters = [g['counter'] for g in counterGroups if g['counterGroupName']==groupName]    \n",
    "    return {c['name']:c['totalCounterValue'] for c in counters[0]} if len(counters)==1 else []\n",
    "    "
   ]
  },
  {
   "cell_type": "code",
   "execution_count": 125,
   "metadata": {
    "collapsed": false
   },
   "outputs": [],
   "source": [
    "##### unit test #####\n",
    "#http://localhost:19888/ws/v1/history/mapreduce/jobs/job_1457742616221_0001/counters\n",
    "#from helper import getCounter, getCounters\n",
    "#getCounter('wiki_node_count', 'nodes', 'ec2-52-87-184-124.compute-1.amazonaws.com')\n",
    "#getCounters('wiki_dangling_mass')\n",
    "#getCounter('org.apache.hadoop.mapreduce.JobCounter', 'TOTAL_LAUNCHED_MAPS')\n",
    "#getCounters('org.apache.hadoop.mapreduce.JobCounter', 'ec2-54-172-84-241.compute-1.amazonaws.com')"
   ]
  },
  {
   "cell_type": "markdown",
   "metadata": {},
   "source": [
    "###PageRank Driver\n",
    "- initialize the process: \n",
    " - get node count, and dangling node count\n",
    " - redistribute loss mass, apply jump/damping factor\n",
    "- get loss mass from counter\n",
    "- iterately execute pageRank:\n",
    " - run pageRank process\n",
    " - get loss mass\n",
    "- sort rank, normalize"
   ]
  },
  {
   "cell_type": "code",
   "execution_count": 139,
   "metadata": {
    "collapsed": false,
    "scrolled": false
   },
   "outputs": [
    {
     "name": "stdout",
     "output_type": "stream",
     "text": [
      "Overwriting RunPageRank.py\n"
     ]
    }
   ],
   "source": [
    "%%writefile RunPageRank.py\n",
    "#!/usr/bin/python\n",
    "\n",
    "from PageRankIter import PageRankIter\n",
    "from PageRankDist import PageRankDist\n",
    "from PageRankSort import PageRankSort\n",
    "from PageRankJoin import PageRankJoin\n",
    "from helper import getCounter\n",
    "from subprocess import call, check_output\n",
    "from time import time\n",
    "import sys, getopt, datetime, os\n",
    "\n",
    "# parse parameter\n",
    "if __name__ == \"__main__\":\n",
    "\n",
    "    try:\n",
    "        opts, args = getopt.getopt(sys.argv[1:], \"hg:j:i:d:s:\")\n",
    "    except getopt.GetoptError:\n",
    "        print 'RunBFS.py -g <graph> -j <jump> -i <iteration> -d <index> -s <size>'\n",
    "        sys.exit(2)\n",
    "    if len(opts) != 5:\n",
    "        print 'RunBFS.py -g <graph> -j <jump> -i <iteration> -d <index>'\n",
    "        sys.exit(2)\n",
    "    for opt, arg in opts:\n",
    "        if opt == '-h':\n",
    "            print 'RunBFS.py -g <graph> -j <jump> -i <iteration> -d <index>'\n",
    "            sys.exit(2)\n",
    "        elif opt == '-g':\n",
    "            graph = arg\n",
    "        elif opt == '-j':\n",
    "            jump = arg\n",
    "        elif opt == '-i':            \n",
    "            n_iter = arg\n",
    "        elif opt == '-d':\n",
    "            index = arg\n",
    "        elif opt == '-s':\n",
    "            n_node = arg\n",
    "        \n",
    "start = time()\n",
    "FNULL = open(os.devnull, 'w')\n",
    "n_iter = int(n_iter)\n",
    "doJoin = index!='NULL'\n",
    "doInit = n_node=='0'\n",
    "host = 'localhost'\n",
    "\n",
    "print '%s: %s PageRanking on \\'%s\\' for %d iterations with damping factor %.2f ...' %(str(datetime.datetime.now()),\n",
    "          'start' if doInit else 'continue', graph[graph.rfind('/')+1:], n_iter, 1-float(jump))\n",
    "\n",
    "if doInit:\n",
    "    # clear directory\n",
    "    print str(datetime.datetime.now()) + ': clearing directory ...'\n",
    "    call(['hdfs', 'dfs', '-rm', '-r', '/user/leiyang/in'], stdout=FNULL)\n",
    "    call(['hdfs', 'dfs', '-rm', '-r', '/user/leiyang/out'], stdout=FNULL)\n",
    "    \n",
    "    # creat initialization job    \n",
    "    init_job = PageRankIter(args=[graph, '--i', '1', '-r', 'hadoop', '--output-dir', 'hdfs:///user/leiyang/out'])\n",
    "\n",
    "    # run initialization job\n",
    "    print str(datetime.datetime.now()) + ': running iteration 1 ...'\n",
    "    with init_job.make_runner() as runner:    \n",
    "        runner.run()\n",
    "\n",
    "    # checking counters\n",
    "    n_node = getCounter('wiki_node_count', 'nodes', host)\n",
    "    n_dangling = getCounter('wiki_dangling_mass', 'mass', host)/1e10\n",
    "    print '%s: initialization complete: %d nodes, %d are dangling!' %(str(datetime.datetime.now()), n_node, n_dangling)\n",
    "\n",
    "    # run redistribution job\n",
    "    call(['hdfs', 'dfs', '-mv', '/user/leiyang/out', '/user/leiyang/in'])\n",
    "    dist_job = PageRankDist(args=['hdfs:///user/leiyang/in/part*', '--s', str(n_node), '--j', jump, '--n', '0', \n",
    "                                '--m', str(n_dangling), '-r', 'hadoop', '--output-dir', 'hdfs:///user/leiyang/out'])\n",
    "    print str(datetime.datetime.now()) + ': distributing loss mass ...'\n",
    "    with dist_job.make_runner() as runner:    \n",
    "        runner.run()\n",
    "\n",
    "# move results for next iteration\n",
    "call(['hdfs', 'dfs', '-rm', '-r', '/user/leiyang/in'], stdout=FNULL)\n",
    "call(['hdfs', 'dfs', '-mv', '/user/leiyang/out', '/user/leiyang/in'])\n",
    "\n",
    "# create iteration job\n",
    "iter_job = PageRankIter(args=['hdfs:///user/leiyang/in/part*', '--i', '0', \n",
    "                              '-r', 'hadoop', '--output-dir', 'hdfs:///user/leiyang/out'])\n",
    "# run pageRank iteratively\n",
    "i = 2 if doInit else 1\n",
    "while(1):    \n",
    "    print str(datetime.datetime.now()) + ': running iteration %d ...' %i\n",
    "    with iter_job.make_runner() as runner:        \n",
    "        runner.run()\n",
    "    \n",
    "    # check counter for loss mass\n",
    "    mass_loss = getCounter('wiki_dangling_mass', 'mass', host)/1e10\n",
    "    \n",
    "    # move results for next iteration\n",
    "    call(['hdfs', 'dfs', '-rm', '-r', '/user/leiyang/in'], stdout=FNULL)\n",
    "    call(['hdfs', 'dfs', '-mv', '/user/leiyang/out', '/user/leiyang/in'])\n",
    "        \n",
    "    # run redistribution job\n",
    "    dist_job = PageRankDist(args=['hdfs:///user/leiyang/in/part*', '--s', str(n_node), '--j', jump, '--n', '0', \n",
    "                                '--m', str(mass_loss), '-r', 'hadoop', '--output-dir', 'hdfs:///user/leiyang/out'])\n",
    "    print str(datetime.datetime.now()) + ': distributing loss mass %.4f ...' %mass_loss\n",
    "    with dist_job.make_runner() as runner:    \n",
    "        runner.run()\n",
    "    \n",
    "    if i == n_iter:\n",
    "        break\n",
    "    \n",
    "    # if more iteration needed\n",
    "    i += 1    \n",
    "    call(['hdfs', 'dfs', '-rm', '-r', '/user/leiyang/in'], stdout=FNULL)\n",
    "    call(['hdfs', 'dfs', '-mv', '/user/leiyang/out', '/user/leiyang/in'], stdout=FNULL)\n",
    "\n",
    "# run sort job\n",
    "print str(datetime.datetime.now()) + ': sorting PageRank ...'\n",
    "call(['hdfs', 'dfs', '-rm', '-r', '/user/leiyang/rank'], stdout=FNULL)\n",
    "sort_job = PageRankSort(args=['hdfs:///user/leiyang/out/part*', '--s', str(n_node), '--n', '100',\n",
    "                              '-r', 'hadoop', '--output-dir', 'hdfs:///user/leiyang/rank'])\n",
    "with sort_job.make_runner() as runner:    \n",
    "    runner.run()\n",
    "    \n",
    "# run join job\n",
    "if doJoin:\n",
    "    print str(datetime.datetime.now()) + ': joining PageRank with index ...'\n",
    "    call(['hdfs', 'dfs', '-rm', '-r', '/user/leiyang/join'], stdout=FNULL)\n",
    "    join_job = PageRankJoin(args=[index, '-r', 'hadoop', '--file', 'hdfs:///user/leiyang/rank/part-00000', \n",
    "                                  '--output-dir', 'hdfs:///user/leiyang/join'])\n",
    "    with join_job.make_runner() as runner:\n",
    "        runner.run()\n",
    "\n",
    "print \"%s: PageRank job completes in %.1f minutes!\\n\" %(str(datetime.datetime.now()), (time()-start)/60.0)\n",
    "call(['hdfs', 'dfs', '-cat', '/user/leiyang/join/p*' if doJoin else '/user/leiyang/rank/p*'])"
   ]
  },
  {
   "cell_type": "code",
   "execution_count": 140,
   "metadata": {
    "collapsed": false
   },
   "outputs": [
    {
     "name": "stdout",
     "output_type": "stream",
     "text": [
      "2016-03-18 21:21:13.094958: start PageRanking on 'PageRank-test.txt' for 10 iterations with damping factor 0.85 ...\n",
      "2016-03-18 21:21:13.094996: clearing directory ...\n",
      "2016-03-18 21:21:16.265863: running iteration 1 ...\n",
      "No handlers could be found for logger \"mrjob.conf\"\n",
      "2016-03-18 21:21:47.714757: initialization complete: 11 nodes, 1 are dangling!\n",
      "2016-03-18 21:21:49.239699: distributing loss mass ...\n",
      "2016-03-18 21:22:15.480366: running iteration 2 ...\n",
      "2016-03-18 21:22:48.948444: distributing loss mass 0.6523 ...\n",
      "2016-03-18 21:23:16.540084: running iteration 3 ...\n",
      "2016-03-18 21:23:50.296355: distributing loss mass 0.4174 ...\n",
      "2016-03-18 21:24:16.599654: running iteration 4 ...\n",
      "2016-03-18 21:24:49.985785: distributing loss mass 0.7042 ...\n",
      "2016-03-18 21:25:16.321551: running iteration 5 ...\n",
      "2016-03-18 21:25:51.455971: distributing loss mass 0.4136 ...\n",
      "2016-03-18 21:26:18.735261: running iteration 6 ...\n",
      "2016-03-18 21:26:51.582840: distributing loss mass 0.4254 ...\n",
      "2016-03-18 21:27:19.772219: running iteration 7 ...\n",
      "2016-03-18 21:27:51.399169: distributing loss mass 0.3753 ...\n",
      "2016-03-18 21:28:17.655096: running iteration 8 ...\n",
      "2016-03-18 21:28:49.926164: distributing loss mass 0.3812 ...\n",
      "2016-03-18 21:29:16.041041: running iteration 9 ...\n",
      "2016-03-18 21:29:49.249695: distributing loss mass 0.3659 ...\n",
      "2016-03-18 21:30:16.576019: running iteration 10 ...\n",
      "2016-03-18 21:30:47.712945: distributing loss mass 0.3660 ...\n",
      "2016-03-18 21:31:10.959484: sorting PageRank ...\n",
      "2016-03-18 21:31:40.667650: PageRank job completes in 10.5 minutes!\n",
      "\n",
      "\"B\"\t0.3632359489815919\n",
      "\"C\"\t0.36288372803185465\n",
      "\"E\"\t0.08114525762242993\n",
      "\"F\"\t0.03938466341855663\n",
      "\"D\"\t0.03938466341855663\n",
      "\"A\"\t0.032930101785246045\n",
      "\"K\"\t0.01620712734363636\n",
      "\"I\"\t0.01620712734363636\n",
      "\"G\"\t0.01620712734363636\n",
      "\"J\"\t0.01620712734363636\n",
      "\"H\"\t0.01620712734363636\n",
      "\"total mass: \"\t0.9999999999764178\n"
     ]
    }
   ],
   "source": [
    "##### unit test #####\n",
    "!python RunPageRank.py -g 'hdfs:///user/leiyang/PageRank-test.txt' -j 0.15 -i 10 -d 'NULL' -s '0'\n",
    "\n",
    "#!python RunPageRank.py -g 'hdfs:///user/leiyang/PageRank-test.txt' -j 0.15 -i 2 \\\n",
    "#-d 'hdfs:///user/leiyang/PageRankIndex' -s '11'"
   ]
  },
  {
   "cell_type": "markdown",
   "metadata": {
    "collapsed": false,
    "scrolled": false
   },
   "source": [
    "###HW 9.2: Exploring PageRank teleportation and network plots\n",
    "In order to overcome  problems such as disconnected components, the damping factor (a typical value for d is 0.85) can be varied. \n",
    "Using the graph in HW 9.1, plot the test graph (using networkx, https://networkx.github.io/) for several values of the damping parameter alpha,\n",
    "so that each nodes radius is proportional to its PageRank score. In particular you should\n",
    "do this for the following damping factors: $[0,0.25,0.5,0.75, 0.85, 1]$. Note your plots should look like the following:\n",
    "\n",
    "https://en.wikipedia.org/wiki/PageRank#/media/File:PageRanks-Example.svg"
   ]
  },
  {
   "cell_type": "markdown",
   "metadata": {},
   "source": [
    "###Run 10 iterations with each parameter"
   ]
  },
  {
   "cell_type": "code",
   "execution_count": 33,
   "metadata": {
    "collapsed": false
   },
   "outputs": [
    {
     "name": "stdout",
     "output_type": "stream",
     "text": [
      "The autoreload extension is already loaded. To reload it, use:\n",
      "  %reload_ext autoreload\n"
     ]
    }
   ],
   "source": [
    "%load_ext autoreload\n",
    "%autoreload 2\n",
    "#!python RunPageRank.py -g 'hdfs:///user/leiyang/PageRank-test.txt' -j 1 -i 3 -d 'NULL'  -s '0'\n",
    "#!hdfs dfs -cat /user/leiyang/rank/p* > HW_9_2_0\n",
    "#!python RunPageRank.py -g 'hdfs:///user/leiyang/PageRank-test.txt' -j 0.75 -i 10 -d 'NULL' -s '0'\n",
    "#!hdfs dfs -cat /user/leiyang/rank/p* > HW_9_2_1\n",
    "#!python RunPageRank.py -g 'hdfs:///user/leiyang/PageRank-test.txt' -j 0.5 -i 10 -d 'NULL' -s '0'\n",
    "#!hdfs dfs -cat /user/leiyang/rank/p* > HW_9_2_2\n",
    "#!python RunPageRank.py -g 'hdfs:///user/leiyang/PageRank-test.txt' -j 0.25 -i 10 -d 'NULL' -s '0'\n",
    "#!hdfs dfs -cat /user/leiyang/rank/p* > HW_9_2_3\n",
    "#!python RunPageRank.py -g 'hdfs:///user/leiyang/PageRank-test.txt' -j 0.15 -i 10 -d 'NULL' -s '0'\n",
    "#!hdfs dfs -cat /user/leiyang/rank/p* > HW_9_2_4\n",
    "#!python RunPageRank.py -g 'hdfs:///user/leiyang/PageRank-test.txt' -j 0 -i 10 -d 'NULL' -s '0'\n",
    "#!hdfs dfs -cat /user/leiyang/rank/p* > HW_9_2_5"
   ]
  },
  {
   "cell_type": "markdown",
   "metadata": {},
   "source": [
    "###Graphing function"
   ]
  },
  {
   "cell_type": "code",
   "execution_count": 118,
   "metadata": {
    "collapsed": false
   },
   "outputs": [],
   "source": [
    "from matplotlib import pyplot as plt\n",
    "import networkx as nx\n",
    "\n",
    "def drawGraph(pagerank, nSize):\n",
    "    # define the graph from adjacency matrix\n",
    "    G = nx.DiGraph()    \n",
    "    with open('./data/PageRank-test.txt') as f:\n",
    "        for node in f.readlines():\n",
    "            source, adj = node.strip().split('\\t')\n",
    "            cmd = 'adj = %s' %adj\n",
    "            exec cmd                    \n",
    "            for d in adj:\n",
    "                G.add_edge(source, d)\n",
    "            G.node[source]['state'] = source\n",
    "    G.add_node('A')\n",
    "    G.node['A']['state'] = 'A'\n",
    "        \n",
    "    # define node size\n",
    "    ranks = {}\n",
    "    with open(pagerank) as f:\n",
    "        for line in f.readlines():\n",
    "            nid, rank = line.strip().split('\\t')\n",
    "            nid = nid.strip('\"')\n",
    "            if len(nid) == 1:\n",
    "                ranks[nid] = float(rank)\n",
    "    norm = max(ranks.values())               \n",
    "    size =[ranks[n]*nSize/norm for n in G.nodes()]\n",
    "    \n",
    "    # draw the graph\n",
    "    pos = nx.spring_layout(G)    \n",
    "    nx.draw(G, pos, node_size = size)\n",
    "    node_labels = nx.get_node_attributes(G,'state')\n",
    "    nx.draw_networkx_labels(G, pos, labels = node_labels)\n",
    "    plt.show()\n"
   ]
  },
  {
   "cell_type": "markdown",
   "metadata": {},
   "source": [
    "###Damping factor = 0\n",
    "- total random jump"
   ]
  },
  {
   "cell_type": "code",
   "execution_count": 119,
   "metadata": {
    "collapsed": false
   },
   "outputs": [
    {
     "data": {
      "image/png": "[encoded data removed]",
      "text/plain": [
       "<matplotlib.figure.Figure at 0x109c08110>"
      ]
     },
     "metadata": {},
     "output_type": "display_data"
    }
   ],
   "source": [
    "drawGraph('./data/HW_9_2_0', 3500)"
   ]
  },
  {
   "cell_type": "markdown",
   "metadata": {},
   "source": [
    "###Damping factor = 0.25"
   ]
  },
  {
   "cell_type": "code",
   "execution_count": 120,
   "metadata": {
    "collapsed": false
   },
   "outputs": [
    {
     "data": {
      "image/png": "[encoded data removed]",
      "text/plain": [
       "<matplotlib.figure.Figure at 0x109eb38d0>"
      ]
     },
     "metadata": {},
     "output_type": "display_data"
    }
   ],
   "source": [
    "drawGraph('./data/HW_9_2_1', 3500)"
   ]
  },
  {
   "cell_type": "markdown",
   "metadata": {},
   "source": [
    "###Damping factor = 0.5"
   ]
  },
  {
   "cell_type": "code",
   "execution_count": 121,
   "metadata": {
    "collapsed": false
   },
   "outputs": [
    {
     "data": {
      "image/png": "[encoded data removed]",
      "text/plain": [
       "<matplotlib.figure.Figure at 0x1098c8cd0>"
      ]
     },
     "metadata": {},
     "output_type": "display_data"
    }
   ],
   "source": [
    "drawGraph('./data/HW_9_2_2', 3500)"
   ]
  },
  {
   "cell_type": "markdown",
   "metadata": {},
   "source": [
    "###Damping factor = 0.75"
   ]
  },
  {
   "cell_type": "code",
   "execution_count": 122,
   "metadata": {
    "collapsed": false
   },
   "outputs": [
    {
     "data": {
      "image/png": "[encoded data removed]",
      "text/plain": [
       "<matplotlib.figure.Figure at 0x108af6910>"
      ]
     },
     "metadata": {},
     "output_type": "display_data"
    }
   ],
   "source": [
    "drawGraph('./data/HW_9_2_3', 3500)"
   ]
  },
  {
   "cell_type": "markdown",
   "metadata": {},
   "source": [
    "###Damping factor = 0.85"
   ]
  },
  {
   "cell_type": "code",
   "execution_count": 123,
   "metadata": {
    "collapsed": false
   },
   "outputs": [
    {
     "data": {
      "image/png": "[encoded data removed]",
      "text/plain": [
       "<matplotlib.figure.Figure at 0x109f18490>"
      ]
     },
     "metadata": {},
     "output_type": "display_data"
    }
   ],
   "source": [
    "drawGraph('./data/HW_9_2_4', 3500)"
   ]
  },
  {
   "cell_type": "markdown",
   "metadata": {},
   "source": [
    "###Damping factor = 1\n",
    "- no teleportation at all"
   ]
  },
  {
   "cell_type": "code",
   "execution_count": 124,
   "metadata": {
    "collapsed": false
   },
   "outputs": [
    {
     "data": {
      "image/png": "[encoded data removed]",
      "text/plain": [
       "<matplotlib.figure.Figure at 0x10a116210>"
      ]
     },
     "metadata": {},
     "output_type": "display_data"
    }
   ],
   "source": [
    "drawGraph('./data/HW_9_2_5', 3500)"
   ]
  },
  {
   "cell_type": "markdown",
   "metadata": {
    "collapsed": true
   },
   "source": [
    "###HW 9.3: Applying PageRank to the Wikipedia hyperlinks network\n",
    "\n",
    "- Run your PageRank implementation on the Wikipedia dataset for 10 iterations,\n",
    "and display the top 100 ranked nodes (with alpha = 0.85).\n",
    "- Run your PageRank implementation on the Wikipedia dataset for 50 iterations,\n",
    "and display the top 100 ranked nodes (with teleportation factor of 0.15). \n",
    "\n",
    "- Have the top 100 ranked pages changed? \n",
    " - Comment on your findings. \n",
    " - Plot the pagerank values for the top 100 pages resulting from the 50 iterations run. \n",
    " - Then plot the pagerank values for the same 100 pages that resulted from the 10 iterations run.  \n",
    " \n",
    "### Top 100 PageRank on 10 iterations"
   ]
  },
  {
   "cell_type": "code",
   "execution_count": 108,
   "metadata": {
    "collapsed": false
   },
   "outputs": [
    {
     "name": "stdout",
     "output_type": "stream",
     "text": [
      "0.0014614491942438349\t\"13455888 - United States\"\r\n",
      "0.0006663317375798755\t\"1184351 - Animal\"\r\n",
      "0.0006398051875506791\t\"4695850 - France\"\r\n",
      "0.0005748538826286757\t\"5051368 - Germany\"\r\n",
      "0.0004503047142785041\t\"1384888 - Arthropod\"\r\n",
      "0.00044660099098876925\t\"2437837 - Canada\"\r\n",
      "0.0004448182480165896\t\"6113490 - Insect\"\r\n",
      "0.000444203734598283\t\"7902219 - List of sovereign states\"\r\n",
      "0.0004329952449265189\t\"13425865 - United Kingdom\"\r\n",
      "0.000427885336130834\t\"6076759 - India\"\r\n",
      "0.00042327595490625425\t\"4196067 - England\"\r\n",
      "0.00039817029586927596\t\"6172466 - Iran\"\r\n",
      "0.0003854336708092153\t\"14112583 - World War II\"\r\n",
      "0.0003631670660462813\t\"10390714 - Poland\"\r\n",
      "0.00034383110763123157\t\"15164193 - village\"\r\n",
      "0.0003383478652193903\t\"3191491 - Countries of the world\"\r\n",
      "0.0003293524626579213\t\"6416278 - Japan\"\r\n",
      "0.00032896996556415974\t\"6237129 - Italy\"\r\n",
      "0.00032632071986423984\t\"7835160 - List of countries\"\r\n",
      "0.0003250758881557822\t\"1516699 - Australia\"\r\n",
      "0.0003131434418030617\t\"13725487 - Voivodeships of Poland\"\r\n",
      "0.0003095941242456258\t\"9276255 - National Register of Historic Places\"\r\n",
      "0.00030809546897991505\t\"7576704 - Lepidoptera\"\r\n",
      "0.0003035425666087729\t\"10469541 - Powiat\"\r\n",
      "0.0002979533522103301\t\"5154210 - Gmina\"\r\n",
      "0.0002857902942672035\t\"12836211 - The New York Times\"\r\n",
      "0.00028347554322906003\t\"7990491 - London\"\r\n",
      "0.0002690621118260582\t\"4198751 - English language\"\r\n",
      "0.00026401327504910687\t\"2797855 - China\"\r\n",
      "0.0002610656557463978\t\"11253108 - Russia\"\r\n",
      "0.00025755868482122047\t\"9386580 - New York City\"\r\n",
      "0.0002550899370909594\t\"3603527 - Departments of France\"\r\n",
      "0.00025104301138297773\t\"12074312 - Spain\"\r\n",
      "0.0002487901833478194\t\"3069099 - Communes of France\"\r\n",
      "0.0002454573288537552\t\"14881689 - moth\"\r\n",
      "0.0002448490318480156\t\"2155467 - Brazil\"\r\n",
      "0.00023872444275286543\t\"1441065 - Association football\"\r\n",
      "0.00023335074718638498\t\"14503460 - association football\"\r\n",
      "0.00022060503331685166\t\"2396749 - California\"\r\n",
      "0.00021509725578691428\t\"3191268 - Counties of Iran\"\r\n",
      "0.00021468682890528565\t\"10566120 - Provinces of Iran\"\r\n",
      "0.000211379096562195\t\"2614581 - Central European Time\"\r\n",
      "0.00021132415993817432\t\"11147327 - Romania\"\r\n",
      "0.00020715963504228723\t\"1637982 - Bakhsh\"\r\n",
      "0.00020338117266915535\t\"12430985 - Sweden\"\r\n",
      "0.0002026232339501364\t\"11245362 - Rural Districts of Iran\"\r\n",
      "0.00019701920174091924\t\"9355455 - Netherlands\"\r\n",
      "0.00019142274072843148\t\"10527224 - Private Use Areas\"\r\n",
      "0.00019074389254287321\t\"14112408 - World War I\"\r\n",
      "0.00018818343629020115\t\"2614578 - Central European Summer Time\"\r\n",
      "0.00018809311929740536\t\"9391762 - New York\"\r\n",
      "0.0001871031700113471\t\"8697871 - Mexico\"\r\n",
      "0.00018685330248519627\t\"6172167 - Iran Standard Time\"\r\n",
      "0.00018540138485575856\t\"981395 - AllMusic\"\r\n",
      "0.00017885001537615815\t\"6171937 - Iran Daylight Time\"\r\n",
      "0.00017834740118144265\t\"5490435 - Hangul\"\r\n",
      "0.00017325786783489066\t\"11582765 - Scotland\"\r\n",
      "0.00016954981151296857\t\"14725161 - gene\"\r\n",
      "0.00016767695230721733\t\"12067030 - Soviet Union\"\r\n",
      "0.00016731685713821892\t\"9562547 - Norway\"\r\n",
      "0.00016548126934061455\t\"994890 - Allmusic\"\r\n",
      "0.00016067308336923405\t\"9997298 - Paris\"\r\n",
      "0.00016052821854839323\t\"9394907 - New Zealand\"\r\n",
      "0.0001590426968518198\t\"13280859 - Turkey\"\r\n",
      "0.00015776886151301826\t\"10345830 - Plant\"\r\n",
      "0.00015530367287750363\t\"4978429 - Geographic Names Information System\"\r\n",
      "0.00015495000505848502\t\"12447593 - Switzerland\"\r\n",
      "0.00015322797217141157\t\"8019937 - Los Angeles\"\r\n",
      "0.00014889113577784647\t\"11148415 - Romanize\"\r\n",
      "0.00014788104548259728\t\"13432150 - United States Census Bureau\"\r\n",
      "0.00014712672457525987\t\"4344962 - Europe\"\r\n",
      "0.00014192897863341285\t\"1175360 - Angiosperms\"\r\n",
      "0.0001413128675411494\t\"12038331 - South Africa\"\r\n",
      "0.0001390960411124565\t\"14565507 - census\"\r\n",
      "0.00013781320406146952\t\"4624519 - Flowering plant\"\r\n",
      "0.00013627013406909209\t\"1523975 - Austria\"\r\n",
      "0.00013494958518642523\t\"14981725 - protein\"\r\n",
      "0.00013474185796926125\t\"13328060 - U.S. state\"\r\n",
      "0.0001307386712115197\t\"1332806 - Argentina\"\r\n",
      "0.0001302313942366781\t\"10399499 - Political divisions of the United States\"\r\n",
      "0.00013006969329161375\t\"14963657 - population density\"\r\n",
      "0.00012834313002134818\t\"2578813 - Catholic Church\"\r\n",
      "0.00012828888425440012\t\"2826544 - Chordate\"\r\n",
      "0.00012723774168965516\t\"1575979 - BBC\"\r\n",
      "0.00012713810216423896\t\"1813634 - Belgium\"\r\n",
      "0.00012404627523796507\t\"2778099 - Chicago\"\r\n",
      "0.0001208387713656\t\"13853369 - Washington, D.C.\"\r\n",
      "0.00012028369796106582\t\"9924814 - Pakistan\"\r\n",
      "0.00011582953101167437\t\"4568647 - Finland\"\r\n",
      "0.0001144336932340961\t\"12785678 - The Guardian\"\r\n",
      "0.00011442817412578247\t\"7467127 - Latin\"\r\n",
      "0.00011425740363317814\t\"9742161 - Ontario\"\r\n",
      "0.00011368488062447509\t\"3328327 - Czech Republic\"\r\n",
      "0.00011328616898369108\t\"10246542 - Philippines\"\r\n",
      "0.00011326731774131182\t\"3591832 - Denmark\"\r\n",
      "0.00011319055333767748\t\"5274313 - Greece\"\r\n",
      "0.00011298651394752375\t\"14727077 - genus\"\r\n",
      "0.00011246839612227319\t\"14709489 - football (soccer)\"\r\n",
      "0.00011223456345201143\t\"5908108 - Hungary\"\r\n",
      "0.00011220084056744828\t\"3973000 - Eastern European Time\"\r\n"
     ]
    }
   ],
   "source": [
    "#!python RunPageRank.py -g 'hdfs:///user/leiyang/all-pages-indexed-out.txt' -j 0.15 -i 10 \\\n",
    "#-d 'hdfs:///user/leiyang/indices.txt' -s '0'\n",
    "!cat ./data/wiki_10_join"
   ]
  },
  {
   "cell_type": "markdown",
   "metadata": {},
   "source": [
    "### Top 100 PageRank on 50 iterations"
   ]
  },
  {
   "cell_type": "code",
   "execution_count": 109,
   "metadata": {
    "collapsed": false
   },
   "outputs": [
    {
     "name": "stdout",
     "output_type": "stream",
     "text": [
      "0.0014615599816380814\t\"13455888 - United States\"\r\n",
      "0.0006660177936038597\t\"1184351 - Animal\"\r\n",
      "0.0006396773757180422\t\"4695850 - France\"\r\n",
      "0.0005747671982893716\t\"5051368 - Germany\"\r\n",
      "0.0004501232221973807\t\"1384888 - Arthropod\"\r\n",
      "0.00044667005168115624\t\"2437837 - Canada\"\r\n",
      "0.00044463224402460465\t\"6113490 - Insect\"\r\n",
      "0.00044387869965694206\t\"7902219 - List of sovereign states\"\r\n",
      "0.00043314218173262273\t\"13425865 - United Kingdom\"\r\n",
      "0.00042770776770628867\t\"6076759 - India\"\r\n",
      "0.00042341679596246464\t\"4196067 - England\"\r\n",
      "0.000397826042012343\t\"6172466 - Iran\"\r\n",
      "0.00038548623796188223\t\"14112583 - World War II\"\r\n",
      "0.00036266653367941786\t\"10390714 - Poland\"\r\n",
      "0.00034358745300642004\t\"15164193 - village\"\r\n",
      "0.0003380496128621886\t\"3191491 - Countries of the world\"\r\n",
      "0.0003292203268728178\t\"6416278 - Japan\"\r\n",
      "0.00032899474579557773\t\"6237129 - Italy\"\r\n",
      "0.00032620175381522067\t\"7835160 - List of countries\"\r\n",
      "0.00032511085571704744\t\"1516699 - Australia\"\r\n",
      "0.00031268227722189133\t\"13725487 - Voivodeships of Poland\"\r\n",
      "0.0003095692741012243\t\"9276255 - National Register of Historic Places\"\r\n",
      "0.00030798064678708647\t\"7576704 - Lepidoptera\"\r\n",
      "0.0003031203814549852\t\"10469541 - Powiat\"\r\n",
      "0.0002975477873102353\t\"5154210 - Gmina\"\r\n",
      "0.00028603760467156336\t\"12836211 - The New York Times\"\r\n",
      "0.0002836201779820457\t\"7990491 - London\"\r\n",
      "0.00026905355560406986\t\"4198751 - English language\"\r\n",
      "0.00026401414743470433\t\"2797855 - China\"\r\n",
      "0.0002609847438047289\t\"11253108 - Russia\"\r\n",
      "0.00025769760112647513\t\"9386580 - New York City\"\r\n",
      "0.0002549708627794919\t\"3603527 - Departments of France\"\r\n",
      "0.0002510220915988287\t\"12074312 - Spain\"\r\n",
      "0.00024867559431367516\t\"3069099 - Communes of France\"\r\n",
      "0.00024536414137746424\t\"14881689 - moth\"\r\n",
      "0.00024471986910370725\t\"2155467 - Brazil\"\r\n",
      "0.00023864828925466942\t\"1441065 - Association football\"\r\n",
      "0.00023330403431633522\t\"14503460 - association football\"\r\n",
      "0.00022063223474869253\t\"2396749 - California\"\r\n",
      "0.0002149554605041878\t\"3191268 - Counties of Iran\"\r\n",
      "0.0002145445586070783\t\"10566120 - Provinces of Iran\"\r\n",
      "0.0002112031979712803\t\"2614581 - Central European Time\"\r\n",
      "0.00021118711279724468\t\"11147327 - Romania\"\r\n",
      "0.00020703164634469528\t\"1637982 - Bakhsh\"\r\n",
      "0.00020330214007671839\t\"12430985 - Sweden\"\r\n",
      "0.00020252992610044653\t\"11245362 - Rural Districts of Iran\"\r\n",
      "0.00019701419936357027\t\"9355455 - Netherlands\"\r\n",
      "0.00019139065958623014\t\"10527224 - Private Use Areas\"\r\n",
      "0.0001907835867254496\t\"14112408 - World War I\"\r\n",
      "0.0001881715264835644\t\"9391762 - New York\"\r\n",
      "0.0001880220706466143\t\"2614578 - Central European Summer Time\"\r\n",
      "0.00018704386395116136\t\"8697871 - Mexico\"\r\n",
      "0.000186732570547333\t\"6172167 - Iran Standard Time\"\r\n",
      "0.00018522886640443312\t\"981395 - AllMusic\"\r\n",
      "0.00017874919317338242\t\"6171937 - Iran Daylight Time\"\r\n",
      "0.00017831292465815966\t\"5490435 - Hangul\"\r\n",
      "0.0001733486967173185\t\"11582765 - Scotland\"\r\n",
      "0.00016948367863767668\t\"14725161 - gene\"\r\n",
      "0.00016765208013989067\t\"12067030 - Soviet Union\"\r\n",
      "0.0001672147998973972\t\"9562547 - Norway\"\r\n",
      "0.00016539998297863457\t\"994890 - Allmusic\"\r\n",
      "0.000160696299067241\t\"9997298 - Paris\"\r\n",
      "0.00016052347832283404\t\"9394907 - New Zealand\"\r\n",
      "0.000159006634081669\t\"13280859 - Turkey\"\r\n",
      "0.00015761805655622823\t\"10345830 - Plant\"\r\n",
      "0.00015527176841381843\t\"4978429 - Geographic Names Information System\"\r\n",
      "0.00015493020349201966\t\"12447593 - Switzerland\"\r\n",
      "0.00015329019745546487\t\"8019937 - Los Angeles\"\r\n",
      "0.00014883434413415624\t\"11148415 - Romanize\"\r\n",
      "0.00014785698802403393\t\"13432150 - United States Census Bureau\"\r\n",
      "0.00014711081037696502\t\"4344962 - Europe\"\r\n",
      "0.0001418440693202807\t\"1175360 - Angiosperms\"\r\n",
      "0.00014129930023312176\t\"12038331 - South Africa\"\r\n",
      "0.00013906672709870576\t\"14565507 - census\"\r\n",
      "0.00013764660835955233\t\"4624519 - Flowering plant\"\r\n",
      "0.00013624635676277595\t\"1523975 - Austria\"\r\n",
      "0.00013489587624568975\t\"14981725 - protein\"\r\n",
      "0.00013474291497490742\t\"13328060 - U.S. state\"\r\n",
      "0.00013069327812236255\t\"1332806 - Argentina\"\r\n",
      "0.0001302063045995383\t\"10399499 - Political divisions of the United States\"\r\n",
      "0.00013003778509485187\t\"14963657 - population density\"\r\n",
      "0.00012841221637639494\t\"2578813 - Catholic Church\"\r\n",
      "0.0001282046223090247\t\"2826544 - Chordate\"\r\n",
      "0.00012732350077934083\t\"1575979 - BBC\"\r\n",
      "0.00012715357035669744\t\"1813634 - Belgium\"\r\n",
      "0.00012410867750278315\t\"2778099 - Chicago\"\r\n",
      "0.00012093630817512696\t\"13853369 - Washington, D.C.\"\r\n",
      "0.00012024237237818629\t\"9924814 - Pakistan\"\r\n",
      "0.0001157792173901934\t\"4568647 - Finland\"\r\n",
      "0.00011450767260764365\t\"12785678 - The Guardian\"\r\n",
      "0.00011447345057904762\t\"7467127 - Latin\"\r\n",
      "0.00011430180463041426\t\"9742161 - Ontario\"\r\n",
      "0.00011359377946447987\t\"3328327 - Czech Republic\"\r\n",
      "0.0001132654264571577\t\"10246542 - Philippines\"\r\n",
      "0.00011323587651842911\t\"3591832 - Denmark\"\r\n",
      "0.00011319290359763953\t\"5274313 - Greece\"\r\n",
      "0.00011291110378232016\t\"14727077 - genus\"\r\n",
      "0.00011241645992615994\t\"14709489 - football (soccer)\"\r\n",
      "0.00011218707479056177\t\"5908108 - Hungary\"\r\n",
      "0.00011212013199291848\t\"3973000 - Eastern European Time\"\r\n"
     ]
    }
   ],
   "source": [
    "#!python RunPageRank.py -g 'hdfs:///user/leiyang/all-pages-indexed-out.txt' -j 0.15 -i 50 \\\n",
    "#-d 'hdfs:///user/leiyang/indices.txt' -s '0'\n",
    "!cat ./data/wiki_50_join"
   ]
  },
  {
   "cell_type": "markdown",
   "metadata": {
    "collapsed": true
   },
   "source": [
    "###Comments\n",
    "- the top 100 node are identical except for two of them swapped their place (\"9391762 - New York\" and \"2614578 - Central European Summer Time\")\n",
    "- convergence is pretty fast for this graph with wiki nodes"
   ]
  },
  {
   "cell_type": "markdown",
   "metadata": {
    "collapsed": false,
    "scrolled": false
   },
   "source": [
    "###HW 9.4: Topic-specific PageRank implementation using MRJob\n",
    "\n",
    "Modify your PageRank implementation to produce a topic specific PageRank implementation,\n",
    "as described in:\n",
    "\n",
    "http://www-cs-students.stanford.edu/~taherh/papers/topic-sensitive-pagerank.pdf\n",
    "\n",
    "Note in this article that there is a special caveat to ensure that the transition matrix is irreducible.\n",
    "This caveat lies in footnote 3 on page 3:\n",
    "\n",
    "\tA minor caveat: to ensure that M is irreducible when p\n",
    "\tcontains any 0 entries, nodes not reachable from nonzero\n",
    "\tnodes in p should be removed. In practice this is not problematic.\n",
    "\n",
    "and must be adhered to for convergence to be guaranteed.\n",
    "\n",
    "Run topic specific PageRank on the following randomly generated network of 100 nodes:\n",
    "\n",
    "s3://ucb-mids-mls-networks/randNet.txt (also available on Dropbox)\n",
    "\n",
    "which are organized into ten topics, as described in the file:\n",
    "\n",
    "s3://ucb-mids-mls-networks/randNet_topics.txt  (also available on Dropbox)\n",
    "\n",
    "Since there are 10 topics, your result should be 11 PageRank vectors\n",
    "(one for the vanilla PageRank implementation in 9.1, and one for each topic\n",
    "with the topic specific implementation). Print out the **top ten** ranking nodes \n",
    "and their topics for each of the 11 versions, and comment on your result. \n",
    "Assume a teleportation factor of **0.15** in all your analyses.\n",
    "\n",
    "One final and important comment here:  please consider the \n",
    "requirements for irreducibility with topic-specific PageRank.\n",
    "In particular, the literature ensures irreducibility by requiring that\n",
    "nodes not reachable from in-topic nodes be removed from the network.\n",
    "\n",
    "This is not a small task, especially as it it must be performed\n",
    "separately for each of the (10) topics.\n",
    "\n",
    "So, instead of using this method for irreducibility, \n",
    "please comment on why the literature's method is difficult to implement,\n",
    "and what what extra computation it will require.\n",
    "Then for your code, please use the alternative, \n",
    "non-uniform damping vector:\n",
    "\n",
    "$v_{ji} = \\frac{\\beta}{|T_j|}$; if node $i$ lies in topic $T_j$\n",
    "\n",
    "$v_{ji} = \\frac{1-\\beta}{N - |Tj|}$; if node $i$ lies outside of topic $T_j$\n",
    "\n",
    "for $\\beta$ in (0,1) close to 1. \n",
    "\n",
    "With this approach, you will not have to delete any nodes.\n",
    "If $\\beta > 0.5$, PageRank is topic-sensitive, \n",
    "and if $\\beta < 0.5$, the PageRank is anti-topic-sensitive. \n",
    "For any value of $\\beta$ irreducibility should hold,\n",
    "so please try $\\beta=0.99$, and perhaps some other values locally,\n",
    "on the smaller networks.\n",
    "\n",
    "### Comment on difficulty of \"not reachable nodes\"\n",
    "With MapReduce framework, it is challenging to identify unreachable nodes from in-topic node, in that the whole graph is processed in parallel, and it's hard to track a path in order to evaluate the \"reachability\" of each node\n",
    "\n",
    "\n",
    "### Implementation Notes - two changes on the vanilla PageRank implementation:\n",
    "\n",
    "####1. during mass distribution step, in _PageRankIter_ job:\n",
    " - maintain an array of ranks for each topic\n",
    " - distribute and accumulate rank number separately for each rank number\n"
   ]
  },
  {
   "cell_type": "code",
   "execution_count": 112,
   "metadata": {
    "collapsed": false
   },
   "outputs": [
    {
     "name": "stdout",
     "output_type": "stream",
     "text": [
      "Overwriting PageRankIter_T.py\n"
     ]
    }
   ],
   "source": [
    "%%writefile PageRankIter_T.py\n",
    "from mrjob.job import MRJob\n",
    "from mrjob.step import MRStep\n",
    "\n",
    "class PageRankIter_T(MRJob):\n",
    "    DEFAULT_PROTOCOL = 'json'\n",
    "\n",
    "    def configure_options(self):\n",
    "        super(PageRankIter_T, self).configure_options()        \n",
    "        self.add_passthrough_option(\n",
    "            '--i', dest='init', default='0', type='int',\n",
    "            help='i: run initialization iteration (default 0)') \n",
    "        self.add_passthrough_option(\n",
    "            '--n', dest='n_topic', default='0', type='int',\n",
    "            help='n: number of topics (default 0)') \n",
    "\n",
    "    def mapper_job_init(self, _, line):        \n",
    "        # parse line\n",
    "        nid, adj = line.strip().split('\\t', 1)\n",
    "        nid = nid.strip('\"')\n",
    "        cmd = 'adj = %s' %adj\n",
    "        exec cmd\n",
    "        # initialize node struct        \n",
    "        node = {'a':adj.keys(), 'p':[0]*(self.options.n_topic + 1)}\n",
    "        # vanillar PageRank and topic sensitive PageRank\n",
    "        rankMass = [1.0 / len(adj)] * (self.options.n_topic + 1)\n",
    "        # emit node\n",
    "        yield nid, node\n",
    "        # emit pageRank mass        \n",
    "        for m in node['a']:\n",
    "            yield m, rankMass\n",
    "            \n",
    "    def mapper_job_iter(self, _, line):             \n",
    "        # parse line\n",
    "        nid, node = line.strip().split('\\t', 1)\n",
    "        nid = nid.strip('\"')\n",
    "        cmd = 'node = %s' %node\n",
    "        exec cmd\n",
    "        # distribute rank mass  \n",
    "        n_adj = len(node['a'])\n",
    "        if n_adj > 0:\n",
    "            rankMass = [x / n_adj for x in node['p']]\n",
    "            # emit pageRank mass        \n",
    "            for m in node['a']:\n",
    "                yield m, rankMass\n",
    "        else:\n",
    "            # track dangling mass for each topic with counters\n",
    "            for i in range(self.options.n_topic+1):\n",
    "                self.increment_counter('wiki_dangling_mass', 'topic_%d' %i, int(node['p'][i]*1e10))\n",
    "        # reset pageRank and emit node\n",
    "        node['p'] = [0]*(self.options.n_topic+1)\n",
    "        yield nid, node\n",
    "    \n",
    "    def debug(self):\n",
    "        de = 'bug'\n",
    "                \n",
    "    # write a separate combiner ensure the integrity of the graph topology\n",
    "    # no additional node object will be generated\n",
    "    def combiner(self, nid, value):             \n",
    "        rankMass, node = [0]*(self.options.n_topic+1), None        \n",
    "        # loop through all arrivals\n",
    "        for v in value:            \n",
    "            if isinstance(v, list):\n",
    "                rankMass = [a+b for a,b in zip(rankMass, v)]                \n",
    "            else:\n",
    "                node = v            \n",
    "        # emit accumulative mass for nid       \n",
    "        if node:\n",
    "            node['p'] = [a+b for a,b in zip(rankMass, node['p'])]\n",
    "            yield nid, node\n",
    "        else:\n",
    "            yield nid, rankMass\n",
    "    \n",
    "    # reducer for initialization pass --> need to handle dangling nodes\n",
    "    def reducer_job_init(self, nid, value):      \n",
    "        # increase counter for node count\n",
    "        self.increment_counter('wiki_node_count', 'nodes', 1)\n",
    "        rankMass, node = [0]*(self.options.n_topic+1), None\n",
    "        # loop through all arrivals\n",
    "        for v in value:            \n",
    "            if isinstance(v, list):\n",
    "                rankMass = [a+b for a,b in zip(rankMass, v)]         \n",
    "            else:\n",
    "                node = v\n",
    "        # handle dangling node, create node struct and add missing mass\n",
    "        if not node:            \n",
    "            node = {'a':[], 'p':rankMass}   \n",
    "            for i in range(self.options.n_topic+1):\n",
    "                self.increment_counter('wiki_dangling_mass', 'mass_%d' %i, int(1e10))\n",
    "        else:\n",
    "            node['p'] = [a+b for a,b in zip(rankMass, node['p'])]\n",
    "        # emit for next iteration\n",
    "        yield nid, node\n",
    "        \n",
    "    # reducer for regular pass --> all nodes has structure available\n",
    "    def reducer_job_iter(self, nid, value):              \n",
    "        rankMass, node = [0]*(self.options.n_topic+1), None\n",
    "        # loop through all arrivals\n",
    "        for v in value:            \n",
    "            if isinstance(v, list):\n",
    "                rankMass = [a+b for a,b in zip(rankMass, v)]        \n",
    "            else:\n",
    "                node = v\n",
    "        # update pageRank\n",
    "        node['p'] = [a+b for a,b in zip(rankMass, node['p'])]            \n",
    "        # emit for next iteration\n",
    "        yield nid, node\n",
    "\n",
    "    def steps(self):\n",
    "        jc = {\n",
    "            'mapreduce.job.maps': '2',\n",
    "            'mapreduce.job.reduces': '2',\n",
    "        }\n",
    "        return [MRStep(mapper=self.mapper_job_init if self.options.init else self.mapper_job_iter                       \n",
    "                       , combiner=self.combiner                       \n",
    "                       , reducer=self.reducer_job_init if self.options.init else self.reducer_job_iter\n",
    "                       , jobconf = jc\n",
    "                      )\n",
    "               ]\n",
    "\n",
    "if __name__ == '__main__':\n",
    "    PageRankIter_T.run()\n"
   ]
  },
  {
   "cell_type": "code",
   "execution_count": 9,
   "metadata": {
    "collapsed": false
   },
   "outputs": [],
   "source": [
    "##### unit test #####\n",
    "#!python PageRankIter_T.py ./data/randNet.txt --i 1 --n 10 -r 'inline' > test.t\n",
    "#!python PageRankIter_T.py ./data/PageRank-test.txt --i 1 --n 10 -r 'hadoop' > test.t\n",
    "#!python PageRankIter_T.py test.t --i 0 --n 2 -r 'inline' > test2.t"
   ]
  },
  {
   "cell_type": "markdown",
   "metadata": {},
   "source": [
    "####2. during mass redistribution/adjustment step, in _PageRankDist_ job:\n",
    " \n",
    "$$p'=\\alpha\\big(\\frac{1}{|G|}\\big)+(1-\\alpha)\\big(\\frac{m}{|G|}+p\\big),\\quad |G|=N$$\n",
    "\n",
    "  - instead of all nodes receiving $\\frac{1}{N}$ uniformly in the teleportation term, nodes belong to topic $T_j$ will receive $\\frac{\\beta}{|T_j|}$, and others receive $\\frac{1-\\beta}{N - |Tj|}$\n",
    "  \n",
    "\n",
    "  - intuitively with $\\beta=0.99$, the teleportation will transition to nodes in $T_j$ with a $99\\%$ probability, while only $1\\%$ chance to nodes outside of $T_j$\n",
    "\n",
    "\n",
    "  - because $\\beta$ and $|T_j|$ are both known, we will evaluate $v_{ji}$ before hand and load all $10$ of them in _mapper_init_ phase, and apply it in the mapper."
   ]
  },
  {
   "cell_type": "code",
   "execution_count": 12,
   "metadata": {
    "collapsed": false
   },
   "outputs": [
    {
     "name": "stdout",
     "output_type": "stream",
     "text": [
      "Overwriting PageRankDist_T.py\n"
     ]
    }
   ],
   "source": [
    "%%writefile PageRankDist_T.py\n",
    "from mrjob.job import MRJob\n",
    "from mrjob.step import MRStep\n",
    "from subprocess import Popen, PIPE\n",
    "\n",
    "class PageRankDist_T(MRJob):\n",
    "    DEFAULT_PROTOCOL = 'json'\n",
    "\n",
    "    def configure_options(self):\n",
    "        super(PageRankDist_T, self).configure_options()        \n",
    "        self.add_passthrough_option(\n",
    "            '--s', dest='size', default=0, type='int',\n",
    "            help='size: node number (default 0)')    \n",
    "        self.add_passthrough_option(\n",
    "            '--j', dest='alpha', default=0.15, type='float',\n",
    "            help='jump: teleport factor (default 0.15)') \n",
    "        self.add_passthrough_option(\n",
    "            '--b', dest='beta', default=0.99, type='float',\n",
    "            help='beta: topic bias factor (default 0.99)') \n",
    "        self.add_passthrough_option(\n",
    "            '--m', dest='m', default='', type='str',\n",
    "            help='m: rank mass from dangling nodes') \n",
    "        self.add_passthrough_option(\n",
    "            '--w', dest='wiki', default=0, type='int',\n",
    "            help='w: if it is wiki data (default 1)') \n",
    "    \n",
    "    def mapper_init(self):\n",
    "        # load topic file and count\n",
    "        T_j, self.T_index = {}, {}\n",
    "        cat = Popen(['cat', 'randNet_topics.txt'], stdout=PIPE)\n",
    "        for line in cat.stdout:\n",
    "            nid, topic = line.strip().split('\\t')\n",
    "            self.T_index[nid] = topic\n",
    "            T_j[topic] = 1 if topic not in T_j else (T_j[topic]+1)\n",
    "            \n",
    "        # prepare adjustment factors\n",
    "        self.damping = 1 - self.options.alpha        \n",
    "        cmd = 'm = %s' %self.options.m\n",
    "        exec cmd\n",
    "        # assuming here -m is specified with a list syntax string\n",
    "        self.p_dangling = [1.0*x / self.options.size for x in m]\n",
    "        # for each topic, get topic bias\n",
    "        self.v_ij = [[1, 1]]*(len(T_j)+1)\n",
    "        N, b = self.options.size, self.options.beta\n",
    "        for t in T_j:\n",
    "            self.v_ij[int(t)] = [(1-b)*N/(N-T_j[t]), b*N/T_j[t]]\n",
    "                \n",
    "            \n",
    "    def mapper(self, _, line):             \n",
    "        # parse line\n",
    "        nid, node = line.strip().split('\\t', 1)\n",
    "        nid = nid.strip('\"')\n",
    "        cmd = 'node = %s' %node\n",
    "        exec cmd\n",
    "        # get final pageRank        \n",
    "        for i in range(len(self.v_ij)):\n",
    "            vij = self.v_ij[i][i==int(self.T_index[nid])]\n",
    "            node['p'][i] = (self.p_dangling[i]+node['p'][i])*self.damping + self.options.alpha*vij\n",
    "        yield nid, node\n",
    "\n",
    "    def steps(self):\n",
    "        jc = {\n",
    "            'mapreduce.job.maps': '2',           \n",
    "        }\n",
    "        return [MRStep(mapper_init=self.mapper_init\n",
    "                       , mapper=self.mapper                    \n",
    "                       , jobconf = jc\n",
    "                      )\n",
    "               ]\n",
    "\n",
    "if __name__ == '__main__':\n",
    "    PageRankDist_T.run()\n"
   ]
  },
  {
   "cell_type": "code",
   "execution_count": 11,
   "metadata": {
    "collapsed": false
   },
   "outputs": [],
   "source": [
    "##### unit test #####\n",
    "# no dangling nodes for randNet data\n",
    "#!python PageRankDist_T.py test.t --m '[1]*11' --s '100' --file './data/randNet_topics.txt'  -r 'hadoop' > test2.t"
   ]
  },
  {
   "cell_type": "markdown",
   "metadata": {},
   "source": [
    "###PageRankSort job \n",
    "- emit (vector_ID, pageRank)~topic_id as key~value pair\n",
    "- partition on vector_ID, secondary sort (-k2,2nr) on pageRank \n",
    "- print out top 10 for each vector_ID"
   ]
  },
  {
   "cell_type": "code",
   "execution_count": 2,
   "metadata": {
    "collapsed": false
   },
   "outputs": [
    {
     "name": "stdout",
     "output_type": "stream",
     "text": [
      "Overwriting PageRankSort_T.py\n"
     ]
    }
   ],
   "source": [
    "%%writefile PageRankSort_T.py\n",
    "from mrjob.job import MRJob\n",
    "from mrjob.step import MRStep\n",
    "from subprocess import Popen, PIPE\n",
    "\n",
    "class PageRankSort_T(MRJob):\n",
    "    DEFAULT_PROTOCOL = 'json'\n",
    "    PARTITIONER = 'org.apache.hadoop.mapred.lib.KeyFieldBasedPartitioner'\n",
    "    \n",
    "    def mapper_init(self):\n",
    "        # load topic file and count\n",
    "        self.T_index = {}\n",
    "        cat = Popen(['cat', 'randNet_topics.txt'], stdout=PIPE)\n",
    "        for line in cat.stdout:\n",
    "            nid, topic = line.strip().split('\\t')\n",
    "            self.T_index[nid] = topic                \n",
    "            \n",
    "    def mapper(self, _, line):             \n",
    "        # parse line\n",
    "        nid, node = line.strip().split('\\t', 1)\n",
    "        nid = nid.strip('\"')\n",
    "        cmd = 'node = %s' %node\n",
    "        exec cmd\n",
    "        # emit (vector_ID, pageRank)~topic_id\n",
    "        for i in range(len(node['p'])):\n",
    "            yield (i, node['p'][i]), self.T_index[nid]\n",
    "        \n",
    "    def reducer_init(self):\n",
    "        self.current_v = None\n",
    "        self.i = 0\n",
    "        self.top = 10\n",
    "    \n",
    "    def reducer(self, key, value):\n",
    "        if self.current_v != key[0]:\n",
    "            self.current_v = key[0]\n",
    "            self.i = 0\n",
    "            yield '====== Top 10 for topic %d ======' %self.current_v, ''\n",
    "        if self.i < self.top:\n",
    "            self.i += 1\n",
    "            for v in value:\n",
    "                yield key, v\n",
    "        \n",
    "    \n",
    "    def steps(self):\n",
    "        jc = {\n",
    "            'mapreduce.job.maps': '3',\n",
    "            'mapreduce.job.reduces': '3',            \n",
    "            'mapreduce.partition.keypartitioner.options': '-k1,1',             \n",
    "            'mapreduce.job.output.key.comparator.class': 'org.apache.hadoop.mapreduce.lib.partition.KeyFieldBasedComparator',\n",
    "            'mapreduce.partition.keycomparator.options': '-k1,1 -k2,2nr',            \n",
    "            'stream.num.map.output.key.fields': '2',\n",
    "            'mapreduce.map.output.key.field.separator': ' ',\n",
    "            'stream.map.output.field.separator': ' ',   \n",
    "        }\n",
    "        return [MRStep(mapper_init=self.mapper_init\n",
    "                       , mapper=self.mapper     \n",
    "                       , reducer_init=self.reducer_init\n",
    "                       , reducer=self.reducer\n",
    "                       , jobconf = jc\n",
    "                      )\n",
    "               ]\n",
    "\n",
    "if __name__ == '__main__':\n",
    "    PageRankSort_T.run()\n",
    "\n"
   ]
  },
  {
   "cell_type": "code",
   "execution_count": 40,
   "metadata": {
    "collapsed": false,
    "scrolled": false
   },
   "outputs": [],
   "source": [
    "##### unit test #####\n",
    "#!python PageRankSort_T.py 'randNet_pr' --file './data/randNet_topics.txt' -r 'hadoop' > test.sort2"
   ]
  },
  {
   "cell_type": "markdown",
   "metadata": {
    "collapsed": true
   },
   "source": [
    "###Driver for topic-sensitive-pagerank\n",
    "- we need to retrieve a group of counters, which represent loss mass for each topic. \n",
    "- in this implementation, the counter group name is **wiki_dangling_mass**, and counter names are **mass_[i]**, with mass_0 for vanilla pageRank, and mass_1 for topic 1 etc.\n",
    "- the loss values are passed as list syntax string to the job, which will transfer it to a list"
   ]
  },
  {
   "cell_type": "code",
   "execution_count": 47,
   "metadata": {
    "collapsed": false,
    "scrolled": false
   },
   "outputs": [
    {
     "name": "stdout",
     "output_type": "stream",
     "text": [
      "Overwriting RunPageRank_T.py\n"
     ]
    }
   ],
   "source": [
    "%%writefile RunPageRank_T.py\n",
    "#!/usr/bin/python\n",
    "\n",
    "from PageRankIter_T import PageRankIter_T\n",
    "from PageRankDist_T import PageRankDist_T\n",
    "from PageRankSort_T import PageRankSort_T\n",
    "from PageRankJoin import PageRankJoin\n",
    "from helper import getCounter, getCounters\n",
    "from subprocess import call, check_output\n",
    "from time import time\n",
    "import sys, getopt, datetime, os\n",
    "\n",
    "# parse parameter\n",
    "if __name__ == \"__main__\":\n",
    "\n",
    "    try:\n",
    "        opts, args = getopt.getopt(sys.argv[1:], \"hg:j:i:d:s:\")\n",
    "    except getopt.GetoptError:\n",
    "        print 'RunBFS.py -g <graph> -j <jump> -i <iteration> -d <index> -s <size>'\n",
    "        sys.exit(2)\n",
    "    if len(opts) != 5:\n",
    "        print 'RunBFS.py -g <graph> -j <jump> -i <iteration> -d <index>'\n",
    "        sys.exit(2)\n",
    "    for opt, arg in opts:\n",
    "        if opt == '-h':\n",
    "            print 'RunBFS.py -g <graph> -j <jump> -i <iteration> -d <index>'\n",
    "            sys.exit(2)\n",
    "        elif opt == '-g':\n",
    "            graph = arg\n",
    "        elif opt == '-j':\n",
    "            jump = arg\n",
    "        elif opt == '-i':            \n",
    "            n_iter = arg\n",
    "        elif opt == '-d':\n",
    "            index = arg\n",
    "        elif opt == '-s':\n",
    "            n_node = arg\n",
    "        \n",
    "start = time()\n",
    "FNULL = open(os.devnull, 'w')\n",
    "n_iter = int(n_iter)\n",
    "doJoin = index!='NULL'\n",
    "doInit = n_node=='0'\n",
    "host = 'localhost'\n",
    "\n",
    "print '%s: %s topic sensitive PageRanking on \\'%s\\' for %d iterations with damping factor %.2f ...' %(str(datetime.datetime.now()),\n",
    "          'start' if doInit else 'continue', graph[graph.rfind('/')+1:], n_iter, 1-float(jump))\n",
    "\n",
    "if doInit:\n",
    "    # clear directory\n",
    "    print str(datetime.datetime.now()) + ': clearing directory ...'\n",
    "    call(['hdfs', 'dfs', '-rm', '-r', '/user/leiyang/in'], stdout=FNULL)\n",
    "    call(['hdfs', 'dfs', '-rm', '-r', '/user/leiyang/out'], stdout=FNULL)\n",
    "    \n",
    "    # creat initialization job    \n",
    "    init_job = PageRankIter_T(args=[graph, '--i', '1', '--n', '10', '-r', 'hadoop', \n",
    "                                    '--output-dir', 'hdfs:///user/leiyang/out'])\n",
    "\n",
    "    # run initialization job\n",
    "    print str(datetime.datetime.now()) + ': running iteration 1 ...'\n",
    "    with init_job.make_runner() as runner:    \n",
    "        runner.run()\n",
    "\n",
    "    # checking counters\n",
    "    n_node = getCounter('wiki_node_count', 'nodes', host)    \n",
    "    loss = getCounters('wiki_dangling_mass', host)\n",
    "    loss_array = ['0']*11\n",
    "    for k in loss:\n",
    "        i = int(k.split('_')[1])\n",
    "        loss_array[i] = str(loss[k]/1e10)\n",
    "    print '%s: initialization complete: %d nodes!' %(str(datetime.datetime.now()), n_node)\n",
    "\n",
    "    # run redistribution job\n",
    "    call(['hdfs', 'dfs', '-mv', '/user/leiyang/out', '/user/leiyang/in'])\n",
    "    loss_param = '[%s]' %(','.join(['0']*11) if len(loss)==0 else ','.join(loss_array))\n",
    "    dist_job = PageRankDist_T(args=['hdfs:///user/leiyang/in/part*', '--s', str(n_node), '--m', loss_param,\n",
    "                                    '--file', 'hdfs:///user/leiyang/randNet_topics.txt',\n",
    "                                    '-r', 'hadoop', '--output-dir', 'hdfs:///user/leiyang/out'])\n",
    "    print str(datetime.datetime.now()) + ': distributing loss mass ...'\n",
    "    with dist_job.make_runner() as runner:    \n",
    "        runner.run()\n",
    "\n",
    "# move results for next iteration\n",
    "call(['hdfs', 'dfs', '-rm', '-r', '/user/leiyang/in'], stdout=FNULL)\n",
    "call(['hdfs', 'dfs', '-mv', '/user/leiyang/out', '/user/leiyang/in'])\n",
    "\n",
    "# create iteration job\n",
    "iter_job = PageRankIter_T(args=['hdfs:///user/leiyang/in/part*', '--i', '0', '--n', '10',\n",
    "                              '-r', 'hadoop', '--output-dir', 'hdfs:///user/leiyang/out'])\n",
    "\n",
    "# run pageRank iteratively\n",
    "i = 2 if doInit else 1\n",
    "while(1):\n",
    "    print str(datetime.datetime.now()) + ': running iteration %d ...' %i\n",
    "    with iter_job.make_runner() as runner:        \n",
    "        runner.run()\n",
    "    \n",
    "    # check counters for topic loss mass\n",
    "    loss = getCounters('wiki_dangling_mass', host)\n",
    "    loss_array = ['0']*11\n",
    "    for k in loss:\n",
    "        i = int(k.split('_')[1])\n",
    "        loss_array[i] = str(loss[k]/1e10)\n",
    "    \n",
    "    # move results for next iteration\n",
    "    call(['hdfs', 'dfs', '-rm', '-r', '/user/leiyang/in'], stdout=FNULL)\n",
    "    call(['hdfs', 'dfs', '-mv', '/user/leiyang/out', '/user/leiyang/in'])\n",
    "        \n",
    "    # run redistribution job\n",
    "    loss_param = '[%s]' %(','.join(['0']*11) if len(loss)==0 else ','.join(loss_array))\n",
    "    dist_job = PageRankDist_T(args=['hdfs:///user/leiyang/in/part*', '--s', str(n_node), '--m', loss_param,\n",
    "                                    '--file', 'hdfs:///user/leiyang/randNet_topics.txt',\n",
    "                                    '-r', 'hadoop', '--output-dir', 'hdfs:///user/leiyang/out'])\n",
    "    \n",
    "    print str(datetime.datetime.now()) + ': distributing loss mass ...'\n",
    "    with dist_job.make_runner() as runner:    \n",
    "        runner.run()\n",
    "    \n",
    "    if i == n_iter:\n",
    "        break\n",
    "    \n",
    "    # if more iteration needed\n",
    "    i += 1    \n",
    "    call(['hdfs', 'dfs', '-rm', '-r', '/user/leiyang/in'], stdout=FNULL)\n",
    "    call(['hdfs', 'dfs', '-mv', '/user/leiyang/out', '/user/leiyang/in'], stdout=FNULL)\n",
    "\n",
    "# run sort job\n",
    "print str(datetime.datetime.now()) + ': sorting PageRank ...'\n",
    "call(['hdfs', 'dfs', '-rm', '-r', '/user/leiyang/rank'], stdout=FNULL)\n",
    "sort_job = PageRankSort_T(args=['hdfs:///user/leiyang/out/part*', '--file', 'hdfs:///user/leiyang/randNet_topics.txt',\n",
    "                              '-r', 'hadoop', '--output-dir', 'hdfs:///user/leiyang/rank'])\n",
    "\n",
    "with sort_job.make_runner() as runner:    \n",
    "    runner.run()\n",
    "    \n",
    "# run join job\n",
    "if doJoin:\n",
    "    print str(datetime.datetime.now()) + ': joining PageRank with index ...'\n",
    "    call(['hdfs', 'dfs', '-rm', '-r', '/user/leiyang/join'], stdout=FNULL)\n",
    "    join_job = PageRankJoin(args=[index, '-r', 'hadoop', '--file', 'hdfs:///user/leiyang/rank/part-00000', \n",
    "                                  '--output-dir', 'hdfs:///user/leiyang/join'])\n",
    "    with join_job.make_runner() as runner:\n",
    "        runner.run()\n",
    "\n",
    "print \"%s: PageRank job completes in %.1f minutes!\\n\" %(str(datetime.datetime.now()), (time()-start)/60.0)\n",
    "\n",
    "\n",
    "call(['hdfs', 'dfs', '-cat', '/user/leiyang/join/p*' if doJoin else '/user/leiyang/rank/p*'])\n"
   ]
  },
  {
   "cell_type": "markdown",
   "metadata": {
    "collapsed": true
   },
   "source": [
    "###Run topic-sensitive-PageRank on randNet"
   ]
  },
  {
   "cell_type": "code",
   "execution_count": 50,
   "metadata": {
    "collapsed": false,
    "scrolled": false
   },
   "outputs": [
    {
     "name": "stdout",
     "output_type": "stream",
     "text": [
      "2016-03-14 23:25:35.341468: start topic sensitive PageRanking on 'randNet.txt' for 2 iterations with damping factor 0.85 ...\n",
      "2016-03-14 23:25:35.341510: clearing directory ...\n",
      "2016-03-14 23:25:38.381559: running iteration 1 ...\n",
      "No handlers could be found for logger \"mrjob.conf\"\n",
      "2016-03-14 23:26:08.768379: initialization complete: 100 nodes!\n",
      "2016-03-14 23:26:10.302849: distributing loss mass ...\n",
      "2016-03-14 23:26:37.074679: running iteration 2 ...\n",
      "2016-03-14 23:27:10.299038: distributing loss mass ...\n",
      "2016-03-14 23:27:33.786508: sorting PageRank ...\n",
      "2016-03-14 23:28:08.548791: PageRank job completes in 2.6 minutes!\n",
      "\n",
      "\"====== Top 10 for topic 0 ======\"\t\"\"\n",
      "[0, 1.6076271109890086]\t\"4\"\n",
      "[0, 1.5757123883143969]\t\"3\"\n",
      "[0, 1.5742073671113035]\t\"10\"\n",
      "[0, 1.540390989068374]\t\"2\"\n",
      "[0, 1.5221086826843588]\t\"8\"\n",
      "[0, 1.4912908154538556]\t\"7\"\n",
      "[0, 1.451330386178526]\t\"1\"\n",
      "[0, 1.4330922286519523]\t\"2\"\n",
      "[0, 1.4282327277192604]\t\"2\"\n",
      "[0, 1.420359996116097]\t\"8\"\n",
      "\"====== Top 10 for topic 3 ======\"\t\"\"\n",
      "[3, 3.1007775017723676]\t\"3\"\n",
      "[3, 2.728338161490016]\t\"3\"\n",
      "[3, 2.630148085635196]\t\"3\"\n",
      "[3, 2.449888407509806]\t\"3\"\n",
      "[3, 2.4244890524764036]\t\"3\"\n",
      "[3, 2.3737871587132]\t\"3\"\n",
      "[3, 2.2844867316425757]\t\"3\"\n",
      "[3, 2.2302853241314207]\t\"3\"\n",
      "[3, 1.9494422654891403]\t\"3\"\n",
      "[3, 1.585222631608711]\t\"10\"\n",
      "\"====== Top 10 for topic 6 ======\"\t\"\"\n",
      "[6, 3.452449425532428]\t\"6\"\n",
      "[6, 3.3415010712976394]\t\"6\"\n",
      "[6, 3.153677218973676]\t\"6\"\n",
      "[6, 3.1478734311978167]\t\"6\"\n",
      "[6, 3.0062702584843857]\t\"6\"\n",
      "[6, 2.8518406739805435]\t\"6\"\n",
      "[6, 1.8353181150344853]\t\"3\"\n",
      "[6, 1.7452829097188156]\t\"1\"\n",
      "[6, 1.650547677607659]\t\"7\"\n",
      "[6, 1.5520807425446956]\t\"1\"\n",
      "\"====== Top 10 for topic 9 ======\"\t\"\"\n",
      "[9, 3.060229418842161]\t\"9\"\n",
      "[9, 2.979611542186343]\t\"9\"\n",
      "[9, 2.9249475623369228]\t\"9\"\n",
      "[9, 2.811445306690044]\t\"9\"\n",
      "[9, 2.753880168647277]\t\"9\"\n",
      "[9, 2.633916944665387]\t\"9\"\n",
      "[9, 2.6237843149338826]\t\"9\"\n",
      "[9, 1.7082720511742717]\t\"4\"\n",
      "[9, 1.6396950897219282]\t\"8\"\n",
      "[9, 1.4417116318500756]\t\"5\"\n",
      "\"====== Top 10 for topic 1 ======\"\t\"\"\n",
      "[1, 2.0277656004584634]\t\"1\"\n",
      "[1, 2.01924107206815]\t\"1\"\n",
      "[1, 2.0042618968483428]\t\"1\"\n",
      "[1, 1.9840937141196724]\t\"1\"\n",
      "[1, 1.9005343297098247]\t\"1\"\n",
      "[1, 1.8169995237419168]\t\"1\"\n",
      "[1, 1.8031939294911281]\t\"1\"\n",
      "[1, 1.7643871332926433]\t\"7\"\n",
      "[1, 1.697663442582149]\t\"1\"\n",
      "[1, 1.6061549426812238]\t\"1\"\n",
      "\"====== Top 10 for topic 10 ======\"\t\"\"\n",
      "[10, 2.6403850807329095]\t\"10\"\n",
      "[10, 2.3333074490514694]\t\"10\"\n",
      "[10, 2.3242611946337393]\t\"10\"\n",
      "[10, 2.0474272607723365]\t\"10\"\n",
      "[10, 1.9832877329871108]\t\"10\"\n",
      "[10, 1.9537931823575154]\t\"10\"\n",
      "[10, 1.9089379468840644]\t\"10\"\n",
      "[10, 1.8822262817674749]\t\"10\"\n",
      "[10, 1.876481627166124]\t\"10\"\n",
      "[10, 1.870432423806903]\t\"10\"\n",
      "\"====== Top 10 for topic 4 ======\"\t\"\"\n",
      "[4, 2.658938009381804]\t\"4\"\n",
      "[4, 2.230333702606206]\t\"4\"\n",
      "[4, 2.0855709724067872]\t\"4\"\n",
      "[4, 2.0479432040461996]\t\"4\"\n",
      "[4, 1.939544249615961]\t\"4\"\n",
      "[4, 1.9106367376637203]\t\"4\"\n",
      "[4, 1.8188861851920657]\t\"4\"\n",
      "[4, 1.7276359895818532]\t\"4\"\n",
      "[4, 1.7064786379523138]\t\"4\"\n",
      "[4, 1.680103142772124]\t\"5\"\n",
      "\"====== Top 10 for topic 7 ======\"\t\"\"\n",
      "[7, 2.633474214693505]\t\"7\"\n",
      "[7, 2.6332214732046486]\t\"7\"\n",
      "[7, 2.469406363261154]\t\"7\"\n",
      "[7, 2.4381961656842135]\t\"7\"\n",
      "[7, 2.35101483090898]\t\"7\"\n",
      "[7, 2.3360347159692063]\t\"7\"\n",
      "[7, 2.312882323078407]\t\"7\"\n",
      "[7, 2.289266817986907]\t\"7\"\n",
      "[7, 2.267395965681545]\t\"7\"\n",
      "[7, 2.026203544074973]\t\"7\"\n",
      "\"====== Top 10 for topic 2 ======\"\t\"\"\n",
      "[2, 3.0408533573160685]\t\"2\"\n",
      "[2, 2.9527264924859447]\t\"2\"\n",
      "[2, 2.94090754655984]\t\"2\"\n",
      "[2, 2.820085079982913]\t\"2\"\n",
      "[2, 2.7161250962039265]\t\"2\"\n",
      "[2, 2.5739862590643385]\t\"2\"\n",
      "[2, 2.437154220819449]\t\"2\"\n",
      "[2, 2.302905103183183]\t\"2\"\n",
      "[2, 1.621938299551385]\t\"1\"\n",
      "[2, 1.6007765263381522]\t\"4\"\n",
      "\"====== Top 10 for topic 5 ======\"\t\"\"\n",
      "[5, 2.8734416137454013]\t\"5\"\n",
      "[5, 2.809042600371491]\t\"5\"\n",
      "[5, 2.769751765971403]\t\"5\"\n",
      "[5, 2.6567480226145603]\t\"5\"\n",
      "[5, 2.6229828497245298]\t\"5\"\n",
      "[5, 2.437841665159035]\t\"5\"\n",
      "[5, 2.3264013703190445]\t\"5\"\n",
      "[5, 2.317746946733371]\t\"5\"\n",
      "[5, 2.310092689539805]\t\"5\"\n",
      "[5, 1.6659469254855137]\t\"8\"\n",
      "\"====== Top 10 for topic 8 ======\"\t\"\"\n",
      "[8, 3.3531168983697723]\t\"8\"\n",
      "[8, 2.737807715019576]\t\"8\"\n",
      "[8, 2.7304141658474648]\t\"8\"\n",
      "[8, 2.6779613302006835]\t\"8\"\n",
      "[8, 2.5580920813747987]\t\"8\"\n",
      "[8, 2.525551329273765]\t\"8\"\n",
      "[8, 2.3927393763673797]\t\"8\"\n",
      "[8, 2.316853699343678]\t\"8\"\n",
      "[8, 2.0543621387363338]\t\"8\"\n",
      "[8, 1.50319178717137]\t\"2\"\n",
      "cat: `>': No such file or directory\n"
     ]
    }
   ],
   "source": [
    "!python RunPageRank_T.py -g 'hdfs:///user/leiyang/randNet.txt' -j 0.15 -i 2 -d 'NULL' -s '0'"
   ]
  },
  {
   "cell_type": "markdown",
   "metadata": {},
   "source": [
    "###Comments\n",
    "- for each topic, most top 10 ranked nodes are consistent with their truth topic"
   ]
  },
  {
   "cell_type": "markdown",
   "metadata": {},
   "source": [
    "###HW 9.5: Applying topic-specific PageRank to Wikipedia\n",
    "\n",
    "Here you will apply your topic-specific PageRank implementation to Wikipedia,\n",
    "defining topics (very arbitrarily) for each page by the length (number of characters) of the name of the article mod 10,\n",
    "so that there are 10 topics. Once again, print out the top ten ranking nodes \n",
    "and their topics for each of the 11 versions, and comment on your result.\n",
    "Assume a teleportation factor of **0.15** in all your analyses.\n",
    "\n",
    "###Simple code to count wiki topics based on node name mod 10"
   ]
  },
  {
   "cell_type": "code",
   "execution_count": 61,
   "metadata": {
    "collapsed": false
   },
   "outputs": [
    {
     "name": "stdout",
     "output_type": "stream",
     "text": [
      "[1455304, 1536145, 1591290, 1624124, 1610195, 1550659, 1511681, 1472178, 1419076, 1421625]\n"
     ]
    }
   ],
   "source": [
    "topic_index = [0]*10\n",
    "with open('indices.txt') as f:\n",
    "    for line in f.readlines():        \n",
    "        name = line.split('\\t')[0]        \n",
    "        topic_index[len(name)%10] += 1\n",
    "\n",
    "print topic_index"
   ]
  },
  {
   "cell_type": "code",
   "execution_count": 62,
   "metadata": {
    "collapsed": false
   },
   "outputs": [
    {
     "name": "stdout",
     "output_type": "stream",
     "text": [
      "0\n"
     ]
    }
   ],
   "source": [
    "count=0\n",
    "with open('indices.txt') as f:\n",
    "    for line in f.readlines():        \n",
    "        count += len(line.split('\\t'))==2\n",
    "\n",
    "print count"
   ]
  },
  {
   "cell_type": "markdown",
   "metadata": {},
   "source": [
    "### Job to attach topic to wiki file\n",
    "- reducer side join to get topic\n"
   ]
  },
  {
   "cell_type": "code",
   "execution_count": 10,
   "metadata": {
    "collapsed": false
   },
   "outputs": [
    {
     "name": "stdout",
     "output_type": "stream",
     "text": [
      "Overwriting PageRankInit.py\n"
     ]
    }
   ],
   "source": [
    "%%writefile PageRankInit.py\n",
    "from mrjob.job import MRJob\n",
    "from mrjob.step import MRStep\n",
    "\n",
    "class PageRankInit(MRJob):\n",
    "    DEFAULT_PROTOCOL = 'json'\n",
    "\n",
    "    def configure_options(self):\n",
    "        super(PageRankInit, self).configure_options()\n",
    "        self.add_passthrough_option(\n",
    "            '--n', dest='n_topic', default='0', type='int',\n",
    "            help='n: number of topics (default 0)')\n",
    "\n",
    "    def mapper(self, _, line):\n",
    "        # parse line\n",
    "        elem = line.strip().split('\\t')\n",
    "        if len(elem) == 2:\n",
    "            nid, adj = elem[0].strip('\"'), elem[1]\n",
    "            cmd = 'adj = %s' %adj\n",
    "            exec cmd\n",
    "            # initialize node struct\n",
    "            node = {'a':adj.keys(), 'p':[1.0]*(self.options.n_topic+1)}\n",
    "            # emit node\n",
    "            yield nid, node\n",
    "            # emit pageRank mass\n",
    "            for m in node['a']:\n",
    "                yield m, {'f':0}\n",
    "        else:\n",
    "            yield elem[1].strip('\"'), {'t':len(elem[0])%10 + 1}\n",
    "\n",
    "    # write a separate combiner ensure the integrity of the graph topology\n",
    "    # no additional node object will be generated\n",
    "    def combiner(self, nid, value):\n",
    "        node, topic, adj = None, None, None\n",
    "        # loop through all arrivals\n",
    "        for v in value:\n",
    "            if 'a' in v:\n",
    "                node = v\n",
    "            elif 't' in v:\n",
    "                topic = v\n",
    "            elif 'f' in v:\n",
    "                adj = v\n",
    "        # emit accumulative mass for nid\n",
    "        if node:\n",
    "            yield nid, node\n",
    "        if topic:\n",
    "            yield nid, topic\n",
    "        if adj:\n",
    "            yield nid, adj\n",
    "\n",
    "    # reducer for initialization pass --> need to handle dangling nodes\n",
    "    def reducer(self, nid, value):\n",
    "        topic, node = None, None\n",
    "        # loop through all arrivals\n",
    "        for v in value:\n",
    "            if 't' in v:\n",
    "                topic = v['t']\n",
    "            elif 'a' in v:\n",
    "                node = v\n",
    "        # handle dangling node, create node struct and add missing mass\n",
    "        if not node: # and topic:\n",
    "            node = {'a':[], 'p':[1.0]*(self.options.n_topic+1)}\n",
    "        node['t'] = topic if topic else 0\n",
    "        # emit for next iteration\n",
    "        yield nid, node\n",
    "\n",
    "    def steps(self):\n",
    "        jc = {\n",
    "            'mapreduce.job.maps': '2',\n",
    "            'mapreduce.job.reduces': '2',\n",
    "        }\n",
    "        return [MRStep(mapper=self.mapper\n",
    "                       , combiner=self.combiner\n",
    "                       , reducer=self.reducer\n",
    "                       , jobconf = jc\n",
    "                      )\n",
    "               ]\n",
    "\n",
    "if __name__ == '__main__':\n",
    "    PageRankInit.run()\n"
   ]
  },
  {
   "cell_type": "code",
   "execution_count": 5,
   "metadata": {
    "collapsed": false,
    "scrolled": false
   },
   "outputs": [
    {
     "name": "stdout",
     "output_type": "stream",
     "text": [
      "using configs in /Users/leiyang/.mrjob.conf\n",
      "Got unexpected opts from /Users/leiyang/.mrjob.conf: no_output\n",
      "creating tmp directory /var/folders/tx/5ldq67q511q8wqwqkvptnxd00000gn/T/PageRankInit.leiyang.20160318.213330.310523\n",
      "writing wrapper script to /var/folders/tx/5ldq67q511q8wqwqkvptnxd00000gn/T/PageRankInit.leiyang.20160318.213330.310523/setup-wrapper.sh\n",
      "Using Hadoop version 2.7.1\n",
      "Copying local files into hdfs:///user/leiyang/tmp/mrjob/PageRankInit.leiyang.20160318.213330.310523/files/\n",
      "HADOOP: packageJobJar: [/var/folders/tx/5ldq67q511q8wqwqkvptnxd00000gn/T/hadoop-unjar2845637823127928176/] [] /var/folders/tx/5ldq67q511q8wqwqkvptnxd00000gn/T/streamjob6502102574757138418.jar tmpDir=null\n",
      "Counters from step 1:\n",
      "  (no counters found)\n",
      "Streaming final output from hdfs:///user/leiyang/wiki_topic\n",
      "removing tmp directory /var/folders/tx/5ldq67q511q8wqwqkvptnxd00000gn/T/PageRankInit.leiyang.20160318.213330.310523\n",
      "deleting hdfs:///user/leiyang/tmp/mrjob/PageRankInit.leiyang.20160318.213330.310523 from HDFS\n"
     ]
    }
   ],
   "source": [
    "##### unit test #####\n",
    "!python PageRankInit.py 'wiki_index_sample' 'wiki_sample' --n 10 -r 'hadoop' --output-dir 'hdfs:///user/leiyang/wiki_topic' > test.t"
   ]
  },
  {
   "cell_type": "markdown",
   "metadata": {},
   "source": [
    "###PageRankIter"
   ]
  },
  {
   "cell_type": "code",
   "execution_count": 11,
   "metadata": {
    "collapsed": false
   },
   "outputs": [
    {
     "name": "stdout",
     "output_type": "stream",
     "text": [
      "Overwriting PageRankIter_W.py\n"
     ]
    }
   ],
   "source": [
    "%%writefile PageRankIter_W.py\n",
    "from mrjob.job import MRJob\n",
    "from mrjob.step import MRStep\n",
    "\n",
    "class PageRankIter_W(MRJob):\n",
    "    DEFAULT_PROTOCOL = 'json'\n",
    "\n",
    "    def configure_options(self):\n",
    "        super(PageRankIter_W, self).configure_options()                \n",
    "        self.add_passthrough_option(\n",
    "            '--n', dest='n_topic', default='0', type='int',\n",
    "            help='n: number of topics (default 0)') \n",
    "            \n",
    "    def mapper(self, _, line):             \n",
    "        # parse line\n",
    "        nid, node = line.strip().split('\\t', 1)\n",
    "        nid = nid.strip('\"')\n",
    "        cmd = 'node = %s' %node\n",
    "        exec cmd\n",
    "        # distribute rank mass  \n",
    "        n_adj = len(node['a'])\n",
    "        if n_adj > 0:            \n",
    "            rankMass = [x / n_adj for x in node['p']]\n",
    "            # emit pageRank mass        \n",
    "            for m in node['a']:\n",
    "                yield m, {'m':rankMass}\n",
    "        else:\n",
    "            # track dangling mass for each topic with counters\n",
    "            for i in range(self.options.n_topic+1):\n",
    "                self.increment_counter('wiki_dangling_mass', 'topic_%d' %i, int(node['p'][i]*1e10))\n",
    "        # reset pageRank and emit node\n",
    "        node['p'] = [0]*(self.options.n_topic+1)\n",
    "        yield nid, node\n",
    "    \n",
    "                \n",
    "    # write a separate combiner ensure the integrity of the graph topology\n",
    "    # no additional node object will be generated\n",
    "    def combiner(self, nid, value):             \n",
    "        rankMass, node = [0]*(self.options.n_topic+1), None        \n",
    "        # loop through all arrivals\n",
    "        for v in value:            \n",
    "            if 'm' in v:\n",
    "                rankMass = [a+b for a,b in zip(rankMass, v['m'])]                \n",
    "            else:\n",
    "                node = v            \n",
    "        # emit accumulative mass for nid       \n",
    "        if node:\n",
    "            node['p'] = [a+b for a,b in zip(rankMass, node['p'])]\n",
    "            yield nid, node\n",
    "        else:\n",
    "            yield nid, {'m':rankMass}\n",
    "    \n",
    "    def reducer(self, nid, value):              \n",
    "        rankMass, node = [0]*(self.options.n_topic+1), None\n",
    "        # loop through all arrivals\n",
    "        for v in value:            \n",
    "            if 'm' in v:\n",
    "                rankMass = [a+b for a,b in zip(rankMass, v['m'])]        \n",
    "            else:\n",
    "                node = v\n",
    "        # update pageRank\n",
    "        if True: #node:\n",
    "            node['p'] = [a+b for a,b in zip(rankMass, node['p'])]            \n",
    "            # emit for next iteration\n",
    "            yield nid, node\n",
    "\n",
    "    def steps(self):\n",
    "        jc = {\n",
    "            'mapreduce.job.maps': '2',\n",
    "            'mapreduce.job.reduces': '2',\n",
    "        }\n",
    "        return [MRStep(mapper=self.mapper\n",
    "                       , combiner=self.combiner                       \n",
    "                       , reducer=self.reducer\n",
    "                       , jobconf = jc\n",
    "                      )\n",
    "               ]\n",
    "\n",
    "if __name__ == '__main__':\n",
    "    PageRankIter_W.run()\n"
   ]
  },
  {
   "cell_type": "code",
   "execution_count": 6,
   "metadata": {
    "collapsed": false,
    "scrolled": false
   },
   "outputs": [
    {
     "name": "stdout",
     "output_type": "stream",
     "text": [
      "using configs in /Users/leiyang/.mrjob.conf\n",
      "Got unexpected opts from /Users/leiyang/.mrjob.conf: no_output\n",
      "creating tmp directory /var/folders/tx/5ldq67q511q8wqwqkvptnxd00000gn/T/PageRankIter_W.leiyang.20160318.213522.819781\n",
      "writing wrapper script to /var/folders/tx/5ldq67q511q8wqwqkvptnxd00000gn/T/PageRankIter_W.leiyang.20160318.213522.819781/setup-wrapper.sh\n",
      "Using Hadoop version 2.7.1\n",
      "Copying local files into hdfs:///user/leiyang/tmp/mrjob/PageRankIter_W.leiyang.20160318.213522.819781/files/\n",
      "HADOOP: packageJobJar: [/var/folders/tx/5ldq67q511q8wqwqkvptnxd00000gn/T/hadoop-unjar2327074916773165398/] [] /var/folders/tx/5ldq67q511q8wqwqkvptnxd00000gn/T/streamjob1778154114577902672.jar tmpDir=null\n",
      "Counters from step 1:\n",
      "  (no counters found)\n",
      "Streaming final output from hdfs:///user/leiyang/tmp/mrjob/PageRankIter_W.leiyang.20160318.213522.819781/output\n",
      "removing tmp directory /var/folders/tx/5ldq67q511q8wqwqkvptnxd00000gn/T/PageRankIter_W.leiyang.20160318.213522.819781\n",
      "deleting hdfs:///user/leiyang/tmp/mrjob/PageRankIter_W.leiyang.20160318.213522.819781 from HDFS\n"
     ]
    }
   ],
   "source": [
    "##### unit test #####\n",
    "!python PageRankIter_W.py test.t --n 10 -r 'hadoop' > test2"
   ]
  },
  {
   "cell_type": "markdown",
   "metadata": {},
   "source": [
    "###PageRankDist_W"
   ]
  },
  {
   "cell_type": "code",
   "execution_count": 12,
   "metadata": {
    "collapsed": false
   },
   "outputs": [
    {
     "name": "stdout",
     "output_type": "stream",
     "text": [
      "Overwriting PageRankDist_W.py\n"
     ]
    }
   ],
   "source": [
    "%%writefile PageRankDist_W.py\n",
    "from mrjob.job import MRJob\n",
    "from mrjob.step import MRStep\n",
    "from subprocess import Popen, PIPE\n",
    "\n",
    "class PageRankDist_W(MRJob):\n",
    "    DEFAULT_PROTOCOL = 'json'\n",
    "\n",
    "    def configure_options(self):\n",
    "        super(PageRankDist_W, self).configure_options()                \n",
    "        self.add_passthrough_option(\n",
    "            '--j', dest='alpha', default=0.15, type='float',\n",
    "            help='jump: teleport factor (default 0.15)') \n",
    "        self.add_passthrough_option(\n",
    "            '--b', dest='beta', default=0.99, type='float',\n",
    "            help='beta: topic bias factor (default 0.99)') \n",
    "        self.add_passthrough_option(\n",
    "            '--m', dest='m', default='', type='str',\n",
    "            help='m: rank mass from dangling nodes') \n",
    "            \n",
    "    def mapper_init(self):\n",
    "        # load topic file and count\n",
    "        T_j = [1455304, 1536145, 1591290, 1624124, 1610195, 1550659, 1511681, 1472178, 1419076, 1421625]     \n",
    "        N = sum(T_j)\n",
    "        # prepare adjustment factors\n",
    "        self.damping = 1 - self.options.alpha        \n",
    "        cmd = 'm = %s' %self.options.m\n",
    "        exec cmd\n",
    "        # assuming here -m is specified with a list syntax string\n",
    "        self.p_dangling = [1.0*x / N for x in m]\n",
    "        # for each topic, get topic bias\n",
    "        b = self.options.beta\n",
    "        self.v_ij = [[1, 1]] + [[(1-b)*N/(N-t), b*N/t] for t in T_j]\n",
    "                    \n",
    "    def mapper(self, _, line):             \n",
    "        # parse line\n",
    "        nid, node = line.strip().split('\\t', 1)\n",
    "        nid = nid.strip('\"')\n",
    "        cmd = 'node = %s' %node\n",
    "        exec cmd\n",
    "        # get final pageRank        \n",
    "        for i in range(len(self.v_ij)):\n",
    "            vij = self.v_ij[i][i==node['t']]\n",
    "            node['p'][i] = (self.p_dangling[i]+node['p'][i])*self.damping + self.options.alpha*vij\n",
    "        yield nid, node\n",
    "\n",
    "    def steps(self):\n",
    "        jc = {\n",
    "            'mapreduce.job.maps': '2',           \n",
    "        }\n",
    "        return [MRStep(mapper_init=self.mapper_init\n",
    "                       , mapper=self.mapper                    \n",
    "                       , jobconf = jc\n",
    "                      )\n",
    "               ]\n",
    "\n",
    "if __name__ == '__main__':\n",
    "    PageRankDist_W.run()\n"
   ]
  },
  {
   "cell_type": "code",
   "execution_count": 7,
   "metadata": {
    "collapsed": false
   },
   "outputs": [
    {
     "name": "stdout",
     "output_type": "stream",
     "text": [
      "using configs in /Users/leiyang/.mrjob.conf\n",
      "Got unexpected opts from /Users/leiyang/.mrjob.conf: no_output\n",
      "creating tmp directory /var/folders/tx/5ldq67q511q8wqwqkvptnxd00000gn/T/PageRankDist_W.leiyang.20160318.213626.447008\n",
      "writing wrapper script to /var/folders/tx/5ldq67q511q8wqwqkvptnxd00000gn/T/PageRankDist_W.leiyang.20160318.213626.447008/setup-wrapper.sh\n",
      "Using Hadoop version 2.7.1\n",
      "Copying local files into hdfs:///user/leiyang/tmp/mrjob/PageRankDist_W.leiyang.20160318.213626.447008/files/\n",
      "HADOOP: packageJobJar: [/var/folders/tx/5ldq67q511q8wqwqkvptnxd00000gn/T/hadoop-unjar8191536429609644621/] [] /var/folders/tx/5ldq67q511q8wqwqkvptnxd00000gn/T/streamjob4098817486675800499.jar tmpDir=null\n",
      "Counters from step 1:\n",
      "  (no counters found)\n",
      "Streaming final output from hdfs:///user/leiyang/tmp/mrjob/PageRankDist_W.leiyang.20160318.213626.447008/output\n",
      "removing tmp directory /var/folders/tx/5ldq67q511q8wqwqkvptnxd00000gn/T/PageRankDist_W.leiyang.20160318.213626.447008\n",
      "deleting hdfs:///user/leiyang/tmp/mrjob/PageRankDist_W.leiyang.20160318.213626.447008 from HDFS\n"
     ]
    }
   ],
   "source": [
    "##### unit test #####\n",
    "!python PageRankDist_W.py 'hdfs:///user/leiyang/in' --m '[9410987]*11' -r 'hadoop' '--output-dir' 'hdfs:///user/leiyang/out'"
   ]
  },
  {
   "cell_type": "markdown",
   "metadata": {},
   "source": [
    "###PageRankSort"
   ]
  },
  {
   "cell_type": "code",
   "execution_count": 13,
   "metadata": {
    "collapsed": false
   },
   "outputs": [
    {
     "name": "stdout",
     "output_type": "stream",
     "text": [
      "Overwriting PageRankSort_W.py\n"
     ]
    }
   ],
   "source": [
    "%%writefile PageRankSort_W.py\n",
    "from mrjob.job import MRJob\n",
    "from mrjob.step import MRStep\n",
    "\n",
    "class PageRankSort_W(MRJob):\n",
    "    DEFAULT_PROTOCOL = 'json'\n",
    "    PARTITIONER = 'org.apache.hadoop.mapred.lib.KeyFieldBasedPartitioner'\n",
    "    \n",
    "                \n",
    "    def mapper(self, _, line):             \n",
    "        # parse line\n",
    "        nid, node = line.strip().split('\\t', 1)\n",
    "        nid = nid.strip('\"')\n",
    "        cmd = 'node = %s' %node\n",
    "        exec cmd\n",
    "        # emit (vector_ID, pageRank)~topic_id\n",
    "        for i in range(len(node['p'])):\n",
    "            yield (i, node['p'][i]), node['t']\n",
    "        \n",
    "    def reducer_init(self):\n",
    "        self.current_v = None\n",
    "        self.i = 0\n",
    "        self.top = 10\n",
    "    \n",
    "    def reducer(self, key, value):\n",
    "        if self.current_v != key[0]:\n",
    "            self.current_v = key[0]\n",
    "            self.i = 0\n",
    "            yield '====== Top 10 for topic %d ======' %self.current_v, ''\n",
    "        if self.i < self.top:\n",
    "            self.i += 1\n",
    "            for v in value:\n",
    "                yield key, v\n",
    "                break\n",
    "            \n",
    "        \n",
    "    \n",
    "    def steps(self):\n",
    "        jc = {\n",
    "            'mapreduce.job.maps': '3',\n",
    "            'mapreduce.job.reduces': '3',            \n",
    "            'mapreduce.partition.keypartitioner.options': '-k1,1',             \n",
    "            'mapreduce.job.output.key.comparator.class': 'org.apache.hadoop.mapreduce.lib.partition.KeyFieldBasedComparator',\n",
    "            'mapreduce.partition.keycomparator.options': '-k1,1 -k2,2nr',            \n",
    "            'stream.num.map.output.key.fields': '2',\n",
    "            'mapreduce.map.output.key.field.separator': ' ',\n",
    "            'stream.map.output.field.separator': ' ',   \n",
    "        }\n",
    "        return [MRStep(mapper=self.mapper     \n",
    "                       , reducer_init=self.reducer_init\n",
    "                       , reducer=self.reducer\n",
    "                       , jobconf = jc\n",
    "                      )\n",
    "               ]\n",
    "\n",
    "if __name__ == '__main__':\n",
    "    PageRankSort_W.run()\n",
    "\n"
   ]
  },
  {
   "cell_type": "code",
   "execution_count": 9,
   "metadata": {
    "collapsed": false,
    "scrolled": false
   },
   "outputs": [
    {
     "name": "stdout",
     "output_type": "stream",
     "text": [
      "using configs in /Users/leiyang/.mrjob.conf\n",
      "Got unexpected opts from /Users/leiyang/.mrjob.conf: no_output\n",
      "creating tmp directory /var/folders/tx/5ldq67q511q8wqwqkvptnxd00000gn/T/PageRankSort_W.leiyang.20160318.213704.233404\n",
      "writing wrapper script to /var/folders/tx/5ldq67q511q8wqwqkvptnxd00000gn/T/PageRankSort_W.leiyang.20160318.213704.233404/setup-wrapper.sh\n",
      "Using Hadoop version 2.7.1\n",
      "Copying local files into hdfs:///user/leiyang/tmp/mrjob/PageRankSort_W.leiyang.20160318.213704.233404/files/\n",
      "HADOOP: packageJobJar: [/var/folders/tx/5ldq67q511q8wqwqkvptnxd00000gn/T/hadoop-unjar8037685516670150734/] [] /var/folders/tx/5ldq67q511q8wqwqkvptnxd00000gn/T/streamjob5144151202206446323.jar tmpDir=null\n",
      "Counters from step 1:\n",
      "  (no counters found)\n",
      "Streaming final output from hdfs:///user/leiyang/tmp/mrjob/PageRankSort_W.leiyang.20160318.213704.233404/output\n",
      "removing tmp directory /var/folders/tx/5ldq67q511q8wqwqkvptnxd00000gn/T/PageRankSort_W.leiyang.20160318.213704.233404\n",
      "deleting hdfs:///user/leiyang/tmp/mrjob/PageRankSort_W.leiyang.20160318.213704.233404 from HDFS\n"
     ]
    }
   ],
   "source": [
    "##### unit test #####\n",
    "!python PageRankSort_W.py 'hdfs:///user/leiyang/out/p*' -r 'hadoop' > results"
   ]
  },
  {
   "cell_type": "markdown",
   "metadata": {},
   "source": [
    "###Driver"
   ]
  },
  {
   "cell_type": "code",
   "execution_count": 14,
   "metadata": {
    "collapsed": false,
    "scrolled": false
   },
   "outputs": [
    {
     "name": "stdout",
     "output_type": "stream",
     "text": [
      "Overwriting RunPageRank_W.py\n"
     ]
    }
   ],
   "source": [
    "%%writefile RunPageRank_W.py\n",
    "#!/usr/bin/python\n",
    "\n",
    "from PageRankIter_W import PageRankIter_W\n",
    "from PageRankDist_W import PageRankDist_W\n",
    "from PageRankSort_W import PageRankSort_W\n",
    "from helper import getCounter, getCounters\n",
    "from subprocess import call, check_output\n",
    "from time import time\n",
    "import sys, getopt, datetime, os\n",
    "\n",
    "# parse parameter\n",
    "if __name__ == \"__main__\":\n",
    "\n",
    "    try:\n",
    "        opts, args = getopt.getopt(sys.argv[1:], \"hg:j:i:\")\n",
    "    except getopt.GetoptError:\n",
    "        print 'RunBFS.py -g <graph> -j <jump> -i <iteration> -d <index> -s <size>'\n",
    "        sys.exit(2)\n",
    "    if len(opts) != 3:\n",
    "        print 'RunBFS.py -g <graph> -j <jump> -i <iteration> -d <index>'\n",
    "        sys.exit(2)\n",
    "    for opt, arg in opts:\n",
    "        if opt == '-h':\n",
    "            print 'RunBFS.py -g <graph> -j <jump> -i <iteration> -d <index>'\n",
    "            sys.exit(2)\n",
    "        elif opt == '-g':\n",
    "            graph = arg\n",
    "        elif opt == '-j':\n",
    "            jump = arg\n",
    "        elif opt == '-i':            \n",
    "            n_iter = arg        \n",
    "       \n",
    "        \n",
    "start = time()\n",
    "FNULL = open(os.devnull, 'w')\n",
    "n_iter = int(n_iter)\n",
    "host = 'localhost'\n",
    "\n",
    "print '%s: %s topic sensitive PageRanking on \\'%s\\' for %d iterations with damping factor %.2f ...' %(str(datetime.datetime.now()),\n",
    "          'start', graph[graph.rfind('/')+1:], n_iter, 1-float(jump))\n",
    "\n",
    "# clear directory\n",
    "print str(datetime.datetime.now()) + ': clearing directory ...'\n",
    "call(['hdfs', 'dfs', '-rm', '-r', '/user/leiyang/in'], stdout=FNULL)\n",
    "call(['hdfs', 'dfs', '-rm', '-r', '/user/leiyang/out'], stdout=FNULL)\n",
    "call(['hdfs', 'dfs', '-cp', '/user/leiyang/wiki_topic', '/user/leiyang/in'])\n",
    "\n",
    "# create iteration job\n",
    "iter_job = PageRankIter_W(args=['hdfs:///user/leiyang/in/part*', '--n', '10',\n",
    "                              '-r', 'hadoop', '--output-dir', 'hdfs:///user/leiyang/out'])\n",
    "\n",
    "# run pageRank iteratively\n",
    "iteration = 1\n",
    "while(1):\n",
    "    print str(datetime.datetime.now()) + ': running iteration %d ...' %iteration\n",
    "    with iter_job.make_runner() as runner:        \n",
    "        runner.run()\n",
    "    \n",
    "    # check counters for topic loss mass\n",
    "    loss = getCounters('wiki_dangling_mass', host)\n",
    "    loss_array = ['0']*11\n",
    "    for k in loss:\n",
    "        i = int(k.split('_')[1])\n",
    "        loss_array[i] = str(loss[k]/1e10)\n",
    "    \n",
    "    # move results for next iteration\n",
    "    call(['hdfs', 'dfs', '-rm', '-r', '/user/leiyang/in'], stdout=FNULL)\n",
    "    call(['hdfs', 'dfs', '-mv', '/user/leiyang/out', '/user/leiyang/in'])\n",
    "        \n",
    "    # run redistribution job\n",
    "    loss_param = '[%s]' %(','.join(['0']*11) if len(loss)==0 else ','.join(loss_array))\n",
    "    dist_job = PageRankDist_W(args=['hdfs:///user/leiyang/in/part*', '--m', loss_param,                                    \n",
    "                                    '-r', 'hadoop', '--output-dir', 'hdfs:///user/leiyang/out'])\n",
    "    \n",
    "    print str(datetime.datetime.now()) + ': distributing loss mass ...'\n",
    "    with dist_job.make_runner() as runner:    \n",
    "        runner.run()\n",
    "    \n",
    "    if iteration == n_iter:\n",
    "        break\n",
    "    \n",
    "    # if more iteration needed\n",
    "    iteration += 1    \n",
    "    call(['hdfs', 'dfs', '-rm', '-r', '/user/leiyang/in'], stdout=FNULL)\n",
    "    call(['hdfs', 'dfs', '-mv', '/user/leiyang/out', '/user/leiyang/in'], stdout=FNULL)\n",
    "\n",
    "# run sort job\n",
    "print str(datetime.datetime.now()) + ': sorting PageRank ...'\n",
    "call(['hdfs', 'dfs', '-rm', '-r', '/user/leiyang/rank'], stdout=FNULL)\n",
    "sort_job = PageRankSort_W(args=['hdfs:///user/leiyang/out/part*',\n",
    "                              '-r', 'hadoop', '--output-dir', 'hdfs:///user/leiyang/rank'])\n",
    "\n",
    "with sort_job.make_runner() as runner:    \n",
    "    runner.run()\n",
    "    \n",
    "print \"%s: PageRank job completes in %.1f minutes!\\n\" %(str(datetime.datetime.now()), (time()-start)/60.0)\n",
    "call(['hdfs', 'dfs', '-cat', '/user/leiyang/rank/p*'])\n",
    "###"
   ]
  },
  {
   "cell_type": "code",
   "execution_count": 15,
   "metadata": {
    "collapsed": false
   },
   "outputs": [
    {
     "name": "stdout",
     "output_type": "stream",
     "text": [
      "2016-03-18 17:38:25.487866: start topic sensitive PageRanking on 'wiki_topic' for 2 iterations with damping factor 0.85 ...\n",
      "2016-03-18 17:38:25.487929: clearing directory ...\n",
      "2016-03-18 17:38:30.482881: running iteration 1 ...\n",
      "No handlers could be found for logger \"mrjob.conf\"\n",
      "2016-03-18 17:39:11.994335: distributing loss mass ...\n",
      "2016-03-18 17:39:42.283399: running iteration 2 ...\n",
      "2016-03-18 17:40:22.785699: distributing loss mass ...\n",
      "2016-03-18 17:40:49.335183: sorting PageRank ...\n",
      "2016-03-18 17:41:28.649036: PageRank job completes in 3.1 minutes!\n",
      "\n",
      "\"====== Top 10 for topic 0 ======\"\t\"\"\n",
      "[0, 0.415152627627402]\t0\n",
      "[0, 0.40930942137065895]\t0\n",
      "[0, 0.37349099859512114]\t0\n",
      "[0, 0.3395550264825884]\t0\n",
      "[0, 0.32312547832835326]\t0\n",
      "[0, 0.3199925262450779]\t0\n",
      "[0, 0.3018223204242624]\t0\n",
      "[0, 0.3014296013586007]\t0\n",
      "[0, 0.2840296303889138]\t0\n",
      "[0, 0.28382341757596924]\t0\n",
      "\"====== Top 10 for topic 3 ======\"\t\"\"\n",
      "[3, 1.4179382306289952]\t3\n",
      "[3, 1.2089068480984022]\t5\n",
      "[3, 0.06556011692643458]\t0\n",
      "[3, 0.06546354673712068]\t0\n",
      "[3, 0.06462157871002236]\t0\n",
      "[3, 0.0624105432575417]\t0\n",
      "[3, 0.06238474192878037]\t0\n",
      "[3, 0.06221833133549339]\t0\n",
      "[3, 0.062214846844126405]\t0\n",
      "[3, 0.04538148176667206]\t0\n",
      "\"====== Top 10 for topic 6 ======\"\t\"\"\n",
      "[6, 1.4550584277219532]\t6\n",
      "[6, 1.2404497808808812]\t0\n",
      "[6, 0.31279721462058324]\t0\n",
      "[6, 0.3114844578751008]\t0\n",
      "[6, 0.06552633801976636]\t0\n",
      "[6, 0.06542988902587364]\t0\n",
      "[6, 0.0453439538816413]\t0\n",
      "[6, 0.037218505368632374]\t8\n",
      "[6, 0.03639486043442384]\t0\n",
      "[6, 0.03146917940841542]\t0\n",
      "\"====== Top 10 for topic 9 ======\"\t\"\"\n",
      "[9, 1.5899276472060748]\t9\n",
      "[9, 1.3550673329253282]\t0\n",
      "[9, 0.09355534599092745]\t0\n",
      "[9, 0.09308838079607308]\t0\n",
      "[9, 0.09293555582321163]\t0\n",
      "[9, 0.09274612588720692]\t0\n",
      "[9, 0.09272582305264804]\t0\n",
      "[9, 0.0927096406459382]\t0\n",
      "[9, 0.09229818879592665]\t0\n",
      "[9, 0.09220731989314417]\t0\n",
      "\"====== Top 10 for topic 1 ======\"\t\"\"\n",
      "[1, 1.5503279388536626]\t1\n",
      "[1, 1.3214084209563755]\t0\n",
      "[1, 0.0697729621351361]\t0\n",
      "[1, 0.06969492103373486]\t0\n",
      "[1, 0.06803948620310993]\t0\n",
      "[1, 0.06793900618566649]\t0\n",
      "[1, 0.06785102304356486]\t0\n",
      "[1, 0.06780683719091259]\t0\n",
      "[1, 0.06777958870538443]\t0\n",
      "[1, 0.06777241203511307]\t0\n",
      "\"====== Top 10 for topic 10 ======\"\t\"\"\n",
      "[10, 1.587154155812098]\t10\n",
      "[10, 1.5870580869627688]\t10\n",
      "[10, 1.3526256612372696]\t0\n",
      "[10, 0.10719578472116759]\t0\n",
      "[10, 0.10672878337026095]\t0\n",
      "[10, 0.10657594656450971]\t0\n",
      "[10, 0.10638650196137618]\t0\n",
      "[10, 0.10636619755481502]\t0\n",
      "[10, 0.10635001389513825]\t0\n",
      "[10, 0.1060642710292506]\t0\n",
      "\"====== Top 10 for topic 4 ======\"\t\"\"\n",
      "[4, 1.3891842978320106]\t4\n",
      "[4, 1.1844562511644956]\t0\n",
      "[4, 0.06547251432166346]\t0\n",
      "[4, 0.06537584566377594]\t0\n",
      "[4, 0.0452969251231107]\t0\n",
      "[4, 0.036340509542733435]\t0\n",
      "[4, 0.03141614738189926]\t0\n",
      "[4, 0.031021432018330446]\t0\n",
      "[4, 0.030978358691095175]\t0\n",
      "[4, 0.03090129784779581]\t0\n",
      "\"====== Top 10 for topic 7 ======\"\t\"\"\n",
      "[7, 1.492860051094673]\t7\n",
      "[7, 1.4927580510181022]\t7\n",
      "[7, 1.492661717612452]\t7\n",
      "[7, 1.272421223662592]\t0\n",
      "[7, 0.06561048104938284]\t0\n",
      "[7, 0.0655141476437325]\t0\n",
      "[7, 0.04542452138162684]\t0\n",
      "[7, 0.036479280875822036]\t0\n",
      "[7, 0.03155290585666481]\t0\n",
      "[7, 0.03115955938774681]\t0\n",
      "\"====== Top 10 for topic 2 ======\"\t\"\"\n",
      "[2, 1.4687586460764956]\t2\n",
      "[2, 1.2520862687746388]\t0\n",
      "[2, 0.06547823882097754]\t0\n",
      "[2, 0.065381832945078]\t0\n",
      "[2, 0.055699724790925755]\t0\n",
      "[2, 0.05393465138145588]\t0\n",
      "[2, 0.05387746145507479]\t5\n",
      "[2, 0.04529452089959706]\t0\n",
      "[2, 0.03634686471881865]\t0\n",
      "[2, 0.03142092481187879]\t0\n",
      "\"====== Top 10 for topic 5 ======\"\t\"\"\n",
      "[5, 1.4045822632446798]\t5\n",
      "[5, 1.4013412384249397]\t5\n",
      "[5, 1.4012003243023423]\t5\n",
      "[5, 1.1946681066884581]\t0\n",
      "[5, 0.08129898011159387]\t0\n",
      "[5, 0.06547032492845133]\t0\n",
      "[5, 0.06537369810152739]\t0\n",
      "[5, 0.045293441758758456]\t0\n",
      "[5, 0.0363384205438339]\t0\n",
      "[5, 0.03141380722940887]\t0\n",
      "\"====== Top 10 for topic 8 ======\"\t\"\"\n",
      "[8, 1.5328261386245454]\t8\n",
      "[8, 1.5327242618744756]\t8\n",
      "[8, 1.532628044943854]\t8\n",
      "[8, 1.306375857982865]\t0\n",
      "[8, 0.32864527887368467]\t0\n",
      "[8, 0.32796610053988534]\t0\n",
      "[8, 0.19459938053768946]\t0\n",
      "[8, 0.1926328255320875]\t0\n",
      "[8, 0.18895781257783495]\t0\n",
      "[8, 0.18830553113375628]\t0\n"
     ]
    }
   ],
   "source": [
    "##### unit test #####\n",
    "#!python PageRankInit.py 'hdfs:///user/leiyang/all-pages-indexed-out.txt' 'hdfs:///user/leiyang/indices.txt' --n 10 -r 'hadoop' --output-dir 'hdfs:///user/leiyang/wiki_topic'"
   ]
  },
  {
   "cell_type": "markdown",
   "metadata": {},
   "source": [
    "###Topic-sensitive pagerank on wikipedia dataset\n",
    "- **only one iteration, not enough to have a decent result**"
   ]
  },
  {
   "cell_type": "code",
   "execution_count": 1,
   "metadata": {
    "collapsed": false
   },
   "outputs": [
    {
     "name": "stdout",
     "output_type": "stream",
     "text": [
      "\"====== Top 10 for topic 7 ======\"\t\"\"\r\n",
      "[7, 18168.2859148241]\t4\r\n",
      "[7, 13311.059756407594]\t7\r\n",
      "[7, 10588.6805693981]\t10\r\n",
      "[7, 10189.495447501646]\t7\r\n",
      "[7, 9153.828542626043]\t7\r\n",
      "[7, 8180.532910231774]\t8\r\n",
      "[7, 7302.697713785382]\t2\r\n",
      "[7, 6898.382134812705]\t6\r\n",
      "[7, 6599.769135912638]\t7\r\n",
      "[7, 6410.850248318637]\t8\r\n",
      "\"====== Top 10 for topic 3 ======\"\t\"\"\r\n",
      "[3, 18168.28592457402]\t4\r\n",
      "[3, 13309.569018403192]\t7\r\n",
      "[3, 10588.680579148015]\t10\r\n",
      "[3, 10188.004709497243]\t7\r\n",
      "[3, 9152.33780462164]\t7\r\n",
      "[3, 8180.53291998169]\t8\r\n",
      "[3, 7302.697723535298]\t2\r\n",
      "[3, 6898.382144562621]\t6\r\n",
      "[3, 6598.278397908237]\t7\r\n",
      "[3, 6410.850258068553]\t8\r\n",
      "\"====== Top 10 for topic 10 ======\"\t\"\"\r\n",
      "[10, 18168.285903930606]\t4\r\n",
      "[10, 13309.568997759781]\t7\r\n",
      "[10, 10590.265857407618]\t10\r\n",
      "[10, 10188.004688853833]\t7\r\n",
      "[10, 9152.33778397823]\t7\r\n",
      "[10, 8180.532899338278]\t8\r\n",
      "[10, 7302.697702891886]\t2\r\n",
      "[10, 6898.382123919209]\t6\r\n",
      "[10, 6598.278377264825]\t7\r\n",
      "[10, 6410.850237425141]\t8\r\n",
      "\"====== Top 10 for topic 8 ======\"\t\"\"\r\n",
      "[8, 18168.28591002807]\t4\r\n",
      "[8, 13309.569003857247]\t7\r\n",
      "[8, 10588.68056460207]\t10\r\n",
      "[8, 10188.004694951298]\t7\r\n",
      "[8, 9152.337790075695]\t7\r\n",
      "[8, 8182.063703965961]\t8\r\n",
      "[8, 7302.697708989352]\t2\r\n",
      "[8, 6898.382130016675]\t6\r\n",
      "[8, 6598.278383362291]\t7\r\n",
      "[8, 6412.381042052824]\t8\r\n",
      "\"====== Top 10 for topic 4 ======\"\t\"\"\r\n",
      "[4, 18169.67333829323]\t4\r\n",
      "[4, 13309.569022457781]\t7\r\n",
      "[4, 10588.680583202604]\t10\r\n",
      "[4, 10188.004713551833]\t7\r\n",
      "[4, 9152.33780867623]\t7\r\n",
      "[4, 8180.532924036278]\t8\r\n",
      "[4, 7302.697727589886]\t2\r\n",
      "[4, 6898.382148617209]\t6\r\n",
      "[4, 6598.278401962825]\t7\r\n",
      "[4, 6410.850262123141]\t8\r\n",
      "\"====== Top 10 for topic 0 ======\"\t\"\"\r\n",
      "[0, 18168.43424907683]\t4\r\n",
      "[0, 13309.717342906002]\t7\r\n",
      "[0, 10588.828903650825]\t10\r\n",
      "[0, 10188.153034000054]\t7\r\n",
      "[0, 9152.48612912445]\t7\r\n",
      "[0, 8180.681244484499]\t8\r\n",
      "[0, 7302.846048038107]\t2\r\n",
      "[0, 6898.53046906543]\t6\r\n",
      "[0, 6598.426722411046]\t7\r\n",
      "[0, 6410.998582571362]\t8\r\n",
      "\"====== Top 10 for topic 9 ======\"\t\"\"\r\n",
      "[9, 18168.285903624343]\t4\r\n",
      "[9, 13309.568997453518]\t7\r\n",
      "[9, 10588.68055819834]\t10\r\n",
      "[9, 10188.00468854757]\t7\r\n",
      "[9, 9152.337783671966]\t7\r\n",
      "[9, 8180.532899032015]\t8\r\n",
      "[9, 7302.697702585623]\t2\r\n",
      "[9, 6898.382123612946]\t6\r\n",
      "[9, 6598.278376958562]\t7\r\n",
      "[9, 6410.850237118878]\t8\r\n",
      "\"====== Top 10 for topic 5 ======\"\t\"\"\r\n",
      "[5, 18168.285926906156]\t4\r\n",
      "[5, 13309.56902073533]\t7\r\n",
      "[5, 10588.680581480152]\t10\r\n",
      "[5, 10188.00471182938]\t7\r\n",
      "[5, 9152.337806953778]\t7\r\n",
      "[5, 8180.532922313826]\t8\r\n",
      "[5, 7302.697725867434]\t2\r\n",
      "[5, 6898.382146894757]\t6\r\n",
      "[5, 6598.278400240373]\t7\r\n",
      "[5, 6410.850260400689]\t8\r\n",
      "\"====== Top 10 for topic 1 ======\"\t\"\"\r\n",
      "[1, 18168.285907987818]\t4\r\n",
      "[1, 13309.569001816993]\t7\r\n",
      "[1, 10588.680562561816]\t10\r\n",
      "[1, 10188.004692911045]\t7\r\n",
      "[1, 9152.337788035442]\t7\r\n",
      "[1, 8180.532903395491]\t8\r\n",
      "[1, 7302.6977069490995]\t2\r\n",
      "[1, 6898.382127976422]\t6\r\n",
      "[1, 6598.2783813220385]\t7\r\n",
      "[1, 6410.850241482354]\t8\r\n",
      "\"====== Top 10 for topic 6 ======\"\t\"\"\r\n",
      "[6, 18168.285919583617]\t4\r\n",
      "[6, 13309.569013412793]\t7\r\n",
      "[6, 10588.680574157615]\t10\r\n",
      "[6, 10188.004704506844]\t7\r\n",
      "[6, 9152.337799631241]\t7\r\n",
      "[6, 8180.5329149912895]\t8\r\n",
      "[6, 7302.697718544898]\t2\r\n",
      "[6, 6899.835368649737]\t6\r\n",
      "[6, 6598.278392917837]\t7\r\n",
      "[6, 6410.8502530781525]\t8\r\n",
      "\"====== Top 10 for topic 2 ======\"\t\"\"\r\n",
      "[2, 18168.28591780817]\t4\r\n",
      "[2, 13309.569011637346]\t7\r\n",
      "[2, 10588.680572382169]\t10\r\n",
      "[2, 10188.004702731398]\t7\r\n",
      "[2, 9152.337797855795]\t7\r\n",
      "[2, 8180.532913215843]\t8\r\n",
      "[2, 7304.164693989173]\t2\r\n",
      "[2, 6898.382137796774]\t6\r\n",
      "[2, 6598.27839114239]\t7\r\n",
      "[2, 6410.850251302706]\t8\r\n"
     ]
    }
   ],
   "source": [
    "#!python RunPageRank_W.py -g 'hdfs:///user/leiyang/wiki_topic' -j 0.15 -i 1\n",
    "!cat wiki_topic"
   ]
  },
  {
   "cell_type": "markdown",
   "metadata": {},
   "source": [
    "###HW 9.6: TextRank (OPTIONAL)\n",
    "\n",
    "What is TextRank. Describe the main steps in the algorithm. Why does TextRank work?\n",
    "Implement TextRank in MrJob for keyword phrases (not just unigrams) extraction using co-occurrence based similarity measure with with sizes of N = 2 and 3. And evaluate your code using the following example using precision, recall, and FBeta (Beta=1):\n",
    "\n",
    "\"Compatibility of systems of linear constraints over the set of natural numbers\n",
    "Criteria of compatibility of a system of linear Diophantine equations, strict \n",
    "inequations, and nonstrict inequations are considered. Upper bounds for\n",
    "components of a minimal set of solutions and algorithms of construction of \n",
    "minimal generating sets of solutions for all types of systems are given. \n",
    "These criteria and the corresponding algorithms for constructing a minimal \n",
    "supporting set of solutions can be used in solving all the considered types of \n",
    "systems and systems of mixed types.\" \n",
    "\n",
    "The extracted keywords should in the following set:\n",
    "\n",
    "linear constraints, linear diophantine equations, natural numbers, non-strict inequations, strict inequations, upper bounds\n",
    "\n",
    "\n",
    "\n"
   ]
  },
  {
   "cell_type": "markdown",
   "metadata": {},
   "source": [
    "###stop yarn, hdfs, and job history"
   ]
  },
  {
   "cell_type": "code",
   "execution_count": 76,
   "metadata": {
    "collapsed": false
   },
   "outputs": [
    {
     "name": "stdout",
     "output_type": "stream",
     "text": [
      "stopping yarn daemons\n",
      "stopping resourcemanager\n",
      "localhost: stopping nodemanager\n",
      "localhost: nodemanager did not stop gracefully after 5 seconds: killing with kill -9\n",
      "no proxyserver to stop\n",
      "Stopping namenodes on [localhost]\n",
      "localhost: stopping namenode\n",
      "localhost: stopping datanode\n",
      "Stopping secondary namenodes [0.0.0.0]\n",
      "0.0.0.0: stopping secondarynamenode\n",
      "stopping historyserver\n"
     ]
    }
   ],
   "source": [
    "!/usr/local/Cellar/hadoop/2*/sbin/stop-yarn.sh\n",
    "!/usr/local/Cellar/hadoop/2*/sbin/stop-dfs.sh\n",
    "!/usr/local/Cellar/hadoop/2*/sbin/mr-jobhistory-daemon.sh --config /usr/local/Cellar/hadoop/2*/libexec/etc/hadoop/ stop historyserver "
   ]
  },
  {
   "cell_type": "markdown",
   "metadata": {},
   "source": [
    "###start yarn, hdfs, and job history"
   ]
  },
  {
   "cell_type": "code",
   "execution_count": 3,
   "metadata": {
    "collapsed": false
   },
   "outputs": [
    {
     "name": "stdout",
     "output_type": "stream",
     "text": [
      "starting yarn daemons\n",
      "resourcemanager running as process 77362. Stop it first.\n",
      "localhost: nodemanager running as process 77463. Stop it first.\n",
      "Starting namenodes on [localhost]\n",
      "localhost: namenode running as process 77612. Stop it first.\n",
      "localhost: datanode running as process 77705. Stop it first.\n",
      "Starting secondary namenodes [0.0.0.0]\n",
      "0.0.0.0: secondarynamenode running as process 77824. Stop it first.\n",
      "historyserver running as process 77932. Stop it first.\n"
     ]
    }
   ],
   "source": [
    "!/usr/local/Cellar/hadoop/2*/sbin/start-yarn.sh\n",
    "!/usr/local/Cellar/hadoop/2*/sbin/start-dfs.sh\n",
    "!/usr/local/Cellar/hadoop/2*/sbin/mr-jobhistory-daemon.sh --config /usr/local/Cellar/hadoop/2*/libexec/etc/hadoop/ start historyserver "
   ]
  }
 ],
 "metadata": {
  "kernelspec": {
   "display_name": "Python 2",
   "language": "python",
   "name": "python2"
  },
  "language_info": {
   "codemirror_mode": {
    "name": "ipython",
    "version": 2
   },
   "file_extension": ".py",
   "mimetype": "text/x-python",
   "name": "python",
   "nbconvert_exporter": "python",
   "pygments_lexer": "ipython2",
   "version": "2.7.9"
  }
 },
 "nbformat": 4,
 "nbformat_minor": 0
}
