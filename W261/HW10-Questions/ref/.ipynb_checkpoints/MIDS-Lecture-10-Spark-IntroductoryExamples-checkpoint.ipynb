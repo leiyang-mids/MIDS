{
 "cells": [
  {
   "cell_type": "markdown",
   "metadata": {},
   "source": [
    "# MIDS-Lecture-10-Spark-IntroductoryExamples"
   ]
  },
  {
   "cell_type": "code",
   "execution_count": 1,
   "metadata": {
    "collapsed": false
   },
   "outputs": [
    {
     "name": "stdout",
     "output_type": "stream",
     "text": [
      "Welcome to\n",
      "      ____              __\n",
      "     / __/__  ___ _____/ /__\n",
      "    _\\ \\/ _ \\/ _ `/ __/  '_/\n",
      "   /__ / .__/\\_,_/_/ /_/\\_\\   version 1.6.0\n",
      "      /_/\n",
      "\n",
      "Using Python version 2.7.9 (default, Dec 15 2014 10:37:34)\n",
      "SparkContext available as sc, HiveContext available as sqlContext.\n"
     ]
    }
   ],
   "source": [
    "import os\n",
    "import sys #current as of 9/26/2015\n",
    "spark_home = os.environ['SPARK_HOME'] = \\\n",
    "   '/Users/leiyang/Downloads/spark-1.6.0-bin-hadoop2.6'\n",
    "\n",
    "if not spark_home:\n",
    "    raise ValueError('SPARK_HOME enviroment variable is not set')\n",
    "sys.path.insert(0,os.path.join(spark_home,'python'))\n",
    "sys.path.insert(0,os.path.join(spark_home,'python/lib/py4j-0.8.2.1-src.zip'))\n",
    "execfile(os.path.join(spark_home,'python/pyspark/shell.py'))\n",
    " "
   ]
  },
  {
   "cell_type": "code",
   "execution_count": 2,
   "metadata": {
    "collapsed": false
   },
   "outputs": [],
   "source": [
    "import numpy as np\n",
    " \n",
    "\n",
    "dataRDD = sc.parallelize(np.random.random_sample(1000))   \n",
    "data2X= dataRDD.map(lambda x: x*2)\n",
    "dataGreaterThan1 = data2X.filter(lambda x: x > 1.0)\n",
    "cachedRDD = dataGreaterThan1.cache()"
   ]
  },
  {
   "cell_type": "code",
   "execution_count": 3,
   "metadata": {
    "collapsed": false
   },
   "outputs": [
    {
     "data": {
      "text/plain": [
       "0"
      ]
     },
     "execution_count": 3,
     "metadata": {},
     "output_type": "execute_result"
    }
   ],
   "source": [
    "cachedRDD.filter(lambda x: x<1).count()"
   ]
  },
  {
   "cell_type": "code",
   "execution_count": 4,
   "metadata": {
    "collapsed": false
   },
   "outputs": [
    {
     "data": {
      "text/plain": [
       "495"
      ]
     },
     "execution_count": 4,
     "metadata": {},
     "output_type": "execute_result"
    }
   ],
   "source": [
    "cachedRDD.filter(lambda x: x>1).count()"
   ]
  },
  {
   "cell_type": "code",
   "execution_count": 5,
   "metadata": {
    "collapsed": false
   },
   "outputs": [
    {
     "data": {
      "text/plain": [
       "495"
      ]
     },
     "execution_count": 5,
     "metadata": {},
     "output_type": "execute_result"
    }
   ],
   "source": [
    "cachedRDD.filter(lambda x: x>1).count()"
   ]
  },
  {
   "cell_type": "code",
   "execution_count": 6,
   "metadata": {
    "collapsed": false
   },
   "outputs": [
    {
     "name": "stdout",
     "output_type": "stream",
     "text": [
      "1.5373343194\n",
      "1.48826759098\n",
      "1.48685256464\n",
      "1.48199957826\n",
      "1.32459261224\n",
      "1.93327134965\n",
      "1.23128643021\n",
      "1.42807421839\n",
      "1.87839584208\n",
      "1.96402794116\n"
     ]
    }
   ],
   "source": [
    "for line in cachedRDD.take(10):\n",
    "    print line"
   ]
  },
  {
   "cell_type": "code",
   "execution_count": 7,
   "metadata": {
    "collapsed": false
   },
   "outputs": [
    {
     "data": {
      "text/plain": [
       "[2, 3, 4, 4]"
      ]
     },
     "execution_count": 7,
     "metadata": {},
     "output_type": "execute_result"
    }
   ],
   "source": [
    "#RDD mapper\n",
    "rdd = sc.parallelize([1,2,3,3])\n",
    "rdd.map(lambda x:  x + 1).collect()\n",
    "#returns [2, 3, 4, 4]"
   ]
  },
  {
   "cell_type": "code",
   "execution_count": 8,
   "metadata": {
    "collapsed": false
   },
   "outputs": [
    {
     "name": "stdout",
     "output_type": "stream",
     "text": [
      "9\n"
     ]
    }
   ],
   "source": [
    "#reduce ACTION\n",
    "rdd = sc.parallelize([1,2,3,3])\n",
    "sum = rdd.reduce(lambda x, y: x + y)\n",
    "# sum.collect()\n",
    "print sum    #returns 9"
   ]
  },
  {
   "cell_type": "code",
   "execution_count": 11,
   "metadata": {
    "collapsed": false
   },
   "outputs": [
    {
     "data": {
      "text/plain": [
       "[8, 1, 9, 2, 3, 4, 5, 6, 7]"
      ]
     },
     "execution_count": 11,
     "metadata": {},
     "output_type": "execute_result"
    }
   ],
   "source": [
    "#RDD flatmap ranges of integer ranges\n",
    "rdd = sc.parallelize([1,2,3,3])\n",
    "rdd.flatMap(lambda x:  range(x, 8)).collect()\n",
    "rdd.flatMap(lambda x:  range(x, 10)).distinct().collect()\n",
    "#returns [8, 1, 9, 2, 3, 4, 5, 6, 7]"
   ]
  },
  {
   "cell_type": "code",
   "execution_count": 12,
   "metadata": {
    "collapsed": false
   },
   "outputs": [
    {
     "data": {
      "text/plain": [
       "[('Data', 'Data line 1'),\n",
       " ('Mining', 'Mining line 2'),\n",
       " ('data', 'data line 3'),\n",
       " ('Data', 'Data line 4'),\n",
       " ('Data', 'Data Mining line 5')]"
      ]
     },
     "execution_count": 12,
     "metadata": {},
     "output_type": "execute_result"
    }
   ],
   "source": [
    "#Example 4-1. Creating a pair RDD using the first word as the key in Python\n",
    "\n",
    "lines = sc.parallelize([\"Data line 1\", \"Mining line 2\", \"data line 3\", \"Data line 4\", \"Data Mining line 5\"])\n",
    "pairs = lines.map(lambda x: (x.split(\" \")[0], x))  #first word and the original line\n",
    "pairs.collect()\n"
   ]
  },
  {
   "cell_type": "code",
   "execution_count": null,
   "metadata": {
    "collapsed": false
   },
   "outputs": [],
   "source": []
  },
  {
   "cell_type": "code",
   "execution_count": 13,
   "metadata": {
    "collapsed": false
   },
   "outputs": [
    {
     "data": {
      "text/plain": [
       "[('data', 'data line 3')]"
      ]
     },
     "execution_count": 13,
     "metadata": {},
     "output_type": "execute_result"
    }
   ],
   "source": [
    "def filterTerm(line):\n",
    "    if 'data' in line[1]:\n",
    "        return (line[0])\n",
    "    \n",
    "result = pairs.filter(filterTerm)\n",
    "result.collect()"
   ]
  },
  {
   "cell_type": "code",
   "execution_count": 14,
   "metadata": {
    "collapsed": false
   },
   "outputs": [
    {
     "data": {
      "text/plain": [
       "[('Data', 'Data line 1'), ('data', 'data line 3'), ('Data', 'Data line 4')]"
      ]
     },
     "execution_count": 14,
     "metadata": {},
     "output_type": "execute_result"
    }
   ],
   "source": [
    "result = pairs.filter(lambda keyValue: len(keyValue[1]) < 12)\n",
    "result.collect()"
   ]
  },
  {
   "cell_type": "markdown",
   "metadata": {},
   "source": [
    "## PAIRED RDD with super efficient word count example"
   ]
  },
  {
   "cell_type": "code",
   "execution_count": 19,
   "metadata": {
    "collapsed": false
   },
   "outputs": [
    {
     "data": {
      "text/plain": [
       "[('1', 1),\n",
       " ('line', 5),\n",
       " ('Mining', 2),\n",
       " ('3', 1),\n",
       " ('2', 1),\n",
       " ('data', 1),\n",
       " ('5', 1),\n",
       " ('Data', 3),\n",
       " ('4', 1)]"
      ]
     },
     "execution_count": 19,
     "metadata": {},
     "output_type": "execute_result"
    }
   ],
   "source": [
    "lines = sc.parallelize([\"Data line 1\", \"Mining line 2\", \"data line 3\", \"Data line 4\", \"Data Mining line 5\"])\n",
    "counts = lines.flatMap(lambda line: line.split(\" \")) \\\n",
    "              .map(lambda word: (word, 1)) \\\n",
    "              .reduceByKey(lambda a, b: a + b)\n",
    "\n",
    "counts.collect()\n",
    "\n",
    "##### another way #####\n",
    "#counts = lines.flatMap(lambda line: line.split(\" \")).countByValue()"
   ]
  },
  {
   "cell_type": "code",
   "execution_count": 23,
   "metadata": {
    "collapsed": false
   },
   "outputs": [
    {
     "data": {
      "text/plain": [
       "[('1', 1),\n",
       " ('line', 5),\n",
       " ('Mining', 2),\n",
       " ('3', 1),\n",
       " ('2', 1),\n",
       " ('data', 1),\n",
       " ('5', 1),\n",
       " ('Data', 3),\n",
       " ('4', 1)]"
      ]
     },
     "execution_count": 23,
     "metadata": {},
     "output_type": "execute_result"
    }
   ],
   "source": [
    "# a more efficent word counter (less network communication)\n",
    "#could hash and do an in-memory combiner at the record level\n",
    "lines = sc.parallelize([\"Data line 1\", \"Mining line 2\", \"data line 3\", \"Data line 4\", \"Data Mining line 5\"])\n",
    "def emitWordCounts(line):\n",
    "    wordCounts = []\n",
    "    for w in line.split(\" \"):\n",
    "        wordCounts.append((w, 1))  #could hash and do an in-memory combiner to be more efficient\n",
    "    return (wordCounts)\n",
    "    \n",
    "counts = lines.flatMap(emitWordCounts) #\\\n",
    "             #.reduceByKey(lambda a, b: a + b)\n",
    "#counts.first()  \n",
    "counts.collect()\n",
    "\n",
    "#Level 1 DEBUG Get the mapper to work in isolation  first\n",
    "#emitWordCounts(\"Mining line 2\")   \n",
    "\n",
    "#Level 2 debug check the mapper is working\n",
    "counts = lines.flatMap(emitWordCounts) \\\n",
    "             .reduceByKey(lambda a, b: a + b)\n",
    "counts.collect()\n",
    "\n",
    "#Level 3 debug check the mapper is working\n",
    "#counts = lines.flatMap(emitWordCounts) \\\n",
    "#            .reduceByKey(lambda a, b: a + b)\n",
    "#counts.collect()\n"
   ]
  },
  {
   "cell_type": "code",
   "execution_count": 15,
   "metadata": {
    "collapsed": false
   },
   "outputs": [
    {
     "data": {
      "text/plain": [
       "[('1', 1),\n",
       " ('line', 5),\n",
       " ('Mining', 2),\n",
       " ('3', 1),\n",
       " ('2', 1),\n",
       " ('data', 1),\n",
       " ('5', 1),\n",
       " ('Data', 3),\n",
       " ('4', 1)]"
      ]
     },
     "execution_count": 15,
     "metadata": {},
     "output_type": "execute_result"
    }
   ],
   "source": [
    "# a more efficent word counter (less network communication)\n",
    "lines = sc.parallelize([\"Data line 1\", \"Mining line 2\", \"data line 3\", \"Data line 4\", \"Data Mining line 5\"])\n",
    "def emitWordCounts(line):\n",
    "    wordCounts = []\n",
    "    for w in line.split(\" \"):\n",
    "        wordCounts.append((w, 1))  #could hash and do an in-memory combiner to be more efficient\n",
    "    return (wordCounts)\n",
    "    \n",
    "counts = lines.flatMap(emitWordCounts) \\\n",
    "             .reduceByKey(lambda a, b: a + b)\n",
    "counts.collect()"
   ]
  },
  {
   "cell_type": "code",
   "execution_count": 25,
   "metadata": {
    "collapsed": false
   },
   "outputs": [
    {
     "data": {
      "text/plain": [
       "[('1', 1),\n",
       " ('line', 5),\n",
       " ('Mining', 2),\n",
       " ('3', 1),\n",
       " ('2', 1),\n",
       " ('data', 1),\n",
       " ('5', 1),\n",
       " ('Data', 3),\n",
       " ('4', 1)]"
      ]
     },
     "execution_count": 25,
     "metadata": {},
     "output_type": "execute_result"
    }
   ],
   "source": [
    "# a more efficent word counter (less network communication)\n",
    "# hash and do an in-memory combiner at the record level\n",
    "lines = sc.parallelize([\"Data line 1\", \"Mining line 2\", \"data line 3\", \"Data line 4\", \"Data Mining line 5\"])\n",
    "def emitWordCounts(line):\n",
    "    wordCounts = {}\n",
    "    for w in line.split(\" \"):\n",
    "        if wordCounts.has_key(w):\n",
    "            wordCounts[w]=wordCounts[w]+1\n",
    "        else:\n",
    "            wordCounts[w]=1\n",
    "    for key, value in  wordCounts.items():\n",
    "        print key,\":\", value      \n",
    "    return (wordCounts.items())  \n",
    "\n",
    "#Level 1 DEBUG Get the mapper to work in isolation  first\n",
    "#emitWordCounts(\"Mining line 2\")   \n",
    "\n",
    "#Level 2 debug check the mapper is working\n",
    "counts = lines.flatMap(emitWordCounts) \\\n",
    "             .reduceByKey(lambda a, b: a + b)\n",
    "counts.collect()\n",
    "\n",
    "#Level 3 debug check the mapper is working\n",
    "#counts = lines.flatMap(emitWordCounts) \\\n",
    "#            .reduceByKey(lambda a, b: a + b)\n",
    "#counts.collect()\n",
    "\n",
    "#map partitions"
   ]
  },
  {
   "cell_type": "code",
   "execution_count": 26,
   "metadata": {
    "collapsed": false
   },
   "outputs": [
    {
     "data": {
      "text/plain": [
       "[(3, (4, 9)), (3, (4, 6)), (3, (6, 9)), (3, (6, 6))]"
      ]
     },
     "execution_count": 26,
     "metadata": {},
     "output_type": "execute_result"
    }
   ],
   "source": [
    "rdd1 = sc.parallelize({(1, 2), (3, 4), (3, 6)})\n",
    "rdd2 = sc.parallelize({(3, 9), (3, 6)})\n",
    "joinedRdd=rdd1.join(rdd2)\n",
    "#RDD1 = {(1, 2), (3, 4), (3, 6)}\n",
    "#RDD2 = {(3, 9) (3, 6)}\n",
    "joinedRdd.collect()"
   ]
  },
  {
   "cell_type": "markdown",
   "metadata": {},
   "source": [
    "## Example 6-14 in Learn Spark Book. Average with mapPartitions() in Python"
   ]
  },
  {
   "cell_type": "code",
   "execution_count": 27,
   "metadata": {
    "collapsed": false
   },
   "outputs": [
    {
     "name": "stdout",
     "output_type": "stream",
     "text": [
      "2.5\n"
     ]
    }
   ],
   "source": [
    "def combineCtrs(c1, c2):\n",
    "    return (c1[0] + c2[0], c1[1] + c2[1])\n",
    "def basicAvg(nums):\n",
    "    \"\"\"Compute the average\"\"\"\n",
    "    nums.map(lambda num: (num, 1)).reduce(combineCtrs)\n",
    "\n",
    "def partitionCtr(nums):\n",
    "    \"\"\"Compute sumCounter for partition\"\"\"\n",
    "    sumCount = [0, 0]\n",
    "    for num in nums:\n",
    "        sumCount[0] += num\n",
    "        sumCount[1] += 1\n",
    "    return [sumCount]\n",
    "\n",
    "def fastAvg(nums):\n",
    "    \"\"\"Compute the avg\"\"\"\n",
    "    sumCount = nums.mapPartitions(partitionCtr).reduce(combineCtrs)\n",
    "    return sumCount[0] / float(sumCount[1])\n",
    "\n",
    "nums = fastAvg(sc.parallelize([1,2,3,4]))\n",
    "print(nums)"
   ]
  },
  {
   "cell_type": "code",
   "execution_count": 28,
   "metadata": {
    "collapsed": false
   },
   "outputs": [
    {
     "data": {
      "text/plain": [
       "[1, 2]"
      ]
     },
     "execution_count": 28,
     "metadata": {},
     "output_type": "execute_result"
    }
   ],
   "source": [
    "rdd = sc.parallelize([1,2,3,3]).filter(lambda x: x<3)\n",
    "rdd.collect()"
   ]
  },
  {
   "cell_type": "code",
   "execution_count": 29,
   "metadata": {
    "collapsed": false
   },
   "outputs": [],
   "source": [
    "sc.stop()"
   ]
  }
 ],
 "metadata": {
  "kernelspec": {
   "display_name": "Python 2",
   "language": "python",
   "name": "python2"
  },
  "language_info": {
   "codemirror_mode": {
    "name": "ipython",
    "version": 2
   },
   "file_extension": ".py",
   "mimetype": "text/x-python",
   "name": "python",
   "nbconvert_exporter": "python",
   "pygments_lexer": "ipython2",
   "version": "2.7.9"
  }
 },
 "nbformat": 4,
 "nbformat_minor": 0
}
