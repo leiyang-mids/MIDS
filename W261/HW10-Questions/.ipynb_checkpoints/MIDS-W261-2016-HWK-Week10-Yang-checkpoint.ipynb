{
 "cells": [
  {
   "cell_type": "markdown",
   "metadata": {},
   "source": [
    "#DATASCI W261, Machine Learning at Scale\n",
    "--------\n",
    "####Assignement:  week \\#10\n",
    "####[Lei Yang](mailto:leiyang@berkeley.edu) | [Michael Kennedy](mailto:mkennedy@ischool.berkeley.edu) | [Natarajan Krishnaswami](mailto:natarajan@krishnaswami.org)\n",
    "####Due: 2016-03-29, 8AM PST"
   ]
  },
  {
   "cell_type": "markdown",
   "metadata": {},
   "source": [
    "### Start Spark"
   ]
  },
  {
   "cell_type": "code",
   "execution_count": 1,
   "metadata": {
    "collapsed": false
   },
   "outputs": [
    {
     "name": "stdout",
     "output_type": "stream",
     "text": [
      "Welcome to\n",
      "      ____              __\n",
      "     / __/__  ___ _____/ /__\n",
      "    _\\ \\/ _ \\/ _ `/ __/  '_/\n",
      "   /__ / .__/\\_,_/_/ /_/\\_\\   version 1.6.0\n",
      "      /_/\n",
      "\n",
      "Using Python version 2.7.9 (default, Dec 15 2014 10:37:34)\n",
      "SparkContext available as sc, HiveContext available as sqlContext.\n"
     ]
    }
   ],
   "source": [
    "import os\n",
    "import sys\n",
    "spark_home = os.environ['SPARK_HOME'] = '/Users/leiyang/Downloads/spark-1.6.0-bin-hadoop2.6'\n",
    "if not spark_home:\n",
    "    raise ValueError('SPARK_HOME enviroment variable is not set')\n",
    "sys.path.insert(0,os.path.join(spark_home,'python'))\n",
    "sys.path.insert(0,os.path.join(spark_home,'python/lib/py4j-0.8.2.1-src.zip'))\n",
    "execfile(os.path.join(spark_home,'python/pyspark/shell.py'))"
   ]
  },
  {
   "cell_type": "markdown",
   "metadata": {
    "collapsed": true
   },
   "source": [
    "###HW 10.0: Short answer questions\n",
    "\n",
    "***What is Apache Spark and how is it different to Apache Hadoop? ***\n",
    "\n",
    "**Fill in the blanks:**\n",
    "- Spark API consists of interfaces to develop applications based on it in Java, ...... languages (list languages). \n",
    "- Using Spark, resource management can be done either in a single server instance or using a framework such as Mesos or ????? in a distributed manner.\n",
    "\n",
    "**What is an RDD and show a fun example of creating one and bringing the first element back to the driver program.**\n",
    "\n",
    "**What is lazy evaluation and give an intuitoive example of lazy evaluation and comment on the massive computational savings to be had from lazy evaluation.**\n",
    "\n",
    "\n",
    "###HW 10.1: \n",
    "In Spark write the code to count how often each word appears in a text document (or set of documents). Please use this homework document as a the example document to run an experiment.  Report the following: provide a sorted list of tokens in decreasing order of frequency of occurence.\n"
   ]
  },
  {
   "cell_type": "code",
   "execution_count": 47,
   "metadata": {
    "collapsed": false,
    "scrolled": true
   },
   "outputs": [
    {
     "data": {
      "text/plain": [
       "[(u'', 56),\n",
       " (u'the', 44),\n",
       " (u'and', 23),\n",
       " (u'of', 17),\n",
       " (u'in', 17),\n",
       " (u'a', 11),\n",
       " (u'code', 9),\n",
       " (u'to', 9),\n",
       " (u'data', 8),\n",
       " (u'=', 8),\n",
       " (u'on', 7),\n",
       " (u'Using', 7),\n",
       " (u'is', 7),\n",
       " (u'for', 7),\n",
       " (u'with', 7),\n",
       " (u'KMeans', 6),\n",
       " (u'===', 6),\n",
       " (u'#', 6),\n",
       " (u'your', 6),\n",
       " (u'from', 5),\n",
       " (u'this', 5),\n",
       " (u'as', 5),\n",
       " (u'example', 4),\n",
       " (u'What', 4),\n",
       " (u'each', 4),\n",
       " (u'linear', 4),\n",
       " (u'Set', 4),\n",
       " (u'clusters', 4),\n",
       " (u'Sum', 4),\n",
       " (u'Comment', 4),\n",
       " (u'HW', 4),\n",
       " (u'==HW', 4),\n",
       " (u'Squared', 4),\n",
       " (u'results', 3),\n",
       " (u'+', 3),\n",
       " (u'100', 3),\n",
       " (u'plot', 3),\n",
       " (u'following', 3),\n",
       " (u'Spark', 3),\n",
       " (u'after', 3),\n",
       " (u'training', 3),\n",
       " (u'model', 3),\n",
       " (u'words', 3),\n",
       " (u'import', 3),\n",
       " (u'report', 3),\n",
       " (u'===HW', 3),\n",
       " (u'x', 3),\n",
       " (u'lazy', 3),\n",
       " (u'it', 3),\n",
       " (u'regression', 3),\n",
       " (u'document', 3),\n",
       " (u'Errors', 3),\n",
       " (u'using', 3),\n",
       " (u'Within', 3),\n",
       " (u'provided', 3),\n",
       " (u'count', 3),\n",
       " (u'an', 3),\n",
       " (u'Apache', 2),\n",
       " (u'--', 2),\n",
       " (u'list', 2),\n",
       " (u'vector', 2),\n",
       " (u'plots.', 2),\n",
       " (u'LASS0', 2),\n",
       " (u'here', 2),\n",
       " (u'findings.', 2),\n",
       " (u'Explain.', 2),\n",
       " (u'RIDGE', 2),\n",
       " (u'word', 2),\n",
       " (u'kmeans_data.txt', 2),\n",
       " (u'-----------------------', 2),\n",
       " (u'how', 2),\n",
       " (u'(OPTIONAL)', 2),\n",
       " (u'decreasing', 2),\n",
       " (u'order', 2),\n",
       " (u'Fill', 2),\n",
       " (u'notebook:', 2),\n",
       " (u'found', 2),\n",
       " (u'Report', 2),\n",
       " (u'evaluation', 2),\n",
       " (u'one', 2),\n",
       " (u'that', 2),\n",
       " (u'\"myModelPath\")', 2),\n",
       " (u'any', 2),\n",
       " (u'points', 2),\n",
       " (u'Generate', 2),\n",
       " (u'set', 2),\n",
       " (u'testing', 2),\n",
       " (u'regression.', 2),\n",
       " (u'between', 2),\n",
       " (u'available', 2),\n",
       " (u'https://www.dropbox.com/s/q85t0ytb9apggnh/kmeans_data.txt?dl=0', 2),\n",
       " (u'clusters.', 2),\n",
       " (u'iterations', 2),\n",
       " (u'set.', 2),\n",
       " (u'HW10.3.', 2),\n",
       " (u'In', 2),\n",
       " (u'iterations,', 2),\n",
       " (u'be', 2),\n",
       " (u'run', 2),\n",
       " (u'10.6.1', 2),\n",
       " (u'or', 2),\n",
       " (u'differences', 2),\n",
       " (u'up', 2),\n",
       " (u'HW10.3', 2),\n",
       " (u'repeat', 2),\n",
       " (u'NOTE', 2),\n",
       " (u'sameModel', 1),\n",
       " (u'intuitoive', 1),\n",
       " (u'hyper', 1),\n",
       " (u'consists', 1),\n",
       " (u'inverse', 1),\n",
       " (u'languages', 1),\n",
       " (u'snippet', 1),\n",
       " (u'Berkeley,', 1),\n",
       " (u'bringing', 1),\n",
       " (u'===========================================================================',\n",
       "  1),\n",
       " (u'1/||X||,', 1),\n",
       " (u'KMeansModel.load(sc,', 1),\n",
       " (u'findings', 1),\n",
       " (u'X2^2)', 1),\n",
       " (u'provided).', 1),\n",
       " (u'hundred)', 1),\n",
       " (u'10.4:', 1),\n",
       " (u'cell', 1),\n",
       " (u'blanks:', 1),\n",
       " (u'above', 1),\n",
       " (u'Short', 1),\n",
       " (u'modify', 1),\n",
       " (u'snippet:', 1),\n",
       " (u'appears', 1),\n",
       " (u'norm):', 1),\n",
       " (u'KMEans', 1),\n",
       " (u'resulting', 1),\n",
       " (u'Download', 1),\n",
       " (u'==================', 1),\n",
       " (u'distributed', 1),\n",
       " (u'use', 1),\n",
       " (u'give', 1),\n",
       " (u'HW10.5.', 1),\n",
       " (u'(a-z)', 1),\n",
       " (u'more', 1),\n",
       " (u'sort', 1),\n",
       " (u'(using', 1),\n",
       " (u'train', 1),\n",
       " (u'MLlib-centric', 1),\n",
       " (u'work', 1),\n",
       " (u'labeled', 1),\n",
       " (u'can', 1),\n",
       " (u'def', 1),\n",
       " (u'evaluation.', 1),\n",
       " (u\"MLLib's\", 1),\n",
       " (u'MLLib', 1),\n",
       " (u'10.0:', 1),\n",
       " (u'line:', 1),\n",
       " (u'provide', 1),\n",
       " (u'weight(X)=', 1),\n",
       " (u'answer', 1),\n",
       " (u'\"', 1),\n",
       " (u'blanks', 1),\n",
       " (u'applications', 1),\n",
       " (u'notebook', 1),\n",
       " (u'such', 1),\n",
       " (u'......', 1),\n",
       " (u'element', 1),\n",
       " (u'algorithms', 1),\n",
       " (u'pyspark.mllib.clustering', 1),\n",
       " (u'y)', 1),\n",
       " (u'experiments', 1),\n",
       " (u'Final', 1),\n",
       " (u'write', 1),\n",
       " (u'20', 1),\n",
       " (u'la', 1),\n",
       " (u'error(point):', 1),\n",
       " (u'Here', 1),\n",
       " (u'SQRT(X.X)=', 1),\n",
       " (u'2,', 1),\n",
       " (u'#10===', 1),\n",
       " (u'good', 1),\n",
       " (u'return', 1),\n",
       " (u'runs=10,', 1),\n",
       " (u'experiment.', 1),\n",
       " (u'number', 1),\n",
       " (u'framework', 1),\n",
       " (u'sorted', 1),\n",
       " (u'questions===', 1),\n",
       " (u'array([float(x)', 1),\n",
       " (u'frequency.', 1),\n",
       " (u'(point', 1),\n",
       " (u'https://www.dropbox.com/s/atzqkc0p1eajuz6/LinearRegression-Notebook-Challenge.ipynb?dl=0',\n",
       "  1),\n",
       " (u'10.1.1', 1),\n",
       " (u'API', 1),\n",
       " (u'Plot', 1),\n",
       " (u'weighted', 1),\n",
       " (u'generation', 1),\n",
       " (u'clusters.save(sc,', 1),\n",
       " (u'frequency', 1),\n",
       " (u'(list', 1),\n",
       " (u'measure', 1),\n",
       " (u'Save', 1),\n",
       " (u'following:', 1),\n",
       " (u'sqrt(sum([x**2', 1),\n",
       " (u'Evaluate', 1),\n",
       " (u'\"Gradient', 1),\n",
       " (u'math', 1),\n",
       " (u'HW10', 1),\n",
       " (u'W261', 1),\n",
       " (u'occurence.', 1),\n",
       " (u'str(WSSSE))', 1),\n",
       " (u'Spark,', 1),\n",
       " (u'Justify', 1),\n",
       " (u'clusters.centers[clusters.predict(point)]', 1),\n",
       " (u'length', 1),\n",
       " (u'massive', 1),\n",
       " (u'follows:', 1),\n",
       " (u'first', 1),\n",
       " (u'Please', 1),\n",
       " (u'Kmean', 1),\n",
       " (u'done', 1),\n",
       " (u'(homegrown', 1),\n",
       " (u'11/05/2015', 1),\n",
       " (u'array', 1),\n",
       " (u'https://www.dropbox.com/s/3nsthvp8g2rrrdh/EM-Kmeans.ipynb?dl=0', 1),\n",
       " (u'management', 1),\n",
       " (u'print(\"Within', 1),\n",
       " (u'2', 1),\n",
       " (u'X1', 1),\n",
       " (u'10.6:', 1),\n",
       " (u'x,', 1),\n",
       " (u'tokens', 1),\n",
       " (u'===MIDS', 1),\n",
       " (u'10', 1),\n",
       " (u'Machine', 1),\n",
       " (u'Call', 1),\n",
       " (u'KMeans.train(parsedData,', 1),\n",
       " (u'WSSSE', 1),\n",
       " (u'Then', 1),\n",
       " (u'data.', 1),\n",
       " (u'data)', 1),\n",
       " (u'Java,', 1),\n",
       " (u'-', 1),\n",
       " (u'instance', 1),\n",
       " (u'point:', 1),\n",
       " (u'begin', 1),\n",
       " (u'sets', 1),\n",
       " (u'10.3:', 1),\n",
       " (u'Regression', 1),\n",
       " (u'X2.', 1),\n",
       " (u'show', 1),\n",
       " (u'text', 1),\n",
       " (u'find', 1),\n",
       " (u\"line.split('\", 1),\n",
       " (u'based', 1),\n",
       " (u'parameters', 1),\n",
       " (u'implementation', 1),\n",
       " (u\"MLlib's\", 1),\n",
       " (u'(Euclidean', 1),\n",
       " (u'Modify', 1),\n",
       " (u'do', 1),\n",
       " (u'get', 1),\n",
       " (u'KMeans,', 1),\n",
       " (u'X', 1),\n",
       " (u'(one', 1),\n",
       " (u'runs', 1),\n",
       " (u'resource', 1),\n",
       " (u'y:', 1),\n",
       " (u'where', 1),\n",
       " (u'experiements', 1),\n",
       " (u'parsedData', 1),\n",
       " (u'Run', 1),\n",
       " (u'please', 1),\n",
       " (u'3', 1),\n",
       " (u'progress', 1),\n",
       " (u'creating', 1),\n",
       " (u'interfaces', 1),\n",
       " (u'Hadoop?', 1),\n",
       " (u'NOTE:', 1),\n",
       " (u'maxIterations=10,', 1),\n",
       " (u'comment', 1),\n",
       " (u'Load', 1),\n",
       " (u'center)]))', 1),\n",
       " (u'==================END', 1),\n",
       " (u'numpy', 1),\n",
       " (u'iteration,', 1),\n",
       " (u'||X||', 1),\n",
       " (u'manner.', 1),\n",
       " (u'case', 1),\n",
       " (u'words.', 1),\n",
       " (u'fun', 1),\n",
       " (u'LinearRegressionWithSGD', 1),\n",
       " (u'parse', 1),\n",
       " (u'cluster', 1),\n",
       " (u'different', 1),\n",
       " (u'develop', 1),\n",
       " (u'descent', 1),\n",
       " (u'(regularization)\".', 1),\n",
       " (u'sqrt', 1),\n",
       " (u'program.', 1),\n",
       " (u'driver', 1),\n",
       " (u'data.map(lambda', 1),\n",
       " (u'tune', 1),\n",
       " (u'lower', 1),\n",
       " (u'center', 1),\n",
       " (u'Mesos', 1),\n",
       " (u'savings', 1),\n",
       " (u'1', 1),\n",
       " (u'load', 1),\n",
       " (u'10.2:', 1),\n",
       " (u'(cluster', 1),\n",
       " (u'Linear', 1),\n",
       " (u'had', 1),\n",
       " (u'homework', 1),\n",
       " (u'evaluate', 1),\n",
       " (u'sc.textFile(\"kmeans_data.txt\")', 1),\n",
       " (u'10.5:', 1),\n",
       " (u'follows', 1),\n",
       " (u'DATSCI', 1),\n",
       " (u'server', 1),\n",
       " (u'iterations.', 1),\n",
       " (u'(or', 1),\n",
       " (u'either', 1),\n",
       " (u'Learning', 1),\n",
       " (u'output', 1),\n",
       " (u'Again', 1),\n",
       " (u'Scale', 1),\n",
       " (u'often', 1),\n",
       " (u'initializationMode=\"random\")', 1),\n",
       " (u'ASSIGNMENT', 1),\n",
       " (u'back', 1),\n",
       " (u'per', 1),\n",
       " (u'plots', 1),\n",
       " (u'by', 1),\n",
       " (u'10.6.2', 1),\n",
       " (u'languages).', 1),\n",
       " (u'Weight', 1),\n",
       " (u'provide,', 1),\n",
       " (u'UC', 1),\n",
       " (u'HW10.4.', 1),\n",
       " (u'computational', 1),\n",
       " (u'letters', 1),\n",
       " (u'?????', 1),\n",
       " (u'dataset', 1),\n",
       " (u'clustering', 1),\n",
       " (u'error(point)).reduce(lambda', 1),\n",
       " (u'parsedData.map(lambda', 1),\n",
       " (u'RDD', 1),\n",
       " (u'10.1:', 1),\n",
       " (u'Error', 1),\n",
       " (u'made', 1),\n",
       " (u'compute', 1),\n",
       " (u'============================================', 1),\n",
       " (u'KMeansModel', 1),\n",
       " (u\"')]))\", 1),\n",
       " (u'Build', 1),\n",
       " (u'model?', 1),\n",
       " (u'computing', 1),\n",
       " (u'V1.0', 1),\n",
       " (u'single', 1),\n",
       " (u'at', 1),\n",
       " (u'other', 1),\n",
       " (u'separate', 1),\n",
       " (u'SQRT(X1^2', 1),\n",
       " (u'documents).', 1),\n",
       " (u'code)', 1)]"
      ]
     },
     "execution_count": 47,
     "metadata": {},
     "output_type": "execute_result"
    }
   ],
   "source": [
    "# create input RDD\n",
    "inputRDD = sc.textFile('MIDS-MLS-HW-10.txt')\n",
    "# simple takenize - no regex cleanup\n",
    "tokenRDD = inputRDD.flatMap(lambda line: line.strip().split(' '))\n",
    "# countByValue returns the count of each unique value in this RDD as a dictionary of (value, count) pairs. \n",
    "wordCount = tokenRDD.countByValue().items()\n",
    "# create RDD based on dictionary collection\n",
    "wordCountRDD = sc.parallelize(wordCount)\n",
    "# keyfield based descending sort\n",
    "wordCountRDD.sortBy(lambda p: p[1], ascending=False).collect()"
   ]
  },
  {
   "cell_type": "markdown",
   "metadata": {},
   "source": [
    "###HW 10.1.1\n",
    "Modify the above word count code to count words that begin with lower case letters (a-z) and report your findings. Again sort the output words in decreasing order of frequency.\n",
    "\n"
   ]
  },
  {
   "cell_type": "code",
   "execution_count": 58,
   "metadata": {
    "collapsed": false
   },
   "outputs": [
    {
     "data": {
      "text/plain": [
       "[(u'the', 44),\n",
       " (u'and', 23),\n",
       " (u'of', 17),\n",
       " (u'in', 17),\n",
       " (u'a', 11),\n",
       " (u'code', 9),\n",
       " (u'to', 9),\n",
       " (u'data', 8),\n",
       " (u'for', 7),\n",
       " (u'on', 7),\n",
       " (u'with', 7),\n",
       " (u'is', 7),\n",
       " (u'your', 6),\n",
       " (u'from', 5),\n",
       " (u'this', 5),\n",
       " (u'as', 5),\n",
       " (u'clusters', 4),\n",
       " (u'each', 4),\n",
       " (u'linear', 4),\n",
       " (u'example', 4),\n",
       " (u'results', 3),\n",
       " (u'using', 3),\n",
       " (u'count', 3),\n",
       " (u'words', 3),\n",
       " (u'report', 3),\n",
       " (u'import', 3),\n",
       " (u'lazy', 3),\n",
       " (u'training', 3),\n",
       " (u'plot', 3),\n",
       " (u'following', 3),\n",
       " (u'it', 3),\n",
       " (u'an', 3),\n",
       " (u'regression', 3),\n",
       " (u'document', 3),\n",
       " (u'provided', 3),\n",
       " (u'after', 3),\n",
       " (u'x', 3),\n",
       " (u'model', 3),\n",
       " (u'notebook:', 2),\n",
       " (u'list', 2),\n",
       " (u'iterations,', 2),\n",
       " (u'set', 2),\n",
       " (u'testing', 2),\n",
       " (u'up', 2),\n",
       " (u'run', 2),\n",
       " (u'regression.', 2),\n",
       " (u'vector', 2),\n",
       " (u'between', 2),\n",
       " (u'evaluation', 2),\n",
       " (u'available', 2),\n",
       " (u'be', 2),\n",
       " (u'https://www.dropbox.com/s/q85t0ytb9apggnh/kmeans_data.txt?dl=0', 2),\n",
       " (u'found', 2),\n",
       " (u'here', 2),\n",
       " (u'or', 2),\n",
       " (u'findings.', 2),\n",
       " (u'one', 2),\n",
       " (u'iterations', 2),\n",
       " (u'that', 2),\n",
       " (u'differences', 2),\n",
       " (u'word', 2),\n",
       " (u'set.', 2),\n",
       " (u'kmeans_data.txt', 2),\n",
       " (u'any', 2),\n",
       " (u'how', 2),\n",
       " (u'clusters.', 2),\n",
       " (u'plots.', 2),\n",
       " (u'repeat', 2),\n",
       " (u'points', 2),\n",
       " (u'decreasing', 2),\n",
       " (u'order', 2),\n",
       " (u'y)', 1),\n",
       " (u'sameModel', 1),\n",
       " (u'show', 1),\n",
       " (u'text', 1),\n",
       " (u'intuitoive', 1),\n",
       " (u'y:', 1),\n",
       " (u'consists', 1),\n",
       " (u'find', 1),\n",
       " (u\"line.split('\", 1),\n",
       " (u'snippet', 1),\n",
       " (u'inverse', 1),\n",
       " (u'based', 1),\n",
       " (u'parameters', 1),\n",
       " (u'la', 1),\n",
       " (u'error(point):', 1),\n",
       " (u'had', 1),\n",
       " (u'languages', 1),\n",
       " (u'homework', 1),\n",
       " (u'good', 1),\n",
       " (u'return', 1),\n",
       " (u'get', 1),\n",
       " (u'runs=10,', 1),\n",
       " (u'evaluate', 1),\n",
       " (u'runs', 1),\n",
       " (u'experiment.', 1),\n",
       " (u'number', 1),\n",
       " (u'framework', 1),\n",
       " (u'instance', 1),\n",
       " (u'progress', 1),\n",
       " (u'sorted', 1),\n",
       " (u'sc.textFile(\"kmeans_data.txt\")', 1),\n",
       " (u'dataset', 1),\n",
       " (u'bringing', 1),\n",
       " (u'program.', 1),\n",
       " (u'resource', 1),\n",
       " (u'questions===', 1),\n",
       " (u'array([float(x)', 1),\n",
       " (u'follows', 1),\n",
       " (u'frequency.', 1),\n",
       " (u'https://www.dropbox.com/s/atzqkc0p1eajuz6/LinearRegression-Notebook-Challenge.ipynb?dl=0',\n",
       "  1),\n",
       " (u'hyper', 1),\n",
       " (u'server', 1),\n",
       " (u'iterations.', 1),\n",
       " (u'either', 1),\n",
       " (u'output', 1),\n",
       " (u'where', 1),\n",
       " (u'often', 1),\n",
       " (u'initializationMode=\"random\")', 1),\n",
       " (u'generation', 1),\n",
       " (u'parsedData.map(lambda', 1),\n",
       " (u'back', 1),\n",
       " (u'experiments', 1),\n",
       " (u'clusters.save(sc,', 1),\n",
       " (u'provided).', 1),\n",
       " (u'frequency', 1),\n",
       " (u'hundred)', 1),\n",
       " (u'measure', 1),\n",
       " (u'norm):', 1),\n",
       " (u'parsedData', 1),\n",
       " (u'following:', 1),\n",
       " (u'sqrt(sum([x**2', 1),\n",
       " (u'separate', 1),\n",
       " (u'please', 1),\n",
       " (u'per', 1),\n",
       " (u'cell', 1),\n",
       " (u'blanks:', 1),\n",
       " (u'above', 1),\n",
       " (u'math', 1),\n",
       " (u'creating', 1),\n",
       " (u'do', 1),\n",
       " (u'interfaces', 1),\n",
       " (u'provide,', 1),\n",
       " (u'modify', 1),\n",
       " (u'fun', 1),\n",
       " (u'management', 1),\n",
       " (u'snippet:', 1),\n",
       " (u'appears', 1),\n",
       " (u'languages).', 1),\n",
       " (u'compute', 1),\n",
       " (u'comment', 1),\n",
       " (u'implementation', 1),\n",
       " (u'length', 1),\n",
       " (u'resulting', 1),\n",
       " (u'massive', 1),\n",
       " (u'follows:', 1),\n",
       " (u'maxIterations=10,', 1),\n",
       " (u'pyspark.mllib.clustering', 1),\n",
       " (u'first', 1),\n",
       " (u'load', 1),\n",
       " (u'computational', 1),\n",
       " (u'letters', 1),\n",
       " (u'distributed', 1),\n",
       " (u'weighted', 1),\n",
       " (u'done', 1),\n",
       " (u'such', 1),\n",
       " (u'center)]))', 1),\n",
       " (u'array', 1),\n",
       " (u'https://www.dropbox.com/s/3nsthvp8g2rrrdh/EM-Kmeans.ipynb?dl=0', 1),\n",
       " (u'clustering', 1),\n",
       " (u'use', 1),\n",
       " (u'occurence.', 1),\n",
       " (u'error(point)).reduce(lambda', 1),\n",
       " (u'findings', 1),\n",
       " (u'plots', 1),\n",
       " (u'print(\"Within', 1),\n",
       " (u'by', 1),\n",
       " (u'blanks', 1),\n",
       " (u'numpy', 1),\n",
       " (u'more', 1),\n",
       " (u'sort', 1),\n",
       " (u'documents).', 1),\n",
       " (u'x,', 1),\n",
       " (u'iteration,', 1),\n",
       " (u'tokens', 1),\n",
       " (u'train', 1),\n",
       " (u'case', 1),\n",
       " (u'made', 1),\n",
       " (u'words.', 1),\n",
       " (u'work', 1),\n",
       " (u'single', 1),\n",
       " (u'labeled', 1),\n",
       " (u'can', 1),\n",
       " (u'str(WSSSE))', 1),\n",
       " (u'clusters.centers[clusters.predict(point)]', 1),\n",
       " (u'def', 1),\n",
       " (u'model?', 1),\n",
       " (u'computing', 1),\n",
       " (u'parse', 1),\n",
       " (u'cluster', 1),\n",
       " (u'at', 1),\n",
       " (u'experiements', 1),\n",
       " (u'evaluation.', 1),\n",
       " (u'different', 1),\n",
       " (u'data.', 1),\n",
       " (u'data)', 1),\n",
       " (u'line:', 1),\n",
       " (u'provide', 1),\n",
       " (u'weight(X)=', 1),\n",
       " (u'sqrt', 1),\n",
       " (u'write', 1),\n",
       " (u'other', 1),\n",
       " (u'answer', 1),\n",
       " (u'point:', 1),\n",
       " (u'begin', 1),\n",
       " (u'driver', 1),\n",
       " (u'applications', 1),\n",
       " (u'notebook', 1),\n",
       " (u'develop', 1),\n",
       " (u'data.map(lambda', 1),\n",
       " (u'tune', 1),\n",
       " (u'descent', 1),\n",
       " (u'manner.', 1),\n",
       " (u'lower', 1),\n",
       " (u'give', 1),\n",
       " (u'center', 1),\n",
       " (u'sets', 1),\n",
       " (u'element', 1),\n",
       " (u'savings', 1),\n",
       " (u'algorithms', 1),\n",
       " (u'code)', 1)]"
      ]
     },
     "execution_count": 58,
     "metadata": {},
     "output_type": "execute_result"
    }
   ],
   "source": [
    "import re\n",
    "# create input RDD\n",
    "inputRDD = sc.textFile('MIDS-MLS-HW-10.txt')\n",
    "# simple takenize\n",
    "tokenRDD = inputRDD.flatMap(lambda line: line.strip().split(' '))\n",
    "# apply filter to the RDD (transformation) - use regex to filter out words that begin with lower case letters\n",
    "lowerRDD = tokenRDD.filter(lambda w: re.match('^[a-z]', w))\n",
    "# countByValue returns the count of each unique value in this RDD as a dictionary of (value, count) pairs. \n",
    "wordCount = lowerRDD.countByValue().items()\n",
    "# create RDD based on dictionary collection\n",
    "wordCountRDD = sc.parallelize(wordCount)\n",
    "# keyfield based descending sort\n",
    "wordCountRDD.sortBy(lambda p: p[1], ascending=False).collect()"
   ]
  },
  {
   "cell_type": "markdown",
   "metadata": {},
   "source": [
    "###HW 10.2: [KMeans](http://spark.apache.org/docs/latest/api/python/pyspark.mllib.html#pyspark.mllib.clustering.KMeans) a la MLLib \n",
    "Using the following  MLlib-centric KMeans code snippet: \n",
    "\n",
    "    from pyspark.mllib.clustering import KMeans, KMeansModel\n",
    "    from numpy import array\n",
    "    from math import sqrt\n",
    "\n",
    "#### Load and parse the data\n",
    "** NOTE**  kmeans_data.txt is available here https://www.dropbox.com/s/q85t0ytb9apggnh/kmeans_data.txt?dl=0 \n",
    "\n",
    "    data = sc.textFile(\"kmeans_data.txt\")\n",
    "    parsedData = data.map(lambda line: array([float(x) for x in line.split(' ')]))\n",
    "\n",
    "#### Build the model (cluster the data)\n",
    "    clusters = KMeans.train(parsedData, 2, maxIterations=10, runs=10, initializationMode=\"random\")\n",
    "\n",
    "#### Evaluate clustering by computing Within Set Sum of Squared Errors\n",
    "    def error(point):\n",
    "        center = clusters.centers[clusters.predict(point)]\n",
    "        return sqrt(sum([x**2 for x in (point - center)]))\n",
    "\n",
    "    WSSSE = parsedData.map(lambda point: error(point)).reduce(lambda x, y: x + y)\n",
    "    print(\"Within Set Sum of Squared Error = \" + str(WSSSE))\n",
    "\n",
    "#### Save and load model\n",
    "    clusters.save(sc, \"myModelPath\")\n",
    "    sameModel = KMeansModel.load(sc, \"myModelPath\")\n",
    "\n",
    "Run this code snippet and list the clusters that your find and compute the Within Set Sum of Squared Errors for the found clusters. Comment on your findings.\n"
   ]
  },
  {
   "cell_type": "code",
   "execution_count": 87,
   "metadata": {
    "collapsed": false
   },
   "outputs": [
    {
     "name": "stdout",
     "output_type": "stream",
     "text": [
      "Within Set Sum of Squared Error = 0.692820323028\n",
      "\n",
      "Cluster centers: ['[ 9.1  9.1  9.1]', '[ 0.1  0.1  0.1]']\n",
      "[ 0.  0.  0.] point belongs to cluster 1\n",
      "[ 0.1  0.1  0.1] point belongs to cluster 1\n",
      "[ 0.2  0.2  0.2] point belongs to cluster 1\n",
      "[ 9.  9.  9.] point belongs to cluster 0\n",
      "[ 9.1  9.1  9.1] point belongs to cluster 0\n",
      "[ 9.2  9.2  9.2] point belongs to cluster 0\n"
     ]
    }
   ],
   "source": [
    "from pyspark.mllib.clustering import KMeans, KMeansModel\n",
    "from numpy import array\n",
    "from math import sqrt\n",
    "\n",
    "def error(point):\n",
    "    center = clusters.centers[clusters.predict(point)]\n",
    "    return sqrt(sum([x**2 for x in (point - center)]))\n",
    "    \n",
    "data = sc.textFile('kmeans_data.txt')\n",
    "parsedData = data.map(lambda line: array([float(x) for x in line.split(' ')]))\n",
    "clusters = KMeans.train(parsedData, k=2, maxIterations=10, initializationMode='random')\n",
    "\n",
    "WSSSE = parsedData.map(lambda point: error(point)).reduce(lambda x, y: x + y)\n",
    "print(\"Within Set Sum of Squared Error = \" + str(WSSSE))\n",
    "\n",
    "print '\\nCluster centers: %s' %([str(x) for x in clusters.centers])\n",
    "\n",
    "for p in parsedData.collect():\n",
    "    print '%s point belongs to cluster %d' %(str(p), clusters.predict(p))"
   ]
  },
  {
   "cell_type": "markdown",
   "metadata": {},
   "source": [
    "###HW 10.3: \n",
    "Download the following KMeans notebook:\n",
    "\n",
    "https://www.dropbox.com/s/3nsthvp8g2rrrdh/EM-Kmeans.ipynb?dl=0\n",
    "\n",
    "Generate 3 clusters with 100 (one hundred) data points per cluster (using the code provided). Plot the data.\n",
    "Then run MLlib's Kmean implementation on this data  and report your results as follows:\n",
    "\n",
    "- plot the resulting clusters after 1 iteration, 10 iterations, after 20 iterations, after 100 iterations.\n",
    "- in each plot please report the Within Set Sum of Squared Errors for the found clusters. Comment on the progress of this measure as the KMeans algorithms runs for more iterations\n",
    "\n",
    "###Data Generation"
   ]
  },
  {
   "cell_type": "code",
   "execution_count": 100,
   "metadata": {
    "collapsed": false
   },
   "outputs": [],
   "source": [
    " %matplotlib inline\n",
    "import numpy as np\n",
    "import pylab \n",
    "import json\n",
    "size1 = size2 = size3 = 100\n",
    "samples1 = np.random.multivariate_normal([4, 0], [[1, 0],[0, 1]], size1)\n",
    "data = samples1\n",
    "samples2 = np.random.multivariate_normal([6, 6], [[1, 0],[0, 1]], size2)\n",
    "data = np.append(data,samples2, axis=0)\n",
    "samples3 = np.random.multivariate_normal([0, 4], [[1, 0],[0, 1]], size3)\n",
    "data = np.append(data,samples3, axis=0)\n",
    "# Randomlize data\n",
    "data = data[np.random.permutation(size1+size2+size3),]\n",
    "np.savetxt('data.csv',data,delimiter = ',')"
   ]
  },
  {
   "cell_type": "markdown",
   "metadata": {},
   "source": [
    "###Data Visualization"
   ]
  },
  {
   "cell_type": "code",
   "execution_count": 101,
   "metadata": {
    "collapsed": false
   },
   "outputs": [
    {
     "data": {
      "image/png": "[encoded data removed]",
      "text/plain": [
       "<matplotlib.figure.Figure at 0x108aea490>"
      ]
     },
     "metadata": {},
     "output_type": "display_data"
    }
   ],
   "source": [
    "pylab.plot(samples1[:, 0], samples1[:, 1],'*', color = 'red')\n",
    "pylab.plot(samples2[:, 0], samples2[:, 1],'o',color = 'blue')\n",
    "pylab.plot(samples3[:, 0], samples3[:, 1],'+',color = 'green')\n",
    "pylab.show()"
   ]
  },
  {
   "cell_type": "markdown",
   "metadata": {},
   "source": [
    "###Run MLlib K-Mean"
   ]
  },
  {
   "cell_type": "code",
   "execution_count": 148,
   "metadata": {
    "collapsed": false
   },
   "outputs": [],
   "source": [
    "import numpy as np\n",
    "\n",
    "# plot centroids and data points for each iteration\n",
    "def plot_iteration(means):\n",
    "    pylab.plot(samples1[:, 0], samples1[:, 1], '.', color = 'blue')\n",
    "    pylab.plot(samples2[:, 0], samples2[:, 1], '.', color = 'blue')\n",
    "    pylab.plot(samples3[:, 0], samples3[:, 1],'.', color = 'blue')\n",
    "    pylab.plot(means[0][0], means[0][1],'*',markersize =10,color = 'red')\n",
    "    pylab.plot(means[1][0], means[1][1],'*',markersize =10,color = 'red')\n",
    "    pylab.plot(means[2][0], means[2][1],'*',markersize =10,color = 'red')\n",
    "    pylab.show()\n",
    "\n",
    "# calculate distance from the predicted centroid\n",
    "def error(point, model):\n",
    "    center = model.centers[model.predict(point)]\n",
    "    return sqrt(sum([x**2 for x in (point - center)]))\n",
    "\n",
    "# runner\n",
    "def RunMLlibKMean(iteration):\n",
    "    print '\\n\\nMLlib Kmean result with %d iterations: ' %iteration\n",
    "    data = sc.textFile('data.csv')\n",
    "    parsedData = data.map(lambda line: array([float(x) for x in line.split(',')]))\n",
    "    clusters = KMeans.train(parsedData, k=3, runs=iteration, maxIterations=iteration, initializationMode='random')\n",
    "    plot_iteration(clusters.centers)\n",
    "    WSSSE = parsedData.map(lambda point: error(point, clusters)).reduce(lambda x, y: x + y)\n",
    "    print(\"Within Set Sum of Squared Error = \" + str(WSSSE))"
   ]
  },
  {
   "cell_type": "code",
   "execution_count": 151,
   "metadata": {
    "collapsed": false,
    "scrolled": false
   },
   "outputs": [
    {
     "name": "stdout",
     "output_type": "stream",
     "text": [
      "\n",
      "\n",
      "MLlib Kmean result with 1 iterations: \n"
     ]
    },
    {
     "data": {
      "image/png": "[encoded data removed]",
      "text/plain": [
       "<matplotlib.figure.Figure at 0x10aad9290>"
      ]
     },
     "metadata": {},
     "output_type": "display_data"
    },
    {
     "name": "stdout",
     "output_type": "stream",
     "text": [
      "Within Set Sum of Squared Error = 494.593233976\n",
      "\n",
      "\n",
      "MLlib Kmean result with 10 iterations: \n"
     ]
    },
    {
     "data": {
      "image/png": "[encoded data removed]",
      "text/plain": [
       "<matplotlib.figure.Figure at 0x109eca990>"
      ]
     },
     "metadata": {},
     "output_type": "display_data"
    },
    {
     "name": "stdout",
     "output_type": "stream",
     "text": [
      "Within Set Sum of Squared Error = 386.271858789\n",
      "\n",
      "\n",
      "MLlib Kmean result with 20 iterations: \n"
     ]
    },
    {
     "data": {
      "image/png": "[encoded data removed]",
      "text/plain": [
       "<matplotlib.figure.Figure at 0x109b81510>"
      ]
     },
     "metadata": {},
     "output_type": "display_data"
    },
    {
     "name": "stdout",
     "output_type": "stream",
     "text": [
      "Within Set Sum of Squared Error = 386.271858789\n",
      "\n",
      "\n",
      "MLlib Kmean result with 100 iterations: \n"
     ]
    },
    {
     "data": {
      "image/png": "[encoded data removed]",
      "text/plain": [
       "<matplotlib.figure.Figure at 0x10aa1ec10>"
      ]
     },
     "metadata": {},
     "output_type": "display_data"
    },
    {
     "name": "stdout",
     "output_type": "stream",
     "text": [
      "Within Set Sum of Squared Error = 386.271858789\n"
     ]
    }
   ],
   "source": [
    "RunMLlibKMean(1)\n",
    "RunMLlibKMean(10)\n",
    "RunMLlibKMean(20)\n",
    "RunMLlibKMean(100)"
   ]
  },
  {
   "cell_type": "markdown",
   "metadata": {},
   "source": [
    "###Comments:\n",
    "- The training converged pretty quickly, after 10 iteration, the centroids are stablized with little change\n",
    "\n",
    "###HW 10.4: \n",
    "Using the KMeans code (homegrown code) provided repeat the experiments in HW10.3. Comment on any differences between the results in HW10.3 and HW10.4. Explain.\n"
   ]
  },
  {
   "cell_type": "code",
   "execution_count": 159,
   "metadata": {
    "collapsed": false
   },
   "outputs": [
    {
     "name": "stdout",
     "output_type": "stream",
     "text": [
      "\n",
      "Iteration 1\n"
     ]
    },
    {
     "data": {
      "image/png": "[encoded data removed]",
      "text/plain": [
       "<matplotlib.figure.Figure at 0x109b0c450>"
      ]
     },
     "metadata": {},
     "output_type": "display_data"
    },
    {
     "name": "stdout",
     "output_type": "stream",
     "text": [
      "Within Set Sum of Squared Error = 850.713345857\n",
      "\n",
      "Iteration 10\n"
     ]
    },
    {
     "data": {
      "image/png": "[encoded data removed]",
      "text/plain": [
       "<matplotlib.figure.Figure at 0x1099a1810>"
      ]
     },
     "metadata": {},
     "output_type": "display_data"
    },
    {
     "name": "stdout",
     "output_type": "stream",
     "text": [
      "Within Set Sum of Squared Error = 764.228809431\n",
      "\n",
      "Iteration 20\n"
     ]
    },
    {
     "data": {
      "image/png": "[encoded data removed]",
      "text/plain": [
       "<matplotlib.figure.Figure at 0x10afeed90>"
      ]
     },
     "metadata": {},
     "output_type": "display_data"
    },
    {
     "name": "stdout",
     "output_type": "stream",
     "text": [
      "Within Set Sum of Squared Error = 643.778772588\n",
      "\n",
      "Iteration 100\n"
     ]
    },
    {
     "data": {
      "image/png": "[encoded data removed]",
      "text/plain": [
       "<matplotlib.figure.Figure at 0x108ba8750>"
      ]
     },
     "metadata": {},
     "output_type": "display_data"
    },
    {
     "name": "stdout",
     "output_type": "stream",
     "text": [
      "Within Set Sum of Squared Error = 403.59202565\n",
      "\n",
      "Final Results:\n",
      "[[ 0.18343021  3.60994727]\n",
      " [ 4.21457259  0.04990762]\n",
      " [ 5.18980966  5.95608355]]\n"
     ]
    }
   ],
   "source": [
    "import numpy as np\n",
    "\n",
    "#Calculate which class each data point belongs to\n",
    "def nearest_centroid(x):    \n",
    "    closest_centroid_idx = np.sum((x - centroids)**2, axis=1).argmin()\n",
    "    return (closest_centroid_idx,(x,1))\n",
    "\n",
    "def toCenter(p):\n",
    "    return np.sqrt(np.sum((p-centroids)**2, axis=1).min())\n",
    "\n",
    "K = 3\n",
    "# Initialization: initialization of parameter is fixed to show an example\n",
    "centroids = np.array([[0.0,0.0],[2.0,2.0],[0.0,7.0]])\n",
    "\n",
    "D = sc.textFile(\"data.csv\").map(lambda line: np.array([float(x) for x in line.split(',')])).cache()\n",
    "for i in range(100):  \n",
    "    res = D.map(nearest_centroid).reduceByKey(lambda x,y : (x[0]+y[0],x[1]+y[1])).collect()\n",
    "    #res [(0, (array([  2.66546663e+00,   3.94844436e+03]), 1001)  ), \n",
    "    #     (2, (array([ 6023.84995923,  5975.48511018]), 1000)), \n",
    "    #     (1, (array([ 3986.85984761,    15.93153464]), 999))]\n",
    "    # res[1][1][1] returns 1000 here\n",
    "    res = sorted(res,key = lambda x : x[0])  #sort based on clusted ID\n",
    "    centroids_new = np.array([x[1][0]/x[1][1] for x in res])  #divide by cluster size\n",
    "    if (i+1) in [1,10,20,100]:        \n",
    "        print \"\\nIteration %d\" %(i+1)\n",
    "        #iter_num = iter_num + 1 \n",
    "        centroids = centroids_new\n",
    "        #print centroids\n",
    "        plot_iteration(centroids)\n",
    "        WSSSE = D.map(toCenter).reduce(lambda x, y: x + y)\n",
    "        print(\"Within Set Sum of Squared Error = \" + str(WSSSE))\n",
    "print \"\\nFinal Results:\"\n",
    "print centroids"
   ]
  },
  {
   "cell_type": "markdown",
   "metadata": {},
   "source": [
    "###Comments:\n",
    "- convergence speed is slower than MLlib training, due to the bad initialization\n",
    "\n",
    "###HW 10.5:  (OPTIONAL)\n",
    "Using the KMeans code provided modify it to do a weighted KMeans and repeat the experiements in HW10.3. Comment on any differences between the results in HW10.3 and HW10.5. Explain.\n",
    "\n",
    "NOTE: Weight each example as follows using the inverse vector length (Euclidean norm): \n",
    "\n",
    "$weight(X)= \\frac{1}{\\|X\\|}$, \n",
    "\n",
    "where $\\|X\\| = \\sqrt{X.X}= \\sqrt{X_1^2 + X_2^2}$\n",
    "\n",
    "Here $X$ is vector made up of $X_1$ and $X_2$.\n",
    "\n",
    "###Weighted k-means [[Reference](https://www.researchgate.net/profile/Nittaya_Kerdprasop/publication/225127898_Weighted_K-Means_for_Density-Biased_Clustering/links/0c96053191e3985477000000.pdf)]\n",
    "- weight each point when calculate the new centroid $c_i=\\frac{\\sum_i{w_ix_i}}{\\sum_i{w_i}}$"
   ]
  },
  {
   "cell_type": "code",
   "execution_count": 178,
   "metadata": {
    "collapsed": false
   },
   "outputs": [
    {
     "name": "stdout",
     "output_type": "stream",
     "text": [
      "\n",
      "Iteration 1\n"
     ]
    },
    {
     "data": {
      "image/png": "[encoded data removed]",
      "text/plain": [
       "<matplotlib.figure.Figure at 0x10b17ef10>"
      ]
     },
     "metadata": {},
     "output_type": "display_data"
    },
    {
     "name": "stdout",
     "output_type": "stream",
     "text": [
      "Within Set Sum of Squared Error = 864.276373115\n",
      "\n",
      "Iteration 10\n"
     ]
    },
    {
     "data": {
      "image/png": "[encoded data removed]",
      "text/plain": [
       "<matplotlib.figure.Figure at 0x10aa04150>"
      ]
     },
     "metadata": {},
     "output_type": "display_data"
    },
    {
     "name": "stdout",
     "output_type": "stream",
     "text": [
      "Within Set Sum of Squared Error = 765.714284621\n",
      "\n",
      "Iteration 20\n"
     ]
    },
    {
     "data": {
      "image/png": "[encoded data removed]",
      "text/plain": [
       "<matplotlib.figure.Figure at 0x1099e5790>"
      ]
     },
     "metadata": {},
     "output_type": "display_data"
    },
    {
     "name": "stdout",
     "output_type": "stream",
     "text": [
      "Within Set Sum of Squared Error = 726.144006392\n",
      "\n",
      "Iteration 100\n"
     ]
    },
    {
     "data": {
      "image/png": "[encoded data removed]",
      "text/plain": [
       "<matplotlib.figure.Figure at 0x109b83c50>"
      ]
     },
     "metadata": {},
     "output_type": "display_data"
    },
    {
     "name": "stdout",
     "output_type": "stream",
     "text": [
      "Within Set Sum of Squared Error = 610.801316427\n",
      "\n",
      "Iteration 150\n"
     ]
    },
    {
     "data": {
      "image/png": "[encoded data removed]",
      "text/plain": [
       "<matplotlib.figure.Figure at 0x10ac6de10>"
      ]
     },
     "metadata": {},
     "output_type": "display_data"
    },
    {
     "name": "stdout",
     "output_type": "stream",
     "text": [
      "Within Set Sum of Squared Error = 433.439549339\n",
      "\n",
      "Iteration 200\n"
     ]
    },
    {
     "data": {
      "image/png": "[encoded data removed]",
      "text/plain": [
       "<matplotlib.figure.Figure at 0x109fbdb90>"
      ]
     },
     "metadata": {},
     "output_type": "display_data"
    },
    {
     "name": "stdout",
     "output_type": "stream",
     "text": [
      "Within Set Sum of Squared Error = 391.611120674\n",
      "\n",
      "Final Results:\n",
      "[[ 0.17088082  3.77992112]\n",
      " [ 3.8359852   0.03304997]\n",
      " [ 5.75662262  5.91045669]]\n"
     ]
    }
   ],
   "source": [
    "import numpy as np\n",
    "\n",
    "#Calculate which class each data point belongs to\n",
    "def nearest_centroid(x):    \n",
    "    norm = np.sqrt(sum(x**2))\n",
    "    closest_centroid_idx = np.sum((x - centroids)**2, axis=1).argmin()\n",
    "    return (closest_centroid_idx,(x/norm,1/norm))\n",
    "\n",
    "def toCenter(p):\n",
    "    return np.sqrt(np.sum((p-centroids)**2, axis=1).min())\n",
    "\n",
    "K = 3\n",
    "# Initialization: initialization of parameter is fixed to show an example\n",
    "centroids = np.array([[0.0,0.0],[2.0,2.0],[0.0,7.0]])\n",
    "\n",
    "D = sc.textFile(\"data.csv\").map(lambda line: np.array([float(x) for x in line.split(',')])).cache()\n",
    "for i in range(200):  \n",
    "    res = D.map(nearest_centroid).reduceByKey(lambda x,y : (x[0]+y[0],x[1]+y[1])).collect()\n",
    "    #res [(0, (array([  2.66546663e+00,   3.94844436e+03]), 1001)  ), \n",
    "    #     (2, (array([ 6023.84995923,  5975.48511018]), 1000)), \n",
    "    #     (1, (array([ 3986.85984761,    15.93153464]), 999))]\n",
    "    # res[1][1][1] returns 1000 here\n",
    "    res = sorted(res,key = lambda x : x[0])  #sort based on clusted ID\n",
    "    centroids_new = np.array([x[1][0]/x[1][1] for x in res])  #divide by cluster size\n",
    "    if (i+1) in [1,10,20,100,150,200]:        \n",
    "        print \"\\nIteration %d\" %(i+1)\n",
    "        #iter_num = iter_num + 1 \n",
    "        centroids = centroids_new\n",
    "        #print centroids\n",
    "        plot_iteration(centroids)\n",
    "        WSSSE = D.map(toCenter).reduce(lambda x, y: x + y)\n",
    "        print(\"Within Set Sum of Squared Error = \" + str(WSSSE))\n",
    "print \"\\nFinal Results:\"\n",
    "print centroids"
   ]
  },
  {
   "cell_type": "markdown",
   "metadata": {},
   "source": [
    "###Comment:\n",
    "- using $1/\\|x\\|$ as weight will introduce a bias on points with small norm, thus the convergence is slower\n",
    "\n",
    "###HW 10.6: Linear Regression (OPTIONAL)\n",
    "###HW 10.6.1\n",
    "Using the following linear regression notebook:\n",
    "\n",
    " https://www.dropbox.com/s/atzqkc0p1eajuz6/LinearRegression-Notebook-Challenge.ipynb?dl=0 \n",
    "\n",
    "Generate 2 sets of data with 100 data points using the data generation code provided and plot each in separate plots. Call one the training set and the other the testing set.\n",
    "\n",
    "Using MLLib's LinearRegressionWithSGD train up a linear regression model with the training dataset and evaluate with the testing set. What a good number of iterations for training the linear regression model? Justify with plots and words. \n",
    "\n",
    "###HW 10.6.2\n",
    "In the notebook provide, in the cell labeled \"Gradient descent (regularization)\".\n",
    "\n",
    "Fill in the blanks and get this code to work for LASS0 and RIDGE linear regression.\n",
    "\n",
    "Using the data from 10.6.1 tune the hyper parameters of your LASS0 and RIDGE regression. Report your findings with words and plots."
   ]
  },
  {
   "cell_type": "markdown",
   "metadata": {},
   "source": [
    "###stop yarn, hdfs, and job history"
   ]
  },
  {
   "cell_type": "code",
   "execution_count": 1,
   "metadata": {
    "collapsed": false
   },
   "outputs": [
    {
     "name": "stdout",
     "output_type": "stream",
     "text": [
      "stopping yarn daemons\n",
      "stopping resourcemanager\n",
      "localhost: stopping nodemanager\n",
      "no proxyserver to stop\n",
      "Stopping namenodes on [localhost]\n",
      "localhost: stopping namenode\n",
      "localhost: stopping datanode\n",
      "Stopping secondary namenodes [0.0.0.0]\n",
      "0.0.0.0: stopping secondarynamenode\n",
      "stopping historyserver\n"
     ]
    }
   ],
   "source": [
    "!/usr/local/Cellar/hadoop/2*/sbin/stop-yarn.sh\n",
    "!/usr/local/Cellar/hadoop/2*/sbin/stop-dfs.sh\n",
    "!/usr/local/Cellar/hadoop/2*/sbin/mr-jobhistory-daemon.sh --config /usr/local/Cellar/hadoop/2*/libexec/etc/hadoop/ stop historyserver "
   ]
  },
  {
   "cell_type": "markdown",
   "metadata": {},
   "source": [
    "###start yarn, hdfs, and job history"
   ]
  },
  {
   "cell_type": "code",
   "execution_count": 3,
   "metadata": {
    "collapsed": false
   },
   "outputs": [
    {
     "name": "stdout",
     "output_type": "stream",
     "text": [
      "starting yarn daemons\n",
      "resourcemanager running as process 77362. Stop it first.\n",
      "localhost: nodemanager running as process 77463. Stop it first.\n",
      "Starting namenodes on [localhost]\n",
      "localhost: namenode running as process 77612. Stop it first.\n",
      "localhost: datanode running as process 77705. Stop it first.\n",
      "Starting secondary namenodes [0.0.0.0]\n",
      "0.0.0.0: secondarynamenode running as process 77824. Stop it first.\n",
      "historyserver running as process 77932. Stop it first.\n"
     ]
    }
   ],
   "source": [
    "!/usr/local/Cellar/hadoop/2*/sbin/start-yarn.sh\n",
    "!/usr/local/Cellar/hadoop/2*/sbin/start-dfs.sh\n",
    "!/usr/local/Cellar/hadoop/2*/sbin/mr-jobhistory-daemon.sh --config /usr/local/Cellar/hadoop/2*/libexec/etc/hadoop/ start historyserver "
   ]
  }
 ],
 "metadata": {
  "kernelspec": {
   "display_name": "Python 2",
   "language": "python",
   "name": "python2"
  },
  "language_info": {
   "codemirror_mode": {
    "name": "ipython",
    "version": 2
   },
   "file_extension": ".py",
   "mimetype": "text/x-python",
   "name": "python",
   "nbconvert_exporter": "python",
   "pygments_lexer": "ipython2",
   "version": "2.7.9"
  }
 },
 "nbformat": 4,
 "nbformat_minor": 0
}
