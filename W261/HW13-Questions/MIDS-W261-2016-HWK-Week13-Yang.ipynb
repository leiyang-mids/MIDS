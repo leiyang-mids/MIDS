{
 "cells": [
  {
   "cell_type": "markdown",
   "metadata": {},
   "source": [
    "#DATASCI W261, Machine Learning at Scale\n",
    "--------\n",
    "####Assignement:  week \\#13\n",
    "####[Lei Yang](mailto:leiyang@berkeley.edu) | [Michael Kennedy](mailto:mkennedy@ischool.berkeley.edu) | [Natarajan Krishnaswami](mailto:natarajan@krishnaswami.org)\n",
    "####Due: 2016-04-29, 8AM PST"
   ]
  },
  {
   "cell_type": "markdown",
   "metadata": {},
   "source": [
    "### Start Spark"
   ]
  },
  {
   "cell_type": "code",
   "execution_count": 1,
   "metadata": {
    "collapsed": false
   },
   "outputs": [
    {
     "name": "stdout",
     "output_type": "stream",
     "text": [
      "Welcome to\n",
      "      ____              __\n",
      "     / __/__  ___ _____/ /__\n",
      "    _\\ \\/ _ \\/ _ `/ __/  '_/\n",
      "   /__ / .__/\\_,_/_/ /_/\\_\\   version 1.6.1\n",
      "      /_/\n",
      "\n",
      "Using Python version 2.7.9 (default, Dec 15 2014 10:37:34)\n",
      "SparkContext available as sc, HiveContext available as sqlContext.\n"
     ]
    }
   ],
   "source": [
    "import os\n",
    "import sys\n",
    "spark_home = os.environ['SPARK_HOME'] = '/Users/leiyang/Downloads/spark-1.6.1-bin-hadoop2.6/'\n",
    "if not spark_home:\n",
    "    raise ValueError('SPARK_HOME enviroment variable is not set')\n",
    "sys.path.insert(0,os.path.join(spark_home,'python'))\n",
    "sys.path.insert(0,os.path.join(spark_home,'python/lib/py4j-0.8.2.1-src.zip'))\n",
    "execfile(os.path.join(spark_home,'python/pyspark/shell.py'))"
   ]
  },
  {
   "cell_type": "markdown",
   "metadata": {
    "collapsed": true
   },
   "source": [
    "###HW 13.1: Spark implementation of basic PageRank\n",
    "\n",
    "Write a basic Spark implementation of the iterative PageRank algorithm\n",
    "that takes sparse adjacency lists as input.\n",
    "Make sure that your implementation utilizes teleportation (1-damping/the number of nodes in the network), \n",
    "and further, distributes the mass of dangling nodes with each iteration\n",
    "so that the output of each iteration is correctly normalized (sums to 1).\n",
    "[NOTE: The PageRank algorithm assumes that a random surfer (walker), starting from a random web page,\n",
    "chooses the next page to which it will move by clicking at random, with probability d,\n",
    "one of the hyperlinks in the current page. This probability is represented by a so-called\n",
    "‘damping factor’ d, where d ∈ (0, 1). Otherwise, with probability (1 − d), the surfer\n",
    "jumps to any web page in the network. If a page is a dangling end, meaning it has no\n",
    "outgoing hyperlinks, the random surfer selects an arbitrary web page from a uniform\n",
    "distribution and “teleports” to that page]\n",
    "\n",
    "In your Spark solution, please use broadcast variables and caching to make sure your code is as efficient as possible.\n",
    "\n",
    "\n",
    "As you build your code, use the test data\n",
    "\n",
    "s3://ucb-mids-mls-networks/PageRank-test.txt\n",
    "Or under the Data Subfolder for HW7 on Dropbox with the same file name. \n",
    "(On Dropbox https://www.dropbox.com/sh/2c0k5adwz36lkcw/AAAAKsjQfF9uHfv-X9mCqr9wa?dl=0)\n",
    "\n",
    "with teleportation parameter set to 0.15 (1-d, where d, the damping factor is set to 0.85), and crosscheck\n",
    "your work with the true result, displayed in the first image\n",
    "in the Wikipedia article:\n",
    "\n",
    "https://en.wikipedia.org/wiki/PageRank\n",
    "\n",
    "and here for reference are the corresponding PageRank probabilities:\n",
    "\n",
    "A,0.033\n",
    "B,0.384\n",
    "C,0.343\n",
    "D,0.039\n",
    "E,0.081\n",
    "F,0.039\n",
    "G,0.016\n",
    "H,0.016\n",
    "I,0.016\n",
    "J,0.016\n",
    "K,0.016\n",
    "\n",
    "Run this experiment locally first. Report the local configuration that you used and how long in minutes and seconds it takes to complete your job.\n",
    "\n",
    "Repeat this experiment on AWS. Report the AWS cluster configuration that you used and how long in minutes and seconds it takes to complete your job. (in your notebook, cat the cluster config file)\n",
    "\n"
   ]
  },
  {
   "cell_type": "markdown",
   "metadata": {
    "collapsed": false
   },
   "source": [
    "###PageRank"
   ]
  },
  {
   "cell_type": "code",
   "execution_count": 1,
   "metadata": {
    "collapsed": true
   },
   "outputs": [],
   "source": [
    "from time import time\n",
    "from datetime import datetime\n",
    "\n",
    "def initialize(line):\n",
    "    # parse line\n",
    "    nid, adj = line.strip().split('\\t', 1)\n",
    "    exec 'adj = %s' %adj\n",
    "    # initialize node struct\n",
    "    node = {'a':adj.keys(), 'p':0}\n",
    "    rankMass = 1.0/len(adj)\n",
    "    # emit pageRank mass and node\n",
    "    return [(m, rankMass) for m in node['a']] + [(nid.strip('\"'), node)]\n",
    "\n",
    "def accumulateMass(a, b):\n",
    "    if isinstance(a, float) and isinstance(b, float):\n",
    "        return a+b\n",
    "    if isinstance(a, float) and not isinstance(b, float):\n",
    "        b['p'] += a\n",
    "        return b\n",
    "    else:\n",
    "        a['p'] += b\n",
    "        return a\n",
    "\n",
    "def getDangling(node):\n",
    "    global nDangling\n",
    "    if isinstance(node[1], float):\n",
    "        nDangling += 1\n",
    "        return (node[0], {'a':[], 'p':node[1]})\n",
    "    else:\n",
    "        return node\n",
    "\n",
    "def redistributeMass(node):\n",
    "    node[1]['p'] = (p_dangling.value+node[1]['p'])*damping + alpha\n",
    "    return node\n",
    "\n",
    "def distributeMass(node):\n",
    "    global lossMass\n",
    "    mass, adj = node[1]['p'], node[1]['a']\n",
    "    node[1]['p'] = 0\n",
    "    if len(adj) == 0:\n",
    "        lossMass += mass\n",
    "        return [node]\n",
    "    else:\n",
    "        rankMass = mass/len(adj)\n",
    "        return [(x, rankMass) for x in adj]+[node]\n",
    "\n",
    "def getIndex(line):\n",
    "    elem = line.strip().split('\\t')\n",
    "    return (elem[1], elem[0])\n",
    "\n",
    "def logTime():\n",
    "    return str(datetime.now())\n"
   ]
  },
  {
   "cell_type": "markdown",
   "metadata": {},
   "source": [
    "### Driver"
   ]
  },
  {
   "cell_type": "code",
   "execution_count": 4,
   "metadata": {
    "collapsed": false
   },
   "outputs": [
    {
     "name": "stdout",
     "output_type": "stream",
     "text": [
      "2016-04-15 22:52:21.595538: start PageRank initialization ...\n",
      "2016-04-15 22:52:22.789142: initialization completed, dangling node(s): 1, total nodes: 11\n",
      "2016-04-15 22:52:22.789784: running iteration 2 ...\n",
      "2016-04-15 22:52:22.893942: redistributing loss mass: 0.6523\n",
      "2016-04-15 22:52:22.900249: running iteration 3 ...\n",
      "2016-04-15 22:52:23.016227: redistributing loss mass: 0.4174\n",
      "2016-04-15 22:52:23.021943: running iteration 4 ...\n",
      "2016-04-15 22:52:23.103576: redistributing loss mass: 0.7042\n",
      "2016-04-15 22:52:23.108007: running iteration 5 ...\n",
      "2016-04-15 22:52:23.193200: redistributing loss mass: 0.4136\n",
      "2016-04-15 22:52:23.197213: running iteration 6 ...\n",
      "2016-04-15 22:52:23.274630: redistributing loss mass: 0.4254\n",
      "2016-04-15 22:52:23.278632: running iteration 7 ...\n",
      "2016-04-15 22:52:23.352806: redistributing loss mass: 0.3753\n",
      "2016-04-15 22:52:23.356641: running iteration 8 ...\n",
      "2016-04-15 22:52:23.430620: redistributing loss mass: 0.3812\n",
      "2016-04-15 22:52:23.434674: running iteration 9 ...\n",
      "2016-04-15 22:52:23.531019: redistributing loss mass: 0.3659\n",
      "2016-04-15 22:52:23.536714: running iteration 10 ...\n",
      "2016-04-15 22:52:23.635844: redistributing loss mass: 0.3660\n",
      "2016-04-15 22:52:23.679582: normalized weight of the graph: 1.0000\n",
      "2016-04-15 22:52:23.679781: PageRanking completed in 0.03 minutes.\n",
      "2016-04-15 22:52:24.634718: results saved, job completed!\n"
     ]
    }
   ],
   "source": [
    "from operator import add\n",
    "\n",
    "# load the graph\n",
    "graph_file = sc.textFile('hdfs://localhost:9000/user/leiyang/PageRank-test.txt')\n",
    "index_file = sc.textFile('file:///Users/leiyang/Downloads/toy_index.txt')\n",
    "\n",
    "# initialize variables\n",
    "nDangling = sc.accumulator(0)\n",
    "lossMass = sc.accumulator(0.0)\n",
    "damping = 0.85\n",
    "alpha = 1 - damping\n",
    "nTop, nIter = 100, 10\n",
    "start = time()\n",
    "print '%s: start PageRank initialization ...' %(logTime())\n",
    "graph = graph_file.flatMap(initialize).reduceByKey(accumulateMass).map(getDangling).cache()\n",
    "# get graph size\n",
    "G = graph.count()\n",
    "# broadcast dangling mass for redistribution\n",
    "p_dangling = sc.broadcast(1.0*nDangling.value/G)\n",
    "graph = graph.map(redistributeMass)\n",
    "print '%s: initialization completed, dangling node(s): %d, total nodes: %d' %(logTime(), nDangling.value, G)\n",
    "\n",
    "for i in range(nIter-1):\n",
    "    print '%s: running iteration %d ...' %(logTime(), i+2)\n",
    "    lossMass.value = 0.0\n",
    "    graph = graph.flatMap(distributeMass).reduceByKey(accumulateMass).cache() #checkpoint()?\n",
    "    # need to call an action here in order to have loss mass\n",
    "    graph.count()\n",
    "    print '%s: redistributing loss mass: %.4f' %(logTime(), lossMass.value)\n",
    "    p_dangling = sc.broadcast(lossMass.value/G)\n",
    "    graph = graph.map(redistributeMass)\n",
    "\n",
    "totalMass = graph.aggregate(0, (lambda x, y: y[1]['p'] + x), (lambda x, y: x+y))\n",
    "print '%s: normalized weight of the graph: %.4f' %(logTime(), totalMass/G)\n",
    "print '%s: PageRanking completed in %.2f minutes.' %(logTime(), (time()-start)/60.0)\n",
    "# get the page name by join\n",
    "topPages = graph.map(lambda n:(n[0],n[1]['p']/G)).sortBy(lambda n: n[1], ascending=False).take(nTop)\n",
    "rankList = index_file.map(getIndex).join(sc.parallelize(topPages)).map(lambda l: l[1])\n",
    "# save final rank list\n",
    "rankList.sortBy(lambda n: n[1], ascending=False).saveAsTextFile('pageRank')\n",
    "print '%s: results saved, job completed!' %logTime()\n"
   ]
  },
  {
   "cell_type": "code",
   "execution_count": 5,
   "metadata": {
    "collapsed": false
   },
   "outputs": [
    {
     "name": "stdout",
     "output_type": "stream",
     "text": [
      "(u\"'Node_b\", 0.3632359489889102)\r\n",
      "(u\"'Node_c\", 0.36288372803871793)\r\n",
      "(u\"'Node_e\", 0.08114525762548769)\r\n",
      "(u\"'Node_d\", 0.03938466342002967)\r\n",
      "(u\"'Node_f\", 0.03938466342002967)\r\n",
      "(u\"'Node_a\", 0.03293010178620472)\r\n",
      "(u\"'Node_h\", 0.016207127344124005)\r\n",
      "(u\"'Node_j\", 0.016207127344124005)\r\n",
      "(u\"'Node_g\", 0.016207127344124005)\r\n",
      "(u\"'Node_i\", 0.016207127344124005)\r\n",
      "(u\"'Node_k\", 0.016207127344124005)\r\n"
     ]
    }
   ],
   "source": [
    "!cat pageRank/part*"
   ]
  },
  {
   "cell_type": "markdown",
   "metadata": {},
   "source": [
    "###HW 13.2: Applying PageRank to the Wikipedia hyperlinks network\n",
    "\n",
    "Run your Spark PageRank implementation on the Wikipedia dataset for 10 iterations,\n",
    "and display the top 100 ranked nodes (with alpha = 0.85).\n",
    "\n",
    "Run your PageRank implementation on the Wikipedia dataset for 50 iterations,\n",
    "and display the top 100 ranked nodes (with teleportation factor of 0.15). \n",
    "Plot the pagerank values for the top 100 pages resulting from the 50 iterations run. Then plot the pagerank values for the same 100 pages that resulted from the 10 iterations run.  Comment on your findings.  Have the top 100 ranked pages changed? Have the pagerank values changed? Explain.\n",
    "\n",
    "Report the AWS cluster configuration that you used and how long in minutes and seconds it takes to complete your job.\n",
    "\n",
    "NOTE: ====  English Wikipedia hyperlink network.data ====\n",
    "The dataset is available via Dropbox at:\n",
    "\n",
    "https://www.dropbox.com/sh/2c0k5adwz36lkcw/AAAAKsjQfF9uHfv-X9mCqr9wa?dl=0\n",
    "\n",
    "on S3 at  s3://ucb-mids-mls-networks/wikipedia/\n",
    "-- s3://ucb-mids-mls-networks/wikipedia/all-pages-indexed-out.txt # Graph\n",
    "-- s3://ucb-mids-mls-networks/wikipedia/indices.txt               # Page titles and page Ids\n",
    "\n",
    "The dataset is built from the Sept. 2015 XML snapshot of English Wikipedia.\n",
    "For this directed network, a link between articles: \n",
    "\n",
    "A -> B\n",
    "\n",
    "is defined by the existence of a hyperlink in A pointing to B.\n",
    "This network also exists in the indexed format:\n",
    "\n",
    "Data: s3://ucb-mids-mls-networks/wikipedia/all-pages-indexed-out.txt\n",
    "Data: s3://ucb-mids-mls-networks/wikipedia/all-pages-indexed-in.txt\n",
    "Data: s3://ucb-mids-mls-networks/wikipedia/indices.txt\n",
    "\n",
    "but has an index with more detailed data:\n",
    "\n",
    "(article name) \\t (index) \\t (in degree) \\t (out degree)\n",
    "\n",
    "In the dictionary, target nodes are keys, link weights are values .\n",
    "Here, a weight indicates the number of time a page links to another.\n",
    "However, for the sake of this assignment, treat this an unweighted network,\n",
    "and set all weights to 1 upon data input.\n",
    "\n",
    "\n",
    "###Submit job to the cluster\n",
    "- ssh i the master node of EMR cluster\n",
    "- do data preparation\n",
    "- submit job to spark\n",
    "- **Note: summary of time, and discussion are presented after the GraphX results in next problem**\n",
    "\n",
    "###Cluster configuration: 1 m1.large master node + 9 m1.large task nodes"
   ]
  },
  {
   "cell_type": "code",
   "execution_count": null,
   "metadata": {
    "collapsed": false,
    "scrolled": true
   },
   "outputs": [],
   "source": [
    "/usr/bin/spark-submit \\\n",
    "--master yarn \\\n",
    "--deploy-mode client \\\n",
    "--name LeiPageRankToy \\\n",
    "--py-files PageRank.py \\\n",
    "--executor-memory '4600m' \\\n",
    "--executor-cores 2 \\\n",
    "--driver-memory '4600m' \\\n",
    "--num-executors 11 \\\n",
    "PageRankDriver.py > wiki_10_log"
   ]
  },
  {
   "cell_type": "markdown",
   "metadata": {
    "collapsed": true
   },
   "source": [
    "###10 Iterations [log](https://raw.githubusercontent.com/leiyang-mids/MIDS/master/W261/HW13-Questions/spark_log_10_iterations)\n",
    "- execution time: 29.62 minutes"
   ]
  },
  {
   "cell_type": "code",
   "execution_count": 1,
   "metadata": {
    "collapsed": false
   },
   "outputs": [
    {
     "name": "stdout",
     "output_type": "stream",
     "text": [
      "2016-04-22 21:47:50.407410: start PageRank initialization ...\r\n",
      "2016-04-22 21:51:14.131401: initialization completed, dangling node(s): 9410987, total nodes: 15192277\r\n",
      "2016-04-22 21:51:14.131474: running iteration 2 ...\r\n",
      "2016-04-22 21:54:16.556416: redistributing loss mass: 7608969.0130\r\n",
      "2016-04-22 21:54:16.564424: running iteration 3 ...\r\n",
      "2016-04-22 21:57:10.348773: redistributing loss mass: 7103036.3037\r\n",
      "2016-04-22 21:57:10.356219: running iteration 4 ...\r\n",
      "2016-04-22 21:59:57.663450: redistributing loss mass: 6940792.1449\r\n",
      "2016-04-22 21:59:57.720320: running iteration 5 ...\r\n",
      "2016-04-22 22:02:49.159656: redistributing loss mass: 6884560.5231\r\n",
      "2016-04-22 22:02:49.166445: running iteration 6 ...\r\n",
      "2016-04-22 22:05:39.179975: redistributing loss mass: 6863177.9617\r\n",
      "2016-04-22 22:05:39.186458: running iteration 7 ...\r\n",
      "2016-04-22 22:08:22.604490: redistributing loss mass: 6854533.8830\r\n",
      "2016-04-22 22:08:22.610610: running iteration 8 ...\r\n",
      "2016-04-22 22:11:08.030830: redistributing loss mass: 6850834.1086\r\n",
      "2016-04-22 22:11:08.037460: running iteration 9 ...\r\n",
      "2016-04-22 22:13:54.898048: redistributing loss mass: 6849174.4055\r\n",
      "2016-04-22 22:13:54.904239: running iteration 10 ...\r\n",
      "2016-04-22 22:16:43.731913: redistributing loss mass: 6848394.4811\r\n",
      "2016-04-22 22:17:27.460246: normalized weight of the graph: 1.0000\r\n",
      "2016-04-22 22:17:27.460319: PageRanking completed in 29.62 minutes.\r\n",
      "2016-04-22 22:22:26.496599: results saved, job completed!\r\n"
     ]
    }
   ],
   "source": [
    "!cat pageRank_time_10_iterations"
   ]
  },
  {
   "cell_type": "markdown",
   "metadata": {},
   "source": [
    "###50 Iterations [log](https://raw.githubusercontent.com/leiyang-mids/MIDS/master/W261/HW13-Questions/spark_log_50_iterations)\n",
    "- execution time: 141.40 minutes"
   ]
  },
  {
   "cell_type": "code",
   "execution_count": 2,
   "metadata": {
    "collapsed": false
   },
   "outputs": [
    {
     "name": "stdout",
     "output_type": "stream",
     "text": [
      "[hadoop@ip-172-31-9-186 lei]$ cat wiki_50_log\r\n",
      "2016-04-22 22:27:22.269262: start PageRank initialization ...\r\n",
      "2016-04-22 22:30:40.932047: initialization completed, dangling node(s): 9410987, total nodes: 15192277\r\n",
      "2016-04-22 22:30:40.932248: running iteration 2 ...\r\n",
      "2016-04-22 22:33:38.183716: redistributing loss mass: 7608969.0130\r\n",
      "2016-04-22 22:33:38.191269: running iteration 3 ...\r\n",
      "2016-04-22 22:36:25.688220: redistributing loss mass: 7103036.3037\r\n",
      "2016-04-22 22:36:25.695027: running iteration 4 ...\r\n",
      "2016-04-22 22:39:13.888332: redistributing loss mass: 6940792.1449\r\n",
      "2016-04-22 22:39:13.895518: running iteration 5 ...\r\n",
      "2016-04-22 22:42:05.660363: redistributing loss mass: 6884560.5231\r\n",
      "2016-04-22 22:42:05.667313: running iteration 6 ...\r\n",
      "2016-04-22 22:44:48.044150: redistributing loss mass: 6863177.9617\r\n",
      "2016-04-22 22:44:48.050751: running iteration 7 ...\r\n",
      "2016-04-22 22:47:42.365782: redistributing loss mass: 6854533.8830\r\n",
      "2016-04-22 22:47:42.372406: running iteration 8 ...\r\n",
      "2016-04-22 22:50:25.247508: redistributing loss mass: 6850834.1086\r\n",
      "2016-04-22 22:50:25.255316: running iteration 9 ...\r\n",
      "2016-04-22 22:53:09.848617: redistributing loss mass: 6849174.4055\r\n",
      "2016-04-22 22:53:09.854675: running iteration 10 ...\r\n",
      "2016-04-22 22:55:57.404165: redistributing loss mass: 6848394.4811\r\n",
      "2016-04-22 22:55:57.411764: running iteration 11 ...\r\n",
      "2016-04-22 22:58:41.922640: redistributing loss mass: 6848013.2672\r\n",
      "2016-04-22 22:58:41.928333: running iteration 12 ...\r\n",
      "2016-04-22 23:01:32.333966: redistributing loss mass: 6847819.5157\r\n",
      "2016-04-22 23:01:32.340206: running iteration 13 ...\r\n",
      "2016-04-22 23:04:18.220337: redistributing loss mass: 6847717.6750\r\n",
      "2016-04-22 23:04:18.226064: running iteration 14 ...\r\n",
      "2016-04-22 23:07:08.545158: redistributing loss mass: 6847662.3248\r\n",
      "2016-04-22 23:07:08.551160: running iteration 15 ...\r\n",
      "2016-04-22 23:09:57.948047: redistributing loss mass: 6847631.4424\r\n",
      "2016-04-22 23:09:57.953785: running iteration 16 ...\r\n",
      "2016-04-22 23:12:41.704867: redistributing loss mass: 6847613.7325\r\n",
      "2016-04-22 23:12:41.711388: running iteration 17 ...\r\n",
      "2016-04-22 23:15:23.701817: redistributing loss mass: 6847603.3743\r\n",
      "2016-04-22 23:15:23.707803: running iteration 18 ...\r\n",
      "2016-04-22 23:18:11.871462: redistributing loss mass: 6847597.1814\r\n",
      "2016-04-22 23:18:11.877195: running iteration 19 ...\r\n",
      "2016-04-22 23:20:58.774307: redistributing loss mass: 6847593.4216\r\n",
      "2016-04-22 23:20:58.781808: running iteration 20 ...\r\n",
      "2016-04-22 23:23:42.773786: redistributing loss mass: 6847591.0941\r\n",
      "2016-04-22 23:23:42.779676: running iteration 21 ...\r\n",
      "2016-04-22 23:26:31.514418: redistributing loss mass: 6847589.6330\r\n",
      "2016-04-22 23:26:31.520147: running iteration 22 ...\r\n",
      "2016-04-22 23:29:15.093137: redistributing loss mass: 6847588.6974\r\n",
      "2016-04-22 23:29:15.099334: running iteration 23 ...\r\n",
      "2016-04-22 23:32:04.386726: redistributing loss mass: 6847588.0890\r\n",
      "2016-04-22 23:32:04.394860: running iteration 24 ...\r\n",
      "2016-04-22 23:34:56.203852: redistributing loss mass: 6847587.6843\r\n",
      "2016-04-22 23:34:56.209404: running iteration 25 ...\r\n",
      "2016-04-22 23:37:45.932104: redistributing loss mass: 6847587.4101\r\n",
      "2016-04-22 23:37:45.937876: running iteration 26 ...\r\n",
      "2016-04-22 23:40:33.264800: redistributing loss mass: 6847587.2194\r\n",
      "2016-04-22 23:40:33.270828: running iteration 27 ...\r\n",
      "2016-04-22 23:43:20.503157: redistributing loss mass: 6847587.0841\r\n",
      "2016-04-22 23:43:20.508909: running iteration 28 ...\r\n",
      "2016-04-22 23:46:05.315308: redistributing loss mass: 6847586.9854\r\n",
      "2016-04-22 23:46:05.361283: running iteration 29 ...\r\n",
      "2016-04-22 23:48:51.634831: redistributing loss mass: 6847586.9119\r\n",
      "2016-04-22 23:48:51.641059: running iteration 30 ...\r\n",
      "2016-04-22 23:51:37.549179: redistributing loss mass: 6847586.8559\r\n",
      "2016-04-22 23:51:37.555017: running iteration 31 ...\r\n",
      "2016-04-22 23:54:25.350505: redistributing loss mass: 6847586.8124\r\n",
      "2016-04-22 23:54:25.356260: running iteration 32 ...\r\n",
      "2016-04-22 23:57:13.681911: redistributing loss mass: 6847586.7780\r\n",
      "2016-04-22 23:57:13.688034: running iteration 33 ...\r\n",
      "2016-04-23 00:00:00.771290: redistributing loss mass: 6847586.7505\r\n",
      "2016-04-23 00:00:00.777150: running iteration 34 ...\r\n",
      "2016-04-23 00:02:55.747675: redistributing loss mass: 6847586.7281\r\n",
      "2016-04-23 00:02:55.753448: running iteration 35 ...\r\n",
      "2016-04-23 00:05:50.139292: redistributing loss mass: 6847586.7098\r\n",
      "2016-04-23 00:05:50.145276: running iteration 36 ...\r\n",
      "2016-04-23 00:08:46.292962: redistributing loss mass: 6847586.6947\r\n",
      "2016-04-23 00:08:46.298539: running iteration 37 ...\r\n",
      "2016-04-23 00:11:32.824491: redistributing loss mass: 6847586.6821\r\n",
      "2016-04-23 00:11:32.830260: running iteration 38 ...\r\n",
      "2016-04-23 00:14:17.957812: redistributing loss mass: 6847586.6716\r\n",
      "2016-04-23 00:14:17.963311: running iteration 39 ...\r\n",
      "2016-04-23 00:17:15.913726: redistributing loss mass: 6847586.6628\r\n",
      "2016-04-23 00:17:15.919166: running iteration 40 ...\r\n",
      "2016-04-23 00:20:01.584078: redistributing loss mass: 6847586.6555\r\n",
      "2016-04-23 00:20:01.590802: running iteration 41 ...\r\n",
      "2016-04-23 00:22:51.051490: redistributing loss mass: 6847586.6493\r\n",
      "2016-04-23 00:22:51.057546: running iteration 42 ...\r\n",
      "2016-04-23 00:25:39.505687: redistributing loss mass: 6847586.6440\r\n",
      "2016-04-23 00:25:39.511355: running iteration 43 ...\r\n",
      "2016-04-23 00:28:27.865999: redistributing loss mass: 6847586.6396\r\n",
      "2016-04-23 00:28:27.871538: running iteration 44 ...\r\n",
      "2016-04-23 00:31:23.585961: redistributing loss mass: 6847586.6358\r\n",
      "2016-04-23 00:31:23.591691: running iteration 45 ...\r\n",
      "2016-04-23 00:34:09.044370: redistributing loss mass: 6847586.6327\r\n",
      "2016-04-23 00:34:09.049998: running iteration 46 ...\r\n",
      "2016-04-23 00:36:57.104713: redistributing loss mass: 6847586.6300\r\n",
      "2016-04-23 00:36:57.112818: running iteration 47 ...\r\n",
      "2016-04-23 00:39:42.006896: redistributing loss mass: 6847586.6277\r\n",
      "2016-04-23 00:39:42.012373: running iteration 48 ...\r\n",
      "2016-04-23 00:42:25.421774: redistributing loss mass: 6847586.6258\r\n",
      "2016-04-23 00:42:25.427903: running iteration 49 ...\r\n",
      "2016-04-23 00:45:16.739738: redistributing loss mass: 6847586.6242\r\n",
      "2016-04-23 00:45:16.745799: running iteration 50 ...\r\n",
      "2016-04-23 00:48:06.250673: redistributing loss mass: 6847586.6228\r\n",
      "2016-04-23 00:48:46.169341: normalized weight of the graph: 1.0000\r\n",
      "2016-04-23 00:48:46.169409: PageRanking completed in 141.40 minutes.\r\n",
      "2016-04-23 00:53:36.124725: results saved, job completed!\r\n"
     ]
    }
   ],
   "source": [
    "!cat pageRank_time_50_iterations"
   ]
  },
  {
   "cell_type": "markdown",
   "metadata": {},
   "source": [
    "###Top 100 nodes and rank\n",
    "- 98% pages are in the same order except two has swapped place, but the difference of ranking score is small\n",
    "- the procedure is actually converging pretty well after 10 iteratins, more iterations won not improve ranking much\n",
    "- and the plot below show ranking from both execution are very close"
   ]
  },
  {
   "cell_type": "markdown",
   "metadata": {},
   "source": [
    "**Order**|**Name**|**Rank (Iter=10)**|**Name**|**Rank (Iter=50)**|*Equal?*\n",
    ":---:|---|---:|---|---:|:---:\n",
    "1|United States|0.001461|United States|0.001462|Y\n",
    "2|Animal|0.000666|Animal|0.000666|Y\n",
    "3|France|0.000640|France|0.000640|Y\n",
    "4|Germany|0.000575|Germany|0.000575|Y\n",
    "5|Arthropod|0.000450|Arthropod|0.000450|Y\n",
    "6|Canada|0.000447|Canada|0.000447|Y\n",
    "7|Insect|0.000445|Insect|0.000445|Y\n",
    "8|List of sovereign states|0.000444|List of sovereign states|0.000444|Y\n",
    "9|United Kingdom|0.000433|United Kingdom|0.000433|Y\n",
    "10|India|0.000428|India|0.000428|Y\n",
    "11|England|0.000423|England|0.000423|Y\n",
    "12|Iran|0.000398|Iran|0.000398|Y\n",
    "13|World War II|0.000385|World War II|0.000385|Y\n",
    "14|Poland|0.000363|Poland|0.000363|Y\n",
    "15|village|0.000344|village|0.000344|Y\n",
    "16|Countries of the world|0.000338|Countries of the world|0.000338|Y\n",
    "17|Japan|0.000329|Japan|0.000329|Y\n",
    "18|Italy|0.000329|Italy|0.000329|Y\n",
    "19|List of countries|0.000326|List of countries|0.000326|Y\n",
    "20|Australia|0.000325|Australia|0.000325|Y\n",
    "21|Voivodeships of Poland|0.000313|Voivodeships of Poland|0.000313|Y\n",
    "22|National Register of Historic Places|0.000310|National Register of Historic Places|0.000310|Y\n",
    "23|Lepidoptera|0.000308|Lepidoptera|0.000308|Y\n",
    "24|Powiat|0.000304|Powiat|0.000303|Y\n",
    "25|Gmina|0.000298|Gmina|0.000298|Y\n",
    "26|The New York Times|0.000286|The New York Times|0.000286|Y\n",
    "27|London|0.000283|London|0.000284|Y\n",
    "28|English language|0.000269|English language|0.000269|Y\n",
    "29|China|0.000264|China|0.000264|Y\n",
    "30|Russia|0.000261|Russia|0.000261|Y\n",
    "31|New York City|0.000258|New York City|0.000258|Y\n",
    "32|Departments of France|0.000255|Departments of France|0.000255|Y\n",
    "33|Spain|0.000251|Spain|0.000251|Y\n",
    "34|Communes of France|0.000249|Communes of France|0.000249|Y\n",
    "35|moth|0.000245|moth|0.000245|Y\n",
    "36|Brazil|0.000245|Brazil|0.000245|Y\n",
    "37|Association football|0.000239|Association football|0.000239|Y\n",
    "38|association football|0.000233|association football|0.000233|Y\n",
    "39|California|0.000221|California|0.000221|Y\n",
    "40|Counties of Iran|0.000215|Counties of Iran|0.000215|Y\n",
    "41|Provinces of Iran|0.000215|Provinces of Iran|0.000215|Y\n",
    "42|Central European Time|0.000211|Central European Time|0.000211|Y\n",
    "43|Romania|0.000211|Romania|0.000211|Y\n",
    "44|Bakhsh|0.000207|Bakhsh|0.000207|Y\n",
    "45|Sweden|0.000203|Sweden|0.000203|Y\n",
    "46|Rural Districts of Iran|0.000203|Rural Districts of Iran|0.000203|Y\n",
    "47|Netherlands|0.000197|Netherlands|0.000197|Y\n",
    "48|Private Use Areas|0.000191|Private Use Areas|0.000191|Y\n",
    "49|World War I|0.000191|World War I|0.000191|Y\n",
    "50|Central European Summer Time|0.000188|New York|0.000188|**N**\n",
    "51|New York|0.000188|Central European Summer Time|0.000188|**N**\n",
    "52|Mexico|0.000187|Mexico|0.000187|Y\n",
    "53|Iran Standard Time|0.000187|Iran Standard Time|0.000187|Y\n",
    "54|AllMusic|0.000185|AllMusic|0.000185|Y\n",
    "55|Iran Daylight Time|0.000179|Iran Daylight Time|0.000179|Y\n",
    "56|Hangul|0.000178|Hangul|0.000178|Y\n",
    "57|Scotland|0.000173|Scotland|0.000173|Y\n",
    "58|gene|0.000170|gene|0.000169|Y\n",
    "59|Soviet Union|0.000168|Soviet Union|0.000168|Y\n",
    "60|Norway|0.000167|Norway|0.000167|Y\n",
    "61|Allmusic|0.000165|Allmusic|0.000165|Y\n",
    "62|Paris|0.000161|Paris|0.000161|Y\n",
    "63|New Zealand|0.000161|New Zealand|0.000161|Y\n",
    "64|Turkey|0.000159|Turkey|0.000159|Y\n",
    "65|Plant|0.000158|Plant|0.000158|Y\n",
    "66|Geographic Names Information System|0.000155|Geographic Names Information System|0.000155|Y\n",
    "67|Switzerland|0.000155|Switzerland|0.000155|Y\n",
    "68|Los Angeles|0.000153|Los Angeles|0.000153|Y\n",
    "69|Romanize|0.000149|Romanize|0.000149|Y\n",
    "70|United States Census Bureau|0.000148|United States Census Bureau|0.000148|Y\n",
    "71|Europe|0.000147|Europe|0.000147|Y\n",
    "72|Angiosperms|0.000142|Angiosperms|0.000142|Y\n",
    "73|South Africa|0.000141|South Africa|0.000141|Y\n",
    "74|census|0.000139|census|0.000139|Y\n",
    "75|Flowering plant|0.000138|Flowering plant|0.000138|Y\n",
    "76|Austria|0.000136|Austria|0.000136|Y\n",
    "77|protein|0.000135|protein|0.000135|Y\n",
    "78|U.S. state|0.000135|U.S. state|0.000135|Y\n",
    "79|Argentina|0.000131|Argentina|0.000131|Y\n",
    "80|Political divisions of the United States|0.000130|Political divisions of the United States|0.000130|Y\n",
    "81|population density|0.000130|population density|0.000130|Y\n",
    "82|Catholic Church|0.000128|Catholic Church|0.000128|Y\n",
    "83|Chordate|0.000128|Chordate|0.000128|Y\n",
    "84|BBC|0.000127|BBC|0.000127|Y\n",
    "85|Belgium|0.000127|Belgium|0.000127|Y\n",
    "86|Chicago|0.000124|Chicago|0.000124|Y\n",
    "87|Washington D.C.|0.000121|Washington D.C.|0.000121|Y\n",
    "88|Pakistan|0.000120|Pakistan|0.000120|Y\n",
    "89|Finland|0.000116|Finland|0.000116|Y\n",
    "90|The Guardian|0.000114|The Guardian|0.000115|Y\n",
    "91|Latin|0.000114|Latin|0.000114|Y\n",
    "92|Ontario|0.000114|Ontario|0.000114|Y\n",
    "93|Czech Republic|0.000114|Czech Republic|0.000114|Y\n",
    "94|Philippines|0.000113|Philippines|0.000113|Y\n",
    "95|Denmark|0.000113|Denmark|0.000113|Y\n",
    "96|Greece|0.000113|Greece|0.000113|Y\n",
    "97|genus|0.000113|genus|0.000113|Y\n",
    "98|football (soccer)|0.000112|football (soccer)|0.000112|Y\n",
    "99|Hungary|0.000112|Hungary|0.000112|Y\n",
    "100|Eastern European Time|0.000112|Eastern European Time|0.000112|Y"
   ]
  },
  {
   "cell_type": "code",
   "execution_count": 25,
   "metadata": {
    "collapsed": false
   },
   "outputs": [
    {
     "data": {
      "image/png": "[encoded data removed]",
      "text/plain": [
       "<matplotlib.figure.Figure at 0x10852e650>"
      ]
     },
     "metadata": {},
     "output_type": "display_data"
    }
   ],
   "source": [
    "%matplotlib inline\n",
    "import matplotlib.pyplot as plt\n",
    "\n",
    "with open('PlotPageRank0', 'r') as f:\n",
    "    header = f.readline()\n",
    "    ranks = [map(float, l.strip().split('\\t')) for l in f.readlines()]\n",
    "\n",
    "plt.figure(figsize=(12,7))\n",
    "p = plt.plot(ranks)\n",
    "\n",
    "plt.legend(['10 Iterations', '50 Iterations'])\n",
    "plt.xlabel('Top 100 Nodes')\n",
    "plt.ylabel('PageRank')\n",
    "plt.title('Homebrew PageRank Results')\n",
    "plt.show()"
   ]
  },
  {
   "cell_type": "markdown",
   "metadata": {},
   "source": [
    "###HW 13.3: Spark GraphX versus your implementation of PageRank\n",
    "\n",
    "Run the Spark  GraphX PageRank implementation on the Wikipedia dataset for 10 iterations,\n",
    "and display the top 100 ranked nodes (with alpha = 0.85).\n",
    "\n",
    "Run your PageRank implementation on the Wikipedia dataset for 50 iterations,\n",
    "and display the top 100 ranked nodes (with teleportation factor of 0.15). \n",
    "Have the top 100 ranked pages changed? Comment on your findings. Plot both 100 curves.\n",
    "\n",
    "Report the AWS cluster configuration that you used and how long in minutes and seconds it takes to complete this job.\n",
    "\n",
    "Put the runtime results of HW13.2 and HW13.3 in a tabular format (with rows corresponding to implemention and columns corresponding to experiment setup (10 iterations, 50 iterations)). Discuss the run times and explaing the differences. \n",
    "\n",
    "Plot the pagerank values for the top 100 pages resulting from the 50 iterations run (using GraphX). Then plot the pagerank values for the same 100 pages that resulted from the 50 iterations run of your homegrown pagerank implemnentation.  Comment on your findings.  Have the top 100 ranked pages changed? Have the pagerank values changed? Explain.\n",
    "\n",
    "\n",
    "### Scala code"
   ]
  },
  {
   "cell_type": "code",
   "execution_count": null,
   "metadata": {
    "collapsed": false,
    "scrolled": false
   },
   "outputs": [],
   "source": [
    "import org.apache.spark.SparkContext\n",
    "import org.apache.spark.SparkContext._\n",
    "import org.apache.spark.SparkConf\n",
    "import org.apache.spark.graphx._\n",
    "import org.apache.spark.graphx.lib._\n",
    "\n",
    "\n",
    "object WikiPageRank {\n",
    "    \n",
    "  def main(args: Array[String]) {\n",
    "    val t0 = System.nanoTime()        \n",
    "    val conf = new SparkConf().setAppName(\"WikiPageRank\")\n",
    "    val sc = new SparkContext(conf)\n",
    "    var nIter = args(0).toInt\n",
    "\n",
    "    // Create an RDD for the edges and vertices    \n",
    "    val links = sc.textFile(\"hdfs:///user/leiyang/all-pages-indexed-out.txt\", 80).flatMap(getLinks);\n",
    "    val pages = sc.textFile(\"hdfs:///user/leiyang/indices.txt\", 16).map(getPages);\n",
    "\n",
    "    // Build the initial Graph\n",
    "    val graph = Graph(pages, links);\n",
    "    // Run pageRank\n",
    "    val rank = PageRank.run(graph, numIter=nIter).vertices.cache()\n",
    "    // Normalize the rank score\n",
    "    val total = rank.map(l=>l._2).sum()\n",
    "    val tops = rank.sortBy(l=>l._2, ascending=false).take(200).map(l => (l._1, l._2/total))\n",
    "    val ret = sc.parallelize(tops).join(pages).map(l => (l._2._2._1, l._2._1)).sortBy(l=>l._2, ascending=false).take(200)\n",
    "    val elapse = (System.nanoTime()-t0)/1000000000.0/60.0\n",
    "    // Show results\n",
    "    println(\"PageRanking finishes in \" + elapse + \" minutes!\")\n",
    "    println(ret.mkString(\"\\n\"))\n",
    "  }\n",
    "\n",
    "  def getLinks(line: String): Array[Edge[String]] = {\n",
    "      val elem = line.split(\"\\t\", 2)\n",
    "      for {n <-  elem(1).stripPrefix(\"{\").split(\",\")\n",
    "          // get Edge between id\n",
    "      }yield Edge(elem(0).toLong, n.split(\":\")(0).trim().stripPrefix(\"'\").stripSuffix(\"'\").toLong, \"\")\n",
    "  }\n",
    "\n",
    "  def getPages(line: String): (VertexId, (String, String)) = {\n",
    "      val elem = line.split(\"\\t\")\n",
    "      return (elem(1).toLong, (elem(0), \"\"))\n",
    "  }\n",
    "}\n"
   ]
  },
  {
   "cell_type": "markdown",
   "metadata": {},
   "source": [
    "### Submit Job to Spark - 1 m1.xlarge master node + 9 m1.xlarge task nodes\n",
    "- package job to build jar with sbt\n",
    "- [10 iteration log](https://raw.githubusercontent.com/leiyang-mids/MIDS/master/W261/HW13-Questions/spark_log_10_iterations_graphX)\n",
    "- [50 iteration log](https://raw.githubusercontent.com/leiyang-mids/MIDS/master/W261/HW13-Questions/spark_log_50_iterations_graphX)"
   ]
  },
  {
   "cell_type": "code",
   "execution_count": 3,
   "metadata": {
    "collapsed": false,
    "scrolled": true
   },
   "outputs": [],
   "source": [
    "# 10 iterations\n",
    "/usr/bin/spark-submit \\\n",
    "--master yarn \\\n",
    "--deploy-mode client \\\n",
    "--class WikiPageRank \\\n",
    "--name \"WikiPageRank\" \\\n",
    "--executor-memory '4600m' \\\n",
    "--num-executors 11 \\\n",
    "--driver-memory '4600m' \\\n",
    "target/scala-2.10/pagerank-project_2.10-1.0.jar \\\n",
    "10 > wiki_10_log_GraphX\n",
    "\n",
    "# 50 iterations\n",
    "/usr/bin/spark-submit \\\n",
    "--master yarn \\\n",
    "--deploy-mode client \\\n",
    "--class WikiPageRank \\\n",
    "--name \"WikiPageRank\" \\\n",
    "--executor-memory '4600m' \\\n",
    "--num-executors 11 \\\n",
    "--driver-memory '4600m' \\\n",
    "target/scala-2.10/pagerank-project_2.10-1.0.jar \\\n",
    "50 > wiki_50_log_GraphX"
   ]
  },
  {
   "cell_type": "markdown",
   "metadata": {},
   "source": [
    "###Results\n",
    "\n",
    "- **E10?** indicates if the name is the same between homebrew code and GraphX after _10_ iteration\n",
    "- **E50?** indicates if the name is the same between homebrew code and GraphX after _50_ iteration\n",
    "- **Equal?** indicate if the name is the same between _10_ and _50_ iterations of GraphX results"
   ]
  },
  {
   "cell_type": "markdown",
   "metadata": {},
   "source": [
    "**Order**|**Name**|**Rank (Iter=10)**|**E10?**||**Name**|**Rank (Iter=50)**|**E50?**||*Equal?*\n",
    ":---:|---|---:|:---:||---|---:|:---:||:---:\n",
    "1|United States|0.001456|Y||United States|0.001462|Y||Y\n",
    "2|Animal|0.000669|Y||Animal|0.000666|Y||Y\n",
    "3|France|0.000638|Y||France|0.000640|Y||Y\n",
    "4|Germany|0.000573|Y||Germany|0.000575|Y||Y\n",
    "5|Arthropod|0.000452|Y||Arthropod|0.000450|Y||Y\n",
    "6|Insect|0.000447|**N**||Canada|0.000447|Y||**N**\n",
    "7|Canada|0.000445|**N**||Insect|0.000445|Y||**N**\n",
    "8|List of sovereign states|0.000444|Y||List of sovereign states|0.000444|Y||Y\n",
    "9|United Kingdom|0.000430|Y||United Kingdom|0.000433|Y||Y\n",
    "10|India|0.000427|Y||India|0.000428|Y||Y\n",
    "11|England|0.000422|Y||England|0.000423|Y||Y\n",
    "12|Iran|0.000399|Y||Iran|0.000398|Y||Y\n",
    "13|World War II|0.000383|Y||World War II|0.000385|Y||Y\n",
    "14|Poland|0.000362|Y||Poland|0.000363|Y||Y\n",
    "15|village|0.000345|Y||village|0.000344|Y||Y\n",
    "16|Countries of the world|0.000339|Y||Countries of the world|0.000338|Y||Y\n",
    "17|Japan|0.000329|Y||Japan|0.000329|Y||Y\n",
    "18|Italy|0.000328|Y||Italy|0.000329|Y||Y\n",
    "19|List of countries|0.000327|Y||List of countries|0.000326|Y||Y\n",
    "20|Australia|0.000324|Y||Australia|0.000325|Y||Y\n",
    "21|Voivodeships of Poland|0.000314|Y||Voivodeships of Poland|0.000313|Y||Y\n",
    "22|National Register of Historic Places|0.000310|Y||National Register of Historic Places|0.000310|Y||Y\n",
    "23|Lepidoptera|0.000309|Y||Lepidoptera|0.000308|Y||Y\n",
    "24|Powiat|0.000304|Y||Powiat|0.000303|Y||Y\n",
    "25|Gmina|0.000298|Y||Gmina|0.000298|Y||Y\n",
    "26|The New York Times|0.000282|Y||The New York Times|0.000286|Y||Y\n",
    "27|London|0.000282|Y||London|0.000284|Y||Y\n",
    "28|English language|0.000267|Y||English language|0.000269|Y||Y\n",
    "29|China|0.000263|Y||China|0.000264|Y||Y\n",
    "30|Russia|0.000260|Y||Russia|0.000261|Y||Y\n",
    "31|New York City|0.000255|Y||New York City|0.000258|Y||Y\n",
    "32|Departments of France|0.000255|Y||Departments of France|0.000255|Y||Y\n",
    "33|Spain|0.000250|Y||Spain|0.000251|Y||Y\n",
    "34|Communes of France|0.000249|Y||Communes of France|0.000249|Y||Y\n",
    "35|moth|0.000247|Y||moth|0.000245|Y||Y\n",
    "36|Brazil|0.000245|Y||Brazil|0.000245|Y||Y\n",
    "37|Association football|0.000238|Y||Association football|0.000239|Y||Y\n",
    "38|association football|0.000233|Y||association football|0.000233|Y||Y\n",
    "39|California|0.000220|Y||California|0.000221|Y||Y\n",
    "40|Counties of Iran|0.000216|Y||Counties of Iran|0.000215|Y||Y\n",
    "41|Provinces of Iran|0.000216|Y||Provinces of Iran|0.000215|Y||Y\n",
    "42|Romania|0.000211|**N**||Central European Time|0.000211|Y||**N**\n",
    "43|Central European Time|0.000211|**N**||Romania|0.000211|Y||**N**\n",
    "44|Bakhsh|0.000208|Y||Bakhsh|0.000207|Y||Y\n",
    "45|Rural Districts of Iran|0.000204|**N**||Sweden|0.000203|Y||**N**\n",
    "46|Sweden|0.000203|**N**||Rural Districts of Iran|0.000203|Y||**N**\n",
    "47|Netherlands|0.000196|Y||Netherlands|0.000197|Y||Y\n",
    "48|Private Use Areas|0.000192|Y||Private Use Areas|0.000191|Y||Y\n",
    "49|World War I|0.000189|Y||World War I|0.000191|Y||Y\n",
    "50|Central European Summer Time|0.000188|Y||New York|0.000188|Y||**N**\n",
    "51|Iran Standard Time|0.000188|**N**||Central European Summer Time|0.000188|Y||**N**\n",
    "52|New York|0.000187|**N**||Mexico|0.000187|Y||**N**\n",
    "53|Mexico|0.000187|**N**||Iran Standard Time|0.000187|Y||**N**\n",
    "54|AllMusic|0.000185|Y||AllMusic|0.000185|Y||Y\n",
    "55|Iran Daylight Time|0.000180|Y||Iran Daylight Time|0.000179|Y||Y\n",
    "56|Hangul|0.000179|Y||Hangul|0.000178|Y||Y\n",
    "57|Scotland|0.000172|Y||Scotland|0.000173|Y||Y\n",
    "58|gene|0.000170|Y||gene|0.000169|Y||Y\n",
    "59|Norway|0.000167|**N**||Soviet Union|0.000168|Y||**N**\n",
    "60|Soviet Union|0.000166|**N**||Norway|0.000167|Y||**N**\n",
    "61|Allmusic|0.000166|Y||Allmusic|0.000165|Y||Y\n",
    "62|New Zealand|0.000160|**N**||Paris|0.000161|Y||**N**\n",
    "63|Paris|0.000160|**N**||New Zealand|0.000161|Y||**N**\n",
    "64|Turkey|0.000159|Y||Turkey|0.000159|Y||Y\n",
    "65|Plant|0.000158|Y||Plant|0.000158|Y||Y\n",
    "66|Geographic Names Information System|0.000155|Y||Geographic Names Information System|0.000155|Y||Y\n",
    "67|Switzerland|0.000154|Y||Switzerland|0.000155|Y||Y\n",
    "68|Los Angeles|0.000152|Y||Los Angeles|0.000153|Y||Y\n",
    "69|Romanize|0.000150|Y||Romanize|0.000149|Y||Y\n",
    "70|United States Census Bureau|0.000147|Y||United States Census Bureau|0.000148|Y||Y\n",
    "71|Europe|0.000146|Y||Europe|0.000147|Y||Y\n",
    "72|Angiosperms|0.000142|Y||Angiosperms|0.000142|Y||Y\n",
    "73|South Africa|0.000141|Y||South Africa|0.000141|Y||Y\n",
    "74|census|0.000139|Y||census|0.000139|Y||Y\n",
    "75|Flowering plant|0.000138|Y||Flowering plant|0.000138|Y||Y\n",
    "76|Austria|0.000136|Y||Austria|0.000136|Y||Y\n",
    "77|protein|0.000136|Y||protein|0.000135|Y||Y\n",
    "78|U.S. state|0.000134|Y||U.S. state|0.000135|Y||Y\n",
    "79|Argentina|0.000130|Y||Argentina|0.000131|Y||Y\n",
    "80|Political divisions of the United States|0.000130|Y||Political divisions of the United States|0.000130|Y||Y\n",
    "81|population density|0.000130|Y||population density|0.000130|Y||Y\n",
    "82|Chordate|0.000129|**N**||Catholic Church|0.000128|Y||**N**\n",
    "83|Catholic Church|0.000127|**N**||Chordate|0.000128|Y||**N**\n",
    "84|Belgium|0.000126|**N**||BBC|0.000127|Y||**N**\n",
    "85|BBC|0.000126|**N**||Belgium|0.000127|Y||**N**\n",
    "86|Chicago|0.000123|Y||Chicago|0.000124|Y||Y\n",
    "87|Pakistan|0.000120|**N**||Washington D.C.|0.000121|Y||**N**\n",
    "88|Washington D.C.|0.000119|**N**||Pakistan|0.000120|Y||**N**\n",
    "89|Finland|0.000115|Y||Finland|0.000116|Y||Y\n",
    "90|Ontario|0.000114|**N**||The Guardian|0.000115|Y||**N**\n",
    "91|genus|0.000113|**N**||Latin|0.000114|Y||**N**\n",
    "92|Czech Republic|0.000113|**N**||Ontario|0.000114|Y||**N**\n",
    "93|The Guardian|0.000113|**N**||Czech Republic|0.000114|Y||**N**\n",
    "94|Latin|0.000113|**N**||Philippines|0.000113|Y||**N**\n",
    "95|Philippines|0.000113|**N**||Denmark|0.000113|Y||**N**\n",
    "96|Denmark|0.000113|**N**||Greece|0.000113|Y||**N**\n",
    "97|Greece|0.000113|**N**||genus|0.000113|Y||**N**\n",
    "98|Eastern European Time|0.000112|**N**||football (soccer)|0.000112|Y||**N**\n",
    "99|football (soccer)|0.000112|**N**||Hungary|0.000112|Y||**N**\n",
    "100|species|0.000112|**N**||Eastern European Time|0.000112|Y||**N**"
   ]
  },
  {
   "cell_type": "markdown",
   "metadata": {},
   "source": [
    "###Execution Time and Discussion\n",
    "- the homebrew code is able to execute on m1.large instance smoothly, however GraphX constantly running out of memory with m1.large, so we have to beef up the hardware to m1.xlarge\n",
    "- execution time in minutes:\n",
    "\n",
    "Iterations|GraphX|Homebrew|X\n",
    ":---:|---:|--:|:---:\n",
    "10|6.76|29.62|4.4\n",
    "50|24.35|141.40|5.8\n",
    "\n",
    "- results of 10 iterations between homebrew code and GraphX have some discrepancies, but they are mainly between neighbor pages, in addition the difference between the page ranking score is small\n",
    "- results (order) of 50 iteratios between homebrew code and GraphX are identical. Since our homebrew code has reached this order with just 10 iterations, the convergence is quite satisfying. Given that it's running on an inferior EC2 tier, the homebrew code performance is not too shabby.\n",
    "- Finally, let's plot the ranking value for the top 100 pages:\n"
   ]
  },
  {
   "cell_type": "code",
   "execution_count": 24,
   "metadata": {
    "collapsed": false
   },
   "outputs": [
    {
     "data": {
      "image/png": "[encoded data removed]",
      "text/plain": [
       "<matplotlib.figure.Figure at 0x10830f8d0>"
      ]
     },
     "metadata": {},
     "output_type": "display_data"
    }
   ],
   "source": [
    "%matplotlib inline\n",
    "import matplotlib.pyplot as plt\n",
    "\n",
    "with open('PlotPageRank', 'r') as f:\n",
    "    header = f.readline()\n",
    "    ranks = [map(float, l.strip().split('\\t')) for l in f.readlines()]\n",
    "\n",
    "plt.figure(figsize=(12,7))\n",
    "p = plt.plot(ranks)\n",
    "\n",
    "plt.legend(['Homebrew', 'GraphX'])\n",
    "plt.xlabel('Top 100 Nodes')\n",
    "plt.ylabel('PageRank')\n",
    "plt.title('Homebrew vs. GraphX PageRank Results')\n",
    "plt.show()"
   ]
  },
  {
   "cell_type": "markdown",
   "metadata": {},
   "source": [
    "###HW 13.4: Criteo Phase 2 baseline\n",
    "\n",
    "\n",
    "SPECIAL NOTE:\n",
    "Please share your findings as they become available with class via the Google Group. You will get brownie points for this.  Once results are shared please use them and build on them.\n",
    "\n",
    "The Criteo data for this challenge is located in the following S3/Dropbox buckets:\n",
    "\n",
    "- On Dropbox see:     https://www.dropbox.com/sh/dnevke9vsk6yj3p/AABoP-Kv2SRxuK8j3TtJsSv5a?dl=0\n",
    "\n",
    "- Raw Data:  (Training, Validation and Test data)\n",
    "https://console.aws.amazon.com/s3/home?region=us-west-1#&bucket=criteo-dataset&prefix=rawdata/\n",
    "\n",
    "- Hashed Data: Training, Validation and Test data in hash encoded (10,000 buckets) and sparse representation\n",
    "https://console.aws.amazon.com/s3/home?region=us-west-1#&bucket=criteo-dataset&prefix=processeddata/\n",
    "- source: https://s3-eu-west-1.amazonaws.com/criteo-labs/dac.tar.gz\n",
    "\n",
    "\n",
    "Using the training dataset, validation dataset and testing dataset in the Criteo bucket perform the following experiment:\n",
    "\n",
    "- write spark code (borrow from Phase 1 of this project) to train a logistic regression model with the following hyperparamters:\n",
    "\n",
    " - Number of buckets for hashing: 1,000\n",
    " - Logistic Regression: no regularization term\n",
    " - Logistic Regression: step size = 10\n",
    "\n",
    "- Report the AWS cluster configuration that you used and how long in minutes and seconds it takes to complete this job.\n",
    "\n",
    "- Report in tabular form the [AUC](https://en.wikipedia.org/wiki/Receiver_operating_characteristic) value for the Training, Validation, and Testing datasets.\n",
    "- Report in tabular form  the logLossTest for the Training, Validation, and Testing datasets.\n",
    "\n",
    "- Don't forget to put a caption on your tables (above each table).\n",
    "\n",
    "###Supporting Functions"
   ]
  },
  {
   "cell_type": "code",
   "execution_count": 2,
   "metadata": {
    "collapsed": false
   },
   "outputs": [
    {
     "name": "stdout",
     "output_type": "stream",
     "text": [
      "Overwriting CriteoHelper2.py\n"
     ]
    }
   ],
   "source": [
    "%%writefile CriteoHelper2.py\n",
    "\n",
    "from pyspark.mllib.classification import LogisticRegressionWithSGD\n",
    "from pyspark.mllib.regression import LabeledPoint\n",
    "from pyspark.mllib.linalg import SparseVector \n",
    "from collections import defaultdict\n",
    "from datetime import datetime\n",
    "from sklearn import metrics\n",
    "from math import log, exp\n",
    "import numpy as np\n",
    "import hashlib\n",
    "\n",
    "# hash function\n",
    "def hashFunction(numBuckets, rawFeats, printMapping=False):\n",
    "    \"\"\"Calculate a feature dictionary for an observation's features based on hashing.\n",
    "\n",
    "    Note:\n",
    "        Use printMapping=True for debug purposes and to better understand how the hashing works.\n",
    "\n",
    "    Args:\n",
    "        numBuckets (int): Number of buckets to use as features.\n",
    "        rawFeats (list of (int, str)): A list of features for an observation.  Represented as\n",
    "            (featureID, value) tuples.\n",
    "        printMapping (bool, optional): If true, the mappings of featureString to index will be\n",
    "            printed.\n",
    "\n",
    "    Returns:\n",
    "        dict of int to float:  The keys will be integers which represent the buckets that the\n",
    "            features have been hashed to.  The value for a given key will contain the count of the\n",
    "            (featureID, value) tuples that have hashed to that key.\n",
    "    \"\"\"\n",
    "    mapping = {}\n",
    "    for ind, category in rawFeats:\n",
    "        featureString = category + str(ind)\n",
    "        mapping[featureString] = int(int(hashlib.md5(featureString).hexdigest(), 16) % numBuckets)\n",
    "    if(printMapping): print mapping\n",
    "    sparseFeatures = defaultdict(float)\n",
    "    for bucket in mapping.values():\n",
    "        sparseFeatures[bucket] += 1.0\n",
    "    return dict(sparseFeatures)\n",
    "\n",
    "# feature hash\n",
    "def parseHashPoint(point, numBuckets):\n",
    "    \"\"\"Create a LabeledPoint for this observation using hashing.\n",
    "\n",
    "    Args:\n",
    "        point (str): A comma separated string where the first value is the label and the rest are\n",
    "            features.\n",
    "        numBuckets: The number of buckets to hash to.\n",
    "\n",
    "    Returns:\n",
    "        LabeledPoint: A LabeledPoint with a label (0.0 or 1.0) and a SparseVector of hashed\n",
    "            features.\n",
    "    \"\"\"    \n",
    "    elem = point.strip().split(',')    \n",
    "    rawFea = [(i, elem[i+1]) for i in range(len(elem) - 1)]\n",
    "    index = np.sort(hashFunction(numBuckets, rawFea, False).keys())    \n",
    "    return LabeledPoint(elem[0], SparseVector(numBuckets, index, [1]*len(index)))   \n",
    "\n",
    "# Logistic Regression Modeling & Evaluation\n",
    "def getP(x, w, intercept):\n",
    "    \"\"\"Calculate the probability for an observation given a set of weights and intercept.\n",
    "\n",
    "    Note:\n",
    "        We'll bound our raw prediction between 20 and -20 for numerical purposes.\n",
    "\n",
    "    Args:\n",
    "        x (SparseVector): A vector with values of 1.0 for features that exist in this\n",
    "            observation and 0.0 otherwise.\n",
    "        w (DenseVector): A vector of weights (betas) for the model.\n",
    "        intercept (float): The model's intercept.\n",
    "\n",
    "    Returns:\n",
    "        float: A probability between 0 and 1.\n",
    "    \"\"\"\n",
    "    rawPrediction = x.dot(w) + intercept\n",
    "    # Bound the raw prediction value\n",
    "    rawPrediction = min(rawPrediction, 20)\n",
    "    rawPrediction = max(rawPrediction, -20)\n",
    "    return 1/(1+exp(-rawPrediction))\n",
    "\n",
    "\n",
    "def computeLogLoss(p, y):\n",
    "    \"\"\"Calculates the value of log loss for a given probabilty and label.\n",
    "\n",
    "    Note:\n",
    "        log(0) is undefined, so when p is 0 we need to add a small value (epsilon) to it\n",
    "        and when p is 1 we need to subtract a small value (epsilon) from it.\n",
    "\n",
    "    Args:\n",
    "        p (float): A probabilty between 0 and 1.\n",
    "        y (int): A label.  Takes on the values 0 and 1.\n",
    "\n",
    "    Returns:\n",
    "        float: The log loss value.\n",
    "    \"\"\"\n",
    "    epsilon = 10e-12    \n",
    "    return -log(p+epsilon) if y==1 else -log(1-p+epsilon)\n",
    "\n",
    "def evaluateResults(lrModel, data):\n",
    "    \"\"\"Calculates the log loss for the data given the model.\n",
    "\n",
    "    Args:\n",
    "        model (LogisticRegressionModel): A trained logistic regression model.\n",
    "        data (RDD of LabeledPoint): Labels and features for each observation.\n",
    "\n",
    "    Returns:\n",
    "        float: Log loss for the data.\n",
    "    \"\"\"    \n",
    "    return data.map(lambda p: computeLogLoss(getP(p.features, lrModel.weights, lrModel.intercept), p.label)).mean()\n",
    "\n",
    "# misc\n",
    "def logTime(): return str(datetime.now())\n",
    "def getFP(index): yield max(index)\n",
    "def getTP(label): yield sum(label)\n",
    "\n",
    "# calculate AUC score\n",
    "def getAUCfromRdd(rddData, lrModel):\n",
    "    labelsAndScores = rddData.map(lambda lp: (lp.label, getP(lp.features, lrModel.weights, lrModel.intercept)))\n",
    "    if labelsAndScores.getNumPartitions() < 100:   \n",
    "        labelAndIndex = labelsAndScores.repartition(100).sortBy(lambda (k,v): v, ascending=False).zipWithIndex()\n",
    "    else:\n",
    "        labelAndIndex = labelsAndScores.sortBy(lambda (k,v): v, ascending=False).zipWithIndex()\n",
    "    labelAndIndex.cache()\n",
    "\n",
    "    truePositives = np.cumsum(labelAndIndex.map(lambda l: l[0][0]).mapPartitions(getTP).collect())\n",
    "    falsePositives = labelAndIndex.map(lambda l: l[1]+1).mapPartitions(getFP).collect() - truePositives\n",
    "    numPositive = truePositives[-1]\n",
    "    length = labelAndIndex.count()\n",
    "\n",
    "    truePositiveRate = truePositives / numPositive\n",
    "    falsePositiveRate = falsePositives / (length - numPositive)\n",
    "    return metrics.auc(falsePositiveRate, truePositiveRate)\n",
    "\n",
    "def encodeData(sc, numBuckets):\n",
    "    rawTrainData = sc.textFile('s3://criteo-dataset/rawdata/train/part*', 180).map(lambda x: x.replace('\\t', ','))\n",
    "    rawValidationData = sc.textFile('s3://criteo-dataset/rawdata/validation/part*', 180).map(lambda x: x.replace('\\t', ','))\n",
    "    rawTestData = sc.textFile('s3://criteo-dataset/rawdata/test/part*', 180).map(lambda x: x.replace('\\t', ','))\n",
    "\n",
    "    # data encoding\n",
    "    hashTrainData = rawTrainData.map(lambda p: parseHashPoint(p, numBuckets))\n",
    "    hashTrainData.cache()\n",
    "    hashValidationData = rawValidationData.map(lambda p: parseHashPoint(p, numBuckets))\n",
    "    hashValidationData.cache()\n",
    "    hashTestData = rawTestData.map(lambda p: parseHashPoint(p, numBuckets))\n",
    "    hashTestData.cache()\n",
    "    \n",
    "    return hashTrainData, hashValidationData, hashTestData"
   ]
  },
  {
   "cell_type": "markdown",
   "metadata": {},
   "source": [
    "###Driver"
   ]
  },
  {
   "cell_type": "code",
   "execution_count": 27,
   "metadata": {
    "collapsed": false,
    "scrolled": false
   },
   "outputs": [
    {
     "name": "stdout",
     "output_type": "stream",
     "text": [
      "Overwriting Criteo_Driver_1.py\n"
     ]
    }
   ],
   "source": [
    "%%writefile Criteo_Driver_1.py\n",
    "\n",
    "from time import time, gmtime, strftime\n",
    "\n",
    "execfile('CriteoHelper2.py')\n",
    "\n",
    "# define parameters\n",
    "print '%s: start logistic regression job ...' %(logTime())\n",
    "numBucketsCTR = 5000\n",
    "lrStep = 10\n",
    "start = time()\n",
    "sc = SparkContext()\n",
    "\n",
    "# data preparaion\n",
    "print '%s: preparing data ...' %(logTime())\n",
    "dTrain, dValidation, dTest = encodeData(numBucketsCTR)\n",
    "\n",
    "# build model\n",
    "print '%s: building logistic regression model ...' %(logTime())\n",
    "model = LogisticRegressionWithSGD.train(dTrain, iterations=500, step=lrStep, regType=None, intercept=True)\n",
    "\n",
    "# get log loss\n",
    "print '%s: evaluating log loss ...' %(logTime())\n",
    "logLossVa = evaluateResults(model, dValidation)\n",
    "logLossTest = evaluateResults(model, dTest)\n",
    "logLossTrain = evaluateResults(model, dTrain)\n",
    "\n",
    "# get AUC\n",
    "print '%s: evaluating AUC ...' %(logTime())\n",
    "aucTrain = getAUCfromRdd(dTrain, model)\n",
    "aucVal = getAUCfromRdd(dValidation, model)\n",
    "aucTest = getAUCfromRdd(dTest, model)\n",
    "print '\\n%s: job completes in %.2f minutes!' %(logTime(), (time()-start)/60.0)\n",
    "\n",
    "# show results\n",
    "print '\\n\\t\\t log loss \\t\\t\\t AUC'\n",
    "print 'Training:\\t %.4f\\t\\t %.4f' %(logLossTrain, aucTrain)\n",
    "print 'Validation:\\t %.4f\\t\\t %.4f' %(logLossVa, aucVal)\n",
    "print 'Test:\\t %.4f\\t %.4f' %(logLossTest, aucTest)\n"
   ]
  },
  {
   "cell_type": "markdown",
   "metadata": {},
   "source": [
    "###Spark Job Results\n",
    "- cluster: 1 m1.large master node + 9 m1.large task nodes\n",
    "- execution time: 18.22 minutes\n",
    "- LogLoss and AUC:\n",
    "\n",
    "|Log Loss|AUC\n",
    ":---|---:|---:\n",
    "Training|0.5042|0.7266\n",
    "Validation|0.5045|0.7264\n",
    "Test|0.5044|0.7268"
   ]
  },
  {
   "cell_type": "code",
   "execution_count": 29,
   "metadata": {
    "collapsed": false
   },
   "outputs": [
    {
     "name": "stdout",
     "output_type": "stream",
     "text": [
      "2016-04-24 19:16:52.044625: start logistic regression job ...\r\n",
      "2016-04-24 19:17:28.296266: preparing data ...\r\n",
      "2016-04-24 19:17:29.625300: building logistic regression model ...\r\n",
      "2016-04-24 19:34:36.063671: evaluating log loss ...\r\n",
      "2016-04-24 19:41:06.268458: evaluating AUC ...\r\n",
      "\r\n",
      "2016-04-24 19:47:16.500257: job completes in 30.41 minutes!\r\n",
      "\r\n",
      "\t\t log loss \t\t\t AUC\r\n",
      "Training:\t 0.5042\t\t 0.7266\r\n",
      "Validation:\t 0.5045\t\t 0.7264\r\n",
      "Test:\t 0.5044\t 0.7268\r\n"
     ]
    }
   ],
   "source": [
    "/usr/bin/spark-submit \\\n",
    "--master yarn \\\n",
    "--deploy-mode client \\\n",
    "--name LeiCriteoJob \\\n",
    "--py-files CriteoHelper2.py \\\n",
    "--num-executors 21 \\\n",
    "--executor-memory '4600m' \\\n",
    "--executor-cores 2 \\\n",
    "--driver-memory '4600m' \\\n",
    "Criteo_Driver_1.py > Criteo_log1"
   ]
  },
  {
   "cell_type": "markdown",
   "metadata": {},
   "source": [
    "###HW 13.5: Criteo Phase 2 hyperparameter tuning \n",
    "SPECIAL NOTE:\n",
    "Please share your findings as they become available with class via the Google Group. You will get brownie points for this.  Once results are shared please used them and build on them.\n",
    "\n",
    "NOTE:  please do  HW 13.5 in groups of 3 \n",
    "\n",
    "Using the training dataset, validation dataset and testing dataset in the Criteo bucket perform the following experiments:\n",
    "\n",
    "- write spark code (borrow from Phase 1 of this project) to train a logistic regression model with various hyperparamters. Do a gridsearch of the hyperparameter space and determine optimal settings using the validation set.\n",
    " - Number of buckets for hashing: 1,000, 10,000, .... explore different values  here\n",
    " - Logistic Regression: regularization term: [1e-6, 1e-3]  explore other  values here also\n",
    " - Logistic Regression: step size: explore different step sizes. Focus on a stepsize of 1 initially. \n",
    "\n",
    "- Report the AWS cluster configuration that you used and how long in minutes and seconds it takes to complete this job.\n",
    "- Report in tabular form and using heatmaps the AUC values (https://en.wikipedia.org/wiki/Receiver_operating_characteristic) for the Training, Validation, and Testing datasets.\n",
    "- Report in tabular form and using heatmaps  the logLossTest for the Training, Validation, and Testing datasets.\n",
    "- Don't forget to put a caption on your tables (above the table) and on your heatmap figures (put caption below figures) detailing the experiment associated with each table or figure (data, algorithm used, parameters and settings explored.\n",
    "\n",
    "- Discuss the optimal setting to solve this problem  in terms of the following:\n",
    " - Features\n",
    " - Learning algortihm\n",
    " - Spark cluster\n",
    "\n",
    "Justiy your recommendations based on your experimental results and cross reference with table numbers and figure numbers. Also highlight key results with annotations, both textual and line and box based, on your tables and graphs.\n",
    "\n"
   ]
  },
  {
   "cell_type": "code",
   "execution_count": 6,
   "metadata": {
    "collapsed": false
   },
   "outputs": [
    {
     "name": "stdout",
     "output_type": "stream",
     "text": [
      "Overwriting Criteo_Driver_2.py\n"
     ]
    }
   ],
   "source": [
    "%%writefile Criteo_Driver_2.py\n",
    "\n",
    "from time import time, gmtime, strftime\n",
    "from subprocess import call\n",
    "from pyspark import SparkContext\n",
    "\n",
    "execfile('CriteoHelper2.py')\n",
    "\n",
    "# define parameter space\n",
    "print '%s: start logistic regression job ...' %(logTime())\n",
    "numBucketsCTR = [1000, 5000, 10000, 20000, 40000]\n",
    "lrStep = [20, 10, 5, 1]\n",
    "regParams = [1e-7, 1e-5, 1e-3, 1e-1]\n",
    "nSteps = len(numBucketsCTR)*len(lrStep)*len(regParams)\n",
    "print '%s: bucket sizes: %s' %(logTime(), str(numBucketsCTR))\n",
    "print '%s: LR steps: %s' %(logTime(), str(lrStep))\n",
    "print '%s: regularization: %s' %(logTime(), str(regParams))\n",
    "print '%s: total steps: %d' %(logTime(), nSteps)\n",
    "\n",
    "# initialize \n",
    "start = time()\n",
    "bestModel, bestLogLoss, bestAUC = None, 1e10, 0\n",
    "sc = SparkContext()\n",
    "\n",
    "iStep = 1\n",
    "# grid search\n",
    "for nBucket in numBucketsCTR:\n",
    "    # data preparaion    \n",
    "    dTrain, dValidation, dTest = encodeData(sc, nBucket)\n",
    "    for stp in lrStep:\n",
    "        for reg in regParams:\n",
    "            # build model\n",
    "            print '%s: step %d/%d starts with bucket-%d, step-%d, reg-%.9f, modeling ...' %(logTime(), iStep, nSteps,\n",
    "                                                                                            nBucket, stp, reg)\n",
    "            model = LogisticRegressionWithSGD.train(dTrain, iterations=500, step=stp, \n",
    "                                                    regParam=reg, regType='l2', intercept=True)\n",
    "            # get log loss\n",
    "            print '%s: evaluating log loss ...' %(logTime())\n",
    "            logLossVa = evaluateResults(model, dValidation)\n",
    "            # get AUC\n",
    "            print '%s: evaluating AUC ...' %(logTime())            \n",
    "            aucVal = getAUCfromRdd(dValidation, model)\n",
    "            # compare model\n",
    "            print '%s: step %d/%d completed, logLoss-%.4f, AUC-%.4f' %(logTime(), iStep, nSteps, logLossVa, aucVal)            \n",
    "            if logLossVa < bestLogLoss:\n",
    "                bestLogLoss, bestModel, bestAUC = logLossVa, model, aucVal                \n",
    "            # save all results to s3, in case job crashes - aws s3 cp toy_index.txt s3://w261.data/HW13/toy.txt\n",
    "            logName = 's3://w261.data/HW13/criteo_search_log_' + strftime(\"%d%b%Y_%H%M%S\", gmtime())\n",
    "            call(['aws', 's3', 'cp', '/home/hadoop/lei/criteo_search_log.txt', logName, '--region', 'us-west-2'])\n",
    "            iStep += 1\n",
    "\n",
    "# use best model to evaluate \n",
    "print '%s: grid search completed in %.2f minutes!' %(logTime(), (time()-start)/60.0)\n",
    "print '%s: our best model has log loss %.4f and AUC %.4f' %(logTime(), bestLogLoss, bestAUC)\n",
    "\n",
    "# show results\n",
    "print '%s: checking log loss for test data ...' %logTime()\n",
    "logLoss = evaluateResults(bestModel, dTest)\n",
    "print '%s: checking AUC for test data ...' %logTime()\n",
    "aucTest = getAUCfromRdd(dTest, bestModel)\n",
    "print '%s: our best model has log loss %.4f and AUC %.4f on test data.' %(logTime(), logLoss, aucTest)\n",
    "\n",
    "# save log to s3\n",
    "print '\\n%s: job completes in %.2f minutes!' %(logTime(), (time()-start)/60.0)\n",
    "logName = 's3://w261.data/HW13/criteo_search_log_' + strftime(\"%d%b%Y_%H%M%S\", gmtime())\n",
    "call(['aws', 's3', 'cp', '/home/hadoop/lei/criteo_search_log.txt', logName, '--region', 'us-west-2'])"
   ]
  },
  {
   "cell_type": "markdown",
   "metadata": {},
   "source": [
    "###Spark Job Results\n",
    "- cluster: 1 m3.xlarge master node + 10 m3.xlarge task nodes\n",
    "- [job log](https://raw.githubusercontent.com/leiyang-mids/MIDS/master/W261/HW13-Questions/Criteo_grid_search)\n",
    "- execution time: 300.52 minutes\n",
    "- best model obtained with 20,000 bucket, 20 steps, and 0.0000001 regularization\n",
    "- with best model: test data log loss: 0.4879, AUC: 0.7527"
   ]
  },
  {
   "cell_type": "code",
   "execution_count": null,
   "metadata": {
    "collapsed": true
   },
   "outputs": [],
   "source": [
    "# DO NOT change log file name at the end\n",
    "# m3.xlarge\n",
    "/usr/bin/spark-submit \\\n",
    "--master yarn \\\n",
    "--deploy-mode client \\\n",
    "--name LeiCriteoJob \\\n",
    "--py-files CriteoHelper2.py \\\n",
    "--num-executors 20 \\\n",
    "--executor-memory '10280m' \\\n",
    "--executor-cores 4 \\\n",
    "--driver-memory '10280m' \\\n",
    "Criteo_Driver_2.py > criteo_search_log.txt\n",
    "\n",
    "# r3.xlarge \n",
    "/usr/bin/spark-submit \\\n",
    "--master yarn \\\n",
    "--deploy-mode client \\\n",
    "--name LeiCriteoJob \\\n",
    "--py-files CriteoHelper2.py \\\n",
    "--num-executors 20 \\\n",
    "--executor-memory '20000m' \\\n",
    "--executor-cores 4 \\\n",
    "--driver-memory '20000m' \\\n",
    "Criteo_Driver_2.py > criteo_search_log.txt"
   ]
  },
  {
   "cell_type": "markdown",
   "metadata": {},
   "source": [
    "###Grid Search Summary\n",
    "\n",
    "Time|Bucket|Step|Reg|Log Loss|AUC\n",
    ":---|:---:|:---:|---:|---:|---:\n",
    "2016-04-25 03:16:01|1000|20|0.0000001|0.5031|0.7280\n",
    "2016-04-25 03:31:14|1000|20|0.00001|0.5031|0.7280\n",
    "2016-04-25 03:35:59|1000|20|0.001|0.5031|0.7280\n",
    "2016-04-25 03:40:49|1000|20|0.1|0.5364|0.6930\n",
    "2016-04-25 03:47:17|1000|10|0.0000001|0.5045|0.7260\n",
    "2016-04-25 03:50:54|1000|10|0.00001|0.5045|0.7260\n",
    "2016-04-25 03:54:28|1000|10|0.001|0.5051|0.7250\n",
    "2016-04-25 03:57:49|1000|10|0.1|0.5364|0.6930\n",
    "2016-04-25 04:00:29|1000|5|0.0000001|0.5070|0.7220\n",
    "2016-04-25 04:04:24|1000|5|0.00001|0.5070|0.7220\n",
    "2016-04-25 04:08:21|1000|5|0.001|0.5075|0.7210\n",
    "2016-04-25 04:12:12|1000|5|0.1|0.5363|0.6930\n",
    "2016-04-25 04:13:51|1000|1|0.0000001|0.5192|0.7040\n",
    "2016-04-25 04:17:51|1000|1|0.00001|0.5192|0.7040\n",
    "2016-04-25 04:21:52|1000|1|0.001|0.5194|0.7040\n",
    "2016-04-25 04:25:49|1000|1|0.1|0.5372|0.6900\n",
    "2016-04-25 22:18:46|5000|20|0.0000001|0.4913|0.7470\n",
    "2016-04-25 22:34:38|5000|20|0.00001|0.4914|0.7470\n",
    "2016-04-25 22:39:36|5000|20|0.001|0.4931|0.7440\n",
    "2016-04-25 22:44:14|5000|20|0.1|0.5353|0.6950\n",
    "2016-04-25 22:50:29|5000|10|0.0000001|0.4956|0.7400\n",
    "2016-04-25 22:55:23|5000|10|0.00001|0.4956|0.7400\n",
    "2016-04-25 23:00:17|5000|10|0.001|0.4972|0.7380\n",
    "2016-04-25 23:04:49|5000|10|0.1|0.5354|0.6950\n",
    "2016-04-25 23:07:32|5000|5|0.0000001|0.5006|0.7330\n",
    "2016-04-25 23:12:29|5000|5|0.00001|0.5006|0.7330\n",
    "2016-04-25 23:17:28|5000|5|0.001|0.5016|0.7320\n",
    "2016-04-25 23:22:07|5000|5|0.1|0.5353|0.6950\n",
    "2016-04-25 23:23:46|5000|1|0.0000001|0.5168|0.7080\n",
    "2016-04-25 23:28:26|5000|1|0.00001|0.5168|0.7080\n",
    "2016-04-25 23:32:55|5000|1|0.001|0.5170|0.7080\n",
    "2016-04-25 23:37:26|5000|1|0.1|0.5362|0.6920\n",
    "2016-04-25 23:40:34|10000|20|0.0000001|0.4889|0.7500\n",
    "2016-04-25 23:56:11|10000|20|0.00001|0.4889|0.7500\n",
    "2016-04-26 00:01:38|10000|20|0.001|0.4913|0.7470\n",
    "2016-04-26 00:06:38|10000|20|0.1|0.5351|0.6960\n",
    "2016-04-26 00:13:19|10000|10|0.0000001|0.4940|0.7430\n",
    "2016-04-26 00:18:42|10000|10|0.00001|0.4940|0.7430\n",
    "2016-04-26 00:24:11|10000|10|0.001|0.4958|0.7410\n",
    "2016-04-26 00:28:50|10000|10|0.1|0.5352|0.6960\n",
    "2016-04-26 03:41:33|10000|5|0.0000001|0.4995|0.7350\n",
    "2016-04-26 03:57:35|10000|5|0.00001|0.4995|0.7350\n",
    "2016-04-26 04:03:00|10000|5|0.001|0.5006|0.7330\n",
    "2016-04-26 04:08:07|10000|5|0.1|0.5351|0.6960\n",
    "2016-04-26 04:09:49|10000|1|0.0000001|0.5163|0.7090\n",
    "2016-04-26 04:14:38|10000|1|0.00001|0.5163|0.7090\n",
    "2016-04-26 04:19:32|10000|1|0.001|0.5166|0.7090\n",
    "2016-04-26 04:24:23|10000|1|0.1|0.5360|0.6930\n",
    "2016-04-26 02:00:30|20000|20|0.0000001|**0.4879**|**0.752**\n",
    "2016-04-26 02:17:10|20000|20|0.00001|0.4879|0.7520\n",
    "2016-04-26 02:23:14|20000|20|0.001|0.4906|0.7490\n",
    "2016-04-26 02:28:33|20000|20|0.1|0.5352|0.6960\n",
    "2016-04-26 02:35:39|20000|10|0.0000001|0.4934|0.7440\n",
    "2016-04-26 02:41:32|20000|10|0.00001|0.4934|0.7440\n",
    "2016-04-26 02:47:23|20000|10|0.001|0.4953|0.7420\n",
    "2016-04-26 02:52:34|20000|10|0.1|0.5352|0.6960\n",
    "2016-04-26 02:55:27|20000|5|0.0000001|0.4992|0.7350\n",
    "2016-04-26 03:01:13|20000|5|0.00001|0.4992|0.7350\n",
    "2016-04-26 03:06:59|20000|5|0.001|0.5003|0.7340\n",
    "2016-04-26 03:12:20|20000|5|0.1|0.5351|0.6960\n",
    "2016-04-26 03:14:03|20000|1|0.0000001|0.5163|0.7090\n",
    "2016-04-26 03:19:12|20000|1|0.00001|0.5163|0.7090\n",
    "2016-04-26 03:24:32|20000|1|0.001|0.5165|0.7090\n",
    "2016-04-26 03:29:37|20000|1|0.1|0.5361|0.6930\n",
    "\n",
    "###Discussion\n",
    "- we can see larger bucket size yields better results, this indicates that hashing with **small** bucket size will not provide optimal feature. The grid search should continue with bigger bucket size in order to obtain better results.\n",
    "- as bucket size increases, input dimension also increase, but due to sparcity, the training time of logistic regression doesn't change too much. \n",
    "- smaller regularization parameter also give better results, this indicates the convergence process is not so smooth, we need to take baby step in order to avoid slippery slope.\n",
    "- finally, larger step is better than smaller step, which gives better stochastic gradient descent performance.\n",
    "- below we show the heatmap of LogLoss for each bucket size:"
   ]
  },
  {
   "cell_type": "code",
   "execution_count": 5,
   "metadata": {
    "collapsed": false
   },
   "outputs": [],
   "source": [
    "from matplotlib.colors import LinearSegmentedColormap\n",
    "import matplotlib.pyplot as plt\n",
    "\n",
    "def preparePlot(xticks, yticks, figsize=(10.5, 6), hideLabels=False, gridColor='#999999',\n",
    "                gridWidth=1.0):\n",
    "    \"\"\"Template for generating the plot layout.\"\"\"\n",
    "    plt.close()\n",
    "    fig, ax = plt.subplots(figsize=figsize, facecolor='white', edgecolor='white')\n",
    "    ax.axes.tick_params(labelcolor='#999999', labelsize='10')\n",
    "    for axis, ticks in [(ax.get_xaxis(), xticks), (ax.get_yaxis(), yticks)]:\n",
    "        axis.set_ticks_position('none')\n",
    "        axis.set_ticks(ticks)\n",
    "        axis.label.set_color('#999999')\n",
    "        if hideLabels: axis.set_ticklabels([])\n",
    "    plt.grid(color=gridColor, linewidth=gridWidth, linestyle='-')\n",
    "    map(lambda position: ax.spines[position].set_visible(False), ['bottom', 'top', 'left', 'right'])\n",
    "    return fig, ax\n",
    "\n",
    "def showHeatMap(stepSizes, regParams, logLoss):\n",
    "    numRows, numCols = len(stepSizes), len(regParams)\n",
    "    logLoss = np.array(logLoss)\n",
    "    logLoss.shape = (numRows, numCols)\n",
    "\n",
    "    fig, ax = preparePlot(np.arange(0, numCols, 1), np.arange(0, numRows, 1), figsize=(8, 7),\n",
    "                      hideLabels=True, gridWidth=0.)\n",
    "    ax.set_xticklabels(regParams), ax.set_yticklabels(stepSizes)\n",
    "    ax.set_xlabel('Regularization Parameter'), ax.set_ylabel('Step Size')\n",
    "\n",
    "    colors = LinearSegmentedColormap.from_list('blue', ['#0022ff', '#000055'], gamma=.2)\n",
    "    image = plt.imshow(logLoss,interpolation='nearest', aspect='auto', cmap = colors)\n",
    "    #pass\n",
    "    plt.show()"
   ]
  },
  {
   "cell_type": "code",
   "execution_count": 8,
   "metadata": {
    "collapsed": false,
    "scrolled": false
   },
   "outputs": [
    {
     "name": "stdout",
     "output_type": "stream",
     "text": [
      "Log Loss, bucket size: 1000\n"
     ]
    },
    {
     "data": {
      "image/png": "[encoded data removed]",
      "text/plain": [
       "<matplotlib.figure.Figure at 0x1108e1b90>"
      ]
     },
     "metadata": {},
     "output_type": "display_data"
    },
    {
     "name": "stdout",
     "output_type": "stream",
     "text": [
      "AUC, bucket size: 1000\n"
     ]
    },
    {
     "data": {
      "image/png": "[encoded data removed]",
      "text/plain": [
       "<matplotlib.figure.Figure at 0x105fb2b90>"
      ]
     },
     "metadata": {},
     "output_type": "display_data"
    },
    {
     "name": "stdout",
     "output_type": "stream",
     "text": [
      "Log Loss, bucket size: 5000\n"
     ]
    },
    {
     "data": {
      "image/png": "[encoded data removed]",
      "text/plain": [
       "<matplotlib.figure.Figure at 0x10ea2bb50>"
      ]
     },
     "metadata": {},
     "output_type": "display_data"
    },
    {
     "name": "stdout",
     "output_type": "stream",
     "text": [
      "AUC, bucket size: 5000\n"
     ]
    },
    {
     "data": {
      "image/png": "[encoded data removed]",
      "text/plain": [
       "<matplotlib.figure.Figure at 0x1108ebf50>"
      ]
     },
     "metadata": {},
     "output_type": "display_data"
    },
    {
     "name": "stdout",
     "output_type": "stream",
     "text": [
      "Log Loss, bucket size: 10000\n"
     ]
    },
    {
     "data": {
      "image/png": "[encoded data removed]",
      "text/plain": [
       "<matplotlib.figure.Figure at 0x10ea58f50>"
      ]
     },
     "metadata": {},
     "output_type": "display_data"
    },
    {
     "name": "stdout",
     "output_type": "stream",
     "text": [
      "AUC, bucket size: 10000\n"
     ]
    },
    {
     "data": {
      "image/png": "[encoded data removed]",
      "text/plain": [
       "<matplotlib.figure.Figure at 0x10eaf0f50>"
      ]
     },
     "metadata": {},
     "output_type": "display_data"
    },
    {
     "name": "stdout",
     "output_type": "stream",
     "text": [
      "Log Loss, bucket size: 20000\n"
     ]
    },
    {
     "data": {
      "image/png": "[encoded data removed]",
      "text/plain": [
       "<matplotlib.figure.Figure at 0x1106f2f50>"
      ]
     },
     "metadata": {},
     "output_type": "display_data"
    },
    {
     "name": "stdout",
     "output_type": "stream",
     "text": [
      "AUC, bucket size: 20000\n"
     ]
    },
    {
     "data": {
      "image/png": "[encoded data removed]",
      "text/plain": [
       "<matplotlib.figure.Figure at 0x10e690f50>"
      ]
     },
     "metadata": {},
     "output_type": "display_data"
    }
   ],
   "source": [
    "%matplotlib inline\n",
    "import numpy as np\n",
    "\n",
    "buckets = [1000, 5000, 10000, 20000]\n",
    "steps = [1, 5, 10, 20]\n",
    "regParam = [1e-7, 1e-5, 1e-3, 1e-1]\n",
    "llMap = {b:np.eye(len(steps)) for b in buckets}\n",
    "aucMap = {b:np.eye(len(steps)) for b in buckets}\n",
    "\n",
    "with open('PlotGridSearch', 'r') as f:\n",
    "    header = f.readline()\n",
    "    for l in f.readlines():\n",
    "        ts, bucket, step, reg, ll, auc = l.strip().split('\\t')\n",
    "        llMap[int(bucket)][steps.index(int(step))][regParam.index(float(reg))] = float(ll)\n",
    "        aucMap[int(bucket)][steps.index(int(step))][regParam.index(float(reg))] = float(auc)\n",
    "\n",
    "for b in buckets: \n",
    "    print 'Log Loss, bucket size: %d' %b\n",
    "    showHeatMap(steps, regParam, llMap[b])\n",
    "    print 'AUC, bucket size: %d' %b\n",
    "    showHeatMap(steps, regParam, aucMap[b])"
   ]
  },
  {
   "cell_type": "markdown",
   "metadata": {},
   "source": [
    "###HW13.6 Heritage Healthcare Prize (OPTIONAL)\n",
    "\n",
    "The slides for Week 13 Live session contain background information for the HHH competition to predict the number of days a patient will spend in hospital.  Please review the sldies. All the data, RCode, documentation, and slides for HHH problem are located at: \n",
    "\n",
    "https://www.dropbox.com/sh/upt0j2q44ncrn1m/AAApdpXNYaEFy8KbMoE90-KSa?dl=0 \n",
    "\n",
    "In particular have a look at the following R Code:\n",
    "\n",
    "https://www.dropbox.com/s/jltk9z7jkc1o856/mainDriver.R?dl=0\n",
    "\n",
    "This code runs and will produce a baseline submission file for HHH. \n",
    "\n",
    "Challenge: \n",
    "\n",
    "Rewrite this code in Spark (all steps) and produce a submission file. Report your experimental setup and experimental times.\n",
    "\n",
    "Improve the predictive quality of your system through activities such as:\n",
    "\n",
    "-- new features\n",
    "-- feature transformations\n",
    "-- data sampling/deletion\n",
    "-- third party data\n",
    "-- learning algorithms\n",
    "-- hyperparameter tuning\n",
    "-- etc.\n",
    "\n",
    "\n",
    "State your assumptions (Training data, validation data, held out test data). Report your experimental setup and experimental times, and evaluation metrics versus the baseline submission code provided above and discuss.\n"
   ]
  },
  {
   "cell_type": "code",
   "execution_count": null,
   "metadata": {
    "collapsed": false
   },
   "outputs": [],
   "source": []
  },
  {
   "cell_type": "markdown",
   "metadata": {},
   "source": [
    "###Start HDFS"
   ]
  },
  {
   "cell_type": "code",
   "execution_count": 8,
   "metadata": {
    "collapsed": false
   },
   "outputs": [
    {
     "name": "stdout",
     "output_type": "stream",
     "text": [
      "starting yarn daemons\n",
      "resourcemanager running as process 17585. Stop it first.\n",
      "localhost: nodemanager running as process 17686. Stop it first.\n",
      "Starting namenodes on [localhost]\n",
      "localhost: starting namenode, logging to /usr/local/Cellar/hadoop/2.7.1/libexec/logs/hadoop-leiyang-namenode-Leis-MacBook-Pro.local.out\n",
      "localhost: starting datanode, logging to /usr/local/Cellar/hadoop/2.7.1/libexec/logs/hadoop-leiyang-datanode-Leis-MacBook-Pro.local.out\n",
      "Starting secondary namenodes [0.0.0.0]\n",
      "0.0.0.0: starting secondarynamenode, logging to /usr/local/Cellar/hadoop/2.7.1/libexec/logs/hadoop-leiyang-secondarynamenode-Leis-MacBook-Pro.local.out\n",
      "historyserver running as process 18148. Stop it first.\n"
     ]
    }
   ],
   "source": [
    "!/usr/local/Cellar/hadoop/2*/sbin/start-yarn.sh\n",
    "!/usr/local/Cellar/hadoop/2*/sbin/start-dfs.sh\n",
    "!/usr/local/Cellar/hadoop/2*/sbin/mr-jobhistory-daemon.sh --config /usr/local/Cellar/hadoop/2*/libexec/etc/hadoop/ start historyserver "
   ]
  },
  {
   "cell_type": "markdown",
   "metadata": {},
   "source": [
    "###Stop HDFS"
   ]
  },
  {
   "cell_type": "code",
   "execution_count": 6,
   "metadata": {
    "collapsed": false,
    "scrolled": false
   },
   "outputs": [
    {
     "name": "stdout",
     "output_type": "stream",
     "text": [
      "stopping yarn daemons\n",
      "no resourcemanager to stop\n",
      "localhost: no nodemanager to stop\n",
      "no proxyserver to stop\n",
      "Stopping namenodes on [localhost]\n",
      "localhost: no namenode to stop\n",
      "localhost: no datanode to stop\n",
      "Stopping secondary namenodes [0.0.0.0]\n",
      "0.0.0.0: no secondarynamenode to stop\n",
      "no historyserver to stop\n"
     ]
    }
   ],
   "source": [
    "!/usr/local/Cellar/hadoop/2*/sbin/stop-yarn.sh\n",
    "!/usr/local/Cellar/hadoop/2*/sbin/stop-dfs.sh\n",
    "!/usr/local/Cellar/hadoop/2*/sbin/mr-jobhistory-daemon.sh --config /usr/local/Cellar/hadoop/2*/libexec/etc/hadoop/ stop historyserver \n",
    "sc.stop()"
   ]
  }
 ],
 "metadata": {
  "kernelspec": {
   "display_name": "Python 2",
   "language": "python",
   "name": "python2"
  },
  "language_info": {
   "codemirror_mode": {
    "name": "ipython",
    "version": 2
   },
   "file_extension": ".py",
   "mimetype": "text/x-python",
   "name": "python",
   "nbconvert_exporter": "python",
   "pygments_lexer": "ipython2",
   "version": "2.7.9"
  }
 },
 "nbformat": 4,
 "nbformat_minor": 0
}
