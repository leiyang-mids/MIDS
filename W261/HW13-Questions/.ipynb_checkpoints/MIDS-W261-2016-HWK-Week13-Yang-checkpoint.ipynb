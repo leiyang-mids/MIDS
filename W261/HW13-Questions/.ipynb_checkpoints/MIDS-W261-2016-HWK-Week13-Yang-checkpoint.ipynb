{
 "cells": [
  {
   "cell_type": "markdown",
   "metadata": {},
   "source": [
    "#DATASCI W261, Machine Learning at Scale\n",
    "--------\n",
    "####Assignement:  week \\#13\n",
    "####[Lei Yang](mailto:leiyang@berkeley.edu) | [Michael Kennedy](mailto:mkennedy@ischool.berkeley.edu) | [Natarajan Krishnaswami](mailto:natarajan@krishnaswami.org)\n",
    "####Due: 2016-04-22, 8AM PST"
   ]
  },
  {
   "cell_type": "markdown",
   "metadata": {},
   "source": [
    "### Start Spark"
   ]
  },
  {
   "cell_type": "code",
   "execution_count": 3,
   "metadata": {
    "collapsed": false
   },
   "outputs": [
    {
     "name": "stdout",
     "output_type": "stream",
     "text": [
      "Welcome to\n",
      "      ____              __\n",
      "     / __/__  ___ _____/ /__\n",
      "    _\\ \\/ _ \\/ _ `/ __/  '_/\n",
      "   /__ / .__/\\_,_/_/ /_/\\_\\   version 1.6.1\n",
      "      /_/\n",
      "\n",
      "Using Python version 2.7.9 (default, Dec 15 2014 10:37:34)\n",
      "SparkContext available as sc, HiveContext available as sqlContext.\n"
     ]
    }
   ],
   "source": [
    "import os\n",
    "import sys\n",
    "spark_home = os.environ['SPARK_HOME'] = '/Users/leiyang/Downloads/spark-1.6.1-bin-hadoop2.6/'\n",
    "if not spark_home:\n",
    "    raise ValueError('SPARK_HOME enviroment variable is not set')\n",
    "sys.path.insert(0,os.path.join(spark_home,'python'))\n",
    "sys.path.insert(0,os.path.join(spark_home,'python/lib/py4j-0.8.2.1-src.zip'))\n",
    "execfile(os.path.join(spark_home,'python/pyspark/shell.py'))"
   ]
  },
  {
   "cell_type": "markdown",
   "metadata": {
    "collapsed": true
   },
   "source": [
    "###HW 13.1: Spark implementation of basic PageRank\n",
    "\n",
    "Write a basic Spark implementation of the iterative PageRank algorithm\n",
    "that takes sparse adjacency lists as input.\n",
    "Make sure that your implementation utilizes teleportation (1-damping/the number of nodes in the network), \n",
    "and further, distributes the mass of dangling nodes with each iteration\n",
    "so that the output of each iteration is correctly normalized (sums to 1).\n",
    "[NOTE: The PageRank algorithm assumes that a random surfer (walker), starting from a random web page,\n",
    "chooses the next page to which it will move by clicking at random, with probability d,\n",
    "one of the hyperlinks in the current page. This probability is represented by a so-called\n",
    "‘damping factor’ d, where d ∈ (0, 1). Otherwise, with probability (1 − d), the surfer\n",
    "jumps to any web page in the network. If a page is a dangling end, meaning it has no\n",
    "outgoing hyperlinks, the random surfer selects an arbitrary web page from a uniform\n",
    "distribution and “teleports” to that page]\n",
    "\n",
    "In your Spark solution, please use broadcast variables and caching to make sure your code is as efficient as possible.\n",
    "\n",
    "\n",
    "As you build your code, use the test data\n",
    "\n",
    "s3://ucb-mids-mls-networks/PageRank-test.txt\n",
    "Or under the Data Subfolder for HW7 on Dropbox with the same file name. \n",
    "(On Dropbox https://www.dropbox.com/sh/2c0k5adwz36lkcw/AAAAKsjQfF9uHfv-X9mCqr9wa?dl=0)\n",
    "\n",
    "with teleportation parameter set to 0.15 (1-d, where d, the damping factor is set to 0.85), and crosscheck\n",
    "your work with the true result, displayed in the first image\n",
    "in the Wikipedia article:\n",
    "\n",
    "https://en.wikipedia.org/wiki/PageRank\n",
    "\n",
    "and here for reference are the corresponding PageRank probabilities:\n",
    "\n",
    "A,0.033\n",
    "B,0.384\n",
    "C,0.343\n",
    "D,0.039\n",
    "E,0.081\n",
    "F,0.039\n",
    "G,0.016\n",
    "H,0.016\n",
    "I,0.016\n",
    "J,0.016\n",
    "K,0.016\n",
    "\n",
    "Run this experiment locally first. Report the local configuration that you used and how long in minutes and seconds it takes to complete your job.\n",
    "\n",
    "Repeat this experiment on AWS. Report the AWS cluster configuration that you used and how long in minutes and seconds it takes to complete your job. (in your notebook, cat the cluster config file)\n",
    "\n"
   ]
  },
  {
   "cell_type": "markdown",
   "metadata": {
    "collapsed": false
   },
   "source": [
    "###PageRank"
   ]
  },
  {
   "cell_type": "code",
   "execution_count": 1,
   "metadata": {
    "collapsed": true
   },
   "outputs": [],
   "source": [
    "from time import time\n",
    "from datetime import datetime\n",
    "\n",
    "def initialize(line):\n",
    "    # parse line\n",
    "    nid, adj = line.strip().split('\\t', 1)\n",
    "    exec 'adj = %s' %adj\n",
    "    # initialize node struct\n",
    "    node = {'a':adj.keys(), 'p':0}\n",
    "    rankMass = 1.0/len(adj)\n",
    "    # emit pageRank mass and node\n",
    "    return [(m, rankMass) for m in node['a']] + [(nid.strip('\"'), node)]\n",
    "\n",
    "def accumulateMass(a, b):\n",
    "    if isinstance(a, float) and isinstance(b, float):\n",
    "        return a+b\n",
    "    if isinstance(a, float) and not isinstance(b, float):\n",
    "        b['p'] += a\n",
    "        return b\n",
    "    else:\n",
    "        a['p'] += b\n",
    "        return a\n",
    "\n",
    "def getDangling(node):\n",
    "    global nDangling\n",
    "    if isinstance(node[1], float):\n",
    "        nDangling += 1\n",
    "        return (node[0], {'a':[], 'p':node[1]})\n",
    "    else:\n",
    "        return node\n",
    "\n",
    "def redistributeMass(node):\n",
    "    node[1]['p'] = (p_dangling.value+node[1]['p'])*damping + alpha\n",
    "    return node\n",
    "\n",
    "def distributeMass(node):\n",
    "    global lossMass\n",
    "    mass, adj = node[1]['p'], node[1]['a']\n",
    "    node[1]['p'] = 0\n",
    "    if len(adj) == 0:\n",
    "        lossMass += mass\n",
    "        return [node]\n",
    "    else:\n",
    "        rankMass = mass/len(adj)\n",
    "        return [(x, rankMass) for x in adj]+[node]\n",
    "\n",
    "def getIndex(line):\n",
    "    elem = line.strip().split('\\t')\n",
    "    return (elem[1], elem[0])\n",
    "\n",
    "def logTime():\n",
    "    return str(datetime.now())\n"
   ]
  },
  {
   "cell_type": "markdown",
   "metadata": {},
   "source": [
    "### Driver"
   ]
  },
  {
   "cell_type": "code",
   "execution_count": 4,
   "metadata": {
    "collapsed": false
   },
   "outputs": [
    {
     "name": "stdout",
     "output_type": "stream",
     "text": [
      "2016-04-15 22:52:21.595538: start PageRank initialization ...\n",
      "2016-04-15 22:52:22.789142: initialization completed, dangling node(s): 1, total nodes: 11\n",
      "2016-04-15 22:52:22.789784: running iteration 2 ...\n",
      "2016-04-15 22:52:22.893942: redistributing loss mass: 0.6523\n",
      "2016-04-15 22:52:22.900249: running iteration 3 ...\n",
      "2016-04-15 22:52:23.016227: redistributing loss mass: 0.4174\n",
      "2016-04-15 22:52:23.021943: running iteration 4 ...\n",
      "2016-04-15 22:52:23.103576: redistributing loss mass: 0.7042\n",
      "2016-04-15 22:52:23.108007: running iteration 5 ...\n",
      "2016-04-15 22:52:23.193200: redistributing loss mass: 0.4136\n",
      "2016-04-15 22:52:23.197213: running iteration 6 ...\n",
      "2016-04-15 22:52:23.274630: redistributing loss mass: 0.4254\n",
      "2016-04-15 22:52:23.278632: running iteration 7 ...\n",
      "2016-04-15 22:52:23.352806: redistributing loss mass: 0.3753\n",
      "2016-04-15 22:52:23.356641: running iteration 8 ...\n",
      "2016-04-15 22:52:23.430620: redistributing loss mass: 0.3812\n",
      "2016-04-15 22:52:23.434674: running iteration 9 ...\n",
      "2016-04-15 22:52:23.531019: redistributing loss mass: 0.3659\n",
      "2016-04-15 22:52:23.536714: running iteration 10 ...\n",
      "2016-04-15 22:52:23.635844: redistributing loss mass: 0.3660\n",
      "2016-04-15 22:52:23.679582: normalized weight of the graph: 1.0000\n",
      "2016-04-15 22:52:23.679781: PageRanking completed in 0.03 minutes.\n",
      "2016-04-15 22:52:24.634718: results saved, job completed!\n"
     ]
    }
   ],
   "source": [
    "from operator import add\n",
    "\n",
    "# load the graph\n",
    "graph_file = sc.textFile('hdfs://localhost:9000/user/leiyang/PageRank-test.txt')\n",
    "index_file = sc.textFile('file:///Users/leiyang/Downloads/toy_index.txt')\n",
    "\n",
    "# initialize variables\n",
    "nDangling = sc.accumulator(0)\n",
    "lossMass = sc.accumulator(0.0)\n",
    "damping = 0.85\n",
    "alpha = 1 - damping\n",
    "nTop, nIter = 100, 10\n",
    "start = time()\n",
    "print '%s: start PageRank initialization ...' %(logTime())\n",
    "graph = graph_file.flatMap(initialize).reduceByKey(accumulateMass).map(getDangling).cache()\n",
    "# get graph size\n",
    "G = graph.count()\n",
    "# broadcast dangling mass for redistribution\n",
    "p_dangling = sc.broadcast(1.0*nDangling.value/G)\n",
    "graph = graph.map(redistributeMass)\n",
    "print '%s: initialization completed, dangling node(s): %d, total nodes: %d' %(logTime(), nDangling.value, G)\n",
    "\n",
    "for i in range(nIter-1):\n",
    "    print '%s: running iteration %d ...' %(logTime(), i+2)\n",
    "    lossMass.value = 0.0\n",
    "    graph = graph.flatMap(distributeMass).reduceByKey(accumulateMass).cache() #checkpoint()?\n",
    "    # need to call an action here in order to have loss mass\n",
    "    graph.count()\n",
    "    print '%s: redistributing loss mass: %.4f' %(logTime(), lossMass.value)\n",
    "    p_dangling = sc.broadcast(lossMass.value/G)\n",
    "    graph = graph.map(redistributeMass)\n",
    "\n",
    "totalMass = graph.aggregate(0, (lambda x, y: y[1]['p'] + x), (lambda x, y: x+y))\n",
    "print '%s: normalized weight of the graph: %.4f' %(logTime(), totalMass/G)\n",
    "print '%s: PageRanking completed in %.2f minutes.' %(logTime(), (time()-start)/60.0)\n",
    "# get the page name by join\n",
    "topPages = graph.map(lambda n:(n[0],n[1]['p']/G)).sortBy(lambda n: n[1], ascending=False).take(nTop)\n",
    "rankList = index_file.map(getIndex).join(sc.parallelize(topPages)).map(lambda l: l[1])\n",
    "# save final rank list\n",
    "rankList.sortBy(lambda n: n[1], ascending=False).saveAsTextFile('pageRank')\n",
    "print '%s: results saved, job completed!' %logTime()\n"
   ]
  },
  {
   "cell_type": "code",
   "execution_count": 5,
   "metadata": {
    "collapsed": false
   },
   "outputs": [
    {
     "name": "stdout",
     "output_type": "stream",
     "text": [
      "(u\"'Node_b\", 0.3632359489889102)\r\n",
      "(u\"'Node_c\", 0.36288372803871793)\r\n",
      "(u\"'Node_e\", 0.08114525762548769)\r\n",
      "(u\"'Node_d\", 0.03938466342002967)\r\n",
      "(u\"'Node_f\", 0.03938466342002967)\r\n",
      "(u\"'Node_a\", 0.03293010178620472)\r\n",
      "(u\"'Node_h\", 0.016207127344124005)\r\n",
      "(u\"'Node_j\", 0.016207127344124005)\r\n",
      "(u\"'Node_g\", 0.016207127344124005)\r\n",
      "(u\"'Node_i\", 0.016207127344124005)\r\n",
      "(u\"'Node_k\", 0.016207127344124005)\r\n"
     ]
    }
   ],
   "source": [
    "!cat pageRank/part*"
   ]
  },
  {
   "cell_type": "markdown",
   "metadata": {},
   "source": [
    "###HW 13.2: Applying PageRank to the Wikipedia hyperlinks network\n",
    "\n",
    "Run your Spark PageRank implementation on the Wikipedia dataset for 10 iterations,\n",
    "and display the top 100 ranked nodes (with alpha = 0.85).\n",
    "\n",
    "Run your PageRank implementation on the Wikipedia dataset for 50 iterations,\n",
    "and display the top 100 ranked nodes (with teleportation factor of 0.15). \n",
    "Plot the pagerank values for the top 100 pages resulting from the 50 iterations run. Then plot the pagerank values for the same 100 pages that resulted from the 10 iterations run.  Comment on your findings.  Have the top 100 ranked pages changed? Have the pagerank values changed? Explain.\n",
    "\n",
    "Report the AWS cluster configuration that you used and how long in minutes and seconds it takes to complete your job.\n",
    "\n",
    "NOTE: ====  English Wikipedia hyperlink network.data ====\n",
    "The dataset is available via Dropbox at:\n",
    "\n",
    "https://www.dropbox.com/sh/2c0k5adwz36lkcw/AAAAKsjQfF9uHfv-X9mCqr9wa?dl=0\n",
    "\n",
    "on S3 at  s3://ucb-mids-mls-networks/wikipedia/\n",
    "-- s3://ucb-mids-mls-networks/wikipedia/all-pages-indexed-out.txt # Graph\n",
    "-- s3://ucb-mids-mls-networks/wikipedia/indices.txt               # Page titles and page Ids\n",
    "\n",
    "The dataset is built from the Sept. 2015 XML snapshot of English Wikipedia.\n",
    "For this directed network, a link between articles: \n",
    "\n",
    "A -> B\n",
    "\n",
    "is defined by the existence of a hyperlink in A pointing to B.\n",
    "This network also exists in the indexed format:\n",
    "\n",
    "Data: s3://ucb-mids-mls-networks/wikipedia/all-pages-indexed-out.txt\n",
    "Data: s3://ucb-mids-mls-networks/wikipedia/all-pages-indexed-in.txt\n",
    "Data: s3://ucb-mids-mls-networks/wikipedia/indices.txt\n",
    "\n",
    "but has an index with more detailed data:\n",
    "\n",
    "(article name) \\t (index) \\t (in degree) \\t (out degree)\n",
    "\n",
    "In the dictionary, target nodes are keys, link weights are values .\n",
    "Here, a weight indicates the number of time a page links to another.\n",
    "However, for the sake of this assignment, treat this an unweighted network,\n",
    "and set all weights to 1 upon data input.\n",
    "\n",
    "\n",
    "###Submit job to the cluster\n",
    "- ssh i the master node of EMR cluster\n",
    "- do data preparation\n",
    "- submit job to spark"
   ]
  },
  {
   "cell_type": "code",
   "execution_count": null,
   "metadata": {
    "collapsed": false,
    "scrolled": true
   },
   "outputs": [],
   "source": [
    "# on EMR\n",
    "!/usr/lib/bin/spark-submit \\\n",
    "--master 'spark://ec2-54-174-116-49.compute-1.amazonaws.com:7077' \\\n",
    "--deploy-mode 'client' \\\n",
    "--name 'LeiPageRank' \\\n",
    "--py-files PageRank.py \\\n",
    "--executor-memory '512m' \\\n",
    "--driver-memory '512m' \\\n",
    "PageRankDriver.py \n",
    "\n",
    "# local\n",
    "! ~/Downloads/spark*/bin/spark-submit \\\n",
    "--master yarn \\\n",
    "--deploy-mode 'client' \\\n",
    "--name 'LeiPageRank' \\\n",
    "--py-files PageRank.py \\\n",
    "PageRankDriver.py \n",
    "\n",
    "--executor-memory '512m' \\\n",
    "--driver-memory '512m' \\"
   ]
  },
  {
   "cell_type": "code",
   "execution_count": null,
   "metadata": {
    "collapsed": true
   },
   "outputs": [],
   "source": [
    "!cat pageRank/part*"
   ]
  },
  {
   "cell_type": "markdown",
   "metadata": {},
   "source": [
    "###HW 13.3: Spark GraphX versus your implementation of PageRank\n",
    "\n",
    "Run the Spark  GraphX PageRank implementation on the Wikipedia dataset for 10 iterations,\n",
    "and display the top 100 ranked nodes (with alpha = 0.85).\n",
    "\n",
    "Run your PageRank implementation on the Wikipedia dataset for 50 iterations,\n",
    "and display the top 100 ranked nodes (with teleportation factor of 0.15). \n",
    "Have the top 100 ranked pages changed? Comment on your findings. Plot both 100 curves.\n",
    "\n",
    "Report the AWS cluster configuration that you used and how long in minutes and seconds it takes to complete this job.\n",
    "\n",
    "Put the runtime results of HW13.2 and HW13.3 in a tabular format (with rows corresponding to implemention and columns corresponding to experiment setup (10 iterations, 50 iterations)). Discuss the run times and explaing the differences. \n",
    "\n",
    "Plot the pagerank values for the top 100 pages resulting from the 50 iterations run (using GraphX). Then plot the pagerank values for the same 100 pages that resulted from the 50 iterations run of your homegrown pagerank implemnentation.  Comment on your findings.  Have the top 100 ranked pages changed? Have the pagerank values changed? Explain.\n",
    "\n",
    "\n"
   ]
  },
  {
   "cell_type": "code",
   "execution_count": null,
   "metadata": {
    "collapsed": false,
    "scrolled": false
   },
   "outputs": [],
   "source": []
  },
  {
   "cell_type": "markdown",
   "metadata": {},
   "source": [
    "###HW 13.4: Criteo Phase 2 baseline\n",
    "\n",
    "\n",
    "SPECIAL NOTE:\n",
    "Please share your findings as they become available with class via the Google Group. You will get brownie points for this.  Once results are shared please use them and build on them.\n",
    "\n",
    "The Criteo data for this challenge is located in the following S3/Dropbox buckets:\n",
    "\n",
    "On Dropbox see:\n",
    "     https://www.dropbox.com/sh/dnevke9vsk6yj3p/AABoP-Kv2SRxuK8j3TtJsSv5a?dl=0\n",
    "\n",
    "Raw Data:  (Training, Validation and Test data)\n",
    "https://console.aws.amazon.com/s3/home?region=us-west-1#&bucket=criteo-dataset&prefix=rawdata/\n",
    "\n",
    "Hashed Data: Training, Validation and Test data in hash encoded (10,000 buckets) and sparse representation\n",
    "https://console.aws.amazon.com/s3/home?region=us-west-1#&bucket=criteo-dataset&prefix=processeddata/\n",
    "\n",
    "\n",
    "Using the training dataset, validation dataset and testing dataset in the Criteo bucket perform the following experiment:\n",
    "\n",
    "-- write spark code (borrow from Phase 1 of this project) to train a logistic regression model with the following hyperparamters:\n",
    "\n",
    "-- Number of buckets for hashing: 1,000\n",
    "-- Logistic Regression: no regularization term\n",
    "-- Logistic Regression: step size = 10\n",
    "\n",
    "Report the AWS cluster configuration that you used and how long in minutes and seconds it takes to complete this job.\n",
    "\n",
    "Report in tabular form the AUC value (https://en.wikipedia.org/wiki/Receiver_operating_characteristic) for the Training, Validation, and Testing datasets.\n",
    "Report in tabular form  the logLossTest for the Training, Validation, and Testing datasets.\n",
    "\n",
    "Don't forget to put a caption on your tables (above each table).\n",
    "\n"
   ]
  },
  {
   "cell_type": "code",
   "execution_count": null,
   "metadata": {
    "collapsed": false
   },
   "outputs": [],
   "source": []
  },
  {
   "cell_type": "markdown",
   "metadata": {},
   "source": [
    "###HW 13.5: Criteo Phase 2 hyperparameter tuning \n",
    "SPECIAL NOTE:\n",
    "Please share your findings as they become available with class via the Google Group. You will get brownie points for this.  Once results are shared please used them and build on them.\n",
    "\n",
    "NOTE:  please do  HW 13.5 in groups of 3 \n",
    "\n",
    "Using the training dataset, validation dataset and testing dataset in the Criteo bucket perform the following experiments:\n",
    "\n",
    "-- write spark code (borrow from Phase 1 of this project) to train a logistic regression model with various hyperparamters. Do a gridsearch of the hyperparameter space and determine optimal settings using the validation set.\n",
    "\n",
    "-- Number of buckets for hashing: 1,000, 10,000, .... explore different values  here\n",
    "-- Logistic Regression: regularization term: [1e-6, 1e-3]  explore other  values here also\n",
    "-- Logistic Regression: step size: explore different step sizes. Focus on a stepsize of 1 initially. \n",
    "\n",
    "Report the AWS cluster configuration that you used and how long in minutes and seconds it takes to complete this job.\n",
    "\n",
    "Report in tabular form and using heatmaps the AUC values (https://en.wikipedia.org/wiki/Receiver_operating_characteristic) for the Training, Validation, and Testing datasets.\n",
    "Report in tabular form and using heatmaps  the logLossTest for the Training, Validation, and Testing datasets.\n",
    "\n",
    "Dont forget to put a caption on your tables (above the table) and on your heatmap figures (put caption below figures) detailing the experiment associated with each table or figure (data, algorithm used, parameters and settings explored.\n",
    "\n",
    "Discuss the optimal setting to solve this problem  in terms of the following:\n",
    "-- Features\n",
    "-- Learning algortihm\n",
    "-- Spark cluster\n",
    "\n",
    "Justiy your recommendations based on your experimental results and cross reference with table numbers and figure numbers. Also highlight key results with annotations, both textual and line and box based, on your tables and graphs.\n",
    "\n"
   ]
  },
  {
   "cell_type": "code",
   "execution_count": null,
   "metadata": {
    "collapsed": false
   },
   "outputs": [],
   "source": []
  },
  {
   "cell_type": "markdown",
   "metadata": {},
   "source": [
    "###HW13.6 Heritage Healthcare Prize (OPTIONAL)\n",
    "\n",
    "The slides for Week 13 Live session contain background information for the HHH competition to predict the number of days a patient will spend in hospital.  Please review the sldies. All the data, RCode, documentation, and slides for HHH problem are located at: \n",
    "\n",
    "https://www.dropbox.com/sh/upt0j2q44ncrn1m/AAApdpXNYaEFy8KbMoE90-KSa?dl=0 \n",
    "\n",
    "In particular have a look at the following R Code:\n",
    "\n",
    "https://www.dropbox.com/s/jltk9z7jkc1o856/mainDriver.R?dl=0\n",
    "\n",
    "This code runs and will produce a baseline submission file for HHH. \n",
    "\n",
    "Challenge: \n",
    "\n",
    "Rewrite this code in Spark (all steps) and produce a submission file. Report your experimental setup and experimental times.\n",
    "\n",
    "Improve the predictive quality of your system through activities such as:\n",
    "\n",
    "-- new features\n",
    "-- feature transformations\n",
    "-- data sampling/deletion\n",
    "-- third party data\n",
    "-- learning algorithms\n",
    "-- hyperparameter tuning\n",
    "-- etc.\n",
    "\n",
    "\n",
    "State your assumptions (Training data, validation data, held out test data). Report your experimental setup and experimental times, and evaluation metrics versus the baseline submission code provided above and discuss.\n"
   ]
  },
  {
   "cell_type": "code",
   "execution_count": null,
   "metadata": {
    "collapsed": false
   },
   "outputs": [],
   "source": []
  },
  {
   "cell_type": "markdown",
   "metadata": {},
   "source": [
    "###Start HDFS"
   ]
  },
  {
   "cell_type": "code",
   "execution_count": 8,
   "metadata": {
    "collapsed": false
   },
   "outputs": [
    {
     "name": "stdout",
     "output_type": "stream",
     "text": [
      "starting yarn daemons\n",
      "resourcemanager running as process 17585. Stop it first.\n",
      "localhost: nodemanager running as process 17686. Stop it first.\n",
      "Starting namenodes on [localhost]\n",
      "localhost: starting namenode, logging to /usr/local/Cellar/hadoop/2.7.1/libexec/logs/hadoop-leiyang-namenode-Leis-MacBook-Pro.local.out\n",
      "localhost: starting datanode, logging to /usr/local/Cellar/hadoop/2.7.1/libexec/logs/hadoop-leiyang-datanode-Leis-MacBook-Pro.local.out\n",
      "Starting secondary namenodes [0.0.0.0]\n",
      "0.0.0.0: starting secondarynamenode, logging to /usr/local/Cellar/hadoop/2.7.1/libexec/logs/hadoop-leiyang-secondarynamenode-Leis-MacBook-Pro.local.out\n",
      "historyserver running as process 18148. Stop it first.\n"
     ]
    }
   ],
   "source": [
    "!/usr/local/Cellar/hadoop/2*/sbin/start-yarn.sh\n",
    "!/usr/local/Cellar/hadoop/2*/sbin/start-dfs.sh\n",
    "!/usr/local/Cellar/hadoop/2*/sbin/mr-jobhistory-daemon.sh --config /usr/local/Cellar/hadoop/2*/libexec/etc/hadoop/ start historyserver "
   ]
  },
  {
   "cell_type": "markdown",
   "metadata": {},
   "source": [
    "###Stop HDFS"
   ]
  },
  {
   "cell_type": "code",
   "execution_count": 6,
   "metadata": {
    "collapsed": false,
    "scrolled": false
   },
   "outputs": [
    {
     "name": "stdout",
     "output_type": "stream",
     "text": [
      "stopping yarn daemons\n",
      "no resourcemanager to stop\n",
      "localhost: no nodemanager to stop\n",
      "no proxyserver to stop\n",
      "Stopping namenodes on [localhost]\n",
      "localhost: no namenode to stop\n",
      "localhost: no datanode to stop\n",
      "Stopping secondary namenodes [0.0.0.0]\n",
      "0.0.0.0: no secondarynamenode to stop\n",
      "no historyserver to stop\n"
     ]
    }
   ],
   "source": [
    "!/usr/local/Cellar/hadoop/2*/sbin/stop-yarn.sh\n",
    "!/usr/local/Cellar/hadoop/2*/sbin/stop-dfs.sh\n",
    "!/usr/local/Cellar/hadoop/2*/sbin/mr-jobhistory-daemon.sh --config /usr/local/Cellar/hadoop/2*/libexec/etc/hadoop/ stop historyserver \n",
    "sc.stop()"
   ]
  }
 ],
 "metadata": {
  "kernelspec": {
   "display_name": "Python 2",
   "language": "python",
   "name": "python2"
  },
  "language_info": {
   "codemirror_mode": {
    "name": "ipython",
    "version": 2
   },
   "file_extension": ".py",
   "mimetype": "text/x-python",
   "name": "python",
   "nbconvert_exporter": "python",
   "pygments_lexer": "ipython2",
   "version": "2.7.9"
  }
 },
 "nbformat": 4,
 "nbformat_minor": 0
}
