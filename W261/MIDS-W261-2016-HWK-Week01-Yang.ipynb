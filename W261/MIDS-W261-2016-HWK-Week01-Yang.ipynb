{
 "cells": [
  {
   "cell_type": "markdown",
   "metadata": {},
   "source": [
    "#MIDS UC Berkeley, Machine Learning at Scale\n",
    "#DATSCIW261 ASSIGNMENT #1  (version 2016-01-14)\n",
    "\n",
    "## Submitted by Lei Yang [leiyang@berkeley.edu](mailto:leiyang@berkeley)\n",
    "### 2016-01-19\n"
   ]
  },
  {
   "cell_type": "code",
   "execution_count": null,
   "metadata": {
    "collapsed": true
   },
   "outputs": [],
   "source": []
  }
 ],
 "metadata": {
  "kernelspec": {
   "display_name": "Python 2",
   "language": "python",
   "name": "python2"
  },
  "language_info": {
   "codemirror_mode": {
    "name": "ipython",
    "version": 2
   },
   "file_extension": ".py",
   "mimetype": "text/x-python",
   "name": "python",
   "nbconvert_exporter": "python",
   "pygments_lexer": "ipython2",
   "version": "2.7.9"
  }
 },
 "nbformat": 4,
 "nbformat_minor": 0
}
