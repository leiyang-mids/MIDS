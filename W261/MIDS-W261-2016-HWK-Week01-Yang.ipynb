{
 "cells": [
  {
   "cell_type": "markdown",
   "metadata": {},
   "source": [
    "#UC Berkeley MIDS DATASCI W261-02, Machine Learning at Scale\n",
    "##Assignement #1  (version 2016-01-14)\n",
    "## Submitted by Lei Yang ([leiyang@berkeley.edu](mailto:leiyang@berkeley)), 2016-01-19"
   ]
  },
  {
   "cell_type": "markdown",
   "metadata": {},
   "source": [
    "###*HW1.0.0*: Define big data. Provide an example of a big data problem in your domain of expertise. \n"
   ]
  },
  {
   "cell_type": "markdown",
   "metadata": {},
   "source": [
    "###Answer: \n",
    "Big data is"
   ]
  },
  {
   "cell_type": "markdown",
   "metadata": {},
   "source": [
    "###*HW1.0.1*: In 500 words (English or pseudo code or a combination) describe how to estimate the bias, the variance, the irreduciable error for a test dataset T when using polynomial regression models of degree 1, 2, 3, 4, 5 are considered. How would you select a model?"
   ]
  },
  {
   "cell_type": "markdown",
   "metadata": {},
   "source": [
    "###Answer:\n",
    "blabla"
   ]
  },
  {
   "cell_type": "markdown",
   "metadata": {},
   "source": [
    "###*HW1.1*: Read through the provided control script (pNaiveBayes.sh)"
   ]
  },
  {
   "cell_type": "code",
   "execution_count": 1,
   "metadata": {
    "collapsed": false
   },
   "outputs": [
    {
     "name": "stdout",
     "output_type": "stream",
     "text": [
      "Done!\n"
     ]
    }
   ],
   "source": [
    "print 'Done!'"
   ]
  },
  {
   "cell_type": "markdown",
   "metadata": {},
   "source": [
    "###*HW1.2*: Provide a mapper/reducer pair that, when executed by pNaiveBayes.sh, will determine the number of occurrences of a single, user-specified word. Examine the word “assistance” and report your results."
   ]
  },
  {
   "cell_type": "markdown",
   "metadata": {},
   "source": [
    "####Let's define pNaiveBayes.sh script first, we only need to do this once since it is the same throughout HW1"
   ]
  },
  {
   "cell_type": "code",
   "execution_count": 126,
   "metadata": {
    "collapsed": false
   },
   "outputs": [
    {
     "name": "stdout",
     "output_type": "stream",
     "text": [
      "Overwriting pNaiveBayes.sh\n"
     ]
    }
   ],
   "source": [
    "%%writefile pNaiveBayes.sh\n",
    "## pNaiveBayes.sh\n",
    "## Author: Jake Ryland Williams\n",
    "## Usage: pNaiveBayes.sh m wordlist\n",
    "## Input:\n",
    "##       m = number of processes (maps), e.g., 4\n",
    "##       wordlist = a space-separated list of words in quotes, e.g., \"the and of\"\n",
    "##\n",
    "## Instructions: Read this script and its comments closely.\n",
    "##               Do your best to understand the purpose of each command,\n",
    "##               and focus on how arguments are supplied to mapper.py/reducer.py,\n",
    "##               as this will determine how the python scripts take input.\n",
    "##               When you are comfortable with the unix code below,\n",
    "##               answer the questions on the LMS for HW1 about the starter code.\n",
    "\n",
    "## collect user input\n",
    "m=$1 ## the number of parallel processes (maps) to run\n",
    "wordlist=$2 ## if set to \"*\", then all words are used\n",
    "\n",
    "## a test set data of 100 messages\n",
    "data=\"enronemail_1h.txt\" \n",
    "\n",
    "## the full set of data (33746 messages)\n",
    "# data=\"enronemail.txt\" \n",
    "\n",
    "## 'wc' determines the number of lines in the data\n",
    "## 'perl -pe' regex strips the piped wc output to a number\n",
    "linesindata=`wc -l $data | perl -pe 's/^.*?(\\d+).*?$/$1/'`\n",
    "\n",
    "## determine the lines per chunk for the desired number of processes\n",
    "linesinchunk=`echo \"$linesindata/$m+1\" | bc`\n",
    "\n",
    "## split the original file into chunks by line\n",
    "split -l $linesinchunk $data $data.chunk.\n",
    "\n",
    "## assign python mappers (mapper.py) to the chunks of data\n",
    "## and emit their output to temporary files\n",
    "for datachunk in $data.chunk.*; do\n",
    "    ## feed word list to the python mapper here and redirect STDOUT to a temporary file on disk\n",
    "    ####\n",
    "    ####\n",
    "    ./mapper.py $datachunk \"$wordlist\" > $datachunk.counts &\n",
    "    ####\n",
    "    ####\n",
    "done\n",
    "## wait for the mappers to finish their work\n",
    "wait\n",
    "\n",
    "## 'ls' makes a list of the temporary count files\n",
    "## 'perl -pe' regex replaces line breaks with spaces\n",
    "countfiles=`\\ls $data.chunk.*.counts | perl -pe 's/\\n/ /'`\n",
    "#echo \"$countfiles\"\n",
    "\n",
    "## feed the list of countfiles to the python reducer and redirect STDOUT to disk\n",
    "####\n",
    "####\n",
    "./reducer.py $countfiles > $data.output\n",
    "####\n",
    "####\n",
    "\n",
    "## clean up the data chunks and temporary count files\n",
    "\\rm $data.chunk.*"
   ]
  },
  {
   "cell_type": "markdown",
   "metadata": {},
   "source": [
    "####Define mapper.py & reducer.py, and make them executable\n",
    "- mapper.py counts the single specified word for the chunk, and output an integer\n",
    "- reducer.py collates counts from all chunks, and output the total count of the single specified word "
   ]
  },
  {
   "cell_type": "code",
   "execution_count": 100,
   "metadata": {
    "collapsed": false
   },
   "outputs": [
    {
     "name": "stdout",
     "output_type": "stream",
     "text": [
      "Overwriting mapper.py\n"
     ]
    }
   ],
   "source": [
    "%%writefile mapper.py\n",
    "#!/usr/bin/python\n",
    "import sys\n",
    "import re\n",
    "count = 0\n",
    "WORD_RE = re.compile(r\"[\\w']+\")\n",
    "filename = sys.argv[1]\n",
    "countword = sys.argv[2].lower()\n",
    "with open (filename, \"r\") as myfile:\n",
    "    for line in myfile.readlines():\n",
    "        for word in line.lower().split()[2:]:\n",
    "            if countword in word:\n",
    "                count += 1\n",
    "print count"
   ]
  },
  {
   "cell_type": "code",
   "execution_count": 101,
   "metadata": {
    "collapsed": false
   },
   "outputs": [
    {
     "name": "stdout",
     "output_type": "stream",
     "text": [
      "Overwriting reducer.py\n"
     ]
    }
   ],
   "source": [
    "%%writefile reducer.py\n",
    "#!/usr/bin/python\n",
    "import sys\n",
    "sum = 0\n",
    "for filename in sys.argv[1:]:\n",
    "    with open (filename, \"r\") as myfile:\n",
    "        for line in myfile.readlines():\n",
    "            sum += int(line)\n",
    "print sum"
   ]
  },
  {
   "cell_type": "code",
   "execution_count": 86,
   "metadata": {
    "collapsed": true
   },
   "outputs": [],
   "source": [
    "!chmod a+x pNaiveBayes.sh\n",
    "!chmod a+x mapper.py\n",
    "!chmod a+x reducer.py"
   ]
  },
  {
   "cell_type": "markdown",
   "metadata": {},
   "source": [
    "####<span style=\"color:red\">Results: </span>by checking the ouput file, we know there are 10 counts of word 'assistance'.\n"
   ]
  },
  {
   "cell_type": "code",
   "execution_count": 103,
   "metadata": {
    "collapsed": false
   },
   "outputs": [
    {
     "name": "stdout",
     "output_type": "stream",
     "text": [
      "10\r\n"
     ]
    }
   ],
   "source": [
    "!./pNaiveBayes.sh 5 \"assistance\"\n",
    "## display final output results\n",
    "!echo $(more enronemail_1h.txt.output)"
   ]
  },
  {
   "cell_type": "markdown",
   "metadata": {},
   "source": [
    "###*HW1.3*: Provide a mapper/reducer pair that, when executed by pNaiveBayes.sh, will classify the email messages by a single, user-specified word using the multinomial Naive Bayes Formulation. Examine the word “assistance” and report your results.\n",
    "   "
   ]
  },
  {
   "cell_type": "markdown",
   "metadata": {},
   "source": [
    "####Define mapper.py & reducer.py, both are already executable\n",
    "- **mapper.py** obtains counts for each word from the chunk, for spam and non-spam email separately, records all counts in a dictionary, and outputs the dictionaries (non-spam count, and spam count).\n",
    "- **reducer.py** estimates Naive Bayes parameters first, then classifies the email with word \"assistance\"."
   ]
  },
  {
   "cell_type": "code",
   "execution_count": 159,
   "metadata": {
    "collapsed": false
   },
   "outputs": [
    {
     "name": "stdout",
     "output_type": "stream",
     "text": [
      "Overwriting mapper.py\n"
     ]
    }
   ],
   "source": [
    "%%writefile mapper.py\n",
    "#!/usr/bin/python\n",
    "import sys\n",
    "import re\n",
    "# let's use two dictionaries to hold the word counts for spam and non-spam\n",
    "n_count, s_count = {}, {}\n",
    "nSpam, nNormal = 0, 0\n",
    "WORD_RE = re.compile(r\"[\\w']+\")\n",
    "filename = sys.argv[1]\n",
    "keyword = sys.argv[2].lower()\n",
    "with open (filename, \"r\") as myfile:\n",
    "    for email in myfile.readlines():\n",
    "        isSpam = email.split('\\t')[1] == '1'\n",
    "        if isSpam:\n",
    "            nSpam += 1\n",
    "            for word in email.lower().split()[2:]: # only use subject & content for modeling\n",
    "                if word not in s_count:\n",
    "                    s_count[word] = 1\n",
    "                else:\n",
    "                    s_count[word] += 1\n",
    "        else:\n",
    "            nNormal += 1\n",
    "            for word in email.lower().split()[2:]: # only use subject & content for modeling\n",
    "                if word not in n_count:\n",
    "                    n_count[word] = 1\n",
    "                else:\n",
    "                    n_count[word] += 1\n",
    "print n_count\n",
    "print s_count\n",
    "print nNormal\n",
    "print nSpam\n",
    "print \"'\"+keyword+\"'\""
   ]
  },
  {
   "cell_type": "markdown",
   "metadata": {},
   "source": [
    "The *Gamma function* satisfying $\\Gamma(n) = (n-1)!\\quad\\forall n\\in\\mathbb N$ is via through the Euler integral\n",
    "\n",
    "$$\n",
    "\\Gamma(z) = \\int_0^\\infty t^{z-1}e^{-t}dt\\,.\n",
    "$$"
   ]
  },
  {
   "cell_type": "markdown",
   "metadata": {},
   "source": [
    "Now let's define **reducer.py**. Assuming *positional independence*, and with *add-one Laplace smoothing*, the multinomial NB conditional probability $P(t | c)$ can be estimated as:\n",
    "$$\n",
    "\\hat{P}(t\\mid c)=\\frac{T_{ct}+1}{(\\sum_{t^\\prime \\in V}{T_{ct^\\prime}})+B},\n",
    "$$\n",
    "\n",
    "where $B=|V|$ is the number of terms in the vocabulary $V$ (including all text classes), and $T_{ct}$ is the count of word *t* in class *c*. \n",
    "\n",
    "To classify a message, the posterior probability of class $c$ can be calculated as:\n",
    "$$\n",
    "c_{map}=\\arg\\max_{c\\in\\mathbb C}[\\log{\\hat{P}(c)}+\\sum_{1\\leqslant k \\leqslant n_d}{\\log{\\hat{P}(t_k\\mid c)}}],\n",
    "$$\n",
    "where $\\hat{P}(t_k\\mid c)$ is estimated above with *positional independence* assumption as $\\hat{P}(t\\mid c)$."
   ]
  },
  {
   "cell_type": "code",
   "execution_count": 160,
   "metadata": {
    "collapsed": false
   },
   "outputs": [
    {
     "name": "stdout",
     "output_type": "stream",
     "text": [
      "Overwriting reducer.py\n"
     ]
    }
   ],
   "source": [
    "%%writefile reducer.py\n",
    "#!/usr/bin/python\n",
    "import sys\n",
    "import math\n",
    "from sets import Set\n",
    "\n",
    "n_count, s_count = {}, {}\n",
    "nSpam, nNormal = 0, 0\n",
    "counts = []\n",
    "\n",
    "# scan through each output file from the chunks\n",
    "for filename in sys.argv[1:]:\n",
    "    # we first read out the 2 count dictionaries\n",
    "    with open (filename, \"r\") as myfile:         \n",
    "        for line in myfile.readlines():\n",
    "            cmd = 'counts.append(' + line + ')'\n",
    "            exec cmd\n",
    "            \n",
    "    # we then combine word counts, for non-spam and spam messages, respectively\n",
    "    for word in counts[0]:\n",
    "        if word not in n_count:\n",
    "            n_count[word] = counts[0][word]\n",
    "        else:\n",
    "            n_count[word] += counts[0][word]\n",
    "    \n",
    "    for word in counts[1]:\n",
    "        if word not in s_count:\n",
    "            s_count[word] = counts[1][word]\n",
    "        else:\n",
    "            s_count[word] += counts[1][word]\n",
    "            \n",
    "    # combine spam and non-spam count\n",
    "    nNormal += int(counts[2])\n",
    "    nSpam += int(counts[3])\n",
    "    \n",
    "    # pass along the keyword for classification\n",
    "    keyword = counts[4]\n",
    "    \n",
    "    # clear counts for next chunk\n",
    "    counts = []\n",
    "\n",
    "# we now estimate NB parameters for the specified word, according to the formular above\n",
    "testfile = 'enronemail_1h.txt'\n",
    "print 'Classify messages with key word: ' + keyword\n",
    "B = len(Set(s_count.keys() + n_count.keys()))\n",
    "tot_n = sum(n_count.values())\n",
    "tot_s = sum(s_count.values())\n",
    "p_word_s = 1.0*((s_count[keyword] if keyword in s_count else 0) + 1) / (tot_s + B)\n",
    "p_word_n = 1.0*((n_count[keyword] if keyword in n_count else 0) + 1) / (tot_n + B)\n",
    "\n",
    "# finally we classify the messages which contains the specified word\n",
    "#### prior probability: same for every message, since it's determined by training data ####\n",
    "p_s = 1.0*nSpam/(nSpam+nNormal)\n",
    "p_n = 1.0*nNormal/(nSpam+nNormal)\n",
    "\n",
    "# print model parameters\n",
    "print '\\n============= Model Parameters ============='\n",
    "print 'P(spam) = %f' %(p_s)\n",
    "print 'P(non-spam) = %f' %(p_n)\n",
    "print 'P(%s|spam) = %f' %(keyword, p_word_s)\n",
    "print 'P(%s|non-spam) = %f' %(keyword, p_word_n)\n",
    "\n",
    "#### likelihood: dependend on the frequency of specified word ####\n",
    "print '\\n============= Classification Results ============='\n",
    "print 'isCorrect \\t count \\t P(spam) \\t P(non-spam) \\t Result \\t message_id'\n",
    "with open (testfile, \"r\") as myfile:  \n",
    "    for line in myfile.readlines():\n",
    "        msg = line.lower().split()\n",
    "        words = msg[2:] # only include words in subject and content\n",
    "        n_word = sum([1 if keyword in word else 0 for word in words])\n",
    "        # if the message doesn't contain our keyword, skip it;\n",
    "        if n_word == 0:\n",
    "            continue\n",
    "        #### posterior probability ####\n",
    "        p_s_word = math.log(p_s) + n_word * math.log(p_word_s)\n",
    "        p_n_word = math.log(p_n) + n_word * math.log(p_word_n)\n",
    "        isSpam = True if p_s_word > p_n_word else False\n",
    "        isCorrect = '1' if isSpam == int(msg[1]) else '0'\n",
    "        # print results\n",
    "        print isCorrect + '\\t'+str(n_word)+'\\t'+ str(p_s_word) + '\\t' + str(p_n_word) + '\\t' + ('spam' if isSpam else 'non-spam') + '\\t' + msg[0] \n",
    "        "
   ]
  },
  {
   "cell_type": "markdown",
   "metadata": {},
   "source": [
    "####<span style=\"color:red\">Results: </span>run the NB classifier with 'assistance', the classification results are displayed below for messages that contain this keyword\n",
    "- **Model parameters**: prior and likelihood\n",
    "- **Classification results**: correctness, keyword count in the message, log prob for spam and non-spam, flag, message ID"
   ]
  },
  {
   "cell_type": "code",
   "execution_count": 165,
   "metadata": {
    "collapsed": false
   },
   "outputs": [
    {
     "name": "stdout",
     "output_type": "stream",
     "text": [
      "\u001b[?1h\u001b=\r",
      "classify messages with key word: assistance\r\n",
      "\r\n",
      "============= Model Parameters =============\r\n",
      "P(spam) = 0.440000\r\n",
      "P(non-spam) = 0.560000\r\n",
      "P(assistance|spam) = 0.000227\r\n",
      "P(assistance|non-spam) = 0.000093\r\n",
      "\r\n",
      "============= Classification Results =============\r\n",
      "isCorrect        count   P(spam)         P(non-spam)     Result          message_id\r\n",
      "1       1       -9.21279946713  -9.85907840269  spam    0002.2004-08-01.bg\r\n",
      "0       1       -9.21279946713  -9.85907840269  spam    0004.1999-12-10.kaminski\r\n",
      "0       1       -9.21279946713  -9.85907840269  spam    0005.1999-12-12.kaminski\r\n",
      "1       1       -9.21279946713  -9.85907840269  spam    0010.2001-06-28.sa_and_hp\r\n",
      "1       1       -9.21279946713  -9.85907840269  spam    0011.2001-06-28.sa_and_hp\r\n",
      "1       1       -9.21279946713  -9.85907840269  spam    0013.2004-08-01.bg\r\n",
      "1       3       -25.9964372973  -28.4175982176  spam    0018.2001-07-13.sa_and_hp\r\n",
      "1       1       -9.21279946713  -9.85907840269  spam    0018.2003-12-18.gp\r\n",
      "\r",
      "\u001b[K\u001b[?1l\u001b>"
     ]
    }
   ],
   "source": [
    "!./pNaiveBayes.sh 2 \"assistance\"\n",
    "!more enronemail_1h.txt.output"
   ]
  },
  {
   "cell_type": "markdown",
   "metadata": {},
   "source": [
    "###*HW1.4*: Provide a mapper/reducer pair that, when executed by pNaiveBayes.sh, will classify the email messages by a list of one or more user-specified words. Examine the words “assistance”, “valium”, and “enlargementWithATypo” and report your results.\n",
    "   "
   ]
  },
  {
   "cell_type": "code",
   "execution_count": null,
   "metadata": {
    "collapsed": true
   },
   "outputs": [],
   "source": []
  },
  {
   "cell_type": "markdown",
   "metadata": {},
   "source": [
    "###*HW1.5*: Provide a mapper/reducer pair that, when executed by pNaiveBayes.sh, will classify the email messages by all words present."
   ]
  },
  {
   "cell_type": "code",
   "execution_count": null,
   "metadata": {
    "collapsed": true
   },
   "outputs": [],
   "source": []
  },
  {
   "cell_type": "markdown",
   "metadata": {},
   "source": [
    "###*HW1.6*: Benchmark your code with the Python SciKit-Learn implementation of multinomial Naive Bayes"
   ]
  }
 ],
 "metadata": {
  "kernelspec": {
   "display_name": "Python 2",
   "language": "python",
   "name": "python2"
  },
  "language_info": {
   "codemirror_mode": {
    "name": "ipython",
    "version": 2
   },
   "file_extension": ".py",
   "mimetype": "text/x-python",
   "name": "python",
   "nbconvert_exporter": "python",
   "pygments_lexer": "ipython2",
   "version": "2.7.9"
  }
 },
 "nbformat": 4,
 "nbformat_minor": 0
}
