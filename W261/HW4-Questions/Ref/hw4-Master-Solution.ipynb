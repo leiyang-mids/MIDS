{
 "cells": [
  {
   "cell_type": "markdown",
   "metadata": {},
   "source": [
    "#JRW, HW4 Solution, DATSCI W261, October 2015"
   ]
  },
  {
   "cell_type": "markdown",
   "metadata": {},
   "source": [
    "##HW 4.0: MRJob short answer responses\n",
    "####What is mrjob? How is it different from Hadoop MapReduce?\n",
    ">Mrjob is a Python package for running Hadoop streaming jobs. \n",
    "Mrjob is a python-based framework that assists you in submitting your job \n",
    "to the Hadoop job tracker and in running each individual step under Hadoop Streaming.\n",
    "Hadoop is a general software implementation for MapReduce programming \n",
    "and the MapReduce execution framework.\n",
    "\n",
    "####What are the mapper_final(), combiner_final(), reducer_final() methods? When are they called?\n",
    ">These methods run a user-defined action. They are called \n",
    "as part of the life cycle (init, main, and final) of\n",
    "the mapper, combiner, and reducer methods once \n",
    "they have processed all input and have completed execution.\n",
    "\n",
    "##HW4.1: Serialization short answer responses\n",
    "####What is serialization in the context of mrjob or Hadoop?\n",
    ">Serialization is the process of turning structured objects into a byte stream. \n",
    "In the context of Hadoop, serialization is leveraged for compression \n",
    "to reduce network and disk loads. Contrast this to mrjob, where serialization \n",
    "is leveraged to convienentally pass structured objects \n",
    "between mapper, reducer, etc. methods.\n",
    "\n",
    "####When is it used in these frameworks?\n",
    ">These frameworks accept and use a variety of serializations \n",
    "for input, output, and internal transmissions of data.\n",
    "\n",
    "####What is the default serialization mode for input and output for mrjob?\n",
    ">For input, the default serialization mode is raw text (RawValueProtocol), \n",
    "and for output (and internal), the default mode is JSON format (JSONProtocol)."
   ]
  },
  {
   "cell_type": "markdown",
   "metadata": {},
   "source": [
    "##HW 4.2: Preprocessing logfiles on a single node"
   ]
  },
  {
   "cell_type": "code",
   "execution_count": 26,
   "metadata": {
    "collapsed": false
   },
   "outputs": [],
   "source": [
    "import re\n",
    "open(\"anonymous-msweb-preprocessed.data\", \"w\").close\n",
    "custID = \"NA\"\n",
    "with open(\"anonymous-msweb.data\", \"r\") as IF:\n",
    "    for line in IF:\n",
    "        line = line.strip()\n",
    "        data = re.split(\",\",line)\n",
    "        if data[0] == \"C\":\n",
    "            custID = data[1]\n",
    "            custID = re.sub(\"\\\"\",\"\",custID)\n",
    "        if data[0] == \"V\" and not custID == \"NA\":\n",
    "            with open(\"anonymous-msweb-preprocessed.data\", \"a\") as OF:\n",
    "                OF.writelines(line+\",\"+\"C\"+\",\"+custID+\"\\n\")"
   ]
  },
  {
   "cell_type": "code",
   "execution_count": 27,
   "metadata": {
    "collapsed": false
   },
   "outputs": [
    {
     "name": "stdout",
     "output_type": "stream",
     "text": [
      "V,1000,1,C,10001\r\n",
      "V,1001,1,C,10001\r\n",
      "V,1002,1,C,10001\r\n",
      "V,1001,1,C,10002\r\n",
      "V,1003,1,C,10002\r\n",
      "V,1001,1,C,10003\r\n",
      "V,1003,1,C,10003\r\n",
      "V,1004,1,C,10003\r\n",
      "V,1005,1,C,10004\r\n",
      "V,1006,1,C,10005\r\n"
     ]
    }
   ],
   "source": [
    "!head -10 anonymous-msweb-preprocessed.data"
   ]
  },
  {
   "cell_type": "markdown",
   "metadata": {},
   "source": [
    "##HW 4.3: Find the 5 most frequently visited pages using mrjob from the output of 4.2"
   ]
  },
  {
   "cell_type": "code",
   "execution_count": 190,
   "metadata": {
    "collapsed": false
   },
   "outputs": [
    {
     "name": "stdout",
     "output_type": "stream",
     "text": [
      "Overwriting top5pages.py\n"
     ]
    }
   ],
   "source": [
    "%%writefile top5pages.py\n",
    "#!/usr/bin/env python\n",
    "from mrjob.job import MRJob\n",
    "from mrjob.step import MRStep\n",
    "from mrjob.protocol import RawValueProtocol\n",
    "import re    \n",
    " \n",
    "class top5pages(MRJob):\n",
    "    \n",
    "    OUTPUT_PROTOCOL = RawValueProtocol\n",
    "    \n",
    "    pages = [\"NA\",\"NA\",\"NA\",\"NA\",\"NA\"]\n",
    "    counts = [0,0,0,0,0]\n",
    "\n",
    "    def steps(self):\n",
    "        return [MRStep(\n",
    "                mapper = self.mapper,\n",
    "                combiner = self.combiner,\n",
    "                reducer = self.reducer,\n",
    "                reducer_final = self.reducer_final\n",
    "                )]\n",
    "    \n",
    "    def mapper(self, _, line):\n",
    "        data = re.split(\",\",line)\n",
    "        pageID = data[1]\n",
    "        yield pageID,1\n",
    "        \n",
    "    def combiner(self,pageID,counts):\n",
    "        count = sum(counts)\n",
    "        yield pageID,count\n",
    "\n",
    "    def reducer(self,pageID,counts):\n",
    "        count = sum(counts)\n",
    "        ix = -1\n",
    "        for i in range(5):\n",
    "            if count > self.counts[i]:\n",
    "                ix = i\n",
    "            else:\n",
    "                break\n",
    "\n",
    "        if ix >= 0:\n",
    "            self.counts.insert(ix+1,count)\n",
    "            self.pages.insert(ix+1,pageID)\n",
    "            self.counts = self.counts[1:6]\n",
    "            self.pages = self.pages[1:6]\n",
    "\n",
    "    def reducer_final(self):\n",
    "        self.counts.reverse()\n",
    "        self.pages.reverse()\n",
    "        print \"The top 5 pages are:\"\n",
    "        for i in range(5):\n",
    "            yield None,self.pages[i] + \",\" + str(self.counts[i])\n",
    "\n",
    "if __name__ == '__main__':\n",
    "    top5pages.run()"
   ]
  },
  {
   "cell_type": "code",
   "execution_count": 191,
   "metadata": {
    "collapsed": true
   },
   "outputs": [],
   "source": [
    "!chmod +x top5pages.py"
   ]
  },
  {
   "cell_type": "code",
   "execution_count": 192,
   "metadata": {
    "collapsed": false
   },
   "outputs": [
    {
     "name": "stdout",
     "output_type": "stream",
     "text": [
      "using configs in /Users/jakerylandwilliams/.mrjob.conf\n",
      "creating tmp directory /var/folders/3y/665tnx6s0jjcysf043nfcwm80000gn/T/top5pages.jakerylandwilliams.20151004.230439.133824\n",
      "writing to /var/folders/3y/665tnx6s0jjcysf043nfcwm80000gn/T/top5pages.jakerylandwilliams.20151004.230439.133824/step-0-mapper_part-00000\n",
      "Counters from step 1:\n",
      "  (no counters found)\n",
      "writing to /var/folders/3y/665tnx6s0jjcysf043nfcwm80000gn/T/top5pages.jakerylandwilliams.20151004.230439.133824/step-0-mapper-sorted\n",
      "> sort /var/folders/3y/665tnx6s0jjcysf043nfcwm80000gn/T/top5pages.jakerylandwilliams.20151004.230439.133824/step-0-mapper_part-00000\n",
      "writing to /var/folders/3y/665tnx6s0jjcysf043nfcwm80000gn/T/top5pages.jakerylandwilliams.20151004.230439.133824/step-0-reducer_part-00000\n",
      "Counters from step 1:\n",
      "  (no counters found)\n",
      "Moving /var/folders/3y/665tnx6s0jjcysf043nfcwm80000gn/T/top5pages.jakerylandwilliams.20151004.230439.133824/step-0-reducer_part-00000 -> /var/folders/3y/665tnx6s0jjcysf043nfcwm80000gn/T/top5pages.jakerylandwilliams.20151004.230439.133824/output/part-00000\n",
      "Streaming final output from /var/folders/3y/665tnx6s0jjcysf043nfcwm80000gn/T/top5pages.jakerylandwilliams.20151004.230439.133824/output\n",
      "removing tmp directory /var/folders/3y/665tnx6s0jjcysf043nfcwm80000gn/T/top5pages.jakerylandwilliams.20151004.230439.133824\n"
     ]
    }
   ],
   "source": [
    "!./top5pages.py anonymous-msweb-preprocessed.data > top5pages.txt "
   ]
  },
  {
   "cell_type": "code",
   "execution_count": 193,
   "metadata": {
    "collapsed": false
   },
   "outputs": [
    {
     "name": "stdout",
     "output_type": "stream",
     "text": [
      "The top 5 pages are:\r\n",
      "1008,10836\r\n",
      "1034,9383\r\n",
      "1004,8463\r\n",
      "1018,5330\r\n",
      "1017,5108\r\n"
     ]
    }
   ],
   "source": [
    "!head -6 top5pages.txt"
   ]
  },
  {
   "cell_type": "markdown",
   "metadata": {},
   "source": [
    "##HW 4.4: Find the most frequent visitor of each page using mrjob and the output of 4.2. In this output please include the webpage URL, webpage ID and visitor ID."
   ]
  },
  {
   "cell_type": "code",
   "execution_count": 195,
   "metadata": {
    "collapsed": false
   },
   "outputs": [
    {
     "name": "stdout",
     "output_type": "stream",
     "text": [
      "Overwriting mostFrequentVisitors.py\n"
     ]
    }
   ],
   "source": [
    "%%writefile mostFrequentVisitors.py\n",
    "#!/usr/bin/python\n",
    "from mrjob.job import MRJob\n",
    "from mrjob.step import MRStep\n",
    "from mrjob.protocol import RawValueProtocol\n",
    "import re    \n",
    "import operator\n",
    " \n",
    "class mostFrequentVisitors(MRJob):\n",
    "    \n",
    "    OUTPUT_PROTOCOL = RawValueProtocol\n",
    "    \n",
    "    URLs = {}\n",
    "\n",
    "    def steps(self):\n",
    "        return [MRStep(\n",
    "                mapper = self.mapper,\n",
    "                combiner = self.combiner,\n",
    "                reducer_init = self.reducer_init,\n",
    "                reducer = self.reducer\n",
    "                )]\n",
    "    \n",
    "    def mapper(self, _, line):\n",
    "        data = re.split(\",\",line)\n",
    "        pageID = data[1]\n",
    "        custID = data[4]\n",
    "        yield pageID,{custID:1}\n",
    "        \n",
    "    def combiner(self,pageID,visits):\n",
    "        allVisits = {}\n",
    "        for visit in visits:\n",
    "            for custID in visit.keys():\n",
    "                allVisits.setdefault(custID,0)\n",
    "                allVisits[custID] += visit[custID]\n",
    "        yield pageID,allVisits\n",
    "        \n",
    "    def reducer_init(self):\n",
    "        with open(\"anonymous-msweb-URLs.data\", \"r\") as IF:\n",
    "            for line in IF:\n",
    "                line = line.strip()\n",
    "                data = re.split(\",\",line)\n",
    "                URL = data[4]\n",
    "                pageID = data[1]\n",
    "                self.URLs[pageID] = URL\n",
    "\n",
    "    def reducer(self,pageID,visits):\n",
    "        allVisits = {}\n",
    "        for visit in visits:\n",
    "            for custID in visit.keys():\n",
    "                allVisits.setdefault(custID,0)\n",
    "                allVisits[custID] += visit[custID]\n",
    "        custID = max(allVisits.iteritems(), key=operator.itemgetter(1))[0]\n",
    "        yield None,self.URLs[pageID]+\",\"+pageID+\",\"+custID+\",\"+str(allVisits[custID])\n",
    "        \n",
    "if __name__ == '__main__':\n",
    "    mostFrequentVisitors.run()"
   ]
  },
  {
   "cell_type": "code",
   "execution_count": 196,
   "metadata": {
    "collapsed": true
   },
   "outputs": [],
   "source": [
    "!chmod +x mostFrequentVisitors.py"
   ]
  },
  {
   "cell_type": "code",
   "execution_count": 197,
   "metadata": {
    "collapsed": false
   },
   "outputs": [
    {
     "name": "stdout",
     "output_type": "stream",
     "text": [
      "using configs in /Users/jakerylandwilliams/.mrjob.conf\n",
      "creating tmp directory /var/folders/3y/665tnx6s0jjcysf043nfcwm80000gn/T/mostFrequentVisitors.jakerylandwilliams.20151004.230615.796755\n",
      "writing to /var/folders/3y/665tnx6s0jjcysf043nfcwm80000gn/T/mostFrequentVisitors.jakerylandwilliams.20151004.230615.796755/step-0-mapper_part-00000\n",
      "Counters from step 1:\n",
      "  (no counters found)\n",
      "writing to /var/folders/3y/665tnx6s0jjcysf043nfcwm80000gn/T/mostFrequentVisitors.jakerylandwilliams.20151004.230615.796755/step-0-mapper-sorted\n",
      "> sort /var/folders/3y/665tnx6s0jjcysf043nfcwm80000gn/T/mostFrequentVisitors.jakerylandwilliams.20151004.230615.796755/step-0-mapper_part-00000\n",
      "writing to /var/folders/3y/665tnx6s0jjcysf043nfcwm80000gn/T/mostFrequentVisitors.jakerylandwilliams.20151004.230615.796755/step-0-reducer_part-00000\n",
      "Counters from step 1:\n",
      "  (no counters found)\n",
      "Moving /var/folders/3y/665tnx6s0jjcysf043nfcwm80000gn/T/mostFrequentVisitors.jakerylandwilliams.20151004.230615.796755/step-0-reducer_part-00000 -> /var/folders/3y/665tnx6s0jjcysf043nfcwm80000gn/T/mostFrequentVisitors.jakerylandwilliams.20151004.230615.796755/output/part-00000\n",
      "Streaming final output from /var/folders/3y/665tnx6s0jjcysf043nfcwm80000gn/T/mostFrequentVisitors.jakerylandwilliams.20151004.230615.796755/output\n",
      "removing tmp directory /var/folders/3y/665tnx6s0jjcysf043nfcwm80000gn/T/mostFrequentVisitors.jakerylandwilliams.20151004.230615.796755\n"
     ]
    }
   ],
   "source": [
    "!./mostFrequentVisitors.py anonymous-msweb-preprocessed.data --file anonymous-msweb-URLs.data > mostFrequentVisitors.txt"
   ]
  },
  {
   "cell_type": "markdown",
   "metadata": {},
   "source": [
    "####Check on output\n",
    "Note that in the output below, the number of visits (col. 4)\n",
    "for each frequent visitor of each web page is 1. \n",
    "So, no page had > 1 visits by any individual, \n",
    "and technically every visitor was a most frequent visitor."
   ]
  },
  {
   "cell_type": "code",
   "execution_count": 198,
   "metadata": {
    "collapsed": false
   },
   "outputs": [
    {
     "name": "stdout",
     "output_type": "stream",
     "text": [
      "\"/regwiz\",1000,36585,1\r\n",
      "\"/support\",1001,23995,1\r\n",
      "\"/athome\",1002,35235,1\r\n",
      "\"/kb\",1003,22469,1\r\n",
      "\"/search\",1004,35540,1\r\n",
      "\"/norge\",1005,10004,1\r\n",
      "\"/misc\",1006,27495,1\r\n",
      "\"/ie_intl\",1007,19492,1\r\n",
      "\"/msdownload\",1008,35236,1\r\n",
      "\"/windows\",1009,23995,1\r\n",
      "\"/vbasic\",1010,20915,1\r\n",
      "\"/officedev\",1011,40152,1\r\n",
      "\"/outlookdev\",1012,23657,1\r\n",
      "\"/vbasicsupport\",1013,32727,1\r\n",
      "\"/officefreestuff\",1014,20914,1\r\n",
      "\"/msexcel\",1015,16662,1\r\n",
      "\"/excel\",1016,35542,1\r\n",
      "\"/products\",1017,35234,1\r\n",
      "\"/isapi\",1018,35237,1\r\n",
      "\"/mspowerpoint\",1019,16765,1\r\n",
      "\"/msdn\",1020,40159,1\r\n",
      "\"/visualc\",1021,35234,1\r\n",
      "\"/truetype\",1022,15906,1\r\n",
      "\"/spain\",1023,16079,1\r\n",
      "\"/iis\",1024,20447,1\r\n"
     ]
    }
   ],
   "source": [
    "!head -25 mostFrequentVisitors.txt"
   ]
  },
  {
   "cell_type": "markdown",
   "metadata": {},
   "source": [
    "##HW 4.5: K-means clustering of Twitter users with 1,000 words as features"
   ]
  },
  {
   "cell_type": "markdown",
   "metadata": {},
   "source": [
    "###MRJob class for 1k dimensional k-means clustering used in parts (A-D)"
   ]
  },
  {
   "cell_type": "code",
   "execution_count": 207,
   "metadata": {
    "collapsed": false
   },
   "outputs": [
    {
     "name": "stdout",
     "output_type": "stream",
     "text": [
      "Overwriting kMeans.py\n"
     ]
    }
   ],
   "source": [
    "%%writefile kMeans.py\n",
    "#!/usr/bin/env python\n",
    "from mrjob.job import MRJob\n",
    "from mrjob.step import MRStep\n",
    "import re    \n",
    " \n",
    "class kMeans(MRJob):\n",
    "\n",
    "    def steps(self):\n",
    "        return [MRStep(\n",
    "                mapper_init = self.mapper_init,\n",
    "                mapper = self.mapper,\n",
    "                combiner = self.combiner,\n",
    "                reducer = self.reducer\n",
    "                )]\n",
    "    \n",
    "    ## mapper_init is responsible for reading in the centroids.\n",
    "    def mapper_init(self):\n",
    "        self.centroid_points = [map(float,s.split('\\n')[0].split(',')) for s in open(\"centroids.txt\").readlines()]\n",
    "    \n",
    "    ## mapper is responsible for finding the centroid \n",
    "    ## that is closest to the user (line), and then\n",
    "    ## passing along the closest centroid's idx with the user vector as:\n",
    "    ## (k,v) = (idx,[users,1,vector])\n",
    "    ## where 'users' initially is a singleton vector, [ID]\n",
    "    \n",
    "    def mapper(self, _, datstr):\n",
    "        total = 0\n",
    "        data = re.split(',',datstr)\n",
    "        ID = data[0]\n",
    "        code = int(data[1])\n",
    "        users = [ID]\n",
    "        codes = [0,0,0,0]\n",
    "        codes[code] = 1\n",
    "        coords = [float(data[i+3])/float(data[2]) for i in range(1000)]\n",
    "        for coord in coords:\n",
    "            total += coord\n",
    "\n",
    "        minDist = 0\n",
    "        IDX = -1\n",
    "        for idx in range(len(self.centroid_points)):\n",
    "            centroid = self.centroid_points[idx]\n",
    "            dist = 0\n",
    "            for ix in range(len(coords)):\n",
    "                dist += (centroid[ix]-coords[ix])**2\n",
    "            dist = dist ** 0.5\n",
    "            if minDist:\n",
    "                if dist < minDist:                    \n",
    "                    minDist = dist\n",
    "                    IDX = idx\n",
    "            else:\n",
    "                minDist = dist\n",
    "                IDX = idx\n",
    "        yield (IDX,[users,1,coords,codes])\n",
    "    \n",
    "    ## combiner takes the mapper output and aggregates (sum) by idx-key\n",
    "    def combiner(self,IDX,data):\n",
    "        N = 0\n",
    "        sumCoords = [0*num for num in range(1000)]\n",
    "        sumCodes = [0,0,0,0]\n",
    "        users = []\n",
    "        for line in data:\n",
    "            users.extend(line[0])\n",
    "            N += line[1]\n",
    "            coords = line[2]\n",
    "            codes = line[3]\n",
    "            sumCoords = [sumCoords[i]+coords[i] for i in range(len(sumCoords))]\n",
    "            sumCodes = [sumCodes[i]+codes[i] for i in range(len(sumCodes))]\n",
    "        yield (IDX,[users,N,sumCoords,sumCodes])\n",
    "\n",
    "    ## reducer finishes aggregating all mapper outputs\n",
    "    ## and then takes the means by idx-key. \n",
    "    def reducer(self,IDX,data):\n",
    "        N = 0\n",
    "        sumCoords = [0*num for num in range(1000)]\n",
    "        sumCodes = [0,0,0,0]        \n",
    "        users = []\n",
    "        for line in data:\n",
    "            users.extend(line[0])\n",
    "            N += line[1]\n",
    "            coords = line[2]\n",
    "            codes = line[3]\n",
    "            sumCoords = [sumCoords[i]+coords[i] for i in range(len(sumCoords))]\n",
    "            sumCodes = [sumCodes[i]+codes[i] for i in range(len(sumCodes))]\n",
    "        centroid = [sumCoords[i]/N for i in range(len(sumCoords))]\n",
    "        yield (IDX,[users,N,centroid,sumCodes])\n",
    "\n",
    "if __name__ == '__main__':\n",
    "    kMeans.run()"
   ]
  },
  {
   "cell_type": "code",
   "execution_count": 203,
   "metadata": {
    "collapsed": false,
    "scrolled": true
   },
   "outputs": [
    {
     "name": "stdout",
     "output_type": "stream",
     "text": [
      "Overwriting kMeans_driver.py\n"
     ]
    }
   ],
   "source": [
    "%%writefile kMeans_driver.py\n",
    "#!/usr/bin/env python\n",
    "from numpy import random\n",
    "from kMeans import kMeans\n",
    "import re,sys\n",
    "mr_job = kMeans(args=[\"topUsers_Apr-Jul_2014_1000-words.txt\",\"--file\",\"centroids.txt\"])\n",
    "\n",
    "thresh = 0.0001\n",
    "\n",
    "scriptName,part = sys.argv\n",
    "\n",
    "## only stop when distance is below thresh for all centroids\n",
    "def stopSignal(k,thresh,newCentroids,oldCentroids):\n",
    "    stop = 1\n",
    "    for i in range(k):\n",
    "        dist = 0\n",
    "        for j in range(len(newCentroids[i])): \n",
    "            dist += (newCentroids[i][j] - oldCentroids[i][j]) ** 2\n",
    "        dist = dist ** 0.5\n",
    "        if (dist > thresh):\n",
    "            stop  = 0\n",
    "            break\n",
    "    return stop\n",
    "\n",
    "##################################################################################\n",
    "# Use four centroids from the coding\n",
    "##################################################################################\n",
    "def startCentroidsA():\n",
    "    k = 4\n",
    "    centroids = []\n",
    "    for i in range(k):\n",
    "        rndpoints = random.sample(1000)\n",
    "        total = sum(rndpoints)\n",
    "        centroid = [pt/total for pt in rndpoints]\n",
    "        centroids.append(centroid)\n",
    "    return centroids\n",
    "###################################################################################\n",
    "\n",
    "###################################################################################\n",
    "## Geneate random initial centroids around the global aggregate\n",
    "###################################################################################\n",
    "def startCentroidsBC(k):\n",
    "    counter = 0\n",
    "    for line in open(\"topUsers_Apr-Jul_2014_1000-words_summaries.txt\").readlines():\n",
    "        if counter == 2:        \n",
    "            data = re.split(\",\",line)\n",
    "            globalAggregate = [float(data[i+3])/float(data[2]) for i in range(1000)]\n",
    "        counter += 1\n",
    "    ## perturb the global aggregate for the four initializations    \n",
    "    centroids = []\n",
    "    for i in range(k):\n",
    "        rndpoints = random.sample(1000)\n",
    "        peturpoints = [rndpoints[n]/10+globalAggregate[n] for n in range(1000)]\n",
    "        centroids.append(peturpoints)\n",
    "        total = 0\n",
    "        for j in range(len(centroids[i])):\n",
    "            total += centroids[i][j]\n",
    "        for j in range(len(centroids[i])):\n",
    "            centroids[i][j] = centroids[i][j]/total\n",
    "    return centroids\n",
    "###################################################################################\n",
    "\n",
    "##################################################################################\n",
    "# Use four centroids from the coding\n",
    "##################################################################################\n",
    "def startCentroidsD():\n",
    "    k = 4\n",
    "    centroids = []\n",
    "    counter = 0\n",
    "    for line in open(\"topUsers_Apr-Jul_2014_1000-words_summaries.txt\").readlines():\n",
    "        if counter and counter > 1:        \n",
    "            data = re.split(\",\",line)\n",
    "            coords = [float(data[i+3])/float(data[2]) for i in range(1000)]\n",
    "            centroids.append(coords)\n",
    "        counter += 1\n",
    "    return centroids\n",
    "###################################################################################\n",
    "\n",
    "if part == \"A\":\n",
    "    k = 4\n",
    "    centroids = startCentroidsA()\n",
    "if part == \"B\":\n",
    "    k = 2\n",
    "    centroids = startCentroidsBC(k)\n",
    "if part == \"C\":\n",
    "    k = 4\n",
    "    centroids = startCentroidsBC(k)\n",
    "if part == \"D\":\n",
    "    k = 4\n",
    "    centroids = startCentroidsD()\n",
    "\n",
    "## the totals for each user type\n",
    "numType = [752,91,54,103]\n",
    "numType = [float(numType[i]) for i in range(4)]\n",
    "\n",
    "with open(\"centroids.txt\", 'w+') as f:\n",
    "    for centroid in centroids:\n",
    "        centroid = [str(coord) for coord in centroid]\n",
    "        f.writelines(\",\".join(centroid) + \"\\n\")\n",
    "\n",
    "iterate = 0\n",
    "stop = 0\n",
    "\n",
    "clusters = [\"NA\" for i in range(k)]\n",
    "N = [\"NA\" for i in range(k)]\n",
    "while(not stop):\n",
    "    with mr_job.make_runner() as runner:\n",
    "        runner.run()\n",
    "        oldCentroids = centroids[:]\n",
    "        clusterPurities = []\n",
    "        for line in runner.stream_output():\n",
    "            key,value =  mr_job.parse_output_line(line)\n",
    "            clusters[key] = value[0]\n",
    "            N[key] = value[1]\n",
    "            centroids[key] = value[2]\n",
    "            sumCodes = value[3]\n",
    "            clusterPurities.append(float(max(sumCodes))/float(sum(sumCodes)))\n",
    "        ## update the centroids\n",
    "        with open(\"centroids.txt\", 'w+') as f:\n",
    "            for centroid in centroids:\n",
    "                centroid = [str(coord) for coord in centroid]\n",
    "                f.writelines(\",\".join(centroid) + \"\\n\")\n",
    "        \n",
    "        print str(iterate+1)+\",\"+\",\".join(str(purity) for purity in clusterPurities)\n",
    "        stop = stopSignal(k,thresh,centroids,oldCentroids)\n",
    "        if not iterate:\n",
    "            stop = 0\n",
    "    iterate += 1"
   ]
  },
  {
   "cell_type": "code",
   "execution_count": 204,
   "metadata": {
    "collapsed": true
   },
   "outputs": [],
   "source": [
    "!chmod +x kMeans.py kMeans_driver.py"
   ]
  },
  {
   "cell_type": "markdown",
   "metadata": {},
   "source": [
    "####Run k-means for parts A-D"
   ]
  },
  {
   "cell_type": "code",
   "execution_count": 165,
   "metadata": {
    "collapsed": false
   },
   "outputs": [],
   "source": [
    "!./kMeans_driver.py A > purities-A.txt"
   ]
  },
  {
   "cell_type": "code",
   "execution_count": 161,
   "metadata": {
    "collapsed": true
   },
   "outputs": [],
   "source": [
    "!./kMeans_driver.py B > purities-B.txt"
   ]
  },
  {
   "cell_type": "code",
   "execution_count": 162,
   "metadata": {
    "collapsed": true
   },
   "outputs": [],
   "source": [
    "!./kMeans_driver.py C > purities-C.txt"
   ]
  },
  {
   "cell_type": "code",
   "execution_count": 205,
   "metadata": {
    "collapsed": false
   },
   "outputs": [],
   "source": [
    "!./kMeans_driver.py D > purities-D.txt"
   ]
  },
  {
   "cell_type": "markdown",
   "metadata": {},
   "source": [
    "####Plot cluster purity output"
   ]
  },
  {
   "cell_type": "code",
   "execution_count": 209,
   "metadata": {
    "collapsed": false
   },
   "outputs": [
    {
     "data": {
      "image/png": "[encoded data removed]",
      "text/plain": [
       "<matplotlib.figure.Figure at 0x10682a250>"
      ]
     },
     "metadata": {},
     "output_type": "display_data"
    }
   ],
   "source": [
    "from matplotlib import pyplot as plot\n",
    "import numpy as np\n",
    "import re\n",
    "%matplotlib inline\n",
    "\n",
    "k = 4\n",
    "plt.figure(figsize=(15, 15))\n",
    "\n",
    "## function loads data from any of the 4 initializations\n",
    "def loadData(filename):\n",
    "    purities = {}\n",
    "    f = open(filename, 'r')\n",
    "    for line in f:\n",
    "        line  = line.strip()\n",
    "        data = re.split(\",\",line)\n",
    "        iterations.append(int(data[0]))\n",
    "        i = 0\n",
    "        for i in range(len(data)):\n",
    "            if i:\n",
    "                purities.setdefault(i,[])\n",
    "                purities[i].append(float(data[i])) \n",
    "    return purities\n",
    "\n",
    "## load purities for initialization A\n",
    "purities = {}\n",
    "purities = loadData(\"purities-A.txt\")\n",
    "iterations = [i+1 for i in range(len(purities[1]))]\n",
    "\n",
    "## plot purities for initialization A\n",
    "plot.subplot(2,2,1)\n",
    "plot.axis([0.25, max(iterations)+0.25,0.45, 1.01])\n",
    "plot.plot(iterations,purities[1],'b',lw=2)\n",
    "plot.plot(iterations,purities[2],'r',lw=2)\n",
    "plot.plot(iterations,purities[3],'g',lw=2)\n",
    "plot.plot(iterations,purities[4],'black',lw=2)\n",
    "plot.ylabel('Purity',fontsize=15)\n",
    "plot.title(\"A\",fontsize=20)\n",
    "plot.grid(True)\n",
    "\n",
    "## load purities for initialization A\n",
    "purities = {}\n",
    "purities = loadData(\"purities-B.txt\")\n",
    "iterations = [i+1 for i in range(len(purities[1]))]\n",
    "\n",
    "## plot purities for initialization B\n",
    "plot.subplot(2,2,2)\n",
    "plot.axis([0.25, max(iterations)+0.25,0.45, 1.01])\n",
    "plot.plot(iterations,purities[1],'b',lw=2)\n",
    "plot.plot(iterations,purities[2],'r',lw=2)\n",
    "plot.title(\"B\",fontsize=20)\n",
    "plot.grid(True)\n",
    "\n",
    "## load purities for initialization C\n",
    "purities = {}\n",
    "purities = loadData(\"purities-C.txt\")\n",
    "iterations = [i+1 for i in range(len(purities[1]))]\n",
    "\n",
    "## plot purities for initialization C\n",
    "plot.subplot(2,2,3)\n",
    "plot.axis([0.25, max(iterations)+0.25,0.45, 1.01])\n",
    "plot.plot(iterations,purities[1],'b',lw=2)\n",
    "plot.plot(iterations,purities[2],'r',lw=2)\n",
    "plot.plot(iterations,purities[3],'g',lw=2)\n",
    "plot.plot(iterations,purities[4],'black',lw=2)\n",
    "plot.xlabel('Iteration',fontsize=15)\n",
    "plot.ylabel('Purity',fontsize=15)\n",
    "plot.title(\"C\",fontsize=20)\n",
    "plot.grid(True)\n",
    "\n",
    "## load purities for initialization D\n",
    "purities = {}\n",
    "purities = loadData(\"purities-D.txt\")\n",
    "iterations = [i+1 for i in range(len(purities[1]))]\n",
    "\n",
    "## plot purities for initialization D\n",
    "plot.subplot(2,2,4)\n",
    "plot.axis([0.25, max(iterations)+0.25,0.45, 1.01])\n",
    "plot.plot(iterations,purities[1],'b',lw=2)\n",
    "plot.plot(iterations,purities[2],'r',lw=2)\n",
    "plot.plot(iterations,purities[3],'g',lw=2)\n",
    "plot.plot(iterations,purities[4],'black',lw=2)\n",
    "plot.xlabel('Iteration',fontsize=15)\n",
    "plot.title(\"D\",fontsize=20)\n",
    "plot.grid(True)\n"
   ]
  },
  {
   "cell_type": "markdown",
   "metadata": {
    "collapsed": true
   },
   "source": [
    "###Discussion\n",
    "As a general note, our comparison of initializations must be 'taken with a grain of salt,' \n",
    "as A,B, and C all incorporate some randomization into initialization, \n",
    "leading to results that will vary from run to run.\n",
    "If we wished to compare the randomization initializations with greater confidence,\n",
    "it would be best to run our experiment a number of times, \n",
    "recording purities at convergence, the numbers of iterations before convergence, etc., \n",
    "and summarizing these results across runs.\n",
    "\n",
    "The above being said, in the printout above we can see across those runs with k=4 (A,B, and D), \n",
    "that the 'trained' centroid initializations (D) succeeded in converging in the fewest iterations.\n",
    "In addition, we can see that when D is compared to all other initializations,\n",
    "the top three (most pure) clusters are generally purer (>90%) after convergence,\n",
    "indicating that the labeling of users accompanying the data are likely meaningful.\n",
    "Of all of the initializations, we can see that B performs the worst with regard to \n",
    "cluster purity. However, this not exactly a fair comparison, as the purities of 2 clusters\n",
    "with 4 labels will necessarily be low---it is not possible to isolate all user types!\n",
    "However, if we wished to see the value of this initialization \n",
    "in the context of the dataset, we could take note of whether \n",
    "the two most human classes (0 and 3) are clustered together, \n",
    "and separate from the two most automated classes (1 and 2),\n",
    "which is likely the case, but would require keeping track of the\n",
    "number of each user type present in each cluster (at convergence).\n",
    "\n",
    "Looking closer at D, we can see that one of the clusters is very non-pure, \n",
    "indicating that some users were discordant with respect to their classes, \n",
    "forming a mixed cluster in terms of word-frequency.\n",
    "However, we must be careful not to mislead ourselves while interpreting these results,\n",
    "as we do not know which user class dominates each cluster. Noting that approximately\n",
    "75% of all users are labeled as human, it is possible for all clusters to be dominated\n",
    "by the human class. This however, is not the case, and could be made clear through further analysis,\n",
    "plotting the numbers of each type present in each cluster at convergence\n",
    "(which would also inform us of the fact that the least pure cluster is a split of \n",
    "robots and cyborgs, who can actually be quite similar!).\n"
   ]
  },
  {
   "cell_type": "code",
   "execution_count": null,
   "metadata": {
    "collapsed": true
   },
   "outputs": [],
   "source": []
  }
 ],
 "metadata": {
  "kernelspec": {
   "display_name": "Python 2",
   "language": "python",
   "name": "python2"
  },
  "language_info": {
   "codemirror_mode": {
    "name": "ipython",
    "version": 2
   },
   "file_extension": ".py",
   "mimetype": "text/x-python",
   "name": "python",
   "nbconvert_exporter": "python",
   "pygments_lexer": "ipython2",
   "version": "2.7.10"
  }
 },
 "nbformat": 4,
 "nbformat_minor": 0
}
