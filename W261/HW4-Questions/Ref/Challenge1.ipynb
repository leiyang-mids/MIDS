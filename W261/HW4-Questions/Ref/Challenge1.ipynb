{
 "cells": [
  {
   "cell_type": "markdown",
   "metadata": {},
   "source": [
    "#DATASCI W261: Machine Learning at Scale"
   ]
  },
  {
   "cell_type": "markdown",
   "metadata": {},
   "source": [
    "## Problem: Find out the pages which have more than 400 visits"
   ]
  },
  {
   "cell_type": "markdown",
   "metadata": {},
   "source": [
    "Complete code in MrJob class file "
   ]
  },
  {
   "cell_type": "code",
   "execution_count": 2,
   "metadata": {
    "collapsed": false
   },
   "outputs": [
    {
     "name": "stdout",
     "output_type": "stream",
     "text": [
      "Writing top_pages.py\n"
     ]
    }
   ],
   "source": [
    "%%writefile top_pages.py\n",
    "\"\"\"Find Vroots with more than 400 visits.\n",
    "\n",
    "This program will take a CSV data file and output tab-seperated lines of\n",
    "\n",
    "    Vroot -> number of visits\n",
    "\n",
    "To run:\n",
    "\n",
    "    python top_pages.py anonymous-msweb.data\n",
    "\n",
    "To store output:\n",
    "\n",
    "    python top_pages.py anonymous-msweb.data > top_pages.out\n",
    "\"\"\"\n",
    "from mrjob.job import MRJob\n",
    "import csv\n",
    "\n",
    "def csv_readline(line):\n",
    "    \"\"\"Given a sting CSV line, return a list of strings.\"\"\"\n",
    "    for row in csv.reader([line]):\n",
    "        return row\n",
    "\n",
    "class TopPages(MRJob):\n",
    "\n",
    "    def mapper(self, line_no, line):\n",
    "        \"\"\"Extracts the Vroot that was visited\"\"\"\n",
    "        cell = csv_readline(line)\n",
    "        if cell[0] == 'V':\n",
    "            yield ### FILL IN\n",
    "                  # What  Key, Value  do we want to output?\n",
    "\n",
    "    def reducer(self, vroot, visit_counts):\n",
    "        \"\"\"Sumarizes the visit counts by adding them together.  If total visits\n",
    "        is more than 400, yield the results\"\"\"\n",
    "        total = ### FILL IN\n",
    "                # How do we calculate the total visits from the visit_counts?\n",
    "        if total > 400:\n",
    "            yield ### FILL IN\n",
    "                  # What  Key, Value  do we want to output?\n",
    "        \n",
    "if __name__ == '__main__':\n",
    "    TopPages.run()"
   ]
  },
  {
   "cell_type": "markdown",
   "metadata": {},
   "source": [
    "Driver code is ready"
   ]
  },
  {
   "cell_type": "code",
   "execution_count": 3,
   "metadata": {
    "collapsed": false
   },
   "outputs": [
    {
     "name": "stdout",
     "output_type": "stream",
     "text": [
      "The autoreload extension is already loaded. To reload it, use:\n",
      "  %reload_ext autoreload\n"
     ]
    },
    {
     "ename": "SyntaxError",
     "evalue": "invalid syntax (top_pages.py, line 35)",
     "output_type": "error",
     "traceback": [
      "\u001b[0;36m  File \u001b[0;32m\"top_pages.py\"\u001b[0;36m, line \u001b[0;32m35\u001b[0m\n\u001b[0;31m    total = ### FILL IN\u001b[0m\n\u001b[0m                       ^\u001b[0m\n\u001b[0;31mSyntaxError\u001b[0m\u001b[0;31m:\u001b[0m invalid syntax\n"
     ]
    }
   ],
   "source": [
    "%reload_ext autoreload\n",
    "%autoreload 2\n",
    "from top_pages import TopPages\n",
    "import csv\n",
    "\n",
    "mr_job = TopPages(args=['anonymous-msweb.data'])\n",
    "with mr_job.make_runner() as runner:\n",
    "    runner.run()\n",
    "    for line in runner.stream_output():\n",
    "        print mr_job.parse_output_line(line)"
   ]
  },
  {
   "cell_type": "code",
   "execution_count": null,
   "metadata": {
    "collapsed": true
   },
   "outputs": [],
   "source": []
  }
 ],
 "metadata": {
  "kernelspec": {
   "display_name": "Python 2",
   "language": "python",
   "name": "python2"
  },
  "language_info": {
   "codemirror_mode": {
    "name": "ipython",
    "version": 2
   },
   "file_extension": ".py",
   "mimetype": "text/x-python",
   "name": "python",
   "nbconvert_exporter": "python",
   "pygments_lexer": "ipython2",
   "version": "2.7.11"
  }
 },
 "nbformat": 4,
 "nbformat_minor": 0
}
