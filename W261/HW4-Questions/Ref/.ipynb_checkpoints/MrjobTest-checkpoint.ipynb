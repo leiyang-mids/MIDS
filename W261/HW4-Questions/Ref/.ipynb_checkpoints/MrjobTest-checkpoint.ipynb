{
 "cells": [
  {
   "cell_type": "markdown",
   "metadata": {},
   "source": [
    "#DATASCI W261: Machine Learning at Scale"
   ]
  },
  {
   "cell_type": "markdown",
   "metadata": {},
   "source": [
    "# Test whether MrJob gets successfully installed"
   ]
  },
  {
   "cell_type": "code",
   "execution_count": 1,
   "metadata": {
    "collapsed": false
   },
   "outputs": [
    {
     "name": "stdout",
     "output_type": "stream",
     "text": [
      "Overwriting mr_wc.py\n"
     ]
    }
   ],
   "source": [
    "%%writefile mr_wc.py\n",
    "# Copyright 2009-2010 Yelp\n",
    "#\n",
    "# Licensed under the Apache License, Version 2.0 (the \"License\");\n",
    "# you may not use this file except in compliance with the License.\n",
    "# You may obtain a copy of the License at\n",
    "#\n",
    "# http://www.apache.org/licenses/LICENSE-2.0\n",
    "#\n",
    "# Unless required by applicable law or agreed to in writing, software\n",
    "# distributed under the License is distributed on an \"AS IS\" BASIS,\n",
    "# WITHOUT WARRANTIES OR CONDITIONS OF ANY KIND, either express or implied.\n",
    "# See the License for the specific language governing permissions and\n",
    "# limitations under the License.\n",
    "\n",
    "\"\"\"An implementation of wc as an MRJob.\n",
    "This is meant as an example of why mapper_final is useful.\"\"\"\n",
    "from mrjob.job import MRJob\n",
    "\n",
    "\n",
    "class MRWordCountUtility(MRJob):\n",
    "\n",
    "    def __init__(self, *args, **kwargs):\n",
    "        super(MRWordCountUtility, self).__init__(*args, **kwargs)\n",
    "        self.chars = 0\n",
    "        self.words = 0\n",
    "        self.lines = 0\n",
    "\n",
    "    def mapper(self, _, line):\n",
    "        # Don't actually yield anything for each line. Instead, collect them\n",
    "        # and yield the sums when all lines have been processed. The results\n",
    "        # will be collected by the reducer.\n",
    "        self.chars += len(line) + 1  # +1 for newline\n",
    "        self.words += sum(1 for word in line.split() if word.strip())\n",
    "        self.lines += 1\n",
    "\n",
    "    def mapper_final(self):\n",
    "        yield('chars', self.chars)\n",
    "        yield('words', self.words)\n",
    "        yield('lines', self.lines)\n",
    "\n",
    "    def reducer(self, key, values):\n",
    "        yield(key, sum(values))\n",
    "\n",
    "\n",
    "if __name__ == '__main__':\n",
    "    MRWordCountUtility.run()"
   ]
  },
  {
   "cell_type": "markdown",
   "metadata": {},
   "source": [
    "# Run the code in command line"
   ]
  },
  {
   "cell_type": "code",
   "execution_count": 2,
   "metadata": {
    "collapsed": false
   },
   "outputs": [
    {
     "name": "stdout",
     "output_type": "stream",
     "text": [
      "using configs in /Users/leiyang/.mrjob.conf\n",
      "creating tmp directory /var/folders/tx/5ldq67q511q8wqwqkvptnxd00000gn/T/mr_wc.leiyang.20160206.013843.836339\n",
      "\n",
      "PLEASE NOTE: Starting in mrjob v0.5.0, protocols will be strict by default. It's recommended you run your job with --strict-protocols or set up mrjob.conf as described at https://pythonhosted.org/mrjob/whats-new.html#ready-for-strict-protocols\n",
      "\n",
      "writing to /var/folders/tx/5ldq67q511q8wqwqkvptnxd00000gn/T/mr_wc.leiyang.20160206.013843.836339/step-0-mapper_part-00000\n",
      "Counters from step 1:\n",
      "  (no counters found)\n",
      "writing to /var/folders/tx/5ldq67q511q8wqwqkvptnxd00000gn/T/mr_wc.leiyang.20160206.013843.836339/step-0-mapper-sorted\n",
      "> sort /var/folders/tx/5ldq67q511q8wqwqkvptnxd00000gn/T/mr_wc.leiyang.20160206.013843.836339/step-0-mapper_part-00000\n",
      "writing to /var/folders/tx/5ldq67q511q8wqwqkvptnxd00000gn/T/mr_wc.leiyang.20160206.013843.836339/step-0-reducer_part-00000\n",
      "Counters from step 1:\n",
      "  (no counters found)\n",
      "Moving /var/folders/tx/5ldq67q511q8wqwqkvptnxd00000gn/T/mr_wc.leiyang.20160206.013843.836339/step-0-reducer_part-00000 -> /var/folders/tx/5ldq67q511q8wqwqkvptnxd00000gn/T/mr_wc.leiyang.20160206.013843.836339/output/part-00000\n",
      "Streaming final output from /var/folders/tx/5ldq67q511q8wqwqkvptnxd00000gn/T/mr_wc.leiyang.20160206.013843.836339/output\n",
      "\"chars\"\t1551\n",
      "\"lines\"\t46\n",
      "\"words\"\t209\n",
      "removing tmp directory /var/folders/tx/5ldq67q511q8wqwqkvptnxd00000gn/T/mr_wc.leiyang.20160206.013843.836339\n"
     ]
    }
   ],
   "source": [
    "!python mr_wc.py mr_wc.py"
   ]
  }
 ],
 "metadata": {
  "kernelspec": {
   "display_name": "Python 2",
   "language": "python",
   "name": "python2"
  },
  "language_info": {
   "codemirror_mode": {
    "name": "ipython",
    "version": 2
   },
   "file_extension": ".py",
   "mimetype": "text/x-python",
   "name": "python",
   "nbconvert_exporter": "python",
   "pygments_lexer": "ipython2",
   "version": "2.7.9"
  }
 },
 "nbformat": 4,
 "nbformat_minor": 0
}
