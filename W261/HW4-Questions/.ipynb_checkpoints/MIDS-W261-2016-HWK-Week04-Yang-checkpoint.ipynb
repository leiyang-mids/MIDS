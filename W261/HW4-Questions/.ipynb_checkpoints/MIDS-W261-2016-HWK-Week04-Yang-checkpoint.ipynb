{
 "cells": [
  {
   "cell_type": "markdown",
   "metadata": {},
   "source": [
    "#DATASCI W261, Machine Learning at Scale\n",
    "--------\n",
    "####Assignement:  week \\#4\n",
    "####[Lei Yang](mailto:leiyang@berkeley.edu) | [Michael Kennedy](mailto:mkennedy@ischool.berkeley.edu) | [Natarajan Krishnaswami](mailto:natarajan@krishnaswami.org)\n",
    "####Due: 2016-02-011, 8AM PST"
   ]
  },
  {
   "cell_type": "markdown",
   "metadata": {},
   "source": [
    "###*HW4.0.* Q&A\n",
    "\n",
    "####What is MrJob? How is it different to Hadoop MapReduce?\n",
    "\n",
    "####What are the mappint_init, mapper_final(), combiner_final(), reducer_final() methods? When are they called?\n",
    "\n",
    "- **mapper_final()**: When Hadoop Streaming stops sending data to the map task, mrjob calls mapper_final(). That function emits the local aggregation result for this task, which is a much smaller set of output lines than the mapper would have output.\n",
    "- **combiner_final()**: when Hadoop Streaming stops sending data to the combine task\n",
    "- **reducer_final()**: when Hadoop Streaming stops sending data to the reduce task\n"
   ]
  },
  {
   "cell_type": "markdown",
   "metadata": {},
   "source": [
    "###*HW 4.1.* Q&A\n",
    "####What is serialization in the context of MrJob or Hadoop?\n",
    "\n",
    "####When it used in these frameworks?\n",
    "\n",
    "####What is the default serialization mode for input and outputs for MrJob?"
   ]
  },
  {
   "cell_type": "markdown",
   "metadata": {},
   "source": [
    "###start yarn, hdfs, and job history"
   ]
  },
  {
   "cell_type": "code",
   "execution_count": 1,
   "metadata": {
    "collapsed": false
   },
   "outputs": [
    {
     "name": "stdout",
     "output_type": "stream",
     "text": [
      "starting yarn daemons\n",
      "starting resourcemanager, logging to /usr/local/Cellar/hadoop/2.7.1/libexec/logs/yarn-leiyang-resourcemanager-Leis-MacBook-Pro.local.out\n",
      "localhost: starting nodemanager, logging to /usr/local/Cellar/hadoop/2.7.1/libexec/logs/yarn-leiyang-nodemanager-Leis-MacBook-Pro.local.out\n",
      "Starting namenodes on [localhost]\n",
      "localhost: starting namenode, logging to /usr/local/Cellar/hadoop/2.7.1/libexec/logs/hadoop-leiyang-namenode-Leis-MacBook-Pro.local.out\n",
      "localhost: starting datanode, logging to /usr/local/Cellar/hadoop/2.7.1/libexec/logs/hadoop-leiyang-datanode-Leis-MacBook-Pro.local.out\n",
      "Starting secondary namenodes [0.0.0.0]\n",
      "0.0.0.0: starting secondarynamenode, logging to /usr/local/Cellar/hadoop/2.7.1/libexec/logs/hadoop-leiyang-secondarynamenode-Leis-MacBook-Pro.local.out\n",
      "starting historyserver, logging to /usr/local/Cellar/hadoop/2.7.1/libexec/logs/mapred-leiyang-historyserver-Leis-MacBook-Pro.local.out\n"
     ]
    }
   ],
   "source": [
    "!/usr/local/Cellar/hadoop/2*/sbin/start-yarn.sh\n",
    "!/usr/local/Cellar/hadoop/2*/sbin/start-dfs.sh\n",
    "!/usr/local/Cellar/hadoop/2*/sbin/mr-jobhistory-daemon.sh --config /usr/local/Cellar/hadoop/2*/libexec/etc/hadoop/ start historyserver "
   ]
  },
  {
   "cell_type": "markdown",
   "metadata": {},
   "source": [
    "###*HW 4.2:* \n",
    "\n",
    "Recall the Microsoft logfiles data from the async lecture. The logfiles are described are located at:\n",
    "\n",
    "- https://kdd.ics.uci.edu/databases/msweb/msweb.html\n",
    "- http://archive.ics.uci.edu/ml/machine-learning-databases/anonymous/\n",
    "\n",
    "This dataset records which areas (Vroots) of www.microsoft.com each user visited in a one-week timeframe in Feburary 1998.\n",
    "\n",
    "**Here, you must preprocess the data on a single node (i.e., not on a cluster of nodes) from the format:**\n",
    "\n",
    "- C,\"10001\",10001   #Visitor id 10001\n",
    "- V,1000,1          #Visit by Visitor 10001 to page id 1000\n",
    "- V,1001,1          #Visit by Visitor 10001 to page id 1001\n",
    "- V,1002,1          #Visit by Visitor 10001 to page id 1002\n",
    "- C,\"10002\",10002   #Visitor id 10001\n",
    "- V\n",
    "\n",
    "*Note: #denotes comments*\n",
    "\n",
    "**to the format:**\n",
    "\n",
    "- V,1000,1,C, 10001\n",
    "- V,1001,1,C, 10001\n",
    "- V,1002,1,C, 10001\n",
    "\n",
    "**Write the python code to accomplish this.**\n",
    "\n",
    "###MrJob:\n",
    "- no shuffling/sorting is needed for this task\n",
    "- thus no reducer, only single mapper to preserve the order of C & V"
   ]
  },
  {
   "cell_type": "code",
   "execution_count": 2,
   "metadata": {
    "collapsed": false
   },
   "outputs": [
    {
     "name": "stdout",
     "output_type": "stream",
     "text": [
      "Overwriting HW4_2.py\n"
     ]
    }
   ],
   "source": [
    "%%writefile HW4_2.py\n",
    "from mrjob.job import MRJob\n",
    "from mrjob.step import MRStep\n",
    " \n",
    "class ConvertLog(MRJob):\n",
    "    # visitor name\n",
    "    visitor = None\n",
    "    # mapper\n",
    "    def convert_mapper(self, _, line):        \n",
    "        # time of mapper being called\n",
    "        self.increment_counter('HW4_2', 'lines', 1)\n",
    "        # only emit lines start with C and V\n",
    "        line = line.strip()\n",
    "        if line[0] not in ['C', 'V']:\n",
    "            return\n",
    "        # process C and V lines\n",
    "        if line[0] == 'C':            \n",
    "            # get the latest visitor suffix\n",
    "            self.visitor = 'C,%s' %line.split(',')[2]            \n",
    "        else:\n",
    "            # emit the desire output, no need for key\n",
    "            yield None, '%s,%s' %(line, self.visitor)\n",
    "    \n",
    "    # MapReduce steps\n",
    "    def steps(self):\n",
    "        return [MRStep(mapper=self.convert_mapper)]\n",
    "\n",
    "if __name__ == '__main__':\n",
    "    ConvertLog.run()\n"
   ]
  },
  {
   "cell_type": "markdown",
   "metadata": {},
   "source": [
    "###Execute MrJob"
   ]
  },
  {
   "cell_type": "code",
   "execution_count": 3,
   "metadata": {
    "collapsed": false,
    "scrolled": false
   },
   "outputs": [
    {
     "name": "stdout",
     "output_type": "stream",
     "text": [
      "no configs found; falling back on auto-configuration\n",
      "no configs found; falling back on auto-configuration\n",
      "creating tmp directory /var/folders/tx/5ldq67q511q8wqwqkvptnxd00000gn/T/HW4_2.leiyang.20160207.164624.031610\n",
      "\n",
      "PLEASE NOTE: Starting in mrjob v0.5.0, protocols will be strict by default. It's recommended you run your job with --strict-protocols or set up mrjob.conf as described at https://pythonhosted.org/mrjob/whats-new.html#ready-for-strict-protocols\n",
      "\n",
      "writing to /var/folders/tx/5ldq67q511q8wqwqkvptnxd00000gn/T/HW4_2.leiyang.20160207.164624.031610/step-0-mapper_part-00000\n",
      "Counters from step 1:\n",
      "  HW4_2:\n",
      "    lines: 131666\n",
      "Moving /var/folders/tx/5ldq67q511q8wqwqkvptnxd00000gn/T/HW4_2.leiyang.20160207.164624.031610/step-0-mapper_part-00000 -> /var/folders/tx/5ldq67q511q8wqwqkvptnxd00000gn/T/HW4_2.leiyang.20160207.164624.031610/output/part-00000\n",
      "Streaming final output from /var/folders/tx/5ldq67q511q8wqwqkvptnxd00000gn/T/HW4_2.leiyang.20160207.164624.031610/output\n",
      "removing tmp directory /var/folders/tx/5ldq67q511q8wqwqkvptnxd00000gn/T/HW4_2.leiyang.20160207.164624.031610\n",
      "null\t\"V,1000,1,C,10001\"\n",
      "null\t\"V,1001,1,C,10001\"\n",
      "null\t\"V,1002,1,C,10001\"\n",
      "null\t\"V,1001,1,C,10002\"\n",
      "null\t\"V,1003,1,C,10002\"\n",
      "null\t\"V,1001,1,C,10003\"\n",
      "null\t\"V,1003,1,C,10003\"\n",
      "null\t\"V,1004,1,C,10003\"\n",
      "null\t\"V,1005,1,C,10004\"\n",
      "null\t\"V,1006,1,C,10005\"\n"
     ]
    }
   ],
   "source": [
    "# run the job locally\n",
    "!python HW4_2.py anonymous-msweb.data > HW4_2_results\n",
    "# results sample\n",
    "!head -10 HW4_2_results"
   ]
  },
  {
   "cell_type": "markdown",
   "metadata": {},
   "source": [
    "###*HW4.3:* Find the 5 most frequently visited pages using MrJob from the output of 4.2 (i.e., transfromed log file).\n",
    "\n",
    "###MrJob Steps:\n",
    "- mapper 1: emit V~count pairs\n",
    "- reducer 1: count visit times n for each page V\n",
    "- reducer 2: get 5 most frequently visited pages, with n sorted reversely on numeric order by the partitioner"
   ]
  },
  {
   "cell_type": "code",
   "execution_count": 155,
   "metadata": {
    "collapsed": false
   },
   "outputs": [
    {
     "name": "stdout",
     "output_type": "stream",
     "text": [
      "Overwriting HW4_3.py\n"
     ]
    }
   ],
   "source": [
    "%%writefile HW4_3.py\n",
    "from mrjob.job import MRJob\n",
    "from mrjob.step import MRStep\n",
    " \n",
    "class FreqVisitPage(MRJob):\n",
    "    n_freq, i = 5, 0\n",
    "        \n",
    "    def mapper_count(self, dummy, line): \n",
    "        self.increment_counter('HW4_3','page_map',1)\n",
    "        # get page id\n",
    "        pID = line.strip().split(',')[1]\n",
    "        yield pID.strip(), 1\n",
    "        \n",
    "    def reducer_count(self, page, count):\n",
    "        self.increment_counter('HW4_3','page_count',1)\n",
    "        yield page, sum(count)\n",
    "        \n",
    "    def mapper_sort(self, page, count):        \n",
    "        yield (page, count), None\n",
    "        \n",
    "    def reducer_sort(self, key, _):\n",
    "        self.increment_counter('HW4_3','page_sort',1)\n",
    "        if self.i < self.n_freq:\n",
    "            self.i += 1\n",
    "            yield key        \n",
    "        \n",
    "    def steps(self):             \n",
    "        sort_jobconf = {  #key value pairs            \n",
    "            'mapreduce.job.output.key.comparator.class': 'org.apache.hadoop.mapreduce.lib.partition.KeyFieldBasedComparator',\n",
    "            'mapreduce.partition.keycomparator.options': '-k2,2nr',\n",
    "            'mapreduce.job.maps': '2',\n",
    "            'mapreduce.job.reduces': '1',\n",
    "            'stream.num.map.output.key.fields': '2',\n",
    "            'mapreduce.map.output.key.field.separator': ' ',\n",
    "            'stream.map.output.field.separator': ' ',\n",
    "        }\n",
    "        \n",
    "        count_jobconf = {\n",
    "            'mapreduce.job.maps': '3',\n",
    "            'mapreduce.job.reduces': '2',\n",
    "        }\n",
    "        \n",
    "        return [MRStep(mapper=self.mapper_count, reducer=self.reducer_count, jobconf=count_jobconf)\n",
    "                ,MRStep(mapper=self.mapper_sort, reducer=self.reducer_sort, jobconf=sort_jobconf)\n",
    "               ]\n",
    "    \n",
    "\n",
    "if __name__ == '__main__':\n",
    "    FreqVisitPage.run()\n",
    "    "
   ]
  },
  {
   "cell_type": "markdown",
   "metadata": {},
   "source": [
    "###Run the job:"
   ]
  },
  {
   "cell_type": "code",
   "execution_count": 4,
   "metadata": {
    "collapsed": false
   },
   "outputs": [
    {
     "name": "stdout",
     "output_type": "stream",
     "text": [
      "no configs found; falling back on auto-configuration\n",
      "no configs found; falling back on auto-configuration\n",
      "creating tmp directory /var/folders/tx/5ldq67q511q8wqwqkvptnxd00000gn/T/HW4_3.leiyang.20160207.164803.716591\n",
      "writing wrapper script to /var/folders/tx/5ldq67q511q8wqwqkvptnxd00000gn/T/HW4_3.leiyang.20160207.164803.716591/setup-wrapper.sh\n",
      "Using Hadoop version 2.7.1\n",
      "Copying local files into hdfs:///user/leiyang/tmp/mrjob/HW4_3.leiyang.20160207.164803.716591/files/\n",
      "\n",
      "PLEASE NOTE: Starting in mrjob v0.5.0, protocols will be strict by default. It's recommended you run your job with --strict-protocols or set up mrjob.conf as described at https://pythonhosted.org/mrjob/whats-new.html#ready-for-strict-protocols\n",
      "\n",
      "HADOOP: packageJobJar: [/var/folders/tx/5ldq67q511q8wqwqkvptnxd00000gn/T/hadoop-unjar3631138886245920239/] [] /var/folders/tx/5ldq67q511q8wqwqkvptnxd00000gn/T/streamjob6728242883071567469.jar tmpDir=null\n",
      "Counters from step 1:\n",
      "  (no counters found)\n",
      "HADOOP: packageJobJar: [/var/folders/tx/5ldq67q511q8wqwqkvptnxd00000gn/T/hadoop-unjar1810658385037293148/] [] /var/folders/tx/5ldq67q511q8wqwqkvptnxd00000gn/T/streamjob3374236779107942705.jar tmpDir=null\n",
      "Counters from step 2:\n",
      "  (no counters found)\n",
      "Streaming final output from hdfs:///user/leiyang/tmp/mrjob/HW4_3.leiyang.20160207.164803.716591/output\n",
      "removing tmp directory /var/folders/tx/5ldq67q511q8wqwqkvptnxd00000gn/T/HW4_3.leiyang.20160207.164803.716591\n",
      "deleting hdfs:///user/leiyang/tmp/mrjob/HW4_3.leiyang.20160207.164803.716591 from HDFS\n",
      "\"1008\"\t10836\n",
      "\"1034\"\t9383\n",
      "\"1004\"\t8463\n",
      "\"1018\"\t5330\n",
      "\"1017\"\t5108\n"
     ]
    }
   ],
   "source": [
    "### running the job locally\n",
    "#!python HW4_3.py HW4_2_results > HW4_3_results\n",
    "\n",
    "### running the job on hadoop\n",
    "!python HW4_3.py HW4_2_results --hadoop-home '/usr/local/Cellar/hadoop/2.7.1/' -r hadoop > HW4_3_results\n",
    "\n",
    "### results\n",
    "!cat HW4_3_results"
   ]
  },
  {
   "cell_type": "markdown",
   "metadata": {},
   "source": [
    "###*HW4.4:* Find the most frequent visitor of each page using MrJob and the output of 4.2  (i.e., transfromed log file). In this output please include the webpage URL, webpageID and Visitor ID.\n",
    "\n",
    "**Dev Notes:**\n",
    "- mapper 1: repeat HW4.2 mapper to conver log format first\n",
    "- mapper 2: emit dummy key for webpage item, such that it alway comes immediately before website/visitor lines\n",
    " - for rows start with A, key is \n",
    " - partitioner: sort "
   ]
  },
  {
   "cell_type": "code",
   "execution_count": 117,
   "metadata": {
    "collapsed": false
   },
   "outputs": [
    {
     "name": "stdout",
     "output_type": "stream",
     "text": [
      "Overwriting HW4_4.py\n"
     ]
    }
   ],
   "source": [
    "%%writefile HW4_4.py\n",
    "from mrjob.job import MRJob\n",
    "from mrjob.step import MRStep\n",
    " \n",
    "class FreqVisitor(MRJob):\n",
    "    \n",
    "    # member variables: visitor ID and url\n",
    "    url = visitorID = None\n",
    "    current_page = None\n",
    "    current_max = 0\n",
    "    \n",
    "    # 1. mapper\n",
    "    def convert_mapper(self, _, line):        \n",
    "        # time of mapper being called\n",
    "        self.increment_counter('HW4_2', 'lines', 1)\n",
    "        # only emit lines start with C and V\n",
    "        line = line.strip()\n",
    "        if line[0] not in ['C', 'V', 'A']:\n",
    "            return\n",
    "        temp = line.split(',')\n",
    "        # process A, C, and V lines\n",
    "        if line[0] == 'C':            \n",
    "            # get the latest visitor ID\n",
    "            self.visitorID = temp[2]  \n",
    "        elif line[0] == 'A':\n",
    "            # emit V_pageID_*_url as key, dummy 1 as value\n",
    "            yield 'V_%s_*_%s' %(temp[1], temp[4].strip('\"')), 1\n",
    "        else:\n",
    "            # emit V_pageID_C_visitorID as key, 1 as value\n",
    "            yield 'V_%s_C_%s' %(temp[1], self.visitorID), 1\n",
    "     \n",
    "    # 2. reducer to get count for each visitor on each page\n",
    "    def count_reducer(self, key, value):        \n",
    "        temp = key.strip().split('_')\n",
    "        # save webpage url for the following visisting records\n",
    "        if temp[2] == '*':\n",
    "            self.url = temp[3]\n",
    "        else:\n",
    "            yield key+'_'+self.url, sum(value)\n",
    "            \n",
    "    # 3. mapper for sorting: partition by page id, secondary sorting/ranking by count\n",
    "    def rank_mapper(self, key, count):   \n",
    "        v, pID, c, cID, url = key.strip().split('_')\n",
    "        #yield (pID, count, cID, url), None\n",
    "        yield ('V_%s' %pID, count), ('%s_%s' %(cID, url))\n",
    "    \n",
    "    # 4. reducer get max vistor of each page\n",
    "    def rank_reducer(self, key, value):\n",
    "        # yield key, sum(value) # working line\n",
    "        \n",
    "        yield key\n",
    "           \n",
    "    \n",
    "    # 0. MapReduce steps\n",
    "    def steps(self):\n",
    "        count_jobconf = {  #key value pairs                        \n",
    "            'mapreduce.job.maps': '1',\n",
    "            'mapreduce.job.reduces': '1', # must only use 1 reducer to have the proper order\n",
    "        }\n",
    "        \n",
    "        rank_jobconf = {\n",
    "            'mapreduce.job.output.key.comparator.class': 'org.apache.hadoop.mapreduce.lib.partition.KeyFieldBasedComparator',\n",
    "            'mapreduce.partition.keycomparator.options': '-k1,1r -k2,2nr',\n",
    "            'mapreduce.job.maps': '2',\n",
    "            'mapreduce.job.reduces': '1',\n",
    "            'stream.num.map.output.key.fields': '3',\n",
    "            'mapreduce.map.output.key.field.separator': ' ',\n",
    "            'stream.map.output.field.separator': ' ',            \n",
    "        }\n",
    "        return [MRStep(mapper=self.convert_mapper, reducer=self.count_reducer, jobconf=count_jobconf),\n",
    "                MRStep(mapper=self.rank_mapper, reducer=self.rank_reducer, jobconf=rank_jobconf)]\n",
    "        \n",
    "    \n",
    "if __name__ == '__main__':\n",
    "    FreqVisitor.run()"
   ]
  },
  {
   "cell_type": "markdown",
   "metadata": {},
   "source": [
    "###Run the job:"
   ]
  },
  {
   "cell_type": "code",
   "execution_count": 119,
   "metadata": {
    "collapsed": false,
    "scrolled": false
   },
   "outputs": [
    {
     "name": "stdout",
     "output_type": "stream",
     "text": [
      "no configs found; falling back on auto-configuration\n",
      "no configs found; falling back on auto-configuration\n",
      "creating tmp directory /var/folders/tx/5ldq67q511q8wqwqkvptnxd00000gn/T/HW4_4.leiyang.20160207.184516.757082\n",
      "writing wrapper script to /var/folders/tx/5ldq67q511q8wqwqkvptnxd00000gn/T/HW4_4.leiyang.20160207.184516.757082/setup-wrapper.sh\n",
      "Using Hadoop version 2.7.1\n",
      "Copying local files into hdfs:///user/leiyang/tmp/mrjob/HW4_4.leiyang.20160207.184516.757082/files/\n",
      "\n",
      "PLEASE NOTE: Starting in mrjob v0.5.0, protocols will be strict by default. It's recommended you run your job with --strict-protocols or set up mrjob.conf as described at https://pythonhosted.org/mrjob/whats-new.html#ready-for-strict-protocols\n",
      "\n",
      "HADOOP: packageJobJar: [/var/folders/tx/5ldq67q511q8wqwqkvptnxd00000gn/T/hadoop-unjar6304125417430756182/] [] /var/folders/tx/5ldq67q511q8wqwqkvptnxd00000gn/T/streamjob7869225016395854777.jar tmpDir=null\n",
      "Counters from step 1:\n",
      "  (no counters found)\n",
      "HADOOP: packageJobJar: [/var/folders/tx/5ldq67q511q8wqwqkvptnxd00000gn/T/hadoop-unjar8528330193002263984/] [] /var/folders/tx/5ldq67q511q8wqwqkvptnxd00000gn/T/streamjob5680630057715837227.jar tmpDir=null\n",
      "Counters from step 2:\n",
      "  (no counters found)\n",
      "Streaming final output from hdfs:///user/leiyang/tmp/mrjob/HW4_4.leiyang.20160207.184516.757082/output\n",
      "removing tmp directory /var/folders/tx/5ldq67q511q8wqwqkvptnxd00000gn/T/HW4_4.leiyang.20160207.184516.757082\n",
      "deleting hdfs:///user/leiyang/tmp/mrjob/HW4_4.leiyang.20160207.184516.757082 from HDFS\n"
     ]
    }
   ],
   "source": [
    "### running the job locally\n",
    "#!python HW4_4.py anonymous-msweb.data2 > HW4_4_results\n",
    "\n",
    "### running the job on hadoop\n",
    "!python HW4_4.py anonymous-msweb.data2 --hadoop-home '/usr/local/Cellar/hadoop/2.7.1/' -r hadoop > HW4_4_results\n",
    "\n",
    "### results sample\n",
    "#!head -20 HW4_4_results"
   ]
  },
  {
   "cell_type": "markdown",
   "metadata": {},
   "source": [
    "###*HW 4.5* \n",
    "Here you will use a different dataset consisting of word-frequency distributions\n",
    "for 1,000 Twitter users. These Twitter users use language in very different ways,\n",
    "and were classified by hand according to the criteria:\n",
    "\n",
    "- 0: Human, where only basic human-human communication is observed.\n",
    "\n",
    "- 1: Cyborg, where language is primarily borrowed from other sources\n",
    "(e.g., jobs listings, classifieds postings, advertisements, etc...).\n",
    "\n",
    "- 2: Robot, where language is formulaically derived from unrelated sources\n",
    "(e.g., weather/seismology, police/fire event logs, etc...).\n",
    "\n",
    "- 3: Spammer, where language is replicated to high multiplicity\n",
    "(e.g., celebrity obsessions, personal promotion, etc... )\n",
    "\n",
    "Check out the preprints of our recent research,\n",
    "which spawned this dataset:\n",
    "\n",
    "http://arxiv.org/abs/1505.04342\n",
    "http://arxiv.org/abs/1508.01843\n",
    "\n",
    "The main data lie in the accompanying file:\n",
    "\n",
    "**topUsers_Apr-Jul_2014_1000-words.txt**\n",
    "\n",
    "and are of the form:\n",
    "\n",
    "USERID,CODE,TOTAL,WORD1_COUNT,WORD2_COUNT,...\n",
    ".\n",
    ".\n",
    "\n",
    "where\n",
    "\n",
    "USERID = unique user identifier\n",
    "CODE = 0/1/2/3 class code\n",
    "TOTAL = sum of the word counts\n",
    "\n",
    "Using this data, you will implement a 1000-dimensional K-means algorithm in MrJob on the users\n",
    "by their 1000-dimensional word stripes/vectors using several\n",
    "centroid initializations and values of K.\n",
    "\n",
    "Note that each \"point\" is a user as represented by 1000 words, and that\n",
    "word-frequency distributions are generally heavy-tailed power-laws\n",
    "(often called Zipf distributions), and are very rare in the larger class\n",
    "of discrete, random distributions. For each user you will have to normalize\n",
    "by its \"TOTAL\" column. Try several parameterizations and initializations:\n",
    "\n",
    "- (A) K=4 uniform random centroid-distributions over the 1000 words\n",
    "- (B) K=2 perturbation-centroids, randomly perturbed from the aggregated (user-wide) distribution\n",
    "- (C) K=4 perturbation-centroids, randomly perturbed from the aggregated (user-wide) distribution\n",
    "- (D) K=4 \"trained\" centroids, determined by the sums across the classes.\n",
    "\n",
    "and iterate until a threshold (try 0.001) is reached.\n",
    "After convergence, print out a summary of the classes present in each cluster.\n",
    "In particular, report the composition as measured by the total\n",
    "portion of each class type (0-3) contained in each cluster,\n",
    "and discuss your findings and any differences in outcomes across parts A-D.\n",
    "\n",
    "Note that you do not have to compute the aggregated distribution or the\n",
    "class-aggregated distributions, which are rows in the auxiliary file:\n",
    "\n",
    "topUsers_Apr-Jul_2014_1000-words_summaries.txt\n"
   ]
  },
  {
   "cell_type": "markdown",
   "metadata": {},
   "source": [
    "###*W4.6  (OPTIONAL)* Scaleable K-MEANS++\n",
    "\n",
    "- Read the following paper entitled \"Scaleable K-MEANS++\" located at:\n",
    "\n",
    "http://theory.stanford.edu/~sergei/papers/vldb12-kmpar.pdf\n",
    "\n",
    "- In MrJob, implement K-MEANS|| and compare with a random initialization for the dataset above.\n",
    "Report on the number passes over the training data, and time required to run all  clustering algorithms.\n"
   ]
  },
  {
   "cell_type": "code",
   "execution_count": null,
   "metadata": {
    "collapsed": true
   },
   "outputs": [],
   "source": []
  },
  {
   "cell_type": "markdown",
   "metadata": {},
   "source": [
    "###stop yarn, hdfs, and job history"
   ]
  },
  {
   "cell_type": "code",
   "execution_count": 2,
   "metadata": {
    "collapsed": false
   },
   "outputs": [
    {
     "name": "stdout",
     "output_type": "stream",
     "text": [
      "stopping yarn daemons\n",
      "stopping resourcemanager\n",
      "localhost: stopping nodemanager\n",
      "localhost: nodemanager did not stop gracefully after 5 seconds: killing with kill -9\n",
      "no proxyserver to stop\n",
      "Stopping namenodes on [localhost]\n",
      "localhost: stopping namenode\n",
      "localhost: stopping datanode\n",
      "Stopping secondary namenodes [0.0.0.0]\n",
      "0.0.0.0: stopping secondarynamenode\n",
      "stopping historyserver\n"
     ]
    }
   ],
   "source": [
    "!/usr/local/Cellar/hadoop/2*/sbin/stop-yarn.sh\n",
    "!/usr/local/Cellar/hadoop/2*/sbin/stop-dfs.sh\n",
    "!/usr/local/Cellar/hadoop/2*/sbin/mr-jobhistory-daemon.sh --config /usr/local/Cellar/hadoop/2*/libexec/etc/hadoop/ stop historyserver "
   ]
  }
 ],
 "metadata": {
  "kernelspec": {
   "display_name": "Python 2",
   "language": "python",
   "name": "python2"
  },
  "language_info": {
   "codemirror_mode": {
    "name": "ipython",
    "version": 2
   },
   "file_extension": ".py",
   "mimetype": "text/x-python",
   "name": "python",
   "nbconvert_exporter": "python",
   "pygments_lexer": "ipython2",
   "version": "2.7.9"
  }
 },
 "nbformat": 4,
 "nbformat_minor": 0
}
