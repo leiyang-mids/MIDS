{
 "cells": [
  {
   "cell_type": "markdown",
   "metadata": {},
   "source": [
    "#DATASCI W261, Machine Learning at Scale\n",
    "--------\n",
    "####Assignement:  week \\#2\n",
    "####Lei Yang (leiyang@berkeley.edu)\n",
    "####Due: 2016-01-26, 8AM PST"
   ]
  },
  {
   "cell_type": "markdown",
   "metadata": {},
   "source": [
    "###*HW2.0.*\n",
    "- What is a race condition in the context of parallel computation? Give an example.\n",
    "- What is MapReduce?\n",
    "- How does it differ from Hadoop?\n",
    "- Which programming paradigm is Hadoop based on? Explain and give a simple example in code and show the code running.\n"
   ]
  },
  {
   "cell_type": "markdown",
   "metadata": {},
   "source": [
    "####<span style=\"color:red\">HW2.0 Answer:</span>\n"
   ]
  },
  {
   "cell_type": "markdown",
   "metadata": {},
   "source": [
    "###start yarn and hdfs"
   ]
  },
  {
   "cell_type": "code",
   "execution_count": 2,
   "metadata": {
    "collapsed": false
   },
   "outputs": [
    {
     "name": "stdout",
     "output_type": "stream",
     "text": [
      "starting yarn daemons\n",
      "starting resourcemanager, logging to /usr/local/Cellar/hadoop/2.7.1/libexec/logs/yarn-leiyang-resourcemanager-Leis-MacBook-Pro.local.out\n",
      "localhost: starting nodemanager, logging to /usr/local/Cellar/hadoop/2.7.1/libexec/logs/yarn-leiyang-nodemanager-Leis-MacBook-Pro.local.out\n",
      "16/01/22 19:34:22 WARN util.NativeCodeLoader: Unable to load native-hadoop library for your platform... using builtin-java classes where applicable\n",
      "Starting namenodes on [localhost]\n",
      "localhost: starting namenode, logging to /usr/local/Cellar/hadoop/2.7.1/libexec/logs/hadoop-leiyang-namenode-Leis-MacBook-Pro.local.out\n",
      "localhost: starting datanode, logging to /usr/local/Cellar/hadoop/2.7.1/libexec/logs/hadoop-leiyang-datanode-Leis-MacBook-Pro.local.out\n",
      "Starting secondary namenodes [0.0.0.0]\n",
      "0.0.0.0: starting secondarynamenode, logging to /usr/local/Cellar/hadoop/2.7.1/libexec/logs/hadoop-leiyang-secondarynamenode-Leis-MacBook-Pro.local.out\n",
      "16/01/22 19:34:38 WARN util.NativeCodeLoader: Unable to load native-hadoop library for your platform... using builtin-java classes where applicable\n"
     ]
    }
   ],
   "source": [
    "!/usr/local/Cellar/hadoop/2*/sbin/start-yarn.sh\n",
    "!/usr/local/Cellar/hadoop/2*/sbin/start-dfs.sh"
   ]
  },
  {
   "cell_type": "markdown",
   "metadata": {},
   "source": [
    "###create a folder and upload enronemail_1h.txt to hdfs"
   ]
  },
  {
   "cell_type": "code",
   "execution_count": 3,
   "metadata": {
    "collapsed": false
   },
   "outputs": [
    {
     "name": "stdout",
     "output_type": "stream",
     "text": [
      "16/01/22 19:35:35 WARN util.NativeCodeLoader: Unable to load native-hadoop library for your platform... using builtin-java classes where applicable\n",
      "16/01/22 19:35:37 WARN util.NativeCodeLoader: Unable to load native-hadoop library for your platform... using builtin-java classes where applicable\n"
     ]
    }
   ],
   "source": [
    "!hdfs dfs -mkdir -p /user/lei\n",
    "!hdfs dfs -put enronemail_1h.txt /user/lei"
   ]
  },
  {
   "cell_type": "markdown",
   "metadata": {},
   "source": [
    "###*HW2.1.* Sort in Hadoop MapReduce\n",
    "- Given as input: Records of the form <integer, “NA”>, where integer is any integer, and “NA” is just the empty string.\n",
    "- Output: sorted key value pairs of the form <integer, “NA”> in decreasing order; what happens if you have multiple reducers? Do you need additional steps? Explain.\n",
    "\n",
    "- Write code to generate N  random records of the form <integer, “NA”>. Let N = 10,000.\n",
    "- Write the python Hadoop streaming map-reduce job to perform this sort. Display the top 10 biggest numbers. Display the 10 smallest numbers"
   ]
  },
  {
   "cell_type": "markdown",
   "metadata": {},
   "source": [
    "####<span style=\"color:red\">HW2.1 Answer:</span>\n",
    "\n"
   ]
  },
  {
   "cell_type": "markdown",
   "metadata": {},
   "source": [
    "###*HW2.2.*  WORDCOUNT\n",
    "- Using the Enron data from HW1 and Hadoop MapReduce streaming, write the mapper/reducer job that  will determine the word count (number of occurrences) of each white-space delimitted token (assume spaces, fullstops, comma as delimiters). \n",
    "- Examine the word “assistance” and report its word count results.\n",
    "- CROSSCHECK: >grep assistance enronemail_1h.txt|cut -d$'\\t' -f4| grep assistance|wc -l    \n",
    "  - 8    \n",
    "  - \\#NOTE  \"assistance\" occurs on 8 lines but how many times does the token occur? 10 times! This is the number we are looking for!"
   ]
  },
  {
   "cell_type": "markdown",
   "metadata": {},
   "source": [
    "###Mapper"
   ]
  },
  {
   "cell_type": "code",
   "execution_count": 7,
   "metadata": {
    "collapsed": false
   },
   "outputs": [
    {
     "name": "stdout",
     "output_type": "stream",
     "text": [
      "Overwriting mapper.py\n"
     ]
    }
   ],
   "source": [
    "%%writefile mapper.py\n",
    "#!/usr/bin/python\n",
    "import sys, re, string\n",
    "# define regex for punctuation removal\n",
    "regex = re.compile('[%s]' % re.escape(string.punctuation))\n",
    "# input comes from STDIN (standard input)\n",
    "for line in sys.stdin:\n",
    "    # use subject and body\n",
    "    line = line.split('\\t', 2)[-1]\n",
    "    # remove punctuations, only have white-space as delimiter\n",
    "    line = regex.sub('', line.lower())\n",
    "    # split the line into words\n",
    "    words = line.split()\n",
    "    # increase counters\n",
    "    for word in words:\n",
    "        # write the results to STDOUT (standard output);\n",
    "        # what we output here will be the input for the\n",
    "        # Reduce step, i.e. the input for reducer.py\n",
    "        #\n",
    "        # tab-delimited; the trivial word count is 1\n",
    "        print '%s\\t%s' % (word, 1)"
   ]
  },
  {
   "cell_type": "markdown",
   "metadata": {},
   "source": [
    "###Reducer"
   ]
  },
  {
   "cell_type": "code",
   "execution_count": 5,
   "metadata": {
    "collapsed": false
   },
   "outputs": [
    {
     "name": "stdout",
     "output_type": "stream",
     "text": [
      "Writing reducer.py\n"
     ]
    }
   ],
   "source": [
    "%%writefile reducer.py\n",
    "#!/usr/bin/python\n",
    "from operator import itemgetter\n",
    "import sys\n",
    "\n",
    "current_word = None\n",
    "current_count = 0\n",
    "word = None\n",
    "wordcount = {}\n",
    "\n",
    "# input comes from STDIN\n",
    "for line in sys.stdin:\n",
    "    # remove leading and trailing whitespace\n",
    "    line = line.strip()\n",
    "\n",
    "    # parse the input we got from mapper.py\n",
    "    word, count = line.split('\\t', 1)\n",
    "\n",
    "    # convert count (currently a string) to int\n",
    "    try:\n",
    "        count = int(count)\n",
    "    except ValueError:\n",
    "        # count was not a number, so silently\n",
    "        # ignore/discard this line\n",
    "        continue\n",
    "\n",
    "    # this IF-switch only works because Hadoop sorts map output\n",
    "    # by key (here: word) before it is passed to the reducer\n",
    "    if current_word == word:\n",
    "        current_count += count\n",
    "    else:\n",
    "        if current_word:\n",
    "            # save count            \n",
    "            wordcount[current_word] = current_count\n",
    "        current_count = count\n",
    "        current_word = word\n",
    "\n",
    "# do not forget to save the last word count if needed!\n",
    "if current_word == word:    \n",
    "    wordcount[current_word] = current_count\n",
    "    \n",
    "# found count for word assistance\n",
    "findword = 'assistance'\n",
    "print '%s\\t%d' %(findword, wordcount[findword] if findword in wordcount else 0)"
   ]
  },
  {
   "cell_type": "markdown",
   "metadata": {},
   "source": [
    "###Run the job with Hadoop streaming"
   ]
  },
  {
   "cell_type": "code",
   "execution_count": 9,
   "metadata": {
    "collapsed": false
   },
   "outputs": [
    {
     "name": "stdout",
     "output_type": "stream",
     "text": [
      "16/01/22 19:42:00 WARN util.NativeCodeLoader: Unable to load native-hadoop library for your platform... using builtin-java classes where applicable\n",
      "rm: `HW2_2': No such file or directory\n",
      "16/01/22 19:42:02 WARN util.NativeCodeLoader: Unable to load native-hadoop library for your platform... using builtin-java classes where applicable\n",
      "16/01/22 19:42:03 INFO Configuration.deprecation: session.id is deprecated. Instead, use dfs.metrics.session-id\n",
      "16/01/22 19:42:03 INFO jvm.JvmMetrics: Initializing JVM Metrics with processName=JobTracker, sessionId=\n",
      "16/01/22 19:42:03 INFO jvm.JvmMetrics: Cannot initialize JVM Metrics with processName=JobTracker, sessionId= - already initialized\n",
      "16/01/22 19:42:03 INFO mapred.FileInputFormat: Total input paths to process : 1\n",
      "16/01/22 19:42:03 INFO mapreduce.JobSubmitter: number of splits:1\n",
      "16/01/22 19:42:03 INFO mapreduce.JobSubmitter: Submitting tokens for job: job_local2074031927_0001\n",
      "16/01/22 19:42:04 INFO mapreduce.Job: The url to track the job: http://localhost:8080/\n",
      "16/01/22 19:42:04 INFO mapred.LocalJobRunner: OutputCommitter set in config null\n",
      "16/01/22 19:42:04 INFO mapreduce.Job: Running job: job_local2074031927_0001\n",
      "16/01/22 19:42:04 INFO mapred.LocalJobRunner: OutputCommitter is org.apache.hadoop.mapred.FileOutputCommitter\n",
      "16/01/22 19:42:04 INFO output.FileOutputCommitter: File Output Committer Algorithm version is 1\n",
      "16/01/22 19:42:04 INFO mapred.LocalJobRunner: Waiting for map tasks\n",
      "16/01/22 19:42:04 INFO mapred.LocalJobRunner: Starting task: attempt_local2074031927_0001_m_000000_0\n",
      "16/01/22 19:42:04 INFO output.FileOutputCommitter: File Output Committer Algorithm version is 1\n",
      "16/01/22 19:42:04 INFO util.ProcfsBasedProcessTree: ProcfsBasedProcessTree currently is supported only on Linux.\n",
      "16/01/22 19:42:04 INFO mapred.Task:  Using ResourceCalculatorProcessTree : null\n",
      "16/01/22 19:42:04 INFO mapred.MapTask: Processing split: hdfs://localhost:9000/user/lei/enronemail_1h.txt:0+203981\n",
      "16/01/22 19:42:04 INFO mapred.MapTask: numReduceTasks: 1\n",
      "16/01/22 19:42:04 INFO mapred.MapTask: (EQUATOR) 0 kvi 26214396(104857584)\n",
      "16/01/22 19:42:04 INFO mapred.MapTask: mapreduce.task.io.sort.mb: 100\n",
      "16/01/22 19:42:04 INFO mapred.MapTask: soft limit at 83886080\n",
      "16/01/22 19:42:04 INFO mapred.MapTask: bufstart = 0; bufvoid = 104857600\n",
      "16/01/22 19:42:04 INFO mapred.MapTask: kvstart = 26214396; length = 6553600\n",
      "16/01/22 19:42:04 INFO mapred.MapTask: Map output collector class = org.apache.hadoop.mapred.MapTask$MapOutputBuffer\n",
      "16/01/22 19:42:04 INFO streaming.PipeMapRed: PipeMapRed exec [/Users/leiyang/GitHub/MIDS/W261/HW2-Questions/./mapper.py]\n",
      "16/01/22 19:42:04 INFO Configuration.deprecation: mapred.task.id is deprecated. Instead, use mapreduce.task.attempt.id\n",
      "16/01/22 19:42:04 INFO Configuration.deprecation: user.name is deprecated. Instead, use mapreduce.job.user.name\n",
      "16/01/22 19:42:04 INFO Configuration.deprecation: map.input.start is deprecated. Instead, use mapreduce.map.input.start\n",
      "16/01/22 19:42:04 INFO Configuration.deprecation: mapred.task.is.map is deprecated. Instead, use mapreduce.task.ismap\n",
      "16/01/22 19:42:04 INFO Configuration.deprecation: mapred.tip.id is deprecated. Instead, use mapreduce.task.id\n",
      "16/01/22 19:42:04 INFO Configuration.deprecation: mapred.skip.on is deprecated. Instead, use mapreduce.job.skiprecords\n",
      "16/01/22 19:42:04 INFO Configuration.deprecation: mapred.task.partition is deprecated. Instead, use mapreduce.task.partition\n",
      "16/01/22 19:42:04 INFO Configuration.deprecation: map.input.length is deprecated. Instead, use mapreduce.map.input.length\n",
      "16/01/22 19:42:04 INFO Configuration.deprecation: mapred.local.dir is deprecated. Instead, use mapreduce.cluster.local.dir\n",
      "16/01/22 19:42:04 INFO Configuration.deprecation: mapred.work.output.dir is deprecated. Instead, use mapreduce.task.output.dir\n",
      "16/01/22 19:42:04 INFO Configuration.deprecation: map.input.file is deprecated. Instead, use mapreduce.map.input.file\n",
      "16/01/22 19:42:04 INFO Configuration.deprecation: mapred.job.id is deprecated. Instead, use mapreduce.job.id\n",
      "16/01/22 19:42:04 INFO streaming.PipeMapRed: R/W/S=1/0/0 in:NA [rec/s] out:NA [rec/s]\n",
      "16/01/22 19:42:04 INFO streaming.PipeMapRed: R/W/S=10/0/0 in:NA [rec/s] out:NA [rec/s]\n",
      "16/01/22 19:42:04 INFO streaming.PipeMapRed: Records R/W=73/1\n",
      "16/01/22 19:42:04 INFO streaming.PipeMapRed: R/W/S=100/509/0 in:NA [rec/s] out:NA [rec/s]\n",
      "16/01/22 19:42:04 INFO streaming.PipeMapRed: MRErrorThread done\n",
      "16/01/22 19:42:04 INFO streaming.PipeMapRed: mapRedFinished\n",
      "16/01/22 19:42:04 INFO mapred.LocalJobRunner: \n",
      "16/01/22 19:42:04 INFO mapred.MapTask: Starting flush of map output\n",
      "16/01/22 19:42:04 INFO mapred.MapTask: Spilling map output\n",
      "16/01/22 19:42:04 INFO mapred.MapTask: bufstart = 0; bufend = 247057; bufvoid = 104857600\n",
      "16/01/22 19:42:04 INFO mapred.MapTask: kvstart = 26214396(104857584); kvend = 26088448(104353792); length = 125949/6553600\n",
      "16/01/22 19:42:04 INFO mapred.MapTask: Finished spill 0\n",
      "16/01/22 19:42:04 INFO mapred.Task: Task:attempt_local2074031927_0001_m_000000_0 is done. And is in the process of committing\n",
      "16/01/22 19:42:04 INFO mapred.LocalJobRunner: Records R/W=73/1\n",
      "16/01/22 19:42:04 INFO mapred.Task: Task 'attempt_local2074031927_0001_m_000000_0' done.\n",
      "16/01/22 19:42:04 INFO mapred.LocalJobRunner: Finishing task: attempt_local2074031927_0001_m_000000_0\n",
      "16/01/22 19:42:04 INFO mapred.LocalJobRunner: map task executor complete.\n",
      "16/01/22 19:42:04 INFO mapred.LocalJobRunner: Waiting for reduce tasks\n",
      "16/01/22 19:42:04 INFO mapred.LocalJobRunner: Starting task: attempt_local2074031927_0001_r_000000_0\n",
      "16/01/22 19:42:04 INFO output.FileOutputCommitter: File Output Committer Algorithm version is 1\n",
      "16/01/22 19:42:04 INFO util.ProcfsBasedProcessTree: ProcfsBasedProcessTree currently is supported only on Linux.\n",
      "16/01/22 19:42:04 INFO mapred.Task:  Using ResourceCalculatorProcessTree : null\n",
      "16/01/22 19:42:04 INFO mapred.ReduceTask: Using ShuffleConsumerPlugin: org.apache.hadoop.mapreduce.task.reduce.Shuffle@162d649f\n",
      "16/01/22 19:42:04 INFO reduce.MergeManagerImpl: MergerManager: memoryLimit=333971456, maxSingleShuffleLimit=83492864, mergeThreshold=220421168, ioSortFactor=10, memToMemMergeOutputsThreshold=10\n",
      "16/01/22 19:42:04 INFO reduce.EventFetcher: attempt_local2074031927_0001_r_000000_0 Thread started: EventFetcher for fetching Map Completion Events\n",
      "16/01/22 19:42:04 INFO reduce.LocalFetcher: localfetcher#1 about to shuffle output of map attempt_local2074031927_0001_m_000000_0 decomp: 310035 len: 310039 to MEMORY\n",
      "16/01/22 19:42:04 INFO reduce.InMemoryMapOutput: Read 310035 bytes from map-output for attempt_local2074031927_0001_m_000000_0\n",
      "16/01/22 19:42:04 INFO reduce.MergeManagerImpl: closeInMemoryFile -> map-output of size: 310035, inMemoryMapOutputs.size() -> 1, commitMemory -> 0, usedMemory ->310035\n",
      "16/01/22 19:42:04 INFO reduce.EventFetcher: EventFetcher is interrupted.. Returning\n",
      "16/01/22 19:42:04 INFO mapred.LocalJobRunner: 1 / 1 copied.\n",
      "16/01/22 19:42:04 INFO reduce.MergeManagerImpl: finalMerge called with 1 in-memory map-outputs and 0 on-disk map-outputs\n",
      "16/01/22 19:42:04 INFO mapred.Merger: Merging 1 sorted segments\n",
      "16/01/22 19:42:04 INFO mapred.Merger: Down to the last merge-pass, with 1 segments left of total size: 310031 bytes\n",
      "16/01/22 19:42:04 INFO reduce.MergeManagerImpl: Merged 1 segments, 310035 bytes to disk to satisfy reduce memory limit\n",
      "16/01/22 19:42:04 INFO reduce.MergeManagerImpl: Merging 1 files, 310039 bytes from disk\n",
      "16/01/22 19:42:04 INFO reduce.MergeManagerImpl: Merging 0 segments, 0 bytes from memory into reduce\n",
      "16/01/22 19:42:04 INFO mapred.Merger: Merging 1 sorted segments\n",
      "16/01/22 19:42:04 INFO mapred.Merger: Down to the last merge-pass, with 1 segments left of total size: 310031 bytes\n",
      "16/01/22 19:42:04 INFO mapred.LocalJobRunner: 1 / 1 copied.\n",
      "16/01/22 19:42:04 INFO streaming.PipeMapRed: PipeMapRed exec [/Users/leiyang/GitHub/MIDS/W261/HW2-Questions/./reducer.py]\n",
      "16/01/22 19:42:04 INFO Configuration.deprecation: mapred.job.tracker is deprecated. Instead, use mapreduce.jobtracker.address\n",
      "16/01/22 19:42:04 INFO Configuration.deprecation: mapred.map.tasks is deprecated. Instead, use mapreduce.job.maps\n",
      "16/01/22 19:42:04 INFO streaming.PipeMapRed: R/W/S=1/0/0 in:NA [rec/s] out:NA [rec/s]\n",
      "16/01/22 19:42:04 INFO streaming.PipeMapRed: R/W/S=10/0/0 in:NA [rec/s] out:NA [rec/s]\n",
      "16/01/22 19:42:04 INFO streaming.PipeMapRed: R/W/S=100/0/0 in:NA [rec/s] out:NA [rec/s]\n",
      "16/01/22 19:42:04 INFO streaming.PipeMapRed: R/W/S=1000/0/0 in:NA [rec/s] out:NA [rec/s]\n",
      "16/01/22 19:42:04 INFO streaming.PipeMapRed: R/W/S=10000/0/0 in:NA [rec/s] out:NA [rec/s]\n",
      "16/01/22 19:42:04 INFO streaming.PipeMapRed: Records R/W=31488/1\n",
      "16/01/22 19:42:04 INFO streaming.PipeMapRed: MRErrorThread done\n",
      "16/01/22 19:42:04 INFO streaming.PipeMapRed: mapRedFinished\n",
      "16/01/22 19:42:04 INFO mapred.Task: Task:attempt_local2074031927_0001_r_000000_0 is done. And is in the process of committing\n",
      "16/01/22 19:42:04 INFO mapred.LocalJobRunner: 1 / 1 copied.\n",
      "16/01/22 19:42:04 INFO mapred.Task: Task attempt_local2074031927_0001_r_000000_0 is allowed to commit now\n",
      "16/01/22 19:42:04 INFO output.FileOutputCommitter: Saved output of task 'attempt_local2074031927_0001_r_000000_0' to hdfs://localhost:9000/user/leiyang/HW2_2/_temporary/0/task_local2074031927_0001_r_000000\n",
      "16/01/22 19:42:04 INFO mapred.LocalJobRunner: Records R/W=31488/1 > reduce\n",
      "16/01/22 19:42:04 INFO mapred.Task: Task 'attempt_local2074031927_0001_r_000000_0' done.\n",
      "16/01/22 19:42:04 INFO mapred.LocalJobRunner: Finishing task: attempt_local2074031927_0001_r_000000_0\n",
      "16/01/22 19:42:04 INFO mapred.LocalJobRunner: reduce task executor complete.\n",
      "16/01/22 19:42:05 INFO mapreduce.Job: Job job_local2074031927_0001 running in uber mode : false\n",
      "16/01/22 19:42:05 INFO mapreduce.Job:  map 100% reduce 100%\n",
      "16/01/22 19:42:05 INFO mapreduce.Job: Job job_local2074031927_0001 completed successfully\n",
      "16/01/22 19:42:05 INFO mapreduce.Job: Counters: 35\n",
      "\tFile System Counters\n",
      "\t\tFILE: Number of bytes read=832178\n",
      "\t\tFILE: Number of bytes written=1730393\n",
      "\t\tFILE: Number of read operations=0\n",
      "\t\tFILE: Number of large read operations=0\n",
      "\t\tFILE: Number of write operations=0\n",
      "\t\tHDFS: Number of bytes read=407962\n",
      "\t\tHDFS: Number of bytes written=14\n",
      "\t\tHDFS: Number of read operations=13\n",
      "\t\tHDFS: Number of large read operations=0\n",
      "\t\tHDFS: Number of write operations=4\n",
      "\tMap-Reduce Framework\n",
      "\t\tMap input records=101\n",
      "\t\tMap output records=31488\n",
      "\t\tMap output bytes=247057\n",
      "\t\tMap output materialized bytes=310039\n",
      "\t\tInput split bytes=100\n",
      "\t\tCombine input records=0\n",
      "\t\tCombine output records=0\n",
      "\t\tReduce input groups=5740\n",
      "\t\tReduce shuffle bytes=310039\n",
      "\t\tReduce input records=31488\n",
      "\t\tReduce output records=1\n",
      "\t\tSpilled Records=62976\n",
      "\t\tShuffled Maps =1\n",
      "\t\tFailed Shuffles=0\n",
      "\t\tMerged Map outputs=1\n",
      "\t\tGC time elapsed (ms)=10\n",
      "\t\tTotal committed heap usage (bytes)=582483968\n",
      "\tShuffle Errors\n",
      "\t\tBAD_ID=0\n",
      "\t\tCONNECTION=0\n",
      "\t\tIO_ERROR=0\n",
      "\t\tWRONG_LENGTH=0\n",
      "\t\tWRONG_MAP=0\n",
      "\t\tWRONG_REDUCE=0\n",
      "\tFile Input Format Counters \n",
      "\t\tBytes Read=203981\n",
      "\tFile Output Format Counters \n",
      "\t\tBytes Written=14\n",
      "16/01/22 19:42:05 INFO streaming.StreamJob: Output directory: HW2_2\n"
     ]
    }
   ],
   "source": [
    "!hdfs dfs -rm -r results\n",
    "!hadoop jar /usr/local/Cellar/hadoop/2.*/libexec/share/hadoop/tools/lib/hadoop-streaming-2.7.1.jar -mapper mapper.py -reducer reducer.py -input /user/lei/enronemail_1h.txt -output results"
   ]
  },
  {
   "cell_type": "markdown",
   "metadata": {},
   "source": [
    "###<span style=\"color:red\">HW2.2 Results:</span>"
   ]
  },
  {
   "cell_type": "code",
   "execution_count": 12,
   "metadata": {
    "collapsed": false
   },
   "outputs": [
    {
     "name": "stdout",
     "output_type": "stream",
     "text": [
      "16/01/22 19:48:02 WARN util.NativeCodeLoader: Unable to load native-hadoop library for your platform... using builtin-java classes where applicable\n",
      "assistance\t10\n"
     ]
    }
   ],
   "source": [
    "!hdfs dfs -cat results/part-00000"
   ]
  },
  {
   "cell_type": "markdown",
   "metadata": {},
   "source": [
    "###*HW2.2.1*  Using Hadoop MapReduce and your wordcount job (from HW2.2) determine the top-10 occurring tokens (most frequent tokens)"
   ]
  },
  {
   "cell_type": "markdown",
   "metadata": {},
   "source": [
    "###Mapper - unchanged\n",
    "###Reducer - same as above, only sort total count at the end"
   ]
  },
  {
   "cell_type": "code",
   "execution_count": 20,
   "metadata": {
    "collapsed": false
   },
   "outputs": [
    {
     "name": "stdout",
     "output_type": "stream",
     "text": [
      "Overwriting reducer.py\n"
     ]
    }
   ],
   "source": [
    "%%writefile reducer.py\n",
    "#!/usr/bin/python\n",
    "from operator import itemgetter\n",
    "import sys, operator\n",
    "\n",
    "current_word = None\n",
    "current_count = 0\n",
    "word = None\n",
    "wordcount = {}\n",
    "\n",
    "# input comes from STDIN\n",
    "for line in sys.stdin:\n",
    "    # remove leading and trailing whitespace\n",
    "    line = line.strip()\n",
    "\n",
    "    # parse the input we got from mapper.py\n",
    "    word, count = line.split('\\t', 1)\n",
    "\n",
    "    # convert count (currently a string) to int\n",
    "    try:\n",
    "        count = int(count)\n",
    "    except ValueError:\n",
    "        # count was not a number, so silently\n",
    "        # ignore/discard this line\n",
    "        continue\n",
    "\n",
    "    # this IF-switch only works because Hadoop sorts map output\n",
    "    # by key (here: word) before it is passed to the reducer\n",
    "    if current_word == word:\n",
    "        current_count += count\n",
    "    else:\n",
    "        if current_word:\n",
    "            # save count            \n",
    "            wordcount[current_word] = current_count\n",
    "        current_count = count\n",
    "        current_word = word\n",
    "\n",
    "# do not forget to save the last word count if needed!\n",
    "if current_word == word:    \n",
    "    wordcount[current_word] = current_count\n",
    "    \n",
    "# sort count top get top n counts:\n",
    "n = 10\n",
    "wordcount = sorted(wordcount.items(), key=operator.itemgetter(1))\n",
    "print 'Top %d counts out of %d words:' %(n, len(wordcount))\n",
    "for i in range(n):\n",
    "    print '%s\\t%d' %(wordcount[-i-1])"
   ]
  },
  {
   "cell_type": "markdown",
   "metadata": {},
   "source": [
    "###Run the job with Hadoop streaming"
   ]
  },
  {
   "cell_type": "code",
   "execution_count": 21,
   "metadata": {
    "collapsed": false
   },
   "outputs": [
    {
     "name": "stdout",
     "output_type": "stream",
     "text": [
      "16/01/22 20:33:59 WARN util.NativeCodeLoader: Unable to load native-hadoop library for your platform... using builtin-java classes where applicable\n",
      "16/01/22 20:34:00 INFO fs.TrashPolicyDefault: Namenode trash configuration: Deletion interval = 0 minutes, Emptier interval = 0 minutes.\n",
      "Deleted results\n",
      "16/01/22 20:34:01 WARN util.NativeCodeLoader: Unable to load native-hadoop library for your platform... using builtin-java classes where applicable\n",
      "16/01/22 20:34:02 INFO Configuration.deprecation: session.id is deprecated. Instead, use dfs.metrics.session-id\n",
      "16/01/22 20:34:02 INFO jvm.JvmMetrics: Initializing JVM Metrics with processName=JobTracker, sessionId=\n",
      "16/01/22 20:34:02 INFO jvm.JvmMetrics: Cannot initialize JVM Metrics with processName=JobTracker, sessionId= - already initialized\n",
      "16/01/22 20:34:02 INFO mapred.FileInputFormat: Total input paths to process : 1\n",
      "16/01/22 20:34:02 INFO mapreduce.JobSubmitter: number of splits:1\n",
      "16/01/22 20:34:03 INFO mapreduce.JobSubmitter: Submitting tokens for job: job_local678580952_0001\n",
      "16/01/22 20:34:03 INFO mapreduce.Job: The url to track the job: http://localhost:8080/\n",
      "16/01/22 20:34:03 INFO mapred.LocalJobRunner: OutputCommitter set in config null\n",
      "16/01/22 20:34:03 INFO mapreduce.Job: Running job: job_local678580952_0001\n",
      "16/01/22 20:34:03 INFO mapred.LocalJobRunner: OutputCommitter is org.apache.hadoop.mapred.FileOutputCommitter\n",
      "16/01/22 20:34:03 INFO output.FileOutputCommitter: File Output Committer Algorithm version is 1\n",
      "16/01/22 20:34:03 INFO mapred.LocalJobRunner: Waiting for map tasks\n",
      "16/01/22 20:34:03 INFO mapred.LocalJobRunner: Starting task: attempt_local678580952_0001_m_000000_0\n",
      "16/01/22 20:34:03 INFO output.FileOutputCommitter: File Output Committer Algorithm version is 1\n",
      "16/01/22 20:34:03 INFO util.ProcfsBasedProcessTree: ProcfsBasedProcessTree currently is supported only on Linux.\n",
      "16/01/22 20:34:03 INFO mapred.Task:  Using ResourceCalculatorProcessTree : null\n",
      "16/01/22 20:34:03 INFO mapred.MapTask: Processing split: hdfs://localhost:9000/user/lei/enronemail_1h.txt:0+203981\n",
      "16/01/22 20:34:03 INFO mapred.MapTask: numReduceTasks: 1\n",
      "16/01/22 20:34:03 INFO mapred.MapTask: (EQUATOR) 0 kvi 26214396(104857584)\n",
      "16/01/22 20:34:03 INFO mapred.MapTask: mapreduce.task.io.sort.mb: 100\n",
      "16/01/22 20:34:03 INFO mapred.MapTask: soft limit at 83886080\n",
      "16/01/22 20:34:03 INFO mapred.MapTask: bufstart = 0; bufvoid = 104857600\n",
      "16/01/22 20:34:03 INFO mapred.MapTask: kvstart = 26214396; length = 6553600\n",
      "16/01/22 20:34:03 INFO mapred.MapTask: Map output collector class = org.apache.hadoop.mapred.MapTask$MapOutputBuffer\n",
      "16/01/22 20:34:03 INFO streaming.PipeMapRed: PipeMapRed exec [/Users/leiyang/GitHub/MIDS/W261/HW2-Questions/./mapper.py]\n",
      "16/01/22 20:34:03 INFO Configuration.deprecation: mapred.task.id is deprecated. Instead, use mapreduce.task.attempt.id\n",
      "16/01/22 20:34:03 INFO Configuration.deprecation: user.name is deprecated. Instead, use mapreduce.job.user.name\n",
      "16/01/22 20:34:03 INFO Configuration.deprecation: map.input.start is deprecated. Instead, use mapreduce.map.input.start\n",
      "16/01/22 20:34:03 INFO Configuration.deprecation: mapred.task.is.map is deprecated. Instead, use mapreduce.task.ismap\n",
      "16/01/22 20:34:03 INFO Configuration.deprecation: mapred.tip.id is deprecated. Instead, use mapreduce.task.id\n",
      "16/01/22 20:34:03 INFO Configuration.deprecation: mapred.skip.on is deprecated. Instead, use mapreduce.job.skiprecords\n",
      "16/01/22 20:34:03 INFO Configuration.deprecation: mapred.task.partition is deprecated. Instead, use mapreduce.task.partition\n",
      "16/01/22 20:34:03 INFO Configuration.deprecation: map.input.length is deprecated. Instead, use mapreduce.map.input.length\n",
      "16/01/22 20:34:03 INFO Configuration.deprecation: mapred.local.dir is deprecated. Instead, use mapreduce.cluster.local.dir\n",
      "16/01/22 20:34:03 INFO Configuration.deprecation: mapred.work.output.dir is deprecated. Instead, use mapreduce.task.output.dir\n",
      "16/01/22 20:34:03 INFO Configuration.deprecation: map.input.file is deprecated. Instead, use mapreduce.map.input.file\n",
      "16/01/22 20:34:03 INFO Configuration.deprecation: mapred.job.id is deprecated. Instead, use mapreduce.job.id\n",
      "16/01/22 20:34:03 INFO streaming.PipeMapRed: R/W/S=1/0/0 in:NA [rec/s] out:NA [rec/s]\n",
      "16/01/22 20:34:03 INFO streaming.PipeMapRed: R/W/S=10/0/0 in:NA [rec/s] out:NA [rec/s]\n",
      "16/01/22 20:34:03 INFO streaming.PipeMapRed: Records R/W=73/1\n",
      "16/01/22 20:34:03 INFO streaming.PipeMapRed: R/W/S=100/593/0 in:NA [rec/s] out:NA [rec/s]\n",
      "16/01/22 20:34:03 INFO streaming.PipeMapRed: MRErrorThread done\n",
      "16/01/22 20:34:03 INFO streaming.PipeMapRed: mapRedFinished\n",
      "16/01/22 20:34:03 INFO mapred.LocalJobRunner: \n",
      "16/01/22 20:34:03 INFO mapred.MapTask: Starting flush of map output\n",
      "16/01/22 20:34:03 INFO mapred.MapTask: Spilling map output\n",
      "16/01/22 20:34:03 INFO mapred.MapTask: bufstart = 0; bufend = 247057; bufvoid = 104857600\n",
      "16/01/22 20:34:03 INFO mapred.MapTask: kvstart = 26214396(104857584); kvend = 26088448(104353792); length = 125949/6553600\n",
      "16/01/22 20:34:03 INFO mapred.MapTask: Finished spill 0\n",
      "16/01/22 20:34:03 INFO mapred.Task: Task:attempt_local678580952_0001_m_000000_0 is done. And is in the process of committing\n",
      "16/01/22 20:34:03 INFO mapred.LocalJobRunner: Records R/W=73/1\n",
      "16/01/22 20:34:03 INFO mapred.Task: Task 'attempt_local678580952_0001_m_000000_0' done.\n",
      "16/01/22 20:34:03 INFO mapred.LocalJobRunner: Finishing task: attempt_local678580952_0001_m_000000_0\n",
      "16/01/22 20:34:03 INFO mapred.LocalJobRunner: map task executor complete.\n",
      "16/01/22 20:34:03 INFO mapred.LocalJobRunner: Waiting for reduce tasks\n",
      "16/01/22 20:34:03 INFO mapred.LocalJobRunner: Starting task: attempt_local678580952_0001_r_000000_0\n",
      "16/01/22 20:34:03 INFO output.FileOutputCommitter: File Output Committer Algorithm version is 1\n",
      "16/01/22 20:34:03 INFO util.ProcfsBasedProcessTree: ProcfsBasedProcessTree currently is supported only on Linux.\n",
      "16/01/22 20:34:03 INFO mapred.Task:  Using ResourceCalculatorProcessTree : null\n",
      "16/01/22 20:34:03 INFO mapred.ReduceTask: Using ShuffleConsumerPlugin: org.apache.hadoop.mapreduce.task.reduce.Shuffle@4816ec79\n",
      "16/01/22 20:34:03 INFO reduce.MergeManagerImpl: MergerManager: memoryLimit=333971456, maxSingleShuffleLimit=83492864, mergeThreshold=220421168, ioSortFactor=10, memToMemMergeOutputsThreshold=10\n",
      "16/01/22 20:34:03 INFO reduce.EventFetcher: attempt_local678580952_0001_r_000000_0 Thread started: EventFetcher for fetching Map Completion Events\n",
      "16/01/22 20:34:03 INFO reduce.LocalFetcher: localfetcher#1 about to shuffle output of map attempt_local678580952_0001_m_000000_0 decomp: 310035 len: 310039 to MEMORY\n",
      "16/01/22 20:34:03 INFO reduce.InMemoryMapOutput: Read 310035 bytes from map-output for attempt_local678580952_0001_m_000000_0\n",
      "16/01/22 20:34:03 INFO reduce.MergeManagerImpl: closeInMemoryFile -> map-output of size: 310035, inMemoryMapOutputs.size() -> 1, commitMemory -> 0, usedMemory ->310035\n",
      "16/01/22 20:34:03 INFO reduce.EventFetcher: EventFetcher is interrupted.. Returning\n",
      "16/01/22 20:34:03 INFO mapred.LocalJobRunner: 1 / 1 copied.\n",
      "16/01/22 20:34:03 INFO reduce.MergeManagerImpl: finalMerge called with 1 in-memory map-outputs and 0 on-disk map-outputs\n",
      "16/01/22 20:34:03 INFO mapred.Merger: Merging 1 sorted segments\n",
      "16/01/22 20:34:03 INFO mapred.Merger: Down to the last merge-pass, with 1 segments left of total size: 310031 bytes\n",
      "16/01/22 20:34:03 INFO reduce.MergeManagerImpl: Merged 1 segments, 310035 bytes to disk to satisfy reduce memory limit\n",
      "16/01/22 20:34:03 INFO reduce.MergeManagerImpl: Merging 1 files, 310039 bytes from disk\n",
      "16/01/22 20:34:03 INFO reduce.MergeManagerImpl: Merging 0 segments, 0 bytes from memory into reduce\n",
      "16/01/22 20:34:03 INFO mapred.Merger: Merging 1 sorted segments\n",
      "16/01/22 20:34:03 INFO mapred.Merger: Down to the last merge-pass, with 1 segments left of total size: 310031 bytes\n",
      "16/01/22 20:34:03 INFO mapred.LocalJobRunner: 1 / 1 copied.\n",
      "16/01/22 20:34:03 INFO streaming.PipeMapRed: PipeMapRed exec [/Users/leiyang/GitHub/MIDS/W261/HW2-Questions/./reducer.py]\n",
      "16/01/22 20:34:03 INFO Configuration.deprecation: mapred.job.tracker is deprecated. Instead, use mapreduce.jobtracker.address\n",
      "16/01/22 20:34:03 INFO Configuration.deprecation: mapred.map.tasks is deprecated. Instead, use mapreduce.job.maps\n",
      "16/01/22 20:34:03 INFO streaming.PipeMapRed: R/W/S=1/0/0 in:NA [rec/s] out:NA [rec/s]\n",
      "16/01/22 20:34:03 INFO streaming.PipeMapRed: R/W/S=10/0/0 in:NA [rec/s] out:NA [rec/s]\n",
      "16/01/22 20:34:03 INFO streaming.PipeMapRed: R/W/S=100/0/0 in:NA [rec/s] out:NA [rec/s]\n",
      "16/01/22 20:34:03 INFO streaming.PipeMapRed: R/W/S=1000/0/0 in:NA [rec/s] out:NA [rec/s]\n",
      "16/01/22 20:34:03 INFO streaming.PipeMapRed: R/W/S=10000/0/0 in:NA [rec/s] out:NA [rec/s]\n",
      "16/01/22 20:34:03 INFO streaming.PipeMapRed: MRErrorThread done\n",
      "16/01/22 20:34:03 INFO streaming.PipeMapRed: Records R/W=31488/1\n",
      "16/01/22 20:34:03 INFO streaming.PipeMapRed: mapRedFinished\n",
      "16/01/22 20:34:04 INFO mapred.Task: Task:attempt_local678580952_0001_r_000000_0 is done. And is in the process of committing\n",
      "16/01/22 20:34:04 INFO mapred.LocalJobRunner: 1 / 1 copied.\n",
      "16/01/22 20:34:04 INFO mapred.Task: Task attempt_local678580952_0001_r_000000_0 is allowed to commit now\n",
      "16/01/22 20:34:04 INFO output.FileOutputCommitter: Saved output of task 'attempt_local678580952_0001_r_000000_0' to hdfs://localhost:9000/user/leiyang/results/_temporary/0/task_local678580952_0001_r_000000\n",
      "16/01/22 20:34:04 INFO mapred.LocalJobRunner: Records R/W=31488/1 > reduce\n",
      "16/01/22 20:34:04 INFO mapred.Task: Task 'attempt_local678580952_0001_r_000000_0' done.\n",
      "16/01/22 20:34:04 INFO mapred.LocalJobRunner: Finishing task: attempt_local678580952_0001_r_000000_0\n",
      "16/01/22 20:34:04 INFO mapred.LocalJobRunner: reduce task executor complete.\n",
      "16/01/22 20:34:04 INFO mapreduce.Job: Job job_local678580952_0001 running in uber mode : false\n",
      "16/01/22 20:34:04 INFO mapreduce.Job:  map 100% reduce 100%\n",
      "16/01/22 20:34:04 INFO mapreduce.Job: Job job_local678580952_0001 completed successfully\n",
      "16/01/22 20:34:04 INFO mapreduce.Job: Counters: 35\n",
      "\tFile System Counters\n",
      "\t\tFILE: Number of bytes read=832178\n",
      "\t\tFILE: Number of bytes written=1727393\n",
      "\t\tFILE: Number of read operations=0\n",
      "\t\tFILE: Number of large read operations=0\n",
      "\t\tFILE: Number of write operations=0\n",
      "\t\tHDFS: Number of bytes read=407962\n",
      "\t\tHDFS: Number of bytes written=112\n",
      "\t\tHDFS: Number of read operations=13\n",
      "\t\tHDFS: Number of large read operations=0\n",
      "\t\tHDFS: Number of write operations=4\n",
      "\tMap-Reduce Framework\n",
      "\t\tMap input records=101\n",
      "\t\tMap output records=31488\n",
      "\t\tMap output bytes=247057\n",
      "\t\tMap output materialized bytes=310039\n",
      "\t\tInput split bytes=100\n",
      "\t\tCombine input records=0\n",
      "\t\tCombine output records=0\n",
      "\t\tReduce input groups=5740\n",
      "\t\tReduce shuffle bytes=310039\n",
      "\t\tReduce input records=31488\n",
      "\t\tReduce output records=11\n",
      "\t\tSpilled Records=62976\n",
      "\t\tShuffled Maps =1\n",
      "\t\tFailed Shuffles=0\n",
      "\t\tMerged Map outputs=1\n",
      "\t\tGC time elapsed (ms)=11\n",
      "\t\tTotal committed heap usage (bytes)=582483968\n",
      "\tShuffle Errors\n",
      "\t\tBAD_ID=0\n",
      "\t\tCONNECTION=0\n",
      "\t\tIO_ERROR=0\n",
      "\t\tWRONG_LENGTH=0\n",
      "\t\tWRONG_MAP=0\n",
      "\t\tWRONG_REDUCE=0\n",
      "\tFile Input Format Counters \n",
      "\t\tBytes Read=203981\n",
      "\tFile Output Format Counters \n",
      "\t\tBytes Written=112\n",
      "16/01/22 20:34:04 INFO streaming.StreamJob: Output directory: results\n"
     ]
    }
   ],
   "source": [
    "!hdfs dfs -rm -r results\n",
    "!hadoop jar /usr/local/Cellar/hadoop/2.*/libexec/share/hadoop/tools/lib/hadoop-streaming-2.7.1.jar -mapper mapper.py -reducer reducer.py -input /user/lei/enronemail_1h.txt -output results"
   ]
  },
  {
   "cell_type": "markdown",
   "metadata": {},
   "source": [
    "###<span style=\"color:red\">HW2.2.1 Results:</span>"
   ]
  },
  {
   "cell_type": "code",
   "execution_count": 22,
   "metadata": {
    "collapsed": false
   },
   "outputs": [
    {
     "name": "stdout",
     "output_type": "stream",
     "text": [
      "16/01/22 20:34:15 WARN util.NativeCodeLoader: Unable to load native-hadoop library for your platform... using builtin-java classes where applicable\n",
      "Top 10 counts out of 5740 words:\t\n",
      "the\t1246\n",
      "to\t961\n",
      "and\t662\n",
      "of\t560\n",
      "a\t529\n",
      "you\t427\n",
      "in\t415\n",
      "your\t391\n",
      "for\t373\n",
      "this\t260\n"
     ]
    }
   ],
   "source": [
    "!hdfs dfs -cat results/part-00000"
   ]
  },
  {
   "cell_type": "markdown",
   "metadata": {},
   "source": [
    "###*HW2.3.* Multinomial NAIVE BAYES with NO Smoothing\n",
    "- Using the Enron data from HW1 and Hadoop MapReduce, write  a mapper/reducer job(s) that will both learn  Naive Bayes classifier and classify the Enron email messages using the learnt Naive Bayes classifier. \n",
    "- Use all white-space delimitted tokens as independent input variables (assume spaces, fullstops, commas as delimiters). \n",
    "- Note: for multinomial Naive Bayes, the Pr(X=“assistance”|Y=SPAM) is calculated as follows:\n",
    " - the number of times “assistance” occurs in SPAM labeled documents / the number of words in documents labeled SPAM \n",
    " - E.g.,   “assistance” occurs 5 times in all of the documents Labeled SPAM, and the length in terms of the number of words in all documents labeled as SPAM (when concatenated) is 1,000. Then Pr(X=“assistance”|Y=SPAM) = 5/1000. \n",
    " - Note this is a multinomial estimation of the class conditional for a Naive Bayes Classifier. No smoothing is needed in this HW. \n",
    " - Multiplying lots of probabilities, which are between 0 and 1, can result in floating-point underflow. Since log(xy) = log(x) + log(y), it is better to perform all computations by summing logs of probabilities rather than multiplying probabilities. \n",
    " - Please pay attention to probabilites that are zero! They will need special attention. Count up how many times you need to process a zero probabilty for each class and report. \n",
    "- Report the performance of your learnt classifier in terms of misclassifcation error rate of your multinomial Naive Bayes Classifier. Plot a histogram of the log posterior probabilities (i.e., log(Pr(Class|Doc))) for each class over the training set. Summarize what you see. \n",
    "- Error Rate = misclassification rate with respect to a provided set (say training set in this case). It is more formally defined here:\n",
    " - Let DF represent the evalution set in the following:\n",
    " - Err(Model, DF) = |{(X, c(X)) ∈ DF : c(X) != Model(x)}|   / |DF|\n",
    " - Where || denotes set cardinality; c(X) denotes the class of the tuple X in DF; and Model(X) denotes the class inferred by the Model “Model”\n",
    "\n",
    "   "
   ]
  },
  {
   "cell_type": "markdown",
   "metadata": {},
   "source": [
    "###Mapper\n",
    "- Differ from previous one, in that we separate counts for spam and ham\n",
    "- key~value pair: word~[count in ham, count in spam]"
   ]
  },
  {
   "cell_type": "code",
   "execution_count": 7,
   "metadata": {
    "collapsed": false
   },
   "outputs": [
    {
     "name": "stdout",
     "output_type": "stream",
     "text": [
      "Overwriting mapper.py\n"
     ]
    }
   ],
   "source": [
    "%%writefile mapper.py\n",
    "#!/usr/bin/python\n",
    "import sys, re, string\n",
    "# define regex for punctuation removal\n",
    "regex = re.compile('[%s]' % re.escape(string.punctuation))\n",
    "# input comes from STDIN (standard input)\n",
    "for line in sys.stdin:\n",
    "    # use subject and body\n",
    "    line = line.split('\\t', 2)[-1]\n",
    "    # remove punctuations, only have white-space as delimiter\n",
    "    line = regex.sub('', line.lower())\n",
    "    # split the line into words\n",
    "    words = line.split()\n",
    "    # increase counters\n",
    "    for word in words:\n",
    "        # write the results to STDOUT (standard output);\n",
    "        # what we output here will be the input for the\n",
    "        # Reduce step, i.e. the input for reducer.py\n",
    "        #\n",
    "        # tab-delimited; the trivial word count is 1\n",
    "        print '%s\\t%s' % (word, 1)"
   ]
  },
  {
   "cell_type": "markdown",
   "metadata": {},
   "source": [
    "####Define reducer.py:\n",
    "- collapse wrod counts from all chunks\n",
    "- estimate NB model parameters: prior and conditional probabilities\n",
    "- classify messages that contains the keyword\n",
    "- **Note:** for messages that don't contain the keyword, the decision is solely based on prior probability, which will always give non-spam prediction, thus we skip those messages and only focus on those with the specified keyword\n",
    "- output results\n",
    "\n",
    "####Parameter estimation background:\n",
    "Assuming *positional independence*, and with *add-one Laplace smoothing*, the multinomial NB conditional probability $P(t | c)$ can be estimated as:\n",
    "$$\n",
    "\\hat{P}(t\\mid c)=\\frac{T_{ct}+1}{(\\sum_{t^\\prime \\in V}{T_{ct^\\prime}})+B},\n",
    "$$\n",
    "\n",
    "where $B=|V|$ is the number of terms in the vocabulary $V$ (including all text classes), and $T_{ct}$ is the count of word *t* in class *c*. \n",
    "\n",
    "To classify a message, the posterior probability of class $c$ can be calculated as:\n",
    "$$\n",
    "c_{map}=\\arg\\max_{c\\in\\mathbb C}[\\log{\\hat{P}(c)}+\\sum_{1\\leqslant k \\leqslant n_d}{\\log{\\hat{P}(t_k\\mid c)}}],\n",
    "$$\n",
    "where $\\hat{P}(t_k\\mid c)$ is estimated above with *positional independence* assumption as $\\hat{P}(t\\mid c)$."
   ]
  },
  {
   "cell_type": "code",
   "execution_count": 9,
   "metadata": {
    "collapsed": false
   },
   "outputs": [
    {
     "name": "stdout",
     "output_type": "stream",
     "text": [
      "Overwriting reducer.py\n"
     ]
    }
   ],
   "source": [
    "%%writefile reducer.py\n",
    "#!/usr/bin/python\n",
    "import sys\n",
    "import math\n",
    "from sets import Set\n",
    "\n",
    "n_count, s_count = {}, {}\n",
    "nSpam, nNormal = 0, 0\n",
    "counts = []\n",
    "\n",
    "# scan through each output file from the chunks\n",
    "for filename in sys.argv[1:]:\n",
    "    # we first read out the 2 count dictionaries\n",
    "    with open (filename, \"r\") as myfile:         \n",
    "        for line in myfile.readlines():\n",
    "            cmd = 'counts.append(' + line + ')'\n",
    "            exec cmd\n",
    "            \n",
    "    # we then combine word counts, for non-spam and spam messages, respectively\n",
    "    for word in counts[0]:\n",
    "        if word not in n_count:\n",
    "            n_count[word] = counts[0][word]\n",
    "        else:\n",
    "            n_count[word] += counts[0][word]\n",
    "    \n",
    "    for word in counts[1]:\n",
    "        if word not in s_count:\n",
    "            s_count[word] = counts[1][word]\n",
    "        else:\n",
    "            s_count[word] += counts[1][word]\n",
    "            \n",
    "    # combine spam and non-spam count\n",
    "    nNormal += int(counts[2])\n",
    "    nSpam += int(counts[3])\n",
    "    \n",
    "    # pass along the keyword for classification\n",
    "    keyword = counts[4]\n",
    "    \n",
    "    # clear counts for next chunk\n",
    "    counts = []\n",
    "\n",
    "# we now estimate NB parameters for the specified word, according to the formular above\n",
    "testfile = 'enronemail_1h.txt'\n",
    "print 'Classify messages with key word: ' + keyword\n",
    "B = len(Set(s_count.keys() + n_count.keys()))\n",
    "tot_n = sum(n_count.values())\n",
    "tot_s = sum(s_count.values())\n",
    "p_word_s = 1.0*((s_count[keyword] if keyword in s_count else 0) + 0) / (tot_s + B) # no smoothing\n",
    "p_word_n = 1.0*((n_count[keyword] if keyword in n_count else 0) + 0) / (tot_n + B)\n",
    "\n",
    "# finally we classify the messages which contains the specified word\n",
    "#### prior probability: same for every message, since it's determined by training data ####\n",
    "p_s = 1.0*nSpam/(nSpam+nNormal)\n",
    "p_n = 1.0*nNormal/(nSpam+nNormal)\n",
    "\n",
    "# print model parameters\n",
    "print '\\n============= Model Parameters ============='\n",
    "print 'P(spam) = %f' %(p_s)\n",
    "print 'P(non-spam) = %f' %(p_n)\n",
    "print 'P(%s|spam) = %f' %(keyword, p_word_s)\n",
    "print 'P(%s|non-spam) = %f' %(keyword, p_word_n)\n",
    "\n",
    "#### likelihood: dependend on the frequency of specified word ####\n",
    "print '\\n============= Classification Results ============='\n",
    "print 'TRUTH \\t CLASS \\t ID'\n",
    "with open (testfile, \"r\") as myfile:  \n",
    "    for line in myfile.readlines():\n",
    "        msg = line.lower().split()\n",
    "        words = msg[2:] # only include words in subject and content\n",
    "        n_word = sum([1 if keyword in word else 0 for word in words])\n",
    "        # if the message doesn't contain our keyword, skip it;\n",
    "        if n_word == 0:\n",
    "            continue\n",
    "        #### posterior probability ####\n",
    "        p_s_word = math.log(p_s) + n_word * math.log(p_word_s)\n",
    "        p_n_word = math.log(p_n) + n_word * math.log(p_word_n)\n",
    "        isSpam = True if p_s_word > p_n_word else False        \n",
    "        # print results\n",
    "        print ('spam' if int(msg[1]) else 'ham') + '\\t' + ('spam' if isSpam else 'ham') + '\\t' + msg[0]\n",
    "        "
   ]
  },
  {
   "cell_type": "markdown",
   "metadata": {},
   "source": [
    "####<span style=\"color:red\">HW1.3 Results: </span>run the NB classifier with keyword 'assistance', the output file are displayed below:\n",
    "- **Model parameters**: \n",
    " - prior \n",
    " - likelihood\n",
    "- **Classification results**: \n",
    " - TRUTH: original label\n",
    " - CLASS: filter result\n",
    " - ID: message ID"
   ]
  },
  {
   "cell_type": "code",
   "execution_count": 10,
   "metadata": {
    "collapsed": false
   },
   "outputs": [
    {
     "name": "stdout",
     "output_type": "stream",
     "text": [
      "Classify messages with key word: assistance\r\n",
      "\r\n",
      "============= Model Parameters =============\r\n",
      "P(spam) = 0.440000\r\n",
      "P(non-spam) = 0.560000\r\n",
      "P(assistance|spam) = 0.000189\r\n",
      "P(assistance|non-spam) = 0.000047\r\n",
      "\r\n",
      "============= Classification Results =============\r\n",
      "TRUTH \t CLASS \t ID\r\n",
      "spam\tspam\t0002.2004-08-01.bg\r\n",
      "ham\tspam\t0004.1999-12-10.kaminski\r\n",
      "ham\tspam\t0005.1999-12-12.kaminski\r\n",
      "spam\tspam\t0010.2001-06-28.sa_and_hp\r\n",
      "spam\tspam\t0011.2001-06-28.sa_and_hp\r\n",
      "spam\tspam\t0013.2004-08-01.bg\r\n",
      "spam\tspam\t0018.2001-07-13.sa_and_hp\r\n",
      "spam\tspam\t0018.2003-12-18.gp\r\n"
     ]
    }
   ],
   "source": [
    "!./pNaiveBayes.sh 2 \"assistance\"\n",
    "!cat enronemail_1h.txt.output"
   ]
  },
  {
   "cell_type": "markdown",
   "metadata": {},
   "source": [
    "###*HW2.4* Repeat HW2.3 with the following modification: \n",
    "- use Laplace plus-one smoothing,\n",
    "- compare the misclassifcation error rates for 2.3 versus 2.4 and explain the differences.\n",
    "   "
   ]
  },
  {
   "cell_type": "markdown",
   "metadata": {},
   "source": [
    "####Definition of mapper.py remains the same as it still just counts words for both classes"
   ]
  },
  {
   "cell_type": "code",
   "execution_count": 11,
   "metadata": {
    "collapsed": false
   },
   "outputs": [
    {
     "name": "stdout",
     "output_type": "stream",
     "text": [
      "Overwriting mapper.py\n"
     ]
    }
   ],
   "source": [
    "%%writefile mapper.py\n",
    "#!/usr/bin/python\n",
    "import sys\n",
    "import re\n",
    "# let's use two dictionaries to hold the word counts for spam and non-spam\n",
    "n_count, s_count = {}, {}\n",
    "nSpam, nNormal = 0, 0\n",
    "WORD_RE = re.compile(r\"[\\w']+\")\n",
    "filename = sys.argv[1]\n",
    "keywords = sys.argv[2].lower()\n",
    "with open (filename, \"r\") as myfile:\n",
    "    for email in myfile.readlines():\n",
    "        isSpam = email.split('\\t')[1] == '1'\n",
    "        if isSpam:\n",
    "            nSpam += 1\n",
    "            for word in email.lower().split()[2:]: # only use subject & content for modeling\n",
    "                if word not in s_count:\n",
    "                    s_count[word] = 1\n",
    "                else:\n",
    "                    s_count[word] += 1\n",
    "        else:\n",
    "            nNormal += 1\n",
    "            for word in email.lower().split()[2:]: # only use subject & content for modeling\n",
    "                if word not in n_count:\n",
    "                    n_count[word] = 1\n",
    "                else:\n",
    "                    n_count[word] += 1\n",
    "print n_count\n",
    "print s_count\n",
    "print nNormal\n",
    "print nSpam\n",
    "print \"'\" + keywords + \"'\""
   ]
  },
  {
   "cell_type": "markdown",
   "metadata": {},
   "source": [
    "####Definition of reducer.py is modified to consider multiple keywords, which we use dictionaries to represent"
   ]
  },
  {
   "cell_type": "code",
   "execution_count": 14,
   "metadata": {
    "collapsed": false
   },
   "outputs": [
    {
     "name": "stdout",
     "output_type": "stream",
     "text": [
      "Overwriting reducer.py\n"
     ]
    }
   ],
   "source": [
    "%%writefile reducer.py\n",
    "#!/usr/bin/python\n",
    "import sys\n",
    "import math\n",
    "from sets import Set\n",
    "\n",
    "n_count, s_count = {}, {}\n",
    "nSpam, nNormal = 0, 0\n",
    "counts = []\n",
    "\n",
    "# scan through each output file from the chunks\n",
    "for filename in sys.argv[1:]:\n",
    "    # we first read out the 2 count dictionaries\n",
    "    with open (filename, \"r\") as myfile:         \n",
    "        for line in myfile.readlines():\n",
    "            cmd = 'counts.append(' + line + ')'\n",
    "            exec cmd\n",
    "            \n",
    "    # we then combine word counts, for non-spam and spam messages, respectively\n",
    "    for word in counts[0]:\n",
    "        if word not in n_count:\n",
    "            n_count[word] = counts[0][word]\n",
    "        else:\n",
    "            n_count[word] += counts[0][word]\n",
    "    \n",
    "    for word in counts[1]:\n",
    "        if word not in s_count:\n",
    "            s_count[word] = counts[1][word]\n",
    "        else:\n",
    "            s_count[word] += counts[1][word]\n",
    "            \n",
    "    # combine spam and non-spam count\n",
    "    nNormal += int(counts[2])\n",
    "    nSpam += int(counts[3])\n",
    "    \n",
    "    # pass along the keyword for classification\n",
    "    keywords = counts[4].split()\n",
    "    \n",
    "    # clear counts for next chunk\n",
    "    counts = []\n",
    "\n",
    "testfile = 'enronemail_1h.txt'\n",
    "print 'Classify messages with keywords: ' + str(keywords)\n",
    "   \n",
    "# we now estimate NB parameters for the specified word, according to the formular above\n",
    "B = len(Set(s_count.keys() + n_count.keys()))\n",
    "tot_n = sum(n_count.values())\n",
    "tot_s = sum(s_count.values())\n",
    "\n",
    "#### prior probability ####\n",
    "p_s = 1.0*nSpam/(nSpam+nNormal)\n",
    "p_n = 1.0*nNormal/(nSpam+nNormal)\n",
    "\n",
    "#### conditional probabilities for words ####\n",
    "p_word_s, p_word_n = {}, {}\n",
    "for word in keywords:\n",
    "    p_word_s[word] = 1.0*((s_count[word] if word in s_count else 0) + 1) / (tot_s + B)\n",
    "    p_word_n[word] = 1.0*((n_count[word] if word in n_count else 0) + 1) / (tot_n + B)\n",
    "\n",
    "# finally we classify the messages which contains the specified word\n",
    "#### print model parameters ####\n",
    "print '\\n============= Model Parameters ============='\n",
    "print 'P(spam) = %f' %(p_s)\n",
    "print 'P(non-spam) = %f' %(p_n)\n",
    "for word in keywords:\n",
    "    print 'P(%s|spam) = %f' %(word, p_word_s[word])\n",
    "    print 'P(%s|non-spam) = %f' %(word, p_word_n[word])\n",
    "\n",
    "#### likelihood: dependend on the frequency of specified word ####\n",
    "print '\\n============= Classification Results ============='\n",
    "print 'TRUTH \\t CLASS \\t ID'\n",
    "with open (testfile, \"r\") as myfile:  \n",
    "    for line in myfile.readlines():\n",
    "        msg = line.lower().split()\n",
    "        words = msg[2:] # only include words in subject and content\n",
    "        #### initialize posterior probability ####\n",
    "        p_s_word = math.log(p_s)\n",
    "        p_n_word = math.log(p_n)\n",
    "        \n",
    "        #### add likelihood for each keyword ####\n",
    "        n_word = 0\n",
    "        for key in keywords:\n",
    "            n_key = sum([1 if key in word else 0 for word in words])\n",
    "            n_word += n_key\n",
    "            p_s_word += n_key * math.log(p_word_s[key])\n",
    "            p_n_word += n_key * math.log(p_word_n[key])\n",
    "            \n",
    "        # if the message doesn't contain any keyword, skip it;\n",
    "        if n_word == 0:\n",
    "            continue\n",
    "        isSpam = True if p_s_word > p_n_word else False        \n",
    "        # print results\n",
    "        print ('spam' if int(msg[1]) else 'ham') + '\\t' + ('spam' if isSpam else 'ham') + '\\t' + msg[0]\n",
    "        "
   ]
  },
  {
   "cell_type": "markdown",
   "metadata": {},
   "source": [
    "####<span style=\"color:red\">HW1.4 Results: </span>run the NB classifier with keywords 'assistance', 'valium' and 'enlargementWithATypo', the output file are displayed below:"
   ]
  },
  {
   "cell_type": "code",
   "execution_count": 15,
   "metadata": {
    "collapsed": false
   },
   "outputs": [
    {
     "name": "stdout",
     "output_type": "stream",
     "text": [
      "Classify messages with keywords: ['assistance', 'valium', 'enlargementwithatypo']\r\n",
      "\r\n",
      "============= Model Parameters =============\r\n",
      "P(spam) = 0.440000\r\n",
      "P(non-spam) = 0.560000\r\n",
      "P(assistance|spam) = 0.000227\r\n",
      "P(assistance|non-spam) = 0.000093\r\n",
      "P(valium|spam) = 0.000038\r\n",
      "P(valium|non-spam) = 0.000047\r\n",
      "P(enlargementwithatypo|spam) = 0.000038\r\n",
      "P(enlargementwithatypo|non-spam) = 0.000047\r\n",
      "\r\n",
      "============= Classification Results =============\r\n",
      "TRUTH \t CLASS \t ID\r\n",
      "spam\tspam\t0002.2004-08-01.bg\r\n",
      "ham\tspam\t0004.1999-12-10.kaminski\r\n",
      "ham\tspam\t0005.1999-12-12.kaminski\r\n",
      "spam\tham\t0009.2003-12-18.gp\r\n",
      "spam\tspam\t0010.2001-06-28.sa_and_hp\r\n",
      "spam\tspam\t0011.2001-06-28.sa_and_hp\r\n",
      "spam\tspam\t0013.2004-08-01.bg\r\n",
      "spam\tham\t0016.2003-12-19.gp\r\n",
      "spam\tham\t0017.2004-08-01.bg\r\n",
      "spam\tspam\t0018.2001-07-13.sa_and_hp\r\n",
      "spam\tspam\t0018.2003-12-18.gp\r\n"
     ]
    }
   ],
   "source": [
    "!./pNaiveBayes.sh 2 \"assistance valium enlargementWithATypo\"\n",
    "!cat enronemail_1h.txt.output"
   ]
  },
  {
   "cell_type": "markdown",
   "metadata": {},
   "source": [
    "###*HW2.5.* Repeat HW2.4. \n",
    "- This time when modeling and classification ignore tokens with a frequency of less than three (3) in the training set. \n",
    "- How does it affect the misclassifcation error of learnt naive multinomial Bayesian Classifier on the training dataset:"
   ]
  },
  {
   "cell_type": "markdown",
   "metadata": {},
   "source": [
    "####Definition of mapper.py remains the same as it still just counts words for both classes"
   ]
  },
  {
   "cell_type": "code",
   "execution_count": 16,
   "metadata": {
    "collapsed": false
   },
   "outputs": [
    {
     "name": "stdout",
     "output_type": "stream",
     "text": [
      "Overwriting mapper.py\n"
     ]
    }
   ],
   "source": [
    "%%writefile mapper.py\n",
    "#!/usr/bin/python\n",
    "import sys\n",
    "import re\n",
    "# let's use two dictionaries to hold the word counts for spam and non-spam\n",
    "n_count, s_count = {}, {}\n",
    "nSpam, nNormal = 0, 0\n",
    "WORD_RE = re.compile(r\"[\\w']+\")\n",
    "filename = sys.argv[1]\n",
    "#keywords = sys.argv[2].lower()\n",
    "with open (filename, \"r\") as myfile:\n",
    "    for email in myfile.readlines():\n",
    "        isSpam = email.split('\\t')[1] == '1'\n",
    "        if isSpam:\n",
    "            nSpam += 1\n",
    "            for word in email.lower().split()[2:]: # only use subject & content for modeling\n",
    "                if word not in s_count:\n",
    "                    s_count[word] = 1\n",
    "                else:\n",
    "                    s_count[word] += 1\n",
    "        else:\n",
    "            nNormal += 1\n",
    "            for word in email.lower().split()[2:]: # only use subject & content for modeling\n",
    "                if word not in n_count:\n",
    "                    n_count[word] = 1\n",
    "                else:\n",
    "                    n_count[word] += 1\n",
    "print n_count\n",
    "print s_count\n",
    "print nNormal\n",
    "print nSpam"
   ]
  },
  {
   "cell_type": "markdown",
   "metadata": {},
   "source": [
    "####Definition of reducer.py is modified to consider all present words:"
   ]
  },
  {
   "cell_type": "code",
   "execution_count": 17,
   "metadata": {
    "collapsed": false
   },
   "outputs": [
    {
     "name": "stdout",
     "output_type": "stream",
     "text": [
      "Overwriting reducer.py\n"
     ]
    }
   ],
   "source": [
    "%%writefile reducer.py\n",
    "#!/usr/bin/python\n",
    "import sys\n",
    "import math\n",
    "from sets import Set\n",
    "\n",
    "n_count, s_count = {}, {}\n",
    "nSpam, nNormal = 0, 0\n",
    "counts = []\n",
    "\n",
    "# scan through each output file from the chunks\n",
    "for filename in sys.argv[1:]:\n",
    "    # we first read out the 2 count dictionaries\n",
    "    with open (filename, \"r\") as myfile:         \n",
    "        for line in myfile.readlines():\n",
    "            cmd = 'counts.append(' + line + ')'\n",
    "            exec cmd\n",
    "            \n",
    "    # we then combine word counts, for non-spam and spam messages, respectively\n",
    "    for word in counts[0]:\n",
    "        if word not in n_count:\n",
    "            n_count[word] = counts[0][word]\n",
    "        else:\n",
    "            n_count[word] += counts[0][word]\n",
    "    \n",
    "    for word in counts[1]:\n",
    "        if word not in s_count:\n",
    "            s_count[word] = counts[1][word]\n",
    "        else:\n",
    "            s_count[word] += counts[1][word]\n",
    "            \n",
    "    # combine spam and non-spam count\n",
    "    nNormal += int(counts[2])\n",
    "    nSpam += int(counts[3])\n",
    "    \n",
    "    # clear counts for next chunk\n",
    "    counts = []\n",
    "\n",
    "testfile = 'enronemail_1h.txt'\n",
    "print 'Classify messages with all words'\n",
    "   \n",
    "# we now estimate NB parameters for all present words\n",
    "allwords = Set(s_count.keys() + n_count.keys())\n",
    "B = len(allwords)\n",
    "tot_n = sum(n_count.values())\n",
    "tot_s = sum(s_count.values())\n",
    "\n",
    "#### prior probability ####\n",
    "p_s = 1.0*nSpam/(nSpam+nNormal)\n",
    "p_n = 1.0*nNormal/(nSpam+nNormal)\n",
    "\n",
    "#### conditional probabilities for words ####\n",
    "p_word_s, p_word_n = {}, {}\n",
    "for word in allwords:\n",
    "    p_word_s[word] = 1.0*((s_count[word] if word in s_count else 0) + .1) / (tot_s + B) #Laplace add 1 smoothing\n",
    "    p_word_n[word] = 1.0*((n_count[word] if word in n_count else 0) + .1) / (tot_n + B)\n",
    "\n",
    "# finally we classify the messages which contains the specified word\n",
    "#### we won't print model parameters, to save some space ####\n",
    "#### likelihood: dependend on the frequency of current word ####\n",
    "print '\\n============= Classification Results ============='\n",
    "print 'TRUTH \\t CLASS \\t ID'\n",
    "n_correct = 0\n",
    "with open (testfile, \"r\") as myfile:  \n",
    "    for line in myfile.readlines():\n",
    "        msg = line.lower().split()\n",
    "        words = msg[2:] # only include words in subject and content\n",
    "        #### initialize posterior probability ####\n",
    "        p_s_word = math.log(p_s)\n",
    "        p_n_word = math.log(p_n)\n",
    "        \n",
    "        #### add likelihood for each keyword ####        \n",
    "        for key in Set(words):\n",
    "            n_key = sum([1 if key in word else 0 for word in words])\n",
    "            p_s_word += n_key * math.log(p_word_s[key])\n",
    "            p_n_word += n_key * math.log(p_word_n[key])\n",
    "            \n",
    "        isSpam = True if p_s_word > p_n_word else False\n",
    "        n_correct += isSpam == int(msg[1])\n",
    "        # print results\n",
    "        print ('spam' if int(msg[1]) else 'ham') + '\\t' + ('spam' if isSpam else 'ham') + '\\t' + msg[0]\n",
    "\n",
    "print '\\nOur multinomial NB training error: %f' %(1-1.0*n_correct/(nSpam+nNormal))"
   ]
  },
  {
   "cell_type": "markdown",
   "metadata": {},
   "source": [
    "####<span style=\"color:red\">HW1.5 Results: </span>run the NB classifier all present words, the output file are displayed below:"
   ]
  },
  {
   "cell_type": "code",
   "execution_count": 18,
   "metadata": {
    "collapsed": false
   },
   "outputs": [
    {
     "name": "stdout",
     "output_type": "stream",
     "text": [
      "Classify messages with all words\r\n",
      "\r\n",
      "============= Classification Results =============\r\n",
      "TRUTH \t CLASS \t ID\r\n",
      "ham\tham\t0001.1999-12-10.farmer\r\n",
      "ham\tham\t0001.1999-12-10.kaminski\r\n",
      "ham\tham\t0001.2000-01-17.beck\r\n",
      "ham\tham\t0001.2000-06-06.lokay\r\n",
      "ham\tham\t0001.2001-02-07.kitchen\r\n",
      "ham\tham\t0001.2001-04-02.williams\r\n",
      "ham\tham\t0002.1999-12-13.farmer\r\n",
      "ham\tham\t0002.2001-02-07.kitchen\r\n",
      "spam\tspam\t0002.2001-05-25.sa_and_hp\r\n",
      "spam\tspam\t0002.2003-12-18.gp\r\n",
      "spam\tspam\t0002.2004-08-01.bg\r\n",
      "ham\tham\t0003.1999-12-10.kaminski\r\n",
      "ham\tham\t0003.1999-12-14.farmer\r\n",
      "ham\tham\t0003.2000-01-17.beck\r\n",
      "ham\tham\t0003.2001-02-08.kitchen\r\n",
      "spam\tspam\t0003.2003-12-18.gp\r\n",
      "spam\tspam\t0003.2004-08-01.bg\r\n",
      "ham\tham\t0004.1999-12-10.kaminski\r\n",
      "ham\tham\t0004.1999-12-14.farmer\r\n",
      "ham\tham\t0004.2001-04-02.williams\r\n",
      "spam\tspam\t0004.2001-06-12.sa_and_hp\r\n",
      "spam\tspam\t0004.2004-08-01.bg\r\n",
      "ham\tham\t0005.1999-12-12.kaminski\r\n",
      "ham\tham\t0005.1999-12-14.farmer\r\n",
      "ham\tham\t0005.2000-06-06.lokay\r\n",
      "ham\tham\t0005.2001-02-08.kitchen\r\n",
      "spam\tspam\t0005.2001-06-23.sa_and_hp\r\n",
      "spam\tspam\t0005.2003-12-18.gp\r\n",
      "ham\tham\t0006.1999-12-13.kaminski\r\n",
      "ham\tham\t0006.2001-02-08.kitchen\r\n",
      "ham\tham\t0006.2001-04-03.williams\r\n",
      "spam\tspam\t0006.2001-06-25.sa_and_hp\r\n",
      "spam\tspam\t0006.2003-12-18.gp\r\n",
      "spam\tspam\t0006.2004-08-01.bg\r\n",
      "ham\tham\t0007.1999-12-13.kaminski\r\n",
      "ham\tham\t0007.1999-12-14.farmer\r\n",
      "ham\tham\t0007.2000-01-17.beck\r\n",
      "ham\tham\t0007.2001-02-09.kitchen\r\n",
      "spam\tspam\t0007.2003-12-18.gp\r\n",
      "spam\tspam\t0007.2004-08-01.bg\r\n",
      "ham\tham\t0008.2001-02-09.kitchen\r\n",
      "spam\tspam\t0008.2001-06-12.sa_and_hp\r\n",
      "spam\tspam\t0008.2001-06-25.sa_and_hp\r\n",
      "spam\tspam\t0008.2003-12-18.gp\r\n",
      "spam\tspam\t0008.2004-08-01.bg\r\n",
      "ham\tham\t0009.1999-12-13.kaminski\r\n",
      "ham\tham\t0009.1999-12-14.farmer\r\n",
      "ham\tham\t0009.2000-06-07.lokay\r\n",
      "ham\tham\t0009.2001-02-09.kitchen\r\n",
      "spam\tspam\t0009.2001-06-26.sa_and_hp\r\n",
      "spam\tspam\t0009.2003-12-18.gp\r\n",
      "ham\tham\t0010.1999-12-14.farmer\r\n",
      "ham\tham\t0010.1999-12-14.kaminski\r\n",
      "ham\tham\t0010.2001-02-09.kitchen\r\n",
      "spam\tspam\t0010.2001-06-28.sa_and_hp\r\n",
      "spam\tspam\t0010.2003-12-18.gp\r\n",
      "spam\tspam\t0010.2004-08-01.bg\r\n",
      "ham\tham\t0011.1999-12-14.farmer\r\n",
      "spam\tspam\t0011.2001-06-28.sa_and_hp\r\n",
      "spam\tspam\t0011.2001-06-29.sa_and_hp\r\n",
      "spam\tspam\t0011.2003-12-18.gp\r\n",
      "spam\tspam\t0011.2004-08-01.bg\r\n",
      "ham\tham\t0012.1999-12-14.farmer\r\n",
      "ham\tham\t0012.1999-12-14.kaminski\r\n",
      "ham\tham\t0012.2000-01-17.beck\r\n",
      "ham\tham\t0012.2000-06-08.lokay\r\n",
      "ham\tham\t0012.2001-02-09.kitchen\r\n",
      "spam\tspam\t0012.2003-12-19.gp\r\n",
      "ham\tham\t0013.1999-12-14.farmer\r\n",
      "ham\tham\t0013.1999-12-14.kaminski\r\n",
      "ham\tham\t0013.2001-04-03.williams\r\n",
      "spam\tspam\t0013.2001-06-30.sa_and_hp\r\n",
      "spam\tspam\t0013.2004-08-01.bg\r\n",
      "ham\tham\t0014.1999-12-14.kaminski\r\n",
      "ham\tham\t0014.1999-12-15.farmer\r\n",
      "ham\tham\t0014.2001-02-12.kitchen\r\n",
      "spam\tspam\t0014.2001-07-04.sa_and_hp\r\n",
      "spam\tspam\t0014.2003-12-19.gp\r\n",
      "spam\tspam\t0014.2004-08-01.bg\r\n",
      "ham\tham\t0015.1999-12-14.kaminski\r\n",
      "ham\tham\t0015.1999-12-15.farmer\r\n",
      "ham\tham\t0015.2000-06-09.lokay\r\n",
      "ham\tham\t0015.2001-02-12.kitchen\r\n",
      "spam\tspam\t0015.2001-07-05.sa_and_hp\r\n",
      "spam\tspam\t0015.2003-12-19.gp\r\n",
      "ham\tham\t0016.1999-12-15.farmer\r\n",
      "ham\tham\t0016.2001-02-12.kitchen\r\n",
      "spam\tspam\t0016.2001-07-05.sa_and_hp\r\n",
      "spam\tspam\t0016.2001-07-06.sa_and_hp\r\n",
      "spam\tspam\t0016.2003-12-19.gp\r\n",
      "spam\tspam\t0016.2004-08-01.bg\r\n",
      "ham\tham\t0017.1999-12-14.kaminski\r\n",
      "ham\tham\t0017.2000-01-17.beck\r\n",
      "ham\tham\t0017.2001-04-03.williams\r\n",
      "spam\tspam\t0017.2003-12-18.gp\r\n",
      "spam\tspam\t0017.2004-08-01.bg\r\n",
      "spam\tspam\t0017.2004-08-02.bg\r\n",
      "ham\tham\t0018.1999-12-14.kaminski\r\n",
      "spam\tspam\t0018.2001-07-13.sa_and_hp\r\n",
      "spam\tspam\t0018.2003-12-18.gp\r\n",
      "\r\n",
      "Our multinomial NB training error: 0.000000\r\n"
     ]
    }
   ],
   "source": [
    "!./pNaiveBayes.sh 4 \"dummy\"\n",
    "!cat enronemail_1h.txt.output"
   ]
  },
  {
   "cell_type": "markdown",
   "metadata": {},
   "source": [
    "###*HW2.6.* Benchmark your code with the Python SciKit-Learn implementation of the multinomial Naive Bayes algorithm\n",
    "- Run the Multinomial Naive Bayes algorithm (using default settings) from SciKit-Learn over the same training data used in HW2.5 and report the misclassification error (please note some data preparation might be needed to get the Multinomial Naive Bayes algorithm from SkiKit-Learn to run over this dataset)\n",
    "- Prepare a table to present your results, where rows correspond to approach used (SkiKit-Learn versus your Hadoop implementation) and the column presents the training misclassification error\n",
    "- Explain/justify any differences in terms of training error rates over the dataset in HW2.5 between your Multinomial Naive Bayes implementation (in Map Reduce) versus the Multinomial Naive Bayes implementation in SciKit-Learn \n"
   ]
  },
  {
   "cell_type": "code",
   "execution_count": 19,
   "metadata": {
    "collapsed": false
   },
   "outputs": [
    {
     "name": "stdout",
     "output_type": "stream",
     "text": [
      "TRUTH \t MNB_HW1.5 \t MNB_SK \t BNB_SK \t ID\n",
      "ham\tham\tham\tham\t0001.1999-12-10.farmer\n",
      "ham\tham\tham\tham\t0001.1999-12-10.kaminski\n",
      "ham\tham\tham\tham\t0001.2000-01-17.beck\n",
      "ham\tham\tham\tham\t0001.2000-06-06.lokay\n",
      "ham\tham\tham\tham\t0001.2001-02-07.kitchen\n",
      "ham\tham\tham\tham\t0001.2001-04-02.williams\n",
      "ham\tham\tham\tham\t0002.1999-12-13.farmer\n",
      "ham\tham\tham\tham\t0002.2001-02-07.kitchen\n",
      "spam\tspam\tspam\tham\t0002.2001-05-25.sa_and_hp\n",
      "spam\tspam\tspam\tspam\t0002.2003-12-18.gp\n",
      "spam\tspam\tspam\tham\t0002.2004-08-01.bg\n",
      "ham\tham\tham\tham\t0003.1999-12-10.kaminski\n",
      "ham\tham\tham\tham\t0003.1999-12-14.farmer\n",
      "ham\tham\tham\tham\t0003.2000-01-17.beck\n",
      "ham\tham\tham\tham\t0003.2001-02-08.kitchen\n",
      "spam\tspam\tspam\tham\t0003.2003-12-18.gp\n",
      "spam\tspam\tspam\tham\t0003.2004-08-01.bg\n",
      "ham\tham\tham\tham\t0004.1999-12-10.kaminski\n",
      "ham\tham\tham\tham\t0004.1999-12-14.farmer\n",
      "ham\tham\tham\tham\t0004.2001-04-02.williams\n",
      "spam\tspam\tspam\tspam\t0004.2001-06-12.sa_and_hp\n",
      "spam\tspam\tspam\tham\t0004.2004-08-01.bg\n",
      "ham\tham\tham\tham\t0005.1999-12-12.kaminski\n",
      "ham\tham\tham\tham\t0005.1999-12-14.farmer\n",
      "ham\tham\tham\tham\t0005.2000-06-06.lokay\n",
      "ham\tham\tham\tham\t0005.2001-02-08.kitchen\n",
      "spam\tspam\tspam\tham\t0005.2001-06-23.sa_and_hp\n",
      "spam\tspam\tspam\tspam\t0005.2003-12-18.gp\n",
      "ham\tham\tham\tham\t0006.1999-12-13.kaminski\n",
      "ham\tham\tham\tham\t0006.2001-02-08.kitchen\n",
      "ham\tham\tham\tham\t0006.2001-04-03.williams\n",
      "spam\tspam\tspam\tham\t0006.2001-06-25.sa_and_hp\n",
      "spam\tspam\tspam\tspam\t0006.2003-12-18.gp\n",
      "spam\tspam\tspam\tspam\t0006.2004-08-01.bg\n",
      "ham\tham\tham\tham\t0007.1999-12-13.kaminski\n",
      "ham\tham\tham\tham\t0007.1999-12-14.farmer\n",
      "ham\tham\tham\tham\t0007.2000-01-17.beck\n",
      "ham\tham\tham\tham\t0007.2001-02-09.kitchen\n",
      "spam\tspam\tspam\tspam\t0007.2003-12-18.gp\n",
      "spam\tspam\tspam\tspam\t0007.2004-08-01.bg\n",
      "ham\tham\tham\tham\t0008.2001-02-09.kitchen\n",
      "spam\tspam\tspam\tspam\t0008.2001-06-12.sa_and_hp\n",
      "spam\tspam\tspam\tspam\t0008.2001-06-25.sa_and_hp\n",
      "spam\tspam\tspam\tham\t0008.2003-12-18.gp\n",
      "spam\tspam\tspam\tspam\t0008.2004-08-01.bg\n",
      "ham\tham\tham\tham\t0009.1999-12-13.kaminski\n",
      "ham\tham\tham\tham\t0009.1999-12-14.farmer\n",
      "ham\tham\tham\tham\t0009.2000-06-07.lokay\n",
      "ham\tham\tham\tham\t0009.2001-02-09.kitchen\n",
      "spam\tspam\tspam\tspam\t0009.2001-06-26.sa_and_hp\n",
      "spam\tspam\tspam\tspam\t0009.2003-12-18.gp\n",
      "ham\tham\tham\tham\t0010.1999-12-14.farmer\n",
      "ham\tham\tham\tham\t0010.1999-12-14.kaminski\n",
      "ham\tham\tham\tham\t0010.2001-02-09.kitchen\n",
      "spam\tspam\tspam\tspam\t0010.2001-06-28.sa_and_hp\n",
      "spam\tspam\tspam\tham\t0010.2003-12-18.gp\n",
      "spam\tspam\tspam\tspam\t0010.2004-08-01.bg\n",
      "ham\tham\tham\tham\t0011.1999-12-14.farmer\n",
      "spam\tspam\tspam\tspam\t0011.2001-06-28.sa_and_hp\n",
      "spam\tspam\tspam\tspam\t0011.2001-06-29.sa_and_hp\n",
      "spam\tspam\tspam\tham\t0011.2003-12-18.gp\n",
      "spam\tspam\tspam\tham\t0011.2004-08-01.bg\n",
      "ham\tham\tham\tham\t0012.1999-12-14.farmer\n",
      "ham\tham\tham\tham\t0012.1999-12-14.kaminski\n",
      "ham\tham\tham\tham\t0012.2000-01-17.beck\n",
      "ham\tham\tham\tham\t0012.2000-06-08.lokay\n",
      "ham\tham\tham\tham\t0012.2001-02-09.kitchen\n",
      "spam\tspam\tspam\tham\t0012.2003-12-19.gp\n",
      "ham\tham\tham\tham\t0013.1999-12-14.farmer\n",
      "ham\tham\tham\tham\t0013.1999-12-14.kaminski\n",
      "ham\tham\tham\tham\t0013.2001-04-03.williams\n",
      "spam\tspam\tspam\tspam\t0013.2001-06-30.sa_and_hp\n",
      "spam\tspam\tspam\tspam\t0013.2004-08-01.bg\n",
      "ham\tham\tham\tham\t0014.1999-12-14.kaminski\n",
      "ham\tham\tham\tham\t0014.1999-12-15.farmer\n",
      "ham\tham\tham\tham\t0014.2001-02-12.kitchen\n",
      "spam\tspam\tspam\tspam\t0014.2001-07-04.sa_and_hp\n",
      "spam\tspam\tspam\tham\t0014.2003-12-19.gp\n",
      "spam\tspam\tspam\tham\t0014.2004-08-01.bg\n",
      "ham\tham\tham\tham\t0015.1999-12-14.kaminski\n",
      "ham\tham\tham\tham\t0015.1999-12-15.farmer\n",
      "ham\tham\tham\tham\t0015.2000-06-09.lokay\n",
      "ham\tham\tham\tham\t0015.2001-02-12.kitchen\n",
      "spam\tspam\tspam\tspam\t0015.2001-07-05.sa_and_hp\n",
      "spam\tspam\tspam\tspam\t0015.2003-12-19.gp\n",
      "ham\tham\tham\tham\t0016.1999-12-15.farmer\n",
      "ham\tham\tham\tham\t0016.2001-02-12.kitchen\n",
      "spam\tspam\tspam\tspam\t0016.2001-07-05.sa_and_hp\n",
      "spam\tspam\tspam\tspam\t0016.2001-07-06.sa_and_hp\n",
      "spam\tspam\tspam\tspam\t0016.2003-12-19.gp\n",
      "spam\tspam\tspam\tham\t0016.2004-08-01.bg\n",
      "ham\tham\tham\tham\t0017.1999-12-14.kaminski\n",
      "ham\tham\tham\tham\t0017.2000-01-17.beck\n",
      "ham\tham\tham\tham\t0017.2001-04-03.williams\n",
      "spam\tspam\tspam\tham\t0017.2003-12-18.gp\n",
      "spam\tspam\tspam\tspam\t0017.2004-08-01.bg\n",
      "spam\tspam\tspam\tspam\t0017.2004-08-02.bg\n",
      "ham\tham\tham\tham\t0018.1999-12-14.kaminski\n",
      "spam\tspam\tspam\tspam\t0018.2001-07-13.sa_and_hp\n",
      "spam\tspam\tspam\tspam\t0018.2003-12-18.gp\n",
      "\n",
      "Our multinomial NB training error: 0.000000\n",
      "SK- multinomial NB training error: 0.000000\n",
      "SK- Bernoulli   NB training error: 0.160000\n"
     ]
    }
   ],
   "source": [
    "from sklearn.naive_bayes import BernoulliNB\n",
    "from sklearn.naive_bayes import MultinomialNB\n",
    "from sklearn.feature_extraction.text import *\n",
    "\n",
    "import csv\n",
    "import numpy as np\n",
    "\n",
    "# read email message, and organize training data\n",
    "with open('enronemail_1h.txt', 'r') as f:\n",
    "    reader = csv.reader(f, delimiter=\"\\t\")\n",
    "    emails = list(reader)\n",
    "train_label = [msg[1] for msg in emails]\n",
    "train_data = [msg[2]+msg[3] if len(msg)==4 else msg[2] for msg in emails]\n",
    "msg_id = [msg[0].lower() for msg in emails]\n",
    "\n",
    "# feature vectorization\n",
    "uniVectorizer = CountVectorizer()\n",
    "dtmTrain = uniVectorizer.fit_transform(train_data) \n",
    "\n",
    "# multinomial Naive Bayes Classifier from sklearn\n",
    "mnb = MultinomialNB()\n",
    "mnb.fit(dtmTrain, train_label)\n",
    "pred_mnb = mnb.predict(dtmTrain)\n",
    "training_error_mnb = 1.0*sum(pred_mnb != train_label) / len(train_label)\n",
    "\n",
    "# Bernoulli Naive Bayes Classifier from sklearn\n",
    "bnb = BernoulliNB()\n",
    "bnb.fit(dtmTrain, train_label)\n",
    "pred_bnb = bnb.predict(dtmTrain)\n",
    "training_error_bnb = 1.0*sum(pred_bnb != train_label) / len(train_label)\n",
    "\n",
    "# multinomial Naive Bayes Classifier from HW1.5\n",
    "!./pNaiveBayes.sh 4 \"dummy\"\n",
    "\n",
    "# load results from HW1.5 and generate comparison matrix\n",
    "print 'TRUTH \\t MNB_HW1.5 \\t MNB_SK \\t BNB_SK \\t ID'\n",
    "with open ('enronemail_1h.txt.output', \"r\") as myfile:  \n",
    "    for line in myfile.readlines():\n",
    "        if line.startswith('ham') or line.startswith('spam'):\n",
    "            result = line.split()            \n",
    "            idx = msg_id.index(result[2])\n",
    "            result.insert(2, 'spam' if pred_mnb[idx]=='1' else 'ham')\n",
    "            result.insert(3, 'spam' if pred_bnb[idx]=='1' else 'ham')\n",
    "            print str.join('\\t', result)\n",
    "            \n",
    "        if line.startswith('Our multinomial NB'):\n",
    "            print '\\n' + line.strip('\\n')     \n",
    "\n",
    "print 'SK- multinomial NB training error: %f' %training_error_mnb\n",
    "print 'SK- Bernoulli   NB training error: %f' %training_error_bnb"
   ]
  },
  {
   "cell_type": "markdown",
   "metadata": {
    "collapsed": true
   },
   "source": [
    "###*HW 2.6.1. OPTIONAL* (note this exercise is a stretch HW and optional)\n",
    "- Run the Bernoulli Naive Bayes algorithm from SciKit-Learn (using default settings) over the same training data used in HW2.6 and report the misclassification error \n",
    "- Discuss the performance differences in terms of misclassification error rates over the dataset in HW2.5 between the  Multinomial Naive Bayes implementation in SciKit-Learn with the  Bernoulli Naive Bayes implementation in SciKit-Learn. Why such big differences. Explain. \n",
    "- Which approach to Naive Bayes would you recommend for SPAM detection? Justify your selection.\n"
   ]
  },
  {
   "cell_type": "markdown",
   "metadata": {},
   "source": [
    "###*HW2.7. OPTIONAL* (note this exercise is a stretch HW and optional)\n",
    "\n",
    "The Enron SPAM data in the following folder enron1-Training-Data-RAW is in raw text form (with subfolders for SPAM and HAM that contain raw email messages in the following form:\n",
    "\n",
    "- Line 1 contains the subject\n",
    "- The remaining lines contain the body of the email message.\n",
    "\n",
    "In Python write a script to produce a TSV file called train-Enron-1.txt that has a similar format as the enronemail_1h.txt that you have been using so far. Please pay attend to funky characters and tabs. Check your resulting formated email data in Excel and in Python (e.g., count up the number of fields in each row; the number of SPAM mails and the number of HAM emails). Does each row correspond to an email record with four values? Note: use \"NA\" to denote empty field values.\n",
    "\n",
    "###*HW2.8.*\n",
    "Using Hadoop Map-Reduce write job(s) to perform the following:\n",
    "- Train a multinomial Naive Bayes Classifier with Laplace plus one smoothing using the data extracted in HW2.7 (i.e., train-Enron-1.txt). Use all white-space delimitted tokens as independent input variables (assume spaces, fullstops, commas as delimiters). Drop tokens with a frequency of less than three (3).\n",
    "- Test the learnt classifier using enronemail_1h.txt and report the misclassification error rate. Remember to use all white-space delimitted tokens as independent input variables (assume spaces, fullstops, commas as delimiters). How do we treat tokens in the test set that do not appear in the training set?\n",
    "\n",
    "###*HW2.8.1.*\n",
    "- Run  both the Multinomial Naive Bayes and the Bernoulli Naive Bayes algorithms from SciKit-Learn (using default settings) over the same training data used in HW2.8 and report the misclassification error on both the training set and the testing set\n",
    "- Prepare a table to present your results, where rows correspond to approach used (SciKit-Learn Multinomial NB; SciKit-Learn Bernouili NB; Your Hadoop implementation)  and the columns presents the training misclassification error, and the misclassification error on the test data set\n",
    "- Discuss the performance differences in terms of misclassification error rates over the test and training datasets by the different implementations. Which approch (Bernouili versus Multinomial) would you recommend for SPAM detection? Justify your selection.\n",
    "\n"
   ]
  },
  {
   "cell_type": "markdown",
   "metadata": {},
   "source": [
    "###stop yarn and hdfs"
   ]
  },
  {
   "cell_type": "code",
   "execution_count": null,
   "metadata": {
    "collapsed": true
   },
   "outputs": [],
   "source": [
    "!/usr/local/Cellar/hadoop/2.6.0/sbin/stop-yarn.sh\n",
    "!/usr/local/Cellar/hadoop/2.6.0/sbin/stop-dfs.sh"
   ]
  }
 ],
 "metadata": {
  "kernelspec": {
   "display_name": "Python 2",
   "language": "python",
   "name": "python2"
  },
  "language_info": {
   "codemirror_mode": {
    "name": "ipython",
    "version": 2
   },
   "file_extension": ".py",
   "mimetype": "text/x-python",
   "name": "python",
   "nbconvert_exporter": "python",
   "pygments_lexer": "ipython2",
   "version": "2.7.9"
  }
 },
 "nbformat": 4,
 "nbformat_minor": 0
}
