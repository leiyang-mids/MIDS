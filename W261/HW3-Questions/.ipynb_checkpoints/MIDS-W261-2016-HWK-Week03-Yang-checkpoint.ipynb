{
 "cells": [
  {
   "cell_type": "markdown",
   "metadata": {},
   "source": [
    "#DATASCI W261, Machine Learning at Scale\n",
    "--------\n",
    "####Assignement:  week \\#3\n",
    "####Lei Yang (leiyang@berkeley.edu)\n",
    "####Due: 2016-02-02, 8AM PST"
   ]
  },
  {
   "cell_type": "markdown",
   "metadata": {},
   "source": [
    "###*HW3.0.* Q&A\n",
    "\n",
    "####What is a merge sort? Where is it used in Hadoop?\n",
    "Merge sort is a sorting algorithm which quickly combines two sorted lists into a single list of items. Merge sort benefits from distributable in its least efficient step, which is the sorting of the child lists. The merging of child lists into a single sorted list is done in linear time. Merge sorting is used in the shuffle stage of Hadoop to rearrange keys prior to sending them to the reducer. Key-value pairs from different mappers are sorted at their mappers, and then distributed across the reducers in a sorted form.\n",
    "\n",
    "####How is a combiner function used in the context of Hadoop?\n",
    "Combiners are used for local aggregation during the mapper processes of Hadoop. They are run when the incomplete output from the mapper becomes too large to fit within memory and \"spills over\" onto disk. The combiner is responsible for shrinking the data back down so that the mapper can run faster by keeping data in memory and so that the network operations in the partitioner are kept to a bare minimum. Depending on the size and scope of the problem, Hadoop will run combiners any number of times including zero with no input from the user. For this reason, it is critical that the combiner is able to receive records in the format of the mapper's output and emit data in the same format. The combining operation must also be associative and commutative so that the variable number of runs will not affect the result.\n",
    "\n",
    "####Give an example where it can be used and justify why it should be used in the context of this problem\n",
    "Combiners can be used in long word-count operations. A typical mapper output for a word-count problem will be greater than the size of the document since it emits each individual word and the number associated with it. Transferring this data across the network can drastically reduce the performance of this operation, as well as making the subsequent sorting operation take much longer. Adding a combiner can reduce the size of the mapper output from being tied to the size of the document to being tied to the size of the vocabulary. \n",
    "\n",
    "####What is the Hadoop shuffle?\n",
    "Shuffle happens after all mapper processes complete and before reducer starts, all key-value pairs are sorted by key, and the same key is guaranteed to be delivered to the same reducer.\n",
    "\n",
    "####What is the Apriori algorithm? Describe an example use in your domain of expertise. Define confidence and lift.\n"
   ]
  },
  {
   "cell_type": "markdown",
   "metadata": {},
   "source": [
    "###start yarn, hdfs, and job history"
   ]
  },
  {
   "cell_type": "code",
   "execution_count": 1,
   "metadata": {
    "collapsed": false
   },
   "outputs": [
    {
     "name": "stdout",
     "output_type": "stream",
     "text": [
      "starting yarn daemons\n",
      "starting resourcemanager, logging to /usr/local/Cellar/hadoop/2.7.1/libexec/logs/yarn-leiyang-resourcemanager-Leis-MacBook-Pro.local.out\n",
      "localhost: starting nodemanager, logging to /usr/local/Cellar/hadoop/2.7.1/libexec/logs/yarn-leiyang-nodemanager-Leis-MacBook-Pro.local.out\n",
      "Starting namenodes on [localhost]\n",
      "localhost: starting namenode, logging to /usr/local/Cellar/hadoop/2.7.1/libexec/logs/hadoop-leiyang-namenode-Leis-MacBook-Pro.local.out\n",
      "localhost: starting datanode, logging to /usr/local/Cellar/hadoop/2.7.1/libexec/logs/hadoop-leiyang-datanode-Leis-MacBook-Pro.local.out\n",
      "Starting secondary namenodes [0.0.0.0]\n",
      "0.0.0.0: starting secondarynamenode, logging to /usr/local/Cellar/hadoop/2.7.1/libexec/logs/hadoop-leiyang-secondarynamenode-Leis-MacBook-Pro.local.out\n",
      "starting historyserver, logging to /usr/local/Cellar/hadoop/2.7.1/libexec/logs/mapred-leiyang-historyserver-Leis-MacBook-Pro.local.out\n"
     ]
    }
   ],
   "source": [
    "!/usr/local/Cellar/hadoop/2*/sbin/start-yarn.sh\n",
    "!/usr/local/Cellar/hadoop/2*/sbin/start-dfs.sh\n",
    "!/usr/local/Cellar/hadoop/2*/sbin/mr-jobhistory-daemon.sh --config /usr/local/Cellar/hadoop/2*/libexec/etc/hadoop/ start historyserver "
   ]
  },
  {
   "cell_type": "markdown",
   "metadata": {},
   "source": [
    "###*HW3.1.* Use Counters to do EDA (exploratory data analysis and to monitor progress)\n",
    "Counters are lightweight objects in Hadoop that allow you to keep track of system progress in both the map and reduce stages of processing. By default, Hadoop defines a number of standard counters in \"groups\"; these show up in the jobtracker webapp, giving you information such as \"Map input records\", \"Map output records\", etc.\n",
    "\n",
    "While processing information/data using MapReduce job, it is a challenge to monitor the progress of parallel threads running across nodes of distributed clusters. Moreover, it is also complicated to distinguish between the data that has been processed and the data which is yet to be processed. The MapReduce Framework offers a provision of user-defined Counters, which can be effectively utilized to monitor the progress of data across nodes of distributed clusters.\n",
    "\n",
    "**Use the Consumer Complaints  Dataset provide [here](https://www.dropbox.com/s/vbalm3yva2rr86m/Consumer_Complaints.csv?dl=0) to complete this question:**\n",
    "\n",
    "- The consumer complaints dataset consists of diverse consumer complaints, which have been reported across the United States regarding various types of loans. The dataset consists of records of the form:\n",
    " - Complaint ID,Product,Sub-product,Issue,Sub-issue,State,ZIP code,Submitted via,Date received,Date sent to company,Company,Company response,Timely response?,Consumer disputed?\n",
    "\n",
    "**Here’s is the first few lines of the  of the Consumer Complaints  Dataset:**\n",
    "\n",
    "- Complaint ID,Product,Sub-product,Issue,Sub-issue,State,ZIP code,Submitted via,Date received,Date sent to company,Company,Company response,Timely response?,Consumer disputed?\n",
    "- 1114245,Debt collection,Medical,Disclosure verification of debt,Not given enough info to verify debt,FL,32219,Web,11/13/2014,11/13/2014,\"Choice Recovery, Inc.\",Closed with explanation,Yes,\n",
    "- 1114488,Debt collection,Medical,Disclosure verification of debt,Right to dispute notice not received,TX,75006,Web,11/13/2014,11/13/2014,\"Expert Global Solutions, Inc.\",In progress,Yes,\n",
    "- 1114255,Bank account or service,Checking account,Deposits and withdrawals,,NY,11102,Web,11/13/2014,11/13/2014,\"FNIS (Fidelity National Information Services, Inc.)\",In progress,Yes,\n",
    "- 1115106,Debt collection,\"Other (phone, health club, etc.)\",Communication tactics,Frequent or repeated calls,GA,31721,Web,11/13/2014,11/13/2014,\"Expert Global Solutions, Inc.\",In progress,Yes,\n",
    "\n",
    "**User-defined Counters**\n",
    "\n",
    "- Now, let’s use Hadoop Counters to identify the number of complaints pertaining to *debt collection*, *mortgage* and *other* categories (all other categories get lumped into this one) in the consumer complaints dataset. Basically produce the distribution of the Product column in this dataset using counters (limited to 3 counters here).\n",
    "- Hadoop offers Job Tracker, an UI tool to determine the status and statistics of all jobs. Using the job tracker UI, developers can view the Counters that have been created. Screenshot your  job tracker UI as your job completes and include it here. Make sure that your user defined counters are visible.\n",
    "\n"
   ]
  },
  {
   "cell_type": "markdown",
   "metadata": {},
   "source": [
    "###<span style=\"color:red\">HW3.1 Answer:</span>\n"
   ]
  },
  {
   "cell_type": "markdown",
   "metadata": {},
   "source": [
    "###Mapper\n",
    "- as the shuffler will do the sorting, mapper just need to emit word with integer as the key"
   ]
  },
  {
   "cell_type": "code",
   "execution_count": 2,
   "metadata": {
    "collapsed": false
   },
   "outputs": [
    {
     "name": "stdout",
     "output_type": "stream",
     "text": [
      "Overwriting mapper.py\n"
     ]
    }
   ],
   "source": [
    "%%writefile mapper.py\n",
    "#!/usr/bin/python\n",
    "import sys\n",
    "for line in sys.stdin:  \n",
    "    # extract the column values\n",
    "    parts = line.strip().split(',')\n",
    "    # product is in second column\n",
    "    prod = parts[1].strip().lower()\n",
    "    # emit product name as key, no need for value as we are only count product name\n",
    "    print \"%s\\t%s\" %(prod, 'na')"
   ]
  },
  {
   "cell_type": "markdown",
   "metadata": {},
   "source": [
    "###Reducer"
   ]
  },
  {
   "cell_type": "code",
   "execution_count": 3,
   "metadata": {
    "collapsed": false
   },
   "outputs": [
    {
     "name": "stdout",
     "output_type": "stream",
     "text": [
      "Overwriting reducer.py\n"
     ]
    }
   ],
   "source": [
    "%%writefile reducer.py\n",
    "#!/usr/bin/python\n",
    "import sys\n",
    "\n",
    "for line in sys.stdin:\n",
    "    # product name\n",
    "    prod = line.split('\\t')[0].strip()\n",
    "    \n",
    "    # compare with what we want to count and adjust the counter\n",
    "    if prod == 'debt collection':\n",
    "        sys.stderr.write(\"reporter:counter:HW3_1,debt,1\\n\")\n",
    "    elif prod == 'mortgage':\n",
    "        sys.stderr.write(\"reporter:counter:HW3_1,mortgage,1\\n\")\n",
    "    else:\n",
    "        sys.stderr.write(\"reporter:counter:HW3_1,others,1\\n\")\n",
    "    "
   ]
  },
  {
   "cell_type": "markdown",
   "metadata": {},
   "source": [
    "###Run the job with Hadoop Streaming\n",
    "- add parameter *-D mapred.reduce.tasks=2* to specify number of reducers"
   ]
  },
  {
   "cell_type": "code",
   "execution_count": 4,
   "metadata": {
    "collapsed": false,
    "scrolled": true
   },
   "outputs": [
    {
     "name": "stdout",
     "output_type": "stream",
     "text": [
      "Deleted results\n",
      "packageJobJar: [/var/folders/tx/5ldq67q511q8wqwqkvptnxd00000gn/T/hadoop-unjar3709839099986008331/] [] /var/folders/tx/5ldq67q511q8wqwqkvptnxd00000gn/T/streamjob3447758072235333814.jar tmpDir=null\n"
     ]
    }
   ],
   "source": [
    "!hdfs dfs -rm -r results\n",
    "!hadoop jar /usr/local/Cellar/hadoop/2.*/libexec/share/hadoop/tools/lib/hadoop-streaming-2.7.1.jar \\\n",
    "-D mapred.reduce.tasks=2 \\\n",
    "-files mapper.py,reducer.py \\\n",
    "-mapper mapper.py \\\n",
    "-reducer reducer.py \\\n",
    "-input /user/lei/Consumer_Complaints.csv \\\n",
    "-output results"
   ]
  },
  {
   "cell_type": "markdown",
   "metadata": {},
   "source": [
    "###Check counter value\n",
    "\n",
    "![Image 1](HW3_1.png)"
   ]
  },
  {
   "cell_type": "markdown",
   "metadata": {},
   "source": [
    "###*HW3.2.*  Analyze the performance of your Mappers, Combiners and Reducers using Counters\n",
    "\n",
    "**For this brief study the Input file will be one record (the next line only):**\n",
    "\n",
    "*foo foo quux labs foo bar quux*\n",
    "\n",
    "- Perform a word count analysis of this single record dataset using a Mapper and Reducer based WordCount (i.e., no combiners are used here) using user defined Counters to count up how many time the mapper and reducer are called. What is the value of your user defined Mapper Counter, and Reducer Counter after completing this word count job. The answer  should be 1 and 4 respectively. Please explain."
   ]
  },
  {
   "cell_type": "markdown",
   "metadata": {},
   "source": [
    "###Mapper"
   ]
  },
  {
   "cell_type": "code",
   "execution_count": 5,
   "metadata": {
    "collapsed": false
   },
   "outputs": [
    {
     "name": "stdout",
     "output_type": "stream",
     "text": [
      "Overwriting mapper.py\n"
     ]
    }
   ],
   "source": [
    "%%writefile mapper.py\n",
    "#!/usr/bin/python\n",
    "import sys, re, string\n",
    "\n",
    "# increase counter for mapper being called\n",
    "sys.stderr.write(\"reporter:counter:HW3_2,Mapper_cnt,1\\n\")\n",
    "\n",
    "# input comes from STDIN (standard input)\n",
    "for line in sys.stdin:\n",
    "    \n",
    "    # split the line into words\n",
    "    words = line.split()\n",
    "    \n",
    "    for word in words:\n",
    "        # write the results to STDOUT (standard output);\n",
    "        # what we output here will be the input for the\n",
    "        # Reduce step, i.e. the input for reducer.py\n",
    "        #\n",
    "        # tab-delimited; the trivial word count is 1\n",
    "        print '%s\\t%s' % (word, 1)"
   ]
  },
  {
   "cell_type": "markdown",
   "metadata": {},
   "source": [
    "###Reducer"
   ]
  },
  {
   "cell_type": "code",
   "execution_count": 6,
   "metadata": {
    "collapsed": false
   },
   "outputs": [
    {
     "name": "stdout",
     "output_type": "stream",
     "text": [
      "Overwriting reducer.py\n"
     ]
    }
   ],
   "source": [
    "%%writefile reducer.py\n",
    "#!/usr/bin/python\n",
    "from operator import itemgetter\n",
    "import sys\n",
    "\n",
    "current_word = None\n",
    "current_count = 0\n",
    "word = None\n",
    "\n",
    "# increase counter for reducer being called\n",
    "sys.stderr.write(\"reporter:counter:HW3_2,Reducer_cnt,1\\n\")\n",
    "\n",
    "# input comes from STDIN\n",
    "for line in sys.stdin:\n",
    "    # remove leading and trailing whitespace\n",
    "    line = line.strip()\n",
    "\n",
    "    # parse the input we got from mapper.py\n",
    "    word, count = line.split('\\t', 1)\n",
    "\n",
    "    # convert count (currently a string) to int\n",
    "    try:\n",
    "        count = int(count)\n",
    "    except ValueError:\n",
    "        # count was not a number, so silently\n",
    "        # ignore/discard this line\n",
    "        continue\n",
    "\n",
    "    # this IF-switch only works because Hadoop sorts map output\n",
    "    # by key (here: word) before it is passed to the reducer\n",
    "    if current_word == word:\n",
    "        current_count += count\n",
    "    else:\n",
    "        if current_word:\n",
    "            # print out count\n",
    "            print '%s\\t%s' %(current_word, current_count)\n",
    "        current_count = count\n",
    "        current_word = word\n",
    "\n",
    "# do not forget to print the last word count if needed!\n",
    "if current_word == word:    \n",
    "    print '%s\\t%s' %(current_word, current_count)    \n"
   ]
  },
  {
   "cell_type": "markdown",
   "metadata": {},
   "source": [
    "###Write the file and put on HDFS"
   ]
  },
  {
   "cell_type": "code",
   "execution_count": 85,
   "metadata": {
    "collapsed": false
   },
   "outputs": [
    {
     "name": "stdout",
     "output_type": "stream",
     "text": [
      "Overwriting wordcount.txt\n"
     ]
    }
   ],
   "source": [
    "%%writefile wordcount.txt\n",
    "foo foo quux labs foo bar quux"
   ]
  },
  {
   "cell_type": "code",
   "execution_count": 86,
   "metadata": {
    "collapsed": false
   },
   "outputs": [
    {
     "name": "stdout",
     "output_type": "stream",
     "text": [
      "Deleted /user/lei/wordcount.txt\r\n"
     ]
    }
   ],
   "source": [
    "!hdfs dfs -rm /user/lei/wordcount.txt\n",
    "!hdfs dfs -put wordcount.txt /user/lei"
   ]
  },
  {
   "cell_type": "markdown",
   "metadata": {},
   "source": [
    "###Run the job with Hadoop streaming"
   ]
  },
  {
   "cell_type": "code",
   "execution_count": 7,
   "metadata": {
    "collapsed": false
   },
   "outputs": [
    {
     "name": "stdout",
     "output_type": "stream",
     "text": [
      "Deleted results\n",
      "packageJobJar: [/var/folders/tx/5ldq67q511q8wqwqkvptnxd00000gn/T/hadoop-unjar7556678054711269180/] [] /var/folders/tx/5ldq67q511q8wqwqkvptnxd00000gn/T/streamjob3086524328830560864.jar tmpDir=null\n"
     ]
    }
   ],
   "source": [
    "!hdfs dfs -rm -r results\n",
    "!hadoop jar /usr/local/Cellar/hadoop/2.*/libexec/share/hadoop/tools/lib/hadoop-streaming-2.7.1.jar \\\n",
    "-D mapred.map.tasks=1 \\\n",
    "-D mapred.reduce.tasks=4 \\\n",
    "-files mapper.py,reducer.py \\\n",
    "-mapper mapper.py \\\n",
    "-reducer reducer.py \\\n",
    "-input '/user/lei/wordcount.txt' \\\n",
    "-output results"
   ]
  },
  {
   "cell_type": "markdown",
   "metadata": {},
   "source": [
    "###<span style=\"color:red\">HW3.2 Results:</span>\n",
    "![Image 2](HW3_2_1.png)"
   ]
  },
  {
   "cell_type": "markdown",
   "metadata": {},
   "source": [
    "###*HW3.2*  Exploratory analysis on consumer complaint data\n",
    "**Please use mulitple mappers and reducers for these jobs (at least 2 mappers and 2 reducers).**\n",
    "\n",
    "- Perform a word count analysis of the Issue column of the Consumer Complaints  Dataset using a Mapper and Reducer based WordCount (i.e., no combiners used anywhere)  using user defined Counters to count up how many time the mapper and reducer are called. What is the value of your user defined Mapper Counter, and Reducer Counter after completing your word count job."
   ]
  },
  {
   "cell_type": "markdown",
   "metadata": {},
   "source": [
    "###Mapper "
   ]
  },
  {
   "cell_type": "code",
   "execution_count": 8,
   "metadata": {
    "collapsed": false
   },
   "outputs": [
    {
     "name": "stdout",
     "output_type": "stream",
     "text": [
      "Overwriting mapper.py\n"
     ]
    }
   ],
   "source": [
    "%%writefile mapper.py\n",
    "#!/usr/bin/python\n",
    "import sys, re, string\n",
    "# define regex for punctuation removal\n",
    "regex = re.compile('[%s]' % re.escape(string.punctuation))\n",
    "\n",
    "# increase counter for mapper being called\n",
    "sys.stderr.write(\"reporter:counter:HW3_2,Mapper_cnt,1\\n\")\n",
    "\n",
    "for line in sys.stdin:      \n",
    "    # extract the column values\n",
    "    parts = line.strip().split(',')\n",
    "    # issue is in 4th column\n",
    "    issue = parts[3].strip().lower()\n",
    "    # emit issue as key, and 1 as count\n",
    "    print \"%s,%s\" %(regex.sub('', issue), '1')"
   ]
  },
  {
   "cell_type": "markdown",
   "metadata": {},
   "source": [
    "###Reducer"
   ]
  },
  {
   "cell_type": "code",
   "execution_count": 9,
   "metadata": {
    "collapsed": false
   },
   "outputs": [
    {
     "name": "stdout",
     "output_type": "stream",
     "text": [
      "Overwriting reducer.py\n"
     ]
    }
   ],
   "source": [
    "%%writefile reducer.py\n",
    "#!/usr/bin/python\n",
    "from operator import itemgetter\n",
    "import sys\n",
    "\n",
    "current_word = None\n",
    "current_count = 0\n",
    "word = None\n",
    "\n",
    "# increase counter for reducer being called\n",
    "sys.stderr.write(\"reporter:counter:HW3_2,Reducer_cnt,1\\n\")\n",
    "\n",
    "# input comes from STDIN\n",
    "for line in sys.stdin:\n",
    "    # remove leading and trailing whitespace\n",
    "    line = line.strip()\n",
    "\n",
    "    # parse the input we got from mapper.py\n",
    "    word, count = line.split(',', 1)\n",
    "\n",
    "    # convert count (currently a string) to int\n",
    "    try:\n",
    "        count = int(count)\n",
    "    except ValueError:\n",
    "        # count was not a number, so silently\n",
    "        # ignore/discard this line\n",
    "        continue\n",
    "\n",
    "    # this IF-switch only works because Hadoop sorts map output\n",
    "    # by key (here: word) before it is passed to the reducer\n",
    "    if current_word == word:\n",
    "        current_count += count\n",
    "    else:\n",
    "        if current_word:\n",
    "            # print out count\n",
    "            print '%s,%s' %(current_word, current_count)\n",
    "        current_count = count\n",
    "        current_word = word\n",
    "\n",
    "# do not forget to print the last word count if needed!\n",
    "if current_word == word:    \n",
    "    print '%s,%s' %(current_word, current_count)    \n"
   ]
  },
  {
   "cell_type": "markdown",
   "metadata": {},
   "source": [
    "###Run the job with Hadoop streaming"
   ]
  },
  {
   "cell_type": "code",
   "execution_count": 10,
   "metadata": {
    "collapsed": false,
    "scrolled": false
   },
   "outputs": [
    {
     "name": "stdout",
     "output_type": "stream",
     "text": [
      "Deleted results\n",
      "packageJobJar: [/var/folders/tx/5ldq67q511q8wqwqkvptnxd00000gn/T/hadoop-unjar5125320870294825413/] [] /var/folders/tx/5ldq67q511q8wqwqkvptnxd00000gn/T/streamjob2595898526152944027.jar tmpDir=null\n"
     ]
    }
   ],
   "source": [
    "!hdfs dfs -rm -r results\n",
    "!hadoop jar /usr/local/Cellar/hadoop/2.*/libexec/share/hadoop/tools/lib/hadoop-streaming-2.7.1.jar \\\n",
    "-D mapred.map.tasks=4 \\\n",
    "-D mapred.reduce.tasks=2 \\\n",
    "-files mapper.py,reducer.py \\\n",
    "-mapper mapper.py \\\n",
    "-reducer reducer.py \\\n",
    "-input '/user/lei/Consumer_Complaints.csv' \\\n",
    "-output results "
   ]
  },
  {
   "cell_type": "markdown",
   "metadata": {},
   "source": [
    "###<span style=\"color:red\">HW3.2 Results:</span>\n",
    "we can see that the counter values are consistent with our specification of times for mapper and reducer to be called.\n",
    "![Image 2](HW3_2_2.png)\n",
    "\n",
    "And the issue counts are below:"
   ]
  },
  {
   "cell_type": "code",
   "execution_count": 11,
   "metadata": {
    "collapsed": false,
    "scrolled": true
   },
   "outputs": [
    {
     "name": "stdout",
     "output_type": "stream",
     "text": [
      "account terms and changes,350\t\r\n",
      "application processing delay,243\t\r\n",
      "application,8625\t\r\n",
      "apr or interest rate,3431\t\r\n",
      "billing disputes,6938\t\r\n",
      "billing statement,1220\t\r\n",
      "cant contact lender,221\t\r\n",
      "closingcancelling account,2795\t\r\n",
      "collection practices,1003\t\r\n",
      "convenience checks,75\t\r\n",
      "credit card protection  debt protection,1343\t\r\n",
      "credit determination,1490\t\r\n",
      "customer service  customer relations,1367\t\r\n",
      "dealing with my lender or servicer,1944\t\r\n",
      "delinquent account,1061\t\r\n",
      "deposits and withdrawals,10555\t\r\n",
      "disclosure verification of debt,5214\t\r\n",
      "health club,12545\t\r\n",
      "improper contact or sharing of info,2832\t\r\n",
      "incorrectmissing disclosures or info,64\t\r\n",
      "late fee,1797\t\r\n",
      "loan modification,70487\t\r\n",
      "loan servicing,36767\t\r\n",
      "makingreceiving payments,3226\t\r\n",
      "managing the loan or lease,4560\t\r\n",
      "money was not available when promised,274\t\r\n",
      "other fee,1075\t\r\n",
      "other transaction issues,387\t\r\n",
      "other,6273\t\r\n",
      "payoff process,1155\t\r\n",
      "privacy,240\t\r\n",
      "repaying your loan,3844\t\r\n",
      "rewards,1002\t\r\n",
      "shopping for a line of credit,137\t\r\n",
      "taking out the loan or lease,1242\t\r\n",
      "takingthreatening an illegal action,2505\t\r\n",
      "unable to get credit reportcredit score,4357\t\r\n",
      "unsolicited issuance of credit card,640\t\r\n",
      "using a debit or atm card,2422\t\r\n",
      "account opening,16205\t\r\n",
      "advertising and marketing,1193\t\r\n",
      "applied for loandid not receive money,139\t\r\n",
      "arbitration,168\t\r\n",
      "balance transfer fee,95\t\r\n",
      "balance transfer,502\t\r\n",
      "bankruptcy,222\t\r\n",
      "cant repay my loan,1647\t\r\n",
      "cant stop charges to bank account,131\t\r\n",
      "cash advance fee,104\t\r\n",
      "cash advance,136\t\r\n",
      "charged bank acct wrong day or amt,71\t\r\n",
      "charged fees or interest i didnt expect,807\t\r\n",
      "collection debt dispute,904\t\r\n",
      "communication tactics,6920\t\r\n",
      "contd attempts collect debt not owed,11848\t\r\n",
      "credit decision  underwriting,2774\t\r\n",
      "credit line increasedecrease,1149\t\r\n",
      "credit monitoring or identity protection,1453\t\r\n",
      "credit reporting companys investigation,4858\t\r\n",
      "credit reporting,1701\t\r\n",
      "false statements or representation,2508\t\r\n",
      "forbearance  workout plans,350\t\r\n",
      "fraud or scam,566\t\r\n",
      "getting a loan,291\t\r\n",
      "identity theft  fraud  embezzlement,3276\t\r\n",
      "improper use of my credit report,1477\t\r\n",
      "incorrect information on credit report,29069\t\r\n",
      "issue,1\t\r\n",
      "managing the line of credit,446\t\r\n",
      "other service issues,151\t\r\n",
      "overlimit fee,127\t\r\n",
      "payment to acct not credited,92\t\r\n",
      "problems caused by my funds being low,5663\t\r\n",
      "problems when you are unable to pay,3821\t\r\n",
      "received a loan i didnt apply for,118\t\r\n",
      "sale of account,139\t\r\n",
      "settlement process and costs,4350\t\r\n",
      "shopping for a loan or lease,535\t\r\n",
      "transaction issue,1098\t\r\n",
      "wrong amount charged or received,98\t\r\n"
     ]
    }
   ],
   "source": [
    "!hdfs dfs -cat /user/leiyang/results/part-0000* "
   ]
  },
  {
   "cell_type": "markdown",
   "metadata": {},
   "source": [
    "###*HW3.2*  Exploratory analysis on consumer complaint data\n",
    "**Please use mulitple mappers and reducers for these jobs (at least 2 mappers and 2 reducers).**\n",
    "\n",
    "- Perform a word count analysis of the Issue column of the Consumer Complaints  Dataset using a Mapper, Reducer, and standalone combiner (i.e., not an in-memory combiner) based WordCount using user defined Counters to count up how many time the mapper, combiner, reducer are called. What is the value of your user defined Mapper Counter, and Reducer Counter after completing your word count job.\n"
   ]
  },
  {
   "cell_type": "markdown",
   "metadata": {},
   "source": [
    "The definitions of mapper and reducer don't need to change in this case, we can just use the reducer as a standalone combiner, specified by Hadoop-streaming parameter (-combiner)"
   ]
  },
  {
   "cell_type": "code",
   "execution_count": 12,
   "metadata": {
    "collapsed": false
   },
   "outputs": [
    {
     "name": "stdout",
     "output_type": "stream",
     "text": [
      "Deleted results\n",
      "packageJobJar: [/var/folders/tx/5ldq67q511q8wqwqkvptnxd00000gn/T/hadoop-unjar2110887529466242773/] [] /var/folders/tx/5ldq67q511q8wqwqkvptnxd00000gn/T/streamjob4709300790161981780.jar tmpDir=null\n"
     ]
    }
   ],
   "source": [
    "!hdfs dfs -rm -r results\n",
    "!hadoop jar /usr/local/Cellar/hadoop/2.*/libexec/share/hadoop/tools/lib/hadoop-streaming-2.7.1.jar \\\n",
    "-D mapred.map.tasks=4 \\\n",
    "-D mapred.reduce.tasks=2 \\\n",
    "-files mapper.py,reducer.py \\\n",
    "-mapper mapper.py \\\n",
    "-reducer reducer.py \\\n",
    "-combiner reducer.py \\\n",
    "-input '/user/lei/Consumer_Complaints.csv' \\\n",
    "-output results "
   ]
  },
  {
   "cell_type": "markdown",
   "metadata": {},
   "source": [
    "###<span style=\"color:red\">HW3.2 Results:</span>\n",
    "We can see that the reducer.py was called 8 times during map step as **combiner**, and 2 times during reduce step as **reducer**. \n",
    "![Image 2](HW3_2_3.png)\n",
    "And the issue counts from two reducers are below:"
   ]
  },
  {
   "cell_type": "code",
   "execution_count": 13,
   "metadata": {
    "collapsed": false,
    "scrolled": true
   },
   "outputs": [
    {
     "name": "stdout",
     "output_type": "stream",
     "text": [
      "account terms and changes,350\t\r\n",
      "application processing delay,243\t\r\n",
      "application,8625\t\r\n",
      "apr or interest rate,3431\t\r\n",
      "billing disputes,6938\t\r\n",
      "billing statement,1220\t\r\n",
      "cant contact lender,221\t\r\n",
      "closingcancelling account,2795\t\r\n",
      "collection practices,1003\t\r\n",
      "convenience checks,75\t\r\n",
      "credit card protection  debt protection,1343\t\r\n",
      "credit determination,1490\t\r\n",
      "customer service  customer relations,1367\t\r\n",
      "dealing with my lender or servicer,1944\t\r\n",
      "delinquent account,1061\t\r\n",
      "deposits and withdrawals,10555\t\r\n",
      "disclosure verification of debt,5214\t\r\n",
      "health club,12545\t\r\n",
      "improper contact or sharing of info,2832\t\r\n",
      "incorrectmissing disclosures or info,64\t\r\n",
      "late fee,1797\t\r\n",
      "loan modification,70487\t\r\n",
      "loan servicing,36767\t\r\n",
      "makingreceiving payments,3226\t\r\n",
      "managing the loan or lease,4560\t\r\n",
      "money was not available when promised,274\t\r\n",
      "other fee,1075\t\r\n",
      "other transaction issues,387\t\r\n",
      "other,6273\t\r\n",
      "payoff process,1155\t\r\n",
      "privacy,240\t\r\n",
      "repaying your loan,3844\t\r\n",
      "rewards,1002\t\r\n",
      "shopping for a line of credit,137\t\r\n",
      "taking out the loan or lease,1242\t\r\n",
      "takingthreatening an illegal action,2505\t\r\n",
      "unable to get credit reportcredit score,4357\t\r\n",
      "unsolicited issuance of credit card,640\t\r\n",
      "using a debit or atm card,2422\t\r\n",
      "account opening,16205\t\r\n",
      "advertising and marketing,1193\t\r\n",
      "applied for loandid not receive money,139\t\r\n",
      "arbitration,168\t\r\n",
      "balance transfer fee,95\t\r\n",
      "balance transfer,502\t\r\n",
      "bankruptcy,222\t\r\n",
      "cant repay my loan,1647\t\r\n",
      "cant stop charges to bank account,131\t\r\n",
      "cash advance fee,104\t\r\n",
      "cash advance,136\t\r\n",
      "charged bank acct wrong day or amt,71\t\r\n",
      "charged fees or interest i didnt expect,807\t\r\n",
      "collection debt dispute,904\t\r\n",
      "communication tactics,6920\t\r\n",
      "contd attempts collect debt not owed,11848\t\r\n",
      "credit decision  underwriting,2774\t\r\n",
      "credit line increasedecrease,1149\t\r\n",
      "credit monitoring or identity protection,1453\t\r\n",
      "credit reporting companys investigation,4858\t\r\n",
      "credit reporting,1701\t\r\n",
      "false statements or representation,2508\t\r\n",
      "forbearance  workout plans,350\t\r\n",
      "fraud or scam,566\t\r\n",
      "getting a loan,291\t\r\n",
      "identity theft  fraud  embezzlement,3276\t\r\n",
      "improper use of my credit report,1477\t\r\n",
      "incorrect information on credit report,29069\t\r\n",
      "issue,1\t\r\n",
      "managing the line of credit,446\t\r\n",
      "other service issues,151\t\r\n",
      "overlimit fee,127\t\r\n",
      "payment to acct not credited,92\t\r\n",
      "problems caused by my funds being low,5663\t\r\n",
      "problems when you are unable to pay,3821\t\r\n",
      "received a loan i didnt apply for,118\t\r\n",
      "sale of account,139\t\r\n",
      "settlement process and costs,4350\t\r\n",
      "shopping for a loan or lease,535\t\r\n",
      "transaction issue,1098\t\r\n",
      "wrong amount charged or received,98\t\r\n"
     ]
    }
   ],
   "source": [
    "!hdfs dfs -cat /user/leiyang/results/part-0000* "
   ]
  },
  {
   "cell_type": "markdown",
   "metadata": {},
   "source": [
    "###*HW3.2*  Exploratory analysis on consumer complaint data\n",
    "\n",
    "- Using a single reducer: What are the top 50 most frequent terms in your word count analysis? \n",
    "- Present the top 50 terms and their frequency and their relative frequency. \n",
    "- If there are ties please sort the tokens in alphanumeric/string order. Present bottom 10 tokens (least frequent items).\n",
    "\n",
    "**Notes:**\n",
    "- for a single reducer (job) to get list of relative frequencies, we need to implement **order inversion** to get total count first.\n",
    "- **mapper** will emit **'dummy_sort_key, issue_name / \\*, count'**, as it is impossible to sort count with secondary sorting if we use the issue name as partitioner option.\n",
    "- we need to sort numerically of the count, and in the mean time guarantee the emits for total calculation **(key, \\*, count)** arrive first, thus we define *-inf* as the dummy sort key for those emits, as other counts are always postive.\n",
    "- **reducer** will get total count first, then joint count for each word, and finally relative frequency. It needs to be a generic process such that if the combiner is not called, the final results would still be correct.\n",
    "- specify secondary sort on issue name\n",
    "\n",
    "### Mapper"
   ]
  },
  {
   "cell_type": "code",
   "execution_count": 14,
   "metadata": {
    "collapsed": false
   },
   "outputs": [
    {
     "name": "stdout",
     "output_type": "stream",
     "text": [
      "Overwriting mapper.py\n"
     ]
    }
   ],
   "source": [
    "%%writefile mapper.py\n",
    "#!/usr/bin/python\n",
    "import sys, re, string\n",
    "# define regex for punctuation removal\n",
    "regex = re.compile('[%s]' % re.escape(string.punctuation))\n",
    "\n",
    "# increase counter for mapper being called\n",
    "sys.stderr.write(\"reporter:counter:HW3_2,Mapper_cnt,1\\n\")\n",
    "\n",
    "for line in sys.stdin:      \n",
    "    # get issue count and name\n",
    "    issue, count = line.strip().split(',')\n",
    "    # emit issue as key, and 1 as count\n",
    "    print \"%s,%s,%s\" %(count, issue, count)\n",
    "    # for order inversion, to calculate total count\n",
    "    print '%s,%s,%s' %('-3', '*', count)\n",
    "    \n",
    "# test for tie-break\n",
    "#print '%s,%s,%s' %(1, 'zzz', 3)\n",
    "#print '%s,%s,%s' %(1, 'oko', 3)\n",
    "#print '%s,%s,%s' %(1, 'ccc', 3)"
   ]
  },
  {
   "cell_type": "markdown",
   "metadata": {},
   "source": [
    "###Reducer"
   ]
  },
  {
   "cell_type": "code",
   "execution_count": 15,
   "metadata": {
    "collapsed": false
   },
   "outputs": [
    {
     "name": "stdout",
     "output_type": "stream",
     "text": [
      "Overwriting reducer.py\n"
     ]
    }
   ],
   "source": [
    "%%writefile reducer.py\n",
    "#!/usr/bin/python\n",
    "from operator import itemgetter\n",
    "import sys\n",
    "\n",
    "\n",
    "# buffer for top and bottom\n",
    "n_bottom, n_top = 10, 50\n",
    "bottom, top = [], []\n",
    "n_total = 0\n",
    "\n",
    "# input comes from STDIN\n",
    "for line in sys.stdin:\n",
    "    dummy, issue, count = line.strip().split(',', 2)\n",
    "    \n",
    "    # skip bad count\n",
    "    try:\n",
    "        count = int(count)\n",
    "    except ValueError:\n",
    "        continue\n",
    "    \n",
    "    # get total count\n",
    "    if '*' == issue:\n",
    "        n_total += count        \n",
    "        continue\n",
    "    \n",
    "    # calculate relative frequency\n",
    "    rf = 1.0*count/n_total\n",
    "    \n",
    "    # buffer top and bottom\n",
    "    if len(bottom) < n_bottom:\n",
    "        bottom.append([issue, count, rf])\n",
    "                \n",
    "    if len(top) < n_top:\n",
    "        top.append([issue, count, rf])\n",
    "    else:\n",
    "        top = top[1:] + [[issue, count, rf]]\n",
    "        \n",
    "# print results:\n",
    "top.reverse()\n",
    "print '\\ntop %d issues:' %n_top\n",
    "for rec in top:\n",
    "    print '%.2f%%\\t%d\\t%s' %(100*rec[2], rec[1], rec[0])\n",
    "\n",
    "print '\\nbottom %d issues:' %n_bottom\n",
    "for rec in bottom:\n",
    "    print '%.2f%%\\t%d\\t%s' %(100*rec[2], rec[1], rec[0])"
   ]
  },
  {
   "cell_type": "markdown",
   "metadata": {},
   "source": [
    "###Run the job with Hadoop streaming"
   ]
  },
  {
   "cell_type": "code",
   "execution_count": 16,
   "metadata": {
    "collapsed": false,
    "scrolled": false
   },
   "outputs": [
    {
     "name": "stdout",
     "output_type": "stream",
     "text": [
      "Deleted results2\n",
      "packageJobJar: [/var/folders/tx/5ldq67q511q8wqwqkvptnxd00000gn/T/hadoop-unjar1115560675774446028/] [] /var/folders/tx/5ldq67q511q8wqwqkvptnxd00000gn/T/streamjob3811758649004660161.jar tmpDir=null\n"
     ]
    }
   ],
   "source": [
    "# assuming count results are available\n",
    "!hdfs dfs -rm -r results2\n",
    "!hadoop jar /usr/local/Cellar/hadoop/2.*/libexec/share/hadoop/tools/lib/hadoop-streaming-2.7.1.jar \\\n",
    "-D mapred.output.key.comparator.class=org.apache.hadoop.mapred.lib.KeyFieldBasedComparator \\\n",
    "-D map.output.key.field.separator=, \\\n",
    "-D map.output.key.value.fields.spec=0-1:0- \\\n",
    "-D mapred.text.key.comparator.options='-k1,1n -k2,2' \\\n",
    "-D mapred.map.tasks=2 \\\n",
    "-D mapred.reduce.tasks=1 \\\n",
    "-files mapper.py,reducer.py \\\n",
    "-mapper mapper.py \\\n",
    "-reducer reducer.py \\\n",
    "-input /user/leiyang/results/part-0000* \\\n",
    "-output results2"
   ]
  },
  {
   "cell_type": "markdown",
   "metadata": {},
   "source": [
    "###The sorted top and bottom issues are:"
   ]
  },
  {
   "cell_type": "code",
   "execution_count": 17,
   "metadata": {
    "collapsed": false,
    "scrolled": true
   },
   "outputs": [
    {
     "name": "stdout",
     "output_type": "stream",
     "text": [
      "\t\r\n",
      "top 50 issues:\t\r\n",
      "22.53%\t70487\tloan modification\r\n",
      "11.75%\t36767\tloan servicing\r\n",
      "9.29%\t29069\tincorrect information on credit report\r\n",
      "5.18%\t16205\taccount opening\r\n",
      "4.01%\t12545\thealth club\r\n",
      "3.79%\t11848\tcontd attempts collect debt not owed\r\n",
      "3.37%\t10555\tdeposits and withdrawals\r\n",
      "2.76%\t8625\tapplication\r\n",
      "2.22%\t6938\tbilling disputes\r\n",
      "2.21%\t6920\tcommunication tactics\r\n",
      "2.00%\t6273\tother\r\n",
      "1.81%\t5663\tproblems caused by my funds being low\r\n",
      "1.67%\t5214\tdisclosure verification of debt\r\n",
      "1.55%\t4858\tcredit reporting companys investigation\r\n",
      "1.46%\t4560\tmanaging the loan or lease\r\n",
      "1.39%\t4357\tunable to get credit reportcredit score\r\n",
      "1.39%\t4350\tsettlement process and costs\r\n",
      "1.23%\t3844\trepaying your loan\r\n",
      "1.22%\t3821\tproblems when you are unable to pay\r\n",
      "1.10%\t3431\tapr or interest rate\r\n",
      "1.05%\t3276\tidentity theft  fraud  embezzlement\r\n",
      "1.03%\t3226\tmakingreceiving payments\r\n",
      "0.91%\t2832\timproper contact or sharing of info\r\n",
      "0.89%\t2795\tclosingcancelling account\r\n",
      "0.89%\t2774\tcredit decision  underwriting\r\n",
      "0.80%\t2508\tfalse statements or representation\r\n",
      "0.80%\t2505\ttakingthreatening an illegal action\r\n",
      "0.77%\t2422\tusing a debit or atm card\r\n",
      "0.62%\t1944\tdealing with my lender or servicer\r\n",
      "0.57%\t1797\tlate fee\r\n",
      "0.54%\t1701\tcredit reporting\r\n",
      "0.53%\t1647\tcant repay my loan\r\n",
      "0.48%\t1490\tcredit determination\r\n",
      "0.47%\t1477\timproper use of my credit report\r\n",
      "0.46%\t1453\tcredit monitoring or identity protection\r\n",
      "0.44%\t1367\tcustomer service  customer relations\r\n",
      "0.43%\t1343\tcredit card protection  debt protection\r\n",
      "0.40%\t1242\ttaking out the loan or lease\r\n",
      "0.39%\t1220\tbilling statement\r\n",
      "0.38%\t1193\tadvertising and marketing\r\n",
      "0.37%\t1155\tpayoff process\r\n",
      "0.37%\t1149\tcredit line increasedecrease\r\n",
      "0.35%\t1098\ttransaction issue\r\n",
      "0.34%\t1075\tother fee\r\n",
      "0.34%\t1061\tdelinquent account\r\n",
      "0.32%\t1003\tcollection practices\r\n",
      "0.32%\t1002\trewards\r\n",
      "0.29%\t904\tcollection debt dispute\r\n",
      "0.26%\t807\tcharged fees or interest i didnt expect\r\n",
      "0.20%\t640\tunsolicited issuance of credit card\r\n",
      "\t\r\n",
      "bottom 10 issues:\t\r\n",
      "0.00%\t1\tissue\r\n",
      "0.02%\t64\tincorrectmissing disclosures or info\r\n",
      "0.02%\t71\tcharged bank acct wrong day or amt\r\n",
      "0.02%\t75\tconvenience checks\r\n",
      "0.03%\t92\tpayment to acct not credited\r\n",
      "0.03%\t95\tbalance transfer fee\r\n",
      "0.03%\t98\twrong amount charged or received\r\n",
      "0.03%\t104\tcash advance fee\r\n",
      "0.04%\t118\treceived a loan i didnt apply for\r\n",
      "0.04%\t127\toverlimit fee\r\n"
     ]
    }
   ],
   "source": [
    "!hdfs dfs -cat /user/leiyang/results2/part-0000* "
   ]
  },
  {
   "cell_type": "markdown",
   "metadata": {},
   "source": [
    "###*3.2.1 OPTIONAL - * Using 2 reducers: \n",
    "- What are the top 50 most frequent terms in your word count analysis? \n",
    "- Present the top 50 terms and their frequency and their relative frequency. \n",
    "- If there are ties please sort the tokens in alphanumeric/string order. Present bottom 10 tokens (least frequent items)."
   ]
  },
  {
   "cell_type": "code",
   "execution_count": null,
   "metadata": {
    "collapsed": true
   },
   "outputs": [],
   "source": []
  },
  {
   "cell_type": "markdown",
   "metadata": {},
   "source": [
    "###*HW3.3.* Shopping Cart Analysis\n",
    "Product Recommendations: \n",
    "- The action or practice of selling additional products or services\n",
    "to existing customers is called cross-selling. \n",
    "- Giving product recommendation is one of the examples of cross-selling that are frequently used by online retailers.\n",
    "- One simple method to give product recommendations is to recommend products that are frequently\n",
    "browsed together by the customers.\n",
    "\n",
    "For this homework use the online browsing behavior dataset [here](https://www.dropbox.com/s/zlfyiwa70poqg74/ProductPurchaseData.txt?dl=0):\n",
    "\n",
    "- Each line in this dataset represents a browsing session of a customer.\n",
    "- On each line, each string of 8 characters represents the id of an item browsed during that session.\n",
    "- The items are separated by spaces.\n",
    "\n",
    "- Here are the first few lines of the ProductPurchaseData\n",
    " - FRO11987 ELE17451 ELE89019 SNA90258 GRO99222\n",
    " - GRO99222 GRO12298 FRO12685 ELE91550 SNA11465 ELE26917 ELE52966 FRO90334 SNA30755 ELE17451 FRO84225 SNA80192\n",
    " - ELE17451 GRO73461 DAI22896 SNA99873 FRO86643\n",
    " - ELE17451 ELE37798 FRO86643 GRO56989 ELE23393 SNA11465\n",
    " - ELE17451 SNA69641 FRO86643 FRO78087 SNA11465 GRO39357 ELE28573 ELE11375 DAI54444\n",
    "\n",
    "**Do some exploratory data analysis of this dataset.**\n",
    "\n",
    "- How many unique items are available from this supplier?\n",
    "- **Using a single reducer:**\n",
    " - Report your findings such as number of unique products; largest basket; \n",
    " - Report the top 50 most frequently purchased items,  their frequency,  and their relative frequency (break ties by sorting the products alphabetical order) etc. using Hadoop Map-Reduce.\n",
    "\n",
    "###Mapper - pair count\n",
    "- where $size$ is the basket size for each new session, otherwise zero to minimize data transfer"
   ]
  },
  {
   "cell_type": "code",
   "execution_count": 21,
   "metadata": {
    "collapsed": false
   },
   "outputs": [
    {
     "name": "stdout",
     "output_type": "stream",
     "text": [
      "Overwriting mapper.py\n"
     ]
    }
   ],
   "source": [
    "%%writefile mapper.py\n",
    "#!/usr/bin/python\n",
    "import sys\n",
    "\n",
    "# increase counter for mapper being called\n",
    "sys.stderr.write(\"reporter:counter:HW3_3,Mapper_cnt,1\\n\")\n",
    "\n",
    "for line in sys.stdin:   \n",
    "    # get all products\n",
    "    products = line.strip().split(' ')\n",
    "    size = len(products)\n",
    "    if size==0:\n",
    "        continue\n",
    "    for i in range(size):                \n",
    "        # emit word key\n",
    "        print '%s,%s,%s' %(products[i], 1, size if i==0 else 0)\n"
   ]
  },
  {
   "cell_type": "markdown",
   "metadata": {},
   "source": [
    "###Reducer - pair count"
   ]
  },
  {
   "cell_type": "code",
   "execution_count": 106,
   "metadata": {
    "collapsed": false
   },
   "outputs": [
    {
     "name": "stdout",
     "output_type": "stream",
     "text": [
      "Overwriting reducer.py\n"
     ]
    }
   ],
   "source": [
    "%%writefile reducer.py\n",
    "#!/usr/bin/python\n",
    "import sys\n",
    "import numpy as np\n",
    "\n",
    "# increase counter for mapper being called\n",
    "sys.stderr.write(\"reporter:counter:HW3_3,Reducer_cnt,1\\n\")\n",
    "\n",
    "max_size = 0\n",
    "current_prod = None\n",
    "current_count = 0\n",
    "\n",
    "for line in sys.stdin:   \n",
    "    # get mapper output\n",
    "    prod, count, size = line.strip().split(',', 2)\n",
    "    \n",
    "    # skip bad counts\n",
    "    try:\n",
    "        count = int(count)\n",
    "        size = int(size)\n",
    "    except ValueError:\n",
    "        continue\n",
    "    \n",
    "    # handle basket size\n",
    "    max_size = max(max_size, size)\n",
    "        \n",
    "    # count unique and get frequency\n",
    "    if current_prod == prod:\n",
    "        current_count += count\n",
    "    else:\n",
    "        # one product just finishes streaming\n",
    "        if current_prod:            \n",
    "            # emit product count\n",
    "            print '%s,%s' %(current_prod, current_count)            \n",
    "                    \n",
    "        # reset for new prod\n",
    "        current_prod = prod\n",
    "        current_count = count\n",
    "\n",
    "#print 'max basket size: %d' %max_size"
   ]
  },
  {
   "cell_type": "markdown",
   "metadata": {},
   "source": [
    "###Mapper - relative frequency & sort\n",
    "- use **order inversion** for reletive frequency, for each word emit $(dummy\\_sort, *, count)$ and $(dummy\\_sort, product, count)$"
   ]
  },
  {
   "cell_type": "code",
   "execution_count": 107,
   "metadata": {
    "collapsed": false
   },
   "outputs": [
    {
     "name": "stdout",
     "output_type": "stream",
     "text": [
      "Overwriting mapper_s.py\n"
     ]
    }
   ],
   "source": [
    "%%writefile mapper_s.py\n",
    "#!/usr/bin/python\n",
    "import sys\n",
    "\n",
    "# increase counter for mapper being called\n",
    "sys.stderr.write(\"reporter:counter:HW3_3s,Mapper_cnt,1\\n\")\n",
    "\n",
    "for line in sys.stdin:      \n",
    "    # get product and count\n",
    "    prod, count = line.strip().split(',')\n",
    "    # emit prod as key, and count\n",
    "    print \"%s,%s,%s\" %(count, prod, count)\n",
    "    # for order inversion, to calculate total count\n",
    "    print '%d,%s,%s' %(1e+10, '*', count)"
   ]
  },
  {
   "cell_type": "markdown",
   "metadata": {},
   "source": [
    "###Reducer - relative frequency & sort\n",
    "- get the top 50 pairs with most count\n",
    "- obtain unique products"
   ]
  },
  {
   "cell_type": "code",
   "execution_count": 108,
   "metadata": {
    "collapsed": false
   },
   "outputs": [
    {
     "name": "stdout",
     "output_type": "stream",
     "text": [
      "Overwriting reducer_s.py\n"
     ]
    }
   ],
   "source": [
    "%%writefile reducer_s.py\n",
    "#!/usr/bin/python\n",
    "import sys\n",
    "\n",
    "# increase counter for mapper being called\n",
    "sys.stderr.write(\"reporter:counter:HW3_3,Reducer_cnt,1\\n\")\n",
    "\n",
    "n_total = 0\n",
    "n_top = 50\n",
    "n_unique = 0\n",
    "\n",
    "for line in sys.stdin:   \n",
    "    \n",
    "    dummy, product, count = line.strip().split(',', 2)\n",
    "    \n",
    "    try:\n",
    "        count = int(count)\n",
    "    except ValueError:\n",
    "        continue\n",
    "       \n",
    "    # handle total\n",
    "    if product == '*':\n",
    "        n_total += count\n",
    "        continue\n",
    "    \n",
    "    # get relative frequency\n",
    "    n_unique += 1\n",
    "    if n_unique <= n_top:\n",
    "        print '%s\\t%s\\t%.4f%%' %(product, count, 100.0*count/n_total)\n",
    "    \n",
    "print 'total browsing items: %d' %n_total\n",
    "print 'unique product: %d' %n_unique"
   ]
  },
  {
   "cell_type": "markdown",
   "metadata": {},
   "source": [
    "###MapReducing"
   ]
  },
  {
   "cell_type": "code",
   "execution_count": 109,
   "metadata": {
    "collapsed": false,
    "scrolled": true
   },
   "outputs": [
    {
     "name": "stdout",
     "output_type": "stream",
     "text": [
      "Deleted results\n",
      "packageJobJar: [/var/folders/tx/5ldq67q511q8wqwqkvptnxd00000gn/T/hadoop-unjar6113682566909254738/] [] /var/folders/tx/5ldq67q511q8wqwqkvptnxd00000gn/T/streamjob2500948326253885932.jar tmpDir=null\n",
      "Deleted results2\n",
      "packageJobJar: [/var/folders/tx/5ldq67q511q8wqwqkvptnxd00000gn/T/hadoop-unjar2055398774848871732/] [] /var/folders/tx/5ldq67q511q8wqwqkvptnxd00000gn/T/streamjob4358016637415128494.jar tmpDir=null\n"
     ]
    }
   ],
   "source": [
    "# job 1 - pair count\n",
    "!hdfs dfs -rm -r results\n",
    "!hadoop jar /usr/local/Cellar/hadoop/2.*/libexec/share/hadoop/tools/lib/hadoop-streaming-2.7.1.jar \\\n",
    "-D mapred.output.key.comparator.class=org.apache.hadoop.mapred.lib.KeyFieldBasedComparator \\\n",
    "-D map.output.key.field.separator=, \\\n",
    "-D map.output.key.value.fields.spec=0:1- \\\n",
    "-D mapred.text.key.comparator.options='-k1,1' \\\n",
    "-D mapred.map.tasks=3 \\\n",
    "-D mapred.reduce.tasks=1 \\\n",
    "-files mapper.py,reducer.py \\\n",
    "-mapper mapper.py \\\n",
    "-reducer reducer.py \\\n",
    "-input /user/lei/ProductPurchaseData.txt \\\n",
    "-output results\n",
    "\n",
    "# job 2 - relative frequency & sort with order inversion\n",
    "!hdfs dfs -rm -r results2\n",
    "!hadoop jar /usr/local/Cellar/hadoop/2.*/libexec/share/hadoop/tools/lib/hadoop-streaming-2.7.1.jar \\\n",
    "-D mapred.output.key.comparator.class=org.apache.hadoop.mapred.lib.KeyFieldBasedComparator \\\n",
    "-D map.output.key.field.separator=, \\\n",
    "-D map.output.key.value.fields.spec=0-1:0- \\\n",
    "-D mapred.text.key.comparator.options='-k1,1nr -k2,2' \\\n",
    "-D mapred.map.tasks=3 \\\n",
    "-D mapred.reduce.tasks=1 \\\n",
    "-files mapper_s.py,reducer_s.py \\\n",
    "-mapper mapper_s.py \\\n",
    "-reducer reducer_s.py \\\n",
    "-input /user/leiyang/results/part-0000* \\\n",
    "-output results2"
   ]
  },
  {
   "cell_type": "code",
   "execution_count": 110,
   "metadata": {
    "collapsed": false,
    "scrolled": true
   },
   "outputs": [
    {
     "name": "stdout",
     "output_type": "stream",
     "text": [
      "DAI62779\t6667\t1.7507%\r\n",
      "FRO40251\t3881\t1.0191%\r\n",
      "ELE17451\t3875\t1.0175%\r\n",
      "GRO73461\t3602\t0.9458%\r\n",
      "SNA80324\t3044\t0.7993%\r\n",
      "ELE32164\t2851\t0.7486%\r\n",
      "DAI75645\t2736\t0.7184%\r\n",
      "SNA45677\t2455\t0.6447%\r\n",
      "FRO31317\t2330\t0.6118%\r\n",
      "DAI85309\t2293\t0.6021%\r\n",
      "ELE26917\t2292\t0.6019%\r\n",
      "FRO80039\t2233\t0.5864%\r\n",
      "GRO21487\t2115\t0.5554%\r\n",
      "SNA99873\t2083\t0.5470%\r\n",
      "GRO59710\t2004\t0.5262%\r\n",
      "GRO71621\t1920\t0.5042%\r\n",
      "FRO85978\t1918\t0.5036%\r\n",
      "GRO30386\t1840\t0.4832%\r\n",
      "ELE74009\t1816\t0.4769%\r\n",
      "GRO56726\t1784\t0.4685%\r\n",
      "DAI63921\t1773\t0.4656%\r\n",
      "GRO46854\t1756\t0.4611%\r\n",
      "ELE66600\t1713\t0.4498%\r\n",
      "DAI83733\t1712\t0.4496%\r\n",
      "FRO32293\t1702\t0.4469%\r\n",
      "ELE66810\t1697\t0.4456%\r\n",
      "SNA55762\t1646\t0.4322%\r\n",
      "DAI22177\t1627\t0.4272%\r\n",
      "FRO78087\t1531\t0.4020%\r\n",
      "ELE99737\t1516\t0.3981%\r\n",
      "ELE34057\t1489\t0.3910%\r\n",
      "GRO94758\t1489\t0.3910%\r\n",
      "FRO35904\t1436\t0.3771%\r\n",
      "FRO53271\t1420\t0.3729%\r\n",
      "SNA93860\t1407\t0.3695%\r\n",
      "SNA90094\t1390\t0.3650%\r\n",
      "GRO38814\t1352\t0.3550%\r\n",
      "ELE56788\t1345\t0.3532%\r\n",
      "GRO61133\t1321\t0.3469%\r\n",
      "DAI88807\t1316\t0.3456%\r\n",
      "ELE74482\t1316\t0.3456%\r\n",
      "ELE59935\t1311\t0.3443%\r\n",
      "SNA96271\t1295\t0.3401%\r\n",
      "DAI43223\t1290\t0.3387%\r\n",
      "ELE91337\t1289\t0.3385%\r\n",
      "GRO15017\t1275\t0.3348%\r\n",
      "DAI31081\t1261\t0.3311%\r\n",
      "GRO81087\t1220\t0.3204%\r\n",
      "DAI22896\t1219\t0.3201%\r\n",
      "GRO85051\t1214\t0.3188%\r\n",
      "total browsing items: 380823\t\r\n",
      "unique product: 12591\t\r\n"
     ]
    }
   ],
   "source": [
    "!hdfs dfs -cat results2/part-0*"
   ]
  },
  {
   "cell_type": "markdown",
   "metadata": {},
   "source": [
    "###*3.3.1 OPTIONAL* - Using 2 reducers:  \n",
    "- Report your findings such as number of unique products; largest basket; \n",
    "- Report the top 50 most frequently purchased items,  their frequency,  and their relative frequency (break ties by sorting the products alphabetical order) etc. using Hadoop Map-Reduce.\n",
    "\n",
    "**Notes:**\n",
    "- the challenge is from total calculation since we have multiple reducers, as only one will get the ***** key and be able to calculate the marginal.\n",
    "- possible solution: \n",
    " - write a customer partitioner, emit two dummy pairs, dispatch one for each reducer"
   ]
  },
  {
   "cell_type": "markdown",
   "metadata": {},
   "source": [
    "###*HW3.4.* (Computationally prohibitive but then again Hadoop can handle this) Pairs\n",
    "\n",
    "- Suppose we want to recommend new products to the customer based on the products they\n",
    "have already browsed on the online website. \n",
    "- Write a map-reduce program to find products which are frequently browsed together. \n",
    "- Fix the support count (cooccurence count) to s = 100\n",
    "(i.e. product pairs need to occur together at least 100 times to be considered frequent),\n",
    "and find pairs of items (sometimes referred to itemsets of size 2 in association rule mining) that have a support count of 100 or more.\n",
    "\n",
    "**List the top 50 product pairs with corresponding support count (aka frequency)**, and relative frequency or support (number of records where they coccur, the number of records where they coccur/the number of baskets in the dataset)  in decreasing order of support  for frequent (100>count) itemsets of size 2.\n",
    "\n",
    "Use the Pairs pattern (lecture 3)  to  extract these frequent itemsets of size 2. Free free to use combiners if they bring value. Instrument your code with counters for count the number of times your mapper, combiner and reducers are called.\n",
    "\n",
    "<img src=\"Pairs.png\" alt=\"Drawing\" style=\"width: 600px;\"/>\n",
    "\n",
    "Please output records of the following form for the top 50 pairs (itemsets of size 2):\n",
    "\n",
    "      item1, item2, support count, support\n",
    "\n",
    "\n",
    "\n",
    "Fix the ordering of the pairs lexicographically (left to right),\n",
    "and break ties in support (between pairs, if any exist)\n",
    "by taking the first ones in lexicographically increasing order.\n",
    "\n",
    "Report  the compute time for the Pairs job. Describe the computational setup used (E.g., single computer; dual core; linux, number of mappers, number of reducers)\n",
    " \n",
    "|Spec | Value|\n",
    "|---|:---:|\n",
    "| Computer | single |\n",
    "| OS  | OS X El Capitan |\n",
    "| Processor | 2.2 GHz Intel Core i7  |\n",
    "| Memory | 16 GB 1600 MHz DDR3|\n",
    "Instrument your mapper, combiner, and reducer to count how many times each is called using Counters and report these counts.\n",
    "\n",
    "\n",
    "###Mapper\n",
    "- for each session (row), use pair pattern with **order inversion**, emit $((w_i\\_w_j),1)$ for all pairs, and one $(*,1)$ for the session (for total session count).\n",
    "- the fourth field of every emit is used to indicate basket size for every session (row), size is postive for *only* one emit, and zero for rest of the emit, so we minimize data transfer"
   ]
  },
  {
   "cell_type": "code",
   "execution_count": 59,
   "metadata": {
    "collapsed": false
   },
   "outputs": [
    {
     "name": "stdout",
     "output_type": "stream",
     "text": [
      "Overwriting mapper.py\n"
     ]
    }
   ],
   "source": [
    "%%writefile mapper.py\n",
    "#!/usr/bin/python\n",
    "import sys\n",
    "\n",
    "# increase counter for mapper being called\n",
    "sys.stderr.write(\"reporter:counter:HW3_4,Mapper_cnt,1\\n\")\n",
    "\n",
    "for line in sys.stdin:   \n",
    "    # get all products from the session\n",
    "    products = line.strip().split(' ')\n",
    "    size = len(products)\n",
    "    if size==0:\n",
    "        continue\n",
    "    \n",
    "    # sort products the pair is lexicographically sound\n",
    "    products.sort()\n",
    "    \n",
    "    # get pairs of products\n",
    "    pairs = [[products[i], products[j]] for i in range(size) for j in range(i+1, size)]\n",
    "    \n",
    "    # emit dummy record\n",
    "    print '%s,%s' %('*', 1)\n",
    "    \n",
    "    # emit product pairs\n",
    "    for pair in pairs:\n",
    "        print '%s_%s,%s' %(pair[0], pair[1], 1)"
   ]
  },
  {
   "cell_type": "markdown",
   "metadata": {},
   "source": [
    "###Combiner\n",
    "- local aggregation for count"
   ]
  },
  {
   "cell_type": "code",
   "execution_count": 60,
   "metadata": {
    "collapsed": false
   },
   "outputs": [
    {
     "name": "stdout",
     "output_type": "stream",
     "text": [
      "Overwriting combiner.py\n"
     ]
    }
   ],
   "source": [
    "%%writefile combiner.py\n",
    "#!/usr/bin/python\n",
    "import sys\n",
    "\n",
    "# increase counter for reducer being called\n",
    "sys.stderr.write(\"reporter:counter:HW3_4,Combiner_cnt,1\\n\")\n",
    "\n",
    "current_pair = None\n",
    "current_count = 0\n",
    "\n",
    "for line in sys.stdin:       \n",
    "    # get all products from the session\n",
    "    pair, count = line.strip().split(',', 1)\n",
    "    \n",
    "    # skip bad count\n",
    "    try:\n",
    "        count = int(count)\n",
    "    except ValueError:\n",
    "        continue\n",
    "        \n",
    "    # accumulate counts for whatever keys it receives\n",
    "    if current_pair == pair:\n",
    "        current_count += count\n",
    "    else:\n",
    "        # previous pair finishes streaming, emit results\n",
    "        if current_pair:            \n",
    "            print '%s,%s' %(current_pair, current_count)\n",
    "        # reset new pair\n",
    "        current_pair = pair\n",
    "        current_count = count"
   ]
  },
  {
   "cell_type": "markdown",
   "metadata": {},
   "source": [
    "###Reducer\n",
    "- count number of basket based on $(*, 1)$ emits\n",
    "- get suport and relative frequency for each pair in the stream"
   ]
  },
  {
   "cell_type": "code",
   "execution_count": 61,
   "metadata": {
    "collapsed": false
   },
   "outputs": [
    {
     "name": "stdout",
     "output_type": "stream",
     "text": [
      "Overwriting reducer.py\n"
     ]
    }
   ],
   "source": [
    "%%writefile reducer.py\n",
    "#!/usr/bin/python\n",
    "import sys\n",
    "\n",
    "# increase counter for reducer being called\n",
    "sys.stderr.write(\"reporter:counter:HW3_4,Reducer_cnt,1\\n\")\n",
    "\n",
    "n_basket = 0\n",
    "min_support = 100\n",
    "current_pair = None\n",
    "current_count = 0\n",
    "\n",
    "for line in sys.stdin:       \n",
    "    # get all products from the session\n",
    "    pair, count = line.strip().split(',', 1)\n",
    "    \n",
    "    # skip bad count\n",
    "    try:\n",
    "        count = int(count)\n",
    "    except ValueError:\n",
    "        continue\n",
    "        \n",
    "    # get total sessions/baskets\n",
    "    if pair == '*':\n",
    "        n_basket += count\n",
    "        continue\n",
    "        \n",
    "    # get pair count\n",
    "    if current_pair == pair:\n",
    "        current_count += count\n",
    "    else:\n",
    "        # previous pair finishes streaming\n",
    "        if current_pair and current_count > min_support:\n",
    "            # get relative freq\n",
    "            rf = 100.0*current_count/n_basket\n",
    "            # emit\n",
    "            print '%s,%s,%.4f%%' %(current_pair, current_count, rf)\n",
    "        # reset new pair\n",
    "        current_pair = pair\n",
    "        current_count = count\n",
    "\n",
    "#print '\\ntotal basket: %d' %n_basket\n"
   ]
  },
  {
   "cell_type": "markdown",
   "metadata": {},
   "source": [
    "###Mapper for sort (or use identity mapper)"
   ]
  },
  {
   "cell_type": "code",
   "execution_count": 62,
   "metadata": {
    "collapsed": false
   },
   "outputs": [
    {
     "name": "stdout",
     "output_type": "stream",
     "text": [
      "Overwriting mapper_s.py\n"
     ]
    }
   ],
   "source": [
    "%%writefile mapper_s.py\n",
    "#!/usr/bin/python\n",
    "import sys\n",
    "\n",
    "# increase counter for mapper being called\n",
    "sys.stderr.write(\"reporter:counter:HW3_4,Mapper_s_cnt,1\\n\")\n",
    "\n",
    "for line in sys.stdin:   \n",
    "    # just emit\n",
    "    print line.strip()"
   ]
  },
  {
   "cell_type": "markdown",
   "metadata": {},
   "source": [
    "###Reducer for sort"
   ]
  },
  {
   "cell_type": "code",
   "execution_count": 63,
   "metadata": {
    "collapsed": false
   },
   "outputs": [
    {
     "name": "stdout",
     "output_type": "stream",
     "text": [
      "Overwriting reducer_s.py\n"
     ]
    }
   ],
   "source": [
    "%%writefile reducer_s.py\n",
    "#!/usr/bin/python\n",
    "import sys\n",
    "\n",
    "# increase counter for mapper being called\n",
    "sys.stderr.write(\"reporter:counter:HW3_4,Reducer_s_cnt,1\\n\")\n",
    "\n",
    "n_out = 0\n",
    "n_top = 50\n",
    "\n",
    "print 'top %d pairs: ' %n_top\n",
    "\n",
    "for line in sys.stdin:   \n",
    "    # parse mapper output  \n",
    "    pair, count, rf = line.strip().split(',', 2)\n",
    "    n_out += 1\n",
    "    if n_out <= n_top:\n",
    "        w1, w2 = pair.split('_')\n",
    "        print '%s\\t%s\\t%s\\t%s' %(w1, w2, count, rf)"
   ]
  },
  {
   "cell_type": "markdown",
   "metadata": {},
   "source": [
    "###MapReducing without combiner"
   ]
  },
  {
   "cell_type": "code",
   "execution_count": 64,
   "metadata": {
    "collapsed": false,
    "scrolled": true
   },
   "outputs": [
    {
     "name": "stdout",
     "output_type": "stream",
     "text": [
      "Deleted results\n",
      "packageJobJar: [/var/folders/tx/5ldq67q511q8wqwqkvptnxd00000gn/T/hadoop-unjar6313500269707918499/] [] /var/folders/tx/5ldq67q511q8wqwqkvptnxd00000gn/T/streamjob6247307708596164046.jar tmpDir=null\n",
      "Deleted results2\n",
      "packageJobJar: [/var/folders/tx/5ldq67q511q8wqwqkvptnxd00000gn/T/hadoop-unjar2314263346417839441/] [] /var/folders/tx/5ldq67q511q8wqwqkvptnxd00000gn/T/streamjob201592152313437354.jar tmpDir=null\n"
     ]
    }
   ],
   "source": [
    "# job 1 - count\n",
    "!hdfs dfs -rm -r results\n",
    "!hadoop jar /usr/local/Cellar/hadoop/2.*/libexec/share/hadoop/tools/lib/hadoop-streaming-2.7.1.jar \\\n",
    "-D mapred.output.key.comparator.class=org.apache.hadoop.mapred.lib.KeyFieldBasedComparator \\\n",
    "-D map.output.key.field.separator=, \\\n",
    "-D map.output.key.value.fields.spec=0:1- \\\n",
    "-D mapred.text.key.comparator.options='-k1,1' \\\n",
    "-D mapred.map.tasks=3 \\\n",
    "-D mapred.reduce.tasks=1 \\\n",
    "-files mapper.py,reducer.py \\\n",
    "-mapper mapper.py \\\n",
    "-reducer reducer.py \\\n",
    "-input /user/lei/ProductPurchaseData.txt \\\n",
    "-output results\n",
    "\n",
    "# job 2 - sort relative frequency\n",
    "!hdfs dfs -rm -r results2\n",
    "!hadoop jar /usr/local/Cellar/hadoop/2.*/libexec/share/hadoop/tools/lib/hadoop-streaming-2.7.1.jar \\\n",
    "-D mapred.output.key.comparator.class=org.apache.hadoop.mapred.lib.KeyFieldBasedComparator \\\n",
    "-D map.output.key.field.separator=',' \\\n",
    "-D map.output.key.value.fields.spec=0-1:2- \\\n",
    "-D mapred.text.key.comparator.options='-k2,2nr -k1,1' \\\n",
    "-D mapred.map.tasks=2 \\\n",
    "-D mapred.reduce.tasks=1 \\\n",
    "-files mapper_s.py,reducer_s.py \\\n",
    "-mapper mapper_s.py \\\n",
    "-reducer reducer_s.py \\\n",
    "-input /user/leiyang/results/part-0000* \\\n",
    "-output results2"
   ]
  },
  {
   "cell_type": "markdown",
   "metadata": {},
   "source": [
    "###HW3.4 results without combiner\n",
    "- 3 mappers, 1 reducer\n",
    "\n",
    "<img src=\"HW3_4.counter.png\" alt=\"Drawing\" style=\"width: 880px;\"/>\n",
    "<img src=\"HW3_4.time.png\" alt=\"Drawing\" style=\"width: 400px;\"/>"
   ]
  },
  {
   "cell_type": "code",
   "execution_count": 65,
   "metadata": {
    "collapsed": false,
    "scrolled": true
   },
   "outputs": [
    {
     "name": "stdout",
     "output_type": "stream",
     "text": [
      "top 50 pairs: \t\r\n",
      "DAI62779\tELE17451\t1592\t5.1188%\r\n",
      "FRO40251\tSNA80324\t1412\t4.5400%\r\n",
      "DAI75645\tFRO40251\t1254\t4.0320%\r\n",
      "FRO40251\tGRO85051\t1213\t3.9002%\r\n",
      "DAI62779\tGRO73461\t1139\t3.6623%\r\n",
      "DAI75645\tSNA80324\t1130\t3.6333%\r\n",
      "DAI62779\tFRO40251\t1070\t3.4404%\r\n",
      "DAI62779\tSNA80324\t923\t2.9678%\r\n",
      "DAI62779\tDAI85309\t918\t2.9517%\r\n",
      "ELE32164\tGRO59710\t911\t2.9292%\r\n",
      "DAI62779\tDAI75645\t882\t2.8359%\r\n",
      "FRO40251\tGRO73461\t882\t2.8359%\r\n",
      "DAI62779\tELE92920\t877\t2.8198%\r\n",
      "FRO40251\tFRO92469\t835\t2.6848%\r\n",
      "DAI62779\tELE32164\t832\t2.6752%\r\n",
      "DAI75645\tGRO73461\t712\t2.2893%\r\n",
      "DAI43223\tELE32164\t711\t2.2861%\r\n",
      "DAI62779\tGRO30386\t709\t2.2797%\r\n",
      "ELE17451\tFRO40251\t697\t2.2411%\r\n",
      "DAI85309\tELE99737\t659\t2.1189%\r\n",
      "DAI62779\tELE26917\t650\t2.0900%\r\n",
      "GRO21487\tGRO73461\t631\t2.0289%\r\n",
      "DAI62779\tSNA45677\t604\t1.9421%\r\n",
      "ELE17451\tSNA80324\t597\t1.9196%\r\n",
      "DAI62779\tGRO71621\t595\t1.9131%\r\n",
      "DAI62779\tSNA55762\t593\t1.9067%\r\n",
      "DAI62779\tDAI83733\t586\t1.8842%\r\n",
      "ELE17451\tGRO73461\t580\t1.8649%\r\n",
      "GRO73461\tSNA80324\t562\t1.8070%\r\n",
      "DAI62779\tGRO59710\t561\t1.8038%\r\n",
      "DAI62779\tFRO80039\t550\t1.7684%\r\n",
      "DAI75645\tELE17451\t547\t1.7588%\r\n",
      "DAI62779\tSNA93860\t537\t1.7266%\r\n",
      "DAI55148\tDAI62779\t526\t1.6913%\r\n",
      "DAI43223\tGRO59710\t512\t1.6462%\r\n",
      "ELE17451\tELE32164\t511\t1.6430%\r\n",
      "DAI62779\tSNA18336\t506\t1.6270%\r\n",
      "ELE32164\tGRO73461\t486\t1.5627%\r\n",
      "DAI62779\tFRO78087\t482\t1.5498%\r\n",
      "DAI85309\tELE17451\t482\t1.5498%\r\n",
      "DAI62779\tGRO94758\t479\t1.5401%\r\n",
      "DAI62779\tGRO21487\t471\t1.5144%\r\n",
      "GRO85051\tSNA80324\t471\t1.5144%\r\n",
      "ELE17451\tGRO30386\t468\t1.5048%\r\n",
      "FRO85978\tSNA95666\t463\t1.4887%\r\n",
      "DAI62779\tFRO19221\t462\t1.4855%\r\n",
      "DAI62779\tGRO46854\t461\t1.4823%\r\n",
      "DAI43223\tDAI62779\t459\t1.4758%\r\n",
      "ELE92920\tSNA18336\t455\t1.4630%\r\n",
      "DAI88079\tFRO40251\t446\t1.4340%\r\n"
     ]
    }
   ],
   "source": [
    "!hdfs dfs -cat results2/part-0*"
   ]
  },
  {
   "cell_type": "markdown",
   "metadata": {},
   "source": [
    "###MapReducing with combiner"
   ]
  },
  {
   "cell_type": "code",
   "execution_count": 66,
   "metadata": {
    "collapsed": false,
    "scrolled": true
   },
   "outputs": [
    {
     "name": "stdout",
     "output_type": "stream",
     "text": [
      "Deleted results\n",
      "packageJobJar: [/var/folders/tx/5ldq67q511q8wqwqkvptnxd00000gn/T/hadoop-unjar3295224449230340302/] [] /var/folders/tx/5ldq67q511q8wqwqkvptnxd00000gn/T/streamjob7434701589508937802.jar tmpDir=null\n",
      "Deleted results2\n",
      "packageJobJar: [/var/folders/tx/5ldq67q511q8wqwqkvptnxd00000gn/T/hadoop-unjar943447964334990827/] [] /var/folders/tx/5ldq67q511q8wqwqkvptnxd00000gn/T/streamjob5402224175670776010.jar tmpDir=null\n"
     ]
    }
   ],
   "source": [
    "# job 1 - add combiner below\n",
    "!hdfs dfs -rm -r results\n",
    "!hadoop jar /usr/local/Cellar/hadoop/2.*/libexec/share/hadoop/tools/lib/hadoop-streaming-2.7.1.jar \\\n",
    "-D mapred.output.key.comparator.class=org.apache.hadoop.mapred.lib.KeyFieldBasedComparator \\\n",
    "-D map.output.key.field.separator=, \\\n",
    "-D map.output.key.value.fields.spec=0:1- \\\n",
    "-D mapred.text.key.comparator.options='-k1,1' \\\n",
    "-D mapred.map.tasks=3 \\\n",
    "-D mapred.reduce.tasks=1 \\\n",
    "-files mapper.py,reducer.py,combiner.py \\\n",
    "-mapper mapper.py \\\n",
    "-reducer reducer.py \\\n",
    "-combiner combiner.py \\\n",
    "-input /user/lei/ProductPurchaseData.txt \\\n",
    "-output results\n",
    "\n",
    "# job 2 - sort relative frequency\n",
    "!hdfs dfs -rm -r results2\n",
    "!hadoop jar /usr/local/Cellar/hadoop/2.*/libexec/share/hadoop/tools/lib/hadoop-streaming-2.7.1.jar \\\n",
    "-D mapred.output.key.comparator.class=org.apache.hadoop.mapred.lib.KeyFieldBasedComparator \\\n",
    "-D map.output.key.field.separator=',' \\\n",
    "-D map.output.key.value.fields.spec=0-1:2- \\\n",
    "-D mapred.text.key.comparator.options='-k2,2nr -k1,1' \\\n",
    "-D mapred.map.tasks=2 \\\n",
    "-D mapred.reduce.tasks=1 \\\n",
    "-files mapper_s.py,reducer_s.py \\\n",
    "-mapper mapper_s.py \\\n",
    "-reducer reducer_s.py \\\n",
    "-input /user/leiyang/results/part-0000* \\\n",
    "-output results2"
   ]
  },
  {
   "cell_type": "markdown",
   "metadata": {},
   "source": [
    "###HW3.4 Results with combiner\n",
    "- 3 mappers, 1 reducer\n",
    "- the combiner was called 1 time by each map process, total 3 times\n",
    "\n",
    "<img src=\"HW3_4.combiner.counter.png\" alt=\"Drawing\" style=\"width: 880px;\"/>\n",
    "<img src=\"HW3_4.combiner.time.png\" alt=\"Drawing\" style=\"width: 400px;\"/>"
   ]
  },
  {
   "cell_type": "code",
   "execution_count": 68,
   "metadata": {
    "collapsed": false,
    "scrolled": true
   },
   "outputs": [
    {
     "name": "stdout",
     "output_type": "stream",
     "text": [
      "top 50 pairs: \t\r\n",
      "DAI62779\tELE17451\t1592\t5.1188%\r\n",
      "FRO40251\tSNA80324\t1412\t4.5400%\r\n",
      "DAI75645\tFRO40251\t1254\t4.0320%\r\n",
      "FRO40251\tGRO85051\t1213\t3.9002%\r\n",
      "DAI62779\tGRO73461\t1139\t3.6623%\r\n",
      "DAI75645\tSNA80324\t1130\t3.6333%\r\n",
      "DAI62779\tFRO40251\t1070\t3.4404%\r\n",
      "DAI62779\tSNA80324\t923\t2.9678%\r\n",
      "DAI62779\tDAI85309\t918\t2.9517%\r\n",
      "ELE32164\tGRO59710\t911\t2.9292%\r\n",
      "DAI62779\tDAI75645\t882\t2.8359%\r\n",
      "FRO40251\tGRO73461\t882\t2.8359%\r\n",
      "DAI62779\tELE92920\t877\t2.8198%\r\n",
      "FRO40251\tFRO92469\t835\t2.6848%\r\n",
      "DAI62779\tELE32164\t832\t2.6752%\r\n",
      "DAI75645\tGRO73461\t712\t2.2893%\r\n",
      "DAI43223\tELE32164\t711\t2.2861%\r\n",
      "DAI62779\tGRO30386\t709\t2.2797%\r\n",
      "ELE17451\tFRO40251\t697\t2.2411%\r\n",
      "DAI85309\tELE99737\t659\t2.1189%\r\n",
      "DAI62779\tELE26917\t650\t2.0900%\r\n",
      "GRO21487\tGRO73461\t631\t2.0289%\r\n",
      "DAI62779\tSNA45677\t604\t1.9421%\r\n",
      "ELE17451\tSNA80324\t597\t1.9196%\r\n",
      "DAI62779\tGRO71621\t595\t1.9131%\r\n",
      "DAI62779\tSNA55762\t593\t1.9067%\r\n",
      "DAI62779\tDAI83733\t586\t1.8842%\r\n",
      "ELE17451\tGRO73461\t580\t1.8649%\r\n",
      "GRO73461\tSNA80324\t562\t1.8070%\r\n",
      "DAI62779\tGRO59710\t561\t1.8038%\r\n",
      "DAI62779\tFRO80039\t550\t1.7684%\r\n",
      "DAI75645\tELE17451\t547\t1.7588%\r\n",
      "DAI62779\tSNA93860\t537\t1.7266%\r\n",
      "DAI55148\tDAI62779\t526\t1.6913%\r\n",
      "DAI43223\tGRO59710\t512\t1.6462%\r\n",
      "ELE17451\tELE32164\t511\t1.6430%\r\n",
      "DAI62779\tSNA18336\t506\t1.6270%\r\n",
      "ELE32164\tGRO73461\t486\t1.5627%\r\n",
      "DAI62779\tFRO78087\t482\t1.5498%\r\n",
      "DAI85309\tELE17451\t482\t1.5498%\r\n",
      "DAI62779\tGRO94758\t479\t1.5401%\r\n",
      "DAI62779\tGRO21487\t471\t1.5144%\r\n",
      "GRO85051\tSNA80324\t471\t1.5144%\r\n",
      "ELE17451\tGRO30386\t468\t1.5048%\r\n",
      "FRO85978\tSNA95666\t463\t1.4887%\r\n",
      "DAI62779\tFRO19221\t462\t1.4855%\r\n",
      "DAI62779\tGRO46854\t461\t1.4823%\r\n",
      "DAI43223\tDAI62779\t459\t1.4758%\r\n",
      "ELE92920\tSNA18336\t455\t1.4630%\r\n",
      "DAI88079\tFRO40251\t446\t1.4340%\r\n"
     ]
    }
   ],
   "source": [
    "!hdfs dfs -cat results2/part-0*"
   ]
  },
  {
   "cell_type": "markdown",
   "metadata": {},
   "source": [
    "###*HW3.5*: Stripes\n",
    "- Repeat 3.4 using the stripes design pattern for finding cooccuring pairs.\n",
    "- Report  the compute times for stripes job versus the Pairs job. \n",
    "- Describe the computational setup used (E.g., single computer; dual core; linux, number of mappers, number of reducers)\n",
    "\n",
    "- Instrument your mapper, combiner, and reducer to count how many times each is called using Counters and report these counts. \n",
    "- Discuss the differences in these counts between the Pairs and Stripes jobs\n",
    "\n",
    "<img src=\"Stripes.png\" alt=\"Drawing\" style=\"width: 600px;\"/>\n",
    "\n",
    "###Mapper\n",
    "- build associative array for each session, and do local in-memory aggregation\n",
    "- for the associative array, we implement the rule that *any key will only have words that alphabetically behind it in the associative array*, to have unique pairs"
   ]
  },
  {
   "cell_type": "code",
   "execution_count": 71,
   "metadata": {
    "collapsed": false
   },
   "outputs": [
    {
     "name": "stdout",
     "output_type": "stream",
     "text": [
      "Overwriting mapper.py\n"
     ]
    }
   ],
   "source": [
    "%%writefile mapper.py\n",
    "#!/usr/bin/python\n",
    "import sys\n",
    "\n",
    "# increase counter for mapper being called\n",
    "sys.stderr.write(\"reporter:counter:HW3_5,Mapper_cnt,1\\n\")\n",
    "\n",
    "# composite associative array\n",
    "H = {}\n",
    "\n",
    "for line in sys.stdin:   \n",
    "    # get all products from the session\n",
    "    products = line.strip().split(' ')\n",
    "    size = len(products)\n",
    "    if size==0:\n",
    "        continue\n",
    "    \n",
    "    # sort products so the pair is lexicographically sound\n",
    "    products.sort()\n",
    "    \n",
    "    # get pairs of products\n",
    "    pairs = [[products[i], products[j]] for i in range(size) for j in range(i+1, size)]\n",
    "    \n",
    "    # emit dummy record\n",
    "    print '%s\\t%s' %('*', 1)\n",
    "    \n",
    "    # build associative arrays\n",
    "    for w1, w2 in pairs:\n",
    "        # each pair is lexicographically in order        \n",
    "        if w1 not in H:\n",
    "            # if w1 is new, add an associative array for it\n",
    "            H[w1] = {}\n",
    "            H[w1][w2] = 1            \n",
    "        elif w2 not in H[w1]:\n",
    "            # w1 is not new, but it doesn't have key for w2\n",
    "            H[w1][w2] = 1\n",
    "        else:\n",
    "            # both are there, increase it\n",
    "            H[w1][w2] += 1\n",
    "        \n",
    "# emit associative arrays\n",
    "for h in H:\n",
    "    print '%s\\t%s' %(h, str(H[h]))"
   ]
  },
  {
   "cell_type": "markdown",
   "metadata": {},
   "source": [
    "###Reducer\n",
    "- element-wise sum"
   ]
  },
  {
   "cell_type": "code",
   "execution_count": 74,
   "metadata": {
    "collapsed": false
   },
   "outputs": [
    {
     "name": "stdout",
     "output_type": "stream",
     "text": [
      "Overwriting reducer.py\n"
     ]
    }
   ],
   "source": [
    "%%writefile reducer.py\n",
    "#!/usr/bin/python\n",
    "\n",
    "# function to combine associative array\n",
    "def elementSum(H1, H2):    \n",
    "    # make sure H1 is the long one\n",
    "    if len(H1)<len(H2):\n",
    "        H0 = H2\n",
    "        H2 = H1\n",
    "        H1 = H0\n",
    "    # merge shorter one H2 into longer one H1\n",
    "    for h in H2:\n",
    "        if h not in H1:\n",
    "            H1[h] = H2[h]\n",
    "        else:\n",
    "            H1[h] += H2[h]        \n",
    "    # return\n",
    "    return H1\n",
    "\n",
    "import sys\n",
    "import numpy as np\n",
    "\n",
    "# increase counter for mapper being called\n",
    "sys.stderr.write(\"reporter:counter:HW3_5,Reducer_cnt,1\\n\")\n",
    "\n",
    "min_support = 100\n",
    "current_word = None\n",
    "current_aArray = None\n",
    "n_total = 0\n",
    "\n",
    "for line in sys.stdin:\n",
    "    # parse out keyword and the associative array\n",
    "    word, aArray = line.strip().split('\\t', 1)\n",
    "    \n",
    "    # get total basket\n",
    "    if word == '*':\n",
    "        n_total += int(aArray)\n",
    "        continue\n",
    "    \n",
    "    # get array into variable\n",
    "    cmdStr = 'aArray = ' + aArray\n",
    "    exec cmdStr\n",
    "        \n",
    "    # merge the associative array\n",
    "    if current_word == word:\n",
    "        current_aArray = elementSum(current_aArray, aArray)           \n",
    "    else:\n",
    "        # finish one word merge\n",
    "        if current_word:\n",
    "            # get the top pairs with heap\n",
    "            for p in current_aArray:\n",
    "                if current_aArray[p] > min_support:                    \n",
    "                    # get relative freq\n",
    "                    rf = 100.0*current_aArray[p]/n_total\n",
    "                    print '%s,%s,%s,%.4f%%' %(current_word, p, current_aArray[p], rf)\n",
    "        # reset for a new word\n",
    "        current_word = word\n",
    "        current_aArray = aArray\n",
    "\n",
    "#print '\\ntotal basket: %d' %n_total\n"
   ]
  },
  {
   "cell_type": "markdown",
   "metadata": {},
   "source": [
    "###Mapper to sort"
   ]
  },
  {
   "cell_type": "code",
   "execution_count": 79,
   "metadata": {
    "collapsed": false
   },
   "outputs": [
    {
     "name": "stdout",
     "output_type": "stream",
     "text": [
      "Overwriting mapper_s.py\n"
     ]
    }
   ],
   "source": [
    "%%writefile mapper_s.py\n",
    "#!/usr/bin/python\n",
    "import sys\n",
    "\n",
    "# increase counter for mapper being called\n",
    "sys.stderr.write(\"reporter:counter:HW3_5,Mapper_s_cnt,1\\n\")\n",
    "\n",
    "for line in sys.stdin:   \n",
    "    # just emit\n",
    "    print line.strip()"
   ]
  },
  {
   "cell_type": "markdown",
   "metadata": {},
   "source": [
    "###Reducer to sort"
   ]
  },
  {
   "cell_type": "code",
   "execution_count": 80,
   "metadata": {
    "collapsed": false
   },
   "outputs": [
    {
     "name": "stdout",
     "output_type": "stream",
     "text": [
      "Overwriting reducer_s.py\n"
     ]
    }
   ],
   "source": [
    "%%writefile reducer_s.py\n",
    "#!/usr/bin/python\n",
    "import sys\n",
    "\n",
    "# increase counter for mapper being called\n",
    "sys.stderr.write(\"reporter:counter:HW3_5,Reducer_s_cnt,1\\n\")\n",
    "\n",
    "n_out = 0\n",
    "n_top = 50\n",
    "\n",
    "print 'top %d pairs: ' %n_top\n",
    "\n",
    "for line in sys.stdin:   \n",
    "    # parse mapper output  \n",
    "    n_out += 1\n",
    "    if n_out <= n_top:        \n",
    "        print line.strip().replace(',', '\\t')"
   ]
  },
  {
   "cell_type": "markdown",
   "metadata": {},
   "source": [
    "###MapReducing"
   ]
  },
  {
   "cell_type": "code",
   "execution_count": 84,
   "metadata": {
    "collapsed": false,
    "scrolled": true
   },
   "outputs": [
    {
     "name": "stdout",
     "output_type": "stream",
     "text": [
      "Deleted results\n",
      "packageJobJar: [/var/folders/tx/5ldq67q511q8wqwqkvptnxd00000gn/T/hadoop-unjar3782570145270895412/] [] /var/folders/tx/5ldq67q511q8wqwqkvptnxd00000gn/T/streamjob870881278814839645.jar tmpDir=null\n",
      "Deleted results2\n",
      "packageJobJar: [/var/folders/tx/5ldq67q511q8wqwqkvptnxd00000gn/T/hadoop-unjar5736039512355960039/] [] /var/folders/tx/5ldq67q511q8wqwqkvptnxd00000gn/T/streamjob3937477619845631898.jar tmpDir=null\n"
     ]
    }
   ],
   "source": [
    "# job 1 - count\n",
    "!hdfs dfs -rm -r results\n",
    "!hadoop jar /usr/local/Cellar/hadoop/2.*/libexec/share/hadoop/tools/lib/hadoop-streaming-2.7.1.jar \\\n",
    "-D mapred.map.tasks=3 \\\n",
    "-D mapred.reduce.tasks=1 \\\n",
    "-files mapper.py,reducer.py,combiner.py \\\n",
    "-mapper mapper.py \\\n",
    "-reducer reducer.py \\\n",
    "-input /user/lei/ProductPurchaseData.txt \\\n",
    "-output results\n",
    "\n",
    "# job 2 - sort relative frequency\n",
    "!hdfs dfs -rm -r results2\n",
    "!hadoop jar /usr/local/Cellar/hadoop/2.*/libexec/share/hadoop/tools/lib/hadoop-streaming-2.7.1.jar \\\n",
    "-D mapred.output.key.comparator.class=org.apache.hadoop.mapred.lib.KeyFieldBasedComparator \\\n",
    "-D map.output.key.field.separator=',' \\\n",
    "-D map.output.key.value.fields.spec=0-2:3- \\\n",
    "-D mapred.text.key.comparator.options='-k3,3nr -k1,1 -k2,2' \\\n",
    "-D mapred.map.tasks=2 \\\n",
    "-D mapred.reduce.tasks=1 \\\n",
    "-files mapper_s.py,reducer_s.py \\\n",
    "-mapper mapper_s.py \\\n",
    "-reducer reducer_s.py \\\n",
    "-input /user/leiyang/results/part-0000* \\\n",
    "-output results2"
   ]
  },
  {
   "cell_type": "markdown",
   "metadata": {},
   "source": [
    "###HW3.5 Results\n",
    "- 3 mappers, 1 reducer\n",
    "- the combiner was called 1 time by each map process, total 3 times\n",
    "- with the same configure, the execution time is reduced to 15 sec.  from 23 sec. of pair approach, about **33%** improvement\n",
    "\n",
    "<img src=\"HW3_5.counter.png\" alt=\"Drawing\" style=\"width: 880px;\"/>\n",
    "<img src=\"HW3_5.time.png\" alt=\"Drawing\" style=\"width: 400px;\"/>"
   ]
  },
  {
   "cell_type": "code",
   "execution_count": 85,
   "metadata": {
    "collapsed": false
   },
   "outputs": [
    {
     "name": "stdout",
     "output_type": "stream",
     "text": [
      "top 50 pairs: \t\r\n",
      "DAI62779\tELE17451\t1592\t5.1188%\r\n",
      "FRO40251\tSNA80324\t1412\t4.5400%\r\n",
      "DAI75645\tFRO40251\t1254\t4.0320%\r\n",
      "FRO40251\tGRO85051\t1213\t3.9002%\r\n",
      "DAI62779\tGRO73461\t1139\t3.6623%\r\n",
      "DAI75645\tSNA80324\t1130\t3.6333%\r\n",
      "DAI62779\tFRO40251\t1070\t3.4404%\r\n",
      "DAI62779\tSNA80324\t923\t2.9678%\r\n",
      "DAI62779\tDAI85309\t918\t2.9517%\r\n",
      "ELE32164\tGRO59710\t911\t2.9292%\r\n",
      "DAI62779\tDAI75645\t882\t2.8359%\r\n",
      "FRO40251\tGRO73461\t882\t2.8359%\r\n",
      "DAI62779\tELE92920\t877\t2.8198%\r\n",
      "FRO40251\tFRO92469\t835\t2.6848%\r\n",
      "DAI62779\tELE32164\t832\t2.6752%\r\n",
      "DAI75645\tGRO73461\t712\t2.2893%\r\n",
      "DAI43223\tELE32164\t711\t2.2861%\r\n",
      "DAI62779\tGRO30386\t709\t2.2797%\r\n",
      "ELE17451\tFRO40251\t697\t2.2411%\r\n",
      "DAI85309\tELE99737\t659\t2.1189%\r\n",
      "DAI62779\tELE26917\t650\t2.0900%\r\n",
      "GRO21487\tGRO73461\t631\t2.0289%\r\n",
      "DAI62779\tSNA45677\t604\t1.9421%\r\n",
      "ELE17451\tSNA80324\t597\t1.9196%\r\n",
      "DAI62779\tGRO71621\t595\t1.9131%\r\n",
      "DAI62779\tSNA55762\t593\t1.9067%\r\n",
      "DAI62779\tDAI83733\t586\t1.8842%\r\n",
      "ELE17451\tGRO73461\t580\t1.8649%\r\n",
      "GRO73461\tSNA80324\t562\t1.8070%\r\n",
      "DAI62779\tGRO59710\t561\t1.8038%\r\n",
      "DAI62779\tFRO80039\t550\t1.7684%\r\n",
      "DAI75645\tELE17451\t547\t1.7588%\r\n",
      "DAI62779\tSNA93860\t537\t1.7266%\r\n",
      "DAI55148\tDAI62779\t526\t1.6913%\r\n",
      "DAI43223\tGRO59710\t512\t1.6462%\r\n",
      "ELE17451\tELE32164\t511\t1.6430%\r\n",
      "DAI62779\tSNA18336\t506\t1.6270%\r\n",
      "ELE32164\tGRO73461\t486\t1.5627%\r\n",
      "DAI62779\tFRO78087\t482\t1.5498%\r\n",
      "DAI85309\tELE17451\t482\t1.5498%\r\n",
      "DAI62779\tGRO94758\t479\t1.5401%\r\n",
      "DAI62779\tGRO21487\t471\t1.5144%\r\n",
      "GRO85051\tSNA80324\t471\t1.5144%\r\n",
      "ELE17451\tGRO30386\t468\t1.5048%\r\n",
      "FRO85978\tSNA95666\t463\t1.4887%\r\n",
      "DAI62779\tFRO19221\t462\t1.4855%\r\n",
      "DAI62779\tGRO46854\t461\t1.4823%\r\n",
      "DAI43223\tDAI62779\t459\t1.4758%\r\n",
      "ELE92920\tSNA18336\t455\t1.4630%\r\n",
      "DAI88079\tFRO40251\t446\t1.4340%\r\n"
     ]
    }
   ],
   "source": [
    "!hdfs dfs -cat results2/part-0*"
   ]
  },
  {
   "cell_type": "markdown",
   "metadata": {
    "collapsed": true
   },
   "source": [
    "###OPTIONAL: all HW below this are optional\n",
    "\n",
    "** Preliminary information **\n",
    "\n",
    "Much of this homework beyond this point will focus on the Apriori algorithm for frequent itemset  mining and the additional step for extracting association rules from these frequent itemsets.\n",
    "Please acquaint yourself with the background information (below)\n",
    "before approaching the remaining  assignments.\n",
    "\n",
    "** Apriori background information **\n",
    "\n",
    "Some background material for the  Apriori algorithm is located at:\n",
    "\n",
    " - Slides in Live Session #3\n",
    " - https://en.wikipedia.org/wiki/Apriori_algorithm\n",
    " - https://www.dropbox.com/s/k2zm4otych279z2/Apriori-good-slides.pdf?dl=0\n",
    " - http://snap.stanford.edu/class/cs246-2014/slides/02-assocrules.pdf\n",
    "\n",
    "Association Rules are frequently used for Market Basket Analysis (MBA) by retailers to\n",
    "understand the purchase behavior of their customers. This information can be then used for\n",
    "many different purposes such as cross-selling and up-selling of products, sales promotions,\n",
    "loyalty programs, store design, discount plans and many others.\n",
    "Evaluation of item sets: Once you have found the frequent itemsets of a dataset, you need\n",
    "to choose a subset of them as your recommendations. Commonly used metrics for measuring\n",
    "significance and interest for selecting rules for recommendations are: confidence; lift; and conviction.\n",
    "\n",
    "###*HW3.6*\n",
    "What is the Apriori algorithm? Describe an example use in your domain of expertise and what kind of . Define confidence and lift.\n",
    "\n",
    "NOTE:\n",
    "For the remaining homework use the online browsing behavior dataset located at (same dataset as used above):\n",
    "\n",
    "       https://www.dropbox.com/s/zlfyiwa70poqg74/ProductPurchaseData.txt?dl=0\n",
    "\n",
    "Each line in this dataset represents a browsing session of a customer.\n",
    "On each line, each string of 8 characters represents the id of an item browsed during that session.\n",
    "The items are separated by spaces.\n",
    "\n",
    "Here are the first few lines of the ProductPurchaseData:\n",
    "\n",
    "- FRO11987 ELE17451 ELE89019 SNA90258 GRO99222\n",
    "- GRO99222 GRO12298 FRO12685 ELE91550 SNA11465 ELE26917 ELE52966 FRO90334 SNA30755 ELE17451 FRO84225 SNA80192\n",
    "- ELE17451 GRO73461 DAI22896 SNA99873 FRO86643\n",
    "- ELE17451 ELE37798 FRO86643 GRO56989 ELE23393 SNA11465\n",
    "- ELE17451 SNA69641 FRO86643 FRO78087 SNA11465 GRO39357 ELE28573 ELE11375 DAI54444\n"
   ]
  },
  {
   "cell_type": "code",
   "execution_count": null,
   "metadata": {
    "collapsed": true
   },
   "outputs": [],
   "source": []
  },
  {
   "cell_type": "markdown",
   "metadata": {},
   "source": [
    "###*HW3.7.* Shopping Cart Analysis\n",
    "Product Recommendations: The action or practice of selling additional products or services\n",
    "to existing customers is called cross-selling. Giving product recommendation is\n",
    "one of the examples of cross-selling that are frequently used by online retailers.\n",
    "One simple method to give product recommendations is to recommend products that are frequently\n",
    "browsed together by the customers.\n",
    "\n",
    "Suppose we want to recommend new products to the customer based on the products they\n",
    "have already browsed on the online website\n",
    "\n",
    "- Write a program using the A-priori algorithm to find products which are frequently browsed together. \n",
    "- Fix the support to s = 100 (i.e. product sets need to occur together at least 100 times to be considered frequent)\n",
    "and find itemsets of size 2 and 3.\n",
    "\n",
    "Then extract association rules from these frequent items. A rule is of the form:\n",
    "\n",
    "- (item1, item5) ⇒ item2.\n",
    "\n",
    "List the top 10 discovered rules in descreasing order of confidence in the following format\n",
    "\n",
    "- (item1, item5) ⇒ item2, supportCount ,support, confidence\n",
    "\n",
    "**Implementation Notes:**\n",
    "- each MapReduce job perform one round of APrior processing:\n",
    " - mapper: construct candidate set $C_k$\n",
    " - reducer: filter $C_k$ to get frequent item set $L_k$\n",
    "- to find itemsets of size 3, we will need 3 jobs\n",
    "\n",
    "\n",
    "###Mapper 1: get $C_1$\n",
    "- emit singleton"
   ]
  },
  {
   "cell_type": "code",
   "execution_count": 87,
   "metadata": {
    "collapsed": false
   },
   "outputs": [
    {
     "name": "stdout",
     "output_type": "stream",
     "text": [
      "Writing mapper_1.py\n"
     ]
    }
   ],
   "source": [
    "%%writefile mapper_1.py\n",
    "#!/usr/bin/python\n",
    "import sys\n",
    "\n",
    "# increase counter for mapper being called\n",
    "sys.stderr.write(\"reporter:counter:HW3_7,Mapper_1_cnt,1\\n\")\n",
    "\n",
    "for line in sys.stdin:   \n",
    "    # get words and emit\n",
    "    for prod in line.strip().split(' '):\n",
    "        print '%s\\t%d' %(prod, 1)"
   ]
  },
  {
   "cell_type": "markdown",
   "metadata": {},
   "source": [
    "###Reducer 1: get $L_1$\n",
    "- only emit words whose frequency is above the support threshold (100)\n",
    "- can be used as **combiner** too"
   ]
  },
  {
   "cell_type": "code",
   "execution_count": 94,
   "metadata": {
    "collapsed": false
   },
   "outputs": [
    {
     "name": "stdout",
     "output_type": "stream",
     "text": [
      "Overwriting reducer_1.py\n"
     ]
    }
   ],
   "source": [
    "%%writefile reducer_1.py\n",
    "#!/usr/bin/python\n",
    "import sys\n",
    "\n",
    "# increase counter for mapper being called\n",
    "sys.stderr.write(\"reporter:counter:HW3_7,Reducer_1_cnt,1\\n\")\n",
    "\n",
    "current_prod = None\n",
    "current_count = 0\n",
    "min_support = 100\n",
    "\n",
    "for line in sys.stdin:   \n",
    "    # get k-v pair\n",
    "    prod, count = line.strip().split('\\t', 1)\n",
    "    \n",
    "    # skip bad count\n",
    "    try:\n",
    "        count = int(count)\n",
    "    except ValueError:\n",
    "        continue\n",
    "        \n",
    "    # get count\n",
    "    if current_prod == prod:\n",
    "        current_count += count\n",
    "    else:\n",
    "        if current_prod and current_count > min_support:\n",
    "            # emit prod above min support\n",
    "            print '%s\\t%s' %(current_prod, current_count)\n",
    "        # reset\n",
    "        current_prod = prod\n",
    "        current_count = count\n",
    "    "
   ]
  },
  {
   "cell_type": "markdown",
   "metadata": {},
   "source": [
    "###Mapper 2: get $C_2$"
   ]
  },
  {
   "cell_type": "code",
   "execution_count": 138,
   "metadata": {
    "collapsed": false
   },
   "outputs": [
    {
     "name": "stdout",
     "output_type": "stream",
     "text": [
      "Overwriting mapper_2.py\n"
     ]
    }
   ],
   "source": [
    "%%writefile mapper_2.py\n",
    "#!/usr/bin/python\n",
    "import sys, subprocess \n",
    "\n",
    "# increase counter for mapper being called\n",
    "sys.stderr.write(\"reporter:counter:HW3_7,Mapper_2_cnt,1\\n\")\n",
    "\n",
    "# read the frequent singletons from HDFS\n",
    "singleton = []\n",
    "cat = subprocess.Popen([\"hadoop\", \"fs\", \"-cat\", \"results1/part-0*\"], stdout=subprocess.PIPE)\n",
    "for line in cat.stdout:    \n",
    "    prod, count = line.strip().split('\\t', 1)\n",
    "    singleton.append(prod)\n",
    "\n",
    "# read the session data\n",
    "for line in sys.stdin:   \n",
    "    print line.strip()\n",
    "    continue\n",
    "    # get words for each session\n",
    "    prod = line.strip().split(' ')\n",
    "    \n",
    "    \n",
    "    \n",
    "    # keep product from single set only\n",
    "    products = [val for val in prod if val in singleton]\n",
    "    products = products.sort()\n",
    "    \n",
    "    \n",
    "    \n",
    "    # get pairs to emit\n",
    "    size = len(products)\n",
    "    pairs = [products[i] + '_' + products[j] for i in range(size) for j in range(i+1, size)]\n",
    "    for p in pairs:\n",
    "        print '%s\\t%d' %(p, 1)\n",
    "        "
   ]
  },
  {
   "cell_type": "markdown",
   "metadata": {},
   "source": [
    "###Reducer 2: get $L_2$ - same as Reducer 1"
   ]
  },
  {
   "cell_type": "code",
   "execution_count": null,
   "metadata": {
    "collapsed": true
   },
   "outputs": [],
   "source": [
    "### same as reducer_1.py"
   ]
  },
  {
   "cell_type": "code",
   "execution_count": 145,
   "metadata": {
    "collapsed": true
   },
   "outputs": [],
   "source": [
    "import sys, subprocess \n",
    "singleton = []\n",
    "cat = subprocess.Popen([\"hadoop\", \"fs\", \"-cat\", \"results1/part-0*\"], stdout=subprocess.PIPE)\n",
    "for line in cat.stdout:    \n",
    "    prod, count = line.strip().split('\\t', 1)\n",
    "    singleton.append(prod)"
   ]
  },
  {
   "cell_type": "code",
   "execution_count": 146,
   "metadata": {
    "collapsed": false
   },
   "outputs": [
    {
     "name": "stdout",
     "output_type": "stream",
     "text": [
      "['DAI13902', 'DAI16142', 'DAI18527', 'DAI22177', 'DAI22240', 'DAI22534', 'DAI22896', 'DAI23334', 'DAI27125', 'DAI28743', 'DAI29159', 'DAI31081', 'DAI33336', 'DAI35347', 'DAI37607', 'DAI38969', 'DAI39727', 'DAI41952', 'DAI42083', 'DAI42493', 'DAI43223', 'DAI43747', 'DAI43868', 'DAI45339', 'DAI46755', 'DAI47529', 'DAI48126', 'DAI48891', 'DAI49199', 'DAI50895', 'DAI50913', 'DAI50921', 'DAI51880', 'DAI52318', 'DAI53110', 'DAI54444', 'DAI55148', 'DAI55911', 'DAI58206', 'DAI59508', 'DAI59546', 'DAI59609', 'DAI62779', 'DAI63631', 'DAI63921', 'DAI64292', 'DAI67189', 'DAI67621', 'DAI69156', 'DAI70456', 'DAI72236', 'DAI72502', 'DAI73122', 'DAI74083', 'DAI74315', 'DAI75645', 'DAI80076', 'DAI83031', 'DAI83733', 'DAI83948', 'DAI84001', 'DAI85309', 'DAI86167', 'DAI87412', 'DAI87448', 'DAI87514', 'DAI88079', 'DAI88088', 'DAI88352', 'DAI88807', 'DAI91290', 'DAI91392', 'DAI92253', 'DAI92600', 'DAI94679', 'DAI95741', 'ELE11111', 'ELE11160', 'ELE11375', 'ELE12792', 'ELE12845', 'ELE14480', 'ELE15527', 'ELE16299', 'ELE17451', 'ELE18198', 'ELE19549', 'ELE20196', 'ELE20202', 'ELE20347', 'ELE20398', 'ELE20847', 'ELE21353', 'ELE22970', 'ELE24630', 'ELE25077', 'ELE26917', 'ELE27021', 'ELE28189', 'ELE30182', 'ELE30911', 'ELE30933', 'ELE32164', 'ELE32244', 'ELE34057', 'ELE35159', 'ELE35632', 'ELE36333', 'ELE36642', 'ELE36909', 'ELE37048', 'ELE37770', 'ELE37798', 'ELE38289', 'ELE38504', 'ELE42696', 'ELE49801', 'ELE49861', 'ELE49863', 'ELE52966', 'ELE53126', 'ELE53386', 'ELE53470', 'ELE53835', 'ELE56788', 'ELE59028', 'ELE59541', 'ELE59935', 'ELE60182', 'ELE60381', 'ELE61844', 'ELE61940', 'ELE61961', 'ELE62598', 'ELE65859', 'ELE66600', 'ELE66741', 'ELE66810', 'ELE68605', 'ELE69204', 'ELE69552', 'ELE69675', 'ELE69750', 'ELE73604', 'ELE74009', 'ELE74482', 'ELE78169', 'ELE81534', 'ELE81987', 'ELE85027', 'ELE86306', 'ELE86561', 'ELE87456', 'ELE87710', 'ELE88031', 'ELE88263', 'ELE88539', 'ELE88583', 'ELE91337', 'ELE92629', 'ELE92920', 'ELE95803', 'ELE99737', 'FRO13478', 'FRO14171', 'FRO16142', 'FRO17249', 'FRO17734', 'FRO18565', 'FRO19221', 'FRO19671', 'FRO21081', 'FRO24098', 'FRO26482', 'FRO31077', 'FRO31317', 'FRO31824', 'FRO32293', 'FRO35729', 'FRO35904', 'FRO36333', 'FRO38366', 'FRO40251', 'FRO41069', 'FRO41939', 'FRO42750', 'FRO43226', 'FRO44046', 'FRO47962', 'FRO48038', 'FRO48055', 'FRO48920', 'FRO49827', 'FRO52457', 'FRO53088', 'FRO53271', 'FRO61354', 'FRO61611', 'FRO64631', 'FRO66272', 'FRO66852', 'FRO71085', 'FRO71487', 'FRO73056', 'FRO74121', 'FRO74324', 'FRO74605', 'FRO75586', 'FRO77633', 'FRO78087', 'FRO78994', 'FRO79022', 'FRO80039', 'FRO81176', 'FRO83374', 'FRO85978', 'FRO87415', 'FRO89565', 'FRO92261', 'FRO92469', 'FRO94523', 'FRO97732', 'FRO98006', 'FRO98184', 'FRO98729', 'FRO99372', 'FRO99756', 'FRO99783', 'GRO12298', 'GRO13844', 'GRO15017', 'GRO17075', 'GRO18367', 'GRO21487', 'GRO23573', 'GRO24246', 'GRO29598', 'GRO30386', 'GRO30912', 'GRO32086', 'GRO33815', 'GRO34288', 'GRO35122', 'GRO35827', 'GRO36567', 'GRO38814', 'GRO38983', 'GRO39357', 'GRO39661', 'GRO44993', 'GRO46627', 'GRO46854', 'GRO50832', 'GRO52067', 'GRO56726', 'GRO56989', 'GRO57279', 'GRO57755', 'GRO59710', 'GRO61133', 'GRO61273', 'GRO61641', 'GRO64900', 'GRO65025', 'GRO65522', 'GRO67739', 'GRO67806', 'GRO68067', 'GRO69543', 'GRO70959', 'GRO71615', 'GRO71621', 'GRO73461', 'GRO74951', 'GRO75758', 'GRO76157', 'GRO81045', 'GRO81087', 'GRO81647', 'GRO82670', 'GRO83463', 'GRO84328', 'GRO85051', 'GRO87006', 'GRO88324', 'GRO88505', 'GRO88511', 'GRO89004', 'GRO89148', 'GRO94173', 'GRO94758', 'GRO95519', 'GRO96342', 'GRO99222', 'SNA12663', 'SNA12690', 'SNA12933', 'SNA16036', 'SNA17270', 'SNA17634', 'SNA17775', 'SNA18336', 'SNA20554', 'SNA24799', 'SNA29014', 'SNA30533', 'SNA30755', 'SNA30859', 'SNA31619', 'SNA35625', 'SNA37803', 'SNA38067', 'SNA38068', 'SNA40078', 'SNA40408', 'SNA40784', 'SNA42528', 'SNA43319', 'SNA44190', 'SNA45677', 'SNA47306', 'SNA49107', 'SNA50789', 'SNA53220', 'SNA54435', 'SNA55617', 'SNA55762', 'SNA55952', 'SNA56249', 'SNA57865', 'SNA57913', 'SNA58341', 'SNA59061', 'SNA59228', 'SNA59903', 'SNA61380', 'SNA62128', 'SNA64534', 'SNA66583', 'SNA66979', 'SNA68538', 'SNA69641', 'SNA71332', 'SNA72163', 'SNA74022', 'SNA80192', 'SNA80324', 'SNA81024', 'SNA82528', 'SNA83730', 'SNA85241', 'SNA85662', 'SNA88283', 'SNA89368', 'SNA90094', 'SNA90258', 'SNA92435', 'SNA92493', 'SNA93641', 'SNA93730', 'SNA93860', 'SNA95666', 'SNA96271', 'SNA96466']\n"
     ]
    }
   ],
   "source": [
    "print singleton"
   ]
  },
  {
   "cell_type": "code",
   "execution_count": null,
   "metadata": {
    "collapsed": true
   },
   "outputs": [],
   "source": []
  },
  {
   "cell_type": "markdown",
   "metadata": {},
   "source": [
    "###MapReducing"
   ]
  },
  {
   "cell_type": "code",
   "execution_count": 92,
   "metadata": {
    "collapsed": false
   },
   "outputs": [
    {
     "name": "stdout",
     "output_type": "stream",
     "text": [
      "Deleted results1\n",
      "packageJobJar: [/var/folders/tx/5ldq67q511q8wqwqkvptnxd00000gn/T/hadoop-unjar1147702985260865663/] [] /var/folders/tx/5ldq67q511q8wqwqkvptnxd00000gn/T/streamjob1278808409956427190.jar tmpDir=null\n"
     ]
    }
   ],
   "source": [
    "# job 1 - get L_1 for frequent singletons\n",
    "!hdfs dfs -rm -r results1\n",
    "!hadoop jar /usr/local/Cellar/hadoop/2.*/libexec/share/hadoop/tools/lib/hadoop-streaming-2.7.1.jar \\\n",
    "-D mapred.map.tasks=3 \\\n",
    "-D mapred.reduce.tasks=1 \\\n",
    "-files mapper_1.py,reducer_1.py \\\n",
    "-mapper mapper_1.py \\\n",
    "-reducer reducer_1.py \\\n",
    "-combiner reducer_1.py \\\n",
    "-input /user/lei/ProductPurchaseData.txt \\\n",
    "-output results1"
   ]
  },
  {
   "cell_type": "code",
   "execution_count": 139,
   "metadata": {
    "collapsed": false
   },
   "outputs": [
    {
     "name": "stdout",
     "output_type": "stream",
     "text": [
      "Deleted results2\n",
      "packageJobJar: [/var/folders/tx/5ldq67q511q8wqwqkvptnxd00000gn/T/hadoop-unjar4203468675129598604/] [] /var/folders/tx/5ldq67q511q8wqwqkvptnxd00000gn/T/streamjob5826834653972538675.jar tmpDir=null\n",
      "Error: java.lang.RuntimeException: PipeMapRed.waitOutputThreads(): subprocess failed with code 1\n",
      "\tat org.apache.hadoop.streaming.PipeMapRed.waitOutputThreads(PipeMapRed.java:322)\n",
      "\tat org.apache.hadoop.streaming.PipeMapRed.mapRedFinished(PipeMapRed.java:535)\n",
      "\tat org.apache.hadoop.streaming.PipeMapper.close(PipeMapper.java:130)\n",
      "\tat org.apache.hadoop.mapred.MapRunner.run(MapRunner.java:61)\n",
      "\tat org.apache.hadoop.streaming.PipeMapRunner.run(PipeMapRunner.java:34)\n",
      "\tat org.apache.hadoop.mapred.MapTask.runOldMapper(MapTask.java:453)\n",
      "\tat org.apache.hadoop.mapred.MapTask.run(MapTask.java:343)\n",
      "\tat org.apache.hadoop.mapred.YarnChild$2.run(YarnChild.java:164)\n",
      "\tat java.security.AccessController.doPrivileged(Native Method)\n",
      "\tat javax.security.auth.Subject.doAs(Subject.java:415)\n",
      "\tat org.apache.hadoop.security.UserGroupInformation.doAs(UserGroupInformation.java:1657)\n",
      "\tat org.apache.hadoop.mapred.YarnChild.main(YarnChild.java:158)\n",
      "\n",
      "Error: java.lang.RuntimeException: PipeMapRed.waitOutputThreads(): subprocess failed with code 1\n",
      "\tat org.apache.hadoop.streaming.PipeMapRed.waitOutputThreads(PipeMapRed.java:322)\n",
      "\tat org.apache.hadoop.streaming.PipeMapRed.mapRedFinished(PipeMapRed.java:535)\n",
      "\tat org.apache.hadoop.streaming.PipeMapper.close(PipeMapper.java:130)\n",
      "\tat org.apache.hadoop.mapred.MapRunner.run(MapRunner.java:61)\n",
      "\tat org.apache.hadoop.streaming.PipeMapRunner.run(PipeMapRunner.java:34)\n",
      "\tat org.apache.hadoop.mapred.MapTask.runOldMapper(MapTask.java:453)\n",
      "\tat org.apache.hadoop.mapred.MapTask.run(MapTask.java:343)\n",
      "\tat org.apache.hadoop.mapred.YarnChild$2.run(YarnChild.java:164)\n",
      "\tat java.security.AccessController.doPrivileged(Native Method)\n",
      "\tat javax.security.auth.Subject.doAs(Subject.java:415)\n",
      "\tat org.apache.hadoop.security.UserGroupInformation.doAs(UserGroupInformation.java:1657)\n",
      "\tat org.apache.hadoop.mapred.YarnChild.main(YarnChild.java:158)\n",
      "\n",
      "Error: java.lang.RuntimeException: PipeMapRed.waitOutputThreads(): subprocess failed with code 1\n",
      "\tat org.apache.hadoop.streaming.PipeMapRed.waitOutputThreads(PipeMapRed.java:322)\n",
      "\tat org.apache.hadoop.streaming.PipeMapRed.mapRedFinished(PipeMapRed.java:535)\n",
      "\tat org.apache.hadoop.streaming.PipeMapper.close(PipeMapper.java:130)\n",
      "\tat org.apache.hadoop.mapred.MapRunner.run(MapRunner.java:61)\n",
      "\tat org.apache.hadoop.streaming.PipeMapRunner.run(PipeMapRunner.java:34)\n",
      "\tat org.apache.hadoop.mapred.MapTask.runOldMapper(MapTask.java:453)\n",
      "\tat org.apache.hadoop.mapred.MapTask.run(MapTask.java:343)\n",
      "\tat org.apache.hadoop.mapred.YarnChild$2.run(YarnChild.java:164)\n",
      "\tat java.security.AccessController.doPrivileged(Native Method)\n",
      "\tat javax.security.auth.Subject.doAs(Subject.java:415)\n",
      "\tat org.apache.hadoop.security.UserGroupInformation.doAs(UserGroupInformation.java:1657)\n",
      "\tat org.apache.hadoop.mapred.YarnChild.main(YarnChild.java:158)\n",
      "\n",
      "Streaming Command Failed!\n"
     ]
    }
   ],
   "source": [
    "# job 2 - get L_2 for frequent pairs\n",
    "!hdfs dfs -rm -r results2\n",
    "!hadoop jar /usr/local/Cellar/hadoop/2.*/libexec/share/hadoop/tools/lib/hadoop-streaming-2.7.1.jar \\\n",
    "-D mapred.map.tasks=1 \\\n",
    "-D mapred.reduce.tasks=0 \\\n",
    "-files mapper_2.py,reducer_1.py \\\n",
    "-mapper mapper_2.py \\\n",
    "-reducer reducer_1.py \\\n",
    "-input /user/lei/ProductPurchaseData.txt \\\n",
    "-output results2"
   ]
  },
  {
   "cell_type": "code",
   "execution_count": 140,
   "metadata": {
    "collapsed": false
   },
   "outputs": [
    {
     "name": "stdout",
     "output_type": "stream",
     "text": [
      "DAI13902\t118\r\n",
      "DAI16142\t131\r\n",
      "DAI18527\t135\r\n",
      "DAI22177\t1627\r\n",
      "DAI22240\t597\r\n",
      "DAI22534\t106\r\n",
      "DAI22896\t1219\r\n",
      "DAI23334\t165\r\n",
      "DAI27125\t151\r\n",
      "DAI28743\t160\r\n",
      "DAI29159\t275\r\n",
      "DAI31081\t1261\r\n",
      "DAI33336\t438\r\n",
      "DAI35347\t1060\r\n",
      "DAI37607\t189\r\n",
      "DAI38969\t785\r\n",
      "DAI39727\t106\r\n",
      "DAI41952\t109\r\n",
      "DAI42083\t522\r\n",
      "DAI42493\t1001\r\n",
      "DAI43223\t1290\r\n",
      "DAI43747\t230\r\n",
      "DAI43868\t211\r\n",
      "DAI45339\t124\r\n",
      "DAI46755\t111\r\n",
      "DAI47529\t179\r\n",
      "DAI48126\t229\r\n",
      "DAI48891\t825\r\n",
      "DAI49199\t664\r\n",
      "DAI50895\t185\r\n",
      "DAI50913\t367\r\n",
      "DAI50921\t173\r\n",
      "DAI51880\t306\r\n",
      "DAI52318\t204\r\n",
      "DAI53110\t107\r\n",
      "DAI54444\t333\r\n",
      "DAI55148\t975\r\n",
      "DAI55911\t974\r\n",
      "DAI58206\t104\r\n",
      "DAI59508\t707\r\n",
      "DAI59546\t109\r\n",
      "DAI59609\t205\r\n",
      "DAI62779\t6667\r\n",
      "DAI63631\t131\r\n",
      "DAI63921\t1773\r\n",
      "DAI64292\t125\r\n",
      "DAI67189\t135\r\n",
      "DAI67621\t384\r\n",
      "DAI69156\t200\r\n",
      "DAI70456\t338\r\n",
      "DAI72236\t173\r\n",
      "DAI72502\t107\r\n",
      "DAI73122\t566\r\n",
      "DAI74083\t376\r\n",
      "DAI74315\t194\r\n",
      "DAI75645\t2736\r\n",
      "DAI80076\t156\r\n",
      "DAI83031\t232\r\n",
      "DAI83733\t1712\r\n",
      "DAI83948\t830\r\n",
      "DAI84001\t186\r\n",
      "DAI85309\t2293\r\n",
      "DAI86167\t246\r\n",
      "DAI87412\t116\r\n",
      "DAI87448\t793\r\n",
      "DAI87514\t107\r\n",
      "DAI88079\t452\r\n",
      "DAI88088\t324\r\n",
      "DAI88352\t456\r\n",
      "DAI88807\t1316\r\n",
      "DAI91290\t1138\r\n",
      "DAI91392\t144\r\n",
      "DAI92253\t120\r\n",
      "DAI92600\t935\r\n",
      "DAI94679\t255\r\n",
      "DAI95741\t878\r\n",
      "ELE11111\t811\r\n",
      "ELE11160\t241\r\n",
      "ELE11375\t113\r\n",
      "ELE12792\t832\r\n",
      "ELE12845\t562\r\n",
      "ELE14480\t1147\r\n",
      "ELE15527\t284\r\n",
      "ELE16299\t116\r\n",
      "ELE17451\t3875\r\n",
      "ELE18198\t149\r\n",
      "ELE19549\t230\r\n",
      "ELE20196\t545\r\n",
      "ELE20202\t259\r\n",
      "ELE20347\t366\r\n",
      "ELE20398\t690\r\n",
      "ELE20847\t818\r\n",
      "ELE21353\t346\r\n",
      "ELE22970\t207\r\n",
      "ELE24630\t216\r\n",
      "ELE25077\t478\r\n",
      "ELE26917\t2292\r\n",
      "ELE27021\t244\r\n",
      "ELE28189\t302\r\n",
      "ELE30182\t128\r\n",
      "ELE30911\t273\r\n",
      "ELE30933\t282\r\n",
      "ELE32164\t2851\r\n",
      "ELE32244\t290\r\n",
      "ELE34057\t1489\r\n",
      "ELE35159\t113\r\n",
      "ELE35632\t426\r\n",
      "ELE36333\t145\r\n",
      "ELE36642\t103\r\n",
      "ELE36909\t242\r\n",
      "ELE37048\t802\r\n",
      "ELE37770\t630\r\n",
      "ELE37798\t445\r\n",
      "ELE38289\t456\r\n",
      "ELE38504\t146\r\n",
      "ELE42696\t170\r\n",
      "ELE49801\t663\r\n",
      "ELE49861\t325\r\n",
      "ELE49863\t310\r\n",
      "ELE52966\t380\r\n",
      "ELE53126\t837\r\n",
      "ELE53386\t128\r\n",
      "ELE53470\t114\r\n",
      "ELE53835\t123\r\n",
      "ELE56788\t1345\r\n",
      "ELE59028\t673\r\n",
      "ELE59541\t139\r\n",
      "ELE59935\t1311\r\n",
      "ELE60182\t113\r\n",
      "ELE60381\t296\r\n",
      "ELE61844\t107\r\n",
      "ELE61940\t221\r\n",
      "ELE61961\t127\r\n",
      "ELE62598\t717\r\n",
      "ELE65859\t129\r\n",
      "ELE66600\t1713\r\n",
      "ELE66741\t293\r\n",
      "ELE66810\t1697\r\n",
      "ELE68605\t697\r\n",
      "ELE69204\t102\r\n",
      "ELE69552\t269\r\n",
      "ELE69675\t114\r\n",
      "ELE69750\t242\r\n",
      "ELE73604\t130\r\n",
      "ELE74009\t1816\r\n",
      "ELE74482\t1316\r\n",
      "ELE78169\t460\r\n",
      "ELE81534\t142\r\n",
      "ELE81987\t164\r\n",
      "ELE85027\t478\r\n",
      "ELE86306\t119\r\n",
      "ELE86561\t735\r\n",
      "ELE87456\t655\r\n",
      "ELE87710\t103\r\n",
      "ELE88031\t139\r\n",
      "ELE88263\t326\r\n",
      "ELE88539\t116\r\n",
      "ELE88583\t222\r\n",
      "ELE91337\t1289\r\n",
      "ELE92629\t141\r\n",
      "ELE92920\t1135\r\n",
      "ELE95803\t441\r\n",
      "ELE99737\t1516\r\n",
      "FRO13478\t143\r\n",
      "FRO14171\t291\r\n",
      "FRO16142\t931\r\n",
      "FRO17249\t115\r\n",
      "FRO17734\t226\r\n",
      "FRO18565\t342\r\n",
      "FRO19221\t646\r\n",
      "FRO19671\t207\r\n",
      "FRO21081\t436\r\n",
      "FRO24098\t521\r\n",
      "FRO26482\t186\r\n",
      "FRO31077\t165\r\n",
      "FRO31317\t2330\r\n",
      "FRO31824\t113\r\n",
      "FRO32293\t1702\r\n",
      "FRO35729\t362\r\n",
      "FRO35904\t1436\r\n",
      "FRO36333\t103\r\n",
      "FRO38366\t353\r\n",
      "FRO40251\t3881\r\n",
      "FRO41069\t313\r\n",
      "FRO41939\t329\r\n",
      "FRO42750\t156\r\n",
      "FRO43226\t583\r\n",
      "FRO44046\t165\r\n",
      "FRO47962\t160\r\n",
      "FRO48038\t228\r\n",
      "FRO48055\t130\r\n",
      "FRO48920\t143\r\n",
      "FRO49827\t233\r\n",
      "FRO52457\t153\r\n",
      "FRO53088\t247\r\n",
      "FRO53271\t1420\r\n",
      "FRO61354\t358\r\n",
      "FRO61611\t124\r\n",
      "FRO64631\t261\r\n",
      "FRO66272\t927\r\n",
      "FRO66852\t220\r\n",
      "FRO71085\t237\r\n",
      "FRO71487\t107\r\n",
      "FRO73056\t728\r\n",
      "FRO74121\t101\r\n",
      "FRO74324\t119\r\n",
      "FRO74605\t108\r\n",
      "FRO75586\t762\r\n",
      "FRO77633\t102\r\n",
      "FRO78087\t1531\r\n",
      "FRO78994\t569\r\n",
      "FRO79022\t668\r\n",
      "FRO80039\t2233\r\n",
      "FRO81176\t469\r\n",
      "FRO83374\t271\r\n",
      "FRO85978\t1918\r\n",
      "FRO87415\t106\r",
      "\r\n",
      "FRO89565\t516\r\n",
      "FRO92261\t915\r\n",
      "FRO92469\t849\r\n",
      "FRO94523\t390\r\n",
      "FRO97732\t169\r\n",
      "FRO98006\t110\r\n",
      "FRO98184\t480\r\n",
      "FRO98729\t664\r\n",
      "FRO99372\t418\r\n",
      "FRO99756\t239\r\n",
      "FRO99783\t695\r\n",
      "GRO12298\t385\r\n",
      "GRO13844\t132\r\n",
      "GRO15017\t1275\r\n",
      "GRO17075\t146\r\n",
      "GRO18367\t494\r\n",
      "GRO21487\t2115\r\n",
      "GRO23573\t219\r\n",
      "GRO24246\t881\r\n",
      "GRO29598\t177\r\n",
      "GRO30386\t1840\r\n",
      "GRO30912\t118\r\n",
      "GRO32086\t856\r\n",
      "GRO33815\t281\r\n",
      "GRO34288\t131\r\n",
      "GRO35122\t852\r\n",
      "GRO35827\t116\r\n",
      "GRO36567\t832\r\n",
      "GRO38814\t1352\r\n",
      "GRO38983\t839\r\n",
      "GRO39357\t220\r\n",
      "GRO39661\t121\r\n",
      "GRO44993\t1193\r\n",
      "GRO46627\t119\r\n",
      "GRO46854\t1756\r\n",
      "GRO50832\t608\r\n",
      "GRO52067\t141\r\n",
      "GRO56726\t1784\r\n",
      "GRO56989\t655\r\n",
      "GRO57279\t130\r\n",
      "GRO57755\t337\r\n",
      "GRO59710\t2004\r\n",
      "GRO61133\t1321\r\n",
      "GRO61273\t365\r\n",
      "GRO61641\t306\r\n",
      "GRO64900\t1046\r\n",
      "GRO65025\t120\r\n",
      "GRO65522\t142\r\n",
      "GRO67739\t230\r\n",
      "GRO67806\t203\r\n",
      "GRO68067\t651\r\n",
      "GRO69543\t882\r\n",
      "GRO70959\t234\r\n",
      "GRO71615\t127\r\n",
      "GRO71621\t1920\r\n",
      "GRO73461\t3602\r\n",
      "GRO74951\t151\r\n",
      "GRO75758\t104\r\n",
      "GRO76157\t494\r\n",
      "GRO81045\t208\r\n",
      "GRO81087\t1220\r\n",
      "GRO81647\t393\r\n",
      "GRO82670\t459\r\n",
      "GRO83463\t544\r\n",
      "GRO84328\t149\r\n",
      "GRO85051\t1214\r\n",
      "GRO87006\t211\r\n",
      "GRO88324\t715\r\n",
      "GRO88505\t521\r\n",
      "GRO88511\t855\r\n",
      "GRO89004\t120\r\n",
      "GRO89148\t124\r\n",
      "GRO94173\t392\r\n",
      "GRO94758\t1489\r\n",
      "GRO95519\t400\r\n",
      "GRO96342\t111\r\n",
      "GRO99222\t906\r\n",
      "SNA12663\t523\r\n",
      "SNA12690\t114\r\n",
      "SNA12933\t118\r\n",
      "SNA16036\t136\r\n",
      "SNA17270\t146\r\n",
      "SNA17634\t115\r\n",
      "SNA17775\t129\r\n",
      "SNA18336\t709\r\n",
      "SNA20554\t777\r\n",
      "SNA24799\t396\r\n",
      "SNA29014\t351\r\n",
      "SNA30533\t154\r\n",
      "SNA30755\t400\r\n",
      "SNA30859\t112\r\n",
      "SNA31619\t141\r\n",
      "SNA35625\t147\r\n",
      "SNA37803\t114\r\n",
      "SNA38067\t133\r\n",
      "SNA38068\t811\r\n",
      "SNA40078\t120\r\n",
      "SNA40408\t272\r\n",
      "SNA40784\t850\r\n",
      "SNA42528\t389\r\n",
      "SNA43319\t381\r\n",
      "SNA44190\t355\r\n",
      "SNA45677\t2455\r\n",
      "SNA47306\t695\r\n",
      "SNA49107\t484\r\n",
      "SNA50789\t588\r\n",
      "SNA53220\t483\r\n",
      "SNA54435\t248\r\n",
      "SNA55617\t300\r\n",
      "SNA55762\t1646\r\n",
      "SNA55952\t1094\r\n",
      "SNA56249\t130\r\n",
      "SNA57865\t201\r\n",
      "SNA57913\t106\r\n",
      "SNA58341\t465\r\n",
      "SNA59061\t622\r\n",
      "SNA59228\t126\r\n",
      "SNA59903\t891\r\n",
      "SNA61380\t135\r\n",
      "SNA62128\t1023\r\n",
      "SNA64534\t263\r\n",
      "SNA66583\t167\r\n",
      "SNA66979\t703\r\n",
      "SNA68538\t262\r\n",
      "SNA69641\t599\r\n",
      "SNA71332\t541\r\n",
      "SNA72163\t1090\r\n",
      "SNA74022\t103\r\n",
      "SNA80192\t132\r\n",
      "SNA80324\t3044\r\n",
      "SNA81024\t123\r\n",
      "SNA82528\t594\r\n",
      "SNA83730\t292\r\n",
      "SNA85241\t263\r\n",
      "SNA85662\t349\r\n",
      "SNA88283\t865\r\n",
      "SNA89368\t120\r\n",
      "SNA90094\t1390\r\n",
      "SNA90258\t550\r\n",
      "SNA92435\t177\r\n",
      "SNA92493\t153\r\n",
      "SNA93641\t119\r\n",
      "SNA93730\t238\r\n",
      "SNA93860\t1407\r\n",
      "SNA95666\t804\r\n",
      "SNA96271\t1295\r\n",
      "SNA96466\t506\r\n"
     ]
    }
   ],
   "source": [
    "!hdfs dfs -cat results1/part-0*"
   ]
  },
  {
   "cell_type": "markdown",
   "metadata": {},
   "source": [
    "###*HW3.8*\n",
    "\n",
    "Benchmark your results using the pyFIM implementation of the Apriori algorithm\n",
    "(Apriori - Association Rule Induction / Frequent Item Set Mining implemented by Christian Borgelt).\n",
    "You can download pyFIM from here:\n",
    "\n",
    "http://www.borgelt.net/pyfim.html\n",
    "\n",
    "Comment on the results from both implementations (your Hadoop MapReduce of apriori versus pyFIM)\n",
    "in terms of results and execution times."
   ]
  },
  {
   "cell_type": "code",
   "execution_count": null,
   "metadata": {
    "collapsed": true
   },
   "outputs": [],
   "source": []
  },
  {
   "cell_type": "markdown",
   "metadata": {},
   "source": [
    "###*HW3.8* (Conceptual Exercise)\n",
    "\n",
    "Suppose that you wished to perform the Apriori algorithm once again,\n",
    "though this time now with the goal of listing the top 5 rules with corresponding confidence scores\n",
    "in decreasing order of confidence score for itemsets of size 3 using Hadoop MapReduce.\n",
    "A rule is now of the form:\n",
    "\n",
    "(item1, item2) ⇒ item3\n",
    "\n",
    "Recall that the Apriori algorithm is iterative for increasing itemset size,\n",
    "working off of the frequent itemsets of the previous size to explore\n",
    "ONLY the NECESSARY subset of a large combinatorial space.\n",
    "Describe how you might design a framework to perform this exercise.\n",
    "\n",
    "In particular, focus on the following:\n",
    "  — map-reduce steps required\n",
    "  - enumeration of item sets and filtering for frequent candidates"
   ]
  },
  {
   "cell_type": "code",
   "execution_count": null,
   "metadata": {
    "collapsed": true
   },
   "outputs": [],
   "source": []
  },
  {
   "cell_type": "markdown",
   "metadata": {},
   "source": [
    "###stop yarn, hdfs, and job history"
   ]
  },
  {
   "cell_type": "code",
   "execution_count": 82,
   "metadata": {
    "collapsed": false
   },
   "outputs": [
    {
     "name": "stdout",
     "output_type": "stream",
     "text": [
      "stopping yarn daemons\n",
      "stopping resourcemanager\n",
      "localhost: stopping nodemanager\n",
      "localhost: nodemanager did not stop gracefully after 5 seconds: killing with kill -9\n",
      "no proxyserver to stop\n",
      "16/01/31 23:37:11 WARN util.NativeCodeLoader: Unable to load native-hadoop library for your platform... using builtin-java classes where applicable\n",
      "Stopping namenodes on [localhost]\n",
      "localhost: stopping namenode\n",
      "localhost: stopping datanode\n",
      "Stopping secondary namenodes [0.0.0.0]\n",
      "0.0.0.0: stopping secondarynamenode\n",
      "16/01/31 23:37:29 WARN util.NativeCodeLoader: Unable to load native-hadoop library for your platform... using builtin-java classes where applicable\n",
      "stopping historyserver\n"
     ]
    }
   ],
   "source": [
    "!/usr/local/Cellar/hadoop/2*/sbin/stop-yarn.sh\n",
    "!/usr/local/Cellar/hadoop/2*/sbin/stop-dfs.sh\n",
    "!/usr/local/Cellar/hadoop/2*/sbin/mr-jobhistory-daemon.sh --config /usr/local/Cellar/hadoop/2*/libexec/etc/hadoop/ stop historyserver "
   ]
  }
 ],
 "metadata": {
  "kernelspec": {
   "display_name": "Python 2",
   "language": "python",
   "name": "python2"
  },
  "language_info": {
   "codemirror_mode": {
    "name": "ipython",
    "version": 2
   },
   "file_extension": ".py",
   "mimetype": "text/x-python",
   "name": "python",
   "nbconvert_exporter": "python",
   "pygments_lexer": "ipython2",
   "version": "2.7.9"
  }
 },
 "nbformat": 4,
 "nbformat_minor": 0
}
