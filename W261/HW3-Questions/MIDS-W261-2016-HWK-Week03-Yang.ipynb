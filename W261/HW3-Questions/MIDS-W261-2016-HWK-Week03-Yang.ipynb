{
 "cells": [
  {
   "cell_type": "markdown",
   "metadata": {},
   "source": [
    "#DATASCI W261, Machine Learning at Scale\n",
    "--------\n",
    "####Assignement:  week \\#3\n",
    "####Lei Yang (leiyang@berkeley.edu)\n",
    "####Due: 2016-02-02, 8AM PST"
   ]
  },
  {
   "cell_type": "markdown",
   "metadata": {},
   "source": [
    "###*HW3.0.* Q&A\n",
    "\n",
    "####What is a merge sort? Where is it used in Hadoop?\n",
    "Merge sort is a sorting algorithm which quickly combines two sorted lists into a single list of items. Merge sort benefits from distributable in its least efficient step, which is the sorting of the child lists. The merging of child lists into a single sorted list is done in linear time. Merge sorting is used in the shuffle stage of Hadoop to rearrange keys prior to sending them to the reducer. Key-value pairs from different mappers are sorted at their mappers, and then distributed across the reducers in a sorted form.\n",
    "\n",
    "####How is a combiner function used in the context of Hadoop?\n",
    "Combiners are used for local aggregation during the mapper processes of Hadoop. They are run when the incomplete output from the mapper becomes too large to fit within memory and \"spills over\" onto disk. The combiner is responsible for shrinking the data back down so that the mapper can run faster by keeping data in memory and so that the network operations in the partitioner are kept to a bare minimum. Depending on the size and scope of the problem, Hadoop will run combiners any number of times including zero with no input from the user. For this reason, it is critical that the combiner is able to receive records in the format of the mapper's output and emit data in the same format. The combining operation must also be associative and commutative so that the variable number of runs will not affect the result.\n",
    "\n",
    "####Give an example where it can be used and justify why it should be used in the context of this problem\n",
    "Combiners can be used in long word-count operations. A typical mapper output for a word-count problem will be greater than the size of the document since it emits each individual word and the number associated with it. Transferring this data across the network can drastically reduce the performance of this operation, as well as making the subsequent sorting operation take much longer. Adding a combiner can reduce the size of the mapper output from being tied to the size of the document to being tied to the size of the vocabulary. \n",
    "\n",
    "####What is the Hadoop shuffle?\n",
    "Shuffle happens after all mapper processes complete and before reducer starts, all key-value pairs are sorted by key, and the same key is guaranteed to be delivered to the same reducer.\n",
    "\n",
    "####What is the Apriori algorithm? Describe an example use in your domain of expertise. Define confidence and lift.\n"
   ]
  },
  {
   "cell_type": "markdown",
   "metadata": {},
   "source": [
    "###start yarn, hdfs, and job history"
   ]
  },
  {
   "cell_type": "code",
   "execution_count": 7,
   "metadata": {
    "collapsed": false
   },
   "outputs": [
    {
     "name": "stdout",
     "output_type": "stream",
     "text": [
      "starting yarn daemons\n",
      "resourcemanager running as process 644. Stop it first.\n",
      "localhost: nodemanager running as process 746. Stop it first.\n",
      "Starting namenodes on [localhost]\n",
      "localhost: namenode running as process 894. Stop it first.\n",
      "localhost: datanode running as process 987. Stop it first.\n",
      "Starting secondary namenodes [0.0.0.0]\n",
      "0.0.0.0: secondarynamenode running as process 1105. Stop it first.\n",
      "historyserver running as process 1213. Stop it first.\n"
     ]
    }
   ],
   "source": [
    "!/usr/local/Cellar/hadoop/2*/sbin/start-yarn.sh\n",
    "!/usr/local/Cellar/hadoop/2*/sbin/start-dfs.sh\n",
    "!/usr/local/Cellar/hadoop/2*/sbin/mr-jobhistory-daemon.sh --config /usr/local/Cellar/hadoop/2*/libexec/etc/hadoop/ start historyserver "
   ]
  },
  {
   "cell_type": "markdown",
   "metadata": {},
   "source": [
    "###*HW3.1.* Use Counters to do EDA (exploratory data analysis and to monitor progress)\n",
    "Counters are lightweight objects in Hadoop that allow you to keep track of system progress in both the map and reduce stages of processing. By default, Hadoop defines a number of standard counters in \"groups\"; these show up in the jobtracker webapp, giving you information such as \"Map input records\", \"Map output records\", etc.\n",
    "\n",
    "While processing information/data using MapReduce job, it is a challenge to monitor the progress of parallel threads running across nodes of distributed clusters. Moreover, it is also complicated to distinguish between the data that has been processed and the data which is yet to be processed. The MapReduce Framework offers a provision of user-defined Counters, which can be effectively utilized to monitor the progress of data across nodes of distributed clusters.\n",
    "\n",
    "**Use the Consumer Complaints  Dataset provide [here](https://www.dropbox.com/s/vbalm3yva2rr86m/Consumer_Complaints.csv?dl=0) to complete this question:**\n",
    "\n",
    "- The consumer complaints dataset consists of diverse consumer complaints, which have been reported across the United States regarding various types of loans. The dataset consists of records of the form:\n",
    " - Complaint ID,Product,Sub-product,Issue,Sub-issue,State,ZIP code,Submitted via,Date received,Date sent to company,Company,Company response,Timely response?,Consumer disputed?\n",
    "\n",
    "**Here’s is the first few lines of the  of the Consumer Complaints  Dataset:**\n",
    "\n",
    "- Complaint ID,Product,Sub-product,Issue,Sub-issue,State,ZIP code,Submitted via,Date received,Date sent to company,Company,Company response,Timely response?,Consumer disputed?\n",
    "- 1114245,Debt collection,Medical,Disclosure verification of debt,Not given enough info to verify debt,FL,32219,Web,11/13/2014,11/13/2014,\"Choice Recovery, Inc.\",Closed with explanation,Yes,\n",
    "- 1114488,Debt collection,Medical,Disclosure verification of debt,Right to dispute notice not received,TX,75006,Web,11/13/2014,11/13/2014,\"Expert Global Solutions, Inc.\",In progress,Yes,\n",
    "- 1114255,Bank account or service,Checking account,Deposits and withdrawals,,NY,11102,Web,11/13/2014,11/13/2014,\"FNIS (Fidelity National Information Services, Inc.)\",In progress,Yes,\n",
    "- 1115106,Debt collection,\"Other (phone, health club, etc.)\",Communication tactics,Frequent or repeated calls,GA,31721,Web,11/13/2014,11/13/2014,\"Expert Global Solutions, Inc.\",In progress,Yes,\n",
    "\n",
    "**User-defined Counters**\n",
    "\n",
    "- Now, let’s use Hadoop Counters to identify the number of complaints pertaining to *debt collection*, *mortgage* and *other* categories (all other categories get lumped into this one) in the consumer complaints dataset. Basically produce the distribution of the Product column in this dataset using counters (limited to 3 counters here).\n",
    "- Hadoop offers Job Tracker, an UI tool to determine the status and statistics of all jobs. Using the job tracker UI, developers can view the Counters that have been created. Screenshot your  job tracker UI as your job completes and include it here. Make sure that your user defined counters are visible.\n",
    "\n"
   ]
  },
  {
   "cell_type": "markdown",
   "metadata": {},
   "source": [
    "###<span style=\"color:red\">HW3.1 Answer:</span>\n"
   ]
  },
  {
   "cell_type": "markdown",
   "metadata": {},
   "source": [
    "###Mapper\n",
    "- as the shuffler will do the sorting, mapper just need to emit word with integer as the key"
   ]
  },
  {
   "cell_type": "code",
   "execution_count": 2,
   "metadata": {
    "collapsed": false
   },
   "outputs": [
    {
     "name": "stdout",
     "output_type": "stream",
     "text": [
      "Overwriting mapper.py\n"
     ]
    }
   ],
   "source": [
    "%%writefile mapper.py\n",
    "#!/usr/bin/python\n",
    "import sys\n",
    "for line in sys.stdin:  \n",
    "    # extract the column values\n",
    "    parts = line.strip().split(',')\n",
    "    # product is in second column\n",
    "    prod = parts[1].strip().lower()\n",
    "    # emit product name as key, no need for value as we are only count product name\n",
    "    print \"%s\\t%s\" %(prod, 'na')"
   ]
  },
  {
   "cell_type": "markdown",
   "metadata": {},
   "source": [
    "###Reducer"
   ]
  },
  {
   "cell_type": "code",
   "execution_count": 3,
   "metadata": {
    "collapsed": false
   },
   "outputs": [
    {
     "name": "stdout",
     "output_type": "stream",
     "text": [
      "Overwriting reducer.py\n"
     ]
    }
   ],
   "source": [
    "%%writefile reducer.py\n",
    "#!/usr/bin/python\n",
    "import sys\n",
    "\n",
    "for line in sys.stdin:\n",
    "    # product name\n",
    "    prod = line.split('\\t')[0].strip()\n",
    "    \n",
    "    # compare with what we want to count and adjust the counter\n",
    "    if prod == 'debt collection':\n",
    "        sys.stderr.write(\"reporter:counter:HW3_1,debt,1\\n\")\n",
    "    elif prod == 'mortgage':\n",
    "        sys.stderr.write(\"reporter:counter:HW3_1,mortgage,1\\n\")\n",
    "    else:\n",
    "        sys.stderr.write(\"reporter:counter:HW3_1,others,1\\n\")\n",
    "    "
   ]
  },
  {
   "cell_type": "markdown",
   "metadata": {},
   "source": [
    "###Run the job with Hadoop Streaming\n",
    "- add parameter *-D mapred.reduce.tasks=2* to specify number of reducers"
   ]
  },
  {
   "cell_type": "code",
   "execution_count": 4,
   "metadata": {
    "collapsed": false,
    "scrolled": true
   },
   "outputs": [
    {
     "name": "stdout",
     "output_type": "stream",
     "text": [
      "Deleted results\n",
      "packageJobJar: [/var/folders/tx/5ldq67q511q8wqwqkvptnxd00000gn/T/hadoop-unjar3709839099986008331/] [] /var/folders/tx/5ldq67q511q8wqwqkvptnxd00000gn/T/streamjob3447758072235333814.jar tmpDir=null\n"
     ]
    }
   ],
   "source": [
    "!hdfs dfs -rm -r results\n",
    "!hadoop jar /usr/local/Cellar/hadoop/2.*/libexec/share/hadoop/tools/lib/hadoop-streaming-2.7.1.jar \\\n",
    "-D mapred.reduce.tasks=2 \\\n",
    "-files mapper.py,reducer.py \\\n",
    "-mapper mapper.py \\\n",
    "-reducer reducer.py \\\n",
    "-input /user/lei/Consumer_Complaints.csv \\\n",
    "-output results"
   ]
  },
  {
   "cell_type": "markdown",
   "metadata": {},
   "source": [
    "###Check counter value\n",
    "\n",
    "![Image 1](HW3_1.png)"
   ]
  },
  {
   "cell_type": "markdown",
   "metadata": {},
   "source": [
    "###*HW3.2.*  Analyze the performance of your Mappers, Combiners and Reducers using Counters\n",
    "\n",
    "**For this brief study the Input file will be one record (the next line only):**\n",
    "\n",
    "*foo foo quux labs foo bar quux*\n",
    "\n",
    "- Perform a word count analysis of this single record dataset using a Mapper and Reducer based WordCount (i.e., no combiners are used here) using user defined Counters to count up how many time the mapper and reducer are called. What is the value of your user defined Mapper Counter, and Reducer Counter after completing this word count job. The answer  should be 1 and 4 respectively. Please explain."
   ]
  },
  {
   "cell_type": "markdown",
   "metadata": {},
   "source": [
    "###Mapper"
   ]
  },
  {
   "cell_type": "code",
   "execution_count": 5,
   "metadata": {
    "collapsed": false
   },
   "outputs": [
    {
     "name": "stdout",
     "output_type": "stream",
     "text": [
      "Overwriting mapper.py\n"
     ]
    }
   ],
   "source": [
    "%%writefile mapper.py\n",
    "#!/usr/bin/python\n",
    "import sys, re, string\n",
    "\n",
    "# increase counter for mapper being called\n",
    "sys.stderr.write(\"reporter:counter:HW3_2,Mapper_cnt,1\\n\")\n",
    "\n",
    "# input comes from STDIN (standard input)\n",
    "for line in sys.stdin:\n",
    "    \n",
    "    # split the line into words\n",
    "    words = line.split()\n",
    "    \n",
    "    for word in words:\n",
    "        # write the results to STDOUT (standard output);\n",
    "        # what we output here will be the input for the\n",
    "        # Reduce step, i.e. the input for reducer.py\n",
    "        #\n",
    "        # tab-delimited; the trivial word count is 1\n",
    "        print '%s\\t%s' % (word, 1)"
   ]
  },
  {
   "cell_type": "markdown",
   "metadata": {},
   "source": [
    "###Reducer"
   ]
  },
  {
   "cell_type": "code",
   "execution_count": 6,
   "metadata": {
    "collapsed": false
   },
   "outputs": [
    {
     "name": "stdout",
     "output_type": "stream",
     "text": [
      "Overwriting reducer.py\n"
     ]
    }
   ],
   "source": [
    "%%writefile reducer.py\n",
    "#!/usr/bin/python\n",
    "from operator import itemgetter\n",
    "import sys\n",
    "\n",
    "current_word = None\n",
    "current_count = 0\n",
    "word = None\n",
    "\n",
    "# increase counter for reducer being called\n",
    "sys.stderr.write(\"reporter:counter:HW3_2,Reducer_cnt,1\\n\")\n",
    "\n",
    "# input comes from STDIN\n",
    "for line in sys.stdin:\n",
    "    # remove leading and trailing whitespace\n",
    "    line = line.strip()\n",
    "\n",
    "    # parse the input we got from mapper.py\n",
    "    word, count = line.split('\\t', 1)\n",
    "\n",
    "    # convert count (currently a string) to int\n",
    "    try:\n",
    "        count = int(count)\n",
    "    except ValueError:\n",
    "        # count was not a number, so silently\n",
    "        # ignore/discard this line\n",
    "        continue\n",
    "\n",
    "    # this IF-switch only works because Hadoop sorts map output\n",
    "    # by key (here: word) before it is passed to the reducer\n",
    "    if current_word == word:\n",
    "        current_count += count\n",
    "    else:\n",
    "        if current_word:\n",
    "            # print out count\n",
    "            print '%s\\t%s' %(current_word, current_count)\n",
    "        current_count = count\n",
    "        current_word = word\n",
    "\n",
    "# do not forget to print the last word count if needed!\n",
    "if current_word == word:    \n",
    "    print '%s\\t%s' %(current_word, current_count)    \n"
   ]
  },
  {
   "cell_type": "markdown",
   "metadata": {},
   "source": [
    "###Write the file and put on HDFS"
   ]
  },
  {
   "cell_type": "code",
   "execution_count": 85,
   "metadata": {
    "collapsed": false
   },
   "outputs": [
    {
     "name": "stdout",
     "output_type": "stream",
     "text": [
      "Overwriting wordcount.txt\n"
     ]
    }
   ],
   "source": [
    "%%writefile wordcount.txt\n",
    "foo foo quux labs foo bar quux"
   ]
  },
  {
   "cell_type": "code",
   "execution_count": 86,
   "metadata": {
    "collapsed": false
   },
   "outputs": [
    {
     "name": "stdout",
     "output_type": "stream",
     "text": [
      "Deleted /user/lei/wordcount.txt\r\n"
     ]
    }
   ],
   "source": [
    "!hdfs dfs -rm /user/lei/wordcount.txt\n",
    "!hdfs dfs -put wordcount.txt /user/lei"
   ]
  },
  {
   "cell_type": "markdown",
   "metadata": {},
   "source": [
    "###Run the job with Hadoop streaming"
   ]
  },
  {
   "cell_type": "code",
   "execution_count": 7,
   "metadata": {
    "collapsed": false
   },
   "outputs": [
    {
     "name": "stdout",
     "output_type": "stream",
     "text": [
      "Deleted results\n",
      "packageJobJar: [/var/folders/tx/5ldq67q511q8wqwqkvptnxd00000gn/T/hadoop-unjar7556678054711269180/] [] /var/folders/tx/5ldq67q511q8wqwqkvptnxd00000gn/T/streamjob3086524328830560864.jar tmpDir=null\n"
     ]
    }
   ],
   "source": [
    "!hdfs dfs -rm -r results\n",
    "!hadoop jar /usr/local/Cellar/hadoop/2.*/libexec/share/hadoop/tools/lib/hadoop-streaming-2.7.1.jar \\\n",
    "-D mapred.map.tasks=1 \\\n",
    "-D mapred.reduce.tasks=4 \\\n",
    "-files mapper.py,reducer.py \\\n",
    "-mapper mapper.py \\\n",
    "-reducer reducer.py \\\n",
    "-input '/user/lei/wordcount.txt' \\\n",
    "-output results"
   ]
  },
  {
   "cell_type": "markdown",
   "metadata": {},
   "source": [
    "###<span style=\"color:red\">HW3.2 Results:</span>\n",
    "![Image 2](HW3_2_1.png)"
   ]
  },
  {
   "cell_type": "markdown",
   "metadata": {},
   "source": [
    "###*HW3.2*  Exploratory analysis on consumer complaint data\n",
    "**Please use mulitple mappers and reducers for these jobs (at least 2 mappers and 2 reducers).**\n",
    "\n",
    "- Perform a word count analysis of the Issue column of the Consumer Complaints  Dataset using a Mapper and Reducer based WordCount (i.e., no combiners used anywhere)  using user defined Counters to count up how many time the mapper and reducer are called. What is the value of your user defined Mapper Counter, and Reducer Counter after completing your word count job."
   ]
  },
  {
   "cell_type": "markdown",
   "metadata": {},
   "source": [
    "###Mapper "
   ]
  },
  {
   "cell_type": "code",
   "execution_count": 8,
   "metadata": {
    "collapsed": false
   },
   "outputs": [
    {
     "name": "stdout",
     "output_type": "stream",
     "text": [
      "Overwriting mapper.py\n"
     ]
    }
   ],
   "source": [
    "%%writefile mapper.py\n",
    "#!/usr/bin/python\n",
    "import sys, re, string\n",
    "# define regex for punctuation removal\n",
    "regex = re.compile('[%s]' % re.escape(string.punctuation))\n",
    "\n",
    "# increase counter for mapper being called\n",
    "sys.stderr.write(\"reporter:counter:HW3_2,Mapper_cnt,1\\n\")\n",
    "\n",
    "for line in sys.stdin:      \n",
    "    # extract the column values\n",
    "    parts = line.strip().split(',')\n",
    "    # issue is in 4th column\n",
    "    issue = parts[3].strip().lower()\n",
    "    # emit issue as key, and 1 as count\n",
    "    print \"%s,%s\" %(regex.sub('', issue), '1')"
   ]
  },
  {
   "cell_type": "markdown",
   "metadata": {},
   "source": [
    "###Reducer"
   ]
  },
  {
   "cell_type": "code",
   "execution_count": 9,
   "metadata": {
    "collapsed": false
   },
   "outputs": [
    {
     "name": "stdout",
     "output_type": "stream",
     "text": [
      "Overwriting reducer.py\n"
     ]
    }
   ],
   "source": [
    "%%writefile reducer.py\n",
    "#!/usr/bin/python\n",
    "from operator import itemgetter\n",
    "import sys\n",
    "\n",
    "current_word = None\n",
    "current_count = 0\n",
    "word = None\n",
    "\n",
    "# increase counter for reducer being called\n",
    "sys.stderr.write(\"reporter:counter:HW3_2,Reducer_cnt,1\\n\")\n",
    "\n",
    "# input comes from STDIN\n",
    "for line in sys.stdin:\n",
    "    # remove leading and trailing whitespace\n",
    "    line = line.strip()\n",
    "\n",
    "    # parse the input we got from mapper.py\n",
    "    word, count = line.split(',', 1)\n",
    "\n",
    "    # convert count (currently a string) to int\n",
    "    try:\n",
    "        count = int(count)\n",
    "    except ValueError:\n",
    "        # count was not a number, so silently\n",
    "        # ignore/discard this line\n",
    "        continue\n",
    "\n",
    "    # this IF-switch only works because Hadoop sorts map output\n",
    "    # by key (here: word) before it is passed to the reducer\n",
    "    if current_word == word:\n",
    "        current_count += count\n",
    "    else:\n",
    "        if current_word:\n",
    "            # print out count\n",
    "            print '%s,%s' %(current_word, current_count)\n",
    "        current_count = count\n",
    "        current_word = word\n",
    "\n",
    "# do not forget to print the last word count if needed!\n",
    "if current_word == word:    \n",
    "    print '%s,%s' %(current_word, current_count)    \n"
   ]
  },
  {
   "cell_type": "markdown",
   "metadata": {},
   "source": [
    "###Run the job with Hadoop streaming"
   ]
  },
  {
   "cell_type": "code",
   "execution_count": 10,
   "metadata": {
    "collapsed": false,
    "scrolled": false
   },
   "outputs": [
    {
     "name": "stdout",
     "output_type": "stream",
     "text": [
      "Deleted results\n",
      "packageJobJar: [/var/folders/tx/5ldq67q511q8wqwqkvptnxd00000gn/T/hadoop-unjar5125320870294825413/] [] /var/folders/tx/5ldq67q511q8wqwqkvptnxd00000gn/T/streamjob2595898526152944027.jar tmpDir=null\n"
     ]
    }
   ],
   "source": [
    "!hdfs dfs -rm -r results\n",
    "!hadoop jar /usr/local/Cellar/hadoop/2.*/libexec/share/hadoop/tools/lib/hadoop-streaming-2.7.1.jar \\\n",
    "-D mapred.map.tasks=4 \\\n",
    "-D mapred.reduce.tasks=2 \\\n",
    "-files mapper.py,reducer.py \\\n",
    "-mapper mapper.py \\\n",
    "-reducer reducer.py \\\n",
    "-input '/user/lei/Consumer_Complaints.csv' \\\n",
    "-output results "
   ]
  },
  {
   "cell_type": "markdown",
   "metadata": {},
   "source": [
    "###<span style=\"color:red\">HW3.2 Results:</span>\n",
    "we can see that the counter values are consistent with our specification of times for mapper and reducer to be called.\n",
    "![Image 2](HW3_2_2.png)\n",
    "\n",
    "And the issue counts are below:"
   ]
  },
  {
   "cell_type": "code",
   "execution_count": 11,
   "metadata": {
    "collapsed": false,
    "scrolled": true
   },
   "outputs": [
    {
     "name": "stdout",
     "output_type": "stream",
     "text": [
      "account terms and changes,350\t\r\n",
      "application processing delay,243\t\r\n",
      "application,8625\t\r\n",
      "apr or interest rate,3431\t\r\n",
      "billing disputes,6938\t\r\n",
      "billing statement,1220\t\r\n",
      "cant contact lender,221\t\r\n",
      "closingcancelling account,2795\t\r\n",
      "collection practices,1003\t\r\n",
      "convenience checks,75\t\r\n",
      "credit card protection  debt protection,1343\t\r\n",
      "credit determination,1490\t\r\n",
      "customer service  customer relations,1367\t\r\n",
      "dealing with my lender or servicer,1944\t\r\n",
      "delinquent account,1061\t\r\n",
      "deposits and withdrawals,10555\t\r\n",
      "disclosure verification of debt,5214\t\r\n",
      "health club,12545\t\r\n",
      "improper contact or sharing of info,2832\t\r\n",
      "incorrectmissing disclosures or info,64\t\r\n",
      "late fee,1797\t\r\n",
      "loan modification,70487\t\r\n",
      "loan servicing,36767\t\r\n",
      "makingreceiving payments,3226\t\r\n",
      "managing the loan or lease,4560\t\r\n",
      "money was not available when promised,274\t\r\n",
      "other fee,1075\t\r\n",
      "other transaction issues,387\t\r\n",
      "other,6273\t\r\n",
      "payoff process,1155\t\r\n",
      "privacy,240\t\r\n",
      "repaying your loan,3844\t\r\n",
      "rewards,1002\t\r\n",
      "shopping for a line of credit,137\t\r\n",
      "taking out the loan or lease,1242\t\r\n",
      "takingthreatening an illegal action,2505\t\r\n",
      "unable to get credit reportcredit score,4357\t\r\n",
      "unsolicited issuance of credit card,640\t\r\n",
      "using a debit or atm card,2422\t\r\n",
      "account opening,16205\t\r\n",
      "advertising and marketing,1193\t\r\n",
      "applied for loandid not receive money,139\t\r\n",
      "arbitration,168\t\r\n",
      "balance transfer fee,95\t\r\n",
      "balance transfer,502\t\r\n",
      "bankruptcy,222\t\r\n",
      "cant repay my loan,1647\t\r\n",
      "cant stop charges to bank account,131\t\r\n",
      "cash advance fee,104\t\r\n",
      "cash advance,136\t\r\n",
      "charged bank acct wrong day or amt,71\t\r\n",
      "charged fees or interest i didnt expect,807\t\r\n",
      "collection debt dispute,904\t\r\n",
      "communication tactics,6920\t\r\n",
      "contd attempts collect debt not owed,11848\t\r\n",
      "credit decision  underwriting,2774\t\r\n",
      "credit line increasedecrease,1149\t\r\n",
      "credit monitoring or identity protection,1453\t\r\n",
      "credit reporting companys investigation,4858\t\r\n",
      "credit reporting,1701\t\r\n",
      "false statements or representation,2508\t\r\n",
      "forbearance  workout plans,350\t\r\n",
      "fraud or scam,566\t\r\n",
      "getting a loan,291\t\r\n",
      "identity theft  fraud  embezzlement,3276\t\r\n",
      "improper use of my credit report,1477\t\r\n",
      "incorrect information on credit report,29069\t\r\n",
      "issue,1\t\r\n",
      "managing the line of credit,446\t\r\n",
      "other service issues,151\t\r\n",
      "overlimit fee,127\t\r\n",
      "payment to acct not credited,92\t\r\n",
      "problems caused by my funds being low,5663\t\r\n",
      "problems when you are unable to pay,3821\t\r\n",
      "received a loan i didnt apply for,118\t\r\n",
      "sale of account,139\t\r\n",
      "settlement process and costs,4350\t\r\n",
      "shopping for a loan or lease,535\t\r\n",
      "transaction issue,1098\t\r\n",
      "wrong amount charged or received,98\t\r\n"
     ]
    }
   ],
   "source": [
    "!hdfs dfs -cat /user/leiyang/results/part-0000* "
   ]
  },
  {
   "cell_type": "markdown",
   "metadata": {},
   "source": [
    "###*HW3.2*  Exploratory analysis on consumer complaint data\n",
    "**Please use mulitple mappers and reducers for these jobs (at least 2 mappers and 2 reducers).**\n",
    "\n",
    "- Perform a word count analysis of the Issue column of the Consumer Complaints  Dataset using a Mapper, Reducer, and standalone combiner (i.e., not an in-memory combiner) based WordCount using user defined Counters to count up how many time the mapper, combiner, reducer are called. What is the value of your user defined Mapper Counter, and Reducer Counter after completing your word count job.\n"
   ]
  },
  {
   "cell_type": "markdown",
   "metadata": {},
   "source": [
    "The definitions of mapper and reducer don't need to change in this case, we can just use the reducer as a standalone combiner, specified by Hadoop-streaming parameter (-combiner)"
   ]
  },
  {
   "cell_type": "code",
   "execution_count": 12,
   "metadata": {
    "collapsed": false
   },
   "outputs": [
    {
     "name": "stdout",
     "output_type": "stream",
     "text": [
      "Deleted results\n",
      "packageJobJar: [/var/folders/tx/5ldq67q511q8wqwqkvptnxd00000gn/T/hadoop-unjar2110887529466242773/] [] /var/folders/tx/5ldq67q511q8wqwqkvptnxd00000gn/T/streamjob4709300790161981780.jar tmpDir=null\n"
     ]
    }
   ],
   "source": [
    "!hdfs dfs -rm -r results\n",
    "!hadoop jar /usr/local/Cellar/hadoop/2.*/libexec/share/hadoop/tools/lib/hadoop-streaming-2.7.1.jar \\\n",
    "-D mapred.map.tasks=4 \\\n",
    "-D mapred.reduce.tasks=2 \\\n",
    "-files mapper.py,reducer.py \\\n",
    "-mapper mapper.py \\\n",
    "-reducer reducer.py \\\n",
    "-combiner reducer.py \\\n",
    "-input '/user/lei/Consumer_Complaints.csv' \\\n",
    "-output results "
   ]
  },
  {
   "cell_type": "markdown",
   "metadata": {},
   "source": [
    "###<span style=\"color:red\">HW3.2 Results:</span>\n",
    "We can see that the reducer.py was called 8 times during map step as **combiner**, and 2 times during reduce step as **reducer**. \n",
    "![Image 2](HW3_2_3.png)\n",
    "And the issue counts from two reducers are below:"
   ]
  },
  {
   "cell_type": "code",
   "execution_count": 13,
   "metadata": {
    "collapsed": false,
    "scrolled": true
   },
   "outputs": [
    {
     "name": "stdout",
     "output_type": "stream",
     "text": [
      "account terms and changes,350\t\r\n",
      "application processing delay,243\t\r\n",
      "application,8625\t\r\n",
      "apr or interest rate,3431\t\r\n",
      "billing disputes,6938\t\r\n",
      "billing statement,1220\t\r\n",
      "cant contact lender,221\t\r\n",
      "closingcancelling account,2795\t\r\n",
      "collection practices,1003\t\r\n",
      "convenience checks,75\t\r\n",
      "credit card protection  debt protection,1343\t\r\n",
      "credit determination,1490\t\r\n",
      "customer service  customer relations,1367\t\r\n",
      "dealing with my lender or servicer,1944\t\r\n",
      "delinquent account,1061\t\r\n",
      "deposits and withdrawals,10555\t\r\n",
      "disclosure verification of debt,5214\t\r\n",
      "health club,12545\t\r\n",
      "improper contact or sharing of info,2832\t\r\n",
      "incorrectmissing disclosures or info,64\t\r\n",
      "late fee,1797\t\r\n",
      "loan modification,70487\t\r\n",
      "loan servicing,36767\t\r\n",
      "makingreceiving payments,3226\t\r\n",
      "managing the loan or lease,4560\t\r\n",
      "money was not available when promised,274\t\r\n",
      "other fee,1075\t\r\n",
      "other transaction issues,387\t\r\n",
      "other,6273\t\r\n",
      "payoff process,1155\t\r\n",
      "privacy,240\t\r\n",
      "repaying your loan,3844\t\r\n",
      "rewards,1002\t\r\n",
      "shopping for a line of credit,137\t\r\n",
      "taking out the loan or lease,1242\t\r\n",
      "takingthreatening an illegal action,2505\t\r\n",
      "unable to get credit reportcredit score,4357\t\r\n",
      "unsolicited issuance of credit card,640\t\r\n",
      "using a debit or atm card,2422\t\r\n",
      "account opening,16205\t\r\n",
      "advertising and marketing,1193\t\r\n",
      "applied for loandid not receive money,139\t\r\n",
      "arbitration,168\t\r\n",
      "balance transfer fee,95\t\r\n",
      "balance transfer,502\t\r\n",
      "bankruptcy,222\t\r\n",
      "cant repay my loan,1647\t\r\n",
      "cant stop charges to bank account,131\t\r\n",
      "cash advance fee,104\t\r\n",
      "cash advance,136\t\r\n",
      "charged bank acct wrong day or amt,71\t\r\n",
      "charged fees or interest i didnt expect,807\t\r\n",
      "collection debt dispute,904\t\r\n",
      "communication tactics,6920\t\r\n",
      "contd attempts collect debt not owed,11848\t\r\n",
      "credit decision  underwriting,2774\t\r\n",
      "credit line increasedecrease,1149\t\r\n",
      "credit monitoring or identity protection,1453\t\r\n",
      "credit reporting companys investigation,4858\t\r\n",
      "credit reporting,1701\t\r\n",
      "false statements or representation,2508\t\r\n",
      "forbearance  workout plans,350\t\r\n",
      "fraud or scam,566\t\r\n",
      "getting a loan,291\t\r\n",
      "identity theft  fraud  embezzlement,3276\t\r\n",
      "improper use of my credit report,1477\t\r\n",
      "incorrect information on credit report,29069\t\r\n",
      "issue,1\t\r\n",
      "managing the line of credit,446\t\r\n",
      "other service issues,151\t\r\n",
      "overlimit fee,127\t\r\n",
      "payment to acct not credited,92\t\r\n",
      "problems caused by my funds being low,5663\t\r\n",
      "problems when you are unable to pay,3821\t\r\n",
      "received a loan i didnt apply for,118\t\r\n",
      "sale of account,139\t\r\n",
      "settlement process and costs,4350\t\r\n",
      "shopping for a loan or lease,535\t\r\n",
      "transaction issue,1098\t\r\n",
      "wrong amount charged or received,98\t\r\n"
     ]
    }
   ],
   "source": [
    "!hdfs dfs -cat /user/leiyang/results/part-0000* "
   ]
  },
  {
   "cell_type": "markdown",
   "metadata": {},
   "source": [
    "###*HW3.2*  Exploratory analysis on consumer complaint data\n",
    "\n",
    "- Using a single reducer: What are the top 50 most frequent terms in your word count analysis? \n",
    "- Present the top 50 terms and their frequency and their relative frequency. \n",
    "- If there are ties please sort the tokens in alphanumeric/string order. Present bottom 10 tokens (least frequent items).\n",
    "\n",
    "**Notes:**\n",
    "- for a single reducer (job) to get list of relative frequencies, we need to implement **order inversion** to get total count first.\n",
    "- **mapper** will emit **'dummy_sort_key, issue_name / \\*, count'**, as it is impossible to sort count with secondary sorting if we use the issue name as partitioner option.\n",
    "- we need to sort numerically of the count, and in the mean time guarantee the emits for total calculation **(key, \\*, count)** arrive first, thus we define *-inf* as the dummy sort key for those emits, as other counts are always postive.\n",
    "- **reducer** will get total count first, then joint count for each word, and finally relative frequency. It needs to be a generic process such that if the combiner is not called, the final results would still be correct.\n",
    "- specify secondary sort on issue name\n",
    "\n",
    "### Mapper"
   ]
  },
  {
   "cell_type": "code",
   "execution_count": 14,
   "metadata": {
    "collapsed": false
   },
   "outputs": [
    {
     "name": "stdout",
     "output_type": "stream",
     "text": [
      "Overwriting mapper.py\n"
     ]
    }
   ],
   "source": [
    "%%writefile mapper.py\n",
    "#!/usr/bin/python\n",
    "import sys, re, string\n",
    "# define regex for punctuation removal\n",
    "regex = re.compile('[%s]' % re.escape(string.punctuation))\n",
    "\n",
    "# increase counter for mapper being called\n",
    "sys.stderr.write(\"reporter:counter:HW3_2,Mapper_cnt,1\\n\")\n",
    "\n",
    "for line in sys.stdin:      \n",
    "    # get issue count and name\n",
    "    issue, count = line.strip().split(',')\n",
    "    # emit issue as key, and 1 as count\n",
    "    print \"%s,%s,%s\" %(count, issue, count)\n",
    "    # for order inversion, to calculate total count\n",
    "    print '%s,%s,%s' %('-3', '*', count)\n",
    "    \n",
    "# test for tie-break\n",
    "#print '%s,%s,%s' %(1, 'zzz', 3)\n",
    "#print '%s,%s,%s' %(1, 'oko', 3)\n",
    "#print '%s,%s,%s' %(1, 'ccc', 3)"
   ]
  },
  {
   "cell_type": "markdown",
   "metadata": {},
   "source": [
    "###Reducer"
   ]
  },
  {
   "cell_type": "code",
   "execution_count": 15,
   "metadata": {
    "collapsed": false
   },
   "outputs": [
    {
     "name": "stdout",
     "output_type": "stream",
     "text": [
      "Overwriting reducer.py\n"
     ]
    }
   ],
   "source": [
    "%%writefile reducer.py\n",
    "#!/usr/bin/python\n",
    "from operator import itemgetter\n",
    "import sys\n",
    "\n",
    "\n",
    "# buffer for top and bottom\n",
    "n_bottom, n_top = 10, 50\n",
    "bottom, top = [], []\n",
    "n_total = 0\n",
    "\n",
    "# input comes from STDIN\n",
    "for line in sys.stdin:\n",
    "    dummy, issue, count = line.strip().split(',', 2)\n",
    "    \n",
    "    # skip bad count\n",
    "    try:\n",
    "        count = int(count)\n",
    "    except ValueError:\n",
    "        continue\n",
    "    \n",
    "    # get total count\n",
    "    if '*' == issue:\n",
    "        n_total += count        \n",
    "        continue\n",
    "    \n",
    "    # calculate relative frequency\n",
    "    rf = 1.0*count/n_total\n",
    "    \n",
    "    # buffer top and bottom\n",
    "    if len(bottom) < n_bottom:\n",
    "        bottom.append([issue, count, rf])\n",
    "                \n",
    "    if len(top) < n_top:\n",
    "        top.append([issue, count, rf])\n",
    "    else:\n",
    "        top = top[1:] + [[issue, count, rf]]\n",
    "        \n",
    "# print results:\n",
    "top.reverse()\n",
    "print '\\ntop %d issues:' %n_top\n",
    "for rec in top:\n",
    "    print '%.2f%%\\t%d\\t%s' %(100*rec[2], rec[1], rec[0])\n",
    "\n",
    "print '\\nbottom %d issues:' %n_bottom\n",
    "for rec in bottom:\n",
    "    print '%.2f%%\\t%d\\t%s' %(100*rec[2], rec[1], rec[0])"
   ]
  },
  {
   "cell_type": "markdown",
   "metadata": {},
   "source": [
    "###Run the job with Hadoop streaming"
   ]
  },
  {
   "cell_type": "code",
   "execution_count": 16,
   "metadata": {
    "collapsed": false,
    "scrolled": false
   },
   "outputs": [
    {
     "name": "stdout",
     "output_type": "stream",
     "text": [
      "Deleted results2\n",
      "packageJobJar: [/var/folders/tx/5ldq67q511q8wqwqkvptnxd00000gn/T/hadoop-unjar1115560675774446028/] [] /var/folders/tx/5ldq67q511q8wqwqkvptnxd00000gn/T/streamjob3811758649004660161.jar tmpDir=null\n"
     ]
    }
   ],
   "source": [
    "# assuming count results are available\n",
    "!hdfs dfs -rm -r results2\n",
    "!hadoop jar /usr/local/Cellar/hadoop/2.*/libexec/share/hadoop/tools/lib/hadoop-streaming-2.7.1.jar \\\n",
    "-D mapred.output.key.comparator.class=org.apache.hadoop.mapred.lib.KeyFieldBasedComparator \\\n",
    "-D map.output.key.field.separator=, \\\n",
    "-D map.output.key.value.fields.spec=0-1:0- \\\n",
    "-D mapred.text.key.comparator.options='-k1,1n -k2,2' \\\n",
    "-D mapred.map.tasks=2 \\\n",
    "-D mapred.reduce.tasks=1 \\\n",
    "-files mapper.py,reducer.py \\\n",
    "-mapper mapper.py \\\n",
    "-reducer reducer.py \\\n",
    "-input /user/leiyang/results/part-0000* \\\n",
    "-output results2"
   ]
  },
  {
   "cell_type": "markdown",
   "metadata": {},
   "source": [
    "###The sorted top and bottom issues are:"
   ]
  },
  {
   "cell_type": "code",
   "execution_count": 17,
   "metadata": {
    "collapsed": false,
    "scrolled": true
   },
   "outputs": [
    {
     "name": "stdout",
     "output_type": "stream",
     "text": [
      "\t\r\n",
      "top 50 issues:\t\r\n",
      "22.53%\t70487\tloan modification\r\n",
      "11.75%\t36767\tloan servicing\r\n",
      "9.29%\t29069\tincorrect information on credit report\r\n",
      "5.18%\t16205\taccount opening\r\n",
      "4.01%\t12545\thealth club\r\n",
      "3.79%\t11848\tcontd attempts collect debt not owed\r\n",
      "3.37%\t10555\tdeposits and withdrawals\r\n",
      "2.76%\t8625\tapplication\r\n",
      "2.22%\t6938\tbilling disputes\r\n",
      "2.21%\t6920\tcommunication tactics\r\n",
      "2.00%\t6273\tother\r\n",
      "1.81%\t5663\tproblems caused by my funds being low\r\n",
      "1.67%\t5214\tdisclosure verification of debt\r\n",
      "1.55%\t4858\tcredit reporting companys investigation\r\n",
      "1.46%\t4560\tmanaging the loan or lease\r\n",
      "1.39%\t4357\tunable to get credit reportcredit score\r\n",
      "1.39%\t4350\tsettlement process and costs\r\n",
      "1.23%\t3844\trepaying your loan\r\n",
      "1.22%\t3821\tproblems when you are unable to pay\r\n",
      "1.10%\t3431\tapr or interest rate\r\n",
      "1.05%\t3276\tidentity theft  fraud  embezzlement\r\n",
      "1.03%\t3226\tmakingreceiving payments\r\n",
      "0.91%\t2832\timproper contact or sharing of info\r\n",
      "0.89%\t2795\tclosingcancelling account\r\n",
      "0.89%\t2774\tcredit decision  underwriting\r\n",
      "0.80%\t2508\tfalse statements or representation\r\n",
      "0.80%\t2505\ttakingthreatening an illegal action\r\n",
      "0.77%\t2422\tusing a debit or atm card\r\n",
      "0.62%\t1944\tdealing with my lender or servicer\r\n",
      "0.57%\t1797\tlate fee\r\n",
      "0.54%\t1701\tcredit reporting\r\n",
      "0.53%\t1647\tcant repay my loan\r\n",
      "0.48%\t1490\tcredit determination\r\n",
      "0.47%\t1477\timproper use of my credit report\r\n",
      "0.46%\t1453\tcredit monitoring or identity protection\r\n",
      "0.44%\t1367\tcustomer service  customer relations\r\n",
      "0.43%\t1343\tcredit card protection  debt protection\r\n",
      "0.40%\t1242\ttaking out the loan or lease\r\n",
      "0.39%\t1220\tbilling statement\r\n",
      "0.38%\t1193\tadvertising and marketing\r\n",
      "0.37%\t1155\tpayoff process\r\n",
      "0.37%\t1149\tcredit line increasedecrease\r\n",
      "0.35%\t1098\ttransaction issue\r\n",
      "0.34%\t1075\tother fee\r\n",
      "0.34%\t1061\tdelinquent account\r\n",
      "0.32%\t1003\tcollection practices\r\n",
      "0.32%\t1002\trewards\r\n",
      "0.29%\t904\tcollection debt dispute\r\n",
      "0.26%\t807\tcharged fees or interest i didnt expect\r\n",
      "0.20%\t640\tunsolicited issuance of credit card\r\n",
      "\t\r\n",
      "bottom 10 issues:\t\r\n",
      "0.00%\t1\tissue\r\n",
      "0.02%\t64\tincorrectmissing disclosures or info\r\n",
      "0.02%\t71\tcharged bank acct wrong day or amt\r\n",
      "0.02%\t75\tconvenience checks\r\n",
      "0.03%\t92\tpayment to acct not credited\r\n",
      "0.03%\t95\tbalance transfer fee\r\n",
      "0.03%\t98\twrong amount charged or received\r\n",
      "0.03%\t104\tcash advance fee\r\n",
      "0.04%\t118\treceived a loan i didnt apply for\r\n",
      "0.04%\t127\toverlimit fee\r\n"
     ]
    }
   ],
   "source": [
    "!hdfs dfs -cat /user/leiyang/results2/part-0000* "
   ]
  },
  {
   "cell_type": "markdown",
   "metadata": {},
   "source": [
    "###*3.2.1 OPTIONAL - * Using 2 reducers: \n",
    "- What are the top 50 most frequent terms in your word count analysis? \n",
    "- Present the top 50 terms and their frequency and their relative frequency. \n",
    "- If there are ties please sort the tokens in alphanumeric/string order. Present bottom 10 tokens (least frequent items)."
   ]
  },
  {
   "cell_type": "code",
   "execution_count": null,
   "metadata": {
    "collapsed": true
   },
   "outputs": [],
   "source": []
  },
  {
   "cell_type": "markdown",
   "metadata": {},
   "source": [
    "###*HW3.3.* Shopping Cart Analysis\n",
    "Product Recommendations: \n",
    "- The action or practice of selling additional products or services\n",
    "to existing customers is called cross-selling. \n",
    "- Giving product recommendation is one of the examples of cross-selling that are frequently used by online retailers.\n",
    "- One simple method to give product recommendations is to recommend products that are frequently\n",
    "browsed together by the customers.\n",
    "\n",
    "For this homework use the online browsing behavior dataset [here](https://www.dropbox.com/s/zlfyiwa70poqg74/ProductPurchaseData.txt?dl=0):\n",
    "\n",
    "- Each line in this dataset represents a browsing session of a customer.\n",
    "- On each line, each string of 8 characters represents the id of an item browsed during that session.\n",
    "- The items are separated by spaces.\n",
    "\n",
    "- Here are the first few lines of the ProductPurchaseData\n",
    " - FRO11987 ELE17451 ELE89019 SNA90258 GRO99222\n",
    " - GRO99222 GRO12298 FRO12685 ELE91550 SNA11465 ELE26917 ELE52966 FRO90334 SNA30755 ELE17451 FRO84225 SNA80192\n",
    " - ELE17451 GRO73461 DAI22896 SNA99873 FRO86643\n",
    " - ELE17451 ELE37798 FRO86643 GRO56989 ELE23393 SNA11465\n",
    " - ELE17451 SNA69641 FRO86643 FRO78087 SNA11465 GRO39357 ELE28573 ELE11375 DAI54444\n",
    "\n",
    "**Do some exploratory data analysis of this dataset.**\n",
    "\n",
    "- How many unique items are available from this supplier?\n",
    "- **Using a single reducer:**\n",
    " - Report your findings such as number of unique products; largest basket; \n",
    " - Report the top 50 most frequently purchased items,  their frequency,  and their relative frequency (break ties by sorting the products alphabetical order) etc. using Hadoop Map-Reduce.\n",
    "\n",
    "###Mapper - pair count\n",
    "- where $size$ is the basket size for each new session, otherwise zero to minimize data transfer"
   ]
  },
  {
   "cell_type": "code",
   "execution_count": 21,
   "metadata": {
    "collapsed": false
   },
   "outputs": [
    {
     "name": "stdout",
     "output_type": "stream",
     "text": [
      "Overwriting mapper.py\n"
     ]
    }
   ],
   "source": [
    "%%writefile mapper.py\n",
    "#!/usr/bin/python\n",
    "import sys\n",
    "\n",
    "# increase counter for mapper being called\n",
    "sys.stderr.write(\"reporter:counter:HW3_3,Mapper_cnt,1\\n\")\n",
    "\n",
    "for line in sys.stdin:   \n",
    "    # get all products\n",
    "    products = line.strip().split(' ')\n",
    "    size = len(products)\n",
    "    if size==0:\n",
    "        continue\n",
    "    for i in range(size):                \n",
    "        # emit word key\n",
    "        print '%s,%s,%s' %(products[i], 1, size if i==0 else 0)\n"
   ]
  },
  {
   "cell_type": "markdown",
   "metadata": {},
   "source": [
    "###Reducer - pair count"
   ]
  },
  {
   "cell_type": "code",
   "execution_count": 106,
   "metadata": {
    "collapsed": false
   },
   "outputs": [
    {
     "name": "stdout",
     "output_type": "stream",
     "text": [
      "Overwriting reducer.py\n"
     ]
    }
   ],
   "source": [
    "%%writefile reducer.py\n",
    "#!/usr/bin/python\n",
    "import sys\n",
    "import numpy as np\n",
    "\n",
    "# increase counter for mapper being called\n",
    "sys.stderr.write(\"reporter:counter:HW3_3,Reducer_cnt,1\\n\")\n",
    "\n",
    "max_size = 0\n",
    "current_prod = None\n",
    "current_count = 0\n",
    "\n",
    "for line in sys.stdin:   \n",
    "    # get mapper output\n",
    "    prod, count, size = line.strip().split(',', 2)\n",
    "    \n",
    "    # skip bad counts\n",
    "    try:\n",
    "        count = int(count)\n",
    "        size = int(size)\n",
    "    except ValueError:\n",
    "        continue\n",
    "    \n",
    "    # handle basket size\n",
    "    max_size = max(max_size, size)\n",
    "        \n",
    "    # count unique and get frequency\n",
    "    if current_prod == prod:\n",
    "        current_count += count\n",
    "    else:\n",
    "        # one product just finishes streaming\n",
    "        if current_prod:            \n",
    "            # emit product count\n",
    "            print '%s,%s' %(current_prod, current_count)            \n",
    "                    \n",
    "        # reset for new prod\n",
    "        current_prod = prod\n",
    "        current_count = count\n",
    "\n",
    "#print 'max basket size: %d' %max_size"
   ]
  },
  {
   "cell_type": "markdown",
   "metadata": {},
   "source": [
    "###Mapper - relative frequency & sort\n",
    "- use **order inversion** for reletive frequency, for each word emit $(dummy\\_sort, *, count)$ and $(dummy\\_sort, product, count)$"
   ]
  },
  {
   "cell_type": "code",
   "execution_count": 107,
   "metadata": {
    "collapsed": false
   },
   "outputs": [
    {
     "name": "stdout",
     "output_type": "stream",
     "text": [
      "Overwriting mapper_s.py\n"
     ]
    }
   ],
   "source": [
    "%%writefile mapper_s.py\n",
    "#!/usr/bin/python\n",
    "import sys\n",
    "\n",
    "# increase counter for mapper being called\n",
    "sys.stderr.write(\"reporter:counter:HW3_3s,Mapper_cnt,1\\n\")\n",
    "\n",
    "for line in sys.stdin:      \n",
    "    # get product and count\n",
    "    prod, count = line.strip().split(',')\n",
    "    # emit prod as key, and count\n",
    "    print \"%s,%s,%s\" %(count, prod, count)\n",
    "    # for order inversion, to calculate total count\n",
    "    print '%d,%s,%s' %(1e+10, '*', count)"
   ]
  },
  {
   "cell_type": "markdown",
   "metadata": {},
   "source": [
    "###Reducer - relative frequency & sort\n",
    "- get the top 50 pairs with most count\n",
    "- obtain unique products"
   ]
  },
  {
   "cell_type": "code",
   "execution_count": 108,
   "metadata": {
    "collapsed": false
   },
   "outputs": [
    {
     "name": "stdout",
     "output_type": "stream",
     "text": [
      "Overwriting reducer_s.py\n"
     ]
    }
   ],
   "source": [
    "%%writefile reducer_s.py\n",
    "#!/usr/bin/python\n",
    "import sys\n",
    "\n",
    "# increase counter for mapper being called\n",
    "sys.stderr.write(\"reporter:counter:HW3_3,Reducer_cnt,1\\n\")\n",
    "\n",
    "n_total = 0\n",
    "n_top = 50\n",
    "n_unique = 0\n",
    "\n",
    "for line in sys.stdin:   \n",
    "    \n",
    "    dummy, product, count = line.strip().split(',', 2)\n",
    "    \n",
    "    try:\n",
    "        count = int(count)\n",
    "    except ValueError:\n",
    "        continue\n",
    "       \n",
    "    # handle total\n",
    "    if product == '*':\n",
    "        n_total += count\n",
    "        continue\n",
    "    \n",
    "    # get relative frequency\n",
    "    n_unique += 1\n",
    "    if n_unique <= n_top:\n",
    "        print '%s\\t%s\\t%.4f%%' %(product, count, 100.0*count/n_total)\n",
    "    \n",
    "print 'total browsing items: %d' %n_total\n",
    "print 'unique product: %d' %n_unique"
   ]
  },
  {
   "cell_type": "markdown",
   "metadata": {},
   "source": [
    "###MapReducing"
   ]
  },
  {
   "cell_type": "code",
   "execution_count": 109,
   "metadata": {
    "collapsed": false,
    "scrolled": true
   },
   "outputs": [
    {
     "name": "stdout",
     "output_type": "stream",
     "text": [
      "Deleted results\n",
      "packageJobJar: [/var/folders/tx/5ldq67q511q8wqwqkvptnxd00000gn/T/hadoop-unjar6113682566909254738/] [] /var/folders/tx/5ldq67q511q8wqwqkvptnxd00000gn/T/streamjob2500948326253885932.jar tmpDir=null\n",
      "Deleted results2\n",
      "packageJobJar: [/var/folders/tx/5ldq67q511q8wqwqkvptnxd00000gn/T/hadoop-unjar2055398774848871732/] [] /var/folders/tx/5ldq67q511q8wqwqkvptnxd00000gn/T/streamjob4358016637415128494.jar tmpDir=null\n"
     ]
    }
   ],
   "source": [
    "# job 1 - pair count\n",
    "!hdfs dfs -rm -r results\n",
    "!hadoop jar /usr/local/Cellar/hadoop/2.*/libexec/share/hadoop/tools/lib/hadoop-streaming-2.7.1.jar \\\n",
    "-D mapred.output.key.comparator.class=org.apache.hadoop.mapred.lib.KeyFieldBasedComparator \\\n",
    "-D map.output.key.field.separator=, \\\n",
    "-D map.output.key.value.fields.spec=0:1- \\\n",
    "-D mapred.text.key.comparator.options='-k1,1' \\\n",
    "-D mapred.map.tasks=3 \\\n",
    "-D mapred.reduce.tasks=1 \\\n",
    "-files mapper.py,reducer.py \\\n",
    "-mapper mapper.py \\\n",
    "-reducer reducer.py \\\n",
    "-input /user/leiyang/ProductPurchaseData.txt \\\n",
    "-output results\n",
    "\n",
    "# job 2 - relative frequency & sort with order inversion\n",
    "!hdfs dfs -rm -r results2\n",
    "!hadoop jar /usr/local/Cellar/hadoop/2.*/libexec/share/hadoop/tools/lib/hadoop-streaming-2.7.1.jar \\\n",
    "-D mapred.output.key.comparator.class=org.apache.hadoop.mapred.lib.KeyFieldBasedComparator \\\n",
    "-D map.output.key.field.separator=, \\\n",
    "-D map.output.key.value.fields.spec=0-1:0- \\\n",
    "-D mapred.text.key.comparator.options='-k1,1nr -k2,2' \\\n",
    "-D mapred.map.tasks=3 \\\n",
    "-D mapred.reduce.tasks=1 \\\n",
    "-files mapper_s.py,reducer_s.py \\\n",
    "-mapper mapper_s.py \\\n",
    "-reducer reducer_s.py \\\n",
    "-input /user/leiyang/results/part-0000* \\\n",
    "-output results2"
   ]
  },
  {
   "cell_type": "code",
   "execution_count": 110,
   "metadata": {
    "collapsed": false,
    "scrolled": true
   },
   "outputs": [
    {
     "name": "stdout",
     "output_type": "stream",
     "text": [
      "DAI62779\t6667\t1.7507%\r\n",
      "FRO40251\t3881\t1.0191%\r\n",
      "ELE17451\t3875\t1.0175%\r\n",
      "GRO73461\t3602\t0.9458%\r\n",
      "SNA80324\t3044\t0.7993%\r\n",
      "ELE32164\t2851\t0.7486%\r\n",
      "DAI75645\t2736\t0.7184%\r\n",
      "SNA45677\t2455\t0.6447%\r\n",
      "FRO31317\t2330\t0.6118%\r\n",
      "DAI85309\t2293\t0.6021%\r\n",
      "ELE26917\t2292\t0.6019%\r\n",
      "FRO80039\t2233\t0.5864%\r\n",
      "GRO21487\t2115\t0.5554%\r\n",
      "SNA99873\t2083\t0.5470%\r\n",
      "GRO59710\t2004\t0.5262%\r\n",
      "GRO71621\t1920\t0.5042%\r\n",
      "FRO85978\t1918\t0.5036%\r\n",
      "GRO30386\t1840\t0.4832%\r\n",
      "ELE74009\t1816\t0.4769%\r\n",
      "GRO56726\t1784\t0.4685%\r\n",
      "DAI63921\t1773\t0.4656%\r\n",
      "GRO46854\t1756\t0.4611%\r\n",
      "ELE66600\t1713\t0.4498%\r\n",
      "DAI83733\t1712\t0.4496%\r\n",
      "FRO32293\t1702\t0.4469%\r\n",
      "ELE66810\t1697\t0.4456%\r\n",
      "SNA55762\t1646\t0.4322%\r\n",
      "DAI22177\t1627\t0.4272%\r\n",
      "FRO78087\t1531\t0.4020%\r\n",
      "ELE99737\t1516\t0.3981%\r\n",
      "ELE34057\t1489\t0.3910%\r\n",
      "GRO94758\t1489\t0.3910%\r\n",
      "FRO35904\t1436\t0.3771%\r\n",
      "FRO53271\t1420\t0.3729%\r\n",
      "SNA93860\t1407\t0.3695%\r\n",
      "SNA90094\t1390\t0.3650%\r\n",
      "GRO38814\t1352\t0.3550%\r\n",
      "ELE56788\t1345\t0.3532%\r\n",
      "GRO61133\t1321\t0.3469%\r\n",
      "DAI88807\t1316\t0.3456%\r\n",
      "ELE74482\t1316\t0.3456%\r\n",
      "ELE59935\t1311\t0.3443%\r\n",
      "SNA96271\t1295\t0.3401%\r\n",
      "DAI43223\t1290\t0.3387%\r\n",
      "ELE91337\t1289\t0.3385%\r\n",
      "GRO15017\t1275\t0.3348%\r\n",
      "DAI31081\t1261\t0.3311%\r\n",
      "GRO81087\t1220\t0.3204%\r\n",
      "DAI22896\t1219\t0.3201%\r\n",
      "GRO85051\t1214\t0.3188%\r\n",
      "total browsing items: 380823\t\r\n",
      "unique product: 12591\t\r\n"
     ]
    }
   ],
   "source": [
    "!hdfs dfs -cat results2/part-0*"
   ]
  },
  {
   "cell_type": "markdown",
   "metadata": {},
   "source": [
    "###*3.3.1 OPTIONAL* - Using 2 reducers:  \n",
    "- Report your findings such as number of unique products; largest basket; \n",
    "- Report the top 50 most frequently purchased items,  their frequency,  and their relative frequency (break ties by sorting the products alphabetical order) etc. using Hadoop Map-Reduce.\n",
    "\n",
    "**Notes:**\n",
    "- the challenge is from total calculation since we have multiple reducers, as only one will get the ***** key and be able to calculate the marginal.\n",
    "- possible solution: \n",
    " - write a customer partitioner, emit two dummy pairs, dispatch one for each reducer"
   ]
  },
  {
   "cell_type": "markdown",
   "metadata": {},
   "source": [
    "###*HW3.4.* (Computationally prohibitive but then again Hadoop can handle this) Pairs\n",
    "\n",
    "- Suppose we want to recommend new products to the customer based on the products they\n",
    "have already browsed on the online website. \n",
    "- Write a map-reduce program to find products which are frequently browsed together. \n",
    "- Fix the support count (cooccurence count) to s = 100\n",
    "(i.e. product pairs need to occur together at least 100 times to be considered frequent),\n",
    "and find pairs of items (sometimes referred to itemsets of size 2 in association rule mining) that have a support count of 100 or more.\n",
    "\n",
    "**List the top 50 product pairs with corresponding support count (aka frequency)**, and relative frequency or support (number of records where they coccur, the number of records where they coccur/the number of baskets in the dataset)  in decreasing order of support  for frequent (100>count) itemsets of size 2.\n",
    "\n",
    "Use the Pairs pattern (lecture 3)  to  extract these frequent itemsets of size 2. Free free to use combiners if they bring value. Instrument your code with counters for count the number of times your mapper, combiner and reducers are called.\n",
    "\n",
    "<img src=\"Pairs.png\" alt=\"Drawing\" style=\"width: 600px;\"/>\n",
    "\n",
    "Please output records of the following form for the top 50 pairs (itemsets of size 2):\n",
    "\n",
    "      item1, item2, support count, support\n",
    "\n",
    "\n",
    "\n",
    "Fix the ordering of the pairs lexicographically (left to right),\n",
    "and break ties in support (between pairs, if any exist)\n",
    "by taking the first ones in lexicographically increasing order.\n",
    "\n",
    "Report  the compute time for the Pairs job. Describe the computational setup used (E.g., single computer; dual core; linux, number of mappers, number of reducers)\n",
    " \n",
    "|Spec | Value|\n",
    "|---|:---:|\n",
    "| Computer | single |\n",
    "| OS  | OS X El Capitan |\n",
    "| Processor | 2.2 GHz Intel Core i7  |\n",
    "| Memory | 16 GB 1600 MHz DDR3|\n",
    "Instrument your mapper, combiner, and reducer to count how many times each is called using Counters and report these counts.\n",
    "\n",
    "\n",
    "###Mapper\n",
    "- for each session (row), use pair pattern with **order inversion**, emit $((w_i\\_w_j),1)$ for all pairs, and one $(*,1)$ for the session (for total session count).\n",
    "- the fourth field of every emit is used to indicate basket size for every session (row), size is postive for *only* one emit, and zero for rest of the emit, so we minimize data transfer"
   ]
  },
  {
   "cell_type": "code",
   "execution_count": 59,
   "metadata": {
    "collapsed": false
   },
   "outputs": [
    {
     "name": "stdout",
     "output_type": "stream",
     "text": [
      "Overwriting mapper.py\n"
     ]
    }
   ],
   "source": [
    "%%writefile mapper.py\n",
    "#!/usr/bin/python\n",
    "import sys\n",
    "\n",
    "# increase counter for mapper being called\n",
    "sys.stderr.write(\"reporter:counter:HW3_4,Mapper_cnt,1\\n\")\n",
    "\n",
    "for line in sys.stdin:   \n",
    "    # get all products from the session\n",
    "    products = line.strip().split(' ')\n",
    "    size = len(products)\n",
    "    if size==0:\n",
    "        continue\n",
    "    \n",
    "    # sort products the pair is lexicographically sound\n",
    "    products.sort()\n",
    "    \n",
    "    # get pairs of products\n",
    "    pairs = [[products[i], products[j]] for i in range(size) for j in range(i+1, size)]\n",
    "    \n",
    "    # emit dummy record\n",
    "    print '%s,%s' %('*', 1)\n",
    "    \n",
    "    # emit product pairs\n",
    "    for pair in pairs:\n",
    "        print '%s_%s,%s' %(pair[0], pair[1], 1)"
   ]
  },
  {
   "cell_type": "markdown",
   "metadata": {},
   "source": [
    "###Combiner\n",
    "- local aggregation for count"
   ]
  },
  {
   "cell_type": "code",
   "execution_count": 60,
   "metadata": {
    "collapsed": false
   },
   "outputs": [
    {
     "name": "stdout",
     "output_type": "stream",
     "text": [
      "Overwriting combiner.py\n"
     ]
    }
   ],
   "source": [
    "%%writefile combiner.py\n",
    "#!/usr/bin/python\n",
    "import sys\n",
    "\n",
    "# increase counter for reducer being called\n",
    "sys.stderr.write(\"reporter:counter:HW3_4,Combiner_cnt,1\\n\")\n",
    "\n",
    "current_pair = None\n",
    "current_count = 0\n",
    "\n",
    "for line in sys.stdin:       \n",
    "    # get all products from the session\n",
    "    pair, count = line.strip().split(',', 1)\n",
    "    \n",
    "    # skip bad count\n",
    "    try:\n",
    "        count = int(count)\n",
    "    except ValueError:\n",
    "        continue\n",
    "        \n",
    "    # accumulate counts for whatever keys it receives\n",
    "    if current_pair == pair:\n",
    "        current_count += count\n",
    "    else:\n",
    "        # previous pair finishes streaming, emit results\n",
    "        if current_pair:            \n",
    "            print '%s,%s' %(current_pair, current_count)\n",
    "        # reset new pair\n",
    "        current_pair = pair\n",
    "        current_count = count"
   ]
  },
  {
   "cell_type": "markdown",
   "metadata": {},
   "source": [
    "###Reducer\n",
    "- count number of basket based on $(*, 1)$ emits\n",
    "- get suport and relative frequency for each pair in the stream"
   ]
  },
  {
   "cell_type": "code",
   "execution_count": 61,
   "metadata": {
    "collapsed": false
   },
   "outputs": [
    {
     "name": "stdout",
     "output_type": "stream",
     "text": [
      "Overwriting reducer.py\n"
     ]
    }
   ],
   "source": [
    "%%writefile reducer.py\n",
    "#!/usr/bin/python\n",
    "import sys\n",
    "\n",
    "# increase counter for reducer being called\n",
    "sys.stderr.write(\"reporter:counter:HW3_4,Reducer_cnt,1\\n\")\n",
    "\n",
    "n_basket = 0\n",
    "min_support = 100\n",
    "current_pair = None\n",
    "current_count = 0\n",
    "\n",
    "for line in sys.stdin:       \n",
    "    # get all products from the session\n",
    "    pair, count = line.strip().split(',', 1)\n",
    "    \n",
    "    # skip bad count\n",
    "    try:\n",
    "        count = int(count)\n",
    "    except ValueError:\n",
    "        continue\n",
    "        \n",
    "    # get total sessions/baskets\n",
    "    if pair == '*':\n",
    "        n_basket += count\n",
    "        continue\n",
    "        \n",
    "    # get pair count\n",
    "    if current_pair == pair:\n",
    "        current_count += count\n",
    "    else:\n",
    "        # previous pair finishes streaming\n",
    "        if current_pair and current_count > min_support:\n",
    "            # get relative freq\n",
    "            rf = 100.0*current_count/n_basket\n",
    "            # emit\n",
    "            print '%s,%s,%.4f%%' %(current_pair, current_count, rf)\n",
    "        # reset new pair\n",
    "        current_pair = pair\n",
    "        current_count = count\n",
    "\n",
    "#print '\\ntotal basket: %d' %n_basket\n"
   ]
  },
  {
   "cell_type": "markdown",
   "metadata": {},
   "source": [
    "###Mapper for sort (or use identity mapper)"
   ]
  },
  {
   "cell_type": "code",
   "execution_count": 62,
   "metadata": {
    "collapsed": false
   },
   "outputs": [
    {
     "name": "stdout",
     "output_type": "stream",
     "text": [
      "Overwriting mapper_s.py\n"
     ]
    }
   ],
   "source": [
    "%%writefile mapper_s.py\n",
    "#!/usr/bin/python\n",
    "import sys\n",
    "\n",
    "# increase counter for mapper being called\n",
    "sys.stderr.write(\"reporter:counter:HW3_4,Mapper_s_cnt,1\\n\")\n",
    "\n",
    "for line in sys.stdin:   \n",
    "    # just emit\n",
    "    print line.strip()"
   ]
  },
  {
   "cell_type": "markdown",
   "metadata": {},
   "source": [
    "###Reducer for sort"
   ]
  },
  {
   "cell_type": "code",
   "execution_count": 63,
   "metadata": {
    "collapsed": false
   },
   "outputs": [
    {
     "name": "stdout",
     "output_type": "stream",
     "text": [
      "Overwriting reducer_s.py\n"
     ]
    }
   ],
   "source": [
    "%%writefile reducer_s.py\n",
    "#!/usr/bin/python\n",
    "import sys\n",
    "\n",
    "# increase counter for mapper being called\n",
    "sys.stderr.write(\"reporter:counter:HW3_4,Reducer_s_cnt,1\\n\")\n",
    "\n",
    "n_out = 0\n",
    "n_top = 50\n",
    "\n",
    "print 'top %d pairs: ' %n_top\n",
    "\n",
    "for line in sys.stdin:   \n",
    "    # parse mapper output  \n",
    "    pair, count, rf = line.strip().split(',', 2)\n",
    "    n_out += 1\n",
    "    if n_out <= n_top:\n",
    "        w1, w2 = pair.split('_')\n",
    "        print '%s\\t%s\\t%s\\t%s' %(w1, w2, count, rf)"
   ]
  },
  {
   "cell_type": "markdown",
   "metadata": {},
   "source": [
    "###MapReducing without combiner"
   ]
  },
  {
   "cell_type": "code",
   "execution_count": 64,
   "metadata": {
    "collapsed": false,
    "scrolled": true
   },
   "outputs": [
    {
     "name": "stdout",
     "output_type": "stream",
     "text": [
      "Deleted results\n",
      "packageJobJar: [/var/folders/tx/5ldq67q511q8wqwqkvptnxd00000gn/T/hadoop-unjar6313500269707918499/] [] /var/folders/tx/5ldq67q511q8wqwqkvptnxd00000gn/T/streamjob6247307708596164046.jar tmpDir=null\n",
      "Deleted results2\n",
      "packageJobJar: [/var/folders/tx/5ldq67q511q8wqwqkvptnxd00000gn/T/hadoop-unjar2314263346417839441/] [] /var/folders/tx/5ldq67q511q8wqwqkvptnxd00000gn/T/streamjob201592152313437354.jar tmpDir=null\n"
     ]
    }
   ],
   "source": [
    "# job 1 - count\n",
    "!hdfs dfs -rm -r results\n",
    "!hadoop jar /usr/local/Cellar/hadoop/2.*/libexec/share/hadoop/tools/lib/hadoop-streaming-2.7.1.jar \\\n",
    "-D mapred.output.key.comparator.class=org.apache.hadoop.mapred.lib.KeyFieldBasedComparator \\\n",
    "-D map.output.key.field.separator=, \\\n",
    "-D map.output.key.value.fields.spec=0:1- \\\n",
    "-D mapred.text.key.comparator.options='-k1,1' \\\n",
    "-D mapred.map.tasks=3 \\\n",
    "-D mapred.reduce.tasks=1 \\\n",
    "-files mapper.py,reducer.py \\\n",
    "-mapper mapper.py \\\n",
    "-reducer reducer.py \\\n",
    "-input /user/leiyang/ProductPurchaseData.txt \\\n",
    "-output results\n",
    "\n",
    "# job 2 - sort relative frequency\n",
    "!hdfs dfs -rm -r results2\n",
    "!hadoop jar /usr/local/Cellar/hadoop/2.*/libexec/share/hadoop/tools/lib/hadoop-streaming-2.7.1.jar \\\n",
    "-D mapred.output.key.comparator.class=org.apache.hadoop.mapred.lib.KeyFieldBasedComparator \\\n",
    "-D map.output.key.field.separator=',' \\\n",
    "-D map.output.key.value.fields.spec=0-1:2- \\\n",
    "-D mapred.text.key.comparator.options='-k2,2nr -k1,1' \\\n",
    "-D mapred.map.tasks=2 \\\n",
    "-D mapred.reduce.tasks=1 \\\n",
    "-files mapper_s.py,reducer_s.py \\\n",
    "-mapper mapper_s.py \\\n",
    "-reducer reducer_s.py \\\n",
    "-input /user/leiyang/results/part-0000* \\\n",
    "-output results2"
   ]
  },
  {
   "cell_type": "markdown",
   "metadata": {},
   "source": [
    "###HW3.4 results without combiner\n",
    "- 3 mappers, 1 reducer\n",
    "\n",
    "<img src=\"HW3_4.counter.png\" alt=\"Drawing\" style=\"width: 880px;\"/>\n",
    "<img src=\"HW3_4.time.png\" alt=\"Drawing\" style=\"width: 400px;\"/>"
   ]
  },
  {
   "cell_type": "code",
   "execution_count": 65,
   "metadata": {
    "collapsed": false,
    "scrolled": true
   },
   "outputs": [
    {
     "name": "stdout",
     "output_type": "stream",
     "text": [
      "top 50 pairs: \t\r\n",
      "DAI62779\tELE17451\t1592\t5.1188%\r\n",
      "FRO40251\tSNA80324\t1412\t4.5400%\r\n",
      "DAI75645\tFRO40251\t1254\t4.0320%\r\n",
      "FRO40251\tGRO85051\t1213\t3.9002%\r\n",
      "DAI62779\tGRO73461\t1139\t3.6623%\r\n",
      "DAI75645\tSNA80324\t1130\t3.6333%\r\n",
      "DAI62779\tFRO40251\t1070\t3.4404%\r\n",
      "DAI62779\tSNA80324\t923\t2.9678%\r\n",
      "DAI62779\tDAI85309\t918\t2.9517%\r\n",
      "ELE32164\tGRO59710\t911\t2.9292%\r\n",
      "DAI62779\tDAI75645\t882\t2.8359%\r\n",
      "FRO40251\tGRO73461\t882\t2.8359%\r\n",
      "DAI62779\tELE92920\t877\t2.8198%\r\n",
      "FRO40251\tFRO92469\t835\t2.6848%\r\n",
      "DAI62779\tELE32164\t832\t2.6752%\r\n",
      "DAI75645\tGRO73461\t712\t2.2893%\r\n",
      "DAI43223\tELE32164\t711\t2.2861%\r\n",
      "DAI62779\tGRO30386\t709\t2.2797%\r\n",
      "ELE17451\tFRO40251\t697\t2.2411%\r\n",
      "DAI85309\tELE99737\t659\t2.1189%\r\n",
      "DAI62779\tELE26917\t650\t2.0900%\r\n",
      "GRO21487\tGRO73461\t631\t2.0289%\r\n",
      "DAI62779\tSNA45677\t604\t1.9421%\r\n",
      "ELE17451\tSNA80324\t597\t1.9196%\r\n",
      "DAI62779\tGRO71621\t595\t1.9131%\r\n",
      "DAI62779\tSNA55762\t593\t1.9067%\r\n",
      "DAI62779\tDAI83733\t586\t1.8842%\r\n",
      "ELE17451\tGRO73461\t580\t1.8649%\r\n",
      "GRO73461\tSNA80324\t562\t1.8070%\r\n",
      "DAI62779\tGRO59710\t561\t1.8038%\r\n",
      "DAI62779\tFRO80039\t550\t1.7684%\r\n",
      "DAI75645\tELE17451\t547\t1.7588%\r\n",
      "DAI62779\tSNA93860\t537\t1.7266%\r\n",
      "DAI55148\tDAI62779\t526\t1.6913%\r\n",
      "DAI43223\tGRO59710\t512\t1.6462%\r\n",
      "ELE17451\tELE32164\t511\t1.6430%\r\n",
      "DAI62779\tSNA18336\t506\t1.6270%\r\n",
      "ELE32164\tGRO73461\t486\t1.5627%\r\n",
      "DAI62779\tFRO78087\t482\t1.5498%\r\n",
      "DAI85309\tELE17451\t482\t1.5498%\r\n",
      "DAI62779\tGRO94758\t479\t1.5401%\r\n",
      "DAI62779\tGRO21487\t471\t1.5144%\r\n",
      "GRO85051\tSNA80324\t471\t1.5144%\r\n",
      "ELE17451\tGRO30386\t468\t1.5048%\r\n",
      "FRO85978\tSNA95666\t463\t1.4887%\r\n",
      "DAI62779\tFRO19221\t462\t1.4855%\r\n",
      "DAI62779\tGRO46854\t461\t1.4823%\r\n",
      "DAI43223\tDAI62779\t459\t1.4758%\r\n",
      "ELE92920\tSNA18336\t455\t1.4630%\r\n",
      "DAI88079\tFRO40251\t446\t1.4340%\r\n"
     ]
    }
   ],
   "source": [
    "!hdfs dfs -cat results2/part-0*"
   ]
  },
  {
   "cell_type": "markdown",
   "metadata": {},
   "source": [
    "###MapReducing with combiner"
   ]
  },
  {
   "cell_type": "code",
   "execution_count": 66,
   "metadata": {
    "collapsed": false,
    "scrolled": true
   },
   "outputs": [
    {
     "name": "stdout",
     "output_type": "stream",
     "text": [
      "Deleted results\n",
      "packageJobJar: [/var/folders/tx/5ldq67q511q8wqwqkvptnxd00000gn/T/hadoop-unjar3295224449230340302/] [] /var/folders/tx/5ldq67q511q8wqwqkvptnxd00000gn/T/streamjob7434701589508937802.jar tmpDir=null\n",
      "Deleted results2\n",
      "packageJobJar: [/var/folders/tx/5ldq67q511q8wqwqkvptnxd00000gn/T/hadoop-unjar943447964334990827/] [] /var/folders/tx/5ldq67q511q8wqwqkvptnxd00000gn/T/streamjob5402224175670776010.jar tmpDir=null\n"
     ]
    }
   ],
   "source": [
    "# job 1 - add combiner below\n",
    "!hdfs dfs -rm -r results\n",
    "!hadoop jar /usr/local/Cellar/hadoop/2.*/libexec/share/hadoop/tools/lib/hadoop-streaming-2.7.1.jar \\\n",
    "-D mapred.output.key.comparator.class=org.apache.hadoop.mapred.lib.KeyFieldBasedComparator \\\n",
    "-D map.output.key.field.separator=, \\\n",
    "-D map.output.key.value.fields.spec=0:1- \\\n",
    "-D mapred.text.key.comparator.options='-k1,1' \\\n",
    "-D mapred.map.tasks=3 \\\n",
    "-D mapred.reduce.tasks=1 \\\n",
    "-files mapper.py,reducer.py,combiner.py \\\n",
    "-mapper mapper.py \\\n",
    "-reducer reducer.py \\\n",
    "-combiner combiner.py \\\n",
    "-input /user/leiyang/ProductPurchaseData.txt \\\n",
    "-output results\n",
    "\n",
    "# job 2 - sort relative frequency\n",
    "!hdfs dfs -rm -r results2\n",
    "!hadoop jar /usr/local/Cellar/hadoop/2.*/libexec/share/hadoop/tools/lib/hadoop-streaming-2.7.1.jar \\\n",
    "-D mapred.output.key.comparator.class=org.apache.hadoop.mapred.lib.KeyFieldBasedComparator \\\n",
    "-D map.output.key.field.separator=',' \\\n",
    "-D map.output.key.value.fields.spec=0-1:2- \\\n",
    "-D mapred.text.key.comparator.options='-k2,2nr -k1,1' \\\n",
    "-D mapred.map.tasks=2 \\\n",
    "-D mapred.reduce.tasks=1 \\\n",
    "-files mapper_s.py,reducer_s.py \\\n",
    "-mapper mapper_s.py \\\n",
    "-reducer reducer_s.py \\\n",
    "-input /user/leiyang/results/part-0000* \\\n",
    "-output results2"
   ]
  },
  {
   "cell_type": "markdown",
   "metadata": {},
   "source": [
    "###HW3.4 Results with combiner\n",
    "- 3 mappers, 1 reducer\n",
    "- the combiner was called 1 time by each map process, total 3 times\n",
    "\n",
    "<img src=\"HW3_4.combiner.counter.png\" alt=\"Drawing\" style=\"width: 880px;\"/>\n",
    "<img src=\"HW3_4.combiner.time.png\" alt=\"Drawing\" style=\"width: 400px;\"/>"
   ]
  },
  {
   "cell_type": "code",
   "execution_count": 68,
   "metadata": {
    "collapsed": false,
    "scrolled": true
   },
   "outputs": [
    {
     "name": "stdout",
     "output_type": "stream",
     "text": [
      "top 50 pairs: \t\r\n",
      "DAI62779\tELE17451\t1592\t5.1188%\r\n",
      "FRO40251\tSNA80324\t1412\t4.5400%\r\n",
      "DAI75645\tFRO40251\t1254\t4.0320%\r\n",
      "FRO40251\tGRO85051\t1213\t3.9002%\r\n",
      "DAI62779\tGRO73461\t1139\t3.6623%\r\n",
      "DAI75645\tSNA80324\t1130\t3.6333%\r\n",
      "DAI62779\tFRO40251\t1070\t3.4404%\r\n",
      "DAI62779\tSNA80324\t923\t2.9678%\r\n",
      "DAI62779\tDAI85309\t918\t2.9517%\r\n",
      "ELE32164\tGRO59710\t911\t2.9292%\r\n",
      "DAI62779\tDAI75645\t882\t2.8359%\r\n",
      "FRO40251\tGRO73461\t882\t2.8359%\r\n",
      "DAI62779\tELE92920\t877\t2.8198%\r\n",
      "FRO40251\tFRO92469\t835\t2.6848%\r\n",
      "DAI62779\tELE32164\t832\t2.6752%\r\n",
      "DAI75645\tGRO73461\t712\t2.2893%\r\n",
      "DAI43223\tELE32164\t711\t2.2861%\r\n",
      "DAI62779\tGRO30386\t709\t2.2797%\r\n",
      "ELE17451\tFRO40251\t697\t2.2411%\r\n",
      "DAI85309\tELE99737\t659\t2.1189%\r\n",
      "DAI62779\tELE26917\t650\t2.0900%\r\n",
      "GRO21487\tGRO73461\t631\t2.0289%\r\n",
      "DAI62779\tSNA45677\t604\t1.9421%\r\n",
      "ELE17451\tSNA80324\t597\t1.9196%\r\n",
      "DAI62779\tGRO71621\t595\t1.9131%\r\n",
      "DAI62779\tSNA55762\t593\t1.9067%\r\n",
      "DAI62779\tDAI83733\t586\t1.8842%\r\n",
      "ELE17451\tGRO73461\t580\t1.8649%\r\n",
      "GRO73461\tSNA80324\t562\t1.8070%\r\n",
      "DAI62779\tGRO59710\t561\t1.8038%\r\n",
      "DAI62779\tFRO80039\t550\t1.7684%\r\n",
      "DAI75645\tELE17451\t547\t1.7588%\r\n",
      "DAI62779\tSNA93860\t537\t1.7266%\r\n",
      "DAI55148\tDAI62779\t526\t1.6913%\r\n",
      "DAI43223\tGRO59710\t512\t1.6462%\r\n",
      "ELE17451\tELE32164\t511\t1.6430%\r\n",
      "DAI62779\tSNA18336\t506\t1.6270%\r\n",
      "ELE32164\tGRO73461\t486\t1.5627%\r\n",
      "DAI62779\tFRO78087\t482\t1.5498%\r\n",
      "DAI85309\tELE17451\t482\t1.5498%\r\n",
      "DAI62779\tGRO94758\t479\t1.5401%\r\n",
      "DAI62779\tGRO21487\t471\t1.5144%\r\n",
      "GRO85051\tSNA80324\t471\t1.5144%\r\n",
      "ELE17451\tGRO30386\t468\t1.5048%\r\n",
      "FRO85978\tSNA95666\t463\t1.4887%\r\n",
      "DAI62779\tFRO19221\t462\t1.4855%\r\n",
      "DAI62779\tGRO46854\t461\t1.4823%\r\n",
      "DAI43223\tDAI62779\t459\t1.4758%\r\n",
      "ELE92920\tSNA18336\t455\t1.4630%\r\n",
      "DAI88079\tFRO40251\t446\t1.4340%\r\n"
     ]
    }
   ],
   "source": [
    "!hdfs dfs -cat results2/part-0*"
   ]
  },
  {
   "cell_type": "markdown",
   "metadata": {},
   "source": [
    "###*HW3.5*: Stripes\n",
    "- Repeat 3.4 using the stripes design pattern for finding cooccuring pairs.\n",
    "- Report  the compute times for stripes job versus the Pairs job. \n",
    "- Describe the computational setup used (E.g., single computer; dual core; linux, number of mappers, number of reducers)\n",
    "\n",
    "- Instrument your mapper, combiner, and reducer to count how many times each is called using Counters and report these counts. \n",
    "- Discuss the differences in these counts between the Pairs and Stripes jobs\n",
    "\n",
    "<img src=\"Stripes.png\" alt=\"Drawing\" style=\"width: 600px;\"/>\n",
    "\n",
    "###Mapper\n",
    "- build associative array for each session, and do local in-memory aggregation\n",
    "- for the associative array, we implement the rule that *any key will only have words that alphabetically behind it in the associative array*, to have unique pairs"
   ]
  },
  {
   "cell_type": "code",
   "execution_count": 71,
   "metadata": {
    "collapsed": false
   },
   "outputs": [
    {
     "name": "stdout",
     "output_type": "stream",
     "text": [
      "Overwriting mapper.py\n"
     ]
    }
   ],
   "source": [
    "%%writefile mapper.py\n",
    "#!/usr/bin/python\n",
    "import sys\n",
    "\n",
    "# increase counter for mapper being called\n",
    "sys.stderr.write(\"reporter:counter:HW3_5,Mapper_cnt,1\\n\")\n",
    "\n",
    "# composite associative array\n",
    "H = {}\n",
    "\n",
    "for line in sys.stdin:   \n",
    "    # get all products from the session\n",
    "    products = line.strip().split(' ')\n",
    "    size = len(products)\n",
    "    if size==0:\n",
    "        continue\n",
    "    \n",
    "    # sort products so the pair is lexicographically sound\n",
    "    products.sort()\n",
    "    \n",
    "    # get pairs of products\n",
    "    pairs = [[products[i], products[j]] for i in range(size) for j in range(i+1, size)]\n",
    "    \n",
    "    # emit dummy record\n",
    "    print '%s\\t%s' %('*', 1)\n",
    "    \n",
    "    # build associative arrays\n",
    "    for w1, w2 in pairs:\n",
    "        # each pair is lexicographically in order        \n",
    "        if w1 not in H:\n",
    "            # if w1 is new, add an associative array for it\n",
    "            H[w1] = {}\n",
    "            H[w1][w2] = 1            \n",
    "        elif w2 not in H[w1]:\n",
    "            # w1 is not new, but it doesn't have key for w2\n",
    "            H[w1][w2] = 1\n",
    "        else:\n",
    "            # both are there, increase it\n",
    "            H[w1][w2] += 1\n",
    "        \n",
    "# emit associative arrays\n",
    "for h in H:\n",
    "    print '%s\\t%s' %(h, str(H[h]))"
   ]
  },
  {
   "cell_type": "markdown",
   "metadata": {},
   "source": [
    "###Reducer\n",
    "- element-wise sum"
   ]
  },
  {
   "cell_type": "code",
   "execution_count": 74,
   "metadata": {
    "collapsed": false
   },
   "outputs": [
    {
     "name": "stdout",
     "output_type": "stream",
     "text": [
      "Overwriting reducer.py\n"
     ]
    }
   ],
   "source": [
    "%%writefile reducer.py\n",
    "#!/usr/bin/python\n",
    "\n",
    "# function to combine associative array\n",
    "def elementSum(H1, H2):    \n",
    "    # make sure H1 is the long one\n",
    "    if len(H1)<len(H2):\n",
    "        H0 = H2\n",
    "        H2 = H1\n",
    "        H1 = H0\n",
    "    # merge shorter one H2 into longer one H1\n",
    "    for h in H2:\n",
    "        if h not in H1:\n",
    "            H1[h] = H2[h]\n",
    "        else:\n",
    "            H1[h] += H2[h]        \n",
    "    # return\n",
    "    return H1\n",
    "\n",
    "import sys\n",
    "import numpy as np\n",
    "\n",
    "# increase counter for mapper being called\n",
    "sys.stderr.write(\"reporter:counter:HW3_5,Reducer_cnt,1\\n\")\n",
    "\n",
    "min_support = 100\n",
    "current_word = None\n",
    "current_aArray = None\n",
    "n_total = 0\n",
    "\n",
    "for line in sys.stdin:\n",
    "    # parse out keyword and the associative array\n",
    "    word, aArray = line.strip().split('\\t', 1)\n",
    "    \n",
    "    # get total basket\n",
    "    if word == '*':\n",
    "        n_total += int(aArray)\n",
    "        continue\n",
    "    \n",
    "    # get array into variable\n",
    "    cmdStr = 'aArray = ' + aArray\n",
    "    exec cmdStr\n",
    "        \n",
    "    # merge the associative array\n",
    "    if current_word == word:\n",
    "        current_aArray = elementSum(current_aArray, aArray)           \n",
    "    else:\n",
    "        # finish one word merge\n",
    "        if current_word:\n",
    "            # get the top pairs with heap\n",
    "            for p in current_aArray:\n",
    "                if current_aArray[p] > min_support:                    \n",
    "                    # get relative freq\n",
    "                    rf = 100.0*current_aArray[p]/n_total\n",
    "                    print '%s,%s,%s,%.4f%%' %(current_word, p, current_aArray[p], rf)\n",
    "        # reset for a new word\n",
    "        current_word = word\n",
    "        current_aArray = aArray\n",
    "\n",
    "#print '\\ntotal basket: %d' %n_total\n"
   ]
  },
  {
   "cell_type": "markdown",
   "metadata": {},
   "source": [
    "###Mapper to sort"
   ]
  },
  {
   "cell_type": "code",
   "execution_count": 79,
   "metadata": {
    "collapsed": false
   },
   "outputs": [
    {
     "name": "stdout",
     "output_type": "stream",
     "text": [
      "Overwriting mapper_s.py\n"
     ]
    }
   ],
   "source": [
    "%%writefile mapper_s.py\n",
    "#!/usr/bin/python\n",
    "import sys\n",
    "\n",
    "# increase counter for mapper being called\n",
    "sys.stderr.write(\"reporter:counter:HW3_5,Mapper_s_cnt,1\\n\")\n",
    "\n",
    "for line in sys.stdin:   \n",
    "    # just emit\n",
    "    print line.strip()"
   ]
  },
  {
   "cell_type": "markdown",
   "metadata": {},
   "source": [
    "###Reducer to sort"
   ]
  },
  {
   "cell_type": "code",
   "execution_count": 80,
   "metadata": {
    "collapsed": false
   },
   "outputs": [
    {
     "name": "stdout",
     "output_type": "stream",
     "text": [
      "Overwriting reducer_s.py\n"
     ]
    }
   ],
   "source": [
    "%%writefile reducer_s.py\n",
    "#!/usr/bin/python\n",
    "import sys\n",
    "\n",
    "# increase counter for mapper being called\n",
    "sys.stderr.write(\"reporter:counter:HW3_5,Reducer_s_cnt,1\\n\")\n",
    "\n",
    "n_out = 0\n",
    "n_top = 50\n",
    "\n",
    "print 'top %d pairs: ' %n_top\n",
    "\n",
    "for line in sys.stdin:   \n",
    "    # parse mapper output  \n",
    "    n_out += 1\n",
    "    if n_out <= n_top:        \n",
    "        print line.strip().replace(',', '\\t')"
   ]
  },
  {
   "cell_type": "markdown",
   "metadata": {},
   "source": [
    "###MapReducing"
   ]
  },
  {
   "cell_type": "code",
   "execution_count": 84,
   "metadata": {
    "collapsed": false,
    "scrolled": true
   },
   "outputs": [
    {
     "name": "stdout",
     "output_type": "stream",
     "text": [
      "Deleted results\n",
      "packageJobJar: [/var/folders/tx/5ldq67q511q8wqwqkvptnxd00000gn/T/hadoop-unjar3782570145270895412/] [] /var/folders/tx/5ldq67q511q8wqwqkvptnxd00000gn/T/streamjob870881278814839645.jar tmpDir=null\n",
      "Deleted results2\n",
      "packageJobJar: [/var/folders/tx/5ldq67q511q8wqwqkvptnxd00000gn/T/hadoop-unjar5736039512355960039/] [] /var/folders/tx/5ldq67q511q8wqwqkvptnxd00000gn/T/streamjob3937477619845631898.jar tmpDir=null\n"
     ]
    }
   ],
   "source": [
    "# job 1 - count\n",
    "!hdfs dfs -rm -r results\n",
    "!hadoop jar /usr/local/Cellar/hadoop/2.*/libexec/share/hadoop/tools/lib/hadoop-streaming-2.7.1.jar \\\n",
    "-D mapred.map.tasks=3 \\\n",
    "-D mapred.reduce.tasks=1 \\\n",
    "-files mapper.py,reducer.py,combiner.py \\\n",
    "-mapper mapper.py \\\n",
    "-reducer reducer.py \\\n",
    "-input /user/leiyang/ProductPurchaseData.txt \\\n",
    "-output results\n",
    "\n",
    "# job 2 - sort relative frequency\n",
    "!hdfs dfs -rm -r results2\n",
    "!hadoop jar /usr/local/Cellar/hadoop/2.*/libexec/share/hadoop/tools/lib/hadoop-streaming-2.7.1.jar \\\n",
    "-D mapred.output.key.comparator.class=org.apache.hadoop.mapred.lib.KeyFieldBasedComparator \\\n",
    "-D map.output.key.field.separator=',' \\\n",
    "-D map.output.key.value.fields.spec=0-2:3- \\\n",
    "-D mapred.text.key.comparator.options='-k3,3nr -k1,1 -k2,2' \\\n",
    "-D mapred.map.tasks=2 \\\n",
    "-D mapred.reduce.tasks=1 \\\n",
    "-files mapper_s.py,reducer_s.py \\\n",
    "-mapper mapper_s.py \\\n",
    "-reducer reducer_s.py \\\n",
    "-input /user/leiyang/results/part-0000* \\\n",
    "-output results2"
   ]
  },
  {
   "cell_type": "markdown",
   "metadata": {},
   "source": [
    "###HW3.5 Results\n",
    "- 3 mappers, 1 reducer\n",
    "- the combiner was called 1 time by each map process, total 3 times\n",
    "- with the same configure, the execution time is reduced to 15 sec.  from 23 sec. of pair approach, about **33%** improvement\n",
    "\n",
    "<img src=\"HW3_5.counter.png\" alt=\"Drawing\" style=\"width: 880px;\"/>\n",
    "<img src=\"HW3_5.time.png\" alt=\"Drawing\" style=\"width: 400px;\"/>"
   ]
  },
  {
   "cell_type": "code",
   "execution_count": 85,
   "metadata": {
    "collapsed": false
   },
   "outputs": [
    {
     "name": "stdout",
     "output_type": "stream",
     "text": [
      "top 50 pairs: \t\r\n",
      "DAI62779\tELE17451\t1592\t5.1188%\r\n",
      "FRO40251\tSNA80324\t1412\t4.5400%\r\n",
      "DAI75645\tFRO40251\t1254\t4.0320%\r\n",
      "FRO40251\tGRO85051\t1213\t3.9002%\r\n",
      "DAI62779\tGRO73461\t1139\t3.6623%\r\n",
      "DAI75645\tSNA80324\t1130\t3.6333%\r\n",
      "DAI62779\tFRO40251\t1070\t3.4404%\r\n",
      "DAI62779\tSNA80324\t923\t2.9678%\r\n",
      "DAI62779\tDAI85309\t918\t2.9517%\r\n",
      "ELE32164\tGRO59710\t911\t2.9292%\r\n",
      "DAI62779\tDAI75645\t882\t2.8359%\r\n",
      "FRO40251\tGRO73461\t882\t2.8359%\r\n",
      "DAI62779\tELE92920\t877\t2.8198%\r\n",
      "FRO40251\tFRO92469\t835\t2.6848%\r\n",
      "DAI62779\tELE32164\t832\t2.6752%\r\n",
      "DAI75645\tGRO73461\t712\t2.2893%\r\n",
      "DAI43223\tELE32164\t711\t2.2861%\r\n",
      "DAI62779\tGRO30386\t709\t2.2797%\r\n",
      "ELE17451\tFRO40251\t697\t2.2411%\r\n",
      "DAI85309\tELE99737\t659\t2.1189%\r\n",
      "DAI62779\tELE26917\t650\t2.0900%\r\n",
      "GRO21487\tGRO73461\t631\t2.0289%\r\n",
      "DAI62779\tSNA45677\t604\t1.9421%\r\n",
      "ELE17451\tSNA80324\t597\t1.9196%\r\n",
      "DAI62779\tGRO71621\t595\t1.9131%\r\n",
      "DAI62779\tSNA55762\t593\t1.9067%\r\n",
      "DAI62779\tDAI83733\t586\t1.8842%\r\n",
      "ELE17451\tGRO73461\t580\t1.8649%\r\n",
      "GRO73461\tSNA80324\t562\t1.8070%\r\n",
      "DAI62779\tGRO59710\t561\t1.8038%\r\n",
      "DAI62779\tFRO80039\t550\t1.7684%\r\n",
      "DAI75645\tELE17451\t547\t1.7588%\r\n",
      "DAI62779\tSNA93860\t537\t1.7266%\r\n",
      "DAI55148\tDAI62779\t526\t1.6913%\r\n",
      "DAI43223\tGRO59710\t512\t1.6462%\r\n",
      "ELE17451\tELE32164\t511\t1.6430%\r\n",
      "DAI62779\tSNA18336\t506\t1.6270%\r\n",
      "ELE32164\tGRO73461\t486\t1.5627%\r\n",
      "DAI62779\tFRO78087\t482\t1.5498%\r\n",
      "DAI85309\tELE17451\t482\t1.5498%\r\n",
      "DAI62779\tGRO94758\t479\t1.5401%\r\n",
      "DAI62779\tGRO21487\t471\t1.5144%\r\n",
      "GRO85051\tSNA80324\t471\t1.5144%\r\n",
      "ELE17451\tGRO30386\t468\t1.5048%\r\n",
      "FRO85978\tSNA95666\t463\t1.4887%\r\n",
      "DAI62779\tFRO19221\t462\t1.4855%\r\n",
      "DAI62779\tGRO46854\t461\t1.4823%\r\n",
      "DAI43223\tDAI62779\t459\t1.4758%\r\n",
      "ELE92920\tSNA18336\t455\t1.4630%\r\n",
      "DAI88079\tFRO40251\t446\t1.4340%\r\n"
     ]
    }
   ],
   "source": [
    "!hdfs dfs -cat results2/part-0*"
   ]
  },
  {
   "cell_type": "markdown",
   "metadata": {
    "collapsed": true
   },
   "source": [
    "###OPTIONAL: all HW below this are optional\n",
    "\n",
    "** Preliminary information **\n",
    "\n",
    "Much of this homework beyond this point will focus on the Apriori algorithm for frequent itemset  mining and the additional step for extracting association rules from these frequent itemsets.\n",
    "Please acquaint yourself with the background information (below)\n",
    "before approaching the remaining  assignments.\n",
    "\n",
    "** Apriori background information **\n",
    "\n",
    "Some background material for the  Apriori algorithm is located at:\n",
    "\n",
    " - Slides in Live Session #3\n",
    " - https://en.wikipedia.org/wiki/Apriori_algorithm\n",
    " - https://www.dropbox.com/s/k2zm4otych279z2/Apriori-good-slides.pdf?dl=0\n",
    " - http://snap.stanford.edu/class/cs246-2014/slides/02-assocrules.pdf\n",
    "\n",
    "Association Rules are frequently used for Market Basket Analysis (MBA) by retailers to\n",
    "understand the purchase behavior of their customers. This information can be then used for\n",
    "many different purposes such as cross-selling and up-selling of products, sales promotions,\n",
    "loyalty programs, store design, discount plans and many others.\n",
    "Evaluation of item sets: Once you have found the frequent itemsets of a dataset, you need\n",
    "to choose a subset of them as your recommendations. Commonly used metrics for measuring\n",
    "significance and interest for selecting rules for recommendations are: confidence; lift; and conviction.\n",
    "\n",
    "###*HW3.6*\n",
    "What is the Apriori algorithm? Describe an example use in your domain of expertise and what kind of . Define confidence and lift.\n",
    "\n",
    "NOTE:\n",
    "For the remaining homework use the online browsing behavior dataset located at (same dataset as used above):\n",
    "\n",
    "       https://www.dropbox.com/s/zlfyiwa70poqg74/ProductPurchaseData.txt?dl=0\n",
    "\n",
    "Each line in this dataset represents a browsing session of a customer.\n",
    "On each line, each string of 8 characters represents the id of an item browsed during that session.\n",
    "The items are separated by spaces.\n",
    "\n",
    "Here are the first few lines of the ProductPurchaseData:\n",
    "\n",
    "- FRO11987 ELE17451 ELE89019 SNA90258 GRO99222\n",
    "- GRO99222 GRO12298 FRO12685 ELE91550 SNA11465 ELE26917 ELE52966 FRO90334 SNA30755 ELE17451 FRO84225 SNA80192\n",
    "- ELE17451 GRO73461 DAI22896 SNA99873 FRO86643\n",
    "- ELE17451 ELE37798 FRO86643 GRO56989 ELE23393 SNA11465\n",
    "- ELE17451 SNA69641 FRO86643 FRO78087 SNA11465 GRO39357 ELE28573 ELE11375 DAI54444\n"
   ]
  },
  {
   "cell_type": "code",
   "execution_count": null,
   "metadata": {
    "collapsed": true
   },
   "outputs": [],
   "source": []
  },
  {
   "cell_type": "markdown",
   "metadata": {},
   "source": [
    "###*HW3.7.* Shopping Cart Analysis\n",
    "Product Recommendations: The action or practice of selling additional products or services\n",
    "to existing customers is called cross-selling. Giving product recommendation is\n",
    "one of the examples of cross-selling that are frequently used by online retailers.\n",
    "One simple method to give product recommendations is to recommend products that are frequently\n",
    "browsed together by the customers.\n",
    "\n",
    "Suppose we want to recommend new products to the customer based on the products they\n",
    "have already browsed on the online website\n",
    "\n",
    "- Write a program using the A-priori algorithm to find products which are frequently browsed together. \n",
    "- Fix the support to s = 100 (i.e. product sets need to occur together at least 100 times to be considered frequent)\n",
    "and find itemsets of size 2 and 3.\n",
    "\n",
    "Then extract association rules from these frequent items. A rule is of the form:\n",
    "\n",
    "- (item1, item5) ⇒ item2.\n",
    "\n",
    "List the top 10 discovered rules in descreasing order of confidence in the following format\n",
    "\n",
    "- (item1, item5) ⇒ item2, supportCount ,support, confidence\n",
    "\n",
    "**Implementation Notes:**\n",
    "- each MapReduce job perform one round of APrior processing:\n",
    " - mapper: construct candidate set $C_k$\n",
    " - reducer: filter $C_k$ to get frequent item set $L_k$\n",
    "- to find itemsets of size 3, we will need 3 jobs\n",
    "\n",
    "\n",
    "###Mapper 1: get $C_1$\n",
    "- emit singleton"
   ]
  },
  {
   "cell_type": "code",
   "execution_count": 10,
   "metadata": {
    "collapsed": false
   },
   "outputs": [
    {
     "name": "stdout",
     "output_type": "stream",
     "text": [
      "Overwriting mapper_1.py\n"
     ]
    }
   ],
   "source": [
    "%%writefile mapper_1.py\n",
    "#!/usr/bin/python\n",
    "import sys\n",
    "\n",
    "# increase counter for mapper being called\n",
    "sys.stderr.write(\"reporter:counter:HW3_7,Mapper_1_cnt,1\\n\")\n",
    "\n",
    "for line in sys.stdin:   \n",
    "    # get words and emit\n",
    "    for prod in line.strip().split(' '):\n",
    "        print '%s\\t%d' %(prod, 1)"
   ]
  },
  {
   "cell_type": "markdown",
   "metadata": {},
   "source": [
    "###Reducer 1: get $L_1$\n",
    "- only emit words whose frequency is above the support threshold (100)\n",
    "- can be used as **combiner** too"
   ]
  },
  {
   "cell_type": "code",
   "execution_count": 11,
   "metadata": {
    "collapsed": false
   },
   "outputs": [
    {
     "name": "stdout",
     "output_type": "stream",
     "text": [
      "Overwriting reducer_1.py\n"
     ]
    }
   ],
   "source": [
    "%%writefile reducer_1.py\n",
    "#!/usr/bin/python\n",
    "import sys\n",
    "\n",
    "# increase counter for mapper being called\n",
    "sys.stderr.write(\"reporter:counter:HW3_7,Reducer_1_cnt,1\\n\")\n",
    "\n",
    "current_prod = None\n",
    "current_count = 0\n",
    "min_support = 100\n",
    "\n",
    "for line in sys.stdin:   \n",
    "    # get k-v pair\n",
    "    prod, count = line.strip().split('\\t', 1)\n",
    "    \n",
    "    # skip bad count\n",
    "    try:\n",
    "        count = int(count)\n",
    "    except ValueError:\n",
    "        continue\n",
    "        \n",
    "    # get count\n",
    "    if current_prod == prod:\n",
    "        current_count += count\n",
    "    else:\n",
    "        if current_prod and current_count > min_support:\n",
    "            # emit prod above min support\n",
    "            print '%s\\t%d' %(current_prod, current_count)\n",
    "        # reset\n",
    "        current_prod = prod\n",
    "        current_count = count\n",
    "    "
   ]
  },
  {
   "cell_type": "markdown",
   "metadata": {},
   "source": [
    "###Mapper 2: get $C_2$"
   ]
  },
  {
   "cell_type": "code",
   "execution_count": 12,
   "metadata": {
    "collapsed": false
   },
   "outputs": [
    {
     "name": "stdout",
     "output_type": "stream",
     "text": [
      "Overwriting mapper_2.py\n"
     ]
    }
   ],
   "source": [
    "%%writefile mapper_2.py\n",
    "#!/usr/bin/python\n",
    "import sys, subprocess \n",
    "\n",
    "# increase counter for mapper being called\n",
    "sys.stderr.write(\"reporter:counter:HW3_7,Mapper_2_cnt,1\\n\")\n",
    "\n",
    "singleton = []\n",
    "cat = subprocess.Popen(['hdfs', 'dfs', '-cat', 'results1/part-0*'], stdout=subprocess.PIPE)\n",
    "for line in cat.stdout:\n",
    "    singleton.append(line.strip().split('\\t')[0])\n",
    "\n",
    "# read the input data\n",
    "for line in sys.stdin:   \n",
    "    # debug code\n",
    "    # print line.strip()\n",
    "    # continue\n",
    "    \n",
    "    line = line.strip()\n",
    "    # if it's job1 output, rehydrate singleton buffer\n",
    "    if '\\t' in line:\n",
    "        singleton.append(line.split('\\t', 1)[0])\n",
    "        continue\n",
    "    \n",
    "    # get words for each session\n",
    "    prod = line.strip().split(' ')\n",
    "        \n",
    "    # keep product from singleton set only\n",
    "    products = [val for val in prod if val in singleton]\n",
    "    products.sort()\n",
    "    \n",
    "    # get pairs to emit\n",
    "    size = len(products)\n",
    "    pairs = [products[i] + '_' + products[j] for i in range(size) for j in range(i+1, size)]\n",
    "    for p in pairs:\n",
    "        print '%s\\t%d' %(p, 1)\n",
    "        "
   ]
  },
  {
   "cell_type": "markdown",
   "metadata": {},
   "source": [
    "###Reducer 2: get $L_2$ \n",
    "- same as Reducer 1, since we have identical k-v format (%s\\t%d) from the mapper"
   ]
  },
  {
   "cell_type": "code",
   "execution_count": 13,
   "metadata": {
    "collapsed": true
   },
   "outputs": [],
   "source": [
    "### same as reducer_1.py"
   ]
  },
  {
   "cell_type": "markdown",
   "metadata": {
    "collapsed": true
   },
   "source": [
    "###Mapper 3: get $C_3$"
   ]
  },
  {
   "cell_type": "code",
   "execution_count": 23,
   "metadata": {
    "collapsed": false
   },
   "outputs": [
    {
     "name": "stdout",
     "output_type": "stream",
     "text": [
      "Overwriting mapper_3.py\n"
     ]
    }
   ],
   "source": [
    "%%writefile mapper_3.py\n",
    "#!/usr/bin/python\n",
    "import sys, subprocess \n",
    "\n",
    "# increase counter for mapper being called\n",
    "sys.stderr.write(\"reporter:counter:HW3_7,Mapper_3_cnt,1\\n\")\n",
    "\n",
    "# load the frequent pairs given by Job 2\n",
    "pair = []\n",
    "cat = subprocess.Popen(['hdfs', 'dfs', '-cat', 'results2/part-0*'], stdout=subprocess.PIPE)\n",
    "for line in cat.stdout:\n",
    "    pair.append(line.strip().split('\\t')[0])\n",
    "\n",
    "# still read frequent pairs first, then session data to generate triples\n",
    "for line in sys.stdin:   \n",
    "    line = line.strip()\n",
    "            \n",
    "    # get products from each session\n",
    "    prod = line.split(' ')\n",
    "    prod.sort()\n",
    "    n = len(prod)\n",
    "    \n",
    "    # generate triples from the session, in the format of a_b_c, alphabetically sorted\n",
    "    triples = [[prod[i],prod[j],prod[k]] for i in range(n) for j in range(i+1,n) for k in range(i+2,n)]\n",
    "    \n",
    "    # processing triples\n",
    "    for tri in triples:\n",
    "        # from each triple a_b_c: check if the 3 child-pairs (a_b, b_c, a_c) are in the frequent pair set\n",
    "        if tri[0]+'_'+tri[1] in pair and tri[1]+'_'+tri[2] in pair and tri[0]+'_'+tri[2] in pair:\n",
    "            # if so, emit 3 dummies a_b_*, b_c_*, a_c_*, and the triple itself a_b_c\n",
    "            print '%s_%s_*\\t%d' %(tri[0], tri[1], 1)\n",
    "            print '%s_%s_*\\t%d' %(tri[0], tri[2], 1)\n",
    "            print '%s_%s_*\\t%d' %(tri[1], tri[2], 1)\n",
    "            print '%s_%s_%s\\t%d' %(tri[0], tri[1], tri[2], 1)\n",
    "    "
   ]
  },
  {
   "cell_type": "markdown",
   "metadata": {
    "collapsed": true
   },
   "source": [
    "###Reducer 3: get $L_3$\n",
    "- use order inversion to get confidence"
   ]
  },
  {
   "cell_type": "code",
   "execution_count": 24,
   "metadata": {
    "collapsed": false
   },
   "outputs": [
    {
     "name": "stdout",
     "output_type": "stream",
     "text": [
      "Overwriting reducer_3.py\n"
     ]
    }
   ],
   "source": [
    "%%writefile reducer_3.py\n",
    "#!/usr/bin/python\n",
    "import sys\n",
    "\n",
    "# increase counter for mapper being called\n",
    "sys.stderr.write(\"reporter:counter:HW3_7,Reducer_3_cnt,1\\n\")\n",
    "\n",
    "current_prod = None\n",
    "current_dummy = None\n",
    "current_count = 0\n",
    "min_support = 100\n",
    "marginal = 0\n",
    "\n",
    "for line in sys.stdin:   \n",
    "    # debug code\n",
    "    # print line.strip()\n",
    "    # continue\n",
    "    \n",
    "    # get k-v pair\n",
    "    prod, count = line.strip().split('\\t', 1)\n",
    "    \n",
    "    # skip bad count\n",
    "    try:\n",
    "        count = int(count)\n",
    "    except ValueError:\n",
    "        continue\n",
    "    \n",
    "    # handle marginal with dummy key\n",
    "    if '*' in prod:        \n",
    "        if current_dummy == prod:\n",
    "            # accumulate marginal\n",
    "            marginal += count\n",
    "        else:\n",
    "            # reset marginal for new dummy key\n",
    "            current_dummy = prod\n",
    "            marginal = count\n",
    "        continue\n",
    "        \n",
    "    # processing triple and emit rules\n",
    "    if current_prod == prod:\n",
    "        current_count += count\n",
    "    else:\n",
    "        if current_prod and current_count > min_support:\n",
    "            # emit triples for the rule\n",
    "            w1,w2,w3 = current_prod.split('_')\n",
    "            conf = 100.0*current_count/marginal\n",
    "            print '(%s, %s) => %s, %d, %d, %.2f%%' %(w1, w2, w3, current_count, marginal, conf)\n",
    "            \n",
    "        # reset for new triple\n",
    "        current_prod = prod\n",
    "        current_count = count\n",
    "        \n",
    "    "
   ]
  },
  {
   "cell_type": "markdown",
   "metadata": {},
   "source": [
    "###MapReducing"
   ]
  },
  {
   "cell_type": "code",
   "execution_count": 16,
   "metadata": {
    "collapsed": false
   },
   "outputs": [
    {
     "name": "stdout",
     "output_type": "stream",
     "text": [
      "Deleted results1\r\n"
     ]
    }
   ],
   "source": [
    "# job 1 - get L_1 for frequent singletons\n",
    "!hdfs dfs -rm -r results1\n",
    "!hadoop jar /usr/local/Cellar/hadoop/2.*/libexec/share/hadoop/tools/lib/hadoop-streaming-2.7.1.jar \\\n",
    "-D mapred.map.tasks=3 \\\n",
    "-D mapred.reduce.tasks=1 \\\n",
    "-files mapper_1.py,reducer_1.py \\\n",
    "-mapper mapper_1.py \\\n",
    "-reducer reducer_1.py \\\n",
    "-combiner reducer_1.py \\\n",
    "-input /user/leiyang/ProductPurchaseData.txt \\\n",
    "-output results1"
   ]
  },
  {
   "cell_type": "code",
   "execution_count": 18,
   "metadata": {
    "collapsed": false
   },
   "outputs": [
    {
     "name": "stdout",
     "output_type": "stream",
     "text": [
      "Deleted results2\r\n"
     ]
    }
   ],
   "source": [
    "# job 2 - get L_2 for frequent pairs\n",
    "!hdfs dfs -rm -r results2\n",
    "!hadoop jar /usr/local/Cellar/hadoop/2.*/libexec/share/hadoop/tools/lib/hadoop-streaming-2.7.1.jar \\\n",
    "-D mapred.map.tasks=3 \\\n",
    "-D mapred.reduce.tasks=1 \\\n",
    "-files mapper_2.py,reducer_1.py \\\n",
    "-mapper mapper_2.py \\\n",
    "-reducer reducer_1.py \\\n",
    "-input /user/leiyang/ProductPurchaseData.txt \\\n",
    "-output results2"
   ]
  },
  {
   "cell_type": "code",
   "execution_count": null,
   "metadata": {
    "collapsed": false
   },
   "outputs": [
    {
     "name": "stdout",
     "output_type": "stream",
     "text": [
      "Deleted results3\r\n"
     ]
    }
   ],
   "source": [
    "# job 3 - get L_3 and calculate association rules\n",
    "!hdfs dfs -rm -r results3\n",
    "!hadoop jar /usr/local/Cellar/hadoop/2.*/libexec/share/hadoop/tools/lib/hadoop-streaming-2.7.1.jar \\\n",
    "-D mapred.map.tasks=3 \\\n",
    "-D mapred.reduce.tasks=0 \\\n",
    "-files mapper_3.py,reducer_3.py \\\n",
    "-mapper mapper_3.py \\\n",
    "-reducer reducer_3.py \\\n",
    "-input /user/leiyang/ProductPurchaseData.txt \\\n",
    "-output results3"
   ]
  },
  {
   "cell_type": "code",
   "execution_count": 19,
   "metadata": {
    "collapsed": false
   },
   "outputs": [
    {
     "name": "stdout",
     "output_type": "stream",
     "text": [
      "DAI16732_FRO78087\t106\n",
      "DAI18527_SNA44451\t102\n",
      "DAI22177_DAI31081\t127\n",
      "DAI22177_DAI62779\t382\n",
      "DAI22177_DAI63921\t136\n",
      "DAI22177_DAI75645\t123\n",
      "DAI22177_DAI83733\t126\n",
      "DAI22177_DAI85309\t172\n",
      "DAI22177_ELE17451\t203\n",
      "DAI22177_ELE26917\t134\n",
      "DAI22177_ELE32164\t155\n",
      "DAI22177_ELE34057\t107\n",
      "DAI22177_ELE56788\t134\n",
      "DAI22177_ELE66600\t101\n",
      "DAI22177_ELE66810\t105\n",
      "DAI22177_ELE74009\t108\n",
      "DAI22177_ELE91337\t150\n",
      "DAI22177_FRO31317\t160\n",
      "DAI22177_FRO32293\t128\n",
      "DAI22177_FRO40251\t181\n",
      "DAI22177_FRO66272\t130\n",
      "DAI22177_FRO78087\t107\n",
      "DAI22177_FRO80039\t152\n",
      "DAI22177_FRO85978\t156\n",
      "DAI22177_GRO21487\t122\n",
      "DAI22177_GRO30386\t106\n",
      "DAI22177_GRO46854\t160\n",
      "DAI22177_GRO59710\t120\n",
      "DAI22177_GRO71621\t132\n",
      "DAI22177_GRO73461\t248\n",
      "DAI22177_SNA45677\t145\n",
      "DAI22177_SNA55762\t102\n",
      "DAI22177_SNA80324\t140\n",
      "DAI22240_DAI62779\t151\n",
      "DAI22240_ELE17451\t105\n",
      "DAI22240_ELE37048\t219\n",
      "DAI22240_ELE74482\t103\n",
      "DAI22240_FRO40251\t112\n",
      "DAI22534_DAI62779\t123\n",
      "DAI22896_DAI62779\t297\n",
      "DAI22896_DAI75645\t215\n",
      "DAI22896_ELE17451\t193\n",
      "DAI22896_ELE32164\t107\n",
      "DAI22896_ELE74009\t165\n",
      "DAI22896_FRO31317\t167\n",
      "DAI22896_FRO40251\t154\n",
      "DAI22896_FRO53271\t123\n",
      "DAI22896_GRO21487\t114\n",
      "DAI22896_GRO30386\t102\n",
      "DAI22896_GRO38814\t223\n",
      "DAI22896_GRO46854\t114\n",
      "DAI22896_GRO61133\t110\n",
      "DAI22896_GRO73461\t304\n",
      "DAI22896_SNA72163\t227\n",
      "DAI22896_SNA80324\t195\n",
      "DAI23334_DAI62779\t273\n",
      "DAI23334_ELE92920\t143\n",
      "DAI29159_DAI62779\t119\n",
      "DAI31081_DAI43223\t123\n",
      "DAI31081_DAI62779\t364\n",
      "DAI31081_DAI75645\t206\n",
      "DAI31081_DAI88807\t134\n",
      "DAI31081_ELE17451\t230\n",
      "DAI31081_ELE32164\t312\n",
      "DAI31081_FRO31317\t109\n",
      "DAI31081_FRO40251\t280\n",
      "DAI31081_FRO53271\t161\n",
      "DAI31081_GRO21487\t133\n",
      "DAI31081_GRO56989\t103\n",
      "DAI31081_GRO59710\t187\n",
      "DAI31081_GRO69543\t174\n",
      "DAI31081_GRO73461\t283\n",
      "DAI31081_GRO85051\t102\n",
      "DAI31081_SNA80324\t189\n",
      "DAI33336_DAI62779\t102\n",
      "DAI35347_DAI62779\t226\n",
      "DAI35347_ELE17451\t158\n",
      "DAI35347_ELE26917\t111\n",
      "DAI35347_ELE32164\t123\n",
      "DAI35347_ELE66810\t311\n",
      "DAI35347_FRO31317\t325\n",
      "DAI35347_FRO80039\t113\n",
      "DAI37288_ELE32164\t117\n",
      "DAI38969_DAI62779\t190\n",
      "DAI42083_DAI62779\t117\n",
      "DAI42083_DAI92600\t256\n",
      "DAI42083_ELE17451\t185\n",
      "DAI42083_GRO59710\t113\n",
      "DAI42083_SNA59903\t112\n",
      "DAI42493_DAI62779\t309\n",
      "DAI42493_DAI75645\t167\n",
      "DAI42493_DAI85309\t117\n",
      "DAI42493_DAI88807\t118\n",
      "DAI42493_ELE17451\t192\n",
      "DAI42493_ELE32164\t266\n",
      "DAI42493_ELE74009\t136\n",
      "DAI42493_ELE92920\t142\n",
      "DAI42493_FRO31317\t122\n",
      "DAI42493_FRO40251\t235\n",
      "DAI42493_FRO53271\t103\n",
      "DAI42493_GRO21487\t108\n",
      "DAI42493_GRO59710\t236\n",
      "DAI42493_GRO73461\t144\n",
      "DAI42493_SNA18336\t130\n",
      "DAI42493_SNA80324\t125\n",
      "DAI43223_DAI62779\t459\n",
      "DAI43223_DAI85309\t126\n",
      "DAI43223_ELE17451\t326\n",
      "DAI43223_ELE32164\t711\n",
      "DAI43223_ELE74009\t103\n",
      "DAI43223_ELE92920\t107\n",
      "DAI43223_GRO38814\t102\n",
      "DAI43223_GRO59710\t512\n",
      "DAI43223_GRO73461\t184\n",
      "DAI43223_GRO81087\t111\n",
      "DAI43223_GRO94758\t151\n",
      "DAI43223_SNA45677\t130\n",
      "DAI43868_SNA82528\t288\n",
      "DAI46755_FRO81176\t148\n",
      "DAI48126_DAI62779\t142\n",
      "DAI48891_DAI62779\t219\n",
      "DAI48891_DAI63921\t110\n",
      "DAI48891_DAI83733\t116\n",
      "DAI48891_ELE17451\t121\n",
      "DAI48891_ELE78169\t113\n",
      "DAI48891_GRO36567\t128\n",
      "DAI48891_GRO73461\t117\n",
      "DAI48891_GRO94758\t114\n",
      "DAI48891_SNA45677\t194\n",
      "DAI49199_DAI62779\t179\n",
      "DAI49199_FRO40251\t111\n",
      "DAI50913_GRO33815\t137\n",
      "DAI50921_DAI62779\t106\n",
      "DAI51880_ELE26917\t107\n",
      "DAI53152_FRO40251\t140\n",
      "DAI55148_DAI62779\t526\n",
      "DAI55148_DAI75645\t299\n",
      "DAI55148_DAI85309\t131\n",
      "DAI55148_ELE17451\t305\n",
      "DAI55148_ELE32164\t134\n",
      "DAI55148_FRO40251\t343\n",
      "DAI55148_FRO92469\t108\n",
      "DAI55148_GRO73461\t135\n",
      "DAI55148_SNA80324\t339\n",
      "DAI55911_DAI62779\t259\n",
      "DAI55911_DAI75645\t186\n",
      "DAI55911_ELE17451\t127\n",
      "DAI55911_ELE26917\t113\n",
      "DAI55911_ELE32164\t119\n",
      "DAI55911_FRO40251\t232\n",
      "DAI55911_GRO73461\t116\n",
      "DAI55911_GRO85051\t133\n",
      "DAI55911_SNA80324\t165\n",
      "DAI59508_DAI62779\t143\n",
      "DAI62779_DAI63921\t353\n",
      "DAI62779_DAI67189\t136\n",
      "DAI62779_DAI67621\t109\n",
      "DAI62779_DAI73122\t110\n",
      "DAI62779_DAI75645\t882\n",
      "DAI62779_DAI83733\t586\n",
      "DAI62779_DAI83948\t190\n",
      "DAI62779_DAI85309\t918\n",
      "DAI62779_DAI87448\t260\n",
      "DAI62779_DAI88079\t117\n",
      "DAI62779_DAI88352\t158\n",
      "DAI62779_DAI88807\t261\n",
      "DAI62779_DAI91290\t353\n",
      "DAI62779_DAI92600\t177\n",
      "DAI62779_DAI94679\t118\n",
      "DAI62779_DAI95741\t195\n",
      "DAI62779_ELE11111\t232\n",
      "DAI62779_ELE12792\t317\n",
      "DAI62779_ELE12845\t123\n",
      "DAI62779_ELE14480\t230\n",
      "DAI62779_ELE17451\t1592\n",
      "DAI62779_ELE20196\t103\n",
      "DAI62779_ELE20398\t113\n",
      "DAI62779_ELE20847\t275\n",
      "DAI62779_ELE21353\t216\n",
      "DAI62779_ELE24630\t132\n",
      "DAI62779_ELE25077\t135\n",
      "DAI62779_ELE26917\t650\n",
      "DAI62779_ELE32164\t832\n",
      "DAI62779_ELE34057\t224\n",
      "DAI62779_ELE36909\t107\n",
      "DAI62779_ELE37048\t180\n",
      "DAI62779_ELE37770\t153\n",
      "DAI62779_ELE49801\t148\n",
      "DAI62779_ELE53126\t170\n",
      "DAI62779_ELE56788\t355\n",
      "DAI62779_ELE59028\t370\n",
      "DAI62779_ELE59935\t351\n",
      "DAI62779_ELE60381\t104\n",
      "DAI62779_ELE62598\t228\n",
      "DAI62779_ELE66600\t317\n",
      "DAI62779_ELE66810\t279\n",
      "DAI62779_ELE68605\t175\n",
      "DAI62779_ELE69552\t134\n",
      "DAI62779_ELE74009\t432\n",
      "DAI62779_ELE74482\t254\n",
      "DAI62779_ELE78169\t213\n",
      "DAI62779_ELE81534\t120\n",
      "DAI62779_ELE85027\t119\n",
      "DAI62779_ELE86561\t104\n",
      "DAI62779_ELE87456\t151\n",
      "DAI62779_ELE88583\t147\n",
      "DAI62779_ELE91337\t208\n",
      "DAI62779_ELE92920\t877\n",
      "DAI62779_ELE99737\t401\n",
      "DAI62779_FRO16142\t252\n",
      "DAI62779_FRO19221\t462\n",
      "DAI62779_FRO24098\t133\n",
      "DAI62779_FRO31317\t376\n",
      "DAI62779_FRO32293\t299\n",
      "DAI62779_FRO35904\t291\n",
      "DAI62779_FRO40251\t1070\n",
      "DAI62779_FRO43226\t107\n",
      "DAI62779_FRO53271\t237\n",
      "DAI62779_FRO61354\t167\n",
      "DAI62779_FRO66272\t276\n",
      "DAI62779_FRO73056\t104\n",
      "DAI62779_FRO75586\t220\n",
      "DAI62779_FRO78087\t482\n",
      "DAI62779_FRO78994\t201\n",
      "DAI62779_FRO79022\t249\n",
      "DAI62779_FRO80039\t550\n",
      "DAI62779_FRO85978\t434\n",
      "DAI62779_FRO89565\t158\n",
      "DAI62779_FRO92261\t223\n",
      "DAI62779_FRO92469\t242\n",
      "DAI62779_FRO98184\t118\n",
      "DAI62779_FRO98729\t147\n",
      "DAI62779_FRO99372\t170\n",
      "DAI62779_FRO99783\t210\n",
      "DAI62779_GRO15017\t391\n",
      "DAI62779_GRO18367\t133\n",
      "DAI62779_GRO21487\t471\n",
      "DAI62779_GRO23573\t133\n",
      "DAI62779_GRO24246\t125\n",
      "DAI62779_GRO29598\t102\n",
      "DAI62779_GRO30386\t709\n",
      "DAI62779_GRO30912\t103\n",
      "DAI62779_GRO32086\t156\n",
      "DAI62779_GRO35122\t163\n",
      "DAI62779_GRO36567\t182\n",
      "DAI62779_GRO38814\t389\n",
      "DAI62779_GRO38983\t182\n",
      "DAI62779_GRO44993\t192\n",
      "DAI62779_GRO46854\t461\n",
      "DAI62779_GRO50832\t150\n",
      "DAI62779_GRO56726\t302\n",
      "DAI62779_GRO56989\t155\n",
      "DAI62779_GRO59710\t561\n",
      "DAI62779_GRO61133\t300\n",
      "DAI62779_GRO64900\t205\n",
      "DAI62779_GRO68067\t159\n",
      "DAI62779_GRO69543\t167\n",
      "DAI62779_GRO71621\t595\n",
      "DAI62779_GRO73461\t1139\n",
      "DAI62779_GRO81087\t396\n",
      "DAI62779_GRO81647\t124\n",
      "DAI62779_GRO82670\t104\n",
      "DAI62779_GRO83463\t186\n",
      "DAI62779_GRO85051\t382\n",
      "DAI62779_GRO88324\t237\n",
      "DAI62779_GRO88505\t147\n",
      "DAI62779_GRO88511\t175\n",
      "DAI62779_GRO89148\t111\n",
      "DAI62779_GRO94758\t479\n",
      "DAI62779_GRO95519\t130\n",
      "DAI62779_GRO99222\t237\n",
      "DAI62779_SNA12663\t164\n",
      "DAI62779_SNA18336\t506\n",
      "DAI62779_SNA20554\t137\n",
      "DAI62779_SNA24799\t216\n",
      "DAI62779_SNA29014\t122\n",
      "DAI62779_SNA30755\t112\n",
      "DAI62779_SNA31619\t101\n",
      "DAI62779_SNA38068\t329\n",
      "DAI62779_SNA40408\t115\n",
      "DAI62779_SNA40784\t207\n",
      "DAI62779_SNA42528\t115\n",
      "DAI62779_SNA43319\t132\n",
      "DAI62779_SNA44190\t106\n",
      "DAI62779_SNA45677\t604\n",
      "DAI62779_SNA47306\t221\n",
      "DAI62779_SNA49107\t118\n",
      "DAI62779_SNA50789\t149\n",
      "DAI62779_SNA53220\t248\n",
      "DAI62779_SNA55617\t101\n",
      "DAI62779_SNA55762\t593\n",
      "DAI62779_SNA55952\t208\n",
      "DAI62779_SNA57865\t152\n",
      "DAI62779_SNA59061\t140\n",
      "DAI62779_SNA59903\t342\n",
      "DAI62779_SNA62128\t174\n",
      "DAI62779_SNA69641\t141\n",
      "DAI62779_SNA72163\t279\n",
      "DAI62779_SNA74022\t101\n",
      "DAI62779_SNA80324\t923\n",
      "DAI62779_SNA82528\t101\n",
      "DAI62779_SNA88283\t178\n",
      "DAI62779_SNA90094\t408\n",
      "DAI62779_SNA90258\t114\n",
      "DAI62779_SNA93730\t154\n",
      "DAI62779_SNA93860\t537\n",
      "DAI62779_SNA95666\t228\n",
      "DAI62779_SNA96271\t442\n",
      "DAI62779_SNA96466\t186\n",
      "DAI63921_DAI83733\t142\n",
      "DAI63921_DAI85309\t180\n",
      "DAI63921_DAI91290\t120\n",
      "DAI63921_ELE17451\t188\n",
      "DAI63921_ELE26917\t120\n",
      "DAI63921_ELE34057\t107\n",
      "DAI63921_ELE59935\t189\n",
      "DAI63921_ELE66600\t159\n",
      "DAI63921_ELE66810\t108\n",
      "DAI63921_ELE86561\t106\n",
      "DAI63921_ELE91337\t155\n",
      "DAI63921_ELE99737\t108\n",
      "DAI63921_FRO31317\t153\n",
      "DAI63921_FRO32293\t132\n",
      "DAI63921_FRO35904\t121\n",
      "DAI63921_FRO66272\t122\n",
      "DAI63921_FRO80039\t126\n",
      "DAI63921_FRO85978\t262\n",
      "DAI63921_GRO21487\t163\n",
      "DAI63921_GRO44993\t115\n",
      "DAI63921_GRO46854\t192\n",
      "DAI63921_GRO56726\t126\n",
      "DAI63921_GRO61133\t122\n",
      "DAI63921_GRO71621\t144\n",
      "DAI63921_GRO73461\t219\n",
      "DAI63921_SNA12663\t108\n",
      "DAI63921_SNA45677\t178\n",
      "DAI63921_SNA55762\t120\n",
      "DAI63921_SNA55952\t110\n",
      "DAI70456_ELE37770\t165\n",
      "DAI73122_ELE32164\t125\n",
      "DAI73122_GRO73461\t146\n",
      "DAI75645_DAI83733\t155\n",
      "DAI75645_DAI83948\t157\n",
      "DAI75645_DAI85309\t212\n",
      "DAI75645_DAI88079\t149\n",
      "DAI75645_DAI88807\t170\n",
      "DAI75645_DAI91290\t129\n",
      "DAI75645_DAI95741\t106\n",
      "DAI75645_ELE11111\t186\n",
      "DAI75645_ELE12792\t109\n",
      "DAI75645_ELE14480\t111\n",
      "DAI75645_ELE17451\t547\n",
      "DAI75645_ELE20847\t306\n",
      "DAI75645_ELE26917\t278\n",
      "DAI75645_ELE34057\t110\n",
      "DAI75645_ELE56788\t130\n",
      "DAI75645_ELE66600\t145\n",
      "DAI75645_ELE66810\t120\n",
      "DAI75645_ELE74009\t286\n",
      "DAI75645_ELE74482\t137\n",
      "DAI75645_ELE92920\t164\n",
      "DAI75645_FRO16142\t166\n",
      "DAI75645_FRO31317\t195\n",
      "DAI75645_FRO32293\t147\n",
      "DAI75645_FRO35904\t117\n",
      "DAI75645_FRO40251\t1254\n",
      "DAI75645_FRO47962\t189\n",
      "DAI75645_FRO53271\t210\n",
      "DAI75645_FRO78087\t171\n",
      "DAI75645_FRO80039\t175\n",
      "DAI75645_FRO85978\t122\n",
      "DAI75645_FRO92469\t256\n",
      "DAI75645_GRO15017\t228\n",
      "DAI75645_GRO21487\t213\n",
      "DAI75645_GRO30386\t239\n",
      "DAI75645_GRO32086\t105\n",
      "DAI75645_GRO35122\t111\n",
      "DAI75645_GRO38814\t244\n",
      "DAI75645_GRO44993\t120\n",
      "DAI75645_GRO46854\t190\n",
      "DAI75645_GRO56726\t145\n",
      "DAI75645_GRO61133\t204\n",
      "DAI75645_GRO64900\t104\n",
      "DAI75645_GRO69543\t158\n",
      "DAI75645_GRO71621\t211\n",
      "DAI75645_GRO73461\t712\n",
      "DAI75645_GRO81087\t206\n",
      "DAI75645_GRO85051\t395\n",
      "DAI75645_GRO94758\t203\n",
      "DAI75645_SNA18336\t101\n",
      "DAI75645_SNA38068\t124\n",
      "DAI75645_SNA45677\t245\n",
      "DAI75645_SNA47306\t118\n",
      "DAI75645_SNA55762\t255\n",
      "DAI75645_SNA72163\t131\n",
      "DAI75645_SNA80324\t1130\n",
      "DAI75645_SNA90094\t215\n",
      "DAI75645_SNA93860\t177\n",
      "DAI75645_SNA96271\t175\n",
      "DAI83031_DAI94679\t141\n",
      "DAI83733_DAI85309\t293\n",
      "DAI83733_DAI87448\t119\n",
      "DAI83733_ELE17451\t296\n",
      "DAI83733_ELE26917\t143\n",
      "DAI83733_ELE32164\t140\n",
      "DAI83733_ELE59935\t130\n",
      "DAI83733_ELE66600\t105\n",
      "DAI83733_ELE74009\t130\n",
      "DAI83733_ELE91337\t139\n",
      "DAI83733_ELE92920\t111\n",
      "DAI83733_FRO31317\t159\n",
      "DAI83733_FRO32293\t109\n",
      "DAI83733_FRO35904\t107\n",
      "DAI83733_FRO40251\t203\n",
      "DAI83733_FRO79022\t113\n",
      "DAI83733_FRO80039\t156\n",
      "DAI83733_FRO85978\t165\n",
      "DAI83733_GRO21487\t154\n",
      "DAI83733_GRO38814\t130\n",
      "DAI83733_GRO46854\t189\n",
      "DAI83733_GRO56726\t158\n",
      "DAI83733_GRO71621\t136\n",
      "DAI83733_GRO73461\t225\n",
      "DAI83733_SNA45677\t174\n",
      "DAI83733_SNA55762\t108\n",
      "DAI83733_SNA80324\t196\n",
      "DAI83948_ELE26917\t108\n",
      "DAI83948_ELE32164\t109\n",
      "DAI83948_FRO40251\t202\n",
      "DAI83948_GRO73461\t156\n",
      "DAI83948_GRO88511\t131\n",
      "DAI83948_SNA80324\t139\n",
      "DAI85309_DAI87448\t134\n",
      "DAI85309_DAI91290\t116\n",
      "DAI85309_DAI95741\t153\n",
      "DAI85309_ELE17451\t482\n",
      "DAI85309_ELE26917\t185\n",
      "DAI85309_ELE32164\t259\n",
      "DAI85309_ELE34057\t155\n",
      "DAI85309_ELE56788\t149\n",
      "DAI85309_ELE59935\t146\n",
      "DAI85309_ELE66600\t133\n",
      "DAI85309_ELE66810\t146\n",
      "DAI85309_ELE74009\t157\n",
      "DAI85309_ELE74482\t103\n",
      "DAI85309_ELE91337\t134\n",
      "DAI85309_ELE92920\t201\n",
      "DAI85309_ELE99737\t659\n",
      "DAI85309_FRO19221\t168\n",
      "DAI85309_FRO31317\t199\n",
      "DAI85309_FRO32293\t106\n",
      "DAI85309_FRO35904\t114\n",
      "DAI85309_FRO40251\t284\n",
      "DAI85309_FRO66272\t138\n",
      "DAI85309_FRO78087\t156\n",
      "DAI85309_FRO79022\t194\n",
      "DAI85309_FRO80039\t181\n",
      "DAI85309_FRO85978\t183\n",
      "DAI85309_GRO15017\t122\n",
      "DAI85309_GRO21487\t167\n",
      "DAI85309_GRO30386\t139\n",
      "DAI85309_GRO38814\t119\n",
      "DAI85309_GRO46854\t346\n",
      "DAI85309_GRO56726\t213\n",
      "DAI85309_GRO59710\t146\n",
      "DAI85309_GRO61133\t142\n",
      "DAI85309_GRO71621\t270\n",
      "DAI85309_GRO73461\t338\n",
      "DAI85309_GRO81087\t121\n",
      "DAI85309_GRO94758\t238\n",
      "DAI85309_SNA18336\t173\n",
      "DAI85309_SNA40784\t121\n",
      "DAI85309_SNA45677\t283\n",
      "DAI85309_SNA55762\t211\n",
      "DAI85309_SNA80324\t187\n",
      "DAI85309_SNA90094\t214\n",
      "DAI85309_SNA93860\t143\n",
      "DAI85309_SNA96271\t139\n",
      "DAI86167_FRO43226\t118\n",
      "DAI87448_ELE17451\t111\n",
      "DAI87448_ELE30933\t120\n",
      "DAI87448_ELE34057\t106\n",
      "DAI87448_ELE91337\t101\n",
      "DAI87448_FRO40251\t105\n",
      "DAI87448_FRO85978\t115\n",
      "DAI87448_GRO21487\t101\n",
      "DAI87448_GRO46854\t153\n",
      "DAI87448_GRO56726\t156\n",
      "DAI87448_GRO73461\t231\n",
      "DAI88079_ELE17451\t124\n",
      "DAI88079_FRO40251\t446\n",
      "DAI88079_GRO73461\t145\n",
      "DAI88079_SNA80324\t142\n",
      "DAI88088_ELE38289\t180\n",
      "DAI88352_ELE17451\t105\n",
      "DAI88807_ELE17451\t291\n",
      "DAI88807_ELE32164\t194\n",
      "DAI88807_ELE74009\t123\n",
      "DAI88807_FRO16142\t118\n",
      "DAI88807_FRO31317\t104\n",
      "DAI88807_FRO32293\t105\n",
      "DAI88807_FRO40251\t146\n",
      "DAI88807_FRO53271\t139\n",
      "DAI88807_FRO80039\t129\n",
      "DAI88807_GRO21487\t140\n",
      "DAI88807_GRO38814\t102\n",
      "DAI88807_GRO59710\t139\n",
      "DAI88807_GRO61133\t111\n",
      "DAI88807_GRO69543\t109\n",
      "DAI88807_GRO73461\t313\n",
      "DAI88807_SNA59903\t328\n",
      "DAI88807_SNA72163\t394\n",
      "DAI88807_SNA80324\t143\n",
      "DAI88807_SNA93860\t109\n",
      "DAI91290_ELE17451\t219\n",
      "DAI91290_ELE26917\t110\n",
      "DAI91290_ELE32164\t139\n",
      "DAI91290_FRO40251\t185\n",
      "DAI91290_GRO30386\t154\n",
      "DAI91290_GRO59710\t103\n",
      "DAI91290_GRO73461\t161\n",
      "DAI91290_GRO81087\t116\n",
      "DAI91290_SNA80324\t155\n",
      "DAI91290_SNA90094\t102\n",
      "DAI92600_ELE17451\t204\n",
      "DAI92600_ELE32164\t135\n",
      "DAI92600_FRO40251\t121\n",
      "DAI92600_FRO80039\t111\n",
      "DAI92600_GRO21487\t107\n",
      "DAI92600_GRO59710\t127\n",
      "DAI92600_GRO73461\t254\n",
      "DAI92600_SNA59903\t113\n",
      "DAI93865_FRO40251\t208\n",
      "DAI95741_ELE17451\t102\n",
      "DAI95741_FRO40251\t122\n",
      "DAI95741_GRO46854\t155\n",
      "DAI95741_GRO56726\t104\n",
      "DAI95741_GRO73461\t121\n",
      "DAI95741_SNA90094\t120\n",
      "ELE11111_ELE17451\t121\n",
      "ELE11111_ELE32164\t123\n",
      "ELE11111_FRO40251\t157\n",
      "ELE11111_GRO73461\t158\n",
      "ELE11111_GRO94758\t101\n",
      "ELE11111_SNA80324\t157\n",
      "ELE12792_ELE17451\t159\n",
      "ELE12792_FRO40251\t122\n",
      "ELE12792_FRO80039\t101\n",
      "ELE12792_GRO73461\t116\n",
      "ELE12792_SNA69641\t161\n",
      "ELE12792_SNA80324\t174\n",
      "ELE12845_FRO35904\t174\n",
      "ELE12951_FRO40251\t105\n",
      "ELE14480_ELE17451\t146\n",
      "ELE14480_ELE32164\t135\n",
      "ELE14480_ELE34057\t108\n",
      "ELE14480_FRO40251\t148\n",
      "ELE14480_FRO80039\t110\n",
      "ELE14480_GRO24246\t102\n",
      "ELE14480_GRO73461\t196\n",
      "ELE14480_SNA62128\t313\n",
      "ELE17451_ELE20398\t111\n",
      "ELE17451_ELE20847\t141\n",
      "ELE17451_ELE26917\t314\n",
      "ELE17451_ELE32164\t511\n",
      "ELE17451_ELE34057\t168\n",
      "ELE17451_ELE37048\t135\n",
      "ELE17451_ELE53126\t151\n",
      "ELE17451_ELE56788\t208\n",
      "ELE17451_ELE59028\t118\n",
      "ELE17451_ELE59935\t181\n",
      "ELE17451_ELE62598\t153\n",
      "ELE17451_ELE66600\t168\n",
      "ELE17451_ELE66810\t154\n",
      "ELE17451_ELE68605\t115\n",
      "ELE17451_ELE74009\t231\n",
      "ELE17451_ELE74482\t169\n",
      "ELE17451_ELE92920\t384\n",
      "ELE17451_ELE99737\t151\n",
      "ELE17451_FRO16142\t152\n",
      "ELE17451_FRO31317\t359\n",
      "ELE17451_FRO32293\t219\n",
      "ELE17451_FRO35904\t148\n",
      "ELE17451_FRO40251\t697\n",
      "ELE17451_FRO53271\t182\n",
      "ELE17451_FRO66272\t117\n",
      "ELE17451_FRO75586\t151\n",
      "ELE17451_FRO78087\t218\n",
      "ELE17451_FRO80039\t356\n",
      "ELE17451_FRO85978\t173\n",
      "ELE17451_FRO89565\t104\n",
      "ELE17451_FRO92261\t127\n",
      "ELE17451_FRO92469\t165\n",
      "ELE17451_FRO98184\t112\n",
      "ELE17451_FRO99372\t115\n",
      "ELE17451_FRO99783\t108\n",
      "ELE17451_GRO15017\t171\n",
      "ELE17451_GRO21487\t236\n",
      "ELE17451_GRO30386\t468\n",
      "ELE17451_GRO32086\t108\n",
      "ELE17451_GRO35122\t154\n",
      "ELE17451_GRO38814\t160\n",
      "ELE17451_GRO46854\t209\n",
      "ELE17451_GRO56726\t218\n",
      "ELE17451_GRO56989\t129\n",
      "ELE17451_GRO59710\t408\n",
      "ELE17451_GRO61133\t209\n",
      "ELE17451_GRO64900\t113\n",
      "ELE17451_GRO69543\t128\n",
      "ELE17451_GRO71621\t290\n",
      "ELE17451_GRO73461\t580\n",
      "ELE17451_GRO81087\t262\n",
      "ELE17451_GRO83463\t106\n",
      "ELE17451_GRO85051\t217\n",
      "ELE17451_GRO88324\t117\n",
      "ELE17451_GRO94758\t227\n",
      "ELE17451_GRO99222\t148\n",
      "ELE17451_SNA18336\t267\n",
      "ELE17451_SNA30755\t111\n",
      "ELE17451_SNA38068\t185\n",
      "ELE17451_SNA40784\t104\n",
      "ELE17451_SNA45677\t304\n",
      "ELE17451_SNA55762\t303\n",
      "ELE17451_SNA55952\t123\n",
      "ELE17451_SNA57865\t101\n",
      "ELE17451_SNA59903\t351\n",
      "ELE17451_SNA62128\t186\n",
      "ELE17451_SNA72163\t272\n",
      "ELE17451_SNA80324\t597\n",
      "ELE17451_SNA88283\t169\n",
      "ELE17451_SNA90094\t182\n",
      "ELE17451_SNA90258\t113\n",
      "ELE17451_SNA93860\t182\n",
      "ELE17451_SNA96271\t203\n",
      "ELE20398_GRO73461\t111\n",
      "ELE20847_ELE26917\t110\n",
      "ELE20847_FRO40251\t434\n",
      "ELE20847_FRO75586\t118\n",
      "ELE20847_FRO92469\t122\n",
      "ELE20847_GRO73461\t187\n",
      "ELE20847_GRO85051\t139\n",
      "ELE20847_SNA80324\t410\n",
      "ELE20847_SNA96271\t184\n",
      "ELE21353_FRO19221\t124\n",
      "ELE24630_ELE26917\t127\n",
      "ELE25077_GRO89004\t215\n",
      "ELE26917_ELE32164\t148\n",
      "ELE26917_ELE34057\t111\n",
      "ELE26917_ELE56788\t115\n",
      "ELE26917_ELE59935\t107\n",
      "ELE26917_ELE66600\t189\n",
      "ELE26917_ELE66810\t131\n",
      "ELE26917_ELE74009\t205\n",
      "ELE26917_ELE92629\t114\n",
      "ELE26917_ELE92920\t106\n",
      "ELE26917_FRO31317\t169\n",
      "ELE26917_FRO32293\t126\n",
      "ELE26917_FRO40251\t346\n",
      "ELE26917_FRO78087\t144\n",
      "ELE26917_FRO80039\t181\n",
      "ELE26917_FRO85978\t152\n",
      "ELE26917_FRO98729\t101\n",
      "ELE26917_GRO15017\t164\n",
      "ELE26917_GRO21487\t156\n",
      "ELE26917_GRO30386\t138\n",
      "ELE26917_GRO38814\t104\n",
      "ELE26917_GRO38983\t179\n",
      "ELE26917_GRO44993\t109\n",
      "ELE26917_GRO46854\t116\n",
      "ELE26917_GRO56726\t104\n",
      "ELE26917_GRO59710\t132\n",
      "ELE26917_GRO64900\t112\n",
      "ELE26917_GRO71621\t162\n",
      "ELE26917_GRO73461\t255\n",
      "ELE26917_GRO81087\t121\n",
      "ELE26917_GRO85051\t146\n",
      "ELE26917_GRO94758\t124\n",
      "ELE26917_GRO99222\t192\n",
      "ELE26917_SNA45677\t234\n",
      "ELE26917_SNA47306\t120\n",
      "ELE26917_SNA55762\t138\n",
      "ELE26917_SNA80324\t267\n",
      "ELE26917_SNA96271\t198\n",
      "ELE28189_FRO17734\t164\n",
      "ELE30182_SNA24799\t114\n",
      "ELE30933_GRO73461\t119\n",
      "ELE32164_ELE34057\t154\n",
      "ELE32164_ELE37048\t125\n",
      "ELE32164_ELE53126\t105\n",
      "ELE32164_ELE56788\t146\n",
      "ELE32164_ELE62598\t228\n",
      "ELE32164_ELE66600\t138\n",
      "ELE32164_ELE66810\t186\n",
      "ELE32164_ELE68605\t102\n",
      "ELE32164_ELE74009\t258\n",
      "ELE32164_ELE74482\t176\n",
      "ELE32164_ELE92920\t224\n",
      "ELE32164_ELE99737\t162\n",
      "ELE32164_FRO16142\t184\n",
      "ELE32164_FRO31317\t186\n",
      "ELE32164_FRO32293\t177\n",
      "ELE32164_FRO35904\t134\n",
      "ELE32164_FRO40251\t152\n",
      "ELE32164_FRO43226\t121\n",
      "ELE32164_FRO53271\t254\n",
      "ELE32164_FRO78087\t202\n",
      "ELE32164_FRO80039\t207\n",
      "ELE32164_FRO89565\t137\n",
      "ELE32164_GRO15017\t127\n",
      "ELE32164_GRO21487\t230\n",
      "ELE32164_GRO30386\t204\n",
      "ELE32164_GRO32086\t107\n",
      "ELE32164_GRO38814\t216\n",
      "ELE32164_GRO46854\t103\n",
      "ELE32164_GRO59710\t911\n",
      "ELE32164_GRO61133\t186\n",
      "ELE32164_GRO69543\t176\n",
      "ELE32164_GRO71621\t182\n",
      "ELE32164_GRO73461\t486\n",
      "ELE32164_GRO81087\t233\n",
      "ELE32164_GRO83463\t104\n",
      "ELE32164_GRO94758\t204\n",
      "ELE32164_SNA18336\t124\n",
      "ELE32164_SNA38068\t138\n",
      "ELE32164_SNA40784\t118\n",
      "ELE32164_SNA45677\t224\n",
      "ELE32164_SNA55762\t140\n",
      "ELE32164_SNA59903\t120\n",
      "ELE32164_SNA62128\t131\n",
      "ELE32164_SNA71332\t102\n",
      "ELE32164_SNA72163\t143\n",
      "ELE32164_SNA80324\t115\n",
      "ELE32164_SNA90094\t159\n",
      "ELE32164_SNA93860\t154\n",
      "ELE32164_SNA96271\t101\n",
      "ELE32244_ELE66600\t219\n",
      "ELE34057_ELE66810\t101\n",
      "ELE34057_ELE91337\t126\n",
      "ELE34057_ELE99737\t106\n",
      "ELE34057_FRO31317\t143\n",
      "ELE34057_FRO40251\t131\n",
      "ELE34057_FRO80039\t124\n",
      "ELE34057_FRO85978\t143\n",
      "ELE34057_GRO21487\t124\n",
      "ELE34057_GRO46854\t113\n",
      "ELE34057_GRO59710\t108\n",
      "ELE34057_GRO71621\t115\n",
      "ELE34057_GRO73461\t217\n",
      "ELE34057_SNA45677\t158\n",
      "ELE34057_SNA55762\t113\n",
      "ELE37048_ELE53126\t190\n",
      "ELE37048_ELE74482\t115\n",
      "ELE37048_FRO40251\t146\n",
      "ELE37048_SNA80324\t106\n",
      "ELE37770_ELE53126\t120\n",
      "ELE37770_ELE74482\t235\n",
      "ELE37770_FRO40251\t103\n",
      "ELE37798_GRO73461\t108\n",
      "ELE38289_SNA66979\t124\n",
      "ELE49801_GRO46854\t131\n",
      "ELE49801_GRO73461\t122\n",
      "ELE49801_SNA93860\t115\n",
      "ELE53126_ELE74482\t109\n",
      "ELE53126_FRO24098\t146\n",
      "ELE53126_FRO31317\t218\n",
      "ELE53126_FRO40251\t129\n",
      "ELE53126_FRO53271\t199\n",
      "ELE53126_GRO32086\t134\n",
      "ELE53126_GRO59710\t103\n",
      "ELE53126_SNA80324\t101\n",
      "ELE55848_GRO32086\t105\n",
      "ELE56788_ELE66810\t117\n",
      "ELE56788_FRO31317\t112\n",
      "ELE56788_FRO32293\t106\n",
      "ELE56788_FRO40251\t169\n",
      "ELE56788_FRO78087\t107\n",
      "ELE56788_FRO80039\t114\n",
      "ELE56788_GRO30386\t106\n",
      "ELE56788_GRO59710\t115\n",
      "ELE56788_GRO71621\t130\n",
      "ELE56788_GRO73461\t102\n",
      "ELE56788_SNA45677\t123\n",
      "ELE56788_SNA80324\t148\n",
      "ELE59028_FRO85978\t167\n",
      "ELE59028_SNA93860\t161\n",
      "ELE59935_FRO40251\t134\n",
      "ELE59935_FRO80039\t182\n",
      "ELE59935_GRO30386\t142\n",
      "ELE59935_GRO46854\t149\n",
      "ELE59935_GRO73461\t116\n",
      "ELE59935_SNA45677\t101\n",
      "ELE59935_SNA80324\t105\n",
      "ELE62598_FRO40251\t154\n",
      "ELE62598_GRO59710\t106\n",
      "ELE62598_GRO73461\t121\n",
      "ELE62598_SNA38068\t122\n",
      "ELE66600_ELE66810\t132\n",
      "ELE66600_ELE74009\t128\n",
      "ELE66600_ELE91337\t140\n",
      "ELE66600_FRO31317\t124\n",
      "ELE66600_FRO40251\t196\n",
      "ELE66600_FRO78087\t263\n",
      "ELE66600_FRO80039\t126\n",
      "ELE66600_FRO85978\t165\n",
      "ELE66600_GRO15017\t105\n",
      "ELE66600_GRO21487\t141\n",
      "ELE66600_GRO38983\t133\n",
      "ELE66600_GRO46854\t112\n",
      "ELE66600_GRO71621\t122\n",
      "ELE66600_GRO73461\t218\n",
      "ELE66600_SNA45677\t154\n",
      "ELE66600_SNA55762\t130\n",
      "ELE66600_SNA80324\t129\n",
      "ELE66600_SNA95666\t103\n",
      "ELE66600_SNA96271\t144\n",
      "ELE66810_ELE74009\t110\n",
      "ELE66810_FRO31317\t164\n",
      "ELE66810_FRO32293\t109\n",
      "ELE66810_FRO35729\t131\n",
      "ELE66810_FRO40251\t168\n",
      "ELE66810_FRO41939\t234\n",
      "ELE66810_FRO80039\t150\n",
      "ELE66810_GRO21487\t136\n",
      "ELE66810_GRO59710\t145\n",
      "ELE66810_GRO73461\t228\n",
      "ELE66810_SNA45677\t119\n",
      "ELE66810_SNA66979\t121\n",
      "ELE66810_SNA80324\t117\n",
      "ELE68605_FRO40251\t118\n",
      "ELE68605_GRO73461\t113\n",
      "ELE69552_FRO19221\t136\n",
      "ELE74009_ELE74482\t114\n",
      "ELE74009_ELE92920\t130\n",
      "ELE74009_FRO31317\t160\n",
      "ELE74009_FRO35904\t106\n",
      "ELE74009_FRO40251\t272\n",
      "ELE74009_FRO53271\t129\n",
      "ELE74009_FRO78087\t145\n",
      "ELE74009_FRO80039\t120\n",
      "ELE74009_FRO85978\t118\n",
      "ELE74009_GRO15017\t153\n",
      "ELE74009_GRO21487\t159\n",
      "ELE74009_GRO30386\t123\n",
      "ELE74009_GRO38814\t141\n",
      "ELE74009_GRO46854\t138\n",
      "ELE74009_GRO59710\t192\n",
      "ELE74009_GRO61133\t137\n",
      "ELE74009_GRO64900\t142\n",
      "ELE74009_GRO71621\t136\n",
      "ELE74009_GRO73461\t345\n",
      "ELE74009_GRO81087\t113\n",
      "ELE74009_GRO94758\t142\n",
      "ELE74009_SNA45677\t233\n",
      "ELE74009_SNA55762\t128\n",
      "ELE74009_SNA72163\t145\n",
      "ELE74009_SNA80324\t224\n",
      "ELE74009_SNA90094\t122\n",
      "ELE74009_SNA93860\t136\n",
      "ELE74009_SNA95666\t213\n",
      "ELE74482_FRO31317\t317\n",
      "ELE74482_FRO40251\t179\n",
      "ELE74482_GRO21487\t101\n",
      "ELE74482_GRO30386\t142\n",
      "ELE74482_GRO59710\t133\n",
      "ELE74482_GRO73461\t168\n",
      "ELE74482_SNA45677\t113\n",
      "ELE74482_SNA80324\t114\n",
      "ELE78169_GRO94758\t252\n",
      "ELE78169_SNA45677\t206\n",
      "ELE87456_GRO73461\t104\n",
      "ELE88583_GRO30912\t105\n",
      "ELE88583_SNA24799\t190\n",
      "ELE91337_FRO35904\t104\n",
      "ELE91337_FRO80039\t120\n",
      "ELE91337_FRO85978\t214\n",
      "ELE91337_GRO21487\t138\n",
      "ELE91337_GRO46854\t147\n",
      "ELE91337_GRO64900\t141\n",
      "ELE91337_GRO71621\t109\n",
      "ELE91337_GRO73461\t174\n",
      "ELE91337_SNA45677\t334\n",
      "ELE91337_SNA55762\t120\n",
      "ELE92920_FRO31317\t101\n",
      "ELE92920_FRO40251\t213\n",
      "ELE92920_GRO15017\t161\n",
      "ELE92920_GRO46854\t101\n",
      "ELE92920_GRO59710\t141\n",
      "ELE92920_GRO71621\t102\n",
      "ELE92920_GRO73461\t108\n",
      "ELE92920_GRO81087\t140\n",
      "ELE92920_SNA18336\t455\n",
      "ELE92920_SNA45677\t104\n",
      "ELE92920_SNA80324\t118\n",
      "ELE99737_FRO19221\t133\n",
      "ELE99737_FRO40251\t141\n",
      "ELE99737_FRO80039\t146\n",
      "ELE99737_FRO85978\t110\n",
      "ELE99737_GRO56726\t119\n",
      "ELE99737_GRO73461\t155\n",
      "ELE99737_GRO94758\t150\n",
      "ELE99737_SNA45677\t178\n",
      "ELE99737_SNA55762\t130\n",
      "ELE99737_SNA80324\t104\n",
      "ELE99737_SNA90094\t102\n",
      "FRO16142_FRO40251\t170\n",
      "FRO16142_GRO38814\t114\n",
      "FRO16142_GRO59710\t122\n",
      "FRO16142_GRO73461\t197\n",
      "FRO16142_SNA80324\t172\n",
      "FRO19221_GRO71621\t109\n",
      "FRO19221_GRO73461\t202\n",
      "FRO19221_SNA53220\t155\n",
      "FRO19221_SNA93860\t151\n",
      "FRO24098_FRO40251\t106\n",
      "FRO24098_GRO73461\t112\n",
      "FRO31317_FRO32293\t147\n",
      "FRO31317_FRO35904\t101\n",
      "FRO31317_FRO40251\t292\n",
      "FRO31317_FRO53271\t257\n",
      "FRO31317_FRO78087\t102\n",
      "FRO31317_FRO80039\t187\n",
      "FRO31317_FRO85978\t154\n",
      "FRO31317_GRO15017\t144\n",
      "FRO31317_GRO21487\t205\n",
      "FRO31317_GRO30386\t203\n",
      "FRO31317_GRO32086\t143\n",
      "FRO31317_GRO38814\t121\n",
      "FRO31317_GRO46854\t114\n",
      "FRO31317_GRO56726\t281\n",
      "FRO31317_GRO59710\t149\n",
      "FRO31317_GRO61133\t114\n",
      "FRO31317_GRO69543\t120\n",
      "FRO31317_GRO71621\t133\n",
      "FRO31317_GRO73461\t395\n",
      "FRO31317_SNA45677\t202\n",
      "FRO31317_SNA55762\t117\n",
      "FRO31317_SNA80324\t158\n",
      "FRO31317_SNA90094\t118\n",
      "FRO31317_SNA93860\t139\n",
      "FRO31317_SNA96271\t126\n",
      "FRO32293_FRO40251\t226\n",
      "FRO32293_FRO53271\t106\n",
      "FRO32293_FRO80039\t130\n",
      "FRO32293_GRO21487\t109\n",
      "FRO32293_GRO30386\t106\n",
      "FRO32293_GRO46854\t101\n",
      "FRO32293_GRO56726\t102\n",
      "FRO32293_GRO59710\t136\n",
      "FRO32293_GRO73461\t200\n",
      "FRO32293_SNA45677\t117\n",
      "FRO32293_SNA80324\t156\n",
      "FRO35904_FRO40251\t153\n",
      "FRO35904_FRO78087\t136\n",
      "FRO35904_FRO85978\t160\n",
      "FRO35904_FRO99783\t122\n",
      "FRO35904_GRO21487\t115\n",
      "FRO35904_GRO46854\t128\n",
      "FRO35904_GRO71621\t104\n",
      "FRO35904_GRO73461\t162\n",
      "FRO35904_SNA45677\t143\n",
      "FRO35904_SNA55762\t102\n",
      "FRO35904_SNA80324\t135\n",
      "FRO35904_SNA96271\t113\n",
      "FRO40251_FRO43226\t109\n",
      "FRO40251_FRO53271\t309\n",
      "FRO40251_FRO61354\t126\n",
      "FRO40251_FRO74605\t107\n",
      "FRO40251_FRO75586\t129\n",
      "FRO40251_FRO78087\t215\n",
      "FRO40251_FRO80039\t249\n",
      "FRO40251_FRO85978\t138\n",
      "FRO40251_FRO89565\t110\n",
      "FRO40251_FRO92261\t113\n",
      "FRO40251_FRO92469\t835\n",
      "FRO40251_FRO98729\t107\n",
      "FRO40251_GRO15017\t197\n",
      "FRO40251_GRO21487\t375\n",
      "FRO40251_GRO30386\t224\n",
      "FRO40251_GRO32086\t165\n",
      "FRO40251_GRO35122\t127\n",
      "FRO40251_GRO36567\t113\n",
      "FRO40251_GRO38636\t106\n",
      "FRO40251_GRO38814\t295\n",
      "FRO40251_GRO38983\t153\n",
      "FRO40251_GRO44993\t131\n",
      "FRO40251_GRO46854\t210\n",
      "FRO40251_GRO56726\t247\n",
      "FRO40251_GRO61133\t211\n",
      "FRO40251_GRO64900\t149\n",
      "FRO40251_GRO69543\t227\n",
      "FRO40251_GRO71621\t288\n",
      "FRO40251_GRO73461\t882\n",
      "FRO40251_GRO81087\t223\n",
      "FRO40251_GRO81647\t113\n",
      "FRO40251_GRO85051\t1213\n",
      "FRO40251_GRO88511\t113\n",
      "FRO40251_GRO94758\t230\n",
      "FRO40251_GRO99222\t142\n",
      "FRO40251_SNA12663\t105\n",
      "FRO40251_SNA18336\t143\n",
      "FRO40251_SNA38068\t158\n",
      "FRO40251_SNA42528\t110\n",
      "FRO40251_SNA45677\t309\n",
      "FRO40251_SNA47306\t139\n",
      "FRO40251_SNA50789\t113\n",
      "FRO40251_SNA55762\t258\n",
      "FRO40251_SNA55952\t115\n",
      "FRO40251_SNA62128\t125\n",
      "FRO40251_SNA72163\t201\n",
      "FRO40251_SNA80324\t1412\n",
      "FRO40251_SNA90094\t201\n",
      "FRO40251_SNA93860\t234\n",
      "FRO40251_SNA96271\t227\n",
      "FRO43226_FRO48038\t105\n",
      "FRO43226_FRO66272\t114\n",
      "FRO43226_GRO73461\t110\n",
      "FRO47962_GRO73461\t137\n",
      "FRO53271_FRO80039\t112\n",
      "FRO53271_GRO21487\t307\n",
      "FRO53271_GRO30386\t111\n",
      "FRO53271_GRO32086\t181\n",
      "FRO53271_GRO38814\t121\n",
      "FRO53271_GRO59710\t179\n",
      "FRO53271_GRO73461\t192\n",
      "FRO53271_GRO85051\t105\n",
      "FRO53271_SNA45677\t106\n",
      "FRO53271_SNA80324\t196\n",
      "FRO61354_GRO73461\t117\n",
      "FRO61354_SNA80324\t176\n",
      "FRO66272_GRO73461\t110\n",
      "FRO73056_GRO44993\t438\n",
      "FRO73056_GRO73461\t195\n",
      "FRO74605_GRO73461\t105\n",
      "FRO75586_SNA80324\t133\n",
      "FRO78087_FRO80039\t116\n",
      "FRO78087_FRO85978\t157\n",
      "FRO78087_GRO39357\t105\n",
      "FRO78087_GRO59710\t134\n",
      "FRO78087_GRO71621\t135\n",
      "FRO78087_GRO73461\t192\n",
      "FRO78087_SNA45677\t152\n",
      "FRO78087_SNA55762\t117\n",
      "FRO78087_SNA80324\t170\n",
      "FRO78087_SNA95666\t110\n",
      "FRO79022_FRO99783\t172\n",
      "FRO79022_GRO46854\t222\n",
      "FRO79022_GRO56726\t120\n",
      "FRO80039_FRO85978\t165\n",
      "FRO80039_GRO15017\t104\n",
      "FRO80039_GRO21487\t136\n",
      "FRO80039_GRO30386\t130\n",
      "FRO80039_GRO38814\t115\n",
      "FRO80039_GRO46854\t122\n",
      "FRO80039_GRO50832\t140\n",
      "FRO80039_GRO56726\t117\n",
      "FRO80039_GRO59710\t151\n",
      "FRO80039_GRO71621\t140\n",
      "FRO80039_GRO73461\t209\n",
      "FRO80039_GRO94758\t120\n",
      "FRO80039_SNA45677\t227\n",
      "FRO80039_SNA55762\t101\n",
      "FRO80039_SNA80324\t205\n",
      "FRO80039_SNA93860\t106\n",
      "FRO80039_SNA96271\t173\n",
      "FRO80039_SNA96466\t102\n",
      "FRO85978_GRO15017\t162\n",
      "FRO85978_GRO21487\t211\n",
      "FRO85978_GRO44993\t103\n",
      "FRO85978_GRO46854\t240\n",
      "FRO85978_GRO56726\t168\n",
      "FRO85978_GRO61133\t112\n",
      "FRO85978_GRO64900\t129\n",
      "FRO85978_GRO71621\t161\n",
      "FRO85978_GRO73461\t344\n",
      "FRO85978_GRO94758\t109\n",
      "FRO85978_SNA45677\t314\n",
      "FRO85978_SNA55762\t143\n",
      "FRO85978_SNA55952\t133\n",
      "FRO85978_SNA90094\t115\n",
      "FRO85978_SNA93860\t263\n",
      "FRO85978_SNA95666\t463\n",
      "FRO92261_GRO71621\t104\n",
      "FRO92261_SNA80324\t103\n",
      "FRO92469_GRO73461\t213\n",
      "FRO92469_SNA80324\t352\n",
      "FRO98184_GRO30386\t145\n",
      "FRO98729_SNA55762\t104\n",
      "FRO99783_GRO46854\t128\n",
      "GRO15017_GRO21487\t120\n",
      "GRO15017_GRO46854\t106\n",
      "GRO15017_GRO59710\t112\n",
      "GRO15017_GRO61133\t114\n",
      "GRO15017_GRO73461\t288\n",
      "GRO15017_GRO81087\t103\n",
      "GRO15017_SNA18336\t113\n",
      "GRO15017_SNA45677\t150\n",
      "GRO15017_SNA55762\t104\n",
      "GRO15017_SNA80324\t198\n",
      "GRO15017_SNA90094\t104\n",
      "GRO21487_GRO30386\t141\n",
      "GRO21487_GRO38814\t157\n",
      "GRO21487_GRO44993\t111\n",
      "GRO21487_GRO46854\t209\n",
      "GRO21487_GRO56726\t160\n",
      "GRO21487_GRO59710\t126\n",
      "GRO21487_GRO69543\t128\n",
      "GRO21487_GRO71621\t171\n",
      "GRO21487_GRO73461\t631\n",
      "GRO21487_GRO81647\t114\n",
      "GRO21487_GRO85051\t120\n",
      "GRO21487_GRO94758\t116\n",
      "GRO21487_SNA45677\t194\n",
      "GRO21487_SNA55762\t120\n",
      "GRO21487_SNA72163\t104\n",
      "GRO21487_SNA80324\t225\n",
      "GRO21487_SNA90094\t112\n",
      "GRO21487_SNA93860\t165\n",
      "GRO24246_GRO56726\t111\n",
      "GRO24246_SNA30859\t119\n",
      "GRO30386_GRO44993\t116\n",
      "GRO30386_GRO46854\t114\n",
      "GRO30386_GRO56726\t106\n",
      "GRO30386_GRO59710\t190\n",
      "GRO30386_GRO61133\t102\n",
      "GRO30386_GRO69543\t104\n",
      "GRO30386_GRO71621\t124\n",
      "GRO30386_GRO73461\t380\n",
      "GRO30386_GRO81087\t105\n",
      "GRO30386_SNA12663\t118\n",
      "GRO30386_SNA45677\t134\n",
      "GRO30386_SNA72163\t138\n",
      "GRO30386_SNA80324\t238\n",
      "GRO30386_SNA88283\t120\n",
      "GRO30386_SNA90094\t113\n",
      "GRO30386_SNA96271\t121\n",
      "GRO32086_GRO73461\t102\n",
      "GRO35122_GRO56726\t127\n",
      "GRO35122_GRO73461\t187\n",
      "GRO35122_SNA80324\t155\n",
      "GRO36567_GRO38814\t135\n",
      "GRO36567_GRO73461\t117\n",
      "GRO36567_SNA45677\t189\n",
      "GRO36567_SNA47306\t102\n",
      "GRO38814_GRO46854\t103\n",
      "GRO38814_GRO59710\t150\n",
      "GRO38814_GRO61133\t102\n",
      "GRO38814_GRO64900\t119\n",
      "GRO38814_GRO71621\t139\n",
      "GRO38814_GRO73461\t427\n",
      "GRO38814_GRO85051\t115\n",
      "GRO38814_GRO94758\t124\n",
      "GRO38814_SNA45677\t203\n",
      "GRO38814_SNA55762\t113\n",
      "GRO38814_SNA72163\t117\n",
      "GRO38814_SNA80324\t214\n",
      "GRO38983_SNA45677\t101\n",
      "GRO38983_SNA96271\t102\n",
      "GRO44993_GRO73461\t227\n",
      "GRO44993_SNA45677\t128\n",
      "GRO44993_SNA80324\t111\n",
      "GRO44993_SNA85241\t121\n",
      "GRO46854_GRO56726\t253\n",
      "GRO46854_GRO61133\t141\n",
      "GRO46854_GRO71621\t160\n",
      "GRO46854_GRO73461\t389\n",
      "GRO46854_GRO81045\t143\n",
      "GRO46854_GRO94758\t103\n",
      "GRO46854_SNA45677\t171\n",
      "GRO46854_SNA55762\t139\n",
      "GRO46854_SNA80324\t178\n",
      "GRO46854_SNA90094\t166\n",
      "GRO46854_SNA93860\t163\n",
      "GRO46854_SNA96271\t144\n",
      "GRO50832_SNA80324\t108\n",
      "GRO56726_GRO61133\t116\n",
      "GRO56726_GRO73461\t324\n",
      "GRO56726_SNA45677\t101\n",
      "GRO56726_SNA80324\t169\n",
      "GRO56726_SNA90094\t102\n",
      "GRO56726_SNA93860\t131\n",
      "GRO59710_GRO61133\t140\n",
      "GRO59710_GRO73461\t305\n",
      "GRO59710_GRO81087\t146\n",
      "GRO59710_GRO94758\t159\n",
      "GRO59710_SNA38068\t118\n",
      "GRO59710_SNA40784\t180\n",
      "GRO59710_SNA45677\t189\n",
      "GRO59710_SNA55762\t153\n",
      "GRO59710_SNA59903\t101\n",
      "GRO59710_SNA62128\t113\n",
      "GRO59710_SNA90094\t103\n",
      "GRO61133_GRO73461\t250\n",
      "GRO61133_GRO81087\t200\n",
      "GRO61133_SNA80324\t171\n",
      "GRO64900_GRO73461\t141\n",
      "GRO64900_SNA80324\t119\n",
      "GRO68067_GRO73461\t145\n",
      "GRO69543_GRO73461\t320\n",
      "GRO69543_SNA80324\t102\n",
      "GRO71621_GRO73461\t305\n",
      "GRO71621_GRO81087\t102\n",
      "GRO71621_GRO94758\t188\n",
      "GRO71621_SNA40784\t146\n",
      "GRO71621_SNA45677\t227\n",
      "GRO71621_SNA55762\t143\n",
      "GRO71621_SNA80324\t254\n",
      "GRO71621_SNA90094\t157\n",
      "GRO71621_SNA93860\t144\n",
      "GRO71621_SNA96271\t105\n",
      "GRO73461_GRO81087\t172\n",
      "GRO73461_GRO81647\t332\n",
      "GRO73461_GRO85051\t147\n",
      "GRO73461_GRO94758\t168\n",
      "GRO73461_SNA12663\t109\n",
      "GRO73461_SNA18336\t121\n",
      "GRO73461_SNA38068\t212\n",
      "GRO73461_SNA42528\t116\n",
      "GRO73461_SNA44190\t117\n",
      "GRO73461_SNA45677\t318\n",
      "GRO73461_SNA47306\t103\n",
      "GRO73461_SNA55762\t222\n",
      "GRO73461_SNA55952\t117\n",
      "GRO73461_SNA59061\t109\n",
      "GRO73461_SNA59903\t123\n",
      "GRO73461_SNA62128\t111\n",
      "GRO73461_SNA69641\t150\n",
      "GRO73461_SNA72163\t285\n",
      "GRO73461_SNA80324\t562\n",
      "GRO73461_SNA88283\t118\n",
      "GRO73461_SNA90094\t160\n",
      "GRO73461_SNA93860\t111\n",
      "GRO73461_SNA95666\t116\n",
      "GRO73461_SNA96271\t225\n",
      "GRO81087_SNA18336\t102\n",
      "GRO81087_SNA45677\t126\n",
      "GRO81087_SNA80324\t185\n",
      "GRO85051_SNA45677\t107\n",
      "GRO85051_SNA80324\t471\n",
      "GRO88324_SNA80324\t106\n",
      "GRO94173_SNA45677\t150\n",
      "GRO94758_SNA45677\t286\n",
      "GRO94758_SNA55762\t109\n",
      "GRO94758_SNA80324\t218\n",
      "GRO99222_SNA80324\t101\n",
      "GRO99222_SNA90258\t156\n",
      "SNA20554_SNA45677\t146\n",
      "SNA24799_SNA55617\t119\n",
      "SNA30533_SNA96271\t169\n",
      "SNA31619_SNA96271\t109\n",
      "SNA38068_SNA80324\t123\n",
      "SNA44190_SNA80324\t112\n",
      "SNA45677_SNA47306\t104\n",
      "SNA45677_SNA55762\t184\n",
      "SNA45677_SNA80324\t256\n",
      "SNA45677_SNA90094\t156\n",
      "SNA45677_SNA93860\t112\n",
      "SNA45677_SNA96271\t269\n",
      "SNA53220_SNA93860\t254\n",
      "SNA55762_SNA80324\t201\n",
      "SNA59903_SNA72163\t310\n",
      "SNA72163_SNA80324\t116\n",
      "SNA72163_SNA93860\t121\n",
      "SNA74022_SNA96271\t107\n",
      "SNA80324_SNA90094\t154\n",
      "SNA80324_SNA93860\t150\n",
      "SNA80324_SNA96271\t219\n",
      "SNA90094_SNA96271\t104\n"
     ]
    }
   ],
   "source": [
    "!hdfs dfs -cat results2/part-0*"
   ]
  },
  {
   "cell_type": "markdown",
   "metadata": {},
   "source": [
    "###*HW3.8*\n",
    "\n",
    "Benchmark your results using the pyFIM implementation of the Apriori algorithm\n",
    "(Apriori - Association Rule Induction / Frequent Item Set Mining implemented by Christian Borgelt).\n",
    "You can download pyFIM from here:\n",
    "\n",
    "http://www.borgelt.net/pyfim.html\n",
    "\n",
    "Comment on the results from both implementations (your Hadoop MapReduce of apriori versus pyFIM)\n",
    "in terms of results and execution times."
   ]
  },
  {
   "cell_type": "markdown",
   "metadata": {},
   "source": [
    "###*HW3.8* (Conceptual Exercise)\n",
    "\n",
    "Suppose that you wished to perform the Apriori algorithm once again,\n",
    "though this time now with the goal of listing the top 5 rules with corresponding confidence scores\n",
    "in decreasing order of confidence score for itemsets of size 3 using Hadoop MapReduce.\n",
    "A rule is now of the form:\n",
    "\n",
    "(item1, item2) ⇒ item3\n",
    "\n",
    "Recall that the Apriori algorithm is iterative for increasing itemset size,\n",
    "working off of the frequent itemsets of the previous size to explore\n",
    "ONLY the NECESSARY subset of a large combinatorial space.\n",
    "Describe how you might design a framework to perform this exercise.\n",
    "\n",
    "In particular, focus on the following:\n",
    "  — map-reduce steps required\n",
    "  - enumeration of item sets and filtering for frequent candidates"
   ]
  },
  {
   "cell_type": "code",
   "execution_count": null,
   "metadata": {
    "collapsed": true
   },
   "outputs": [],
   "source": []
  },
  {
   "cell_type": "markdown",
   "metadata": {},
   "source": [
    "###stop yarn, hdfs, and job history"
   ]
  },
  {
   "cell_type": "code",
   "execution_count": 45,
   "metadata": {
    "collapsed": false
   },
   "outputs": [
    {
     "name": "stdout",
     "output_type": "stream",
     "text": [
      "stopping yarn daemons\n",
      "stopping resourcemanager\n",
      "localhost: stopping nodemanager\n",
      "localhost: nodemanager did not stop gracefully after 5 seconds: killing with kill -9\n",
      "no proxyserver to stop\n",
      "Stopping namenodes on [localhost]\n",
      "localhost: stopping namenode\n",
      "localhost: stopping datanode\n",
      "Stopping secondary namenodes [0.0.0.0]\n",
      "0.0.0.0: stopping secondarynamenode\n",
      "stopping historyserver\n"
     ]
    }
   ],
   "source": [
    "!/usr/local/Cellar/hadoop/2*/sbin/stop-yarn.sh\n",
    "!/usr/local/Cellar/hadoop/2*/sbin/stop-dfs.sh\n",
    "!/usr/local/Cellar/hadoop/2*/sbin/mr-jobhistory-daemon.sh --config /usr/local/Cellar/hadoop/2*/libexec/etc/hadoop/ stop historyserver "
   ]
  }
 ],
 "metadata": {
  "kernelspec": {
   "display_name": "Python 2",
   "language": "python",
   "name": "python2"
  },
  "language_info": {
   "codemirror_mode": {
    "name": "ipython",
    "version": 2
   },
   "file_extension": ".py",
   "mimetype": "text/x-python",
   "name": "python",
   "nbconvert_exporter": "python",
   "pygments_lexer": "ipython2",
   "version": "2.7.9"
  }
 },
 "nbformat": 4,
 "nbformat_minor": 0
}
