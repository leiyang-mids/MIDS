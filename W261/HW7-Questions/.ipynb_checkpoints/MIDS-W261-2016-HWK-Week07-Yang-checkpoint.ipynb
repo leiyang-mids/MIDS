{
 "cells": [
  {
   "cell_type": "markdown",
   "metadata": {},
   "source": [
    "#DATASCI W261, Machine Learning at Scale\n",
    "--------\n",
    "####Assignement:  week \\#7\n",
    "####[Lei Yang](mailto:leiyang@berkeley.edu) | [Michael Kennedy](mailto:mkennedy@ischool.berkeley.edu) | [Natarajan Krishnaswami](mailto:natarajan@krishnaswami.org)\n",
    "####Due: 2016-03-10, 8AM PST"
   ]
  },
  {
   "cell_type": "markdown",
   "metadata": {
    "collapsed": true
   },
   "source": [
    "###General Description\n",
    "In this assignment you will explore networks and develop MRJob code for \n",
    "finding shortest path graph distances. To build up to large data \n",
    "you will develop your code on some very simple, toy networks.\n",
    "After this you will take your developed code forward and modify it and \n",
    "apply it to two larger datasets (performing EDA along the way).\n",
    "\n",
    "\n",
    "####Undirected toy network dataset\n",
    "\n",
    "In an undirected network all links are symmetric, \n",
    "i.e., for a pair of nodes 'A' and 'B,' both of the links:\n",
    "\n",
    "A -> B and B -> A\n",
    "\n",
    "will exist. \n",
    "\n",
    "The toy data are available in a sparse (stripes) representation:\n",
    "\n",
    "(node) \\t (dictionary of links)\n",
    "\n",
    "on AWS/Dropbox via the url:\n",
    "\n",
    "s3://ucb-mids-mls-networks/undirected_toy.txt\n",
    "\n",
    "On under the Data Subfolder for HW7 on Dropbox with the same file name\n",
    "\n",
    "In the dictionary, target nodes are keys, link weights are values \n",
    "(here, all weights are 1, i.e., the network is unweighted).\n",
    "\n",
    "\n",
    "####Directed toy network dataset\n",
    "\n",
    "In a directed network all links are not necessarily symmetric, \n",
    "i.e., for a pair of nodes 'A' and 'B,' it is possible for only one of:\n",
    "\n",
    "A -> B or B -> A\n",
    "\n",
    "to exist. \n",
    "\n",
    "These toy data are available in a sparse (stripes) representation:\n",
    "\n",
    "(node) \\t (dictionary of links)\n",
    "\n",
    "on AWS/Dropbox via the url:\n",
    "\n",
    "s3://ucb-mids-mls-networks/directed_toy.txt\n",
    "\n",
    "On under the Data Subfolder for HW7 on Dropbox with the same file name\n",
    "\n",
    "In the dictionary, target nodes are keys, link weights are values \n",
    "(here, all weights are 1, i.e., the network is unweighted).\n"
   ]
  },
  {
   "cell_type": "markdown",
   "metadata": {
    "collapsed": false,
    "scrolled": false
   },
   "source": [
    "###HW 7.0: Shortest path graph distances (toy networks)\n",
    "\n",
    "In this part of your assignment you will develop the base of your code for the week.\n",
    "\n",
    "Write MRJob classes to find shortest path graph distances, \n",
    "as described in the lectures. In addition to finding the distances, \n",
    "your code should also output a distance-minimizing path between the source and target.\n",
    "Work locally for this part of the assignment, and use \n",
    "both of the undirected and directed toy networks.\n",
    "\n",
    "To proof you code's function, run the following jobs\n",
    "\n",
    "- shortest path in the undirected network from node 1 to node 4\n",
    "\n",
    "Solution: 1,5,4 \n",
    "\n",
    "- shortest path in the directed network from node 1 to node 5\n",
    "\n",
    "Solution: 1,2,4,5\n",
    "\n",
    "and report your output---make sure it is correct!\n",
    "\n",
    "###BFS Iteration\n",
    "<img src=\"ShortestPathMapReduce.png\" alt=\"Drawing\" style=\"width: 550px;\"/>\n",
    "\n",
    "####Two changes to improve performance for unweighted graph\n",
    "- in iteration mrjob: no need to store weight value, to reduce the amount of data during processing\n",
    "- in driver program: the stopping criterion for unweighted network is simpler: once the destination becomes frontier, it has the shortest path from the source\n"
   ]
  },
  {
   "cell_type": "code",
   "execution_count": 122,
   "metadata": {
    "collapsed": false
   },
   "outputs": [
    {
     "name": "stdout",
     "output_type": "stream",
     "text": [
      "Overwriting ShortestPathIter.py\n"
     ]
    }
   ],
   "source": [
    "%%writefile ShortestPathIter.py\n",
    "from mrjob.job import MRJob\n",
    "from mrjob.step import MRStep\n",
    "\n",
    "class ShortestPathIter(MRJob):\n",
    "    DEFAULT_PROTOCOL = 'json'\n",
    "\n",
    "    def __init__(self, *args, **kwargs):\n",
    "        super(ShortestPathIter, self).__init__(*args, **kwargs)\n",
    "\n",
    "\n",
    "    def configure_options(self):\n",
    "        super(ShortestPathIter, self).configure_options()\n",
    "        self.add_passthrough_option(\n",
    "            '--source', dest='source', default='1', type='string',\n",
    "            help='source: source node (default 1)')\n",
    "        self.add_passthrough_option(\n",
    "            '--destination', dest='destination', default='1', type='string',\n",
    "            help='destination: destination node (default 1)')\n",
    "        self.add_passthrough_option(\n",
    "            '--weighted', dest='weighted', default='1', type='string',\n",
    "            help='weighted: is weighted graph (default 1)')\n",
    "    \n",
    "\n",
    "    def mapper_weighted(self, _, line):\n",
    "        nid, dic = line.strip().split('\\t', 1)\n",
    "        nid = nid.strip('\"')\n",
    "        cmd = 'node = %s' %dic\n",
    "        exec cmd\n",
    "        # if the node structure is incomplete (first pass), add them\n",
    "        if 'dist' not in node:\n",
    "            node = {'adj':node, 'path':[]}\n",
    "            node['dist'] = 0 if self.options.source==nid else -1\n",
    "        # emit node\n",
    "        yield nid, node\n",
    "        # emit distances to reachable nodes\n",
    "        if node['dist'] >= 0:\n",
    "            for m in node['adj']:\n",
    "                yield m, {'dd':node['adj'][m] + node['dist'], 'pp':node['path']+[nid]}\n",
    "                \n",
    "    def mapper_unweighted(self, _, line):\n",
    "        nid, dic = line.strip().split('\\t', 1)\n",
    "        nid = nid.strip('\"')\n",
    "        cmd = 'node = %s' %dic\n",
    "        exec cmd\n",
    "        # if the node structure is incomplete (first pass), add them\n",
    "        if 'dist' not in node:\n",
    "            node = {'adj':node.keys(), 'path':[]}\n",
    "            node['dist'] = 0 if self.options.source==nid else -1\n",
    "        # emit node\n",
    "        yield nid, node\n",
    "        # emit distances to reachable nodes\n",
    "        if node['dist'] >= 0:\n",
    "            for m in node['adj']:\n",
    "                yield m, {'dd':(1+node['dist']), 'pp':(node['path']+[nid])}\n",
    "                \n",
    "    # write a separate combiner ensure the integrity of the graph topology\n",
    "    # no additional node object will be generated\n",
    "    def combiner(self, nid, value):\n",
    "        dmin = float('inf')\n",
    "        path = None\n",
    "        # loop through all arrivals\n",
    "        for v in value:            \n",
    "            if 'dist' in v:\n",
    "                yield nid, v           \n",
    "            elif v['dd'] < dmin:\n",
    "                dmin, path = v['dd'], v['pp']       \n",
    "        # emit the smallest distance for nid        \n",
    "        yield nid, {'dd':dmin, 'pp':path}\n",
    "    \n",
    "    def reducer(self, nid, value):              \n",
    "        dmin = float('inf')\n",
    "        path = node = None\n",
    "        # loop through all arrivals\n",
    "        for v in value:            \n",
    "            if 'dist' in v:\n",
    "                node = v            \n",
    "            elif v['dd'] < dmin:\n",
    "                dmin, path = v['dd'], v['pp']                 \n",
    "\n",
    "        # handle dangling node, we only care if it's destination\n",
    "        if not node:\n",
    "            if nid == self.options.destination:\n",
    "                node = {'adj':{}, 'dist':dmin, 'path':path}                \n",
    "            else:\n",
    "                return\n",
    "        elif (dmin < node['dist']) or (node['dist'] == -1 and path):\n",
    "            node['dist'], node['path'] = dmin, path\n",
    "            \n",
    "        # emit for next iteration\n",
    "        yield nid, node\n",
    "\n",
    "    def steps(self):\n",
    "        jc = {\n",
    "            'mapreduce.job.maps': '2',\n",
    "            'mapreduce.job.reduces': '2',\n",
    "        }\n",
    "        return [MRStep(mapper=self.mapper_weighted if self.options.weighted == '1' else self.mapper_unweighted\n",
    "                       , combiner=self.combiner\n",
    "                       , reducer=self.reducer\n",
    "                       , jobconf = jc\n",
    "                      )\n",
    "               ]\n",
    "\n",
    "if __name__ == '__main__':\n",
    "    ShortestPathIter.run()\n"
   ]
  },
  {
   "cell_type": "code",
   "execution_count": 123,
   "metadata": {
    "collapsed": false
   },
   "outputs": [
    {
     "name": "stdout",
     "output_type": "stream",
     "text": [
      "using configs in /Users/leiyang/.mrjob.conf\n",
      "Got unexpected opts from /Users/leiyang/.mrjob.conf: no_output\n",
      "creating tmp directory /var/folders/tx/5ldq67q511q8wqwqkvptnxd00000gn/T/ShortestPathIter.leiyang.20160305.223521.757477\n",
      "writing wrapper script to /var/folders/tx/5ldq67q511q8wqwqkvptnxd00000gn/T/ShortestPathIter.leiyang.20160305.223521.757477/setup-wrapper.sh\n",
      "Using Hadoop version 2.7.1\n",
      "Copying local files into hdfs:///user/leiyang/tmp/mrjob/ShortestPathIter.leiyang.20160305.223521.757477/files/\n",
      "HADOOP: packageJobJar: [/var/folders/tx/5ldq67q511q8wqwqkvptnxd00000gn/T/hadoop-unjar469268765478858576/] [] /var/folders/tx/5ldq67q511q8wqwqkvptnxd00000gn/T/streamjob8400598763201476954.jar tmpDir=null\n",
      "Counters from step 1:\n",
      "  (no counters found)\n",
      "Streaming final output from hdfs:///user/leiyang/tmp/mrjob/ShortestPathIter.leiyang.20160305.223521.757477/output\n",
      "\"1\"\t{\"path\": [], \"adj\": [\"2\", \"5\"], \"dist\": 0}\n",
      "\"3\"\t{\"path\": [], \"adj\": [\"2\", \"4\"], \"dist\": -1}\n",
      "\"5\"\t{\"path\": [\"1\"], \"adj\": [\"1\", \"2\", \"4\"], \"dist\": 1}\n",
      "\"2\"\t{\"path\": [\"1\"], \"adj\": [\"1\", \"3\", \"5\", \"4\"], \"dist\": 1}\n",
      "\"4\"\t{\"path\": [], \"adj\": [\"3\", \"2\", \"5\"], \"dist\": -1}\n",
      "removing tmp directory /var/folders/tx/5ldq67q511q8wqwqkvptnxd00000gn/T/ShortestPathIter.leiyang.20160305.223521.757477\n",
      "deleting hdfs:///user/leiyang/tmp/mrjob/ShortestPathIter.leiyang.20160305.223521.757477 from HDFS\n"
     ]
    }
   ],
   "source": [
    "##### unit test #####\n",
    "!python ShortestPathIter.py undirected_toy.txt --source 1 --destination 4 --weighted 0 -r 'hadoop' # > test1"
   ]
  },
  {
   "cell_type": "markdown",
   "metadata": {},
   "source": [
    "###MrJob to retrieve path"
   ]
  },
  {
   "cell_type": "code",
   "execution_count": 107,
   "metadata": {
    "collapsed": false
   },
   "outputs": [
    {
     "name": "stdout",
     "output_type": "stream",
     "text": [
      "Overwriting getPath.py\n"
     ]
    }
   ],
   "source": [
    "%%writefile getPath.py\n",
    "from mrjob.job import MRJob\n",
    "from mrjob.step import MRStep\n",
    "\n",
    "\n",
    "class getPath(MRJob):\n",
    "    DEFAULT_PROTOCOL = 'json'\n",
    "\n",
    "    def __init__(self, *args, **kwargs):\n",
    "        super(getPath, self).__init__(*args, **kwargs)\n",
    "\n",
    "    def configure_options(self):\n",
    "        super(getPath, self).configure_options()        \n",
    "        self.add_passthrough_option(\n",
    "            '--destination', dest='destination', default='1', type='string',\n",
    "            help='destination: destination node (default 1)')\n",
    "\n",
    "    def mapper_init(self):\n",
    "        self.path = None\n",
    "\n",
    "    def mapper(self, _, line):\n",
    "        nid, dic = line.strip().split('\\t', 1)        \n",
    "        # emit distances to reachable nodes\n",
    "        if nid.strip('\"') == self.options.destination:\n",
    "            cmd = 'node = %s' %dic\n",
    "            exec cmd\n",
    "            self.path = node['path']            \n",
    "\n",
    "    def mapper_final(self):\n",
    "        if self.path:\n",
    "            yield \"shortest path - \", self.path+[self.options.destination]\n",
    "\n",
    "    def steps(self):\n",
    "        jc = {\n",
    "            'mapreduce.job.maps': '2',\n",
    "        }\n",
    "        return [MRStep(mapper_init=self.mapper_init\n",
    "                       , mapper=self.mapper\n",
    "                       , mapper_final=self.mapper_final\n",
    "                       , jobconf = jc\n",
    "                      )\n",
    "               ]\n",
    "\n",
    "if __name__ == '__main__':\n",
    "    getPath.run()\n"
   ]
  },
  {
   "cell_type": "code",
   "execution_count": 108,
   "metadata": {
    "collapsed": false
   },
   "outputs": [],
   "source": [
    "##### unit test #####\n",
    "#!python getPath.py test1 --destination 4"
   ]
  },
  {
   "cell_type": "markdown",
   "metadata": {},
   "source": [
    "###MrJob to check if traverse completes for weighted graph\n",
    "- compare node \"distance\" from two iteration\n",
    "- if no node has changed \"distance\", traverse completed"
   ]
  },
  {
   "cell_type": "code",
   "execution_count": 109,
   "metadata": {
    "collapsed": false
   },
   "outputs": [
    {
     "name": "stdout",
     "output_type": "stream",
     "text": [
      "Overwriting isTraverseCompleted.py\n"
     ]
    }
   ],
   "source": [
    "%%writefile isTraverseCompleted.py\n",
    "from mrjob.job import MRJob\n",
    "from mrjob.step import MRStep\n",
    "\n",
    "\n",
    "class isTraverseCompleted(MRJob):\n",
    "    DEFAULT_PROTOCOL = 'json'\n",
    "\n",
    "    def __init__(self, *args, **kwargs):\n",
    "        super(isTraverseCompleted, self).__init__(*args, **kwargs)\n",
    "\n",
    "    def mapper(self, _, line):\n",
    "        nid, dic = line.strip().split('\\t', 1)        \n",
    "        # emit node ID and distance\n",
    "        cmd = 'node = %s' %dic\n",
    "        exec cmd\n",
    "        yield nid, node['dist']         \n",
    "\n",
    "    def reducer_init(self):\n",
    "        self.dist_changed = 0\n",
    "        \n",
    "    def reducer(self, nid, dist):\n",
    "        pair = [d for d in dist]\n",
    "        self.dist_changed += pair[0]!=pair[1]\n",
    "        \n",
    "    def reducer_final(self):\n",
    "        yield self.dist_changed, 'traverse done' if self.dist_changed==0 else 'keep working'\n",
    "\n",
    "    def steps(self):\n",
    "        jc = {\n",
    "            'mapreduce.job.maps': '2',\n",
    "            'mapreduce.job.reduces': '2',\n",
    "        }\n",
    "        return [MRStep(mapper=self.mapper\n",
    "                       , reducer_init=self.reducer_init\n",
    "                       , reducer=self.reducer\n",
    "                       , reducer_final=self.reducer_final\n",
    "                       , jobconf = jc\n",
    "                      )\n",
    "               ]\n",
    "\n",
    "if __name__ == '__main__':\n",
    "    isTraverseCompleted.run()\n"
   ]
  },
  {
   "cell_type": "code",
   "execution_count": 110,
   "metadata": {
    "collapsed": false,
    "scrolled": false
   },
   "outputs": [],
   "source": [
    "##### unit test #####\n",
    "#!python ShortestPathIter.py 'undirected_toy.txt' --source 1 --destination 5 --weighted '0' > test1\n",
    "#!python ShortestPathIter.py 'test1' --source 1 --destination 5 --weighted '0' > test2\n",
    "#!python ShortestPathIter.py 'test2' --source 1 --destination 5 --weighted '0' > test3\n",
    "#!python isTraverseCompleted.py test1 test2"
   ]
  },
  {
   "cell_type": "markdown",
   "metadata": {},
   "source": [
    "###MrJob to check if traverse completes for unweighted graph\n",
    "- as soon as the destination is reached, traverse completes, shortest path found."
   ]
  },
  {
   "cell_type": "code",
   "execution_count": 111,
   "metadata": {
    "collapsed": false
   },
   "outputs": [
    {
     "name": "stdout",
     "output_type": "stream",
     "text": [
      "Overwriting isDestinationReached.py\n"
     ]
    }
   ],
   "source": [
    "%%writefile isDestinationReached.py\n",
    "from mrjob.job import MRJob\n",
    "from mrjob.step import MRStep\n",
    "\n",
    "\n",
    "class isDestinationReached(MRJob):\n",
    "    DEFAULT_PROTOCOL = 'json'\n",
    "\n",
    "    def __init__(self, *args, **kwargs):\n",
    "        super(isDestinationReached, self).__init__(*args, **kwargs)\n",
    "\n",
    "    def configure_options(self):\n",
    "        super(isDestinationReached, self).configure_options()        \n",
    "        self.add_passthrough_option(\n",
    "            '--destination', dest='destination', default='1', type='string',\n",
    "            help='destination: destination node (default 1)')\n",
    "\n",
    "    def mapper_init(self):\n",
    "        self.path = None\n",
    "\n",
    "    def mapper(self, _, line):\n",
    "        nid, dic = line.strip().split('\\t', 1)        \n",
    "        # emit distances to reachable nodes\n",
    "        if nid.strip('\"') == self.options.destination:\n",
    "            cmd = 'node = %s' %dic\n",
    "            exec cmd\n",
    "            if node['dist'] > 0:\n",
    "                self.path = node['path']+[self.options.destination]         \n",
    "\n",
    "    def mapper_final(self):       \n",
    "        yield 1 if self.path else 0, self.path\n",
    "\n",
    "    def steps(self):\n",
    "        jc = {\n",
    "            'mapreduce.job.maps': '2',\n",
    "        }\n",
    "        return [MRStep(mapper_init=self.mapper_init\n",
    "                       , mapper=self.mapper\n",
    "                       , mapper_final=self.mapper_final\n",
    "                       , jobconf = jc\n",
    "                      )\n",
    "               ]\n",
    "\n",
    "if __name__ == '__main__':\n",
    "    isDestinationReached.run()\n"
   ]
  },
  {
   "cell_type": "code",
   "execution_count": 112,
   "metadata": {
    "collapsed": false
   },
   "outputs": [],
   "source": [
    "##### unit test #####\n",
    "#!python isDestinationReached.py test1 --destination 5"
   ]
  },
  {
   "cell_type": "markdown",
   "metadata": {},
   "source": [
    "###Driver Program\n",
    "- init_job: take raw import, do first level traverse, output intermediate graph file\n",
    "- iter_job: iteratively traverse the graph and update the shortest distance and path\n",
    "- **Note:** a more elegant way to determine stopping condition would be setting a counter, however mrjob can't easily retrieve counter value when the job is running on hadoop, so we unfortunately have to run a separate job to compare node distance"
   ]
  },
  {
   "cell_type": "code",
   "execution_count": 157,
   "metadata": {
    "collapsed": false,
    "scrolled": false
   },
   "outputs": [
    {
     "name": "stdout",
     "output_type": "stream",
     "text": [
      "Overwriting RunBFS.py\n"
     ]
    }
   ],
   "source": [
    "%%writefile RunBFS.py\n",
    "#!/usr/bin/python\n",
    "from ShortestPathIter import ShortestPathIter\n",
    "from isTraverseCompleted import isTraverseCompleted\n",
    "from isDestinationReached import isDestinationReached\n",
    "from getPath import getPath\n",
    "from subprocess import call, check_output\n",
    "from time import time\n",
    "import sys, getopt, datetime, os\n",
    "\n",
    "# parse parameter\n",
    "if __name__ == \"__main__\":\n",
    "\n",
    "    try:\n",
    "        opts, args = getopt.getopt(sys.argv[1:], \"hg:s:d:m:w:i:\")\n",
    "    except getopt.GetoptError:\n",
    "        print 'RunBFS.py -g <graph> -s <source> -d <destination> -m <mode> -w <weighted>'\n",
    "        sys.exit(2)\n",
    "    if len(opts) != 6:\n",
    "        print 'RunBFS.py -g <graph> -s <source> -d <destination> -m <mode> -w <weighted>'\n",
    "        sys.exit(2)\n",
    "    for opt, arg in opts:\n",
    "        if opt == '-h':\n",
    "            print 'RunBFS.py -g <graph> -s <source> -d <destination> -m <mode> -w <weighted>'\n",
    "            sys.exit(2)\n",
    "        elif opt == '-g':\n",
    "            graph = arg\n",
    "        elif opt == '-s':\n",
    "            source = arg\n",
    "        elif opt == '-d':\n",
    "            destination = arg\n",
    "        elif opt == '-m':\n",
    "            mode = arg\n",
    "        elif opt == '-w':\n",
    "            weighted = arg\n",
    "        elif opt == '-i':\n",
    "            index = arg\n",
    "\n",
    "start = time()\n",
    "FNULL = open(os.devnull, 'w')\n",
    "\n",
    "isWeighted = weighted=='1'\n",
    "print str(datetime.datetime.now()) + ': BFS started between node %s and node %s on %s graph %s ...' %(\n",
    "    source, destination, 'weighted' if isWeighted else 'unweighted', graph[graph.rfind('/')+1:])\n",
    "\n",
    "# creat BFS job\n",
    "init_job = ShortestPathIter(args=[graph, '--source', source, '--destination', destination, '--weighted', weighted,\n",
    "                                  '-r', mode, '--output-dir', 'hdfs:///user/leiyang/out'])\n",
    "\n",
    "iter_job = ShortestPathIter(args=['hdfs:///user/leiyang/in/part*', '--source', source, '--destination', destination,\n",
    "                                  '--weighted', weighted, '-r', mode, '--output-dir', 'hdfs:///user/leiyang/out'])\n",
    "\n",
    "path_job = getPath(args=['hdfs:///user/leiyang/out/part*', '--destination', destination, '-r', mode])\n",
    "\n",
    "if isWeighted:\n",
    "    stop_job = isTraverseCompleted(args=['hdfs:///user/leiyang/out/part*', 'hdfs:///user/leiyang/in/part*', '-r', mode])\n",
    "else:\n",
    "    stop_job = isDestinationReached(args=['hdfs:///user/leiyang/out/part*', '--destination', destination, '-r', mode])\n",
    "\n",
    "# run initialization job\n",
    "with init_job.make_runner() as runner:\n",
    "    print str(datetime.datetime.now()) + ': starting initialization job ...'\n",
    "    runner.run()\n",
    "# move the result to input folder\n",
    "print str(datetime.datetime.now()) + ': moving results for next iteration ...'\n",
    "call(['hdfs', 'dfs', '-mv', '/user/leiyang/out', '/user/leiyang/in'])\n",
    "\n",
    "# run BFS iteratively\n",
    "i, path = 1, None\n",
    "while(1):    \n",
    "    with iter_job.make_runner() as runner:\n",
    "        print str(datetime.datetime.now()) + ': running iteration %d ...' %i\n",
    "        runner.run()\n",
    "        \n",
    "    # check if traverse is completed: no node has changing distance\n",
    "    with stop_job.make_runner() as runner:\n",
    "        print str(datetime.datetime.now()) + ': checking stopping criterion ...'\n",
    "        runner.run()\n",
    "        output = []        \n",
    "        for line in runner.stream_output():\n",
    "            n, text = stop_job.parse_output_line(line)\n",
    "            output.append([n, text])\n",
    "            \n",
    "    # if traverse completed, get path and break out\n",
    "    flag = sum([x[0] for x in output])    \n",
    "    if isWeighted and flag==0:\n",
    "        print str(datetime.datetime.now()) + ': traverse has completed, retrieving path ...'        \n",
    "        with path_job.make_runner() as runner:\n",
    "            runner.run()\n",
    "            for line in runner.stream_output():\n",
    "                text, path = path_job.parse_output_line(line)                                \n",
    "        break\n",
    "    elif (not isWeighted) and flag==1:\n",
    "        print str(datetime.datetime.now()) + ': destination is reached, retrieving path ...'                \n",
    "        for x,path in output:\n",
    "            if x==1:                    \n",
    "                break\n",
    "        break\n",
    "    \n",
    "    # if more iteration needed\n",
    "    i += 1\n",
    "    if isWeighted:\n",
    "        print str(datetime.datetime.now()) + ': %d nodes changed distance' %flag\n",
    "    else:\n",
    "        print str(datetime.datetime.now()) + ': destination not reached yet.'\n",
    "    print str(datetime.datetime.now()) + ': moving results for next iteration ...'\n",
    "    call(['hdfs', 'dfs', '-rm', '-r', '/user/leiyang/in'], stdout=FNULL)\n",
    "    call(['hdfs', 'dfs', '-mv', '/user/leiyang/out', '/user/leiyang/in'])\n",
    "\n",
    "# clear results\n",
    "print str(datetime.datetime.now()) + ': clearing files ...'\n",
    "call(['hdfs', 'dfs', '-rm', '-r', '/user/leiyang/in'], stdout=FNULL)\n",
    "call(['hdfs', 'dfs', '-rm', '-r', '/user/leiyang/out'], stdout=FNULL)\n",
    "\n",
    "# translate into words if index is valid\n",
    "if os.path.isfile(index):\n",
    "    path = [check_output(['grep', x, index]).split('\\t')[0] for x in path]\n",
    "\n",
    "print str(datetime.datetime.now()) + \": traversing completes in %.1f minutes!\\n\" %((time()-start)/60.0)\n",
    "print str(datetime.datetime.now()) + ': shortest path: %s\\n'%(' -> '.join(path))\n"
   ]
  },
  {
   "cell_type": "markdown",
   "metadata": {},
   "source": [
    "###Unit test with toy nets"
   ]
  },
  {
   "cell_type": "code",
   "execution_count": 159,
   "metadata": {
    "collapsed": false
   },
   "outputs": [
    {
     "name": "stdout",
     "output_type": "stream",
     "text": [
      "2016-03-05 19:03:14.258764: BFS started between node 1 and node 4 on unweighted graph undirected_toy.txt ...\n",
      "No handlers could be found for logger \"mrjob.conf\"\n",
      "2016-03-05 19:03:14.509738: starting initialization job ...\n",
      "2016-03-05 19:03:43.790088: moving results for next iteration ...\n",
      "2016-03-05 19:03:45.499153: running iteration 1 ...\n",
      "2016-03-05 19:04:16.218614: checking stopping criterion ...\n",
      "2016-03-05 19:04:46.270971: destination is reached, retrieving path ...\n",
      "2016-03-05 19:04:46.271192: clearing files ...\n",
      "2016-03-05 19:04:49.349968: traversing completes in 1.6 minutes!\n",
      "\n",
      "2016-03-05 19:04:49.350018: shortest path: 1 -> 2 -> 4\n",
      "\n",
      "2016-03-05 19:04:49.595558: BFS started between node 1 and node 5 on unweighted graph directed_toy.txt ...\n",
      "No handlers could be found for logger \"mrjob.conf\"\n",
      "2016-03-05 19:04:49.841229: starting initialization job ...\n",
      "2016-03-05 19:05:19.919792: moving results for next iteration ...\n",
      "2016-03-05 19:05:21.730136: running iteration 1 ...\n",
      "2016-03-05 19:05:52.473447: checking stopping criterion ...\n",
      "2016-03-05 19:06:23.077600: destination not reached yet.\n",
      "2016-03-05 19:06:23.077630: moving results for next iteration ...\n",
      "2016-03-05 19:06:26.333194: running iteration 2 ...\n",
      "2016-03-05 19:06:55.499765: checking stopping criterion ...\n",
      "2016-03-05 19:07:28.015478: destination is reached, retrieving path ...\n",
      "2016-03-05 19:07:28.015511: clearing files ...\n",
      "2016-03-05 19:07:31.231858: traversing completes in 2.7 minutes!\n",
      "\n",
      "2016-03-05 19:07:31.231916: shortest path: 1 -> 2 -> 4 -> 5\n",
      "\n"
     ]
    }
   ],
   "source": [
    "!python RunBFS.py -s 1 -d 4 -m 'hadoop' -g 'hdfs:///user/leiyang/undirected_toy.txt' -w 0 -i null\n",
    "\n",
    "!python RunBFS.py -s 1 -d 5 -m 'hadoop' -g 'hdfs:///user/leiyang/directed_toy.txt' -w 0 -i null"
   ]
  },
  {
   "cell_type": "markdown",
   "metadata": {},
   "source": [
    "###Main dataset 1: NLTK synonyms\n",
    "\n",
    "- In the next part of this assignment you will explore a network derived from\n",
    "the NLTK synonym database used for evaluation in HW 5. \n",
    "- At a high level, this network is undirected, defined so that there exists link between two nodes/words \n",
    "if the pair or words are a synonym. \n",
    "\n",
    "These data may be found at the location:\n",
    "\n",
    "- s3://ucb-mids-mls-networks/synNet/synNet.txt\n",
    "- s3://ucb-mids-mls-networks/synNet/indices.txt\n",
    "\n",
    "On under the Data Subfolder for HW7 on Dropbox with the same file names\n",
    "\n",
    "where synNet.txt contains a sparse representation of the network:\n",
    "\n",
    "(index) \\t (dictionary of links)\n",
    "\n",
    "in indexed form, and indices.txt contains a lookup list\n",
    "\n",
    "(word) \\t (index)\n",
    "\n",
    "of indices and words. This network is small enough for you to explore and run\n",
    "scripts locally, but will also be good for a systems test (for later) on AWS.\n",
    "\n",
    "In the dictionary, target nodes are keys, link weights are values \n",
    "(here, all weights are 1, i.e., the network is unweighted)."
   ]
  },
  {
   "cell_type": "markdown",
   "metadata": {},
   "source": [
    "###HW 7.1: Exploratory data analysis (NLTK synonyms)\n",
    "\n",
    "Using MRJob, explore the synonyms network data.\n",
    "Consider plotting the degree distribution (does it follow a power law?),\n",
    "and determine some of the key features, like:\n",
    "\n",
    "- number of nodes, \n",
    "- number links,\n",
    "- or the average degree (i.e., the average number of links per node),\n",
    "- etc...\n",
    "\n",
    "As you develop your code, please be sure to run it locally first (though on the whole dataset). \n",
    "Once you have gotten you code to run locally, deploy it on AWS as a systems test\n",
    "in preparation for our next dataset (which will require AWS).\n",
    "\n",
    "###MrJob to explore the graph"
   ]
  },
  {
   "cell_type": "code",
   "execution_count": 43,
   "metadata": {
    "collapsed": false
   },
   "outputs": [
    {
     "name": "stdout",
     "output_type": "stream",
     "text": [
      "Overwriting ExploreGraph.py\n"
     ]
    }
   ],
   "source": [
    "%%writefile ExploreGraph.py\n",
    "from mrjob.job import MRJob\n",
    "from mrjob.step import MRStep\n",
    "\n",
    "class ExploreGraph(MRJob):\n",
    "    \n",
    "    DEFAULT_PROTOCOL = 'json'\n",
    "    \n",
    "    def __init__(self, *args, **kwargs):\n",
    "        super(ExploreGraph, self).__init__(*args, **kwargs)\n",
    "\n",
    "    # assuming we are dealing with directed graph\n",
    "    # this job can handle undirected graph as well, \n",
    "    # but it can be done more efficiently\n",
    "    def mapper(self, _, line):\n",
    "        nid, dic = line.strip().split('\\t', 1)\n",
    "        cmd = 'adj = %s' %dic\n",
    "        exec cmd        \n",
    "        # we need to emit node ID as key, in order to count dangling nodes\n",
    "        # the value emitted here is (out, in) degree for the node\n",
    "        yield nid, (len(adj), 0)\n",
    "        # emit in degree from adjacency list\n",
    "        for n in adj:\n",
    "            yield n, (0, 1)\n",
    "                        \n",
    "    def combiner(self, nid, deg):\n",
    "        din = dout = 0\n",
    "        for d in deg:            \n",
    "            dout += d[0]\n",
    "            din += d[1]            \n",
    "        yield nid, (dout, din)\n",
    "        \n",
    "    def reducer_init(self):\n",
    "        self.node_cnt = 0\n",
    "        self.out_deg = {}\n",
    "        self.in_deg = {}\n",
    "        \n",
    "    def reducer(self, node, deg):\n",
    "        # add node by 1\n",
    "        self.node_cnt += 1\n",
    "        # aggregate in/out degree\n",
    "        _out = _in = 0\n",
    "        for d in deg:            \n",
    "            _out += d[0]\n",
    "            _in += d[1]    \n",
    "        # accumulate degree distribution\n",
    "        if _out not in self.out_deg:\n",
    "            self.out_deg[_out] = 1\n",
    "        else:\n",
    "            self.out_deg[_out] += 1\n",
    "        if _in not in self.in_deg:\n",
    "            self.in_deg[_in] = 1\n",
    "        else:\n",
    "            self.in_deg[_in] += 1\n",
    "        \n",
    "            \n",
    "    def reducer_final(self):\n",
    "        # final aggregation        \n",
    "        tot_degree = sum([d*self.out_deg[d] for d in self.out_deg])\n",
    "        yield 'total nodes: ', self.node_cnt\n",
    "        yield 'total links: ', tot_degree\n",
    "        yield 'average in degree: ', 1.0*tot_degree/sum(self.in_deg.values())\n",
    "        yield 'average out degree: ', 1.0*tot_degree/sum(self.out_deg.values())\n",
    "        yield 'dist of in-degree: ', self.in_deg\n",
    "        yield 'dist of out-degree: ', self.out_deg\n",
    "        \n",
    "    def steps(self):\n",
    "        jc = {\n",
    "            'mapreduce.job.maps': '10',\n",
    "            'mapreduce.job.reduces': '1',\n",
    "        }\n",
    "        return [MRStep(mapper=self.mapper\n",
    "                       , combiner=self.combiner\n",
    "                       , reducer_init=self.reducer_init\n",
    "                       , reducer=self.reducer                       \n",
    "                       , reducer_final=self.reducer_final\n",
    "                       #, jobconf = jc\n",
    "                      )\n",
    "               ]\n",
    "\n",
    "if __name__ == '__main__':\n",
    "    ExploreGraph.run()\n"
   ]
  },
  {
   "cell_type": "markdown",
   "metadata": {},
   "source": [
    "###Explore NLTK Synonyms Net"
   ]
  },
  {
   "cell_type": "code",
   "execution_count": 44,
   "metadata": {
    "collapsed": false
   },
   "outputs": [
    {
     "name": "stdout",
     "output_type": "stream",
     "text": [
      "using configs in /Users/leiyang/.mrjob.conf\n",
      "creating tmp directory /var/folders/tx/5ldq67q511q8wqwqkvptnxd00000gn/T/ExploreGraph.leiyang.20160305.194841.544439\n",
      "writing to /var/folders/tx/5ldq67q511q8wqwqkvptnxd00000gn/T/ExploreGraph.leiyang.20160305.194841.544439/step-0-mapper_part-00000\n",
      "Counters from step 1:\n",
      "  (no counters found)\n",
      "writing to /var/folders/tx/5ldq67q511q8wqwqkvptnxd00000gn/T/ExploreGraph.leiyang.20160305.194841.544439/step-0-mapper-sorted\n",
      "> sort /var/folders/tx/5ldq67q511q8wqwqkvptnxd00000gn/T/ExploreGraph.leiyang.20160305.194841.544439/step-0-mapper_part-00000\n",
      "writing to /var/folders/tx/5ldq67q511q8wqwqkvptnxd00000gn/T/ExploreGraph.leiyang.20160305.194841.544439/step-0-reducer_part-00000\n",
      "Counters from step 1:\n",
      "  (no counters found)\n",
      "Moving /var/folders/tx/5ldq67q511q8wqwqkvptnxd00000gn/T/ExploreGraph.leiyang.20160305.194841.544439/step-0-reducer_part-00000 -> /var/folders/tx/5ldq67q511q8wqwqkvptnxd00000gn/T/ExploreGraph.leiyang.20160305.194841.544439/output/part-00000\n",
      "Streaming final output from /var/folders/tx/5ldq67q511q8wqwqkvptnxd00000gn/T/ExploreGraph.leiyang.20160305.194841.544439/output\n",
      "removing tmp directory /var/folders/tx/5ldq67q511q8wqwqkvptnxd00000gn/T/ExploreGraph.leiyang.20160305.194841.544439\n",
      "\n",
      "Summary stats of the graph:\n",
      "\"total nodes: \"\t8271\n",
      "\"total links: \"\t61134\n",
      "\"average in degree: \"\t7.391367428364164\n",
      "\"average out degree: \"\t7.391367428364164\n",
      "\"dist of in-degree: \"\t{\"1\": 1421, \"2\": 1127, \"3\": 906, \"4\": 783, \"5\": 637, \"6\": 488, \"7\": 429, \"8\": 309, \"9\": 296, \"10\": 254, \"11\": 200, \"12\": 158, \"13\": 135, \"14\": 111, \"15\": 108, \"16\": 104, \"17\": 70, \"18\": 70, \"19\": 62, \"20\": 39, \"21\": 51, \"22\": 34, \"23\": 40, \"24\": 42, \"25\": 26, \"26\": 31, \"27\": 26, \"28\": 17, \"29\": 21, \"30\": 20, \"31\": 14, \"32\": 21, \"33\": 14, \"34\": 11, \"35\": 10, \"36\": 15, \"37\": 13, \"38\": 13, \"39\": 7, \"40\": 6, \"41\": 8, \"42\": 8, \"43\": 10, \"44\": 7, \"45\": 4, \"46\": 8, \"47\": 2, \"48\": 5, \"49\": 4, \"50\": 5, \"51\": 7, \"52\": 3, \"53\": 6, \"54\": 2, \"55\": 4, \"56\": 5, \"57\": 3, \"58\": 2, \"59\": 3, \"60\": 2, \"61\": 2, \"62\": 3, \"63\": 1, \"64\": 1, \"65\": 2, \"66\": 2, \"68\": 3, \"71\": 1, \"76\": 2, \"78\": 2, \"83\": 1, \"87\": 1, \"88\": 1, \"164\": 1, \"90\": 1, \"143\": 2, \"93\": 1, \"95\": 1, \"131\": 1, \"196\": 1, \"110\": 2, \"117\": 1, \"127\": 1}\n",
      "\"dist of out-degree: \"\t{\"1\": 1421, \"2\": 1127, \"3\": 906, \"4\": 783, \"5\": 637, \"6\": 488, \"7\": 429, \"8\": 309, \"9\": 296, \"10\": 254, \"11\": 200, \"12\": 158, \"13\": 135, \"14\": 111, \"15\": 108, \"16\": 104, \"17\": 70, \"18\": 70, \"19\": 62, \"20\": 39, \"21\": 51, \"22\": 34, \"23\": 40, \"24\": 42, \"25\": 26, \"26\": 31, \"27\": 26, \"28\": 17, \"29\": 21, \"30\": 20, \"31\": 14, \"32\": 21, \"33\": 14, \"34\": 11, \"35\": 10, \"36\": 15, \"37\": 13, \"38\": 13, \"39\": 7, \"40\": 6, \"41\": 8, \"42\": 8, \"43\": 10, \"44\": 7, \"45\": 4, \"46\": 8, \"47\": 2, \"48\": 5, \"49\": 4, \"50\": 5, \"51\": 7, \"52\": 3, \"53\": 6, \"54\": 2, \"55\": 4, \"56\": 5, \"57\": 3, \"58\": 2, \"59\": 3, \"60\": 2, \"61\": 2, \"62\": 3, \"63\": 1, \"64\": 1, \"65\": 2, \"66\": 2, \"68\": 3, \"71\": 1, \"76\": 2, \"78\": 2, \"83\": 1, \"87\": 1, \"88\": 1, \"164\": 1, \"90\": 1, \"143\": 2, \"93\": 1, \"95\": 1, \"131\": 1, \"196\": 1, \"110\": 2, \"117\": 1, \"127\": 1}\n"
     ]
    }
   ],
   "source": [
    "!python ExploreGraph.py synNet.txt -r 'inline' > sumstats\n",
    "!echo '\\nSummary stats of the graph:'\n",
    "!cat sumstats"
   ]
  },
  {
   "cell_type": "markdown",
   "metadata": {},
   "source": [
    "###Node degree distribution"
   ]
  },
  {
   "cell_type": "code",
   "execution_count": 52,
   "metadata": {
    "collapsed": false
   },
   "outputs": [
    {
     "data": {
      "image/png": "[encoded data removed]",
      "text/plain": [
       "<matplotlib.figure.Figure at 0x108c300d0>"
      ]
     },
     "metadata": {},
     "output_type": "display_data"
    }
   ],
   "source": [
    "%matplotlib inline\n",
    "import matplotlib.pyplot as plt\n",
    "from math import log10\n",
    "\n",
    "in_deg = {\"1\": 1421, \"2\": 1127, \"3\": 906, \"4\": 783, \"5\": 637, \"6\": 488, \"7\": 429, \"8\": 309, \"9\": 296, \"10\": 254, \"11\": 200, \"12\": 158, \"13\": 135, \"14\": 111, \"15\": 108, \"16\": 104, \"17\": 70, \"18\": 70, \"19\": 62, \"20\": 39, \"21\": 51, \"22\": 34, \"23\": 40, \"24\": 42, \"25\": 26, \"26\": 31, \"27\": 26, \"28\": 17, \"29\": 21, \"30\": 20, \"31\": 14, \"32\": 21, \"33\": 14, \"34\": 11, \"35\": 10, \"36\": 15, \"37\": 13, \"38\": 13, \"39\": 7, \"40\": 6, \"41\": 8, \"42\": 8, \"43\": 10, \"44\": 7, \"45\": 4, \"46\": 8, \"47\": 2, \"48\": 5, \"49\": 4, \"50\": 5, \"51\": 7, \"52\": 3, \"53\": 6, \"54\": 2, \"55\": 4, \"56\": 5, \"57\": 3, \"58\": 2, \"59\": 3, \"60\": 2, \"61\": 2, \"62\": 3, \"63\": 1, \"64\": 1, \"65\": 2, \"66\": 2, \"68\": 3, \"71\": 1, \"76\": 2, \"78\": 2, \"83\": 1, \"87\": 1, \"88\": 1, \"164\": 1, \"90\": 1, \"143\": 2, \"93\": 1, \"95\": 1, \"131\": 1, \"196\": 1, \"110\": 2, \"117\": 1, \"127\": 1}\n",
    "out_deg = {\"1\": 1421, \"2\": 1127, \"3\": 906, \"4\": 783, \"5\": 637, \"6\": 488, \"7\": 429, \"8\": 309, \"9\": 296, \"10\": 254, \"11\": 200, \"12\": 158, \"13\": 135, \"14\": 111, \"15\": 108, \"16\": 104, \"17\": 70, \"18\": 70, \"19\": 62, \"20\": 39, \"21\": 51, \"22\": 34, \"23\": 40, \"24\": 42, \"25\": 26, \"26\": 31, \"27\": 26, \"28\": 17, \"29\": 21, \"30\": 20, \"31\": 14, \"32\": 21, \"33\": 14, \"34\": 11, \"35\": 10, \"36\": 15, \"37\": 13, \"38\": 13, \"39\": 7, \"40\": 6, \"41\": 8, \"42\": 8, \"43\": 10, \"44\": 7, \"45\": 4, \"46\": 8, \"47\": 2, \"48\": 5, \"49\": 4, \"50\": 5, \"51\": 7, \"52\": 3, \"53\": 6, \"54\": 2, \"55\": 4, \"56\": 5, \"57\": 3, \"58\": 2, \"59\": 3, \"60\": 2, \"61\": 2, \"62\": 3, \"63\": 1, \"64\": 1, \"65\": 2, \"66\": 2, \"68\": 3, \"71\": 1, \"76\": 2, \"78\": 2, \"83\": 1, \"87\": 1, \"88\": 1, \"164\": 1, \"90\": 1, \"143\": 2, \"93\": 1, \"95\": 1, \"131\": 1, \"196\": 1, \"110\": 2, \"117\": 1, \"127\": 1}\n",
    "# plot the in/out distribution histogram\n",
    "f, (ax1, ax2) = plt.subplots(1, 2, sharey=True)\n",
    "f.set_size_inches([15,5])\n",
    "ax1.plot([log10(int(k)) for k in in_deg.keys()], [log10(x) for x in in_deg.values()], 'b.')\n",
    "ax1.set_title('in-degree distribution')\n",
    "ax1.set_ylabel('Count')\n",
    "ax1.set_xlabel('log10(in-deg)')\n",
    "ax2.plot([log10(int(k)) for k in out_deg.keys()], [log10(x) for x in out_deg.values()], 'b.')\n",
    "ax2.set_title('out-degree distribution')\n",
    "ax2.set_xlabel('log10(out-deg)')\n",
    "plt.show()"
   ]
  },
  {
   "cell_type": "markdown",
   "metadata": {},
   "source": [
    "###HW 7.2: Shortest path graph distances (NLTK synonyms)\n",
    "\n",
    "Write (reuse your code from 7.0) an MRJob class to find shortest path graph distances, \n",
    "and apply it to the NLTK synonyms network dataset. \n",
    "\n",
    "Proof your code's function by running the job:\n",
    "\n",
    "- shortest path starting at \"walk\" (index=7827) and ending at \"make\" (index=536),\n",
    "\n",
    "and showing you code's output. Once again, your output should include the path and the distance.\n",
    "\n",
    "As you develop your code, please be sure to run it locally first (though on the whole dataset). \n",
    "Once you have gotten you code to run locally, deploy it on AWS as a systems test\n",
    "in preparation for our next dataset (which will require AWS)."
   ]
  },
  {
   "cell_type": "code",
   "execution_count": 160,
   "metadata": {
    "collapsed": false
   },
   "outputs": [
    {
     "name": "stdout",
     "output_type": "stream",
     "text": [
      "2016-03-05 19:08:13.838490: BFS started between node 7827 and node 536 on unweighted graph synNet.txt ...\n",
      "No handlers could be found for logger \"mrjob.conf\"\n",
      "2016-03-05 19:08:14.107295: starting initialization job ...\n",
      "2016-03-05 19:08:44.818035: moving results for next iteration ...\n",
      "2016-03-05 19:08:46.541777: running iteration 1 ...\n",
      "2016-03-05 19:09:16.725373: checking stopping criterion ...\n",
      "2016-03-05 19:09:45.118749: destination not reached yet.\n",
      "2016-03-05 19:09:45.118792: moving results for next iteration ...\n",
      "2016-03-05 19:09:48.578630: running iteration 2 ...\n",
      "2016-03-05 19:10:19.467043: checking stopping criterion ...\n",
      "2016-03-05 19:10:49.079862: destination is reached, retrieving path ...\n",
      "2016-03-05 19:10:49.079904: clearing files ...\n",
      "2016-03-05 19:10:52.373540: traversing completes in 2.6 minutes!\n",
      "\n",
      "2016-03-05 19:10:52.373580: shortest path: walk -> pass -> cleared -> make\n",
      "\n"
     ]
    }
   ],
   "source": [
    "##### execute RunBFS.py from HW 7.0 #####\n",
    "!python RunBFS.py -s 7827 -d 536 -m 'hadoop' -g 'hdfs:///user/leiyang/synNet.txt' -w 0 -i 'synNet_indices.txt'"
   ]
  },
  {
   "cell_type": "markdown",
   "metadata": {},
   "source": [
    "###Main dataset 2: English Wikipedia\n",
    "\n",
    "For the remainder of this assignment you will explore the English Wikipedia hyperlink network.\n",
    "The dataset is built from the Sept. 2015 XML snapshot of English Wikipedia.\n",
    "For this directed network, a link between articles: \n",
    "\n",
    "A -> B\n",
    "\n",
    "is defined by the existence of a hyperlink in A pointing to B.\n",
    "This network also exists in the indexed format:\n",
    "\n",
    "- s3://ucb-mids-mls-networks/wikipedia/all-pages-indexed-out.txt\n",
    "- s3://ucb-mids-mls-networks/wikipedia/all-pages-indexed-in.txt\n",
    "- s3://ucb-mids-mls-networks/wikipedia/indices.txt\n",
    "\n",
    "On under the Data Subfolder for HW7 on Dropbox with the same file names\n",
    "\n",
    "but has an index with more detailed data:\n",
    "\n",
    "(article name) \\t (index) \\t (in degree) \\t (out degree)\n",
    "\n",
    "In the dictionary, target nodes are keys, link weights are values .\n",
    "Here, a weight indicates the number of time a page links to another.\n",
    "However, for the sake of this assignment, treat this an unweighted network,\n",
    "and set all weights to 1 upon data input."
   ]
  },
  {
   "cell_type": "markdown",
   "metadata": {},
   "source": [
    "###HW 7.3: Exploratory data analysis (Wikipedia)\n",
    "\n",
    "Using MRJob, explore the Wikipedia network data on the AWS cloud. Reuse your code from HW 7.1---does is scale well? \n",
    "Be cautioned that Wikipedia is a directed network, where links are not symmetric. \n",
    "So, even though a node may be linked to, it will not appear as a primary record itself if it has no out-links. \n",
    "This means that you may have to ADJUST your code (depending on its design). \n",
    "To be sure of your code's functionality in this context, run a systems test on the directed_toy.txt network.\n"
   ]
  },
  {
   "cell_type": "code",
   "execution_count": 1,
   "metadata": {
    "collapsed": false,
    "scrolled": false
   },
   "outputs": [
    {
     "name": "stdout",
     "output_type": "stream",
     "text": [
      "[hadoop@ip-172-31-1-180 lei_wiki]$ ls -l\r\n",
      "total 2041476\r\n",
      "-rw-rw-r-- 1 hadoop hadoop 2090459616 Oct 22 02:29 all-pages-indexed-out.txt\r\n",
      "-rw-rw-r-- 1 hadoop hadoop       2655 Mar  1 01:57 ExploreGraph.py\r\n",
      "[hadoop@ip-172-31-1-180 lei_wiki]$ python ExploreGraph.py 'all-pages-indexed-out.txt' -r 'hadoop' --cleanup 'NONE' > wiki_sumstats\r\n",
      "using configs in /home/hadoop/.mrjob.conf\r\n",
      "creating tmp directory /tmp/ExploreGraph.hadoop.20160301.015847.095270\r\n",
      "writing wrapper script to /tmp/ExploreGraph.hadoop.20160301.015847.095270/setup-wrapper.sh\r\n",
      "Using Hadoop version 2.7.1\r\n",
      "Copying local files into hdfs:///user/hadoop/tmp/mrjob/ExploreGraph.hadoop.20160301.015847.095270/files/\r\n",
      "HADOOP: packageJobJar: [] [/usr/lib/hadoop/hadoop-streaming-2.7.1-amzn-0.jar] /tmp/streamjob2321478639392700904.jar tmpDir=null\r\n",
      "HADOOP: Connecting to ResourceManager at ip-172-31-1-180.ec2.internal/172.31.1.180:8032\r\n",
      "HADOOP: Connecting to ResourceManager at ip-172-31-1-180.ec2.internal/172.31.1.180:8032\r\n",
      "HADOOP: MetricsConfigRecord disabledInCluster: false instanceEngineCycleSec: 60 clusterEngineCycleSec: 60 disableClusterEngine: false maxMemoryMb: 3072 maxInstanceCount: 500 lastModified: 1456796497690\r\n",
      "HADOOP: Created MetricsSaver j-273F2CEVES2O8:i-2bfc5aaf:RunJar:10200 period:60 /mnt/var/em/raw/i-2bfc5aaf_20160301_RunJar_10200_raw.bin\r\n",
      "HADOOP: Loaded native gpl library\r\n",
      "HADOOP: Successfully loaded & initialized native-lzo library [hadoop-lzo rev 02f444f0932ea7710dcc4bcdc1aa7ca55adf48c9]\r\n",
      "HADOOP: Total input paths to process : 1\r\n",
      "HADOOP: number of splits:16\r\n",
      "HADOOP: Submitting tokens for job: job_1456796483811_0001\r\n",
      "HADOOP: Submitted application application_1456796483811_0001\r\n",
      "HADOOP: The url to track the job: http://ip-172-31-1-180.ec2.internal:20888/proxy/application_1456796483811_0001/\r\n",
      "HADOOP: Running job: job_1456796483811_0001\r\n",
      "HADOOP: Job job_1456796483811_0001 running in uber mode : false\r\n",
      "HADOOP:  map 0% reduce 0%\r\n",
      "HADOOP:  map 1% reduce 0%\r\n",
      "HADOOP:  map 2% reduce 0%\r\n",
      "HADOOP:  map 3% reduce 0%\r\n",
      "HADOOP:  map 4% reduce 0%\r\n",
      "HADOOP:  map 5% reduce 0%\r\n",
      "HADOOP:  map 6% reduce 0%\r\n",
      "HADOOP:  map 7% reduce 0%\r\n",
      "HADOOP:  map 8% reduce 0%\r\n",
      "HADOOP:  map 9% reduce 0%\r\n",
      "HADOOP:  map 10% reduce 0%\r\n",
      "HADOOP:  map 11% reduce 0%\r\n",
      "HADOOP:  map 12% reduce 0%\r\n",
      "HADOOP:  map 13% reduce 0%\r\n",
      "HADOOP:  map 14% reduce 0%\r\n",
      "HADOOP:  map 15% reduce 0%\r\n",
      "HADOOP:  map 16% reduce 0%\r\n",
      "HADOOP:  map 17% reduce 0%\r\n",
      "HADOOP:  map 18% reduce 0%\r\n",
      "HADOOP:  map 19% reduce 0%\r\n",
      "HADOOP:  map 20% reduce 0%\r\n",
      "HADOOP:  map 21% reduce 0%\r\n",
      "HADOOP:  map 22% reduce 0%\r\n",
      "HADOOP:  map 23% reduce 0%\r\n",
      "HADOOP:  map 24% reduce 0%\r\n",
      "HADOOP:  map 25% reduce 0%\r\n",
      "HADOOP:  map 26% reduce 0%\r\n",
      "HADOOP:  map 27% reduce 0%\r\n",
      "HADOOP:  map 28% reduce 0%\r\n",
      "HADOOP:  map 29% reduce 0%\r\n",
      "HADOOP:  map 30% reduce 0%\r\n",
      "HADOOP:  map 31% reduce 0%\r\n",
      "HADOOP:  map 32% reduce 0%\r\n",
      "HADOOP:  map 34% reduce 0%\r\n",
      "HADOOP:  map 35% reduce 0%\r\n",
      "HADOOP:  map 36% reduce 0%\r\n",
      "HADOOP:  map 37% reduce 0%\r\n",
      "HADOOP:  map 38% reduce 0%\r\n",
      "HADOOP:  map 39% reduce 0%\r\n",
      "HADOOP:  map 40% reduce 0%\r\n",
      "HADOOP:  map 41% reduce 0%\r\n",
      "HADOOP:  map 42% reduce 0%\r\n",
      "HADOOP:  map 43% reduce 0%\r\n",
      "HADOOP:  map 44% reduce 0%\r\n",
      "HADOOP:  map 45% reduce 0%\r\n",
      "HADOOP:  map 46% reduce 0%\r\n",
      "HADOOP:  map 47% reduce 0%\r\n",
      "HADOOP:  map 48% reduce 0%\r\n",
      "HADOOP:  map 49% reduce 0%\r\n",
      "HADOOP:  map 50% reduce 0%\r\n",
      "HADOOP:  map 51% reduce 0%\r\n",
      "HADOOP:  map 52% reduce 0%\r\n",
      "HADOOP:  map 54% reduce 0%\r\n",
      "HADOOP:  map 55% reduce 0%\r\n",
      "HADOOP:  map 56% reduce 0%\r\n",
      "HADOOP:  map 58% reduce 0%\r\n",
      "HADOOP:  map 59% reduce 0%\r\n",
      "HADOOP:  map 61% reduce 0%\r\n",
      "HADOOP:  map 63% reduce 0%\r\n",
      "HADOOP:  map 65% reduce 0%\r\n",
      "HADOOP:  map 67% reduce 0%\r\n",
      "HADOOP:  map 69% reduce 0%\r\n",
      "HADOOP:  map 71% reduce 0%\r\n",
      "HADOOP:  map 72% reduce 0%\r\n",
      "HADOOP:  map 73% reduce 0%\r\n",
      "HADOOP:  map 73% reduce 4%\r\n",
      "HADOOP:  map 75% reduce 4%\r\n",
      "HADOOP:  map 75% reduce 17%\r\n",
      "HADOOP:  map 76% reduce 17%\r\n",
      "HADOOP:  map 77% reduce 17%\r\n",
      "HADOOP:  map 78% reduce 17%\r\n",
      "HADOOP:  map 79% reduce 17%\r\n",
      "HADOOP:  map 80% reduce 17%\r\n",
      "HADOOP:  map 81% reduce 17%\r\n",
      "HADOOP:  map 82% reduce 17%\r\n",
      "HADOOP:  map 83% reduce 17%\r\n",
      "HADOOP:  map 84% reduce 17%\r\n",
      "HADOOP:  map 85% reduce 17%\r\n",
      "HADOOP:  map 86% reduce 17%\r\n",
      "HADOOP:  map 87% reduce 17%\r\n",
      "HADOOP:  map 88% reduce 17%\r\n",
      "HADOOP:  map 89% reduce 17%\r\n",
      "HADOOP:  map 90% reduce 17%\r\n",
      "HADOOP:  map 92% reduce 17%\r\n",
      "HADOOP:  map 94% reduce 17%\r\n",
      "HADOOP:  map 95% reduce 17%\r\n",
      "HADOOP:  map 97% reduce 17%\r\n",
      "HADOOP:  map 98% reduce 17%\r\n",
      "HADOOP:  map 100% reduce 17%\r\n",
      "HADOOP:  map 100% reduce 27%\r\n",
      "HADOOP:  map 100% reduce 33%\r\n",
      "HADOOP:  map 100% reduce 67%\r\n",
      "HADOOP:  map 100% reduce 68%\r\n",
      "HADOOP:  map 100% reduce 69%\r\n",
      "HADOOP:  map 100% reduce 70%\r\n",
      "HADOOP:  map 100% reduce 71%\r\n",
      "HADOOP:  map 100% reduce 72%\r\n",
      "HADOOP:  map 100% reduce 73%\r\n",
      "HADOOP:  map 100% reduce 74%\r\n",
      "HADOOP:  map 100% reduce 75%\r\n",
      "HADOOP:  map 100% reduce 76%\r\n",
      "HADOOP:  map 100% reduce 77%\r\n",
      "HADOOP:  map 100% reduce 78%\r\n",
      "HADOOP:  map 100% reduce 79%\r\n",
      "HADOOP:  map 100% reduce 80%\r\n",
      "HADOOP:  map 100% reduce 81%\r\n",
      "HADOOP:  map 100% reduce 82%\r\n",
      "HADOOP:  map 100% reduce 83%\r\n",
      "HADOOP:  map 100% reduce 84%\r\n",
      "HADOOP:  map 100% reduce 85%\r\n",
      "HADOOP:  map 100% reduce 86%\r\n",
      "HADOOP:  map 100% reduce 87%\r\n",
      "HADOOP:  map 100% reduce 88%\r\n",
      "HADOOP:  map 100% reduce 89%\r\n",
      "HADOOP:  map 100% reduce 90%\r\n",
      "HADOOP:  map 100% reduce 91%\r\n",
      "HADOOP:  map 100% reduce 92%\r\n",
      "HADOOP:  map 100% reduce 93%\r\n",
      "HADOOP:  map 100% reduce 94%\r\n",
      "HADOOP:  map 100% reduce 95%\r\n",
      "HADOOP:  map 100% reduce 96%\r\n",
      "HADOOP:  map 100% reduce 97%\r\n",
      "HADOOP:  map 100% reduce 98%\r\n",
      "HADOOP:  map 100% reduce 99%\r\n",
      "HADOOP:  map 100% reduce 100%\r\n",
      "HADOOP: Job job_1456796483811_0001 completed successfully\r\n",
      "HADOOP: Counters: 51\r\n",
      "HADOOP: \tFile System Counters\r\n",
      "HADOOP: \t\tFILE: Number of bytes read=551813329\r\n",
      "HADOOP: \t\tFILE: Number of bytes written=901418328\r\n",
      "HADOOP: \t\tFILE: Number of read operations=0\r\n",
      "HADOOP: \t\tFILE: Number of large read operations=0\r\n",
      "HADOOP: \t\tFILE: Number of write operations=0\r\n",
      "HADOOP: \t\tHDFS: Number of bytes read=2091445696\r\n",
      "HADOOP: \t\tHDFS: Number of bytes written=76840\r\n",
      "HADOOP: \t\tHDFS: Number of read operations=51\r\n",
      "HADOOP: \t\tHDFS: Number of large read operations=0\r\n",
      "HADOOP: \t\tHDFS: Number of write operations=2\r\n",
      "HADOOP: \tJob Counters\r\n",
      "HADOOP: \t\tKilled map tasks=3\r\n",
      "HADOOP: \t\tLaunched map tasks=19\r\n",
      "HADOOP: \t\tLaunched reduce tasks=1\r\n",
      "HADOOP: \t\tData-local map tasks=14\r\n",
      "HADOOP: \t\tRack-local map tasks=5\r\n",
      "HADOOP: \t\tTotal time spent by all maps in occupied slots (ms)=415795488\r\n",
      "HADOOP: \t\tTotal time spent by all reduces in occupied slots (ms)=85978592\r\n",
      "HADOOP: \t\tTotal time spent by all map tasks (ms)=17324812\r\n",
      "HADOOP: \t\tTotal time spent by all reduce tasks (ms)=2686831\r\n",
      "HADOOP: \t\tTotal vcore-seconds taken by all map tasks=17324812\r\n",
      "HADOOP: \t\tTotal vcore-seconds taken by all reduce tasks=2686831\r\n",
      "HADOOP: \t\tTotal megabyte-seconds taken by all map tasks=13305455616\r\n",
      "HADOOP: \t\tTotal megabyte-seconds taken by all reduce tasks=2751314944\r\n",
      "HADOOP: \tMap-Reduce Framework\r\n",
      "HADOOP: \t\tMap input records=5781290\r\n",
      "HADOOP: \t\tMap output records=147895347\r\n",
      "HADOOP: \t\tMap output bytes=2566288353\r\n",
      "HADOOP: \t\tMap output materialized bytes=347440319\r\n",
      "HADOOP: \t\tInput split bytes=3040\r\n",
      "HADOOP: \t\tCombine input records=210009639\r\n",
      "HADOOP: \t\tCombine output records=88093113\r\n",
      "HADOOP: \t\tReduce input groups=15192277\r\n",
      "HADOOP: \t\tReduce shuffle bytes=347440319\r\n",
      "HADOOP: \t\tReduce input records=25978821\r\n",
      "HADOOP: \t\tReduce output records=6\r\n",
      "HADOOP: \t\tSpilled Records=150207405\r\n",
      "HADOOP: \t\tShuffled Maps =16\r\n",
      "HADOOP: \t\tFailed Shuffles=0\r\n",
      "HADOOP: \t\tMerged Map outputs=16\r\n",
      "HADOOP: \t\tGC time elapsed (ms)=22362\r\n",
      "HADOOP: \t\tCPU time spent (ms)=10309990\r\n",
      "HADOOP: \t\tPhysical memory (bytes) snapshot=6520324096\r\n",
      "HADOOP: \t\tVirtual memory (bytes) snapshot=22371188736\r\n",
      "HADOOP: \t\tTotal committed heap usage (bytes)=5087166464\r\n",
      "HADOOP: \tShuffle Errors\r\n",
      "HADOOP: \t\tBAD_ID=0\r\n",
      "HADOOP: \t\tCONNECTION=0\r\n",
      "HADOOP: \t\tIO_ERROR=0\r\n",
      "HADOOP: \t\tWRONG_LENGTH=0\r\n",
      "HADOOP: \t\tWRONG_MAP=0\r\n",
      "HADOOP: \t\tWRONG_REDUCE=0\r\n",
      "HADOOP: \tFile Input Format Counters\r\n",
      "HADOOP: \t\tBytes Read=2091442656\r\n",
      "HADOOP: \tFile Output Format Counters\r\n",
      "HADOOP: \t\tBytes Written=76840\r\n",
      "HADOOP: Output directory: hdfs:///user/hadoop/tmp/mrjob/ExploreGraph.hadoop.20160301.015847.095270/output\r\n",
      "Counters from step 1:\r\n",
      "  (no counters found)\r\n",
      "Streaming final output from hdfs:///user/hadoop/tmp/mrjob/ExploreGraph.hadoop.20160301.015847.095270/output\r\n",
      "[hadoop@ip-172-31-1-180 lei_wiki]$\r\n"
     ]
    }
   ],
   "source": [
    "#!python ExploreGraph.py 'all-pages-indexed-out.txt' -r 'hadoop' --cleanup 'NONE' > wiki_sumstats\n",
    "!cat wiki_explore_emr.txt"
   ]
  },
  {
   "cell_type": "code",
   "execution_count": 18,
   "metadata": {
    "collapsed": false
   },
   "outputs": [
    {
     "name": "stdout",
     "output_type": "stream",
     "text": [
      "\"total nodes: \"\t15192277\n",
      "\"total links: \"\t142114057\n",
      "\"average in degree: \"\t9.354361890584276\n",
      "\"average out degree: \"\t9.354361890584276\n"
     ]
    },
    {
     "data": {
      "image/png": "[encoded data removed]",
      "text/plain": [
       "<matplotlib.figure.Figure at 0x105eaf150>"
      ]
     },
     "metadata": {},
     "output_type": "display_data"
    }
   ],
   "source": [
    "%matplotlib inline\n",
    "import matplotlib.pyplot as plt\n",
    "from math import log10\n",
    "\n",
    "with open('wiki_sumstats_emr.txt', 'r') as f:\n",
    "    lines = f.readlines()\n",
    "for line in lines:\n",
    "    if 'dist of' not in line:\n",
    "        print line.strip()\n",
    "    else:\n",
    "        dc, dic = line.split('\\t')\n",
    "        cmd = '%s = %s' %('in_deg' if 'in' in dc else 'out_deg', dic)\n",
    "        exec cmd\n",
    "        \n",
    "#plt.plot([log10(int(k)) for k in degrees.keys()], degrees.values(), 'r.')\n",
    "#plt.xlabel('log(Node Degree)')\n",
    "#plt.ylabel('Count')\n",
    "#plt.show()\n",
    "\n",
    "# plot the in/out distribution histogram\n",
    "f, (ax1, ax2) = plt.subplots(1, 2, sharey=True)\n",
    "f.set_size_inches([15,5])\n",
    "ax1.plot([0 if k=='0' else log10(int(k)) for k in in_deg.keys()], \n",
    "         [0 if i=='0' else log10(i) for i in in_deg.values()], 'r.')\n",
    "ax1.set_title('in-degree distribution')\n",
    "ax1.set_ylabel('log10(Count)')\n",
    "ax1.set_xlabel('log10(in-deg)')\n",
    "ax2.plot([0 if k=='0' else log10(int(k)) for k in out_deg.keys()], \n",
    "         [0 if k=='0' else log10(k) for k in out_deg.values()], 'b.')\n",
    "ax2.set_title('out-degree distribution')\n",
    "ax2.set_xlabel('log10(out-deg)')\n",
    "plt.show()"
   ]
  },
  {
   "cell_type": "code",
   "execution_count": 25,
   "metadata": {
    "collapsed": false
   },
   "outputs": [
    {
     "name": "stdout",
     "output_type": "stream",
     "text": [
      "1950499\n"
     ]
    }
   ],
   "source": [
    "print in_deg['2']\n"
   ]
  },
  {
   "cell_type": "markdown",
   "metadata": {},
   "source": [
    "###HW 7.4: Shortest path graph distances (Wikipedia)\n",
    "\n",
    "Using MRJob, find shortest path graph distances in the Wikipedia network on the AWS cloud.\n",
    "Reuse your code from 7.2, but once again be warned of Wikipedia being a directed network.\n",
    "To be sure of your code's functionality in this context, run a systems test on the directed_toy.txt network.\n",
    "\n",
    "When running your code on the Wikipedia network, proof its function by running the job:\n",
    "\n",
    "- shortest path from \"Ireland\" (index=6176135) to \"University of California, Berkeley\" (index=13466359),\n",
    "\n",
    "and show your code's output.\n",
    "\n",
    "Once your code is running, find some other shortest paths and report your results.\n"
   ]
  },
  {
   "cell_type": "markdown",
   "metadata": {},
   "source": [
    "###BFS on Wikipedia dataset"
   ]
  },
  {
   "cell_type": "code",
   "execution_count": 94,
   "metadata": {
    "collapsed": false
   },
   "outputs": [
    {
     "name": "stdout",
     "output_type": "stream",
     "text": [
      "Overwriting FindWikiShortestPath.sh\n"
     ]
    }
   ],
   "source": [
    "#!python RunBFS.py -s 6176135 -d 13466359 -m 'hadoop' -g 'hdfs:///user/leiyang/all-pages-indexed-out.txt' -w 0 -i 'wiki_indices.txt'\n",
    "#!cat wiki_log"
   ]
  },
  {
   "cell_type": "markdown",
   "metadata": {},
   "source": [
    "###HW 7.5: Conceptual exercise: Largest single-source network distances\n",
    "\n",
    "Suppose you wanted to find the largest network distance from a single source,\n",
    "i.e., a node that is the furthest (but still reachable) from a single source.\n",
    "\n",
    "How would you implement this task? \n",
    "How is this different from finding the shortest path graph distances?\n",
    "\n",
    "Is this task more difficult to implement than the shortest path distance?\n",
    "\n",
    "As you respond, please comment on program structure, runtimes, iterations, general system requirements, etc...\n",
    "\n",
    "###Answer:\n",
    "- change the distance comparison step, instead of keeping smaller distance, choose larger distance here"
   ]
  },
  {
   "cell_type": "code",
   "execution_count": null,
   "metadata": {
    "collapsed": true
   },
   "outputs": [],
   "source": []
  },
  {
   "cell_type": "code",
   "execution_count": null,
   "metadata": {
    "collapsed": true
   },
   "outputs": [],
   "source": []
  },
  {
   "cell_type": "markdown",
   "metadata": {},
   "source": [
    "###HW 7.6 (optional): Computational exercise: Largest single-source network distances \n",
    "\n",
    "Using MRJob, write a code to find the largest graph distance and distance-maximizing nodes from a single-source.\n",
    "Test your code first on the toy networks and synonyms network to proof its function."
   ]
  },
  {
   "cell_type": "code",
   "execution_count": null,
   "metadata": {
    "collapsed": true
   },
   "outputs": [],
   "source": []
  },
  {
   "cell_type": "code",
   "execution_count": null,
   "metadata": {
    "collapsed": true
   },
   "outputs": [],
   "source": []
  },
  {
   "cell_type": "code",
   "execution_count": null,
   "metadata": {
    "collapsed": true
   },
   "outputs": [],
   "source": []
  },
  {
   "cell_type": "markdown",
   "metadata": {},
   "source": [
    "###stop yarn, hdfs, and job history"
   ]
  },
  {
   "cell_type": "code",
   "execution_count": 9,
   "metadata": {
    "collapsed": false
   },
   "outputs": [
    {
     "name": "stdout",
     "output_type": "stream",
     "text": [
      "stopping yarn daemons\n",
      "stopping resourcemanager\n",
      "localhost: stopping nodemanager\n",
      "localhost: nodemanager did not stop gracefully after 5 seconds: killing with kill -9\n",
      "no proxyserver to stop\n",
      "Stopping namenodes on [localhost]\n",
      "localhost: stopping namenode\n",
      "localhost: stopping datanode\n",
      "Stopping secondary namenodes [0.0.0.0]\n",
      "0.0.0.0: stopping secondarynamenode\n",
      "stopping historyserver\n"
     ]
    }
   ],
   "source": [
    "!/usr/local/Cellar/hadoop/2*/sbin/stop-yarn.sh\n",
    "!/usr/local/Cellar/hadoop/2*/sbin/stop-dfs.sh\n",
    "!/usr/local/Cellar/hadoop/2*/sbin/mr-jobhistory-daemon.sh --config /usr/local/Cellar/hadoop/2*/libexec/etc/hadoop/ stop historyserver "
   ]
  },
  {
   "cell_type": "markdown",
   "metadata": {},
   "source": [
    "###start yarn, hdfs, and job history"
   ]
  },
  {
   "cell_type": "code",
   "execution_count": 33,
   "metadata": {
    "collapsed": false
   },
   "outputs": [
    {
     "name": "stdout",
     "output_type": "stream",
     "text": [
      "starting yarn daemons\n",
      "resourcemanager running as process 74978. Stop it first.\n",
      "localhost: nodemanager running as process 75080. Stop it first.\n",
      "Starting namenodes on [localhost]\n",
      "localhost: namenode running as process 75229. Stop it first.\n",
      "localhost: datanode running as process 75322. Stop it first.\n",
      "Starting secondary namenodes [0.0.0.0]\n",
      "0.0.0.0: secondarynamenode running as process 75441. Stop it first.\n",
      "historyserver running as process 75550. Stop it first.\n"
     ]
    }
   ],
   "source": [
    "!/usr/local/Cellar/hadoop/2*/sbin/start-yarn.sh\n",
    "!/usr/local/Cellar/hadoop/2*/sbin/start-dfs.sh\n",
    "!/usr/local/Cellar/hadoop/2*/sbin/mr-jobhistory-daemon.sh --config /usr/local/Cellar/hadoop/2*/libexec/etc/hadoop/ start historyserver "
   ]
  }
 ],
 "metadata": {
  "kernelspec": {
   "display_name": "Python 2",
   "language": "python",
   "name": "python2"
  },
  "language_info": {
   "codemirror_mode": {
    "name": "ipython",
    "version": 2
   },
   "file_extension": ".py",
   "mimetype": "text/x-python",
   "name": "python",
   "nbconvert_exporter": "python",
   "pygments_lexer": "ipython2",
   "version": "2.7.9"
  }
 },
 "nbformat": 4,
 "nbformat_minor": 0
}
