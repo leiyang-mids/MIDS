{
 "cells": [
  {
   "cell_type": "markdown",
   "metadata": {},
   "source": [
    "#DATASCI W261, Machine Learning at Scale\n",
    "--------\n",
    "####Assignement:  week \\#7\n",
    "####[Lei Yang](mailto:leiyang@berkeley.edu) | [Michael Kennedy](mailto:mkennedy@ischool.berkeley.edu) | [Natarajan Krishnaswami](mailto:natarajan@krishnaswami.org)\n",
    "####Due: 2016-03-10, 8AM PST"
   ]
  },
  {
   "cell_type": "markdown",
   "metadata": {
    "collapsed": true
   },
   "source": [
    "###General Description\n",
    "In this assignment you will explore networks and develop MRJob code for \n",
    "finding shortest path graph distances. To build up to large data \n",
    "you will develop your code on some very simple, toy networks.\n",
    "After this you will take your developed code forward and modify it and \n",
    "apply it to two larger datasets (performing EDA along the way).\n",
    "\n",
    "\n",
    "####Undirected toy network dataset\n",
    "\n",
    "In an undirected network all links are symmetric, \n",
    "i.e., for a pair of nodes 'A' and 'B,' both of the links:\n",
    "\n",
    "A -> B and B -> A\n",
    "\n",
    "will exist. \n",
    "\n",
    "The toy data are available in a sparse (stripes) representation:\n",
    "\n",
    "(node) \\t (dictionary of links)\n",
    "\n",
    "on AWS/Dropbox via the url:\n",
    "\n",
    "s3://ucb-mids-mls-networks/undirected_toy.txt\n",
    "\n",
    "On under the Data Subfolder for HW7 on Dropbox with the same file name\n",
    "\n",
    "In the dictionary, target nodes are keys, link weights are values \n",
    "(here, all weights are 1, i.e., the network is unweighted).\n",
    "\n",
    "\n",
    "####Directed toy network dataset\n",
    "\n",
    "In a directed network all links are not necessarily symmetric, \n",
    "i.e., for a pair of nodes 'A' and 'B,' it is possible for only one of:\n",
    "\n",
    "A -> B or B -> A\n",
    "\n",
    "to exist. \n",
    "\n",
    "These toy data are available in a sparse (stripes) representation:\n",
    "\n",
    "(node) \\t (dictionary of links)\n",
    "\n",
    "on AWS/Dropbox via the url:\n",
    "\n",
    "s3://ucb-mids-mls-networks/directed_toy.txt\n",
    "\n",
    "On under the Data Subfolder for HW7 on Dropbox with the same file name\n",
    "\n",
    "In the dictionary, target nodes are keys, link weights are values \n",
    "(here, all weights are 1, i.e., the network is unweighted).\n"
   ]
  },
  {
   "cell_type": "markdown",
   "metadata": {
    "collapsed": false,
    "scrolled": false
   },
   "source": [
    "###HW 7.0: Shortest path graph distances (toy networks)\n",
    "\n",
    "In this part of your assignment you will develop the base of your code for the week.\n",
    "\n",
    "Write MRJob classes to find shortest path graph distances, \n",
    "as described in the lectures. In addition to finding the distances, \n",
    "your code should also output a distance-minimizing path between the source and target.\n",
    "Work locally for this part of the assignment, and use \n",
    "both of the undirected and directed toy networks.\n",
    "\n",
    "To proof you code's function, run the following jobs\n",
    "\n",
    "- shortest path in the undirected network from node 1 to node 4\n",
    "\n",
    "Solution: 1,5,4 \n",
    "\n",
    "- shortest path in the directed network from node 1 to node 5\n",
    "\n",
    "Solution: 1,2,4,5\n",
    "\n",
    "and report your output---make sure it is correct!\n",
    "\n",
    "###One Iteration BFS Mrjob\n",
    "<img src=\"ShortestPathMapReduce.png\" alt=\"Drawing\" style=\"width: 550px;\"/>"
   ]
  },
  {
   "cell_type": "code",
   "execution_count": 29,
   "metadata": {
    "collapsed": false
   },
   "outputs": [
    {
     "name": "stdout",
     "output_type": "stream",
     "text": [
      "Overwriting ShortestPathIter.py\n"
     ]
    }
   ],
   "source": [
    "%%writefile ShortestPathIter.py\n",
    "from mrjob.job import MRJob\n",
    "from mrjob.step import MRStep\n",
    "\n",
    "\n",
    "class ShortestPathIter(MRJob):\n",
    "    DEFAULT_PROTOCOL = 'json'\n",
    "\n",
    "    def __init__(self, *args, **kwargs):\n",
    "        super(ShortestPathIter, self).__init__(*args, **kwargs)\n",
    "\n",
    "\n",
    "    def configure_options(self):\n",
    "        super(ShortestPathIter, self).configure_options()\n",
    "        self.add_passthrough_option(\n",
    "            '--source', dest='source', default='1', type='string',\n",
    "            help='source: source node (default 1)')\n",
    "        self.add_passthrough_option(\n",
    "            '--destination', dest='destination', default='1', type='string',\n",
    "            help='destination: destination node (default 1)')\n",
    "\n",
    "    def mapper(self, _, line):\n",
    "        nid, dic = line.strip().split('\\t', 1)\n",
    "        cmd = 'node = %s' %dic\n",
    "        exec cmd\n",
    "        # if the node structure is incomplete (first pass), add them\n",
    "        if 'dist' not in node:\n",
    "            node = {'adj':node, 'path':[]}\n",
    "            node['dist'] = 0 if self.options.source==nid else -1\n",
    "        # emit node\n",
    "        yield nid, node\n",
    "        # emit distances to reachable nodes\n",
    "        if node['dist'] >= 0:\n",
    "            for m in node['adj']:\n",
    "                yield m, {'dd':node['adj'][m] + node['dist'], 'pp':node['path']+[nid]}\n",
    "\n",
    "    def reducer(self, nid, value):        \n",
    "        dmin = float('inf')\n",
    "        path = node = None\n",
    "        # loop through all arrivals\n",
    "        for v in value:\n",
    "            if 'dist' in v:\n",
    "                node = v\n",
    "            elif v['dd'] < dmin:\n",
    "                dmin = v['dd']\n",
    "                path = v['pp']\n",
    "\n",
    "        # handle dangling node, we only care if it's destination\n",
    "        if not node:\n",
    "            if nid == self.options.destination:\n",
    "                node = {'adj':{}, 'dist':dmin, 'path':path}\n",
    "                self.increment_counter('weighted', 'dist_changed', 1)\n",
    "            else:\n",
    "                return\n",
    "        elif (node['dist'] == -1 and path) or dmin < node['dist']:\n",
    "            node['dist'], node['path'] = dmin, path\n",
    "            self.increment_counter('weighted', 'dist_changed', 1)\n",
    "\n",
    "        # emit for next iteration\n",
    "        yield nid, node\n",
    "\n",
    "    def steps(self):\n",
    "        jc = {\n",
    "            'mapreduce.job.maps': '2',\n",
    "            'mapreduce.job.reduces': '2',\n",
    "        }\n",
    "        return [MRStep(mapper=self.mapper\n",
    "                       , combiner=self.reducer\n",
    "                       , reducer=self.reducer\n",
    "                       , jobconf = jc\n",
    "                      )\n",
    "               ]\n",
    "\n",
    "if __name__ == '__main__':\n",
    "    ShortestPathIter.run()\n"
   ]
  },
  {
   "cell_type": "code",
   "execution_count": 23,
   "metadata": {
    "collapsed": false
   },
   "outputs": [],
   "source": [
    "##### unit test #####\n",
    "#!python ShortestPathIter.py undirected_toy.txt --source 1 --destination 4 -r 'hadoop'\n"
   ]
  },
  {
   "cell_type": "markdown",
   "metadata": {},
   "source": [
    "###MrJob to retrieve path"
   ]
  },
  {
   "cell_type": "code",
   "execution_count": 30,
   "metadata": {
    "collapsed": false
   },
   "outputs": [
    {
     "name": "stdout",
     "output_type": "stream",
     "text": [
      "Overwriting getPath.py\n"
     ]
    }
   ],
   "source": [
    "%%writefile getPath.py\n",
    "from mrjob.job import MRJob\n",
    "from mrjob.step import MRStep\n",
    "\n",
    "\n",
    "class getPath(MRJob):\n",
    "    DEFAULT_PROTOCOL = 'json'\n",
    "\n",
    "    def __init__(self, *args, **kwargs):\n",
    "        super(getPath, self).__init__(*args, **kwargs)\n",
    "\n",
    "    def configure_options(self):\n",
    "        super(getPath, self).configure_options()        \n",
    "        self.add_passthrough_option(\n",
    "            '--destination', dest='destination', default='1', type='string',\n",
    "            help='destination: destination node (default 1)')\n",
    "\n",
    "    def mapper_init(self):\n",
    "        self.path = None\n",
    "\n",
    "    def mapper(self, _, line):\n",
    "        nid, dic = line.strip().split('\\t', 1)\n",
    "        #nid = nid.strip('\"')\n",
    "        # emit distances to reachable nodes\n",
    "        if nid.strip('\"') == self.options.destination:\n",
    "            cmd = 'node = %s' %dic\n",
    "            exec cmd\n",
    "            self.path = node['path']            \n",
    "\n",
    "    def mapper_final(self):\n",
    "        if self.path:\n",
    "            yield \"shortest path\", self.path\n",
    "\n",
    "    def steps(self):\n",
    "        jc = {\n",
    "            'mapreduce.job.maps': '1',\n",
    "        }\n",
    "        return [MRStep(mapper_init=self.mapper_init\n",
    "                       , mapper=self.mapper\n",
    "                       , mapper_final=self.mapper_final\n",
    "                       , jobconf = jc\n",
    "                      )\n",
    "               ]\n",
    "\n",
    "if __name__ == '__main__':\n",
    "    getPath.run()\n"
   ]
  },
  {
   "cell_type": "markdown",
   "metadata": {},
   "source": [
    "###Driver Program\n",
    "- init_job: take raw import, do first level traverse, output intermediate graph file\n",
    "- iter_job: iteratively traverse the graph and update the shortest distance and path"
   ]
  },
  {
   "cell_type": "code",
   "execution_count": 41,
   "metadata": {
    "collapsed": false,
    "scrolled": false
   },
   "outputs": [
    {
     "name": "stdout",
     "output_type": "stream",
     "text": [
      "Overwriting RunBFS.py\n"
     ]
    }
   ],
   "source": [
    "%%writefile RunBFS.py\n",
    "#!/usr/bin/python\n",
    "from ShortestPathIter import ShortestPathIter\n",
    "from getPath import getPath\n",
    "from subprocess import call\n",
    "import sys, getopt, datetime\n",
    "\n",
    "# parse parameter\n",
    "if __name__ == \"__main__\":\n",
    "\n",
    "    try:\n",
    "        opts, args = getopt.getopt(sys.argv[1:], \"hg:s:d:m:\")\n",
    "    except getopt.GetoptError:\n",
    "        print 'RunUnweightedBFS.py -g <graph> -s <source> -d <destination> -m <mode>'\n",
    "        sys.exit(2)\n",
    "    if len(opts) != 4:\n",
    "        print 'RunUnweightedBFS.py -g <graph> -s <source> -d <destination> -m <mode>'\n",
    "        sys.exit(2)\n",
    "    for opt, arg in opts:\n",
    "        if opt == '-h':\n",
    "            print 'RunUnweightedBFS.py -g <graph> -s <source> -d <destination> -m <mode>'\n",
    "            sys.exit(2)\n",
    "        elif opt == '-g':\n",
    "            graph = arg\n",
    "        elif opt == '-s':\n",
    "            source = arg\n",
    "        elif opt == '-d':\n",
    "            destination = arg\n",
    "        elif opt == '-m':\n",
    "            mode = arg\n",
    "\n",
    "\n",
    "# creat BFS job\n",
    "init_job = ShortestPathIter(args=[graph, '--source', source, '--destination', destination,\n",
    "                                            '-r', mode, '--output-dir', 'hdfs:///user/leiyang/out'])\n",
    "\n",
    "iter_job = ShortestPathIter(args=['hdfs:///user/leiyang/in/part*', '--source', source, '--destination',\n",
    "                                            destination, '-r', mode, '--output-dir', 'hdfs:///user/leiyang/out'])\n",
    "\n",
    "path_job = getPath(args=['hdfs:///user/leiyang/out/part*', '--destination', destination, '-r', mode])\n",
    "\n",
    "# run initialization job\n",
    "with init_job.make_runner() as runner:\n",
    "    print str(datetime.datetime.now()) + ': starting initialization job ...'\n",
    "    runner.run()\n",
    "    print runner.counters() #['weighted']['dist_changed']\n",
    "# move the result to input folder\n",
    "#print str(datetime.datetime.now()) + ': node number with distance change: ' + n_change\n",
    "print str(datetime.datetime.now()) + ': moving results for next initialization ...'\n",
    "call(['hdfs', 'dfs', '-mv', '/user/leiyang/out', '/user/leiyang/in'])\n",
    "\n",
    "\n",
    "# run BFS iteratively\n",
    "i = 1\n",
    "while(0):\n",
    "    stop = False\n",
    "    with iter_job.make_runner() as runner:\n",
    "        print str(datetime.datetime.now()) + ': running iteration %d ...' %i\n",
    "        runner.run()\n",
    "        # check if destination is reached: no counter is called\n",
    "        stop = 'unweighted' not in runner.counters()\n",
    "\n",
    "    # if destination reached, get path and break out\n",
    "    if stop:\n",
    "        print str(datetime.datetime.now()) + ': destination is reached, retrieving path ...'\n",
    "        with path_job.make_runner() as runner:\n",
    "            runner.run()\n",
    "            for line in runner.stream_output():\n",
    "                text, path = stop_job.parse_output_line(line)\n",
    "                result = ': shortest path: %s' %(' -> '.join(path+[destination]))\n",
    "        break\n",
    "\n",
    "    # more iteration needed\n",
    "    i += 1\n",
    "    print str(datetime.datetime.now()) + ': moving results for next initialization ...'\n",
    "    call(['hdfs', 'dfs', '-rm', '-r', '/user/leiyang/in'])\n",
    "    call(['hdfs', 'dfs', '-mv', '/user/leiyang/out', '/user/leiyang/in'])\n",
    "\n",
    "# clear results\n",
    "print str(datetime.datetime.now()) + ': clearing files ...'\n",
    "call(['hdfs', 'dfs', '-rm', '-r', '/user/leiyang/in'])\n",
    "call(['hdfs', 'dfs', '-rm', '-r', '/user/leiyang/out'])\n",
    "\n",
    "print str(datetime.datetime.now()) + \": traversing completes!\"\n",
    "print str(datetime.datetime.now()) + result\n"
   ]
  },
  {
   "cell_type": "markdown",
   "metadata": {},
   "source": [
    "###Evaluation"
   ]
  },
  {
   "cell_type": "code",
   "execution_count": 43,
   "metadata": {
    "collapsed": false
   },
   "outputs": [
    {
     "name": "stdout",
     "output_type": "stream",
     "text": [
      "The shortest path in the undirected network from node 1 to node 4:\n",
      "2016-03-04 00:33:31.819510: starting initialization job ...\n",
      "No handlers could be found for logger \"mrjob.compat\"\n",
      "[{'weighted': {'dist_changed': 1}}]\n",
      "2016-03-04 00:33:31.851537: moving results for next initialization ...\n",
      "mv: `/user/leiyang/out': No such file or directory\n",
      "2016-03-04 00:33:33.426374: clearing files ...\n",
      "rm: `/user/leiyang/in': No such file or directory\n",
      "rm: `/user/leiyang/out': No such file or directory\n",
      "2016-03-04 00:33:36.452201: traversing completes!\n",
      "Traceback (most recent call last):\n",
      "  File \"RunBFS.py\", line 84, in <module>\n",
      "    print str(datetime.datetime.now()) + result\n",
      "NameError: name 'result' is not defined\n"
     ]
    }
   ],
   "source": [
    "!echo 'The shortest path in the undirected network from node 1 to node 4:'\n",
    "!python RunBFS.py -s 1 -d 4 -m 'inline' -g 'undirected_toy.txt' #'hdfs:///user/leiyang/undirected_toy.txt'\n",
    "\n",
    "#!echo '\\nThe shortest path in the directed network from node 1 to node 5:'\n",
    "#!python RunBFS.py -s 1 -d 5 -m 'hadoop' -g directed_toy.txt\n"
   ]
  },
  {
   "cell_type": "markdown",
   "metadata": {},
   "source": [
    "###Main dataset 1: NLTK synonyms\n",
    "\n",
    "- In the next part of this assignment you will explore a network derived from\n",
    "the NLTK synonym database used for evaluation in HW 5. \n",
    "- At a high level, this network is undirected, defined so that there exists link between two nodes/words \n",
    "if the pair or words are a synonym. \n",
    "\n",
    "These data may be found at the location:\n",
    "\n",
    "- s3://ucb-mids-mls-networks/synNet/synNet.txt\n",
    "- s3://ucb-mids-mls-networks/synNet/indices.txt\n",
    "\n",
    "On under the Data Subfolder for HW7 on Dropbox with the same file names\n",
    "\n",
    "where synNet.txt contains a sparse representation of the network:\n",
    "\n",
    "(index) \\t (dictionary of links)\n",
    "\n",
    "in indexed form, and indices.txt contains a lookup list\n",
    "\n",
    "(word) \\t (index)\n",
    "\n",
    "of indices and words. This network is small enough for you to explore and run\n",
    "scripts locally, but will also be good for a systems test (for later) on AWS.\n",
    "\n",
    "In the dictionary, target nodes are keys, link weights are values \n",
    "(here, all weights are 1, i.e., the network is unweighted)."
   ]
  },
  {
   "cell_type": "markdown",
   "metadata": {},
   "source": [
    "###HW 7.1: Exploratory data analysis (NLTK synonyms)\n",
    "\n",
    "Using MRJob, explore the synonyms network data.\n",
    "Consider plotting the degree distribution (does it follow a power law?),\n",
    "and determine some of the key features, like:\n",
    "\n",
    "- number of nodes, \n",
    "- number links,\n",
    "- or the average degree (i.e., the average number of links per node),\n",
    "- etc...\n",
    "\n",
    "As you develop your code, please be sure to run it locally first (though on the whole dataset). \n",
    "Once you have gotten you code to run locally, deploy it on AWS as a systems test\n",
    "in preparation for our next dataset (which will require AWS).\n",
    "\n",
    "###MrJob to explore the graph"
   ]
  },
  {
   "cell_type": "code",
   "execution_count": 1,
   "metadata": {
    "collapsed": false
   },
   "outputs": [
    {
     "name": "stdout",
     "output_type": "stream",
     "text": [
      "Overwriting ExploreGraph.py\n"
     ]
    }
   ],
   "source": [
    "%%writefile ExploreGraph.py\n",
    "from mrjob.job import MRJob\n",
    "from mrjob.step import MRStep\n",
    "\n",
    "class ExploreGraph(MRJob):\n",
    "    \n",
    "    DEFAULT_PROTOCOL = 'json'\n",
    "    \n",
    "    def __init__(self, *args, **kwargs):\n",
    "        super(ExploreGraph, self).__init__(*args, **kwargs)\n",
    "\n",
    "    # assuming we are dealing with directed graph\n",
    "    # this job can handle undirected graph as well, \n",
    "    # but it can be done more efficiently\n",
    "    def mapper(self, _, line):\n",
    "        nid, dic = line.strip().split('\\t', 1)\n",
    "        cmd = 'adj = %s' %dic\n",
    "        exec cmd        \n",
    "        # we need to emit node ID as key, in order to count dangling nodes\n",
    "        # the value emitted here is (out, in) degree for the node\n",
    "        yield nid, (len(adj), 0)\n",
    "        # emit in degree from adjacency list\n",
    "        for n in adj:\n",
    "            yield n, (0, 1)\n",
    "                        \n",
    "    def combiner(self, nid, deg):\n",
    "        din = dout = 0\n",
    "        for d in deg:            \n",
    "            dout += d[0]\n",
    "            din += d[1]            \n",
    "        yield nid, (dout, din)\n",
    "        \n",
    "    def reducer_init(self):\n",
    "        self.node_cnt = 0\n",
    "        self.out_deg = {}\n",
    "        self.in_deg = {}\n",
    "        \n",
    "    def reducer(self, node, deg):\n",
    "        # add node by 1\n",
    "        self.node_cnt += 1\n",
    "        # aggregate in/out degree\n",
    "        _out = _in = 0\n",
    "        for d in deg:            \n",
    "            _out += d[0]\n",
    "            _in += d[1]    \n",
    "        # accumulate degree distribution\n",
    "        if _out not in self.out_deg:\n",
    "            self.out_deg[_out] = 1\n",
    "        else:\n",
    "            self.out_deg[_out] += 1\n",
    "        if _in not in self.in_deg:\n",
    "            self.in_deg[_in] = 1\n",
    "        else:\n",
    "            self.in_deg[_in] += 1\n",
    "        \n",
    "            \n",
    "    def reducer_final(self):\n",
    "        # final aggregation        \n",
    "        tot_degree = sum([d*self.out_deg[d] for d in self.out_deg])\n",
    "        yield 'total nodes: ', self.node_cnt\n",
    "        yield 'total links: ', tot_degree\n",
    "        yield 'average in degree: ', 1.0*tot_degree/sum(self.in_deg.values())\n",
    "        yield 'average out degree: ', 1.0*tot_degree/sum(self.out_deg.values())\n",
    "        yield 'dist of in-degree: ', self.in_deg\n",
    "        yield 'dist of out-degree: ', self.out_deg\n",
    "        \n",
    "    def steps(self):\n",
    "        jc = {\n",
    "            'mapreduce.job.maps': '10',\n",
    "            'mapreduce.job.reduces': '1',\n",
    "        }\n",
    "        return [MRStep(mapper=self.mapper\n",
    "                       , combiner=self.combiner\n",
    "                       , reducer_init=self.reducer_init\n",
    "                       , reducer=self.reducer                       \n",
    "                       , reducer_final=self.reducer_final\n",
    "                       #, jobconf = jc\n",
    "                      )\n",
    "               ]\n",
    "\n",
    "if __name__ == '__main__':\n",
    "    ExploreGraph.run()\n"
   ]
  },
  {
   "cell_type": "markdown",
   "metadata": {},
   "source": [
    "###Explore NLTK Synonyms Net"
   ]
  },
  {
   "cell_type": "code",
   "execution_count": 2,
   "metadata": {
    "collapsed": false
   },
   "outputs": [
    {
     "name": "stdout",
     "output_type": "stream",
     "text": [
      "using configs in /Users/leiyang/.mrjob.conf\n",
      "creating tmp directory /var/folders/tx/5ldq67q511q8wqwqkvptnxd00000gn/T/ExploreGraph.leiyang.20160301.010635.985096\n",
      "writing to /var/folders/tx/5ldq67q511q8wqwqkvptnxd00000gn/T/ExploreGraph.leiyang.20160301.010635.985096/step-0-mapper_part-00000\n",
      "Counters from step 1:\n",
      "  (no counters found)\n",
      "writing to /var/folders/tx/5ldq67q511q8wqwqkvptnxd00000gn/T/ExploreGraph.leiyang.20160301.010635.985096/step-0-mapper-sorted\n",
      "> sort /var/folders/tx/5ldq67q511q8wqwqkvptnxd00000gn/T/ExploreGraph.leiyang.20160301.010635.985096/step-0-mapper_part-00000\n",
      "writing to /var/folders/tx/5ldq67q511q8wqwqkvptnxd00000gn/T/ExploreGraph.leiyang.20160301.010635.985096/step-0-reducer_part-00000\n",
      "Counters from step 1:\n",
      "  (no counters found)\n",
      "Moving /var/folders/tx/5ldq67q511q8wqwqkvptnxd00000gn/T/ExploreGraph.leiyang.20160301.010635.985096/step-0-reducer_part-00000 -> /var/folders/tx/5ldq67q511q8wqwqkvptnxd00000gn/T/ExploreGraph.leiyang.20160301.010635.985096/output/part-00000\n",
      "Streaming final output from /var/folders/tx/5ldq67q511q8wqwqkvptnxd00000gn/T/ExploreGraph.leiyang.20160301.010635.985096/output\n",
      "removing tmp directory /var/folders/tx/5ldq67q511q8wqwqkvptnxd00000gn/T/ExploreGraph.leiyang.20160301.010635.985096\n",
      "\n",
      "Summary stats of the graph:\n",
      "\"total nodes: \"\t100\n",
      "\"total links: \"\t929\n",
      "\"average in degree: \"\t9.29\n",
      "\"average out degree: \"\t9.29\n",
      "\"dist of in-degree: \"\t{\"3\": 1, \"4\": 2, \"5\": 3, \"6\": 7, \"7\": 13, \"8\": 19, \"9\": 10, \"10\": 15, \"11\": 10, \"12\": 7, \"13\": 5, \"14\": 5, \"16\": 2, \"17\": 1}\n",
      "\"dist of out-degree: \"\t{\"4\": 3, \"5\": 6, \"6\": 7, \"7\": 14, \"8\": 13, \"9\": 12, \"10\": 12, \"11\": 11, \"12\": 8, \"13\": 5, \"14\": 7, \"15\": 1, \"20\": 1}\n"
     ]
    }
   ],
   "source": [
    "!python ExploreGraph.py randNet.txt -r 'inline' > sumstats\n",
    "!echo '\\nSummary stats of the graph:'\n",
    "!cat sumstats"
   ]
  },
  {
   "cell_type": "markdown",
   "metadata": {},
   "source": [
    "###Node degree distribution"
   ]
  },
  {
   "cell_type": "code",
   "execution_count": 10,
   "metadata": {
    "collapsed": false
   },
   "outputs": [
    {
     "data": {
      "image/png": "[encoded data removed]",
      "text/plain": [
       "<matplotlib.figure.Figure at 0x107fdc2d0>"
      ]
     },
     "metadata": {},
     "output_type": "display_data"
    }
   ],
   "source": [
    "%matplotlib inline\n",
    "import matplotlib.pyplot as plt\n",
    "in_deg = {\"3\": 1, \"4\": 2, \"5\": 3, \"6\": 7, \"7\": 13, \"8\": 19, \"9\": 10, \"10\": 15, \"11\": 10, \"12\": 7, \"13\": 5, \"14\": 5, \"16\": 2, \"17\": 1}\n",
    "out_deg = {\"4\": 3, \"5\": 6, \"6\": 7, \"7\": 14, \"8\": 13, \"9\": 12, \"10\": 12, \"11\": 11, \"12\": 8, \"13\": 5, \"14\": 7, \"15\": 1, \"20\": 1}\n",
    "# plot the in/out distribution histogram\n",
    "f, (ax1, ax2) = plt.subplots(1, 2, sharey=True)\n",
    "f.set_size_inches([15,5])\n",
    "ax1.bar([int(k) for k in in_deg.keys()], in_deg.values())\n",
    "ax1.set_title('in-degree distribution')\n",
    "ax1.set_ylabel('Count')\n",
    "ax1.set_xlabel('in-deg')\n",
    "ax2.bar([int(k) for k in out_deg.keys()], out_deg.values())\n",
    "ax2.set_title('out-degree distribution')\n",
    "ax2.set_xlabel('out-deg')\n",
    "plt.show()"
   ]
  },
  {
   "cell_type": "markdown",
   "metadata": {},
   "source": [
    "###HW 7.2: Shortest path graph distances (NLTK synonyms)\n",
    "\n",
    "Write (reuse your code from 7.0) an MRJob class to find shortest path graph distances, \n",
    "and apply it to the NLTK synonyms network dataset. \n",
    "\n",
    "Proof your code's function by running the job:\n",
    "\n",
    "- shortest path starting at \"walk\" (index=7827) and ending at \"make\" (index=536),\n",
    "\n",
    "and showing you code's output. Once again, your output should include the path and the distance.\n",
    "\n",
    "As you develop your code, please be sure to run it locally first (though on the whole dataset). \n",
    "Once you have gotten you code to run locally, deploy it on AWS as a systems test\n",
    "in preparation for our next dataset (which will require AWS)."
   ]
  },
  {
   "cell_type": "code",
   "execution_count": 49,
   "metadata": {
    "collapsed": false
   },
   "outputs": [
    {
     "name": "stdout",
     "output_type": "stream",
     "text": [
      "iteration 1\n",
      "iteration 2\n",
      "iteration 3\n",
      "iteration 4\n",
      "Traversing completes!\n",
      "\n",
      "shortest distance between 58 and 34: 2\n",
      "path: 58 -> 21 -> 34\n"
     ]
    }
   ],
   "source": [
    "##### execute RunBFS.py from HW 7.0 #####\n",
    "!python RunBFS.py -g randNet.txt -d 34 -s 58 -m 'inline'"
   ]
  },
  {
   "cell_type": "code",
   "execution_count": null,
   "metadata": {
    "collapsed": true
   },
   "outputs": [],
   "source": []
  },
  {
   "cell_type": "markdown",
   "metadata": {},
   "source": [
    "###Main dataset 2: English Wikipedia\n",
    "\n",
    "For the remainder of this assignment you will explore the English Wikipedia hyperlink network.\n",
    "The dataset is built from the Sept. 2015 XML snapshot of English Wikipedia.\n",
    "For this directed network, a link between articles: \n",
    "\n",
    "A -> B\n",
    "\n",
    "is defined by the existence of a hyperlink in A pointing to B.\n",
    "This network also exists in the indexed format:\n",
    "\n",
    "- s3://ucb-mids-mls-networks/wikipedia/all-pages-indexed-out.txt\n",
    "- s3://ucb-mids-mls-networks/wikipedia/all-pages-indexed-in.txt\n",
    "- s3://ucb-mids-mls-networks/wikipedia/indices.txt\n",
    "\n",
    "On under the Data Subfolder for HW7 on Dropbox with the same file names\n",
    "\n",
    "but has an index with more detailed data:\n",
    "\n",
    "(article name) \\t (index) \\t (in degree) \\t (out degree)\n",
    "\n",
    "In the dictionary, target nodes are keys, link weights are values .\n",
    "Here, a weight indicates the number of time a page links to another.\n",
    "However, for the sake of this assignment, treat this an unweighted network,\n",
    "and set all weights to 1 upon data input."
   ]
  },
  {
   "cell_type": "markdown",
   "metadata": {},
   "source": [
    "###HW 7.3: Exploratory data analysis (Wikipedia)\n",
    "\n",
    "Using MRJob, explore the Wikipedia network data on the AWS cloud. Reuse your code from HW 7.1---does is scale well? \n",
    "Be cautioned that Wikipedia is a directed network, where links are not symmetric. \n",
    "So, even though a node may be linked to, it will not appear as a primary record itself if it has no out-links. \n",
    "This means that you may have to ADJUST your code (depending on its design). \n",
    "To be sure of your code's functionality in this context, run a systems test on the directed_toy.txt network.\n"
   ]
  },
  {
   "cell_type": "code",
   "execution_count": 1,
   "metadata": {
    "collapsed": false,
    "scrolled": false
   },
   "outputs": [
    {
     "name": "stdout",
     "output_type": "stream",
     "text": [
      "[hadoop@ip-172-31-1-180 lei_wiki]$ ls -l\r\n",
      "total 2041476\r\n",
      "-rw-rw-r-- 1 hadoop hadoop 2090459616 Oct 22 02:29 all-pages-indexed-out.txt\r\n",
      "-rw-rw-r-- 1 hadoop hadoop       2655 Mar  1 01:57 ExploreGraph.py\r\n",
      "[hadoop@ip-172-31-1-180 lei_wiki]$ python ExploreGraph.py 'all-pages-indexed-out.txt' -r 'hadoop' --cleanup 'NONE' > wiki_sumstats\r\n",
      "using configs in /home/hadoop/.mrjob.conf\r\n",
      "creating tmp directory /tmp/ExploreGraph.hadoop.20160301.015847.095270\r\n",
      "writing wrapper script to /tmp/ExploreGraph.hadoop.20160301.015847.095270/setup-wrapper.sh\r\n",
      "Using Hadoop version 2.7.1\r\n",
      "Copying local files into hdfs:///user/hadoop/tmp/mrjob/ExploreGraph.hadoop.20160301.015847.095270/files/\r\n",
      "HADOOP: packageJobJar: [] [/usr/lib/hadoop/hadoop-streaming-2.7.1-amzn-0.jar] /tmp/streamjob2321478639392700904.jar tmpDir=null\r\n",
      "HADOOP: Connecting to ResourceManager at ip-172-31-1-180.ec2.internal/172.31.1.180:8032\r\n",
      "HADOOP: Connecting to ResourceManager at ip-172-31-1-180.ec2.internal/172.31.1.180:8032\r\n",
      "HADOOP: MetricsConfigRecord disabledInCluster: false instanceEngineCycleSec: 60 clusterEngineCycleSec: 60 disableClusterEngine: false maxMemoryMb: 3072 maxInstanceCount: 500 lastModified: 1456796497690\r\n",
      "HADOOP: Created MetricsSaver j-273F2CEVES2O8:i-2bfc5aaf:RunJar:10200 period:60 /mnt/var/em/raw/i-2bfc5aaf_20160301_RunJar_10200_raw.bin\r\n",
      "HADOOP: Loaded native gpl library\r\n",
      "HADOOP: Successfully loaded & initialized native-lzo library [hadoop-lzo rev 02f444f0932ea7710dcc4bcdc1aa7ca55adf48c9]\r\n",
      "HADOOP: Total input paths to process : 1\r\n",
      "HADOOP: number of splits:16\r\n",
      "HADOOP: Submitting tokens for job: job_1456796483811_0001\r\n",
      "HADOOP: Submitted application application_1456796483811_0001\r\n",
      "HADOOP: The url to track the job: http://ip-172-31-1-180.ec2.internal:20888/proxy/application_1456796483811_0001/\r\n",
      "HADOOP: Running job: job_1456796483811_0001\r\n",
      "HADOOP: Job job_1456796483811_0001 running in uber mode : false\r\n",
      "HADOOP:  map 0% reduce 0%\r\n",
      "HADOOP:  map 1% reduce 0%\r\n",
      "HADOOP:  map 2% reduce 0%\r\n",
      "HADOOP:  map 3% reduce 0%\r\n",
      "HADOOP:  map 4% reduce 0%\r\n",
      "HADOOP:  map 5% reduce 0%\r\n",
      "HADOOP:  map 6% reduce 0%\r\n",
      "HADOOP:  map 7% reduce 0%\r\n",
      "HADOOP:  map 8% reduce 0%\r\n",
      "HADOOP:  map 9% reduce 0%\r\n",
      "HADOOP:  map 10% reduce 0%\r\n",
      "HADOOP:  map 11% reduce 0%\r\n",
      "HADOOP:  map 12% reduce 0%\r\n",
      "HADOOP:  map 13% reduce 0%\r\n",
      "HADOOP:  map 14% reduce 0%\r\n",
      "HADOOP:  map 15% reduce 0%\r\n",
      "HADOOP:  map 16% reduce 0%\r\n",
      "HADOOP:  map 17% reduce 0%\r\n",
      "HADOOP:  map 18% reduce 0%\r\n",
      "HADOOP:  map 19% reduce 0%\r\n",
      "HADOOP:  map 20% reduce 0%\r\n",
      "HADOOP:  map 21% reduce 0%\r\n",
      "HADOOP:  map 22% reduce 0%\r\n",
      "HADOOP:  map 23% reduce 0%\r\n",
      "HADOOP:  map 24% reduce 0%\r\n",
      "HADOOP:  map 25% reduce 0%\r\n",
      "HADOOP:  map 26% reduce 0%\r\n",
      "HADOOP:  map 27% reduce 0%\r\n",
      "HADOOP:  map 28% reduce 0%\r\n",
      "HADOOP:  map 29% reduce 0%\r\n",
      "HADOOP:  map 30% reduce 0%\r\n",
      "HADOOP:  map 31% reduce 0%\r\n",
      "HADOOP:  map 32% reduce 0%\r\n",
      "HADOOP:  map 34% reduce 0%\r\n",
      "HADOOP:  map 35% reduce 0%\r\n",
      "HADOOP:  map 36% reduce 0%\r\n",
      "HADOOP:  map 37% reduce 0%\r\n",
      "HADOOP:  map 38% reduce 0%\r\n",
      "HADOOP:  map 39% reduce 0%\r\n",
      "HADOOP:  map 40% reduce 0%\r\n",
      "HADOOP:  map 41% reduce 0%\r\n",
      "HADOOP:  map 42% reduce 0%\r\n",
      "HADOOP:  map 43% reduce 0%\r\n",
      "HADOOP:  map 44% reduce 0%\r\n",
      "HADOOP:  map 45% reduce 0%\r\n",
      "HADOOP:  map 46% reduce 0%\r\n",
      "HADOOP:  map 47% reduce 0%\r\n",
      "HADOOP:  map 48% reduce 0%\r\n",
      "HADOOP:  map 49% reduce 0%\r\n",
      "HADOOP:  map 50% reduce 0%\r\n",
      "HADOOP:  map 51% reduce 0%\r\n",
      "HADOOP:  map 52% reduce 0%\r\n",
      "HADOOP:  map 54% reduce 0%\r\n",
      "HADOOP:  map 55% reduce 0%\r\n",
      "HADOOP:  map 56% reduce 0%\r\n",
      "HADOOP:  map 58% reduce 0%\r\n",
      "HADOOP:  map 59% reduce 0%\r\n",
      "HADOOP:  map 61% reduce 0%\r\n",
      "HADOOP:  map 63% reduce 0%\r\n",
      "HADOOP:  map 65% reduce 0%\r\n",
      "HADOOP:  map 67% reduce 0%\r\n",
      "HADOOP:  map 69% reduce 0%\r\n",
      "HADOOP:  map 71% reduce 0%\r\n",
      "HADOOP:  map 72% reduce 0%\r\n",
      "HADOOP:  map 73% reduce 0%\r\n",
      "HADOOP:  map 73% reduce 4%\r\n",
      "HADOOP:  map 75% reduce 4%\r\n",
      "HADOOP:  map 75% reduce 17%\r\n",
      "HADOOP:  map 76% reduce 17%\r\n",
      "HADOOP:  map 77% reduce 17%\r\n",
      "HADOOP:  map 78% reduce 17%\r\n",
      "HADOOP:  map 79% reduce 17%\r\n",
      "HADOOP:  map 80% reduce 17%\r\n",
      "HADOOP:  map 81% reduce 17%\r\n",
      "HADOOP:  map 82% reduce 17%\r\n",
      "HADOOP:  map 83% reduce 17%\r\n",
      "HADOOP:  map 84% reduce 17%\r\n",
      "HADOOP:  map 85% reduce 17%\r\n",
      "HADOOP:  map 86% reduce 17%\r\n",
      "HADOOP:  map 87% reduce 17%\r\n",
      "HADOOP:  map 88% reduce 17%\r\n",
      "HADOOP:  map 89% reduce 17%\r\n",
      "HADOOP:  map 90% reduce 17%\r\n",
      "HADOOP:  map 92% reduce 17%\r\n",
      "HADOOP:  map 94% reduce 17%\r\n",
      "HADOOP:  map 95% reduce 17%\r\n",
      "HADOOP:  map 97% reduce 17%\r\n",
      "HADOOP:  map 98% reduce 17%\r\n",
      "HADOOP:  map 100% reduce 17%\r\n",
      "HADOOP:  map 100% reduce 27%\r\n",
      "HADOOP:  map 100% reduce 33%\r\n",
      "HADOOP:  map 100% reduce 67%\r\n",
      "HADOOP:  map 100% reduce 68%\r\n",
      "HADOOP:  map 100% reduce 69%\r\n",
      "HADOOP:  map 100% reduce 70%\r\n",
      "HADOOP:  map 100% reduce 71%\r\n",
      "HADOOP:  map 100% reduce 72%\r\n",
      "HADOOP:  map 100% reduce 73%\r\n",
      "HADOOP:  map 100% reduce 74%\r\n",
      "HADOOP:  map 100% reduce 75%\r\n",
      "HADOOP:  map 100% reduce 76%\r\n",
      "HADOOP:  map 100% reduce 77%\r\n",
      "HADOOP:  map 100% reduce 78%\r\n",
      "HADOOP:  map 100% reduce 79%\r\n",
      "HADOOP:  map 100% reduce 80%\r\n",
      "HADOOP:  map 100% reduce 81%\r\n",
      "HADOOP:  map 100% reduce 82%\r\n",
      "HADOOP:  map 100% reduce 83%\r\n",
      "HADOOP:  map 100% reduce 84%\r\n",
      "HADOOP:  map 100% reduce 85%\r\n",
      "HADOOP:  map 100% reduce 86%\r\n",
      "HADOOP:  map 100% reduce 87%\r\n",
      "HADOOP:  map 100% reduce 88%\r\n",
      "HADOOP:  map 100% reduce 89%\r\n",
      "HADOOP:  map 100% reduce 90%\r\n",
      "HADOOP:  map 100% reduce 91%\r\n",
      "HADOOP:  map 100% reduce 92%\r\n",
      "HADOOP:  map 100% reduce 93%\r\n",
      "HADOOP:  map 100% reduce 94%\r\n",
      "HADOOP:  map 100% reduce 95%\r\n",
      "HADOOP:  map 100% reduce 96%\r\n",
      "HADOOP:  map 100% reduce 97%\r\n",
      "HADOOP:  map 100% reduce 98%\r\n",
      "HADOOP:  map 100% reduce 99%\r\n",
      "HADOOP:  map 100% reduce 100%\r\n",
      "HADOOP: Job job_1456796483811_0001 completed successfully\r\n",
      "HADOOP: Counters: 51\r\n",
      "HADOOP: \tFile System Counters\r\n",
      "HADOOP: \t\tFILE: Number of bytes read=551813329\r\n",
      "HADOOP: \t\tFILE: Number of bytes written=901418328\r\n",
      "HADOOP: \t\tFILE: Number of read operations=0\r\n",
      "HADOOP: \t\tFILE: Number of large read operations=0\r\n",
      "HADOOP: \t\tFILE: Number of write operations=0\r\n",
      "HADOOP: \t\tHDFS: Number of bytes read=2091445696\r\n",
      "HADOOP: \t\tHDFS: Number of bytes written=76840\r\n",
      "HADOOP: \t\tHDFS: Number of read operations=51\r\n",
      "HADOOP: \t\tHDFS: Number of large read operations=0\r\n",
      "HADOOP: \t\tHDFS: Number of write operations=2\r\n",
      "HADOOP: \tJob Counters\r\n",
      "HADOOP: \t\tKilled map tasks=3\r\n",
      "HADOOP: \t\tLaunched map tasks=19\r\n",
      "HADOOP: \t\tLaunched reduce tasks=1\r\n",
      "HADOOP: \t\tData-local map tasks=14\r\n",
      "HADOOP: \t\tRack-local map tasks=5\r\n",
      "HADOOP: \t\tTotal time spent by all maps in occupied slots (ms)=415795488\r\n",
      "HADOOP: \t\tTotal time spent by all reduces in occupied slots (ms)=85978592\r\n",
      "HADOOP: \t\tTotal time spent by all map tasks (ms)=17324812\r\n",
      "HADOOP: \t\tTotal time spent by all reduce tasks (ms)=2686831\r\n",
      "HADOOP: \t\tTotal vcore-seconds taken by all map tasks=17324812\r\n",
      "HADOOP: \t\tTotal vcore-seconds taken by all reduce tasks=2686831\r\n",
      "HADOOP: \t\tTotal megabyte-seconds taken by all map tasks=13305455616\r\n",
      "HADOOP: \t\tTotal megabyte-seconds taken by all reduce tasks=2751314944\r\n",
      "HADOOP: \tMap-Reduce Framework\r\n",
      "HADOOP: \t\tMap input records=5781290\r\n",
      "HADOOP: \t\tMap output records=147895347\r\n",
      "HADOOP: \t\tMap output bytes=2566288353\r\n",
      "HADOOP: \t\tMap output materialized bytes=347440319\r\n",
      "HADOOP: \t\tInput split bytes=3040\r\n",
      "HADOOP: \t\tCombine input records=210009639\r\n",
      "HADOOP: \t\tCombine output records=88093113\r\n",
      "HADOOP: \t\tReduce input groups=15192277\r\n",
      "HADOOP: \t\tReduce shuffle bytes=347440319\r\n",
      "HADOOP: \t\tReduce input records=25978821\r\n",
      "HADOOP: \t\tReduce output records=6\r\n",
      "HADOOP: \t\tSpilled Records=150207405\r\n",
      "HADOOP: \t\tShuffled Maps =16\r\n",
      "HADOOP: \t\tFailed Shuffles=0\r\n",
      "HADOOP: \t\tMerged Map outputs=16\r\n",
      "HADOOP: \t\tGC time elapsed (ms)=22362\r\n",
      "HADOOP: \t\tCPU time spent (ms)=10309990\r\n",
      "HADOOP: \t\tPhysical memory (bytes) snapshot=6520324096\r\n",
      "HADOOP: \t\tVirtual memory (bytes) snapshot=22371188736\r\n",
      "HADOOP: \t\tTotal committed heap usage (bytes)=5087166464\r\n",
      "HADOOP: \tShuffle Errors\r\n",
      "HADOOP: \t\tBAD_ID=0\r\n",
      "HADOOP: \t\tCONNECTION=0\r\n",
      "HADOOP: \t\tIO_ERROR=0\r\n",
      "HADOOP: \t\tWRONG_LENGTH=0\r\n",
      "HADOOP: \t\tWRONG_MAP=0\r\n",
      "HADOOP: \t\tWRONG_REDUCE=0\r\n",
      "HADOOP: \tFile Input Format Counters\r\n",
      "HADOOP: \t\tBytes Read=2091442656\r\n",
      "HADOOP: \tFile Output Format Counters\r\n",
      "HADOOP: \t\tBytes Written=76840\r\n",
      "HADOOP: Output directory: hdfs:///user/hadoop/tmp/mrjob/ExploreGraph.hadoop.20160301.015847.095270/output\r\n",
      "Counters from step 1:\r\n",
      "  (no counters found)\r\n",
      "Streaming final output from hdfs:///user/hadoop/tmp/mrjob/ExploreGraph.hadoop.20160301.015847.095270/output\r\n",
      "[hadoop@ip-172-31-1-180 lei_wiki]$\r\n"
     ]
    }
   ],
   "source": [
    "#!python ExploreGraph.py 'all-pages-indexed-out.txt' -r 'hadoop' --cleanup 'NONE' > wiki_sumstats\n",
    "!cat wiki_explore_emr.txt"
   ]
  },
  {
   "cell_type": "code",
   "execution_count": 18,
   "metadata": {
    "collapsed": false
   },
   "outputs": [
    {
     "name": "stdout",
     "output_type": "stream",
     "text": [
      "\"total nodes: \"\t15192277\n",
      "\"total links: \"\t142114057\n",
      "\"average in degree: \"\t9.354361890584276\n",
      "\"average out degree: \"\t9.354361890584276\n"
     ]
    },
    {
     "data": {
      "image/png": "[encoded data removed]",
      "text/plain": [
       "<matplotlib.figure.Figure at 0x105eaf150>"
      ]
     },
     "metadata": {},
     "output_type": "display_data"
    }
   ],
   "source": [
    "%matplotlib inline\n",
    "import matplotlib.pyplot as plt\n",
    "from math import log10\n",
    "\n",
    "with open('wiki_sumstats_emr.txt', 'r') as f:\n",
    "    lines = f.readlines()\n",
    "for line in lines:\n",
    "    if 'dist of' not in line:\n",
    "        print line.strip()\n",
    "    else:\n",
    "        dc, dic = line.split('\\t')\n",
    "        cmd = '%s = %s' %('in_deg' if 'in' in dc else 'out_deg', dic)\n",
    "        exec cmd\n",
    "        \n",
    "#plt.plot([log10(int(k)) for k in degrees.keys()], degrees.values(), 'r.')\n",
    "#plt.xlabel('log(Node Degree)')\n",
    "#plt.ylabel('Count')\n",
    "#plt.show()\n",
    "\n",
    "# plot the in/out distribution histogram\n",
    "f, (ax1, ax2) = plt.subplots(1, 2, sharey=True)\n",
    "f.set_size_inches([15,5])\n",
    "ax1.plot([0 if k=='0' else log10(int(k)) for k in in_deg.keys()], \n",
    "         [0 if i=='0' else log10(i) for i in in_deg.values()], 'r.')\n",
    "ax1.set_title('in-degree distribution')\n",
    "ax1.set_ylabel('log10(Count)')\n",
    "ax1.set_xlabel('log10(in-deg)')\n",
    "ax2.plot([0 if k=='0' else log10(int(k)) for k in out_deg.keys()], \n",
    "         [0 if k=='0' else log10(k) for k in out_deg.values()], 'b.')\n",
    "ax2.set_title('out-degree distribution')\n",
    "ax2.set_xlabel('log10(out-deg)')\n",
    "plt.show()"
   ]
  },
  {
   "cell_type": "code",
   "execution_count": 25,
   "metadata": {
    "collapsed": false
   },
   "outputs": [
    {
     "name": "stdout",
     "output_type": "stream",
     "text": [
      "1950499\n"
     ]
    }
   ],
   "source": [
    "print in_deg['2']\n"
   ]
  },
  {
   "cell_type": "markdown",
   "metadata": {},
   "source": [
    "###HW 7.4: Shortest path graph distances (Wikipedia)\n",
    "\n",
    "Using MRJob, find shortest path graph distances in the Wikipedia network on the AWS cloud.\n",
    "Reuse your code from 7.2, but once again be warned of Wikipedia being a directed network.\n",
    "To be sure of your code's functionality in this context, run a systems test on the directed_toy.txt network.\n",
    "\n",
    "When running your code on the Wikipedia network, proof its function by running the job:\n",
    "\n",
    "- shortest path from \"Ireland\" (index=6176135) to \"University of California, Berkeley\" (index=13466359),\n",
    "\n",
    "and show your code's output.\n",
    "\n",
    "Once your code is running, find some other shortest paths and report your results.\n",
    "\n",
    "###Two changes to improve performance for unweighted graph\n",
    "- in iteration mrjob: no need to store weight value, to reduce the amount of data during processing\n",
    "- in driver program: the stopping criterion for unweighted network is simpler: once the destination becomes frontier, it has the shortest path from the source\n",
    "\n",
    "###Mrjob for unweighted BFS iteration"
   ]
  },
  {
   "cell_type": "code",
   "execution_count": 41,
   "metadata": {
    "collapsed": false
   },
   "outputs": [
    {
     "name": "stdout",
     "output_type": "stream",
     "text": [
      "Overwriting UnweightedShortestPathIter.py\n"
     ]
    }
   ],
   "source": [
    "%%writefile UnweightedShortestPathIter.py\n",
    "from mrjob.job import MRJob\n",
    "from mrjob.step import MRStep\n",
    "\n",
    "\n",
    "class UnweightedShortestPathIter(MRJob):\n",
    "    DEFAULT_PROTOCOL = 'json'\n",
    "\n",
    "    def __init__(self, *args, **kwargs):\n",
    "        super(UnweightedShortestPathIter, self).__init__(*args, **kwargs)\n",
    "\n",
    "    def configure_options(self):\n",
    "        super(UnweightedShortestPathIter, self).configure_options()\n",
    "        self.add_passthrough_option(\n",
    "            '--source', dest='source', default='1', type='string',\n",
    "            help='source: source node (default 1)')\n",
    "        self.add_passthrough_option(\n",
    "            '--destination', dest='destination', default='1', type='string',\n",
    "            help='destination: destination node (default 1)')\n",
    "\n",
    "    def mapper(self, _, line):\n",
    "        nid, dic = line.strip().split('\\t', 1)\n",
    "        nid = nid.strip('\"')\n",
    "        cmd = 'node = %s' %dic\n",
    "        exec cmd\n",
    "        # if the node structure is incomplete (first pass), add them\n",
    "        if 'dist' not in node:\n",
    "            node = {'adj':node.keys(), 'path':[]}\n",
    "            node['dist'] = 0 if self.options.source==nid else -1\n",
    "        # emit node\n",
    "        yield nid, node\n",
    "        # emit distances to reachable nodes\n",
    "        if node['dist'] >= 0:\n",
    "            for m in node['adj']:\n",
    "                yield m, {'dd':(1+node['dist']), 'pp':(node['path']+[nid])}\n",
    "\n",
    "    def reducer(self, nid, value):\n",
    "        dmin = float('inf')\n",
    "        path = node = None\n",
    "        # loop through all arrivals\n",
    "        for v in value:\n",
    "            if 'dist' in v:\n",
    "                node = v\n",
    "            elif v['dd'] < dmin:\n",
    "                dmin = v['dd']\n",
    "                path = v['pp']\n",
    "        # handle dangling node, we only care if it's destination\n",
    "        isDestination = nid == self.options.destination\n",
    "        if not node:\n",
    "            if isDestination:\n",
    "                node = {'adj':[], 'dist':dmin, 'path':path}\n",
    "            else:\n",
    "                return\n",
    "        elif (node['dist'] == -1 and path) or dmin < node['dist']:\n",
    "            node['dist'], node['path'] = dmin, path\n",
    "             \n",
    "        # set the counter so we can stop iteration after the job is done\n",
    "        if isDestination and node['dist'] > 0:\n",
    "            self.increment_counter('unweighted', 'reached', 1)\n",
    "        # emit for next iteration\n",
    "        yield nid, node\n",
    "\n",
    "    def steps(self):\n",
    "        jc = {\n",
    "            'mapreduce.job.maps': '16',\n",
    "            'mapreduce.job.reduces': '16',\n",
    "        }\n",
    "        return [MRStep(mapper=self.mapper\n",
    "                       , combiner=self.reducer\n",
    "                       , reducer_init=self.reducer_init\n",
    "                       , reducer=self.reducer\n",
    "                       , jobconf = jc\n",
    "                      )\n",
    "               ]\n",
    "\n",
    "if __name__ == '__main__':\n",
    "    UnweightedShortestPathIter.run()\n",
    "\n"
   ]
  },
  {
   "cell_type": "markdown",
   "metadata": {},
   "source": [
    "###MrJob for checking stop criterion"
   ]
  },
  {
   "cell_type": "code",
   "execution_count": 71,
   "metadata": {
    "collapsed": false
   },
   "outputs": [
    {
     "name": "stdout",
     "output_type": "stream",
     "text": [
      "Overwriting isDestinationReached.py\n"
     ]
    }
   ],
   "source": [
    "%%writefile isDestinationReached.py\n",
    "from mrjob.job import MRJob\n",
    "from mrjob.step import MRStep\n",
    "\n",
    "\n",
    "class isDestinationReached(MRJob):\n",
    "    DEFAULT_PROTOCOL = 'json'\n",
    "\n",
    "    def __init__(self, *args, **kwargs):\n",
    "        super(isDestinationReached, self).__init__(*args, **kwargs)\n",
    "\n",
    "    def configure_options(self):\n",
    "        super(isDestinationReached, self).configure_options()\n",
    "        self.add_passthrough_option(\n",
    "            '--source', dest='source', default='1', type='string',\n",
    "            help='source: source node (default 1)')\n",
    "        self.add_passthrough_option(\n",
    "            '--destination', dest='destination', default='1', type='string',\n",
    "            help='destination: destination node (default 1)')\n",
    "\n",
    "    def mapper_init(self):\n",
    "        self.path = None\n",
    "\n",
    "    def mapper(self, _, line):\n",
    "        nid, dic = line.strip().split('\\t', 1)\n",
    "        #nid = nid.strip('\"')\n",
    "        # emit distances to reachable nodes\n",
    "        if nid.strip('\"') == self.options.destination:\n",
    "            cmd = 'node = %s' %dic\n",
    "            exec cmd\n",
    "            self.path = node['path']            \n",
    "\n",
    "    def mapper_final(self):\n",
    "        if self.path:\n",
    "            yield \"shortest path\", self.path\n",
    "\n",
    "    def steps(self):\n",
    "        jc = {\n",
    "            'mapreduce.job.maps': '16',\n",
    "        }\n",
    "        return [MRStep(mapper_init=self.mapper_init\n",
    "                       , mapper=self.mapper\n",
    "                       , mapper_final=self.mapper_final\n",
    "                       , jobconf = jc\n",
    "                      )\n",
    "               ]\n",
    "\n",
    "if __name__ == '__main__':\n",
    "    isDestinationReached.run()\n"
   ]
  },
  {
   "cell_type": "markdown",
   "metadata": {},
   "source": [
    "###Driver program for unweighted BFS"
   ]
  },
  {
   "cell_type": "code",
   "execution_count": 6,
   "metadata": {
    "collapsed": false,
    "scrolled": false
   },
   "outputs": [
    {
     "name": "stdout",
     "output_type": "stream",
     "text": [
      "Overwriting RunUnweightedBFS.py\n"
     ]
    }
   ],
   "source": [
    "%%writefile RunUnweightedBFS.py\n",
    "#!/usr/bin/python\n",
    "from UnweightedShortestPathIter import UnweightedShortestPathIter\n",
    "from isDestinationReached import isDestinationReached\n",
    "from subprocess import call\n",
    "import sys, getopt, datetime\n",
    "\n",
    "# parse parameter\n",
    "if __name__ == \"__main__\":\n",
    "\n",
    "    try:\n",
    "        opts, args = getopt.getopt(sys.argv[1:], \"hg:s:d:m:\")\n",
    "    except getopt.GetoptError:\n",
    "        print 'RunUnweightedBFS.py -g <graph> -s <source> -d <destination> -m <mode>'\n",
    "        sys.exit(2)\n",
    "    if len(opts) != 4:\n",
    "        print 'RunUnweightedBFS.py -g <graph> -s <source> -d <destination> -m <mode>'\n",
    "        sys.exit(2)\n",
    "    for opt, arg in opts:\n",
    "        if opt == '-h':\n",
    "            print 'RunUnweightedBFS.py -g <graph> -s <source> -d <destination> -m <mode>'\n",
    "            sys.exit(2)\n",
    "        elif opt == '-g':\n",
    "            graph = arg\n",
    "        elif opt == '-s':\n",
    "            source = arg\n",
    "        elif opt == '-d':\n",
    "            destination = arg\n",
    "        elif opt == '-m':\n",
    "            mode = arg\n",
    "\n",
    "\n",
    "# creat BFS job\n",
    "init_job = UnweightedShortestPathIter(args=[graph, '--source', source, '--destination', destination,\n",
    "                                            '-r', mode, '--output-dir', 'hdfs:///user/leiyang/wiki_out'])\n",
    "\n",
    "iter_job = UnweightedShortestPathIter(args=['hdfs:///user/leiyang/wiki_in/part*', '--source', source, '--destination',\n",
    "                                            destination, '-r', mode, '--output-dir', 'hdfs:///user/leiyang/wiki_out'])\n",
    "\n",
    "stop_job = isDestinationReached(args=['hdfs:///user/leiyang/wiki_out/part*', '--source', source, '--destination',\n",
    "                                            destination, '-r', mode])\n",
    "\n",
    "# run initialization job\n",
    "with init_job.make_runner() as runner:\n",
    "    print str(datetime.datetime.now()) + ': starting initialization job ...'\n",
    "    runner.run()\n",
    "# move the result to input folder\n",
    "print str(datetime.datetime.now()) + ': moving results for next initialization ...'\n",
    "call(['hdfs', 'dfs', '-mv', '/user/leiyang/wiki_out', '/user/leiyang/wiki_in'])\n",
    "\n",
    "\n",
    "# run BFS iteratively\n",
    "i = 1\n",
    "while(1):\n",
    "    stop = False\n",
    "    with iter_job.make_runner() as runner:\n",
    "        print str(datetime.datetime.now()) + ': running iteration %d ...' %i\n",
    "        runner.run()\n",
    "        # check if destination is reached\n",
    "        stop = runner.counters()['unweighted']['reached'] == 1\n",
    "\n",
    "    # if destination reached, get path and break out\n",
    "    if stop:\n",
    "        print str(datetime.datetime.now()) + ': destination is reached, retrieving path ...'\n",
    "        with stop_job.make_runner() as runner:\n",
    "            runner.run()\n",
    "            for line in runner.stream_output():\n",
    "                text, path = stop_job.parse_output_line(line)\n",
    "                result = '\\nshortest path: %s' %(' -> '.join(path+[destination]))\n",
    "        break\n",
    "\n",
    "    # more iteration needed\n",
    "    i += 1\n",
    "    print str(datetime.datetime.now()) + ': moving results for next initialization ...'\n",
    "    call(['hdfs', 'dfs', '-rm', '-r', '/user/leiyang/wiki_in'])\n",
    "    call(['hdfs', 'dfs', '-mv', '/user/leiyang/wiki_out', '/user/leiyang/wiki_in'])\n",
    "\n",
    "# clear results\n",
    "print str(datetime.datetime.now()) + ': clearing files ...'\n",
    "call(['hdfs', 'dfs', '-rm', '-r', '/user/leiyang/wiki*'])\n",
    "\n",
    "print str(datetime.datetime.now()) + \": traversing completes!\"\n",
    "print result\n"
   ]
  },
  {
   "cell_type": "markdown",
   "metadata": {},
   "source": [
    "###Unit test of unweighted BFS"
   ]
  },
  {
   "cell_type": "code",
   "execution_count": 5,
   "metadata": {
    "collapsed": false,
    "scrolled": false
   },
   "outputs": [
    {
     "name": "stdout",
     "output_type": "stream",
     "text": [
      "[hadoop@ip-172-31-6-190 lei]$ python RunUnweightedBFS.py -s '6176135' -d '13466359' -m 'hadoop' -g 'hdfs:///user/leiyang/all-pages-indexed-out.txt'\r\n",
      "No handlers could be found for logger \"mrjob.conf\"\r\n",
      "starting initialization job ...\r\n",
      "moving results for next initialization ...\r\n",
      "running iteration 1 ...\r\n",
      "checking if destination is reached ...\r\n",
      "moving results for next initialization ...\r\n",
      "16/03/03 06:12:51 INFO fs.TrashPolicyDefault: Namenode trash configuration: Deletion interval = 0 minutes, Emptier interval = 0 minutes.\r\n",
      "Deleted /user/leiyang/wiki_in\r\n",
      "running iteration 2 ...\r\n",
      "checking if destination is reached ...\r\n",
      "Destination reached, clearing files ...\r\n",
      "16/03/03 06:28:52 INFO fs.TrashPolicyDefault: Namenode trash configuration: Deletion interval = 0 minutes, Emptier interval = 0 minutes.\r\n",
      "Deleted /user/leiyang/wiki_in\r\n",
      "16/03/03 06:28:52 INFO fs.TrashPolicyDefault: Namenode trash configuration: Deletion interval = 0 minutes, Emptier interval = 0 minutes.\r\n",
      "Deleted /user/leiyang/wiki_out\r\n",
      "Traversing completes!\r\n",
      "\r\n",
      "shortest path: 6176135 -> 11434841 -> 10237359 -> 13466359\r\n",
      "Path: Ireland -> Samuel Beckett -> Philip K. Dick -> UC Berkeley\r\n",
      "[hadoop@ip-172-31-6-190 lei]$\r\n"
     ]
    }
   ],
   "source": [
    "# !python RunBFS.py -g randNet.txt -d 34 -s 58 -m 'inline'\n",
    "\n",
    "#!python UnweightedShortestPathIter.py 'directed_toy.txt' --source 1 --destination 6 -r 'inline' \n",
    "#'--output-dir' '/user/leiyang/wiki_out/'\n",
    "\n",
    "#!python UnweightedShortestPathIter.py 'hdfs:///user/leiyang/randNet.txt' --source 34 --destination 58 -r 'hadoop' \\\n",
    "#'--output-dir' 'hdfs:///user/leiyang/wiki_out'\n",
    "\n",
    "#!python UnweightedShortestPathIter.py 'hdfs:///user/leiyang/wiki_in/part*' --source 34 --destination 58 -r 'hadoop' \\\n",
    "#'--output-dir' 'hdfs:///user/leiyang/wiki_out'\n",
    "\n",
    "#!python isDestinationReached.py 'hdfs:///user/leiyang/wiki_out/part*' --source 34 --destination 58 -r 'hadoop'\n",
    "\n",
    "#!hdfs dfs -cat /user/leiyang/wiki_out/p*\n",
    "\n",
    "#!python RunUnweightedBFS.py -g 'hdfs:///user/leiyang/randNet.txt' -s 36 -d 66 -m 'hadoop' \n",
    "!cat wiki_log_1"
   ]
  },
  {
   "cell_type": "markdown",
   "metadata": {},
   "source": [
    "###BFS on Wikipedia dataset"
   ]
  },
  {
   "cell_type": "code",
   "execution_count": 94,
   "metadata": {
    "collapsed": false
   },
   "outputs": [
    {
     "name": "stdout",
     "output_type": "stream",
     "text": [
      "Overwriting FindWikiShortestPath.sh\n"
     ]
    }
   ],
   "source": [
    "#!python RunUnweightedBFS.py -s '6176135' -d '13466359' -m 'hadoop' -g 'hdfs:///user/leiyang/all-pages-indexed-out.txt'\n",
    "!cat wiki_log"
   ]
  },
  {
   "cell_type": "code",
   "execution_count": null,
   "metadata": {
    "collapsed": false
   },
   "outputs": [],
   "source": []
  },
  {
   "cell_type": "markdown",
   "metadata": {},
   "source": [
    "###HW 7.5: Conceptual exercise: Largest single-source network distances\n",
    "\n",
    "Suppose you wanted to find the largest network distance from a single source,\n",
    "i.e., a node that is the furthest (but still reachable) from a single source.\n",
    "\n",
    "How would you implement this task? \n",
    "How is this different from finding the shortest path graph distances?\n",
    "\n",
    "Is this task more difficult to implement than the shortest path distance?\n",
    "\n",
    "As you respond, please comment on program structure, runtimes, iterations, general system requirements, etc...\n",
    "\n",
    "###Answer:\n",
    "- change the distance comparison step, instead of keeping smaller distance, choose larger distance here"
   ]
  },
  {
   "cell_type": "code",
   "execution_count": null,
   "metadata": {
    "collapsed": true
   },
   "outputs": [],
   "source": []
  },
  {
   "cell_type": "code",
   "execution_count": null,
   "metadata": {
    "collapsed": true
   },
   "outputs": [],
   "source": []
  },
  {
   "cell_type": "markdown",
   "metadata": {},
   "source": [
    "###HW 7.6 (optional): Computational exercise: Largest single-source network distances \n",
    "\n",
    "Using MRJob, write a code to find the largest graph distance and distance-maximizing nodes from a single-source.\n",
    "Test your code first on the toy networks and synonyms network to proof its function."
   ]
  },
  {
   "cell_type": "code",
   "execution_count": null,
   "metadata": {
    "collapsed": true
   },
   "outputs": [],
   "source": []
  },
  {
   "cell_type": "code",
   "execution_count": null,
   "metadata": {
    "collapsed": true
   },
   "outputs": [],
   "source": []
  },
  {
   "cell_type": "code",
   "execution_count": null,
   "metadata": {
    "collapsed": true
   },
   "outputs": [],
   "source": []
  },
  {
   "cell_type": "markdown",
   "metadata": {},
   "source": [
    "###stop yarn, hdfs, and job history"
   ]
  },
  {
   "cell_type": "code",
   "execution_count": 9,
   "metadata": {
    "collapsed": false
   },
   "outputs": [
    {
     "name": "stdout",
     "output_type": "stream",
     "text": [
      "stopping yarn daemons\n",
      "stopping resourcemanager\n",
      "localhost: stopping nodemanager\n",
      "localhost: nodemanager did not stop gracefully after 5 seconds: killing with kill -9\n",
      "no proxyserver to stop\n",
      "Stopping namenodes on [localhost]\n",
      "localhost: stopping namenode\n",
      "localhost: stopping datanode\n",
      "Stopping secondary namenodes [0.0.0.0]\n",
      "0.0.0.0: stopping secondarynamenode\n",
      "stopping historyserver\n"
     ]
    }
   ],
   "source": [
    "!/usr/local/Cellar/hadoop/2*/sbin/stop-yarn.sh\n",
    "!/usr/local/Cellar/hadoop/2*/sbin/stop-dfs.sh\n",
    "!/usr/local/Cellar/hadoop/2*/sbin/mr-jobhistory-daemon.sh --config /usr/local/Cellar/hadoop/2*/libexec/etc/hadoop/ stop historyserver "
   ]
  },
  {
   "cell_type": "markdown",
   "metadata": {},
   "source": [
    "###start yarn, hdfs, and job history"
   ]
  },
  {
   "cell_type": "code",
   "execution_count": 16,
   "metadata": {
    "collapsed": false
   },
   "outputs": [
    {
     "name": "stdout",
     "output_type": "stream",
     "text": [
      "starting yarn daemons\n",
      "starting resourcemanager, logging to /usr/local/Cellar/hadoop/2.7.1/libexec/logs/yarn-leiyang-resourcemanager-Leis-MacBook-Pro.local.out\n",
      "localhost: starting nodemanager, logging to /usr/local/Cellar/hadoop/2.7.1/libexec/logs/yarn-leiyang-nodemanager-Leis-MacBook-Pro.local.out\n",
      "Starting namenodes on [localhost]\n",
      "localhost: starting namenode, logging to /usr/local/Cellar/hadoop/2.7.1/libexec/logs/hadoop-leiyang-namenode-Leis-MacBook-Pro.local.out\n",
      "localhost: starting datanode, logging to /usr/local/Cellar/hadoop/2.7.1/libexec/logs/hadoop-leiyang-datanode-Leis-MacBook-Pro.local.out\n",
      "Starting secondary namenodes [0.0.0.0]\n",
      "0.0.0.0: starting secondarynamenode, logging to /usr/local/Cellar/hadoop/2.7.1/libexec/logs/hadoop-leiyang-secondarynamenode-Leis-MacBook-Pro.local.out\n",
      "starting historyserver, logging to /usr/local/Cellar/hadoop/2.7.1/libexec/logs/mapred-leiyang-historyserver-Leis-MacBook-Pro.local.out\n",
      "16/03/03 23:46:40 INFO hs.JobHistoryServer: STARTUP_MSG: \n",
      "/************************************************************\n",
      "STARTUP_MSG: Starting JobHistoryServer\n",
      "STARTUP_MSG:   host = leis-macbook-pro.local/192.168.0.12\n",
      "STARTUP_MSG:   args = []\n",
      "STARTUP_MSG:   version = 2.7.1\n",
      "STARTUP_MSG:   classpath = /usr/local/Cellar/hadoop/2.7.1/libexec/etc/hadoop/:/usr/local/Cellar/hadoop/2.7.1/libexec/share/hadoop/common/lib/activation-1.1.jar:/usr/local/Cellar/hadoop/2.7.1/libexec/share/hadoop/common/lib/apacheds-i18n-2.0.0-M15.jar:/usr/local/Cellar/hadoop/2.7.1/libexec/share/hadoop/common/lib/apacheds-kerberos-codec-2.0.0-M15.jar:/usr/local/Cellar/hadoop/2.7.1/libexec/share/hadoop/common/lib/api-asn1-api-1.0.0-M20.jar:/usr/local/Cellar/hadoop/2.7.1/libexec/share/hadoop/common/lib/api-util-1.0.0-M20.jar:/usr/local/Cellar/hadoop/2.7.1/libexec/share/hadoop/common/lib/asm-3.2.jar:/usr/local/Cellar/hadoop/2.7.1/libexec/share/hadoop/common/lib/avro-1.7.4.jar:/usr/local/Cellar/hadoop/2.7.1/libexec/share/hadoop/common/lib/commons-beanutils-1.7.0.jar:/usr/local/Cellar/hadoop/2.7.1/libexec/share/hadoop/common/lib/commons-beanutils-core-1.8.0.jar:/usr/local/Cellar/hadoop/2.7.1/libexec/share/hadoop/common/lib/commons-cli-1.2.jar:/usr/local/Cellar/hadoop/2.7.1/libexec/share/hadoop/common/lib/commons-codec-1.4.jar:/usr/local/Cellar/hadoop/2.7.1/libexec/share/hadoop/common/lib/commons-collections-3.2.1.jar:/usr/local/Cellar/hadoop/2.7.1/libexec/share/hadoop/common/lib/commons-compress-1.4.1.jar:/usr/local/Cellar/hadoop/2.7.1/libexec/share/hadoop/common/lib/commons-configuration-1.6.jar:/usr/local/Cellar/hadoop/2.7.1/libexec/share/hadoop/common/lib/commons-digester-1.8.jar:/usr/local/Cellar/hadoop/2.7.1/libexec/share/hadoop/common/lib/commons-httpclient-3.1.jar:/usr/local/Cellar/hadoop/2.7.1/libexec/share/hadoop/common/lib/commons-io-2.4.jar:/usr/local/Cellar/hadoop/2.7.1/libexec/share/hadoop/common/lib/commons-lang-2.6.jar:/usr/local/Cellar/hadoop/2.7.1/libexec/share/hadoop/common/lib/commons-logging-1.1.3.jar:/usr/local/Cellar/hadoop/2.7.1/libexec/share/hadoop/common/lib/commons-math3-3.1.1.jar:/usr/local/Cellar/hadoop/2.7.1/libexec/share/hadoop/common/lib/commons-net-3.1.jar:/usr/local/Cellar/hadoop/2.7.1/libexec/share/hadoop/common/lib/curator-client-2.7.1.jar:/usr/local/Cellar/hadoop/2.7.1/libexec/share/hadoop/common/lib/curator-framework-2.7.1.jar:/usr/local/Cellar/hadoop/2.7.1/libexec/share/hadoop/common/lib/curator-recipes-2.7.1.jar:/usr/local/Cellar/hadoop/2.7.1/libexec/share/hadoop/common/lib/gson-2.2.4.jar:/usr/local/Cellar/hadoop/2.7.1/libexec/share/hadoop/common/lib/guava-11.0.2.jar:/usr/local/Cellar/hadoop/2.7.1/libexec/share/hadoop/common/lib/hadoop-annotations-2.7.1.jar:/usr/local/Cellar/hadoop/2.7.1/libexec/share/hadoop/common/lib/hadoop-auth-2.7.1.jar:/usr/local/Cellar/hadoop/2.7.1/libexec/share/hadoop/common/lib/hamcrest-core-1.3.jar:/usr/local/Cellar/hadoop/2.7.1/libexec/share/hadoop/common/lib/htrace-core-3.1.0-incubating.jar:/usr/local/Cellar/hadoop/2.7.1/libexec/share/hadoop/common/lib/httpclient-4.2.5.jar:/usr/local/Cellar/hadoop/2.7.1/libexec/share/hadoop/common/lib/httpcore-4.2.5.jar:/usr/local/Cellar/hadoop/2.7.1/libexec/share/hadoop/common/lib/jackson-core-asl-1.9.13.jar:/usr/local/Cellar/hadoop/2.7.1/libexec/share/hadoop/common/lib/jackson-jaxrs-1.9.13.jar:/usr/local/Cellar/hadoop/2.7.1/libexec/share/hadoop/common/lib/jackson-mapper-asl-1.9.13.jar:/usr/local/Cellar/hadoop/2.7.1/libexec/share/hadoop/common/lib/jackson-xc-1.9.13.jar:/usr/local/Cellar/hadoop/2.7.1/libexec/share/hadoop/common/lib/java-xmlbuilder-0.4.jar:/usr/local/Cellar/hadoop/2.7.1/libexec/share/hadoop/common/lib/jaxb-api-2.2.2.jar:/usr/local/Cellar/hadoop/2.7.1/libexec/share/hadoop/common/lib/jaxb-impl-2.2.3-1.jar:/usr/local/Cellar/hadoop/2.7.1/libexec/share/hadoop/common/lib/jersey-core-1.9.jar:/usr/local/Cellar/hadoop/2.7.1/libexec/share/hadoop/common/lib/jersey-json-1.9.jar:/usr/local/Cellar/hadoop/2.7.1/libexec/share/hadoop/common/lib/jersey-server-1.9.jar:/usr/local/Cellar/hadoop/2.7.1/libexec/share/hadoop/common/lib/jets3t-0.9.0.jar:/usr/local/Cellar/hadoop/2.7.1/libexec/share/hadoop/common/lib/jettison-1.1.jar:/usr/local/Cellar/hadoop/2.7.1/libexec/share/hadoop/common/lib/jetty-6.1.26.jar:/usr/local/Cellar/hadoop/2.7.1/libexec/share/hadoop/common/lib/jetty-util-6.1.26.jar:/usr/local/Cellar/hadoop/2.7.1/libexec/share/hadoop/common/lib/jsch-0.1.42.jar:/usr/local/Cellar/hadoop/2.7.1/libexec/share/hadoop/common/lib/jsp-api-2.1.jar:/usr/local/Cellar/hadoop/2.7.1/libexec/share/hadoop/common/lib/jsr305-3.0.0.jar:/usr/local/Cellar/hadoop/2.7.1/libexec/share/hadoop/common/lib/junit-4.11.jar:/usr/local/Cellar/hadoop/2.7.1/libexec/share/hadoop/common/lib/log4j-1.2.17.jar:/usr/local/Cellar/hadoop/2.7.1/libexec/share/hadoop/common/lib/mockito-all-1.8.5.jar:/usr/local/Cellar/hadoop/2.7.1/libexec/share/hadoop/common/lib/netty-3.6.2.Final.jar:/usr/local/Cellar/hadoop/2.7.1/libexec/share/hadoop/common/lib/paranamer-2.3.jar:/usr/local/Cellar/hadoop/2.7.1/libexec/share/hadoop/common/lib/protobuf-java-2.5.0.jar:/usr/local/Cellar/hadoop/2.7.1/libexec/share/hadoop/common/lib/servlet-api-2.5.jar:/usr/local/Cellar/hadoop/2.7.1/libexec/share/hadoop/common/lib/slf4j-api-1.7.10.jar:/usr/local/Cellar/hadoop/2.7.1/libexec/share/hadoop/common/lib/slf4j-log4j12-1.7.10.jar:/usr/local/Cellar/hadoop/2.7.1/libexec/share/hadoop/common/lib/snappy-java-1.0.4.1.jar:/usr/local/Cellar/hadoop/2.7.1/libexec/share/hadoop/common/lib/stax-api-1.0-2.jar:/usr/local/Cellar/hadoop/2.7.1/libexec/share/hadoop/common/lib/xmlenc-0.52.jar:/usr/local/Cellar/hadoop/2.7.1/libexec/share/hadoop/common/lib/xz-1.0.jar:/usr/local/Cellar/hadoop/2.7.1/libexec/share/hadoop/common/lib/zookeeper-3.4.6.jar:/usr/local/Cellar/hadoop/2.7.1/libexec/share/hadoop/common/hadoop-common-2.7.1-tests.jar:/usr/local/Cellar/hadoop/2.7.1/libexec/share/hadoop/common/hadoop-common-2.7.1.jar:/usr/local/Cellar/hadoop/2.7.1/libexec/share/hadoop/common/hadoop-nfs-2.7.1.jar:/usr/local/Cellar/hadoop/2.7.1/libexec/share/hadoop/hdfs:/usr/local/Cellar/hadoop/2.7.1/libexec/share/hadoop/hdfs/lib/asm-3.2.jar:/usr/local/Cellar/hadoop/2.7.1/libexec/share/hadoop/hdfs/lib/commons-cli-1.2.jar:/usr/local/Cellar/hadoop/2.7.1/libexec/share/hadoop/hdfs/lib/commons-codec-1.4.jar:/usr/local/Cellar/hadoop/2.7.1/libexec/share/hadoop/hdfs/lib/commons-daemon-1.0.13.jar:/usr/local/Cellar/hadoop/2.7.1/libexec/share/hadoop/hdfs/lib/commons-io-2.4.jar:/usr/local/Cellar/hadoop/2.7.1/libexec/share/hadoop/hdfs/lib/commons-lang-2.6.jar:/usr/local/Cellar/hadoop/2.7.1/libexec/share/hadoop/hdfs/lib/commons-logging-1.1.3.jar:/usr/local/Cellar/hadoop/2.7.1/libexec/share/hadoop/hdfs/lib/guava-11.0.2.jar:/usr/local/Cellar/hadoop/2.7.1/libexec/share/hadoop/hdfs/lib/htrace-core-3.1.0-incubating.jar:/usr/local/Cellar/hadoop/2.7.1/libexec/share/hadoop/hdfs/lib/jackson-core-asl-1.9.13.jar:/usr/local/Cellar/hadoop/2.7.1/libexec/share/hadoop/hdfs/lib/jackson-mapper-asl-1.9.13.jar:/usr/local/Cellar/hadoop/2.7.1/libexec/share/hadoop/hdfs/lib/jersey-core-1.9.jar:/usr/local/Cellar/hadoop/2.7.1/libexec/share/hadoop/hdfs/lib/jersey-server-1.9.jar:/usr/local/Cellar/hadoop/2.7.1/libexec/share/hadoop/hdfs/lib/jetty-6.1.26.jar:/usr/local/Cellar/hadoop/2.7.1/libexec/share/hadoop/hdfs/lib/jetty-util-6.1.26.jar:/usr/local/Cellar/hadoop/2.7.1/libexec/share/hadoop/hdfs/lib/jsr305-3.0.0.jar:/usr/local/Cellar/hadoop/2.7.1/libexec/share/hadoop/hdfs/lib/leveldbjni-all-1.8.jar:/usr/local/Cellar/hadoop/2.7.1/libexec/share/hadoop/hdfs/lib/log4j-1.2.17.jar:/usr/local/Cellar/hadoop/2.7.1/libexec/share/hadoop/hdfs/lib/netty-3.6.2.Final.jar:/usr/local/Cellar/hadoop/2.7.1/libexec/share/hadoop/hdfs/lib/netty-all-4.0.23.Final.jar:/usr/local/Cellar/hadoop/2.7.1/libexec/share/hadoop/hdfs/lib/protobuf-java-2.5.0.jar:/usr/local/Cellar/hadoop/2.7.1/libexec/share/hadoop/hdfs/lib/servlet-api-2.5.jar:/usr/local/Cellar/hadoop/2.7.1/libexec/share/hadoop/hdfs/lib/xercesImpl-2.9.1.jar:/usr/local/Cellar/hadoop/2.7.1/libexec/share/hadoop/hdfs/lib/xml-apis-1.3.04.jar:/usr/local/Cellar/hadoop/2.7.1/libexec/share/hadoop/hdfs/lib/xmlenc-0.52.jar:/usr/local/Cellar/hadoop/2.7.1/libexec/share/hadoop/hdfs/hadoop-hdfs-2.7.1-tests.jar:/usr/local/Cellar/hadoop/2.7.1/libexec/share/hadoop/hdfs/hadoop-hdfs-2.7.1.jar:/usr/local/Cellar/hadoop/2.7.1/libexec/share/hadoop/hdfs/hadoop-hdfs-nfs-2.7.1.jar:/usr/local/Cellar/hadoop/2.7.1/libexec/share/hadoop/yarn/lib/activation-1.1.jar:/usr/local/Cellar/hadoop/2.7.1/libexec/share/hadoop/yarn/lib/aopalliance-1.0.jar:/usr/local/Cellar/hadoop/2.7.1/libexec/share/hadoop/yarn/lib/asm-3.2.jar:/usr/local/Cellar/hadoop/2.7.1/libexec/share/hadoop/yarn/lib/commons-cli-1.2.jar:/usr/local/Cellar/hadoop/2.7.1/libexec/share/hadoop/yarn/lib/commons-codec-1.4.jar:/usr/local/Cellar/hadoop/2.7.1/libexec/share/hadoop/yarn/lib/commons-collections-3.2.1.jar:/usr/local/Cellar/hadoop/2.7.1/libexec/share/hadoop/yarn/lib/commons-compress-1.4.1.jar:/usr/local/Cellar/hadoop/2.7.1/libexec/share/hadoop/yarn/lib/commons-io-2.4.jar:/usr/local/Cellar/hadoop/2.7.1/libexec/share/hadoop/yarn/lib/commons-lang-2.6.jar:/usr/local/Cellar/hadoop/2.7.1/libexec/share/hadoop/yarn/lib/commons-logging-1.1.3.jar:/usr/local/Cellar/hadoop/2.7.1/libexec/share/hadoop/yarn/lib/guava-11.0.2.jar:/usr/local/Cellar/hadoop/2.7.1/libexec/share/hadoop/yarn/lib/guice-3.0.jar:/usr/local/Cellar/hadoop/2.7.1/libexec/share/hadoop/yarn/lib/guice-servlet-3.0.jar:/usr/local/Cellar/hadoop/2.7.1/libexec/share/hadoop/yarn/lib/jackson-core-asl-1.9.13.jar:/usr/local/Cellar/hadoop/2.7.1/libexec/share/hadoop/yarn/lib/jackson-jaxrs-1.9.13.jar:/usr/local/Cellar/hadoop/2.7.1/libexec/share/hadoop/yarn/lib/jackson-mapper-asl-1.9.13.jar:/usr/local/Cellar/hadoop/2.7.1/libexec/share/hadoop/yarn/lib/jackson-xc-1.9.13.jar:/usr/local/Cellar/hadoop/2.7.1/libexec/share/hadoop/yarn/lib/javax.inject-1.jar:/usr/local/Cellar/hadoop/2.7.1/libexec/share/hadoop/yarn/lib/jaxb-api-2.2.2.jar:/usr/local/Cellar/hadoop/2.7.1/libexec/share/hadoop/yarn/lib/jaxb-impl-2.2.3-1.jar:/usr/local/Cellar/hadoop/2.7.1/libexec/share/hadoop/yarn/lib/jersey-client-1.9.jar:/usr/local/Cellar/hadoop/2.7.1/libexec/share/hadoop/yarn/lib/jersey-core-1.9.jar:/usr/local/Cellar/hadoop/2.7.1/libexec/share/hadoop/yarn/lib/jersey-guice-1.9.jar:/usr/local/Cellar/hadoop/2.7.1/libexec/share/hadoop/yarn/lib/jersey-json-1.9.jar:/usr/local/Cellar/hadoop/2.7.1/libexec/share/hadoop/yarn/lib/jersey-server-1.9.jar:/usr/local/Cellar/hadoop/2.7.1/libexec/share/hadoop/yarn/lib/jettison-1.1.jar:/usr/local/Cellar/hadoop/2.7.1/libexec/share/hadoop/yarn/lib/jetty-6.1.26.jar:/usr/local/Cellar/hadoop/2.7.1/libexec/share/hadoop/yarn/lib/jetty-util-6.1.26.jar:/usr/local/Cellar/hadoop/2.7.1/libexec/share/hadoop/yarn/lib/jsr305-3.0.0.jar:/usr/local/Cellar/hadoop/2.7.1/libexec/share/hadoop/yarn/lib/leveldbjni-all-1.8.jar:/usr/local/Cellar/hadoop/2.7.1/libexec/share/hadoop/yarn/lib/log4j-1.2.17.jar:/usr/local/Cellar/hadoop/2.7.1/libexec/share/hadoop/yarn/lib/netty-3.6.2.Final.jar:/usr/local/Cellar/hadoop/2.7.1/libexec/share/hadoop/yarn/lib/protobuf-java-2.5.0.jar:/usr/local/Cellar/hadoop/2.7.1/libexec/share/hadoop/yarn/lib/servlet-api-2.5.jar:/usr/local/Cellar/hadoop/2.7.1/libexec/share/hadoop/yarn/lib/stax-api-1.0-2.jar:/usr/local/Cellar/hadoop/2.7.1/libexec/share/hadoop/yarn/lib/xz-1.0.jar:/usr/local/Cellar/hadoop/2.7.1/libexec/share/hadoop/yarn/lib/zookeeper-3.4.6-tests.jar:/usr/local/Cellar/hadoop/2.7.1/libexec/share/hadoop/yarn/lib/zookeeper-3.4.6.jar:/usr/local/Cellar/hadoop/2.7.1/libexec/share/hadoop/yarn/hadoop-yarn-api-2.7.1.jar:/usr/local/Cellar/hadoop/2.7.1/libexec/share/hadoop/yarn/hadoop-yarn-applications-distributedshell-2.7.1.jar:/usr/local/Cellar/hadoop/2.7.1/libexec/share/hadoop/yarn/hadoop-yarn-applications-unmanaged-am-launcher-2.7.1.jar:/usr/local/Cellar/hadoop/2.7.1/libexec/share/hadoop/yarn/hadoop-yarn-client-2.7.1.jar:/usr/local/Cellar/hadoop/2.7.1/libexec/share/hadoop/yarn/hadoop-yarn-common-2.7.1.jar:/usr/local/Cellar/hadoop/2.7.1/libexec/share/hadoop/yarn/hadoop-yarn-registry-2.7.1.jar:/usr/local/Cellar/hadoop/2.7.1/libexec/share/hadoop/yarn/hadoop-yarn-server-applicationhistoryservice-2.7.1.jar:/usr/local/Cellar/hadoop/2.7.1/libexec/share/hadoop/yarn/hadoop-yarn-server-common-2.7.1.jar:/usr/local/Cellar/hadoop/2.7.1/libexec/share/hadoop/yarn/hadoop-yarn-server-nodemanager-2.7.1.jar:/usr/local/Cellar/hadoop/2.7.1/libexec/share/hadoop/yarn/hadoop-yarn-server-resourcemanager-2.7.1.jar:/usr/local/Cellar/hadoop/2.7.1/libexec/share/hadoop/yarn/hadoop-yarn-server-sharedcachemanager-2.7.1.jar:/usr/local/Cellar/hadoop/2.7.1/libexec/share/hadoop/yarn/hadoop-yarn-server-tests-2.7.1.jar:/usr/local/Cellar/hadoop/2.7.1/libexec/share/hadoop/yarn/hadoop-yarn-server-web-proxy-2.7.1.jar:/usr/local/Cellar/hadoop/2.7.1/libexec/share/hadoop/mapreduce/lib/aopalliance-1.0.jar:/usr/local/Cellar/hadoop/2.7.1/libexec/share/hadoop/mapreduce/lib/asm-3.2.jar:/usr/local/Cellar/hadoop/2.7.1/libexec/share/hadoop/mapreduce/lib/avro-1.7.4.jar:/usr/local/Cellar/hadoop/2.7.1/libexec/share/hadoop/mapreduce/lib/commons-compress-1.4.1.jar:/usr/local/Cellar/hadoop/2.7.1/libexec/share/hadoop/mapreduce/lib/commons-io-2.4.jar:/usr/local/Cellar/hadoop/2.7.1/libexec/share/hadoop/mapreduce/lib/guice-3.0.jar:/usr/local/Cellar/hadoop/2.7.1/libexec/share/hadoop/mapreduce/lib/guice-servlet-3.0.jar:/usr/local/Cellar/hadoop/2.7.1/libexec/share/hadoop/mapreduce/lib/hadoop-annotations-2.7.1.jar:/usr/local/Cellar/hadoop/2.7.1/libexec/share/hadoop/mapreduce/lib/hamcrest-core-1.3.jar:/usr/local/Cellar/hadoop/2.7.1/libexec/share/hadoop/mapreduce/lib/jackson-core-asl-1.9.13.jar:/usr/local/Cellar/hadoop/2.7.1/libexec/share/hadoop/mapreduce/lib/jackson-mapper-asl-1.9.13.jar:/usr/local/Cellar/hadoop/2.7.1/libexec/share/hadoop/mapreduce/lib/javax.inject-1.jar:/usr/local/Cellar/hadoop/2.7.1/libexec/share/hadoop/mapreduce/lib/jersey-core-1.9.jar:/usr/local/Cellar/hadoop/2.7.1/libexec/share/hadoop/mapreduce/lib/jersey-guice-1.9.jar:/usr/local/Cellar/hadoop/2.7.1/libexec/share/hadoop/mapreduce/lib/jersey-server-1.9.jar:/usr/local/Cellar/hadoop/2.7.1/libexec/share/hadoop/mapreduce/lib/junit-4.11.jar:/usr/local/Cellar/hadoop/2.7.1/libexec/share/hadoop/mapreduce/lib/leveldbjni-all-1.8.jar:/usr/local/Cellar/hadoop/2.7.1/libexec/share/hadoop/mapreduce/lib/log4j-1.2.17.jar:/usr/local/Cellar/hadoop/2.7.1/libexec/share/hadoop/mapreduce/lib/netty-3.6.2.Final.jar:/usr/local/Cellar/hadoop/2.7.1/libexec/share/hadoop/mapreduce/lib/paranamer-2.3.jar:/usr/local/Cellar/hadoop/2.7.1/libexec/share/hadoop/mapreduce/lib/protobuf-java-2.5.0.jar:/usr/local/Cellar/hadoop/2.7.1/libexec/share/hadoop/mapreduce/lib/snappy-java-1.0.4.1.jar:/usr/local/Cellar/hadoop/2.7.1/libexec/share/hadoop/mapreduce/lib/xz-1.0.jar:/usr/local/Cellar/hadoop/2.7.1/libexec/share/hadoop/mapreduce/hadoop-mapreduce-client-app-2.7.1.jar:/usr/local/Cellar/hadoop/2.7.1/libexec/share/hadoop/mapreduce/hadoop-mapreduce-client-common-2.7.1.jar:/usr/local/Cellar/hadoop/2.7.1/libexec/share/hadoop/mapreduce/hadoop-mapreduce-client-core-2.7.1.jar:/usr/local/Cellar/hadoop/2.7.1/libexec/share/hadoop/mapreduce/hadoop-mapreduce-client-hs-2.7.1.jar:/usr/local/Cellar/hadoop/2.7.1/libexec/share/hadoop/mapreduce/hadoop-mapreduce-client-hs-plugins-2.7.1.jar:/usr/local/Cellar/hadoop/2.7.1/libexec/share/hadoop/mapreduce/hadoop-mapreduce-client-jobclient-2.7.1-tests.jar:/usr/local/Cellar/hadoop/2.7.1/libexec/share/hadoop/mapreduce/hadoop-mapreduce-client-jobclient-2.7.1.jar:/usr/local/Cellar/hadoop/2.7.1/libexec/share/hadoop/mapreduce/hadoop-mapreduce-client-shuffle-2.7.1.jar:/usr/local/Cellar/hadoop/2.7.1/libexec/share/hadoop/mapreduce/hadoop-mapreduce-examples-2.7.1.jar:/contrib/capacity-scheduler/*.jar:/usr/local/Cellar/hadoop/2.7.1/libexec/contrib/capacity-scheduler/*.jar:/usr/local/Cellar/hadoop/2.7.1/libexec/share/hadoop/mapreduce/hadoop-mapreduce-client-app-2.7.1.jar:/usr/local/Cellar/hadoop/2.7.1/libexec/share/hadoop/mapreduce/hadoop-mapreduce-client-common-2.7.1.jar:/usr/local/Cellar/hadoop/2.7.1/libexec/share/hadoop/mapreduce/hadoop-mapreduce-client-core-2.7.1.jar:/usr/local/Cellar/hadoop/2.7.1/libexec/share/hadoop/mapreduce/hadoop-mapreduce-client-hs-2.7.1.jar:/usr/local/Cellar/hadoop/2.7.1/libexec/share/hadoop/mapreduce/hadoop-mapreduce-client-hs-plugins-2.7.1.jar:/usr/local/Cellar/hadoop/2.7.1/libexec/share/hadoop/mapreduce/hadoop-mapreduce-client-jobclient-2.7.1-tests.jar:/usr/local/Cellar/hadoop/2.7.1/libexec/share/hadoop/mapreduce/hadoop-mapreduce-client-jobclient-2.7.1.jar:/usr/local/Cellar/hadoop/2.7.1/libexec/share/hadoop/mapreduce/hadoop-mapreduce-client-shuffle-2.7.1.jar:/usr/local/Cellar/hadoop/2.7.1/libexec/share/hadoop/mapreduce/hadoop-mapreduce-examples-2.7.1.jar:/usr/local/Cellar/hadoop/2.7.1/libexec/share/hadoop/yarn/hadoop-yarn-api-2.7.1.jar:/usr/local/Cellar/hadoop/2.7.1/libexec/share/hadoop/yarn/hadoop-yarn-applications-distributedshell-2.7.1.jar:/usr/local/Cellar/hadoop/2.7.1/libexec/share/hadoop/yarn/hadoop-yarn-applications-unmanaged-am-launcher-2.7.1.jar:/usr/local/Cellar/hadoop/2.7.1/libexec/share/hadoop/yarn/hadoop-yarn-client-2.7.1.jar:/usr/local/Cellar/hadoop/2.7.1/libexec/share/hadoop/yarn/hadoop-yarn-common-2.7.1.jar:/usr/local/Cellar/hadoop/2.7.1/libexec/share/hadoop/yarn/hadoop-yarn-registry-2.7.1.jar:/usr/local/Cellar/hadoop/2.7.1/libexec/share/hadoop/yarn/hadoop-yarn-server-applicationhistoryservice-2.7.1.jar:/usr/local/Cellar/hadoop/2.7.1/libexec/share/hadoop/yarn/hadoop-yarn-server-common-2.7.1.jar:/usr/local/Cellar/hadoop/2.7.1/libexec/share/hadoop/yarn/hadoop-yarn-server-nodemanager-2.7.1.jar:/usr/local/Cellar/hadoop/2.7.1/libexec/share/hadoop/yarn/hadoop-yarn-server-resourcemanager-2.7.1.jar:/usr/local/Cellar/hadoop/2.7.1/libexec/share/hadoop/yarn/hadoop-yarn-server-sharedcachemanager-2.7.1.jar:/usr/local/Cellar/hadoop/2.7.1/libexec/share/hadoop/yarn/hadoop-yarn-server-tests-2.7.1.jar:/usr/local/Cellar/hadoop/2.7.1/libexec/share/hadoop/yarn/hadoop-yarn-server-web-proxy-2.7.1.jar:/usr/local/Cellar/hadoop/2.7.1/libexec/share/hadoop/mapreduce/lib/aopalliance-1.0.jar:/usr/local/Cellar/hadoop/2.7.1/libexec/share/hadoop/mapreduce/lib/asm-3.2.jar:/usr/local/Cellar/hadoop/2.7.1/libexec/share/hadoop/mapreduce/lib/avro-1.7.4.jar:/usr/local/Cellar/hadoop/2.7.1/libexec/share/hadoop/mapreduce/lib/commons-compress-1.4.1.jar:/usr/local/Cellar/hadoop/2.7.1/libexec/share/hadoop/mapreduce/lib/commons-io-2.4.jar:/usr/local/Cellar/hadoop/2.7.1/libexec/share/hadoop/mapreduce/lib/guice-3.0.jar:/usr/local/Cellar/hadoop/2.7.1/libexec/share/hadoop/mapreduce/lib/guice-servlet-3.0.jar:/usr/local/Cellar/hadoop/2.7.1/libexec/share/hadoop/mapreduce/lib/hadoop-annotations-2.7.1.jar:/usr/local/Cellar/hadoop/2.7.1/libexec/share/hadoop/mapreduce/lib/hamcrest-core-1.3.jar:/usr/local/Cellar/hadoop/2.7.1/libexec/share/hadoop/mapreduce/lib/jackson-core-asl-1.9.13.jar:/usr/local/Cellar/hadoop/2.7.1/libexec/share/hadoop/mapreduce/lib/jackson-mapper-asl-1.9.13.jar:/usr/local/Cellar/hadoop/2.7.1/libexec/share/hadoop/mapreduce/lib/javax.inject-1.jar:/usr/local/Cellar/hadoop/2.7.1/libexec/share/hadoop/mapreduce/lib/jersey-core-1.9.jar:/usr/local/Cellar/hadoop/2.7.1/libexec/share/hadoop/mapreduce/lib/jersey-guice-1.9.jar:/usr/local/Cellar/hadoop/2.7.1/libexec/share/hadoop/mapreduce/lib/jersey-server-1.9.jar:/usr/local/Cellar/hadoop/2.7.1/libexec/share/hadoop/mapreduce/lib/junit-4.11.jar:/usr/local/Cellar/hadoop/2.7.1/libexec/share/hadoop/mapreduce/lib/leveldbjni-all-1.8.jar:/usr/local/Cellar/hadoop/2.7.1/libexec/share/hadoop/mapreduce/lib/log4j-1.2.17.jar:/usr/local/Cellar/hadoop/2.7.1/libexec/share/hadoop/mapreduce/lib/netty-3.6.2.Final.jar:/usr/local/Cellar/hadoop/2.7.1/libexec/share/hadoop/mapreduce/lib/paranamer-2.3.jar:/usr/local/Cellar/hadoop/2.7.1/libexec/share/hadoop/mapreduce/lib/protobuf-java-2.5.0.jar:/usr/local/Cellar/hadoop/2.7.1/libexec/share/hadoop/mapreduce/lib/snappy-java-1.0.4.1.jar:/usr/local/Cellar/hadoop/2.7.1/libexec/share/hadoop/mapreduce/lib/xz-1.0.jar:/usr/local/Cellar/hadoop/2.7.1/libexec/modules/*.jar\n",
      "STARTUP_MSG:   build = https://git-wip-us.apache.org/repos/asf/hadoop.git -r 15ecc87ccf4a0228f35af08fc56de536e6ce657a; compiled by 'jenkins' on 2015-06-29T06:04Z\n",
      "STARTUP_MSG:   java = 1.7.0_79\n",
      "************************************************************/\n"
     ]
    }
   ],
   "source": [
    "!/usr/local/Cellar/hadoop/2*/sbin/start-yarn.sh\n",
    "!/usr/local/Cellar/hadoop/2*/sbin/start-dfs.sh\n",
    "!/usr/local/Cellar/hadoop/2*/sbin/mr-jobhistory-daemon.sh --config /usr/local/Cellar/hadoop/2*/libexec/etc/hadoop/ start historyserver "
   ]
  }
 ],
 "metadata": {
  "kernelspec": {
   "display_name": "Python 2",
   "language": "python",
   "name": "python2"
  },
  "language_info": {
   "codemirror_mode": {
    "name": "ipython",
    "version": 2
   },
   "file_extension": ".py",
   "mimetype": "text/x-python",
   "name": "python",
   "nbconvert_exporter": "python",
   "pygments_lexer": "ipython2",
   "version": "2.7.9"
  }
 },
 "nbformat": 4,
 "nbformat_minor": 0
}
